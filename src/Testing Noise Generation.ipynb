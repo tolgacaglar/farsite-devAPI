{
 "cells": [
  {
   "cell_type": "code",
   "execution_count": 12,
   "id": "3cb7ab30-f2fa-4e0c-a3a7-06d7ab1e04b5",
   "metadata": {},
   "outputs": [],
   "source": [
    "from dsfunctions import forward_pass, forward_pass_nsteps, sample_windspeed, sample_winddirection, sample_geometry\n",
    "from dsfunctions import plot_matrix, plot_matrix_ensemble, align_geoms, interpolate_geom, get_observation, plot_geometry\n",
    "from dsfunctions import geom_to_vector, reproject_geom, validate_geom\n",
    "\n",
    "import farsiteutils_v2 as futils\n",
    "import datetime\n",
    "import uuid\n",
    "\n",
    "import numpy as np\n",
    "from matplotlib import pyplot as plt\n",
    "\n",
    "from shapely.geometry import Polygon, MultiPolygon\n",
    "import pandas as pd\n",
    "import geopandas as gpd\n",
    "\n",
    "from tqdm import tqdm\n",
    "import warnings\n",
    "warnings.filterwarnings('ignore')\n",
    "\n",
    "from multiprocessing import Pool\n",
    "import contextily as ctx\n",
    "\n",
    "\n",
    "####################################################\n",
    "####################################################\n",
    "def calculate_rms_state(state1, state2):\n",
    "    return ((state1 - state2)**2).mean()\n",
    "def calculate_area_diff_state(state1, state2):\n",
    "    geom1 = Polygon(zip(state1[::2], state1[1::2]))\n",
    "    geom2 = Polygon(zip(state2[::2], state2[1::2]))\n",
    "    \n",
    "    return (geom1.union(geom2) - geom1.intersection(geom2)).area\n",
    "def align_states(state_lst, vertex_count=None):\n",
    "    if vertex_count is None:\n",
    "        vertex_count = max(len(st) for st in state_lst)//2\n",
    "    x0 = state_lst[0][::2]\n",
    "    y0 = state_lst[0][1::2]\n",
    "    x1 = state_lst[1][::2]\n",
    "    y1 = state_lst[1][1::2]\n",
    "\n",
    "    geom0 = Polygon(zip(x0,y0))\n",
    "    geom1 = Polygon(zip(x1,y1))\n",
    "\n",
    "    geom0, geom1 = align_geoms([geom0, geom1], vertex_count)\n",
    "    x,y = geom0.exterior.coords.xy\n",
    "    x0 = x.tolist()[:-1]\n",
    "    y0 = y.tolist()[:-1]\n",
    "    state0 = xy_to_state(x0, y0)\n",
    "    \n",
    "    x,y = geom1.exterior.coords.xy\n",
    "    x1 = x.tolist()[:-1]\n",
    "    y1 = y.tolist()[:-1]\n",
    "    state1 = xy_to_state(x1, y1)\n",
    "\n",
    "    return [state0, state1]\n",
    "\n",
    "\n",
    "\n",
    "def xy_to_state(x, y):\n",
    "    ret = []\n",
    "    for i in range(len(x)):\n",
    "        ret.append(x[i])\n",
    "        ret.append(y[i])\n",
    "\n",
    "    return np.array(ret).reshape((2*len(x),1))\n",
    "\n",
    "def state_to_xy(state):\n",
    "    return state[::2], state[1::2]\n",
    "\n",
    "def sample_xy(x,y, rng):\n",
    "    xs = rng.normal(x, scale=100)\n",
    "    ys = rng.normal(y, scale=100)\n",
    "\n",
    "    return xs,ys\n",
    "\n",
    "\n",
    "def calculate(initialidx, \n",
    "              observeidx,\n",
    "              windspeed, winddirection, \n",
    "              usr: futils.User):\n",
    "\n",
    "    lcpidx = usr.db.dfLandscape.index[0]\n",
    "    barrieridx = usr.db.dfBarrier.index[0]\n",
    "    \n",
    "    # Setup the input data\n",
    "    inputData = {'description': 'Maria_2019',\n",
    "                 'igniteidx'  : initialidx,\n",
    "                 'compareidx' : observeidx,\n",
    "                 'lcpidx'     : lcpidx,\n",
    "                 'barrieridx' : barrieridx,\n",
    "\n",
    "                 'windspeed': windspeed, 'winddirection': winddirection,\n",
    "                 'relhumid': 90, 'temperature': 20}\n",
    "\n",
    "    mainapi = usr.calculatePerimeters(inputData)\n",
    "    mainapi.run_farsite()\n",
    "\n",
    "def forward_pass_farsite(poly, params):\n",
    "    '''\n",
    "        params: take values: 'windspeed', 'winddirection' ,'dt' (dt is a datetime.timedelta object)\n",
    "                              'description' (Maria2019, Bridge2021, River2021)\n",
    "    '''\n",
    "    # Parameters to run the simulation\n",
    "    windspeed = params['windspeed']\n",
    "    winddirection = params['winddirection']\n",
    "    dt = params['dt']\n",
    "    description = params['description']\n",
    "    \n",
    "    # Create handles for simulation\n",
    "    fp = futils.FilePaths('/home/jovyan/data/')\n",
    "    usr = futils.User(fp, description)\n",
    "\n",
    "    initialidx = uuid.uuid4().hex\n",
    "    fpath = f'/home/jovyan/farsite-devAPI/inputs/Reference/{description}_{initialidx}.shp'\n",
    "    # Creating the shp file for simulation\n",
    "    gpd.GeoDataFrame({'FID': [0], 'geometry':poly}, crs='EPSG:5070').to_file(fpath)\n",
    "    \n",
    "    usr.db.dfObservation.loc[initialidx, ['filetype', 'filepath', 'datetime', 'description']] = ['Observation', \n",
    "                                                                                               fpath, datetime.datetime.now(),\n",
    "                                                                                               description]\n",
    "    \n",
    "    observeidx = uuid.uuid4().hex\n",
    "    # Add observationidx only to calculate the dt in the backend\n",
    "    usr.db.dfObservation.loc[observeidx, 'datetime'] = usr.db.dfObservation.loc[initialidx, 'datetime'] + dt\n",
    "    \n",
    "    # Run simulation for dt from initialidx\n",
    "    calculate(initialidx, observeidx, windspeed, winddirection, usr)\n",
    "\n",
    "    # add simulation as the next initial point\n",
    "    try:\n",
    "        dfsim = usr.db.dfsimulation[(usr.db.dfsimulation['igniteidx'] == initialidx) & \n",
    "                                (usr.db.dfsimulation['compareidx'] == observeidx)]\n",
    "    except KeyError as e:\n",
    "        print(e)\n",
    "        print(usr.db.dfsimulation)\n",
    "        return None\n",
    "    \n",
    "    if len(dfsim) < 1:\n",
    "        return None\n",
    "    \n",
    "    # assert(len(dfsim) == 1) , f'Length of dfsim = {len(dfsim)}'\n",
    "    if len(dfsim) != 1:\n",
    "        raise ValueError(f'Length of dfsim = {len(dfsim)}')\n",
    "\n",
    "    usr.db.dfObservation.loc[dfsim.index[0], ['filetype', 'description']] = ['Observation', description]\n",
    "    \n",
    "    simpath = f'/home/jovyan/farsite-devAPI/inputs/Reference/{description}_{observeidx}.shp'\n",
    "    dfgeom = gpd.read_file(dfsim['filepath'].iloc[0])['geometry']\n",
    "    assert(len(dfgeom) == 1), f'dfgeom has size = {len(dfgeom)}'\n",
    "    dfgeom = dfgeom[0]\n",
    "\n",
    "    # Remove the generated files\n",
    "    !rm /home/jovyan/farsite-devAPI/inputs/Reference/*\n",
    "    \n",
    "    return Polygon(dfgeom.coords)"
   ]
  },
  {
   "cell_type": "code",
   "execution_count": 13,
   "id": "544b9ffe-145b-4584-bd99-d95f34da1224",
   "metadata": {},
   "outputs": [
    {
     "data": {
      "text/plain": [
       "(array([  34.,  322., 1454., 3863., 5648., 4633., 2173.,  586.,   78.,\n",
       "           9.]),\n",
       " array([-361.15471277, -283.78779975, -206.42088673, -129.0539737 ,\n",
       "         -51.68706068,   25.67985234,  103.04676536,  180.41367838,\n",
       "         257.7805914 ,  335.14750442,  412.51441744]),\n",
       " <BarContainer object of 10 artists>)"
      ]
     },
     "execution_count": 13,
     "metadata": {},
     "output_type": "execute_result"
    },
    {
     "data": {
      "image/png": "[encoded data removed]",
      "text/plain": [
       "<Figure size 640x480 with 1 Axes>"
      ]
     },
     "metadata": {},
     "output_type": "display_data"
    }
   ],
   "source": [
    "rng = np.random.Generator(np.random.PCG64(1234))\n",
    "\n",
    "# Testing v_k\n",
    "\n",
    "initial_state = geom_to_vector(get_observation('Maria2019', 0)[0])\n",
    "\n",
    "nsamples = 100\n",
    "state_ensemble = np.zeros((len(initial_state), nsamples))\n",
    "for i in range(nsamples):\n",
    "    state_ensemble[:,i:(i+1)] = xy_to_state(*sample_xy(initial_state[::2], initial_state[1::2], rng))\n",
    "\n",
    "plt.hist((state_ensemble - state_ensemble.mean(axis=1, keepdims=True).repeat(nsamples, axis=1)).flatten())"
   ]
  },
  {
   "cell_type": "code",
   "execution_count": 14,
   "id": "dc9cd995-d174-4abb-8547-fab19c34eba7",
   "metadata": {},
   "outputs": [
    {
     "name": "stderr",
     "output_type": "stream",
     "text": [
      "100%|██████████| 100/100 [00:32<00:00,  3.04it/s]\n"
     ]
    }
   ],
   "source": [
    "# Testing w_k\n",
    "winddirection = 90\n",
    "wdsigma = 15\n",
    "windspeed = 10\n",
    "wssigma = 5\n",
    "dt = datetime.timedelta(minutes=15)\n",
    "\n",
    "sampled_wslst = []\n",
    "sampled_wdlst = []\n",
    "for s in range(nsamples):\n",
    "    sampled_wslst.append(sample_windspeed(windspeed, wssigma, rng))\n",
    "    sampled_wdlst.append(sample_winddirection(winddirection, wdsigma, rng))\n",
    "\n",
    "zero_samples = []\n",
    "xkhat_ensemble = np.zeros_like(state_ensemble)\n",
    "zkphat_ensemble = np.zeros_like(state_ensemble)\n",
    "for s in tqdm(range(nsamples)):\n",
    "\n",
    "    xkhat_ensemble[:,s:(s+1)] = initial_state\n",
    "\n",
    "    ws = sampled_wslst[s]\n",
    "    wd = sampled_wdlst[s]\n",
    "\n",
    "########################################\n",
    "    forward_geom = forward_pass_farsite(Polygon(zip(xkhat_ensemble[:,s:(s+1)][::2], xkhat_ensemble[:,s:(s+1)][1::2])),\n",
    "                                        {'windspeed': int(ws),\n",
    "                                         'winddirection': int(wd),\n",
    "                                         'dt': dt,\n",
    "                                         'description': 'Maria2019'})\n",
    "    if forward_geom is None:\n",
    "        zero_samples.append(s)\n",
    "        continue\n",
    "        \n",
    "    forward_state = geom_to_vector(forward_geom)\n",
    "    aligned_states = align_states([initial_state, forward_state], vertex_count = len(initial_state)//2)\n",
    "    \n",
    "    zkphat_ensemble[:,s:(s+1)] = aligned_states[1]\n",
    "########################################\n",
    "    \n",
    "\n",
    "# Calculate the mean of the non-zero ensembles\n",
    "zkphat_mean = zkphat_ensemble.sum(axis=1, keepdims=True)/(nsamples - len(zero_samples))\n",
    "\n",
    "# Fill in the zero samples with the mean\n",
    "for s in zero_samples:\n",
    "    zkphat_ensemble[:,s:(s+1)] = zkphat_mean\n",
    "\n",
    "filled_counts = len(zero_samples)"
   ]
  },
  {
   "cell_type": "code",
   "execution_count": 15,
   "id": "436d06c6-6382-49ad-8233-c386c7fd7b5d",
   "metadata": {},
   "outputs": [
    {
     "data": {
      "text/plain": [
       "(array([  22.,   41.,   66.,  300., 1312., 7425., 7571., 1576.,  368.,\n",
       "         119.]),\n",
       " array([-612.36136375, -510.76118935, -409.16101495, -307.56084054,\n",
       "        -205.96066614, -104.36049174,   -2.76031733,   98.83985707,\n",
       "         200.44003148,  302.04020588,  403.64038028]),\n",
       " <BarContainer object of 10 artists>)"
      ]
     },
     "execution_count": 15,
     "metadata": {},
     "output_type": "execute_result"
    },
    {
     "data": {
      "image/png": "[encoded data removed]",
      "text/plain": [
       "<Figure size 640x480 with 1 Axes>"
      ]
     },
     "metadata": {},
     "output_type": "display_data"
    }
   ],
   "source": [
    "plt.hist((zkphat_ensemble - zkphat_ensemble.mean(axis=1, keepdims=True).repeat(nsamples, axis=1)).flatten())"
   ]
  },
  {
   "cell_type": "code",
   "execution_count": 20,
   "id": "70abb104-f102-4bb9-8ef2-ab7d87b8873b",
   "metadata": {},
   "outputs": [
    {
     "data": {
      "text/plain": [
       "array([ 71.14876701, -38.10443865,  -8.90467177, ..., -45.80413963,\n",
       "         6.57832804, -24.09567057])"
      ]
     },
     "execution_count": 20,
     "metadata": {},
     "output_type": "execute_result"
    }
   ],
   "source": []
  }
 ],
 "metadata": {
  "kernelspec": {
   "display_name": "Python 3 (ipykernel)",
   "language": "python",
   "name": "python3"
  },
  "language_info": {
   "codemirror_mode": {
    "name": "ipython",
    "version": 3
   },
   "file_extension": ".py",
   "mimetype": "text/x-python",
   "name": "python",
   "nbconvert_exporter": "python",
   "pygments_lexer": "ipython3",
   "version": "3.11.9"
  }
 },
 "nbformat": 4,
 "nbformat_minor": 5
}
