{
 "cells": [
  {
   "cell_type": "markdown",
   "id": "baa24e49-a9c6-46b2-98de-44b1b4a8887c",
   "metadata": {},
   "source": [
    "# Replicating the Gillijns et al's EnKF example"
   ]
  },
  {
   "cell_type": "markdown",
   "id": "4b5d727c-9eca-4f61-a0ad-dd63e650d5af",
   "metadata": {},
   "source": [
    "## Forward simulation with central differences\n",
    "\n",
    "$$\\frac{\\partial T(x,t)}{\\partial t} = \\alpha \\frac{\\partial^2 T(x,t)}{\\partial x^2} + u(x,t)$$\n",
    "with Boundaries\n",
    "$$T(0,t)=T(L,t)=T(x,0)=300K$$"
   ]
  },
  {
   "cell_type": "code",
   "execution_count": 1,
   "id": "8db1e1ec-8279-4e1b-a4e4-2fdcb001a068",
   "metadata": {
    "tags": []
   },
   "outputs": [],
   "source": [
    "import numpy as np\n",
    "import tqdm\n",
    "\n",
    "from matplotlib import pyplot as plt"
   ]
  },
  {
   "cell_type": "code",
   "execution_count": 2,
   "id": "1936cb09-1814-4375-80d5-36d4b4e3dd71",
   "metadata": {
    "tags": []
   },
   "outputs": [],
   "source": [
    "def forward_pass(params, x):\n",
    "    \n",
    "    sim_params = default_values()\n",
    "    L = sim_params['L'] \n",
    "    dt = sim_params['dt']\n",
    "    dx = sim_params['dx']\n",
    "    \n",
    "    alpha = params['alpha']\n",
    "    beta = alpha*dt/dx/dx\n",
    "    \n",
    "    if beta > 0.5:\n",
    "        raise ValueError(f'beta = {beta} gives unstable results for forward pass')\n",
    "    \n",
    "    T_0 = params['T_0']\n",
    "    \n",
    "    s1_pos = params['s1_pos']\n",
    "    s2_pos = params['s2_pos']\n",
    "\n",
    "    heat = params['heat']\n",
    "    active = params['active']\n",
    "    def f(t):\n",
    "        if active:\n",
    "            return heat\n",
    "        \n",
    "        return 0\n",
    "\n",
    "    nsteps = len(x)\n",
    "    \n",
    "    # Generate matrix A for forward pass\n",
    "    A = np.zeros((nsteps, nsteps))\n",
    "    A[0,0] = A[-1,-1] = 1-2*beta\n",
    "    A[0,1] = A[-1,-2] = beta\n",
    "    for i in range(nsteps-2):\n",
    "        A[i+1,i] = A[i+1,i+2] = beta\n",
    "        A[i+1,i+1] = 1-2*beta\n",
    "\n",
    "    # Generate source\n",
    "    u = np.zeros(nsteps)\n",
    "    u[int(s1_pos*nsteps)] = u[int(s2_pos*nsteps)] = dt\n",
    "\n",
    "    # Boundary values\n",
    "    left_boundary = np.zeros_like(u)\n",
    "    left_boundary[0] = T_0*beta\n",
    "\n",
    "    right_boundary = np.zeros_like(u)\n",
    "    right_boundary[-1] = T_0*beta\n",
    "    \n",
    "    # Forward pass and return    \n",
    "    return np.matmul(A, x) + u*f(t) + left_boundary + right_boundary\n",
    "\n",
    "def default_values():\n",
    "    return {'dx': 1, 'L': 100,\n",
    "            'dt': 1, 'T': 1000}"
   ]
  },
  {
   "cell_type": "code",
   "execution_count": 3,
   "id": "5d850430-8798-4604-841a-41dfe69fb590",
   "metadata": {
    "tags": []
   },
   "outputs": [
    {
     "name": "stderr",
     "output_type": "stream",
     "text": [
      "999it [00:00, 2453.29it/s]"
     ]
    },
    {
     "name": "stdout",
     "output_type": "stream",
     "text": [
      "CPU times: user 343 ms, sys: 1.52 s, total: 1.86 s\n",
      "Wall time: 412 ms\n"
     ]
    },
    {
     "name": "stderr",
     "output_type": "stream",
     "text": [
      "\n"
     ]
    }
   ],
   "source": [
    "%%time\n",
    "\n",
    "np.random.seed(1234)\n",
    "\n",
    "params = {'alpha' : 0.5,\n",
    "          'T_0': 300, \n",
    "          's1_pos': 1/3,\n",
    "          's2_pos': 2/3,\n",
    "          'heat': 25,\n",
    "          'active': True}\n",
    "\n",
    "sim_params = default_values()\n",
    "L = sim_params['L'] \n",
    "dt = sim_params['dt']\n",
    "dx = sim_params['dx']\n",
    "T = sim_params['T']\n",
    "\n",
    "tar = np.arange(0,T, dt)\n",
    "xar = np.arange(0,L, dx)\n",
    "    \n",
    "Xt = np.zeros((len(xar), len(tar)))\n",
    "Xt[:,0] = 277\n",
    "\n",
    "active_ar = np.random.uniform(0,1,len(tar)) > 0.5\n",
    "multiply_ar = np.random.uniform(0,1,len(tar)) > 0.5\n",
    "for tix, t in tqdm.tqdm(enumerate(tar[1:])):\n",
    "    params['active'] = active_ar[tix]\n",
    "    Xt[:,tix+1] = forward_pass(params, Xt[:,tix])"
   ]
  },
  {
   "cell_type": "code",
   "execution_count": 4,
   "id": "e38bc129-b604-4894-87f2-4d7168fb93dd",
   "metadata": {
    "tags": []
   },
   "outputs": [
    {
     "data": {
      "text/plain": [
       "[<matplotlib.lines.Line2D at 0x7ff401fd1f10>]"
      ]
     },
     "execution_count": 4,
     "metadata": {},
     "output_type": "execute_result"
    },
    {
     "data": {
      "image/png": "[encoded data removed]",
      "text/plain": [
       "<Figure size 800x400 with 1 Axes>"
      ]
     },
     "metadata": {},
     "output_type": "display_data"
    }
   ],
   "source": [
    "fig, ax = plt.subplots(1,1, figsize=(4,2), dpi=200)\n",
    "\n",
    "window_size = 5\n",
    "yar = np.convolve(Xt[60,:], np.array([1/window_size]*window_size), mode='valid')\n",
    "ax.plot(tar[(window_size//2):-(window_size//2)], yar)\n",
    "\n",
    "# ax.plot(tar, Xt[33,:])\n",
    "\n",
    "# ax.set_\n",
    "# ax.set_xlim(400,450)\n",
    "# ax.plot(xar, Xt[:,10])"
   ]
  },
  {
   "cell_type": "code",
   "execution_count": null,
   "id": "20da0a9a-1b40-48ab-80a4-fd09a048e90c",
   "metadata": {
    "tags": []
   },
   "outputs": [],
   "source": [
    "# vary heat input at two locations randomly\n",
    "\n",
    "sim_params = default_values()\n",
    "L = sim_params['L'] \n",
    "dt = sim_params['dt']\n",
    "dx = sim_params['dx']\n",
    "T = sim_params['T']\n",
    "\n",
    "tar = np.arange(0,T, dt)\n",
    "xar = np.arange(0,L, dx)\n",
    "\n",
    "s1_posar = np.random.normal(1/3, 0.06, size=len(tar))\n",
    "s2_posar = np.random.normal(2/3, 0.06, size=len(tar))\n",
    "heat_ar = abs(np.random.normal(25, 10, size=len(tar)))\n",
    "\n",
    "Xt_sim = np.zeros((len(xar), len(tar)))\n",
    "Xt_sim[:,0] = 277\n",
    "\n",
    "sensor_ix = [9, 19, 29, 39, 49, 59, 69, 79, 89]\n",
    "Y = np.zeros((len(sensor_ix), len(tar)))\n",
    "Y[:,0] = np.random.normal(Xt_sim[sensor_ix, 0], 5)\n",
    "\n",
    "for tix, t in tqdm.tqdm(enumerate(tar[1:])):\n",
    "    params = {'alpha': 0.5,\n",
    "              'T_0': 300,\n",
    "              's1_pos': 1/3,\n",
    "              's2_pos': 2/3,\n",
    "              'heat': heat_ar[tix]}\n",
    "    \n",
    "    Xt_sim[:,tix+1] = forward_pass(params, Xt_sim[:,tix])\n",
    "    Y[:,tix+1] = np.random.normal(Xt[sensor_ix, tix+1], 5)"
   ]
  },
  {
   "cell_type": "code",
   "execution_count": null,
   "id": "0b0cabc1-e8f4-4ee9-a689-2edc29499c8d",
   "metadata": {
    "tags": []
   },
   "outputs": [],
   "source": [
    "fig, ax = plt.subplots(1,1, figsize=(4,2), dpi=200)\n",
    "\n",
    "ax.plot(tar, Xt_sim[80,:])\n",
    "# ax.set_xlim(0,10)\n",
    "# ax.plot(xar, Xt[:,10])"
   ]
  },
  {
   "cell_type": "code",
   "execution_count": null,
   "id": "d9edc576-0a9e-4af0-85fc-ea5273d058fb",
   "metadata": {
    "tags": []
   },
   "outputs": [],
   "source": [
    "six = 5\n",
    "fig, ax = plt.subplots(1,1 , figsize=(4,2), dpi=200)\n",
    "\n",
    "# ax.plot(tar, Y[six,:], label='observation')\n",
    "ax.plot(tar, Xt_sim[sensor_ix[six], :], label='simulation', marker='o', ls='--', ms=0.1)\n",
    "# ax.plot(tar, Xt[sensor_ix[six], :], label='groundtruth', color='black')\n",
    "ax.legend()\n",
    "ax.set_xlim(400,550)"
   ]
  },
  {
   "cell_type": "code",
   "execution_count": null,
   "id": "24c313d4-b6d6-4bcb-b161-68c0de1cac4e",
   "metadata": {
    "tags": []
   },
   "outputs": [],
   "source": [
    "# vary s1_pos and s2_pos randomly\n",
    "\n",
    "sim_params = default_values()\n",
    "L = sim_params['L'] \n",
    "dt = sim_params['dt']\n",
    "dx = sim_params['dx']\n",
    "T = sim_params['T']\n",
    "\n",
    "tar = np.arange(0,T, dt)\n",
    "xar = np.arange(0,L, dx)\n",
    "\n",
    "s1_posar = np.random.normal(1/3, 0.06, size=len(tar))\n",
    "s2_posar = np.random.normal(2/3, 0.06, size=len(tar))\n",
    "\n",
    "\n",
    "Xt_sim = np.zeros((len(xar), len(tar)))\n",
    "Xt_sim[:,0] = 277\n",
    "\n",
    "sensor_ix = [9, 19, 29, 39, 49, 59, 69, 79, 89]\n",
    "Y = np.zeros((len(sensor_ix), len(tar)))\n",
    "Y[:,0] = np.random.normal(Xt_sim[sensor_ix, 0], 5)\n",
    "\n",
    "for tix, t in tqdm.tqdm(enumerate(tar[1:])):\n",
    "    params = {'alpha': 0.5,\n",
    "              'T_0': 300,\n",
    "              's1_pos': s1_posar[tix+1],\n",
    "              's2_pos': s2_posar[tix+1]}\n",
    "    \n",
    "    Xt_sim[:,tix+1] = forward_pass(params, Xt_sim[:,tix])\n",
    "    Y[:,tix+1] = np.random.normal(Xt[sensor_ix, tix+1], 5)"
   ]
  },
  {
   "cell_type": "code",
   "execution_count": null,
   "id": "4658f807-f2bd-40c7-bc03-82183258801d",
   "metadata": {
    "tags": []
   },
   "outputs": [],
   "source": [
    "Y.shape"
   ]
  },
  {
   "cell_type": "code",
   "execution_count": null,
   "id": "fc5eeb7b-75eb-45b7-aa0a-8c624cbbfc1b",
   "metadata": {
    "tags": []
   },
   "outputs": [],
   "source": [
    "six = 2\n",
    "fig, ax = plt.subplots(1,1 , figsize=(4,2), dpi=200)\n",
    "\n",
    "ax.plot(tar, Y[six,:], label='observation')\n",
    "ax.plot(tar, Xt_sim[sensor_ix[six], :], label='simulation')\n",
    "# ax.plot(tar, Xt[sensor_ix[six], :], label='groundtruth', color='black')\n",
    "ax.legend()"
   ]
  },
  {
   "cell_type": "code",
   "execution_count": null,
   "id": "ca81659d-1814-4e2e-9bd3-b61cfc1e7248",
   "metadata": {
    "tags": []
   },
   "outputs": [],
   "source": [
    "def update_EnKF(Xt, Y):\n",
    "    nsamples = Y.shape[1]\n",
    "\n",
    "    xt = Xt.mean(axis=1, keepdims=True)\n",
    "    y = Y.mean(axis=1, keepdims=True)\n",
    "\n",
    "    Ex = Xt - xt.repeat(nsamples, axis=1)\n",
    "    Ey = Y - y.repeat(nsamples, axis=1)\n",
    "\n",
    "    Py = 1/(nsamples)*np.matmul(Ey, Ey.T)\n",
    "    Pxy = 1/(nsamples)*np.matmul(Ex, Ey.T)\n",
    "\n",
    "    # max_Py = abs(Py).max()\n",
    "    # max_Pxy = abs(Pxy).max()\n",
    "    # Py /= max_Py\n",
    "    # Pxy /= max_Pxy\n",
    "\n",
    "    Py_inv = np.linalg.pinv(Py, hermitian=True)\n",
    "\n",
    "    assert(np.allclose(np.matmul(Py_inv, Py), np.eye(Y.shape[0]))), 'Inverse calculation is incorrect'\n",
    "\n",
    "    # K = np.matmul(Pxy, Py_inv)*(max_Pxy/max_Py)\n",
    "    K = np.matmul(Pxy, Py_inv)\n",
    "\n",
    "    # Note that Xt has additional +2 in it\n",
    "    # Remove that with the matrix C\n",
    "    C = np.zeros((Y.shape[0], Xt.shape[0]))\n",
    "    sensor_ix = [9, 19, 29, 39, 49, 59, 69, 79, 89]\n",
    "    \n",
    "    #### Update the state ensemble\n",
    "    # X = Xt + np.matmul(K, (Y - np.matmul(C, Xt)))\n",
    "    X = Xt + np.matmul(K, (Y - Xt[sensor_ix,:]))\n",
    "\n",
    "    ### TODO ####\n",
    "    # Fix invalid geometries\n",
    "\n",
    "    # X = validate_geoms_matrix(X, aligned_geom)\n",
    "\n",
    "    return X"
   ]
  },
  {
   "cell_type": "code",
   "execution_count": null,
   "id": "b339dfb1-d0a6-4e50-9b7f-60d630e57e27",
   "metadata": {
    "tags": []
   },
   "outputs": [],
   "source": [
    "# Run 10 ensemble members\n",
    "nmembers = 20\n",
    "# vary s1_pos and s2_pos randomly\n",
    "\n",
    "sim_params = default_values()\n",
    "L = sim_params['L'] \n",
    "dt = sim_params['dt']\n",
    "dx = sim_params['dx']\n",
    "T = sim_params['T']\n",
    "\n",
    "tar = np.arange(0,T, dt)\n",
    "xar = np.arange(0,L, dx)\n",
    "\n",
    "X = np.zeros((len(xar), len(tar)))\n",
    "X[:,0] = 277\n",
    "\n",
    "Xt_all = []\n",
    "Y_all = []\n",
    "X_all = [X[:,0]]\n",
    "\n",
    "sensor_ix = [9, 19, 29, 39, 49, 59, 69, 79, 89]\n",
    "for tix, t in tqdm.tqdm(enumerate(tar[1:])):\n",
    "    xt = X[:,tix]\n",
    "        \n",
    "    Xt_member = np.zeros((len(xar), nmembers))\n",
    "    Y_member = np.zeros((len(sensor_ix), nmembers))\n",
    "    \n",
    "    s1ar = np.random.normal(1/3, 0.06, size=nmembers)\n",
    "    s2ar = np.random.normal(2/3, 0.06, size=nmembers)\n",
    "\n",
    "    for mix in range(nmembers):\n",
    "        params = {'alpha': 0.5,\n",
    "              'T_0': 300,\n",
    "              's1_pos': s1ar[mix],\n",
    "              's2_pos': s2ar[mix]}\n",
    "        \n",
    "        Xt_member[:,mix] = forward_pass(params, xt)\n",
    "        Y_member[:, mix] = np.random.normal(Xt[sensor_ix, tix], 5)\n",
    "        \n",
    "        \n",
    "    X_all.append(update_EnKF(Xt_member, Y_member))\n",
    "    X[:,tix+1] = X_all[-1].mean(axis=1)\n",
    "    \n",
    "    Xt_all.append(Xt_member)\n",
    "    Y_all.append(Y_member)\n",
    "    "
   ]
  },
  {
   "cell_type": "code",
   "execution_count": null,
   "id": "d37d0e8c-19db-4406-8a7b-0a9ad002264f",
   "metadata": {
    "tags": []
   },
   "outputs": [],
   "source": [
    "np.random.normal(Xt[sensor_ix, tix], 5)"
   ]
  },
  {
   "cell_type": "code",
   "execution_count": null,
   "id": "41231429-85f5-4087-ae01-0eaf0e7505c5",
   "metadata": {
    "tags": []
   },
   "outputs": [],
   "source": [
    "Y_all = np.array(Y_all)\n",
    "Xt_all = np.array(Xt_all)"
   ]
  },
  {
   "cell_type": "code",
   "execution_count": null,
   "id": "c59a971f-69c9-4115-9584-365a48592a63",
   "metadata": {
    "tags": []
   },
   "outputs": [],
   "source": [
    "fig, ax = plt.subplots(1,1, figsize=(4,2), dpi=200)\n",
    "ax.plot(np.mean((X[sensor_ix] - Xt[sensor_ix])**2, axis=0))\n",
    "ax.plot(np.mean((Xt_sim[sensor_ix] - Xt[sensor_ix])**2, axis=0))"
   ]
  },
  {
   "cell_type": "code",
   "execution_count": null,
   "id": "42025792-02d5-49a1-bd3e-73e218fb5210",
   "metadata": {
    "tags": []
   },
   "outputs": [],
   "source": [
    "Y_all.mean(axis=2).shape"
   ]
  },
  {
   "cell_type": "code",
   "execution_count": null,
   "id": "bb1199bb-7374-470d-8b00-6c242d7f127b",
   "metadata": {
    "tags": []
   },
   "outputs": [],
   "source": [
    "six = 2\n",
    "fig, ax = plt.subplots(1,1 , figsize=(4,4), dpi=200)\n",
    "\n",
    "# for mix in range(nmembers):\n",
    "ax.plot(Y_all.mean(axis=2)[::5,six], color='tab:blue', label='observation', lw=1, )\n",
    "ax.plot(Xt_all.mean(axis=2)[::5,sensor_ix[six]], color='tab:orange', label='simulation', lw=1, )\n",
    "# ax.plot(tar[1:], Xt_all[:, sensor_ix[six], mix], color='tab:orange', label='simulation', lw=0.2)\n",
    "# ax.plot(tar, X[sensor_ix[six], :], 'k--', label='update', lw=1)\n",
    "# ax.plot(tar, Xt[sensor_ix[six], :], 'r--', label='ground truth')\n",
    "\n",
    "# ax.set_ylim(250,350)\n",
    "ax.legend()"
   ]
  },
  {
   "cell_type": "code",
   "execution_count": null,
   "id": "cb9102e3-3ff1-4b53-a10a-856e8e90ea71",
   "metadata": {
    "tags": []
   },
   "outputs": [],
   "source": [
    "Y_all.std(axis=2)\n"
   ]
  },
  {
   "cell_type": "code",
   "execution_count": null,
   "id": "81c0022b-5bae-466b-86c0-b3cdc9d38463",
   "metadata": {
    "tags": []
   },
   "outputs": [],
   "source": [
    "Xt_all.shape"
   ]
  },
  {
   "cell_type": "code",
   "execution_count": null,
   "id": "46664e03-7eeb-405c-8590-7414e4f3d41b",
   "metadata": {
    "tags": []
   },
   "outputs": [],
   "source": [
    "six = 0\n",
    "mix=2\n",
    "fig, ax = plt.subplots(1,1 , figsize=(4,2), dpi=200)\n",
    "\n",
    "ax.plot(tar[1:], Y_all[:,six,mix], color='tab:blue', label='observation')\n",
    "ax.plot(tar[1:], Xt_all[:, sensor_ix[six], mix], color='tab:orange', label='simulation')\n",
    "# ax.plot(tar, X[ sensor_ix[six], :], 'k--', label='update')\n",
    "# ax.plot(tar, Xt[sensor_ix[six], :], 'r--', label='ground truth')\n",
    "\n",
    "# ax.set_ylim(250,350)\n",
    "ax.legend()"
   ]
  },
  {
   "cell_type": "code",
   "execution_count": null,
   "id": "3c95ccf3-8365-4524-b3ab-b4d272724598",
   "metadata": {
    "tags": []
   },
   "outputs": [],
   "source": [
    "tix = 50\n",
    "\n",
    "fig, ax = plt.subplots(1,1, figsize=(4,2), dpi=200)\n",
    "ax.plot(Xt[:,tix], 'r-')\n",
    "ax.plot(X[:,tix], 'k-')\n",
    "ax.plot(sensor_ix, Y[:,tix], 'b--')"
   ]
  },
  {
   "cell_type": "code",
   "execution_count": null,
   "id": "353b16bf-36f8-4a8b-b067-40c302ddc102",
   "metadata": {
    "tags": []
   },
   "outputs": [],
   "source": [
    "X[sensor_ix,:10].shape"
   ]
  },
  {
   "cell_type": "code",
   "execution_count": null,
   "id": "dd72150d-6bca-4ffe-a83c-14da0e59e0a9",
   "metadata": {
    "tags": []
   },
   "outputs": [],
   "source": [
    "xt = Xt[0,:]\n",
    "xtsim = Xt_sim[0,:]\n",
    "\n",
    "mse = np.sum((Xt_sim[sensor_ix]-Xt[sensor_ix])**2, axis=0)\n",
    "plt.plot(tar[:100], mse[:100])"
   ]
  },
  {
   "cell_type": "code",
   "execution_count": null,
   "id": "4b821e4c-bcab-4ffc-869c-26d8525aa9a5",
   "metadata": {
    "tags": []
   },
   "outputs": [],
   "source": [
    "(Xt_sim[sensor_ix]-Xt[sensor_ix])**2"
   ]
  },
  {
   "cell_type": "code",
   "execution_count": null,
   "id": "a4939636-22d9-495b-bd30-63e3d614cdb2",
   "metadata": {
    "tags": []
   },
   "outputs": [],
   "source": [
    "fig, ax = plt.subplots(1,1, figsize=(4,2), dpi=200)\n",
    "\n",
    "ix = 19\n",
    "ax.plot(tar, Xt[ix,:])\n",
    "ax.plot(tar, Xt_sim[ix,:],'r-')\n",
    "ax.plot(tar, X[ix,:],'k--')\n",
    "# ax.set_ylim(0,400)"
   ]
  },
  {
   "cell_type": "code",
   "execution_count": null,
   "id": "2084aac9-7935-4451-900a-a3c6f22bc6db",
   "metadata": {},
   "outputs": [],
   "source": []
  }
 ],
 "metadata": {
  "kernelspec": {
   "display_name": "Python 3 (ipykernel)",
   "language": "python",
   "name": "python3"
  },
  "language_info": {
   "codemirror_mode": {
    "name": "ipython",
    "version": 3
   },
   "file_extension": ".py",
   "mimetype": "text/x-python",
   "name": "python",
   "nbconvert_exporter": "python",
   "pygments_lexer": "ipython3",
   "version": "3.11.5"
  }
 },
 "nbformat": 4,
 "nbformat_minor": 5
}
