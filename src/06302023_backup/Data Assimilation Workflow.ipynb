{
 "cells": [
  {
   "cell_type": "markdown",
   "id": "203c95f2-955c-4dc5-b637-f81ddbb3e1d6",
   "metadata": {},
   "source": [
    "## Data Assimilation Workflow\n",
    "\n",
    "1. Get ignition, ignite_timestamp\n",
    "2. Get observation, observe_timestamp\n",
    "3. Choose weather station and obtain windspeed/winddirection\n",
    "4. Get model: Use ignition and wind at ignition timestamp to run a simulation.\n",
    "5. Get nextobservation, nextobserve_timestamp\n",
    "6. Get modifiedignition: Feed ignition, observation, weather, model and nextobservation into Kalman Filter\n",
    "7. Get nextmodel: Use modifiedmodel as the next ignition"
   ]
  },
  {
   "cell_type": "code",
   "execution_count": 1,
   "id": "90a6448e-8fa2-47b1-94b7-be42f131dc68",
   "metadata": {},
   "outputs": [],
   "source": [
    "from shapely.geometry import MultiPolygon, Polygon\n",
    "\n",
    "import pandas as pd\n",
    "import geopandas as gpd\n",
    "import numpy as np\n",
    "\n",
    "import datetime\n",
    "\n",
    "from matplotlib import pyplot as plt\n",
    "\n",
    "import requests\n",
    "import arrow\n",
    "import uuid\n",
    "\n",
    "import sys\n",
    "sys.path.append('/home/jovyan/python-helper/src/')\n",
    "\n",
    "from loggers import TimeEstimator\n",
    "from branca.colormap import LinearColormap\n",
    "\n",
    "from matplotlib.colors import LinearSegmentedColormap\n",
    "\n",
    "import farsiteutils_v2 as futils\n",
    "from kalmanutils import interpolate_perimeter, get_vertices, calculate_vectors, align_perimeters, calculate_uncertainties_observed, calculate_modified, calculate_parameters\n",
    "\n",
    "%load_ext autoreload\n",
    "%autoreload 2"
   ]
  },
  {
   "cell_type": "code",
   "execution_count": 2,
   "id": "fcff4668-fd2d-4111-ad78-e3ef84f4d76d",
   "metadata": {},
   "outputs": [],
   "source": [
    "def plot_perimeter(vertices, ax, **kwargs):\n",
    "    ax.plot(np.array(vertices)[:,0], \n",
    "            np.array(vertices)[:,1], **kwargs)"
   ]
  },
  {
   "cell_type": "code",
   "execution_count": 3,
   "id": "f8e0a0ec-c04a-492a-9010-2af4e2724553",
   "metadata": {},
   "outputs": [
    {
     "name": "stdout",
     "output_type": "stream",
     "text": [
      "Database interaction not yet implemented. Use pickle file for dataframes instead!\n"
     ]
    }
   ],
   "source": [
    "fp = futils.FilePaths('/home/jovyan/data/')\n",
    "usr = futils.User(fp)\n",
    "\n",
    "usr.db.gdfignitionAll = usr.db.gdfignitionAll.to_crs(epsg=5070)"
   ]
  },
  {
   "cell_type": "markdown",
   "id": "b784c2cc-73c2-487c-b0c8-2cf1ea241239",
   "metadata": {},
   "source": [
    "### Choose ignition"
   ]
  },
  {
   "cell_type": "code",
   "execution_count": 4,
   "id": "f3847e6b-fc81-4767-942f-36e41c38393f",
   "metadata": {},
   "outputs": [],
   "source": [
    "igniteidx = 'f23196b034474744bdca7df94b13e0f7'\n",
    "compareidx = '9f82e870591748a9a8a01346d174f2a1'\n",
    "lcpidx = '43b7f5db36994599861eec4849cc68fd'\n",
    "barrieridx = 'cb47616cd2dc4ccc8fd523bd3a5064bb'\n",
    "\n",
    "ignite_geom = usr.db.gdfignitionAll.loc[igniteidx, 'geometry']\n",
    "\n",
    "ignition = get_vertices(ignite_geom)"
   ]
  },
  {
   "cell_type": "markdown",
   "id": "b56b7b37-070a-419e-b9cf-68ef6a1b64c6",
   "metadata": {},
   "source": [
    "### Choose input parameters for simulation"
   ]
  },
  {
   "cell_type": "code",
   "execution_count": 5,
   "id": "a3d8ad31-8b67-4e68-a2b3-81e62d01740a",
   "metadata": {},
   "outputs": [
    {
     "name": "stdout",
     "output_type": "stream",
     "text": [
      "{'description': 'Maria2019', 'igniteidx': 'f23196b034474744bdca7df94b13e0f7', 'compareidx': '9f82e870591748a9a8a01346d174f2a1', 'lcpidx': '43b7f5db36994599861eec4849cc68fd', 'barrieridx': 'cb47616cd2dc4ccc8fd523bd3a5064bb', 'windspeed': 16, 'winddirection': 90, 'relhumid': 90, 'temperature': 20}\n",
      "Choosing a perimeter from the database\n"
     ]
    }
   ],
   "source": [
    "wind_speed = 16\n",
    "wind_direction = 90\n",
    "\n",
    "inputData = {'description': 'Maria2019',\n",
    "             'igniteidx'  : igniteidx,\n",
    "             'compareidx' : compareidx,\n",
    "             'lcpidx'     : lcpidx,\n",
    "             'barrieridx' : barrieridx,\n",
    "\n",
    "             'windspeed': wind_speed, 'winddirection': wind_direction,\n",
    "             'relhumid': 90, 'temperature': 20}\n",
    "\n",
    "# Setup the mainapi for this calculation\n",
    "mainapi = usr.calculatePerimeters(inputData)"
   ]
  },
  {
   "cell_type": "code",
   "execution_count": null,
   "id": "c198eaf4-5e9d-450f-a8f1-ae18d1a8d78e",
   "metadata": {},
   "outputs": [],
   "source": [
    "mainapi.run_farsite()"
   ]
  },
  {
   "cell_type": "code",
   "execution_count": null,
   "id": "33250dd0-581b-4aab-8ae3-168b551a4ef7",
   "metadata": {},
   "outputs": [],
   "source": []
  },
  {
   "cell_type": "markdown",
   "id": "1bb3c4f8-a805-48af-b5e9-42a170b87e9b",
   "metadata": {},
   "source": [
    "### Obtain model output"
   ]
  },
  {
   "cell_type": "code",
   "execution_count": null,
   "id": "4a90108a-2df2-408f-b2e5-5c2c4b222e58",
   "metadata": {},
   "outputs": [],
   "source": [
    "model_geom = usr.db.gdfsimulation.iloc[-1]['geometry'].geoms[0]\n",
    "model = get_vertices(model_geom)"
   ]
  },
  {
   "cell_type": "markdown",
   "id": "8b5e9fcc-4fb6-4bd6-b474-5686be8aac19",
   "metadata": {},
   "source": [
    "### Collect observation"
   ]
  },
  {
   "cell_type": "code",
   "execution_count": null,
   "id": "866fc527-0452-443c-a652-b214ed0717a9",
   "metadata": {},
   "outputs": [],
   "source": [
    "observe_geom = usr.db.gdfignitionAll.loc[compareidx, 'geometry']\n",
    "observe = get_vertices(observe_geom)"
   ]
  },
  {
   "cell_type": "code",
   "execution_count": null,
   "id": "630eb63a-da0e-477d-a4f0-87cb77e6714e",
   "metadata": {},
   "outputs": [],
   "source": [
    "# Calculate dt from observation and ignition\n",
    "dt = int((usr.db.gdfignitionAll.loc[compareidx, 'datetime'] - usr.db.gdfignitionAll.loc[igniteidx, 'datetime']).total_seconds()/60)"
   ]
  },
  {
   "cell_type": "markdown",
   "id": "0a0489be-005f-4ea0-b9c5-e722279ed857",
   "metadata": {},
   "source": [
    "### Rearrange the parameters to align, calculate velocities"
   ]
  },
  {
   "cell_type": "code",
   "execution_count": null,
   "id": "c9f11895-ff3b-4ee6-9104-6871741390e5",
   "metadata": {},
   "outputs": [],
   "source": [
    "ignition_aligned, model_velocity_aligned, model_aligned, observe_aligned, observed_velocity_aligned, ignition_uncertainties = calculate_parameters(ignition, observe, model, wind_direction, dt)"
   ]
  },
  {
   "cell_type": "markdown",
   "id": "d42d561c-06c0-409f-9adb-b1f1c04f4b82",
   "metadata": {},
   "source": [
    "### Calculate Kalman parameters"
   ]
  },
  {
   "cell_type": "code",
   "execution_count": null,
   "id": "72204ea0-2d53-41f0-8533-187e543fbcf5",
   "metadata": {},
   "outputs": [],
   "source": [
    "# State transition matrix\n",
    "F = np.eye(4*len(ignition_aligned))\n",
    "for i in range(len(F)):\n",
    "    if i%2 == 0:\n",
    "        F[i,i+1] = dt\n",
    "\n",
    "# State Vector\n",
    "X = np.zeros((4*len(ignition_aligned), 1))\n",
    "# Observation\n",
    "Z = np.zeros((4*len(observe_aligned), 1))\n",
    "Xpre = np.zeros((4*len(ignition_aligned), 1))\n",
    "# Observed uncertainty\n",
    "R = np.zeros_like(F)\n",
    "# Covariance matrix\n",
    "P = np.zeros_like(F)\n",
    "# Measurement matrix\n",
    "H = np.eye(len(X))\n",
    "for i in range(len(ignition_aligned)):\n",
    "    X[4*i] = ignition_aligned[i,0]\n",
    "    X[4*i + 1] = model_velocity_aligned[i,0]\n",
    "    X[4*i + 2] = ignition_aligned[i,1]\n",
    "    X[4*i + 3] = model_velocity_aligned[i,1]\n",
    "    \n",
    "    Xpre[4*i] = model_aligned[i,0]\n",
    "    Xpre[4*i + 1] = model_velocity_aligned[i,0]\n",
    "    Xpre[4*i + 2] = model_aligned[i,1]\n",
    "    Xpre[4*i + 3] = model_velocity_aligned[i,1]\n",
    "    \n",
    "    Z[4*i] = observe_aligned[i,0]\n",
    "    Z[4*i + 1] = observed_velocity_aligned[i,0]\n",
    "    Z[4*i + 2] = observe_aligned[i,1]\n",
    "    Z[4*i + 3] = observed_velocity_aligned[i,1]\n",
    "        \n",
    "    R[[4*i, 4*i+1, 4*i+2, 4*i+3], [4*i, 4*i+1, 4*i+2, 4*i+3]] = ignition_uncertainties[i]\n",
    "    P[[4*i, 4*i+1, 4*i+2, 4*i+3], [4*i, 4*i+1, 4*i+2, 4*i+3]] = 0.1"
   ]
  },
  {
   "cell_type": "code",
   "execution_count": null,
   "id": "3dd6b04f-9613-448c-bd89-a784e9fdef01",
   "metadata": {},
   "outputs": [],
   "source": [
    "kf = KalmanFilter(len(X), len(Z))\n",
    "kf.F = F\n",
    "kf.R = R\n",
    "kf.Q = 0\n",
    "kf.P = P\n",
    "kf.x = X\n",
    "kf.H = H"
   ]
  },
  {
   "cell_type": "code",
   "execution_count": null,
   "id": "c0606395-72e8-46e4-9bda-980fb4b422dc",
   "metadata": {},
   "outputs": [],
   "source": [
    "%%time\n",
    "kf.update(Z)"
   ]
  },
  {
   "cell_type": "code",
   "execution_count": null,
   "id": "8cf65fa0-09b2-4093-8a03-26a6fb7517b6",
   "metadata": {},
   "outputs": [],
   "source": [
    "Xmodified = kf.x.copy()"
   ]
  },
  {
   "cell_type": "code",
   "execution_count": null,
   "id": "8f5917fa-60d5-410c-83cc-f25cd06aee89",
   "metadata": {},
   "outputs": [],
   "source": [
    "xmod, vxmod, ymod, vymod = Xmodified[::4], Xmodified[1::4], Xmodified[2::4], Xmodified[3::4]\n",
    "modified_vertices = list(zip(xmod, ymod))\n",
    "modified_geom = Polygon(shell=modified_vertices)\n",
    "gpd.GeoDataFrame(data={'FID': 0}, geometry = [modified_geom.buffer(0)], index=[0], crs='epsg:5070').to_file('/home/jovyan/farsite/inputs/maria_ignite/maria_21231_mod.shp')"
   ]
  },
  {
   "cell_type": "code",
   "execution_count": null,
   "id": "f4824a35-e9cc-4416-a2f8-92c4c5946496",
   "metadata": {},
   "outputs": [],
   "source": []
  },
  {
   "cell_type": "markdown",
   "id": "5f56c4b7-1134-4c21-95cf-5cd54f5a91ca",
   "metadata": {},
   "source": [
    "### Add the modified geom to the ignition database"
   ]
  },
  {
   "cell_type": "code",
   "execution_count": null,
   "id": "ff02cc1a-f160-49b2-b7fd-6cb33d7de46e",
   "metadata": {},
   "outputs": [],
   "source": [
    "usr.db.gdfignitionAll = usr.db.gdfignitionAll.append(\n",
    "    gpd.GeoDataFrame(data={'filetype': 'Ignition',\n",
    "                       'objectid': None,\n",
    "                       'filepath': '/home/jovyan/farsite/inputs/maria_ignite/maria_21231_mod.shp',\n",
    "                       'datetime': usr.db.gdfignitionAll.loc[igniteidx, 'datetime'],\n",
    "                       'description': 'Maria2019'},\n",
    "                 geometry=[modified_geom], index=[uuid.uuid4().hex])\n",
    ")                      \n",
    "                       "
   ]
  },
  {
   "cell_type": "code",
   "execution_count": null,
   "id": "0e3df2cc-8e85-43f0-b86d-0a2e1d88a043",
   "metadata": {},
   "outputs": [],
   "source": [
    "fig, ax = plt.subplots(1,1, figsize=(4,2), dpi=400)\n",
    "\n",
    "plot_perimeter(ignition_aligned, ax=ax, color='blue')\n",
    "# plot_perimeter(modified_vertices, ax=ax, ls='--')\n",
    "plot_perimeter(observe_aligned, ax=ax, color='tab:orange')\n",
    "# # plot_perimeter(next_observe_aligned, ax=ax, color='tab:red')\n",
    "plot_perimeter(model_aligned, color='red', ax=ax)\n",
    "ax.plot(np.mean(ignition_aligned, axis=0)[0], np.mean(ignition_aligned, axis=0)[1], 'o', color='blue')\n",
    "\n",
    "ax.set_aspect(1)\n",
    "    \n",
    "xlim = (-2086157.8176353823, -2081650.1039221247)\n",
    "ylim = (1502205.458511021, 1505619.1686423323)\n",
    "\n",
    "ax.set_xlim(xlim)\n",
    "ax.set_ylim(ylim)\n",
    "\n",
    "ax.set_xlabel('East-West (m)')\n",
    "ax.set_ylabel('North-South (m)')"
   ]
  },
  {
   "cell_type": "code",
   "execution_count": null,
   "id": "b4ceb9e9-1da5-4292-9f2a-851cbd0d7e9a",
   "metadata": {},
   "outputs": [],
   "source": []
  }
 ],
 "metadata": {
  "kernelspec": {
   "display_name": "Python 3 (ipykernel)",
   "language": "python",
   "name": "python3"
  },
  "language_info": {
   "codemirror_mode": {
    "name": "ipython",
    "version": 3
   },
   "file_extension": ".py",
   "mimetype": "text/x-python",
   "name": "python",
   "nbconvert_exporter": "python",
   "pygments_lexer": "ipython3",
   "version": "3.10.6"
  }
 },
 "nbformat": 4,
 "nbformat_minor": 5
}
