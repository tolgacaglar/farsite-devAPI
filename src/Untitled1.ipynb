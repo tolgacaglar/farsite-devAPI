{
 "cells": [
  {
   "cell_type": "code",
   "execution_count": 1,
   "id": "5bac45b9-3d45-4e12-8a65-5db169c41d8a",
   "metadata": {},
   "outputs": [],
   "source": [
    "from collections import defaultdict"
   ]
  },
  {
   "cell_type": "code",
   "execution_count": 9,
   "id": "03c5f690-4801-41b2-be43-e0e71b8a7e1b",
   "metadata": {},
   "outputs": [],
   "source": [
    "test_map = defaultdict(int)\n",
    "test_map['a'] = 1\n",
    "test_map['b'] = 2\n",
    "test_map['c'] = 3"
   ]
  },
  {
   "cell_type": "code",
   "execution_count": 15,
   "id": "1594f224-9a27-400c-82fa-9b7cbca36f91",
   "metadata": {},
   "outputs": [
    {
     "data": {
      "text/plain": [
       "dict_values([1, 2, 3])"
      ]
     },
     "execution_count": 15,
     "metadata": {},
     "output_type": "execute_result"
    }
   ],
   "source": [
    "test_map.values()"
   ]
  }
 ],
 "metadata": {
  "kernelspec": {
   "display_name": "Python 3 (ipykernel)",
   "language": "python",
   "name": "python3"
  },
  "language_info": {
   "codemirror_mode": {
    "name": "ipython",
    "version": 3
   },
   "file_extension": ".py",
   "mimetype": "text/x-python",
   "name": "python",
   "nbconvert_exporter": "python",
   "pygments_lexer": "ipython3",
   "version": "3.9.10"
  }
 },
 "nbformat": 4,
 "nbformat_minor": 5
}
