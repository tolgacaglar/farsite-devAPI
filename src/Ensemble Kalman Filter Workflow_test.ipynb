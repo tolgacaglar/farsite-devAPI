{
 "cells": [
  {
   "cell_type": "markdown",
   "id": "de901356-30f4-46aa-895f-f834710f5efa",
   "metadata": {},
   "source": [
    "# Ensemble Kalman Filter Workflow\n",
    "\n",
    "1. Available observation vector for $\\vec{y_{k+1}}$, and calculate the observation ensemble from the directional uncertainties based on the wind speed and direction. To calculate the uncertainty for each point of the perimeter:\n",
    "    1. Obtain the centroid $c_k = 1/M\\sum{y_k}$ where $M$ is the number of points.\n",
    "    2. Calculate vectors $\\vec{v_k^m}$ for each point from the centroid to the point where $m$ is the $m^{th}$ point in the perimeter\n",
    "    3. Obtain the wind speed and direction: $\\vec{u_k}$ from the closest weather station to the centroid\n",
    "    4. Uncertainty for each point $m$ is then $e_k^m = \\alpha \\left(1 - \\vec{v_k^m} \\cdot \\vec{u_k}\\right)$\n",
    "\n",
    "2. Given a state vector $x_k$ and uncertainties around each point $P_k$, generate an ensemble \n",
    "$$X_k = (x_k^1, x_k^2, \\cdots , x_k^N)$$\n",
    "    1. For the first timepoint $k=0$, the state vector is the first observation $(x_0 = y_0)$, and the ensemble is obtained from directional uncertainties assigned based on the wind speed and direction\n",
    "    2. **Question:** When creating the ensemble, do we preserve the mean $\\overline{x_k}$?\n",
    "    \n",
    "3. From the ensemble $X_k$, advance for each state vector $X_{k+1} = F(X_k, u_k)$, where $u_k$ \n",
    "\n",
    "4. "
   ]
  },
  {
   "cell_type": "markdown",
   "id": "a4b5f10a-ee62-4ba4-aac3-0fe305e1bc0f",
   "metadata": {
    "tags": []
   },
   "source": [
    "## Dependencies:"
   ]
  },
  {
   "cell_type": "code",
   "execution_count": 3,
   "id": "145b1582-6a79-497f-a6d3-6838d655a74b",
   "metadata": {},
   "outputs": [],
   "source": [
    "import sys\n",
    "sys.path.append('/home/jovyan/farsite-devAPI/src/')\n",
    "sys.path.append('/home/jovyan/python-helper/src/')\n",
    "\n",
    "import geopandas as gpd\n",
    "import pandas as pd\n",
    "import numpy as np\n",
    "\n",
    "from shapely.geometry import MultiPolygon, Polygon\n",
    "\n",
    "import uuid\n",
    "import random\n",
    "\n",
    "import farsiteutils_v2 as futils\n",
    "from kalmanutils import calculate_uncertainties_observed, interpolate_perimeter\n",
    "\n",
    "from loggers import TimeEstimator\n",
    "\n",
    "from matplotlib import pyplot as plt"
   ]
  },
  {
   "cell_type": "markdown",
   "id": "5ac1bb62-56d4-4c93-aa7d-544952e3ab6f",
   "metadata": {},
   "source": [
    "## Default Values"
   ]
  },
  {
   "cell_type": "code",
   "execution_count": 4,
   "id": "323345e2-6444-499f-87e2-c9bf65ae7a61",
   "metadata": {},
   "outputs": [],
   "source": [
    "SELECTED_FIRE_DEFAULT = 'Maria2019'\n",
    "DATA_PATH = '/home/jovyan/data/'    # Folder to keep all the data while running the simulations"
   ]
  },
  {
   "cell_type": "markdown",
   "id": "39840580-19e1-468d-85d2-bb17a1b28a29",
   "metadata": {},
   "source": [
    "## Select a fire\n",
    "\n",
    "```selected_fire``` variable holds the name of the fire selected. ```selected_fire = 'Maria2019'``` for now"
   ]
  },
  {
   "cell_type": "code",
   "execution_count": 5,
   "id": "d3fee504-e3de-4596-9983-2851ed3ed383",
   "metadata": {},
   "outputs": [
    {
     "name": "stdout",
     "output_type": "stream",
     "text": [
      "Database interaction not yet implemented. Use pickle file for dataframes instead!\n",
      "Available fires are ['Maria2019' 'River2021' 'Bridge2021']\n",
      "Maria2019 is selected.\n",
      "\n",
      "Maria2019 is found!\n"
     ]
    }
   ],
   "source": [
    "fp = futils.FilePaths(DATA_PATH)\n",
    "usr = futils.User(fp)\n",
    "\n",
    "unique_desc = usr.db.gdfignitionAll['description'].unique()\n",
    "print(f'Available fires are {unique_desc}')\n",
    "\n",
    "selected_fire = SELECTED_FIRE_DEFAULT\n",
    "print(f'{selected_fire} is selected.\\n')\n",
    "if (unique_desc == selected_fire).any():\n",
    "    print(f'{selected_fire} is found!')\n",
    "else:\n",
    "    raise ValueError(f'{selected_fire} not found in possible fire descriptions: {unique_desc}')"
   ]
  },
  {
   "cell_type": "code",
   "execution_count": 6,
   "id": "4b04e271-eb7f-4ed7-a88e-b42f77bbd6ec",
   "metadata": {
    "tags": []
   },
   "outputs": [
    {
     "data": {
      "text/html": [
       "<div>\n",
       "<style scoped>\n",
       "    .dataframe tbody tr th:only-of-type {\n",
       "        vertical-align: middle;\n",
       "    }\n",
       "\n",
       "    .dataframe tbody tr th {\n",
       "        vertical-align: top;\n",
       "    }\n",
       "\n",
       "    .dataframe thead th {\n",
       "        text-align: right;\n",
       "    }\n",
       "</style>\n",
       "<table border=\"1\" class=\"dataframe\">\n",
       "  <thead>\n",
       "    <tr style=\"text-align: right;\">\n",
       "      <th></th>\n",
       "      <th>filetype</th>\n",
       "      <th>objectid</th>\n",
       "      <th>filepath</th>\n",
       "      <th>datetime</th>\n",
       "      <th>description</th>\n",
       "      <th>geometry</th>\n",
       "    </tr>\n",
       "  </thead>\n",
       "  <tbody>\n",
       "    <tr>\n",
       "      <th>f23196b034474744bdca7df94b13e0f7</th>\n",
       "      <td>Ignition</td>\n",
       "      <td>21231</td>\n",
       "      <td>/home/jovyan/farsite/inputs/maria_ignite/maria...</td>\n",
       "      <td>2019-10-31 19:37:11</td>\n",
       "      <td>Maria2019</td>\n",
       "      <td>POLYGON ((-2084217.148 1503560.461, -2084279.5...</td>\n",
       "    </tr>\n",
       "    <tr>\n",
       "      <th>9f82e870591748a9a8a01346d174f2a1</th>\n",
       "      <td>Ignition</td>\n",
       "      <td>21232</td>\n",
       "      <td>/home/jovyan/farsite/inputs/maria_ignite/maria...</td>\n",
       "      <td>2019-10-31 19:58:22</td>\n",
       "      <td>Maria2019</td>\n",
       "      <td>POLYGON ((-2082034.494 1504548.520, -2081987.6...</td>\n",
       "    </tr>\n",
       "    <tr>\n",
       "      <th>1a6eb30ee33742e18fa6bb26678b5077</th>\n",
       "      <td>Ignition</td>\n",
       "      <td>21234</td>\n",
       "      <td>/home/jovyan/farsite/inputs/maria_ignite/maria...</td>\n",
       "      <td>2019-10-31 20:31:33</td>\n",
       "      <td>Maria2019</td>\n",
       "      <td>POLYGON ((-2082034.494 1504548.520, -2081987.6...</td>\n",
       "    </tr>\n",
       "    <tr>\n",
       "      <th>911f9b001c054b74a6ba70958f5f3c93</th>\n",
       "      <td>Ignition</td>\n",
       "      <td>21235</td>\n",
       "      <td>/home/jovyan/farsite/inputs/maria_ignite/maria...</td>\n",
       "      <td>2019-10-31 20:56:44</td>\n",
       "      <td>Maria2019</td>\n",
       "      <td>POLYGON ((-2082396.219 1505343.939, -2082305.7...</td>\n",
       "    </tr>\n",
       "    <tr>\n",
       "      <th>7957c2e604554199ba60c5b13aff2f40</th>\n",
       "      <td>Ignition</td>\n",
       "      <td>21236</td>\n",
       "      <td>/home/jovyan/farsite/inputs/maria_ignite/maria...</td>\n",
       "      <td>2019-10-31 21:22:55</td>\n",
       "      <td>Maria2019</td>\n",
       "      <td>POLYGON ((-2082598.331 1505371.327, -2082338.5...</td>\n",
       "    </tr>\n",
       "    <tr>\n",
       "      <th>714f0cf8d475462a97c651642a3d2525</th>\n",
       "      <td>Ignition</td>\n",
       "      <td>21237</td>\n",
       "      <td>/home/jovyan/farsite/inputs/maria_ignite/maria...</td>\n",
       "      <td>2019-10-31 23:31:00</td>\n",
       "      <td>Maria2019</td>\n",
       "      <td>MULTIPOLYGON (((-2085055.250 1500983.797, -208...</td>\n",
       "    </tr>\n",
       "    <tr>\n",
       "      <th>628d7730c0f149f898695d37a1350882</th>\n",
       "      <td>Ignition</td>\n",
       "      <td>21238</td>\n",
       "      <td>/home/jovyan/farsite/inputs/maria_ignite/maria...</td>\n",
       "      <td>2019-10-31 23:48:00</td>\n",
       "      <td>Maria2019</td>\n",
       "      <td>POLYGON ((-2081520.701 1505276.095, -2081364.6...</td>\n",
       "    </tr>\n",
       "    <tr>\n",
       "      <th>746e4f286cba4af4a89362b548f2c255</th>\n",
       "      <td>Ignition</td>\n",
       "      <td>21239</td>\n",
       "      <td>/home/jovyan/farsite/inputs/maria_ignite/maria...</td>\n",
       "      <td>2019-11-01 00:29:00</td>\n",
       "      <td>Maria2019</td>\n",
       "      <td>POLYGON ((-2081508.646 1505341.661, -2081409.9...</td>\n",
       "    </tr>\n",
       "    <tr>\n",
       "      <th>ec72de65d1934e0ab74ff46ffba1ae1b</th>\n",
       "      <td>Ignition</td>\n",
       "      <td>21240</td>\n",
       "      <td>/home/jovyan/farsite/inputs/maria_ignite/maria...</td>\n",
       "      <td>2019-11-01 00:54:00</td>\n",
       "      <td>Maria2019</td>\n",
       "      <td>POLYGON ((-2081447.957 1505469.815, -2081376.9...</td>\n",
       "    </tr>\n",
       "    <tr>\n",
       "      <th>15dc4b77768f4921be77c65ae9a6b9d4</th>\n",
       "      <td>Ignition</td>\n",
       "      <td>21241</td>\n",
       "      <td>/home/jovyan/farsite/inputs/maria_ignite/maria...</td>\n",
       "      <td>2019-11-01 01:12:00</td>\n",
       "      <td>Maria2019</td>\n",
       "      <td>POLYGON ((-2081447.957 1505469.815, -2081376.9...</td>\n",
       "    </tr>\n",
       "    <tr>\n",
       "      <th>db87bccf2de3464ea09ffbe2c1fe1611</th>\n",
       "      <td>Ignition</td>\n",
       "      <td>21242</td>\n",
       "      <td>/home/jovyan/farsite/inputs/maria_ignite/maria...</td>\n",
       "      <td>2019-11-01 01:25:00</td>\n",
       "      <td>Maria2019</td>\n",
       "      <td>POLYGON ((-2081352.332 1505575.284, -2081233.6...</td>\n",
       "    </tr>\n",
       "    <tr>\n",
       "      <th>548466fe1b424e62bc8d766234763fa2</th>\n",
       "      <td>Ignition</td>\n",
       "      <td>21243</td>\n",
       "      <td>/home/jovyan/farsite/inputs/maria_ignite/maria...</td>\n",
       "      <td>2019-11-01 01:38:00</td>\n",
       "      <td>Maria2019</td>\n",
       "      <td>POLYGON ((-2081352.332 1505575.284, -2081233.6...</td>\n",
       "    </tr>\n",
       "    <tr>\n",
       "      <th>116dd0ef296445f39a3343b0daa1a084</th>\n",
       "      <td>Ignition</td>\n",
       "      <td>21244</td>\n",
       "      <td>/home/jovyan/farsite/inputs/maria_ignite/maria...</td>\n",
       "      <td>2019-11-01 01:56:00</td>\n",
       "      <td>Maria2019</td>\n",
       "      <td>POLYGON ((-2081352.332 1505575.284, -2081233.6...</td>\n",
       "    </tr>\n",
       "    <tr>\n",
       "      <th>9623320b87894822a5ec1429be08f9bd</th>\n",
       "      <td>Ignition</td>\n",
       "      <td>21245</td>\n",
       "      <td>/home/jovyan/farsite/inputs/maria_ignite/maria...</td>\n",
       "      <td>2019-11-01 02:10:00</td>\n",
       "      <td>Maria2019</td>\n",
       "      <td>POLYGON ((-2081352.332 1505575.284, -2081233.6...</td>\n",
       "    </tr>\n",
       "    <tr>\n",
       "      <th>04983f027cb4496da5a4d1177d28a801</th>\n",
       "      <td>Ignition</td>\n",
       "      <td>21246</td>\n",
       "      <td>/home/jovyan/farsite/inputs/maria_ignite/maria...</td>\n",
       "      <td>2019-11-01 02:24:00</td>\n",
       "      <td>Maria2019</td>\n",
       "      <td>POLYGON ((-2081345.220 1505623.806, -2081233.6...</td>\n",
       "    </tr>\n",
       "    <tr>\n",
       "      <th>57a3d3ce84b2401ea89da919252ede28</th>\n",
       "      <td>Ignition</td>\n",
       "      <td>21247</td>\n",
       "      <td>/home/jovyan/farsite/inputs/maria_ignite/maria...</td>\n",
       "      <td>2019-11-01 02:29:00</td>\n",
       "      <td>Maria2019</td>\n",
       "      <td>POLYGON ((-2081335.836 1505650.273, -2081233.6...</td>\n",
       "    </tr>\n",
       "    <tr>\n",
       "      <th>c9c4975019b947eab1e825ea811e9156</th>\n",
       "      <td>Ignition</td>\n",
       "      <td>21248</td>\n",
       "      <td>/home/jovyan/farsite/inputs/maria_ignite/maria...</td>\n",
       "      <td>2019-11-01 03:05:00</td>\n",
       "      <td>Maria2019</td>\n",
       "      <td>MULTIPOLYGON (((-2088744.530 1504291.102, -208...</td>\n",
       "    </tr>\n",
       "    <tr>\n",
       "      <th>49716755b8444847b9e030fa52481e05</th>\n",
       "      <td>Ignition</td>\n",
       "      <td>21249</td>\n",
       "      <td>/home/jovyan/farsite/inputs/maria_ignite/maria...</td>\n",
       "      <td>2019-11-01 03:15:00</td>\n",
       "      <td>Maria2019</td>\n",
       "      <td>MULTIPOLYGON (((-2088744.530 1504291.102, -208...</td>\n",
       "    </tr>\n",
       "    <tr>\n",
       "      <th>d6b0375e8f54460eac6a82223cc04337</th>\n",
       "      <td>Ignition</td>\n",
       "      <td>21630</td>\n",
       "      <td>/home/jovyan/farsite/inputs/maria_ignite/maria...</td>\n",
       "      <td>2019-11-01 20:20:11</td>\n",
       "      <td>Maria2019</td>\n",
       "      <td>POLYGON ((-2081294.633 1505728.926, -2081233.6...</td>\n",
       "    </tr>\n",
       "    <tr>\n",
       "      <th>81011859d7ab456395abfab9112ee2a3</th>\n",
       "      <td>Ignition</td>\n",
       "      <td>21631</td>\n",
       "      <td>/home/jovyan/farsite/inputs/maria_ignite/maria...</td>\n",
       "      <td>2019-11-01 20:42:22</td>\n",
       "      <td>Maria2019</td>\n",
       "      <td>POLYGON ((-2081294.633 1505728.926, -2081280.7...</td>\n",
       "    </tr>\n",
       "    <tr>\n",
       "      <th>51fdaebe31f44ad69272779a3f01182d</th>\n",
       "      <td>Ignition</td>\n",
       "      <td>None</td>\n",
       "      <td>/home/jovyan/data/20230203/Run_00000/out_Perim...</td>\n",
       "      <td>2019-10-31 20:07:11</td>\n",
       "      <td>Maria2019</td>\n",
       "      <td>POLYGON ((-2084574.000 1504835.000, -2084554.0...</td>\n",
       "    </tr>\n",
       "    <tr>\n",
       "      <th>68b265e5ba78410d9ba23e595c4ebe4d</th>\n",
       "      <td>Ignition</td>\n",
       "      <td>None</td>\n",
       "      <td>/home/jovyan/data/20230203/Run_00001/out_Perim...</td>\n",
       "      <td>2019-10-31 20:37:11</td>\n",
       "      <td>Maria2019</td>\n",
       "      <td>POLYGON ((-2085015.000 1504756.000, -2085025.0...</td>\n",
       "    </tr>\n",
       "    <tr>\n",
       "      <th>aab698d3dcdb40c5a200fa962062eac6</th>\n",
       "      <td>Ignition</td>\n",
       "      <td>None</td>\n",
       "      <td>/home/jovyan/data/20230203/Run_00002/out_Perim...</td>\n",
       "      <td>2019-10-31 21:07:11</td>\n",
       "      <td>Maria2019</td>\n",
       "      <td>POLYGON ((-2085197.000 1504021.000, -2085201.0...</td>\n",
       "    </tr>\n",
       "    <tr>\n",
       "      <th>898b0f9313d44e70bfe3fd53a269981f</th>\n",
       "      <td>Ignition</td>\n",
       "      <td>None</td>\n",
       "      <td>/home/jovyan/data/20230203/Run_00003/out_Perim...</td>\n",
       "      <td>2019-10-31 21:37:11</td>\n",
       "      <td>Maria2019</td>\n",
       "      <td>POLYGON ((-2085149.000 1504474.000, -2085139.0...</td>\n",
       "    </tr>\n",
       "    <tr>\n",
       "      <th>f812b5bd6b9841c7a9d3c049f2ef65d0</th>\n",
       "      <td>Ignition</td>\n",
       "      <td>None</td>\n",
       "      <td>/home/jovyan/data/20230203/Run_00004/out_Perim...</td>\n",
       "      <td>2019-10-31 22:07:11</td>\n",
       "      <td>Maria2019</td>\n",
       "      <td>POLYGON ((-2085749.000 1504157.000, -2085717.0...</td>\n",
       "    </tr>\n",
       "    <tr>\n",
       "      <th>1902f9bb87654d6596616ce39baa5bd4</th>\n",
       "      <td>Ignition</td>\n",
       "      <td>None</td>\n",
       "      <td>/home/jovyan/data/20230203/Run_00005/out_Perim...</td>\n",
       "      <td>2019-10-31 22:37:11</td>\n",
       "      <td>Maria2019</td>\n",
       "      <td>POLYGON ((-2085846.000 1504355.000, -2085870.0...</td>\n",
       "    </tr>\n",
       "    <tr>\n",
       "      <th>8a431825f5ed4c80a5c8bbe6272aae75</th>\n",
       "      <td>Ignition</td>\n",
       "      <td>None</td>\n",
       "      <td>/home/jovyan/data/20230203/Run_00006/out_Perim...</td>\n",
       "      <td>2019-10-31 23:07:11</td>\n",
       "      <td>Maria2019</td>\n",
       "      <td>POLYGON ((-2085917.000 1504477.000, -2085917.0...</td>\n",
       "    </tr>\n",
       "    <tr>\n",
       "      <th>eaf6ac2e01c14ee6a7575004cc255470</th>\n",
       "      <td>Ignition</td>\n",
       "      <td>None</td>\n",
       "      <td>/home/jovyan/data/20230203/Run_00007/out_Perim...</td>\n",
       "      <td>2019-10-31 23:37:11</td>\n",
       "      <td>Maria2019</td>\n",
       "      <td>POLYGON ((-2087673.000 1503303.000, -2087676.0...</td>\n",
       "    </tr>\n",
       "    <tr>\n",
       "      <th>2a2d3f9489a34a5ebe7acb1842be28b9</th>\n",
       "      <td>Ignition</td>\n",
       "      <td>None</td>\n",
       "      <td>/home/jovyan/data/20230203/Run_00008/out_Perim...</td>\n",
       "      <td>2019-11-01 00:07:11</td>\n",
       "      <td>Maria2019</td>\n",
       "      <td>POLYGON ((-2088382.000 1503008.000, -2088380.0...</td>\n",
       "    </tr>\n",
       "    <tr>\n",
       "      <th>a966c3e028054453ae6ae791bdbb2eaa</th>\n",
       "      <td>Ignition</td>\n",
       "      <td>None</td>\n",
       "      <td>/home/jovyan/data/20230203/Run_00009/out_Perim...</td>\n",
       "      <td>2019-11-01 00:37:11</td>\n",
       "      <td>Maria2019</td>\n",
       "      <td>POLYGON ((-2088359.000 1503673.000, -2088332.0...</td>\n",
       "    </tr>\n",
       "    <tr>\n",
       "      <th>4589feb89833462392177adc46d432b2</th>\n",
       "      <td>Ignition</td>\n",
       "      <td>None</td>\n",
       "      <td>/home/jovyan/data/20230203/Run_00010/out_Perim...</td>\n",
       "      <td>2019-11-01 01:07:11</td>\n",
       "      <td>Maria2019</td>\n",
       "      <td>POLYGON ((-2088857.000 1503620.000, -2088822.0...</td>\n",
       "    </tr>\n",
       "    <tr>\n",
       "      <th>b93e051584c54d3183511baf8088fc84</th>\n",
       "      <td>Ignition</td>\n",
       "      <td>None</td>\n",
       "      <td>/home/jovyan/data/20230203/Run_00011/out_Perim...</td>\n",
       "      <td>2019-11-01 01:37:11</td>\n",
       "      <td>Maria2019</td>\n",
       "      <td>POLYGON ((-2088876.000 1504308.000, -2088902.0...</td>\n",
       "    </tr>\n",
       "  </tbody>\n",
       "</table>\n",
       "</div>"
      ],
      "text/plain": [
       "                                  filetype objectid  \\\n",
       "f23196b034474744bdca7df94b13e0f7  Ignition    21231   \n",
       "9f82e870591748a9a8a01346d174f2a1  Ignition    21232   \n",
       "1a6eb30ee33742e18fa6bb26678b5077  Ignition    21234   \n",
       "911f9b001c054b74a6ba70958f5f3c93  Ignition    21235   \n",
       "7957c2e604554199ba60c5b13aff2f40  Ignition    21236   \n",
       "714f0cf8d475462a97c651642a3d2525  Ignition    21237   \n",
       "628d7730c0f149f898695d37a1350882  Ignition    21238   \n",
       "746e4f286cba4af4a89362b548f2c255  Ignition    21239   \n",
       "ec72de65d1934e0ab74ff46ffba1ae1b  Ignition    21240   \n",
       "15dc4b77768f4921be77c65ae9a6b9d4  Ignition    21241   \n",
       "db87bccf2de3464ea09ffbe2c1fe1611  Ignition    21242   \n",
       "548466fe1b424e62bc8d766234763fa2  Ignition    21243   \n",
       "116dd0ef296445f39a3343b0daa1a084  Ignition    21244   \n",
       "9623320b87894822a5ec1429be08f9bd  Ignition    21245   \n",
       "04983f027cb4496da5a4d1177d28a801  Ignition    21246   \n",
       "57a3d3ce84b2401ea89da919252ede28  Ignition    21247   \n",
       "c9c4975019b947eab1e825ea811e9156  Ignition    21248   \n",
       "49716755b8444847b9e030fa52481e05  Ignition    21249   \n",
       "d6b0375e8f54460eac6a82223cc04337  Ignition    21630   \n",
       "81011859d7ab456395abfab9112ee2a3  Ignition    21631   \n",
       "51fdaebe31f44ad69272779a3f01182d  Ignition     None   \n",
       "68b265e5ba78410d9ba23e595c4ebe4d  Ignition     None   \n",
       "aab698d3dcdb40c5a200fa962062eac6  Ignition     None   \n",
       "898b0f9313d44e70bfe3fd53a269981f  Ignition     None   \n",
       "f812b5bd6b9841c7a9d3c049f2ef65d0  Ignition     None   \n",
       "1902f9bb87654d6596616ce39baa5bd4  Ignition     None   \n",
       "8a431825f5ed4c80a5c8bbe6272aae75  Ignition     None   \n",
       "eaf6ac2e01c14ee6a7575004cc255470  Ignition     None   \n",
       "2a2d3f9489a34a5ebe7acb1842be28b9  Ignition     None   \n",
       "a966c3e028054453ae6ae791bdbb2eaa  Ignition     None   \n",
       "4589feb89833462392177adc46d432b2  Ignition     None   \n",
       "b93e051584c54d3183511baf8088fc84  Ignition     None   \n",
       "\n",
       "                                                                           filepath  \\\n",
       "f23196b034474744bdca7df94b13e0f7  /home/jovyan/farsite/inputs/maria_ignite/maria...   \n",
       "9f82e870591748a9a8a01346d174f2a1  /home/jovyan/farsite/inputs/maria_ignite/maria...   \n",
       "1a6eb30ee33742e18fa6bb26678b5077  /home/jovyan/farsite/inputs/maria_ignite/maria...   \n",
       "911f9b001c054b74a6ba70958f5f3c93  /home/jovyan/farsite/inputs/maria_ignite/maria...   \n",
       "7957c2e604554199ba60c5b13aff2f40  /home/jovyan/farsite/inputs/maria_ignite/maria...   \n",
       "714f0cf8d475462a97c651642a3d2525  /home/jovyan/farsite/inputs/maria_ignite/maria...   \n",
       "628d7730c0f149f898695d37a1350882  /home/jovyan/farsite/inputs/maria_ignite/maria...   \n",
       "746e4f286cba4af4a89362b548f2c255  /home/jovyan/farsite/inputs/maria_ignite/maria...   \n",
       "ec72de65d1934e0ab74ff46ffba1ae1b  /home/jovyan/farsite/inputs/maria_ignite/maria...   \n",
       "15dc4b77768f4921be77c65ae9a6b9d4  /home/jovyan/farsite/inputs/maria_ignite/maria...   \n",
       "db87bccf2de3464ea09ffbe2c1fe1611  /home/jovyan/farsite/inputs/maria_ignite/maria...   \n",
       "548466fe1b424e62bc8d766234763fa2  /home/jovyan/farsite/inputs/maria_ignite/maria...   \n",
       "116dd0ef296445f39a3343b0daa1a084  /home/jovyan/farsite/inputs/maria_ignite/maria...   \n",
       "9623320b87894822a5ec1429be08f9bd  /home/jovyan/farsite/inputs/maria_ignite/maria...   \n",
       "04983f027cb4496da5a4d1177d28a801  /home/jovyan/farsite/inputs/maria_ignite/maria...   \n",
       "57a3d3ce84b2401ea89da919252ede28  /home/jovyan/farsite/inputs/maria_ignite/maria...   \n",
       "c9c4975019b947eab1e825ea811e9156  /home/jovyan/farsite/inputs/maria_ignite/maria...   \n",
       "49716755b8444847b9e030fa52481e05  /home/jovyan/farsite/inputs/maria_ignite/maria...   \n",
       "d6b0375e8f54460eac6a82223cc04337  /home/jovyan/farsite/inputs/maria_ignite/maria...   \n",
       "81011859d7ab456395abfab9112ee2a3  /home/jovyan/farsite/inputs/maria_ignite/maria...   \n",
       "51fdaebe31f44ad69272779a3f01182d  /home/jovyan/data/20230203/Run_00000/out_Perim...   \n",
       "68b265e5ba78410d9ba23e595c4ebe4d  /home/jovyan/data/20230203/Run_00001/out_Perim...   \n",
       "aab698d3dcdb40c5a200fa962062eac6  /home/jovyan/data/20230203/Run_00002/out_Perim...   \n",
       "898b0f9313d44e70bfe3fd53a269981f  /home/jovyan/data/20230203/Run_00003/out_Perim...   \n",
       "f812b5bd6b9841c7a9d3c049f2ef65d0  /home/jovyan/data/20230203/Run_00004/out_Perim...   \n",
       "1902f9bb87654d6596616ce39baa5bd4  /home/jovyan/data/20230203/Run_00005/out_Perim...   \n",
       "8a431825f5ed4c80a5c8bbe6272aae75  /home/jovyan/data/20230203/Run_00006/out_Perim...   \n",
       "eaf6ac2e01c14ee6a7575004cc255470  /home/jovyan/data/20230203/Run_00007/out_Perim...   \n",
       "2a2d3f9489a34a5ebe7acb1842be28b9  /home/jovyan/data/20230203/Run_00008/out_Perim...   \n",
       "a966c3e028054453ae6ae791bdbb2eaa  /home/jovyan/data/20230203/Run_00009/out_Perim...   \n",
       "4589feb89833462392177adc46d432b2  /home/jovyan/data/20230203/Run_00010/out_Perim...   \n",
       "b93e051584c54d3183511baf8088fc84  /home/jovyan/data/20230203/Run_00011/out_Perim...   \n",
       "\n",
       "                                             datetime description  \\\n",
       "f23196b034474744bdca7df94b13e0f7  2019-10-31 19:37:11   Maria2019   \n",
       "9f82e870591748a9a8a01346d174f2a1  2019-10-31 19:58:22   Maria2019   \n",
       "1a6eb30ee33742e18fa6bb26678b5077  2019-10-31 20:31:33   Maria2019   \n",
       "911f9b001c054b74a6ba70958f5f3c93  2019-10-31 20:56:44   Maria2019   \n",
       "7957c2e604554199ba60c5b13aff2f40  2019-10-31 21:22:55   Maria2019   \n",
       "714f0cf8d475462a97c651642a3d2525  2019-10-31 23:31:00   Maria2019   \n",
       "628d7730c0f149f898695d37a1350882  2019-10-31 23:48:00   Maria2019   \n",
       "746e4f286cba4af4a89362b548f2c255  2019-11-01 00:29:00   Maria2019   \n",
       "ec72de65d1934e0ab74ff46ffba1ae1b  2019-11-01 00:54:00   Maria2019   \n",
       "15dc4b77768f4921be77c65ae9a6b9d4  2019-11-01 01:12:00   Maria2019   \n",
       "db87bccf2de3464ea09ffbe2c1fe1611  2019-11-01 01:25:00   Maria2019   \n",
       "548466fe1b424e62bc8d766234763fa2  2019-11-01 01:38:00   Maria2019   \n",
       "116dd0ef296445f39a3343b0daa1a084  2019-11-01 01:56:00   Maria2019   \n",
       "9623320b87894822a5ec1429be08f9bd  2019-11-01 02:10:00   Maria2019   \n",
       "04983f027cb4496da5a4d1177d28a801  2019-11-01 02:24:00   Maria2019   \n",
       "57a3d3ce84b2401ea89da919252ede28  2019-11-01 02:29:00   Maria2019   \n",
       "c9c4975019b947eab1e825ea811e9156  2019-11-01 03:05:00   Maria2019   \n",
       "49716755b8444847b9e030fa52481e05  2019-11-01 03:15:00   Maria2019   \n",
       "d6b0375e8f54460eac6a82223cc04337  2019-11-01 20:20:11   Maria2019   \n",
       "81011859d7ab456395abfab9112ee2a3  2019-11-01 20:42:22   Maria2019   \n",
       "51fdaebe31f44ad69272779a3f01182d  2019-10-31 20:07:11   Maria2019   \n",
       "68b265e5ba78410d9ba23e595c4ebe4d  2019-10-31 20:37:11   Maria2019   \n",
       "aab698d3dcdb40c5a200fa962062eac6  2019-10-31 21:07:11   Maria2019   \n",
       "898b0f9313d44e70bfe3fd53a269981f  2019-10-31 21:37:11   Maria2019   \n",
       "f812b5bd6b9841c7a9d3c049f2ef65d0  2019-10-31 22:07:11   Maria2019   \n",
       "1902f9bb87654d6596616ce39baa5bd4  2019-10-31 22:37:11   Maria2019   \n",
       "8a431825f5ed4c80a5c8bbe6272aae75  2019-10-31 23:07:11   Maria2019   \n",
       "eaf6ac2e01c14ee6a7575004cc255470  2019-10-31 23:37:11   Maria2019   \n",
       "2a2d3f9489a34a5ebe7acb1842be28b9  2019-11-01 00:07:11   Maria2019   \n",
       "a966c3e028054453ae6ae791bdbb2eaa  2019-11-01 00:37:11   Maria2019   \n",
       "4589feb89833462392177adc46d432b2  2019-11-01 01:07:11   Maria2019   \n",
       "b93e051584c54d3183511baf8088fc84  2019-11-01 01:37:11   Maria2019   \n",
       "\n",
       "                                                                           geometry  \n",
       "f23196b034474744bdca7df94b13e0f7  POLYGON ((-2084217.148 1503560.461, -2084279.5...  \n",
       "9f82e870591748a9a8a01346d174f2a1  POLYGON ((-2082034.494 1504548.520, -2081987.6...  \n",
       "1a6eb30ee33742e18fa6bb26678b5077  POLYGON ((-2082034.494 1504548.520, -2081987.6...  \n",
       "911f9b001c054b74a6ba70958f5f3c93  POLYGON ((-2082396.219 1505343.939, -2082305.7...  \n",
       "7957c2e604554199ba60c5b13aff2f40  POLYGON ((-2082598.331 1505371.327, -2082338.5...  \n",
       "714f0cf8d475462a97c651642a3d2525  MULTIPOLYGON (((-2085055.250 1500983.797, -208...  \n",
       "628d7730c0f149f898695d37a1350882  POLYGON ((-2081520.701 1505276.095, -2081364.6...  \n",
       "746e4f286cba4af4a89362b548f2c255  POLYGON ((-2081508.646 1505341.661, -2081409.9...  \n",
       "ec72de65d1934e0ab74ff46ffba1ae1b  POLYGON ((-2081447.957 1505469.815, -2081376.9...  \n",
       "15dc4b77768f4921be77c65ae9a6b9d4  POLYGON ((-2081447.957 1505469.815, -2081376.9...  \n",
       "db87bccf2de3464ea09ffbe2c1fe1611  POLYGON ((-2081352.332 1505575.284, -2081233.6...  \n",
       "548466fe1b424e62bc8d766234763fa2  POLYGON ((-2081352.332 1505575.284, -2081233.6...  \n",
       "116dd0ef296445f39a3343b0daa1a084  POLYGON ((-2081352.332 1505575.284, -2081233.6...  \n",
       "9623320b87894822a5ec1429be08f9bd  POLYGON ((-2081352.332 1505575.284, -2081233.6...  \n",
       "04983f027cb4496da5a4d1177d28a801  POLYGON ((-2081345.220 1505623.806, -2081233.6...  \n",
       "57a3d3ce84b2401ea89da919252ede28  POLYGON ((-2081335.836 1505650.273, -2081233.6...  \n",
       "c9c4975019b947eab1e825ea811e9156  MULTIPOLYGON (((-2088744.530 1504291.102, -208...  \n",
       "49716755b8444847b9e030fa52481e05  MULTIPOLYGON (((-2088744.530 1504291.102, -208...  \n",
       "d6b0375e8f54460eac6a82223cc04337  POLYGON ((-2081294.633 1505728.926, -2081233.6...  \n",
       "81011859d7ab456395abfab9112ee2a3  POLYGON ((-2081294.633 1505728.926, -2081280.7...  \n",
       "51fdaebe31f44ad69272779a3f01182d  POLYGON ((-2084574.000 1504835.000, -2084554.0...  \n",
       "68b265e5ba78410d9ba23e595c4ebe4d  POLYGON ((-2085015.000 1504756.000, -2085025.0...  \n",
       "aab698d3dcdb40c5a200fa962062eac6  POLYGON ((-2085197.000 1504021.000, -2085201.0...  \n",
       "898b0f9313d44e70bfe3fd53a269981f  POLYGON ((-2085149.000 1504474.000, -2085139.0...  \n",
       "f812b5bd6b9841c7a9d3c049f2ef65d0  POLYGON ((-2085749.000 1504157.000, -2085717.0...  \n",
       "1902f9bb87654d6596616ce39baa5bd4  POLYGON ((-2085846.000 1504355.000, -2085870.0...  \n",
       "8a431825f5ed4c80a5c8bbe6272aae75  POLYGON ((-2085917.000 1504477.000, -2085917.0...  \n",
       "eaf6ac2e01c14ee6a7575004cc255470  POLYGON ((-2087673.000 1503303.000, -2087676.0...  \n",
       "2a2d3f9489a34a5ebe7acb1842be28b9  POLYGON ((-2088382.000 1503008.000, -2088380.0...  \n",
       "a966c3e028054453ae6ae791bdbb2eaa  POLYGON ((-2088359.000 1503673.000, -2088332.0...  \n",
       "4589feb89833462392177adc46d432b2  POLYGON ((-2088857.000 1503620.000, -2088822.0...  \n",
       "b93e051584c54d3183511baf8088fc84  POLYGON ((-2088876.000 1504308.000, -2088902.0...  "
      ]
     },
     "execution_count": 6,
     "metadata": {},
     "output_type": "execute_result"
    }
   ],
   "source": [
    "usr.db.gdfignition"
   ]
  },
  {
   "cell_type": "code",
   "execution_count": 7,
   "id": "9b8b2724-b39d-4548-8503-ff406bc70d23",
   "metadata": {},
   "outputs": [],
   "source": [
    "referenceidx_lst = [usr.db.gdfignition.index[0]] + usr.db.gdfignition.index[-12:].tolist()"
   ]
  },
  {
   "cell_type": "code",
   "execution_count": 8,
   "id": "12c82488-5539-48f6-ac4b-b060e27939b0",
   "metadata": {},
   "outputs": [],
   "source": [
    "from shapely.geometry import MultiPolygon, Polygon\n",
    "import numpy as np\n",
    "\n",
    "def calculate_max_area_geom(multigeom):\n",
    "    max_area = 0\n",
    "    max_area_idx = 0\n",
    "    for ix, g in enumerate(multigeom.geoms):\n",
    "        if g.area > max_area:\n",
    "            max_area = g.area\n",
    "            max_area_idx = ix\n",
    "    return multigeom.geoms[max_area_idx]\n",
    "    \n",
    "\n",
    "class State:\n",
    "    def __init__(self, geom):\n",
    "        self.geom = geom\n",
    "        \n",
    "        # Initialize\n",
    "        self.vertices = self.calculate_vertices()\n",
    "        self.lengths = self.calculate_lengths()\n",
    "    def calculate_vertices(self):\n",
    "        geom = self.geom\n",
    "        \n",
    "        if isinstance(geom, MultiPolygon):\n",
    "            geompoly = calculate_max_area_geom(geom)\n",
    "        elif isinstance(geom, Polygon):\n",
    "            geompoly = geom\n",
    "\n",
    "        return np.array((geompoly.exterior.coords))\n",
    "    \n",
    "    def calculate_lengths(self):\n",
    "        return np.sqrt((np.diff(self.vertices, axis=0)**2).sum(axis=1))\n",
    "    \n",
    "    def calculate_vector(self):\n",
    "        # Returns column vector of the vertices (x0, y0, x1, y1, ...)\n",
    "        return self.vertices.reshape(len(self.vertices)*2, 1)\n",
    "    \n",
    "    "
   ]
  },
  {
   "cell_type": "code",
   "execution_count": 9,
   "id": "77824d0b-3a36-41bb-ae72-546268cf028e",
   "metadata": {},
   "outputs": [],
   "source": [
    "def sample_geometry(current_state, uncertainties):\n",
    "    \n",
    "    maxlength = current_state.lengths.max()\n",
    "    \n",
    "    sampled_vertices = []\n",
    "    \n",
    "    # Choose a random direction\n",
    "    theta = random.uniform(0,2*np.pi)\n",
    "\n",
    "    for (x,y), sigma in zip(current_state.vertices, uncertainties):\n",
    "        mu=0\n",
    "        # randx = random.gauss(mu, sigma)\n",
    "        # randy = random.gauss(mu, sigma)\n",
    "        \n",
    "        # Choose a normal random radius based on the given sigma\n",
    "        radius = abs(random.gauss(mu, sigma))\n",
    "        \n",
    "        # Calculate x and y distance for the random\n",
    "        randx = radius*np.cos(theta)\n",
    "        randy = radius*np.sin(theta)\n",
    "        \n",
    "        sampled_vertices.append((x+randx, y+randy))\n",
    "\n",
    "    sampled_vertices = np.array(sampled_vertices)\n",
    "    # return Polygon(sampled_vertices).buffer(maxlength, join_style=1).buffer(-maxlength, join_style=1)\n",
    "    return Polygon(sampled_vertices)\n",
    "\n",
    "\n",
    "def interpolate_geometries(geoms, vertex_count = None):\n",
    "    \n",
    "    if vertex_count == None:\n",
    "        vertex_count = 0\n",
    "        for geom in geoms:\n",
    "            if isinstance(geom, MultiPolygon):\n",
    "                geom = calculate_max_area_geom(geom)\n",
    "\n",
    "            if vertex_count < len(geom.exterior.coords):\n",
    "                vertex_count = len(geom.exterior.coords)\n",
    "\n",
    "    interpolated_vertices = []\n",
    "    for geom in geoms:\n",
    "        if isinstance(geom, MultiPolygon):\n",
    "            geom = calculate_max_area_geom(geom)\n",
    "        \n",
    "        geom_state = State(geom)\n",
    "        vertices = np.array(interpolate_perimeter(geom_state.calculate_vertices(), vertex_count))\n",
    "\n",
    "        interpolated_vertices.append(vertices)\n",
    "        \n",
    "    return interpolated_vertices\n",
    "\n",
    "\n",
    "def align_vertices(interpolated_vertices):\n",
    "\n",
    "    time_estimator = TimeEstimator(len(interpolated_vertices)-1)\n",
    "\n",
    "    minroll_lst = []\n",
    "    \n",
    "    aligned_vertices = [interpolated_vertices[0]]\n",
    "    for i in range(len(interpolated_vertices)-1):\n",
    "        print(time_estimator.info_str(i), end='\\r', flush=True)\n",
    "\n",
    "        right_vertices = interpolated_vertices[i+1]\n",
    "\n",
    "\n",
    "        # Cycle right_vertices\n",
    "        l2perroll = []\n",
    "        for roll in range(len(interpolated_vertices[i])-1):\n",
    "            diff = aligned_vertices[0] - right_vertices\n",
    "            diff2sum = (diff[:,0]**2 + diff[:,1]**2).sum()\n",
    "\n",
    "            # Calculate diff^2 in\n",
    "            l2perroll.append(diff2sum)\n",
    "\n",
    "            right_vertices = np.roll(right_vertices,1, axis=0)\n",
    "\n",
    "        minroll_lst.append(np.argmin(l2perroll))\n",
    "\n",
    "    for i in range(len(interpolated_vertices)-1):\n",
    "        aligned_vertices.append(np.roll(interpolated_vertices[i+1], minroll_lst[i], axis=0))\n",
    "    \n",
    "    return aligned_vertices\n",
    "## Check reverse direction too?\n",
    "\n",
    "def create_ensembles(nsamples, current_state, windspeed, winddirection, normalized_scale, filetype, objectid, datetime, description):\n",
    "                     \n",
    "    # uncertainty in both x and y for each vertex\n",
    "    # uncertainties = calculate_uncertainties_observed(current_state.vertices, windspeed, winddirection, scale=windspeed*normalized_scale)*np.sqrt(current_state.lengths.sum())\n",
    "    uncertainties = calculate_uncertainties_observed(current_state.vertices, windspeed, winddirection, scale=1)\n",
    "\n",
    "    ignitions = {'igniteidx': [], \n",
    "                 'filetype': [],\n",
    "                 'objectid': [],\n",
    "                 'filepath': [],\n",
    "                 'datetime': [],\n",
    "                 'description': [],\n",
    "                 'geometry': []}\n",
    "\n",
    "    time_estimator = TimeEstimator(nsamples)\n",
    "    for sample in range(nsamples):\n",
    "        print(time_estimator.info_str(sample), end='\\r', flush=True)\n",
    "        \n",
    "        igniteidx = uuid.uuid4().hex\n",
    "        ignitions['igniteidx'].append(igniteidx)\n",
    "        ignitions['filetype'].append(filetype)\n",
    "        ignitions['objectid'].append(f'{objectid}E{sample:04d}')\n",
    "\n",
    "        geometry = sample_geometry(current_state, uncertainties)\n",
    "        if isinstance(geometry, MultiPolygon):\n",
    "            geometry = calculate_max_area_geom(geometry)\n",
    "\n",
    "        ignitions['geometry'].append(geometry)\n",
    "\n",
    "        ignitions['filepath'].append(f'{usr.db.fp.datadir}ignitions/{selected_fire}E{igniteidx}.shp')\n",
    "        gpd.GeoDataFrame({'FID': [0], 'geometry': ignitions['geometry'][-1]}, \n",
    "                         crs='EPSG:5070').to_file(ignitions['filepath'][-1])\n",
    "\n",
    "        ignitions['datetime'].append(datetime)\n",
    "        ignitions['description'].append(description)\n",
    "        \n",
    "    return ignitions\n",
    "\n",
    "\n",
    "def create_ensemble_matrix(geoms, vertex_count=100, aligned_geom=None):\n",
    "\n",
    "    interpolated_vertices = interpolate_geometries(geoms, vertex_count=vertex_count)\n",
    "    # Add first list of vertices from the state vector to align. align_vertices aligns all the perimeters w.r.t the first array\n",
    "    if aligned_geom is not None:\n",
    "        interpolated_vertices = [aligned_geom] + interpolated_vertices\n",
    "\n",
    "    aligned_vertices = align_vertices(interpolated_vertices)\n",
    "    if aligned_geom is not None:\n",
    "        aligned_vertices = aligned_vertices[1:]\n",
    "    else:\n",
    "        aligned_geom = aligned_vertices[0]\n",
    "    \n",
    "    if vertex_count is None:\n",
    "        vertex_count = aligned_vertices[0].shape[0]\n",
    "    \n",
    "    X = np.zeros((vertex_count*2, nsamples))\n",
    "    for i, vertices in enumerate(aligned_vertices):\n",
    "        X[:,i] = vertices.flatten()\n",
    "        \n",
    "    return X, aligned_geom, vertex_count\n",
    "\n",
    "\n",
    "def state_to_ignitions(X_0, objectid_lst, datetime_lst, description_lst, filetype_lst, usr):\n",
    "\n",
    "    geoms = [Polygon(zip(X_0[::2,i], X_0[1::2,i])).buffer(0) for i in range(X_0.shape[1])]\n",
    "\n",
    "    ignitions = {'igniteidx': [],\n",
    "                 'filetype': [],\n",
    "                 'objectid': [],\n",
    "                 'filepath': [],\n",
    "                 'geometry': [],\n",
    "                 'datetime': [],\n",
    "                 'description': []}\n",
    "\n",
    "    for sample, geometry in enumerate(geoms):\n",
    "        filetype = filetype_lst[sample]\n",
    "        datetime = datetime_lst[sample]\n",
    "        description = description_lst[sample]\n",
    "        objectid = objectid_lst[sample]\n",
    "        \n",
    "        igniteidx = uuid.uuid4().hex\n",
    "        ignitions['igniteidx'].append(igniteidx)\n",
    "        ignitions['filetype'].append(filetype)\n",
    "        ignitions['objectid'].append(f'{objectid}U{sample:04d}')\n",
    "\n",
    "        if isinstance(geometry, MultiPolygon):\n",
    "            geometry = calculate_max_area_geom(geometry)\n",
    "\n",
    "        ignitions['geometry'].append(geometry)\n",
    "\n",
    "        ignitions['filepath'].append(f'{usr.db.fp.datadir}ignitions/{description}U{sample:04d}_{igniteidx}.shp')\n",
    "        gpd.GeoDataFrame({'FID': [0], 'geometry': ignitions['geometry'][-1]}, \n",
    "                         crs='EPSG:5070').to_file(ignitions['filepath'][-1])\n",
    "\n",
    "        ignitions['datetime'].append(datetime)\n",
    "        ignitions['description'].append(description)\n",
    "    \n",
    "    return ignitions\n",
    "\n",
    "def validate_geoms_matrix(X, aligned_geom):\n",
    "    for i in range(X.shape[1]):\n",
    "        X_0 = X[:,i]\n",
    "        x = X_0[::2]\n",
    "        y = X_0[1::2]\n",
    "\n",
    "        geom = Polygon(zip(x,y)).buffer(0)\n",
    "        if isinstance(geom, MultiPolygon):\n",
    "            geom = calculate_max_area_geom(geom)\n",
    "\n",
    "        xx,yy = geom.exterior.xy\n",
    "        xx = list(xx)\n",
    "        yy = list(yy)\n",
    "\n",
    "        geom = np.array(interpolate_perimeter(list(zip(xx, yy)), len(x)))\n",
    "        geom = align_vertices([aligned_geom, geom])[1]\n",
    "\n",
    "        X[:,i] = geom.flatten()\n",
    "\n",
    "    return X\n",
    "\n",
    "def recalculate_ignition(mainapi):\n",
    "    runfile = mainapi.runfile_lst[0]\n",
    "    geom = gpd.read_file(runfile.ignitepath)['geometry'][0]\n",
    "    state = State(geom)\n",
    "    uncertainties = calculate_uncertainties_observed(state.vertices, runfile.windspeed, runfile.winddirection, scale=1)\n",
    "    geom1 = sample_geometry(state, uncertainties).buffer(0)\n",
    "    gpd.GeoDataFrame({'FID': [0], 'geometry': geom1}, crs='EPSG:5070').to_file(runfile.ignitepath)"
   ]
  },
  {
   "cell_type": "markdown",
   "id": "5d3f538e-2e16-4561-baab-2d18133bc96b",
   "metadata": {},
   "source": [
    "### Plotting functions"
   ]
  },
  {
   "cell_type": "code",
   "execution_count": 10,
   "id": "31a0ee5d-c9bd-42da-ba45-6ed47237b2dc",
   "metadata": {},
   "outputs": [],
   "source": [
    "def compare_perimeters(alst, colors='rgbcmyk', showvertex = 0):\n",
    "    fig, ax = plt.subplots(1,1, figsize=(4,2), dpi=200)\n",
    "    \n",
    "    for a,c in zip(alst, colors):\n",
    "        if c == 'r':\n",
    "            ax.plot(a[::2], a[1::2], c+'o', markersize=1)\n",
    "        else:\n",
    "            ax.plot(a[::2], a[1::2], c)\n",
    "            \n",
    "        ax.scatter(a[2*showvertex], a[2*showvertex + 1], facecolor=(0,0,0,0.2), edgecolor=(0,0,0,0.9))\n",
    "        \n",
    "    ax.set_ylim(1.502e6, 1.506e6)\n",
    "    ax.set_xlim(-2.087e6, -2.081e6)\n",
    "    \n",
    "def compare_matrices(X, colors='rgbcmy', showvertex = 0, ax=None):\n",
    "    \n",
    "    if ax is None:\n",
    "        fig, ax = plt.subplots(1,1, figsize=(4,2), dpi=200)\n",
    "    \n",
    "    for i in range(X.shape[1]):\n",
    "        c = colors[i%len(colors)]\n",
    "        ax.plot(X[::2,i], X[1::2,i], c)\n",
    "        ax.scatter(X[2*showvertex,i], X[2*showvertex+1,i], facecolor=(0,0,0,0.2), edgecolor=(0,0,0,0.9))\n",
    "        \n",
    "    # ax.set_ylim(1.502e6, 1.506e6)\n",
    "    # ax.set_xlim(-2.087e6, -2.081e6)\n",
    "    \n",
    "    return ax\n",
    "\n",
    "def plot_geometry(geom, ax, **kwargs):\n",
    "    if isinstance(geom, MultiPolygon):\n",
    "        for g in geom.geoms:\n",
    "            x,y = g.exterior.coords.xy\n",
    "            ax.plot(x,y, **kwargs)\n",
    "    else:\n",
    "        x,y = geom.exterior.coords.xy\n",
    "        ax.plot(x,y, **kwargs)\n",
    "        \n",
    "def plot_matrix(X, ax, show_stdev = False, **kwargs):\n",
    "    vcounts = X.shape[0]//2\n",
    "    \n",
    "    color = (1,0,0,0.9)\n",
    "    if 'color' in kwargs:\n",
    "        color = kwargs['color']\n",
    "        \n",
    "    X_std = np.std(X, axis=1)\n",
    "    X_mean = np.mean(X, axis=1)\n",
    "    ax.plot(X_mean[::2], X_mean[1::2], **kwargs)\n",
    "\n",
    "    # Calculate standard deviation of the generated coordinates\n",
    "    x0, y0 = X_mean[::2], X_mean[1::2]\n",
    "    radstd = np.zeros_like(x0)\n",
    "    \n",
    "    for vix in range(vcounts):\n",
    "        x,y = X[2*vix,:], X[2*vix+1,:]\n",
    "        radius = np.sqrt((x-x0[vix])**2 +(y-y0[vix])**2)\n",
    "        radstd[vix] = np.std(radius)\n",
    "    \n",
    "    if show_stdev:\n",
    "        for vix in range(vcounts):\n",
    "            circle = plt.Circle((x0[vix], y0[vix]), radius=radstd[vix], fill=False, edgecolor=(0,0,0,0.4), lw=0.3)\n",
    "            ax.add_artist(circle)\n",
    "       \n",
    "def update_EnKF(Xt, Y, aligned_geom):\n",
    "    nsamples = Y.shape[1]\n",
    "\n",
    "    xt = Xt.mean(axis=1, keepdims=True)\n",
    "    y = Y.mean(axis=1, keepdims=True)\n",
    "\n",
    "    Ex = Xt - xt.repeat(nsamples, axis=1)\n",
    "    Ey = Y - y.repeat(nsamples, axis=1)\n",
    "\n",
    "    Py = 1/(nsamples-1)*np.matmul(Ey, Ey.T)\n",
    "    Pxy = 1/(nsamples-1)*np.matmul(Ex, Ey.T)\n",
    "\n",
    "    max_Py = abs(Py).max()\n",
    "    max_Pxy = abs(Pxy).max()\n",
    "\n",
    "    Py /= max_Py\n",
    "    Pxy /= max_Pxy\n",
    "\n",
    "    Py_inv = np.linalg.pinv(Py, hermitian=True)\n",
    "\n",
    "    assert(np.allclose(np.matmul(Py_inv, Py), np.eye(Y.shape[0]))), 'Inverse calculation is incorrect'\n",
    "\n",
    "    K = np.matmul(Pxy, Py_inv)*(max_Pxy/max_Py)\n",
    "\n",
    "    #### Update the state ensemble\n",
    "    X = Xt + np.matmul(K, (Y - Xt))\n",
    "\n",
    "    ### TODO ####\n",
    "    # Fix invalid geometries\n",
    "\n",
    "    X = validate_geoms_matrix(X, aligned_geom)\n",
    "\n",
    "    return X"
   ]
  },
  {
   "cell_type": "code",
   "execution_count": 11,
   "id": "75b602a3-a491-4c35-8975-6e38df5648c7",
   "metadata": {},
   "outputs": [],
   "source": [
    "class EnKF:\n",
    "    # Initialize with the first observation\n",
    "    # Windspeed and direction is given from PyLaski\n",
    "    def __init__(self, observation: gpd.GeoSeries, windspeed: int, winddirection: int, normalized_scale: float, nsamples: int, usr: futils.User):\n",
    "        state_geom = gpd.read_file(observation['filepath'])['geometry'].set_crs(epsg=5070).iloc[0]\n",
    "        \n",
    "        \n",
    "        self.state_datetime = observation['datetime']\n",
    "        self.selected_fire = observation['description']\n",
    "        self.igniteidx = observation.name\n",
    "        self.current_state = State(state_geom)\n",
    "        \n",
    "        \n",
    "        self.windspeed = windspeed\n",
    "        self.winddirection = winddirection\n",
    "        self.normalized_scale = normalized_scale\n",
    "        self.nsamples = nsamples\n",
    "        self.usr = usr\n",
    "\n",
    "        self.ignitions = create_ensembles(self.nsamples, self.current_state, self.windspeed, self.winddirection, self.normalized_scale,\n",
    "                                     observation['filetype'], observation['objectid'],\n",
    "                                     observation['datetime'], observation['description'])\n",
    "        \n",
    "        self.usr.db.gdfignition = self.usr.db.gdfignition.append(gpd.GeoDataFrame(self.ignitions).set_index('igniteidx').set_crs(epsg=5070))\n",
    "        \n",
    "        # Create ensemble matrix\n",
    "        self.X_0, self.aligned_geom, self.vertex_count = create_ensemble_matrix(self.ignitions['geometry'])\n",
    "        \n",
    "    # Updates the state matrix\n",
    "    # Need to first add the observation into the database (usr.db for now)\n",
    "    def update(self, compareidx: str, lcpidx: str, barrieridx: str, observation: gpd.GeoSeries, windspeed: int, winddirection: int):\n",
    "        # Advance the state in Farsite using the windspeed and direction\n",
    "        inputData_lst = []\n",
    "        self.mainapi_lst = []\n",
    "        for igniteidx in self.ignitions['igniteidx']:\n",
    "            inputData = {'description': self.selected_fire,\n",
    "                         'igniteidx'  : igniteidx,\n",
    "                         'compareidx' : compareidx,\n",
    "                         'lcpidx'     : lcpidx,\n",
    "                         'barrieridx' : barrieridx,\n",
    "\n",
    "                         'windspeed': windspeed, 'winddirection': winddirection,\n",
    "                         'relhumid': 90, 'temperature': 20}\n",
    "\n",
    "            self.mainapi_lst.append(self.usr.calculatePerimeters(inputData))\n",
    "            \n",
    "\n",
    "        # from multiprocessing import Pool\n",
    "\n",
    "        # numproc = 4\n",
    "        # pool = Pool(processes=numproc)\n",
    "\n",
    "        # Run for each FarsiteManual\n",
    "        for mainapi in self.mainapi_lst:\n",
    "            # pool.apply_async(farsite.run_command, callback=farsite.updatedb)\n",
    "            mainapi.run_farsite()\n",
    "            runfile = mainapi.runfile_lst[0]\n",
    "            outperimpath = runfile.outpath+'_Perimeters.shp'\n",
    "            while len(gpd.read_file(outperimpath)) == 0:\n",
    "                recalculate_ignition(mainapi)\n",
    "                mainapi.run_farsite()\n",
    "            \n",
    "            \n",
    "\n",
    "        # pool.close()\n",
    "        # pool.join()\n",
    "        \n",
    "        # Filter igniteidx->compareidx simulations only\n",
    "        df = self.usr.db.gdfsimulation\n",
    "        filtered_indices = df[df['igniteidx'].isin(self.ignitions['igniteidx']) & (df['compareidx'] == compareidx)].index\n",
    "        \n",
    "        if (len(filtered_indices) != self.nsamples):\n",
    "            raise ValueError(f'Expecting {nsamples} simulation outputs, {len(filtered_indices)} found')\n",
    "        \n",
    "        self.Xt_1, self.aligned_geom, self.vertex_count = create_ensemble_matrix(df.loc[filtered_indices, 'geometry'], \n",
    "                                                                                 self.vertex_count, self.aligned_geom)\n",
    "        \n",
    "        \n",
    "        \n",
    "        # Calculate ensemble for the observation\n",
    "        state_geom = gpd.read_file(observation['filepath'])['geometry'].set_crs(epsg=5070).iloc[0]\n",
    "        # igniteidx = observation.name\n",
    "        state_datetime = observation['datetime']\n",
    "\n",
    "        self.observed_state = State(state_geom)\n",
    "\n",
    "        self.observed_ensemble = create_ensembles(self.nsamples, self.observed_state, windspeed, winddirection, self.normalized_scale,\n",
    "                                     observation['filetype'], observation['objectid'],\n",
    "                                     observation['datetime'], observation['description'])\n",
    "\n",
    "        self.Y_1, self.aligned_geom, self.vertex_count = create_ensemble_matrix(self.observed_ensemble['geometry'], self.vertex_count, self.aligned_geom)\n",
    "        self.Xt_1 = remove_duplicates(self.Xt_1, self.vertex_count)\n",
    "        self.Y_1 = remove_duplicates(self.Y_1, self.vertex_count)\n",
    "        \n",
    "        \n",
    "        self.X_1 = update_EnKF(self.Xt_1, self.Y_1, self.aligned_geom)\n",
    "        ##############################\n",
    "        # Calculate the Kalman Filter\n",
    "        ###############################\n",
    "\n",
    "        ####################\n",
    "        # Recursive updates\n",
    "        ##################\n",
    "        \n",
    "        # Update ignitions\n",
    "        self.X_0 = self.X_1\n",
    "        self.ignitions = state_to_ignitions(self.X_0, self.observed_ensemble['objectid'], self.observed_ensemble['datetime'], \n",
    "                           self.observed_ensemble['description'], self.observed_ensemble['filetype'], self.usr)\n",
    "        \n",
    "        self.current_state = self.observed_state\n",
    "        \n",
    "        self.usr.db.gdfignition = pd.concat([self.usr.db.gdfignition, gpd.GeoDataFrame(self.ignitions, geometry='geometry', crs='EPSG:5070').set_index('igniteidx')])\n",
    "        \n",
    "        # x_1 = X_1.mean(axis=1, keepdims=True)\n",
    "        \n",
    "# ## obtain the igniteidx of the ignition\n",
    "# ## The indices will be passed from the interface, which will include corresponding datetime, filepath etc.\n",
    "# compareidx = '9f82e870591748a9a8a01346d174f2a1'    # t=1 observation\n",
    "# lcpidx = '43b7f5db36994599861eec4849cc68fd'        # Index for Maria2019\n",
    "# barrieridx = 'cb47616cd2dc4ccc8fd523bd3a5064bb'    # NoBarrier shapefile index        "
   ]
  },
  {
   "cell_type": "code",
   "execution_count": 12,
   "id": "420243c5-5c30-4cb0-9deb-696df19bf38d",
   "metadata": {},
   "outputs": [],
   "source": [
    "def calculate_model(igniteidx_lst, compareidx, lcpidx, barrieridx, windspeed, winddirection, usr_model):\n",
    "    inputData = {'description': 'Maria2019',\n",
    "                 'igniteidx'  : igniteidx_lst[-1],\n",
    "                 'compareidx' : compareidx,\n",
    "                 'lcpidx'     : lcpidx,\n",
    "                 'barrieridx' : barrieridx,\n",
    "\n",
    "                 'windspeed': windspeed, 'winddirection': winddirection,\n",
    "                 'relhumid': 90, 'temperature': 20}\n",
    "\n",
    "    mainapi = usr_model.calculatePerimeters(inputData)\n",
    "    mainapi.run_farsite()\n",
    "\n",
    "    gdfsim = usr_model.db.gdfsimulation.iloc[-1]\n",
    "    gdfsim_geom = gdfsim['geometry']\n",
    "    if isinstance(gdfsim_geom, MultiPolygon):\n",
    "        gdfsim_geom = calculate_max_area_geom(gdfsim_geom)\n",
    "        \n",
    "    gdfsim_geom = gdfsim_geom.buffer(0)\n",
    "    \n",
    "    usr_model.db.gdfignition = pd.concat([usr_model.db.gdfignition, gpd.GeoDataFrame({'filetype': 'Ignition',\n",
    "                                                                                      'objectid': str(usr_model.db.gdfignition.loc[gdfsim['igniteidx']]['objectid']) + '_farsite',\n",
    "                                                                                      'filepath': gdfsim['filepath'],\n",
    "                                                                                      'datetime': gdfsim['datetime'],\n",
    "                                                                                      'description': gdfsim['description'],\n",
    "                                                                                      'geometry': gdfsim_geom}, index=[gdfsim.name])\n",
    "                                         ])\n",
    "    igniteidx_lst.append(gdfsim.name)\n",
    "    gpd.GeoDataFrame({'FID': [0], 'geometry':gdfsim_geom}, \n",
    "                     crs='EPSG:5070').to_file(gdfsim['filepath'])"
   ]
  },
  {
   "cell_type": "code",
   "execution_count": 13,
   "id": "e12b23a4-96b9-4bfd-80c2-ee513b3078f5",
   "metadata": {
    "tags": []
   },
   "outputs": [],
   "source": [
    "def test_duplicates(arr):\n",
    "    tst = []\n",
    "    for rix in range(arr.shape[0]):\n",
    "        for rjx in range(rix+1, arr.shape[0]):\n",
    "            tst.append(arr[rix,:] - arr[rjx,:])\n",
    "\n",
    "    tst = np.array(tst)\n",
    "    tstsum = tst.sum(axis=1)\n",
    "    zeroix = np.where(np.abs(tstsum) == 0)[0]\n",
    "\n",
    "    i = 0\n",
    "    rixlst = []\n",
    "    rjxlst = []\n",
    "    for rix in range(arr.shape[0]):\n",
    "        for rjx in range(rix+1, arr.shape[0]):            \n",
    "            if i in zeroix:\n",
    "                print(f'{i} found at pair {rix}, {rjx}')\n",
    "            i += 1\n",
    "\n",
    "def remove_duplicates(arr, dnumber):\n",
    "    tst = []\n",
    "    for rix in range(arr.shape[0]):\n",
    "        for rjx in range(rix+1, arr.shape[0]):\n",
    "            tst.append(arr[rix,:] - arr[rjx,:])\n",
    "\n",
    "    tst = np.array(tst)\n",
    "    tstsum = tst.sum(axis=1)\n",
    "    zeroix = np.where(np.abs(tstsum) == 0)[0]\n",
    "\n",
    "    i = 0\n",
    "    rixlst = []\n",
    "    rjxlst = []\n",
    "    for rix in range(arr.shape[0]):\n",
    "        for rjx in range(rix+1, arr.shape[0]):            \n",
    "            if i in zeroix:\n",
    "                # print(f'{i} found at pair {rix}, {rjx}')\n",
    "                rixlst.append(rix)\n",
    "                rjxlst.append(rjx)\n",
    "            i += 1\n",
    "\n",
    "    arrnew = np.zeros_like(arr)\n",
    "    arr = np.delete(arr, rixlst, axis=0)\n",
    "\n",
    "    for j in range(arr.shape[1]):\n",
    "        vertices = list(zip(arr[::2,j], arr[1::2,j]))\n",
    "        vertices_interpolated = interpolate_perimeter(vertices, dnumber)\n",
    "\n",
    "        arrnew[:,j] = np.array(vertices_interpolated).flatten()\n",
    "\n",
    "    return arrnew"
   ]
  },
  {
   "cell_type": "code",
   "execution_count": 14,
   "id": "fdbdc110-72d4-4274-9dd2-7e8f37b6b89a",
   "metadata": {},
   "outputs": [
    {
     "name": "stdout",
     "output_type": "stream",
     "text": [
      "Calculating 41/249 ( 16.47%) - Remaining - 0:0:0...    \r"
     ]
    },
    {
     "name": "stderr",
     "output_type": "stream",
     "text": [
      "/tmp/ipykernel_61/1245457122.py:24: FutureWarning: The frame.append method is deprecated and will be removed from pandas in a future version. Use pandas.concat instead.\n",
      "  self.usr.db.gdfignition = self.usr.db.gdfignition.append(gpd.GeoDataFrame(self.ignitions).set_index('igniteidx').set_crs(epsg=5070))\n"
     ]
    },
    {
     "name": "stdout",
     "output_type": "stream",
     "text": [
      "Database interaction not yet implemented. Use pickle file for dataframes instead!\n"
     ]
    }
   ],
   "source": [
    "# Initial params\n",
    "\n",
    "initial = usr.db.gdfignition.iloc[0]\n",
    "windspeed = 10   # Calculations are made with windspeed = 10, winddirection = 90\n",
    "winddirection = 60\n",
    "nsamples = 250\n",
    "normalized_scale = 2\n",
    "\n",
    "state = EnKF(initial, windspeed, winddirection, normalized_scale, nsamples, usr)\n",
    "X_0_lst = [state.X_0]\n",
    "\n",
    "usr_model = futils.User(fp)\n",
    "# igniteidx_lst = ['f23196b034474744bdca7df94b13e0f7']\n",
    "igniteidx_lst = [referenceidx_lst[0]]"
   ]
  },
  {
   "cell_type": "code",
   "execution_count": 15,
   "id": "b2e9c42a-a82c-4443-b011-5dd96885a8ba",
   "metadata": {},
   "outputs": [
    {
     "data": {
      "image/png": "[encoded data removed]",
      "text/plain": [
       "<Figure size 800x800 with 1 Axes>"
      ]
     },
     "metadata": {},
     "output_type": "display_data"
    }
   ],
   "source": [
    "fig, ax = plt.subplots(1,1, figsize=(4,4), dpi=200)\n",
    "plot_matrix(X_0_lst[0], ax=ax, color='red', show_stdev=True)\n",
    "ax.set_aspect('equal')"
   ]
  },
  {
   "cell_type": "code",
   "execution_count": 24,
   "id": "cac99396-cfa8-42c8-8e57-c70f636bc8fc",
   "metadata": {
    "tags": []
   },
   "outputs": [],
   "source": [
    "np.savetxt('../data/X0.csv', X_0_lst[0], delimiter=',')\n",
    "np.savetxt('../data/X1.csv', X_0_lst[1], delimiter=',')\n",
    "np.savetxt('../data/Y.csv', state.Y_1, delimiter=',')\n"
   ]
  },
  {
   "cell_type": "code",
   "execution_count": 23,
   "id": "e5a9e473-f088-402e-9af0-ba2b76184c4a",
   "metadata": {
    "tags": []
   },
   "outputs": [
    {
     "data": {
      "text/html": [
       "<div>\n",
       "<style scoped>\n",
       "    .dataframe tbody tr th:only-of-type {\n",
       "        vertical-align: middle;\n",
       "    }\n",
       "\n",
       "    .dataframe tbody tr th {\n",
       "        vertical-align: top;\n",
       "    }\n",
       "\n",
       "    .dataframe thead th {\n",
       "        text-align: right;\n",
       "    }\n",
       "</style>\n",
       "<table border=\"1\" class=\"dataframe\">\n",
       "  <thead>\n",
       "    <tr style=\"text-align: right;\">\n",
       "      <th></th>\n",
       "      <th>-2.084182688415616518e+06</th>\n",
       "      <th>-2.084205779664864764e+06</th>\n",
       "      <th>-2.084179957089027390e+06</th>\n",
       "      <th>-2.084220246935995761e+06</th>\n",
       "      <th>-2.084226811244132230e+06</th>\n",
       "      <th>-2.084215381476889132e+06</th>\n",
       "      <th>-2.084182384898128919e+06</th>\n",
       "      <th>-2.084240377004966140e+06</th>\n",
       "      <th>-2.084197833753665676e+06</th>\n",
       "      <th>-2.084209398504468380e+06</th>\n",
       "      <th>...</th>\n",
       "      <th>-2.084241259093673434e+06</th>\n",
       "      <th>-2.084257996000177227e+06</th>\n",
       "      <th>-2.084170226518607931e+06</th>\n",
       "      <th>-2.084203851372911129e+06</th>\n",
       "      <th>-2.084297457154373871e+06</th>\n",
       "      <th>-2.084211649769244250e+06</th>\n",
       "      <th>-2.084230050274656387e+06</th>\n",
       "      <th>-2.084206607416129904e+06</th>\n",
       "      <th>-2.084216988439243054e+06</th>\n",
       "      <th>-2.084184874139474239e+06</th>\n",
       "    </tr>\n",
       "  </thead>\n",
       "  <tbody>\n",
       "    <tr>\n",
       "      <th>0</th>\n",
       "      <td>1.503511e+06</td>\n",
       "      <td>1.503541e+06</td>\n",
       "      <td>1.503630e+06</td>\n",
       "      <td>1.503498e+06</td>\n",
       "      <td>1.503592e+06</td>\n",
       "      <td>1.503562e+06</td>\n",
       "      <td>1.503593e+06</td>\n",
       "      <td>1.503483e+06</td>\n",
       "      <td>1.503562e+06</td>\n",
       "      <td>1.503566e+06</td>\n",
       "      <td>...</td>\n",
       "      <td>1.503566e+06</td>\n",
       "      <td>1.503588e+06</td>\n",
       "      <td>1.503539e+06</td>\n",
       "      <td>1.503624e+06</td>\n",
       "      <td>1.503568e+06</td>\n",
       "      <td>1.503561e+06</td>\n",
       "      <td>1.503557e+06</td>\n",
       "      <td>1.503551e+06</td>\n",
       "      <td>1.503563e+06</td>\n",
       "      <td>1.503549e+06</td>\n",
       "    </tr>\n",
       "    <tr>\n",
       "      <th>1</th>\n",
       "      <td>-2.084279e+06</td>\n",
       "      <td>-2.084303e+06</td>\n",
       "      <td>-2.084276e+06</td>\n",
       "      <td>-2.084311e+06</td>\n",
       "      <td>-2.084313e+06</td>\n",
       "      <td>-2.084284e+06</td>\n",
       "      <td>-2.084283e+06</td>\n",
       "      <td>-2.084292e+06</td>\n",
       "      <td>-2.084289e+06</td>\n",
       "      <td>-2.084261e+06</td>\n",
       "      <td>...</td>\n",
       "      <td>-2.084334e+06</td>\n",
       "      <td>-2.084353e+06</td>\n",
       "      <td>-2.084265e+06</td>\n",
       "      <td>-2.084307e+06</td>\n",
       "      <td>-2.084366e+06</td>\n",
       "      <td>-2.084265e+06</td>\n",
       "      <td>-2.084328e+06</td>\n",
       "      <td>-2.084276e+06</td>\n",
       "      <td>-2.084297e+06</td>\n",
       "      <td>-2.084279e+06</td>\n",
       "    </tr>\n",
       "    <tr>\n",
       "      <th>2</th>\n",
       "      <td>1.503526e+06</td>\n",
       "      <td>1.503534e+06</td>\n",
       "      <td>1.503646e+06</td>\n",
       "      <td>1.503527e+06</td>\n",
       "      <td>1.503644e+06</td>\n",
       "      <td>1.503632e+06</td>\n",
       "      <td>1.503606e+06</td>\n",
       "      <td>1.503564e+06</td>\n",
       "      <td>1.503591e+06</td>\n",
       "      <td>1.503628e+06</td>\n",
       "      <td>...</td>\n",
       "      <td>1.503594e+06</td>\n",
       "      <td>1.503611e+06</td>\n",
       "      <td>1.503569e+06</td>\n",
       "      <td>1.503614e+06</td>\n",
       "      <td>1.503634e+06</td>\n",
       "      <td>1.503611e+06</td>\n",
       "      <td>1.503559e+06</td>\n",
       "      <td>1.503540e+06</td>\n",
       "      <td>1.503619e+06</td>\n",
       "      <td>1.503577e+06</td>\n",
       "    </tr>\n",
       "    <tr>\n",
       "      <th>3</th>\n",
       "      <td>-2.084331e+06</td>\n",
       "      <td>-2.084342e+06</td>\n",
       "      <td>-2.084326e+06</td>\n",
       "      <td>-2.084362e+06</td>\n",
       "      <td>-2.084377e+06</td>\n",
       "      <td>-2.084323e+06</td>\n",
       "      <td>-2.084328e+06</td>\n",
       "      <td>-2.084366e+06</td>\n",
       "      <td>-2.084340e+06</td>\n",
       "      <td>-2.084319e+06</td>\n",
       "      <td>...</td>\n",
       "      <td>-2.084378e+06</td>\n",
       "      <td>-2.084395e+06</td>\n",
       "      <td>-2.084337e+06</td>\n",
       "      <td>-2.084353e+06</td>\n",
       "      <td>-2.084413e+06</td>\n",
       "      <td>-2.084282e+06</td>\n",
       "      <td>-2.084383e+06</td>\n",
       "      <td>-2.084323e+06</td>\n",
       "      <td>-2.084348e+06</td>\n",
       "      <td>-2.084321e+06</td>\n",
       "    </tr>\n",
       "    <tr>\n",
       "      <th>4</th>\n",
       "      <td>1.503603e+06</td>\n",
       "      <td>1.503620e+06</td>\n",
       "      <td>1.503722e+06</td>\n",
       "      <td>1.503604e+06</td>\n",
       "      <td>1.503699e+06</td>\n",
       "      <td>1.503718e+06</td>\n",
       "      <td>1.503656e+06</td>\n",
       "      <td>1.503610e+06</td>\n",
       "      <td>1.503658e+06</td>\n",
       "      <td>1.503685e+06</td>\n",
       "      <td>...</td>\n",
       "      <td>1.503673e+06</td>\n",
       "      <td>1.503694e+06</td>\n",
       "      <td>1.503613e+06</td>\n",
       "      <td>1.503672e+06</td>\n",
       "      <td>1.503720e+06</td>\n",
       "      <td>1.503703e+06</td>\n",
       "      <td>1.503624e+06</td>\n",
       "      <td>1.503627e+06</td>\n",
       "      <td>1.503702e+06</td>\n",
       "      <td>1.503643e+06</td>\n",
       "    </tr>\n",
       "    <tr>\n",
       "      <th>...</th>\n",
       "      <td>...</td>\n",
       "      <td>...</td>\n",
       "      <td>...</td>\n",
       "      <td>...</td>\n",
       "      <td>...</td>\n",
       "      <td>...</td>\n",
       "      <td>...</td>\n",
       "      <td>...</td>\n",
       "      <td>...</td>\n",
       "      <td>...</td>\n",
       "      <td>...</td>\n",
       "      <td>...</td>\n",
       "      <td>...</td>\n",
       "      <td>...</td>\n",
       "      <td>...</td>\n",
       "      <td>...</td>\n",
       "      <td>...</td>\n",
       "      <td>...</td>\n",
       "      <td>...</td>\n",
       "      <td>...</td>\n",
       "      <td>...</td>\n",
       "    </tr>\n",
       "    <tr>\n",
       "      <th>194</th>\n",
       "      <td>1.503579e+06</td>\n",
       "      <td>1.503581e+06</td>\n",
       "      <td>1.503615e+06</td>\n",
       "      <td>1.503552e+06</td>\n",
       "      <td>1.503628e+06</td>\n",
       "      <td>1.503672e+06</td>\n",
       "      <td>1.503629e+06</td>\n",
       "      <td>1.503551e+06</td>\n",
       "      <td>1.503614e+06</td>\n",
       "      <td>1.503627e+06</td>\n",
       "      <td>...</td>\n",
       "      <td>1.503622e+06</td>\n",
       "      <td>1.503611e+06</td>\n",
       "      <td>1.503591e+06</td>\n",
       "      <td>1.503663e+06</td>\n",
       "      <td>1.503612e+06</td>\n",
       "      <td>1.503617e+06</td>\n",
       "      <td>1.503592e+06</td>\n",
       "      <td>1.503563e+06</td>\n",
       "      <td>1.503602e+06</td>\n",
       "      <td>1.503594e+06</td>\n",
       "    </tr>\n",
       "    <tr>\n",
       "      <th>195</th>\n",
       "      <td>-2.084123e+06</td>\n",
       "      <td>-2.084134e+06</td>\n",
       "      <td>-2.084116e+06</td>\n",
       "      <td>-2.084145e+06</td>\n",
       "      <td>-2.084144e+06</td>\n",
       "      <td>-2.084140e+06</td>\n",
       "      <td>-2.084144e+06</td>\n",
       "      <td>-2.084201e+06</td>\n",
       "      <td>-2.084105e+06</td>\n",
       "      <td>-2.084122e+06</td>\n",
       "      <td>...</td>\n",
       "      <td>-2.084198e+06</td>\n",
       "      <td>-2.084163e+06</td>\n",
       "      <td>-2.084150e+06</td>\n",
       "      <td>-2.084131e+06</td>\n",
       "      <td>-2.084202e+06</td>\n",
       "      <td>-2.084119e+06</td>\n",
       "      <td>-2.084178e+06</td>\n",
       "      <td>-2.084127e+06</td>\n",
       "      <td>-2.084204e+06</td>\n",
       "      <td>-2.084132e+06</td>\n",
       "    </tr>\n",
       "    <tr>\n",
       "      <th>196</th>\n",
       "      <td>1.503569e+06</td>\n",
       "      <td>1.503559e+06</td>\n",
       "      <td>1.503604e+06</td>\n",
       "      <td>1.503549e+06</td>\n",
       "      <td>1.503610e+06</td>\n",
       "      <td>1.503624e+06</td>\n",
       "      <td>1.503603e+06</td>\n",
       "      <td>1.503548e+06</td>\n",
       "      <td>1.503584e+06</td>\n",
       "      <td>1.503617e+06</td>\n",
       "      <td>...</td>\n",
       "      <td>1.503609e+06</td>\n",
       "      <td>1.503592e+06</td>\n",
       "      <td>1.503581e+06</td>\n",
       "      <td>1.503621e+06</td>\n",
       "      <td>1.503589e+06</td>\n",
       "      <td>1.503589e+06</td>\n",
       "      <td>1.503576e+06</td>\n",
       "      <td>1.503552e+06</td>\n",
       "      <td>1.503647e+06</td>\n",
       "      <td>1.503577e+06</td>\n",
       "    </tr>\n",
       "    <tr>\n",
       "      <th>197</th>\n",
       "      <td>-2.084183e+06</td>\n",
       "      <td>-2.084206e+06</td>\n",
       "      <td>-2.084180e+06</td>\n",
       "      <td>-2.084220e+06</td>\n",
       "      <td>-2.084227e+06</td>\n",
       "      <td>-2.084215e+06</td>\n",
       "      <td>-2.084182e+06</td>\n",
       "      <td>-2.084240e+06</td>\n",
       "      <td>-2.084198e+06</td>\n",
       "      <td>-2.084209e+06</td>\n",
       "      <td>...</td>\n",
       "      <td>-2.084241e+06</td>\n",
       "      <td>-2.084258e+06</td>\n",
       "      <td>-2.084170e+06</td>\n",
       "      <td>-2.084204e+06</td>\n",
       "      <td>-2.084297e+06</td>\n",
       "      <td>-2.084212e+06</td>\n",
       "      <td>-2.084230e+06</td>\n",
       "      <td>-2.084207e+06</td>\n",
       "      <td>-2.084217e+06</td>\n",
       "      <td>-2.084185e+06</td>\n",
       "    </tr>\n",
       "    <tr>\n",
       "      <th>198</th>\n",
       "      <td>1.503511e+06</td>\n",
       "      <td>1.503541e+06</td>\n",
       "      <td>1.503630e+06</td>\n",
       "      <td>1.503498e+06</td>\n",
       "      <td>1.503592e+06</td>\n",
       "      <td>1.503562e+06</td>\n",
       "      <td>1.503593e+06</td>\n",
       "      <td>1.503483e+06</td>\n",
       "      <td>1.503562e+06</td>\n",
       "      <td>1.503566e+06</td>\n",
       "      <td>...</td>\n",
       "      <td>1.503566e+06</td>\n",
       "      <td>1.503588e+06</td>\n",
       "      <td>1.503539e+06</td>\n",
       "      <td>1.503624e+06</td>\n",
       "      <td>1.503568e+06</td>\n",
       "      <td>1.503561e+06</td>\n",
       "      <td>1.503557e+06</td>\n",
       "      <td>1.503551e+06</td>\n",
       "      <td>1.503563e+06</td>\n",
       "      <td>1.503549e+06</td>\n",
       "    </tr>\n",
       "  </tbody>\n",
       "</table>\n",
       "<p>199 rows × 250 columns</p>\n",
       "</div>"
      ],
      "text/plain": [
       "     -2.084182688415616518e+06  -2.084205779664864764e+06  \\\n",
       "0                 1.503511e+06               1.503541e+06   \n",
       "1                -2.084279e+06              -2.084303e+06   \n",
       "2                 1.503526e+06               1.503534e+06   \n",
       "3                -2.084331e+06              -2.084342e+06   \n",
       "4                 1.503603e+06               1.503620e+06   \n",
       "..                         ...                        ...   \n",
       "194               1.503579e+06               1.503581e+06   \n",
       "195              -2.084123e+06              -2.084134e+06   \n",
       "196               1.503569e+06               1.503559e+06   \n",
       "197              -2.084183e+06              -2.084206e+06   \n",
       "198               1.503511e+06               1.503541e+06   \n",
       "\n",
       "     -2.084179957089027390e+06  -2.084220246935995761e+06  \\\n",
       "0                 1.503630e+06               1.503498e+06   \n",
       "1                -2.084276e+06              -2.084311e+06   \n",
       "2                 1.503646e+06               1.503527e+06   \n",
       "3                -2.084326e+06              -2.084362e+06   \n",
       "4                 1.503722e+06               1.503604e+06   \n",
       "..                         ...                        ...   \n",
       "194               1.503615e+06               1.503552e+06   \n",
       "195              -2.084116e+06              -2.084145e+06   \n",
       "196               1.503604e+06               1.503549e+06   \n",
       "197              -2.084180e+06              -2.084220e+06   \n",
       "198               1.503630e+06               1.503498e+06   \n",
       "\n",
       "     -2.084226811244132230e+06  -2.084215381476889132e+06  \\\n",
       "0                 1.503592e+06               1.503562e+06   \n",
       "1                -2.084313e+06              -2.084284e+06   \n",
       "2                 1.503644e+06               1.503632e+06   \n",
       "3                -2.084377e+06              -2.084323e+06   \n",
       "4                 1.503699e+06               1.503718e+06   \n",
       "..                         ...                        ...   \n",
       "194               1.503628e+06               1.503672e+06   \n",
       "195              -2.084144e+06              -2.084140e+06   \n",
       "196               1.503610e+06               1.503624e+06   \n",
       "197              -2.084227e+06              -2.084215e+06   \n",
       "198               1.503592e+06               1.503562e+06   \n",
       "\n",
       "     -2.084182384898128919e+06  -2.084240377004966140e+06  \\\n",
       "0                 1.503593e+06               1.503483e+06   \n",
       "1                -2.084283e+06              -2.084292e+06   \n",
       "2                 1.503606e+06               1.503564e+06   \n",
       "3                -2.084328e+06              -2.084366e+06   \n",
       "4                 1.503656e+06               1.503610e+06   \n",
       "..                         ...                        ...   \n",
       "194               1.503629e+06               1.503551e+06   \n",
       "195              -2.084144e+06              -2.084201e+06   \n",
       "196               1.503603e+06               1.503548e+06   \n",
       "197              -2.084182e+06              -2.084240e+06   \n",
       "198               1.503593e+06               1.503483e+06   \n",
       "\n",
       "     -2.084197833753665676e+06  -2.084209398504468380e+06  ...  \\\n",
       "0                 1.503562e+06               1.503566e+06  ...   \n",
       "1                -2.084289e+06              -2.084261e+06  ...   \n",
       "2                 1.503591e+06               1.503628e+06  ...   \n",
       "3                -2.084340e+06              -2.084319e+06  ...   \n",
       "4                 1.503658e+06               1.503685e+06  ...   \n",
       "..                         ...                        ...  ...   \n",
       "194               1.503614e+06               1.503627e+06  ...   \n",
       "195              -2.084105e+06              -2.084122e+06  ...   \n",
       "196               1.503584e+06               1.503617e+06  ...   \n",
       "197              -2.084198e+06              -2.084209e+06  ...   \n",
       "198               1.503562e+06               1.503566e+06  ...   \n",
       "\n",
       "     -2.084241259093673434e+06  -2.084257996000177227e+06  \\\n",
       "0                 1.503566e+06               1.503588e+06   \n",
       "1                -2.084334e+06              -2.084353e+06   \n",
       "2                 1.503594e+06               1.503611e+06   \n",
       "3                -2.084378e+06              -2.084395e+06   \n",
       "4                 1.503673e+06               1.503694e+06   \n",
       "..                         ...                        ...   \n",
       "194               1.503622e+06               1.503611e+06   \n",
       "195              -2.084198e+06              -2.084163e+06   \n",
       "196               1.503609e+06               1.503592e+06   \n",
       "197              -2.084241e+06              -2.084258e+06   \n",
       "198               1.503566e+06               1.503588e+06   \n",
       "\n",
       "     -2.084170226518607931e+06  -2.084203851372911129e+06  \\\n",
       "0                 1.503539e+06               1.503624e+06   \n",
       "1                -2.084265e+06              -2.084307e+06   \n",
       "2                 1.503569e+06               1.503614e+06   \n",
       "3                -2.084337e+06              -2.084353e+06   \n",
       "4                 1.503613e+06               1.503672e+06   \n",
       "..                         ...                        ...   \n",
       "194               1.503591e+06               1.503663e+06   \n",
       "195              -2.084150e+06              -2.084131e+06   \n",
       "196               1.503581e+06               1.503621e+06   \n",
       "197              -2.084170e+06              -2.084204e+06   \n",
       "198               1.503539e+06               1.503624e+06   \n",
       "\n",
       "     -2.084297457154373871e+06  -2.084211649769244250e+06  \\\n",
       "0                 1.503568e+06               1.503561e+06   \n",
       "1                -2.084366e+06              -2.084265e+06   \n",
       "2                 1.503634e+06               1.503611e+06   \n",
       "3                -2.084413e+06              -2.084282e+06   \n",
       "4                 1.503720e+06               1.503703e+06   \n",
       "..                         ...                        ...   \n",
       "194               1.503612e+06               1.503617e+06   \n",
       "195              -2.084202e+06              -2.084119e+06   \n",
       "196               1.503589e+06               1.503589e+06   \n",
       "197              -2.084297e+06              -2.084212e+06   \n",
       "198               1.503568e+06               1.503561e+06   \n",
       "\n",
       "     -2.084230050274656387e+06  -2.084206607416129904e+06  \\\n",
       "0                 1.503557e+06               1.503551e+06   \n",
       "1                -2.084328e+06              -2.084276e+06   \n",
       "2                 1.503559e+06               1.503540e+06   \n",
       "3                -2.084383e+06              -2.084323e+06   \n",
       "4                 1.503624e+06               1.503627e+06   \n",
       "..                         ...                        ...   \n",
       "194               1.503592e+06               1.503563e+06   \n",
       "195              -2.084178e+06              -2.084127e+06   \n",
       "196               1.503576e+06               1.503552e+06   \n",
       "197              -2.084230e+06              -2.084207e+06   \n",
       "198               1.503557e+06               1.503551e+06   \n",
       "\n",
       "     -2.084216988439243054e+06  -2.084184874139474239e+06  \n",
       "0                 1.503563e+06               1.503549e+06  \n",
       "1                -2.084297e+06              -2.084279e+06  \n",
       "2                 1.503619e+06               1.503577e+06  \n",
       "3                -2.084348e+06              -2.084321e+06  \n",
       "4                 1.503702e+06               1.503643e+06  \n",
       "..                         ...                        ...  \n",
       "194               1.503602e+06               1.503594e+06  \n",
       "195              -2.084204e+06              -2.084132e+06  \n",
       "196               1.503647e+06               1.503577e+06  \n",
       "197              -2.084217e+06              -2.084185e+06  \n",
       "198               1.503563e+06               1.503549e+06  \n",
       "\n",
       "[199 rows x 250 columns]"
      ]
     },
     "execution_count": 23,
     "metadata": {},
     "output_type": "execute_result"
    }
   ],
   "source": []
  },
  {
   "cell_type": "markdown",
   "id": "6dc7f936-1282-42b0-984a-a31ab7646409",
   "metadata": {},
   "source": [
    "### Testing EnKF update function"
   ]
  },
  {
   "cell_type": "code",
   "execution_count": null,
   "id": "3f9e5bbb-177f-4523-81f8-f02f9a608705",
   "metadata": {
    "tags": []
   },
   "outputs": [],
   "source": [
    "# %%time\n",
    "\n",
    "# N = 100\n",
    "# sigma = 50\n",
    "\n",
    "# srange = np.arange(10,1001, 10)\n",
    "# detlst = []\n",
    "\n",
    "# time_estimator = TimeEstimator(len(srange))\n",
    "# for i, s in enumerate(srange):\n",
    "#     print(time_estimator.info_str(i), end='\\r', flush=True)\n",
    "    \n",
    "#     mat = np.random.randn(N,s)*50\n",
    "#     P_mat = np.matmul(mat, mat.T)/(nsamples-1)\n",
    "#     P_mat = P_mat/P_mat.max()\n",
    "    \n",
    "#     detlst.append(np.linalg.det(P_mat))\n",
    "# # P_mat"
   ]
  },
  {
   "cell_type": "code",
   "execution_count": null,
   "id": "aa2c9f1b-53bd-4f7a-be91-0ef3d7fa2c05",
   "metadata": {
    "tags": []
   },
   "outputs": [],
   "source": [
    "# fig, ax = plt.subplots(1,1, figsize=(3,2), dpi=200)\n",
    "# ax.plot(srange, detlst, 'k')\n",
    "# ax.set_ylim(0, 2e-6)\n",
    "\n",
    "# ax2 = ax.twinx()\n",
    "\n",
    "# ax2.semilogy(srange, detlst, 'r')\n",
    "# ax2.set_ylim(1e-50, 1e-5)\n",
    "# ax2.set_yticklabels(ax2.get_yticklabels(), color='red')"
   ]
  },
  {
   "cell_type": "code",
   "execution_count": null,
   "id": "74876d04-45a8-4760-967e-ceea1440ab27",
   "metadata": {
    "tags": []
   },
   "outputs": [],
   "source": [
    "# np.matmul(np.linalg.pinv(P_mat, hermitian=True), P_mat)"
   ]
  },
  {
   "cell_type": "markdown",
   "id": "ca79278e-ce7c-4103-9c4c-0a44bca20834",
   "metadata": {},
   "source": [
    "### Test EnKF is done"
   ]
  },
  {
   "cell_type": "code",
   "execution_count": 16,
   "id": "da16fec2-6b48-4f50-a44b-85863cb096f3",
   "metadata": {
    "scrolled": true,
    "tags": []
   },
   "outputs": [
    {
     "name": "stdout",
     "output_type": "stream",
     "text": [
      "{'description': 'Maria2019', 'igniteidx': '8eb5fb5e36d64bfeb857d9adaf347038', 'compareidx': '51fdaebe31f44ad69272779a3f01182d', 'lcpidx': '43b7f5db36994599861eec4849cc68fd', 'barrieridx': 'cb47616cd2dc4ccc8fd523bd3a5064bb', 'windspeed': 10, 'winddirection': 60, 'relhumid': 90, 'temperature': 20}\n",
      "Choosing a perimeter from the database\n",
      "{'description': 'Maria2019', 'igniteidx': 'e142be3bc2284b67a2932087475444d6', 'compareidx': '51fdaebe31f44ad69272779a3f01182d', 'lcpidx': '43b7f5db36994599861eec4849cc68fd', 'barrieridx': 'cb47616cd2dc4ccc8fd523bd3a5064bb', 'windspeed': 10, 'winddirection': 60, 'relhumid': 90, 'temperature': 20}\n",
      "Choosing a perimeter from the database\n",
      "{'description': 'Maria2019', 'igniteidx': 'f406808c2ddd4c569fd040cf3d994891', 'compareidx': '51fdaebe31f44ad69272779a3f01182d', 'lcpidx': '43b7f5db36994599861eec4849cc68fd', 'barrieridx': 'cb47616cd2dc4ccc8fd523bd3a5064bb', 'windspeed': 10, 'winddirection': 60, 'relhumid': 90, 'temperature': 20}\n",
      "Choosing a perimeter from the database\n",
      "{'description': 'Maria2019', 'igniteidx': '6ebadc03fa164a84bba9cdfb7ac30e18', 'compareidx': '51fdaebe31f44ad69272779a3f01182d', 'lcpidx': '43b7f5db36994599861eec4849cc68fd', 'barrieridx': 'cb47616cd2dc4ccc8fd523bd3a5064bb', 'windspeed': 10, 'winddirection': 60, 'relhumid': 90, 'temperature': 20}\n",
      "Choosing a perimeter from the database\n",
      "{'description': 'Maria2019', 'igniteidx': '08c030e9dcea4ffc9b5f95def0ca9df3', 'compareidx': '51fdaebe31f44ad69272779a3f01182d', 'lcpidx': '43b7f5db36994599861eec4849cc68fd', 'barrieridx': 'cb47616cd2dc4ccc8fd523bd3a5064bb', 'windspeed': 10, 'winddirection': 60, 'relhumid': 90, 'temperature': 20}\n",
      "Choosing a perimeter from the database\n",
      "{'description': 'Maria2019', 'igniteidx': '8d582dd048e74c6095bfdff4b2b4179c', 'compareidx': '51fdaebe31f44ad69272779a3f01182d', 'lcpidx': '43b7f5db36994599861eec4849cc68fd', 'barrieridx': 'cb47616cd2dc4ccc8fd523bd3a5064bb', 'windspeed': 10, 'winddirection': 60, 'relhumid': 90, 'temperature': 20}\n",
      "Choosing a perimeter from the database\n",
      "{'description': 'Maria2019', 'igniteidx': 'a8531a4d67d64142893428eb9cb50327', 'compareidx': '51fdaebe31f44ad69272779a3f01182d', 'lcpidx': '43b7f5db36994599861eec4849cc68fd', 'barrieridx': 'cb47616cd2dc4ccc8fd523bd3a5064bb', 'windspeed': 10, 'winddirection': 60, 'relhumid': 90, 'temperature': 20}\n",
      "Choosing a perimeter from the database\n",
      "{'description': 'Maria2019', 'igniteidx': '2fc9857c749545329fb793a16b80c135', 'compareidx': '51fdaebe31f44ad69272779a3f01182d', 'lcpidx': '43b7f5db36994599861eec4849cc68fd', 'barrieridx': 'cb47616cd2dc4ccc8fd523bd3a5064bb', 'windspeed': 10, 'winddirection': 60, 'relhumid': 90, 'temperature': 20}\n",
      "Choosing a perimeter from the database\n",
      "{'description': 'Maria2019', 'igniteidx': '0488ae4d79aa4268a73867a9b5592adf', 'compareidx': '51fdaebe31f44ad69272779a3f01182d', 'lcpidx': '43b7f5db36994599861eec4849cc68fd', 'barrieridx': 'cb47616cd2dc4ccc8fd523bd3a5064bb', 'windspeed': 10, 'winddirection': 60, 'relhumid': 90, 'temperature': 20}\n",
      "Choosing a perimeter from the database\n",
      "{'description': 'Maria2019', 'igniteidx': '991d6cfc44cd4ab4a7bd47a86ac8bd66', 'compareidx': '51fdaebe31f44ad69272779a3f01182d', 'lcpidx': '43b7f5db36994599861eec4849cc68fd', 'barrieridx': 'cb47616cd2dc4ccc8fd523bd3a5064bb', 'windspeed': 10, 'winddirection': 60, 'relhumid': 90, 'temperature': 20}\n",
      "Choosing a perimeter from the database\n",
      "{'description': 'Maria2019', 'igniteidx': '443202ca22af4647ab2011b75df8d5a9', 'compareidx': '51fdaebe31f44ad69272779a3f01182d', 'lcpidx': '43b7f5db36994599861eec4849cc68fd', 'barrieridx': 'cb47616cd2dc4ccc8fd523bd3a5064bb', 'windspeed': 10, 'winddirection': 60, 'relhumid': 90, 'temperature': 20}\n",
      "Choosing a perimeter from the database\n",
      "{'description': 'Maria2019', 'igniteidx': '6daaac8991e943e7af74b1b7a0e58617', 'compareidx': '51fdaebe31f44ad69272779a3f01182d', 'lcpidx': '43b7f5db36994599861eec4849cc68fd', 'barrieridx': 'cb47616cd2dc4ccc8fd523bd3a5064bb', 'windspeed': 10, 'winddirection': 60, 'relhumid': 90, 'temperature': 20}\n",
      "Choosing a perimeter from the database\n",
      "{'description': 'Maria2019', 'igniteidx': '40e084e9c11c4ccaa05617b2cc561ee2', 'compareidx': '51fdaebe31f44ad69272779a3f01182d', 'lcpidx': '43b7f5db36994599861eec4849cc68fd', 'barrieridx': 'cb47616cd2dc4ccc8fd523bd3a5064bb', 'windspeed': 10, 'winddirection': 60, 'relhumid': 90, 'temperature': 20}\n",
      "Choosing a perimeter from the database\n",
      "{'description': 'Maria2019', 'igniteidx': '1577eef4cc4a4344b6f2538665e7c8a8', 'compareidx': '51fdaebe31f44ad69272779a3f01182d', 'lcpidx': '43b7f5db36994599861eec4849cc68fd', 'barrieridx': 'cb47616cd2dc4ccc8fd523bd3a5064bb', 'windspeed': 10, 'winddirection': 60, 'relhumid': 90, 'temperature': 20}\n",
      "Choosing a perimeter from the database\n",
      "{'description': 'Maria2019', 'igniteidx': 'b9fbd7efa6564d749d85848aa3920bd0', 'compareidx': '51fdaebe31f44ad69272779a3f01182d', 'lcpidx': '43b7f5db36994599861eec4849cc68fd', 'barrieridx': 'cb47616cd2dc4ccc8fd523bd3a5064bb', 'windspeed': 10, 'winddirection': 60, 'relhumid': 90, 'temperature': 20}\n",
      "Choosing a perimeter from the database\n",
      "{'description': 'Maria2019', 'igniteidx': '8f5eef24edd54d90a13a9471d6c512ff', 'compareidx': '51fdaebe31f44ad69272779a3f01182d', 'lcpidx': '43b7f5db36994599861eec4849cc68fd', 'barrieridx': 'cb47616cd2dc4ccc8fd523bd3a5064bb', 'windspeed': 10, 'winddirection': 60, 'relhumid': 90, 'temperature': 20}\n",
      "Choosing a perimeter from the database\n",
      "{'description': 'Maria2019', 'igniteidx': '5761a925076f4d9f80981cf9519cd7fa', 'compareidx': '51fdaebe31f44ad69272779a3f01182d', 'lcpidx': '43b7f5db36994599861eec4849cc68fd', 'barrieridx': 'cb47616cd2dc4ccc8fd523bd3a5064bb', 'windspeed': 10, 'winddirection': 60, 'relhumid': 90, 'temperature': 20}\n",
      "Choosing a perimeter from the database\n",
      "{'description': 'Maria2019', 'igniteidx': 'b0300c0072964285bc9b5fb4c5d5ced9', 'compareidx': '51fdaebe31f44ad69272779a3f01182d', 'lcpidx': '43b7f5db36994599861eec4849cc68fd', 'barrieridx': 'cb47616cd2dc4ccc8fd523bd3a5064bb', 'windspeed': 10, 'winddirection': 60, 'relhumid': 90, 'temperature': 20}\n",
      "Choosing a perimeter from the database\n",
      "{'description': 'Maria2019', 'igniteidx': '9934952f6e99463f8cb6af16cf35ef26', 'compareidx': '51fdaebe31f44ad69272779a3f01182d', 'lcpidx': '43b7f5db36994599861eec4849cc68fd', 'barrieridx': 'cb47616cd2dc4ccc8fd523bd3a5064bb', 'windspeed': 10, 'winddirection': 60, 'relhumid': 90, 'temperature': 20}\n",
      "Choosing a perimeter from the database\n",
      "{'description': 'Maria2019', 'igniteidx': 'daffe98d75d94603a178c52e172acc5f', 'compareidx': '51fdaebe31f44ad69272779a3f01182d', 'lcpidx': '43b7f5db36994599861eec4849cc68fd', 'barrieridx': 'cb47616cd2dc4ccc8fd523bd3a5064bb', 'windspeed': 10, 'winddirection': 60, 'relhumid': 90, 'temperature': 20}\n",
      "Choosing a perimeter from the database\n",
      "{'description': 'Maria2019', 'igniteidx': '9ee2b290300c4ee4a9e0ba9bf4c475b1', 'compareidx': '51fdaebe31f44ad69272779a3f01182d', 'lcpidx': '43b7f5db36994599861eec4849cc68fd', 'barrieridx': 'cb47616cd2dc4ccc8fd523bd3a5064bb', 'windspeed': 10, 'winddirection': 60, 'relhumid': 90, 'temperature': 20}\n",
      "Choosing a perimeter from the database\n",
      "{'description': 'Maria2019', 'igniteidx': 'e1abe3f1557e492a95f689bdd2f12cd6', 'compareidx': '51fdaebe31f44ad69272779a3f01182d', 'lcpidx': '43b7f5db36994599861eec4849cc68fd', 'barrieridx': 'cb47616cd2dc4ccc8fd523bd3a5064bb', 'windspeed': 10, 'winddirection': 60, 'relhumid': 90, 'temperature': 20}\n",
      "Choosing a perimeter from the database\n",
      "{'description': 'Maria2019', 'igniteidx': '80b13e4ef474483eb3474274126c69fc', 'compareidx': '51fdaebe31f44ad69272779a3f01182d', 'lcpidx': '43b7f5db36994599861eec4849cc68fd', 'barrieridx': 'cb47616cd2dc4ccc8fd523bd3a5064bb', 'windspeed': 10, 'winddirection': 60, 'relhumid': 90, 'temperature': 20}\n",
      "Choosing a perimeter from the database\n",
      "{'description': 'Maria2019', 'igniteidx': '22cf979ce0cc4b9abd7c509b772709ea', 'compareidx': '51fdaebe31f44ad69272779a3f01182d', 'lcpidx': '43b7f5db36994599861eec4849cc68fd', 'barrieridx': 'cb47616cd2dc4ccc8fd523bd3a5064bb', 'windspeed': 10, 'winddirection': 60, 'relhumid': 90, 'temperature': 20}\n",
      "Choosing a perimeter from the database\n",
      "{'description': 'Maria2019', 'igniteidx': '314b67c99f1e4556b13a8d5c4e8c6f25', 'compareidx': '51fdaebe31f44ad69272779a3f01182d', 'lcpidx': '43b7f5db36994599861eec4849cc68fd', 'barrieridx': 'cb47616cd2dc4ccc8fd523bd3a5064bb', 'windspeed': 10, 'winddirection': 60, 'relhumid': 90, 'temperature': 20}\n",
      "Choosing a perimeter from the database\n",
      "{'description': 'Maria2019', 'igniteidx': '014a60b1774e4716975fb0853c52adaf', 'compareidx': '51fdaebe31f44ad69272779a3f01182d', 'lcpidx': '43b7f5db36994599861eec4849cc68fd', 'barrieridx': 'cb47616cd2dc4ccc8fd523bd3a5064bb', 'windspeed': 10, 'winddirection': 60, 'relhumid': 90, 'temperature': 20}\n",
      "Choosing a perimeter from the database\n",
      "{'description': 'Maria2019', 'igniteidx': '81dc5997f406421598b438dfa6e4a7f3', 'compareidx': '51fdaebe31f44ad69272779a3f01182d', 'lcpidx': '43b7f5db36994599861eec4849cc68fd', 'barrieridx': 'cb47616cd2dc4ccc8fd523bd3a5064bb', 'windspeed': 10, 'winddirection': 60, 'relhumid': 90, 'temperature': 20}\n",
      "Choosing a perimeter from the database\n",
      "{'description': 'Maria2019', 'igniteidx': 'c2e0cbb16e0544d280dfea94967b3f1e', 'compareidx': '51fdaebe31f44ad69272779a3f01182d', 'lcpidx': '43b7f5db36994599861eec4849cc68fd', 'barrieridx': 'cb47616cd2dc4ccc8fd523bd3a5064bb', 'windspeed': 10, 'winddirection': 60, 'relhumid': 90, 'temperature': 20}\n",
      "Choosing a perimeter from the database\n",
      "{'description': 'Maria2019', 'igniteidx': 'd14dce502fd24e9ab82bbcd4b2c29486', 'compareidx': '51fdaebe31f44ad69272779a3f01182d', 'lcpidx': '43b7f5db36994599861eec4849cc68fd', 'barrieridx': 'cb47616cd2dc4ccc8fd523bd3a5064bb', 'windspeed': 10, 'winddirection': 60, 'relhumid': 90, 'temperature': 20}\n",
      "Choosing a perimeter from the database\n",
      "{'description': 'Maria2019', 'igniteidx': '4f31c9f542e742798f60e2c065705dbe', 'compareidx': '51fdaebe31f44ad69272779a3f01182d', 'lcpidx': '43b7f5db36994599861eec4849cc68fd', 'barrieridx': 'cb47616cd2dc4ccc8fd523bd3a5064bb', 'windspeed': 10, 'winddirection': 60, 'relhumid': 90, 'temperature': 20}\n",
      "Choosing a perimeter from the database\n",
      "{'description': 'Maria2019', 'igniteidx': 'a3804b89b14244aaa3eab69e3f6b2824', 'compareidx': '51fdaebe31f44ad69272779a3f01182d', 'lcpidx': '43b7f5db36994599861eec4849cc68fd', 'barrieridx': 'cb47616cd2dc4ccc8fd523bd3a5064bb', 'windspeed': 10, 'winddirection': 60, 'relhumid': 90, 'temperature': 20}\n",
      "Choosing a perimeter from the database\n",
      "{'description': 'Maria2019', 'igniteidx': 'cd11ac1a7ac7479cbdbd2170df585fd7', 'compareidx': '51fdaebe31f44ad69272779a3f01182d', 'lcpidx': '43b7f5db36994599861eec4849cc68fd', 'barrieridx': 'cb47616cd2dc4ccc8fd523bd3a5064bb', 'windspeed': 10, 'winddirection': 60, 'relhumid': 90, 'temperature': 20}\n",
      "Choosing a perimeter from the database\n",
      "{'description': 'Maria2019', 'igniteidx': 'ef46fc9f014e4bca812a602c5310936e', 'compareidx': '51fdaebe31f44ad69272779a3f01182d', 'lcpidx': '43b7f5db36994599861eec4849cc68fd', 'barrieridx': 'cb47616cd2dc4ccc8fd523bd3a5064bb', 'windspeed': 10, 'winddirection': 60, 'relhumid': 90, 'temperature': 20}\n",
      "Choosing a perimeter from the database\n",
      "{'description': 'Maria2019', 'igniteidx': '6b2593cdc34249ce9aa4cc9449d6e7a4', 'compareidx': '51fdaebe31f44ad69272779a3f01182d', 'lcpidx': '43b7f5db36994599861eec4849cc68fd', 'barrieridx': 'cb47616cd2dc4ccc8fd523bd3a5064bb', 'windspeed': 10, 'winddirection': 60, 'relhumid': 90, 'temperature': 20}\n",
      "Choosing a perimeter from the database\n",
      "{'description': 'Maria2019', 'igniteidx': 'f9c5a915180b4a3eb6d461cb0d90fb62', 'compareidx': '51fdaebe31f44ad69272779a3f01182d', 'lcpidx': '43b7f5db36994599861eec4849cc68fd', 'barrieridx': 'cb47616cd2dc4ccc8fd523bd3a5064bb', 'windspeed': 10, 'winddirection': 60, 'relhumid': 90, 'temperature': 20}\n",
      "Choosing a perimeter from the database\n",
      "{'description': 'Maria2019', 'igniteidx': 'c90c6be1aec54085ba7dc67abd4edad0', 'compareidx': '51fdaebe31f44ad69272779a3f01182d', 'lcpidx': '43b7f5db36994599861eec4849cc68fd', 'barrieridx': 'cb47616cd2dc4ccc8fd523bd3a5064bb', 'windspeed': 10, 'winddirection': 60, 'relhumid': 90, 'temperature': 20}\n",
      "Choosing a perimeter from the database\n",
      "{'description': 'Maria2019', 'igniteidx': 'e647a74aec4e426f8693915152204d67', 'compareidx': '51fdaebe31f44ad69272779a3f01182d', 'lcpidx': '43b7f5db36994599861eec4849cc68fd', 'barrieridx': 'cb47616cd2dc4ccc8fd523bd3a5064bb', 'windspeed': 10, 'winddirection': 60, 'relhumid': 90, 'temperature': 20}\n",
      "Choosing a perimeter from the database\n",
      "{'description': 'Maria2019', 'igniteidx': 'fa2ea531c4864c88a343cab31ed27b25', 'compareidx': '51fdaebe31f44ad69272779a3f01182d', 'lcpidx': '43b7f5db36994599861eec4849cc68fd', 'barrieridx': 'cb47616cd2dc4ccc8fd523bd3a5064bb', 'windspeed': 10, 'winddirection': 60, 'relhumid': 90, 'temperature': 20}\n",
      "Choosing a perimeter from the database\n",
      "{'description': 'Maria2019', 'igniteidx': '754a1d48f78245e5ad3007b9e023dc7b', 'compareidx': '51fdaebe31f44ad69272779a3f01182d', 'lcpidx': '43b7f5db36994599861eec4849cc68fd', 'barrieridx': 'cb47616cd2dc4ccc8fd523bd3a5064bb', 'windspeed': 10, 'winddirection': 60, 'relhumid': 90, 'temperature': 20}\n",
      "Choosing a perimeter from the database\n",
      "{'description': 'Maria2019', 'igniteidx': '9bfbd7589dd446dcaa0109409a6f7a93', 'compareidx': '51fdaebe31f44ad69272779a3f01182d', 'lcpidx': '43b7f5db36994599861eec4849cc68fd', 'barrieridx': 'cb47616cd2dc4ccc8fd523bd3a5064bb', 'windspeed': 10, 'winddirection': 60, 'relhumid': 90, 'temperature': 20}\n",
      "Choosing a perimeter from the database\n",
      "{'description': 'Maria2019', 'igniteidx': 'b4ca05fcf993447f943f6d96c3fc49c7', 'compareidx': '51fdaebe31f44ad69272779a3f01182d', 'lcpidx': '43b7f5db36994599861eec4849cc68fd', 'barrieridx': 'cb47616cd2dc4ccc8fd523bd3a5064bb', 'windspeed': 10, 'winddirection': 60, 'relhumid': 90, 'temperature': 20}\n",
      "Choosing a perimeter from the database\n",
      "{'description': 'Maria2019', 'igniteidx': 'c74b7e8089f44a5ab6cbc808b2931784', 'compareidx': '51fdaebe31f44ad69272779a3f01182d', 'lcpidx': '43b7f5db36994599861eec4849cc68fd', 'barrieridx': 'cb47616cd2dc4ccc8fd523bd3a5064bb', 'windspeed': 10, 'winddirection': 60, 'relhumid': 90, 'temperature': 20}\n",
      "Choosing a perimeter from the database\n",
      "{'description': 'Maria2019', 'igniteidx': 'ed2c8cc6041a495f9b0446f75063854d', 'compareidx': '51fdaebe31f44ad69272779a3f01182d', 'lcpidx': '43b7f5db36994599861eec4849cc68fd', 'barrieridx': 'cb47616cd2dc4ccc8fd523bd3a5064bb', 'windspeed': 10, 'winddirection': 60, 'relhumid': 90, 'temperature': 20}\n",
      "Choosing a perimeter from the database\n",
      "{'description': 'Maria2019', 'igniteidx': '977bc39bc9464be384db45b64f095b72', 'compareidx': '51fdaebe31f44ad69272779a3f01182d', 'lcpidx': '43b7f5db36994599861eec4849cc68fd', 'barrieridx': 'cb47616cd2dc4ccc8fd523bd3a5064bb', 'windspeed': 10, 'winddirection': 60, 'relhumid': 90, 'temperature': 20}\n",
      "Choosing a perimeter from the database\n",
      "{'description': 'Maria2019', 'igniteidx': '9fa5aaaf486842daa3ed2965a49a4975', 'compareidx': '51fdaebe31f44ad69272779a3f01182d', 'lcpidx': '43b7f5db36994599861eec4849cc68fd', 'barrieridx': 'cb47616cd2dc4ccc8fd523bd3a5064bb', 'windspeed': 10, 'winddirection': 60, 'relhumid': 90, 'temperature': 20}\n",
      "Choosing a perimeter from the database\n",
      "{'description': 'Maria2019', 'igniteidx': '030331f1463c49b6817fc9034d2c5bc7', 'compareidx': '51fdaebe31f44ad69272779a3f01182d', 'lcpidx': '43b7f5db36994599861eec4849cc68fd', 'barrieridx': 'cb47616cd2dc4ccc8fd523bd3a5064bb', 'windspeed': 10, 'winddirection': 60, 'relhumid': 90, 'temperature': 20}\n",
      "Choosing a perimeter from the database\n",
      "{'description': 'Maria2019', 'igniteidx': 'fa37d42b7e084887bf643b3eeed05fd0', 'compareidx': '51fdaebe31f44ad69272779a3f01182d', 'lcpidx': '43b7f5db36994599861eec4849cc68fd', 'barrieridx': 'cb47616cd2dc4ccc8fd523bd3a5064bb', 'windspeed': 10, 'winddirection': 60, 'relhumid': 90, 'temperature': 20}\n",
      "Choosing a perimeter from the database\n",
      "{'description': 'Maria2019', 'igniteidx': 'e1c80b59eb81454dadbf7db0c716485c', 'compareidx': '51fdaebe31f44ad69272779a3f01182d', 'lcpidx': '43b7f5db36994599861eec4849cc68fd', 'barrieridx': 'cb47616cd2dc4ccc8fd523bd3a5064bb', 'windspeed': 10, 'winddirection': 60, 'relhumid': 90, 'temperature': 20}\n",
      "Choosing a perimeter from the database\n",
      "{'description': 'Maria2019', 'igniteidx': 'cd87f10fb61444c2823c818ba8aeb4bf', 'compareidx': '51fdaebe31f44ad69272779a3f01182d', 'lcpidx': '43b7f5db36994599861eec4849cc68fd', 'barrieridx': 'cb47616cd2dc4ccc8fd523bd3a5064bb', 'windspeed': 10, 'winddirection': 60, 'relhumid': 90, 'temperature': 20}\n",
      "Choosing a perimeter from the database\n",
      "{'description': 'Maria2019', 'igniteidx': '49a10f38ed814202b865f9fee4574133', 'compareidx': '51fdaebe31f44ad69272779a3f01182d', 'lcpidx': '43b7f5db36994599861eec4849cc68fd', 'barrieridx': 'cb47616cd2dc4ccc8fd523bd3a5064bb', 'windspeed': 10, 'winddirection': 60, 'relhumid': 90, 'temperature': 20}\n",
      "Choosing a perimeter from the database\n",
      "{'description': 'Maria2019', 'igniteidx': 'aba91e4926ad4495b8f6f6721fbf1d5b', 'compareidx': '51fdaebe31f44ad69272779a3f01182d', 'lcpidx': '43b7f5db36994599861eec4849cc68fd', 'barrieridx': 'cb47616cd2dc4ccc8fd523bd3a5064bb', 'windspeed': 10, 'winddirection': 60, 'relhumid': 90, 'temperature': 20}\n",
      "Choosing a perimeter from the database\n",
      "{'description': 'Maria2019', 'igniteidx': 'e1102ac9826849d4911d648d6c0e800d', 'compareidx': '51fdaebe31f44ad69272779a3f01182d', 'lcpidx': '43b7f5db36994599861eec4849cc68fd', 'barrieridx': 'cb47616cd2dc4ccc8fd523bd3a5064bb', 'windspeed': 10, 'winddirection': 60, 'relhumid': 90, 'temperature': 20}\n",
      "Choosing a perimeter from the database\n",
      "{'description': 'Maria2019', 'igniteidx': 'b46b6067dc5340c5a77ccb475bccf5bc', 'compareidx': '51fdaebe31f44ad69272779a3f01182d', 'lcpidx': '43b7f5db36994599861eec4849cc68fd', 'barrieridx': 'cb47616cd2dc4ccc8fd523bd3a5064bb', 'windspeed': 10, 'winddirection': 60, 'relhumid': 90, 'temperature': 20}\n",
      "Choosing a perimeter from the database\n",
      "{'description': 'Maria2019', 'igniteidx': '3b64f0fb972d4a9997b36a1d4973d373', 'compareidx': '51fdaebe31f44ad69272779a3f01182d', 'lcpidx': '43b7f5db36994599861eec4849cc68fd', 'barrieridx': 'cb47616cd2dc4ccc8fd523bd3a5064bb', 'windspeed': 10, 'winddirection': 60, 'relhumid': 90, 'temperature': 20}\n",
      "Choosing a perimeter from the database\n",
      "{'description': 'Maria2019', 'igniteidx': '15864ebc36244e768d96ee18547929bf', 'compareidx': '51fdaebe31f44ad69272779a3f01182d', 'lcpidx': '43b7f5db36994599861eec4849cc68fd', 'barrieridx': 'cb47616cd2dc4ccc8fd523bd3a5064bb', 'windspeed': 10, 'winddirection': 60, 'relhumid': 90, 'temperature': 20}\n",
      "Choosing a perimeter from the database\n",
      "{'description': 'Maria2019', 'igniteidx': 'df76d57b69da4c03a245deb638c69422', 'compareidx': '51fdaebe31f44ad69272779a3f01182d', 'lcpidx': '43b7f5db36994599861eec4849cc68fd', 'barrieridx': 'cb47616cd2dc4ccc8fd523bd3a5064bb', 'windspeed': 10, 'winddirection': 60, 'relhumid': 90, 'temperature': 20}\n",
      "Choosing a perimeter from the database\n",
      "{'description': 'Maria2019', 'igniteidx': '0764adddc3af4498879ca99d98393a26', 'compareidx': '51fdaebe31f44ad69272779a3f01182d', 'lcpidx': '43b7f5db36994599861eec4849cc68fd', 'barrieridx': 'cb47616cd2dc4ccc8fd523bd3a5064bb', 'windspeed': 10, 'winddirection': 60, 'relhumid': 90, 'temperature': 20}\n",
      "Choosing a perimeter from the database\n",
      "{'description': 'Maria2019', 'igniteidx': '2dff8afbe77844bdbecf3f4b150447e9', 'compareidx': '51fdaebe31f44ad69272779a3f01182d', 'lcpidx': '43b7f5db36994599861eec4849cc68fd', 'barrieridx': 'cb47616cd2dc4ccc8fd523bd3a5064bb', 'windspeed': 10, 'winddirection': 60, 'relhumid': 90, 'temperature': 20}\n",
      "Choosing a perimeter from the database\n",
      "{'description': 'Maria2019', 'igniteidx': '9e924da697914871b689d3c1f1f813f0', 'compareidx': '51fdaebe31f44ad69272779a3f01182d', 'lcpidx': '43b7f5db36994599861eec4849cc68fd', 'barrieridx': 'cb47616cd2dc4ccc8fd523bd3a5064bb', 'windspeed': 10, 'winddirection': 60, 'relhumid': 90, 'temperature': 20}\n",
      "Choosing a perimeter from the database\n",
      "{'description': 'Maria2019', 'igniteidx': '6dc5a2cb22f647d8b9ca689ed68dd097', 'compareidx': '51fdaebe31f44ad69272779a3f01182d', 'lcpidx': '43b7f5db36994599861eec4849cc68fd', 'barrieridx': 'cb47616cd2dc4ccc8fd523bd3a5064bb', 'windspeed': 10, 'winddirection': 60, 'relhumid': 90, 'temperature': 20}\n",
      "Choosing a perimeter from the database\n",
      "{'description': 'Maria2019', 'igniteidx': '80de202011bf43cf8bf78cdce6b3c3fd', 'compareidx': '51fdaebe31f44ad69272779a3f01182d', 'lcpidx': '43b7f5db36994599861eec4849cc68fd', 'barrieridx': 'cb47616cd2dc4ccc8fd523bd3a5064bb', 'windspeed': 10, 'winddirection': 60, 'relhumid': 90, 'temperature': 20}\n",
      "Choosing a perimeter from the database\n",
      "{'description': 'Maria2019', 'igniteidx': '6c7736568fec4249962923073440349e', 'compareidx': '51fdaebe31f44ad69272779a3f01182d', 'lcpidx': '43b7f5db36994599861eec4849cc68fd', 'barrieridx': 'cb47616cd2dc4ccc8fd523bd3a5064bb', 'windspeed': 10, 'winddirection': 60, 'relhumid': 90, 'temperature': 20}\n",
      "Choosing a perimeter from the database\n",
      "{'description': 'Maria2019', 'igniteidx': '13c53ba073b94ebb9fdb396e5c9e84c3', 'compareidx': '51fdaebe31f44ad69272779a3f01182d', 'lcpidx': '43b7f5db36994599861eec4849cc68fd', 'barrieridx': 'cb47616cd2dc4ccc8fd523bd3a5064bb', 'windspeed': 10, 'winddirection': 60, 'relhumid': 90, 'temperature': 20}\n",
      "Choosing a perimeter from the database\n",
      "{'description': 'Maria2019', 'igniteidx': '6370edbe4cf549c08f91bd4a30606f4f', 'compareidx': '51fdaebe31f44ad69272779a3f01182d', 'lcpidx': '43b7f5db36994599861eec4849cc68fd', 'barrieridx': 'cb47616cd2dc4ccc8fd523bd3a5064bb', 'windspeed': 10, 'winddirection': 60, 'relhumid': 90, 'temperature': 20}\n",
      "Choosing a perimeter from the database\n",
      "{'description': 'Maria2019', 'igniteidx': '9c3f5c3c5a3449c58042f09c3acb875f', 'compareidx': '51fdaebe31f44ad69272779a3f01182d', 'lcpidx': '43b7f5db36994599861eec4849cc68fd', 'barrieridx': 'cb47616cd2dc4ccc8fd523bd3a5064bb', 'windspeed': 10, 'winddirection': 60, 'relhumid': 90, 'temperature': 20}\n",
      "Choosing a perimeter from the database\n",
      "{'description': 'Maria2019', 'igniteidx': '46f940a5d2e74474ae5ddbefbf18d211', 'compareidx': '51fdaebe31f44ad69272779a3f01182d', 'lcpidx': '43b7f5db36994599861eec4849cc68fd', 'barrieridx': 'cb47616cd2dc4ccc8fd523bd3a5064bb', 'windspeed': 10, 'winddirection': 60, 'relhumid': 90, 'temperature': 20}\n",
      "Choosing a perimeter from the database\n",
      "{'description': 'Maria2019', 'igniteidx': 'c56ac7dbdf514fd5881cae5720bfbdf5', 'compareidx': '51fdaebe31f44ad69272779a3f01182d', 'lcpidx': '43b7f5db36994599861eec4849cc68fd', 'barrieridx': 'cb47616cd2dc4ccc8fd523bd3a5064bb', 'windspeed': 10, 'winddirection': 60, 'relhumid': 90, 'temperature': 20}\n",
      "Choosing a perimeter from the database\n",
      "{'description': 'Maria2019', 'igniteidx': 'f76f4607586c40949a630891f8d0c7ca', 'compareidx': '51fdaebe31f44ad69272779a3f01182d', 'lcpidx': '43b7f5db36994599861eec4849cc68fd', 'barrieridx': 'cb47616cd2dc4ccc8fd523bd3a5064bb', 'windspeed': 10, 'winddirection': 60, 'relhumid': 90, 'temperature': 20}\n",
      "Choosing a perimeter from the database\n",
      "{'description': 'Maria2019', 'igniteidx': 'ed27ed9144944c94bf15b8c8b93e5c47', 'compareidx': '51fdaebe31f44ad69272779a3f01182d', 'lcpidx': '43b7f5db36994599861eec4849cc68fd', 'barrieridx': 'cb47616cd2dc4ccc8fd523bd3a5064bb', 'windspeed': 10, 'winddirection': 60, 'relhumid': 90, 'temperature': 20}\n",
      "Choosing a perimeter from the database\n",
      "{'description': 'Maria2019', 'igniteidx': '667b0240ad864d819c58c024acd4b501', 'compareidx': '51fdaebe31f44ad69272779a3f01182d', 'lcpidx': '43b7f5db36994599861eec4849cc68fd', 'barrieridx': 'cb47616cd2dc4ccc8fd523bd3a5064bb', 'windspeed': 10, 'winddirection': 60, 'relhumid': 90, 'temperature': 20}\n",
      "Choosing a perimeter from the database\n",
      "{'description': 'Maria2019', 'igniteidx': 'a7b46d785b514d26981a313b84ba2e9d', 'compareidx': '51fdaebe31f44ad69272779a3f01182d', 'lcpidx': '43b7f5db36994599861eec4849cc68fd', 'barrieridx': 'cb47616cd2dc4ccc8fd523bd3a5064bb', 'windspeed': 10, 'winddirection': 60, 'relhumid': 90, 'temperature': 20}\n",
      "Choosing a perimeter from the database\n",
      "{'description': 'Maria2019', 'igniteidx': 'e91f1d7c29b547a8b580329dda194959', 'compareidx': '51fdaebe31f44ad69272779a3f01182d', 'lcpidx': '43b7f5db36994599861eec4849cc68fd', 'barrieridx': 'cb47616cd2dc4ccc8fd523bd3a5064bb', 'windspeed': 10, 'winddirection': 60, 'relhumid': 90, 'temperature': 20}\n",
      "Choosing a perimeter from the database\n",
      "{'description': 'Maria2019', 'igniteidx': '9ed9147e8dc94e7eb0135be0c8e1ebc2', 'compareidx': '51fdaebe31f44ad69272779a3f01182d', 'lcpidx': '43b7f5db36994599861eec4849cc68fd', 'barrieridx': 'cb47616cd2dc4ccc8fd523bd3a5064bb', 'windspeed': 10, 'winddirection': 60, 'relhumid': 90, 'temperature': 20}\n",
      "Choosing a perimeter from the database\n",
      "{'description': 'Maria2019', 'igniteidx': '29b059b056dc4c3b8e5b81f11205a020', 'compareidx': '51fdaebe31f44ad69272779a3f01182d', 'lcpidx': '43b7f5db36994599861eec4849cc68fd', 'barrieridx': 'cb47616cd2dc4ccc8fd523bd3a5064bb', 'windspeed': 10, 'winddirection': 60, 'relhumid': 90, 'temperature': 20}\n",
      "Choosing a perimeter from the database\n",
      "{'description': 'Maria2019', 'igniteidx': '25a857e755cf44a793d23c18fac19a92', 'compareidx': '51fdaebe31f44ad69272779a3f01182d', 'lcpidx': '43b7f5db36994599861eec4849cc68fd', 'barrieridx': 'cb47616cd2dc4ccc8fd523bd3a5064bb', 'windspeed': 10, 'winddirection': 60, 'relhumid': 90, 'temperature': 20}\n",
      "Choosing a perimeter from the database\n",
      "{'description': 'Maria2019', 'igniteidx': '195e30ab98b6423680410459e253c8d1', 'compareidx': '51fdaebe31f44ad69272779a3f01182d', 'lcpidx': '43b7f5db36994599861eec4849cc68fd', 'barrieridx': 'cb47616cd2dc4ccc8fd523bd3a5064bb', 'windspeed': 10, 'winddirection': 60, 'relhumid': 90, 'temperature': 20}\n",
      "Choosing a perimeter from the database\n",
      "{'description': 'Maria2019', 'igniteidx': '34cd6a27ad96455ba6498517169bc967', 'compareidx': '51fdaebe31f44ad69272779a3f01182d', 'lcpidx': '43b7f5db36994599861eec4849cc68fd', 'barrieridx': 'cb47616cd2dc4ccc8fd523bd3a5064bb', 'windspeed': 10, 'winddirection': 60, 'relhumid': 90, 'temperature': 20}\n",
      "Choosing a perimeter from the database\n",
      "{'description': 'Maria2019', 'igniteidx': 'ee5632e4e8994fb997dc39ad71c07ddd', 'compareidx': '51fdaebe31f44ad69272779a3f01182d', 'lcpidx': '43b7f5db36994599861eec4849cc68fd', 'barrieridx': 'cb47616cd2dc4ccc8fd523bd3a5064bb', 'windspeed': 10, 'winddirection': 60, 'relhumid': 90, 'temperature': 20}\n",
      "Choosing a perimeter from the database\n",
      "{'description': 'Maria2019', 'igniteidx': 'eeb83c2147fb4007a65cb6d2770b3017', 'compareidx': '51fdaebe31f44ad69272779a3f01182d', 'lcpidx': '43b7f5db36994599861eec4849cc68fd', 'barrieridx': 'cb47616cd2dc4ccc8fd523bd3a5064bb', 'windspeed': 10, 'winddirection': 60, 'relhumid': 90, 'temperature': 20}\n",
      "Choosing a perimeter from the database\n",
      "{'description': 'Maria2019', 'igniteidx': 'c7fe9abfae9d4465b17e189165f84277', 'compareidx': '51fdaebe31f44ad69272779a3f01182d', 'lcpidx': '43b7f5db36994599861eec4849cc68fd', 'barrieridx': 'cb47616cd2dc4ccc8fd523bd3a5064bb', 'windspeed': 10, 'winddirection': 60, 'relhumid': 90, 'temperature': 20}\n",
      "Choosing a perimeter from the database\n",
      "{'description': 'Maria2019', 'igniteidx': '7250c72c3860408ab24ef8e8884eb68b', 'compareidx': '51fdaebe31f44ad69272779a3f01182d', 'lcpidx': '43b7f5db36994599861eec4849cc68fd', 'barrieridx': 'cb47616cd2dc4ccc8fd523bd3a5064bb', 'windspeed': 10, 'winddirection': 60, 'relhumid': 90, 'temperature': 20}\n",
      "Choosing a perimeter from the database\n",
      "{'description': 'Maria2019', 'igniteidx': 'cf17b389f6c94c248b992a0312dc5818', 'compareidx': '51fdaebe31f44ad69272779a3f01182d', 'lcpidx': '43b7f5db36994599861eec4849cc68fd', 'barrieridx': 'cb47616cd2dc4ccc8fd523bd3a5064bb', 'windspeed': 10, 'winddirection': 60, 'relhumid': 90, 'temperature': 20}\n",
      "Choosing a perimeter from the database\n",
      "{'description': 'Maria2019', 'igniteidx': '514c12ebc88348f58a5df538dc843108', 'compareidx': '51fdaebe31f44ad69272779a3f01182d', 'lcpidx': '43b7f5db36994599861eec4849cc68fd', 'barrieridx': 'cb47616cd2dc4ccc8fd523bd3a5064bb', 'windspeed': 10, 'winddirection': 60, 'relhumid': 90, 'temperature': 20}\n",
      "Choosing a perimeter from the database\n",
      "{'description': 'Maria2019', 'igniteidx': 'eecd4d9472454aa9a9d3ce1898a3997b', 'compareidx': '51fdaebe31f44ad69272779a3f01182d', 'lcpidx': '43b7f5db36994599861eec4849cc68fd', 'barrieridx': 'cb47616cd2dc4ccc8fd523bd3a5064bb', 'windspeed': 10, 'winddirection': 60, 'relhumid': 90, 'temperature': 20}\n",
      "Choosing a perimeter from the database\n",
      "{'description': 'Maria2019', 'igniteidx': '9dcedc5a67654bf3958165acac0f6283', 'compareidx': '51fdaebe31f44ad69272779a3f01182d', 'lcpidx': '43b7f5db36994599861eec4849cc68fd', 'barrieridx': 'cb47616cd2dc4ccc8fd523bd3a5064bb', 'windspeed': 10, 'winddirection': 60, 'relhumid': 90, 'temperature': 20}\n",
      "Choosing a perimeter from the database\n",
      "{'description': 'Maria2019', 'igniteidx': '5bfa9659d78d47259857a6a619d87de4', 'compareidx': '51fdaebe31f44ad69272779a3f01182d', 'lcpidx': '43b7f5db36994599861eec4849cc68fd', 'barrieridx': 'cb47616cd2dc4ccc8fd523bd3a5064bb', 'windspeed': 10, 'winddirection': 60, 'relhumid': 90, 'temperature': 20}\n",
      "Choosing a perimeter from the database\n",
      "{'description': 'Maria2019', 'igniteidx': 'cab94d53c19b4c3c98ad1af1b86c6bd4', 'compareidx': '51fdaebe31f44ad69272779a3f01182d', 'lcpidx': '43b7f5db36994599861eec4849cc68fd', 'barrieridx': 'cb47616cd2dc4ccc8fd523bd3a5064bb', 'windspeed': 10, 'winddirection': 60, 'relhumid': 90, 'temperature': 20}\n",
      "Choosing a perimeter from the database\n",
      "{'description': 'Maria2019', 'igniteidx': 'b74cd15207304eec86e27ecf082c6e21', 'compareidx': '51fdaebe31f44ad69272779a3f01182d', 'lcpidx': '43b7f5db36994599861eec4849cc68fd', 'barrieridx': 'cb47616cd2dc4ccc8fd523bd3a5064bb', 'windspeed': 10, 'winddirection': 60, 'relhumid': 90, 'temperature': 20}\n",
      "Choosing a perimeter from the database\n",
      "{'description': 'Maria2019', 'igniteidx': 'ca503f2165bd4bb1a8a7512bda3bbfd1', 'compareidx': '51fdaebe31f44ad69272779a3f01182d', 'lcpidx': '43b7f5db36994599861eec4849cc68fd', 'barrieridx': 'cb47616cd2dc4ccc8fd523bd3a5064bb', 'windspeed': 10, 'winddirection': 60, 'relhumid': 90, 'temperature': 20}\n",
      "Choosing a perimeter from the database\n",
      "{'description': 'Maria2019', 'igniteidx': 'e32d0da0ee664e54ae48fe10f30eba6c', 'compareidx': '51fdaebe31f44ad69272779a3f01182d', 'lcpidx': '43b7f5db36994599861eec4849cc68fd', 'barrieridx': 'cb47616cd2dc4ccc8fd523bd3a5064bb', 'windspeed': 10, 'winddirection': 60, 'relhumid': 90, 'temperature': 20}\n",
      "Choosing a perimeter from the database\n",
      "{'description': 'Maria2019', 'igniteidx': '12be58d2ecf04632966e527b1e184195', 'compareidx': '51fdaebe31f44ad69272779a3f01182d', 'lcpidx': '43b7f5db36994599861eec4849cc68fd', 'barrieridx': 'cb47616cd2dc4ccc8fd523bd3a5064bb', 'windspeed': 10, 'winddirection': 60, 'relhumid': 90, 'temperature': 20}\n",
      "Choosing a perimeter from the database\n",
      "{'description': 'Maria2019', 'igniteidx': 'a71793347dce4e18986cc91ce8739e42', 'compareidx': '51fdaebe31f44ad69272779a3f01182d', 'lcpidx': '43b7f5db36994599861eec4849cc68fd', 'barrieridx': 'cb47616cd2dc4ccc8fd523bd3a5064bb', 'windspeed': 10, 'winddirection': 60, 'relhumid': 90, 'temperature': 20}\n",
      "Choosing a perimeter from the database\n",
      "{'description': 'Maria2019', 'igniteidx': '4f7060dc68d440d9b28fc2fa6336ba9e', 'compareidx': '51fdaebe31f44ad69272779a3f01182d', 'lcpidx': '43b7f5db36994599861eec4849cc68fd', 'barrieridx': 'cb47616cd2dc4ccc8fd523bd3a5064bb', 'windspeed': 10, 'winddirection': 60, 'relhumid': 90, 'temperature': 20}\n",
      "Choosing a perimeter from the database\n",
      "{'description': 'Maria2019', 'igniteidx': '6871ca1377a04b71859ccf4c75d434be', 'compareidx': '51fdaebe31f44ad69272779a3f01182d', 'lcpidx': '43b7f5db36994599861eec4849cc68fd', 'barrieridx': 'cb47616cd2dc4ccc8fd523bd3a5064bb', 'windspeed': 10, 'winddirection': 60, 'relhumid': 90, 'temperature': 20}\n",
      "Choosing a perimeter from the database\n",
      "{'description': 'Maria2019', 'igniteidx': 'b980f36c41b84119b955c64493ff0cdb', 'compareidx': '51fdaebe31f44ad69272779a3f01182d', 'lcpidx': '43b7f5db36994599861eec4849cc68fd', 'barrieridx': 'cb47616cd2dc4ccc8fd523bd3a5064bb', 'windspeed': 10, 'winddirection': 60, 'relhumid': 90, 'temperature': 20}\n",
      "Choosing a perimeter from the database\n",
      "{'description': 'Maria2019', 'igniteidx': 'f813c8119c9c4d42ae7979aef7237d93', 'compareidx': '51fdaebe31f44ad69272779a3f01182d', 'lcpidx': '43b7f5db36994599861eec4849cc68fd', 'barrieridx': 'cb47616cd2dc4ccc8fd523bd3a5064bb', 'windspeed': 10, 'winddirection': 60, 'relhumid': 90, 'temperature': 20}\n",
      "Choosing a perimeter from the database\n",
      "{'description': 'Maria2019', 'igniteidx': 'efb79da2081945968997544de2d52b09', 'compareidx': '51fdaebe31f44ad69272779a3f01182d', 'lcpidx': '43b7f5db36994599861eec4849cc68fd', 'barrieridx': 'cb47616cd2dc4ccc8fd523bd3a5064bb', 'windspeed': 10, 'winddirection': 60, 'relhumid': 90, 'temperature': 20}\n",
      "Choosing a perimeter from the database\n",
      "{'description': 'Maria2019', 'igniteidx': '19a8d72255d3473489e82ea885ca9fbb', 'compareidx': '51fdaebe31f44ad69272779a3f01182d', 'lcpidx': '43b7f5db36994599861eec4849cc68fd', 'barrieridx': 'cb47616cd2dc4ccc8fd523bd3a5064bb', 'windspeed': 10, 'winddirection': 60, 'relhumid': 90, 'temperature': 20}\n",
      "Choosing a perimeter from the database\n",
      "{'description': 'Maria2019', 'igniteidx': 'a0568d382c644656978ca0f53692c866', 'compareidx': '51fdaebe31f44ad69272779a3f01182d', 'lcpidx': '43b7f5db36994599861eec4849cc68fd', 'barrieridx': 'cb47616cd2dc4ccc8fd523bd3a5064bb', 'windspeed': 10, 'winddirection': 60, 'relhumid': 90, 'temperature': 20}\n",
      "Choosing a perimeter from the database\n",
      "{'description': 'Maria2019', 'igniteidx': 'c3aaad6dbb0041189f6624ca84471208', 'compareidx': '51fdaebe31f44ad69272779a3f01182d', 'lcpidx': '43b7f5db36994599861eec4849cc68fd', 'barrieridx': 'cb47616cd2dc4ccc8fd523bd3a5064bb', 'windspeed': 10, 'winddirection': 60, 'relhumid': 90, 'temperature': 20}\n",
      "Choosing a perimeter from the database\n",
      "{'description': 'Maria2019', 'igniteidx': 'c65a125faef3483d91ea48bdaf03e227', 'compareidx': '51fdaebe31f44ad69272779a3f01182d', 'lcpidx': '43b7f5db36994599861eec4849cc68fd', 'barrieridx': 'cb47616cd2dc4ccc8fd523bd3a5064bb', 'windspeed': 10, 'winddirection': 60, 'relhumid': 90, 'temperature': 20}\n",
      "Choosing a perimeter from the database\n",
      "{'description': 'Maria2019', 'igniteidx': 'e6d6953ed5dd45859e9fc12ea087fe68', 'compareidx': '51fdaebe31f44ad69272779a3f01182d', 'lcpidx': '43b7f5db36994599861eec4849cc68fd', 'barrieridx': 'cb47616cd2dc4ccc8fd523bd3a5064bb', 'windspeed': 10, 'winddirection': 60, 'relhumid': 90, 'temperature': 20}\n",
      "Choosing a perimeter from the database\n",
      "{'description': 'Maria2019', 'igniteidx': '5415740c58f04ff3a55bd1d7bfc26264', 'compareidx': '51fdaebe31f44ad69272779a3f01182d', 'lcpidx': '43b7f5db36994599861eec4849cc68fd', 'barrieridx': 'cb47616cd2dc4ccc8fd523bd3a5064bb', 'windspeed': 10, 'winddirection': 60, 'relhumid': 90, 'temperature': 20}\n",
      "Choosing a perimeter from the database\n",
      "{'description': 'Maria2019', 'igniteidx': '24c75cd865c74090abec49c84baf90e1', 'compareidx': '51fdaebe31f44ad69272779a3f01182d', 'lcpidx': '43b7f5db36994599861eec4849cc68fd', 'barrieridx': 'cb47616cd2dc4ccc8fd523bd3a5064bb', 'windspeed': 10, 'winddirection': 60, 'relhumid': 90, 'temperature': 20}\n",
      "Choosing a perimeter from the database\n",
      "{'description': 'Maria2019', 'igniteidx': 'ecde5a9413864c97bed0837ebd0e3758', 'compareidx': '51fdaebe31f44ad69272779a3f01182d', 'lcpidx': '43b7f5db36994599861eec4849cc68fd', 'barrieridx': 'cb47616cd2dc4ccc8fd523bd3a5064bb', 'windspeed': 10, 'winddirection': 60, 'relhumid': 90, 'temperature': 20}\n",
      "Choosing a perimeter from the database\n",
      "{'description': 'Maria2019', 'igniteidx': 'f8df69b14f9d4e5db682c5e5311605c3', 'compareidx': '51fdaebe31f44ad69272779a3f01182d', 'lcpidx': '43b7f5db36994599861eec4849cc68fd', 'barrieridx': 'cb47616cd2dc4ccc8fd523bd3a5064bb', 'windspeed': 10, 'winddirection': 60, 'relhumid': 90, 'temperature': 20}\n",
      "Choosing a perimeter from the database\n",
      "{'description': 'Maria2019', 'igniteidx': 'e1442d24504b4d6f81a27a6d420e9a2b', 'compareidx': '51fdaebe31f44ad69272779a3f01182d', 'lcpidx': '43b7f5db36994599861eec4849cc68fd', 'barrieridx': 'cb47616cd2dc4ccc8fd523bd3a5064bb', 'windspeed': 10, 'winddirection': 60, 'relhumid': 90, 'temperature': 20}\n",
      "Choosing a perimeter from the database\n",
      "{'description': 'Maria2019', 'igniteidx': 'a1e8f43fd5004f2caab8d8eb0f5fbbbe', 'compareidx': '51fdaebe31f44ad69272779a3f01182d', 'lcpidx': '43b7f5db36994599861eec4849cc68fd', 'barrieridx': 'cb47616cd2dc4ccc8fd523bd3a5064bb', 'windspeed': 10, 'winddirection': 60, 'relhumid': 90, 'temperature': 20}\n",
      "Choosing a perimeter from the database\n",
      "{'description': 'Maria2019', 'igniteidx': '2fb59291c5aa4a979b9d26715982fe62', 'compareidx': '51fdaebe31f44ad69272779a3f01182d', 'lcpidx': '43b7f5db36994599861eec4849cc68fd', 'barrieridx': 'cb47616cd2dc4ccc8fd523bd3a5064bb', 'windspeed': 10, 'winddirection': 60, 'relhumid': 90, 'temperature': 20}\n",
      "Choosing a perimeter from the database\n",
      "{'description': 'Maria2019', 'igniteidx': '049dbd47ad9147448589e4f4009d44a2', 'compareidx': '51fdaebe31f44ad69272779a3f01182d', 'lcpidx': '43b7f5db36994599861eec4849cc68fd', 'barrieridx': 'cb47616cd2dc4ccc8fd523bd3a5064bb', 'windspeed': 10, 'winddirection': 60, 'relhumid': 90, 'temperature': 20}\n",
      "Choosing a perimeter from the database\n",
      "{'description': 'Maria2019', 'igniteidx': '40040c6383cb4960bf18032699df319a', 'compareidx': '51fdaebe31f44ad69272779a3f01182d', 'lcpidx': '43b7f5db36994599861eec4849cc68fd', 'barrieridx': 'cb47616cd2dc4ccc8fd523bd3a5064bb', 'windspeed': 10, 'winddirection': 60, 'relhumid': 90, 'temperature': 20}\n",
      "Choosing a perimeter from the database\n",
      "{'description': 'Maria2019', 'igniteidx': '72f5168791c24a9faf213b2039a8190d', 'compareidx': '51fdaebe31f44ad69272779a3f01182d', 'lcpidx': '43b7f5db36994599861eec4849cc68fd', 'barrieridx': 'cb47616cd2dc4ccc8fd523bd3a5064bb', 'windspeed': 10, 'winddirection': 60, 'relhumid': 90, 'temperature': 20}\n",
      "Choosing a perimeter from the database\n",
      "{'description': 'Maria2019', 'igniteidx': 'c4ef6b174e9642198e0aa9a6b23e160f', 'compareidx': '51fdaebe31f44ad69272779a3f01182d', 'lcpidx': '43b7f5db36994599861eec4849cc68fd', 'barrieridx': 'cb47616cd2dc4ccc8fd523bd3a5064bb', 'windspeed': 10, 'winddirection': 60, 'relhumid': 90, 'temperature': 20}\n",
      "Choosing a perimeter from the database\n",
      "{'description': 'Maria2019', 'igniteidx': '8db8ae3f3fc745cb8558b6bc0063a8bd', 'compareidx': '51fdaebe31f44ad69272779a3f01182d', 'lcpidx': '43b7f5db36994599861eec4849cc68fd', 'barrieridx': 'cb47616cd2dc4ccc8fd523bd3a5064bb', 'windspeed': 10, 'winddirection': 60, 'relhumid': 90, 'temperature': 20}\n",
      "Choosing a perimeter from the database\n",
      "{'description': 'Maria2019', 'igniteidx': '4533ec95a9e5484a93f7033ed2cf23f9', 'compareidx': '51fdaebe31f44ad69272779a3f01182d', 'lcpidx': '43b7f5db36994599861eec4849cc68fd', 'barrieridx': 'cb47616cd2dc4ccc8fd523bd3a5064bb', 'windspeed': 10, 'winddirection': 60, 'relhumid': 90, 'temperature': 20}\n",
      "Choosing a perimeter from the database\n",
      "{'description': 'Maria2019', 'igniteidx': '7a3eaabd341540a0b5c8408d820b20a1', 'compareidx': '51fdaebe31f44ad69272779a3f01182d', 'lcpidx': '43b7f5db36994599861eec4849cc68fd', 'barrieridx': 'cb47616cd2dc4ccc8fd523bd3a5064bb', 'windspeed': 10, 'winddirection': 60, 'relhumid': 90, 'temperature': 20}\n",
      "Choosing a perimeter from the database\n",
      "{'description': 'Maria2019', 'igniteidx': '1e9f0ec1bf35480580a303e97ce9437e', 'compareidx': '51fdaebe31f44ad69272779a3f01182d', 'lcpidx': '43b7f5db36994599861eec4849cc68fd', 'barrieridx': 'cb47616cd2dc4ccc8fd523bd3a5064bb', 'windspeed': 10, 'winddirection': 60, 'relhumid': 90, 'temperature': 20}\n",
      "Choosing a perimeter from the database\n",
      "{'description': 'Maria2019', 'igniteidx': '975ec39dc59341dcbd019c3654e934dd', 'compareidx': '51fdaebe31f44ad69272779a3f01182d', 'lcpidx': '43b7f5db36994599861eec4849cc68fd', 'barrieridx': 'cb47616cd2dc4ccc8fd523bd3a5064bb', 'windspeed': 10, 'winddirection': 60, 'relhumid': 90, 'temperature': 20}\n",
      "Choosing a perimeter from the database\n",
      "{'description': 'Maria2019', 'igniteidx': 'b7bb3a3f131b40358edf61d9e83d1b3f', 'compareidx': '51fdaebe31f44ad69272779a3f01182d', 'lcpidx': '43b7f5db36994599861eec4849cc68fd', 'barrieridx': 'cb47616cd2dc4ccc8fd523bd3a5064bb', 'windspeed': 10, 'winddirection': 60, 'relhumid': 90, 'temperature': 20}\n",
      "Choosing a perimeter from the database\n",
      "{'description': 'Maria2019', 'igniteidx': '61e302102b634291ac7052eca9ed7d52', 'compareidx': '51fdaebe31f44ad69272779a3f01182d', 'lcpidx': '43b7f5db36994599861eec4849cc68fd', 'barrieridx': 'cb47616cd2dc4ccc8fd523bd3a5064bb', 'windspeed': 10, 'winddirection': 60, 'relhumid': 90, 'temperature': 20}\n",
      "Choosing a perimeter from the database\n",
      "{'description': 'Maria2019', 'igniteidx': '5bb2a6abfd38412b96a2285db509cbab', 'compareidx': '51fdaebe31f44ad69272779a3f01182d', 'lcpidx': '43b7f5db36994599861eec4849cc68fd', 'barrieridx': 'cb47616cd2dc4ccc8fd523bd3a5064bb', 'windspeed': 10, 'winddirection': 60, 'relhumid': 90, 'temperature': 20}\n",
      "Choosing a perimeter from the database\n",
      "{'description': 'Maria2019', 'igniteidx': 'cee3ddab6a23413cb8fdb165a6f051d9', 'compareidx': '51fdaebe31f44ad69272779a3f01182d', 'lcpidx': '43b7f5db36994599861eec4849cc68fd', 'barrieridx': 'cb47616cd2dc4ccc8fd523bd3a5064bb', 'windspeed': 10, 'winddirection': 60, 'relhumid': 90, 'temperature': 20}\n",
      "Choosing a perimeter from the database\n",
      "{'description': 'Maria2019', 'igniteidx': '377d943b07d749c8acaabd29c7d4a20b', 'compareidx': '51fdaebe31f44ad69272779a3f01182d', 'lcpidx': '43b7f5db36994599861eec4849cc68fd', 'barrieridx': 'cb47616cd2dc4ccc8fd523bd3a5064bb', 'windspeed': 10, 'winddirection': 60, 'relhumid': 90, 'temperature': 20}\n",
      "Choosing a perimeter from the database\n",
      "{'description': 'Maria2019', 'igniteidx': '0e831ab90d0c493b953eec00f518efa8', 'compareidx': '51fdaebe31f44ad69272779a3f01182d', 'lcpidx': '43b7f5db36994599861eec4849cc68fd', 'barrieridx': 'cb47616cd2dc4ccc8fd523bd3a5064bb', 'windspeed': 10, 'winddirection': 60, 'relhumid': 90, 'temperature': 20}\n",
      "Choosing a perimeter from the database\n",
      "{'description': 'Maria2019', 'igniteidx': '3b8bdaf8a58c47a7b0e2c92a3d77a9e5', 'compareidx': '51fdaebe31f44ad69272779a3f01182d', 'lcpidx': '43b7f5db36994599861eec4849cc68fd', 'barrieridx': 'cb47616cd2dc4ccc8fd523bd3a5064bb', 'windspeed': 10, 'winddirection': 60, 'relhumid': 90, 'temperature': 20}\n",
      "Choosing a perimeter from the database\n",
      "{'description': 'Maria2019', 'igniteidx': '77180a88320e420a8a02779bed7d9570', 'compareidx': '51fdaebe31f44ad69272779a3f01182d', 'lcpidx': '43b7f5db36994599861eec4849cc68fd', 'barrieridx': 'cb47616cd2dc4ccc8fd523bd3a5064bb', 'windspeed': 10, 'winddirection': 60, 'relhumid': 90, 'temperature': 20}\n",
      "Choosing a perimeter from the database\n",
      "{'description': 'Maria2019', 'igniteidx': 'cf8e96ea162c4a188c32b9d9fdd2a5c0', 'compareidx': '51fdaebe31f44ad69272779a3f01182d', 'lcpidx': '43b7f5db36994599861eec4849cc68fd', 'barrieridx': 'cb47616cd2dc4ccc8fd523bd3a5064bb', 'windspeed': 10, 'winddirection': 60, 'relhumid': 90, 'temperature': 20}\n",
      "Choosing a perimeter from the database\n",
      "{'description': 'Maria2019', 'igniteidx': '21a05df3269949c2bee9f75bf4cc44e9', 'compareidx': '51fdaebe31f44ad69272779a3f01182d', 'lcpidx': '43b7f5db36994599861eec4849cc68fd', 'barrieridx': 'cb47616cd2dc4ccc8fd523bd3a5064bb', 'windspeed': 10, 'winddirection': 60, 'relhumid': 90, 'temperature': 20}\n",
      "Choosing a perimeter from the database\n",
      "{'description': 'Maria2019', 'igniteidx': 'aff9b91cefd24346a8127d9ee17ad21c', 'compareidx': '51fdaebe31f44ad69272779a3f01182d', 'lcpidx': '43b7f5db36994599861eec4849cc68fd', 'barrieridx': 'cb47616cd2dc4ccc8fd523bd3a5064bb', 'windspeed': 10, 'winddirection': 60, 'relhumid': 90, 'temperature': 20}\n",
      "Choosing a perimeter from the database\n",
      "{'description': 'Maria2019', 'igniteidx': 'c7795737abc74b6785aa37eba3a74bfa', 'compareidx': '51fdaebe31f44ad69272779a3f01182d', 'lcpidx': '43b7f5db36994599861eec4849cc68fd', 'barrieridx': 'cb47616cd2dc4ccc8fd523bd3a5064bb', 'windspeed': 10, 'winddirection': 60, 'relhumid': 90, 'temperature': 20}\n",
      "Choosing a perimeter from the database\n",
      "{'description': 'Maria2019', 'igniteidx': '73905743b466492aa177491f4340f225', 'compareidx': '51fdaebe31f44ad69272779a3f01182d', 'lcpidx': '43b7f5db36994599861eec4849cc68fd', 'barrieridx': 'cb47616cd2dc4ccc8fd523bd3a5064bb', 'windspeed': 10, 'winddirection': 60, 'relhumid': 90, 'temperature': 20}\n",
      "Choosing a perimeter from the database\n",
      "{'description': 'Maria2019', 'igniteidx': 'be811c42755f4fb4a9828ff48db2f3bd', 'compareidx': '51fdaebe31f44ad69272779a3f01182d', 'lcpidx': '43b7f5db36994599861eec4849cc68fd', 'barrieridx': 'cb47616cd2dc4ccc8fd523bd3a5064bb', 'windspeed': 10, 'winddirection': 60, 'relhumid': 90, 'temperature': 20}\n",
      "Choosing a perimeter from the database\n",
      "{'description': 'Maria2019', 'igniteidx': '423a7097479d4d0b9a2149256f1c87ab', 'compareidx': '51fdaebe31f44ad69272779a3f01182d', 'lcpidx': '43b7f5db36994599861eec4849cc68fd', 'barrieridx': 'cb47616cd2dc4ccc8fd523bd3a5064bb', 'windspeed': 10, 'winddirection': 60, 'relhumid': 90, 'temperature': 20}\n",
      "Choosing a perimeter from the database\n",
      "{'description': 'Maria2019', 'igniteidx': 'f2ab6ab4f50640128b0d2273209aa2ba', 'compareidx': '51fdaebe31f44ad69272779a3f01182d', 'lcpidx': '43b7f5db36994599861eec4849cc68fd', 'barrieridx': 'cb47616cd2dc4ccc8fd523bd3a5064bb', 'windspeed': 10, 'winddirection': 60, 'relhumid': 90, 'temperature': 20}\n",
      "Choosing a perimeter from the database\n",
      "{'description': 'Maria2019', 'igniteidx': '871e9ebabe4949939d63685e28f36138', 'compareidx': '51fdaebe31f44ad69272779a3f01182d', 'lcpidx': '43b7f5db36994599861eec4849cc68fd', 'barrieridx': 'cb47616cd2dc4ccc8fd523bd3a5064bb', 'windspeed': 10, 'winddirection': 60, 'relhumid': 90, 'temperature': 20}\n",
      "Choosing a perimeter from the database\n",
      "{'description': 'Maria2019', 'igniteidx': '14cd3eb2109e4958ba70dc4bbe2334b8', 'compareidx': '51fdaebe31f44ad69272779a3f01182d', 'lcpidx': '43b7f5db36994599861eec4849cc68fd', 'barrieridx': 'cb47616cd2dc4ccc8fd523bd3a5064bb', 'windspeed': 10, 'winddirection': 60, 'relhumid': 90, 'temperature': 20}\n",
      "Choosing a perimeter from the database\n",
      "{'description': 'Maria2019', 'igniteidx': 'e63aba551e7e4e54bdbab98e03bcdca8', 'compareidx': '51fdaebe31f44ad69272779a3f01182d', 'lcpidx': '43b7f5db36994599861eec4849cc68fd', 'barrieridx': 'cb47616cd2dc4ccc8fd523bd3a5064bb', 'windspeed': 10, 'winddirection': 60, 'relhumid': 90, 'temperature': 20}\n",
      "Choosing a perimeter from the database\n",
      "{'description': 'Maria2019', 'igniteidx': '4239bb329f6e4744abb085de463d665c', 'compareidx': '51fdaebe31f44ad69272779a3f01182d', 'lcpidx': '43b7f5db36994599861eec4849cc68fd', 'barrieridx': 'cb47616cd2dc4ccc8fd523bd3a5064bb', 'windspeed': 10, 'winddirection': 60, 'relhumid': 90, 'temperature': 20}\n",
      "Choosing a perimeter from the database\n",
      "{'description': 'Maria2019', 'igniteidx': 'c7a08be9075e495095c8423a84ff6fec', 'compareidx': '51fdaebe31f44ad69272779a3f01182d', 'lcpidx': '43b7f5db36994599861eec4849cc68fd', 'barrieridx': 'cb47616cd2dc4ccc8fd523bd3a5064bb', 'windspeed': 10, 'winddirection': 60, 'relhumid': 90, 'temperature': 20}\n",
      "Choosing a perimeter from the database\n",
      "{'description': 'Maria2019', 'igniteidx': 'bad1815b09a24a98bfcfa35bd00fb26c', 'compareidx': '51fdaebe31f44ad69272779a3f01182d', 'lcpidx': '43b7f5db36994599861eec4849cc68fd', 'barrieridx': 'cb47616cd2dc4ccc8fd523bd3a5064bb', 'windspeed': 10, 'winddirection': 60, 'relhumid': 90, 'temperature': 20}\n",
      "Choosing a perimeter from the database\n",
      "{'description': 'Maria2019', 'igniteidx': 'f5442fc37ff340f3be00ff5ef0a9d8f6', 'compareidx': '51fdaebe31f44ad69272779a3f01182d', 'lcpidx': '43b7f5db36994599861eec4849cc68fd', 'barrieridx': 'cb47616cd2dc4ccc8fd523bd3a5064bb', 'windspeed': 10, 'winddirection': 60, 'relhumid': 90, 'temperature': 20}\n",
      "Choosing a perimeter from the database\n",
      "{'description': 'Maria2019', 'igniteidx': 'f1e1cd62f82b419b8a43c78f9330cb01', 'compareidx': '51fdaebe31f44ad69272779a3f01182d', 'lcpidx': '43b7f5db36994599861eec4849cc68fd', 'barrieridx': 'cb47616cd2dc4ccc8fd523bd3a5064bb', 'windspeed': 10, 'winddirection': 60, 'relhumid': 90, 'temperature': 20}\n",
      "Choosing a perimeter from the database\n",
      "{'description': 'Maria2019', 'igniteidx': '4c0dca82db6b443e8d9b614f341114c1', 'compareidx': '51fdaebe31f44ad69272779a3f01182d', 'lcpidx': '43b7f5db36994599861eec4849cc68fd', 'barrieridx': 'cb47616cd2dc4ccc8fd523bd3a5064bb', 'windspeed': 10, 'winddirection': 60, 'relhumid': 90, 'temperature': 20}\n",
      "Choosing a perimeter from the database\n",
      "{'description': 'Maria2019', 'igniteidx': '6b054272c9e44032b1dd1481ed16840e', 'compareidx': '51fdaebe31f44ad69272779a3f01182d', 'lcpidx': '43b7f5db36994599861eec4849cc68fd', 'barrieridx': 'cb47616cd2dc4ccc8fd523bd3a5064bb', 'windspeed': 10, 'winddirection': 60, 'relhumid': 90, 'temperature': 20}\n",
      "Choosing a perimeter from the database\n",
      "{'description': 'Maria2019', 'igniteidx': 'f7555c6c8c1349a28be62f484bd22821', 'compareidx': '51fdaebe31f44ad69272779a3f01182d', 'lcpidx': '43b7f5db36994599861eec4849cc68fd', 'barrieridx': 'cb47616cd2dc4ccc8fd523bd3a5064bb', 'windspeed': 10, 'winddirection': 60, 'relhumid': 90, 'temperature': 20}\n",
      "Choosing a perimeter from the database\n",
      "{'description': 'Maria2019', 'igniteidx': 'b640fa4f5e5b42f6a6bdca41a85b74ac', 'compareidx': '51fdaebe31f44ad69272779a3f01182d', 'lcpidx': '43b7f5db36994599861eec4849cc68fd', 'barrieridx': 'cb47616cd2dc4ccc8fd523bd3a5064bb', 'windspeed': 10, 'winddirection': 60, 'relhumid': 90, 'temperature': 20}\n",
      "Choosing a perimeter from the database\n",
      "{'description': 'Maria2019', 'igniteidx': '0d5de47d86d94e8f9bcc429699c9b0e6', 'compareidx': '51fdaebe31f44ad69272779a3f01182d', 'lcpidx': '43b7f5db36994599861eec4849cc68fd', 'barrieridx': 'cb47616cd2dc4ccc8fd523bd3a5064bb', 'windspeed': 10, 'winddirection': 60, 'relhumid': 90, 'temperature': 20}\n",
      "Choosing a perimeter from the database\n",
      "{'description': 'Maria2019', 'igniteidx': 'f99a13befdc74b7799f9947254034b71', 'compareidx': '51fdaebe31f44ad69272779a3f01182d', 'lcpidx': '43b7f5db36994599861eec4849cc68fd', 'barrieridx': 'cb47616cd2dc4ccc8fd523bd3a5064bb', 'windspeed': 10, 'winddirection': 60, 'relhumid': 90, 'temperature': 20}\n",
      "Choosing a perimeter from the database\n",
      "{'description': 'Maria2019', 'igniteidx': '5bc86b25f58f4dbbaabd1928df8e127d', 'compareidx': '51fdaebe31f44ad69272779a3f01182d', 'lcpidx': '43b7f5db36994599861eec4849cc68fd', 'barrieridx': 'cb47616cd2dc4ccc8fd523bd3a5064bb', 'windspeed': 10, 'winddirection': 60, 'relhumid': 90, 'temperature': 20}\n",
      "Choosing a perimeter from the database\n",
      "{'description': 'Maria2019', 'igniteidx': '164c6037d2de49769fff507d9fd4677e', 'compareidx': '51fdaebe31f44ad69272779a3f01182d', 'lcpidx': '43b7f5db36994599861eec4849cc68fd', 'barrieridx': 'cb47616cd2dc4ccc8fd523bd3a5064bb', 'windspeed': 10, 'winddirection': 60, 'relhumid': 90, 'temperature': 20}\n",
      "Choosing a perimeter from the database\n",
      "{'description': 'Maria2019', 'igniteidx': 'a45ca22cfde14296a47164b9f653278c', 'compareidx': '51fdaebe31f44ad69272779a3f01182d', 'lcpidx': '43b7f5db36994599861eec4849cc68fd', 'barrieridx': 'cb47616cd2dc4ccc8fd523bd3a5064bb', 'windspeed': 10, 'winddirection': 60, 'relhumid': 90, 'temperature': 20}\n",
      "Choosing a perimeter from the database\n",
      "{'description': 'Maria2019', 'igniteidx': '02ff918119754408ac66a8064d8ca234', 'compareidx': '51fdaebe31f44ad69272779a3f01182d', 'lcpidx': '43b7f5db36994599861eec4849cc68fd', 'barrieridx': 'cb47616cd2dc4ccc8fd523bd3a5064bb', 'windspeed': 10, 'winddirection': 60, 'relhumid': 90, 'temperature': 20}\n",
      "Choosing a perimeter from the database\n",
      "{'description': 'Maria2019', 'igniteidx': '51bddfea986c465baf49da251c0c7930', 'compareidx': '51fdaebe31f44ad69272779a3f01182d', 'lcpidx': '43b7f5db36994599861eec4849cc68fd', 'barrieridx': 'cb47616cd2dc4ccc8fd523bd3a5064bb', 'windspeed': 10, 'winddirection': 60, 'relhumid': 90, 'temperature': 20}\n",
      "Choosing a perimeter from the database\n",
      "{'description': 'Maria2019', 'igniteidx': '30a6866b19564f87a97747bc1e99ebf5', 'compareidx': '51fdaebe31f44ad69272779a3f01182d', 'lcpidx': '43b7f5db36994599861eec4849cc68fd', 'barrieridx': 'cb47616cd2dc4ccc8fd523bd3a5064bb', 'windspeed': 10, 'winddirection': 60, 'relhumid': 90, 'temperature': 20}\n",
      "Choosing a perimeter from the database\n",
      "{'description': 'Maria2019', 'igniteidx': 'ce8977b8272a45b294bd692c7a18f3f7', 'compareidx': '51fdaebe31f44ad69272779a3f01182d', 'lcpidx': '43b7f5db36994599861eec4849cc68fd', 'barrieridx': 'cb47616cd2dc4ccc8fd523bd3a5064bb', 'windspeed': 10, 'winddirection': 60, 'relhumid': 90, 'temperature': 20}\n",
      "Choosing a perimeter from the database\n",
      "{'description': 'Maria2019', 'igniteidx': 'cdb0e98568b841038dd191f24005b94c', 'compareidx': '51fdaebe31f44ad69272779a3f01182d', 'lcpidx': '43b7f5db36994599861eec4849cc68fd', 'barrieridx': 'cb47616cd2dc4ccc8fd523bd3a5064bb', 'windspeed': 10, 'winddirection': 60, 'relhumid': 90, 'temperature': 20}\n",
      "Choosing a perimeter from the database\n",
      "{'description': 'Maria2019', 'igniteidx': 'eb04628421af4a03b8908b87c8b760c7', 'compareidx': '51fdaebe31f44ad69272779a3f01182d', 'lcpidx': '43b7f5db36994599861eec4849cc68fd', 'barrieridx': 'cb47616cd2dc4ccc8fd523bd3a5064bb', 'windspeed': 10, 'winddirection': 60, 'relhumid': 90, 'temperature': 20}\n",
      "Choosing a perimeter from the database\n",
      "{'description': 'Maria2019', 'igniteidx': '8d2fe8657bbc4dbf933545b2803bc53a', 'compareidx': '51fdaebe31f44ad69272779a3f01182d', 'lcpidx': '43b7f5db36994599861eec4849cc68fd', 'barrieridx': 'cb47616cd2dc4ccc8fd523bd3a5064bb', 'windspeed': 10, 'winddirection': 60, 'relhumid': 90, 'temperature': 20}\n",
      "Choosing a perimeter from the database\n",
      "{'description': 'Maria2019', 'igniteidx': '138819eb3c88482c8e97ae5e35d77508', 'compareidx': '51fdaebe31f44ad69272779a3f01182d', 'lcpidx': '43b7f5db36994599861eec4849cc68fd', 'barrieridx': 'cb47616cd2dc4ccc8fd523bd3a5064bb', 'windspeed': 10, 'winddirection': 60, 'relhumid': 90, 'temperature': 20}\n",
      "Choosing a perimeter from the database\n",
      "{'description': 'Maria2019', 'igniteidx': '5a369bde1c294da98984db6cca5da750', 'compareidx': '51fdaebe31f44ad69272779a3f01182d', 'lcpidx': '43b7f5db36994599861eec4849cc68fd', 'barrieridx': 'cb47616cd2dc4ccc8fd523bd3a5064bb', 'windspeed': 10, 'winddirection': 60, 'relhumid': 90, 'temperature': 20}\n",
      "Choosing a perimeter from the database\n",
      "{'description': 'Maria2019', 'igniteidx': 'e2f1af663e324943abdd1f0ff6429d65', 'compareidx': '51fdaebe31f44ad69272779a3f01182d', 'lcpidx': '43b7f5db36994599861eec4849cc68fd', 'barrieridx': 'cb47616cd2dc4ccc8fd523bd3a5064bb', 'windspeed': 10, 'winddirection': 60, 'relhumid': 90, 'temperature': 20}\n",
      "Choosing a perimeter from the database\n",
      "{'description': 'Maria2019', 'igniteidx': '32e5950b29c84c11b64a6be6d5da27dc', 'compareidx': '51fdaebe31f44ad69272779a3f01182d', 'lcpidx': '43b7f5db36994599861eec4849cc68fd', 'barrieridx': 'cb47616cd2dc4ccc8fd523bd3a5064bb', 'windspeed': 10, 'winddirection': 60, 'relhumid': 90, 'temperature': 20}\n",
      "Choosing a perimeter from the database\n",
      "{'description': 'Maria2019', 'igniteidx': '4a93c2548bdf450b984a6b39c4aa157c', 'compareidx': '51fdaebe31f44ad69272779a3f01182d', 'lcpidx': '43b7f5db36994599861eec4849cc68fd', 'barrieridx': 'cb47616cd2dc4ccc8fd523bd3a5064bb', 'windspeed': 10, 'winddirection': 60, 'relhumid': 90, 'temperature': 20}\n",
      "Choosing a perimeter from the database\n",
      "{'description': 'Maria2019', 'igniteidx': '3d483a0c14034c3490254d06ed8f2899', 'compareidx': '51fdaebe31f44ad69272779a3f01182d', 'lcpidx': '43b7f5db36994599861eec4849cc68fd', 'barrieridx': 'cb47616cd2dc4ccc8fd523bd3a5064bb', 'windspeed': 10, 'winddirection': 60, 'relhumid': 90, 'temperature': 20}\n",
      "Choosing a perimeter from the database\n",
      "{'description': 'Maria2019', 'igniteidx': '004c510b9c734999bd06735da2ce1c0a', 'compareidx': '51fdaebe31f44ad69272779a3f01182d', 'lcpidx': '43b7f5db36994599861eec4849cc68fd', 'barrieridx': 'cb47616cd2dc4ccc8fd523bd3a5064bb', 'windspeed': 10, 'winddirection': 60, 'relhumid': 90, 'temperature': 20}\n",
      "Choosing a perimeter from the database\n",
      "{'description': 'Maria2019', 'igniteidx': '19bc9a564a96436a879d37a295fecced', 'compareidx': '51fdaebe31f44ad69272779a3f01182d', 'lcpidx': '43b7f5db36994599861eec4849cc68fd', 'barrieridx': 'cb47616cd2dc4ccc8fd523bd3a5064bb', 'windspeed': 10, 'winddirection': 60, 'relhumid': 90, 'temperature': 20}\n",
      "Choosing a perimeter from the database\n",
      "{'description': 'Maria2019', 'igniteidx': '3e151adeccc94d32a9f043538d86d952', 'compareidx': '51fdaebe31f44ad69272779a3f01182d', 'lcpidx': '43b7f5db36994599861eec4849cc68fd', 'barrieridx': 'cb47616cd2dc4ccc8fd523bd3a5064bb', 'windspeed': 10, 'winddirection': 60, 'relhumid': 90, 'temperature': 20}\n",
      "Choosing a perimeter from the database\n",
      "{'description': 'Maria2019', 'igniteidx': '5341efe73bf24fb3b7ab615f855651a2', 'compareidx': '51fdaebe31f44ad69272779a3f01182d', 'lcpidx': '43b7f5db36994599861eec4849cc68fd', 'barrieridx': 'cb47616cd2dc4ccc8fd523bd3a5064bb', 'windspeed': 10, 'winddirection': 60, 'relhumid': 90, 'temperature': 20}\n",
      "Choosing a perimeter from the database\n",
      "{'description': 'Maria2019', 'igniteidx': '592905ebcea443a88e1b3fd779458930', 'compareidx': '51fdaebe31f44ad69272779a3f01182d', 'lcpidx': '43b7f5db36994599861eec4849cc68fd', 'barrieridx': 'cb47616cd2dc4ccc8fd523bd3a5064bb', 'windspeed': 10, 'winddirection': 60, 'relhumid': 90, 'temperature': 20}\n",
      "Choosing a perimeter from the database\n",
      "{'description': 'Maria2019', 'igniteidx': '66addcdc25dc43ed87f14c231dc4c390', 'compareidx': '51fdaebe31f44ad69272779a3f01182d', 'lcpidx': '43b7f5db36994599861eec4849cc68fd', 'barrieridx': 'cb47616cd2dc4ccc8fd523bd3a5064bb', 'windspeed': 10, 'winddirection': 60, 'relhumid': 90, 'temperature': 20}\n",
      "Choosing a perimeter from the database\n",
      "{'description': 'Maria2019', 'igniteidx': 'bc9226de4bc14f85b8dcf6d72914dbee', 'compareidx': '51fdaebe31f44ad69272779a3f01182d', 'lcpidx': '43b7f5db36994599861eec4849cc68fd', 'barrieridx': 'cb47616cd2dc4ccc8fd523bd3a5064bb', 'windspeed': 10, 'winddirection': 60, 'relhumid': 90, 'temperature': 20}\n",
      "Choosing a perimeter from the database\n",
      "{'description': 'Maria2019', 'igniteidx': '72ccf8821c1346b6bd4e336f513081fd', 'compareidx': '51fdaebe31f44ad69272779a3f01182d', 'lcpidx': '43b7f5db36994599861eec4849cc68fd', 'barrieridx': 'cb47616cd2dc4ccc8fd523bd3a5064bb', 'windspeed': 10, 'winddirection': 60, 'relhumid': 90, 'temperature': 20}\n",
      "Choosing a perimeter from the database\n",
      "{'description': 'Maria2019', 'igniteidx': '512e8c90e8cf4a2290410cb13432af9e', 'compareidx': '51fdaebe31f44ad69272779a3f01182d', 'lcpidx': '43b7f5db36994599861eec4849cc68fd', 'barrieridx': 'cb47616cd2dc4ccc8fd523bd3a5064bb', 'windspeed': 10, 'winddirection': 60, 'relhumid': 90, 'temperature': 20}\n",
      "Choosing a perimeter from the database\n",
      "{'description': 'Maria2019', 'igniteidx': '7f280193434d4d8fbeaebee32c4e57f2', 'compareidx': '51fdaebe31f44ad69272779a3f01182d', 'lcpidx': '43b7f5db36994599861eec4849cc68fd', 'barrieridx': 'cb47616cd2dc4ccc8fd523bd3a5064bb', 'windspeed': 10, 'winddirection': 60, 'relhumid': 90, 'temperature': 20}\n",
      "Choosing a perimeter from the database\n",
      "{'description': 'Maria2019', 'igniteidx': '3eaa5b697f4041d6a9f3a7a63ad93417', 'compareidx': '51fdaebe31f44ad69272779a3f01182d', 'lcpidx': '43b7f5db36994599861eec4849cc68fd', 'barrieridx': 'cb47616cd2dc4ccc8fd523bd3a5064bb', 'windspeed': 10, 'winddirection': 60, 'relhumid': 90, 'temperature': 20}\n",
      "Choosing a perimeter from the database\n",
      "{'description': 'Maria2019', 'igniteidx': 'fd2e60866910439b9f67120fa64d324d', 'compareidx': '51fdaebe31f44ad69272779a3f01182d', 'lcpidx': '43b7f5db36994599861eec4849cc68fd', 'barrieridx': 'cb47616cd2dc4ccc8fd523bd3a5064bb', 'windspeed': 10, 'winddirection': 60, 'relhumid': 90, 'temperature': 20}\n",
      "Choosing a perimeter from the database\n",
      "{'description': 'Maria2019', 'igniteidx': '2677b9e216ea42c198e14343e380add9', 'compareidx': '51fdaebe31f44ad69272779a3f01182d', 'lcpidx': '43b7f5db36994599861eec4849cc68fd', 'barrieridx': 'cb47616cd2dc4ccc8fd523bd3a5064bb', 'windspeed': 10, 'winddirection': 60, 'relhumid': 90, 'temperature': 20}\n",
      "Choosing a perimeter from the database\n",
      "{'description': 'Maria2019', 'igniteidx': 'd20751e6a3db4cf081cff7fe74428a18', 'compareidx': '51fdaebe31f44ad69272779a3f01182d', 'lcpidx': '43b7f5db36994599861eec4849cc68fd', 'barrieridx': 'cb47616cd2dc4ccc8fd523bd3a5064bb', 'windspeed': 10, 'winddirection': 60, 'relhumid': 90, 'temperature': 20}\n",
      "Choosing a perimeter from the database\n",
      "{'description': 'Maria2019', 'igniteidx': '120e6ad5d01a4965ab5cc9cdf4b0206d', 'compareidx': '51fdaebe31f44ad69272779a3f01182d', 'lcpidx': '43b7f5db36994599861eec4849cc68fd', 'barrieridx': 'cb47616cd2dc4ccc8fd523bd3a5064bb', 'windspeed': 10, 'winddirection': 60, 'relhumid': 90, 'temperature': 20}\n",
      "Choosing a perimeter from the database\n",
      "{'description': 'Maria2019', 'igniteidx': '551065cb43f34ff3a285fc45404e048f', 'compareidx': '51fdaebe31f44ad69272779a3f01182d', 'lcpidx': '43b7f5db36994599861eec4849cc68fd', 'barrieridx': 'cb47616cd2dc4ccc8fd523bd3a5064bb', 'windspeed': 10, 'winddirection': 60, 'relhumid': 90, 'temperature': 20}\n",
      "Choosing a perimeter from the database\n",
      "{'description': 'Maria2019', 'igniteidx': 'a050bf40c2dc42c4b239f8de2bcf112f', 'compareidx': '51fdaebe31f44ad69272779a3f01182d', 'lcpidx': '43b7f5db36994599861eec4849cc68fd', 'barrieridx': 'cb47616cd2dc4ccc8fd523bd3a5064bb', 'windspeed': 10, 'winddirection': 60, 'relhumid': 90, 'temperature': 20}\n",
      "Choosing a perimeter from the database\n",
      "{'description': 'Maria2019', 'igniteidx': '1bff282a568a48098de0e4cf0e1f5ee4', 'compareidx': '51fdaebe31f44ad69272779a3f01182d', 'lcpidx': '43b7f5db36994599861eec4849cc68fd', 'barrieridx': 'cb47616cd2dc4ccc8fd523bd3a5064bb', 'windspeed': 10, 'winddirection': 60, 'relhumid': 90, 'temperature': 20}\n",
      "Choosing a perimeter from the database\n",
      "{'description': 'Maria2019', 'igniteidx': '59d23b81feaa4039ba5858dddc58d237', 'compareidx': '51fdaebe31f44ad69272779a3f01182d', 'lcpidx': '43b7f5db36994599861eec4849cc68fd', 'barrieridx': 'cb47616cd2dc4ccc8fd523bd3a5064bb', 'windspeed': 10, 'winddirection': 60, 'relhumid': 90, 'temperature': 20}\n",
      "Choosing a perimeter from the database\n",
      "{'description': 'Maria2019', 'igniteidx': '833f49d1f46d4d92b5193bc5366e0785', 'compareidx': '51fdaebe31f44ad69272779a3f01182d', 'lcpidx': '43b7f5db36994599861eec4849cc68fd', 'barrieridx': 'cb47616cd2dc4ccc8fd523bd3a5064bb', 'windspeed': 10, 'winddirection': 60, 'relhumid': 90, 'temperature': 20}\n",
      "Choosing a perimeter from the database\n",
      "{'description': 'Maria2019', 'igniteidx': '81ac3a43c7c04977b06ce71edd5eb6b7', 'compareidx': '51fdaebe31f44ad69272779a3f01182d', 'lcpidx': '43b7f5db36994599861eec4849cc68fd', 'barrieridx': 'cb47616cd2dc4ccc8fd523bd3a5064bb', 'windspeed': 10, 'winddirection': 60, 'relhumid': 90, 'temperature': 20}\n",
      "Choosing a perimeter from the database\n",
      "{'description': 'Maria2019', 'igniteidx': '1ac93d400cc14e7c97f7dc9a8b133500', 'compareidx': '51fdaebe31f44ad69272779a3f01182d', 'lcpidx': '43b7f5db36994599861eec4849cc68fd', 'barrieridx': 'cb47616cd2dc4ccc8fd523bd3a5064bb', 'windspeed': 10, 'winddirection': 60, 'relhumid': 90, 'temperature': 20}\n",
      "Choosing a perimeter from the database\n",
      "{'description': 'Maria2019', 'igniteidx': 'db91cf8a66eb4def851ae0f04caf9f64', 'compareidx': '51fdaebe31f44ad69272779a3f01182d', 'lcpidx': '43b7f5db36994599861eec4849cc68fd', 'barrieridx': 'cb47616cd2dc4ccc8fd523bd3a5064bb', 'windspeed': 10, 'winddirection': 60, 'relhumid': 90, 'temperature': 20}\n",
      "Choosing a perimeter from the database\n",
      "{'description': 'Maria2019', 'igniteidx': '11bb47b57ba54edeabf7a096ccaa95d6', 'compareidx': '51fdaebe31f44ad69272779a3f01182d', 'lcpidx': '43b7f5db36994599861eec4849cc68fd', 'barrieridx': 'cb47616cd2dc4ccc8fd523bd3a5064bb', 'windspeed': 10, 'winddirection': 60, 'relhumid': 90, 'temperature': 20}\n",
      "Choosing a perimeter from the database\n",
      "{'description': 'Maria2019', 'igniteidx': '72d4fbcf073148a8b80ec96360501a9d', 'compareidx': '51fdaebe31f44ad69272779a3f01182d', 'lcpidx': '43b7f5db36994599861eec4849cc68fd', 'barrieridx': 'cb47616cd2dc4ccc8fd523bd3a5064bb', 'windspeed': 10, 'winddirection': 60, 'relhumid': 90, 'temperature': 20}\n",
      "Choosing a perimeter from the database\n",
      "{'description': 'Maria2019', 'igniteidx': 'c68020dc891e49e08785feeb6554a7d9', 'compareidx': '51fdaebe31f44ad69272779a3f01182d', 'lcpidx': '43b7f5db36994599861eec4849cc68fd', 'barrieridx': 'cb47616cd2dc4ccc8fd523bd3a5064bb', 'windspeed': 10, 'winddirection': 60, 'relhumid': 90, 'temperature': 20}\n",
      "Choosing a perimeter from the database\n",
      "{'description': 'Maria2019', 'igniteidx': '931a1ffaf24f429f80c235f3452d18a6', 'compareidx': '51fdaebe31f44ad69272779a3f01182d', 'lcpidx': '43b7f5db36994599861eec4849cc68fd', 'barrieridx': 'cb47616cd2dc4ccc8fd523bd3a5064bb', 'windspeed': 10, 'winddirection': 60, 'relhumid': 90, 'temperature': 20}\n",
      "Choosing a perimeter from the database\n",
      "{'description': 'Maria2019', 'igniteidx': '6c9930814d0f47f18c9cbff4ce3e0dae', 'compareidx': '51fdaebe31f44ad69272779a3f01182d', 'lcpidx': '43b7f5db36994599861eec4849cc68fd', 'barrieridx': 'cb47616cd2dc4ccc8fd523bd3a5064bb', 'windspeed': 10, 'winddirection': 60, 'relhumid': 90, 'temperature': 20}\n",
      "Choosing a perimeter from the database\n",
      "{'description': 'Maria2019', 'igniteidx': 'a6d9b737f9ab40fba79eb4bcf23c8d4d', 'compareidx': '51fdaebe31f44ad69272779a3f01182d', 'lcpidx': '43b7f5db36994599861eec4849cc68fd', 'barrieridx': 'cb47616cd2dc4ccc8fd523bd3a5064bb', 'windspeed': 10, 'winddirection': 60, 'relhumid': 90, 'temperature': 20}\n",
      "Choosing a perimeter from the database\n",
      "{'description': 'Maria2019', 'igniteidx': '0100f15b34294114a983e139e3d3f97b', 'compareidx': '51fdaebe31f44ad69272779a3f01182d', 'lcpidx': '43b7f5db36994599861eec4849cc68fd', 'barrieridx': 'cb47616cd2dc4ccc8fd523bd3a5064bb', 'windspeed': 10, 'winddirection': 60, 'relhumid': 90, 'temperature': 20}\n",
      "Choosing a perimeter from the database\n",
      "{'description': 'Maria2019', 'igniteidx': '368e91a9672c4c5da58ec156a35db8dc', 'compareidx': '51fdaebe31f44ad69272779a3f01182d', 'lcpidx': '43b7f5db36994599861eec4849cc68fd', 'barrieridx': 'cb47616cd2dc4ccc8fd523bd3a5064bb', 'windspeed': 10, 'winddirection': 60, 'relhumid': 90, 'temperature': 20}\n",
      "Choosing a perimeter from the database\n",
      "{'description': 'Maria2019', 'igniteidx': 'e302c6f1fa3847bab6a7fff9878f0ac8', 'compareidx': '51fdaebe31f44ad69272779a3f01182d', 'lcpidx': '43b7f5db36994599861eec4849cc68fd', 'barrieridx': 'cb47616cd2dc4ccc8fd523bd3a5064bb', 'windspeed': 10, 'winddirection': 60, 'relhumid': 90, 'temperature': 20}\n",
      "Choosing a perimeter from the database\n",
      "{'description': 'Maria2019', 'igniteidx': 'ec6c0e63406e477aa6c36680695c70d6', 'compareidx': '51fdaebe31f44ad69272779a3f01182d', 'lcpidx': '43b7f5db36994599861eec4849cc68fd', 'barrieridx': 'cb47616cd2dc4ccc8fd523bd3a5064bb', 'windspeed': 10, 'winddirection': 60, 'relhumid': 90, 'temperature': 20}\n",
      "Choosing a perimeter from the database\n",
      "{'description': 'Maria2019', 'igniteidx': '5acc13a128414b709d66690b7d35069c', 'compareidx': '51fdaebe31f44ad69272779a3f01182d', 'lcpidx': '43b7f5db36994599861eec4849cc68fd', 'barrieridx': 'cb47616cd2dc4ccc8fd523bd3a5064bb', 'windspeed': 10, 'winddirection': 60, 'relhumid': 90, 'temperature': 20}\n",
      "Choosing a perimeter from the database\n",
      "{'description': 'Maria2019', 'igniteidx': 'bee34e8cb7504bb4a797fb1f908b367c', 'compareidx': '51fdaebe31f44ad69272779a3f01182d', 'lcpidx': '43b7f5db36994599861eec4849cc68fd', 'barrieridx': 'cb47616cd2dc4ccc8fd523bd3a5064bb', 'windspeed': 10, 'winddirection': 60, 'relhumid': 90, 'temperature': 20}\n",
      "Choosing a perimeter from the database\n",
      "{'description': 'Maria2019', 'igniteidx': '2348a9366eb54b248c947f0c3ac0d769', 'compareidx': '51fdaebe31f44ad69272779a3f01182d', 'lcpidx': '43b7f5db36994599861eec4849cc68fd', 'barrieridx': 'cb47616cd2dc4ccc8fd523bd3a5064bb', 'windspeed': 10, 'winddirection': 60, 'relhumid': 90, 'temperature': 20}\n",
      "Choosing a perimeter from the database\n",
      "{'description': 'Maria2019', 'igniteidx': '4a9ff068a5204ab6a72cf06828b71dd2', 'compareidx': '51fdaebe31f44ad69272779a3f01182d', 'lcpidx': '43b7f5db36994599861eec4849cc68fd', 'barrieridx': 'cb47616cd2dc4ccc8fd523bd3a5064bb', 'windspeed': 10, 'winddirection': 60, 'relhumid': 90, 'temperature': 20}\n",
      "Choosing a perimeter from the database\n",
      "{'description': 'Maria2019', 'igniteidx': 'bfaac2b3db744a05a88c95307b17ea3d', 'compareidx': '51fdaebe31f44ad69272779a3f01182d', 'lcpidx': '43b7f5db36994599861eec4849cc68fd', 'barrieridx': 'cb47616cd2dc4ccc8fd523bd3a5064bb', 'windspeed': 10, 'winddirection': 60, 'relhumid': 90, 'temperature': 20}\n",
      "Choosing a perimeter from the database\n",
      "{'description': 'Maria2019', 'igniteidx': 'd401175a895a48f698792c1f4b2356f6', 'compareidx': '51fdaebe31f44ad69272779a3f01182d', 'lcpidx': '43b7f5db36994599861eec4849cc68fd', 'barrieridx': 'cb47616cd2dc4ccc8fd523bd3a5064bb', 'windspeed': 10, 'winddirection': 60, 'relhumid': 90, 'temperature': 20}\n",
      "Choosing a perimeter from the database\n",
      "{'description': 'Maria2019', 'igniteidx': 'aa544fd39ced4a3c87c3acb3092ada04', 'compareidx': '51fdaebe31f44ad69272779a3f01182d', 'lcpidx': '43b7f5db36994599861eec4849cc68fd', 'barrieridx': 'cb47616cd2dc4ccc8fd523bd3a5064bb', 'windspeed': 10, 'winddirection': 60, 'relhumid': 90, 'temperature': 20}\n",
      "Choosing a perimeter from the database\n",
      "{'description': 'Maria2019', 'igniteidx': '737a30ca780e4699a1757c47d2bc6e1d', 'compareidx': '51fdaebe31f44ad69272779a3f01182d', 'lcpidx': '43b7f5db36994599861eec4849cc68fd', 'barrieridx': 'cb47616cd2dc4ccc8fd523bd3a5064bb', 'windspeed': 10, 'winddirection': 60, 'relhumid': 90, 'temperature': 20}\n",
      "Choosing a perimeter from the database\n",
      "{'description': 'Maria2019', 'igniteidx': '66b6e6be2c814fc7bd05236a8faf4a4a', 'compareidx': '51fdaebe31f44ad69272779a3f01182d', 'lcpidx': '43b7f5db36994599861eec4849cc68fd', 'barrieridx': 'cb47616cd2dc4ccc8fd523bd3a5064bb', 'windspeed': 10, 'winddirection': 60, 'relhumid': 90, 'temperature': 20}\n",
      "Choosing a perimeter from the database\n",
      "{'description': 'Maria2019', 'igniteidx': '775d0946ec9343d4997d9de283646cbe', 'compareidx': '51fdaebe31f44ad69272779a3f01182d', 'lcpidx': '43b7f5db36994599861eec4849cc68fd', 'barrieridx': 'cb47616cd2dc4ccc8fd523bd3a5064bb', 'windspeed': 10, 'winddirection': 60, 'relhumid': 90, 'temperature': 20}\n",
      "Choosing a perimeter from the database\n",
      "{'description': 'Maria2019', 'igniteidx': '25d19ef3735f4357a11f86e167d8d8b7', 'compareidx': '51fdaebe31f44ad69272779a3f01182d', 'lcpidx': '43b7f5db36994599861eec4849cc68fd', 'barrieridx': 'cb47616cd2dc4ccc8fd523bd3a5064bb', 'windspeed': 10, 'winddirection': 60, 'relhumid': 90, 'temperature': 20}\n",
      "Choosing a perimeter from the database\n",
      "{'description': 'Maria2019', 'igniteidx': '3ba9ebef99b14b7b95899c485489f809', 'compareidx': '51fdaebe31f44ad69272779a3f01182d', 'lcpidx': '43b7f5db36994599861eec4849cc68fd', 'barrieridx': 'cb47616cd2dc4ccc8fd523bd3a5064bb', 'windspeed': 10, 'winddirection': 60, 'relhumid': 90, 'temperature': 20}\n",
      "Choosing a perimeter from the database\n",
      "{'description': 'Maria2019', 'igniteidx': '8640027b0c5d4dbe946ea7d6189cd445', 'compareidx': '51fdaebe31f44ad69272779a3f01182d', 'lcpidx': '43b7f5db36994599861eec4849cc68fd', 'barrieridx': 'cb47616cd2dc4ccc8fd523bd3a5064bb', 'windspeed': 10, 'winddirection': 60, 'relhumid': 90, 'temperature': 20}\n",
      "Choosing a perimeter from the database\n",
      "{'description': 'Maria2019', 'igniteidx': '9e10164706a54787b8ee10abacbda714', 'compareidx': '51fdaebe31f44ad69272779a3f01182d', 'lcpidx': '43b7f5db36994599861eec4849cc68fd', 'barrieridx': 'cb47616cd2dc4ccc8fd523bd3a5064bb', 'windspeed': 10, 'winddirection': 60, 'relhumid': 90, 'temperature': 20}\n",
      "Choosing a perimeter from the database\n",
      "{'description': 'Maria2019', 'igniteidx': '29c093071e074caf8104425d2db63ccf', 'compareidx': '51fdaebe31f44ad69272779a3f01182d', 'lcpidx': '43b7f5db36994599861eec4849cc68fd', 'barrieridx': 'cb47616cd2dc4ccc8fd523bd3a5064bb', 'windspeed': 10, 'winddirection': 60, 'relhumid': 90, 'temperature': 20}\n",
      "Choosing a perimeter from the database\n",
      "{'description': 'Maria2019', 'igniteidx': '513dd2e3e8a04591a1599e88312cb333', 'compareidx': '51fdaebe31f44ad69272779a3f01182d', 'lcpidx': '43b7f5db36994599861eec4849cc68fd', 'barrieridx': 'cb47616cd2dc4ccc8fd523bd3a5064bb', 'windspeed': 10, 'winddirection': 60, 'relhumid': 90, 'temperature': 20}\n",
      "Choosing a perimeter from the database\n",
      "{'description': 'Maria2019', 'igniteidx': '0faaff5e35244eb2b71990b1ac9a2d9e', 'compareidx': '51fdaebe31f44ad69272779a3f01182d', 'lcpidx': '43b7f5db36994599861eec4849cc68fd', 'barrieridx': 'cb47616cd2dc4ccc8fd523bd3a5064bb', 'windspeed': 10, 'winddirection': 60, 'relhumid': 90, 'temperature': 20}\n",
      "Choosing a perimeter from the database\n",
      "{'description': 'Maria2019', 'igniteidx': 'c9800091c2a0404793e7051f4e735b08', 'compareidx': '51fdaebe31f44ad69272779a3f01182d', 'lcpidx': '43b7f5db36994599861eec4849cc68fd', 'barrieridx': 'cb47616cd2dc4ccc8fd523bd3a5064bb', 'windspeed': 10, 'winddirection': 60, 'relhumid': 90, 'temperature': 20}\n",
      "Choosing a perimeter from the database\n",
      "{'description': 'Maria2019', 'igniteidx': '06232bb4b2e4444a84f861e7d633c5cd', 'compareidx': '51fdaebe31f44ad69272779a3f01182d', 'lcpidx': '43b7f5db36994599861eec4849cc68fd', 'barrieridx': 'cb47616cd2dc4ccc8fd523bd3a5064bb', 'windspeed': 10, 'winddirection': 60, 'relhumid': 90, 'temperature': 20}\n",
      "Choosing a perimeter from the database\n",
      "{'description': 'Maria2019', 'igniteidx': 'b270bbc076c14b2ba639fab80e3aa4cf', 'compareidx': '51fdaebe31f44ad69272779a3f01182d', 'lcpidx': '43b7f5db36994599861eec4849cc68fd', 'barrieridx': 'cb47616cd2dc4ccc8fd523bd3a5064bb', 'windspeed': 10, 'winddirection': 60, 'relhumid': 90, 'temperature': 20}\n",
      "Choosing a perimeter from the database\n",
      "{'description': 'Maria2019', 'igniteidx': '6786568208994ca3a36722ce4d2a77b8', 'compareidx': '51fdaebe31f44ad69272779a3f01182d', 'lcpidx': '43b7f5db36994599861eec4849cc68fd', 'barrieridx': 'cb47616cd2dc4ccc8fd523bd3a5064bb', 'windspeed': 10, 'winddirection': 60, 'relhumid': 90, 'temperature': 20}\n",
      "Choosing a perimeter from the database\n",
      "{'description': 'Maria2019', 'igniteidx': 'ad34328f2ae947c3a04540aecaaf02ed', 'compareidx': '51fdaebe31f44ad69272779a3f01182d', 'lcpidx': '43b7f5db36994599861eec4849cc68fd', 'barrieridx': 'cb47616cd2dc4ccc8fd523bd3a5064bb', 'windspeed': 10, 'winddirection': 60, 'relhumid': 90, 'temperature': 20}\n",
      "Choosing a perimeter from the database\n",
      "{'description': 'Maria2019', 'igniteidx': '348fb8f5899f46839554edb13c13fefd', 'compareidx': '51fdaebe31f44ad69272779a3f01182d', 'lcpidx': '43b7f5db36994599861eec4849cc68fd', 'barrieridx': 'cb47616cd2dc4ccc8fd523bd3a5064bb', 'windspeed': 10, 'winddirection': 60, 'relhumid': 90, 'temperature': 20}\n",
      "Choosing a perimeter from the database\n",
      "{'description': 'Maria2019', 'igniteidx': 'eec9ad56510e423995a9dc2dbb1420a9', 'compareidx': '51fdaebe31f44ad69272779a3f01182d', 'lcpidx': '43b7f5db36994599861eec4849cc68fd', 'barrieridx': 'cb47616cd2dc4ccc8fd523bd3a5064bb', 'windspeed': 10, 'winddirection': 60, 'relhumid': 90, 'temperature': 20}\n",
      "Choosing a perimeter from the database\n",
      "{'description': 'Maria2019', 'igniteidx': 'ebb61a81747243f089e0f988533b88aa', 'compareidx': '51fdaebe31f44ad69272779a3f01182d', 'lcpidx': '43b7f5db36994599861eec4849cc68fd', 'barrieridx': 'cb47616cd2dc4ccc8fd523bd3a5064bb', 'windspeed': 10, 'winddirection': 60, 'relhumid': 90, 'temperature': 20}\n",
      "Choosing a perimeter from the database\n",
      "{'description': 'Maria2019', 'igniteidx': 'd238e707adb246cea3859627f12027d9', 'compareidx': '51fdaebe31f44ad69272779a3f01182d', 'lcpidx': '43b7f5db36994599861eec4849cc68fd', 'barrieridx': 'cb47616cd2dc4ccc8fd523bd3a5064bb', 'windspeed': 10, 'winddirection': 60, 'relhumid': 90, 'temperature': 20}\n",
      "Choosing a perimeter from the database\n",
      "{'description': 'Maria2019', 'igniteidx': '25bd2d3069374b32bcbed90d2a071b72', 'compareidx': '51fdaebe31f44ad69272779a3f01182d', 'lcpidx': '43b7f5db36994599861eec4849cc68fd', 'barrieridx': 'cb47616cd2dc4ccc8fd523bd3a5064bb', 'windspeed': 10, 'winddirection': 60, 'relhumid': 90, 'temperature': 20}\n",
      "Choosing a perimeter from the database\n",
      "{'description': 'Maria2019', 'igniteidx': 'cff3db78bbee4b9db0f9514de2889d6b', 'compareidx': '51fdaebe31f44ad69272779a3f01182d', 'lcpidx': '43b7f5db36994599861eec4849cc68fd', 'barrieridx': 'cb47616cd2dc4ccc8fd523bd3a5064bb', 'windspeed': 10, 'winddirection': 60, 'relhumid': 90, 'temperature': 20}\n",
      "Choosing a perimeter from the database\n",
      "{'description': 'Maria2019', 'igniteidx': 'a4c826a876874b6382b0347cfe9de16c', 'compareidx': '51fdaebe31f44ad69272779a3f01182d', 'lcpidx': '43b7f5db36994599861eec4849cc68fd', 'barrieridx': 'cb47616cd2dc4ccc8fd523bd3a5064bb', 'windspeed': 10, 'winddirection': 60, 'relhumid': 90, 'temperature': 20}\n",
      "Choosing a perimeter from the database\n",
      "{'description': 'Maria2019', 'igniteidx': '60f167a6133042389d1a80b2e99a5cd3', 'compareidx': '51fdaebe31f44ad69272779a3f01182d', 'lcpidx': '43b7f5db36994599861eec4849cc68fd', 'barrieridx': 'cb47616cd2dc4ccc8fd523bd3a5064bb', 'windspeed': 10, 'winddirection': 60, 'relhumid': 90, 'temperature': 20}\n",
      "Choosing a perimeter from the database\n",
      "{'description': 'Maria2019', 'igniteidx': '9cb63f0d24e64f7099765430e140d1e6', 'compareidx': '51fdaebe31f44ad69272779a3f01182d', 'lcpidx': '43b7f5db36994599861eec4849cc68fd', 'barrieridx': 'cb47616cd2dc4ccc8fd523bd3a5064bb', 'windspeed': 10, 'winddirection': 60, 'relhumid': 90, 'temperature': 20}\n",
      "Choosing a perimeter from the database\n",
      "{'description': 'Maria2019', 'igniteidx': 'c46a20e0321e46039ab291760bada7ef', 'compareidx': '51fdaebe31f44ad69272779a3f01182d', 'lcpidx': '43b7f5db36994599861eec4849cc68fd', 'barrieridx': 'cb47616cd2dc4ccc8fd523bd3a5064bb', 'windspeed': 10, 'winddirection': 60, 'relhumid': 90, 'temperature': 20}\n",
      "Choosing a perimeter from the database\n",
      "{'description': 'Maria2019', 'igniteidx': 'af628ef5df0c45babc7eceab2b77ca46', 'compareidx': '51fdaebe31f44ad69272779a3f01182d', 'lcpidx': '43b7f5db36994599861eec4849cc68fd', 'barrieridx': 'cb47616cd2dc4ccc8fd523bd3a5064bb', 'windspeed': 10, 'winddirection': 60, 'relhumid': 90, 'temperature': 20}\n",
      "Choosing a perimeter from the database\n",
      "{'description': 'Maria2019', 'igniteidx': 'b318f7b5e4654a6baf663e7b89d358a1', 'compareidx': '51fdaebe31f44ad69272779a3f01182d', 'lcpidx': '43b7f5db36994599861eec4849cc68fd', 'barrieridx': 'cb47616cd2dc4ccc8fd523bd3a5064bb', 'windspeed': 10, 'winddirection': 60, 'relhumid': 90, 'temperature': 20}\n",
      "Choosing a perimeter from the database\n",
      "{'description': 'Maria2019', 'igniteidx': '417caf4fc5fa4b8cbdaa11b57a0f236c', 'compareidx': '51fdaebe31f44ad69272779a3f01182d', 'lcpidx': '43b7f5db36994599861eec4849cc68fd', 'barrieridx': 'cb47616cd2dc4ccc8fd523bd3a5064bb', 'windspeed': 10, 'winddirection': 60, 'relhumid': 90, 'temperature': 20}\n",
      "Choosing a perimeter from the database\n",
      "{'description': 'Maria2019', 'igniteidx': '76bd7a461c524711967f87f772045436', 'compareidx': '51fdaebe31f44ad69272779a3f01182d', 'lcpidx': '43b7f5db36994599861eec4849cc68fd', 'barrieridx': 'cb47616cd2dc4ccc8fd523bd3a5064bb', 'windspeed': 10, 'winddirection': 60, 'relhumid': 90, 'temperature': 20}\n",
      "Choosing a perimeter from the database\n",
      "{'description': 'Maria2019', 'igniteidx': '84828534acdc4d1aa4107fb9ee011d5f', 'compareidx': '51fdaebe31f44ad69272779a3f01182d', 'lcpidx': '43b7f5db36994599861eec4849cc68fd', 'barrieridx': 'cb47616cd2dc4ccc8fd523bd3a5064bb', 'windspeed': 10, 'winddirection': 60, 'relhumid': 90, 'temperature': 20}\n",
      "Choosing a perimeter from the database\n",
      "{'description': 'Maria2019', 'igniteidx': 'a83efd26caa54337a15e2fa52247002f', 'compareidx': '51fdaebe31f44ad69272779a3f01182d', 'lcpidx': '43b7f5db36994599861eec4849cc68fd', 'barrieridx': 'cb47616cd2dc4ccc8fd523bd3a5064bb', 'windspeed': 10, 'winddirection': 60, 'relhumid': 90, 'temperature': 20}\n",
      "Choosing a perimeter from the database\n",
      "{'description': 'Maria2019', 'igniteidx': '61cb20e2c2cc43519751cede954ba97f', 'compareidx': '51fdaebe31f44ad69272779a3f01182d', 'lcpidx': '43b7f5db36994599861eec4849cc68fd', 'barrieridx': 'cb47616cd2dc4ccc8fd523bd3a5064bb', 'windspeed': 10, 'winddirection': 60, 'relhumid': 90, 'temperature': 20}\n",
      "Choosing a perimeter from the database\n",
      "{'description': 'Maria2019', 'igniteidx': 'c6b480d8347f4946b804c4f530ff87d4', 'compareidx': '51fdaebe31f44ad69272779a3f01182d', 'lcpidx': '43b7f5db36994599861eec4849cc68fd', 'barrieridx': 'cb47616cd2dc4ccc8fd523bd3a5064bb', 'windspeed': 10, 'winddirection': 60, 'relhumid': 90, 'temperature': 20}\n",
      "Choosing a perimeter from the database\n",
      "{'description': 'Maria2019', 'igniteidx': '6f87de07ab794a2bac7ac803eee95838', 'compareidx': '51fdaebe31f44ad69272779a3f01182d', 'lcpidx': '43b7f5db36994599861eec4849cc68fd', 'barrieridx': 'cb47616cd2dc4ccc8fd523bd3a5064bb', 'windspeed': 10, 'winddirection': 60, 'relhumid': 90, 'temperature': 20}\n",
      "Choosing a perimeter from the database\n",
      "{'description': 'Maria2019', 'igniteidx': '512249c6e94f4a4f8682605f2411f677', 'compareidx': '51fdaebe31f44ad69272779a3f01182d', 'lcpidx': '43b7f5db36994599861eec4849cc68fd', 'barrieridx': 'cb47616cd2dc4ccc8fd523bd3a5064bb', 'windspeed': 10, 'winddirection': 60, 'relhumid': 90, 'temperature': 20}\n",
      "Choosing a perimeter from the database\n",
      "{'description': 'Maria2019', 'igniteidx': '5870be5a56294111b2cc577a4621026d', 'compareidx': '51fdaebe31f44ad69272779a3f01182d', 'lcpidx': '43b7f5db36994599861eec4849cc68fd', 'barrieridx': 'cb47616cd2dc4ccc8fd523bd3a5064bb', 'windspeed': 10, 'winddirection': 60, 'relhumid': 90, 'temperature': 20}\n",
      "Choosing a perimeter from the database\n",
      "{'description': 'Maria2019', 'igniteidx': '37224f43c3fc4a57b9b02fde799c24eb', 'compareidx': '51fdaebe31f44ad69272779a3f01182d', 'lcpidx': '43b7f5db36994599861eec4849cc68fd', 'barrieridx': 'cb47616cd2dc4ccc8fd523bd3a5064bb', 'windspeed': 10, 'winddirection': 60, 'relhumid': 90, 'temperature': 20}\n",
      "Choosing a perimeter from the database\n",
      "{'description': 'Maria2019', 'igniteidx': '7212797012eb449db04679bde5ea84bf', 'compareidx': '51fdaebe31f44ad69272779a3f01182d', 'lcpidx': '43b7f5db36994599861eec4849cc68fd', 'barrieridx': 'cb47616cd2dc4ccc8fd523bd3a5064bb', 'windspeed': 10, 'winddirection': 60, 'relhumid': 90, 'temperature': 20}\n",
      "Choosing a perimeter from the database\n",
      "{'description': 'Maria2019', 'igniteidx': 'd33b6c0b1fb04313b11876942a43082a', 'compareidx': '51fdaebe31f44ad69272779a3f01182d', 'lcpidx': '43b7f5db36994599861eec4849cc68fd', 'barrieridx': 'cb47616cd2dc4ccc8fd523bd3a5064bb', 'windspeed': 10, 'winddirection': 60, 'relhumid': 90, 'temperature': 20}\n",
      "Choosing a perimeter from the database\n",
      "{'description': 'Maria2019', 'igniteidx': '40ded2034bc74d9a97ca9c6b87d19bd4', 'compareidx': '51fdaebe31f44ad69272779a3f01182d', 'lcpidx': '43b7f5db36994599861eec4849cc68fd', 'barrieridx': 'cb47616cd2dc4ccc8fd523bd3a5064bb', 'windspeed': 10, 'winddirection': 60, 'relhumid': 90, 'temperature': 20}\n",
      "Choosing a perimeter from the database\n",
      "{'description': 'Maria2019', 'igniteidx': '515c7343f0bf4ffd8dd3ce7353d87787', 'compareidx': '51fdaebe31f44ad69272779a3f01182d', 'lcpidx': '43b7f5db36994599861eec4849cc68fd', 'barrieridx': 'cb47616cd2dc4ccc8fd523bd3a5064bb', 'windspeed': 10, 'winddirection': 60, 'relhumid': 90, 'temperature': 20}\n",
      "Choosing a perimeter from the database\n",
      "{'description': 'Maria2019', 'igniteidx': '585341a5d8084546ac308259833938e6', 'compareidx': '51fdaebe31f44ad69272779a3f01182d', 'lcpidx': '43b7f5db36994599861eec4849cc68fd', 'barrieridx': 'cb47616cd2dc4ccc8fd523bd3a5064bb', 'windspeed': 10, 'winddirection': 60, 'relhumid': 90, 'temperature': 20}\n",
      "Choosing a perimeter from the database\n",
      "{'description': 'Maria2019', 'igniteidx': 'fd55efc5cabf40bb96db0e323394d282', 'compareidx': '51fdaebe31f44ad69272779a3f01182d', 'lcpidx': '43b7f5db36994599861eec4849cc68fd', 'barrieridx': 'cb47616cd2dc4ccc8fd523bd3a5064bb', 'windspeed': 10, 'winddirection': 60, 'relhumid': 90, 'temperature': 20}\n",
      "Choosing a perimeter from the database\n",
      "{'description': 'Maria2019', 'igniteidx': '1654db040c6f46568af1790651e0c9bc', 'compareidx': '51fdaebe31f44ad69272779a3f01182d', 'lcpidx': '43b7f5db36994599861eec4849cc68fd', 'barrieridx': 'cb47616cd2dc4ccc8fd523bd3a5064bb', 'windspeed': 10, 'winddirection': 60, 'relhumid': 90, 'temperature': 20}\n",
      "Choosing a perimeter from the database\n",
      "{'description': 'Maria2019', 'igniteidx': '3d5d2d7ffee843e5aef8375c1d520587', 'compareidx': '51fdaebe31f44ad69272779a3f01182d', 'lcpidx': '43b7f5db36994599861eec4849cc68fd', 'barrieridx': 'cb47616cd2dc4ccc8fd523bd3a5064bb', 'windspeed': 10, 'winddirection': 60, 'relhumid': 90, 'temperature': 20}\n",
      "Choosing a perimeter from the database\n",
      "{'description': 'Maria2019', 'igniteidx': '0dc41905a452447f81e50818e839394c', 'compareidx': '51fdaebe31f44ad69272779a3f01182d', 'lcpidx': '43b7f5db36994599861eec4849cc68fd', 'barrieridx': 'cb47616cd2dc4ccc8fd523bd3a5064bb', 'windspeed': 10, 'winddirection': 60, 'relhumid': 90, 'temperature': 20}\n",
      "Choosing a perimeter from the database\n",
      "Farsite $Rev: 2395 $\n",
      "Number of parallel threads = 4 (omp_get_num_procs = 128).\n",
      "Loading lcp file for Farsite #1: /home/jovyan/farsite/inputs/landscapes/Maria2019.lcp\n",
      "Loading inputs file for Farsite #1: /home/jovyan/data/20230313/Run_00000/config\n",
      "Loading ignition file for Farsite #1: /home/jovyan/data/ignitions/Maria2019E8eb5fb5e36d64bfeb857d9adaf347038.shp\n",
      "Loading barrier file for Farsite #1: /home/jovyan/farsite/inputs/barriers/NoBarrier/NoBarrier.shp\n",
      "Launching Farsite #1\n",
      "Starting time step 0.000000 (maximum = 18)\n",
      "Writing outputs for Farsite #1 to /home/jovyan/data/20230313/Run_00000/out\n"
     ]
    },
    {
     "name": "stderr",
     "output_type": "stream",
     "text": [
      "/home/jovyan/farsite-devAPI/src/farsiteutils_v2.py:177: FutureWarning: The frame.append method is deprecated and will be removed from pandas in a future version. Use pandas.concat instead.\n",
      "  self.gdfsimulation = self.gdfsimulation.append(gdfappend)\n"
     ]
    },
    {
     "name": "stdout",
     "output_type": "stream",
     "text": [
      "Farsite $Rev: 2395 $\n",
      "Number of parallel threads = 4 (omp_get_num_procs = 128).\n",
      "Loading lcp file for Farsite #1: /home/jovyan/farsite/inputs/landscapes/Maria2019.lcp\n",
      "Loading inputs file for Farsite #1: /home/jovyan/data/20230313/Run_00001/config\n",
      "Loading ignition file for Farsite #1: /home/jovyan/data/ignitions/Maria2019Ee142be3bc2284b67a2932087475444d6.shp\n",
      "Loading barrier file for Farsite #1: /home/jovyan/farsite/inputs/barriers/NoBarrier/NoBarrier.shp\n",
      "Launching Farsite #1\n",
      "Starting time step 0.000000 (maximum = 18)\n",
      "Writing outputs for Farsite #1 to /home/jovyan/data/20230313/Run_00001/out\n"
     ]
    },
    {
     "name": "stderr",
     "output_type": "stream",
     "text": [
      "/home/jovyan/farsite-devAPI/src/farsiteutils_v2.py:177: FutureWarning: The frame.append method is deprecated and will be removed from pandas in a future version. Use pandas.concat instead.\n",
      "  self.gdfsimulation = self.gdfsimulation.append(gdfappend)\n"
     ]
    },
    {
     "name": "stdout",
     "output_type": "stream",
     "text": [
      "Farsite $Rev: 2395 $\n",
      "Number of parallel threads = 4 (omp_get_num_procs = 128).\n",
      "Loading lcp file for Farsite #1: /home/jovyan/farsite/inputs/landscapes/Maria2019.lcp\n",
      "Loading inputs file for Farsite #1: /home/jovyan/data/20230313/Run_00002/config\n",
      "Loading ignition file for Farsite #1: /home/jovyan/data/ignitions/Maria2019Ef406808c2ddd4c569fd040cf3d994891.shp\n",
      "Loading barrier file for Farsite #1: /home/jovyan/farsite/inputs/barriers/NoBarrier/NoBarrier.shp\n",
      "Launching Farsite #1\n",
      "Starting time step 0.000000 (maximum = 18)\n",
      "Writing outputs for Farsite #1 to /home/jovyan/data/20230313/Run_00002/out\n"
     ]
    },
    {
     "name": "stderr",
     "output_type": "stream",
     "text": [
      "/home/jovyan/farsite-devAPI/src/farsiteutils_v2.py:177: FutureWarning: The frame.append method is deprecated and will be removed from pandas in a future version. Use pandas.concat instead.\n",
      "  self.gdfsimulation = self.gdfsimulation.append(gdfappend)\n"
     ]
    },
    {
     "name": "stdout",
     "output_type": "stream",
     "text": [
      "Farsite $Rev: 2395 $\n",
      "Number of parallel threads = 4 (omp_get_num_procs = 128).\n",
      "Loading lcp file for Farsite #1: /home/jovyan/farsite/inputs/landscapes/Maria2019.lcp\n",
      "Loading inputs file for Farsite #1: /home/jovyan/data/20230313/Run_00003/config\n",
      "Loading ignition file for Farsite #1: /home/jovyan/data/ignitions/Maria2019E6ebadc03fa164a84bba9cdfb7ac30e18.shp\n",
      "Loading barrier file for Farsite #1: /home/jovyan/farsite/inputs/barriers/NoBarrier/NoBarrier.shp\n",
      "Launching Farsite #1\n",
      "Starting time step 0.000000 (maximum = 18)\n",
      "Writing outputs for Farsite #1 to /home/jovyan/data/20230313/Run_00003/out\n"
     ]
    },
    {
     "name": "stderr",
     "output_type": "stream",
     "text": [
      "/home/jovyan/farsite-devAPI/src/farsiteutils_v2.py:177: FutureWarning: The frame.append method is deprecated and will be removed from pandas in a future version. Use pandas.concat instead.\n",
      "  self.gdfsimulation = self.gdfsimulation.append(gdfappend)\n"
     ]
    },
    {
     "name": "stdout",
     "output_type": "stream",
     "text": [
      "Farsite $Rev: 2395 $\n",
      "Number of parallel threads = 4 (omp_get_num_procs = 128).\n",
      "Loading lcp file for Farsite #1: /home/jovyan/farsite/inputs/landscapes/Maria2019.lcp\n",
      "Loading inputs file for Farsite #1: /home/jovyan/data/20230313/Run_00004/config\n",
      "Loading ignition file for Farsite #1: /home/jovyan/data/ignitions/Maria2019E08c030e9dcea4ffc9b5f95def0ca9df3.shp\n",
      "Loading barrier file for Farsite #1: /home/jovyan/farsite/inputs/barriers/NoBarrier/NoBarrier.shp\n",
      "Launching Farsite #1\n",
      "Starting time step 0.000000 (maximum = 18)\n",
      "Writing outputs for Farsite #1 to /home/jovyan/data/20230313/Run_00004/out\n"
     ]
    },
    {
     "name": "stderr",
     "output_type": "stream",
     "text": [
      "/home/jovyan/farsite-devAPI/src/farsiteutils_v2.py:177: FutureWarning: The frame.append method is deprecated and will be removed from pandas in a future version. Use pandas.concat instead.\n",
      "  self.gdfsimulation = self.gdfsimulation.append(gdfappend)\n"
     ]
    },
    {
     "name": "stdout",
     "output_type": "stream",
     "text": [
      "Farsite $Rev: 2395 $\n",
      "Number of parallel threads = 4 (omp_get_num_procs = 128).\n",
      "Loading lcp file for Farsite #1: /home/jovyan/farsite/inputs/landscapes/Maria2019.lcp\n",
      "Loading inputs file for Farsite #1: /home/jovyan/data/20230313/Run_00005/config\n",
      "Loading ignition file for Farsite #1: /home/jovyan/data/ignitions/Maria2019E8d582dd048e74c6095bfdff4b2b4179c.shp\n",
      "Loading barrier file for Farsite #1: /home/jovyan/farsite/inputs/barriers/NoBarrier/NoBarrier.shp\n",
      "Launching Farsite #1\n",
      "Starting time step 0.000000 (maximum = 18)\n",
      "Writing outputs for Farsite #1 to /home/jovyan/data/20230313/Run_00005/out\n"
     ]
    },
    {
     "name": "stderr",
     "output_type": "stream",
     "text": [
      "/home/jovyan/farsite-devAPI/src/farsiteutils_v2.py:177: FutureWarning: The frame.append method is deprecated and will be removed from pandas in a future version. Use pandas.concat instead.\n",
      "  self.gdfsimulation = self.gdfsimulation.append(gdfappend)\n"
     ]
    },
    {
     "name": "stdout",
     "output_type": "stream",
     "text": [
      "Farsite $Rev: 2395 $\n",
      "Number of parallel threads = 4 (omp_get_num_procs = 128).\n",
      "Loading lcp file for Farsite #1: /home/jovyan/farsite/inputs/landscapes/Maria2019.lcp\n",
      "Loading inputs file for Farsite #1: /home/jovyan/data/20230313/Run_00006/config\n",
      "Loading ignition file for Farsite #1: /home/jovyan/data/ignitions/Maria2019Ea8531a4d67d64142893428eb9cb50327.shp\n",
      "Loading barrier file for Farsite #1: /home/jovyan/farsite/inputs/barriers/NoBarrier/NoBarrier.shp\n",
      "Launching Farsite #1\n",
      "Starting time step 0.000000 (maximum = 18)\n",
      "Writing outputs for Farsite #1 to /home/jovyan/data/20230313/Run_00006/out\n"
     ]
    },
    {
     "name": "stderr",
     "output_type": "stream",
     "text": [
      "/home/jovyan/farsite-devAPI/src/farsiteutils_v2.py:177: FutureWarning: The frame.append method is deprecated and will be removed from pandas in a future version. Use pandas.concat instead.\n",
      "  self.gdfsimulation = self.gdfsimulation.append(gdfappend)\n"
     ]
    },
    {
     "name": "stdout",
     "output_type": "stream",
     "text": [
      "Farsite $Rev: 2395 $\n",
      "Number of parallel threads = 4 (omp_get_num_procs = 128).\n",
      "Loading lcp file for Farsite #1: /home/jovyan/farsite/inputs/landscapes/Maria2019.lcp\n",
      "Loading inputs file for Farsite #1: /home/jovyan/data/20230313/Run_00007/config\n",
      "Loading ignition file for Farsite #1: /home/jovyan/data/ignitions/Maria2019E2fc9857c749545329fb793a16b80c135.shp\n",
      "Loading barrier file for Farsite #1: /home/jovyan/farsite/inputs/barriers/NoBarrier/NoBarrier.shp\n",
      "Launching Farsite #1\n",
      "Starting time step 0.000000 (maximum = 18)\n",
      "Writing outputs for Farsite #1 to /home/jovyan/data/20230313/Run_00007/out\n"
     ]
    },
    {
     "name": "stderr",
     "output_type": "stream",
     "text": [
      "/home/jovyan/farsite-devAPI/src/farsiteutils_v2.py:177: FutureWarning: The frame.append method is deprecated and will be removed from pandas in a future version. Use pandas.concat instead.\n",
      "  self.gdfsimulation = self.gdfsimulation.append(gdfappend)\n"
     ]
    },
    {
     "name": "stdout",
     "output_type": "stream",
     "text": [
      "Farsite $Rev: 2395 $\n",
      "Number of parallel threads = 4 (omp_get_num_procs = 128).\n",
      "Loading lcp file for Farsite #1: /home/jovyan/farsite/inputs/landscapes/Maria2019.lcp\n",
      "Loading inputs file for Farsite #1: /home/jovyan/data/20230313/Run_00008/config\n",
      "Loading ignition file for Farsite #1: /home/jovyan/data/ignitions/Maria2019E0488ae4d79aa4268a73867a9b5592adf.shp\n",
      "Loading barrier file for Farsite #1: /home/jovyan/farsite/inputs/barriers/NoBarrier/NoBarrier.shp\n",
      "Launching Farsite #1\n",
      "Starting time step 0.000000 (maximum = 18)\n",
      "Writing outputs for Farsite #1 to /home/jovyan/data/20230313/Run_00008/out\n"
     ]
    },
    {
     "name": "stderr",
     "output_type": "stream",
     "text": [
      "/home/jovyan/farsite-devAPI/src/farsiteutils_v2.py:177: FutureWarning: The frame.append method is deprecated and will be removed from pandas in a future version. Use pandas.concat instead.\n",
      "  self.gdfsimulation = self.gdfsimulation.append(gdfappend)\n"
     ]
    },
    {
     "name": "stdout",
     "output_type": "stream",
     "text": [
      "Farsite $Rev: 2395 $\n",
      "Number of parallel threads = 4 (omp_get_num_procs = 128).\n",
      "Loading lcp file for Farsite #1: /home/jovyan/farsite/inputs/landscapes/Maria2019.lcp\n",
      "Loading inputs file for Farsite #1: /home/jovyan/data/20230313/Run_00009/config\n",
      "Loading ignition file for Farsite #1: /home/jovyan/data/ignitions/Maria2019E991d6cfc44cd4ab4a7bd47a86ac8bd66.shp\n",
      "Loading barrier file for Farsite #1: /home/jovyan/farsite/inputs/barriers/NoBarrier/NoBarrier.shp\n",
      "Launching Farsite #1\n",
      "Starting time step 0.000000 (maximum = 18)\n",
      "Writing outputs for Farsite #1 to /home/jovyan/data/20230313/Run_00009/out\n"
     ]
    },
    {
     "name": "stderr",
     "output_type": "stream",
     "text": [
      "/home/jovyan/farsite-devAPI/src/farsiteutils_v2.py:177: FutureWarning: The frame.append method is deprecated and will be removed from pandas in a future version. Use pandas.concat instead.\n",
      "  self.gdfsimulation = self.gdfsimulation.append(gdfappend)\n"
     ]
    },
    {
     "name": "stdout",
     "output_type": "stream",
     "text": [
      "Farsite $Rev: 2395 $\n",
      "Number of parallel threads = 4 (omp_get_num_procs = 128).\n",
      "Loading lcp file for Farsite #1: /home/jovyan/farsite/inputs/landscapes/Maria2019.lcp\n",
      "Loading inputs file for Farsite #1: /home/jovyan/data/20230313/Run_00010/config\n",
      "Loading ignition file for Farsite #1: /home/jovyan/data/ignitions/Maria2019E443202ca22af4647ab2011b75df8d5a9.shp\n",
      "Loading barrier file for Farsite #1: /home/jovyan/farsite/inputs/barriers/NoBarrier/NoBarrier.shp\n",
      "Launching Farsite #1\n",
      "Starting time step 0.000000 (maximum = 18)\n",
      "Writing outputs for Farsite #1 to /home/jovyan/data/20230313/Run_00010/out\n"
     ]
    },
    {
     "name": "stderr",
     "output_type": "stream",
     "text": [
      "/home/jovyan/farsite-devAPI/src/farsiteutils_v2.py:177: FutureWarning: The frame.append method is deprecated and will be removed from pandas in a future version. Use pandas.concat instead.\n",
      "  self.gdfsimulation = self.gdfsimulation.append(gdfappend)\n"
     ]
    },
    {
     "name": "stdout",
     "output_type": "stream",
     "text": [
      "Farsite $Rev: 2395 $\n",
      "Number of parallel threads = 4 (omp_get_num_procs = 128).\n",
      "Loading lcp file for Farsite #1: /home/jovyan/farsite/inputs/landscapes/Maria2019.lcp\n",
      "Loading inputs file for Farsite #1: /home/jovyan/data/20230313/Run_00011/config\n",
      "Loading ignition file for Farsite #1: /home/jovyan/data/ignitions/Maria2019E6daaac8991e943e7af74b1b7a0e58617.shp\n",
      "Loading barrier file for Farsite #1: /home/jovyan/farsite/inputs/barriers/NoBarrier/NoBarrier.shp\n",
      "Launching Farsite #1\n",
      "Starting time step 0.000000 (maximum = 18)\n",
      "Writing outputs for Farsite #1 to /home/jovyan/data/20230313/Run_00011/out\n"
     ]
    },
    {
     "name": "stderr",
     "output_type": "stream",
     "text": [
      "/home/jovyan/farsite-devAPI/src/farsiteutils_v2.py:177: FutureWarning: The frame.append method is deprecated and will be removed from pandas in a future version. Use pandas.concat instead.\n",
      "  self.gdfsimulation = self.gdfsimulation.append(gdfappend)\n"
     ]
    },
    {
     "name": "stdout",
     "output_type": "stream",
     "text": [
      "Farsite $Rev: 2395 $\n",
      "Number of parallel threads = 4 (omp_get_num_procs = 128).\n",
      "Loading lcp file for Farsite #1: /home/jovyan/farsite/inputs/landscapes/Maria2019.lcp\n",
      "Loading inputs file for Farsite #1: /home/jovyan/data/20230313/Run_00012/config\n",
      "Loading ignition file for Farsite #1: /home/jovyan/data/ignitions/Maria2019E40e084e9c11c4ccaa05617b2cc561ee2.shp\n",
      "Loading barrier file for Farsite #1: /home/jovyan/farsite/inputs/barriers/NoBarrier/NoBarrier.shp\n",
      "Launching Farsite #1\n",
      "Starting time step 0.000000 (maximum = 18)\n",
      "Writing outputs for Farsite #1 to /home/jovyan/data/20230313/Run_00012/out\n"
     ]
    },
    {
     "name": "stderr",
     "output_type": "stream",
     "text": [
      "/home/jovyan/farsite-devAPI/src/farsiteutils_v2.py:177: FutureWarning: The frame.append method is deprecated and will be removed from pandas in a future version. Use pandas.concat instead.\n",
      "  self.gdfsimulation = self.gdfsimulation.append(gdfappend)\n"
     ]
    },
    {
     "name": "stdout",
     "output_type": "stream",
     "text": [
      "Farsite $Rev: 2395 $\n",
      "Number of parallel threads = 4 (omp_get_num_procs = 128).\n",
      "Loading lcp file for Farsite #1: /home/jovyan/farsite/inputs/landscapes/Maria2019.lcp\n",
      "Loading inputs file for Farsite #1: /home/jovyan/data/20230313/Run_00013/config\n",
      "Loading ignition file for Farsite #1: /home/jovyan/data/ignitions/Maria2019E1577eef4cc4a4344b6f2538665e7c8a8.shp\n",
      "Loading barrier file for Farsite #1: /home/jovyan/farsite/inputs/barriers/NoBarrier/NoBarrier.shp\n",
      "Launching Farsite #1\n",
      "Starting time step 0.000000 (maximum = 18)\n",
      "Writing outputs for Farsite #1 to /home/jovyan/data/20230313/Run_00013/out\n"
     ]
    },
    {
     "name": "stderr",
     "output_type": "stream",
     "text": [
      "/home/jovyan/farsite-devAPI/src/farsiteutils_v2.py:177: FutureWarning: The frame.append method is deprecated and will be removed from pandas in a future version. Use pandas.concat instead.\n",
      "  self.gdfsimulation = self.gdfsimulation.append(gdfappend)\n"
     ]
    },
    {
     "name": "stdout",
     "output_type": "stream",
     "text": [
      "Farsite $Rev: 2395 $\n",
      "Number of parallel threads = 4 (omp_get_num_procs = 128).\n",
      "Loading lcp file for Farsite #1: /home/jovyan/farsite/inputs/landscapes/Maria2019.lcp\n",
      "Loading inputs file for Farsite #1: /home/jovyan/data/20230313/Run_00014/config\n",
      "Loading ignition file for Farsite #1: /home/jovyan/data/ignitions/Maria2019Eb9fbd7efa6564d749d85848aa3920bd0.shp\n",
      "Loading barrier file for Farsite #1: /home/jovyan/farsite/inputs/barriers/NoBarrier/NoBarrier.shp\n",
      "Launching Farsite #1\n",
      "Starting time step 0.000000 (maximum = 18)\n",
      "Writing outputs for Farsite #1 to /home/jovyan/data/20230313/Run_00014/out\n"
     ]
    },
    {
     "name": "stderr",
     "output_type": "stream",
     "text": [
      "/home/jovyan/farsite-devAPI/src/farsiteutils_v2.py:177: FutureWarning: The frame.append method is deprecated and will be removed from pandas in a future version. Use pandas.concat instead.\n",
      "  self.gdfsimulation = self.gdfsimulation.append(gdfappend)\n"
     ]
    },
    {
     "name": "stdout",
     "output_type": "stream",
     "text": [
      "Farsite $Rev: 2395 $\n",
      "Number of parallel threads = 4 (omp_get_num_procs = 128).\n",
      "Loading lcp file for Farsite #1: /home/jovyan/farsite/inputs/landscapes/Maria2019.lcp\n",
      "Loading inputs file for Farsite #1: /home/jovyan/data/20230313/Run_00015/config\n",
      "Loading ignition file for Farsite #1: /home/jovyan/data/ignitions/Maria2019E8f5eef24edd54d90a13a9471d6c512ff.shp\n",
      "Loading barrier file for Farsite #1: /home/jovyan/farsite/inputs/barriers/NoBarrier/NoBarrier.shp\n",
      "Launching Farsite #1\n",
      "Starting time step 0.000000 (maximum = 18)\n",
      "Writing outputs for Farsite #1 to /home/jovyan/data/20230313/Run_00015/out\n"
     ]
    },
    {
     "name": "stderr",
     "output_type": "stream",
     "text": [
      "/home/jovyan/farsite-devAPI/src/farsiteutils_v2.py:177: FutureWarning: The frame.append method is deprecated and will be removed from pandas in a future version. Use pandas.concat instead.\n",
      "  self.gdfsimulation = self.gdfsimulation.append(gdfappend)\n"
     ]
    },
    {
     "name": "stdout",
     "output_type": "stream",
     "text": [
      "Farsite $Rev: 2395 $\n",
      "Number of parallel threads = 4 (omp_get_num_procs = 128).\n",
      "Loading lcp file for Farsite #1: /home/jovyan/farsite/inputs/landscapes/Maria2019.lcp\n",
      "Loading inputs file for Farsite #1: /home/jovyan/data/20230313/Run_00016/config\n",
      "Loading ignition file for Farsite #1: /home/jovyan/data/ignitions/Maria2019E5761a925076f4d9f80981cf9519cd7fa.shp\n",
      "Loading barrier file for Farsite #1: /home/jovyan/farsite/inputs/barriers/NoBarrier/NoBarrier.shp\n",
      "Launching Farsite #1\n",
      "Starting time step 0.000000 (maximum = 18)\n",
      "Writing outputs for Farsite #1 to /home/jovyan/data/20230313/Run_00016/out\n"
     ]
    },
    {
     "name": "stderr",
     "output_type": "stream",
     "text": [
      "/home/jovyan/farsite-devAPI/src/farsiteutils_v2.py:177: FutureWarning: The frame.append method is deprecated and will be removed from pandas in a future version. Use pandas.concat instead.\n",
      "  self.gdfsimulation = self.gdfsimulation.append(gdfappend)\n"
     ]
    },
    {
     "name": "stdout",
     "output_type": "stream",
     "text": [
      "Farsite $Rev: 2395 $\n",
      "Number of parallel threads = 4 (omp_get_num_procs = 128).\n",
      "Loading lcp file for Farsite #1: /home/jovyan/farsite/inputs/landscapes/Maria2019.lcp\n",
      "Loading inputs file for Farsite #1: /home/jovyan/data/20230313/Run_00017/config\n",
      "Loading ignition file for Farsite #1: /home/jovyan/data/ignitions/Maria2019Eb0300c0072964285bc9b5fb4c5d5ced9.shp\n",
      "Loading barrier file for Farsite #1: /home/jovyan/farsite/inputs/barriers/NoBarrier/NoBarrier.shp\n",
      "Launching Farsite #1\n",
      "Starting time step 0.000000 (maximum = 18)\n",
      "Writing outputs for Farsite #1 to /home/jovyan/data/20230313/Run_00017/out\n"
     ]
    },
    {
     "name": "stderr",
     "output_type": "stream",
     "text": [
      "/home/jovyan/farsite-devAPI/src/farsiteutils_v2.py:177: FutureWarning: The frame.append method is deprecated and will be removed from pandas in a future version. Use pandas.concat instead.\n",
      "  self.gdfsimulation = self.gdfsimulation.append(gdfappend)\n"
     ]
    },
    {
     "name": "stdout",
     "output_type": "stream",
     "text": [
      "Farsite $Rev: 2395 $\n",
      "Number of parallel threads = 4 (omp_get_num_procs = 128).\n",
      "Loading lcp file for Farsite #1: /home/jovyan/farsite/inputs/landscapes/Maria2019.lcp\n",
      "Loading inputs file for Farsite #1: /home/jovyan/data/20230313/Run_00018/config\n",
      "Loading ignition file for Farsite #1: /home/jovyan/data/ignitions/Maria2019E9934952f6e99463f8cb6af16cf35ef26.shp\n",
      "Loading barrier file for Farsite #1: /home/jovyan/farsite/inputs/barriers/NoBarrier/NoBarrier.shp\n",
      "Launching Farsite #1\n",
      "Starting time step 0.000000 (maximum = 18)\n",
      "Writing outputs for Farsite #1 to /home/jovyan/data/20230313/Run_00018/out\n"
     ]
    },
    {
     "name": "stderr",
     "output_type": "stream",
     "text": [
      "/home/jovyan/farsite-devAPI/src/farsiteutils_v2.py:177: FutureWarning: The frame.append method is deprecated and will be removed from pandas in a future version. Use pandas.concat instead.\n",
      "  self.gdfsimulation = self.gdfsimulation.append(gdfappend)\n"
     ]
    },
    {
     "name": "stdout",
     "output_type": "stream",
     "text": [
      "Farsite $Rev: 2395 $\n",
      "Number of parallel threads = 4 (omp_get_num_procs = 128).\n",
      "Loading lcp file for Farsite #1: /home/jovyan/farsite/inputs/landscapes/Maria2019.lcp\n",
      "Loading inputs file for Farsite #1: /home/jovyan/data/20230313/Run_00019/config\n",
      "Loading ignition file for Farsite #1: /home/jovyan/data/ignitions/Maria2019Edaffe98d75d94603a178c52e172acc5f.shp\n",
      "Loading barrier file for Farsite #1: /home/jovyan/farsite/inputs/barriers/NoBarrier/NoBarrier.shp\n",
      "Launching Farsite #1\n",
      "Starting time step 0.000000 (maximum = 18)\n",
      "Writing outputs for Farsite #1 to /home/jovyan/data/20230313/Run_00019/out\n"
     ]
    },
    {
     "name": "stderr",
     "output_type": "stream",
     "text": [
      "/home/jovyan/farsite-devAPI/src/farsiteutils_v2.py:177: FutureWarning: The frame.append method is deprecated and will be removed from pandas in a future version. Use pandas.concat instead.\n",
      "  self.gdfsimulation = self.gdfsimulation.append(gdfappend)\n"
     ]
    },
    {
     "name": "stdout",
     "output_type": "stream",
     "text": [
      "Farsite $Rev: 2395 $\n",
      "Number of parallel threads = 4 (omp_get_num_procs = 128).\n",
      "Loading lcp file for Farsite #1: /home/jovyan/farsite/inputs/landscapes/Maria2019.lcp\n",
      "Loading inputs file for Farsite #1: /home/jovyan/data/20230313/Run_00020/config\n",
      "Loading ignition file for Farsite #1: /home/jovyan/data/ignitions/Maria2019E9ee2b290300c4ee4a9e0ba9bf4c475b1.shp\n",
      "Loading barrier file for Farsite #1: /home/jovyan/farsite/inputs/barriers/NoBarrier/NoBarrier.shp\n",
      "Launching Farsite #1\n",
      "Starting time step 0.000000 (maximum = 18)\n",
      "Writing outputs for Farsite #1 to /home/jovyan/data/20230313/Run_00020/out\n"
     ]
    },
    {
     "name": "stderr",
     "output_type": "stream",
     "text": [
      "/home/jovyan/farsite-devAPI/src/farsiteutils_v2.py:177: FutureWarning: The frame.append method is deprecated and will be removed from pandas in a future version. Use pandas.concat instead.\n",
      "  self.gdfsimulation = self.gdfsimulation.append(gdfappend)\n"
     ]
    },
    {
     "name": "stdout",
     "output_type": "stream",
     "text": [
      "Farsite $Rev: 2395 $\n",
      "Number of parallel threads = 4 (omp_get_num_procs = 128).\n",
      "Loading lcp file for Farsite #1: /home/jovyan/farsite/inputs/landscapes/Maria2019.lcp\n",
      "Loading inputs file for Farsite #1: /home/jovyan/data/20230313/Run_00021/config\n",
      "Loading ignition file for Farsite #1: /home/jovyan/data/ignitions/Maria2019Ee1abe3f1557e492a95f689bdd2f12cd6.shp\n",
      "Loading barrier file for Farsite #1: /home/jovyan/farsite/inputs/barriers/NoBarrier/NoBarrier.shp\n",
      "Launching Farsite #1\n",
      "Starting time step 0.000000 (maximum = 18)\n",
      "Writing outputs for Farsite #1 to /home/jovyan/data/20230313/Run_00021/out\n"
     ]
    },
    {
     "name": "stderr",
     "output_type": "stream",
     "text": [
      "/home/jovyan/farsite-devAPI/src/farsiteutils_v2.py:177: FutureWarning: The frame.append method is deprecated and will be removed from pandas in a future version. Use pandas.concat instead.\n",
      "  self.gdfsimulation = self.gdfsimulation.append(gdfappend)\n"
     ]
    },
    {
     "name": "stdout",
     "output_type": "stream",
     "text": [
      "Farsite $Rev: 2395 $\n",
      "Number of parallel threads = 4 (omp_get_num_procs = 128).\n",
      "Loading lcp file for Farsite #1: /home/jovyan/farsite/inputs/landscapes/Maria2019.lcp\n",
      "Loading inputs file for Farsite #1: /home/jovyan/data/20230313/Run_00022/config\n",
      "Loading ignition file for Farsite #1: /home/jovyan/data/ignitions/Maria2019E80b13e4ef474483eb3474274126c69fc.shp\n",
      "Loading barrier file for Farsite #1: /home/jovyan/farsite/inputs/barriers/NoBarrier/NoBarrier.shp\n",
      "Launching Farsite #1\n",
      "Starting time step 0.000000 (maximum = 18)\n",
      "Writing outputs for Farsite #1 to /home/jovyan/data/20230313/Run_00022/out\n"
     ]
    },
    {
     "name": "stderr",
     "output_type": "stream",
     "text": [
      "/home/jovyan/farsite-devAPI/src/farsiteutils_v2.py:177: FutureWarning: The frame.append method is deprecated and will be removed from pandas in a future version. Use pandas.concat instead.\n",
      "  self.gdfsimulation = self.gdfsimulation.append(gdfappend)\n"
     ]
    },
    {
     "name": "stdout",
     "output_type": "stream",
     "text": [
      "Farsite $Rev: 2395 $\n",
      "Number of parallel threads = 4 (omp_get_num_procs = 128).\n",
      "Loading lcp file for Farsite #1: /home/jovyan/farsite/inputs/landscapes/Maria2019.lcp\n",
      "Loading inputs file for Farsite #1: /home/jovyan/data/20230313/Run_00023/config\n",
      "Loading ignition file for Farsite #1: /home/jovyan/data/ignitions/Maria2019E22cf979ce0cc4b9abd7c509b772709ea.shp\n",
      "Loading barrier file for Farsite #1: /home/jovyan/farsite/inputs/barriers/NoBarrier/NoBarrier.shp\n",
      "Launching Farsite #1\n",
      "Starting time step 0.000000 (maximum = 18)\n",
      "Writing outputs for Farsite #1 to /home/jovyan/data/20230313/Run_00023/out\n"
     ]
    },
    {
     "name": "stderr",
     "output_type": "stream",
     "text": [
      "/home/jovyan/farsite-devAPI/src/farsiteutils_v2.py:177: FutureWarning: The frame.append method is deprecated and will be removed from pandas in a future version. Use pandas.concat instead.\n",
      "  self.gdfsimulation = self.gdfsimulation.append(gdfappend)\n"
     ]
    },
    {
     "name": "stdout",
     "output_type": "stream",
     "text": [
      "Farsite $Rev: 2395 $\n",
      "Number of parallel threads = 4 (omp_get_num_procs = 128).\n",
      "Loading lcp file for Farsite #1: /home/jovyan/farsite/inputs/landscapes/Maria2019.lcp\n",
      "Loading inputs file for Farsite #1: /home/jovyan/data/20230313/Run_00024/config\n",
      "Loading ignition file for Farsite #1: /home/jovyan/data/ignitions/Maria2019E314b67c99f1e4556b13a8d5c4e8c6f25.shp\n",
      "Loading barrier file for Farsite #1: /home/jovyan/farsite/inputs/barriers/NoBarrier/NoBarrier.shp\n",
      "Launching Farsite #1\n",
      "Starting time step 0.000000 (maximum = 18)\n",
      "Writing outputs for Farsite #1 to /home/jovyan/data/20230313/Run_00024/out\n"
     ]
    },
    {
     "name": "stderr",
     "output_type": "stream",
     "text": [
      "/home/jovyan/farsite-devAPI/src/farsiteutils_v2.py:177: FutureWarning: The frame.append method is deprecated and will be removed from pandas in a future version. Use pandas.concat instead.\n",
      "  self.gdfsimulation = self.gdfsimulation.append(gdfappend)\n"
     ]
    },
    {
     "name": "stdout",
     "output_type": "stream",
     "text": [
      "Farsite $Rev: 2395 $\n",
      "Number of parallel threads = 4 (omp_get_num_procs = 128).\n",
      "Loading lcp file for Farsite #1: /home/jovyan/farsite/inputs/landscapes/Maria2019.lcp\n",
      "Loading inputs file for Farsite #1: /home/jovyan/data/20230313/Run_00025/config\n",
      "Loading ignition file for Farsite #1: /home/jovyan/data/ignitions/Maria2019E014a60b1774e4716975fb0853c52adaf.shp\n",
      "Loading barrier file for Farsite #1: /home/jovyan/farsite/inputs/barriers/NoBarrier/NoBarrier.shp\n",
      "Launching Farsite #1\n",
      "Starting time step 0.000000 (maximum = 18)\n",
      "Writing outputs for Farsite #1 to /home/jovyan/data/20230313/Run_00025/out\n"
     ]
    },
    {
     "name": "stderr",
     "output_type": "stream",
     "text": [
      "/home/jovyan/farsite-devAPI/src/farsiteutils_v2.py:177: FutureWarning: The frame.append method is deprecated and will be removed from pandas in a future version. Use pandas.concat instead.\n",
      "  self.gdfsimulation = self.gdfsimulation.append(gdfappend)\n"
     ]
    },
    {
     "name": "stdout",
     "output_type": "stream",
     "text": [
      "Farsite $Rev: 2395 $\n",
      "Number of parallel threads = 4 (omp_get_num_procs = 128).\n",
      "Loading lcp file for Farsite #1: /home/jovyan/farsite/inputs/landscapes/Maria2019.lcp\n",
      "Loading inputs file for Farsite #1: /home/jovyan/data/20230313/Run_00026/config\n",
      "Loading ignition file for Farsite #1: /home/jovyan/data/ignitions/Maria2019E81dc5997f406421598b438dfa6e4a7f3.shp\n",
      "Loading barrier file for Farsite #1: /home/jovyan/farsite/inputs/barriers/NoBarrier/NoBarrier.shp\n",
      "Launching Farsite #1\n",
      "Starting time step 0.000000 (maximum = 18)\n",
      "Writing outputs for Farsite #1 to /home/jovyan/data/20230313/Run_00026/out\n"
     ]
    },
    {
     "name": "stderr",
     "output_type": "stream",
     "text": [
      "/home/jovyan/farsite-devAPI/src/farsiteutils_v2.py:177: FutureWarning: The frame.append method is deprecated and will be removed from pandas in a future version. Use pandas.concat instead.\n",
      "  self.gdfsimulation = self.gdfsimulation.append(gdfappend)\n"
     ]
    },
    {
     "name": "stdout",
     "output_type": "stream",
     "text": [
      "Farsite $Rev: 2395 $\n",
      "Number of parallel threads = 4 (omp_get_num_procs = 128).\n",
      "Loading lcp file for Farsite #1: /home/jovyan/farsite/inputs/landscapes/Maria2019.lcp\n",
      "Loading inputs file for Farsite #1: /home/jovyan/data/20230313/Run_00027/config\n",
      "Loading ignition file for Farsite #1: /home/jovyan/data/ignitions/Maria2019Ec2e0cbb16e0544d280dfea94967b3f1e.shp\n",
      "Loading barrier file for Farsite #1: /home/jovyan/farsite/inputs/barriers/NoBarrier/NoBarrier.shp\n",
      "Launching Farsite #1\n",
      "Starting time step 0.000000 (maximum = 18)\n",
      "Writing outputs for Farsite #1 to /home/jovyan/data/20230313/Run_00027/out\n"
     ]
    },
    {
     "name": "stderr",
     "output_type": "stream",
     "text": [
      "/home/jovyan/farsite-devAPI/src/farsiteutils_v2.py:177: FutureWarning: The frame.append method is deprecated and will be removed from pandas in a future version. Use pandas.concat instead.\n",
      "  self.gdfsimulation = self.gdfsimulation.append(gdfappend)\n"
     ]
    },
    {
     "name": "stdout",
     "output_type": "stream",
     "text": [
      "Farsite $Rev: 2395 $\n",
      "Number of parallel threads = 4 (omp_get_num_procs = 128).\n",
      "Loading lcp file for Farsite #1: /home/jovyan/farsite/inputs/landscapes/Maria2019.lcp\n",
      "Loading inputs file for Farsite #1: /home/jovyan/data/20230313/Run_00028/config\n",
      "Loading ignition file for Farsite #1: /home/jovyan/data/ignitions/Maria2019Ed14dce502fd24e9ab82bbcd4b2c29486.shp\n",
      "Loading barrier file for Farsite #1: /home/jovyan/farsite/inputs/barriers/NoBarrier/NoBarrier.shp\n",
      "Launching Farsite #1\n",
      "Starting time step 0.000000 (maximum = 18)\n",
      "Writing outputs for Farsite #1 to /home/jovyan/data/20230313/Run_00028/out\n"
     ]
    },
    {
     "name": "stderr",
     "output_type": "stream",
     "text": [
      "/home/jovyan/farsite-devAPI/src/farsiteutils_v2.py:177: FutureWarning: The frame.append method is deprecated and will be removed from pandas in a future version. Use pandas.concat instead.\n",
      "  self.gdfsimulation = self.gdfsimulation.append(gdfappend)\n"
     ]
    },
    {
     "name": "stdout",
     "output_type": "stream",
     "text": [
      "Farsite $Rev: 2395 $\n",
      "Number of parallel threads = 4 (omp_get_num_procs = 128).\n",
      "Loading lcp file for Farsite #1: /home/jovyan/farsite/inputs/landscapes/Maria2019.lcp\n",
      "Loading inputs file for Farsite #1: /home/jovyan/data/20230313/Run_00029/config\n",
      "Loading ignition file for Farsite #1: /home/jovyan/data/ignitions/Maria2019E4f31c9f542e742798f60e2c065705dbe.shp\n",
      "Loading barrier file for Farsite #1: /home/jovyan/farsite/inputs/barriers/NoBarrier/NoBarrier.shp\n",
      "Launching Farsite #1\n",
      "Starting time step 0.000000 (maximum = 18)\n",
      "Writing outputs for Farsite #1 to /home/jovyan/data/20230313/Run_00029/out\n"
     ]
    },
    {
     "name": "stderr",
     "output_type": "stream",
     "text": [
      "/home/jovyan/farsite-devAPI/src/farsiteutils_v2.py:177: FutureWarning: The frame.append method is deprecated and will be removed from pandas in a future version. Use pandas.concat instead.\n",
      "  self.gdfsimulation = self.gdfsimulation.append(gdfappend)\n"
     ]
    },
    {
     "name": "stdout",
     "output_type": "stream",
     "text": [
      "Farsite $Rev: 2395 $\n",
      "Number of parallel threads = 4 (omp_get_num_procs = 128).\n",
      "Loading lcp file for Farsite #1: /home/jovyan/farsite/inputs/landscapes/Maria2019.lcp\n",
      "Loading inputs file for Farsite #1: /home/jovyan/data/20230313/Run_00030/config\n",
      "Loading ignition file for Farsite #1: /home/jovyan/data/ignitions/Maria2019Ea3804b89b14244aaa3eab69e3f6b2824.shp\n",
      "Loading barrier file for Farsite #1: /home/jovyan/farsite/inputs/barriers/NoBarrier/NoBarrier.shp\n",
      "Launching Farsite #1\n",
      "Starting time step 0.000000 (maximum = 18)\n",
      "Writing outputs for Farsite #1 to /home/jovyan/data/20230313/Run_00030/out\n"
     ]
    },
    {
     "name": "stderr",
     "output_type": "stream",
     "text": [
      "/home/jovyan/farsite-devAPI/src/farsiteutils_v2.py:177: FutureWarning: The frame.append method is deprecated and will be removed from pandas in a future version. Use pandas.concat instead.\n",
      "  self.gdfsimulation = self.gdfsimulation.append(gdfappend)\n"
     ]
    },
    {
     "name": "stdout",
     "output_type": "stream",
     "text": [
      "Farsite $Rev: 2395 $\n",
      "Number of parallel threads = 4 (omp_get_num_procs = 128).\n",
      "Loading lcp file for Farsite #1: /home/jovyan/farsite/inputs/landscapes/Maria2019.lcp\n",
      "Loading inputs file for Farsite #1: /home/jovyan/data/20230313/Run_00031/config\n",
      "Loading ignition file for Farsite #1: /home/jovyan/data/ignitions/Maria2019Ecd11ac1a7ac7479cbdbd2170df585fd7.shp\n",
      "Loading barrier file for Farsite #1: /home/jovyan/farsite/inputs/barriers/NoBarrier/NoBarrier.shp\n",
      "Launching Farsite #1\n",
      "Starting time step 0.000000 (maximum = 18)\n",
      "Writing outputs for Farsite #1 to /home/jovyan/data/20230313/Run_00031/out\n"
     ]
    },
    {
     "name": "stderr",
     "output_type": "stream",
     "text": [
      "/home/jovyan/farsite-devAPI/src/farsiteutils_v2.py:177: FutureWarning: The frame.append method is deprecated and will be removed from pandas in a future version. Use pandas.concat instead.\n",
      "  self.gdfsimulation = self.gdfsimulation.append(gdfappend)\n"
     ]
    },
    {
     "name": "stdout",
     "output_type": "stream",
     "text": [
      "Farsite $Rev: 2395 $\n",
      "Number of parallel threads = 4 (omp_get_num_procs = 128).\n",
      "Loading lcp file for Farsite #1: /home/jovyan/farsite/inputs/landscapes/Maria2019.lcp\n",
      "Loading inputs file for Farsite #1: /home/jovyan/data/20230313/Run_00032/config\n",
      "Loading ignition file for Farsite #1: /home/jovyan/data/ignitions/Maria2019Eef46fc9f014e4bca812a602c5310936e.shp\n",
      "Loading barrier file for Farsite #1: /home/jovyan/farsite/inputs/barriers/NoBarrier/NoBarrier.shp\n",
      "Launching Farsite #1\n",
      "Starting time step 0.000000 (maximum = 18)\n",
      "Writing outputs for Farsite #1 to /home/jovyan/data/20230313/Run_00032/out\n"
     ]
    },
    {
     "name": "stderr",
     "output_type": "stream",
     "text": [
      "/home/jovyan/farsite-devAPI/src/farsiteutils_v2.py:177: FutureWarning: The frame.append method is deprecated and will be removed from pandas in a future version. Use pandas.concat instead.\n",
      "  self.gdfsimulation = self.gdfsimulation.append(gdfappend)\n"
     ]
    },
    {
     "name": "stdout",
     "output_type": "stream",
     "text": [
      "Farsite $Rev: 2395 $\n",
      "Number of parallel threads = 4 (omp_get_num_procs = 128).\n",
      "Loading lcp file for Farsite #1: /home/jovyan/farsite/inputs/landscapes/Maria2019.lcp\n",
      "Loading inputs file for Farsite #1: /home/jovyan/data/20230313/Run_00033/config\n",
      "Loading ignition file for Farsite #1: /home/jovyan/data/ignitions/Maria2019E6b2593cdc34249ce9aa4cc9449d6e7a4.shp\n",
      "Loading barrier file for Farsite #1: /home/jovyan/farsite/inputs/barriers/NoBarrier/NoBarrier.shp\n",
      "Launching Farsite #1\n",
      "Starting time step 0.000000 (maximum = 18)\n",
      "Writing outputs for Farsite #1 to /home/jovyan/data/20230313/Run_00033/out\n"
     ]
    },
    {
     "name": "stderr",
     "output_type": "stream",
     "text": [
      "/home/jovyan/farsite-devAPI/src/farsiteutils_v2.py:177: FutureWarning: The frame.append method is deprecated and will be removed from pandas in a future version. Use pandas.concat instead.\n",
      "  self.gdfsimulation = self.gdfsimulation.append(gdfappend)\n"
     ]
    },
    {
     "name": "stdout",
     "output_type": "stream",
     "text": [
      "Farsite $Rev: 2395 $\n",
      "Number of parallel threads = 4 (omp_get_num_procs = 128).\n",
      "Loading lcp file for Farsite #1: /home/jovyan/farsite/inputs/landscapes/Maria2019.lcp\n",
      "Loading inputs file for Farsite #1: /home/jovyan/data/20230313/Run_00034/config\n",
      "Loading ignition file for Farsite #1: /home/jovyan/data/ignitions/Maria2019Ef9c5a915180b4a3eb6d461cb0d90fb62.shp\n",
      "Loading barrier file for Farsite #1: /home/jovyan/farsite/inputs/barriers/NoBarrier/NoBarrier.shp\n",
      "Launching Farsite #1\n",
      "Starting time step 0.000000 (maximum = 18)\n",
      "Writing outputs for Farsite #1 to /home/jovyan/data/20230313/Run_00034/out\n"
     ]
    },
    {
     "name": "stderr",
     "output_type": "stream",
     "text": [
      "/home/jovyan/farsite-devAPI/src/farsiteutils_v2.py:177: FutureWarning: The frame.append method is deprecated and will be removed from pandas in a future version. Use pandas.concat instead.\n",
      "  self.gdfsimulation = self.gdfsimulation.append(gdfappend)\n"
     ]
    },
    {
     "name": "stdout",
     "output_type": "stream",
     "text": [
      "Farsite $Rev: 2395 $\n",
      "Number of parallel threads = 4 (omp_get_num_procs = 128).\n",
      "Loading lcp file for Farsite #1: /home/jovyan/farsite/inputs/landscapes/Maria2019.lcp\n",
      "Loading inputs file for Farsite #1: /home/jovyan/data/20230313/Run_00035/config\n",
      "Loading ignition file for Farsite #1: /home/jovyan/data/ignitions/Maria2019Ec90c6be1aec54085ba7dc67abd4edad0.shp\n",
      "Loading barrier file for Farsite #1: /home/jovyan/farsite/inputs/barriers/NoBarrier/NoBarrier.shp\n",
      "Launching Farsite #1\n",
      "Starting time step 0.000000 (maximum = 18)\n",
      "Writing outputs for Farsite #1 to /home/jovyan/data/20230313/Run_00035/out\n"
     ]
    },
    {
     "name": "stderr",
     "output_type": "stream",
     "text": [
      "/home/jovyan/farsite-devAPI/src/farsiteutils_v2.py:177: FutureWarning: The frame.append method is deprecated and will be removed from pandas in a future version. Use pandas.concat instead.\n",
      "  self.gdfsimulation = self.gdfsimulation.append(gdfappend)\n"
     ]
    },
    {
     "name": "stdout",
     "output_type": "stream",
     "text": [
      "Farsite $Rev: 2395 $\n",
      "Number of parallel threads = 4 (omp_get_num_procs = 128).\n",
      "Loading lcp file for Farsite #1: /home/jovyan/farsite/inputs/landscapes/Maria2019.lcp\n",
      "Loading inputs file for Farsite #1: /home/jovyan/data/20230313/Run_00036/config\n",
      "Loading ignition file for Farsite #1: /home/jovyan/data/ignitions/Maria2019Ee647a74aec4e426f8693915152204d67.shp\n",
      "Loading barrier file for Farsite #1: /home/jovyan/farsite/inputs/barriers/NoBarrier/NoBarrier.shp\n",
      "Launching Farsite #1\n",
      "Starting time step 0.000000 (maximum = 18)\n",
      "Writing outputs for Farsite #1 to /home/jovyan/data/20230313/Run_00036/out\n"
     ]
    },
    {
     "name": "stderr",
     "output_type": "stream",
     "text": [
      "/home/jovyan/farsite-devAPI/src/farsiteutils_v2.py:177: FutureWarning: The frame.append method is deprecated and will be removed from pandas in a future version. Use pandas.concat instead.\n",
      "  self.gdfsimulation = self.gdfsimulation.append(gdfappend)\n"
     ]
    },
    {
     "name": "stdout",
     "output_type": "stream",
     "text": [
      "Farsite $Rev: 2395 $\n",
      "Number of parallel threads = 4 (omp_get_num_procs = 128).\n",
      "Loading lcp file for Farsite #1: /home/jovyan/farsite/inputs/landscapes/Maria2019.lcp\n",
      "Loading inputs file for Farsite #1: /home/jovyan/data/20230313/Run_00037/config\n",
      "Loading ignition file for Farsite #1: /home/jovyan/data/ignitions/Maria2019Efa2ea531c4864c88a343cab31ed27b25.shp\n",
      "Loading barrier file for Farsite #1: /home/jovyan/farsite/inputs/barriers/NoBarrier/NoBarrier.shp\n",
      "Launching Farsite #1\n",
      "Starting time step 0.000000 (maximum = 18)\n",
      "Writing outputs for Farsite #1 to /home/jovyan/data/20230313/Run_00037/out\n"
     ]
    },
    {
     "name": "stderr",
     "output_type": "stream",
     "text": [
      "/home/jovyan/farsite-devAPI/src/farsiteutils_v2.py:177: FutureWarning: The frame.append method is deprecated and will be removed from pandas in a future version. Use pandas.concat instead.\n",
      "  self.gdfsimulation = self.gdfsimulation.append(gdfappend)\n"
     ]
    },
    {
     "name": "stdout",
     "output_type": "stream",
     "text": [
      "Farsite $Rev: 2395 $\n",
      "Number of parallel threads = 4 (omp_get_num_procs = 128).\n",
      "Loading lcp file for Farsite #1: /home/jovyan/farsite/inputs/landscapes/Maria2019.lcp\n",
      "Loading inputs file for Farsite #1: /home/jovyan/data/20230313/Run_00038/config\n",
      "Loading ignition file for Farsite #1: /home/jovyan/data/ignitions/Maria2019E754a1d48f78245e5ad3007b9e023dc7b.shp\n",
      "Loading barrier file for Farsite #1: /home/jovyan/farsite/inputs/barriers/NoBarrier/NoBarrier.shp\n",
      "Launching Farsite #1\n",
      "Starting time step 0.000000 (maximum = 18)\n",
      "Writing outputs for Farsite #1 to /home/jovyan/data/20230313/Run_00038/out\n"
     ]
    },
    {
     "name": "stderr",
     "output_type": "stream",
     "text": [
      "/home/jovyan/farsite-devAPI/src/farsiteutils_v2.py:177: FutureWarning: The frame.append method is deprecated and will be removed from pandas in a future version. Use pandas.concat instead.\n",
      "  self.gdfsimulation = self.gdfsimulation.append(gdfappend)\n"
     ]
    },
    {
     "name": "stdout",
     "output_type": "stream",
     "text": [
      "Farsite $Rev: 2395 $\n",
      "Number of parallel threads = 4 (omp_get_num_procs = 128).\n",
      "Loading lcp file for Farsite #1: /home/jovyan/farsite/inputs/landscapes/Maria2019.lcp\n",
      "Loading inputs file for Farsite #1: /home/jovyan/data/20230313/Run_00039/config\n",
      "Loading ignition file for Farsite #1: /home/jovyan/data/ignitions/Maria2019E9bfbd7589dd446dcaa0109409a6f7a93.shp\n",
      "Loading barrier file for Farsite #1: /home/jovyan/farsite/inputs/barriers/NoBarrier/NoBarrier.shp\n",
      "Launching Farsite #1\n",
      "Starting time step 0.000000 (maximum = 18)\n",
      "Writing outputs for Farsite #1 to /home/jovyan/data/20230313/Run_00039/out\n"
     ]
    },
    {
     "name": "stderr",
     "output_type": "stream",
     "text": [
      "/home/jovyan/farsite-devAPI/src/farsiteutils_v2.py:177: FutureWarning: The frame.append method is deprecated and will be removed from pandas in a future version. Use pandas.concat instead.\n",
      "  self.gdfsimulation = self.gdfsimulation.append(gdfappend)\n"
     ]
    },
    {
     "name": "stdout",
     "output_type": "stream",
     "text": [
      "Farsite $Rev: 2395 $\n",
      "Number of parallel threads = 4 (omp_get_num_procs = 128).\n",
      "Loading lcp file for Farsite #1: /home/jovyan/farsite/inputs/landscapes/Maria2019.lcp\n",
      "Loading inputs file for Farsite #1: /home/jovyan/data/20230313/Run_00040/config\n",
      "Loading ignition file for Farsite #1: /home/jovyan/data/ignitions/Maria2019Eb4ca05fcf993447f943f6d96c3fc49c7.shp\n",
      "Loading barrier file for Farsite #1: /home/jovyan/farsite/inputs/barriers/NoBarrier/NoBarrier.shp\n",
      "Launching Farsite #1\n",
      "Starting time step 0.000000 (maximum = 18)\n",
      "Writing outputs for Farsite #1 to /home/jovyan/data/20230313/Run_00040/out\n"
     ]
    },
    {
     "name": "stderr",
     "output_type": "stream",
     "text": [
      "/home/jovyan/farsite-devAPI/src/farsiteutils_v2.py:177: FutureWarning: The frame.append method is deprecated and will be removed from pandas in a future version. Use pandas.concat instead.\n",
      "  self.gdfsimulation = self.gdfsimulation.append(gdfappend)\n"
     ]
    },
    {
     "name": "stdout",
     "output_type": "stream",
     "text": [
      "Farsite $Rev: 2395 $\n",
      "Number of parallel threads = 4 (omp_get_num_procs = 128).\n",
      "Loading lcp file for Farsite #1: /home/jovyan/farsite/inputs/landscapes/Maria2019.lcp\n",
      "Loading inputs file for Farsite #1: /home/jovyan/data/20230313/Run_00041/config\n",
      "Loading ignition file for Farsite #1: /home/jovyan/data/ignitions/Maria2019Ec74b7e8089f44a5ab6cbc808b2931784.shp\n",
      "Loading barrier file for Farsite #1: /home/jovyan/farsite/inputs/barriers/NoBarrier/NoBarrier.shp\n",
      "Launching Farsite #1\n",
      "Starting time step 0.000000 (maximum = 18)\n",
      "Writing outputs for Farsite #1 to /home/jovyan/data/20230313/Run_00041/out\n"
     ]
    },
    {
     "name": "stderr",
     "output_type": "stream",
     "text": [
      "/home/jovyan/farsite-devAPI/src/farsiteutils_v2.py:177: FutureWarning: The frame.append method is deprecated and will be removed from pandas in a future version. Use pandas.concat instead.\n",
      "  self.gdfsimulation = self.gdfsimulation.append(gdfappend)\n"
     ]
    },
    {
     "name": "stdout",
     "output_type": "stream",
     "text": [
      "Farsite $Rev: 2395 $\n",
      "Number of parallel threads = 4 (omp_get_num_procs = 128).\n",
      "Loading lcp file for Farsite #1: /home/jovyan/farsite/inputs/landscapes/Maria2019.lcp\n",
      "Loading inputs file for Farsite #1: /home/jovyan/data/20230313/Run_00042/config\n",
      "Loading ignition file for Farsite #1: /home/jovyan/data/ignitions/Maria2019Eed2c8cc6041a495f9b0446f75063854d.shp\n",
      "Loading barrier file for Farsite #1: /home/jovyan/farsite/inputs/barriers/NoBarrier/NoBarrier.shp\n",
      "Launching Farsite #1\n",
      "Starting time step 0.000000 (maximum = 18)\n",
      "Writing outputs for Farsite #1 to /home/jovyan/data/20230313/Run_00042/out\n"
     ]
    },
    {
     "name": "stderr",
     "output_type": "stream",
     "text": [
      "/home/jovyan/farsite-devAPI/src/farsiteutils_v2.py:177: FutureWarning: The frame.append method is deprecated and will be removed from pandas in a future version. Use pandas.concat instead.\n",
      "  self.gdfsimulation = self.gdfsimulation.append(gdfappend)\n"
     ]
    },
    {
     "name": "stdout",
     "output_type": "stream",
     "text": [
      "Farsite $Rev: 2395 $\n",
      "Number of parallel threads = 4 (omp_get_num_procs = 128).\n",
      "Loading lcp file for Farsite #1: /home/jovyan/farsite/inputs/landscapes/Maria2019.lcp\n",
      "Loading inputs file for Farsite #1: /home/jovyan/data/20230313/Run_00043/config\n",
      "Loading ignition file for Farsite #1: /home/jovyan/data/ignitions/Maria2019E977bc39bc9464be384db45b64f095b72.shp\n",
      "Loading barrier file for Farsite #1: /home/jovyan/farsite/inputs/barriers/NoBarrier/NoBarrier.shp\n",
      "Launching Farsite #1\n",
      "Starting time step 0.000000 (maximum = 18)\n",
      "Writing outputs for Farsite #1 to /home/jovyan/data/20230313/Run_00043/out\n"
     ]
    },
    {
     "name": "stderr",
     "output_type": "stream",
     "text": [
      "/home/jovyan/farsite-devAPI/src/farsiteutils_v2.py:177: FutureWarning: The frame.append method is deprecated and will be removed from pandas in a future version. Use pandas.concat instead.\n",
      "  self.gdfsimulation = self.gdfsimulation.append(gdfappend)\n"
     ]
    },
    {
     "name": "stdout",
     "output_type": "stream",
     "text": [
      "Farsite $Rev: 2395 $\n",
      "Number of parallel threads = 4 (omp_get_num_procs = 128).\n",
      "Loading lcp file for Farsite #1: /home/jovyan/farsite/inputs/landscapes/Maria2019.lcp\n",
      "Loading inputs file for Farsite #1: /home/jovyan/data/20230313/Run_00044/config\n",
      "Loading ignition file for Farsite #1: /home/jovyan/data/ignitions/Maria2019E9fa5aaaf486842daa3ed2965a49a4975.shp\n",
      "Loading barrier file for Farsite #1: /home/jovyan/farsite/inputs/barriers/NoBarrier/NoBarrier.shp\n",
      "Launching Farsite #1\n",
      "Starting time step 0.000000 (maximum = 18)\n",
      "Writing outputs for Farsite #1 to /home/jovyan/data/20230313/Run_00044/out\n"
     ]
    },
    {
     "name": "stderr",
     "output_type": "stream",
     "text": [
      "/home/jovyan/farsite-devAPI/src/farsiteutils_v2.py:177: FutureWarning: The frame.append method is deprecated and will be removed from pandas in a future version. Use pandas.concat instead.\n",
      "  self.gdfsimulation = self.gdfsimulation.append(gdfappend)\n"
     ]
    },
    {
     "name": "stdout",
     "output_type": "stream",
     "text": [
      "Farsite $Rev: 2395 $\n",
      "Number of parallel threads = 4 (omp_get_num_procs = 128).\n",
      "Loading lcp file for Farsite #1: /home/jovyan/farsite/inputs/landscapes/Maria2019.lcp\n",
      "Loading inputs file for Farsite #1: /home/jovyan/data/20230313/Run_00045/config\n",
      "Loading ignition file for Farsite #1: /home/jovyan/data/ignitions/Maria2019E030331f1463c49b6817fc9034d2c5bc7.shp\n",
      "Loading barrier file for Farsite #1: /home/jovyan/farsite/inputs/barriers/NoBarrier/NoBarrier.shp\n",
      "Launching Farsite #1\n",
      "Starting time step 0.000000 (maximum = 18)\n",
      "Writing outputs for Farsite #1 to /home/jovyan/data/20230313/Run_00045/out\n"
     ]
    },
    {
     "name": "stderr",
     "output_type": "stream",
     "text": [
      "/home/jovyan/farsite-devAPI/src/farsiteutils_v2.py:177: FutureWarning: The frame.append method is deprecated and will be removed from pandas in a future version. Use pandas.concat instead.\n",
      "  self.gdfsimulation = self.gdfsimulation.append(gdfappend)\n"
     ]
    },
    {
     "name": "stdout",
     "output_type": "stream",
     "text": [
      "Farsite $Rev: 2395 $\n",
      "Number of parallel threads = 4 (omp_get_num_procs = 128).\n",
      "Loading lcp file for Farsite #1: /home/jovyan/farsite/inputs/landscapes/Maria2019.lcp\n",
      "Loading inputs file for Farsite #1: /home/jovyan/data/20230313/Run_00046/config\n",
      "Loading ignition file for Farsite #1: /home/jovyan/data/ignitions/Maria2019Efa37d42b7e084887bf643b3eeed05fd0.shp\n",
      "Loading barrier file for Farsite #1: /home/jovyan/farsite/inputs/barriers/NoBarrier/NoBarrier.shp\n",
      "Launching Farsite #1\n",
      "Starting time step 0.000000 (maximum = 18)\n",
      "Writing outputs for Farsite #1 to /home/jovyan/data/20230313/Run_00046/out\n"
     ]
    },
    {
     "name": "stderr",
     "output_type": "stream",
     "text": [
      "/home/jovyan/farsite-devAPI/src/farsiteutils_v2.py:177: FutureWarning: The frame.append method is deprecated and will be removed from pandas in a future version. Use pandas.concat instead.\n",
      "  self.gdfsimulation = self.gdfsimulation.append(gdfappend)\n"
     ]
    },
    {
     "name": "stdout",
     "output_type": "stream",
     "text": [
      "Farsite $Rev: 2395 $\n",
      "Number of parallel threads = 4 (omp_get_num_procs = 128).\n",
      "Loading lcp file for Farsite #1: /home/jovyan/farsite/inputs/landscapes/Maria2019.lcp\n",
      "Loading inputs file for Farsite #1: /home/jovyan/data/20230313/Run_00047/config\n",
      "Loading ignition file for Farsite #1: /home/jovyan/data/ignitions/Maria2019Ee1c80b59eb81454dadbf7db0c716485c.shp\n",
      "Loading barrier file for Farsite #1: /home/jovyan/farsite/inputs/barriers/NoBarrier/NoBarrier.shp\n",
      "Launching Farsite #1\n",
      "Starting time step 0.000000 (maximum = 18)\n",
      "Writing outputs for Farsite #1 to /home/jovyan/data/20230313/Run_00047/out\n"
     ]
    },
    {
     "name": "stderr",
     "output_type": "stream",
     "text": [
      "/home/jovyan/farsite-devAPI/src/farsiteutils_v2.py:177: FutureWarning: The frame.append method is deprecated and will be removed from pandas in a future version. Use pandas.concat instead.\n",
      "  self.gdfsimulation = self.gdfsimulation.append(gdfappend)\n"
     ]
    },
    {
     "name": "stdout",
     "output_type": "stream",
     "text": [
      "Farsite $Rev: 2395 $\n",
      "Number of parallel threads = 4 (omp_get_num_procs = 128).\n",
      "Loading lcp file for Farsite #1: /home/jovyan/farsite/inputs/landscapes/Maria2019.lcp\n",
      "Loading inputs file for Farsite #1: /home/jovyan/data/20230313/Run_00048/config\n",
      "Loading ignition file for Farsite #1: /home/jovyan/data/ignitions/Maria2019Ecd87f10fb61444c2823c818ba8aeb4bf.shp\n",
      "Loading barrier file for Farsite #1: /home/jovyan/farsite/inputs/barriers/NoBarrier/NoBarrier.shp\n",
      "Launching Farsite #1\n",
      "Starting time step 0.000000 (maximum = 18)\n",
      "Writing outputs for Farsite #1 to /home/jovyan/data/20230313/Run_00048/out\n"
     ]
    },
    {
     "name": "stderr",
     "output_type": "stream",
     "text": [
      "/home/jovyan/farsite-devAPI/src/farsiteutils_v2.py:177: FutureWarning: The frame.append method is deprecated and will be removed from pandas in a future version. Use pandas.concat instead.\n",
      "  self.gdfsimulation = self.gdfsimulation.append(gdfappend)\n"
     ]
    },
    {
     "name": "stdout",
     "output_type": "stream",
     "text": [
      "Farsite $Rev: 2395 $\n",
      "Number of parallel threads = 4 (omp_get_num_procs = 128).\n",
      "Loading lcp file for Farsite #1: /home/jovyan/farsite/inputs/landscapes/Maria2019.lcp\n",
      "Loading inputs file for Farsite #1: /home/jovyan/data/20230313/Run_00049/config\n",
      "Loading ignition file for Farsite #1: /home/jovyan/data/ignitions/Maria2019E49a10f38ed814202b865f9fee4574133.shp\n",
      "Loading barrier file for Farsite #1: /home/jovyan/farsite/inputs/barriers/NoBarrier/NoBarrier.shp\n",
      "Launching Farsite #1\n",
      "Starting time step 0.000000 (maximum = 18)\n",
      "Writing outputs for Farsite #1 to /home/jovyan/data/20230313/Run_00049/out\n"
     ]
    },
    {
     "name": "stderr",
     "output_type": "stream",
     "text": [
      "/home/jovyan/farsite-devAPI/src/farsiteutils_v2.py:177: FutureWarning: The frame.append method is deprecated and will be removed from pandas in a future version. Use pandas.concat instead.\n",
      "  self.gdfsimulation = self.gdfsimulation.append(gdfappend)\n"
     ]
    },
    {
     "name": "stdout",
     "output_type": "stream",
     "text": [
      "Farsite $Rev: 2395 $\n",
      "Number of parallel threads = 4 (omp_get_num_procs = 128).\n",
      "Loading lcp file for Farsite #1: /home/jovyan/farsite/inputs/landscapes/Maria2019.lcp\n",
      "Loading inputs file for Farsite #1: /home/jovyan/data/20230313/Run_00050/config\n",
      "Loading ignition file for Farsite #1: /home/jovyan/data/ignitions/Maria2019Eaba91e4926ad4495b8f6f6721fbf1d5b.shp\n",
      "Loading barrier file for Farsite #1: /home/jovyan/farsite/inputs/barriers/NoBarrier/NoBarrier.shp\n",
      "Launching Farsite #1\n",
      "Starting time step 0.000000 (maximum = 18)\n",
      "Writing outputs for Farsite #1 to /home/jovyan/data/20230313/Run_00050/out\n"
     ]
    },
    {
     "name": "stderr",
     "output_type": "stream",
     "text": [
      "/home/jovyan/farsite-devAPI/src/farsiteutils_v2.py:177: FutureWarning: The frame.append method is deprecated and will be removed from pandas in a future version. Use pandas.concat instead.\n",
      "  self.gdfsimulation = self.gdfsimulation.append(gdfappend)\n"
     ]
    },
    {
     "name": "stdout",
     "output_type": "stream",
     "text": [
      "Farsite $Rev: 2395 $\n",
      "Number of parallel threads = 4 (omp_get_num_procs = 128).\n",
      "Loading lcp file for Farsite #1: /home/jovyan/farsite/inputs/landscapes/Maria2019.lcp\n",
      "Loading inputs file for Farsite #1: /home/jovyan/data/20230313/Run_00051/config\n",
      "Loading ignition file for Farsite #1: /home/jovyan/data/ignitions/Maria2019Ee1102ac9826849d4911d648d6c0e800d.shp\n",
      "Loading barrier file for Farsite #1: /home/jovyan/farsite/inputs/barriers/NoBarrier/NoBarrier.shp\n",
      "Launching Farsite #1\n",
      "Starting time step 0.000000 (maximum = 18)\n",
      "Writing outputs for Farsite #1 to /home/jovyan/data/20230313/Run_00051/out\n"
     ]
    },
    {
     "name": "stderr",
     "output_type": "stream",
     "text": [
      "/home/jovyan/farsite-devAPI/src/farsiteutils_v2.py:177: FutureWarning: The frame.append method is deprecated and will be removed from pandas in a future version. Use pandas.concat instead.\n",
      "  self.gdfsimulation = self.gdfsimulation.append(gdfappend)\n"
     ]
    },
    {
     "name": "stdout",
     "output_type": "stream",
     "text": [
      "Farsite $Rev: 2395 $\n",
      "Number of parallel threads = 4 (omp_get_num_procs = 128).\n",
      "Loading lcp file for Farsite #1: /home/jovyan/farsite/inputs/landscapes/Maria2019.lcp\n",
      "Loading inputs file for Farsite #1: /home/jovyan/data/20230313/Run_00052/config\n",
      "Loading ignition file for Farsite #1: /home/jovyan/data/ignitions/Maria2019Eb46b6067dc5340c5a77ccb475bccf5bc.shp\n",
      "Loading barrier file for Farsite #1: /home/jovyan/farsite/inputs/barriers/NoBarrier/NoBarrier.shp\n",
      "Launching Farsite #1\n",
      "Starting time step 0.000000 (maximum = 18)\n",
      "Writing outputs for Farsite #1 to /home/jovyan/data/20230313/Run_00052/out\n"
     ]
    },
    {
     "name": "stderr",
     "output_type": "stream",
     "text": [
      "/home/jovyan/farsite-devAPI/src/farsiteutils_v2.py:177: FutureWarning: The frame.append method is deprecated and will be removed from pandas in a future version. Use pandas.concat instead.\n",
      "  self.gdfsimulation = self.gdfsimulation.append(gdfappend)\n"
     ]
    },
    {
     "name": "stdout",
     "output_type": "stream",
     "text": [
      "Farsite $Rev: 2395 $\n",
      "Number of parallel threads = 4 (omp_get_num_procs = 128).\n",
      "Loading lcp file for Farsite #1: /home/jovyan/farsite/inputs/landscapes/Maria2019.lcp\n",
      "Loading inputs file for Farsite #1: /home/jovyan/data/20230313/Run_00053/config\n",
      "Loading ignition file for Farsite #1: /home/jovyan/data/ignitions/Maria2019E3b64f0fb972d4a9997b36a1d4973d373.shp\n",
      "Loading barrier file for Farsite #1: /home/jovyan/farsite/inputs/barriers/NoBarrier/NoBarrier.shp\n",
      "Launching Farsite #1\n",
      "Starting time step 0.000000 (maximum = 18)\n",
      "Writing outputs for Farsite #1 to /home/jovyan/data/20230313/Run_00053/out\n"
     ]
    },
    {
     "name": "stderr",
     "output_type": "stream",
     "text": [
      "/home/jovyan/farsite-devAPI/src/farsiteutils_v2.py:177: FutureWarning: The frame.append method is deprecated and will be removed from pandas in a future version. Use pandas.concat instead.\n",
      "  self.gdfsimulation = self.gdfsimulation.append(gdfappend)\n"
     ]
    },
    {
     "name": "stdout",
     "output_type": "stream",
     "text": [
      "Farsite $Rev: 2395 $\n",
      "Number of parallel threads = 4 (omp_get_num_procs = 128).\n",
      "Loading lcp file for Farsite #1: /home/jovyan/farsite/inputs/landscapes/Maria2019.lcp\n",
      "Loading inputs file for Farsite #1: /home/jovyan/data/20230313/Run_00054/config\n",
      "Loading ignition file for Farsite #1: /home/jovyan/data/ignitions/Maria2019E15864ebc36244e768d96ee18547929bf.shp\n",
      "Loading barrier file for Farsite #1: /home/jovyan/farsite/inputs/barriers/NoBarrier/NoBarrier.shp\n",
      "Launching Farsite #1\n",
      "Starting time step 0.000000 (maximum = 18)\n",
      "Writing outputs for Farsite #1 to /home/jovyan/data/20230313/Run_00054/out\n"
     ]
    },
    {
     "name": "stderr",
     "output_type": "stream",
     "text": [
      "/home/jovyan/farsite-devAPI/src/farsiteutils_v2.py:177: FutureWarning: The frame.append method is deprecated and will be removed from pandas in a future version. Use pandas.concat instead.\n",
      "  self.gdfsimulation = self.gdfsimulation.append(gdfappend)\n"
     ]
    },
    {
     "name": "stdout",
     "output_type": "stream",
     "text": [
      "Farsite $Rev: 2395 $\n",
      "Number of parallel threads = 4 (omp_get_num_procs = 128).\n",
      "Loading lcp file for Farsite #1: /home/jovyan/farsite/inputs/landscapes/Maria2019.lcp\n",
      "Loading inputs file for Farsite #1: /home/jovyan/data/20230313/Run_00055/config\n",
      "Loading ignition file for Farsite #1: /home/jovyan/data/ignitions/Maria2019Edf76d57b69da4c03a245deb638c69422.shp\n",
      "Loading barrier file for Farsite #1: /home/jovyan/farsite/inputs/barriers/NoBarrier/NoBarrier.shp\n",
      "Launching Farsite #1\n",
      "Starting time step 0.000000 (maximum = 18)\n",
      "Writing outputs for Farsite #1 to /home/jovyan/data/20230313/Run_00055/out\n"
     ]
    },
    {
     "name": "stderr",
     "output_type": "stream",
     "text": [
      "/home/jovyan/farsite-devAPI/src/farsiteutils_v2.py:177: FutureWarning: The frame.append method is deprecated and will be removed from pandas in a future version. Use pandas.concat instead.\n",
      "  self.gdfsimulation = self.gdfsimulation.append(gdfappend)\n"
     ]
    },
    {
     "name": "stdout",
     "output_type": "stream",
     "text": [
      "Farsite $Rev: 2395 $\n",
      "Number of parallel threads = 4 (omp_get_num_procs = 128).\n",
      "Loading lcp file for Farsite #1: /home/jovyan/farsite/inputs/landscapes/Maria2019.lcp\n",
      "Loading inputs file for Farsite #1: /home/jovyan/data/20230313/Run_00056/config\n",
      "Loading ignition file for Farsite #1: /home/jovyan/data/ignitions/Maria2019E0764adddc3af4498879ca99d98393a26.shp\n",
      "Loading barrier file for Farsite #1: /home/jovyan/farsite/inputs/barriers/NoBarrier/NoBarrier.shp\n",
      "Launching Farsite #1\n",
      "Starting time step 0.000000 (maximum = 18)\n",
      "Writing outputs for Farsite #1 to /home/jovyan/data/20230313/Run_00056/out\n"
     ]
    },
    {
     "name": "stderr",
     "output_type": "stream",
     "text": [
      "/home/jovyan/farsite-devAPI/src/farsiteutils_v2.py:177: FutureWarning: The frame.append method is deprecated and will be removed from pandas in a future version. Use pandas.concat instead.\n",
      "  self.gdfsimulation = self.gdfsimulation.append(gdfappend)\n"
     ]
    },
    {
     "name": "stdout",
     "output_type": "stream",
     "text": [
      "Farsite $Rev: 2395 $\n",
      "Number of parallel threads = 4 (omp_get_num_procs = 128).\n",
      "Loading lcp file for Farsite #1: /home/jovyan/farsite/inputs/landscapes/Maria2019.lcp\n",
      "Loading inputs file for Farsite #1: /home/jovyan/data/20230313/Run_00057/config\n",
      "Loading ignition file for Farsite #1: /home/jovyan/data/ignitions/Maria2019E2dff8afbe77844bdbecf3f4b150447e9.shp\n",
      "Loading barrier file for Farsite #1: /home/jovyan/farsite/inputs/barriers/NoBarrier/NoBarrier.shp\n",
      "Launching Farsite #1\n",
      "Starting time step 0.000000 (maximum = 18)\n",
      "Writing outputs for Farsite #1 to /home/jovyan/data/20230313/Run_00057/out\n"
     ]
    },
    {
     "name": "stderr",
     "output_type": "stream",
     "text": [
      "/home/jovyan/farsite-devAPI/src/farsiteutils_v2.py:177: FutureWarning: The frame.append method is deprecated and will be removed from pandas in a future version. Use pandas.concat instead.\n",
      "  self.gdfsimulation = self.gdfsimulation.append(gdfappend)\n"
     ]
    },
    {
     "name": "stdout",
     "output_type": "stream",
     "text": [
      "Farsite $Rev: 2395 $\n",
      "Number of parallel threads = 4 (omp_get_num_procs = 128).\n",
      "Loading lcp file for Farsite #1: /home/jovyan/farsite/inputs/landscapes/Maria2019.lcp\n",
      "Loading inputs file for Farsite #1: /home/jovyan/data/20230313/Run_00058/config\n",
      "Loading ignition file for Farsite #1: /home/jovyan/data/ignitions/Maria2019E9e924da697914871b689d3c1f1f813f0.shp\n",
      "Loading barrier file for Farsite #1: /home/jovyan/farsite/inputs/barriers/NoBarrier/NoBarrier.shp\n",
      "Launching Farsite #1\n",
      "Starting time step 0.000000 (maximum = 18)\n",
      "Writing outputs for Farsite #1 to /home/jovyan/data/20230313/Run_00058/out\n"
     ]
    },
    {
     "name": "stderr",
     "output_type": "stream",
     "text": [
      "/home/jovyan/farsite-devAPI/src/farsiteutils_v2.py:177: FutureWarning: The frame.append method is deprecated and will be removed from pandas in a future version. Use pandas.concat instead.\n",
      "  self.gdfsimulation = self.gdfsimulation.append(gdfappend)\n"
     ]
    },
    {
     "name": "stdout",
     "output_type": "stream",
     "text": [
      "Farsite $Rev: 2395 $\n",
      "Number of parallel threads = 4 (omp_get_num_procs = 128).\n",
      "Loading lcp file for Farsite #1: /home/jovyan/farsite/inputs/landscapes/Maria2019.lcp\n",
      "Loading inputs file for Farsite #1: /home/jovyan/data/20230313/Run_00059/config\n",
      "Loading ignition file for Farsite #1: /home/jovyan/data/ignitions/Maria2019E6dc5a2cb22f647d8b9ca689ed68dd097.shp\n",
      "Loading barrier file for Farsite #1: /home/jovyan/farsite/inputs/barriers/NoBarrier/NoBarrier.shp\n",
      "Launching Farsite #1\n",
      "Starting time step 0.000000 (maximum = 18)\n",
      "Writing outputs for Farsite #1 to /home/jovyan/data/20230313/Run_00059/out\n"
     ]
    },
    {
     "name": "stderr",
     "output_type": "stream",
     "text": [
      "/home/jovyan/farsite-devAPI/src/farsiteutils_v2.py:177: FutureWarning: The frame.append method is deprecated and will be removed from pandas in a future version. Use pandas.concat instead.\n",
      "  self.gdfsimulation = self.gdfsimulation.append(gdfappend)\n"
     ]
    },
    {
     "name": "stdout",
     "output_type": "stream",
     "text": [
      "Farsite $Rev: 2395 $\n",
      "Number of parallel threads = 4 (omp_get_num_procs = 128).\n",
      "Loading lcp file for Farsite #1: /home/jovyan/farsite/inputs/landscapes/Maria2019.lcp\n",
      "Loading inputs file for Farsite #1: /home/jovyan/data/20230313/Run_00060/config\n",
      "Loading ignition file for Farsite #1: /home/jovyan/data/ignitions/Maria2019E80de202011bf43cf8bf78cdce6b3c3fd.shp\n",
      "Loading barrier file for Farsite #1: /home/jovyan/farsite/inputs/barriers/NoBarrier/NoBarrier.shp\n",
      "Launching Farsite #1\n",
      "Starting time step 0.000000 (maximum = 18)\n",
      "Writing outputs for Farsite #1 to /home/jovyan/data/20230313/Run_00060/out\n"
     ]
    },
    {
     "name": "stderr",
     "output_type": "stream",
     "text": [
      "/home/jovyan/farsite-devAPI/src/farsiteutils_v2.py:177: FutureWarning: The frame.append method is deprecated and will be removed from pandas in a future version. Use pandas.concat instead.\n",
      "  self.gdfsimulation = self.gdfsimulation.append(gdfappend)\n"
     ]
    },
    {
     "name": "stdout",
     "output_type": "stream",
     "text": [
      "Farsite $Rev: 2395 $\n",
      "Number of parallel threads = 4 (omp_get_num_procs = 128).\n",
      "Loading lcp file for Farsite #1: /home/jovyan/farsite/inputs/landscapes/Maria2019.lcp\n",
      "Loading inputs file for Farsite #1: /home/jovyan/data/20230313/Run_00061/config\n",
      "Loading ignition file for Farsite #1: /home/jovyan/data/ignitions/Maria2019E6c7736568fec4249962923073440349e.shp\n",
      "Loading barrier file for Farsite #1: /home/jovyan/farsite/inputs/barriers/NoBarrier/NoBarrier.shp\n",
      "Launching Farsite #1\n",
      "Starting time step 0.000000 (maximum = 18)\n",
      "Writing outputs for Farsite #1 to /home/jovyan/data/20230313/Run_00061/out\n"
     ]
    },
    {
     "name": "stderr",
     "output_type": "stream",
     "text": [
      "/home/jovyan/farsite-devAPI/src/farsiteutils_v2.py:177: FutureWarning: The frame.append method is deprecated and will be removed from pandas in a future version. Use pandas.concat instead.\n",
      "  self.gdfsimulation = self.gdfsimulation.append(gdfappend)\n"
     ]
    },
    {
     "name": "stdout",
     "output_type": "stream",
     "text": [
      "Farsite $Rev: 2395 $\n",
      "Number of parallel threads = 4 (omp_get_num_procs = 128).\n",
      "Loading lcp file for Farsite #1: /home/jovyan/farsite/inputs/landscapes/Maria2019.lcp\n",
      "Loading inputs file for Farsite #1: /home/jovyan/data/20230313/Run_00062/config\n",
      "Loading ignition file for Farsite #1: /home/jovyan/data/ignitions/Maria2019E13c53ba073b94ebb9fdb396e5c9e84c3.shp\n",
      "Loading barrier file for Farsite #1: /home/jovyan/farsite/inputs/barriers/NoBarrier/NoBarrier.shp\n",
      "Launching Farsite #1\n",
      "Starting time step 0.000000 (maximum = 18)\n",
      "Writing outputs for Farsite #1 to /home/jovyan/data/20230313/Run_00062/out\n"
     ]
    },
    {
     "name": "stderr",
     "output_type": "stream",
     "text": [
      "/home/jovyan/farsite-devAPI/src/farsiteutils_v2.py:177: FutureWarning: The frame.append method is deprecated and will be removed from pandas in a future version. Use pandas.concat instead.\n",
      "  self.gdfsimulation = self.gdfsimulation.append(gdfappend)\n"
     ]
    },
    {
     "name": "stdout",
     "output_type": "stream",
     "text": [
      "Farsite $Rev: 2395 $\n",
      "Number of parallel threads = 4 (omp_get_num_procs = 128).\n",
      "Loading lcp file for Farsite #1: /home/jovyan/farsite/inputs/landscapes/Maria2019.lcp\n",
      "Loading inputs file for Farsite #1: /home/jovyan/data/20230313/Run_00063/config\n",
      "Loading ignition file for Farsite #1: /home/jovyan/data/ignitions/Maria2019E6370edbe4cf549c08f91bd4a30606f4f.shp\n",
      "Loading barrier file for Farsite #1: /home/jovyan/farsite/inputs/barriers/NoBarrier/NoBarrier.shp\n",
      "Launching Farsite #1\n",
      "Starting time step 0.000000 (maximum = 18)\n",
      "Writing outputs for Farsite #1 to /home/jovyan/data/20230313/Run_00063/out\n"
     ]
    },
    {
     "name": "stderr",
     "output_type": "stream",
     "text": [
      "/home/jovyan/farsite-devAPI/src/farsiteutils_v2.py:177: FutureWarning: The frame.append method is deprecated and will be removed from pandas in a future version. Use pandas.concat instead.\n",
      "  self.gdfsimulation = self.gdfsimulation.append(gdfappend)\n"
     ]
    },
    {
     "name": "stdout",
     "output_type": "stream",
     "text": [
      "Farsite $Rev: 2395 $\n",
      "Number of parallel threads = 4 (omp_get_num_procs = 128).\n",
      "Loading lcp file for Farsite #1: /home/jovyan/farsite/inputs/landscapes/Maria2019.lcp\n",
      "Loading inputs file for Farsite #1: /home/jovyan/data/20230313/Run_00064/config\n",
      "Loading ignition file for Farsite #1: /home/jovyan/data/ignitions/Maria2019E9c3f5c3c5a3449c58042f09c3acb875f.shp\n",
      "Loading barrier file for Farsite #1: /home/jovyan/farsite/inputs/barriers/NoBarrier/NoBarrier.shp\n",
      "Launching Farsite #1\n",
      "Starting time step 0.000000 (maximum = 18)\n",
      "Writing outputs for Farsite #1 to /home/jovyan/data/20230313/Run_00064/out\n"
     ]
    },
    {
     "name": "stderr",
     "output_type": "stream",
     "text": [
      "/home/jovyan/farsite-devAPI/src/farsiteutils_v2.py:177: FutureWarning: The frame.append method is deprecated and will be removed from pandas in a future version. Use pandas.concat instead.\n",
      "  self.gdfsimulation = self.gdfsimulation.append(gdfappend)\n"
     ]
    },
    {
     "name": "stdout",
     "output_type": "stream",
     "text": [
      "Farsite $Rev: 2395 $\n",
      "Number of parallel threads = 4 (omp_get_num_procs = 128).\n",
      "Loading lcp file for Farsite #1: /home/jovyan/farsite/inputs/landscapes/Maria2019.lcp\n",
      "Loading inputs file for Farsite #1: /home/jovyan/data/20230313/Run_00065/config\n",
      "Loading ignition file for Farsite #1: /home/jovyan/data/ignitions/Maria2019E46f940a5d2e74474ae5ddbefbf18d211.shp\n",
      "Loading barrier file for Farsite #1: /home/jovyan/farsite/inputs/barriers/NoBarrier/NoBarrier.shp\n",
      "Launching Farsite #1\n",
      "Starting time step 0.000000 (maximum = 18)\n",
      "Writing outputs for Farsite #1 to /home/jovyan/data/20230313/Run_00065/out\n"
     ]
    },
    {
     "name": "stderr",
     "output_type": "stream",
     "text": [
      "/home/jovyan/farsite-devAPI/src/farsiteutils_v2.py:177: FutureWarning: The frame.append method is deprecated and will be removed from pandas in a future version. Use pandas.concat instead.\n",
      "  self.gdfsimulation = self.gdfsimulation.append(gdfappend)\n"
     ]
    },
    {
     "name": "stdout",
     "output_type": "stream",
     "text": [
      "Farsite $Rev: 2395 $\n",
      "Number of parallel threads = 4 (omp_get_num_procs = 128).\n",
      "Loading lcp file for Farsite #1: /home/jovyan/farsite/inputs/landscapes/Maria2019.lcp\n",
      "Loading inputs file for Farsite #1: /home/jovyan/data/20230313/Run_00066/config\n",
      "Loading ignition file for Farsite #1: /home/jovyan/data/ignitions/Maria2019Ec56ac7dbdf514fd5881cae5720bfbdf5.shp\n",
      "Loading barrier file for Farsite #1: /home/jovyan/farsite/inputs/barriers/NoBarrier/NoBarrier.shp\n",
      "Launching Farsite #1\n",
      "Starting time step 0.000000 (maximum = 18)\n",
      "Writing outputs for Farsite #1 to /home/jovyan/data/20230313/Run_00066/out\n"
     ]
    },
    {
     "name": "stderr",
     "output_type": "stream",
     "text": [
      "/home/jovyan/farsite-devAPI/src/farsiteutils_v2.py:177: FutureWarning: The frame.append method is deprecated and will be removed from pandas in a future version. Use pandas.concat instead.\n",
      "  self.gdfsimulation = self.gdfsimulation.append(gdfappend)\n"
     ]
    },
    {
     "name": "stdout",
     "output_type": "stream",
     "text": [
      "Farsite $Rev: 2395 $\n",
      "Number of parallel threads = 4 (omp_get_num_procs = 128).\n",
      "Loading lcp file for Farsite #1: /home/jovyan/farsite/inputs/landscapes/Maria2019.lcp\n",
      "Loading inputs file for Farsite #1: /home/jovyan/data/20230313/Run_00067/config\n",
      "Loading ignition file for Farsite #1: /home/jovyan/data/ignitions/Maria2019Ef76f4607586c40949a630891f8d0c7ca.shp\n",
      "Loading barrier file for Farsite #1: /home/jovyan/farsite/inputs/barriers/NoBarrier/NoBarrier.shp\n",
      "Launching Farsite #1\n",
      "Starting time step 0.000000 (maximum = 18)\n",
      "Writing outputs for Farsite #1 to /home/jovyan/data/20230313/Run_00067/out\n"
     ]
    },
    {
     "name": "stderr",
     "output_type": "stream",
     "text": [
      "/home/jovyan/farsite-devAPI/src/farsiteutils_v2.py:177: FutureWarning: The frame.append method is deprecated and will be removed from pandas in a future version. Use pandas.concat instead.\n",
      "  self.gdfsimulation = self.gdfsimulation.append(gdfappend)\n"
     ]
    },
    {
     "name": "stdout",
     "output_type": "stream",
     "text": [
      "Farsite $Rev: 2395 $\n",
      "Number of parallel threads = 4 (omp_get_num_procs = 128).\n",
      "Loading lcp file for Farsite #1: /home/jovyan/farsite/inputs/landscapes/Maria2019.lcp\n",
      "Loading inputs file for Farsite #1: /home/jovyan/data/20230313/Run_00068/config\n",
      "Loading ignition file for Farsite #1: /home/jovyan/data/ignitions/Maria2019Eed27ed9144944c94bf15b8c8b93e5c47.shp\n",
      "Loading barrier file for Farsite #1: /home/jovyan/farsite/inputs/barriers/NoBarrier/NoBarrier.shp\n",
      "Launching Farsite #1\n",
      "Starting time step 0.000000 (maximum = 18)\n",
      "Writing outputs for Farsite #1 to /home/jovyan/data/20230313/Run_00068/out\n"
     ]
    },
    {
     "name": "stderr",
     "output_type": "stream",
     "text": [
      "/home/jovyan/farsite-devAPI/src/farsiteutils_v2.py:177: FutureWarning: The frame.append method is deprecated and will be removed from pandas in a future version. Use pandas.concat instead.\n",
      "  self.gdfsimulation = self.gdfsimulation.append(gdfappend)\n"
     ]
    },
    {
     "name": "stdout",
     "output_type": "stream",
     "text": [
      "Farsite $Rev: 2395 $\n",
      "Number of parallel threads = 4 (omp_get_num_procs = 128).\n",
      "Loading lcp file for Farsite #1: /home/jovyan/farsite/inputs/landscapes/Maria2019.lcp\n",
      "Loading inputs file for Farsite #1: /home/jovyan/data/20230313/Run_00069/config\n",
      "Loading ignition file for Farsite #1: /home/jovyan/data/ignitions/Maria2019E667b0240ad864d819c58c024acd4b501.shp\n",
      "Loading barrier file for Farsite #1: /home/jovyan/farsite/inputs/barriers/NoBarrier/NoBarrier.shp\n",
      "Launching Farsite #1\n",
      "Starting time step 0.000000 (maximum = 18)\n",
      "Writing outputs for Farsite #1 to /home/jovyan/data/20230313/Run_00069/out\n"
     ]
    },
    {
     "name": "stderr",
     "output_type": "stream",
     "text": [
      "/home/jovyan/farsite-devAPI/src/farsiteutils_v2.py:177: FutureWarning: The frame.append method is deprecated and will be removed from pandas in a future version. Use pandas.concat instead.\n",
      "  self.gdfsimulation = self.gdfsimulation.append(gdfappend)\n"
     ]
    },
    {
     "name": "stdout",
     "output_type": "stream",
     "text": [
      "Farsite $Rev: 2395 $\n",
      "Number of parallel threads = 4 (omp_get_num_procs = 128).\n",
      "Loading lcp file for Farsite #1: /home/jovyan/farsite/inputs/landscapes/Maria2019.lcp\n",
      "Loading inputs file for Farsite #1: /home/jovyan/data/20230313/Run_00070/config\n",
      "Loading ignition file for Farsite #1: /home/jovyan/data/ignitions/Maria2019Ea7b46d785b514d26981a313b84ba2e9d.shp\n",
      "Loading barrier file for Farsite #1: /home/jovyan/farsite/inputs/barriers/NoBarrier/NoBarrier.shp\n",
      "Launching Farsite #1\n",
      "Starting time step 0.000000 (maximum = 18)\n",
      "Writing outputs for Farsite #1 to /home/jovyan/data/20230313/Run_00070/out\n"
     ]
    },
    {
     "name": "stderr",
     "output_type": "stream",
     "text": [
      "/home/jovyan/farsite-devAPI/src/farsiteutils_v2.py:177: FutureWarning: The frame.append method is deprecated and will be removed from pandas in a future version. Use pandas.concat instead.\n",
      "  self.gdfsimulation = self.gdfsimulation.append(gdfappend)\n"
     ]
    },
    {
     "name": "stdout",
     "output_type": "stream",
     "text": [
      "Farsite $Rev: 2395 $\n",
      "Number of parallel threads = 4 (omp_get_num_procs = 128).\n",
      "Loading lcp file for Farsite #1: /home/jovyan/farsite/inputs/landscapes/Maria2019.lcp\n",
      "Loading inputs file for Farsite #1: /home/jovyan/data/20230313/Run_00071/config\n",
      "Loading ignition file for Farsite #1: /home/jovyan/data/ignitions/Maria2019Ee91f1d7c29b547a8b580329dda194959.shp\n",
      "Loading barrier file for Farsite #1: /home/jovyan/farsite/inputs/barriers/NoBarrier/NoBarrier.shp\n",
      "Launching Farsite #1\n",
      "Starting time step 0.000000 (maximum = 18)\n",
      "Writing outputs for Farsite #1 to /home/jovyan/data/20230313/Run_00071/out\n"
     ]
    },
    {
     "name": "stderr",
     "output_type": "stream",
     "text": [
      "/home/jovyan/farsite-devAPI/src/farsiteutils_v2.py:177: FutureWarning: The frame.append method is deprecated and will be removed from pandas in a future version. Use pandas.concat instead.\n",
      "  self.gdfsimulation = self.gdfsimulation.append(gdfappend)\n"
     ]
    },
    {
     "name": "stdout",
     "output_type": "stream",
     "text": [
      "Farsite $Rev: 2395 $\n",
      "Number of parallel threads = 4 (omp_get_num_procs = 128).\n",
      "Loading lcp file for Farsite #1: /home/jovyan/farsite/inputs/landscapes/Maria2019.lcp\n",
      "Loading inputs file for Farsite #1: /home/jovyan/data/20230313/Run_00072/config\n",
      "Loading ignition file for Farsite #1: /home/jovyan/data/ignitions/Maria2019E9ed9147e8dc94e7eb0135be0c8e1ebc2.shp\n",
      "Loading barrier file for Farsite #1: /home/jovyan/farsite/inputs/barriers/NoBarrier/NoBarrier.shp\n",
      "Launching Farsite #1\n",
      "Starting time step 0.000000 (maximum = 18)\n",
      "Writing outputs for Farsite #1 to /home/jovyan/data/20230313/Run_00072/out\n"
     ]
    },
    {
     "name": "stderr",
     "output_type": "stream",
     "text": [
      "/home/jovyan/farsite-devAPI/src/farsiteutils_v2.py:177: FutureWarning: The frame.append method is deprecated and will be removed from pandas in a future version. Use pandas.concat instead.\n",
      "  self.gdfsimulation = self.gdfsimulation.append(gdfappend)\n"
     ]
    },
    {
     "name": "stdout",
     "output_type": "stream",
     "text": [
      "Farsite $Rev: 2395 $\n",
      "Number of parallel threads = 4 (omp_get_num_procs = 128).\n",
      "Loading lcp file for Farsite #1: /home/jovyan/farsite/inputs/landscapes/Maria2019.lcp\n",
      "Loading inputs file for Farsite #1: /home/jovyan/data/20230313/Run_00073/config\n",
      "Loading ignition file for Farsite #1: /home/jovyan/data/ignitions/Maria2019E29b059b056dc4c3b8e5b81f11205a020.shp\n",
      "Loading barrier file for Farsite #1: /home/jovyan/farsite/inputs/barriers/NoBarrier/NoBarrier.shp\n",
      "Launching Farsite #1\n",
      "Starting time step 0.000000 (maximum = 18)\n",
      "Writing outputs for Farsite #1 to /home/jovyan/data/20230313/Run_00073/out\n"
     ]
    },
    {
     "name": "stderr",
     "output_type": "stream",
     "text": [
      "/home/jovyan/farsite-devAPI/src/farsiteutils_v2.py:177: FutureWarning: The frame.append method is deprecated and will be removed from pandas in a future version. Use pandas.concat instead.\n",
      "  self.gdfsimulation = self.gdfsimulation.append(gdfappend)\n"
     ]
    },
    {
     "name": "stdout",
     "output_type": "stream",
     "text": [
      "Farsite $Rev: 2395 $\n",
      "Number of parallel threads = 4 (omp_get_num_procs = 128).\n",
      "Loading lcp file for Farsite #1: /home/jovyan/farsite/inputs/landscapes/Maria2019.lcp\n",
      "Loading inputs file for Farsite #1: /home/jovyan/data/20230313/Run_00074/config\n",
      "Loading ignition file for Farsite #1: /home/jovyan/data/ignitions/Maria2019E25a857e755cf44a793d23c18fac19a92.shp\n",
      "Loading barrier file for Farsite #1: /home/jovyan/farsite/inputs/barriers/NoBarrier/NoBarrier.shp\n",
      "Launching Farsite #1\n",
      "Starting time step 0.000000 (maximum = 18)\n",
      "Writing outputs for Farsite #1 to /home/jovyan/data/20230313/Run_00074/out\n"
     ]
    },
    {
     "name": "stderr",
     "output_type": "stream",
     "text": [
      "/home/jovyan/farsite-devAPI/src/farsiteutils_v2.py:177: FutureWarning: The frame.append method is deprecated and will be removed from pandas in a future version. Use pandas.concat instead.\n",
      "  self.gdfsimulation = self.gdfsimulation.append(gdfappend)\n"
     ]
    },
    {
     "name": "stdout",
     "output_type": "stream",
     "text": [
      "Farsite $Rev: 2395 $\n",
      "Number of parallel threads = 4 (omp_get_num_procs = 128).\n",
      "Loading lcp file for Farsite #1: /home/jovyan/farsite/inputs/landscapes/Maria2019.lcp\n",
      "Loading inputs file for Farsite #1: /home/jovyan/data/20230313/Run_00075/config\n",
      "Loading ignition file for Farsite #1: /home/jovyan/data/ignitions/Maria2019E195e30ab98b6423680410459e253c8d1.shp\n",
      "Loading barrier file for Farsite #1: /home/jovyan/farsite/inputs/barriers/NoBarrier/NoBarrier.shp\n",
      "Launching Farsite #1\n",
      "Starting time step 0.000000 (maximum = 18)\n",
      "Writing outputs for Farsite #1 to /home/jovyan/data/20230313/Run_00075/out\n"
     ]
    },
    {
     "name": "stderr",
     "output_type": "stream",
     "text": [
      "/home/jovyan/farsite-devAPI/src/farsiteutils_v2.py:177: FutureWarning: The frame.append method is deprecated and will be removed from pandas in a future version. Use pandas.concat instead.\n",
      "  self.gdfsimulation = self.gdfsimulation.append(gdfappend)\n"
     ]
    },
    {
     "name": "stdout",
     "output_type": "stream",
     "text": [
      "Farsite $Rev: 2395 $\n",
      "Number of parallel threads = 4 (omp_get_num_procs = 128).\n",
      "Loading lcp file for Farsite #1: /home/jovyan/farsite/inputs/landscapes/Maria2019.lcp\n",
      "Loading inputs file for Farsite #1: /home/jovyan/data/20230313/Run_00076/config\n",
      "Loading ignition file for Farsite #1: /home/jovyan/data/ignitions/Maria2019E34cd6a27ad96455ba6498517169bc967.shp\n",
      "Loading barrier file for Farsite #1: /home/jovyan/farsite/inputs/barriers/NoBarrier/NoBarrier.shp\n",
      "Launching Farsite #1\n",
      "Starting time step 0.000000 (maximum = 18)\n",
      "Writing outputs for Farsite #1 to /home/jovyan/data/20230313/Run_00076/out\n"
     ]
    },
    {
     "name": "stderr",
     "output_type": "stream",
     "text": [
      "/home/jovyan/farsite-devAPI/src/farsiteutils_v2.py:177: FutureWarning: The frame.append method is deprecated and will be removed from pandas in a future version. Use pandas.concat instead.\n",
      "  self.gdfsimulation = self.gdfsimulation.append(gdfappend)\n"
     ]
    },
    {
     "name": "stdout",
     "output_type": "stream",
     "text": [
      "Farsite $Rev: 2395 $\n",
      "Number of parallel threads = 4 (omp_get_num_procs = 128).\n",
      "Loading lcp file for Farsite #1: /home/jovyan/farsite/inputs/landscapes/Maria2019.lcp\n",
      "Loading inputs file for Farsite #1: /home/jovyan/data/20230313/Run_00077/config\n",
      "Loading ignition file for Farsite #1: /home/jovyan/data/ignitions/Maria2019Eee5632e4e8994fb997dc39ad71c07ddd.shp\n",
      "Loading barrier file for Farsite #1: /home/jovyan/farsite/inputs/barriers/NoBarrier/NoBarrier.shp\n",
      "Launching Farsite #1\n",
      "Starting time step 0.000000 (maximum = 18)\n",
      "Writing outputs for Farsite #1 to /home/jovyan/data/20230313/Run_00077/out\n"
     ]
    },
    {
     "name": "stderr",
     "output_type": "stream",
     "text": [
      "/home/jovyan/farsite-devAPI/src/farsiteutils_v2.py:177: FutureWarning: The frame.append method is deprecated and will be removed from pandas in a future version. Use pandas.concat instead.\n",
      "  self.gdfsimulation = self.gdfsimulation.append(gdfappend)\n"
     ]
    },
    {
     "name": "stdout",
     "output_type": "stream",
     "text": [
      "Farsite $Rev: 2395 $\n",
      "Number of parallel threads = 4 (omp_get_num_procs = 128).\n",
      "Loading lcp file for Farsite #1: /home/jovyan/farsite/inputs/landscapes/Maria2019.lcp\n",
      "Loading inputs file for Farsite #1: /home/jovyan/data/20230313/Run_00078/config\n",
      "Loading ignition file for Farsite #1: /home/jovyan/data/ignitions/Maria2019Eeeb83c2147fb4007a65cb6d2770b3017.shp\n",
      "Loading barrier file for Farsite #1: /home/jovyan/farsite/inputs/barriers/NoBarrier/NoBarrier.shp\n",
      "Launching Farsite #1\n",
      "Starting time step 0.000000 (maximum = 18)\n",
      "Writing outputs for Farsite #1 to /home/jovyan/data/20230313/Run_00078/out\n"
     ]
    },
    {
     "name": "stderr",
     "output_type": "stream",
     "text": [
      "/home/jovyan/farsite-devAPI/src/farsiteutils_v2.py:177: FutureWarning: The frame.append method is deprecated and will be removed from pandas in a future version. Use pandas.concat instead.\n",
      "  self.gdfsimulation = self.gdfsimulation.append(gdfappend)\n"
     ]
    },
    {
     "name": "stdout",
     "output_type": "stream",
     "text": [
      "Farsite $Rev: 2395 $\n",
      "Number of parallel threads = 4 (omp_get_num_procs = 128).\n",
      "Loading lcp file for Farsite #1: /home/jovyan/farsite/inputs/landscapes/Maria2019.lcp\n",
      "Loading inputs file for Farsite #1: /home/jovyan/data/20230313/Run_00079/config\n",
      "Loading ignition file for Farsite #1: /home/jovyan/data/ignitions/Maria2019Ec7fe9abfae9d4465b17e189165f84277.shp\n",
      "Loading barrier file for Farsite #1: /home/jovyan/farsite/inputs/barriers/NoBarrier/NoBarrier.shp\n",
      "Launching Farsite #1\n",
      "Starting time step 0.000000 (maximum = 18)\n",
      "Writing outputs for Farsite #1 to /home/jovyan/data/20230313/Run_00079/out\n"
     ]
    },
    {
     "name": "stderr",
     "output_type": "stream",
     "text": [
      "/home/jovyan/farsite-devAPI/src/farsiteutils_v2.py:177: FutureWarning: The frame.append method is deprecated and will be removed from pandas in a future version. Use pandas.concat instead.\n",
      "  self.gdfsimulation = self.gdfsimulation.append(gdfappend)\n"
     ]
    },
    {
     "name": "stdout",
     "output_type": "stream",
     "text": [
      "Farsite $Rev: 2395 $\n",
      "Number of parallel threads = 4 (omp_get_num_procs = 128).\n",
      "Loading lcp file for Farsite #1: /home/jovyan/farsite/inputs/landscapes/Maria2019.lcp\n",
      "Loading inputs file for Farsite #1: /home/jovyan/data/20230313/Run_00080/config\n",
      "Loading ignition file for Farsite #1: /home/jovyan/data/ignitions/Maria2019E7250c72c3860408ab24ef8e8884eb68b.shp\n",
      "Loading barrier file for Farsite #1: /home/jovyan/farsite/inputs/barriers/NoBarrier/NoBarrier.shp\n",
      "Launching Farsite #1\n",
      "Starting time step 0.000000 (maximum = 18)\n",
      "Writing outputs for Farsite #1 to /home/jovyan/data/20230313/Run_00080/out\n"
     ]
    },
    {
     "name": "stderr",
     "output_type": "stream",
     "text": [
      "/home/jovyan/farsite-devAPI/src/farsiteutils_v2.py:177: FutureWarning: The frame.append method is deprecated and will be removed from pandas in a future version. Use pandas.concat instead.\n",
      "  self.gdfsimulation = self.gdfsimulation.append(gdfappend)\n"
     ]
    },
    {
     "name": "stdout",
     "output_type": "stream",
     "text": [
      "Farsite $Rev: 2395 $\n",
      "Number of parallel threads = 4 (omp_get_num_procs = 128).\n",
      "Loading lcp file for Farsite #1: /home/jovyan/farsite/inputs/landscapes/Maria2019.lcp\n",
      "Loading inputs file for Farsite #1: /home/jovyan/data/20230313/Run_00081/config\n",
      "Loading ignition file for Farsite #1: /home/jovyan/data/ignitions/Maria2019Ecf17b389f6c94c248b992a0312dc5818.shp\n",
      "Loading barrier file for Farsite #1: /home/jovyan/farsite/inputs/barriers/NoBarrier/NoBarrier.shp\n",
      "Launching Farsite #1\n",
      "Starting time step 0.000000 (maximum = 18)\n",
      "Writing outputs for Farsite #1 to /home/jovyan/data/20230313/Run_00081/out\n"
     ]
    },
    {
     "name": "stderr",
     "output_type": "stream",
     "text": [
      "/home/jovyan/farsite-devAPI/src/farsiteutils_v2.py:177: FutureWarning: The frame.append method is deprecated and will be removed from pandas in a future version. Use pandas.concat instead.\n",
      "  self.gdfsimulation = self.gdfsimulation.append(gdfappend)\n"
     ]
    },
    {
     "name": "stdout",
     "output_type": "stream",
     "text": [
      "Farsite $Rev: 2395 $\n",
      "Number of parallel threads = 4 (omp_get_num_procs = 128).\n",
      "Loading lcp file for Farsite #1: /home/jovyan/farsite/inputs/landscapes/Maria2019.lcp\n",
      "Loading inputs file for Farsite #1: /home/jovyan/data/20230313/Run_00082/config\n",
      "Loading ignition file for Farsite #1: /home/jovyan/data/ignitions/Maria2019E514c12ebc88348f58a5df538dc843108.shp\n",
      "Loading barrier file for Farsite #1: /home/jovyan/farsite/inputs/barriers/NoBarrier/NoBarrier.shp\n",
      "Launching Farsite #1\n",
      "Starting time step 0.000000 (maximum = 18)\n",
      "Writing outputs for Farsite #1 to /home/jovyan/data/20230313/Run_00082/out\n"
     ]
    },
    {
     "name": "stderr",
     "output_type": "stream",
     "text": [
      "/home/jovyan/farsite-devAPI/src/farsiteutils_v2.py:177: FutureWarning: The frame.append method is deprecated and will be removed from pandas in a future version. Use pandas.concat instead.\n",
      "  self.gdfsimulation = self.gdfsimulation.append(gdfappend)\n"
     ]
    },
    {
     "name": "stdout",
     "output_type": "stream",
     "text": [
      "Farsite $Rev: 2395 $\n",
      "Number of parallel threads = 4 (omp_get_num_procs = 128).\n",
      "Loading lcp file for Farsite #1: /home/jovyan/farsite/inputs/landscapes/Maria2019.lcp\n",
      "Loading inputs file for Farsite #1: /home/jovyan/data/20230313/Run_00083/config\n",
      "Loading ignition file for Farsite #1: /home/jovyan/data/ignitions/Maria2019Eeecd4d9472454aa9a9d3ce1898a3997b.shp\n",
      "Loading barrier file for Farsite #1: /home/jovyan/farsite/inputs/barriers/NoBarrier/NoBarrier.shp\n",
      "Launching Farsite #1\n",
      "Starting time step 0.000000 (maximum = 18)\n",
      "Writing outputs for Farsite #1 to /home/jovyan/data/20230313/Run_00083/out\n"
     ]
    },
    {
     "name": "stderr",
     "output_type": "stream",
     "text": [
      "/home/jovyan/farsite-devAPI/src/farsiteutils_v2.py:177: FutureWarning: The frame.append method is deprecated and will be removed from pandas in a future version. Use pandas.concat instead.\n",
      "  self.gdfsimulation = self.gdfsimulation.append(gdfappend)\n"
     ]
    },
    {
     "name": "stdout",
     "output_type": "stream",
     "text": [
      "Farsite $Rev: 2395 $\n",
      "Number of parallel threads = 4 (omp_get_num_procs = 128).\n",
      "Loading lcp file for Farsite #1: /home/jovyan/farsite/inputs/landscapes/Maria2019.lcp\n",
      "Loading inputs file for Farsite #1: /home/jovyan/data/20230313/Run_00084/config\n",
      "Loading ignition file for Farsite #1: /home/jovyan/data/ignitions/Maria2019E9dcedc5a67654bf3958165acac0f6283.shp\n",
      "Loading barrier file for Farsite #1: /home/jovyan/farsite/inputs/barriers/NoBarrier/NoBarrier.shp\n",
      "Launching Farsite #1\n",
      "Starting time step 0.000000 (maximum = 18)\n",
      "Writing outputs for Farsite #1 to /home/jovyan/data/20230313/Run_00084/out\n"
     ]
    },
    {
     "name": "stderr",
     "output_type": "stream",
     "text": [
      "/home/jovyan/farsite-devAPI/src/farsiteutils_v2.py:177: FutureWarning: The frame.append method is deprecated and will be removed from pandas in a future version. Use pandas.concat instead.\n",
      "  self.gdfsimulation = self.gdfsimulation.append(gdfappend)\n"
     ]
    },
    {
     "name": "stdout",
     "output_type": "stream",
     "text": [
      "Farsite $Rev: 2395 $\n",
      "Number of parallel threads = 4 (omp_get_num_procs = 128).\n",
      "Loading lcp file for Farsite #1: /home/jovyan/farsite/inputs/landscapes/Maria2019.lcp\n",
      "Loading inputs file for Farsite #1: /home/jovyan/data/20230313/Run_00085/config\n",
      "Loading ignition file for Farsite #1: /home/jovyan/data/ignitions/Maria2019E5bfa9659d78d47259857a6a619d87de4.shp\n",
      "Loading barrier file for Farsite #1: /home/jovyan/farsite/inputs/barriers/NoBarrier/NoBarrier.shp\n",
      "Launching Farsite #1\n",
      "Starting time step 0.000000 (maximum = 18)\n",
      "Writing outputs for Farsite #1 to /home/jovyan/data/20230313/Run_00085/out\n"
     ]
    },
    {
     "name": "stderr",
     "output_type": "stream",
     "text": [
      "/home/jovyan/farsite-devAPI/src/farsiteutils_v2.py:177: FutureWarning: The frame.append method is deprecated and will be removed from pandas in a future version. Use pandas.concat instead.\n",
      "  self.gdfsimulation = self.gdfsimulation.append(gdfappend)\n"
     ]
    },
    {
     "name": "stdout",
     "output_type": "stream",
     "text": [
      "Farsite $Rev: 2395 $\n",
      "Number of parallel threads = 4 (omp_get_num_procs = 128).\n",
      "Loading lcp file for Farsite #1: /home/jovyan/farsite/inputs/landscapes/Maria2019.lcp\n",
      "Loading inputs file for Farsite #1: /home/jovyan/data/20230313/Run_00086/config\n",
      "Loading ignition file for Farsite #1: /home/jovyan/data/ignitions/Maria2019Ecab94d53c19b4c3c98ad1af1b86c6bd4.shp\n",
      "Loading barrier file for Farsite #1: /home/jovyan/farsite/inputs/barriers/NoBarrier/NoBarrier.shp\n",
      "Launching Farsite #1\n",
      "Starting time step 0.000000 (maximum = 18)\n",
      "Writing outputs for Farsite #1 to /home/jovyan/data/20230313/Run_00086/out\n"
     ]
    },
    {
     "name": "stderr",
     "output_type": "stream",
     "text": [
      "/home/jovyan/farsite-devAPI/src/farsiteutils_v2.py:177: FutureWarning: The frame.append method is deprecated and will be removed from pandas in a future version. Use pandas.concat instead.\n",
      "  self.gdfsimulation = self.gdfsimulation.append(gdfappend)\n"
     ]
    },
    {
     "name": "stdout",
     "output_type": "stream",
     "text": [
      "Farsite $Rev: 2395 $\n",
      "Number of parallel threads = 4 (omp_get_num_procs = 128).\n",
      "Loading lcp file for Farsite #1: /home/jovyan/farsite/inputs/landscapes/Maria2019.lcp\n",
      "Loading inputs file for Farsite #1: /home/jovyan/data/20230313/Run_00087/config\n",
      "Loading ignition file for Farsite #1: /home/jovyan/data/ignitions/Maria2019Eb74cd15207304eec86e27ecf082c6e21.shp\n",
      "Loading barrier file for Farsite #1: /home/jovyan/farsite/inputs/barriers/NoBarrier/NoBarrier.shp\n",
      "Launching Farsite #1\n",
      "Starting time step 0.000000 (maximum = 18)\n",
      "Writing outputs for Farsite #1 to /home/jovyan/data/20230313/Run_00087/out\n"
     ]
    },
    {
     "name": "stderr",
     "output_type": "stream",
     "text": [
      "/home/jovyan/farsite-devAPI/src/farsiteutils_v2.py:177: FutureWarning: The frame.append method is deprecated and will be removed from pandas in a future version. Use pandas.concat instead.\n",
      "  self.gdfsimulation = self.gdfsimulation.append(gdfappend)\n"
     ]
    },
    {
     "name": "stdout",
     "output_type": "stream",
     "text": [
      "Farsite $Rev: 2395 $\n",
      "Number of parallel threads = 4 (omp_get_num_procs = 128).\n",
      "Loading lcp file for Farsite #1: /home/jovyan/farsite/inputs/landscapes/Maria2019.lcp\n",
      "Loading inputs file for Farsite #1: /home/jovyan/data/20230313/Run_00088/config\n",
      "Loading ignition file for Farsite #1: /home/jovyan/data/ignitions/Maria2019Eca503f2165bd4bb1a8a7512bda3bbfd1.shp\n",
      "Loading barrier file for Farsite #1: /home/jovyan/farsite/inputs/barriers/NoBarrier/NoBarrier.shp\n",
      "Launching Farsite #1\n",
      "Starting time step 0.000000 (maximum = 18)\n",
      "Writing outputs for Farsite #1 to /home/jovyan/data/20230313/Run_00088/out\n"
     ]
    },
    {
     "name": "stderr",
     "output_type": "stream",
     "text": [
      "/home/jovyan/farsite-devAPI/src/farsiteutils_v2.py:177: FutureWarning: The frame.append method is deprecated and will be removed from pandas in a future version. Use pandas.concat instead.\n",
      "  self.gdfsimulation = self.gdfsimulation.append(gdfappend)\n"
     ]
    },
    {
     "name": "stdout",
     "output_type": "stream",
     "text": [
      "Farsite $Rev: 2395 $\n",
      "Number of parallel threads = 4 (omp_get_num_procs = 128).\n",
      "Loading lcp file for Farsite #1: /home/jovyan/farsite/inputs/landscapes/Maria2019.lcp\n",
      "Loading inputs file for Farsite #1: /home/jovyan/data/20230313/Run_00089/config\n",
      "Loading ignition file for Farsite #1: /home/jovyan/data/ignitions/Maria2019Ee32d0da0ee664e54ae48fe10f30eba6c.shp\n",
      "Loading barrier file for Farsite #1: /home/jovyan/farsite/inputs/barriers/NoBarrier/NoBarrier.shp\n",
      "Launching Farsite #1\n",
      "Starting time step 0.000000 (maximum = 18)\n",
      "Writing outputs for Farsite #1 to /home/jovyan/data/20230313/Run_00089/out\n"
     ]
    },
    {
     "name": "stderr",
     "output_type": "stream",
     "text": [
      "/home/jovyan/farsite-devAPI/src/farsiteutils_v2.py:177: FutureWarning: The frame.append method is deprecated and will be removed from pandas in a future version. Use pandas.concat instead.\n",
      "  self.gdfsimulation = self.gdfsimulation.append(gdfappend)\n"
     ]
    },
    {
     "name": "stdout",
     "output_type": "stream",
     "text": [
      "Farsite $Rev: 2395 $\n",
      "Number of parallel threads = 4 (omp_get_num_procs = 128).\n",
      "Loading lcp file for Farsite #1: /home/jovyan/farsite/inputs/landscapes/Maria2019.lcp\n",
      "Loading inputs file for Farsite #1: /home/jovyan/data/20230313/Run_00090/config\n",
      "Loading ignition file for Farsite #1: /home/jovyan/data/ignitions/Maria2019E12be58d2ecf04632966e527b1e184195.shp\n",
      "Loading barrier file for Farsite #1: /home/jovyan/farsite/inputs/barriers/NoBarrier/NoBarrier.shp\n",
      "Launching Farsite #1\n",
      "Starting time step 0.000000 (maximum = 18)\n",
      "Writing outputs for Farsite #1 to /home/jovyan/data/20230313/Run_00090/out\n"
     ]
    },
    {
     "name": "stderr",
     "output_type": "stream",
     "text": [
      "/home/jovyan/farsite-devAPI/src/farsiteutils_v2.py:177: FutureWarning: The frame.append method is deprecated and will be removed from pandas in a future version. Use pandas.concat instead.\n",
      "  self.gdfsimulation = self.gdfsimulation.append(gdfappend)\n"
     ]
    },
    {
     "name": "stdout",
     "output_type": "stream",
     "text": [
      "Farsite $Rev: 2395 $\n",
      "Number of parallel threads = 4 (omp_get_num_procs = 128).\n",
      "Loading lcp file for Farsite #1: /home/jovyan/farsite/inputs/landscapes/Maria2019.lcp\n",
      "Loading inputs file for Farsite #1: /home/jovyan/data/20230313/Run_00091/config\n",
      "Loading ignition file for Farsite #1: /home/jovyan/data/ignitions/Maria2019Ea71793347dce4e18986cc91ce8739e42.shp\n",
      "Loading barrier file for Farsite #1: /home/jovyan/farsite/inputs/barriers/NoBarrier/NoBarrier.shp\n",
      "Launching Farsite #1\n",
      "Starting time step 0.000000 (maximum = 18)\n",
      "Writing outputs for Farsite #1 to /home/jovyan/data/20230313/Run_00091/out\n"
     ]
    },
    {
     "name": "stderr",
     "output_type": "stream",
     "text": [
      "/home/jovyan/farsite-devAPI/src/farsiteutils_v2.py:177: FutureWarning: The frame.append method is deprecated and will be removed from pandas in a future version. Use pandas.concat instead.\n",
      "  self.gdfsimulation = self.gdfsimulation.append(gdfappend)\n"
     ]
    },
    {
     "name": "stdout",
     "output_type": "stream",
     "text": [
      "Farsite $Rev: 2395 $\n",
      "Number of parallel threads = 4 (omp_get_num_procs = 128).\n",
      "Loading lcp file for Farsite #1: /home/jovyan/farsite/inputs/landscapes/Maria2019.lcp\n",
      "Loading inputs file for Farsite #1: /home/jovyan/data/20230313/Run_00092/config\n",
      "Loading ignition file for Farsite #1: /home/jovyan/data/ignitions/Maria2019E4f7060dc68d440d9b28fc2fa6336ba9e.shp\n",
      "Loading barrier file for Farsite #1: /home/jovyan/farsite/inputs/barriers/NoBarrier/NoBarrier.shp\n",
      "Launching Farsite #1\n",
      "Starting time step 0.000000 (maximum = 18)\n",
      "Writing outputs for Farsite #1 to /home/jovyan/data/20230313/Run_00092/out\n"
     ]
    },
    {
     "name": "stderr",
     "output_type": "stream",
     "text": [
      "/home/jovyan/farsite-devAPI/src/farsiteutils_v2.py:177: FutureWarning: The frame.append method is deprecated and will be removed from pandas in a future version. Use pandas.concat instead.\n",
      "  self.gdfsimulation = self.gdfsimulation.append(gdfappend)\n"
     ]
    },
    {
     "name": "stdout",
     "output_type": "stream",
     "text": [
      "Farsite $Rev: 2395 $\n",
      "Number of parallel threads = 4 (omp_get_num_procs = 128).\n",
      "Loading lcp file for Farsite #1: /home/jovyan/farsite/inputs/landscapes/Maria2019.lcp\n",
      "Loading inputs file for Farsite #1: /home/jovyan/data/20230313/Run_00093/config\n",
      "Loading ignition file for Farsite #1: /home/jovyan/data/ignitions/Maria2019E6871ca1377a04b71859ccf4c75d434be.shp\n",
      "Loading barrier file for Farsite #1: /home/jovyan/farsite/inputs/barriers/NoBarrier/NoBarrier.shp\n",
      "Launching Farsite #1\n",
      "Starting time step 0.000000 (maximum = 18)\n",
      "Writing outputs for Farsite #1 to /home/jovyan/data/20230313/Run_00093/out\n"
     ]
    },
    {
     "name": "stderr",
     "output_type": "stream",
     "text": [
      "/home/jovyan/farsite-devAPI/src/farsiteutils_v2.py:177: FutureWarning: The frame.append method is deprecated and will be removed from pandas in a future version. Use pandas.concat instead.\n",
      "  self.gdfsimulation = self.gdfsimulation.append(gdfappend)\n"
     ]
    },
    {
     "name": "stdout",
     "output_type": "stream",
     "text": [
      "Farsite $Rev: 2395 $\n",
      "Number of parallel threads = 4 (omp_get_num_procs = 128).\n",
      "Loading lcp file for Farsite #1: /home/jovyan/farsite/inputs/landscapes/Maria2019.lcp\n",
      "Loading inputs file for Farsite #1: /home/jovyan/data/20230313/Run_00094/config\n",
      "Loading ignition file for Farsite #1: /home/jovyan/data/ignitions/Maria2019Eb980f36c41b84119b955c64493ff0cdb.shp\n",
      "Loading barrier file for Farsite #1: /home/jovyan/farsite/inputs/barriers/NoBarrier/NoBarrier.shp\n",
      "Launching Farsite #1\n",
      "Starting time step 0.000000 (maximum = 18)\n",
      "Writing outputs for Farsite #1 to /home/jovyan/data/20230313/Run_00094/out\n"
     ]
    },
    {
     "name": "stderr",
     "output_type": "stream",
     "text": [
      "/home/jovyan/farsite-devAPI/src/farsiteutils_v2.py:177: FutureWarning: The frame.append method is deprecated and will be removed from pandas in a future version. Use pandas.concat instead.\n",
      "  self.gdfsimulation = self.gdfsimulation.append(gdfappend)\n"
     ]
    },
    {
     "name": "stdout",
     "output_type": "stream",
     "text": [
      "Farsite $Rev: 2395 $\n",
      "Number of parallel threads = 4 (omp_get_num_procs = 128).\n",
      "Loading lcp file for Farsite #1: /home/jovyan/farsite/inputs/landscapes/Maria2019.lcp\n",
      "Loading inputs file for Farsite #1: /home/jovyan/data/20230313/Run_00095/config\n",
      "Loading ignition file for Farsite #1: /home/jovyan/data/ignitions/Maria2019Ef813c8119c9c4d42ae7979aef7237d93.shp\n",
      "Loading barrier file for Farsite #1: /home/jovyan/farsite/inputs/barriers/NoBarrier/NoBarrier.shp\n",
      "Launching Farsite #1\n",
      "Starting time step 0.000000 (maximum = 18)\n",
      "Writing outputs for Farsite #1 to /home/jovyan/data/20230313/Run_00095/out\n"
     ]
    },
    {
     "name": "stderr",
     "output_type": "stream",
     "text": [
      "/home/jovyan/farsite-devAPI/src/farsiteutils_v2.py:177: FutureWarning: The frame.append method is deprecated and will be removed from pandas in a future version. Use pandas.concat instead.\n",
      "  self.gdfsimulation = self.gdfsimulation.append(gdfappend)\n"
     ]
    },
    {
     "name": "stdout",
     "output_type": "stream",
     "text": [
      "Farsite $Rev: 2395 $\n",
      "Number of parallel threads = 4 (omp_get_num_procs = 128).\n",
      "Loading lcp file for Farsite #1: /home/jovyan/farsite/inputs/landscapes/Maria2019.lcp\n",
      "Loading inputs file for Farsite #1: /home/jovyan/data/20230313/Run_00096/config\n",
      "Loading ignition file for Farsite #1: /home/jovyan/data/ignitions/Maria2019Eefb79da2081945968997544de2d52b09.shp\n",
      "Loading barrier file for Farsite #1: /home/jovyan/farsite/inputs/barriers/NoBarrier/NoBarrier.shp\n",
      "Launching Farsite #1\n",
      "Starting time step 0.000000 (maximum = 18)\n",
      "Writing outputs for Farsite #1 to /home/jovyan/data/20230313/Run_00096/out\n"
     ]
    },
    {
     "name": "stderr",
     "output_type": "stream",
     "text": [
      "/home/jovyan/farsite-devAPI/src/farsiteutils_v2.py:177: FutureWarning: The frame.append method is deprecated and will be removed from pandas in a future version. Use pandas.concat instead.\n",
      "  self.gdfsimulation = self.gdfsimulation.append(gdfappend)\n"
     ]
    },
    {
     "name": "stdout",
     "output_type": "stream",
     "text": [
      "Farsite $Rev: 2395 $\n",
      "Number of parallel threads = 4 (omp_get_num_procs = 128).\n",
      "Loading lcp file for Farsite #1: /home/jovyan/farsite/inputs/landscapes/Maria2019.lcp\n",
      "Loading inputs file for Farsite #1: /home/jovyan/data/20230313/Run_00097/config\n",
      "Loading ignition file for Farsite #1: /home/jovyan/data/ignitions/Maria2019E19a8d72255d3473489e82ea885ca9fbb.shp\n",
      "Loading barrier file for Farsite #1: /home/jovyan/farsite/inputs/barriers/NoBarrier/NoBarrier.shp\n",
      "Launching Farsite #1\n",
      "Starting time step 0.000000 (maximum = 18)\n",
      "Writing outputs for Farsite #1 to /home/jovyan/data/20230313/Run_00097/out\n"
     ]
    },
    {
     "name": "stderr",
     "output_type": "stream",
     "text": [
      "/home/jovyan/farsite-devAPI/src/farsiteutils_v2.py:177: FutureWarning: The frame.append method is deprecated and will be removed from pandas in a future version. Use pandas.concat instead.\n",
      "  self.gdfsimulation = self.gdfsimulation.append(gdfappend)\n"
     ]
    },
    {
     "name": "stdout",
     "output_type": "stream",
     "text": [
      "Farsite $Rev: 2395 $\n",
      "Number of parallel threads = 4 (omp_get_num_procs = 128).\n",
      "Loading lcp file for Farsite #1: /home/jovyan/farsite/inputs/landscapes/Maria2019.lcp\n",
      "Loading inputs file for Farsite #1: /home/jovyan/data/20230313/Run_00098/config\n",
      "Loading ignition file for Farsite #1: /home/jovyan/data/ignitions/Maria2019Ea0568d382c644656978ca0f53692c866.shp\n",
      "Loading barrier file for Farsite #1: /home/jovyan/farsite/inputs/barriers/NoBarrier/NoBarrier.shp\n",
      "Launching Farsite #1\n",
      "Starting time step 0.000000 (maximum = 18)\n",
      "Writing outputs for Farsite #1 to /home/jovyan/data/20230313/Run_00098/out\n"
     ]
    },
    {
     "name": "stderr",
     "output_type": "stream",
     "text": [
      "/home/jovyan/farsite-devAPI/src/farsiteutils_v2.py:177: FutureWarning: The frame.append method is deprecated and will be removed from pandas in a future version. Use pandas.concat instead.\n",
      "  self.gdfsimulation = self.gdfsimulation.append(gdfappend)\n"
     ]
    },
    {
     "name": "stdout",
     "output_type": "stream",
     "text": [
      "Farsite $Rev: 2395 $\n",
      "Number of parallel threads = 4 (omp_get_num_procs = 128).\n",
      "Loading lcp file for Farsite #1: /home/jovyan/farsite/inputs/landscapes/Maria2019.lcp\n",
      "Loading inputs file for Farsite #1: /home/jovyan/data/20230313/Run_00099/config\n",
      "Loading ignition file for Farsite #1: /home/jovyan/data/ignitions/Maria2019Ec3aaad6dbb0041189f6624ca84471208.shp\n",
      "Loading barrier file for Farsite #1: /home/jovyan/farsite/inputs/barriers/NoBarrier/NoBarrier.shp\n",
      "Launching Farsite #1\n",
      "Starting time step 0.000000 (maximum = 18)\n",
      "Writing outputs for Farsite #1 to /home/jovyan/data/20230313/Run_00099/out\n"
     ]
    },
    {
     "name": "stderr",
     "output_type": "stream",
     "text": [
      "/home/jovyan/farsite-devAPI/src/farsiteutils_v2.py:177: FutureWarning: The frame.append method is deprecated and will be removed from pandas in a future version. Use pandas.concat instead.\n",
      "  self.gdfsimulation = self.gdfsimulation.append(gdfappend)\n"
     ]
    },
    {
     "name": "stdout",
     "output_type": "stream",
     "text": [
      "Farsite $Rev: 2395 $\n",
      "Number of parallel threads = 4 (omp_get_num_procs = 128).\n",
      "Loading lcp file for Farsite #1: /home/jovyan/farsite/inputs/landscapes/Maria2019.lcp\n",
      "Loading inputs file for Farsite #1: /home/jovyan/data/20230313/Run_00100/config\n",
      "Loading ignition file for Farsite #1: /home/jovyan/data/ignitions/Maria2019Ec65a125faef3483d91ea48bdaf03e227.shp\n",
      "Loading barrier file for Farsite #1: /home/jovyan/farsite/inputs/barriers/NoBarrier/NoBarrier.shp\n",
      "Launching Farsite #1\n",
      "Starting time step 0.000000 (maximum = 18)\n",
      "Writing outputs for Farsite #1 to /home/jovyan/data/20230313/Run_00100/out\n"
     ]
    },
    {
     "name": "stderr",
     "output_type": "stream",
     "text": [
      "/home/jovyan/farsite-devAPI/src/farsiteutils_v2.py:177: FutureWarning: The frame.append method is deprecated and will be removed from pandas in a future version. Use pandas.concat instead.\n",
      "  self.gdfsimulation = self.gdfsimulation.append(gdfappend)\n"
     ]
    },
    {
     "name": "stdout",
     "output_type": "stream",
     "text": [
      "Farsite $Rev: 2395 $\n",
      "Number of parallel threads = 4 (omp_get_num_procs = 128).\n",
      "Loading lcp file for Farsite #1: /home/jovyan/farsite/inputs/landscapes/Maria2019.lcp\n",
      "Loading inputs file for Farsite #1: /home/jovyan/data/20230313/Run_00101/config\n",
      "Loading ignition file for Farsite #1: /home/jovyan/data/ignitions/Maria2019Ee6d6953ed5dd45859e9fc12ea087fe68.shp\n",
      "Loading barrier file for Farsite #1: /home/jovyan/farsite/inputs/barriers/NoBarrier/NoBarrier.shp\n",
      "Launching Farsite #1\n",
      "Starting time step 0.000000 (maximum = 18)\n",
      "Writing outputs for Farsite #1 to /home/jovyan/data/20230313/Run_00101/out\n"
     ]
    },
    {
     "name": "stderr",
     "output_type": "stream",
     "text": [
      "/home/jovyan/farsite-devAPI/src/farsiteutils_v2.py:177: FutureWarning: The frame.append method is deprecated and will be removed from pandas in a future version. Use pandas.concat instead.\n",
      "  self.gdfsimulation = self.gdfsimulation.append(gdfappend)\n"
     ]
    },
    {
     "name": "stdout",
     "output_type": "stream",
     "text": [
      "Farsite $Rev: 2395 $\n",
      "Number of parallel threads = 4 (omp_get_num_procs = 128).\n",
      "Loading lcp file for Farsite #1: /home/jovyan/farsite/inputs/landscapes/Maria2019.lcp\n",
      "Loading inputs file for Farsite #1: /home/jovyan/data/20230313/Run_00102/config\n",
      "Loading ignition file for Farsite #1: /home/jovyan/data/ignitions/Maria2019E5415740c58f04ff3a55bd1d7bfc26264.shp\n",
      "Loading barrier file for Farsite #1: /home/jovyan/farsite/inputs/barriers/NoBarrier/NoBarrier.shp\n",
      "Launching Farsite #1\n",
      "Starting time step 0.000000 (maximum = 18)\n",
      "Writing outputs for Farsite #1 to /home/jovyan/data/20230313/Run_00102/out\n"
     ]
    },
    {
     "name": "stderr",
     "output_type": "stream",
     "text": [
      "/home/jovyan/farsite-devAPI/src/farsiteutils_v2.py:177: FutureWarning: The frame.append method is deprecated and will be removed from pandas in a future version. Use pandas.concat instead.\n",
      "  self.gdfsimulation = self.gdfsimulation.append(gdfappend)\n"
     ]
    },
    {
     "name": "stdout",
     "output_type": "stream",
     "text": [
      "Farsite $Rev: 2395 $\n",
      "Number of parallel threads = 4 (omp_get_num_procs = 128).\n",
      "Loading lcp file for Farsite #1: /home/jovyan/farsite/inputs/landscapes/Maria2019.lcp\n",
      "Loading inputs file for Farsite #1: /home/jovyan/data/20230313/Run_00103/config\n",
      "Loading ignition file for Farsite #1: /home/jovyan/data/ignitions/Maria2019E24c75cd865c74090abec49c84baf90e1.shp\n",
      "Loading barrier file for Farsite #1: /home/jovyan/farsite/inputs/barriers/NoBarrier/NoBarrier.shp\n",
      "Launching Farsite #1\n",
      "Starting time step 0.000000 (maximum = 18)\n",
      "Writing outputs for Farsite #1 to /home/jovyan/data/20230313/Run_00103/out\n"
     ]
    },
    {
     "name": "stderr",
     "output_type": "stream",
     "text": [
      "/home/jovyan/farsite-devAPI/src/farsiteutils_v2.py:177: FutureWarning: The frame.append method is deprecated and will be removed from pandas in a future version. Use pandas.concat instead.\n",
      "  self.gdfsimulation = self.gdfsimulation.append(gdfappend)\n"
     ]
    },
    {
     "name": "stdout",
     "output_type": "stream",
     "text": [
      "Farsite $Rev: 2395 $\n",
      "Number of parallel threads = 4 (omp_get_num_procs = 128).\n",
      "Loading lcp file for Farsite #1: /home/jovyan/farsite/inputs/landscapes/Maria2019.lcp\n",
      "Loading inputs file for Farsite #1: /home/jovyan/data/20230313/Run_00104/config\n",
      "Loading ignition file for Farsite #1: /home/jovyan/data/ignitions/Maria2019Eecde5a9413864c97bed0837ebd0e3758.shp\n",
      "Loading barrier file for Farsite #1: /home/jovyan/farsite/inputs/barriers/NoBarrier/NoBarrier.shp\n",
      "Launching Farsite #1\n",
      "Starting time step 0.000000 (maximum = 18)\n",
      "Writing outputs for Farsite #1 to /home/jovyan/data/20230313/Run_00104/out\n"
     ]
    },
    {
     "name": "stderr",
     "output_type": "stream",
     "text": [
      "/home/jovyan/farsite-devAPI/src/farsiteutils_v2.py:177: FutureWarning: The frame.append method is deprecated and will be removed from pandas in a future version. Use pandas.concat instead.\n",
      "  self.gdfsimulation = self.gdfsimulation.append(gdfappend)\n"
     ]
    },
    {
     "name": "stdout",
     "output_type": "stream",
     "text": [
      "Farsite $Rev: 2395 $\n",
      "Number of parallel threads = 4 (omp_get_num_procs = 128).\n",
      "Loading lcp file for Farsite #1: /home/jovyan/farsite/inputs/landscapes/Maria2019.lcp\n",
      "Loading inputs file for Farsite #1: /home/jovyan/data/20230313/Run_00105/config\n",
      "Loading ignition file for Farsite #1: /home/jovyan/data/ignitions/Maria2019Ef8df69b14f9d4e5db682c5e5311605c3.shp\n",
      "Loading barrier file for Farsite #1: /home/jovyan/farsite/inputs/barriers/NoBarrier/NoBarrier.shp\n",
      "Launching Farsite #1\n",
      "Starting time step 0.000000 (maximum = 18)\n",
      "Writing outputs for Farsite #1 to /home/jovyan/data/20230313/Run_00105/out\n",
      "Farsite $Rev: 2395 $\n",
      "Number of parallel threads = 4 (omp_get_num_procs = 128).\n",
      "Loading lcp file for Farsite #1: /home/jovyan/farsite/inputs/landscapes/Maria2019.lcp\n",
      "Loading inputs file for Farsite #1: /home/jovyan/data/20230313/Run_00106/config\n",
      "Loading ignition file for Farsite #1: /home/jovyan/data/ignitions/Maria2019Ee1442d24504b4d6f81a27a6d420e9a2b.shp\n",
      "Loading barrier file for Farsite #1: /home/jovyan/farsite/inputs/barriers/NoBarrier/NoBarrier.shp\n",
      "Launching Farsite #1\n",
      "Starting time step 0.000000 (maximum = 18)\n",
      "Writing outputs for Farsite #1 to /home/jovyan/data/20230313/Run_00106/out\n"
     ]
    },
    {
     "name": "stderr",
     "output_type": "stream",
     "text": [
      "/home/jovyan/farsite-devAPI/src/farsiteutils_v2.py:177: FutureWarning: The frame.append method is deprecated and will be removed from pandas in a future version. Use pandas.concat instead.\n",
      "  self.gdfsimulation = self.gdfsimulation.append(gdfappend)\n",
      "/home/jovyan/farsite-devAPI/src/farsiteutils_v2.py:177: FutureWarning: The frame.append method is deprecated and will be removed from pandas in a future version. Use pandas.concat instead.\n",
      "  self.gdfsimulation = self.gdfsimulation.append(gdfappend)\n"
     ]
    },
    {
     "name": "stdout",
     "output_type": "stream",
     "text": [
      "Farsite $Rev: 2395 $\n",
      "Number of parallel threads = 4 (omp_get_num_procs = 128).\n",
      "Loading lcp file for Farsite #1: /home/jovyan/farsite/inputs/landscapes/Maria2019.lcp\n",
      "Loading inputs file for Farsite #1: /home/jovyan/data/20230313/Run_00106/config\n",
      "Loading ignition file for Farsite #1: /home/jovyan/data/ignitions/Maria2019Ee1442d24504b4d6f81a27a6d420e9a2b.shp\n",
      "Loading barrier file for Farsite #1: /home/jovyan/farsite/inputs/barriers/NoBarrier/NoBarrier.shp\n",
      "Launching Farsite #1\n",
      "Starting time step 0.000000 (maximum = 18)\n",
      "Writing outputs for Farsite #1 to /home/jovyan/data/20230313/Run_00106/out\n"
     ]
    },
    {
     "name": "stderr",
     "output_type": "stream",
     "text": [
      "/home/jovyan/farsite-devAPI/src/farsiteutils_v2.py:177: FutureWarning: The frame.append method is deprecated and will be removed from pandas in a future version. Use pandas.concat instead.\n",
      "  self.gdfsimulation = self.gdfsimulation.append(gdfappend)\n"
     ]
    },
    {
     "name": "stdout",
     "output_type": "stream",
     "text": [
      "Farsite $Rev: 2395 $\n",
      "Number of parallel threads = 4 (omp_get_num_procs = 128).\n",
      "Loading lcp file for Farsite #1: /home/jovyan/farsite/inputs/landscapes/Maria2019.lcp\n",
      "Loading inputs file for Farsite #1: /home/jovyan/data/20230313/Run_00107/config\n",
      "Loading ignition file for Farsite #1: /home/jovyan/data/ignitions/Maria2019Ea1e8f43fd5004f2caab8d8eb0f5fbbbe.shp\n",
      "Loading barrier file for Farsite #1: /home/jovyan/farsite/inputs/barriers/NoBarrier/NoBarrier.shp\n",
      "Launching Farsite #1\n",
      "Starting time step 0.000000 (maximum = 18)\n",
      "Writing outputs for Farsite #1 to /home/jovyan/data/20230313/Run_00107/out\n"
     ]
    },
    {
     "name": "stderr",
     "output_type": "stream",
     "text": [
      "/home/jovyan/farsite-devAPI/src/farsiteutils_v2.py:177: FutureWarning: The frame.append method is deprecated and will be removed from pandas in a future version. Use pandas.concat instead.\n",
      "  self.gdfsimulation = self.gdfsimulation.append(gdfappend)\n"
     ]
    },
    {
     "name": "stdout",
     "output_type": "stream",
     "text": [
      "Farsite $Rev: 2395 $\n",
      "Number of parallel threads = 4 (omp_get_num_procs = 128).\n",
      "Loading lcp file for Farsite #1: /home/jovyan/farsite/inputs/landscapes/Maria2019.lcp\n",
      "Loading inputs file for Farsite #1: /home/jovyan/data/20230313/Run_00108/config\n",
      "Loading ignition file for Farsite #1: /home/jovyan/data/ignitions/Maria2019E2fb59291c5aa4a979b9d26715982fe62.shp\n",
      "Loading barrier file for Farsite #1: /home/jovyan/farsite/inputs/barriers/NoBarrier/NoBarrier.shp\n",
      "Launching Farsite #1\n",
      "Starting time step 0.000000 (maximum = 18)\n",
      "Writing outputs for Farsite #1 to /home/jovyan/data/20230313/Run_00108/out\n"
     ]
    },
    {
     "name": "stderr",
     "output_type": "stream",
     "text": [
      "/home/jovyan/farsite-devAPI/src/farsiteutils_v2.py:177: FutureWarning: The frame.append method is deprecated and will be removed from pandas in a future version. Use pandas.concat instead.\n",
      "  self.gdfsimulation = self.gdfsimulation.append(gdfappend)\n"
     ]
    },
    {
     "name": "stdout",
     "output_type": "stream",
     "text": [
      "Farsite $Rev: 2395 $\n",
      "Number of parallel threads = 4 (omp_get_num_procs = 128).\n",
      "Loading lcp file for Farsite #1: /home/jovyan/farsite/inputs/landscapes/Maria2019.lcp\n",
      "Loading inputs file for Farsite #1: /home/jovyan/data/20230313/Run_00109/config\n",
      "Loading ignition file for Farsite #1: /home/jovyan/data/ignitions/Maria2019E049dbd47ad9147448589e4f4009d44a2.shp\n",
      "Loading barrier file for Farsite #1: /home/jovyan/farsite/inputs/barriers/NoBarrier/NoBarrier.shp\n",
      "Launching Farsite #1\n",
      "Starting time step 0.000000 (maximum = 18)\n",
      "Writing outputs for Farsite #1 to /home/jovyan/data/20230313/Run_00109/out\n"
     ]
    },
    {
     "name": "stderr",
     "output_type": "stream",
     "text": [
      "/home/jovyan/farsite-devAPI/src/farsiteutils_v2.py:177: FutureWarning: The frame.append method is deprecated and will be removed from pandas in a future version. Use pandas.concat instead.\n",
      "  self.gdfsimulation = self.gdfsimulation.append(gdfappend)\n"
     ]
    },
    {
     "name": "stdout",
     "output_type": "stream",
     "text": [
      "Farsite $Rev: 2395 $\n",
      "Number of parallel threads = 4 (omp_get_num_procs = 128).\n",
      "Loading lcp file for Farsite #1: /home/jovyan/farsite/inputs/landscapes/Maria2019.lcp\n",
      "Loading inputs file for Farsite #1: /home/jovyan/data/20230313/Run_00110/config\n",
      "Loading ignition file for Farsite #1: /home/jovyan/data/ignitions/Maria2019E40040c6383cb4960bf18032699df319a.shp\n",
      "Loading barrier file for Farsite #1: /home/jovyan/farsite/inputs/barriers/NoBarrier/NoBarrier.shp\n",
      "Launching Farsite #1\n",
      "Starting time step 0.000000 (maximum = 18)\n",
      "Writing outputs for Farsite #1 to /home/jovyan/data/20230313/Run_00110/out\n"
     ]
    },
    {
     "name": "stderr",
     "output_type": "stream",
     "text": [
      "/home/jovyan/farsite-devAPI/src/farsiteutils_v2.py:177: FutureWarning: The frame.append method is deprecated and will be removed from pandas in a future version. Use pandas.concat instead.\n",
      "  self.gdfsimulation = self.gdfsimulation.append(gdfappend)\n"
     ]
    },
    {
     "name": "stdout",
     "output_type": "stream",
     "text": [
      "Farsite $Rev: 2395 $\n",
      "Number of parallel threads = 4 (omp_get_num_procs = 128).\n",
      "Loading lcp file for Farsite #1: /home/jovyan/farsite/inputs/landscapes/Maria2019.lcp\n",
      "Loading inputs file for Farsite #1: /home/jovyan/data/20230313/Run_00111/config\n",
      "Loading ignition file for Farsite #1: /home/jovyan/data/ignitions/Maria2019E72f5168791c24a9faf213b2039a8190d.shp\n",
      "Loading barrier file for Farsite #1: /home/jovyan/farsite/inputs/barriers/NoBarrier/NoBarrier.shp\n",
      "Launching Farsite #1\n",
      "Starting time step 0.000000 (maximum = 18)\n",
      "Writing outputs for Farsite #1 to /home/jovyan/data/20230313/Run_00111/out\n"
     ]
    },
    {
     "name": "stderr",
     "output_type": "stream",
     "text": [
      "/home/jovyan/farsite-devAPI/src/farsiteutils_v2.py:177: FutureWarning: The frame.append method is deprecated and will be removed from pandas in a future version. Use pandas.concat instead.\n",
      "  self.gdfsimulation = self.gdfsimulation.append(gdfappend)\n"
     ]
    },
    {
     "name": "stdout",
     "output_type": "stream",
     "text": [
      "Farsite $Rev: 2395 $\n",
      "Number of parallel threads = 4 (omp_get_num_procs = 128).\n",
      "Loading lcp file for Farsite #1: /home/jovyan/farsite/inputs/landscapes/Maria2019.lcp\n",
      "Loading inputs file for Farsite #1: /home/jovyan/data/20230313/Run_00112/config\n",
      "Loading ignition file for Farsite #1: /home/jovyan/data/ignitions/Maria2019Ec4ef6b174e9642198e0aa9a6b23e160f.shp\n",
      "Loading barrier file for Farsite #1: /home/jovyan/farsite/inputs/barriers/NoBarrier/NoBarrier.shp\n",
      "Launching Farsite #1\n",
      "Starting time step 0.000000 (maximum = 18)\n",
      "Writing outputs for Farsite #1 to /home/jovyan/data/20230313/Run_00112/out\n"
     ]
    },
    {
     "name": "stderr",
     "output_type": "stream",
     "text": [
      "/home/jovyan/farsite-devAPI/src/farsiteutils_v2.py:177: FutureWarning: The frame.append method is deprecated and will be removed from pandas in a future version. Use pandas.concat instead.\n",
      "  self.gdfsimulation = self.gdfsimulation.append(gdfappend)\n"
     ]
    },
    {
     "name": "stdout",
     "output_type": "stream",
     "text": [
      "Farsite $Rev: 2395 $\n",
      "Number of parallel threads = 4 (omp_get_num_procs = 128).\n",
      "Loading lcp file for Farsite #1: /home/jovyan/farsite/inputs/landscapes/Maria2019.lcp\n",
      "Loading inputs file for Farsite #1: /home/jovyan/data/20230313/Run_00113/config\n",
      "Loading ignition file for Farsite #1: /home/jovyan/data/ignitions/Maria2019E8db8ae3f3fc745cb8558b6bc0063a8bd.shp\n",
      "Loading barrier file for Farsite #1: /home/jovyan/farsite/inputs/barriers/NoBarrier/NoBarrier.shp\n",
      "Launching Farsite #1\n",
      "Starting time step 0.000000 (maximum = 18)\n",
      "Writing outputs for Farsite #1 to /home/jovyan/data/20230313/Run_00113/out\n"
     ]
    },
    {
     "name": "stderr",
     "output_type": "stream",
     "text": [
      "/home/jovyan/farsite-devAPI/src/farsiteutils_v2.py:177: FutureWarning: The frame.append method is deprecated and will be removed from pandas in a future version. Use pandas.concat instead.\n",
      "  self.gdfsimulation = self.gdfsimulation.append(gdfappend)\n"
     ]
    },
    {
     "name": "stdout",
     "output_type": "stream",
     "text": [
      "Farsite $Rev: 2395 $\n",
      "Number of parallel threads = 4 (omp_get_num_procs = 128).\n",
      "Loading lcp file for Farsite #1: /home/jovyan/farsite/inputs/landscapes/Maria2019.lcp\n",
      "Loading inputs file for Farsite #1: /home/jovyan/data/20230313/Run_00114/config\n",
      "Loading ignition file for Farsite #1: /home/jovyan/data/ignitions/Maria2019E4533ec95a9e5484a93f7033ed2cf23f9.shp\n",
      "Loading barrier file for Farsite #1: /home/jovyan/farsite/inputs/barriers/NoBarrier/NoBarrier.shp\n",
      "Launching Farsite #1\n",
      "Starting time step 0.000000 (maximum = 18)\n",
      "Writing outputs for Farsite #1 to /home/jovyan/data/20230313/Run_00114/out\n"
     ]
    },
    {
     "name": "stderr",
     "output_type": "stream",
     "text": [
      "/home/jovyan/farsite-devAPI/src/farsiteutils_v2.py:177: FutureWarning: The frame.append method is deprecated and will be removed from pandas in a future version. Use pandas.concat instead.\n",
      "  self.gdfsimulation = self.gdfsimulation.append(gdfappend)\n"
     ]
    },
    {
     "name": "stdout",
     "output_type": "stream",
     "text": [
      "Farsite $Rev: 2395 $\n",
      "Number of parallel threads = 4 (omp_get_num_procs = 128).\n",
      "Loading lcp file for Farsite #1: /home/jovyan/farsite/inputs/landscapes/Maria2019.lcp\n",
      "Loading inputs file for Farsite #1: /home/jovyan/data/20230313/Run_00115/config\n",
      "Loading ignition file for Farsite #1: /home/jovyan/data/ignitions/Maria2019E7a3eaabd341540a0b5c8408d820b20a1.shp\n",
      "Loading barrier file for Farsite #1: /home/jovyan/farsite/inputs/barriers/NoBarrier/NoBarrier.shp\n",
      "Launching Farsite #1\n",
      "Starting time step 0.000000 (maximum = 18)\n",
      "Writing outputs for Farsite #1 to /home/jovyan/data/20230313/Run_00115/out\n"
     ]
    },
    {
     "name": "stderr",
     "output_type": "stream",
     "text": [
      "/home/jovyan/farsite-devAPI/src/farsiteutils_v2.py:177: FutureWarning: The frame.append method is deprecated and will be removed from pandas in a future version. Use pandas.concat instead.\n",
      "  self.gdfsimulation = self.gdfsimulation.append(gdfappend)\n"
     ]
    },
    {
     "name": "stdout",
     "output_type": "stream",
     "text": [
      "Farsite $Rev: 2395 $\n",
      "Number of parallel threads = 4 (omp_get_num_procs = 128).\n",
      "Loading lcp file for Farsite #1: /home/jovyan/farsite/inputs/landscapes/Maria2019.lcp\n",
      "Loading inputs file for Farsite #1: /home/jovyan/data/20230313/Run_00116/config\n",
      "Loading ignition file for Farsite #1: /home/jovyan/data/ignitions/Maria2019E1e9f0ec1bf35480580a303e97ce9437e.shp\n",
      "Loading barrier file for Farsite #1: /home/jovyan/farsite/inputs/barriers/NoBarrier/NoBarrier.shp\n",
      "Launching Farsite #1\n",
      "Starting time step 0.000000 (maximum = 18)\n",
      "Writing outputs for Farsite #1 to /home/jovyan/data/20230313/Run_00116/out\n"
     ]
    },
    {
     "name": "stderr",
     "output_type": "stream",
     "text": [
      "/home/jovyan/farsite-devAPI/src/farsiteutils_v2.py:177: FutureWarning: The frame.append method is deprecated and will be removed from pandas in a future version. Use pandas.concat instead.\n",
      "  self.gdfsimulation = self.gdfsimulation.append(gdfappend)\n"
     ]
    },
    {
     "name": "stdout",
     "output_type": "stream",
     "text": [
      "Farsite $Rev: 2395 $\n",
      "Number of parallel threads = 4 (omp_get_num_procs = 128).\n",
      "Loading lcp file for Farsite #1: /home/jovyan/farsite/inputs/landscapes/Maria2019.lcp\n",
      "Loading inputs file for Farsite #1: /home/jovyan/data/20230313/Run_00117/config\n",
      "Loading ignition file for Farsite #1: /home/jovyan/data/ignitions/Maria2019E975ec39dc59341dcbd019c3654e934dd.shp\n",
      "Loading barrier file for Farsite #1: /home/jovyan/farsite/inputs/barriers/NoBarrier/NoBarrier.shp\n",
      "Launching Farsite #1\n",
      "Starting time step 0.000000 (maximum = 18)\n",
      "Writing outputs for Farsite #1 to /home/jovyan/data/20230313/Run_00117/out\n"
     ]
    },
    {
     "name": "stderr",
     "output_type": "stream",
     "text": [
      "/home/jovyan/farsite-devAPI/src/farsiteutils_v2.py:177: FutureWarning: The frame.append method is deprecated and will be removed from pandas in a future version. Use pandas.concat instead.\n",
      "  self.gdfsimulation = self.gdfsimulation.append(gdfappend)\n"
     ]
    },
    {
     "name": "stdout",
     "output_type": "stream",
     "text": [
      "Farsite $Rev: 2395 $\n",
      "Number of parallel threads = 4 (omp_get_num_procs = 128).\n",
      "Loading lcp file for Farsite #1: /home/jovyan/farsite/inputs/landscapes/Maria2019.lcp\n",
      "Loading inputs file for Farsite #1: /home/jovyan/data/20230313/Run_00118/config\n",
      "Loading ignition file for Farsite #1: /home/jovyan/data/ignitions/Maria2019Eb7bb3a3f131b40358edf61d9e83d1b3f.shp\n",
      "Loading barrier file for Farsite #1: /home/jovyan/farsite/inputs/barriers/NoBarrier/NoBarrier.shp\n",
      "Launching Farsite #1\n",
      "Starting time step 0.000000 (maximum = 18)\n",
      "Writing outputs for Farsite #1 to /home/jovyan/data/20230313/Run_00118/out\n"
     ]
    },
    {
     "name": "stderr",
     "output_type": "stream",
     "text": [
      "/home/jovyan/farsite-devAPI/src/farsiteutils_v2.py:177: FutureWarning: The frame.append method is deprecated and will be removed from pandas in a future version. Use pandas.concat instead.\n",
      "  self.gdfsimulation = self.gdfsimulation.append(gdfappend)\n"
     ]
    },
    {
     "name": "stdout",
     "output_type": "stream",
     "text": [
      "Farsite $Rev: 2395 $\n",
      "Number of parallel threads = 4 (omp_get_num_procs = 128).\n",
      "Loading lcp file for Farsite #1: /home/jovyan/farsite/inputs/landscapes/Maria2019.lcp\n",
      "Loading inputs file for Farsite #1: /home/jovyan/data/20230313/Run_00119/config\n",
      "Loading ignition file for Farsite #1: /home/jovyan/data/ignitions/Maria2019E61e302102b634291ac7052eca9ed7d52.shp\n",
      "Loading barrier file for Farsite #1: /home/jovyan/farsite/inputs/barriers/NoBarrier/NoBarrier.shp\n",
      "Launching Farsite #1\n",
      "Starting time step 0.000000 (maximum = 18)\n",
      "Writing outputs for Farsite #1 to /home/jovyan/data/20230313/Run_00119/out\n"
     ]
    },
    {
     "name": "stderr",
     "output_type": "stream",
     "text": [
      "/home/jovyan/farsite-devAPI/src/farsiteutils_v2.py:177: FutureWarning: The frame.append method is deprecated and will be removed from pandas in a future version. Use pandas.concat instead.\n",
      "  self.gdfsimulation = self.gdfsimulation.append(gdfappend)\n"
     ]
    },
    {
     "name": "stdout",
     "output_type": "stream",
     "text": [
      "Farsite $Rev: 2395 $\n",
      "Number of parallel threads = 4 (omp_get_num_procs = 128).\n",
      "Loading lcp file for Farsite #1: /home/jovyan/farsite/inputs/landscapes/Maria2019.lcp\n",
      "Loading inputs file for Farsite #1: /home/jovyan/data/20230313/Run_00120/config\n",
      "Loading ignition file for Farsite #1: /home/jovyan/data/ignitions/Maria2019E5bb2a6abfd38412b96a2285db509cbab.shp\n",
      "Loading barrier file for Farsite #1: /home/jovyan/farsite/inputs/barriers/NoBarrier/NoBarrier.shp\n",
      "Launching Farsite #1\n",
      "Starting time step 0.000000 (maximum = 18)\n",
      "Writing outputs for Farsite #1 to /home/jovyan/data/20230313/Run_00120/out\n"
     ]
    },
    {
     "name": "stderr",
     "output_type": "stream",
     "text": [
      "/home/jovyan/farsite-devAPI/src/farsiteutils_v2.py:177: FutureWarning: The frame.append method is deprecated and will be removed from pandas in a future version. Use pandas.concat instead.\n",
      "  self.gdfsimulation = self.gdfsimulation.append(gdfappend)\n"
     ]
    },
    {
     "name": "stdout",
     "output_type": "stream",
     "text": [
      "Farsite $Rev: 2395 $\n",
      "Number of parallel threads = 4 (omp_get_num_procs = 128).\n",
      "Loading lcp file for Farsite #1: /home/jovyan/farsite/inputs/landscapes/Maria2019.lcp\n",
      "Loading inputs file for Farsite #1: /home/jovyan/data/20230313/Run_00121/config\n",
      "Loading ignition file for Farsite #1: /home/jovyan/data/ignitions/Maria2019Ecee3ddab6a23413cb8fdb165a6f051d9.shp\n",
      "Loading barrier file for Farsite #1: /home/jovyan/farsite/inputs/barriers/NoBarrier/NoBarrier.shp\n",
      "Launching Farsite #1\n",
      "Starting time step 0.000000 (maximum = 18)\n",
      "Writing outputs for Farsite #1 to /home/jovyan/data/20230313/Run_00121/out\n"
     ]
    },
    {
     "name": "stderr",
     "output_type": "stream",
     "text": [
      "/home/jovyan/farsite-devAPI/src/farsiteutils_v2.py:177: FutureWarning: The frame.append method is deprecated and will be removed from pandas in a future version. Use pandas.concat instead.\n",
      "  self.gdfsimulation = self.gdfsimulation.append(gdfappend)\n"
     ]
    },
    {
     "name": "stdout",
     "output_type": "stream",
     "text": [
      "Farsite $Rev: 2395 $\n",
      "Number of parallel threads = 4 (omp_get_num_procs = 128).\n",
      "Loading lcp file for Farsite #1: /home/jovyan/farsite/inputs/landscapes/Maria2019.lcp\n",
      "Loading inputs file for Farsite #1: /home/jovyan/data/20230313/Run_00122/config\n",
      "Loading ignition file for Farsite #1: /home/jovyan/data/ignitions/Maria2019E377d943b07d749c8acaabd29c7d4a20b.shp\n",
      "Loading barrier file for Farsite #1: /home/jovyan/farsite/inputs/barriers/NoBarrier/NoBarrier.shp\n",
      "Launching Farsite #1\n",
      "Starting time step 0.000000 (maximum = 18)\n",
      "Writing outputs for Farsite #1 to /home/jovyan/data/20230313/Run_00122/out\n"
     ]
    },
    {
     "name": "stderr",
     "output_type": "stream",
     "text": [
      "/home/jovyan/farsite-devAPI/src/farsiteutils_v2.py:177: FutureWarning: The frame.append method is deprecated and will be removed from pandas in a future version. Use pandas.concat instead.\n",
      "  self.gdfsimulation = self.gdfsimulation.append(gdfappend)\n"
     ]
    },
    {
     "name": "stdout",
     "output_type": "stream",
     "text": [
      "Farsite $Rev: 2395 $\n",
      "Number of parallel threads = 4 (omp_get_num_procs = 128).\n",
      "Loading lcp file for Farsite #1: /home/jovyan/farsite/inputs/landscapes/Maria2019.lcp\n",
      "Loading inputs file for Farsite #1: /home/jovyan/data/20230313/Run_00123/config\n",
      "Loading ignition file for Farsite #1: /home/jovyan/data/ignitions/Maria2019E0e831ab90d0c493b953eec00f518efa8.shp\n",
      "Loading barrier file for Farsite #1: /home/jovyan/farsite/inputs/barriers/NoBarrier/NoBarrier.shp\n",
      "Launching Farsite #1\n",
      "Starting time step 0.000000 (maximum = 18)\n",
      "Writing outputs for Farsite #1 to /home/jovyan/data/20230313/Run_00123/out\n"
     ]
    },
    {
     "name": "stderr",
     "output_type": "stream",
     "text": [
      "/home/jovyan/farsite-devAPI/src/farsiteutils_v2.py:177: FutureWarning: The frame.append method is deprecated and will be removed from pandas in a future version. Use pandas.concat instead.\n",
      "  self.gdfsimulation = self.gdfsimulation.append(gdfappend)\n"
     ]
    },
    {
     "name": "stdout",
     "output_type": "stream",
     "text": [
      "Farsite $Rev: 2395 $\n",
      "Number of parallel threads = 4 (omp_get_num_procs = 128).\n",
      "Loading lcp file for Farsite #1: /home/jovyan/farsite/inputs/landscapes/Maria2019.lcp\n",
      "Loading inputs file for Farsite #1: /home/jovyan/data/20230313/Run_00124/config\n",
      "Loading ignition file for Farsite #1: /home/jovyan/data/ignitions/Maria2019E3b8bdaf8a58c47a7b0e2c92a3d77a9e5.shp\n",
      "Loading barrier file for Farsite #1: /home/jovyan/farsite/inputs/barriers/NoBarrier/NoBarrier.shp\n",
      "Launching Farsite #1\n",
      "Starting time step 0.000000 (maximum = 18)\n",
      "Writing outputs for Farsite #1 to /home/jovyan/data/20230313/Run_00124/out\n"
     ]
    },
    {
     "name": "stderr",
     "output_type": "stream",
     "text": [
      "/home/jovyan/farsite-devAPI/src/farsiteutils_v2.py:177: FutureWarning: The frame.append method is deprecated and will be removed from pandas in a future version. Use pandas.concat instead.\n",
      "  self.gdfsimulation = self.gdfsimulation.append(gdfappend)\n"
     ]
    },
    {
     "name": "stdout",
     "output_type": "stream",
     "text": [
      "Farsite $Rev: 2395 $\n",
      "Number of parallel threads = 4 (omp_get_num_procs = 128).\n",
      "Loading lcp file for Farsite #1: /home/jovyan/farsite/inputs/landscapes/Maria2019.lcp\n",
      "Loading inputs file for Farsite #1: /home/jovyan/data/20230313/Run_00125/config\n",
      "Loading ignition file for Farsite #1: /home/jovyan/data/ignitions/Maria2019E77180a88320e420a8a02779bed7d9570.shp\n",
      "Loading barrier file for Farsite #1: /home/jovyan/farsite/inputs/barriers/NoBarrier/NoBarrier.shp\n",
      "Launching Farsite #1\n",
      "Starting time step 0.000000 (maximum = 18)\n",
      "Writing outputs for Farsite #1 to /home/jovyan/data/20230313/Run_00125/out\n"
     ]
    },
    {
     "name": "stderr",
     "output_type": "stream",
     "text": [
      "/home/jovyan/farsite-devAPI/src/farsiteutils_v2.py:177: FutureWarning: The frame.append method is deprecated and will be removed from pandas in a future version. Use pandas.concat instead.\n",
      "  self.gdfsimulation = self.gdfsimulation.append(gdfappend)\n"
     ]
    },
    {
     "name": "stdout",
     "output_type": "stream",
     "text": [
      "Farsite $Rev: 2395 $\n",
      "Number of parallel threads = 4 (omp_get_num_procs = 128).\n",
      "Loading lcp file for Farsite #1: /home/jovyan/farsite/inputs/landscapes/Maria2019.lcp\n",
      "Loading inputs file for Farsite #1: /home/jovyan/data/20230313/Run_00126/config\n",
      "Loading ignition file for Farsite #1: /home/jovyan/data/ignitions/Maria2019Ecf8e96ea162c4a188c32b9d9fdd2a5c0.shp\n",
      "Loading barrier file for Farsite #1: /home/jovyan/farsite/inputs/barriers/NoBarrier/NoBarrier.shp\n",
      "Launching Farsite #1\n",
      "Starting time step 0.000000 (maximum = 18)\n",
      "Writing outputs for Farsite #1 to /home/jovyan/data/20230313/Run_00126/out\n"
     ]
    },
    {
     "name": "stderr",
     "output_type": "stream",
     "text": [
      "/home/jovyan/farsite-devAPI/src/farsiteutils_v2.py:177: FutureWarning: The frame.append method is deprecated and will be removed from pandas in a future version. Use pandas.concat instead.\n",
      "  self.gdfsimulation = self.gdfsimulation.append(gdfappend)\n"
     ]
    },
    {
     "name": "stdout",
     "output_type": "stream",
     "text": [
      "Farsite $Rev: 2395 $\n",
      "Number of parallel threads = 4 (omp_get_num_procs = 128).\n",
      "Loading lcp file for Farsite #1: /home/jovyan/farsite/inputs/landscapes/Maria2019.lcp\n",
      "Loading inputs file for Farsite #1: /home/jovyan/data/20230313/Run_00127/config\n",
      "Loading ignition file for Farsite #1: /home/jovyan/data/ignitions/Maria2019E21a05df3269949c2bee9f75bf4cc44e9.shp\n",
      "Loading barrier file for Farsite #1: /home/jovyan/farsite/inputs/barriers/NoBarrier/NoBarrier.shp\n",
      "Launching Farsite #1\n",
      "Starting time step 0.000000 (maximum = 18)\n",
      "Writing outputs for Farsite #1 to /home/jovyan/data/20230313/Run_00127/out\n"
     ]
    },
    {
     "name": "stderr",
     "output_type": "stream",
     "text": [
      "/home/jovyan/farsite-devAPI/src/farsiteutils_v2.py:177: FutureWarning: The frame.append method is deprecated and will be removed from pandas in a future version. Use pandas.concat instead.\n",
      "  self.gdfsimulation = self.gdfsimulation.append(gdfappend)\n"
     ]
    },
    {
     "name": "stdout",
     "output_type": "stream",
     "text": [
      "Farsite $Rev: 2395 $\n",
      "Number of parallel threads = 4 (omp_get_num_procs = 128).\n",
      "Loading lcp file for Farsite #1: /home/jovyan/farsite/inputs/landscapes/Maria2019.lcp\n",
      "Loading inputs file for Farsite #1: /home/jovyan/data/20230313/Run_00128/config\n",
      "Loading ignition file for Farsite #1: /home/jovyan/data/ignitions/Maria2019Eaff9b91cefd24346a8127d9ee17ad21c.shp\n",
      "Loading barrier file for Farsite #1: /home/jovyan/farsite/inputs/barriers/NoBarrier/NoBarrier.shp\n",
      "Launching Farsite #1\n",
      "Starting time step 0.000000 (maximum = 18)\n",
      "Writing outputs for Farsite #1 to /home/jovyan/data/20230313/Run_00128/out\n"
     ]
    },
    {
     "name": "stderr",
     "output_type": "stream",
     "text": [
      "/home/jovyan/farsite-devAPI/src/farsiteutils_v2.py:177: FutureWarning: The frame.append method is deprecated and will be removed from pandas in a future version. Use pandas.concat instead.\n",
      "  self.gdfsimulation = self.gdfsimulation.append(gdfappend)\n"
     ]
    },
    {
     "name": "stdout",
     "output_type": "stream",
     "text": [
      "Farsite $Rev: 2395 $\n",
      "Number of parallel threads = 4 (omp_get_num_procs = 128).\n",
      "Loading lcp file for Farsite #1: /home/jovyan/farsite/inputs/landscapes/Maria2019.lcp\n",
      "Loading inputs file for Farsite #1: /home/jovyan/data/20230313/Run_00129/config\n",
      "Loading ignition file for Farsite #1: /home/jovyan/data/ignitions/Maria2019Ec7795737abc74b6785aa37eba3a74bfa.shp\n",
      "Loading barrier file for Farsite #1: /home/jovyan/farsite/inputs/barriers/NoBarrier/NoBarrier.shp\n",
      "Launching Farsite #1\n",
      "Starting time step 0.000000 (maximum = 18)\n",
      "Writing outputs for Farsite #1 to /home/jovyan/data/20230313/Run_00129/out\n"
     ]
    },
    {
     "name": "stderr",
     "output_type": "stream",
     "text": [
      "/home/jovyan/farsite-devAPI/src/farsiteutils_v2.py:177: FutureWarning: The frame.append method is deprecated and will be removed from pandas in a future version. Use pandas.concat instead.\n",
      "  self.gdfsimulation = self.gdfsimulation.append(gdfappend)\n"
     ]
    },
    {
     "name": "stdout",
     "output_type": "stream",
     "text": [
      "Farsite $Rev: 2395 $\n",
      "Number of parallel threads = 4 (omp_get_num_procs = 128).\n",
      "Loading lcp file for Farsite #1: /home/jovyan/farsite/inputs/landscapes/Maria2019.lcp\n",
      "Loading inputs file for Farsite #1: /home/jovyan/data/20230313/Run_00130/config\n",
      "Loading ignition file for Farsite #1: /home/jovyan/data/ignitions/Maria2019E73905743b466492aa177491f4340f225.shp\n",
      "Loading barrier file for Farsite #1: /home/jovyan/farsite/inputs/barriers/NoBarrier/NoBarrier.shp\n",
      "Launching Farsite #1\n",
      "Starting time step 0.000000 (maximum = 18)\n",
      "Writing outputs for Farsite #1 to /home/jovyan/data/20230313/Run_00130/out\n"
     ]
    },
    {
     "name": "stderr",
     "output_type": "stream",
     "text": [
      "/home/jovyan/farsite-devAPI/src/farsiteutils_v2.py:177: FutureWarning: The frame.append method is deprecated and will be removed from pandas in a future version. Use pandas.concat instead.\n",
      "  self.gdfsimulation = self.gdfsimulation.append(gdfappend)\n"
     ]
    },
    {
     "name": "stdout",
     "output_type": "stream",
     "text": [
      "Farsite $Rev: 2395 $\n",
      "Number of parallel threads = 4 (omp_get_num_procs = 128).\n",
      "Loading lcp file for Farsite #1: /home/jovyan/farsite/inputs/landscapes/Maria2019.lcp\n",
      "Loading inputs file for Farsite #1: /home/jovyan/data/20230313/Run_00131/config\n",
      "Loading ignition file for Farsite #1: /home/jovyan/data/ignitions/Maria2019Ebe811c42755f4fb4a9828ff48db2f3bd.shp\n",
      "Loading barrier file for Farsite #1: /home/jovyan/farsite/inputs/barriers/NoBarrier/NoBarrier.shp\n",
      "Launching Farsite #1\n",
      "Starting time step 0.000000 (maximum = 18)\n",
      "Writing outputs for Farsite #1 to /home/jovyan/data/20230313/Run_00131/out\n"
     ]
    },
    {
     "name": "stderr",
     "output_type": "stream",
     "text": [
      "/home/jovyan/farsite-devAPI/src/farsiteutils_v2.py:177: FutureWarning: The frame.append method is deprecated and will be removed from pandas in a future version. Use pandas.concat instead.\n",
      "  self.gdfsimulation = self.gdfsimulation.append(gdfappend)\n"
     ]
    },
    {
     "name": "stdout",
     "output_type": "stream",
     "text": [
      "Farsite $Rev: 2395 $\n",
      "Number of parallel threads = 4 (omp_get_num_procs = 128).\n",
      "Loading lcp file for Farsite #1: /home/jovyan/farsite/inputs/landscapes/Maria2019.lcp\n",
      "Loading inputs file for Farsite #1: /home/jovyan/data/20230313/Run_00132/config\n",
      "Loading ignition file for Farsite #1: /home/jovyan/data/ignitions/Maria2019E423a7097479d4d0b9a2149256f1c87ab.shp\n",
      "Loading barrier file for Farsite #1: /home/jovyan/farsite/inputs/barriers/NoBarrier/NoBarrier.shp\n",
      "Launching Farsite #1\n",
      "Starting time step 0.000000 (maximum = 18)\n",
      "Writing outputs for Farsite #1 to /home/jovyan/data/20230313/Run_00132/out\n"
     ]
    },
    {
     "name": "stderr",
     "output_type": "stream",
     "text": [
      "/home/jovyan/farsite-devAPI/src/farsiteutils_v2.py:177: FutureWarning: The frame.append method is deprecated and will be removed from pandas in a future version. Use pandas.concat instead.\n",
      "  self.gdfsimulation = self.gdfsimulation.append(gdfappend)\n"
     ]
    },
    {
     "name": "stdout",
     "output_type": "stream",
     "text": [
      "Farsite $Rev: 2395 $\n",
      "Number of parallel threads = 4 (omp_get_num_procs = 128).\n",
      "Loading lcp file for Farsite #1: /home/jovyan/farsite/inputs/landscapes/Maria2019.lcp\n",
      "Loading inputs file for Farsite #1: /home/jovyan/data/20230313/Run_00133/config\n",
      "Loading ignition file for Farsite #1: /home/jovyan/data/ignitions/Maria2019Ef2ab6ab4f50640128b0d2273209aa2ba.shp\n",
      "Loading barrier file for Farsite #1: /home/jovyan/farsite/inputs/barriers/NoBarrier/NoBarrier.shp\n",
      "Launching Farsite #1\n",
      "Starting time step 0.000000 (maximum = 18)\n",
      "Writing outputs for Farsite #1 to /home/jovyan/data/20230313/Run_00133/out\n"
     ]
    },
    {
     "name": "stderr",
     "output_type": "stream",
     "text": [
      "/home/jovyan/farsite-devAPI/src/farsiteutils_v2.py:177: FutureWarning: The frame.append method is deprecated and will be removed from pandas in a future version. Use pandas.concat instead.\n",
      "  self.gdfsimulation = self.gdfsimulation.append(gdfappend)\n"
     ]
    },
    {
     "name": "stdout",
     "output_type": "stream",
     "text": [
      "Farsite $Rev: 2395 $\n",
      "Number of parallel threads = 4 (omp_get_num_procs = 128).\n",
      "Loading lcp file for Farsite #1: /home/jovyan/farsite/inputs/landscapes/Maria2019.lcp\n",
      "Loading inputs file for Farsite #1: /home/jovyan/data/20230313/Run_00134/config\n",
      "Loading ignition file for Farsite #1: /home/jovyan/data/ignitions/Maria2019E871e9ebabe4949939d63685e28f36138.shp\n",
      "Loading barrier file for Farsite #1: /home/jovyan/farsite/inputs/barriers/NoBarrier/NoBarrier.shp\n",
      "Launching Farsite #1\n",
      "Starting time step 0.000000 (maximum = 18)\n",
      "Writing outputs for Farsite #1 to /home/jovyan/data/20230313/Run_00134/out\n"
     ]
    },
    {
     "name": "stderr",
     "output_type": "stream",
     "text": [
      "/home/jovyan/farsite-devAPI/src/farsiteutils_v2.py:177: FutureWarning: The frame.append method is deprecated and will be removed from pandas in a future version. Use pandas.concat instead.\n",
      "  self.gdfsimulation = self.gdfsimulation.append(gdfappend)\n"
     ]
    },
    {
     "name": "stdout",
     "output_type": "stream",
     "text": [
      "Farsite $Rev: 2395 $\n",
      "Number of parallel threads = 4 (omp_get_num_procs = 128).\n",
      "Loading lcp file for Farsite #1: /home/jovyan/farsite/inputs/landscapes/Maria2019.lcp\n",
      "Loading inputs file for Farsite #1: /home/jovyan/data/20230313/Run_00135/config\n",
      "Loading ignition file for Farsite #1: /home/jovyan/data/ignitions/Maria2019E14cd3eb2109e4958ba70dc4bbe2334b8.shp\n",
      "Loading barrier file for Farsite #1: /home/jovyan/farsite/inputs/barriers/NoBarrier/NoBarrier.shp\n",
      "Launching Farsite #1\n",
      "Starting time step 0.000000 (maximum = 18)\n",
      "Writing outputs for Farsite #1 to /home/jovyan/data/20230313/Run_00135/out\n"
     ]
    },
    {
     "name": "stderr",
     "output_type": "stream",
     "text": [
      "/home/jovyan/farsite-devAPI/src/farsiteutils_v2.py:177: FutureWarning: The frame.append method is deprecated and will be removed from pandas in a future version. Use pandas.concat instead.\n",
      "  self.gdfsimulation = self.gdfsimulation.append(gdfappend)\n"
     ]
    },
    {
     "name": "stdout",
     "output_type": "stream",
     "text": [
      "Farsite $Rev: 2395 $\n",
      "Number of parallel threads = 4 (omp_get_num_procs = 128).\n",
      "Loading lcp file for Farsite #1: /home/jovyan/farsite/inputs/landscapes/Maria2019.lcp\n",
      "Loading inputs file for Farsite #1: /home/jovyan/data/20230313/Run_00136/config\n",
      "Loading ignition file for Farsite #1: /home/jovyan/data/ignitions/Maria2019Ee63aba551e7e4e54bdbab98e03bcdca8.shp\n",
      "Loading barrier file for Farsite #1: /home/jovyan/farsite/inputs/barriers/NoBarrier/NoBarrier.shp\n",
      "Launching Farsite #1\n",
      "Starting time step 0.000000 (maximum = 18)\n",
      "Writing outputs for Farsite #1 to /home/jovyan/data/20230313/Run_00136/out\n"
     ]
    },
    {
     "name": "stderr",
     "output_type": "stream",
     "text": [
      "/home/jovyan/farsite-devAPI/src/farsiteutils_v2.py:177: FutureWarning: The frame.append method is deprecated and will be removed from pandas in a future version. Use pandas.concat instead.\n",
      "  self.gdfsimulation = self.gdfsimulation.append(gdfappend)\n"
     ]
    },
    {
     "name": "stdout",
     "output_type": "stream",
     "text": [
      "Farsite $Rev: 2395 $\n",
      "Number of parallel threads = 4 (omp_get_num_procs = 128).\n",
      "Loading lcp file for Farsite #1: /home/jovyan/farsite/inputs/landscapes/Maria2019.lcp\n",
      "Loading inputs file for Farsite #1: /home/jovyan/data/20230313/Run_00137/config\n",
      "Loading ignition file for Farsite #1: /home/jovyan/data/ignitions/Maria2019E4239bb329f6e4744abb085de463d665c.shp\n",
      "Loading barrier file for Farsite #1: /home/jovyan/farsite/inputs/barriers/NoBarrier/NoBarrier.shp\n",
      "Launching Farsite #1\n",
      "Starting time step 0.000000 (maximum = 18)\n",
      "Writing outputs for Farsite #1 to /home/jovyan/data/20230313/Run_00137/out\n"
     ]
    },
    {
     "name": "stderr",
     "output_type": "stream",
     "text": [
      "/home/jovyan/farsite-devAPI/src/farsiteutils_v2.py:177: FutureWarning: The frame.append method is deprecated and will be removed from pandas in a future version. Use pandas.concat instead.\n",
      "  self.gdfsimulation = self.gdfsimulation.append(gdfappend)\n"
     ]
    },
    {
     "name": "stdout",
     "output_type": "stream",
     "text": [
      "Farsite $Rev: 2395 $\n",
      "Number of parallel threads = 4 (omp_get_num_procs = 128).\n",
      "Loading lcp file for Farsite #1: /home/jovyan/farsite/inputs/landscapes/Maria2019.lcp\n",
      "Loading inputs file for Farsite #1: /home/jovyan/data/20230313/Run_00138/config\n",
      "Loading ignition file for Farsite #1: /home/jovyan/data/ignitions/Maria2019Ec7a08be9075e495095c8423a84ff6fec.shp\n",
      "Loading barrier file for Farsite #1: /home/jovyan/farsite/inputs/barriers/NoBarrier/NoBarrier.shp\n",
      "Launching Farsite #1\n",
      "Starting time step 0.000000 (maximum = 18)\n",
      "Writing outputs for Farsite #1 to /home/jovyan/data/20230313/Run_00138/out\n"
     ]
    },
    {
     "name": "stderr",
     "output_type": "stream",
     "text": [
      "/home/jovyan/farsite-devAPI/src/farsiteutils_v2.py:177: FutureWarning: The frame.append method is deprecated and will be removed from pandas in a future version. Use pandas.concat instead.\n",
      "  self.gdfsimulation = self.gdfsimulation.append(gdfappend)\n"
     ]
    },
    {
     "name": "stdout",
     "output_type": "stream",
     "text": [
      "Farsite $Rev: 2395 $\n",
      "Number of parallel threads = 4 (omp_get_num_procs = 128).\n",
      "Loading lcp file for Farsite #1: /home/jovyan/farsite/inputs/landscapes/Maria2019.lcp\n",
      "Loading inputs file for Farsite #1: /home/jovyan/data/20230313/Run_00139/config\n",
      "Loading ignition file for Farsite #1: /home/jovyan/data/ignitions/Maria2019Ebad1815b09a24a98bfcfa35bd00fb26c.shp\n",
      "Loading barrier file for Farsite #1: /home/jovyan/farsite/inputs/barriers/NoBarrier/NoBarrier.shp\n",
      "Launching Farsite #1\n",
      "Starting time step 0.000000 (maximum = 18)\n",
      "Writing outputs for Farsite #1 to /home/jovyan/data/20230313/Run_00139/out\n"
     ]
    },
    {
     "name": "stderr",
     "output_type": "stream",
     "text": [
      "/home/jovyan/farsite-devAPI/src/farsiteutils_v2.py:177: FutureWarning: The frame.append method is deprecated and will be removed from pandas in a future version. Use pandas.concat instead.\n",
      "  self.gdfsimulation = self.gdfsimulation.append(gdfappend)\n"
     ]
    },
    {
     "name": "stdout",
     "output_type": "stream",
     "text": [
      "Farsite $Rev: 2395 $\n",
      "Number of parallel threads = 4 (omp_get_num_procs = 128).\n",
      "Loading lcp file for Farsite #1: /home/jovyan/farsite/inputs/landscapes/Maria2019.lcp\n",
      "Loading inputs file for Farsite #1: /home/jovyan/data/20230313/Run_00140/config\n",
      "Loading ignition file for Farsite #1: /home/jovyan/data/ignitions/Maria2019Ef5442fc37ff340f3be00ff5ef0a9d8f6.shp\n",
      "Loading barrier file for Farsite #1: /home/jovyan/farsite/inputs/barriers/NoBarrier/NoBarrier.shp\n",
      "Launching Farsite #1\n",
      "Starting time step 0.000000 (maximum = 18)\n",
      "Writing outputs for Farsite #1 to /home/jovyan/data/20230313/Run_00140/out\n"
     ]
    },
    {
     "name": "stderr",
     "output_type": "stream",
     "text": [
      "/home/jovyan/farsite-devAPI/src/farsiteutils_v2.py:177: FutureWarning: The frame.append method is deprecated and will be removed from pandas in a future version. Use pandas.concat instead.\n",
      "  self.gdfsimulation = self.gdfsimulation.append(gdfappend)\n"
     ]
    },
    {
     "name": "stdout",
     "output_type": "stream",
     "text": [
      "Farsite $Rev: 2395 $\n",
      "Number of parallel threads = 4 (omp_get_num_procs = 128).\n",
      "Loading lcp file for Farsite #1: /home/jovyan/farsite/inputs/landscapes/Maria2019.lcp\n",
      "Loading inputs file for Farsite #1: /home/jovyan/data/20230313/Run_00141/config\n",
      "Loading ignition file for Farsite #1: /home/jovyan/data/ignitions/Maria2019Ef1e1cd62f82b419b8a43c78f9330cb01.shp\n",
      "Loading barrier file for Farsite #1: /home/jovyan/farsite/inputs/barriers/NoBarrier/NoBarrier.shp\n",
      "Launching Farsite #1\n",
      "Starting time step 0.000000 (maximum = 18)\n",
      "Writing outputs for Farsite #1 to /home/jovyan/data/20230313/Run_00141/out\n"
     ]
    },
    {
     "name": "stderr",
     "output_type": "stream",
     "text": [
      "/home/jovyan/farsite-devAPI/src/farsiteutils_v2.py:177: FutureWarning: The frame.append method is deprecated and will be removed from pandas in a future version. Use pandas.concat instead.\n",
      "  self.gdfsimulation = self.gdfsimulation.append(gdfappend)\n"
     ]
    },
    {
     "name": "stdout",
     "output_type": "stream",
     "text": [
      "Farsite $Rev: 2395 $\n",
      "Number of parallel threads = 4 (omp_get_num_procs = 128).\n",
      "Loading lcp file for Farsite #1: /home/jovyan/farsite/inputs/landscapes/Maria2019.lcp\n",
      "Loading inputs file for Farsite #1: /home/jovyan/data/20230313/Run_00142/config\n",
      "Loading ignition file for Farsite #1: /home/jovyan/data/ignitions/Maria2019E4c0dca82db6b443e8d9b614f341114c1.shp\n",
      "Loading barrier file for Farsite #1: /home/jovyan/farsite/inputs/barriers/NoBarrier/NoBarrier.shp\n",
      "Launching Farsite #1\n",
      "Starting time step 0.000000 (maximum = 18)\n",
      "Writing outputs for Farsite #1 to /home/jovyan/data/20230313/Run_00142/out\n"
     ]
    },
    {
     "name": "stderr",
     "output_type": "stream",
     "text": [
      "/home/jovyan/farsite-devAPI/src/farsiteutils_v2.py:177: FutureWarning: The frame.append method is deprecated and will be removed from pandas in a future version. Use pandas.concat instead.\n",
      "  self.gdfsimulation = self.gdfsimulation.append(gdfappend)\n"
     ]
    },
    {
     "name": "stdout",
     "output_type": "stream",
     "text": [
      "Farsite $Rev: 2395 $\n",
      "Number of parallel threads = 4 (omp_get_num_procs = 128).\n",
      "Loading lcp file for Farsite #1: /home/jovyan/farsite/inputs/landscapes/Maria2019.lcp\n",
      "Loading inputs file for Farsite #1: /home/jovyan/data/20230313/Run_00143/config\n",
      "Loading ignition file for Farsite #1: /home/jovyan/data/ignitions/Maria2019E6b054272c9e44032b1dd1481ed16840e.shp\n",
      "Loading barrier file for Farsite #1: /home/jovyan/farsite/inputs/barriers/NoBarrier/NoBarrier.shp\n",
      "Launching Farsite #1\n",
      "Starting time step 0.000000 (maximum = 18)\n",
      "Writing outputs for Farsite #1 to /home/jovyan/data/20230313/Run_00143/out\n"
     ]
    },
    {
     "name": "stderr",
     "output_type": "stream",
     "text": [
      "/home/jovyan/farsite-devAPI/src/farsiteutils_v2.py:177: FutureWarning: The frame.append method is deprecated and will be removed from pandas in a future version. Use pandas.concat instead.\n",
      "  self.gdfsimulation = self.gdfsimulation.append(gdfappend)\n"
     ]
    },
    {
     "name": "stdout",
     "output_type": "stream",
     "text": [
      "Farsite $Rev: 2395 $\n",
      "Number of parallel threads = 4 (omp_get_num_procs = 128).\n",
      "Loading lcp file for Farsite #1: /home/jovyan/farsite/inputs/landscapes/Maria2019.lcp\n",
      "Loading inputs file for Farsite #1: /home/jovyan/data/20230313/Run_00144/config\n",
      "Loading ignition file for Farsite #1: /home/jovyan/data/ignitions/Maria2019Ef7555c6c8c1349a28be62f484bd22821.shp\n",
      "Loading barrier file for Farsite #1: /home/jovyan/farsite/inputs/barriers/NoBarrier/NoBarrier.shp\n",
      "Launching Farsite #1\n",
      "Starting time step 0.000000 (maximum = 18)\n",
      "Writing outputs for Farsite #1 to /home/jovyan/data/20230313/Run_00144/out\n"
     ]
    },
    {
     "name": "stderr",
     "output_type": "stream",
     "text": [
      "/home/jovyan/farsite-devAPI/src/farsiteutils_v2.py:177: FutureWarning: The frame.append method is deprecated and will be removed from pandas in a future version. Use pandas.concat instead.\n",
      "  self.gdfsimulation = self.gdfsimulation.append(gdfappend)\n"
     ]
    },
    {
     "name": "stdout",
     "output_type": "stream",
     "text": [
      "Farsite $Rev: 2395 $\n",
      "Number of parallel threads = 4 (omp_get_num_procs = 128).\n",
      "Loading lcp file for Farsite #1: /home/jovyan/farsite/inputs/landscapes/Maria2019.lcp\n",
      "Loading inputs file for Farsite #1: /home/jovyan/data/20230313/Run_00145/config\n",
      "Loading ignition file for Farsite #1: /home/jovyan/data/ignitions/Maria2019Eb640fa4f5e5b42f6a6bdca41a85b74ac.shp\n",
      "Loading barrier file for Farsite #1: /home/jovyan/farsite/inputs/barriers/NoBarrier/NoBarrier.shp\n",
      "Launching Farsite #1\n",
      "Starting time step 0.000000 (maximum = 18)\n",
      "Writing outputs for Farsite #1 to /home/jovyan/data/20230313/Run_00145/out\n"
     ]
    },
    {
     "name": "stderr",
     "output_type": "stream",
     "text": [
      "/home/jovyan/farsite-devAPI/src/farsiteutils_v2.py:177: FutureWarning: The frame.append method is deprecated and will be removed from pandas in a future version. Use pandas.concat instead.\n",
      "  self.gdfsimulation = self.gdfsimulation.append(gdfappend)\n"
     ]
    },
    {
     "name": "stdout",
     "output_type": "stream",
     "text": [
      "Farsite $Rev: 2395 $\n",
      "Number of parallel threads = 4 (omp_get_num_procs = 128).\n",
      "Loading lcp file for Farsite #1: /home/jovyan/farsite/inputs/landscapes/Maria2019.lcp\n",
      "Loading inputs file for Farsite #1: /home/jovyan/data/20230313/Run_00146/config\n",
      "Loading ignition file for Farsite #1: /home/jovyan/data/ignitions/Maria2019E0d5de47d86d94e8f9bcc429699c9b0e6.shp\n",
      "Loading barrier file for Farsite #1: /home/jovyan/farsite/inputs/barriers/NoBarrier/NoBarrier.shp\n",
      "Launching Farsite #1\n",
      "Starting time step 0.000000 (maximum = 18)\n",
      "Writing outputs for Farsite #1 to /home/jovyan/data/20230313/Run_00146/out\n"
     ]
    },
    {
     "name": "stderr",
     "output_type": "stream",
     "text": [
      "/home/jovyan/farsite-devAPI/src/farsiteutils_v2.py:177: FutureWarning: The frame.append method is deprecated and will be removed from pandas in a future version. Use pandas.concat instead.\n",
      "  self.gdfsimulation = self.gdfsimulation.append(gdfappend)\n"
     ]
    },
    {
     "name": "stdout",
     "output_type": "stream",
     "text": [
      "Farsite $Rev: 2395 $\n",
      "Number of parallel threads = 4 (omp_get_num_procs = 128).\n",
      "Loading lcp file for Farsite #1: /home/jovyan/farsite/inputs/landscapes/Maria2019.lcp\n",
      "Loading inputs file for Farsite #1: /home/jovyan/data/20230313/Run_00147/config\n",
      "Loading ignition file for Farsite #1: /home/jovyan/data/ignitions/Maria2019Ef99a13befdc74b7799f9947254034b71.shp\n",
      "Loading barrier file for Farsite #1: /home/jovyan/farsite/inputs/barriers/NoBarrier/NoBarrier.shp\n",
      "Launching Farsite #1\n",
      "Starting time step 0.000000 (maximum = 18)\n",
      "Writing outputs for Farsite #1 to /home/jovyan/data/20230313/Run_00147/out\n"
     ]
    },
    {
     "name": "stderr",
     "output_type": "stream",
     "text": [
      "/home/jovyan/farsite-devAPI/src/farsiteutils_v2.py:177: FutureWarning: The frame.append method is deprecated and will be removed from pandas in a future version. Use pandas.concat instead.\n",
      "  self.gdfsimulation = self.gdfsimulation.append(gdfappend)\n"
     ]
    },
    {
     "name": "stdout",
     "output_type": "stream",
     "text": [
      "Farsite $Rev: 2395 $\n",
      "Number of parallel threads = 4 (omp_get_num_procs = 128).\n",
      "Loading lcp file for Farsite #1: /home/jovyan/farsite/inputs/landscapes/Maria2019.lcp\n",
      "Loading inputs file for Farsite #1: /home/jovyan/data/20230313/Run_00148/config\n",
      "Loading ignition file for Farsite #1: /home/jovyan/data/ignitions/Maria2019E5bc86b25f58f4dbbaabd1928df8e127d.shp\n",
      "Loading barrier file for Farsite #1: /home/jovyan/farsite/inputs/barriers/NoBarrier/NoBarrier.shp\n",
      "Launching Farsite #1\n",
      "Starting time step 0.000000 (maximum = 18)\n",
      "Writing outputs for Farsite #1 to /home/jovyan/data/20230313/Run_00148/out\n"
     ]
    },
    {
     "name": "stderr",
     "output_type": "stream",
     "text": [
      "/home/jovyan/farsite-devAPI/src/farsiteutils_v2.py:177: FutureWarning: The frame.append method is deprecated and will be removed from pandas in a future version. Use pandas.concat instead.\n",
      "  self.gdfsimulation = self.gdfsimulation.append(gdfappend)\n"
     ]
    },
    {
     "name": "stdout",
     "output_type": "stream",
     "text": [
      "Farsite $Rev: 2395 $\n",
      "Number of parallel threads = 4 (omp_get_num_procs = 128).\n",
      "Loading lcp file for Farsite #1: /home/jovyan/farsite/inputs/landscapes/Maria2019.lcp\n",
      "Loading inputs file for Farsite #1: /home/jovyan/data/20230313/Run_00149/config\n",
      "Loading ignition file for Farsite #1: /home/jovyan/data/ignitions/Maria2019E164c6037d2de49769fff507d9fd4677e.shp\n",
      "Loading barrier file for Farsite #1: /home/jovyan/farsite/inputs/barriers/NoBarrier/NoBarrier.shp\n",
      "Launching Farsite #1\n",
      "Starting time step 0.000000 (maximum = 18)\n",
      "Writing outputs for Farsite #1 to /home/jovyan/data/20230313/Run_00149/out\n"
     ]
    },
    {
     "name": "stderr",
     "output_type": "stream",
     "text": [
      "/home/jovyan/farsite-devAPI/src/farsiteutils_v2.py:177: FutureWarning: The frame.append method is deprecated and will be removed from pandas in a future version. Use pandas.concat instead.\n",
      "  self.gdfsimulation = self.gdfsimulation.append(gdfappend)\n"
     ]
    },
    {
     "name": "stdout",
     "output_type": "stream",
     "text": [
      "Farsite $Rev: 2395 $\n",
      "Number of parallel threads = 4 (omp_get_num_procs = 128).\n",
      "Loading lcp file for Farsite #1: /home/jovyan/farsite/inputs/landscapes/Maria2019.lcp\n",
      "Loading inputs file for Farsite #1: /home/jovyan/data/20230313/Run_00150/config\n",
      "Loading ignition file for Farsite #1: /home/jovyan/data/ignitions/Maria2019Ea45ca22cfde14296a47164b9f653278c.shp\n",
      "Loading barrier file for Farsite #1: /home/jovyan/farsite/inputs/barriers/NoBarrier/NoBarrier.shp\n",
      "Launching Farsite #1\n",
      "Starting time step 0.000000 (maximum = 18)\n",
      "Writing outputs for Farsite #1 to /home/jovyan/data/20230313/Run_00150/out\n"
     ]
    },
    {
     "name": "stderr",
     "output_type": "stream",
     "text": [
      "/home/jovyan/farsite-devAPI/src/farsiteutils_v2.py:177: FutureWarning: The frame.append method is deprecated and will be removed from pandas in a future version. Use pandas.concat instead.\n",
      "  self.gdfsimulation = self.gdfsimulation.append(gdfappend)\n"
     ]
    },
    {
     "name": "stdout",
     "output_type": "stream",
     "text": [
      "Farsite $Rev: 2395 $\n",
      "Number of parallel threads = 4 (omp_get_num_procs = 128).\n",
      "Loading lcp file for Farsite #1: /home/jovyan/farsite/inputs/landscapes/Maria2019.lcp\n",
      "Loading inputs file for Farsite #1: /home/jovyan/data/20230313/Run_00151/config\n",
      "Loading ignition file for Farsite #1: /home/jovyan/data/ignitions/Maria2019E02ff918119754408ac66a8064d8ca234.shp\n",
      "Loading barrier file for Farsite #1: /home/jovyan/farsite/inputs/barriers/NoBarrier/NoBarrier.shp\n",
      "Launching Farsite #1\n",
      "Starting time step 0.000000 (maximum = 18)\n",
      "Writing outputs for Farsite #1 to /home/jovyan/data/20230313/Run_00151/out\n"
     ]
    },
    {
     "name": "stderr",
     "output_type": "stream",
     "text": [
      "/home/jovyan/farsite-devAPI/src/farsiteutils_v2.py:177: FutureWarning: The frame.append method is deprecated and will be removed from pandas in a future version. Use pandas.concat instead.\n",
      "  self.gdfsimulation = self.gdfsimulation.append(gdfappend)\n"
     ]
    },
    {
     "name": "stdout",
     "output_type": "stream",
     "text": [
      "Farsite $Rev: 2395 $\n",
      "Number of parallel threads = 4 (omp_get_num_procs = 128).\n",
      "Loading lcp file for Farsite #1: /home/jovyan/farsite/inputs/landscapes/Maria2019.lcp\n",
      "Loading inputs file for Farsite #1: /home/jovyan/data/20230313/Run_00152/config\n",
      "Loading ignition file for Farsite #1: /home/jovyan/data/ignitions/Maria2019E51bddfea986c465baf49da251c0c7930.shp\n",
      "Loading barrier file for Farsite #1: /home/jovyan/farsite/inputs/barriers/NoBarrier/NoBarrier.shp\n",
      "Launching Farsite #1\n",
      "Starting time step 0.000000 (maximum = 18)\n",
      "Writing outputs for Farsite #1 to /home/jovyan/data/20230313/Run_00152/out\n"
     ]
    },
    {
     "name": "stderr",
     "output_type": "stream",
     "text": [
      "/home/jovyan/farsite-devAPI/src/farsiteutils_v2.py:177: FutureWarning: The frame.append method is deprecated and will be removed from pandas in a future version. Use pandas.concat instead.\n",
      "  self.gdfsimulation = self.gdfsimulation.append(gdfappend)\n"
     ]
    },
    {
     "name": "stdout",
     "output_type": "stream",
     "text": [
      "Farsite $Rev: 2395 $\n",
      "Number of parallel threads = 4 (omp_get_num_procs = 128).\n",
      "Loading lcp file for Farsite #1: /home/jovyan/farsite/inputs/landscapes/Maria2019.lcp\n",
      "Loading inputs file for Farsite #1: /home/jovyan/data/20230313/Run_00153/config\n",
      "Loading ignition file for Farsite #1: /home/jovyan/data/ignitions/Maria2019E30a6866b19564f87a97747bc1e99ebf5.shp\n",
      "Loading barrier file for Farsite #1: /home/jovyan/farsite/inputs/barriers/NoBarrier/NoBarrier.shp\n",
      "Launching Farsite #1\n",
      "Starting time step 0.000000 (maximum = 18)\n",
      "Writing outputs for Farsite #1 to /home/jovyan/data/20230313/Run_00153/out\n"
     ]
    },
    {
     "name": "stderr",
     "output_type": "stream",
     "text": [
      "/home/jovyan/farsite-devAPI/src/farsiteutils_v2.py:177: FutureWarning: The frame.append method is deprecated and will be removed from pandas in a future version. Use pandas.concat instead.\n",
      "  self.gdfsimulation = self.gdfsimulation.append(gdfappend)\n"
     ]
    },
    {
     "name": "stdout",
     "output_type": "stream",
     "text": [
      "Farsite $Rev: 2395 $\n",
      "Number of parallel threads = 4 (omp_get_num_procs = 128).\n",
      "Loading lcp file for Farsite #1: /home/jovyan/farsite/inputs/landscapes/Maria2019.lcp\n",
      "Loading inputs file for Farsite #1: /home/jovyan/data/20230313/Run_00154/config\n",
      "Loading ignition file for Farsite #1: /home/jovyan/data/ignitions/Maria2019Ece8977b8272a45b294bd692c7a18f3f7.shp\n",
      "Loading barrier file for Farsite #1: /home/jovyan/farsite/inputs/barriers/NoBarrier/NoBarrier.shp\n",
      "Launching Farsite #1\n",
      "Starting time step 0.000000 (maximum = 18)\n",
      "Writing outputs for Farsite #1 to /home/jovyan/data/20230313/Run_00154/out\n"
     ]
    },
    {
     "name": "stderr",
     "output_type": "stream",
     "text": [
      "/home/jovyan/farsite-devAPI/src/farsiteutils_v2.py:177: FutureWarning: The frame.append method is deprecated and will be removed from pandas in a future version. Use pandas.concat instead.\n",
      "  self.gdfsimulation = self.gdfsimulation.append(gdfappend)\n"
     ]
    },
    {
     "name": "stdout",
     "output_type": "stream",
     "text": [
      "Farsite $Rev: 2395 $\n",
      "Number of parallel threads = 4 (omp_get_num_procs = 128).\n",
      "Loading lcp file for Farsite #1: /home/jovyan/farsite/inputs/landscapes/Maria2019.lcp\n",
      "Loading inputs file for Farsite #1: /home/jovyan/data/20230313/Run_00155/config\n",
      "Loading ignition file for Farsite #1: /home/jovyan/data/ignitions/Maria2019Ecdb0e98568b841038dd191f24005b94c.shp\n",
      "Loading barrier file for Farsite #1: /home/jovyan/farsite/inputs/barriers/NoBarrier/NoBarrier.shp\n",
      "Launching Farsite #1\n",
      "Starting time step 0.000000 (maximum = 18)\n",
      "Writing outputs for Farsite #1 to /home/jovyan/data/20230313/Run_00155/out\n"
     ]
    },
    {
     "name": "stderr",
     "output_type": "stream",
     "text": [
      "/home/jovyan/farsite-devAPI/src/farsiteutils_v2.py:177: FutureWarning: The frame.append method is deprecated and will be removed from pandas in a future version. Use pandas.concat instead.\n",
      "  self.gdfsimulation = self.gdfsimulation.append(gdfappend)\n"
     ]
    },
    {
     "name": "stdout",
     "output_type": "stream",
     "text": [
      "Farsite $Rev: 2395 $\n",
      "Number of parallel threads = 4 (omp_get_num_procs = 128).\n",
      "Loading lcp file for Farsite #1: /home/jovyan/farsite/inputs/landscapes/Maria2019.lcp\n",
      "Loading inputs file for Farsite #1: /home/jovyan/data/20230313/Run_00156/config\n",
      "Loading ignition file for Farsite #1: /home/jovyan/data/ignitions/Maria2019Eeb04628421af4a03b8908b87c8b760c7.shp\n",
      "Loading barrier file for Farsite #1: /home/jovyan/farsite/inputs/barriers/NoBarrier/NoBarrier.shp\n",
      "Launching Farsite #1\n",
      "Starting time step 0.000000 (maximum = 18)\n",
      "Writing outputs for Farsite #1 to /home/jovyan/data/20230313/Run_00156/out\n"
     ]
    },
    {
     "name": "stderr",
     "output_type": "stream",
     "text": [
      "/home/jovyan/farsite-devAPI/src/farsiteutils_v2.py:177: FutureWarning: The frame.append method is deprecated and will be removed from pandas in a future version. Use pandas.concat instead.\n",
      "  self.gdfsimulation = self.gdfsimulation.append(gdfappend)\n"
     ]
    },
    {
     "name": "stdout",
     "output_type": "stream",
     "text": [
      "Farsite $Rev: 2395 $\n",
      "Number of parallel threads = 4 (omp_get_num_procs = 128).\n",
      "Loading lcp file for Farsite #1: /home/jovyan/farsite/inputs/landscapes/Maria2019.lcp\n",
      "Loading inputs file for Farsite #1: /home/jovyan/data/20230313/Run_00157/config\n",
      "Loading ignition file for Farsite #1: /home/jovyan/data/ignitions/Maria2019E8d2fe8657bbc4dbf933545b2803bc53a.shp\n",
      "Loading barrier file for Farsite #1: /home/jovyan/farsite/inputs/barriers/NoBarrier/NoBarrier.shp\n",
      "Launching Farsite #1\n",
      "Starting time step 0.000000 (maximum = 18)\n",
      "Writing outputs for Farsite #1 to /home/jovyan/data/20230313/Run_00157/out\n"
     ]
    },
    {
     "name": "stderr",
     "output_type": "stream",
     "text": [
      "/home/jovyan/farsite-devAPI/src/farsiteutils_v2.py:177: FutureWarning: The frame.append method is deprecated and will be removed from pandas in a future version. Use pandas.concat instead.\n",
      "  self.gdfsimulation = self.gdfsimulation.append(gdfappend)\n"
     ]
    },
    {
     "name": "stdout",
     "output_type": "stream",
     "text": [
      "Farsite $Rev: 2395 $\n",
      "Number of parallel threads = 4 (omp_get_num_procs = 128).\n",
      "Loading lcp file for Farsite #1: /home/jovyan/farsite/inputs/landscapes/Maria2019.lcp\n",
      "Loading inputs file for Farsite #1: /home/jovyan/data/20230313/Run_00158/config\n",
      "Loading ignition file for Farsite #1: /home/jovyan/data/ignitions/Maria2019E138819eb3c88482c8e97ae5e35d77508.shp\n",
      "Loading barrier file for Farsite #1: /home/jovyan/farsite/inputs/barriers/NoBarrier/NoBarrier.shp\n",
      "Launching Farsite #1\n",
      "Starting time step 0.000000 (maximum = 18)\n",
      "Writing outputs for Farsite #1 to /home/jovyan/data/20230313/Run_00158/out\n"
     ]
    },
    {
     "name": "stderr",
     "output_type": "stream",
     "text": [
      "/home/jovyan/farsite-devAPI/src/farsiteutils_v2.py:177: FutureWarning: The frame.append method is deprecated and will be removed from pandas in a future version. Use pandas.concat instead.\n",
      "  self.gdfsimulation = self.gdfsimulation.append(gdfappend)\n"
     ]
    },
    {
     "name": "stdout",
     "output_type": "stream",
     "text": [
      "Farsite $Rev: 2395 $\n",
      "Number of parallel threads = 4 (omp_get_num_procs = 128).\n",
      "Loading lcp file for Farsite #1: /home/jovyan/farsite/inputs/landscapes/Maria2019.lcp\n",
      "Loading inputs file for Farsite #1: /home/jovyan/data/20230313/Run_00159/config\n",
      "Loading ignition file for Farsite #1: /home/jovyan/data/ignitions/Maria2019E5a369bde1c294da98984db6cca5da750.shp\n",
      "Loading barrier file for Farsite #1: /home/jovyan/farsite/inputs/barriers/NoBarrier/NoBarrier.shp\n",
      "Launching Farsite #1\n",
      "Starting time step 0.000000 (maximum = 18)\n",
      "Writing outputs for Farsite #1 to /home/jovyan/data/20230313/Run_00159/out\n"
     ]
    },
    {
     "name": "stderr",
     "output_type": "stream",
     "text": [
      "/home/jovyan/farsite-devAPI/src/farsiteutils_v2.py:177: FutureWarning: The frame.append method is deprecated and will be removed from pandas in a future version. Use pandas.concat instead.\n",
      "  self.gdfsimulation = self.gdfsimulation.append(gdfappend)\n"
     ]
    },
    {
     "name": "stdout",
     "output_type": "stream",
     "text": [
      "Farsite $Rev: 2395 $\n",
      "Number of parallel threads = 4 (omp_get_num_procs = 128).\n",
      "Loading lcp file for Farsite #1: /home/jovyan/farsite/inputs/landscapes/Maria2019.lcp\n",
      "Loading inputs file for Farsite #1: /home/jovyan/data/20230313/Run_00160/config\n",
      "Loading ignition file for Farsite #1: /home/jovyan/data/ignitions/Maria2019Ee2f1af663e324943abdd1f0ff6429d65.shp\n",
      "Loading barrier file for Farsite #1: /home/jovyan/farsite/inputs/barriers/NoBarrier/NoBarrier.shp\n",
      "Launching Farsite #1\n",
      "Starting time step 0.000000 (maximum = 18)\n",
      "Writing outputs for Farsite #1 to /home/jovyan/data/20230313/Run_00160/out\n"
     ]
    },
    {
     "name": "stderr",
     "output_type": "stream",
     "text": [
      "/home/jovyan/farsite-devAPI/src/farsiteutils_v2.py:177: FutureWarning: The frame.append method is deprecated and will be removed from pandas in a future version. Use pandas.concat instead.\n",
      "  self.gdfsimulation = self.gdfsimulation.append(gdfappend)\n"
     ]
    },
    {
     "name": "stdout",
     "output_type": "stream",
     "text": [
      "Farsite $Rev: 2395 $\n",
      "Number of parallel threads = 4 (omp_get_num_procs = 128).\n",
      "Loading lcp file for Farsite #1: /home/jovyan/farsite/inputs/landscapes/Maria2019.lcp\n",
      "Loading inputs file for Farsite #1: /home/jovyan/data/20230313/Run_00161/config\n",
      "Loading ignition file for Farsite #1: /home/jovyan/data/ignitions/Maria2019E32e5950b29c84c11b64a6be6d5da27dc.shp\n",
      "Loading barrier file for Farsite #1: /home/jovyan/farsite/inputs/barriers/NoBarrier/NoBarrier.shp\n",
      "Launching Farsite #1\n",
      "Starting time step 0.000000 (maximum = 18)\n",
      "Writing outputs for Farsite #1 to /home/jovyan/data/20230313/Run_00161/out\n"
     ]
    },
    {
     "name": "stderr",
     "output_type": "stream",
     "text": [
      "/home/jovyan/farsite-devAPI/src/farsiteutils_v2.py:177: FutureWarning: The frame.append method is deprecated and will be removed from pandas in a future version. Use pandas.concat instead.\n",
      "  self.gdfsimulation = self.gdfsimulation.append(gdfappend)\n"
     ]
    },
    {
     "name": "stdout",
     "output_type": "stream",
     "text": [
      "Farsite $Rev: 2395 $\n",
      "Number of parallel threads = 4 (omp_get_num_procs = 128).\n",
      "Loading lcp file for Farsite #1: /home/jovyan/farsite/inputs/landscapes/Maria2019.lcp\n",
      "Loading inputs file for Farsite #1: /home/jovyan/data/20230313/Run_00162/config\n",
      "Loading ignition file for Farsite #1: /home/jovyan/data/ignitions/Maria2019E4a93c2548bdf450b984a6b39c4aa157c.shp\n",
      "Loading barrier file for Farsite #1: /home/jovyan/farsite/inputs/barriers/NoBarrier/NoBarrier.shp\n",
      "Launching Farsite #1\n",
      "Starting time step 0.000000 (maximum = 18)\n",
      "Writing outputs for Farsite #1 to /home/jovyan/data/20230313/Run_00162/out\n"
     ]
    },
    {
     "name": "stderr",
     "output_type": "stream",
     "text": [
      "/home/jovyan/farsite-devAPI/src/farsiteutils_v2.py:177: FutureWarning: The frame.append method is deprecated and will be removed from pandas in a future version. Use pandas.concat instead.\n",
      "  self.gdfsimulation = self.gdfsimulation.append(gdfappend)\n"
     ]
    },
    {
     "name": "stdout",
     "output_type": "stream",
     "text": [
      "Farsite $Rev: 2395 $\n",
      "Number of parallel threads = 4 (omp_get_num_procs = 128).\n",
      "Loading lcp file for Farsite #1: /home/jovyan/farsite/inputs/landscapes/Maria2019.lcp\n",
      "Loading inputs file for Farsite #1: /home/jovyan/data/20230313/Run_00163/config\n",
      "Loading ignition file for Farsite #1: /home/jovyan/data/ignitions/Maria2019E3d483a0c14034c3490254d06ed8f2899.shp\n",
      "Loading barrier file for Farsite #1: /home/jovyan/farsite/inputs/barriers/NoBarrier/NoBarrier.shp\n",
      "Launching Farsite #1\n",
      "Starting time step 0.000000 (maximum = 18)\n",
      "Writing outputs for Farsite #1 to /home/jovyan/data/20230313/Run_00163/out\n"
     ]
    },
    {
     "name": "stderr",
     "output_type": "stream",
     "text": [
      "/home/jovyan/farsite-devAPI/src/farsiteutils_v2.py:177: FutureWarning: The frame.append method is deprecated and will be removed from pandas in a future version. Use pandas.concat instead.\n",
      "  self.gdfsimulation = self.gdfsimulation.append(gdfappend)\n"
     ]
    },
    {
     "name": "stdout",
     "output_type": "stream",
     "text": [
      "Farsite $Rev: 2395 $\n",
      "Number of parallel threads = 4 (omp_get_num_procs = 128).\n",
      "Loading lcp file for Farsite #1: /home/jovyan/farsite/inputs/landscapes/Maria2019.lcp\n",
      "Loading inputs file for Farsite #1: /home/jovyan/data/20230313/Run_00164/config\n",
      "Loading ignition file for Farsite #1: /home/jovyan/data/ignitions/Maria2019E004c510b9c734999bd06735da2ce1c0a.shp\n",
      "Loading barrier file for Farsite #1: /home/jovyan/farsite/inputs/barriers/NoBarrier/NoBarrier.shp\n",
      "Launching Farsite #1\n",
      "Starting time step 0.000000 (maximum = 18)\n",
      "Writing outputs for Farsite #1 to /home/jovyan/data/20230313/Run_00164/out\n"
     ]
    },
    {
     "name": "stderr",
     "output_type": "stream",
     "text": [
      "/home/jovyan/farsite-devAPI/src/farsiteutils_v2.py:177: FutureWarning: The frame.append method is deprecated and will be removed from pandas in a future version. Use pandas.concat instead.\n",
      "  self.gdfsimulation = self.gdfsimulation.append(gdfappend)\n"
     ]
    },
    {
     "name": "stdout",
     "output_type": "stream",
     "text": [
      "Farsite $Rev: 2395 $\n",
      "Number of parallel threads = 4 (omp_get_num_procs = 128).\n",
      "Loading lcp file for Farsite #1: /home/jovyan/farsite/inputs/landscapes/Maria2019.lcp\n",
      "Loading inputs file for Farsite #1: /home/jovyan/data/20230313/Run_00165/config\n",
      "Loading ignition file for Farsite #1: /home/jovyan/data/ignitions/Maria2019E19bc9a564a96436a879d37a295fecced.shp\n",
      "Loading barrier file for Farsite #1: /home/jovyan/farsite/inputs/barriers/NoBarrier/NoBarrier.shp\n",
      "Launching Farsite #1\n",
      "Starting time step 0.000000 (maximum = 18)\n",
      "Writing outputs for Farsite #1 to /home/jovyan/data/20230313/Run_00165/out\n"
     ]
    },
    {
     "name": "stderr",
     "output_type": "stream",
     "text": [
      "/home/jovyan/farsite-devAPI/src/farsiteutils_v2.py:177: FutureWarning: The frame.append method is deprecated and will be removed from pandas in a future version. Use pandas.concat instead.\n",
      "  self.gdfsimulation = self.gdfsimulation.append(gdfappend)\n"
     ]
    },
    {
     "name": "stdout",
     "output_type": "stream",
     "text": [
      "Farsite $Rev: 2395 $\n",
      "Number of parallel threads = 4 (omp_get_num_procs = 128).\n",
      "Loading lcp file for Farsite #1: /home/jovyan/farsite/inputs/landscapes/Maria2019.lcp\n",
      "Loading inputs file for Farsite #1: /home/jovyan/data/20230313/Run_00166/config\n",
      "Loading ignition file for Farsite #1: /home/jovyan/data/ignitions/Maria2019E3e151adeccc94d32a9f043538d86d952.shp\n",
      "Loading barrier file for Farsite #1: /home/jovyan/farsite/inputs/barriers/NoBarrier/NoBarrier.shp\n",
      "Launching Farsite #1\n",
      "Starting time step 0.000000 (maximum = 18)\n",
      "Writing outputs for Farsite #1 to /home/jovyan/data/20230313/Run_00166/out\n"
     ]
    },
    {
     "name": "stderr",
     "output_type": "stream",
     "text": [
      "/home/jovyan/farsite-devAPI/src/farsiteutils_v2.py:177: FutureWarning: The frame.append method is deprecated and will be removed from pandas in a future version. Use pandas.concat instead.\n",
      "  self.gdfsimulation = self.gdfsimulation.append(gdfappend)\n"
     ]
    },
    {
     "name": "stdout",
     "output_type": "stream",
     "text": [
      "Farsite $Rev: 2395 $\n",
      "Number of parallel threads = 4 (omp_get_num_procs = 128).\n",
      "Loading lcp file for Farsite #1: /home/jovyan/farsite/inputs/landscapes/Maria2019.lcp\n",
      "Loading inputs file for Farsite #1: /home/jovyan/data/20230313/Run_00167/config\n",
      "Loading ignition file for Farsite #1: /home/jovyan/data/ignitions/Maria2019E5341efe73bf24fb3b7ab615f855651a2.shp\n",
      "Loading barrier file for Farsite #1: /home/jovyan/farsite/inputs/barriers/NoBarrier/NoBarrier.shp\n",
      "Launching Farsite #1\n",
      "Starting time step 0.000000 (maximum = 18)\n",
      "Writing outputs for Farsite #1 to /home/jovyan/data/20230313/Run_00167/out\n"
     ]
    },
    {
     "name": "stderr",
     "output_type": "stream",
     "text": [
      "/home/jovyan/farsite-devAPI/src/farsiteutils_v2.py:177: FutureWarning: The frame.append method is deprecated and will be removed from pandas in a future version. Use pandas.concat instead.\n",
      "  self.gdfsimulation = self.gdfsimulation.append(gdfappend)\n"
     ]
    },
    {
     "name": "stdout",
     "output_type": "stream",
     "text": [
      "Farsite $Rev: 2395 $\n",
      "Number of parallel threads = 4 (omp_get_num_procs = 128).\n",
      "Loading lcp file for Farsite #1: /home/jovyan/farsite/inputs/landscapes/Maria2019.lcp\n",
      "Loading inputs file for Farsite #1: /home/jovyan/data/20230313/Run_00168/config\n",
      "Loading ignition file for Farsite #1: /home/jovyan/data/ignitions/Maria2019E592905ebcea443a88e1b3fd779458930.shp\n",
      "Loading barrier file for Farsite #1: /home/jovyan/farsite/inputs/barriers/NoBarrier/NoBarrier.shp\n",
      "Launching Farsite #1\n",
      "Starting time step 0.000000 (maximum = 18)\n",
      "Writing outputs for Farsite #1 to /home/jovyan/data/20230313/Run_00168/out\n"
     ]
    },
    {
     "name": "stderr",
     "output_type": "stream",
     "text": [
      "/home/jovyan/farsite-devAPI/src/farsiteutils_v2.py:177: FutureWarning: The frame.append method is deprecated and will be removed from pandas in a future version. Use pandas.concat instead.\n",
      "  self.gdfsimulation = self.gdfsimulation.append(gdfappend)\n"
     ]
    },
    {
     "name": "stdout",
     "output_type": "stream",
     "text": [
      "Farsite $Rev: 2395 $\n",
      "Number of parallel threads = 4 (omp_get_num_procs = 128).\n",
      "Loading lcp file for Farsite #1: /home/jovyan/farsite/inputs/landscapes/Maria2019.lcp\n",
      "Loading inputs file for Farsite #1: /home/jovyan/data/20230313/Run_00169/config\n",
      "Loading ignition file for Farsite #1: /home/jovyan/data/ignitions/Maria2019E66addcdc25dc43ed87f14c231dc4c390.shp\n",
      "Loading barrier file for Farsite #1: /home/jovyan/farsite/inputs/barriers/NoBarrier/NoBarrier.shp\n",
      "Launching Farsite #1\n",
      "Starting time step 0.000000 (maximum = 18)\n",
      "Writing outputs for Farsite #1 to /home/jovyan/data/20230313/Run_00169/out\n"
     ]
    },
    {
     "name": "stderr",
     "output_type": "stream",
     "text": [
      "/home/jovyan/farsite-devAPI/src/farsiteutils_v2.py:177: FutureWarning: The frame.append method is deprecated and will be removed from pandas in a future version. Use pandas.concat instead.\n",
      "  self.gdfsimulation = self.gdfsimulation.append(gdfappend)\n"
     ]
    },
    {
     "name": "stdout",
     "output_type": "stream",
     "text": [
      "Farsite $Rev: 2395 $\n",
      "Number of parallel threads = 4 (omp_get_num_procs = 128).\n",
      "Loading lcp file for Farsite #1: /home/jovyan/farsite/inputs/landscapes/Maria2019.lcp\n",
      "Loading inputs file for Farsite #1: /home/jovyan/data/20230313/Run_00170/config\n",
      "Loading ignition file for Farsite #1: /home/jovyan/data/ignitions/Maria2019Ebc9226de4bc14f85b8dcf6d72914dbee.shp\n",
      "Loading barrier file for Farsite #1: /home/jovyan/farsite/inputs/barriers/NoBarrier/NoBarrier.shp\n",
      "Launching Farsite #1\n",
      "Starting time step 0.000000 (maximum = 18)\n",
      "Writing outputs for Farsite #1 to /home/jovyan/data/20230313/Run_00170/out\n"
     ]
    },
    {
     "name": "stderr",
     "output_type": "stream",
     "text": [
      "/home/jovyan/farsite-devAPI/src/farsiteutils_v2.py:177: FutureWarning: The frame.append method is deprecated and will be removed from pandas in a future version. Use pandas.concat instead.\n",
      "  self.gdfsimulation = self.gdfsimulation.append(gdfappend)\n"
     ]
    },
    {
     "name": "stdout",
     "output_type": "stream",
     "text": [
      "Farsite $Rev: 2395 $\n",
      "Number of parallel threads = 4 (omp_get_num_procs = 128).\n",
      "Loading lcp file for Farsite #1: /home/jovyan/farsite/inputs/landscapes/Maria2019.lcp\n",
      "Loading inputs file for Farsite #1: /home/jovyan/data/20230313/Run_00171/config\n",
      "Loading ignition file for Farsite #1: /home/jovyan/data/ignitions/Maria2019E72ccf8821c1346b6bd4e336f513081fd.shp\n",
      "Loading barrier file for Farsite #1: /home/jovyan/farsite/inputs/barriers/NoBarrier/NoBarrier.shp\n",
      "Launching Farsite #1\n",
      "Starting time step 0.000000 (maximum = 18)\n",
      "Writing outputs for Farsite #1 to /home/jovyan/data/20230313/Run_00171/out\n"
     ]
    },
    {
     "name": "stderr",
     "output_type": "stream",
     "text": [
      "/home/jovyan/farsite-devAPI/src/farsiteutils_v2.py:177: FutureWarning: The frame.append method is deprecated and will be removed from pandas in a future version. Use pandas.concat instead.\n",
      "  self.gdfsimulation = self.gdfsimulation.append(gdfappend)\n"
     ]
    },
    {
     "name": "stdout",
     "output_type": "stream",
     "text": [
      "Farsite $Rev: 2395 $\n",
      "Number of parallel threads = 4 (omp_get_num_procs = 128).\n",
      "Loading lcp file for Farsite #1: /home/jovyan/farsite/inputs/landscapes/Maria2019.lcp\n",
      "Loading inputs file for Farsite #1: /home/jovyan/data/20230313/Run_00172/config\n",
      "Loading ignition file for Farsite #1: /home/jovyan/data/ignitions/Maria2019E512e8c90e8cf4a2290410cb13432af9e.shp\n",
      "Loading barrier file for Farsite #1: /home/jovyan/farsite/inputs/barriers/NoBarrier/NoBarrier.shp\n",
      "Launching Farsite #1\n",
      "Starting time step 0.000000 (maximum = 18)\n",
      "Writing outputs for Farsite #1 to /home/jovyan/data/20230313/Run_00172/out\n"
     ]
    },
    {
     "name": "stderr",
     "output_type": "stream",
     "text": [
      "/home/jovyan/farsite-devAPI/src/farsiteutils_v2.py:177: FutureWarning: The frame.append method is deprecated and will be removed from pandas in a future version. Use pandas.concat instead.\n",
      "  self.gdfsimulation = self.gdfsimulation.append(gdfappend)\n"
     ]
    },
    {
     "name": "stdout",
     "output_type": "stream",
     "text": [
      "Farsite $Rev: 2395 $\n",
      "Number of parallel threads = 4 (omp_get_num_procs = 128).\n",
      "Loading lcp file for Farsite #1: /home/jovyan/farsite/inputs/landscapes/Maria2019.lcp\n",
      "Loading inputs file for Farsite #1: /home/jovyan/data/20230313/Run_00173/config\n",
      "Loading ignition file for Farsite #1: /home/jovyan/data/ignitions/Maria2019E7f280193434d4d8fbeaebee32c4e57f2.shp\n",
      "Loading barrier file for Farsite #1: /home/jovyan/farsite/inputs/barriers/NoBarrier/NoBarrier.shp\n",
      "Launching Farsite #1\n",
      "Starting time step 0.000000 (maximum = 18)\n",
      "Writing outputs for Farsite #1 to /home/jovyan/data/20230313/Run_00173/out\n"
     ]
    },
    {
     "name": "stderr",
     "output_type": "stream",
     "text": [
      "/home/jovyan/farsite-devAPI/src/farsiteutils_v2.py:177: FutureWarning: The frame.append method is deprecated and will be removed from pandas in a future version. Use pandas.concat instead.\n",
      "  self.gdfsimulation = self.gdfsimulation.append(gdfappend)\n"
     ]
    },
    {
     "name": "stdout",
     "output_type": "stream",
     "text": [
      "Farsite $Rev: 2395 $\n",
      "Number of parallel threads = 4 (omp_get_num_procs = 128).\n",
      "Loading lcp file for Farsite #1: /home/jovyan/farsite/inputs/landscapes/Maria2019.lcp\n",
      "Loading inputs file for Farsite #1: /home/jovyan/data/20230313/Run_00174/config\n",
      "Loading ignition file for Farsite #1: /home/jovyan/data/ignitions/Maria2019E3eaa5b697f4041d6a9f3a7a63ad93417.shp\n",
      "Loading barrier file for Farsite #1: /home/jovyan/farsite/inputs/barriers/NoBarrier/NoBarrier.shp\n",
      "Launching Farsite #1\n",
      "Starting time step 0.000000 (maximum = 18)\n",
      "Writing outputs for Farsite #1 to /home/jovyan/data/20230313/Run_00174/out\n"
     ]
    },
    {
     "name": "stderr",
     "output_type": "stream",
     "text": [
      "/home/jovyan/farsite-devAPI/src/farsiteutils_v2.py:177: FutureWarning: The frame.append method is deprecated and will be removed from pandas in a future version. Use pandas.concat instead.\n",
      "  self.gdfsimulation = self.gdfsimulation.append(gdfappend)\n"
     ]
    },
    {
     "name": "stdout",
     "output_type": "stream",
     "text": [
      "Farsite $Rev: 2395 $\n",
      "Number of parallel threads = 4 (omp_get_num_procs = 128).\n",
      "Loading lcp file for Farsite #1: /home/jovyan/farsite/inputs/landscapes/Maria2019.lcp\n",
      "Loading inputs file for Farsite #1: /home/jovyan/data/20230313/Run_00175/config\n",
      "Loading ignition file for Farsite #1: /home/jovyan/data/ignitions/Maria2019Efd2e60866910439b9f67120fa64d324d.shp\n",
      "Loading barrier file for Farsite #1: /home/jovyan/farsite/inputs/barriers/NoBarrier/NoBarrier.shp\n",
      "Launching Farsite #1\n",
      "Starting time step 0.000000 (maximum = 18)\n",
      "Writing outputs for Farsite #1 to /home/jovyan/data/20230313/Run_00175/out\n"
     ]
    },
    {
     "name": "stderr",
     "output_type": "stream",
     "text": [
      "/home/jovyan/farsite-devAPI/src/farsiteutils_v2.py:177: FutureWarning: The frame.append method is deprecated and will be removed from pandas in a future version. Use pandas.concat instead.\n",
      "  self.gdfsimulation = self.gdfsimulation.append(gdfappend)\n"
     ]
    },
    {
     "name": "stdout",
     "output_type": "stream",
     "text": [
      "Farsite $Rev: 2395 $\n",
      "Number of parallel threads = 4 (omp_get_num_procs = 128).\n",
      "Loading lcp file for Farsite #1: /home/jovyan/farsite/inputs/landscapes/Maria2019.lcp\n",
      "Loading inputs file for Farsite #1: /home/jovyan/data/20230313/Run_00176/config\n",
      "Loading ignition file for Farsite #1: /home/jovyan/data/ignitions/Maria2019E2677b9e216ea42c198e14343e380add9.shp\n",
      "Loading barrier file for Farsite #1: /home/jovyan/farsite/inputs/barriers/NoBarrier/NoBarrier.shp\n",
      "Launching Farsite #1\n",
      "Starting time step 0.000000 (maximum = 18)\n",
      "Writing outputs for Farsite #1 to /home/jovyan/data/20230313/Run_00176/out\n"
     ]
    },
    {
     "name": "stderr",
     "output_type": "stream",
     "text": [
      "/home/jovyan/farsite-devAPI/src/farsiteutils_v2.py:177: FutureWarning: The frame.append method is deprecated and will be removed from pandas in a future version. Use pandas.concat instead.\n",
      "  self.gdfsimulation = self.gdfsimulation.append(gdfappend)\n"
     ]
    },
    {
     "name": "stdout",
     "output_type": "stream",
     "text": [
      "Farsite $Rev: 2395 $\n",
      "Number of parallel threads = 4 (omp_get_num_procs = 128).\n",
      "Loading lcp file for Farsite #1: /home/jovyan/farsite/inputs/landscapes/Maria2019.lcp\n",
      "Loading inputs file for Farsite #1: /home/jovyan/data/20230313/Run_00177/config\n",
      "Loading ignition file for Farsite #1: /home/jovyan/data/ignitions/Maria2019Ed20751e6a3db4cf081cff7fe74428a18.shp\n",
      "Loading barrier file for Farsite #1: /home/jovyan/farsite/inputs/barriers/NoBarrier/NoBarrier.shp\n",
      "Launching Farsite #1\n",
      "Starting time step 0.000000 (maximum = 18)\n",
      "Writing outputs for Farsite #1 to /home/jovyan/data/20230313/Run_00177/out\n"
     ]
    },
    {
     "name": "stderr",
     "output_type": "stream",
     "text": [
      "/home/jovyan/farsite-devAPI/src/farsiteutils_v2.py:177: FutureWarning: The frame.append method is deprecated and will be removed from pandas in a future version. Use pandas.concat instead.\n",
      "  self.gdfsimulation = self.gdfsimulation.append(gdfappend)\n"
     ]
    },
    {
     "name": "stdout",
     "output_type": "stream",
     "text": [
      "Farsite $Rev: 2395 $\n",
      "Number of parallel threads = 4 (omp_get_num_procs = 128).\n",
      "Loading lcp file for Farsite #1: /home/jovyan/farsite/inputs/landscapes/Maria2019.lcp\n",
      "Loading inputs file for Farsite #1: /home/jovyan/data/20230313/Run_00178/config\n",
      "Loading ignition file for Farsite #1: /home/jovyan/data/ignitions/Maria2019E120e6ad5d01a4965ab5cc9cdf4b0206d.shp\n",
      "Loading barrier file for Farsite #1: /home/jovyan/farsite/inputs/barriers/NoBarrier/NoBarrier.shp\n",
      "Launching Farsite #1\n",
      "Starting time step 0.000000 (maximum = 18)\n",
      "Writing outputs for Farsite #1 to /home/jovyan/data/20230313/Run_00178/out\n"
     ]
    },
    {
     "name": "stderr",
     "output_type": "stream",
     "text": [
      "/home/jovyan/farsite-devAPI/src/farsiteutils_v2.py:177: FutureWarning: The frame.append method is deprecated and will be removed from pandas in a future version. Use pandas.concat instead.\n",
      "  self.gdfsimulation = self.gdfsimulation.append(gdfappend)\n"
     ]
    },
    {
     "name": "stdout",
     "output_type": "stream",
     "text": [
      "Farsite $Rev: 2395 $\n",
      "Number of parallel threads = 4 (omp_get_num_procs = 128).\n",
      "Loading lcp file for Farsite #1: /home/jovyan/farsite/inputs/landscapes/Maria2019.lcp\n",
      "Loading inputs file for Farsite #1: /home/jovyan/data/20230313/Run_00179/config\n",
      "Loading ignition file for Farsite #1: /home/jovyan/data/ignitions/Maria2019E551065cb43f34ff3a285fc45404e048f.shp\n",
      "Loading barrier file for Farsite #1: /home/jovyan/farsite/inputs/barriers/NoBarrier/NoBarrier.shp\n",
      "Launching Farsite #1\n",
      "Starting time step 0.000000 (maximum = 18)\n",
      "Writing outputs for Farsite #1 to /home/jovyan/data/20230313/Run_00179/out\n"
     ]
    },
    {
     "name": "stderr",
     "output_type": "stream",
     "text": [
      "/home/jovyan/farsite-devAPI/src/farsiteutils_v2.py:177: FutureWarning: The frame.append method is deprecated and will be removed from pandas in a future version. Use pandas.concat instead.\n",
      "  self.gdfsimulation = self.gdfsimulation.append(gdfappend)\n"
     ]
    },
    {
     "name": "stdout",
     "output_type": "stream",
     "text": [
      "Farsite $Rev: 2395 $\n",
      "Number of parallel threads = 4 (omp_get_num_procs = 128).\n",
      "Loading lcp file for Farsite #1: /home/jovyan/farsite/inputs/landscapes/Maria2019.lcp\n",
      "Loading inputs file for Farsite #1: /home/jovyan/data/20230313/Run_00180/config\n",
      "Loading ignition file for Farsite #1: /home/jovyan/data/ignitions/Maria2019Ea050bf40c2dc42c4b239f8de2bcf112f.shp\n",
      "Loading barrier file for Farsite #1: /home/jovyan/farsite/inputs/barriers/NoBarrier/NoBarrier.shp\n",
      "Launching Farsite #1\n",
      "Starting time step 0.000000 (maximum = 18)\n",
      "Writing outputs for Farsite #1 to /home/jovyan/data/20230313/Run_00180/out\n"
     ]
    },
    {
     "name": "stderr",
     "output_type": "stream",
     "text": [
      "/home/jovyan/farsite-devAPI/src/farsiteutils_v2.py:177: FutureWarning: The frame.append method is deprecated and will be removed from pandas in a future version. Use pandas.concat instead.\n",
      "  self.gdfsimulation = self.gdfsimulation.append(gdfappend)\n"
     ]
    },
    {
     "name": "stdout",
     "output_type": "stream",
     "text": [
      "Farsite $Rev: 2395 $\n",
      "Number of parallel threads = 4 (omp_get_num_procs = 128).\n",
      "Loading lcp file for Farsite #1: /home/jovyan/farsite/inputs/landscapes/Maria2019.lcp\n",
      "Loading inputs file for Farsite #1: /home/jovyan/data/20230313/Run_00181/config\n",
      "Loading ignition file for Farsite #1: /home/jovyan/data/ignitions/Maria2019E1bff282a568a48098de0e4cf0e1f5ee4.shp\n",
      "Loading barrier file for Farsite #1: /home/jovyan/farsite/inputs/barriers/NoBarrier/NoBarrier.shp\n",
      "Launching Farsite #1\n",
      "Starting time step 0.000000 (maximum = 18)\n",
      "Writing outputs for Farsite #1 to /home/jovyan/data/20230313/Run_00181/out\n"
     ]
    },
    {
     "name": "stderr",
     "output_type": "stream",
     "text": [
      "/home/jovyan/farsite-devAPI/src/farsiteutils_v2.py:177: FutureWarning: The frame.append method is deprecated and will be removed from pandas in a future version. Use pandas.concat instead.\n",
      "  self.gdfsimulation = self.gdfsimulation.append(gdfappend)\n"
     ]
    },
    {
     "name": "stdout",
     "output_type": "stream",
     "text": [
      "Farsite $Rev: 2395 $\n",
      "Number of parallel threads = 4 (omp_get_num_procs = 128).\n",
      "Loading lcp file for Farsite #1: /home/jovyan/farsite/inputs/landscapes/Maria2019.lcp\n",
      "Loading inputs file for Farsite #1: /home/jovyan/data/20230313/Run_00182/config\n",
      "Loading ignition file for Farsite #1: /home/jovyan/data/ignitions/Maria2019E59d23b81feaa4039ba5858dddc58d237.shp\n",
      "Loading barrier file for Farsite #1: /home/jovyan/farsite/inputs/barriers/NoBarrier/NoBarrier.shp\n",
      "Launching Farsite #1\n",
      "Starting time step 0.000000 (maximum = 18)\n",
      "Writing outputs for Farsite #1 to /home/jovyan/data/20230313/Run_00182/out\n"
     ]
    },
    {
     "name": "stderr",
     "output_type": "stream",
     "text": [
      "/home/jovyan/farsite-devAPI/src/farsiteutils_v2.py:177: FutureWarning: The frame.append method is deprecated and will be removed from pandas in a future version. Use pandas.concat instead.\n",
      "  self.gdfsimulation = self.gdfsimulation.append(gdfappend)\n"
     ]
    },
    {
     "name": "stdout",
     "output_type": "stream",
     "text": [
      "Farsite $Rev: 2395 $\n",
      "Number of parallel threads = 4 (omp_get_num_procs = 128).\n",
      "Loading lcp file for Farsite #1: /home/jovyan/farsite/inputs/landscapes/Maria2019.lcp\n",
      "Loading inputs file for Farsite #1: /home/jovyan/data/20230313/Run_00183/config\n",
      "Loading ignition file for Farsite #1: /home/jovyan/data/ignitions/Maria2019E833f49d1f46d4d92b5193bc5366e0785.shp\n",
      "Loading barrier file for Farsite #1: /home/jovyan/farsite/inputs/barriers/NoBarrier/NoBarrier.shp\n",
      "Launching Farsite #1\n",
      "Starting time step 0.000000 (maximum = 18)\n",
      "Writing outputs for Farsite #1 to /home/jovyan/data/20230313/Run_00183/out\n"
     ]
    },
    {
     "name": "stderr",
     "output_type": "stream",
     "text": [
      "/home/jovyan/farsite-devAPI/src/farsiteutils_v2.py:177: FutureWarning: The frame.append method is deprecated and will be removed from pandas in a future version. Use pandas.concat instead.\n",
      "  self.gdfsimulation = self.gdfsimulation.append(gdfappend)\n"
     ]
    },
    {
     "name": "stdout",
     "output_type": "stream",
     "text": [
      "Farsite $Rev: 2395 $\n",
      "Number of parallel threads = 4 (omp_get_num_procs = 128).\n",
      "Loading lcp file for Farsite #1: /home/jovyan/farsite/inputs/landscapes/Maria2019.lcp\n",
      "Loading inputs file for Farsite #1: /home/jovyan/data/20230313/Run_00184/config\n",
      "Loading ignition file for Farsite #1: /home/jovyan/data/ignitions/Maria2019E81ac3a43c7c04977b06ce71edd5eb6b7.shp\n",
      "Loading barrier file for Farsite #1: /home/jovyan/farsite/inputs/barriers/NoBarrier/NoBarrier.shp\n",
      "Launching Farsite #1\n",
      "Starting time step 0.000000 (maximum = 18)\n",
      "Writing outputs for Farsite #1 to /home/jovyan/data/20230313/Run_00184/out\n"
     ]
    },
    {
     "name": "stderr",
     "output_type": "stream",
     "text": [
      "/home/jovyan/farsite-devAPI/src/farsiteutils_v2.py:177: FutureWarning: The frame.append method is deprecated and will be removed from pandas in a future version. Use pandas.concat instead.\n",
      "  self.gdfsimulation = self.gdfsimulation.append(gdfappend)\n"
     ]
    },
    {
     "name": "stdout",
     "output_type": "stream",
     "text": [
      "Farsite $Rev: 2395 $\n",
      "Number of parallel threads = 4 (omp_get_num_procs = 128).\n",
      "Loading lcp file for Farsite #1: /home/jovyan/farsite/inputs/landscapes/Maria2019.lcp\n",
      "Loading inputs file for Farsite #1: /home/jovyan/data/20230313/Run_00185/config\n",
      "Loading ignition file for Farsite #1: /home/jovyan/data/ignitions/Maria2019E1ac93d400cc14e7c97f7dc9a8b133500.shp\n",
      "Loading barrier file for Farsite #1: /home/jovyan/farsite/inputs/barriers/NoBarrier/NoBarrier.shp\n",
      "Launching Farsite #1\n",
      "Starting time step 0.000000 (maximum = 18)\n",
      "Writing outputs for Farsite #1 to /home/jovyan/data/20230313/Run_00185/out\n"
     ]
    },
    {
     "name": "stderr",
     "output_type": "stream",
     "text": [
      "/home/jovyan/farsite-devAPI/src/farsiteutils_v2.py:177: FutureWarning: The frame.append method is deprecated and will be removed from pandas in a future version. Use pandas.concat instead.\n",
      "  self.gdfsimulation = self.gdfsimulation.append(gdfappend)\n"
     ]
    },
    {
     "name": "stdout",
     "output_type": "stream",
     "text": [
      "Farsite $Rev: 2395 $\n",
      "Number of parallel threads = 4 (omp_get_num_procs = 128).\n",
      "Loading lcp file for Farsite #1: /home/jovyan/farsite/inputs/landscapes/Maria2019.lcp\n",
      "Loading inputs file for Farsite #1: /home/jovyan/data/20230313/Run_00186/config\n",
      "Loading ignition file for Farsite #1: /home/jovyan/data/ignitions/Maria2019Edb91cf8a66eb4def851ae0f04caf9f64.shp\n",
      "Loading barrier file for Farsite #1: /home/jovyan/farsite/inputs/barriers/NoBarrier/NoBarrier.shp\n",
      "Launching Farsite #1\n",
      "Starting time step 0.000000 (maximum = 18)\n",
      "Writing outputs for Farsite #1 to /home/jovyan/data/20230313/Run_00186/out\n"
     ]
    },
    {
     "name": "stderr",
     "output_type": "stream",
     "text": [
      "/home/jovyan/farsite-devAPI/src/farsiteutils_v2.py:177: FutureWarning: The frame.append method is deprecated and will be removed from pandas in a future version. Use pandas.concat instead.\n",
      "  self.gdfsimulation = self.gdfsimulation.append(gdfappend)\n"
     ]
    },
    {
     "name": "stdout",
     "output_type": "stream",
     "text": [
      "Farsite $Rev: 2395 $\n",
      "Number of parallel threads = 4 (omp_get_num_procs = 128).\n",
      "Loading lcp file for Farsite #1: /home/jovyan/farsite/inputs/landscapes/Maria2019.lcp\n",
      "Loading inputs file for Farsite #1: /home/jovyan/data/20230313/Run_00187/config\n",
      "Loading ignition file for Farsite #1: /home/jovyan/data/ignitions/Maria2019E11bb47b57ba54edeabf7a096ccaa95d6.shp\n",
      "Loading barrier file for Farsite #1: /home/jovyan/farsite/inputs/barriers/NoBarrier/NoBarrier.shp\n",
      "Launching Farsite #1\n",
      "Starting time step 0.000000 (maximum = 18)\n",
      "Writing outputs for Farsite #1 to /home/jovyan/data/20230313/Run_00187/out\n"
     ]
    },
    {
     "name": "stderr",
     "output_type": "stream",
     "text": [
      "/home/jovyan/farsite-devAPI/src/farsiteutils_v2.py:177: FutureWarning: The frame.append method is deprecated and will be removed from pandas in a future version. Use pandas.concat instead.\n",
      "  self.gdfsimulation = self.gdfsimulation.append(gdfappend)\n"
     ]
    },
    {
     "name": "stdout",
     "output_type": "stream",
     "text": [
      "Farsite $Rev: 2395 $\n",
      "Number of parallel threads = 4 (omp_get_num_procs = 128).\n",
      "Loading lcp file for Farsite #1: /home/jovyan/farsite/inputs/landscapes/Maria2019.lcp\n",
      "Loading inputs file for Farsite #1: /home/jovyan/data/20230313/Run_00188/config\n",
      "Loading ignition file for Farsite #1: /home/jovyan/data/ignitions/Maria2019E72d4fbcf073148a8b80ec96360501a9d.shp\n",
      "Loading barrier file for Farsite #1: /home/jovyan/farsite/inputs/barriers/NoBarrier/NoBarrier.shp\n",
      "Launching Farsite #1\n",
      "Starting time step 0.000000 (maximum = 18)\n",
      "Writing outputs for Farsite #1 to /home/jovyan/data/20230313/Run_00188/out\n"
     ]
    },
    {
     "name": "stderr",
     "output_type": "stream",
     "text": [
      "/home/jovyan/farsite-devAPI/src/farsiteutils_v2.py:177: FutureWarning: The frame.append method is deprecated and will be removed from pandas in a future version. Use pandas.concat instead.\n",
      "  self.gdfsimulation = self.gdfsimulation.append(gdfappend)\n"
     ]
    },
    {
     "name": "stdout",
     "output_type": "stream",
     "text": [
      "Farsite $Rev: 2395 $\n",
      "Number of parallel threads = 4 (omp_get_num_procs = 128).\n",
      "Loading lcp file for Farsite #1: /home/jovyan/farsite/inputs/landscapes/Maria2019.lcp\n",
      "Loading inputs file for Farsite #1: /home/jovyan/data/20230313/Run_00189/config\n",
      "Loading ignition file for Farsite #1: /home/jovyan/data/ignitions/Maria2019Ec68020dc891e49e08785feeb6554a7d9.shp\n",
      "Loading barrier file for Farsite #1: /home/jovyan/farsite/inputs/barriers/NoBarrier/NoBarrier.shp\n",
      "Launching Farsite #1\n",
      "Starting time step 0.000000 (maximum = 18)\n",
      "Writing outputs for Farsite #1 to /home/jovyan/data/20230313/Run_00189/out\n"
     ]
    },
    {
     "name": "stderr",
     "output_type": "stream",
     "text": [
      "/home/jovyan/farsite-devAPI/src/farsiteutils_v2.py:177: FutureWarning: The frame.append method is deprecated and will be removed from pandas in a future version. Use pandas.concat instead.\n",
      "  self.gdfsimulation = self.gdfsimulation.append(gdfappend)\n"
     ]
    },
    {
     "name": "stdout",
     "output_type": "stream",
     "text": [
      "Farsite $Rev: 2395 $\n",
      "Number of parallel threads = 4 (omp_get_num_procs = 128).\n",
      "Loading lcp file for Farsite #1: /home/jovyan/farsite/inputs/landscapes/Maria2019.lcp\n",
      "Loading inputs file for Farsite #1: /home/jovyan/data/20230313/Run_00190/config\n",
      "Loading ignition file for Farsite #1: /home/jovyan/data/ignitions/Maria2019E931a1ffaf24f429f80c235f3452d18a6.shp\n",
      "Loading barrier file for Farsite #1: /home/jovyan/farsite/inputs/barriers/NoBarrier/NoBarrier.shp\n",
      "Launching Farsite #1\n",
      "Starting time step 0.000000 (maximum = 18)\n",
      "Writing outputs for Farsite #1 to /home/jovyan/data/20230313/Run_00190/out\n"
     ]
    },
    {
     "name": "stderr",
     "output_type": "stream",
     "text": [
      "/home/jovyan/farsite-devAPI/src/farsiteutils_v2.py:177: FutureWarning: The frame.append method is deprecated and will be removed from pandas in a future version. Use pandas.concat instead.\n",
      "  self.gdfsimulation = self.gdfsimulation.append(gdfappend)\n"
     ]
    },
    {
     "name": "stdout",
     "output_type": "stream",
     "text": [
      "Farsite $Rev: 2395 $\n",
      "Number of parallel threads = 4 (omp_get_num_procs = 128).\n",
      "Loading lcp file for Farsite #1: /home/jovyan/farsite/inputs/landscapes/Maria2019.lcp\n",
      "Loading inputs file for Farsite #1: /home/jovyan/data/20230313/Run_00191/config\n",
      "Loading ignition file for Farsite #1: /home/jovyan/data/ignitions/Maria2019E6c9930814d0f47f18c9cbff4ce3e0dae.shp\n",
      "Loading barrier file for Farsite #1: /home/jovyan/farsite/inputs/barriers/NoBarrier/NoBarrier.shp\n",
      "Launching Farsite #1\n",
      "Starting time step 0.000000 (maximum = 18)\n",
      "Writing outputs for Farsite #1 to /home/jovyan/data/20230313/Run_00191/out\n"
     ]
    },
    {
     "name": "stderr",
     "output_type": "stream",
     "text": [
      "/home/jovyan/farsite-devAPI/src/farsiteutils_v2.py:177: FutureWarning: The frame.append method is deprecated and will be removed from pandas in a future version. Use pandas.concat instead.\n",
      "  self.gdfsimulation = self.gdfsimulation.append(gdfappend)\n"
     ]
    },
    {
     "name": "stdout",
     "output_type": "stream",
     "text": [
      "Farsite $Rev: 2395 $\n",
      "Number of parallel threads = 4 (omp_get_num_procs = 128).\n",
      "Loading lcp file for Farsite #1: /home/jovyan/farsite/inputs/landscapes/Maria2019.lcp\n",
      "Loading inputs file for Farsite #1: /home/jovyan/data/20230313/Run_00192/config\n",
      "Loading ignition file for Farsite #1: /home/jovyan/data/ignitions/Maria2019Ea6d9b737f9ab40fba79eb4bcf23c8d4d.shp\n",
      "Loading barrier file for Farsite #1: /home/jovyan/farsite/inputs/barriers/NoBarrier/NoBarrier.shp\n",
      "Launching Farsite #1\n",
      "Starting time step 0.000000 (maximum = 18)\n",
      "Writing outputs for Farsite #1 to /home/jovyan/data/20230313/Run_00192/out\n"
     ]
    },
    {
     "name": "stderr",
     "output_type": "stream",
     "text": [
      "/home/jovyan/farsite-devAPI/src/farsiteutils_v2.py:177: FutureWarning: The frame.append method is deprecated and will be removed from pandas in a future version. Use pandas.concat instead.\n",
      "  self.gdfsimulation = self.gdfsimulation.append(gdfappend)\n"
     ]
    },
    {
     "name": "stdout",
     "output_type": "stream",
     "text": [
      "Farsite $Rev: 2395 $\n",
      "Number of parallel threads = 4 (omp_get_num_procs = 128).\n",
      "Loading lcp file for Farsite #1: /home/jovyan/farsite/inputs/landscapes/Maria2019.lcp\n",
      "Loading inputs file for Farsite #1: /home/jovyan/data/20230313/Run_00193/config\n",
      "Loading ignition file for Farsite #1: /home/jovyan/data/ignitions/Maria2019E0100f15b34294114a983e139e3d3f97b.shp\n",
      "Loading barrier file for Farsite #1: /home/jovyan/farsite/inputs/barriers/NoBarrier/NoBarrier.shp\n",
      "Launching Farsite #1\n",
      "Starting time step 0.000000 (maximum = 18)\n",
      "Writing outputs for Farsite #1 to /home/jovyan/data/20230313/Run_00193/out\n"
     ]
    },
    {
     "name": "stderr",
     "output_type": "stream",
     "text": [
      "/home/jovyan/farsite-devAPI/src/farsiteutils_v2.py:177: FutureWarning: The frame.append method is deprecated and will be removed from pandas in a future version. Use pandas.concat instead.\n",
      "  self.gdfsimulation = self.gdfsimulation.append(gdfappend)\n"
     ]
    },
    {
     "name": "stdout",
     "output_type": "stream",
     "text": [
      "Farsite $Rev: 2395 $\n",
      "Number of parallel threads = 4 (omp_get_num_procs = 128).\n",
      "Loading lcp file for Farsite #1: /home/jovyan/farsite/inputs/landscapes/Maria2019.lcp\n",
      "Loading inputs file for Farsite #1: /home/jovyan/data/20230313/Run_00194/config\n",
      "Loading ignition file for Farsite #1: /home/jovyan/data/ignitions/Maria2019E368e91a9672c4c5da58ec156a35db8dc.shp\n",
      "Loading barrier file for Farsite #1: /home/jovyan/farsite/inputs/barriers/NoBarrier/NoBarrier.shp\n",
      "Launching Farsite #1\n",
      "Starting time step 0.000000 (maximum = 18)\n",
      "Writing outputs for Farsite #1 to /home/jovyan/data/20230313/Run_00194/out\n"
     ]
    },
    {
     "name": "stderr",
     "output_type": "stream",
     "text": [
      "/home/jovyan/farsite-devAPI/src/farsiteutils_v2.py:177: FutureWarning: The frame.append method is deprecated and will be removed from pandas in a future version. Use pandas.concat instead.\n",
      "  self.gdfsimulation = self.gdfsimulation.append(gdfappend)\n"
     ]
    },
    {
     "name": "stdout",
     "output_type": "stream",
     "text": [
      "Farsite $Rev: 2395 $\n",
      "Number of parallel threads = 4 (omp_get_num_procs = 128).\n",
      "Loading lcp file for Farsite #1: /home/jovyan/farsite/inputs/landscapes/Maria2019.lcp\n",
      "Loading inputs file for Farsite #1: /home/jovyan/data/20230313/Run_00195/config\n",
      "Loading ignition file for Farsite #1: /home/jovyan/data/ignitions/Maria2019Ee302c6f1fa3847bab6a7fff9878f0ac8.shp\n",
      "Loading barrier file for Farsite #1: /home/jovyan/farsite/inputs/barriers/NoBarrier/NoBarrier.shp\n",
      "Launching Farsite #1\n",
      "Starting time step 0.000000 (maximum = 18)\n",
      "Writing outputs for Farsite #1 to /home/jovyan/data/20230313/Run_00195/out\n"
     ]
    },
    {
     "name": "stderr",
     "output_type": "stream",
     "text": [
      "/home/jovyan/farsite-devAPI/src/farsiteutils_v2.py:177: FutureWarning: The frame.append method is deprecated and will be removed from pandas in a future version. Use pandas.concat instead.\n",
      "  self.gdfsimulation = self.gdfsimulation.append(gdfappend)\n"
     ]
    },
    {
     "name": "stdout",
     "output_type": "stream",
     "text": [
      "Farsite $Rev: 2395 $\n",
      "Number of parallel threads = 4 (omp_get_num_procs = 128).\n",
      "Loading lcp file for Farsite #1: /home/jovyan/farsite/inputs/landscapes/Maria2019.lcp\n",
      "Loading inputs file for Farsite #1: /home/jovyan/data/20230313/Run_00196/config\n",
      "Loading ignition file for Farsite #1: /home/jovyan/data/ignitions/Maria2019Eec6c0e63406e477aa6c36680695c70d6.shp\n",
      "Loading barrier file for Farsite #1: /home/jovyan/farsite/inputs/barriers/NoBarrier/NoBarrier.shp\n",
      "Launching Farsite #1\n",
      "Starting time step 0.000000 (maximum = 18)\n",
      "Writing outputs for Farsite #1 to /home/jovyan/data/20230313/Run_00196/out\n"
     ]
    },
    {
     "name": "stderr",
     "output_type": "stream",
     "text": [
      "/home/jovyan/farsite-devAPI/src/farsiteutils_v2.py:177: FutureWarning: The frame.append method is deprecated and will be removed from pandas in a future version. Use pandas.concat instead.\n",
      "  self.gdfsimulation = self.gdfsimulation.append(gdfappend)\n"
     ]
    },
    {
     "name": "stdout",
     "output_type": "stream",
     "text": [
      "Farsite $Rev: 2395 $\n",
      "Number of parallel threads = 4 (omp_get_num_procs = 128).\n",
      "Loading lcp file for Farsite #1: /home/jovyan/farsite/inputs/landscapes/Maria2019.lcp\n",
      "Loading inputs file for Farsite #1: /home/jovyan/data/20230313/Run_00197/config\n",
      "Loading ignition file for Farsite #1: /home/jovyan/data/ignitions/Maria2019E5acc13a128414b709d66690b7d35069c.shp\n",
      "Loading barrier file for Farsite #1: /home/jovyan/farsite/inputs/barriers/NoBarrier/NoBarrier.shp\n",
      "Launching Farsite #1\n",
      "Starting time step 0.000000 (maximum = 18)\n",
      "Writing outputs for Farsite #1 to /home/jovyan/data/20230313/Run_00197/out\n"
     ]
    },
    {
     "name": "stderr",
     "output_type": "stream",
     "text": [
      "/home/jovyan/farsite-devAPI/src/farsiteutils_v2.py:177: FutureWarning: The frame.append method is deprecated and will be removed from pandas in a future version. Use pandas.concat instead.\n",
      "  self.gdfsimulation = self.gdfsimulation.append(gdfappend)\n"
     ]
    },
    {
     "name": "stdout",
     "output_type": "stream",
     "text": [
      "Farsite $Rev: 2395 $\n",
      "Number of parallel threads = 4 (omp_get_num_procs = 128).\n",
      "Loading lcp file for Farsite #1: /home/jovyan/farsite/inputs/landscapes/Maria2019.lcp\n",
      "Loading inputs file for Farsite #1: /home/jovyan/data/20230313/Run_00198/config\n",
      "Loading ignition file for Farsite #1: /home/jovyan/data/ignitions/Maria2019Ebee34e8cb7504bb4a797fb1f908b367c.shp\n",
      "Loading barrier file for Farsite #1: /home/jovyan/farsite/inputs/barriers/NoBarrier/NoBarrier.shp\n",
      "Launching Farsite #1\n",
      "Starting time step 0.000000 (maximum = 18)\n",
      "Writing outputs for Farsite #1 to /home/jovyan/data/20230313/Run_00198/out\n"
     ]
    },
    {
     "name": "stderr",
     "output_type": "stream",
     "text": [
      "/home/jovyan/farsite-devAPI/src/farsiteutils_v2.py:177: FutureWarning: The frame.append method is deprecated and will be removed from pandas in a future version. Use pandas.concat instead.\n",
      "  self.gdfsimulation = self.gdfsimulation.append(gdfappend)\n"
     ]
    },
    {
     "name": "stdout",
     "output_type": "stream",
     "text": [
      "Farsite $Rev: 2395 $\n",
      "Number of parallel threads = 4 (omp_get_num_procs = 128).\n",
      "Loading lcp file for Farsite #1: /home/jovyan/farsite/inputs/landscapes/Maria2019.lcp\n",
      "Loading inputs file for Farsite #1: /home/jovyan/data/20230313/Run_00199/config\n",
      "Loading ignition file for Farsite #1: /home/jovyan/data/ignitions/Maria2019E2348a9366eb54b248c947f0c3ac0d769.shp\n",
      "Loading barrier file for Farsite #1: /home/jovyan/farsite/inputs/barriers/NoBarrier/NoBarrier.shp\n",
      "Launching Farsite #1\n",
      "Starting time step 0.000000 (maximum = 18)\n",
      "Writing outputs for Farsite #1 to /home/jovyan/data/20230313/Run_00199/out\n"
     ]
    },
    {
     "name": "stderr",
     "output_type": "stream",
     "text": [
      "/home/jovyan/farsite-devAPI/src/farsiteutils_v2.py:177: FutureWarning: The frame.append method is deprecated and will be removed from pandas in a future version. Use pandas.concat instead.\n",
      "  self.gdfsimulation = self.gdfsimulation.append(gdfappend)\n"
     ]
    },
    {
     "name": "stdout",
     "output_type": "stream",
     "text": [
      "Farsite $Rev: 2395 $\n",
      "Number of parallel threads = 4 (omp_get_num_procs = 128).\n",
      "Loading lcp file for Farsite #1: /home/jovyan/farsite/inputs/landscapes/Maria2019.lcp\n",
      "Loading inputs file for Farsite #1: /home/jovyan/data/20230313/Run_00200/config\n",
      "Loading ignition file for Farsite #1: /home/jovyan/data/ignitions/Maria2019E4a9ff068a5204ab6a72cf06828b71dd2.shp\n",
      "Loading barrier file for Farsite #1: /home/jovyan/farsite/inputs/barriers/NoBarrier/NoBarrier.shp\n",
      "Launching Farsite #1\n",
      "Starting time step 0.000000 (maximum = 18)\n",
      "Writing outputs for Farsite #1 to /home/jovyan/data/20230313/Run_00200/out\n"
     ]
    },
    {
     "name": "stderr",
     "output_type": "stream",
     "text": [
      "/home/jovyan/farsite-devAPI/src/farsiteutils_v2.py:177: FutureWarning: The frame.append method is deprecated and will be removed from pandas in a future version. Use pandas.concat instead.\n",
      "  self.gdfsimulation = self.gdfsimulation.append(gdfappend)\n"
     ]
    },
    {
     "name": "stdout",
     "output_type": "stream",
     "text": [
      "Farsite $Rev: 2395 $\n",
      "Number of parallel threads = 4 (omp_get_num_procs = 128).\n",
      "Loading lcp file for Farsite #1: /home/jovyan/farsite/inputs/landscapes/Maria2019.lcp\n",
      "Loading inputs file for Farsite #1: /home/jovyan/data/20230313/Run_00201/config\n",
      "Loading ignition file for Farsite #1: /home/jovyan/data/ignitions/Maria2019Ebfaac2b3db744a05a88c95307b17ea3d.shp\n",
      "Loading barrier file for Farsite #1: /home/jovyan/farsite/inputs/barriers/NoBarrier/NoBarrier.shp\n",
      "Launching Farsite #1\n",
      "Starting time step 0.000000 (maximum = 18)\n",
      "Writing outputs for Farsite #1 to /home/jovyan/data/20230313/Run_00201/out\n"
     ]
    },
    {
     "name": "stderr",
     "output_type": "stream",
     "text": [
      "/home/jovyan/farsite-devAPI/src/farsiteutils_v2.py:177: FutureWarning: The frame.append method is deprecated and will be removed from pandas in a future version. Use pandas.concat instead.\n",
      "  self.gdfsimulation = self.gdfsimulation.append(gdfappend)\n"
     ]
    },
    {
     "name": "stdout",
     "output_type": "stream",
     "text": [
      "Farsite $Rev: 2395 $\n",
      "Number of parallel threads = 4 (omp_get_num_procs = 128).\n",
      "Loading lcp file for Farsite #1: /home/jovyan/farsite/inputs/landscapes/Maria2019.lcp\n",
      "Loading inputs file for Farsite #1: /home/jovyan/data/20230313/Run_00202/config\n",
      "Loading ignition file for Farsite #1: /home/jovyan/data/ignitions/Maria2019Ed401175a895a48f698792c1f4b2356f6.shp\n",
      "Loading barrier file for Farsite #1: /home/jovyan/farsite/inputs/barriers/NoBarrier/NoBarrier.shp\n",
      "Launching Farsite #1\n",
      "Starting time step 0.000000 (maximum = 18)\n",
      "Writing outputs for Farsite #1 to /home/jovyan/data/20230313/Run_00202/out\n"
     ]
    },
    {
     "name": "stderr",
     "output_type": "stream",
     "text": [
      "/home/jovyan/farsite-devAPI/src/farsiteutils_v2.py:177: FutureWarning: The frame.append method is deprecated and will be removed from pandas in a future version. Use pandas.concat instead.\n",
      "  self.gdfsimulation = self.gdfsimulation.append(gdfappend)\n"
     ]
    },
    {
     "name": "stdout",
     "output_type": "stream",
     "text": [
      "Farsite $Rev: 2395 $\n",
      "Number of parallel threads = 4 (omp_get_num_procs = 128).\n",
      "Loading lcp file for Farsite #1: /home/jovyan/farsite/inputs/landscapes/Maria2019.lcp\n",
      "Loading inputs file for Farsite #1: /home/jovyan/data/20230313/Run_00203/config\n",
      "Loading ignition file for Farsite #1: /home/jovyan/data/ignitions/Maria2019Eaa544fd39ced4a3c87c3acb3092ada04.shp\n",
      "Loading barrier file for Farsite #1: /home/jovyan/farsite/inputs/barriers/NoBarrier/NoBarrier.shp\n",
      "Launching Farsite #1\n",
      "Starting time step 0.000000 (maximum = 18)\n",
      "Writing outputs for Farsite #1 to /home/jovyan/data/20230313/Run_00203/out\n"
     ]
    },
    {
     "name": "stderr",
     "output_type": "stream",
     "text": [
      "/home/jovyan/farsite-devAPI/src/farsiteutils_v2.py:177: FutureWarning: The frame.append method is deprecated and will be removed from pandas in a future version. Use pandas.concat instead.\n",
      "  self.gdfsimulation = self.gdfsimulation.append(gdfappend)\n"
     ]
    },
    {
     "name": "stdout",
     "output_type": "stream",
     "text": [
      "Farsite $Rev: 2395 $\n",
      "Number of parallel threads = 4 (omp_get_num_procs = 128).\n",
      "Loading lcp file for Farsite #1: /home/jovyan/farsite/inputs/landscapes/Maria2019.lcp\n",
      "Loading inputs file for Farsite #1: /home/jovyan/data/20230313/Run_00204/config\n",
      "Loading ignition file for Farsite #1: /home/jovyan/data/ignitions/Maria2019E737a30ca780e4699a1757c47d2bc6e1d.shp\n",
      "Loading barrier file for Farsite #1: /home/jovyan/farsite/inputs/barriers/NoBarrier/NoBarrier.shp\n",
      "Launching Farsite #1\n",
      "Starting time step 0.000000 (maximum = 18)\n",
      "Writing outputs for Farsite #1 to /home/jovyan/data/20230313/Run_00204/out\n"
     ]
    },
    {
     "name": "stderr",
     "output_type": "stream",
     "text": [
      "/home/jovyan/farsite-devAPI/src/farsiteutils_v2.py:177: FutureWarning: The frame.append method is deprecated and will be removed from pandas in a future version. Use pandas.concat instead.\n",
      "  self.gdfsimulation = self.gdfsimulation.append(gdfappend)\n"
     ]
    },
    {
     "name": "stdout",
     "output_type": "stream",
     "text": [
      "Farsite $Rev: 2395 $\n",
      "Number of parallel threads = 4 (omp_get_num_procs = 128).\n",
      "Loading lcp file for Farsite #1: /home/jovyan/farsite/inputs/landscapes/Maria2019.lcp\n",
      "Loading inputs file for Farsite #1: /home/jovyan/data/20230313/Run_00205/config\n",
      "Loading ignition file for Farsite #1: /home/jovyan/data/ignitions/Maria2019E66b6e6be2c814fc7bd05236a8faf4a4a.shp\n",
      "Loading barrier file for Farsite #1: /home/jovyan/farsite/inputs/barriers/NoBarrier/NoBarrier.shp\n",
      "Launching Farsite #1\n",
      "Starting time step 0.000000 (maximum = 18)\n",
      "Writing outputs for Farsite #1 to /home/jovyan/data/20230313/Run_00205/out\n"
     ]
    },
    {
     "name": "stderr",
     "output_type": "stream",
     "text": [
      "/home/jovyan/farsite-devAPI/src/farsiteutils_v2.py:177: FutureWarning: The frame.append method is deprecated and will be removed from pandas in a future version. Use pandas.concat instead.\n",
      "  self.gdfsimulation = self.gdfsimulation.append(gdfappend)\n"
     ]
    },
    {
     "name": "stdout",
     "output_type": "stream",
     "text": [
      "Farsite $Rev: 2395 $\n",
      "Number of parallel threads = 4 (omp_get_num_procs = 128).\n",
      "Loading lcp file for Farsite #1: /home/jovyan/farsite/inputs/landscapes/Maria2019.lcp\n",
      "Loading inputs file for Farsite #1: /home/jovyan/data/20230313/Run_00206/config\n",
      "Loading ignition file for Farsite #1: /home/jovyan/data/ignitions/Maria2019E775d0946ec9343d4997d9de283646cbe.shp\n",
      "Loading barrier file for Farsite #1: /home/jovyan/farsite/inputs/barriers/NoBarrier/NoBarrier.shp\n",
      "Launching Farsite #1\n",
      "Starting time step 0.000000 (maximum = 18)\n",
      "Writing outputs for Farsite #1 to /home/jovyan/data/20230313/Run_00206/out\n"
     ]
    },
    {
     "name": "stderr",
     "output_type": "stream",
     "text": [
      "/home/jovyan/farsite-devAPI/src/farsiteutils_v2.py:177: FutureWarning: The frame.append method is deprecated and will be removed from pandas in a future version. Use pandas.concat instead.\n",
      "  self.gdfsimulation = self.gdfsimulation.append(gdfappend)\n"
     ]
    },
    {
     "name": "stdout",
     "output_type": "stream",
     "text": [
      "Farsite $Rev: 2395 $\n",
      "Number of parallel threads = 4 (omp_get_num_procs = 128).\n",
      "Loading lcp file for Farsite #1: /home/jovyan/farsite/inputs/landscapes/Maria2019.lcp\n",
      "Loading inputs file for Farsite #1: /home/jovyan/data/20230313/Run_00207/config\n",
      "Loading ignition file for Farsite #1: /home/jovyan/data/ignitions/Maria2019E25d19ef3735f4357a11f86e167d8d8b7.shp\n",
      "Loading barrier file for Farsite #1: /home/jovyan/farsite/inputs/barriers/NoBarrier/NoBarrier.shp\n",
      "Launching Farsite #1\n",
      "Starting time step 0.000000 (maximum = 18)\n",
      "Writing outputs for Farsite #1 to /home/jovyan/data/20230313/Run_00207/out\n"
     ]
    },
    {
     "name": "stderr",
     "output_type": "stream",
     "text": [
      "/home/jovyan/farsite-devAPI/src/farsiteutils_v2.py:177: FutureWarning: The frame.append method is deprecated and will be removed from pandas in a future version. Use pandas.concat instead.\n",
      "  self.gdfsimulation = self.gdfsimulation.append(gdfappend)\n"
     ]
    },
    {
     "name": "stdout",
     "output_type": "stream",
     "text": [
      "Farsite $Rev: 2395 $\n",
      "Number of parallel threads = 4 (omp_get_num_procs = 128).\n",
      "Loading lcp file for Farsite #1: /home/jovyan/farsite/inputs/landscapes/Maria2019.lcp\n",
      "Loading inputs file for Farsite #1: /home/jovyan/data/20230313/Run_00208/config\n",
      "Loading ignition file for Farsite #1: /home/jovyan/data/ignitions/Maria2019E3ba9ebef99b14b7b95899c485489f809.shp\n",
      "Loading barrier file for Farsite #1: /home/jovyan/farsite/inputs/barriers/NoBarrier/NoBarrier.shp\n",
      "Launching Farsite #1\n",
      "Starting time step 0.000000 (maximum = 18)\n",
      "Writing outputs for Farsite #1 to /home/jovyan/data/20230313/Run_00208/out\n"
     ]
    },
    {
     "name": "stderr",
     "output_type": "stream",
     "text": [
      "/home/jovyan/farsite-devAPI/src/farsiteutils_v2.py:177: FutureWarning: The frame.append method is deprecated and will be removed from pandas in a future version. Use pandas.concat instead.\n",
      "  self.gdfsimulation = self.gdfsimulation.append(gdfappend)\n"
     ]
    },
    {
     "name": "stdout",
     "output_type": "stream",
     "text": [
      "Farsite $Rev: 2395 $\n",
      "Number of parallel threads = 4 (omp_get_num_procs = 128).\n",
      "Loading lcp file for Farsite #1: /home/jovyan/farsite/inputs/landscapes/Maria2019.lcp\n",
      "Loading inputs file for Farsite #1: /home/jovyan/data/20230313/Run_00209/config\n",
      "Loading ignition file for Farsite #1: /home/jovyan/data/ignitions/Maria2019E8640027b0c5d4dbe946ea7d6189cd445.shp\n",
      "Loading barrier file for Farsite #1: /home/jovyan/farsite/inputs/barriers/NoBarrier/NoBarrier.shp\n",
      "Launching Farsite #1\n",
      "Starting time step 0.000000 (maximum = 18)\n",
      "Writing outputs for Farsite #1 to /home/jovyan/data/20230313/Run_00209/out\n"
     ]
    },
    {
     "name": "stderr",
     "output_type": "stream",
     "text": [
      "/home/jovyan/farsite-devAPI/src/farsiteutils_v2.py:177: FutureWarning: The frame.append method is deprecated and will be removed from pandas in a future version. Use pandas.concat instead.\n",
      "  self.gdfsimulation = self.gdfsimulation.append(gdfappend)\n"
     ]
    },
    {
     "name": "stdout",
     "output_type": "stream",
     "text": [
      "Farsite $Rev: 2395 $\n",
      "Number of parallel threads = 4 (omp_get_num_procs = 128).\n",
      "Loading lcp file for Farsite #1: /home/jovyan/farsite/inputs/landscapes/Maria2019.lcp\n",
      "Loading inputs file for Farsite #1: /home/jovyan/data/20230313/Run_00210/config\n",
      "Loading ignition file for Farsite #1: /home/jovyan/data/ignitions/Maria2019E9e10164706a54787b8ee10abacbda714.shp\n",
      "Loading barrier file for Farsite #1: /home/jovyan/farsite/inputs/barriers/NoBarrier/NoBarrier.shp\n",
      "Launching Farsite #1\n",
      "Starting time step 0.000000 (maximum = 18)\n",
      "Writing outputs for Farsite #1 to /home/jovyan/data/20230313/Run_00210/out\n"
     ]
    },
    {
     "name": "stderr",
     "output_type": "stream",
     "text": [
      "/home/jovyan/farsite-devAPI/src/farsiteutils_v2.py:177: FutureWarning: The frame.append method is deprecated and will be removed from pandas in a future version. Use pandas.concat instead.\n",
      "  self.gdfsimulation = self.gdfsimulation.append(gdfappend)\n"
     ]
    },
    {
     "name": "stdout",
     "output_type": "stream",
     "text": [
      "Farsite $Rev: 2395 $\n",
      "Number of parallel threads = 4 (omp_get_num_procs = 128).\n",
      "Loading lcp file for Farsite #1: /home/jovyan/farsite/inputs/landscapes/Maria2019.lcp\n",
      "Loading inputs file for Farsite #1: /home/jovyan/data/20230313/Run_00211/config\n",
      "Loading ignition file for Farsite #1: /home/jovyan/data/ignitions/Maria2019E29c093071e074caf8104425d2db63ccf.shp\n",
      "Loading barrier file for Farsite #1: /home/jovyan/farsite/inputs/barriers/NoBarrier/NoBarrier.shp\n",
      "Launching Farsite #1\n",
      "Starting time step 0.000000 (maximum = 18)\n",
      "Writing outputs for Farsite #1 to /home/jovyan/data/20230313/Run_00211/out\n"
     ]
    },
    {
     "name": "stderr",
     "output_type": "stream",
     "text": [
      "/home/jovyan/farsite-devAPI/src/farsiteutils_v2.py:177: FutureWarning: The frame.append method is deprecated and will be removed from pandas in a future version. Use pandas.concat instead.\n",
      "  self.gdfsimulation = self.gdfsimulation.append(gdfappend)\n"
     ]
    },
    {
     "name": "stdout",
     "output_type": "stream",
     "text": [
      "Farsite $Rev: 2395 $\n",
      "Number of parallel threads = 4 (omp_get_num_procs = 128).\n",
      "Loading lcp file for Farsite #1: /home/jovyan/farsite/inputs/landscapes/Maria2019.lcp\n",
      "Loading inputs file for Farsite #1: /home/jovyan/data/20230313/Run_00212/config\n",
      "Loading ignition file for Farsite #1: /home/jovyan/data/ignitions/Maria2019E513dd2e3e8a04591a1599e88312cb333.shp\n",
      "Loading barrier file for Farsite #1: /home/jovyan/farsite/inputs/barriers/NoBarrier/NoBarrier.shp\n",
      "Launching Farsite #1\n",
      "Starting time step 0.000000 (maximum = 18)\n",
      "Writing outputs for Farsite #1 to /home/jovyan/data/20230313/Run_00212/out\n"
     ]
    },
    {
     "name": "stderr",
     "output_type": "stream",
     "text": [
      "/home/jovyan/farsite-devAPI/src/farsiteutils_v2.py:177: FutureWarning: The frame.append method is deprecated and will be removed from pandas in a future version. Use pandas.concat instead.\n",
      "  self.gdfsimulation = self.gdfsimulation.append(gdfappend)\n"
     ]
    },
    {
     "name": "stdout",
     "output_type": "stream",
     "text": [
      "Farsite $Rev: 2395 $\n",
      "Number of parallel threads = 4 (omp_get_num_procs = 128).\n",
      "Loading lcp file for Farsite #1: /home/jovyan/farsite/inputs/landscapes/Maria2019.lcp\n",
      "Loading inputs file for Farsite #1: /home/jovyan/data/20230313/Run_00213/config\n",
      "Loading ignition file for Farsite #1: /home/jovyan/data/ignitions/Maria2019E0faaff5e35244eb2b71990b1ac9a2d9e.shp\n",
      "Loading barrier file for Farsite #1: /home/jovyan/farsite/inputs/barriers/NoBarrier/NoBarrier.shp\n",
      "Launching Farsite #1\n",
      "Starting time step 0.000000 (maximum = 18)\n",
      "Writing outputs for Farsite #1 to /home/jovyan/data/20230313/Run_00213/out\n"
     ]
    },
    {
     "name": "stderr",
     "output_type": "stream",
     "text": [
      "/home/jovyan/farsite-devAPI/src/farsiteutils_v2.py:177: FutureWarning: The frame.append method is deprecated and will be removed from pandas in a future version. Use pandas.concat instead.\n",
      "  self.gdfsimulation = self.gdfsimulation.append(gdfappend)\n"
     ]
    },
    {
     "name": "stdout",
     "output_type": "stream",
     "text": [
      "Farsite $Rev: 2395 $\n",
      "Number of parallel threads = 4 (omp_get_num_procs = 128).\n",
      "Loading lcp file for Farsite #1: /home/jovyan/farsite/inputs/landscapes/Maria2019.lcp\n",
      "Loading inputs file for Farsite #1: /home/jovyan/data/20230313/Run_00214/config\n",
      "Loading ignition file for Farsite #1: /home/jovyan/data/ignitions/Maria2019Ec9800091c2a0404793e7051f4e735b08.shp\n",
      "Loading barrier file for Farsite #1: /home/jovyan/farsite/inputs/barriers/NoBarrier/NoBarrier.shp\n",
      "Launching Farsite #1\n",
      "Starting time step 0.000000 (maximum = 18)\n",
      "Writing outputs for Farsite #1 to /home/jovyan/data/20230313/Run_00214/out\n"
     ]
    },
    {
     "name": "stderr",
     "output_type": "stream",
     "text": [
      "/home/jovyan/farsite-devAPI/src/farsiteutils_v2.py:177: FutureWarning: The frame.append method is deprecated and will be removed from pandas in a future version. Use pandas.concat instead.\n",
      "  self.gdfsimulation = self.gdfsimulation.append(gdfappend)\n"
     ]
    },
    {
     "name": "stdout",
     "output_type": "stream",
     "text": [
      "Farsite $Rev: 2395 $\n",
      "Number of parallel threads = 4 (omp_get_num_procs = 128).\n",
      "Loading lcp file for Farsite #1: /home/jovyan/farsite/inputs/landscapes/Maria2019.lcp\n",
      "Loading inputs file for Farsite #1: /home/jovyan/data/20230313/Run_00215/config\n",
      "Loading ignition file for Farsite #1: /home/jovyan/data/ignitions/Maria2019E06232bb4b2e4444a84f861e7d633c5cd.shp\n",
      "Loading barrier file for Farsite #1: /home/jovyan/farsite/inputs/barriers/NoBarrier/NoBarrier.shp\n",
      "Launching Farsite #1\n",
      "Starting time step 0.000000 (maximum = 18)\n",
      "Writing outputs for Farsite #1 to /home/jovyan/data/20230313/Run_00215/out\n"
     ]
    },
    {
     "name": "stderr",
     "output_type": "stream",
     "text": [
      "/home/jovyan/farsite-devAPI/src/farsiteutils_v2.py:177: FutureWarning: The frame.append method is deprecated and will be removed from pandas in a future version. Use pandas.concat instead.\n",
      "  self.gdfsimulation = self.gdfsimulation.append(gdfappend)\n"
     ]
    },
    {
     "name": "stdout",
     "output_type": "stream",
     "text": [
      "Farsite $Rev: 2395 $\n",
      "Number of parallel threads = 4 (omp_get_num_procs = 128).\n",
      "Loading lcp file for Farsite #1: /home/jovyan/farsite/inputs/landscapes/Maria2019.lcp\n",
      "Loading inputs file for Farsite #1: /home/jovyan/data/20230313/Run_00216/config\n",
      "Loading ignition file for Farsite #1: /home/jovyan/data/ignitions/Maria2019Eb270bbc076c14b2ba639fab80e3aa4cf.shp\n",
      "Loading barrier file for Farsite #1: /home/jovyan/farsite/inputs/barriers/NoBarrier/NoBarrier.shp\n",
      "Launching Farsite #1\n",
      "Starting time step 0.000000 (maximum = 18)\n",
      "Writing outputs for Farsite #1 to /home/jovyan/data/20230313/Run_00216/out\n"
     ]
    },
    {
     "name": "stderr",
     "output_type": "stream",
     "text": [
      "/home/jovyan/farsite-devAPI/src/farsiteutils_v2.py:177: FutureWarning: The frame.append method is deprecated and will be removed from pandas in a future version. Use pandas.concat instead.\n",
      "  self.gdfsimulation = self.gdfsimulation.append(gdfappend)\n"
     ]
    },
    {
     "name": "stdout",
     "output_type": "stream",
     "text": [
      "Farsite $Rev: 2395 $\n",
      "Number of parallel threads = 4 (omp_get_num_procs = 128).\n",
      "Loading lcp file for Farsite #1: /home/jovyan/farsite/inputs/landscapes/Maria2019.lcp\n",
      "Loading inputs file for Farsite #1: /home/jovyan/data/20230313/Run_00217/config\n",
      "Loading ignition file for Farsite #1: /home/jovyan/data/ignitions/Maria2019E6786568208994ca3a36722ce4d2a77b8.shp\n",
      "Loading barrier file for Farsite #1: /home/jovyan/farsite/inputs/barriers/NoBarrier/NoBarrier.shp\n",
      "Launching Farsite #1\n",
      "Starting time step 0.000000 (maximum = 18)\n",
      "Writing outputs for Farsite #1 to /home/jovyan/data/20230313/Run_00217/out\n"
     ]
    },
    {
     "name": "stderr",
     "output_type": "stream",
     "text": [
      "/home/jovyan/farsite-devAPI/src/farsiteutils_v2.py:177: FutureWarning: The frame.append method is deprecated and will be removed from pandas in a future version. Use pandas.concat instead.\n",
      "  self.gdfsimulation = self.gdfsimulation.append(gdfappend)\n"
     ]
    },
    {
     "name": "stdout",
     "output_type": "stream",
     "text": [
      "Farsite $Rev: 2395 $\n",
      "Number of parallel threads = 4 (omp_get_num_procs = 128).\n",
      "Loading lcp file for Farsite #1: /home/jovyan/farsite/inputs/landscapes/Maria2019.lcp\n",
      "Loading inputs file for Farsite #1: /home/jovyan/data/20230313/Run_00218/config\n",
      "Loading ignition file for Farsite #1: /home/jovyan/data/ignitions/Maria2019Ead34328f2ae947c3a04540aecaaf02ed.shp\n",
      "Loading barrier file for Farsite #1: /home/jovyan/farsite/inputs/barriers/NoBarrier/NoBarrier.shp\n",
      "Launching Farsite #1\n",
      "Starting time step 0.000000 (maximum = 18)\n",
      "Writing outputs for Farsite #1 to /home/jovyan/data/20230313/Run_00218/out\n"
     ]
    },
    {
     "name": "stderr",
     "output_type": "stream",
     "text": [
      "/home/jovyan/farsite-devAPI/src/farsiteutils_v2.py:177: FutureWarning: The frame.append method is deprecated and will be removed from pandas in a future version. Use pandas.concat instead.\n",
      "  self.gdfsimulation = self.gdfsimulation.append(gdfappend)\n"
     ]
    },
    {
     "name": "stdout",
     "output_type": "stream",
     "text": [
      "Farsite $Rev: 2395 $\n",
      "Number of parallel threads = 4 (omp_get_num_procs = 128).\n",
      "Loading lcp file for Farsite #1: /home/jovyan/farsite/inputs/landscapes/Maria2019.lcp\n",
      "Loading inputs file for Farsite #1: /home/jovyan/data/20230313/Run_00219/config\n",
      "Loading ignition file for Farsite #1: /home/jovyan/data/ignitions/Maria2019E348fb8f5899f46839554edb13c13fefd.shp\n",
      "Loading barrier file for Farsite #1: /home/jovyan/farsite/inputs/barriers/NoBarrier/NoBarrier.shp\n",
      "Launching Farsite #1\n",
      "Starting time step 0.000000 (maximum = 18)\n",
      "Writing outputs for Farsite #1 to /home/jovyan/data/20230313/Run_00219/out\n"
     ]
    },
    {
     "name": "stderr",
     "output_type": "stream",
     "text": [
      "/home/jovyan/farsite-devAPI/src/farsiteutils_v2.py:177: FutureWarning: The frame.append method is deprecated and will be removed from pandas in a future version. Use pandas.concat instead.\n",
      "  self.gdfsimulation = self.gdfsimulation.append(gdfappend)\n"
     ]
    },
    {
     "name": "stdout",
     "output_type": "stream",
     "text": [
      "Farsite $Rev: 2395 $\n",
      "Number of parallel threads = 4 (omp_get_num_procs = 128).\n",
      "Loading lcp file for Farsite #1: /home/jovyan/farsite/inputs/landscapes/Maria2019.lcp\n",
      "Loading inputs file for Farsite #1: /home/jovyan/data/20230313/Run_00220/config\n",
      "Loading ignition file for Farsite #1: /home/jovyan/data/ignitions/Maria2019Eeec9ad56510e423995a9dc2dbb1420a9.shp\n",
      "Loading barrier file for Farsite #1: /home/jovyan/farsite/inputs/barriers/NoBarrier/NoBarrier.shp\n",
      "Launching Farsite #1\n",
      "Starting time step 0.000000 (maximum = 18)\n",
      "Writing outputs for Farsite #1 to /home/jovyan/data/20230313/Run_00220/out\n"
     ]
    },
    {
     "name": "stderr",
     "output_type": "stream",
     "text": [
      "/home/jovyan/farsite-devAPI/src/farsiteutils_v2.py:177: FutureWarning: The frame.append method is deprecated and will be removed from pandas in a future version. Use pandas.concat instead.\n",
      "  self.gdfsimulation = self.gdfsimulation.append(gdfappend)\n"
     ]
    },
    {
     "name": "stdout",
     "output_type": "stream",
     "text": [
      "Farsite $Rev: 2395 $\n",
      "Number of parallel threads = 4 (omp_get_num_procs = 128).\n",
      "Loading lcp file for Farsite #1: /home/jovyan/farsite/inputs/landscapes/Maria2019.lcp\n",
      "Loading inputs file for Farsite #1: /home/jovyan/data/20230313/Run_00221/config\n",
      "Loading ignition file for Farsite #1: /home/jovyan/data/ignitions/Maria2019Eebb61a81747243f089e0f988533b88aa.shp\n",
      "Loading barrier file for Farsite #1: /home/jovyan/farsite/inputs/barriers/NoBarrier/NoBarrier.shp\n",
      "Launching Farsite #1\n",
      "Starting time step 0.000000 (maximum = 18)\n",
      "Writing outputs for Farsite #1 to /home/jovyan/data/20230313/Run_00221/out\n"
     ]
    },
    {
     "name": "stderr",
     "output_type": "stream",
     "text": [
      "/home/jovyan/farsite-devAPI/src/farsiteutils_v2.py:177: FutureWarning: The frame.append method is deprecated and will be removed from pandas in a future version. Use pandas.concat instead.\n",
      "  self.gdfsimulation = self.gdfsimulation.append(gdfappend)\n"
     ]
    },
    {
     "name": "stdout",
     "output_type": "stream",
     "text": [
      "Farsite $Rev: 2395 $\n",
      "Number of parallel threads = 4 (omp_get_num_procs = 128).\n",
      "Loading lcp file for Farsite #1: /home/jovyan/farsite/inputs/landscapes/Maria2019.lcp\n",
      "Loading inputs file for Farsite #1: /home/jovyan/data/20230313/Run_00222/config\n",
      "Loading ignition file for Farsite #1: /home/jovyan/data/ignitions/Maria2019Ed238e707adb246cea3859627f12027d9.shp\n",
      "Loading barrier file for Farsite #1: /home/jovyan/farsite/inputs/barriers/NoBarrier/NoBarrier.shp\n",
      "Launching Farsite #1\n",
      "Starting time step 0.000000 (maximum = 18)\n",
      "Writing outputs for Farsite #1 to /home/jovyan/data/20230313/Run_00222/out\n"
     ]
    },
    {
     "name": "stderr",
     "output_type": "stream",
     "text": [
      "/home/jovyan/farsite-devAPI/src/farsiteutils_v2.py:177: FutureWarning: The frame.append method is deprecated and will be removed from pandas in a future version. Use pandas.concat instead.\n",
      "  self.gdfsimulation = self.gdfsimulation.append(gdfappend)\n"
     ]
    },
    {
     "name": "stdout",
     "output_type": "stream",
     "text": [
      "Farsite $Rev: 2395 $\n",
      "Number of parallel threads = 4 (omp_get_num_procs = 128).\n",
      "Loading lcp file for Farsite #1: /home/jovyan/farsite/inputs/landscapes/Maria2019.lcp\n",
      "Loading inputs file for Farsite #1: /home/jovyan/data/20230313/Run_00223/config\n",
      "Loading ignition file for Farsite #1: /home/jovyan/data/ignitions/Maria2019E25bd2d3069374b32bcbed90d2a071b72.shp\n",
      "Loading barrier file for Farsite #1: /home/jovyan/farsite/inputs/barriers/NoBarrier/NoBarrier.shp\n",
      "Launching Farsite #1\n",
      "Starting time step 0.000000 (maximum = 18)\n",
      "Writing outputs for Farsite #1 to /home/jovyan/data/20230313/Run_00223/out\n"
     ]
    },
    {
     "name": "stderr",
     "output_type": "stream",
     "text": [
      "/home/jovyan/farsite-devAPI/src/farsiteutils_v2.py:177: FutureWarning: The frame.append method is deprecated and will be removed from pandas in a future version. Use pandas.concat instead.\n",
      "  self.gdfsimulation = self.gdfsimulation.append(gdfappend)\n"
     ]
    },
    {
     "name": "stdout",
     "output_type": "stream",
     "text": [
      "Farsite $Rev: 2395 $\n",
      "Number of parallel threads = 4 (omp_get_num_procs = 128).\n",
      "Loading lcp file for Farsite #1: /home/jovyan/farsite/inputs/landscapes/Maria2019.lcp\n",
      "Loading inputs file for Farsite #1: /home/jovyan/data/20230313/Run_00224/config\n",
      "Loading ignition file for Farsite #1: /home/jovyan/data/ignitions/Maria2019Ecff3db78bbee4b9db0f9514de2889d6b.shp\n",
      "Loading barrier file for Farsite #1: /home/jovyan/farsite/inputs/barriers/NoBarrier/NoBarrier.shp\n",
      "Launching Farsite #1\n",
      "Starting time step 0.000000 (maximum = 18)\n",
      "Writing outputs for Farsite #1 to /home/jovyan/data/20230313/Run_00224/out\n"
     ]
    },
    {
     "name": "stderr",
     "output_type": "stream",
     "text": [
      "/home/jovyan/farsite-devAPI/src/farsiteutils_v2.py:177: FutureWarning: The frame.append method is deprecated and will be removed from pandas in a future version. Use pandas.concat instead.\n",
      "  self.gdfsimulation = self.gdfsimulation.append(gdfappend)\n"
     ]
    },
    {
     "name": "stdout",
     "output_type": "stream",
     "text": [
      "Farsite $Rev: 2395 $\n",
      "Number of parallel threads = 4 (omp_get_num_procs = 128).\n",
      "Loading lcp file for Farsite #1: /home/jovyan/farsite/inputs/landscapes/Maria2019.lcp\n",
      "Loading inputs file for Farsite #1: /home/jovyan/data/20230313/Run_00225/config\n",
      "Loading ignition file for Farsite #1: /home/jovyan/data/ignitions/Maria2019Ea4c826a876874b6382b0347cfe9de16c.shp\n",
      "Loading barrier file for Farsite #1: /home/jovyan/farsite/inputs/barriers/NoBarrier/NoBarrier.shp\n",
      "Launching Farsite #1\n",
      "Starting time step 0.000000 (maximum = 18)\n",
      "Writing outputs for Farsite #1 to /home/jovyan/data/20230313/Run_00225/out\n"
     ]
    },
    {
     "name": "stderr",
     "output_type": "stream",
     "text": [
      "/home/jovyan/farsite-devAPI/src/farsiteutils_v2.py:177: FutureWarning: The frame.append method is deprecated and will be removed from pandas in a future version. Use pandas.concat instead.\n",
      "  self.gdfsimulation = self.gdfsimulation.append(gdfappend)\n"
     ]
    },
    {
     "name": "stdout",
     "output_type": "stream",
     "text": [
      "Farsite $Rev: 2395 $\n",
      "Number of parallel threads = 4 (omp_get_num_procs = 128).\n",
      "Loading lcp file for Farsite #1: /home/jovyan/farsite/inputs/landscapes/Maria2019.lcp\n",
      "Loading inputs file for Farsite #1: /home/jovyan/data/20230313/Run_00226/config\n",
      "Loading ignition file for Farsite #1: /home/jovyan/data/ignitions/Maria2019E60f167a6133042389d1a80b2e99a5cd3.shp\n",
      "Loading barrier file for Farsite #1: /home/jovyan/farsite/inputs/barriers/NoBarrier/NoBarrier.shp\n",
      "Launching Farsite #1\n",
      "Starting time step 0.000000 (maximum = 18)\n",
      "Writing outputs for Farsite #1 to /home/jovyan/data/20230313/Run_00226/out\n"
     ]
    },
    {
     "name": "stderr",
     "output_type": "stream",
     "text": [
      "/home/jovyan/farsite-devAPI/src/farsiteutils_v2.py:177: FutureWarning: The frame.append method is deprecated and will be removed from pandas in a future version. Use pandas.concat instead.\n",
      "  self.gdfsimulation = self.gdfsimulation.append(gdfappend)\n"
     ]
    },
    {
     "name": "stdout",
     "output_type": "stream",
     "text": [
      "Farsite $Rev: 2395 $\n",
      "Number of parallel threads = 4 (omp_get_num_procs = 128).\n",
      "Loading lcp file for Farsite #1: /home/jovyan/farsite/inputs/landscapes/Maria2019.lcp\n",
      "Loading inputs file for Farsite #1: /home/jovyan/data/20230313/Run_00227/config\n",
      "Loading ignition file for Farsite #1: /home/jovyan/data/ignitions/Maria2019E9cb63f0d24e64f7099765430e140d1e6.shp\n",
      "Loading barrier file for Farsite #1: /home/jovyan/farsite/inputs/barriers/NoBarrier/NoBarrier.shp\n",
      "Launching Farsite #1\n",
      "Starting time step 0.000000 (maximum = 18)\n",
      "Writing outputs for Farsite #1 to /home/jovyan/data/20230313/Run_00227/out\n"
     ]
    },
    {
     "name": "stderr",
     "output_type": "stream",
     "text": [
      "/home/jovyan/farsite-devAPI/src/farsiteutils_v2.py:177: FutureWarning: The frame.append method is deprecated and will be removed from pandas in a future version. Use pandas.concat instead.\n",
      "  self.gdfsimulation = self.gdfsimulation.append(gdfappend)\n"
     ]
    },
    {
     "name": "stdout",
     "output_type": "stream",
     "text": [
      "Farsite $Rev: 2395 $\n",
      "Number of parallel threads = 4 (omp_get_num_procs = 128).\n",
      "Loading lcp file for Farsite #1: /home/jovyan/farsite/inputs/landscapes/Maria2019.lcp\n",
      "Loading inputs file for Farsite #1: /home/jovyan/data/20230313/Run_00228/config\n",
      "Loading ignition file for Farsite #1: /home/jovyan/data/ignitions/Maria2019Ec46a20e0321e46039ab291760bada7ef.shp\n",
      "Loading barrier file for Farsite #1: /home/jovyan/farsite/inputs/barriers/NoBarrier/NoBarrier.shp\n",
      "Launching Farsite #1\n",
      "Starting time step 0.000000 (maximum = 18)\n",
      "Writing outputs for Farsite #1 to /home/jovyan/data/20230313/Run_00228/out\n"
     ]
    },
    {
     "name": "stderr",
     "output_type": "stream",
     "text": [
      "/home/jovyan/farsite-devAPI/src/farsiteutils_v2.py:177: FutureWarning: The frame.append method is deprecated and will be removed from pandas in a future version. Use pandas.concat instead.\n",
      "  self.gdfsimulation = self.gdfsimulation.append(gdfappend)\n"
     ]
    },
    {
     "name": "stdout",
     "output_type": "stream",
     "text": [
      "Farsite $Rev: 2395 $\n",
      "Number of parallel threads = 4 (omp_get_num_procs = 128).\n",
      "Loading lcp file for Farsite #1: /home/jovyan/farsite/inputs/landscapes/Maria2019.lcp\n",
      "Loading inputs file for Farsite #1: /home/jovyan/data/20230313/Run_00229/config\n",
      "Loading ignition file for Farsite #1: /home/jovyan/data/ignitions/Maria2019Eaf628ef5df0c45babc7eceab2b77ca46.shp\n",
      "Loading barrier file for Farsite #1: /home/jovyan/farsite/inputs/barriers/NoBarrier/NoBarrier.shp\n",
      "Launching Farsite #1\n",
      "Starting time step 0.000000 (maximum = 18)\n",
      "Writing outputs for Farsite #1 to /home/jovyan/data/20230313/Run_00229/out\n"
     ]
    },
    {
     "name": "stderr",
     "output_type": "stream",
     "text": [
      "/home/jovyan/farsite-devAPI/src/farsiteutils_v2.py:177: FutureWarning: The frame.append method is deprecated and will be removed from pandas in a future version. Use pandas.concat instead.\n",
      "  self.gdfsimulation = self.gdfsimulation.append(gdfappend)\n"
     ]
    },
    {
     "name": "stdout",
     "output_type": "stream",
     "text": [
      "Farsite $Rev: 2395 $\n",
      "Number of parallel threads = 4 (omp_get_num_procs = 128).\n",
      "Loading lcp file for Farsite #1: /home/jovyan/farsite/inputs/landscapes/Maria2019.lcp\n",
      "Loading inputs file for Farsite #1: /home/jovyan/data/20230313/Run_00230/config\n",
      "Loading ignition file for Farsite #1: /home/jovyan/data/ignitions/Maria2019Eb318f7b5e4654a6baf663e7b89d358a1.shp\n",
      "Loading barrier file for Farsite #1: /home/jovyan/farsite/inputs/barriers/NoBarrier/NoBarrier.shp\n",
      "Launching Farsite #1\n",
      "Starting time step 0.000000 (maximum = 18)\n",
      "Writing outputs for Farsite #1 to /home/jovyan/data/20230313/Run_00230/out\n"
     ]
    },
    {
     "name": "stderr",
     "output_type": "stream",
     "text": [
      "/home/jovyan/farsite-devAPI/src/farsiteutils_v2.py:177: FutureWarning: The frame.append method is deprecated and will be removed from pandas in a future version. Use pandas.concat instead.\n",
      "  self.gdfsimulation = self.gdfsimulation.append(gdfappend)\n"
     ]
    },
    {
     "name": "stdout",
     "output_type": "stream",
     "text": [
      "Farsite $Rev: 2395 $\n",
      "Number of parallel threads = 4 (omp_get_num_procs = 128).\n",
      "Loading lcp file for Farsite #1: /home/jovyan/farsite/inputs/landscapes/Maria2019.lcp\n",
      "Loading inputs file for Farsite #1: /home/jovyan/data/20230313/Run_00231/config\n",
      "Loading ignition file for Farsite #1: /home/jovyan/data/ignitions/Maria2019E417caf4fc5fa4b8cbdaa11b57a0f236c.shp\n",
      "Loading barrier file for Farsite #1: /home/jovyan/farsite/inputs/barriers/NoBarrier/NoBarrier.shp\n",
      "Launching Farsite #1\n",
      "Starting time step 0.000000 (maximum = 18)\n",
      "Writing outputs for Farsite #1 to /home/jovyan/data/20230313/Run_00231/out\n"
     ]
    },
    {
     "name": "stderr",
     "output_type": "stream",
     "text": [
      "/home/jovyan/farsite-devAPI/src/farsiteutils_v2.py:177: FutureWarning: The frame.append method is deprecated and will be removed from pandas in a future version. Use pandas.concat instead.\n",
      "  self.gdfsimulation = self.gdfsimulation.append(gdfappend)\n"
     ]
    },
    {
     "name": "stdout",
     "output_type": "stream",
     "text": [
      "Farsite $Rev: 2395 $\n",
      "Number of parallel threads = 4 (omp_get_num_procs = 128).\n",
      "Loading lcp file for Farsite #1: /home/jovyan/farsite/inputs/landscapes/Maria2019.lcp\n",
      "Loading inputs file for Farsite #1: /home/jovyan/data/20230313/Run_00232/config\n",
      "Loading ignition file for Farsite #1: /home/jovyan/data/ignitions/Maria2019E76bd7a461c524711967f87f772045436.shp\n",
      "Loading barrier file for Farsite #1: /home/jovyan/farsite/inputs/barriers/NoBarrier/NoBarrier.shp\n",
      "Launching Farsite #1\n",
      "Starting time step 0.000000 (maximum = 18)\n",
      "Writing outputs for Farsite #1 to /home/jovyan/data/20230313/Run_00232/out\n"
     ]
    },
    {
     "name": "stderr",
     "output_type": "stream",
     "text": [
      "/home/jovyan/farsite-devAPI/src/farsiteutils_v2.py:177: FutureWarning: The frame.append method is deprecated and will be removed from pandas in a future version. Use pandas.concat instead.\n",
      "  self.gdfsimulation = self.gdfsimulation.append(gdfappend)\n"
     ]
    },
    {
     "name": "stdout",
     "output_type": "stream",
     "text": [
      "Farsite $Rev: 2395 $\n",
      "Number of parallel threads = 4 (omp_get_num_procs = 128).\n",
      "Loading lcp file for Farsite #1: /home/jovyan/farsite/inputs/landscapes/Maria2019.lcp\n",
      "Loading inputs file for Farsite #1: /home/jovyan/data/20230313/Run_00233/config\n",
      "Loading ignition file for Farsite #1: /home/jovyan/data/ignitions/Maria2019E84828534acdc4d1aa4107fb9ee011d5f.shp\n",
      "Loading barrier file for Farsite #1: /home/jovyan/farsite/inputs/barriers/NoBarrier/NoBarrier.shp\n",
      "Launching Farsite #1\n",
      "Starting time step 0.000000 (maximum = 18)\n",
      "Writing outputs for Farsite #1 to /home/jovyan/data/20230313/Run_00233/out\n"
     ]
    },
    {
     "name": "stderr",
     "output_type": "stream",
     "text": [
      "/home/jovyan/farsite-devAPI/src/farsiteutils_v2.py:177: FutureWarning: The frame.append method is deprecated and will be removed from pandas in a future version. Use pandas.concat instead.\n",
      "  self.gdfsimulation = self.gdfsimulation.append(gdfappend)\n"
     ]
    },
    {
     "name": "stdout",
     "output_type": "stream",
     "text": [
      "Farsite $Rev: 2395 $\n",
      "Number of parallel threads = 4 (omp_get_num_procs = 128).\n",
      "Loading lcp file for Farsite #1: /home/jovyan/farsite/inputs/landscapes/Maria2019.lcp\n",
      "Loading inputs file for Farsite #1: /home/jovyan/data/20230313/Run_00234/config\n",
      "Loading ignition file for Farsite #1: /home/jovyan/data/ignitions/Maria2019Ea83efd26caa54337a15e2fa52247002f.shp\n",
      "Loading barrier file for Farsite #1: /home/jovyan/farsite/inputs/barriers/NoBarrier/NoBarrier.shp\n",
      "Launching Farsite #1\n",
      "Starting time step 0.000000 (maximum = 18)\n",
      "Writing outputs for Farsite #1 to /home/jovyan/data/20230313/Run_00234/out\n"
     ]
    },
    {
     "name": "stderr",
     "output_type": "stream",
     "text": [
      "/home/jovyan/farsite-devAPI/src/farsiteutils_v2.py:177: FutureWarning: The frame.append method is deprecated and will be removed from pandas in a future version. Use pandas.concat instead.\n",
      "  self.gdfsimulation = self.gdfsimulation.append(gdfappend)\n"
     ]
    },
    {
     "name": "stdout",
     "output_type": "stream",
     "text": [
      "Farsite $Rev: 2395 $\n",
      "Number of parallel threads = 4 (omp_get_num_procs = 128).\n",
      "Loading lcp file for Farsite #1: /home/jovyan/farsite/inputs/landscapes/Maria2019.lcp\n",
      "Loading inputs file for Farsite #1: /home/jovyan/data/20230313/Run_00235/config\n",
      "Loading ignition file for Farsite #1: /home/jovyan/data/ignitions/Maria2019E61cb20e2c2cc43519751cede954ba97f.shp\n",
      "Loading barrier file for Farsite #1: /home/jovyan/farsite/inputs/barriers/NoBarrier/NoBarrier.shp\n",
      "Launching Farsite #1\n",
      "Starting time step 0.000000 (maximum = 18)\n",
      "Writing outputs for Farsite #1 to /home/jovyan/data/20230313/Run_00235/out\n"
     ]
    },
    {
     "name": "stderr",
     "output_type": "stream",
     "text": [
      "/home/jovyan/farsite-devAPI/src/farsiteutils_v2.py:177: FutureWarning: The frame.append method is deprecated and will be removed from pandas in a future version. Use pandas.concat instead.\n",
      "  self.gdfsimulation = self.gdfsimulation.append(gdfappend)\n"
     ]
    },
    {
     "name": "stdout",
     "output_type": "stream",
     "text": [
      "Farsite $Rev: 2395 $\n",
      "Number of parallel threads = 4 (omp_get_num_procs = 128).\n",
      "Loading lcp file for Farsite #1: /home/jovyan/farsite/inputs/landscapes/Maria2019.lcp\n",
      "Loading inputs file for Farsite #1: /home/jovyan/data/20230313/Run_00236/config\n",
      "Loading ignition file for Farsite #1: /home/jovyan/data/ignitions/Maria2019Ec6b480d8347f4946b804c4f530ff87d4.shp\n",
      "Loading barrier file for Farsite #1: /home/jovyan/farsite/inputs/barriers/NoBarrier/NoBarrier.shp\n",
      "Launching Farsite #1\n",
      "Starting time step 0.000000 (maximum = 18)\n",
      "Writing outputs for Farsite #1 to /home/jovyan/data/20230313/Run_00236/out\n"
     ]
    },
    {
     "name": "stderr",
     "output_type": "stream",
     "text": [
      "/home/jovyan/farsite-devAPI/src/farsiteutils_v2.py:177: FutureWarning: The frame.append method is deprecated and will be removed from pandas in a future version. Use pandas.concat instead.\n",
      "  self.gdfsimulation = self.gdfsimulation.append(gdfappend)\n"
     ]
    },
    {
     "name": "stdout",
     "output_type": "stream",
     "text": [
      "Farsite $Rev: 2395 $\n",
      "Number of parallel threads = 4 (omp_get_num_procs = 128).\n",
      "Loading lcp file for Farsite #1: /home/jovyan/farsite/inputs/landscapes/Maria2019.lcp\n",
      "Loading inputs file for Farsite #1: /home/jovyan/data/20230313/Run_00237/config\n",
      "Loading ignition file for Farsite #1: /home/jovyan/data/ignitions/Maria2019E6f87de07ab794a2bac7ac803eee95838.shp\n",
      "Loading barrier file for Farsite #1: /home/jovyan/farsite/inputs/barriers/NoBarrier/NoBarrier.shp\n",
      "Launching Farsite #1\n",
      "Starting time step 0.000000 (maximum = 18)\n",
      "Writing outputs for Farsite #1 to /home/jovyan/data/20230313/Run_00237/out\n"
     ]
    },
    {
     "name": "stderr",
     "output_type": "stream",
     "text": [
      "/home/jovyan/farsite-devAPI/src/farsiteutils_v2.py:177: FutureWarning: The frame.append method is deprecated and will be removed from pandas in a future version. Use pandas.concat instead.\n",
      "  self.gdfsimulation = self.gdfsimulation.append(gdfappend)\n"
     ]
    },
    {
     "name": "stdout",
     "output_type": "stream",
     "text": [
      "Farsite $Rev: 2395 $\n",
      "Number of parallel threads = 4 (omp_get_num_procs = 128).\n",
      "Loading lcp file for Farsite #1: /home/jovyan/farsite/inputs/landscapes/Maria2019.lcp\n",
      "Loading inputs file for Farsite #1: /home/jovyan/data/20230313/Run_00238/config\n",
      "Loading ignition file for Farsite #1: /home/jovyan/data/ignitions/Maria2019E512249c6e94f4a4f8682605f2411f677.shp\n",
      "Loading barrier file for Farsite #1: /home/jovyan/farsite/inputs/barriers/NoBarrier/NoBarrier.shp\n",
      "Launching Farsite #1\n",
      "Starting time step 0.000000 (maximum = 18)\n",
      "Writing outputs for Farsite #1 to /home/jovyan/data/20230313/Run_00238/out\n"
     ]
    },
    {
     "name": "stderr",
     "output_type": "stream",
     "text": [
      "/home/jovyan/farsite-devAPI/src/farsiteutils_v2.py:177: FutureWarning: The frame.append method is deprecated and will be removed from pandas in a future version. Use pandas.concat instead.\n",
      "  self.gdfsimulation = self.gdfsimulation.append(gdfappend)\n"
     ]
    },
    {
     "name": "stdout",
     "output_type": "stream",
     "text": [
      "Farsite $Rev: 2395 $\n",
      "Number of parallel threads = 4 (omp_get_num_procs = 128).\n",
      "Loading lcp file for Farsite #1: /home/jovyan/farsite/inputs/landscapes/Maria2019.lcp\n",
      "Loading inputs file for Farsite #1: /home/jovyan/data/20230313/Run_00239/config\n",
      "Loading ignition file for Farsite #1: /home/jovyan/data/ignitions/Maria2019E5870be5a56294111b2cc577a4621026d.shp\n",
      "Loading barrier file for Farsite #1: /home/jovyan/farsite/inputs/barriers/NoBarrier/NoBarrier.shp\n",
      "Launching Farsite #1\n",
      "Starting time step 0.000000 (maximum = 18)\n",
      "Writing outputs for Farsite #1 to /home/jovyan/data/20230313/Run_00239/out\n"
     ]
    },
    {
     "name": "stderr",
     "output_type": "stream",
     "text": [
      "/home/jovyan/farsite-devAPI/src/farsiteutils_v2.py:177: FutureWarning: The frame.append method is deprecated and will be removed from pandas in a future version. Use pandas.concat instead.\n",
      "  self.gdfsimulation = self.gdfsimulation.append(gdfappend)\n"
     ]
    },
    {
     "name": "stdout",
     "output_type": "stream",
     "text": [
      "Farsite $Rev: 2395 $\n",
      "Number of parallel threads = 4 (omp_get_num_procs = 128).\n",
      "Loading lcp file for Farsite #1: /home/jovyan/farsite/inputs/landscapes/Maria2019.lcp\n",
      "Loading inputs file for Farsite #1: /home/jovyan/data/20230313/Run_00240/config\n",
      "Loading ignition file for Farsite #1: /home/jovyan/data/ignitions/Maria2019E37224f43c3fc4a57b9b02fde799c24eb.shp\n",
      "Loading barrier file for Farsite #1: /home/jovyan/farsite/inputs/barriers/NoBarrier/NoBarrier.shp\n",
      "Launching Farsite #1\n",
      "Starting time step 0.000000 (maximum = 18)\n",
      "Writing outputs for Farsite #1 to /home/jovyan/data/20230313/Run_00240/out\n"
     ]
    },
    {
     "name": "stderr",
     "output_type": "stream",
     "text": [
      "/home/jovyan/farsite-devAPI/src/farsiteutils_v2.py:177: FutureWarning: The frame.append method is deprecated and will be removed from pandas in a future version. Use pandas.concat instead.\n",
      "  self.gdfsimulation = self.gdfsimulation.append(gdfappend)\n"
     ]
    },
    {
     "name": "stdout",
     "output_type": "stream",
     "text": [
      "Farsite $Rev: 2395 $\n",
      "Number of parallel threads = 4 (omp_get_num_procs = 128).\n",
      "Loading lcp file for Farsite #1: /home/jovyan/farsite/inputs/landscapes/Maria2019.lcp\n",
      "Loading inputs file for Farsite #1: /home/jovyan/data/20230313/Run_00241/config\n",
      "Loading ignition file for Farsite #1: /home/jovyan/data/ignitions/Maria2019E7212797012eb449db04679bde5ea84bf.shp\n",
      "Loading barrier file for Farsite #1: /home/jovyan/farsite/inputs/barriers/NoBarrier/NoBarrier.shp\n",
      "Launching Farsite #1\n",
      "Starting time step 0.000000 (maximum = 18)\n",
      "Writing outputs for Farsite #1 to /home/jovyan/data/20230313/Run_00241/out\n"
     ]
    },
    {
     "name": "stderr",
     "output_type": "stream",
     "text": [
      "/home/jovyan/farsite-devAPI/src/farsiteutils_v2.py:177: FutureWarning: The frame.append method is deprecated and will be removed from pandas in a future version. Use pandas.concat instead.\n",
      "  self.gdfsimulation = self.gdfsimulation.append(gdfappend)\n"
     ]
    },
    {
     "name": "stdout",
     "output_type": "stream",
     "text": [
      "Farsite $Rev: 2395 $\n",
      "Number of parallel threads = 4 (omp_get_num_procs = 128).\n",
      "Loading lcp file for Farsite #1: /home/jovyan/farsite/inputs/landscapes/Maria2019.lcp\n",
      "Loading inputs file for Farsite #1: /home/jovyan/data/20230313/Run_00242/config\n",
      "Loading ignition file for Farsite #1: /home/jovyan/data/ignitions/Maria2019Ed33b6c0b1fb04313b11876942a43082a.shp\n",
      "Loading barrier file for Farsite #1: /home/jovyan/farsite/inputs/barriers/NoBarrier/NoBarrier.shp\n",
      "Launching Farsite #1\n",
      "Starting time step 0.000000 (maximum = 18)\n",
      "Writing outputs for Farsite #1 to /home/jovyan/data/20230313/Run_00242/out\n"
     ]
    },
    {
     "name": "stderr",
     "output_type": "stream",
     "text": [
      "/home/jovyan/farsite-devAPI/src/farsiteutils_v2.py:177: FutureWarning: The frame.append method is deprecated and will be removed from pandas in a future version. Use pandas.concat instead.\n",
      "  self.gdfsimulation = self.gdfsimulation.append(gdfappend)\n"
     ]
    },
    {
     "name": "stdout",
     "output_type": "stream",
     "text": [
      "Farsite $Rev: 2395 $\n",
      "Number of parallel threads = 4 (omp_get_num_procs = 128).\n",
      "Loading lcp file for Farsite #1: /home/jovyan/farsite/inputs/landscapes/Maria2019.lcp\n",
      "Loading inputs file for Farsite #1: /home/jovyan/data/20230313/Run_00243/config\n",
      "Loading ignition file for Farsite #1: /home/jovyan/data/ignitions/Maria2019E40ded2034bc74d9a97ca9c6b87d19bd4.shp\n",
      "Loading barrier file for Farsite #1: /home/jovyan/farsite/inputs/barriers/NoBarrier/NoBarrier.shp\n",
      "Launching Farsite #1\n",
      "Starting time step 0.000000 (maximum = 18)\n",
      "Writing outputs for Farsite #1 to /home/jovyan/data/20230313/Run_00243/out\n"
     ]
    },
    {
     "name": "stderr",
     "output_type": "stream",
     "text": [
      "/home/jovyan/farsite-devAPI/src/farsiteutils_v2.py:177: FutureWarning: The frame.append method is deprecated and will be removed from pandas in a future version. Use pandas.concat instead.\n",
      "  self.gdfsimulation = self.gdfsimulation.append(gdfappend)\n"
     ]
    },
    {
     "name": "stdout",
     "output_type": "stream",
     "text": [
      "Farsite $Rev: 2395 $\n",
      "Number of parallel threads = 4 (omp_get_num_procs = 128).\n",
      "Loading lcp file for Farsite #1: /home/jovyan/farsite/inputs/landscapes/Maria2019.lcp\n",
      "Loading inputs file for Farsite #1: /home/jovyan/data/20230313/Run_00244/config\n",
      "Loading ignition file for Farsite #1: /home/jovyan/data/ignitions/Maria2019E515c7343f0bf4ffd8dd3ce7353d87787.shp\n",
      "Loading barrier file for Farsite #1: /home/jovyan/farsite/inputs/barriers/NoBarrier/NoBarrier.shp\n",
      "Launching Farsite #1\n",
      "Starting time step 0.000000 (maximum = 18)\n",
      "Writing outputs for Farsite #1 to /home/jovyan/data/20230313/Run_00244/out\n"
     ]
    },
    {
     "name": "stderr",
     "output_type": "stream",
     "text": [
      "/home/jovyan/farsite-devAPI/src/farsiteutils_v2.py:177: FutureWarning: The frame.append method is deprecated and will be removed from pandas in a future version. Use pandas.concat instead.\n",
      "  self.gdfsimulation = self.gdfsimulation.append(gdfappend)\n"
     ]
    },
    {
     "name": "stdout",
     "output_type": "stream",
     "text": [
      "Farsite $Rev: 2395 $\n",
      "Number of parallel threads = 4 (omp_get_num_procs = 128).\n",
      "Loading lcp file for Farsite #1: /home/jovyan/farsite/inputs/landscapes/Maria2019.lcp\n",
      "Loading inputs file for Farsite #1: /home/jovyan/data/20230313/Run_00245/config\n",
      "Loading ignition file for Farsite #1: /home/jovyan/data/ignitions/Maria2019E585341a5d8084546ac308259833938e6.shp\n",
      "Loading barrier file for Farsite #1: /home/jovyan/farsite/inputs/barriers/NoBarrier/NoBarrier.shp\n",
      "Launching Farsite #1\n",
      "Starting time step 0.000000 (maximum = 18)\n",
      "Writing outputs for Farsite #1 to /home/jovyan/data/20230313/Run_00245/out\n"
     ]
    },
    {
     "name": "stderr",
     "output_type": "stream",
     "text": [
      "/home/jovyan/farsite-devAPI/src/farsiteutils_v2.py:177: FutureWarning: The frame.append method is deprecated and will be removed from pandas in a future version. Use pandas.concat instead.\n",
      "  self.gdfsimulation = self.gdfsimulation.append(gdfappend)\n"
     ]
    },
    {
     "name": "stdout",
     "output_type": "stream",
     "text": [
      "Farsite $Rev: 2395 $\n",
      "Number of parallel threads = 4 (omp_get_num_procs = 128).\n",
      "Loading lcp file for Farsite #1: /home/jovyan/farsite/inputs/landscapes/Maria2019.lcp\n",
      "Loading inputs file for Farsite #1: /home/jovyan/data/20230313/Run_00246/config\n",
      "Loading ignition file for Farsite #1: /home/jovyan/data/ignitions/Maria2019Efd55efc5cabf40bb96db0e323394d282.shp\n",
      "Loading barrier file for Farsite #1: /home/jovyan/farsite/inputs/barriers/NoBarrier/NoBarrier.shp\n",
      "Launching Farsite #1\n",
      "Starting time step 0.000000 (maximum = 18)\n",
      "Writing outputs for Farsite #1 to /home/jovyan/data/20230313/Run_00246/out\n"
     ]
    },
    {
     "name": "stderr",
     "output_type": "stream",
     "text": [
      "/home/jovyan/farsite-devAPI/src/farsiteutils_v2.py:177: FutureWarning: The frame.append method is deprecated and will be removed from pandas in a future version. Use pandas.concat instead.\n",
      "  self.gdfsimulation = self.gdfsimulation.append(gdfappend)\n"
     ]
    },
    {
     "name": "stdout",
     "output_type": "stream",
     "text": [
      "Farsite $Rev: 2395 $\n",
      "Number of parallel threads = 4 (omp_get_num_procs = 128).\n",
      "Loading lcp file for Farsite #1: /home/jovyan/farsite/inputs/landscapes/Maria2019.lcp\n",
      "Loading inputs file for Farsite #1: /home/jovyan/data/20230313/Run_00247/config\n",
      "Loading ignition file for Farsite #1: /home/jovyan/data/ignitions/Maria2019E1654db040c6f46568af1790651e0c9bc.shp\n",
      "Loading barrier file for Farsite #1: /home/jovyan/farsite/inputs/barriers/NoBarrier/NoBarrier.shp\n",
      "Launching Farsite #1\n",
      "Starting time step 0.000000 (maximum = 18)\n",
      "Writing outputs for Farsite #1 to /home/jovyan/data/20230313/Run_00247/out\n"
     ]
    },
    {
     "name": "stderr",
     "output_type": "stream",
     "text": [
      "/home/jovyan/farsite-devAPI/src/farsiteutils_v2.py:177: FutureWarning: The frame.append method is deprecated and will be removed from pandas in a future version. Use pandas.concat instead.\n",
      "  self.gdfsimulation = self.gdfsimulation.append(gdfappend)\n"
     ]
    },
    {
     "name": "stdout",
     "output_type": "stream",
     "text": [
      "Farsite $Rev: 2395 $\n",
      "Number of parallel threads = 4 (omp_get_num_procs = 128).\n",
      "Loading lcp file for Farsite #1: /home/jovyan/farsite/inputs/landscapes/Maria2019.lcp\n",
      "Loading inputs file for Farsite #1: /home/jovyan/data/20230313/Run_00248/config\n",
      "Loading ignition file for Farsite #1: /home/jovyan/data/ignitions/Maria2019E3d5d2d7ffee843e5aef8375c1d520587.shp\n",
      "Loading barrier file for Farsite #1: /home/jovyan/farsite/inputs/barriers/NoBarrier/NoBarrier.shp\n",
      "Launching Farsite #1\n",
      "Starting time step 0.000000 (maximum = 18)\n",
      "Writing outputs for Farsite #1 to /home/jovyan/data/20230313/Run_00248/out\n"
     ]
    },
    {
     "name": "stderr",
     "output_type": "stream",
     "text": [
      "/home/jovyan/farsite-devAPI/src/farsiteutils_v2.py:177: FutureWarning: The frame.append method is deprecated and will be removed from pandas in a future version. Use pandas.concat instead.\n",
      "  self.gdfsimulation = self.gdfsimulation.append(gdfappend)\n"
     ]
    },
    {
     "name": "stdout",
     "output_type": "stream",
     "text": [
      "Farsite $Rev: 2395 $\n",
      "Number of parallel threads = 4 (omp_get_num_procs = 128).\n",
      "Loading lcp file for Farsite #1: /home/jovyan/farsite/inputs/landscapes/Maria2019.lcp\n",
      "Loading inputs file for Farsite #1: /home/jovyan/data/20230313/Run_00249/config\n",
      "Loading ignition file for Farsite #1: /home/jovyan/data/ignitions/Maria2019E0dc41905a452447f81e50818e839394c.shp\n",
      "Loading barrier file for Farsite #1: /home/jovyan/farsite/inputs/barriers/NoBarrier/NoBarrier.shp\n",
      "Launching Farsite #1\n",
      "Starting time step 0.000000 (maximum = 18)\n",
      "Writing outputs for Farsite #1 to /home/jovyan/data/20230313/Run_00249/out\n",
      "Calculating 38/250 ( 15.20%) - Remaining - 0:0:0...   \r"
     ]
    },
    {
     "name": "stderr",
     "output_type": "stream",
     "text": [
      "/home/jovyan/farsite-devAPI/src/farsiteutils_v2.py:177: FutureWarning: The frame.append method is deprecated and will be removed from pandas in a future version. Use pandas.concat instead.\n",
      "  self.gdfsimulation = self.gdfsimulation.append(gdfappend)\n"
     ]
    },
    {
     "name": "stdout",
     "output_type": "stream",
     "text": [
      "{'description': 'Maria2019', 'igniteidx': 'f23196b034474744bdca7df94b13e0f7', 'compareidx': '51fdaebe31f44ad69272779a3f01182d', 'lcpidx': '43b7f5db36994599861eec4849cc68fd', 'barrieridx': 'cb47616cd2dc4ccc8fd523bd3a5064bb', 'windspeed': 10, 'winddirection': 60, 'relhumid': 90, 'temperature': 20}\n",
      "Choosing a perimeter from the database\n",
      "Farsite $Rev: 2395 $\n",
      "Number of parallel threads = 4 (omp_get_num_procs = 128).\n",
      "Loading lcp file for Farsite #1: /home/jovyan/farsite/inputs/landscapes/Maria2019.lcp\n",
      "Loading inputs file for Farsite #1: /home/jovyan/data/20230313/Run_00250/config\n",
      "Loading ignition file for Farsite #1: /home/jovyan/farsite/inputs/maria_ignite/maria_21231.shp\n",
      "Loading barrier file for Farsite #1: /home/jovyan/farsite/inputs/barriers/NoBarrier/NoBarrier.shp\n",
      "Launching Farsite #1\n",
      "Starting time step 0.000000 (maximum = 18)\n",
      "Writing outputs for Farsite #1 to /home/jovyan/data/20230313/Run_00250/out\n"
     ]
    },
    {
     "name": "stderr",
     "output_type": "stream",
     "text": [
      "/home/jovyan/farsite-devAPI/src/farsiteutils_v2.py:177: FutureWarning: The frame.append method is deprecated and will be removed from pandas in a future version. Use pandas.concat instead.\n",
      "  self.gdfsimulation = self.gdfsimulation.append(gdfappend)\n"
     ]
    }
   ],
   "source": [
    "## obtain the igniteidx of the ignition\n",
    "## The indices will be passed from the interface, which will include corresponding datetime, filepath etc.\n",
    "lcpidx = '43b7f5db36994599861eec4849cc68fd'        # Index for Maria2019\n",
    "barrieridx = 'cb47616cd2dc4ccc8fd523bd3a5064bb'    # NoBarrier shapefile index\n",
    "\n",
    "# observation = usr.db.gdfignition.iloc[1]\n",
    "observation = usr.db.gdfignition.loc[referenceidx_lst[1]]\n",
    "compareidx = observation.name    # t=1 observation\n",
    "\n",
    "state.update(compareidx, lcpidx, barrieridx, observation, windspeed, winddirection)\n",
    "X_0_lst.append(state.X_0)\n",
    "\n",
    "calculate_model(igniteidx_lst, compareidx, lcpidx, barrieridx, windspeed, winddirection, usr_model)"
   ]
  },
  {
   "cell_type": "code",
   "execution_count": 17,
   "id": "e82e5dad-ee9e-42b3-86ef-0cfe539fa180",
   "metadata": {},
   "outputs": [
    {
     "data": {
      "image/png": "[encoded data removed]",
      "text/plain": [
       "<Figure size 800x400 with 1 Axes>"
      ]
     },
     "metadata": {},
     "output_type": "display_data"
    }
   ],
   "source": [
    "fig, ax = plt.subplots(1,1, figsize=(4,2), dpi=200)\n",
    "# plot_matrix(X_0_lst[0], ax=ax, color='blue')\n",
    "# plot_matrix(X_0_lst[1], ax=ax, color='black', show_stdev=True, label=r'$X$')\n",
    "plot_matrix(state.Xt_1, ax=ax, color='red', show_stdev=True, label=r'$X_t$')\n",
    "plot_matrix(state.Y_1, ax=ax, color='blue', show_stdev=True, label=r'$Y$')\n",
    "\n",
    "\n",
    "# ax.legend()\n",
    "ax.set_aspect('equal')\n",
    "# plt.imshow(state.Xt_1)"
   ]
  },
  {
   "cell_type": "code",
   "execution_count": 19,
   "id": "c73556c9-0350-4132-9303-851b87f115c4",
   "metadata": {
    "tags": []
   },
   "outputs": [
    {
     "data": {
      "text/plain": [
       "array([[-2084182.68841562, -2084205.77966486, -2084179.95708903, ...,\n",
       "        -2084206.60741613, -2084216.98843924, -2084184.87413947],\n",
       "       [ 1503511.38975487,  1503541.02745604,  1503630.22600105, ...,\n",
       "         1503551.32649748,  1503562.55196053,  1503548.9760002 ],\n",
       "       [-2084278.90804864, -2084302.68339153, -2084276.06950029, ...,\n",
       "        -2084276.16157204, -2084297.34920766, -2084278.77821311],\n",
       "       ...,\n",
       "       [ 1503569.40422274,  1503558.83062463,  1503604.38983249, ...,\n",
       "         1503552.07236435,  1503646.58327381,  1503577.27792184],\n",
       "       [-2084182.68841562, -2084205.77966486, -2084179.95708903, ...,\n",
       "        -2084206.60741613, -2084216.98843924, -2084184.87413947],\n",
       "       [ 1503511.38975487,  1503541.02745604,  1503630.22600105, ...,\n",
       "         1503551.32649748,  1503562.55196053,  1503548.9760002 ]])"
      ]
     },
     "execution_count": 19,
     "metadata": {},
     "output_type": "execute_result"
    }
   ],
   "source": [
    "X_0_lst[0]"
   ]
  },
  {
   "cell_type": "markdown",
   "id": "682e16ac-2e59-41c1-a5ff-fc115ec70d6b",
   "metadata": {},
   "source": [
    "### Testing second update"
   ]
  },
  {
   "cell_type": "code",
   "execution_count": null,
   "id": "c94b8bbf-53b6-4ef6-ad4d-5aadcbd62557",
   "metadata": {
    "tags": []
   },
   "outputs": [],
   "source": [
    "ignitions = state.usr.db.gdfignition.loc[state.ignitions['igniteidx']]\n"
   ]
  },
  {
   "cell_type": "code",
   "execution_count": null,
   "id": "58ad4e2a-3b70-48b8-ab01-e402f13f3ae6",
   "metadata": {
    "tags": []
   },
   "outputs": [],
   "source": [
    "fig, ax = plt.subplots(1,1, figsize="
   ]
  },
  {
   "cell_type": "code",
   "execution_count": null,
   "id": "c46337fe-6cf1-4739-9f80-4c62ef22364e",
   "metadata": {
    "tags": []
   },
   "outputs": [],
   "source": [
    "i = 20\n",
    "\n",
    "fig, ax = plt.subplots(1,1, figsize=(4,4), dpi=200)\n",
    "plot_geometry(gpd.read_file(ignitions.iloc[i]['filepath'])['geometry'][0], ax=ax, label='ignition')\n",
    "ax.plot(state.X_0[::2, i], state.X_0[1::2, i], 'r--')\n",
    "\n",
    "\n",
    "ax.set_aspect('equal')"
   ]
  },
  {
   "cell_type": "code",
   "execution_count": null,
   "id": "6cdc5c83-323d-4a66-915d-6dc43d51849d",
   "metadata": {},
   "outputs": [],
   "source": []
  },
  {
   "cell_type": "code",
   "execution_count": null,
   "id": "4e77969b-d42d-46ea-98e5-161957a26af5",
   "metadata": {},
   "outputs": [],
   "source": []
  },
  {
   "cell_type": "code",
   "execution_count": null,
   "id": "57d4cb95-2f9f-4e7e-b03a-565adfd97f80",
   "metadata": {},
   "outputs": [],
   "source": []
  },
  {
   "cell_type": "code",
   "execution_count": null,
   "id": "0a9fb75a-7361-41ba-ab92-16cadeef05c0",
   "metadata": {},
   "outputs": [],
   "source": []
  },
  {
   "cell_type": "code",
   "execution_count": null,
   "id": "2806238b-6b88-4935-b0ed-001f312172cd",
   "metadata": {
    "tags": []
   },
   "outputs": [],
   "source": [
    "usr.db.gdfignition.iloc[1]"
   ]
  },
  {
   "cell_type": "code",
   "execution_count": null,
   "id": "94fdd0dd-9c6c-4a21-8a0c-a1f50dc31739",
   "metadata": {
    "tags": []
   },
   "outputs": [],
   "source": [
    "observation"
   ]
  },
  {
   "cell_type": "code",
   "execution_count": null,
   "id": "283a3358-ab39-48db-915a-af395e4b537b",
   "metadata": {
    "scrolled": true,
    "tags": []
   },
   "outputs": [],
   "source": [
    "%%time\n",
    "\n",
    "i = 2\n",
    "observation = usr.db.gdfignition.loc[referenceidx_lst[i]]\n",
    "compareidx = observation.name    # t=1 observation\n",
    "\n",
    "state.update(compareidx, lcpidx, barrieridx, observation, windspeed, winddirection)"
   ]
  },
  {
   "cell_type": "code",
   "execution_count": null,
   "id": "cbb621b7-1735-4a92-a9e7-bf1b97d7757f",
   "metadata": {
    "tags": []
   },
   "outputs": [],
   "source": [
    "x,y = gpd.read_file(state.mainapi_lst[0].runfile_lst[0].outpath + '_Perimeters.shp')['geometry'][0].coords.xy"
   ]
  },
  {
   "cell_type": "code",
   "execution_count": null,
   "id": "96e8349e-3eaa-4511-a26e-bab224e43795",
   "metadata": {
    "tags": []
   },
   "outputs": [],
   "source": [
    "fig, ax = plt.subplots(1,1, figsize=(4,4), dpi=200)\n",
    "plot_matrix(X_0_lst[1], ax=ax, color='blue')\n",
    "# plot_matrix(state.X_0[:,1:2], ax=ax)\n",
    "plot_matrix(state.Y_1, ax=ax, color='green', show_stdev=True)\n",
    "plot_matrix(state.Xt_1, ax=ax, color='blue', show_stdev=True)\n",
    "# ax.plot(x,y, 'k--', lw=1)"
   ]
  },
  {
   "cell_type": "code",
   "execution_count": null,
   "id": "4e33408c-732d-406e-8882-8f473217a41f",
   "metadata": {},
   "outputs": [],
   "source": [
    "X_0_lst.append(state.X_0)\n"
   ]
  },
  {
   "cell_type": "code",
   "execution_count": null,
   "id": "132b7871-4699-4cc1-8866-7822fa5e906e",
   "metadata": {},
   "outputs": [],
   "source": [
    "calculate_model(igniteidx_lst, compareidx, lcpidx, barrieridx, windspeed, winddirection, usr_model)\n",
    "    \n"
   ]
  },
  {
   "cell_type": "code",
   "execution_count": null,
   "id": "0eef0d2d-dab8-4da6-b732-80d87aa25fd7",
   "metadata": {},
   "outputs": [],
   "source": [
    "# igniteidx_lst_model = igniteidx_lst.copy()"
   ]
  },
  {
   "cell_type": "code",
   "execution_count": null,
   "id": "f61b04a6-2383-4630-b8e3-c4e14bdbc743",
   "metadata": {},
   "outputs": [],
   "source": []
  },
  {
   "cell_type": "code",
   "execution_count": null,
   "id": "7ae721cf-881f-4edc-beac-b9e5b5760859",
   "metadata": {},
   "outputs": [],
   "source": []
  },
  {
   "cell_type": "code",
   "execution_count": null,
   "id": "e815328c-498b-491f-a42c-c9ddb10be7e9",
   "metadata": {},
   "outputs": [],
   "source": []
  },
  {
   "cell_type": "code",
   "execution_count": null,
   "id": "a9b388f7-f7d5-49c7-b43d-894e3f79d722",
   "metadata": {},
   "outputs": [],
   "source": []
  },
  {
   "cell_type": "code",
   "execution_count": null,
   "id": "cd5a9b1f-e310-4e4e-867d-aa9e34f20d71",
   "metadata": {
    "tags": []
   },
   "outputs": [],
   "source": [
    "i = 2\n",
    "observation = state.usr.db.gdfignition.iloc[i]\n",
    "compareidx = observation.name    # t=1 observation"
   ]
  },
  {
   "cell_type": "code",
   "execution_count": null,
   "id": "3c68b8d8-ea2d-4b73-ad7a-2b66a7eb526d",
   "metadata": {
    "tags": []
   },
   "outputs": [],
   "source": [
    "gpd.read_file(observation['filepath'])['geometry'][0]"
   ]
  },
  {
   "cell_type": "code",
   "execution_count": null,
   "id": "075838eb-d071-4b85-b842-20be76fed1fc",
   "metadata": {
    "tags": []
   },
   "outputs": [],
   "source": [
    "observation['geometry']"
   ]
  },
  {
   "cell_type": "code",
   "execution_count": null,
   "id": "bbe369c7-ac9a-463a-8831-d71a4a997937",
   "metadata": {},
   "outputs": [],
   "source": [
    "# Advance the state in Farsite using the windspeed and direction\n",
    "inputData_lst = []\n",
    "state.mainapi_lst = []"
   ]
  },
  {
   "cell_type": "code",
   "execution_count": null,
   "id": "771cae0e-bce1-4c7e-8ca2-0f5c4c72ce3e",
   "metadata": {
    "tags": []
   },
   "outputs": [],
   "source": [
    "igniteidx = state.ignitions['igniteidx'][0]\n",
    "gpd.read_file(state.usr.db.gdfignition.loc[igniteidx, 'filepath'])['geometry'][0]\n",
    "\n",
    "inputData = {'description': state.selected_fire,\n",
    "             'igniteidx'  : igniteidx,\n",
    "             'compareidx' : compareidx,\n",
    "             'lcpidx'     : lcpidx,\n",
    "             'barrieridx' : barrieridx,\n",
    "\n",
    "             'windspeed': windspeed, 'winddirection': winddirection,\n",
    "             'relhumid': 90, 'temperature': 20}\n",
    "\n",
    "mainapi = state.usr.calculatePerimeters(inputData)"
   ]
  },
  {
   "cell_type": "code",
   "execution_count": null,
   "id": "c886e1fb-cb5a-4ab1-8994-dd5768914cb0",
   "metadata": {
    "tags": []
   },
   "outputs": [],
   "source": [
    "mainapi.run_farsite()\n",
    "runfile = mainapi.runfile_lst[0]\n",
    "outperimpath = runfile.outpath+'_Perimeters.shp'"
   ]
  },
  {
   "cell_type": "code",
   "execution_count": null,
   "id": "748e9aae-6314-4c1c-9dcd-0ffb36278a63",
   "metadata": {
    "tags": []
   },
   "outputs": [],
   "source": [
    "gpd.read_file(outperimpath)['geometry'][0]"
   ]
  },
  {
   "cell_type": "code",
   "execution_count": null,
   "id": "791219fc-9ea7-4d45-80ce-5ea5429a01fe",
   "metadata": {
    "scrolled": true,
    "tags": []
   },
   "outputs": [],
   "source": [
    "for mainapi in state.mainapi_lst:\n",
    "    # pool.apply_async(farsite.run_command, callback=farsite.updatedb)\n",
    "    mainapi.run_farsite()\n",
    "    runfile = mainapi.runfile_lst[0]\n",
    "    outperimpath = runfile.outpath+'_Perimeters.shp'\n",
    "    while len(gpd.read_file(outperimpath)) == 0:\n",
    "        recalculate_ignition(mainapi)\n",
    "        mainapi.run_farsite()"
   ]
  },
  {
   "cell_type": "code",
   "execution_count": null,
   "id": "c085b525-ec95-4274-a991-99f9a0cae76f",
   "metadata": {
    "tags": []
   },
   "outputs": [],
   "source": [
    "# Filter igniteidx->compareidx simulations only\n",
    "df = state.usr.db.gdfsimulation\n",
    "filtered_indices = df[df['igniteidx'].isin(state.ignitions['igniteidx']) & (df['compareidx'] == compareidx)].index"
   ]
  },
  {
   "cell_type": "code",
   "execution_count": null,
   "id": "f7104247-cb97-482d-91a7-cbf5dea1b0b3",
   "metadata": {
    "tags": []
   },
   "outputs": [],
   "source": [
    "create_ensemble_matrix(df.loc[filtered_indices, 'geometry'], state.vertex_count, state.aligned_geom)"
   ]
  },
  {
   "cell_type": "code",
   "execution_count": null,
   "id": "7eda260e-a7ee-4ea0-8419-b3e7c73e7b96",
   "metadata": {},
   "outputs": [],
   "source": []
  },
  {
   "cell_type": "code",
   "execution_count": null,
   "id": "ab3b7021-a29d-4124-b517-a6ff242d33cd",
   "metadata": {},
   "outputs": [],
   "source": []
  },
  {
   "cell_type": "code",
   "execution_count": null,
   "id": "5cff87ef-edb4-4b73-8d91-f21f8de67a90",
   "metadata": {},
   "outputs": [],
   "source": []
  },
  {
   "cell_type": "code",
   "execution_count": null,
   "id": "b0b56f26-0822-48ee-82bc-912d09ef0f39",
   "metadata": {
    "tags": []
   },
   "outputs": [],
   "source": []
  },
  {
   "cell_type": "code",
   "execution_count": null,
   "id": "8d9e000d-8625-4e27-808d-cb536fbc3100",
   "metadata": {},
   "outputs": [],
   "source": []
  },
  {
   "cell_type": "markdown",
   "id": "2bcb785f-62ce-41fc-85bf-f13b90876f84",
   "metadata": {},
   "source": [
    "### Second update test is done"
   ]
  },
  {
   "cell_type": "code",
   "execution_count": null,
   "id": "8471ce03-e73c-427b-93b4-6948c1505f8d",
   "metadata": {
    "scrolled": true,
    "tags": []
   },
   "outputs": [],
   "source": [
    "%%time\n",
    "\n",
    "calc_range = range(2,10)\n",
    "time_estimator = TimeEstimator(len(calc_range))\n",
    "for i in calc_range:\n",
    "    print(time_estimator.info_str(i))\n",
    "    observation = usr.db.gdfignition.iloc[i]\n",
    "    compareidx = observation.name    # t=1 observation\n",
    "\n",
    "    state.update(compareidx, lcpidx, barrieridx, observation, windspeed, winddirection)\n",
    "    X_0_lst.append(state.X_0)\n",
    "\n",
    "    calculate_model(igniteidx_lst, compareidx, lcpidx, barrieridx, windspeed, winddirection, usr_model)\n",
    "    \n",
    "igniteidx_lst_model = igniteidx_lst.copy()"
   ]
  },
  {
   "cell_type": "code",
   "execution_count": null,
   "id": "a1b653b4-3e6d-4608-8e15-7208497ced1d",
   "metadata": {},
   "outputs": [],
   "source": []
  },
  {
   "cell_type": "code",
   "execution_count": null,
   "id": "484a9b95-0891-403b-8834-6a5bcb1311df",
   "metadata": {
    "tags": []
   },
   "outputs": [],
   "source": [
    "# fig, ax = plt.subplots(1,1, figsize=(4,4), dpi=200)\n",
    "# plot_matrix(X_0_lst[1], ax=ax, color='blue')\n",
    "# plot_matrix(X_0_lst[2][:,0:1], ax=ax, show_stdev=True)"
   ]
  },
  {
   "cell_type": "code",
   "execution_count": null,
   "id": "961979dc-74b4-4f4c-8b87-80b826a724a3",
   "metadata": {},
   "outputs": [],
   "source": [
    "# import geopandas as gpd\n",
    "\n",
    "# gdf = gpd.read_file('/home/jovyan/data/ignitions/Maria2019U0081_f5421b23173641e18b5d780c6d528798.shp')\n",
    "# gdf['geometry'][0]"
   ]
  },
  {
   "cell_type": "code",
   "execution_count": null,
   "id": "387a1474-cf25-4198-b8f4-9c6c0c97ef3b",
   "metadata": {},
   "outputs": [],
   "source": [
    "fig, ax = plt.subplots(1,1, figsize=(4,4), dpi=200)\n",
    "plot_matrix(state.Xt_1, ax=ax, show_stdev=True)\n",
    "\n",
    "# plt.imshow(state.Xt_1)"
   ]
  },
  {
   "cell_type": "code",
   "execution_count": null,
   "id": "1da16e4c-7441-4f71-997e-f38c89ab670c",
   "metadata": {},
   "outputs": [],
   "source": []
  },
  {
   "cell_type": "code",
   "execution_count": null,
   "id": "bfea16d2-b6fe-4975-b267-519c554609b1",
   "metadata": {},
   "outputs": [],
   "source": []
  },
  {
   "cell_type": "code",
   "execution_count": null,
   "id": "86668cd6-57cd-410d-816c-8526f4d90fc6",
   "metadata": {},
   "outputs": [],
   "source": []
  },
  {
   "cell_type": "code",
   "execution_count": null,
   "id": "6d635033-7453-4e12-9918-6b27477e8790",
   "metadata": {},
   "outputs": [],
   "source": []
  },
  {
   "cell_type": "code",
   "execution_count": null,
   "id": "50579d8b-86ed-4dfb-a215-8ef9bca921d9",
   "metadata": {},
   "outputs": [],
   "source": []
  },
  {
   "cell_type": "code",
   "execution_count": null,
   "id": "17f65f47-b4ea-4ad3-a82b-5086f30d864a",
   "metadata": {},
   "outputs": [],
   "source": []
  },
  {
   "cell_type": "code",
   "execution_count": null,
   "id": "0054ba52-8832-42f4-8897-8eff14af83d2",
   "metadata": {},
   "outputs": [],
   "source": []
  },
  {
   "cell_type": "code",
   "execution_count": null,
   "id": "a2d3c62d-0ed8-4b8f-b9f4-a8e89891ee90",
   "metadata": {},
   "outputs": [],
   "source": [
    "# fig, ax = plt.subplots(1,1, figsize=(4,2), dpi=200)\n",
    "\n",
    "# # plot_matrix(X_0_lst[0], ax)\n",
    "# # plot_matrix(X_0_lst[1], ax, color='blue')\n",
    "# plot_matrix(X_0_lst[0], ax, color='black')\n",
    "# plot_matrix(X_0_lst[1], ax, color='black')\n",
    "# plot_matrix(X_0_lst[2], ax, color='black')\n",
    "# plot_matrix(X_0_lst[3], ax, color='black')\n",
    "# plot_matrix(X_0_lst[4], ax, color='black')\n",
    "# plot_matrix(X_0_lst[5], ax, color='black')\n",
    "# plot_matrix(X_0_lst[6], ax, color='black')\n",
    "# plot_geometry(usr.db.gdfignition.iloc[4]['geometry'], ax)\n",
    "# plot_geometry(usr.db.gdfignition.iloc[5]['geometry'], ax)\n",
    "# plot_geometry(usr.db.gdfignition.iloc[6]['geometry'], ax)\n",
    "# # plot_geometry(usr.db.gdfignition.iloc[10]['geometry'], ax)\n",
    "# # plot_geometry(usr.db.gdfignition.iloc[11]['geometry'], ax)\n",
    "# # plot_geometry(usr.db.gdfignition.iloc[12]['geometry'], ax)\n",
    "# # plot_geometry(usr.db.gdfignition.iloc[13]['geometry'], ax)\n",
    "# # plot_geometry(usr.db.gdfignition.iloc[14]['geometry'], ax)\n",
    "# # plot_geometry(usr.db.gdfignition.iloc[15]['geometry'], ax)\n",
    "# # plot_geometry(usr.db.gdfignition.iloc[16]['geometry'], ax)\n",
    "# # plot_geometry(usr.db.gdfignition.iloc[17]['geometry'], ax)\n",
    "# # plot_geometry(usr.db.gdfignition.iloc[18]['geometry'], ax)\n",
    "# # plot_geometry(usr.db.gdfignition.iloc[0]['geometry'], ax)"
   ]
  },
  {
   "cell_type": "markdown",
   "id": "c3a44d97-9474-4b70-9c10-a281a2433f5b",
   "metadata": {},
   "source": [
    "## Compare the predictions from the updated states, observations and using only the first simulation"
   ]
  },
  {
   "cell_type": "markdown",
   "id": "29ed5f7b-ec68-4766-8b52-a3b9e59512a6",
   "metadata": {},
   "source": [
    "### 1. Predict with the updated states"
   ]
  },
  {
   "cell_type": "code",
   "execution_count": null,
   "id": "2d63fcf2-8519-472a-a4a9-47555d72221a",
   "metadata": {},
   "outputs": [],
   "source": [
    "usr_combined = futils.User(fp)\n",
    "igniteidx_lst = []\n",
    "compareidx_lst = []\n",
    "for i, X_0 in enumerate(X_0_lst):\n",
    "    obrow = usr.db.gdfignition.iloc[i]\n",
    "    comprow = usr.db.gdfignition.iloc[i+1]\n",
    "    \n",
    "    vertices = X_0.mean(axis=1)\n",
    "    geom = Polygon(zip(vertices[::2],vertices[1::2])).buffer(0)\n",
    "    \n",
    "    dt = obrow['datetime']\n",
    "    desc = obrow['description']\n",
    "    objid = str(obrow['objectid']) + '_updated'\n",
    "    ftype = obrow['filetype']\n",
    "    \n",
    "    ignitions = state_to_ignitions(X_0.mean(axis=1, keepdims=True), [objid], [dt], [desc], [ftype], usr_combined)\n",
    "    igniteidx_lst.append(ignitions['igniteidx'][0])\n",
    "    compareidx_lst.append(comprow.name)\n",
    "    \n",
    "    usr_combined.db.gdfignition = pd.concat([usr_combined.db.gdfignition, gpd.GeoDataFrame(ignitions, geometry='geometry', crs='EPSG:5070').set_index('igniteidx')])"
   ]
  },
  {
   "cell_type": "code",
   "execution_count": null,
   "id": "5c7aa856-4a61-49b9-b156-6e99d7012516",
   "metadata": {},
   "outputs": [],
   "source": [
    "igniteidx_lst_observed = []\n",
    "compareidx_lst_observed = []\n",
    "for i in range(len(igniteidx_lst)):\n",
    "    igniteidx_lst_observed.append(usr_combined.db.gdfignition.index[i])\n",
    "    compareidx_lst_observed.append(usr_combined.db.gdfignition.index[i+1])"
   ]
  },
  {
   "cell_type": "code",
   "execution_count": null,
   "id": "90bc07da-78a8-448d-8eb7-53b07cdf58e7",
   "metadata": {
    "scrolled": true,
    "tags": []
   },
   "outputs": [],
   "source": [
    "# Combine all igniteidx and compareidx into a single\n",
    "\n",
    "igniteidx_lst_combined = igniteidx_lst + igniteidx_lst_observed\n",
    "compareidx_lst_combined = compareidx_lst + compareidx_lst_observed\n",
    "\n",
    "desc_lst_combined = ['Maria2019_updated' for i in range(len(igniteidx_lst))] + ['Maria2019_observed' for i in range(len(igniteidx_lst))]\n",
    "inputData_lst = []\n",
    "mainapi_lst = []\n",
    "for (igniteidx, compareidx, desc) in zip(igniteidx_lst_combined, compareidx_lst_combined, desc_lst_combined):\n",
    "    inputData = {'description': desc,\n",
    "                 'igniteidx'  : igniteidx,\n",
    "                 'compareidx' : compareidx,\n",
    "                 'lcpidx'     : '43b7f5db36994599861eec4849cc68fd',\n",
    "                 'barrieridx' : 'cb47616cd2dc4ccc8fd523bd3a5064bb',\n",
    "                 \n",
    "                 'windspeed': 10, 'winddirection': 60,\n",
    "                 'relhumid': 90, 'temperature': 20}\n",
    "    \n",
    "    mainapi_lst.append(usr_combined.calculatePerimeters(inputData))\n",
    "    \n",
    "for mainapi in mainapi_lst:\n",
    "    # pool.apply_async(farsite.run_command, callback=farsite.updatedb)\n",
    "    mainapi.run_farsite()"
   ]
  },
  {
   "cell_type": "code",
   "execution_count": null,
   "id": "de6236ed-f53b-461c-b584-31ab53056e56",
   "metadata": {},
   "outputs": [],
   "source": [
    "# usr_combined.db.gdfignition.to_pickle('/home/jovyan/ignitions.pkl')\n",
    "# usr_combined.db.gdfsimulation.to_pickle('/home/jovyan/simulations.pkl')"
   ]
  },
  {
   "cell_type": "markdown",
   "id": "4b1debeb-3c1b-4c3f-9e20-82f32a063c6d",
   "metadata": {},
   "source": [
    "#### Interpolate all the vertices\n",
    "\n",
    "#### TODO: Vertices include an additional point when generated from geometry. Remove the repeat!\n",
    "\n",
    "#### TODO: Check whether the aligned_vertices have the correct roll amount\n",
    "1. Create matrices from the aligned_vertices, and form the $X_0$ ensemble state matrix\n",
    "2. Using the observation $y_1$, update the state vector and obtain $X_1$"
   ]
  },
  {
   "cell_type": "markdown",
   "id": "fdfb7ebf-10e4-47b7-ba2d-d03e31d8e9f8",
   "metadata": {},
   "source": [
    "#### TODO - Question: Can we find a way to not interpolate the vertices\n",
    "1. Without interpolation, we need to create a matrix that maps the observed vertices to the state vector"
   ]
  },
  {
   "cell_type": "markdown",
   "id": "b86c1968-48f0-4d52-900c-545ecc8a9cef",
   "metadata": {},
   "source": [
    "## Compare the perimeters"
   ]
  },
  {
   "cell_type": "code",
   "execution_count": null,
   "id": "6376ea2d-809c-4e9d-8140-80cff6fce841",
   "metadata": {},
   "outputs": [],
   "source": [
    "# gdfignition = pd.read_pickle('/home/jovyan/ignitions.pkl')\n",
    "# gdfsimulation = pd.read_pickle('/home/jovyan/simulations.pkl')\n",
    "\n",
    "gdfignition = usr_combined.db.gdfignition\n",
    "gdfsimulation = usr_combined.db.gdfsimulation\n",
    "\n",
    "gdfignition_model = usr_model.db.gdfignition\n",
    "gdfsimulation_model = usr_model.db.gdfsimulation"
   ]
  },
  {
   "cell_type": "code",
   "execution_count": null,
   "id": "553df1e2-e6ca-40bf-b56d-f0d0a729c7f5",
   "metadata": {},
   "outputs": [],
   "source": [
    "def get_coordinates(geom):\n",
    "    x,y = geom.exterior.coords.xy\n",
    "    x = np.array(x)\n",
    "    y = np.array(y)\n",
    "    \n",
    "    return x,y\n",
    "\n",
    "def calculate_rms(geom1, geom2):\n",
    "    xy1, xy2 = interpolate_geometries([geom1, geom2], vertex_count=2000)\n",
    "    xy1, xy2 = align_vertices([xy1, xy2])\n",
    "    return np.sqrt(np.sum((xy1[:,0] - xy2[:,0])**2 + (xy1[:,1] - xy2[:,1])**2)/xy1.shape[0])\n",
    "    \n",
    "\n",
    "def calculate_area_diff(geom1, geom2):\n",
    "    return (geom1.union(geom2) - geom1.intersection(geom2)).area\n",
    "\n",
    "calculate_error = calculate_area_diff"
   ]
  },
  {
   "cell_type": "code",
   "execution_count": null,
   "id": "5d6c99d5-619d-456d-9bdc-a0c6c9fcd83f",
   "metadata": {},
   "outputs": [],
   "source": [
    "geoms_updated = []\n",
    "geoms_observed = []\n",
    "geoms_compare = []\n",
    "geoms_model = []\n",
    "errors_updated = []\n",
    "errors_observed = []\n",
    "errors_model = []\n",
    "dt = []\n",
    "\n",
    "for compareidx in compareidx_lst[:-1]:\n",
    "    gdffiltered = gdfsimulation[gdfsimulation['compareidx'] == compareidx]\n",
    "    \n",
    "    geom_updated = gdffiltered[gdffiltered['description'] == 'Maria2019_updated']['geometry'].iloc[0]\n",
    "    if isinstance(geom_updated, MultiPolygon):\n",
    "        geom_updated = calculate_max_area_geom(geom_updated)\n",
    "    geoms_updated.append(geom_updated)\n",
    "    \n",
    "    geom_observed = gdffiltered[gdffiltered['description'] == 'Maria2019_observed']['geometry'].iloc[0]\n",
    "    if isinstance(geom_observed, MultiPolygon):\n",
    "        geom_observed = calculate_max_area_geom(geom_observed)\n",
    "    geoms_observed.append(geom_observed)\n",
    "    \n",
    "    geom_compare = gdfignition.loc[compareidx, 'geometry']\n",
    "    if isinstance(geom_compare, MultiPolygon):\n",
    "        geom_compare = calculate_max_area_geom(geom_compare)\n",
    "    geoms_compare.append(geom_compare)\n",
    "    \n",
    "    gdffiltered_model = gdfsimulation_model[gdfsimulation_model['compareidx'] == compareidx]\n",
    "    geom_model = gdffiltered_model[gdffiltered_model['description'] == 'Maria2019']['geometry'].iloc[0]\n",
    "    if isinstance(geom_model, MultiPolygon):\n",
    "            geom_model = calculate_max_area_geom(geom_model)\n",
    "    geoms_model.append(geom_model)\n",
    "    \n",
    "    dt.append((gdfignition.loc[compareidx, 'datetime'] - gdfignition.iloc[0]['datetime']).total_seconds()/60/60)\n",
    "    \n",
    "    errors_updated.append(calculate_error(geom_updated, geom_compare))\n",
    "    errors_observed.append(calculate_error(geom_observed,  geom_compare))\n",
    "    errors_model.append(calculate_error(geom_model, geom_compare))"
   ]
  },
  {
   "cell_type": "code",
   "execution_count": null,
   "id": "872554e3-3b7f-4d7e-86f2-ea35cbf754a9",
   "metadata": {},
   "outputs": [],
   "source": []
  },
  {
   "cell_type": "code",
   "execution_count": null,
   "id": "0d1bcb05-e5b6-4164-9ef7-0160c382e529",
   "metadata": {},
   "outputs": [],
   "source": [
    "fig, ax = plt.subplots(1,1, figsize=(4,3), dpi=400)\n",
    "ax.plot(dt, errors_updated, label='EnKF')\n",
    "ax.plot(dt, errors_observed, label='Observed')\n",
    "ax.plot(dt, errors_model, label='Model')\n",
    "\n",
    "ax.set_xlim(0,6)\n",
    "ax.set_ylim(0, 2.5e7)\n",
    "\n",
    "ax.set_xlabel('Hours after first ignition')\n",
    "ax.set_ylabel('Area difference')\n",
    "\n",
    "ax.legend()"
   ]
  },
  {
   "cell_type": "code",
   "execution_count": null,
   "id": "b2675e95-8826-4ed9-870c-93a1443cf8a2",
   "metadata": {},
   "outputs": [],
   "source": []
  },
  {
   "cell_type": "code",
   "execution_count": null,
   "id": "ad5ff0dd-d763-4a0d-ad21-e8afac4882a4",
   "metadata": {},
   "outputs": [],
   "source": []
  }
 ],
 "metadata": {
  "kernelspec": {
   "display_name": "Python 3 (ipykernel)",
   "language": "python",
   "name": "python3"
  },
  "language_info": {
   "codemirror_mode": {
    "name": "ipython",
    "version": 3
   },
   "file_extension": ".py",
   "mimetype": "text/x-python",
   "name": "python",
   "nbconvert_exporter": "python",
   "pygments_lexer": "ipython3",
   "version": "3.10.9"
  }
 },
 "nbformat": 4,
 "nbformat_minor": 5
}
