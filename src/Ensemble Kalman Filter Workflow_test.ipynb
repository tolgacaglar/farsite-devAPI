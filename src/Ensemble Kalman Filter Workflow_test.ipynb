{
 "cells": [
  {
   "cell_type": "markdown",
   "id": "de901356-30f4-46aa-895f-f834710f5efa",
   "metadata": {},
   "source": [
    "# Ensemble Kalman Filter Workflow\n",
    "\n",
    "1. Available observation vector for $\\vec{y_{k+1}}$, and calculate the observation ensemble from the directional uncertainties based on the wind speed and direction. To calculate the uncertainty for each point of the perimeter:\n",
    "    1. Obtain the centroid $c_k = 1/M\\sum{y_k}$ where $M$ is the number of points.\n",
    "    2. Calculate vectors $\\vec{v_k^m}$ for each point from the centroid to the point where $m$ is the $m^{th}$ point in the perimeter\n",
    "    3. Obtain the wind speed and direction: $\\vec{u_k}$ from the closest weather station to the centroid\n",
    "    4. Uncertainty for each point $m$ is then $e_k^m = \\alpha \\left(1 - \\vec{v_k^m} \\cdot \\vec{u_k}\\right)$\n",
    "\n",
    "2. Given a state vector $x_k$ and uncertainties around each point $P_k$, generate an ensemble \n",
    "$$X_k = (x_k^1, x_k^2, \\cdots , x_k^N)$$\n",
    "    1. For the first timepoint $k=0$, the state vector is the first observation $(x_0 = y_0)$, and the ensemble is obtained from directional uncertainties assigned based on the wind speed and direction\n",
    "    2. **Question:** When creating the ensemble, do we preserve the mean $\\overline{x_k}$?\n",
    "    \n",
    "3. From the ensemble $X_k$, advance for each state vector $X_{k+1} = F(X_k, u_k)$, where $u_k$ \n",
    "\n",
    "4. "
   ]
  },
  {
   "cell_type": "markdown",
   "id": "a4b5f10a-ee62-4ba4-aac3-0fe305e1bc0f",
   "metadata": {
    "tags": []
   },
   "source": [
    "## Dependencies:"
   ]
  },
  {
   "cell_type": "code",
   "execution_count": 1,
   "id": "145b1582-6a79-497f-a6d3-6838d655a74b",
   "metadata": {},
   "outputs": [],
   "source": [
    "import sys\n",
    "sys.path.append('/home/jovyan/farsite-devAPI/src/')\n",
    "sys.path.append('/home/jovyan/python-helper/src/')\n",
    "\n",
    "import geopandas as gpd\n",
    "import pandas as pd\n",
    "import numpy as np\n",
    "\n",
    "from shapely.geometry import MultiPolygon, Polygon\n",
    "\n",
    "import uuid\n",
    "import random\n",
    "\n",
    "import farsiteutils_v2 as futils\n",
    "from kalmanutils import calculate_uncertainties_observed, interpolate_perimeter\n",
    "\n",
    "from loggers import TimeEstimator\n",
    "\n",
    "from matplotlib import pyplot as plt"
   ]
  },
  {
   "cell_type": "markdown",
   "id": "5ac1bb62-56d4-4c93-aa7d-544952e3ab6f",
   "metadata": {},
   "source": [
    "## Default Values"
   ]
  },
  {
   "cell_type": "code",
   "execution_count": 2,
   "id": "323345e2-6444-499f-87e2-c9bf65ae7a61",
   "metadata": {},
   "outputs": [],
   "source": [
    "SELECTED_FIRE_DEFAULT = 'Maria2019'\n",
    "DATA_PATH = '/home/jovyan/data/'    # Folder to keep all the data while running the simulations"
   ]
  },
  {
   "cell_type": "markdown",
   "id": "39840580-19e1-468d-85d2-bb17a1b28a29",
   "metadata": {},
   "source": [
    "## Select a fire\n",
    "\n",
    "```selected_fire``` variable holds the name of the fire selected. ```selected_fire = 'Maria2019'``` for now"
   ]
  },
  {
   "cell_type": "code",
   "execution_count": 3,
   "id": "d3fee504-e3de-4596-9983-2851ed3ed383",
   "metadata": {},
   "outputs": [
    {
     "name": "stdout",
     "output_type": "stream",
     "text": [
      "Database interaction not yet implemented. Use pickle file for dataframes instead!\n",
      "Available fires are ['Maria2019' 'River2021' 'Bridge2021']\n",
      "Maria2019 is selected.\n",
      "\n",
      "Maria2019 is found!\n"
     ]
    }
   ],
   "source": [
    "fp = futils.FilePaths(DATA_PATH)\n",
    "usr = futils.User(fp)\n",
    "\n",
    "unique_desc = usr.db.gdfignitionAll['description'].unique()\n",
    "print(f'Available fires are {unique_desc}')\n",
    "\n",
    "selected_fire = SELECTED_FIRE_DEFAULT\n",
    "print(f'{selected_fire} is selected.\\n')\n",
    "if (unique_desc == selected_fire).any():\n",
    "    print(f'{selected_fire} is found!')\n",
    "else:\n",
    "    raise ValueError(f'{selected_fire} not found in possible fire descriptions: {unique_desc}')"
   ]
  },
  {
   "cell_type": "code",
   "execution_count": 4,
   "id": "4b04e271-eb7f-4ed7-a88e-b42f77bbd6ec",
   "metadata": {
    "tags": []
   },
   "outputs": [
    {
     "data": {
      "text/html": [
       "<div>\n",
       "<style scoped>\n",
       "    .dataframe tbody tr th:only-of-type {\n",
       "        vertical-align: middle;\n",
       "    }\n",
       "\n",
       "    .dataframe tbody tr th {\n",
       "        vertical-align: top;\n",
       "    }\n",
       "\n",
       "    .dataframe thead th {\n",
       "        text-align: right;\n",
       "    }\n",
       "</style>\n",
       "<table border=\"1\" class=\"dataframe\">\n",
       "  <thead>\n",
       "    <tr style=\"text-align: right;\">\n",
       "      <th></th>\n",
       "      <th>filetype</th>\n",
       "      <th>objectid</th>\n",
       "      <th>filepath</th>\n",
       "      <th>datetime</th>\n",
       "      <th>description</th>\n",
       "      <th>geometry</th>\n",
       "    </tr>\n",
       "  </thead>\n",
       "  <tbody>\n",
       "    <tr>\n",
       "      <th>f23196b034474744bdca7df94b13e0f7</th>\n",
       "      <td>Ignition</td>\n",
       "      <td>21231</td>\n",
       "      <td>/home/jovyan/farsite/inputs/maria_ignite/maria...</td>\n",
       "      <td>2019-10-31 19:37:11</td>\n",
       "      <td>Maria2019</td>\n",
       "      <td>POLYGON ((-2084217.148 1503560.461, -2084279.5...</td>\n",
       "    </tr>\n",
       "    <tr>\n",
       "      <th>9f82e870591748a9a8a01346d174f2a1</th>\n",
       "      <td>Ignition</td>\n",
       "      <td>21232</td>\n",
       "      <td>/home/jovyan/farsite/inputs/maria_ignite/maria...</td>\n",
       "      <td>2019-10-31 19:58:22</td>\n",
       "      <td>Maria2019</td>\n",
       "      <td>POLYGON ((-2082034.494 1504548.520, -2081987.6...</td>\n",
       "    </tr>\n",
       "    <tr>\n",
       "      <th>1a6eb30ee33742e18fa6bb26678b5077</th>\n",
       "      <td>Ignition</td>\n",
       "      <td>21234</td>\n",
       "      <td>/home/jovyan/farsite/inputs/maria_ignite/maria...</td>\n",
       "      <td>2019-10-31 20:31:33</td>\n",
       "      <td>Maria2019</td>\n",
       "      <td>POLYGON ((-2082034.494 1504548.520, -2081987.6...</td>\n",
       "    </tr>\n",
       "    <tr>\n",
       "      <th>911f9b001c054b74a6ba70958f5f3c93</th>\n",
       "      <td>Ignition</td>\n",
       "      <td>21235</td>\n",
       "      <td>/home/jovyan/farsite/inputs/maria_ignite/maria...</td>\n",
       "      <td>2019-10-31 20:56:44</td>\n",
       "      <td>Maria2019</td>\n",
       "      <td>POLYGON ((-2082396.219 1505343.939, -2082305.7...</td>\n",
       "    </tr>\n",
       "    <tr>\n",
       "      <th>7957c2e604554199ba60c5b13aff2f40</th>\n",
       "      <td>Ignition</td>\n",
       "      <td>21236</td>\n",
       "      <td>/home/jovyan/farsite/inputs/maria_ignite/maria...</td>\n",
       "      <td>2019-10-31 21:22:55</td>\n",
       "      <td>Maria2019</td>\n",
       "      <td>POLYGON ((-2082598.331 1505371.327, -2082338.5...</td>\n",
       "    </tr>\n",
       "    <tr>\n",
       "      <th>714f0cf8d475462a97c651642a3d2525</th>\n",
       "      <td>Ignition</td>\n",
       "      <td>21237</td>\n",
       "      <td>/home/jovyan/farsite/inputs/maria_ignite/maria...</td>\n",
       "      <td>2019-10-31 23:31:00</td>\n",
       "      <td>Maria2019</td>\n",
       "      <td>MULTIPOLYGON (((-2085055.250 1500983.797, -208...</td>\n",
       "    </tr>\n",
       "    <tr>\n",
       "      <th>628d7730c0f149f898695d37a1350882</th>\n",
       "      <td>Ignition</td>\n",
       "      <td>21238</td>\n",
       "      <td>/home/jovyan/farsite/inputs/maria_ignite/maria...</td>\n",
       "      <td>2019-10-31 23:48:00</td>\n",
       "      <td>Maria2019</td>\n",
       "      <td>POLYGON ((-2081520.701 1505276.095, -2081364.6...</td>\n",
       "    </tr>\n",
       "    <tr>\n",
       "      <th>746e4f286cba4af4a89362b548f2c255</th>\n",
       "      <td>Ignition</td>\n",
       "      <td>21239</td>\n",
       "      <td>/home/jovyan/farsite/inputs/maria_ignite/maria...</td>\n",
       "      <td>2019-11-01 00:29:00</td>\n",
       "      <td>Maria2019</td>\n",
       "      <td>POLYGON ((-2081508.646 1505341.661, -2081409.9...</td>\n",
       "    </tr>\n",
       "    <tr>\n",
       "      <th>ec72de65d1934e0ab74ff46ffba1ae1b</th>\n",
       "      <td>Ignition</td>\n",
       "      <td>21240</td>\n",
       "      <td>/home/jovyan/farsite/inputs/maria_ignite/maria...</td>\n",
       "      <td>2019-11-01 00:54:00</td>\n",
       "      <td>Maria2019</td>\n",
       "      <td>POLYGON ((-2081447.957 1505469.815, -2081376.9...</td>\n",
       "    </tr>\n",
       "    <tr>\n",
       "      <th>15dc4b77768f4921be77c65ae9a6b9d4</th>\n",
       "      <td>Ignition</td>\n",
       "      <td>21241</td>\n",
       "      <td>/home/jovyan/farsite/inputs/maria_ignite/maria...</td>\n",
       "      <td>2019-11-01 01:12:00</td>\n",
       "      <td>Maria2019</td>\n",
       "      <td>POLYGON ((-2081447.957 1505469.815, -2081376.9...</td>\n",
       "    </tr>\n",
       "    <tr>\n",
       "      <th>db87bccf2de3464ea09ffbe2c1fe1611</th>\n",
       "      <td>Ignition</td>\n",
       "      <td>21242</td>\n",
       "      <td>/home/jovyan/farsite/inputs/maria_ignite/maria...</td>\n",
       "      <td>2019-11-01 01:25:00</td>\n",
       "      <td>Maria2019</td>\n",
       "      <td>POLYGON ((-2081352.332 1505575.284, -2081233.6...</td>\n",
       "    </tr>\n",
       "    <tr>\n",
       "      <th>548466fe1b424e62bc8d766234763fa2</th>\n",
       "      <td>Ignition</td>\n",
       "      <td>21243</td>\n",
       "      <td>/home/jovyan/farsite/inputs/maria_ignite/maria...</td>\n",
       "      <td>2019-11-01 01:38:00</td>\n",
       "      <td>Maria2019</td>\n",
       "      <td>POLYGON ((-2081352.332 1505575.284, -2081233.6...</td>\n",
       "    </tr>\n",
       "    <tr>\n",
       "      <th>116dd0ef296445f39a3343b0daa1a084</th>\n",
       "      <td>Ignition</td>\n",
       "      <td>21244</td>\n",
       "      <td>/home/jovyan/farsite/inputs/maria_ignite/maria...</td>\n",
       "      <td>2019-11-01 01:56:00</td>\n",
       "      <td>Maria2019</td>\n",
       "      <td>POLYGON ((-2081352.332 1505575.284, -2081233.6...</td>\n",
       "    </tr>\n",
       "    <tr>\n",
       "      <th>9623320b87894822a5ec1429be08f9bd</th>\n",
       "      <td>Ignition</td>\n",
       "      <td>21245</td>\n",
       "      <td>/home/jovyan/farsite/inputs/maria_ignite/maria...</td>\n",
       "      <td>2019-11-01 02:10:00</td>\n",
       "      <td>Maria2019</td>\n",
       "      <td>POLYGON ((-2081352.332 1505575.284, -2081233.6...</td>\n",
       "    </tr>\n",
       "    <tr>\n",
       "      <th>04983f027cb4496da5a4d1177d28a801</th>\n",
       "      <td>Ignition</td>\n",
       "      <td>21246</td>\n",
       "      <td>/home/jovyan/farsite/inputs/maria_ignite/maria...</td>\n",
       "      <td>2019-11-01 02:24:00</td>\n",
       "      <td>Maria2019</td>\n",
       "      <td>POLYGON ((-2081345.220 1505623.806, -2081233.6...</td>\n",
       "    </tr>\n",
       "    <tr>\n",
       "      <th>57a3d3ce84b2401ea89da919252ede28</th>\n",
       "      <td>Ignition</td>\n",
       "      <td>21247</td>\n",
       "      <td>/home/jovyan/farsite/inputs/maria_ignite/maria...</td>\n",
       "      <td>2019-11-01 02:29:00</td>\n",
       "      <td>Maria2019</td>\n",
       "      <td>POLYGON ((-2081335.836 1505650.273, -2081233.6...</td>\n",
       "    </tr>\n",
       "    <tr>\n",
       "      <th>c9c4975019b947eab1e825ea811e9156</th>\n",
       "      <td>Ignition</td>\n",
       "      <td>21248</td>\n",
       "      <td>/home/jovyan/farsite/inputs/maria_ignite/maria...</td>\n",
       "      <td>2019-11-01 03:05:00</td>\n",
       "      <td>Maria2019</td>\n",
       "      <td>MULTIPOLYGON (((-2088744.530 1504291.102, -208...</td>\n",
       "    </tr>\n",
       "    <tr>\n",
       "      <th>49716755b8444847b9e030fa52481e05</th>\n",
       "      <td>Ignition</td>\n",
       "      <td>21249</td>\n",
       "      <td>/home/jovyan/farsite/inputs/maria_ignite/maria...</td>\n",
       "      <td>2019-11-01 03:15:00</td>\n",
       "      <td>Maria2019</td>\n",
       "      <td>MULTIPOLYGON (((-2088744.530 1504291.102, -208...</td>\n",
       "    </tr>\n",
       "    <tr>\n",
       "      <th>d6b0375e8f54460eac6a82223cc04337</th>\n",
       "      <td>Ignition</td>\n",
       "      <td>21630</td>\n",
       "      <td>/home/jovyan/farsite/inputs/maria_ignite/maria...</td>\n",
       "      <td>2019-11-01 20:20:11</td>\n",
       "      <td>Maria2019</td>\n",
       "      <td>POLYGON ((-2081294.633 1505728.926, -2081233.6...</td>\n",
       "    </tr>\n",
       "    <tr>\n",
       "      <th>81011859d7ab456395abfab9112ee2a3</th>\n",
       "      <td>Ignition</td>\n",
       "      <td>21631</td>\n",
       "      <td>/home/jovyan/farsite/inputs/maria_ignite/maria...</td>\n",
       "      <td>2019-11-01 20:42:22</td>\n",
       "      <td>Maria2019</td>\n",
       "      <td>POLYGON ((-2081294.633 1505728.926, -2081280.7...</td>\n",
       "    </tr>\n",
       "    <tr>\n",
       "      <th>51fdaebe31f44ad69272779a3f01182d</th>\n",
       "      <td>Ignition</td>\n",
       "      <td>None</td>\n",
       "      <td>/home/jovyan/data/20230203/Run_00000/out_Perim...</td>\n",
       "      <td>2019-10-31 20:07:11</td>\n",
       "      <td>Maria2019</td>\n",
       "      <td>POLYGON ((-2084574.000 1504835.000, -2084554.0...</td>\n",
       "    </tr>\n",
       "    <tr>\n",
       "      <th>68b265e5ba78410d9ba23e595c4ebe4d</th>\n",
       "      <td>Ignition</td>\n",
       "      <td>None</td>\n",
       "      <td>/home/jovyan/data/20230203/Run_00001/out_Perim...</td>\n",
       "      <td>2019-10-31 20:37:11</td>\n",
       "      <td>Maria2019</td>\n",
       "      <td>POLYGON ((-2085015.000 1504756.000, -2085025.0...</td>\n",
       "    </tr>\n",
       "    <tr>\n",
       "      <th>aab698d3dcdb40c5a200fa962062eac6</th>\n",
       "      <td>Ignition</td>\n",
       "      <td>None</td>\n",
       "      <td>/home/jovyan/data/20230203/Run_00002/out_Perim...</td>\n",
       "      <td>2019-10-31 21:07:11</td>\n",
       "      <td>Maria2019</td>\n",
       "      <td>POLYGON ((-2085197.000 1504021.000, -2085201.0...</td>\n",
       "    </tr>\n",
       "    <tr>\n",
       "      <th>898b0f9313d44e70bfe3fd53a269981f</th>\n",
       "      <td>Ignition</td>\n",
       "      <td>None</td>\n",
       "      <td>/home/jovyan/data/20230203/Run_00003/out_Perim...</td>\n",
       "      <td>2019-10-31 21:37:11</td>\n",
       "      <td>Maria2019</td>\n",
       "      <td>POLYGON ((-2085149.000 1504474.000, -2085139.0...</td>\n",
       "    </tr>\n",
       "    <tr>\n",
       "      <th>f812b5bd6b9841c7a9d3c049f2ef65d0</th>\n",
       "      <td>Ignition</td>\n",
       "      <td>None</td>\n",
       "      <td>/home/jovyan/data/20230203/Run_00004/out_Perim...</td>\n",
       "      <td>2019-10-31 22:07:11</td>\n",
       "      <td>Maria2019</td>\n",
       "      <td>POLYGON ((-2085749.000 1504157.000, -2085717.0...</td>\n",
       "    </tr>\n",
       "    <tr>\n",
       "      <th>1902f9bb87654d6596616ce39baa5bd4</th>\n",
       "      <td>Ignition</td>\n",
       "      <td>None</td>\n",
       "      <td>/home/jovyan/data/20230203/Run_00005/out_Perim...</td>\n",
       "      <td>2019-10-31 22:37:11</td>\n",
       "      <td>Maria2019</td>\n",
       "      <td>POLYGON ((-2085846.000 1504355.000, -2085870.0...</td>\n",
       "    </tr>\n",
       "    <tr>\n",
       "      <th>8a431825f5ed4c80a5c8bbe6272aae75</th>\n",
       "      <td>Ignition</td>\n",
       "      <td>None</td>\n",
       "      <td>/home/jovyan/data/20230203/Run_00006/out_Perim...</td>\n",
       "      <td>2019-10-31 23:07:11</td>\n",
       "      <td>Maria2019</td>\n",
       "      <td>POLYGON ((-2085917.000 1504477.000, -2085917.0...</td>\n",
       "    </tr>\n",
       "    <tr>\n",
       "      <th>eaf6ac2e01c14ee6a7575004cc255470</th>\n",
       "      <td>Ignition</td>\n",
       "      <td>None</td>\n",
       "      <td>/home/jovyan/data/20230203/Run_00007/out_Perim...</td>\n",
       "      <td>2019-10-31 23:37:11</td>\n",
       "      <td>Maria2019</td>\n",
       "      <td>POLYGON ((-2087673.000 1503303.000, -2087676.0...</td>\n",
       "    </tr>\n",
       "    <tr>\n",
       "      <th>2a2d3f9489a34a5ebe7acb1842be28b9</th>\n",
       "      <td>Ignition</td>\n",
       "      <td>None</td>\n",
       "      <td>/home/jovyan/data/20230203/Run_00008/out_Perim...</td>\n",
       "      <td>2019-11-01 00:07:11</td>\n",
       "      <td>Maria2019</td>\n",
       "      <td>POLYGON ((-2088382.000 1503008.000, -2088380.0...</td>\n",
       "    </tr>\n",
       "    <tr>\n",
       "      <th>a966c3e028054453ae6ae791bdbb2eaa</th>\n",
       "      <td>Ignition</td>\n",
       "      <td>None</td>\n",
       "      <td>/home/jovyan/data/20230203/Run_00009/out_Perim...</td>\n",
       "      <td>2019-11-01 00:37:11</td>\n",
       "      <td>Maria2019</td>\n",
       "      <td>POLYGON ((-2088359.000 1503673.000, -2088332.0...</td>\n",
       "    </tr>\n",
       "    <tr>\n",
       "      <th>4589feb89833462392177adc46d432b2</th>\n",
       "      <td>Ignition</td>\n",
       "      <td>None</td>\n",
       "      <td>/home/jovyan/data/20230203/Run_00010/out_Perim...</td>\n",
       "      <td>2019-11-01 01:07:11</td>\n",
       "      <td>Maria2019</td>\n",
       "      <td>POLYGON ((-2088857.000 1503620.000, -2088822.0...</td>\n",
       "    </tr>\n",
       "    <tr>\n",
       "      <th>b93e051584c54d3183511baf8088fc84</th>\n",
       "      <td>Ignition</td>\n",
       "      <td>None</td>\n",
       "      <td>/home/jovyan/data/20230203/Run_00011/out_Perim...</td>\n",
       "      <td>2019-11-01 01:37:11</td>\n",
       "      <td>Maria2019</td>\n",
       "      <td>POLYGON ((-2088876.000 1504308.000, -2088902.0...</td>\n",
       "    </tr>\n",
       "  </tbody>\n",
       "</table>\n",
       "</div>"
      ],
      "text/plain": [
       "                                  filetype objectid  \\\n",
       "f23196b034474744bdca7df94b13e0f7  Ignition    21231   \n",
       "9f82e870591748a9a8a01346d174f2a1  Ignition    21232   \n",
       "1a6eb30ee33742e18fa6bb26678b5077  Ignition    21234   \n",
       "911f9b001c054b74a6ba70958f5f3c93  Ignition    21235   \n",
       "7957c2e604554199ba60c5b13aff2f40  Ignition    21236   \n",
       "714f0cf8d475462a97c651642a3d2525  Ignition    21237   \n",
       "628d7730c0f149f898695d37a1350882  Ignition    21238   \n",
       "746e4f286cba4af4a89362b548f2c255  Ignition    21239   \n",
       "ec72de65d1934e0ab74ff46ffba1ae1b  Ignition    21240   \n",
       "15dc4b77768f4921be77c65ae9a6b9d4  Ignition    21241   \n",
       "db87bccf2de3464ea09ffbe2c1fe1611  Ignition    21242   \n",
       "548466fe1b424e62bc8d766234763fa2  Ignition    21243   \n",
       "116dd0ef296445f39a3343b0daa1a084  Ignition    21244   \n",
       "9623320b87894822a5ec1429be08f9bd  Ignition    21245   \n",
       "04983f027cb4496da5a4d1177d28a801  Ignition    21246   \n",
       "57a3d3ce84b2401ea89da919252ede28  Ignition    21247   \n",
       "c9c4975019b947eab1e825ea811e9156  Ignition    21248   \n",
       "49716755b8444847b9e030fa52481e05  Ignition    21249   \n",
       "d6b0375e8f54460eac6a82223cc04337  Ignition    21630   \n",
       "81011859d7ab456395abfab9112ee2a3  Ignition    21631   \n",
       "51fdaebe31f44ad69272779a3f01182d  Ignition     None   \n",
       "68b265e5ba78410d9ba23e595c4ebe4d  Ignition     None   \n",
       "aab698d3dcdb40c5a200fa962062eac6  Ignition     None   \n",
       "898b0f9313d44e70bfe3fd53a269981f  Ignition     None   \n",
       "f812b5bd6b9841c7a9d3c049f2ef65d0  Ignition     None   \n",
       "1902f9bb87654d6596616ce39baa5bd4  Ignition     None   \n",
       "8a431825f5ed4c80a5c8bbe6272aae75  Ignition     None   \n",
       "eaf6ac2e01c14ee6a7575004cc255470  Ignition     None   \n",
       "2a2d3f9489a34a5ebe7acb1842be28b9  Ignition     None   \n",
       "a966c3e028054453ae6ae791bdbb2eaa  Ignition     None   \n",
       "4589feb89833462392177adc46d432b2  Ignition     None   \n",
       "b93e051584c54d3183511baf8088fc84  Ignition     None   \n",
       "\n",
       "                                                                           filepath  \\\n",
       "f23196b034474744bdca7df94b13e0f7  /home/jovyan/farsite/inputs/maria_ignite/maria...   \n",
       "9f82e870591748a9a8a01346d174f2a1  /home/jovyan/farsite/inputs/maria_ignite/maria...   \n",
       "1a6eb30ee33742e18fa6bb26678b5077  /home/jovyan/farsite/inputs/maria_ignite/maria...   \n",
       "911f9b001c054b74a6ba70958f5f3c93  /home/jovyan/farsite/inputs/maria_ignite/maria...   \n",
       "7957c2e604554199ba60c5b13aff2f40  /home/jovyan/farsite/inputs/maria_ignite/maria...   \n",
       "714f0cf8d475462a97c651642a3d2525  /home/jovyan/farsite/inputs/maria_ignite/maria...   \n",
       "628d7730c0f149f898695d37a1350882  /home/jovyan/farsite/inputs/maria_ignite/maria...   \n",
       "746e4f286cba4af4a89362b548f2c255  /home/jovyan/farsite/inputs/maria_ignite/maria...   \n",
       "ec72de65d1934e0ab74ff46ffba1ae1b  /home/jovyan/farsite/inputs/maria_ignite/maria...   \n",
       "15dc4b77768f4921be77c65ae9a6b9d4  /home/jovyan/farsite/inputs/maria_ignite/maria...   \n",
       "db87bccf2de3464ea09ffbe2c1fe1611  /home/jovyan/farsite/inputs/maria_ignite/maria...   \n",
       "548466fe1b424e62bc8d766234763fa2  /home/jovyan/farsite/inputs/maria_ignite/maria...   \n",
       "116dd0ef296445f39a3343b0daa1a084  /home/jovyan/farsite/inputs/maria_ignite/maria...   \n",
       "9623320b87894822a5ec1429be08f9bd  /home/jovyan/farsite/inputs/maria_ignite/maria...   \n",
       "04983f027cb4496da5a4d1177d28a801  /home/jovyan/farsite/inputs/maria_ignite/maria...   \n",
       "57a3d3ce84b2401ea89da919252ede28  /home/jovyan/farsite/inputs/maria_ignite/maria...   \n",
       "c9c4975019b947eab1e825ea811e9156  /home/jovyan/farsite/inputs/maria_ignite/maria...   \n",
       "49716755b8444847b9e030fa52481e05  /home/jovyan/farsite/inputs/maria_ignite/maria...   \n",
       "d6b0375e8f54460eac6a82223cc04337  /home/jovyan/farsite/inputs/maria_ignite/maria...   \n",
       "81011859d7ab456395abfab9112ee2a3  /home/jovyan/farsite/inputs/maria_ignite/maria...   \n",
       "51fdaebe31f44ad69272779a3f01182d  /home/jovyan/data/20230203/Run_00000/out_Perim...   \n",
       "68b265e5ba78410d9ba23e595c4ebe4d  /home/jovyan/data/20230203/Run_00001/out_Perim...   \n",
       "aab698d3dcdb40c5a200fa962062eac6  /home/jovyan/data/20230203/Run_00002/out_Perim...   \n",
       "898b0f9313d44e70bfe3fd53a269981f  /home/jovyan/data/20230203/Run_00003/out_Perim...   \n",
       "f812b5bd6b9841c7a9d3c049f2ef65d0  /home/jovyan/data/20230203/Run_00004/out_Perim...   \n",
       "1902f9bb87654d6596616ce39baa5bd4  /home/jovyan/data/20230203/Run_00005/out_Perim...   \n",
       "8a431825f5ed4c80a5c8bbe6272aae75  /home/jovyan/data/20230203/Run_00006/out_Perim...   \n",
       "eaf6ac2e01c14ee6a7575004cc255470  /home/jovyan/data/20230203/Run_00007/out_Perim...   \n",
       "2a2d3f9489a34a5ebe7acb1842be28b9  /home/jovyan/data/20230203/Run_00008/out_Perim...   \n",
       "a966c3e028054453ae6ae791bdbb2eaa  /home/jovyan/data/20230203/Run_00009/out_Perim...   \n",
       "4589feb89833462392177adc46d432b2  /home/jovyan/data/20230203/Run_00010/out_Perim...   \n",
       "b93e051584c54d3183511baf8088fc84  /home/jovyan/data/20230203/Run_00011/out_Perim...   \n",
       "\n",
       "                                             datetime description  \\\n",
       "f23196b034474744bdca7df94b13e0f7  2019-10-31 19:37:11   Maria2019   \n",
       "9f82e870591748a9a8a01346d174f2a1  2019-10-31 19:58:22   Maria2019   \n",
       "1a6eb30ee33742e18fa6bb26678b5077  2019-10-31 20:31:33   Maria2019   \n",
       "911f9b001c054b74a6ba70958f5f3c93  2019-10-31 20:56:44   Maria2019   \n",
       "7957c2e604554199ba60c5b13aff2f40  2019-10-31 21:22:55   Maria2019   \n",
       "714f0cf8d475462a97c651642a3d2525  2019-10-31 23:31:00   Maria2019   \n",
       "628d7730c0f149f898695d37a1350882  2019-10-31 23:48:00   Maria2019   \n",
       "746e4f286cba4af4a89362b548f2c255  2019-11-01 00:29:00   Maria2019   \n",
       "ec72de65d1934e0ab74ff46ffba1ae1b  2019-11-01 00:54:00   Maria2019   \n",
       "15dc4b77768f4921be77c65ae9a6b9d4  2019-11-01 01:12:00   Maria2019   \n",
       "db87bccf2de3464ea09ffbe2c1fe1611  2019-11-01 01:25:00   Maria2019   \n",
       "548466fe1b424e62bc8d766234763fa2  2019-11-01 01:38:00   Maria2019   \n",
       "116dd0ef296445f39a3343b0daa1a084  2019-11-01 01:56:00   Maria2019   \n",
       "9623320b87894822a5ec1429be08f9bd  2019-11-01 02:10:00   Maria2019   \n",
       "04983f027cb4496da5a4d1177d28a801  2019-11-01 02:24:00   Maria2019   \n",
       "57a3d3ce84b2401ea89da919252ede28  2019-11-01 02:29:00   Maria2019   \n",
       "c9c4975019b947eab1e825ea811e9156  2019-11-01 03:05:00   Maria2019   \n",
       "49716755b8444847b9e030fa52481e05  2019-11-01 03:15:00   Maria2019   \n",
       "d6b0375e8f54460eac6a82223cc04337  2019-11-01 20:20:11   Maria2019   \n",
       "81011859d7ab456395abfab9112ee2a3  2019-11-01 20:42:22   Maria2019   \n",
       "51fdaebe31f44ad69272779a3f01182d  2019-10-31 20:07:11   Maria2019   \n",
       "68b265e5ba78410d9ba23e595c4ebe4d  2019-10-31 20:37:11   Maria2019   \n",
       "aab698d3dcdb40c5a200fa962062eac6  2019-10-31 21:07:11   Maria2019   \n",
       "898b0f9313d44e70bfe3fd53a269981f  2019-10-31 21:37:11   Maria2019   \n",
       "f812b5bd6b9841c7a9d3c049f2ef65d0  2019-10-31 22:07:11   Maria2019   \n",
       "1902f9bb87654d6596616ce39baa5bd4  2019-10-31 22:37:11   Maria2019   \n",
       "8a431825f5ed4c80a5c8bbe6272aae75  2019-10-31 23:07:11   Maria2019   \n",
       "eaf6ac2e01c14ee6a7575004cc255470  2019-10-31 23:37:11   Maria2019   \n",
       "2a2d3f9489a34a5ebe7acb1842be28b9  2019-11-01 00:07:11   Maria2019   \n",
       "a966c3e028054453ae6ae791bdbb2eaa  2019-11-01 00:37:11   Maria2019   \n",
       "4589feb89833462392177adc46d432b2  2019-11-01 01:07:11   Maria2019   \n",
       "b93e051584c54d3183511baf8088fc84  2019-11-01 01:37:11   Maria2019   \n",
       "\n",
       "                                                                           geometry  \n",
       "f23196b034474744bdca7df94b13e0f7  POLYGON ((-2084217.148 1503560.461, -2084279.5...  \n",
       "9f82e870591748a9a8a01346d174f2a1  POLYGON ((-2082034.494 1504548.520, -2081987.6...  \n",
       "1a6eb30ee33742e18fa6bb26678b5077  POLYGON ((-2082034.494 1504548.520, -2081987.6...  \n",
       "911f9b001c054b74a6ba70958f5f3c93  POLYGON ((-2082396.219 1505343.939, -2082305.7...  \n",
       "7957c2e604554199ba60c5b13aff2f40  POLYGON ((-2082598.331 1505371.327, -2082338.5...  \n",
       "714f0cf8d475462a97c651642a3d2525  MULTIPOLYGON (((-2085055.250 1500983.797, -208...  \n",
       "628d7730c0f149f898695d37a1350882  POLYGON ((-2081520.701 1505276.095, -2081364.6...  \n",
       "746e4f286cba4af4a89362b548f2c255  POLYGON ((-2081508.646 1505341.661, -2081409.9...  \n",
       "ec72de65d1934e0ab74ff46ffba1ae1b  POLYGON ((-2081447.957 1505469.815, -2081376.9...  \n",
       "15dc4b77768f4921be77c65ae9a6b9d4  POLYGON ((-2081447.957 1505469.815, -2081376.9...  \n",
       "db87bccf2de3464ea09ffbe2c1fe1611  POLYGON ((-2081352.332 1505575.284, -2081233.6...  \n",
       "548466fe1b424e62bc8d766234763fa2  POLYGON ((-2081352.332 1505575.284, -2081233.6...  \n",
       "116dd0ef296445f39a3343b0daa1a084  POLYGON ((-2081352.332 1505575.284, -2081233.6...  \n",
       "9623320b87894822a5ec1429be08f9bd  POLYGON ((-2081352.332 1505575.284, -2081233.6...  \n",
       "04983f027cb4496da5a4d1177d28a801  POLYGON ((-2081345.220 1505623.806, -2081233.6...  \n",
       "57a3d3ce84b2401ea89da919252ede28  POLYGON ((-2081335.836 1505650.273, -2081233.6...  \n",
       "c9c4975019b947eab1e825ea811e9156  MULTIPOLYGON (((-2088744.530 1504291.102, -208...  \n",
       "49716755b8444847b9e030fa52481e05  MULTIPOLYGON (((-2088744.530 1504291.102, -208...  \n",
       "d6b0375e8f54460eac6a82223cc04337  POLYGON ((-2081294.633 1505728.926, -2081233.6...  \n",
       "81011859d7ab456395abfab9112ee2a3  POLYGON ((-2081294.633 1505728.926, -2081280.7...  \n",
       "51fdaebe31f44ad69272779a3f01182d  POLYGON ((-2084574.000 1504835.000, -2084554.0...  \n",
       "68b265e5ba78410d9ba23e595c4ebe4d  POLYGON ((-2085015.000 1504756.000, -2085025.0...  \n",
       "aab698d3dcdb40c5a200fa962062eac6  POLYGON ((-2085197.000 1504021.000, -2085201.0...  \n",
       "898b0f9313d44e70bfe3fd53a269981f  POLYGON ((-2085149.000 1504474.000, -2085139.0...  \n",
       "f812b5bd6b9841c7a9d3c049f2ef65d0  POLYGON ((-2085749.000 1504157.000, -2085717.0...  \n",
       "1902f9bb87654d6596616ce39baa5bd4  POLYGON ((-2085846.000 1504355.000, -2085870.0...  \n",
       "8a431825f5ed4c80a5c8bbe6272aae75  POLYGON ((-2085917.000 1504477.000, -2085917.0...  \n",
       "eaf6ac2e01c14ee6a7575004cc255470  POLYGON ((-2087673.000 1503303.000, -2087676.0...  \n",
       "2a2d3f9489a34a5ebe7acb1842be28b9  POLYGON ((-2088382.000 1503008.000, -2088380.0...  \n",
       "a966c3e028054453ae6ae791bdbb2eaa  POLYGON ((-2088359.000 1503673.000, -2088332.0...  \n",
       "4589feb89833462392177adc46d432b2  POLYGON ((-2088857.000 1503620.000, -2088822.0...  \n",
       "b93e051584c54d3183511baf8088fc84  POLYGON ((-2088876.000 1504308.000, -2088902.0...  "
      ]
     },
     "execution_count": 4,
     "metadata": {},
     "output_type": "execute_result"
    }
   ],
   "source": [
    "usr.db.gdfignition"
   ]
  },
  {
   "cell_type": "code",
   "execution_count": 5,
   "id": "9b8b2724-b39d-4548-8503-ff406bc70d23",
   "metadata": {},
   "outputs": [],
   "source": [
    "referenceidx_lst = [usr.db.gdfignition.index[0]] + usr.db.gdfignition.index[-12:].tolist()"
   ]
  },
  {
   "cell_type": "code",
   "execution_count": 6,
   "id": "12c82488-5539-48f6-ac4b-b060e27939b0",
   "metadata": {},
   "outputs": [],
   "source": [
    "from shapely.geometry import MultiPolygon, Polygon\n",
    "import numpy as np\n",
    "\n",
    "def calculate_max_area_geom(multigeom):\n",
    "    max_area = 0\n",
    "    max_area_idx = 0\n",
    "    for ix, g in enumerate(multigeom.geoms):\n",
    "        if g.area > max_area:\n",
    "            max_area = g.area\n",
    "            max_area_idx = ix\n",
    "    return multigeom.geoms[max_area_idx]\n",
    "    \n",
    "\n",
    "class State:\n",
    "    def __init__(self, geom):\n",
    "        self.geom = geom\n",
    "        \n",
    "        # Initialize\n",
    "        self.vertices = self.calculate_vertices()\n",
    "        self.lengths = self.calculate_lengths()\n",
    "    def calculate_vertices(self):\n",
    "        geom = self.geom\n",
    "        \n",
    "        if isinstance(geom, MultiPolygon):\n",
    "            geompoly = calculate_max_area_geom(geom)\n",
    "        elif isinstance(geom, Polygon):\n",
    "            geompoly = geom\n",
    "\n",
    "        return np.array((geompoly.exterior.coords))\n",
    "    \n",
    "    def calculate_lengths(self):\n",
    "        return np.sqrt((np.diff(self.vertices, axis=0)**2).sum(axis=1))\n",
    "    \n",
    "    def calculate_vector(self):\n",
    "        # Returns column vector of the vertices (x0, y0, x1, y1, ...)\n",
    "        return self.vertices.reshape(len(self.vertices)*2, 1)\n",
    "    \n",
    "    "
   ]
  },
  {
   "cell_type": "code",
   "execution_count": 41,
   "id": "77824d0b-3a36-41bb-ae72-546268cf028e",
   "metadata": {},
   "outputs": [],
   "source": [
    "def sample_geometry(current_state, uncertainties):\n",
    "    \n",
    "    maxlength = current_state.lengths.max()\n",
    "    \n",
    "    sampled_vertices = []\n",
    "    \n",
    "    # Choose a random direction\n",
    "    theta = random.uniform(0,2*np.pi)\n",
    "\n",
    "    for (x,y), sigma in zip(current_state.vertices, uncertainties):\n",
    "        mu=0\n",
    "        # randx = random.gauss(mu, sigma)\n",
    "        # randy = random.gauss(mu, sigma)\n",
    "        \n",
    "        # Choose a normal random radius based on the given sigma\n",
    "        radius = abs(random.gauss(mu, sigma))\n",
    "        \n",
    "        # Calculate x and y distance for the random\n",
    "        randx = radius*np.cos(theta)\n",
    "        randy = radius*np.sin(theta)\n",
    "        \n",
    "        sampled_vertices.append((x+randx, y+randy))\n",
    "\n",
    "    sampled_vertices = np.array(sampled_vertices)\n",
    "    # return Polygon(sampled_vertices).buffer(maxlength, join_style=1).buffer(-maxlength, join_style=1)\n",
    "    return Polygon(sampled_vertices)\n",
    "\n",
    "\n",
    "def interpolate_geometries(geoms, vertex_count = None):\n",
    "    \n",
    "    if vertex_count == None:\n",
    "        vertex_count = 0\n",
    "        for geom in geoms:\n",
    "            if isinstance(geom, MultiPolygon):\n",
    "                geom = calculate_max_area_geom(geom)\n",
    "\n",
    "            if vertex_count < len(geom.exterior.coords):\n",
    "                vertex_count = len(geom.exterior.coords)\n",
    "\n",
    "    interpolated_vertices = []\n",
    "    for geom in geoms:\n",
    "        if isinstance(geom, MultiPolygon):\n",
    "            geom = calculate_max_area_geom(geom)\n",
    "        \n",
    "        geom_state = State(geom)\n",
    "        vertices = np.array(interpolate_perimeter(geom_state.calculate_vertices(), vertex_count))\n",
    "\n",
    "        interpolated_vertices.append(vertices)\n",
    "        \n",
    "    return interpolated_vertices\n",
    "\n",
    "\n",
    "def align_vertices(interpolated_vertices):\n",
    "\n",
    "    time_estimator = TimeEstimator(len(interpolated_vertices)-1)\n",
    "\n",
    "    minroll_lst = []\n",
    "    \n",
    "    aligned_vertices = [interpolated_vertices[0]]\n",
    "    for i in range(len(interpolated_vertices)-1):\n",
    "        print(time_estimator.info_str(i), end='\\r', flush=True)\n",
    "\n",
    "        right_vertices = interpolated_vertices[i+1]\n",
    "\n",
    "\n",
    "        # Cycle right_vertices\n",
    "        l2perroll = []\n",
    "        for roll in range(len(interpolated_vertices)-1):\n",
    "            diff = aligned_vertices[0] - right_vertices\n",
    "            diff2sum = (diff[:,0]**2 + diff[:,1]**2).sum()\n",
    "\n",
    "            # Calculate diff^2 in\n",
    "            l2perroll.append(diff2sum)\n",
    "\n",
    "            right_vertices = np.roll(right_vertices,1, axis=0)\n",
    "\n",
    "        minroll_lst.append(np.argmin(l2perroll))\n",
    "\n",
    "    for i in range(len(interpolated_vertices)-1):\n",
    "        aligned_vertices.append(np.roll(interpolated_vertices[i+1], minroll_lst[i], axis=0))\n",
    "    \n",
    "    return aligned_vertices\n",
    "## Check reverse direction too?\n",
    "\n",
    "def create_ensembles(nsamples, current_state, windspeed, winddirection, normalized_scale, filetype, objectid, datetime, description):\n",
    "                     \n",
    "    # uncertainty in both x and y for each vertex\n",
    "    # uncertainties = calculate_uncertainties_observed(current_state.vertices, windspeed, winddirection, scale=windspeed*normalized_scale)*np.sqrt(current_state.lengths.sum())\n",
    "    uncertainties = calculate_uncertainties_observed(current_state.vertices, windspeed, winddirection, scale=1)\n",
    "\n",
    "    ignitions = {'igniteidx': [], \n",
    "                 'filetype': [],\n",
    "                 'objectid': [],\n",
    "                 'filepath': [],\n",
    "                 'datetime': [],\n",
    "                 'description': [],\n",
    "                 'geometry': []}\n",
    "\n",
    "    time_estimator = TimeEstimator(nsamples)\n",
    "    for sample in range(nsamples):\n",
    "        print(time_estimator.info_str(sample), end='\\r', flush=True)\n",
    "        \n",
    "        igniteidx = uuid.uuid4().hex\n",
    "        ignitions['igniteidx'].append(igniteidx)\n",
    "        ignitions['filetype'].append(filetype)\n",
    "        ignitions['objectid'].append(f'{objectid}E{sample:04d}')\n",
    "\n",
    "        geometry = sample_geometry(current_state, uncertainties)\n",
    "        if isinstance(geometry, MultiPolygon):\n",
    "            geometry = calculate_max_area_geom(geometry)\n",
    "\n",
    "        ignitions['geometry'].append(geometry)\n",
    "\n",
    "        ignitions['filepath'].append(f'{usr.db.fp.datadir}ignitions/{selected_fire}E{igniteidx}.shp')\n",
    "        gpd.GeoDataFrame({'FID': [0], 'geometry': ignitions['geometry'][-1]}, \n",
    "                         crs='EPSG:5070').to_file(ignitions['filepath'][-1])\n",
    "\n",
    "        ignitions['datetime'].append(datetime)\n",
    "        ignitions['description'].append(description)\n",
    "        \n",
    "    return ignitions\n",
    "\n",
    "\n",
    "def create_ensemble_matrix(geoms, vertex_count=100, aligned_geom=None):\n",
    "\n",
    "    interpolated_vertices = interpolate_geometries(geoms, vertex_count=vertex_count)\n",
    "    # Add first list of vertices from the state vector to align. align_vertices aligns all the perimeters w.r.t the first array\n",
    "    if aligned_geom is not None:\n",
    "        interpolated_vertices = [aligned_geom] + interpolated_vertices\n",
    "\n",
    "    aligned_vertices = align_vertices(interpolated_vertices)\n",
    "    if aligned_geom is not None:\n",
    "        aligned_vertices = aligned_vertices[1:]\n",
    "    else:\n",
    "        aligned_geom = aligned_vertices[0]\n",
    "    \n",
    "    if vertex_count is None:\n",
    "        vertex_count = aligned_vertices[0].shape[0]\n",
    "    \n",
    "    X = np.zeros((vertex_count*2, nsamples))\n",
    "    for i, vertices in enumerate(aligned_vertices):\n",
    "        X[:,i] = vertices.flatten()\n",
    "        \n",
    "    return X, aligned_geom, vertex_count\n",
    "\n",
    "\n",
    "def state_to_ignitions(X_0, objectid_lst, datetime_lst, description_lst, filetype_lst, usr):\n",
    "\n",
    "    geoms = [Polygon(zip(X_0[::2,i], X_0[1::2,i])).buffer(0) for i in range(X_0.shape[1])]\n",
    "\n",
    "    ignitions = {'igniteidx': [],\n",
    "                 'filetype': [],\n",
    "                 'objectid': [],\n",
    "                 'filepath': [],\n",
    "                 'geometry': [],\n",
    "                 'datetime': [],\n",
    "                 'description': []}\n",
    "\n",
    "    for sample, geometry in enumerate(geoms):\n",
    "        filetype = filetype_lst[sample]\n",
    "        datetime = datetime_lst[sample]\n",
    "        description = description_lst[sample]\n",
    "        objectid = objectid_lst[sample]\n",
    "        \n",
    "        igniteidx = uuid.uuid4().hex\n",
    "        ignitions['igniteidx'].append(igniteidx)\n",
    "        ignitions['filetype'].append(filetype)\n",
    "        ignitions['objectid'].append(f'{objectid}U{sample:04d}')\n",
    "\n",
    "        if isinstance(geometry, MultiPolygon):\n",
    "            geometry = calculate_max_area_geom(geometry)\n",
    "\n",
    "        ignitions['geometry'].append(geometry)\n",
    "\n",
    "        ignitions['filepath'].append(f'{usr.db.fp.datadir}ignitions/{description}U{sample:04d}_{igniteidx}.shp')\n",
    "        gpd.GeoDataFrame({'FID': [0], 'geometry': ignitions['geometry'][-1]}, \n",
    "                         crs='EPSG:5070').to_file(ignitions['filepath'][-1])\n",
    "\n",
    "        ignitions['datetime'].append(datetime)\n",
    "        ignitions['description'].append(description)\n",
    "    \n",
    "    return ignitions"
   ]
  },
  {
   "cell_type": "markdown",
   "id": "5d3f538e-2e16-4561-baab-2d18133bc96b",
   "metadata": {},
   "source": [
    "### Plotting functions"
   ]
  },
  {
   "cell_type": "code",
   "execution_count": 42,
   "id": "31a0ee5d-c9bd-42da-ba45-6ed47237b2dc",
   "metadata": {},
   "outputs": [],
   "source": [
    "def compare_perimeters(alst, colors='rgbcmyk', showvertex = 0):\n",
    "    fig, ax = plt.subplots(1,1, figsize=(4,2), dpi=200)\n",
    "    \n",
    "    for a,c in zip(alst, colors):\n",
    "        if c == 'r':\n",
    "            ax.plot(a[::2], a[1::2], c+'o', markersize=1)\n",
    "        else:\n",
    "            ax.plot(a[::2], a[1::2], c)\n",
    "            \n",
    "        ax.scatter(a[2*showvertex], a[2*showvertex + 1], facecolor=(0,0,0,0.2), edgecolor=(0,0,0,0.9))\n",
    "        \n",
    "    ax.set_ylim(1.502e6, 1.506e6)\n",
    "    ax.set_xlim(-2.087e6, -2.081e6)\n",
    "    \n",
    "def compare_matrices(X, colors='rgbcmy', showvertex = 0, ax=None):\n",
    "    \n",
    "    if ax is None:\n",
    "        fig, ax = plt.subplots(1,1, figsize=(4,2), dpi=200)\n",
    "    \n",
    "    for i in range(X.shape[1]):\n",
    "        c = colors[i%len(colors)]\n",
    "        ax.plot(X[::2,i], X[1::2,i], c)\n",
    "        ax.scatter(X[2*showvertex,i], X[2*showvertex+1,i], facecolor=(0,0,0,0.2), edgecolor=(0,0,0,0.9))\n",
    "        \n",
    "    # ax.set_ylim(1.502e6, 1.506e6)\n",
    "    # ax.set_xlim(-2.087e6, -2.081e6)\n",
    "    \n",
    "    return ax\n",
    "\n",
    "def plot_geometry(geom, ax, **kwargs):\n",
    "    if isinstance(geom, MultiPolygon):\n",
    "        for g in geom.geoms:\n",
    "            x,y = g.exterior.coords.xy\n",
    "            ax.plot(x,y, **kwargs)\n",
    "    else:\n",
    "        x,y = geom.exterior.coords.xy\n",
    "        ax.plot(x,y, **kwargs)\n",
    "        \n",
    "def plot_matrix(X, ax, show_stdev = False, **kwargs):\n",
    "    vcounts = X.shape[0]//2\n",
    "    \n",
    "    color = (1,0,0,0.9)\n",
    "    if 'color' in kwargs:\n",
    "        color = kwargs['color']\n",
    "        \n",
    "    X_std = np.std(X, axis=1)\n",
    "    X_mean = np.mean(X, axis=1)\n",
    "\n",
    "    # Calculate standard deviation of the generated coordinates\n",
    "    x0, y0 = X_mean[::2], X_mean[1::2]\n",
    "    radstd = np.zeros_like(x0)\n",
    "    \n",
    "    for vix in range(vcounts):\n",
    "        x,y = X[2*vix,:], X[2*vix+1,:]\n",
    "        radius = np.sqrt((x-x0[vix])**2 +(y-y0[vix])**2)\n",
    "        radstd[vix] = np.std(radius)\n",
    "    \n",
    "    ax.plot(X_mean[::2], X_mean[1::2], color=color)\n",
    "    \n",
    "    if show_stdev:\n",
    "        for vix in range(vcounts):\n",
    "            circle = plt.Circle((x0[vix], y0[vix]), radius=radstd[vix], fill=False, edgecolor=(0,0,0,0.4), lw=0.3)\n",
    "            ax.add_artist(circle)"
   ]
  },
  {
   "cell_type": "code",
   "execution_count": 43,
   "id": "75b602a3-a491-4c35-8975-6e38df5648c7",
   "metadata": {},
   "outputs": [],
   "source": [
    "class EnKF:\n",
    "    # Initialize with the first observation\n",
    "    # Windspeed and direction is given from PyLaski\n",
    "    def __init__(self, observation: gpd.GeoSeries, windspeed: int, winddirection: int, normalized_scale: float, nsamples: int, usr: futils.User):\n",
    "        state_geom = gpd.read_file(observation['filepath'])['geometry'].set_crs(epsg=5070).iloc[0]\n",
    "        \n",
    "        \n",
    "        self.state_datetime = observation['datetime']\n",
    "        self.selected_fire = observation['description']\n",
    "        self.igniteidx = observation.name\n",
    "        self.current_state = State(state_geom)\n",
    "        \n",
    "        \n",
    "        self.windspeed = windspeed\n",
    "        self.winddirection = winddirection\n",
    "        self.normalized_scale = normalized_scale\n",
    "        self.nsamples = nsamples\n",
    "        self.usr = usr\n",
    "\n",
    "        self.ignitions = create_ensembles(self.nsamples, self.current_state, self.windspeed, self.winddirection, self.normalized_scale,\n",
    "                                     observation['filetype'], observation['objectid'],\n",
    "                                     observation['datetime'], observation['description'])\n",
    "        \n",
    "        self.usr.db.gdfignition = self.usr.db.gdfignition.append(gpd.GeoDataFrame(self.ignitions).set_index('igniteidx').set_crs(epsg=5070))\n",
    "        \n",
    "        # Create ensemble matrix\n",
    "        self.X_0, self.aligned_geom, self.vertex_count = create_ensemble_matrix(self.ignitions['geometry'])\n",
    "        \n",
    "    # Updates the state matrix\n",
    "    # Need to first add the observation into the database (usr.db for now)\n",
    "    def update(self, compareidx: str, lcpidx: str, barrieridx: str, observation: gpd.GeoSeries, windspeed: int, winddirection: int):\n",
    "        # Advance the state in Farsite using the windspeed and direction\n",
    "        inputData_lst = []\n",
    "        mainapi_lst = []\n",
    "        for igniteidx in self.ignitions['igniteidx']:\n",
    "            inputData = {'description': self.selected_fire,\n",
    "                         'igniteidx'  : igniteidx,\n",
    "                         'compareidx' : compareidx,\n",
    "                         'lcpidx'     : lcpidx,\n",
    "                         'barrieridx' : barrieridx,\n",
    "\n",
    "                         'windspeed': windspeed, 'winddirection': winddirection,\n",
    "                         'relhumid': 90, 'temperature': 20}\n",
    "\n",
    "            mainapi_lst.append(self.usr.calculatePerimeters(inputData))\n",
    "            \n",
    "\n",
    "        # from multiprocessing import Pool\n",
    "\n",
    "        # numproc = 4\n",
    "        # pool = Pool(processes=numproc)\n",
    "\n",
    "        # Run for each FarsiteManual\n",
    "        for mainapi in mainapi_lst:\n",
    "            # pool.apply_async(farsite.run_command, callback=farsite.updatedb)\n",
    "            mainapi.run_farsite()\n",
    "\n",
    "        # pool.close()\n",
    "        # pool.join()\n",
    "        \n",
    "        # Filter igniteidx->compareidx simulations only\n",
    "        df = self.usr.db.gdfsimulation\n",
    "        filtered_indices = df[df['igniteidx'].isin(self.ignitions['igniteidx']) & (df['compareidx'] == compareidx)].index\n",
    "        \n",
    "        self.Xt_1, self.aligned_geom, self.vertex_count = create_ensemble_matrix(df.loc[filtered_indices, 'geometry'], \n",
    "                                                                                 self.vertex_count, self.aligned_geom)\n",
    "        \n",
    "        \n",
    "        \n",
    "        # Calculate ensemble for the observation\n",
    "        state_geom = gpd.read_file(observation['filepath'])['geometry'].set_crs(epsg=5070).iloc[0]\n",
    "        # igniteidx = observation.name\n",
    "        state_datetime = observation['datetime']\n",
    "\n",
    "        self.observed_state = State(state_geom)\n",
    "\n",
    "        self.observed_ensemble = create_ensembles(self.nsamples, self.observed_state, windspeed, winddirection, self.normalized_scale,\n",
    "                                     observation['filetype'], observation['objectid'],\n",
    "                                     observation['datetime'], observation['description'])\n",
    "\n",
    "        self.Y_1, self.aligned_geom, self.vertex_count = create_ensemble_matrix(self.observed_ensemble['geometry'], self.vertex_count, self.aligned_geom)\n",
    "        \n",
    "        ##############################\n",
    "        # Calculate the Kalman Filter\n",
    "        ###############################\n",
    "        self.Xt_1 = remove_duplicates(self.Xt_1, self.vertex_count)\n",
    "        self.Y_1 = remove_duplicates(self.Y_1, self.vertex_count)\n",
    "\n",
    "        xt_1 = self.Xt_1.mean(axis=1, keepdims=True)\n",
    "        y_1 = self.Y_1.mean(axis=1, keepdims=True)\n",
    "\n",
    "        Ex_1 = self.Xt_1 - xt_1.repeat(self.nsamples, axis=1)\n",
    "        Ey_1 = self.Y_1 - y_1.repeat(self.nsamples, axis=1)\n",
    "\n",
    "        Py_1 = 1/(nsamples-1)*np.matmul(Ey_1, Ey_1.T)\n",
    "        Pxy_1 = 1/(nsamples-1)*np.matmul(Ex_1, Ey_1.T)\n",
    "\n",
    "        max_Py = abs(Py_1).max()\n",
    "        max_Pxy = abs(Pxy_1).max()\n",
    "\n",
    "        Py_1 /= max_Py\n",
    "        Pxy_1 /= max_Pxy\n",
    "\n",
    "        Py_1inv = np.linalg.pinv(Py_1, hermitian=True)\n",
    "            \n",
    "        assert(np.allclose(np.matmul(Py_1inv, Py_1), np.eye(2*state.vertex_count))), 'Inverse calculation is incorrect'\n",
    "\n",
    "        self.K = np.matmul(Pxy_1, Py_1inv)*(max_Pxy/max_Py)\n",
    "\n",
    "        #### Update the state ensemble\n",
    "        self.X_1 = state.Xt_1 + np.matmul(self.K, (self.Y_1 - self.Xt_1))        \n",
    "        ####################\n",
    "        # Recursive updates\n",
    "        ##################\n",
    "        \n",
    "        # Update ignitions\n",
    "        self.X_0 = self.X_1\n",
    "        self.ignitions = state_to_ignitions(self.X_0, self.observed_ensemble['objectid'], self.observed_ensemble['datetime'], \n",
    "                           self.observed_ensemble['description'], self.observed_ensemble['filetype'], self.usr)\n",
    "        \n",
    "        self.current_state = self.observed_state\n",
    "        \n",
    "        self.usr.db.gdfignition = pd.concat([self.usr.db.gdfignition, gpd.GeoDataFrame(self.ignitions, geometry='geometry', crs='EPSG:5070').set_index('igniteidx')])\n",
    "        \n",
    "        # x_1 = X_1.mean(axis=1, keepdims=True)\n",
    "        \n",
    "# ## obtain the igniteidx of the ignition\n",
    "# ## The indices will be passed from the interface, which will include corresponding datetime, filepath etc.\n",
    "# compareidx = '9f82e870591748a9a8a01346d174f2a1'    # t=1 observation\n",
    "# lcpidx = '43b7f5db36994599861eec4849cc68fd'        # Index for Maria2019\n",
    "# barrieridx = 'cb47616cd2dc4ccc8fd523bd3a5064bb'    # NoBarrier shapefile index        "
   ]
  },
  {
   "cell_type": "code",
   "execution_count": 44,
   "id": "420243c5-5c30-4cb0-9deb-696df19bf38d",
   "metadata": {},
   "outputs": [],
   "source": [
    "def calculate_model(igniteidx_lst, compareidx, lcpidx, barrieridx, windspeed, winddirection, usr_model):\n",
    "    inputData = {'description': 'Maria2019',\n",
    "                 'igniteidx'  : igniteidx_lst[-1],\n",
    "                 'compareidx' : compareidx,\n",
    "                 'lcpidx'     : lcpidx,\n",
    "                 'barrieridx' : barrieridx,\n",
    "\n",
    "                 'windspeed': windspeed, 'winddirection': winddirection,\n",
    "                 'relhumid': 90, 'temperature': 20}\n",
    "\n",
    "    mainapi = usr_model.calculatePerimeters(inputData)\n",
    "    mainapi.run_farsite()\n",
    "\n",
    "    gdfsim = usr_model.db.gdfsimulation.iloc[-1]\n",
    "    gdfsim_geom = gdfsim['geometry']\n",
    "    if isinstance(gdfsim_geom, MultiPolygon):\n",
    "        gdfsim_geom = calculate_max_area_geom(gdfsim_geom)\n",
    "    \n",
    "    usr_model.db.gdfignition = pd.concat([usr_model.db.gdfignition, gpd.GeoDataFrame({'filetype': 'Ignition',\n",
    "                                                                                      'objectid': str(usr_model.db.gdfignition.loc[gdfsim['igniteidx']]['objectid']) + '_farsite',\n",
    "                                                                                      'filepath': gdfsim['filepath'],\n",
    "                                                                                      'datetime': gdfsim['datetime'],\n",
    "                                                                                      'description': gdfsim['description'],\n",
    "                                                                                      'geometry': gdfsim_geom}, index=[gdfsim.name])\n",
    "                                         ])\n",
    "    igniteidx_lst.append(gdfsim.name)\n",
    "    gpd.GeoDataFrame({'FID': [0], 'geometry':gdfsim_geom}, \n",
    "                     crs='EPSG:5070').to_file(gdfsim['filepath'])"
   ]
  },
  {
   "cell_type": "code",
   "execution_count": 45,
   "id": "e12b23a4-96b9-4bfd-80c2-ee513b3078f5",
   "metadata": {
    "tags": []
   },
   "outputs": [],
   "source": [
    "def test_duplicates(arr):\n",
    "    tst = []\n",
    "    for rix in range(arr.shape[0]):\n",
    "        for rjx in range(rix+1, arr.shape[0]):\n",
    "            tst.append(arr[rix,:] - arr[rjx,:])\n",
    "\n",
    "    tst = np.array(tst)\n",
    "    tstsum = tst.sum(axis=1)\n",
    "    zeroix = np.where(np.abs(tstsum) == 0)[0]\n",
    "\n",
    "    i = 0\n",
    "    rixlst = []\n",
    "    rjxlst = []\n",
    "    for rix in range(arr.shape[0]):\n",
    "        for rjx in range(rix+1, arr.shape[0]):            \n",
    "            if i in zeroix:\n",
    "                print(f'{i} found at pair {rix}, {rjx}')\n",
    "            i += 1\n",
    "\n",
    "def remove_duplicates(arr, dnumber):\n",
    "    tst = []\n",
    "    for rix in range(arr.shape[0]):\n",
    "        for rjx in range(rix+1, arr.shape[0]):\n",
    "            tst.append(arr[rix,:] - arr[rjx,:])\n",
    "\n",
    "    tst = np.array(tst)\n",
    "    tstsum = tst.sum(axis=1)\n",
    "    zeroix = np.where(np.abs(tstsum) == 0)[0]\n",
    "\n",
    "    i = 0\n",
    "    rixlst = []\n",
    "    rjxlst = []\n",
    "    for rix in range(arr.shape[0]):\n",
    "        for rjx in range(rix+1, arr.shape[0]):            \n",
    "            if i in zeroix:\n",
    "                # print(f'{i} found at pair {rix}, {rjx}')\n",
    "                rixlst.append(rix)\n",
    "                rjxlst.append(rjx)\n",
    "            i += 1\n",
    "\n",
    "    arrnew = np.zeros_like(arr)\n",
    "    arr = np.delete(arr, rixlst, axis=0)\n",
    "\n",
    "    for j in range(arr.shape[1]):\n",
    "        vertices = list(zip(arr[::2,j], arr[1::2,j]))\n",
    "        vertices_interpolated = interpolate_perimeter(vertices, dnumber)\n",
    "\n",
    "        arrnew[:,j] = np.array(vertices_interpolated).flatten()\n",
    "\n",
    "    return arrnew"
   ]
  },
  {
   "cell_type": "code",
   "execution_count": 46,
   "id": "fdbdc110-72d4-4274-9dd2-7e8f37b6b89a",
   "metadata": {},
   "outputs": [
    {
     "name": "stdout",
     "output_type": "stream",
     "text": [
      "Calculating 11/249 ( 4.42%) - Remaining - 0:0:2...     \r"
     ]
    },
    {
     "name": "stderr",
     "output_type": "stream",
     "text": [
      "/tmp/ipykernel_21736/2023211189.py:24: FutureWarning: The frame.append method is deprecated and will be removed from pandas in a future version. Use pandas.concat instead.\n",
      "  self.usr.db.gdfignition = self.usr.db.gdfignition.append(gpd.GeoDataFrame(self.ignitions).set_index('igniteidx').set_crs(epsg=5070))\n"
     ]
    },
    {
     "name": "stdout",
     "output_type": "stream",
     "text": [
      "Database interaction not yet implemented. Use pickle file for dataframes instead!\n"
     ]
    }
   ],
   "source": [
    "# Initial params\n",
    "\n",
    "initial = usr.db.gdfignition.iloc[0]\n",
    "windspeed = 10   # Calculations are made with windspeed = 10, winddirection = 90\n",
    "winddirection = 60\n",
    "nsamples = 250\n",
    "normalized_scale = 2\n",
    "\n",
    "state = EnKF(initial, windspeed, winddirection, normalized_scale, nsamples, usr)\n",
    "X_0_lst = [state.X_0]\n",
    "\n",
    "usr_model = futils.User(fp)\n",
    "# igniteidx_lst = ['f23196b034474744bdca7df94b13e0f7']\n",
    "igniteidx_lst = [referenceidx_lst[0]]"
   ]
  },
  {
   "cell_type": "code",
   "execution_count": 47,
   "id": "b2e9c42a-a82c-4443-b011-5dd96885a8ba",
   "metadata": {},
   "outputs": [
    {
     "data": {
      "image/png": "[encoded data removed]",
      "text/plain": [
       "<Figure size 800x800 with 1 Axes>"
      ]
     },
     "metadata": {},
     "output_type": "display_data"
    }
   ],
   "source": [
    "fig, ax = plt.subplots(1,1, figsize=(4,4), dpi=200)\n",
    "plot_matrix(X_0_lst[0], ax=ax, color='red', show_stdev=True)\n",
    "ax.set_aspect('equal')"
   ]
  },
  {
   "cell_type": "markdown",
   "id": "6dc7f936-1282-42b0-984a-a31ab7646409",
   "metadata": {},
   "source": [
    "### Testing EnKF update function"
   ]
  },
  {
   "cell_type": "code",
   "execution_count": 75,
   "id": "3f9e5bbb-177f-4523-81f8-f02f9a608705",
   "metadata": {
    "tags": []
   },
   "outputs": [
    {
     "name": "stdout",
     "output_type": "stream",
     "text": [
      "CPU times: user 13.2 s, sys: 35.2 s, total: 48.4 s.   \n",
      "Wall time: 12.2 s\n"
     ]
    }
   ],
   "source": [
    "%%time\n",
    "\n",
    "N = 100\n",
    "sigma = 50\n",
    "\n",
    "srange = np.arange(10,1001, 10)\n",
    "detlst = []\n",
    "\n",
    "time_estimator = TimeEstimator(len(srange))\n",
    "for i, s in enumerate(srange):\n",
    "    print(time_estimator.info_str(i), end='\\r', flush=True)\n",
    "    \n",
    "    mat = np.random.randn(N,s)*50\n",
    "    P_mat = np.matmul(mat, mat.T)/(nsamples-1)\n",
    "    P_mat = P_mat/P_mat.max()\n",
    "    \n",
    "    detlst.append(np.linalg.det(P_mat))\n",
    "# P_mat"
   ]
  },
  {
   "cell_type": "code",
   "execution_count": 76,
   "id": "aa2c9f1b-53bd-4f7a-be91-0ef3d7fa2c05",
   "metadata": {
    "tags": []
   },
   "outputs": [
    {
     "name": "stderr",
     "output_type": "stream",
     "text": [
      "/tmp/ipykernel_21736/2590402957.py:9: UserWarning: FixedFormatter should only be used together with FixedLocator\n",
      "  ax2.set_yticklabels(ax2.get_yticklabels(), color='red')\n"
     ]
    },
    {
     "data": {
      "text/plain": [
       "[Text(1, 1e-60, '$\\\\mathdefault{10^{-60}}$'),\n",
       " Text(1, 1e-50, '$\\\\mathdefault{10^{-50}}$'),\n",
       " Text(1, 1e-40, '$\\\\mathdefault{10^{-40}}$'),\n",
       " Text(1, 1e-30, '$\\\\mathdefault{10^{-30}}$'),\n",
       " Text(1, 1e-20, '$\\\\mathdefault{10^{-20}}$'),\n",
       " Text(1, 1e-10, '$\\\\mathdefault{10^{-10}}$'),\n",
       " Text(1, 1.0, '$\\\\mathdefault{10^{0}}$'),\n",
       " Text(1, 10000000000.0, '$\\\\mathdefault{10^{10}}$')]"
      ]
     },
     "execution_count": 76,
     "metadata": {},
     "output_type": "execute_result"
    },
    {
     "data": {
      "image/png": "[encoded data removed]",
      "text/plain": [
       "<Figure size 600x400 with 2 Axes>"
      ]
     },
     "metadata": {},
     "output_type": "display_data"
    }
   ],
   "source": [
    "fig, ax = plt.subplots(1,1, figsize=(3,2), dpi=200)\n",
    "ax.plot(srange, detlst, 'k')\n",
    "ax.set_ylim(0, 2e-6)\n",
    "\n",
    "ax2 = ax.twinx()\n",
    "\n",
    "ax2.semilogy(srange, detlst, 'r')\n",
    "ax2.set_ylim(1e-50, 1e-5)\n",
    "ax2.set_yticklabels(ax2.get_yticklabels(), color='red')"
   ]
  },
  {
   "cell_type": "code",
   "execution_count": 26,
   "id": "74876d04-45a8-4760-967e-ceea1440ab27",
   "metadata": {
    "tags": []
   },
   "outputs": [
    {
     "data": {
      "text/plain": [
       "array([[ 1.00000000e+00,  5.66828181e-14,  2.23043574e-12, ...,\n",
       "        -6.71352211e-13, -6.38096944e-13, -2.21855128e-12],\n",
       "       [ 3.46372560e-15,  1.00000000e+00,  9.70861787e-13, ...,\n",
       "         4.71694100e-13, -1.54681854e-13, -8.73021085e-13],\n",
       "       [-1.04715173e-13, -7.60085386e-13,  1.00000000e+00, ...,\n",
       "         1.28508622e-13,  2.87958367e-13,  3.56037637e-13],\n",
       "       ...,\n",
       "       [-3.06427363e-13, -1.37991555e-12, -3.63640244e-13, ...,\n",
       "         1.00000000e+00,  4.08736944e-13,  4.85147354e-13],\n",
       "       [-5.37704883e-14, -2.85787727e-13,  6.26027730e-14, ...,\n",
       "         1.14573126e-13,  1.00000000e+00, -2.89120428e-14],\n",
       "       [ 5.68434189e-13,  7.67386155e-13,  1.08002496e-12, ...,\n",
       "        -3.12258405e-13, -3.08652749e-14,  1.00000000e+00]])"
      ]
     },
     "execution_count": 26,
     "metadata": {},
     "output_type": "execute_result"
    }
   ],
   "source": [
    "np.matmul(np.linalg.pinv(P_mat, hermitian=True), P_mat)"
   ]
  },
  {
   "cell_type": "markdown",
   "id": "ca79278e-ce7c-4103-9c4c-0a44bca20834",
   "metadata": {},
   "source": [
    "### Test EnKF is done"
   ]
  },
  {
   "cell_type": "code",
   "execution_count": null,
   "id": "75f48202-4942-43f2-b18f-1eb72fa7d118",
   "metadata": {},
   "outputs": [],
   "source": []
  },
  {
   "cell_type": "code",
   "execution_count": null,
   "id": "e43c6379-43e6-4cbb-b9a8-72e7b58c7913",
   "metadata": {},
   "outputs": [],
   "source": []
  },
  {
   "cell_type": "code",
   "execution_count": null,
   "id": "4033c893-64c2-48ab-a8b1-da7d41888b31",
   "metadata": {},
   "outputs": [],
   "source": []
  },
  {
   "cell_type": "code",
   "execution_count": 48,
   "id": "da16fec2-6b48-4f50-a44b-85863cb096f3",
   "metadata": {
    "scrolled": true,
    "tags": []
   },
   "outputs": [
    {
     "name": "stdout",
     "output_type": "stream",
     "text": [
      "{'description': 'Maria2019', 'igniteidx': '967cdd65b41446f3a40877e130b52434', 'compareidx': '51fdaebe31f44ad69272779a3f01182d', 'lcpidx': '43b7f5db36994599861eec4849cc68fd', 'barrieridx': 'cb47616cd2dc4ccc8fd523bd3a5064bb', 'windspeed': 10, 'winddirection': 60, 'relhumid': 90, 'temperature': 20}\n",
      "Choosing a perimeter from the database\n",
      "{'description': 'Maria2019', 'igniteidx': 'd19866c5b26a4a68b2b3771025032bd0', 'compareidx': '51fdaebe31f44ad69272779a3f01182d', 'lcpidx': '43b7f5db36994599861eec4849cc68fd', 'barrieridx': 'cb47616cd2dc4ccc8fd523bd3a5064bb', 'windspeed': 10, 'winddirection': 60, 'relhumid': 90, 'temperature': 20}\n",
      "Choosing a perimeter from the database\n",
      "{'description': 'Maria2019', 'igniteidx': '1571f50940a846fea2394c3d80cd1039', 'compareidx': '51fdaebe31f44ad69272779a3f01182d', 'lcpidx': '43b7f5db36994599861eec4849cc68fd', 'barrieridx': 'cb47616cd2dc4ccc8fd523bd3a5064bb', 'windspeed': 10, 'winddirection': 60, 'relhumid': 90, 'temperature': 20}\n",
      "Choosing a perimeter from the database\n",
      "{'description': 'Maria2019', 'igniteidx': '3ee2f272b41842c49b7989eaf16adab3', 'compareidx': '51fdaebe31f44ad69272779a3f01182d', 'lcpidx': '43b7f5db36994599861eec4849cc68fd', 'barrieridx': 'cb47616cd2dc4ccc8fd523bd3a5064bb', 'windspeed': 10, 'winddirection': 60, 'relhumid': 90, 'temperature': 20}\n",
      "Choosing a perimeter from the database\n",
      "{'description': 'Maria2019', 'igniteidx': 'ae610db1db1a41538f4b433a436f5607', 'compareidx': '51fdaebe31f44ad69272779a3f01182d', 'lcpidx': '43b7f5db36994599861eec4849cc68fd', 'barrieridx': 'cb47616cd2dc4ccc8fd523bd3a5064bb', 'windspeed': 10, 'winddirection': 60, 'relhumid': 90, 'temperature': 20}\n",
      "Choosing a perimeter from the database\n",
      "{'description': 'Maria2019', 'igniteidx': '885c7446fb4449aa8c65e9641187cc85', 'compareidx': '51fdaebe31f44ad69272779a3f01182d', 'lcpidx': '43b7f5db36994599861eec4849cc68fd', 'barrieridx': 'cb47616cd2dc4ccc8fd523bd3a5064bb', 'windspeed': 10, 'winddirection': 60, 'relhumid': 90, 'temperature': 20}\n",
      "Choosing a perimeter from the database\n",
      "{'description': 'Maria2019', 'igniteidx': '948ec355b4144db4900dcf4ee1a86d00', 'compareidx': '51fdaebe31f44ad69272779a3f01182d', 'lcpidx': '43b7f5db36994599861eec4849cc68fd', 'barrieridx': 'cb47616cd2dc4ccc8fd523bd3a5064bb', 'windspeed': 10, 'winddirection': 60, 'relhumid': 90, 'temperature': 20}\n",
      "Choosing a perimeter from the database\n",
      "{'description': 'Maria2019', 'igniteidx': 'd72e41374bf7458c9c2163be7c647a99', 'compareidx': '51fdaebe31f44ad69272779a3f01182d', 'lcpidx': '43b7f5db36994599861eec4849cc68fd', 'barrieridx': 'cb47616cd2dc4ccc8fd523bd3a5064bb', 'windspeed': 10, 'winddirection': 60, 'relhumid': 90, 'temperature': 20}\n",
      "Choosing a perimeter from the database\n",
      "{'description': 'Maria2019', 'igniteidx': 'aa127ef571644741a428677f45342a22', 'compareidx': '51fdaebe31f44ad69272779a3f01182d', 'lcpidx': '43b7f5db36994599861eec4849cc68fd', 'barrieridx': 'cb47616cd2dc4ccc8fd523bd3a5064bb', 'windspeed': 10, 'winddirection': 60, 'relhumid': 90, 'temperature': 20}\n",
      "Choosing a perimeter from the database\n",
      "{'description': 'Maria2019', 'igniteidx': 'e118e68a98cb4a1f8c75e355f00a853c', 'compareidx': '51fdaebe31f44ad69272779a3f01182d', 'lcpidx': '43b7f5db36994599861eec4849cc68fd', 'barrieridx': 'cb47616cd2dc4ccc8fd523bd3a5064bb', 'windspeed': 10, 'winddirection': 60, 'relhumid': 90, 'temperature': 20}\n",
      "Choosing a perimeter from the database\n",
      "{'description': 'Maria2019', 'igniteidx': '8c16262364ad4a8da20924323f1db22b', 'compareidx': '51fdaebe31f44ad69272779a3f01182d', 'lcpidx': '43b7f5db36994599861eec4849cc68fd', 'barrieridx': 'cb47616cd2dc4ccc8fd523bd3a5064bb', 'windspeed': 10, 'winddirection': 60, 'relhumid': 90, 'temperature': 20}\n",
      "Choosing a perimeter from the database\n",
      "{'description': 'Maria2019', 'igniteidx': 'f734e75759a3463a83671948154558a3', 'compareidx': '51fdaebe31f44ad69272779a3f01182d', 'lcpidx': '43b7f5db36994599861eec4849cc68fd', 'barrieridx': 'cb47616cd2dc4ccc8fd523bd3a5064bb', 'windspeed': 10, 'winddirection': 60, 'relhumid': 90, 'temperature': 20}\n",
      "Choosing a perimeter from the database\n",
      "{'description': 'Maria2019', 'igniteidx': '8f0aaacce09e469a93da0a986c4bd14a', 'compareidx': '51fdaebe31f44ad69272779a3f01182d', 'lcpidx': '43b7f5db36994599861eec4849cc68fd', 'barrieridx': 'cb47616cd2dc4ccc8fd523bd3a5064bb', 'windspeed': 10, 'winddirection': 60, 'relhumid': 90, 'temperature': 20}\n",
      "Choosing a perimeter from the database\n",
      "{'description': 'Maria2019', 'igniteidx': '1667c57eba0b41da91ce084e23aa5f20', 'compareidx': '51fdaebe31f44ad69272779a3f01182d', 'lcpidx': '43b7f5db36994599861eec4849cc68fd', 'barrieridx': 'cb47616cd2dc4ccc8fd523bd3a5064bb', 'windspeed': 10, 'winddirection': 60, 'relhumid': 90, 'temperature': 20}\n",
      "Choosing a perimeter from the database\n",
      "{'description': 'Maria2019', 'igniteidx': '2a1b92a568e84df4a0ba853d95e6e7ca', 'compareidx': '51fdaebe31f44ad69272779a3f01182d', 'lcpidx': '43b7f5db36994599861eec4849cc68fd', 'barrieridx': 'cb47616cd2dc4ccc8fd523bd3a5064bb', 'windspeed': 10, 'winddirection': 60, 'relhumid': 90, 'temperature': 20}\n",
      "Choosing a perimeter from the database\n",
      "{'description': 'Maria2019', 'igniteidx': 'b0576b1121584224999dc5c878afc63b', 'compareidx': '51fdaebe31f44ad69272779a3f01182d', 'lcpidx': '43b7f5db36994599861eec4849cc68fd', 'barrieridx': 'cb47616cd2dc4ccc8fd523bd3a5064bb', 'windspeed': 10, 'winddirection': 60, 'relhumid': 90, 'temperature': 20}\n",
      "Choosing a perimeter from the database\n",
      "{'description': 'Maria2019', 'igniteidx': '095a4affd85b481abfb4c5df5f46f53a', 'compareidx': '51fdaebe31f44ad69272779a3f01182d', 'lcpidx': '43b7f5db36994599861eec4849cc68fd', 'barrieridx': 'cb47616cd2dc4ccc8fd523bd3a5064bb', 'windspeed': 10, 'winddirection': 60, 'relhumid': 90, 'temperature': 20}\n",
      "Choosing a perimeter from the database\n",
      "{'description': 'Maria2019', 'igniteidx': 'a40e615e98c04de6aa1620cad1025c79', 'compareidx': '51fdaebe31f44ad69272779a3f01182d', 'lcpidx': '43b7f5db36994599861eec4849cc68fd', 'barrieridx': 'cb47616cd2dc4ccc8fd523bd3a5064bb', 'windspeed': 10, 'winddirection': 60, 'relhumid': 90, 'temperature': 20}\n",
      "Choosing a perimeter from the database\n",
      "{'description': 'Maria2019', 'igniteidx': '84b8c7b7ad944885b9f6feef51516b38', 'compareidx': '51fdaebe31f44ad69272779a3f01182d', 'lcpidx': '43b7f5db36994599861eec4849cc68fd', 'barrieridx': 'cb47616cd2dc4ccc8fd523bd3a5064bb', 'windspeed': 10, 'winddirection': 60, 'relhumid': 90, 'temperature': 20}\n",
      "Choosing a perimeter from the database\n",
      "{'description': 'Maria2019', 'igniteidx': '7bf5bbc4dcd04e10aa0b526ecc0b408b', 'compareidx': '51fdaebe31f44ad69272779a3f01182d', 'lcpidx': '43b7f5db36994599861eec4849cc68fd', 'barrieridx': 'cb47616cd2dc4ccc8fd523bd3a5064bb', 'windspeed': 10, 'winddirection': 60, 'relhumid': 90, 'temperature': 20}\n",
      "Choosing a perimeter from the database\n",
      "{'description': 'Maria2019', 'igniteidx': 'be153487c9d74c31bfee1a601b0c17f6', 'compareidx': '51fdaebe31f44ad69272779a3f01182d', 'lcpidx': '43b7f5db36994599861eec4849cc68fd', 'barrieridx': 'cb47616cd2dc4ccc8fd523bd3a5064bb', 'windspeed': 10, 'winddirection': 60, 'relhumid': 90, 'temperature': 20}\n",
      "Choosing a perimeter from the database\n",
      "{'description': 'Maria2019', 'igniteidx': 'cc269cca647643039114495be4932bc5', 'compareidx': '51fdaebe31f44ad69272779a3f01182d', 'lcpidx': '43b7f5db36994599861eec4849cc68fd', 'barrieridx': 'cb47616cd2dc4ccc8fd523bd3a5064bb', 'windspeed': 10, 'winddirection': 60, 'relhumid': 90, 'temperature': 20}\n",
      "Choosing a perimeter from the database\n",
      "{'description': 'Maria2019', 'igniteidx': 'f9860c77f36344069bd97e4b45702999', 'compareidx': '51fdaebe31f44ad69272779a3f01182d', 'lcpidx': '43b7f5db36994599861eec4849cc68fd', 'barrieridx': 'cb47616cd2dc4ccc8fd523bd3a5064bb', 'windspeed': 10, 'winddirection': 60, 'relhumid': 90, 'temperature': 20}\n",
      "Choosing a perimeter from the database\n",
      "{'description': 'Maria2019', 'igniteidx': '731d9688a7b24a90b1234d39c72d3e7b', 'compareidx': '51fdaebe31f44ad69272779a3f01182d', 'lcpidx': '43b7f5db36994599861eec4849cc68fd', 'barrieridx': 'cb47616cd2dc4ccc8fd523bd3a5064bb', 'windspeed': 10, 'winddirection': 60, 'relhumid': 90, 'temperature': 20}\n",
      "Choosing a perimeter from the database\n",
      "{'description': 'Maria2019', 'igniteidx': 'df24baf6b3c145f680a138090bda2e57', 'compareidx': '51fdaebe31f44ad69272779a3f01182d', 'lcpidx': '43b7f5db36994599861eec4849cc68fd', 'barrieridx': 'cb47616cd2dc4ccc8fd523bd3a5064bb', 'windspeed': 10, 'winddirection': 60, 'relhumid': 90, 'temperature': 20}\n",
      "Choosing a perimeter from the database\n",
      "{'description': 'Maria2019', 'igniteidx': '48f44003ddf74f48bb7f0a91fd3bfb67', 'compareidx': '51fdaebe31f44ad69272779a3f01182d', 'lcpidx': '43b7f5db36994599861eec4849cc68fd', 'barrieridx': 'cb47616cd2dc4ccc8fd523bd3a5064bb', 'windspeed': 10, 'winddirection': 60, 'relhumid': 90, 'temperature': 20}\n",
      "Choosing a perimeter from the database\n",
      "{'description': 'Maria2019', 'igniteidx': '5f16f35dae63458d85bc039da09cb778', 'compareidx': '51fdaebe31f44ad69272779a3f01182d', 'lcpidx': '43b7f5db36994599861eec4849cc68fd', 'barrieridx': 'cb47616cd2dc4ccc8fd523bd3a5064bb', 'windspeed': 10, 'winddirection': 60, 'relhumid': 90, 'temperature': 20}\n",
      "Choosing a perimeter from the database\n",
      "{'description': 'Maria2019', 'igniteidx': '2a2e461a192d41d9ad099c63583a4783', 'compareidx': '51fdaebe31f44ad69272779a3f01182d', 'lcpidx': '43b7f5db36994599861eec4849cc68fd', 'barrieridx': 'cb47616cd2dc4ccc8fd523bd3a5064bb', 'windspeed': 10, 'winddirection': 60, 'relhumid': 90, 'temperature': 20}\n",
      "Choosing a perimeter from the database\n",
      "{'description': 'Maria2019', 'igniteidx': '545f9a2f74da4f6db108ab8a39bcb61c', 'compareidx': '51fdaebe31f44ad69272779a3f01182d', 'lcpidx': '43b7f5db36994599861eec4849cc68fd', 'barrieridx': 'cb47616cd2dc4ccc8fd523bd3a5064bb', 'windspeed': 10, 'winddirection': 60, 'relhumid': 90, 'temperature': 20}\n",
      "Choosing a perimeter from the database\n",
      "{'description': 'Maria2019', 'igniteidx': '70ec383d68ec4b42a3f79a283ba7eed4', 'compareidx': '51fdaebe31f44ad69272779a3f01182d', 'lcpidx': '43b7f5db36994599861eec4849cc68fd', 'barrieridx': 'cb47616cd2dc4ccc8fd523bd3a5064bb', 'windspeed': 10, 'winddirection': 60, 'relhumid': 90, 'temperature': 20}\n",
      "Choosing a perimeter from the database\n",
      "{'description': 'Maria2019', 'igniteidx': 'db676be228f84fb1a1b6caada5de8043', 'compareidx': '51fdaebe31f44ad69272779a3f01182d', 'lcpidx': '43b7f5db36994599861eec4849cc68fd', 'barrieridx': 'cb47616cd2dc4ccc8fd523bd3a5064bb', 'windspeed': 10, 'winddirection': 60, 'relhumid': 90, 'temperature': 20}\n",
      "Choosing a perimeter from the database\n",
      "{'description': 'Maria2019', 'igniteidx': '049e9875a77147e79f40031218ec153f', 'compareidx': '51fdaebe31f44ad69272779a3f01182d', 'lcpidx': '43b7f5db36994599861eec4849cc68fd', 'barrieridx': 'cb47616cd2dc4ccc8fd523bd3a5064bb', 'windspeed': 10, 'winddirection': 60, 'relhumid': 90, 'temperature': 20}\n",
      "Choosing a perimeter from the database\n",
      "{'description': 'Maria2019', 'igniteidx': '11b18a8425d2490793a7c951acdc091b', 'compareidx': '51fdaebe31f44ad69272779a3f01182d', 'lcpidx': '43b7f5db36994599861eec4849cc68fd', 'barrieridx': 'cb47616cd2dc4ccc8fd523bd3a5064bb', 'windspeed': 10, 'winddirection': 60, 'relhumid': 90, 'temperature': 20}\n",
      "Choosing a perimeter from the database\n",
      "{'description': 'Maria2019', 'igniteidx': '2c9feac4d8414bbe925631034e53ccee', 'compareidx': '51fdaebe31f44ad69272779a3f01182d', 'lcpidx': '43b7f5db36994599861eec4849cc68fd', 'barrieridx': 'cb47616cd2dc4ccc8fd523bd3a5064bb', 'windspeed': 10, 'winddirection': 60, 'relhumid': 90, 'temperature': 20}\n",
      "Choosing a perimeter from the database\n",
      "{'description': 'Maria2019', 'igniteidx': '423a12017fef4112a6c35922e17004e3', 'compareidx': '51fdaebe31f44ad69272779a3f01182d', 'lcpidx': '43b7f5db36994599861eec4849cc68fd', 'barrieridx': 'cb47616cd2dc4ccc8fd523bd3a5064bb', 'windspeed': 10, 'winddirection': 60, 'relhumid': 90, 'temperature': 20}\n",
      "Choosing a perimeter from the database\n",
      "{'description': 'Maria2019', 'igniteidx': '9c73f07d0abe4b7f970fcf40c45f1e87', 'compareidx': '51fdaebe31f44ad69272779a3f01182d', 'lcpidx': '43b7f5db36994599861eec4849cc68fd', 'barrieridx': 'cb47616cd2dc4ccc8fd523bd3a5064bb', 'windspeed': 10, 'winddirection': 60, 'relhumid': 90, 'temperature': 20}\n",
      "Choosing a perimeter from the database\n",
      "{'description': 'Maria2019', 'igniteidx': 'b29a0ee96d034a98ac01db8a47b0a5df', 'compareidx': '51fdaebe31f44ad69272779a3f01182d', 'lcpidx': '43b7f5db36994599861eec4849cc68fd', 'barrieridx': 'cb47616cd2dc4ccc8fd523bd3a5064bb', 'windspeed': 10, 'winddirection': 60, 'relhumid': 90, 'temperature': 20}\n",
      "Choosing a perimeter from the database\n",
      "{'description': 'Maria2019', 'igniteidx': '978ce13b9b0642d3a241ec187d0ced01', 'compareidx': '51fdaebe31f44ad69272779a3f01182d', 'lcpidx': '43b7f5db36994599861eec4849cc68fd', 'barrieridx': 'cb47616cd2dc4ccc8fd523bd3a5064bb', 'windspeed': 10, 'winddirection': 60, 'relhumid': 90, 'temperature': 20}\n",
      "Choosing a perimeter from the database\n",
      "{'description': 'Maria2019', 'igniteidx': 'e96494e2c08e41928e41c07141ff5a19', 'compareidx': '51fdaebe31f44ad69272779a3f01182d', 'lcpidx': '43b7f5db36994599861eec4849cc68fd', 'barrieridx': 'cb47616cd2dc4ccc8fd523bd3a5064bb', 'windspeed': 10, 'winddirection': 60, 'relhumid': 90, 'temperature': 20}\n",
      "Choosing a perimeter from the database\n",
      "{'description': 'Maria2019', 'igniteidx': 'cd5914d17f3b42c7b6efda9993fe372b', 'compareidx': '51fdaebe31f44ad69272779a3f01182d', 'lcpidx': '43b7f5db36994599861eec4849cc68fd', 'barrieridx': 'cb47616cd2dc4ccc8fd523bd3a5064bb', 'windspeed': 10, 'winddirection': 60, 'relhumid': 90, 'temperature': 20}\n",
      "Choosing a perimeter from the database\n",
      "{'description': 'Maria2019', 'igniteidx': '83e0f3bb63fd43af8191cb270255b859', 'compareidx': '51fdaebe31f44ad69272779a3f01182d', 'lcpidx': '43b7f5db36994599861eec4849cc68fd', 'barrieridx': 'cb47616cd2dc4ccc8fd523bd3a5064bb', 'windspeed': 10, 'winddirection': 60, 'relhumid': 90, 'temperature': 20}\n",
      "Choosing a perimeter from the database\n",
      "{'description': 'Maria2019', 'igniteidx': 'a28d632b2ff2420580b1e0084e40420e', 'compareidx': '51fdaebe31f44ad69272779a3f01182d', 'lcpidx': '43b7f5db36994599861eec4849cc68fd', 'barrieridx': 'cb47616cd2dc4ccc8fd523bd3a5064bb', 'windspeed': 10, 'winddirection': 60, 'relhumid': 90, 'temperature': 20}\n",
      "Choosing a perimeter from the database\n",
      "{'description': 'Maria2019', 'igniteidx': '1db9422230af42b7b17ce4e302e81c17', 'compareidx': '51fdaebe31f44ad69272779a3f01182d', 'lcpidx': '43b7f5db36994599861eec4849cc68fd', 'barrieridx': 'cb47616cd2dc4ccc8fd523bd3a5064bb', 'windspeed': 10, 'winddirection': 60, 'relhumid': 90, 'temperature': 20}\n",
      "Choosing a perimeter from the database\n",
      "{'description': 'Maria2019', 'igniteidx': '8c6f5f2ddcd64e339fac955c8bb0781f', 'compareidx': '51fdaebe31f44ad69272779a3f01182d', 'lcpidx': '43b7f5db36994599861eec4849cc68fd', 'barrieridx': 'cb47616cd2dc4ccc8fd523bd3a5064bb', 'windspeed': 10, 'winddirection': 60, 'relhumid': 90, 'temperature': 20}\n",
      "Choosing a perimeter from the database\n",
      "{'description': 'Maria2019', 'igniteidx': 'b46de684e77445b38c774852e0f6ac88', 'compareidx': '51fdaebe31f44ad69272779a3f01182d', 'lcpidx': '43b7f5db36994599861eec4849cc68fd', 'barrieridx': 'cb47616cd2dc4ccc8fd523bd3a5064bb', 'windspeed': 10, 'winddirection': 60, 'relhumid': 90, 'temperature': 20}\n",
      "Choosing a perimeter from the database\n",
      "{'description': 'Maria2019', 'igniteidx': '584ed994b5714bfaa84610c93d93f19b', 'compareidx': '51fdaebe31f44ad69272779a3f01182d', 'lcpidx': '43b7f5db36994599861eec4849cc68fd', 'barrieridx': 'cb47616cd2dc4ccc8fd523bd3a5064bb', 'windspeed': 10, 'winddirection': 60, 'relhumid': 90, 'temperature': 20}\n",
      "Choosing a perimeter from the database\n",
      "{'description': 'Maria2019', 'igniteidx': '5d6b957eaaee44fb8396adaa7721b6b5', 'compareidx': '51fdaebe31f44ad69272779a3f01182d', 'lcpidx': '43b7f5db36994599861eec4849cc68fd', 'barrieridx': 'cb47616cd2dc4ccc8fd523bd3a5064bb', 'windspeed': 10, 'winddirection': 60, 'relhumid': 90, 'temperature': 20}\n",
      "Choosing a perimeter from the database\n",
      "{'description': 'Maria2019', 'igniteidx': '52ab27b210b842d5a7a6e6f6cc66bc83', 'compareidx': '51fdaebe31f44ad69272779a3f01182d', 'lcpidx': '43b7f5db36994599861eec4849cc68fd', 'barrieridx': 'cb47616cd2dc4ccc8fd523bd3a5064bb', 'windspeed': 10, 'winddirection': 60, 'relhumid': 90, 'temperature': 20}\n",
      "Choosing a perimeter from the database\n",
      "{'description': 'Maria2019', 'igniteidx': 'd821088bacc741eba7fce024b3ab26b8', 'compareidx': '51fdaebe31f44ad69272779a3f01182d', 'lcpidx': '43b7f5db36994599861eec4849cc68fd', 'barrieridx': 'cb47616cd2dc4ccc8fd523bd3a5064bb', 'windspeed': 10, 'winddirection': 60, 'relhumid': 90, 'temperature': 20}\n",
      "Choosing a perimeter from the database\n",
      "{'description': 'Maria2019', 'igniteidx': '24158db381c941189b253f8a4bb2ce19', 'compareidx': '51fdaebe31f44ad69272779a3f01182d', 'lcpidx': '43b7f5db36994599861eec4849cc68fd', 'barrieridx': 'cb47616cd2dc4ccc8fd523bd3a5064bb', 'windspeed': 10, 'winddirection': 60, 'relhumid': 90, 'temperature': 20}\n",
      "Choosing a perimeter from the database\n",
      "{'description': 'Maria2019', 'igniteidx': '54447972d6594491b1194c029ace86db', 'compareidx': '51fdaebe31f44ad69272779a3f01182d', 'lcpidx': '43b7f5db36994599861eec4849cc68fd', 'barrieridx': 'cb47616cd2dc4ccc8fd523bd3a5064bb', 'windspeed': 10, 'winddirection': 60, 'relhumid': 90, 'temperature': 20}\n",
      "Choosing a perimeter from the database\n",
      "{'description': 'Maria2019', 'igniteidx': '85b9f13749bc4cd0a29798a5dc95f074', 'compareidx': '51fdaebe31f44ad69272779a3f01182d', 'lcpidx': '43b7f5db36994599861eec4849cc68fd', 'barrieridx': 'cb47616cd2dc4ccc8fd523bd3a5064bb', 'windspeed': 10, 'winddirection': 60, 'relhumid': 90, 'temperature': 20}\n",
      "Choosing a perimeter from the database\n",
      "{'description': 'Maria2019', 'igniteidx': '6e3f700b346243d7a309f117b88c5095', 'compareidx': '51fdaebe31f44ad69272779a3f01182d', 'lcpidx': '43b7f5db36994599861eec4849cc68fd', 'barrieridx': 'cb47616cd2dc4ccc8fd523bd3a5064bb', 'windspeed': 10, 'winddirection': 60, 'relhumid': 90, 'temperature': 20}\n",
      "Choosing a perimeter from the database\n",
      "{'description': 'Maria2019', 'igniteidx': 'cb7a727aafda4b2cbde26bb32822f96e', 'compareidx': '51fdaebe31f44ad69272779a3f01182d', 'lcpidx': '43b7f5db36994599861eec4849cc68fd', 'barrieridx': 'cb47616cd2dc4ccc8fd523bd3a5064bb', 'windspeed': 10, 'winddirection': 60, 'relhumid': 90, 'temperature': 20}\n",
      "Choosing a perimeter from the database\n",
      "{'description': 'Maria2019', 'igniteidx': '4ace0f46cf674393a2a48be92483dc03', 'compareidx': '51fdaebe31f44ad69272779a3f01182d', 'lcpidx': '43b7f5db36994599861eec4849cc68fd', 'barrieridx': 'cb47616cd2dc4ccc8fd523bd3a5064bb', 'windspeed': 10, 'winddirection': 60, 'relhumid': 90, 'temperature': 20}\n",
      "Choosing a perimeter from the database\n",
      "{'description': 'Maria2019', 'igniteidx': '2b19551ba49743b5b03512e8ab3bc6a0', 'compareidx': '51fdaebe31f44ad69272779a3f01182d', 'lcpidx': '43b7f5db36994599861eec4849cc68fd', 'barrieridx': 'cb47616cd2dc4ccc8fd523bd3a5064bb', 'windspeed': 10, 'winddirection': 60, 'relhumid': 90, 'temperature': 20}\n",
      "Choosing a perimeter from the database\n",
      "{'description': 'Maria2019', 'igniteidx': '7c19a05c59dd4899974e4eee6dee5d9c', 'compareidx': '51fdaebe31f44ad69272779a3f01182d', 'lcpidx': '43b7f5db36994599861eec4849cc68fd', 'barrieridx': 'cb47616cd2dc4ccc8fd523bd3a5064bb', 'windspeed': 10, 'winddirection': 60, 'relhumid': 90, 'temperature': 20}\n",
      "Choosing a perimeter from the database\n",
      "{'description': 'Maria2019', 'igniteidx': 'fb0ac9f1b9044a1e91f2fc22d7a9e67c', 'compareidx': '51fdaebe31f44ad69272779a3f01182d', 'lcpidx': '43b7f5db36994599861eec4849cc68fd', 'barrieridx': 'cb47616cd2dc4ccc8fd523bd3a5064bb', 'windspeed': 10, 'winddirection': 60, 'relhumid': 90, 'temperature': 20}\n",
      "Choosing a perimeter from the database\n",
      "{'description': 'Maria2019', 'igniteidx': 'a13f169e7abc4c7dbbc9a4585f2fad4a', 'compareidx': '51fdaebe31f44ad69272779a3f01182d', 'lcpidx': '43b7f5db36994599861eec4849cc68fd', 'barrieridx': 'cb47616cd2dc4ccc8fd523bd3a5064bb', 'windspeed': 10, 'winddirection': 60, 'relhumid': 90, 'temperature': 20}\n",
      "Choosing a perimeter from the database\n",
      "{'description': 'Maria2019', 'igniteidx': '4f5f8b40fea14abea6bbd1d5041a3b78', 'compareidx': '51fdaebe31f44ad69272779a3f01182d', 'lcpidx': '43b7f5db36994599861eec4849cc68fd', 'barrieridx': 'cb47616cd2dc4ccc8fd523bd3a5064bb', 'windspeed': 10, 'winddirection': 60, 'relhumid': 90, 'temperature': 20}\n",
      "Choosing a perimeter from the database\n",
      "{'description': 'Maria2019', 'igniteidx': '3d82913aa4cb4f0a901a44fb08837b8c', 'compareidx': '51fdaebe31f44ad69272779a3f01182d', 'lcpidx': '43b7f5db36994599861eec4849cc68fd', 'barrieridx': 'cb47616cd2dc4ccc8fd523bd3a5064bb', 'windspeed': 10, 'winddirection': 60, 'relhumid': 90, 'temperature': 20}\n",
      "Choosing a perimeter from the database\n",
      "{'description': 'Maria2019', 'igniteidx': '0b1b8073d5394cb9b4a4e7f26cb928ad', 'compareidx': '51fdaebe31f44ad69272779a3f01182d', 'lcpidx': '43b7f5db36994599861eec4849cc68fd', 'barrieridx': 'cb47616cd2dc4ccc8fd523bd3a5064bb', 'windspeed': 10, 'winddirection': 60, 'relhumid': 90, 'temperature': 20}\n",
      "Choosing a perimeter from the database\n",
      "{'description': 'Maria2019', 'igniteidx': 'bf110ac5e6914146b3a5134835275fba', 'compareidx': '51fdaebe31f44ad69272779a3f01182d', 'lcpidx': '43b7f5db36994599861eec4849cc68fd', 'barrieridx': 'cb47616cd2dc4ccc8fd523bd3a5064bb', 'windspeed': 10, 'winddirection': 60, 'relhumid': 90, 'temperature': 20}\n",
      "Choosing a perimeter from the database\n",
      "{'description': 'Maria2019', 'igniteidx': '4fcd1d077fbc4809bde396477d244e68', 'compareidx': '51fdaebe31f44ad69272779a3f01182d', 'lcpidx': '43b7f5db36994599861eec4849cc68fd', 'barrieridx': 'cb47616cd2dc4ccc8fd523bd3a5064bb', 'windspeed': 10, 'winddirection': 60, 'relhumid': 90, 'temperature': 20}\n",
      "Choosing a perimeter from the database\n",
      "{'description': 'Maria2019', 'igniteidx': '20b2fd740ae145babc6637eb7a64dddf', 'compareidx': '51fdaebe31f44ad69272779a3f01182d', 'lcpidx': '43b7f5db36994599861eec4849cc68fd', 'barrieridx': 'cb47616cd2dc4ccc8fd523bd3a5064bb', 'windspeed': 10, 'winddirection': 60, 'relhumid': 90, 'temperature': 20}\n",
      "Choosing a perimeter from the database\n",
      "{'description': 'Maria2019', 'igniteidx': '2fc906315cbd46c5b3e51cfd82e05943', 'compareidx': '51fdaebe31f44ad69272779a3f01182d', 'lcpidx': '43b7f5db36994599861eec4849cc68fd', 'barrieridx': 'cb47616cd2dc4ccc8fd523bd3a5064bb', 'windspeed': 10, 'winddirection': 60, 'relhumid': 90, 'temperature': 20}\n",
      "Choosing a perimeter from the database\n",
      "{'description': 'Maria2019', 'igniteidx': '0854a79c782c4ad79d968755ef03a8a2', 'compareidx': '51fdaebe31f44ad69272779a3f01182d', 'lcpidx': '43b7f5db36994599861eec4849cc68fd', 'barrieridx': 'cb47616cd2dc4ccc8fd523bd3a5064bb', 'windspeed': 10, 'winddirection': 60, 'relhumid': 90, 'temperature': 20}\n",
      "Choosing a perimeter from the database\n",
      "{'description': 'Maria2019', 'igniteidx': '6620588d02294aae92e595fc4ce5065f', 'compareidx': '51fdaebe31f44ad69272779a3f01182d', 'lcpidx': '43b7f5db36994599861eec4849cc68fd', 'barrieridx': 'cb47616cd2dc4ccc8fd523bd3a5064bb', 'windspeed': 10, 'winddirection': 60, 'relhumid': 90, 'temperature': 20}\n",
      "Choosing a perimeter from the database\n",
      "{'description': 'Maria2019', 'igniteidx': '2e06ef8233bd4e1fb809f9ffe0fcbcd7', 'compareidx': '51fdaebe31f44ad69272779a3f01182d', 'lcpidx': '43b7f5db36994599861eec4849cc68fd', 'barrieridx': 'cb47616cd2dc4ccc8fd523bd3a5064bb', 'windspeed': 10, 'winddirection': 60, 'relhumid': 90, 'temperature': 20}\n",
      "Choosing a perimeter from the database\n",
      "{'description': 'Maria2019', 'igniteidx': 'c4d82ea6bd694adc8bc5720dafe50620', 'compareidx': '51fdaebe31f44ad69272779a3f01182d', 'lcpidx': '43b7f5db36994599861eec4849cc68fd', 'barrieridx': 'cb47616cd2dc4ccc8fd523bd3a5064bb', 'windspeed': 10, 'winddirection': 60, 'relhumid': 90, 'temperature': 20}\n",
      "Choosing a perimeter from the database\n",
      "{'description': 'Maria2019', 'igniteidx': '961da770f95843c1a00b221c0647a839', 'compareidx': '51fdaebe31f44ad69272779a3f01182d', 'lcpidx': '43b7f5db36994599861eec4849cc68fd', 'barrieridx': 'cb47616cd2dc4ccc8fd523bd3a5064bb', 'windspeed': 10, 'winddirection': 60, 'relhumid': 90, 'temperature': 20}\n",
      "Choosing a perimeter from the database\n",
      "{'description': 'Maria2019', 'igniteidx': '95ff9eb588154b509fb7be9ebc9eefc0', 'compareidx': '51fdaebe31f44ad69272779a3f01182d', 'lcpidx': '43b7f5db36994599861eec4849cc68fd', 'barrieridx': 'cb47616cd2dc4ccc8fd523bd3a5064bb', 'windspeed': 10, 'winddirection': 60, 'relhumid': 90, 'temperature': 20}\n",
      "Choosing a perimeter from the database\n",
      "{'description': 'Maria2019', 'igniteidx': '76af49fc313b43c295dba0f746b3ba4f', 'compareidx': '51fdaebe31f44ad69272779a3f01182d', 'lcpidx': '43b7f5db36994599861eec4849cc68fd', 'barrieridx': 'cb47616cd2dc4ccc8fd523bd3a5064bb', 'windspeed': 10, 'winddirection': 60, 'relhumid': 90, 'temperature': 20}\n",
      "Choosing a perimeter from the database\n",
      "{'description': 'Maria2019', 'igniteidx': '7a22e4263ef24727816255109d82ac26', 'compareidx': '51fdaebe31f44ad69272779a3f01182d', 'lcpidx': '43b7f5db36994599861eec4849cc68fd', 'barrieridx': 'cb47616cd2dc4ccc8fd523bd3a5064bb', 'windspeed': 10, 'winddirection': 60, 'relhumid': 90, 'temperature': 20}\n",
      "Choosing a perimeter from the database\n",
      "{'description': 'Maria2019', 'igniteidx': '3ccadd14589a4245b94eacc0cfcd6921', 'compareidx': '51fdaebe31f44ad69272779a3f01182d', 'lcpidx': '43b7f5db36994599861eec4849cc68fd', 'barrieridx': 'cb47616cd2dc4ccc8fd523bd3a5064bb', 'windspeed': 10, 'winddirection': 60, 'relhumid': 90, 'temperature': 20}\n",
      "Choosing a perimeter from the database\n",
      "{'description': 'Maria2019', 'igniteidx': '15c842d39420485384e383637a6a9145', 'compareidx': '51fdaebe31f44ad69272779a3f01182d', 'lcpidx': '43b7f5db36994599861eec4849cc68fd', 'barrieridx': 'cb47616cd2dc4ccc8fd523bd3a5064bb', 'windspeed': 10, 'winddirection': 60, 'relhumid': 90, 'temperature': 20}\n",
      "Choosing a perimeter from the database\n",
      "{'description': 'Maria2019', 'igniteidx': '2e379929d02e4989b6ef8d92e4db16c1', 'compareidx': '51fdaebe31f44ad69272779a3f01182d', 'lcpidx': '43b7f5db36994599861eec4849cc68fd', 'barrieridx': 'cb47616cd2dc4ccc8fd523bd3a5064bb', 'windspeed': 10, 'winddirection': 60, 'relhumid': 90, 'temperature': 20}\n",
      "Choosing a perimeter from the database\n",
      "{'description': 'Maria2019', 'igniteidx': '45b666440b4f45acad508a97de39caf2', 'compareidx': '51fdaebe31f44ad69272779a3f01182d', 'lcpidx': '43b7f5db36994599861eec4849cc68fd', 'barrieridx': 'cb47616cd2dc4ccc8fd523bd3a5064bb', 'windspeed': 10, 'winddirection': 60, 'relhumid': 90, 'temperature': 20}\n",
      "Choosing a perimeter from the database\n",
      "{'description': 'Maria2019', 'igniteidx': '7675f22a1583437db2f9faf37d145419', 'compareidx': '51fdaebe31f44ad69272779a3f01182d', 'lcpidx': '43b7f5db36994599861eec4849cc68fd', 'barrieridx': 'cb47616cd2dc4ccc8fd523bd3a5064bb', 'windspeed': 10, 'winddirection': 60, 'relhumid': 90, 'temperature': 20}\n",
      "Choosing a perimeter from the database\n",
      "{'description': 'Maria2019', 'igniteidx': '78d208301e9344bb8e09aa6e11d474f1', 'compareidx': '51fdaebe31f44ad69272779a3f01182d', 'lcpidx': '43b7f5db36994599861eec4849cc68fd', 'barrieridx': 'cb47616cd2dc4ccc8fd523bd3a5064bb', 'windspeed': 10, 'winddirection': 60, 'relhumid': 90, 'temperature': 20}\n",
      "Choosing a perimeter from the database\n",
      "{'description': 'Maria2019', 'igniteidx': '7ce16cd577d6494fbd8f75436b7a5bfd', 'compareidx': '51fdaebe31f44ad69272779a3f01182d', 'lcpidx': '43b7f5db36994599861eec4849cc68fd', 'barrieridx': 'cb47616cd2dc4ccc8fd523bd3a5064bb', 'windspeed': 10, 'winddirection': 60, 'relhumid': 90, 'temperature': 20}\n",
      "Choosing a perimeter from the database\n",
      "{'description': 'Maria2019', 'igniteidx': '43a64638bf1946b39b6b7a969f8fe5f4', 'compareidx': '51fdaebe31f44ad69272779a3f01182d', 'lcpidx': '43b7f5db36994599861eec4849cc68fd', 'barrieridx': 'cb47616cd2dc4ccc8fd523bd3a5064bb', 'windspeed': 10, 'winddirection': 60, 'relhumid': 90, 'temperature': 20}\n",
      "Choosing a perimeter from the database\n",
      "{'description': 'Maria2019', 'igniteidx': '80ba7e73d4534de3b4ea028074364e1f', 'compareidx': '51fdaebe31f44ad69272779a3f01182d', 'lcpidx': '43b7f5db36994599861eec4849cc68fd', 'barrieridx': 'cb47616cd2dc4ccc8fd523bd3a5064bb', 'windspeed': 10, 'winddirection': 60, 'relhumid': 90, 'temperature': 20}\n",
      "Choosing a perimeter from the database\n",
      "{'description': 'Maria2019', 'igniteidx': 'c2cdd05d3e6544b39e89126999dbffc3', 'compareidx': '51fdaebe31f44ad69272779a3f01182d', 'lcpidx': '43b7f5db36994599861eec4849cc68fd', 'barrieridx': 'cb47616cd2dc4ccc8fd523bd3a5064bb', 'windspeed': 10, 'winddirection': 60, 'relhumid': 90, 'temperature': 20}\n",
      "Choosing a perimeter from the database\n",
      "{'description': 'Maria2019', 'igniteidx': '11d2d844c35c40f9b73d690575530228', 'compareidx': '51fdaebe31f44ad69272779a3f01182d', 'lcpidx': '43b7f5db36994599861eec4849cc68fd', 'barrieridx': 'cb47616cd2dc4ccc8fd523bd3a5064bb', 'windspeed': 10, 'winddirection': 60, 'relhumid': 90, 'temperature': 20}\n",
      "Choosing a perimeter from the database\n",
      "{'description': 'Maria2019', 'igniteidx': '0580deff0c224ce592be0077c4ebd945', 'compareidx': '51fdaebe31f44ad69272779a3f01182d', 'lcpidx': '43b7f5db36994599861eec4849cc68fd', 'barrieridx': 'cb47616cd2dc4ccc8fd523bd3a5064bb', 'windspeed': 10, 'winddirection': 60, 'relhumid': 90, 'temperature': 20}\n",
      "Choosing a perimeter from the database\n",
      "{'description': 'Maria2019', 'igniteidx': 'bf078923493e4fcfb0d911f3dc71a51c', 'compareidx': '51fdaebe31f44ad69272779a3f01182d', 'lcpidx': '43b7f5db36994599861eec4849cc68fd', 'barrieridx': 'cb47616cd2dc4ccc8fd523bd3a5064bb', 'windspeed': 10, 'winddirection': 60, 'relhumid': 90, 'temperature': 20}\n",
      "Choosing a perimeter from the database\n",
      "{'description': 'Maria2019', 'igniteidx': 'cfaf3a321de3480db762a73e3f44fceb', 'compareidx': '51fdaebe31f44ad69272779a3f01182d', 'lcpidx': '43b7f5db36994599861eec4849cc68fd', 'barrieridx': 'cb47616cd2dc4ccc8fd523bd3a5064bb', 'windspeed': 10, 'winddirection': 60, 'relhumid': 90, 'temperature': 20}\n",
      "Choosing a perimeter from the database\n",
      "{'description': 'Maria2019', 'igniteidx': '71495f3d060c4adc92caa88bd545b4b9', 'compareidx': '51fdaebe31f44ad69272779a3f01182d', 'lcpidx': '43b7f5db36994599861eec4849cc68fd', 'barrieridx': 'cb47616cd2dc4ccc8fd523bd3a5064bb', 'windspeed': 10, 'winddirection': 60, 'relhumid': 90, 'temperature': 20}\n",
      "Choosing a perimeter from the database\n",
      "{'description': 'Maria2019', 'igniteidx': '73a0db743cc54aaba3cf9a49e19fa6d0', 'compareidx': '51fdaebe31f44ad69272779a3f01182d', 'lcpidx': '43b7f5db36994599861eec4849cc68fd', 'barrieridx': 'cb47616cd2dc4ccc8fd523bd3a5064bb', 'windspeed': 10, 'winddirection': 60, 'relhumid': 90, 'temperature': 20}\n",
      "Choosing a perimeter from the database\n",
      "{'description': 'Maria2019', 'igniteidx': 'befc896a51714d51a0893760b03b8594', 'compareidx': '51fdaebe31f44ad69272779a3f01182d', 'lcpidx': '43b7f5db36994599861eec4849cc68fd', 'barrieridx': 'cb47616cd2dc4ccc8fd523bd3a5064bb', 'windspeed': 10, 'winddirection': 60, 'relhumid': 90, 'temperature': 20}\n",
      "Choosing a perimeter from the database\n",
      "{'description': 'Maria2019', 'igniteidx': 'd096a9b4806c4dc49cdc2ce5d57bb8ed', 'compareidx': '51fdaebe31f44ad69272779a3f01182d', 'lcpidx': '43b7f5db36994599861eec4849cc68fd', 'barrieridx': 'cb47616cd2dc4ccc8fd523bd3a5064bb', 'windspeed': 10, 'winddirection': 60, 'relhumid': 90, 'temperature': 20}\n",
      "Choosing a perimeter from the database\n",
      "{'description': 'Maria2019', 'igniteidx': 'e1435182ed694a6dbfbfef20df4113f9', 'compareidx': '51fdaebe31f44ad69272779a3f01182d', 'lcpidx': '43b7f5db36994599861eec4849cc68fd', 'barrieridx': 'cb47616cd2dc4ccc8fd523bd3a5064bb', 'windspeed': 10, 'winddirection': 60, 'relhumid': 90, 'temperature': 20}\n",
      "Choosing a perimeter from the database\n",
      "{'description': 'Maria2019', 'igniteidx': 'f4cf025a4fe1474aa8423e97ad4f14d3', 'compareidx': '51fdaebe31f44ad69272779a3f01182d', 'lcpidx': '43b7f5db36994599861eec4849cc68fd', 'barrieridx': 'cb47616cd2dc4ccc8fd523bd3a5064bb', 'windspeed': 10, 'winddirection': 60, 'relhumid': 90, 'temperature': 20}\n",
      "Choosing a perimeter from the database\n",
      "{'description': 'Maria2019', 'igniteidx': '430b63874f074b23b1e5947a96ac7b44', 'compareidx': '51fdaebe31f44ad69272779a3f01182d', 'lcpidx': '43b7f5db36994599861eec4849cc68fd', 'barrieridx': 'cb47616cd2dc4ccc8fd523bd3a5064bb', 'windspeed': 10, 'winddirection': 60, 'relhumid': 90, 'temperature': 20}\n",
      "Choosing a perimeter from the database\n",
      "{'description': 'Maria2019', 'igniteidx': '96f9441f063a457db4e22ae9deeb88ab', 'compareidx': '51fdaebe31f44ad69272779a3f01182d', 'lcpidx': '43b7f5db36994599861eec4849cc68fd', 'barrieridx': 'cb47616cd2dc4ccc8fd523bd3a5064bb', 'windspeed': 10, 'winddirection': 60, 'relhumid': 90, 'temperature': 20}\n",
      "Choosing a perimeter from the database\n",
      "{'description': 'Maria2019', 'igniteidx': '630f06a113f747088a29890ab39ef7b9', 'compareidx': '51fdaebe31f44ad69272779a3f01182d', 'lcpidx': '43b7f5db36994599861eec4849cc68fd', 'barrieridx': 'cb47616cd2dc4ccc8fd523bd3a5064bb', 'windspeed': 10, 'winddirection': 60, 'relhumid': 90, 'temperature': 20}\n",
      "Choosing a perimeter from the database\n",
      "{'description': 'Maria2019', 'igniteidx': '646d3081c43244489367caf77d18712a', 'compareidx': '51fdaebe31f44ad69272779a3f01182d', 'lcpidx': '43b7f5db36994599861eec4849cc68fd', 'barrieridx': 'cb47616cd2dc4ccc8fd523bd3a5064bb', 'windspeed': 10, 'winddirection': 60, 'relhumid': 90, 'temperature': 20}\n",
      "Choosing a perimeter from the database\n",
      "{'description': 'Maria2019', 'igniteidx': '6c4e69b9cc5041b1be4ef2e98ab3bf2d', 'compareidx': '51fdaebe31f44ad69272779a3f01182d', 'lcpidx': '43b7f5db36994599861eec4849cc68fd', 'barrieridx': 'cb47616cd2dc4ccc8fd523bd3a5064bb', 'windspeed': 10, 'winddirection': 60, 'relhumid': 90, 'temperature': 20}\n",
      "Choosing a perimeter from the database\n",
      "{'description': 'Maria2019', 'igniteidx': 'dd4bcbed89544626a72e5476fae3e09c', 'compareidx': '51fdaebe31f44ad69272779a3f01182d', 'lcpidx': '43b7f5db36994599861eec4849cc68fd', 'barrieridx': 'cb47616cd2dc4ccc8fd523bd3a5064bb', 'windspeed': 10, 'winddirection': 60, 'relhumid': 90, 'temperature': 20}\n",
      "Choosing a perimeter from the database\n",
      "{'description': 'Maria2019', 'igniteidx': 'd09244e65139458e97de229ce716f133', 'compareidx': '51fdaebe31f44ad69272779a3f01182d', 'lcpidx': '43b7f5db36994599861eec4849cc68fd', 'barrieridx': 'cb47616cd2dc4ccc8fd523bd3a5064bb', 'windspeed': 10, 'winddirection': 60, 'relhumid': 90, 'temperature': 20}\n",
      "Choosing a perimeter from the database\n",
      "{'description': 'Maria2019', 'igniteidx': '18a9549eb5794efba36af8a3e16bc945', 'compareidx': '51fdaebe31f44ad69272779a3f01182d', 'lcpidx': '43b7f5db36994599861eec4849cc68fd', 'barrieridx': 'cb47616cd2dc4ccc8fd523bd3a5064bb', 'windspeed': 10, 'winddirection': 60, 'relhumid': 90, 'temperature': 20}\n",
      "Choosing a perimeter from the database\n",
      "{'description': 'Maria2019', 'igniteidx': '6a5f339f71444ace81a570f9eb842d2f', 'compareidx': '51fdaebe31f44ad69272779a3f01182d', 'lcpidx': '43b7f5db36994599861eec4849cc68fd', 'barrieridx': 'cb47616cd2dc4ccc8fd523bd3a5064bb', 'windspeed': 10, 'winddirection': 60, 'relhumid': 90, 'temperature': 20}\n",
      "Choosing a perimeter from the database\n",
      "{'description': 'Maria2019', 'igniteidx': 'c3ba7e13cd764ff09e5171e97582bce6', 'compareidx': '51fdaebe31f44ad69272779a3f01182d', 'lcpidx': '43b7f5db36994599861eec4849cc68fd', 'barrieridx': 'cb47616cd2dc4ccc8fd523bd3a5064bb', 'windspeed': 10, 'winddirection': 60, 'relhumid': 90, 'temperature': 20}\n",
      "Choosing a perimeter from the database\n",
      "{'description': 'Maria2019', 'igniteidx': '8cb400ee218740c58e8e05a83d58127f', 'compareidx': '51fdaebe31f44ad69272779a3f01182d', 'lcpidx': '43b7f5db36994599861eec4849cc68fd', 'barrieridx': 'cb47616cd2dc4ccc8fd523bd3a5064bb', 'windspeed': 10, 'winddirection': 60, 'relhumid': 90, 'temperature': 20}\n",
      "Choosing a perimeter from the database\n",
      "{'description': 'Maria2019', 'igniteidx': '2f586ac153c141be97ef22e0a9a0d70d', 'compareidx': '51fdaebe31f44ad69272779a3f01182d', 'lcpidx': '43b7f5db36994599861eec4849cc68fd', 'barrieridx': 'cb47616cd2dc4ccc8fd523bd3a5064bb', 'windspeed': 10, 'winddirection': 60, 'relhumid': 90, 'temperature': 20}\n",
      "Choosing a perimeter from the database\n",
      "{'description': 'Maria2019', 'igniteidx': '3a194ef9cec841c6a7588efa76aafa57', 'compareidx': '51fdaebe31f44ad69272779a3f01182d', 'lcpidx': '43b7f5db36994599861eec4849cc68fd', 'barrieridx': 'cb47616cd2dc4ccc8fd523bd3a5064bb', 'windspeed': 10, 'winddirection': 60, 'relhumid': 90, 'temperature': 20}\n",
      "Choosing a perimeter from the database\n",
      "{'description': 'Maria2019', 'igniteidx': '68f34461f7bc46fba41a73590a98da87', 'compareidx': '51fdaebe31f44ad69272779a3f01182d', 'lcpidx': '43b7f5db36994599861eec4849cc68fd', 'barrieridx': 'cb47616cd2dc4ccc8fd523bd3a5064bb', 'windspeed': 10, 'winddirection': 60, 'relhumid': 90, 'temperature': 20}\n",
      "Choosing a perimeter from the database\n",
      "{'description': 'Maria2019', 'igniteidx': 'b97897525e634eeea4881297e4b83aea', 'compareidx': '51fdaebe31f44ad69272779a3f01182d', 'lcpidx': '43b7f5db36994599861eec4849cc68fd', 'barrieridx': 'cb47616cd2dc4ccc8fd523bd3a5064bb', 'windspeed': 10, 'winddirection': 60, 'relhumid': 90, 'temperature': 20}\n",
      "Choosing a perimeter from the database\n",
      "{'description': 'Maria2019', 'igniteidx': '6d3522803a7c450c8e6ac9682d8c41df', 'compareidx': '51fdaebe31f44ad69272779a3f01182d', 'lcpidx': '43b7f5db36994599861eec4849cc68fd', 'barrieridx': 'cb47616cd2dc4ccc8fd523bd3a5064bb', 'windspeed': 10, 'winddirection': 60, 'relhumid': 90, 'temperature': 20}\n",
      "Choosing a perimeter from the database\n",
      "{'description': 'Maria2019', 'igniteidx': '1535098a097740af8b3bde23623db1f8', 'compareidx': '51fdaebe31f44ad69272779a3f01182d', 'lcpidx': '43b7f5db36994599861eec4849cc68fd', 'barrieridx': 'cb47616cd2dc4ccc8fd523bd3a5064bb', 'windspeed': 10, 'winddirection': 60, 'relhumid': 90, 'temperature': 20}\n",
      "Choosing a perimeter from the database\n",
      "{'description': 'Maria2019', 'igniteidx': '189393b0a1b4455e9c3becb8079c9ef7', 'compareidx': '51fdaebe31f44ad69272779a3f01182d', 'lcpidx': '43b7f5db36994599861eec4849cc68fd', 'barrieridx': 'cb47616cd2dc4ccc8fd523bd3a5064bb', 'windspeed': 10, 'winddirection': 60, 'relhumid': 90, 'temperature': 20}\n",
      "Choosing a perimeter from the database\n",
      "{'description': 'Maria2019', 'igniteidx': '4c68c9dd0d7941118ce2206c5bec1cce', 'compareidx': '51fdaebe31f44ad69272779a3f01182d', 'lcpidx': '43b7f5db36994599861eec4849cc68fd', 'barrieridx': 'cb47616cd2dc4ccc8fd523bd3a5064bb', 'windspeed': 10, 'winddirection': 60, 'relhumid': 90, 'temperature': 20}\n",
      "Choosing a perimeter from the database\n",
      "{'description': 'Maria2019', 'igniteidx': 'd51f6c881ff94ed585aee27fbb10a4f5', 'compareidx': '51fdaebe31f44ad69272779a3f01182d', 'lcpidx': '43b7f5db36994599861eec4849cc68fd', 'barrieridx': 'cb47616cd2dc4ccc8fd523bd3a5064bb', 'windspeed': 10, 'winddirection': 60, 'relhumid': 90, 'temperature': 20}\n",
      "Choosing a perimeter from the database\n",
      "{'description': 'Maria2019', 'igniteidx': '46781c5e542f4e55ba35745a66be58a3', 'compareidx': '51fdaebe31f44ad69272779a3f01182d', 'lcpidx': '43b7f5db36994599861eec4849cc68fd', 'barrieridx': 'cb47616cd2dc4ccc8fd523bd3a5064bb', 'windspeed': 10, 'winddirection': 60, 'relhumid': 90, 'temperature': 20}\n",
      "Choosing a perimeter from the database\n",
      "{'description': 'Maria2019', 'igniteidx': '8d14e50aedee44e99c7fd4f79818bc3c', 'compareidx': '51fdaebe31f44ad69272779a3f01182d', 'lcpidx': '43b7f5db36994599861eec4849cc68fd', 'barrieridx': 'cb47616cd2dc4ccc8fd523bd3a5064bb', 'windspeed': 10, 'winddirection': 60, 'relhumid': 90, 'temperature': 20}\n",
      "Choosing a perimeter from the database\n",
      "{'description': 'Maria2019', 'igniteidx': 'e73220ccb52142e2b468cc25946cf189', 'compareidx': '51fdaebe31f44ad69272779a3f01182d', 'lcpidx': '43b7f5db36994599861eec4849cc68fd', 'barrieridx': 'cb47616cd2dc4ccc8fd523bd3a5064bb', 'windspeed': 10, 'winddirection': 60, 'relhumid': 90, 'temperature': 20}\n",
      "Choosing a perimeter from the database\n",
      "{'description': 'Maria2019', 'igniteidx': 'ae50f2a5d81046619defdfe3a7c68ada', 'compareidx': '51fdaebe31f44ad69272779a3f01182d', 'lcpidx': '43b7f5db36994599861eec4849cc68fd', 'barrieridx': 'cb47616cd2dc4ccc8fd523bd3a5064bb', 'windspeed': 10, 'winddirection': 60, 'relhumid': 90, 'temperature': 20}\n",
      "Choosing a perimeter from the database\n",
      "{'description': 'Maria2019', 'igniteidx': '2b3cc51899c44b05b6d6b1b1d4b634f3', 'compareidx': '51fdaebe31f44ad69272779a3f01182d', 'lcpidx': '43b7f5db36994599861eec4849cc68fd', 'barrieridx': 'cb47616cd2dc4ccc8fd523bd3a5064bb', 'windspeed': 10, 'winddirection': 60, 'relhumid': 90, 'temperature': 20}\n",
      "Choosing a perimeter from the database\n",
      "{'description': 'Maria2019', 'igniteidx': 'ac05f284819f4c5eb22a4954076d554e', 'compareidx': '51fdaebe31f44ad69272779a3f01182d', 'lcpidx': '43b7f5db36994599861eec4849cc68fd', 'barrieridx': 'cb47616cd2dc4ccc8fd523bd3a5064bb', 'windspeed': 10, 'winddirection': 60, 'relhumid': 90, 'temperature': 20}\n",
      "Choosing a perimeter from the database\n",
      "{'description': 'Maria2019', 'igniteidx': 'f0ed36ed580b421483e67ee08598443b', 'compareidx': '51fdaebe31f44ad69272779a3f01182d', 'lcpidx': '43b7f5db36994599861eec4849cc68fd', 'barrieridx': 'cb47616cd2dc4ccc8fd523bd3a5064bb', 'windspeed': 10, 'winddirection': 60, 'relhumid': 90, 'temperature': 20}\n",
      "Choosing a perimeter from the database\n",
      "{'description': 'Maria2019', 'igniteidx': '45076094e3d549ec8ede88771980cf3c', 'compareidx': '51fdaebe31f44ad69272779a3f01182d', 'lcpidx': '43b7f5db36994599861eec4849cc68fd', 'barrieridx': 'cb47616cd2dc4ccc8fd523bd3a5064bb', 'windspeed': 10, 'winddirection': 60, 'relhumid': 90, 'temperature': 20}\n",
      "Choosing a perimeter from the database\n",
      "{'description': 'Maria2019', 'igniteidx': 'a0f4fb16ecb54a69ab035650e7505311', 'compareidx': '51fdaebe31f44ad69272779a3f01182d', 'lcpidx': '43b7f5db36994599861eec4849cc68fd', 'barrieridx': 'cb47616cd2dc4ccc8fd523bd3a5064bb', 'windspeed': 10, 'winddirection': 60, 'relhumid': 90, 'temperature': 20}\n",
      "Choosing a perimeter from the database\n",
      "{'description': 'Maria2019', 'igniteidx': 'dfae5591b48940629614eed1a319f1fb', 'compareidx': '51fdaebe31f44ad69272779a3f01182d', 'lcpidx': '43b7f5db36994599861eec4849cc68fd', 'barrieridx': 'cb47616cd2dc4ccc8fd523bd3a5064bb', 'windspeed': 10, 'winddirection': 60, 'relhumid': 90, 'temperature': 20}\n",
      "Choosing a perimeter from the database\n",
      "{'description': 'Maria2019', 'igniteidx': '0bdb96de753c4a81bf45dbc434a71ec0', 'compareidx': '51fdaebe31f44ad69272779a3f01182d', 'lcpidx': '43b7f5db36994599861eec4849cc68fd', 'barrieridx': 'cb47616cd2dc4ccc8fd523bd3a5064bb', 'windspeed': 10, 'winddirection': 60, 'relhumid': 90, 'temperature': 20}\n",
      "Choosing a perimeter from the database\n",
      "{'description': 'Maria2019', 'igniteidx': '9db967eb8736450db02c1393c4463560', 'compareidx': '51fdaebe31f44ad69272779a3f01182d', 'lcpidx': '43b7f5db36994599861eec4849cc68fd', 'barrieridx': 'cb47616cd2dc4ccc8fd523bd3a5064bb', 'windspeed': 10, 'winddirection': 60, 'relhumid': 90, 'temperature': 20}\n",
      "Choosing a perimeter from the database\n",
      "{'description': 'Maria2019', 'igniteidx': '0a95b0376bb1444798a712f1a2b47482', 'compareidx': '51fdaebe31f44ad69272779a3f01182d', 'lcpidx': '43b7f5db36994599861eec4849cc68fd', 'barrieridx': 'cb47616cd2dc4ccc8fd523bd3a5064bb', 'windspeed': 10, 'winddirection': 60, 'relhumid': 90, 'temperature': 20}\n",
      "Choosing a perimeter from the database\n",
      "{'description': 'Maria2019', 'igniteidx': '966ffe13c4704608a32a5f3317a11bb3', 'compareidx': '51fdaebe31f44ad69272779a3f01182d', 'lcpidx': '43b7f5db36994599861eec4849cc68fd', 'barrieridx': 'cb47616cd2dc4ccc8fd523bd3a5064bb', 'windspeed': 10, 'winddirection': 60, 'relhumid': 90, 'temperature': 20}\n",
      "Choosing a perimeter from the database\n",
      "{'description': 'Maria2019', 'igniteidx': 'b982780afa36410e982e5b42e6554b34', 'compareidx': '51fdaebe31f44ad69272779a3f01182d', 'lcpidx': '43b7f5db36994599861eec4849cc68fd', 'barrieridx': 'cb47616cd2dc4ccc8fd523bd3a5064bb', 'windspeed': 10, 'winddirection': 60, 'relhumid': 90, 'temperature': 20}\n",
      "Choosing a perimeter from the database\n",
      "{'description': 'Maria2019', 'igniteidx': 'd0a4ad9d799b4f0385d0c9ba2779473c', 'compareidx': '51fdaebe31f44ad69272779a3f01182d', 'lcpidx': '43b7f5db36994599861eec4849cc68fd', 'barrieridx': 'cb47616cd2dc4ccc8fd523bd3a5064bb', 'windspeed': 10, 'winddirection': 60, 'relhumid': 90, 'temperature': 20}\n",
      "Choosing a perimeter from the database\n",
      "{'description': 'Maria2019', 'igniteidx': '041405052fa34a7189684004b5736141', 'compareidx': '51fdaebe31f44ad69272779a3f01182d', 'lcpidx': '43b7f5db36994599861eec4849cc68fd', 'barrieridx': 'cb47616cd2dc4ccc8fd523bd3a5064bb', 'windspeed': 10, 'winddirection': 60, 'relhumid': 90, 'temperature': 20}\n",
      "Choosing a perimeter from the database\n",
      "{'description': 'Maria2019', 'igniteidx': 'af408db59cd1437191ddc6e083d702b9', 'compareidx': '51fdaebe31f44ad69272779a3f01182d', 'lcpidx': '43b7f5db36994599861eec4849cc68fd', 'barrieridx': 'cb47616cd2dc4ccc8fd523bd3a5064bb', 'windspeed': 10, 'winddirection': 60, 'relhumid': 90, 'temperature': 20}\n",
      "Choosing a perimeter from the database\n",
      "{'description': 'Maria2019', 'igniteidx': 'a2f204f206dd42a799665a21477734cb', 'compareidx': '51fdaebe31f44ad69272779a3f01182d', 'lcpidx': '43b7f5db36994599861eec4849cc68fd', 'barrieridx': 'cb47616cd2dc4ccc8fd523bd3a5064bb', 'windspeed': 10, 'winddirection': 60, 'relhumid': 90, 'temperature': 20}\n",
      "Choosing a perimeter from the database\n",
      "{'description': 'Maria2019', 'igniteidx': '215115ba01d84f6ba5549e0b4c344efd', 'compareidx': '51fdaebe31f44ad69272779a3f01182d', 'lcpidx': '43b7f5db36994599861eec4849cc68fd', 'barrieridx': 'cb47616cd2dc4ccc8fd523bd3a5064bb', 'windspeed': 10, 'winddirection': 60, 'relhumid': 90, 'temperature': 20}\n",
      "Choosing a perimeter from the database\n",
      "{'description': 'Maria2019', 'igniteidx': '2635b20962c148b5bb5e79f7cf7b9cb0', 'compareidx': '51fdaebe31f44ad69272779a3f01182d', 'lcpidx': '43b7f5db36994599861eec4849cc68fd', 'barrieridx': 'cb47616cd2dc4ccc8fd523bd3a5064bb', 'windspeed': 10, 'winddirection': 60, 'relhumid': 90, 'temperature': 20}\n",
      "Choosing a perimeter from the database\n",
      "{'description': 'Maria2019', 'igniteidx': 'ae5f41261e1c4cffa3f5c3fb8a98ab37', 'compareidx': '51fdaebe31f44ad69272779a3f01182d', 'lcpidx': '43b7f5db36994599861eec4849cc68fd', 'barrieridx': 'cb47616cd2dc4ccc8fd523bd3a5064bb', 'windspeed': 10, 'winddirection': 60, 'relhumid': 90, 'temperature': 20}\n",
      "Choosing a perimeter from the database\n",
      "{'description': 'Maria2019', 'igniteidx': 'edb30fae418946c8bda0ee133a82d092', 'compareidx': '51fdaebe31f44ad69272779a3f01182d', 'lcpidx': '43b7f5db36994599861eec4849cc68fd', 'barrieridx': 'cb47616cd2dc4ccc8fd523bd3a5064bb', 'windspeed': 10, 'winddirection': 60, 'relhumid': 90, 'temperature': 20}\n",
      "Choosing a perimeter from the database\n",
      "{'description': 'Maria2019', 'igniteidx': 'e65551f1114c4ecdb83802827b7471e3', 'compareidx': '51fdaebe31f44ad69272779a3f01182d', 'lcpidx': '43b7f5db36994599861eec4849cc68fd', 'barrieridx': 'cb47616cd2dc4ccc8fd523bd3a5064bb', 'windspeed': 10, 'winddirection': 60, 'relhumid': 90, 'temperature': 20}\n",
      "Choosing a perimeter from the database\n",
      "{'description': 'Maria2019', 'igniteidx': '666c0d6922c2466ca6440ae3dc19d9e1', 'compareidx': '51fdaebe31f44ad69272779a3f01182d', 'lcpidx': '43b7f5db36994599861eec4849cc68fd', 'barrieridx': 'cb47616cd2dc4ccc8fd523bd3a5064bb', 'windspeed': 10, 'winddirection': 60, 'relhumid': 90, 'temperature': 20}\n",
      "Choosing a perimeter from the database\n",
      "{'description': 'Maria2019', 'igniteidx': '6fef6310b9294be9bd408227906e9ef4', 'compareidx': '51fdaebe31f44ad69272779a3f01182d', 'lcpidx': '43b7f5db36994599861eec4849cc68fd', 'barrieridx': 'cb47616cd2dc4ccc8fd523bd3a5064bb', 'windspeed': 10, 'winddirection': 60, 'relhumid': 90, 'temperature': 20}\n",
      "Choosing a perimeter from the database\n",
      "{'description': 'Maria2019', 'igniteidx': '488859e0659442779eaebf74059088cd', 'compareidx': '51fdaebe31f44ad69272779a3f01182d', 'lcpidx': '43b7f5db36994599861eec4849cc68fd', 'barrieridx': 'cb47616cd2dc4ccc8fd523bd3a5064bb', 'windspeed': 10, 'winddirection': 60, 'relhumid': 90, 'temperature': 20}\n",
      "Choosing a perimeter from the database\n",
      "{'description': 'Maria2019', 'igniteidx': 'd29ebd53ac0f48738ec2b30ad8693a27', 'compareidx': '51fdaebe31f44ad69272779a3f01182d', 'lcpidx': '43b7f5db36994599861eec4849cc68fd', 'barrieridx': 'cb47616cd2dc4ccc8fd523bd3a5064bb', 'windspeed': 10, 'winddirection': 60, 'relhumid': 90, 'temperature': 20}\n",
      "Choosing a perimeter from the database\n",
      "{'description': 'Maria2019', 'igniteidx': '4379a62b33324f9d81f95b802cc7a912', 'compareidx': '51fdaebe31f44ad69272779a3f01182d', 'lcpidx': '43b7f5db36994599861eec4849cc68fd', 'barrieridx': 'cb47616cd2dc4ccc8fd523bd3a5064bb', 'windspeed': 10, 'winddirection': 60, 'relhumid': 90, 'temperature': 20}\n",
      "Choosing a perimeter from the database\n",
      "{'description': 'Maria2019', 'igniteidx': 'c87317a1b3e5419fa4a8d2fd6f5c4924', 'compareidx': '51fdaebe31f44ad69272779a3f01182d', 'lcpidx': '43b7f5db36994599861eec4849cc68fd', 'barrieridx': 'cb47616cd2dc4ccc8fd523bd3a5064bb', 'windspeed': 10, 'winddirection': 60, 'relhumid': 90, 'temperature': 20}\n",
      "Choosing a perimeter from the database\n",
      "{'description': 'Maria2019', 'igniteidx': '67f116f390484b7c87fb850fd009bdf1', 'compareidx': '51fdaebe31f44ad69272779a3f01182d', 'lcpidx': '43b7f5db36994599861eec4849cc68fd', 'barrieridx': 'cb47616cd2dc4ccc8fd523bd3a5064bb', 'windspeed': 10, 'winddirection': 60, 'relhumid': 90, 'temperature': 20}\n",
      "Choosing a perimeter from the database\n",
      "{'description': 'Maria2019', 'igniteidx': 'a825df2754664081840b3d563766d374', 'compareidx': '51fdaebe31f44ad69272779a3f01182d', 'lcpidx': '43b7f5db36994599861eec4849cc68fd', 'barrieridx': 'cb47616cd2dc4ccc8fd523bd3a5064bb', 'windspeed': 10, 'winddirection': 60, 'relhumid': 90, 'temperature': 20}\n",
      "Choosing a perimeter from the database\n",
      "{'description': 'Maria2019', 'igniteidx': 'e4cbe233e78344c0a0c6b038f7efd169', 'compareidx': '51fdaebe31f44ad69272779a3f01182d', 'lcpidx': '43b7f5db36994599861eec4849cc68fd', 'barrieridx': 'cb47616cd2dc4ccc8fd523bd3a5064bb', 'windspeed': 10, 'winddirection': 60, 'relhumid': 90, 'temperature': 20}\n",
      "Choosing a perimeter from the database\n",
      "{'description': 'Maria2019', 'igniteidx': '439d31353508449facf3f102f49e4d90', 'compareidx': '51fdaebe31f44ad69272779a3f01182d', 'lcpidx': '43b7f5db36994599861eec4849cc68fd', 'barrieridx': 'cb47616cd2dc4ccc8fd523bd3a5064bb', 'windspeed': 10, 'winddirection': 60, 'relhumid': 90, 'temperature': 20}\n",
      "Choosing a perimeter from the database\n",
      "{'description': 'Maria2019', 'igniteidx': '1c139f416bc248739785b77258721193', 'compareidx': '51fdaebe31f44ad69272779a3f01182d', 'lcpidx': '43b7f5db36994599861eec4849cc68fd', 'barrieridx': 'cb47616cd2dc4ccc8fd523bd3a5064bb', 'windspeed': 10, 'winddirection': 60, 'relhumid': 90, 'temperature': 20}\n",
      "Choosing a perimeter from the database\n",
      "{'description': 'Maria2019', 'igniteidx': 'd773f55d951a4bfe9dd3366e097e5c8b', 'compareidx': '51fdaebe31f44ad69272779a3f01182d', 'lcpidx': '43b7f5db36994599861eec4849cc68fd', 'barrieridx': 'cb47616cd2dc4ccc8fd523bd3a5064bb', 'windspeed': 10, 'winddirection': 60, 'relhumid': 90, 'temperature': 20}\n",
      "Choosing a perimeter from the database\n",
      "{'description': 'Maria2019', 'igniteidx': '4806d18e4f1644bfb9f7c8d1a4e9d5cc', 'compareidx': '51fdaebe31f44ad69272779a3f01182d', 'lcpidx': '43b7f5db36994599861eec4849cc68fd', 'barrieridx': 'cb47616cd2dc4ccc8fd523bd3a5064bb', 'windspeed': 10, 'winddirection': 60, 'relhumid': 90, 'temperature': 20}\n",
      "Choosing a perimeter from the database\n",
      "{'description': 'Maria2019', 'igniteidx': '229b90671ea64f208c55e6e1bbf8aecf', 'compareidx': '51fdaebe31f44ad69272779a3f01182d', 'lcpidx': '43b7f5db36994599861eec4849cc68fd', 'barrieridx': 'cb47616cd2dc4ccc8fd523bd3a5064bb', 'windspeed': 10, 'winddirection': 60, 'relhumid': 90, 'temperature': 20}\n",
      "Choosing a perimeter from the database\n",
      "{'description': 'Maria2019', 'igniteidx': 'cd524fbfed904f838566e122fcda50bf', 'compareidx': '51fdaebe31f44ad69272779a3f01182d', 'lcpidx': '43b7f5db36994599861eec4849cc68fd', 'barrieridx': 'cb47616cd2dc4ccc8fd523bd3a5064bb', 'windspeed': 10, 'winddirection': 60, 'relhumid': 90, 'temperature': 20}\n",
      "Choosing a perimeter from the database\n",
      "{'description': 'Maria2019', 'igniteidx': 'daed349b7f6041bd871e4342add9c1f5', 'compareidx': '51fdaebe31f44ad69272779a3f01182d', 'lcpidx': '43b7f5db36994599861eec4849cc68fd', 'barrieridx': 'cb47616cd2dc4ccc8fd523bd3a5064bb', 'windspeed': 10, 'winddirection': 60, 'relhumid': 90, 'temperature': 20}\n",
      "Choosing a perimeter from the database\n",
      "{'description': 'Maria2019', 'igniteidx': '5446f12ee8c24bb09f4b501a8c5ede4f', 'compareidx': '51fdaebe31f44ad69272779a3f01182d', 'lcpidx': '43b7f5db36994599861eec4849cc68fd', 'barrieridx': 'cb47616cd2dc4ccc8fd523bd3a5064bb', 'windspeed': 10, 'winddirection': 60, 'relhumid': 90, 'temperature': 20}\n",
      "Choosing a perimeter from the database\n",
      "{'description': 'Maria2019', 'igniteidx': '40c33d3674a84b1c8b4ae23c15990325', 'compareidx': '51fdaebe31f44ad69272779a3f01182d', 'lcpidx': '43b7f5db36994599861eec4849cc68fd', 'barrieridx': 'cb47616cd2dc4ccc8fd523bd3a5064bb', 'windspeed': 10, 'winddirection': 60, 'relhumid': 90, 'temperature': 20}\n",
      "Choosing a perimeter from the database\n",
      "{'description': 'Maria2019', 'igniteidx': '399404aa87fe4ab3b7cb0b2af5f99a51', 'compareidx': '51fdaebe31f44ad69272779a3f01182d', 'lcpidx': '43b7f5db36994599861eec4849cc68fd', 'barrieridx': 'cb47616cd2dc4ccc8fd523bd3a5064bb', 'windspeed': 10, 'winddirection': 60, 'relhumid': 90, 'temperature': 20}\n",
      "Choosing a perimeter from the database\n",
      "{'description': 'Maria2019', 'igniteidx': '23a45cb063f24c2c9d8a218b97eb86eb', 'compareidx': '51fdaebe31f44ad69272779a3f01182d', 'lcpidx': '43b7f5db36994599861eec4849cc68fd', 'barrieridx': 'cb47616cd2dc4ccc8fd523bd3a5064bb', 'windspeed': 10, 'winddirection': 60, 'relhumid': 90, 'temperature': 20}\n",
      "Choosing a perimeter from the database\n",
      "{'description': 'Maria2019', 'igniteidx': '8dee4318cb4247e8aa324ebb42936d91', 'compareidx': '51fdaebe31f44ad69272779a3f01182d', 'lcpidx': '43b7f5db36994599861eec4849cc68fd', 'barrieridx': 'cb47616cd2dc4ccc8fd523bd3a5064bb', 'windspeed': 10, 'winddirection': 60, 'relhumid': 90, 'temperature': 20}\n",
      "Choosing a perimeter from the database\n",
      "{'description': 'Maria2019', 'igniteidx': 'f377cec578f64ddab7a82e72dac6884b', 'compareidx': '51fdaebe31f44ad69272779a3f01182d', 'lcpidx': '43b7f5db36994599861eec4849cc68fd', 'barrieridx': 'cb47616cd2dc4ccc8fd523bd3a5064bb', 'windspeed': 10, 'winddirection': 60, 'relhumid': 90, 'temperature': 20}\n",
      "Choosing a perimeter from the database\n",
      "{'description': 'Maria2019', 'igniteidx': '5d72de2f9a7846abb72ae2582c655096', 'compareidx': '51fdaebe31f44ad69272779a3f01182d', 'lcpidx': '43b7f5db36994599861eec4849cc68fd', 'barrieridx': 'cb47616cd2dc4ccc8fd523bd3a5064bb', 'windspeed': 10, 'winddirection': 60, 'relhumid': 90, 'temperature': 20}\n",
      "Choosing a perimeter from the database\n",
      "{'description': 'Maria2019', 'igniteidx': 'e4a93466225c4c458ad8d1506acf2360', 'compareidx': '51fdaebe31f44ad69272779a3f01182d', 'lcpidx': '43b7f5db36994599861eec4849cc68fd', 'barrieridx': 'cb47616cd2dc4ccc8fd523bd3a5064bb', 'windspeed': 10, 'winddirection': 60, 'relhumid': 90, 'temperature': 20}\n",
      "Choosing a perimeter from the database\n",
      "{'description': 'Maria2019', 'igniteidx': 'b14d036c8a1d48f3a7a06c37637ccc45', 'compareidx': '51fdaebe31f44ad69272779a3f01182d', 'lcpidx': '43b7f5db36994599861eec4849cc68fd', 'barrieridx': 'cb47616cd2dc4ccc8fd523bd3a5064bb', 'windspeed': 10, 'winddirection': 60, 'relhumid': 90, 'temperature': 20}\n",
      "Choosing a perimeter from the database\n",
      "{'description': 'Maria2019', 'igniteidx': '1905020d6df445adb0974a7d32aa5fc0', 'compareidx': '51fdaebe31f44ad69272779a3f01182d', 'lcpidx': '43b7f5db36994599861eec4849cc68fd', 'barrieridx': 'cb47616cd2dc4ccc8fd523bd3a5064bb', 'windspeed': 10, 'winddirection': 60, 'relhumid': 90, 'temperature': 20}\n",
      "Choosing a perimeter from the database\n",
      "{'description': 'Maria2019', 'igniteidx': '32e8c4a1fe384260a5a5c30b9fe24da4', 'compareidx': '51fdaebe31f44ad69272779a3f01182d', 'lcpidx': '43b7f5db36994599861eec4849cc68fd', 'barrieridx': 'cb47616cd2dc4ccc8fd523bd3a5064bb', 'windspeed': 10, 'winddirection': 60, 'relhumid': 90, 'temperature': 20}\n",
      "Choosing a perimeter from the database\n",
      "{'description': 'Maria2019', 'igniteidx': 'bd3be2d839e646179918ec817c3c5107', 'compareidx': '51fdaebe31f44ad69272779a3f01182d', 'lcpidx': '43b7f5db36994599861eec4849cc68fd', 'barrieridx': 'cb47616cd2dc4ccc8fd523bd3a5064bb', 'windspeed': 10, 'winddirection': 60, 'relhumid': 90, 'temperature': 20}\n",
      "Choosing a perimeter from the database\n",
      "{'description': 'Maria2019', 'igniteidx': '41e275400867446297dd195ba9af2608', 'compareidx': '51fdaebe31f44ad69272779a3f01182d', 'lcpidx': '43b7f5db36994599861eec4849cc68fd', 'barrieridx': 'cb47616cd2dc4ccc8fd523bd3a5064bb', 'windspeed': 10, 'winddirection': 60, 'relhumid': 90, 'temperature': 20}\n",
      "Choosing a perimeter from the database\n",
      "{'description': 'Maria2019', 'igniteidx': '5e804c1052a948f197bdf2be2ded531a', 'compareidx': '51fdaebe31f44ad69272779a3f01182d', 'lcpidx': '43b7f5db36994599861eec4849cc68fd', 'barrieridx': 'cb47616cd2dc4ccc8fd523bd3a5064bb', 'windspeed': 10, 'winddirection': 60, 'relhumid': 90, 'temperature': 20}\n",
      "Choosing a perimeter from the database\n",
      "{'description': 'Maria2019', 'igniteidx': '772cd2b8329a412181a754d405c3268c', 'compareidx': '51fdaebe31f44ad69272779a3f01182d', 'lcpidx': '43b7f5db36994599861eec4849cc68fd', 'barrieridx': 'cb47616cd2dc4ccc8fd523bd3a5064bb', 'windspeed': 10, 'winddirection': 60, 'relhumid': 90, 'temperature': 20}\n",
      "Choosing a perimeter from the database\n",
      "{'description': 'Maria2019', 'igniteidx': 'aef456b249e74f858d5ae3325cd85b0a', 'compareidx': '51fdaebe31f44ad69272779a3f01182d', 'lcpidx': '43b7f5db36994599861eec4849cc68fd', 'barrieridx': 'cb47616cd2dc4ccc8fd523bd3a5064bb', 'windspeed': 10, 'winddirection': 60, 'relhumid': 90, 'temperature': 20}\n",
      "Choosing a perimeter from the database\n",
      "{'description': 'Maria2019', 'igniteidx': '41f52bf52cf0428eb38621378d460a55', 'compareidx': '51fdaebe31f44ad69272779a3f01182d', 'lcpidx': '43b7f5db36994599861eec4849cc68fd', 'barrieridx': 'cb47616cd2dc4ccc8fd523bd3a5064bb', 'windspeed': 10, 'winddirection': 60, 'relhumid': 90, 'temperature': 20}\n",
      "Choosing a perimeter from the database\n",
      "{'description': 'Maria2019', 'igniteidx': '88d35a661e0d424895c80c49d1dcec6d', 'compareidx': '51fdaebe31f44ad69272779a3f01182d', 'lcpidx': '43b7f5db36994599861eec4849cc68fd', 'barrieridx': 'cb47616cd2dc4ccc8fd523bd3a5064bb', 'windspeed': 10, 'winddirection': 60, 'relhumid': 90, 'temperature': 20}\n",
      "Choosing a perimeter from the database\n",
      "{'description': 'Maria2019', 'igniteidx': '0b2828d802554a2cafa741afe0180ce9', 'compareidx': '51fdaebe31f44ad69272779a3f01182d', 'lcpidx': '43b7f5db36994599861eec4849cc68fd', 'barrieridx': 'cb47616cd2dc4ccc8fd523bd3a5064bb', 'windspeed': 10, 'winddirection': 60, 'relhumid': 90, 'temperature': 20}\n",
      "Choosing a perimeter from the database\n",
      "{'description': 'Maria2019', 'igniteidx': '5791051fbb754a4a8cc032258f0f72b2', 'compareidx': '51fdaebe31f44ad69272779a3f01182d', 'lcpidx': '43b7f5db36994599861eec4849cc68fd', 'barrieridx': 'cb47616cd2dc4ccc8fd523bd3a5064bb', 'windspeed': 10, 'winddirection': 60, 'relhumid': 90, 'temperature': 20}\n",
      "Choosing a perimeter from the database\n",
      "{'description': 'Maria2019', 'igniteidx': '76bcd07f5c9a46299383c1a994aa763f', 'compareidx': '51fdaebe31f44ad69272779a3f01182d', 'lcpidx': '43b7f5db36994599861eec4849cc68fd', 'barrieridx': 'cb47616cd2dc4ccc8fd523bd3a5064bb', 'windspeed': 10, 'winddirection': 60, 'relhumid': 90, 'temperature': 20}\n",
      "Choosing a perimeter from the database\n",
      "{'description': 'Maria2019', 'igniteidx': 'fb26fa7d8186441f9a25bd39c400a761', 'compareidx': '51fdaebe31f44ad69272779a3f01182d', 'lcpidx': '43b7f5db36994599861eec4849cc68fd', 'barrieridx': 'cb47616cd2dc4ccc8fd523bd3a5064bb', 'windspeed': 10, 'winddirection': 60, 'relhumid': 90, 'temperature': 20}\n",
      "Choosing a perimeter from the database\n",
      "{'description': 'Maria2019', 'igniteidx': '21d2c412872644908831d411cc69a2e5', 'compareidx': '51fdaebe31f44ad69272779a3f01182d', 'lcpidx': '43b7f5db36994599861eec4849cc68fd', 'barrieridx': 'cb47616cd2dc4ccc8fd523bd3a5064bb', 'windspeed': 10, 'winddirection': 60, 'relhumid': 90, 'temperature': 20}\n",
      "Choosing a perimeter from the database\n",
      "{'description': 'Maria2019', 'igniteidx': 'bd280b8e670149d5a0a735bae58e9833', 'compareidx': '51fdaebe31f44ad69272779a3f01182d', 'lcpidx': '43b7f5db36994599861eec4849cc68fd', 'barrieridx': 'cb47616cd2dc4ccc8fd523bd3a5064bb', 'windspeed': 10, 'winddirection': 60, 'relhumid': 90, 'temperature': 20}\n",
      "Choosing a perimeter from the database\n",
      "{'description': 'Maria2019', 'igniteidx': 'afa7ad791d314284bd008bb21fe77f6c', 'compareidx': '51fdaebe31f44ad69272779a3f01182d', 'lcpidx': '43b7f5db36994599861eec4849cc68fd', 'barrieridx': 'cb47616cd2dc4ccc8fd523bd3a5064bb', 'windspeed': 10, 'winddirection': 60, 'relhumid': 90, 'temperature': 20}\n",
      "Choosing a perimeter from the database\n",
      "{'description': 'Maria2019', 'igniteidx': 'a7e4561f7c8d498cbd3e8fd8a69cfaab', 'compareidx': '51fdaebe31f44ad69272779a3f01182d', 'lcpidx': '43b7f5db36994599861eec4849cc68fd', 'barrieridx': 'cb47616cd2dc4ccc8fd523bd3a5064bb', 'windspeed': 10, 'winddirection': 60, 'relhumid': 90, 'temperature': 20}\n",
      "Choosing a perimeter from the database\n",
      "{'description': 'Maria2019', 'igniteidx': '309b74ca2da74b3f96faf01dd2cf08b0', 'compareidx': '51fdaebe31f44ad69272779a3f01182d', 'lcpidx': '43b7f5db36994599861eec4849cc68fd', 'barrieridx': 'cb47616cd2dc4ccc8fd523bd3a5064bb', 'windspeed': 10, 'winddirection': 60, 'relhumid': 90, 'temperature': 20}\n",
      "Choosing a perimeter from the database\n",
      "{'description': 'Maria2019', 'igniteidx': '0b39fab53ed6435b8f56ec6ea15c64e6', 'compareidx': '51fdaebe31f44ad69272779a3f01182d', 'lcpidx': '43b7f5db36994599861eec4849cc68fd', 'barrieridx': 'cb47616cd2dc4ccc8fd523bd3a5064bb', 'windspeed': 10, 'winddirection': 60, 'relhumid': 90, 'temperature': 20}\n",
      "Choosing a perimeter from the database\n",
      "{'description': 'Maria2019', 'igniteidx': '31d6e1f6e7534898bbcfab986e39e541', 'compareidx': '51fdaebe31f44ad69272779a3f01182d', 'lcpidx': '43b7f5db36994599861eec4849cc68fd', 'barrieridx': 'cb47616cd2dc4ccc8fd523bd3a5064bb', 'windspeed': 10, 'winddirection': 60, 'relhumid': 90, 'temperature': 20}\n",
      "Choosing a perimeter from the database\n",
      "{'description': 'Maria2019', 'igniteidx': '09de561bee85417595969749eb939231', 'compareidx': '51fdaebe31f44ad69272779a3f01182d', 'lcpidx': '43b7f5db36994599861eec4849cc68fd', 'barrieridx': 'cb47616cd2dc4ccc8fd523bd3a5064bb', 'windspeed': 10, 'winddirection': 60, 'relhumid': 90, 'temperature': 20}\n",
      "Choosing a perimeter from the database\n",
      "{'description': 'Maria2019', 'igniteidx': 'd2965b41a3ad4d5c9afcfe97b576cd7e', 'compareidx': '51fdaebe31f44ad69272779a3f01182d', 'lcpidx': '43b7f5db36994599861eec4849cc68fd', 'barrieridx': 'cb47616cd2dc4ccc8fd523bd3a5064bb', 'windspeed': 10, 'winddirection': 60, 'relhumid': 90, 'temperature': 20}\n",
      "Choosing a perimeter from the database\n",
      "{'description': 'Maria2019', 'igniteidx': '63158be54063457ea5f85171dc8351b5', 'compareidx': '51fdaebe31f44ad69272779a3f01182d', 'lcpidx': '43b7f5db36994599861eec4849cc68fd', 'barrieridx': 'cb47616cd2dc4ccc8fd523bd3a5064bb', 'windspeed': 10, 'winddirection': 60, 'relhumid': 90, 'temperature': 20}\n",
      "Choosing a perimeter from the database\n",
      "{'description': 'Maria2019', 'igniteidx': 'abf45dae9c2244beb32ea544ae9c6eb1', 'compareidx': '51fdaebe31f44ad69272779a3f01182d', 'lcpidx': '43b7f5db36994599861eec4849cc68fd', 'barrieridx': 'cb47616cd2dc4ccc8fd523bd3a5064bb', 'windspeed': 10, 'winddirection': 60, 'relhumid': 90, 'temperature': 20}\n",
      "Choosing a perimeter from the database\n",
      "{'description': 'Maria2019', 'igniteidx': '872f3bb3e8fa47568fa3d2b76ca13783', 'compareidx': '51fdaebe31f44ad69272779a3f01182d', 'lcpidx': '43b7f5db36994599861eec4849cc68fd', 'barrieridx': 'cb47616cd2dc4ccc8fd523bd3a5064bb', 'windspeed': 10, 'winddirection': 60, 'relhumid': 90, 'temperature': 20}\n",
      "Choosing a perimeter from the database\n",
      "{'description': 'Maria2019', 'igniteidx': '9bbdc453288a44008b956fbcd3fbbe98', 'compareidx': '51fdaebe31f44ad69272779a3f01182d', 'lcpidx': '43b7f5db36994599861eec4849cc68fd', 'barrieridx': 'cb47616cd2dc4ccc8fd523bd3a5064bb', 'windspeed': 10, 'winddirection': 60, 'relhumid': 90, 'temperature': 20}\n",
      "Choosing a perimeter from the database\n",
      "{'description': 'Maria2019', 'igniteidx': 'e8af9c4662164dc38394c956f159a050', 'compareidx': '51fdaebe31f44ad69272779a3f01182d', 'lcpidx': '43b7f5db36994599861eec4849cc68fd', 'barrieridx': 'cb47616cd2dc4ccc8fd523bd3a5064bb', 'windspeed': 10, 'winddirection': 60, 'relhumid': 90, 'temperature': 20}\n",
      "Choosing a perimeter from the database\n",
      "{'description': 'Maria2019', 'igniteidx': 'ed7eeee76ecf4dbcbbeda74dbfaccdd3', 'compareidx': '51fdaebe31f44ad69272779a3f01182d', 'lcpidx': '43b7f5db36994599861eec4849cc68fd', 'barrieridx': 'cb47616cd2dc4ccc8fd523bd3a5064bb', 'windspeed': 10, 'winddirection': 60, 'relhumid': 90, 'temperature': 20}\n",
      "Choosing a perimeter from the database\n",
      "{'description': 'Maria2019', 'igniteidx': 'ed77c2ff02974f17910740693c2403f0', 'compareidx': '51fdaebe31f44ad69272779a3f01182d', 'lcpidx': '43b7f5db36994599861eec4849cc68fd', 'barrieridx': 'cb47616cd2dc4ccc8fd523bd3a5064bb', 'windspeed': 10, 'winddirection': 60, 'relhumid': 90, 'temperature': 20}\n",
      "Choosing a perimeter from the database\n",
      "{'description': 'Maria2019', 'igniteidx': 'f3669cdfc0ff4ca6ad34bb54eb8eaa5b', 'compareidx': '51fdaebe31f44ad69272779a3f01182d', 'lcpidx': '43b7f5db36994599861eec4849cc68fd', 'barrieridx': 'cb47616cd2dc4ccc8fd523bd3a5064bb', 'windspeed': 10, 'winddirection': 60, 'relhumid': 90, 'temperature': 20}\n",
      "Choosing a perimeter from the database\n",
      "{'description': 'Maria2019', 'igniteidx': 'f3f9a83ffb8446c390d78d6568f77f4d', 'compareidx': '51fdaebe31f44ad69272779a3f01182d', 'lcpidx': '43b7f5db36994599861eec4849cc68fd', 'barrieridx': 'cb47616cd2dc4ccc8fd523bd3a5064bb', 'windspeed': 10, 'winddirection': 60, 'relhumid': 90, 'temperature': 20}\n",
      "Choosing a perimeter from the database\n",
      "{'description': 'Maria2019', 'igniteidx': '2c9da871f10e4fe9abac533e3a8b8b33', 'compareidx': '51fdaebe31f44ad69272779a3f01182d', 'lcpidx': '43b7f5db36994599861eec4849cc68fd', 'barrieridx': 'cb47616cd2dc4ccc8fd523bd3a5064bb', 'windspeed': 10, 'winddirection': 60, 'relhumid': 90, 'temperature': 20}\n",
      "Choosing a perimeter from the database\n",
      "{'description': 'Maria2019', 'igniteidx': 'd9f6971579c34990b350f95805326ae1', 'compareidx': '51fdaebe31f44ad69272779a3f01182d', 'lcpidx': '43b7f5db36994599861eec4849cc68fd', 'barrieridx': 'cb47616cd2dc4ccc8fd523bd3a5064bb', 'windspeed': 10, 'winddirection': 60, 'relhumid': 90, 'temperature': 20}\n",
      "Choosing a perimeter from the database\n",
      "{'description': 'Maria2019', 'igniteidx': 'a0d48cbbc26c4046ae8bc5278cdb9007', 'compareidx': '51fdaebe31f44ad69272779a3f01182d', 'lcpidx': '43b7f5db36994599861eec4849cc68fd', 'barrieridx': 'cb47616cd2dc4ccc8fd523bd3a5064bb', 'windspeed': 10, 'winddirection': 60, 'relhumid': 90, 'temperature': 20}\n",
      "Choosing a perimeter from the database\n",
      "{'description': 'Maria2019', 'igniteidx': 'e25c6b51cc314ddabd8f8eac2df2d6d4', 'compareidx': '51fdaebe31f44ad69272779a3f01182d', 'lcpidx': '43b7f5db36994599861eec4849cc68fd', 'barrieridx': 'cb47616cd2dc4ccc8fd523bd3a5064bb', 'windspeed': 10, 'winddirection': 60, 'relhumid': 90, 'temperature': 20}\n",
      "Choosing a perimeter from the database\n",
      "{'description': 'Maria2019', 'igniteidx': 'c4e0a7e82f384e0c955abd37a985fcfc', 'compareidx': '51fdaebe31f44ad69272779a3f01182d', 'lcpidx': '43b7f5db36994599861eec4849cc68fd', 'barrieridx': 'cb47616cd2dc4ccc8fd523bd3a5064bb', 'windspeed': 10, 'winddirection': 60, 'relhumid': 90, 'temperature': 20}\n",
      "Choosing a perimeter from the database\n",
      "{'description': 'Maria2019', 'igniteidx': '23e5f8c2b80e49a6ae39467b1f878e20', 'compareidx': '51fdaebe31f44ad69272779a3f01182d', 'lcpidx': '43b7f5db36994599861eec4849cc68fd', 'barrieridx': 'cb47616cd2dc4ccc8fd523bd3a5064bb', 'windspeed': 10, 'winddirection': 60, 'relhumid': 90, 'temperature': 20}\n",
      "Choosing a perimeter from the database\n",
      "{'description': 'Maria2019', 'igniteidx': '1d1c38af1abe478a9c0b3eb8175ca8c1', 'compareidx': '51fdaebe31f44ad69272779a3f01182d', 'lcpidx': '43b7f5db36994599861eec4849cc68fd', 'barrieridx': 'cb47616cd2dc4ccc8fd523bd3a5064bb', 'windspeed': 10, 'winddirection': 60, 'relhumid': 90, 'temperature': 20}\n",
      "Choosing a perimeter from the database\n",
      "{'description': 'Maria2019', 'igniteidx': 'c02d37371cb6451183793026bcd97de8', 'compareidx': '51fdaebe31f44ad69272779a3f01182d', 'lcpidx': '43b7f5db36994599861eec4849cc68fd', 'barrieridx': 'cb47616cd2dc4ccc8fd523bd3a5064bb', 'windspeed': 10, 'winddirection': 60, 'relhumid': 90, 'temperature': 20}\n",
      "Choosing a perimeter from the database\n",
      "{'description': 'Maria2019', 'igniteidx': '39ed2411be4941acb3e6faa07724eb25', 'compareidx': '51fdaebe31f44ad69272779a3f01182d', 'lcpidx': '43b7f5db36994599861eec4849cc68fd', 'barrieridx': 'cb47616cd2dc4ccc8fd523bd3a5064bb', 'windspeed': 10, 'winddirection': 60, 'relhumid': 90, 'temperature': 20}\n",
      "Choosing a perimeter from the database\n",
      "{'description': 'Maria2019', 'igniteidx': 'cbdbe722e55f4a1c8fd2458e0ecf6032', 'compareidx': '51fdaebe31f44ad69272779a3f01182d', 'lcpidx': '43b7f5db36994599861eec4849cc68fd', 'barrieridx': 'cb47616cd2dc4ccc8fd523bd3a5064bb', 'windspeed': 10, 'winddirection': 60, 'relhumid': 90, 'temperature': 20}\n",
      "Choosing a perimeter from the database\n",
      "{'description': 'Maria2019', 'igniteidx': 'fe1691492f0c4ad3b6bf2ba378fc8298', 'compareidx': '51fdaebe31f44ad69272779a3f01182d', 'lcpidx': '43b7f5db36994599861eec4849cc68fd', 'barrieridx': 'cb47616cd2dc4ccc8fd523bd3a5064bb', 'windspeed': 10, 'winddirection': 60, 'relhumid': 90, 'temperature': 20}\n",
      "Choosing a perimeter from the database\n",
      "{'description': 'Maria2019', 'igniteidx': '2b4929f6389c4aa1941151386c394c46', 'compareidx': '51fdaebe31f44ad69272779a3f01182d', 'lcpidx': '43b7f5db36994599861eec4849cc68fd', 'barrieridx': 'cb47616cd2dc4ccc8fd523bd3a5064bb', 'windspeed': 10, 'winddirection': 60, 'relhumid': 90, 'temperature': 20}\n",
      "Choosing a perimeter from the database\n",
      "{'description': 'Maria2019', 'igniteidx': 'aa240e006e384a39a7cf9df244fa6cfd', 'compareidx': '51fdaebe31f44ad69272779a3f01182d', 'lcpidx': '43b7f5db36994599861eec4849cc68fd', 'barrieridx': 'cb47616cd2dc4ccc8fd523bd3a5064bb', 'windspeed': 10, 'winddirection': 60, 'relhumid': 90, 'temperature': 20}\n",
      "Choosing a perimeter from the database\n",
      "{'description': 'Maria2019', 'igniteidx': 'cf827fe282804927974b7a7d27f3ce0b', 'compareidx': '51fdaebe31f44ad69272779a3f01182d', 'lcpidx': '43b7f5db36994599861eec4849cc68fd', 'barrieridx': 'cb47616cd2dc4ccc8fd523bd3a5064bb', 'windspeed': 10, 'winddirection': 60, 'relhumid': 90, 'temperature': 20}\n",
      "Choosing a perimeter from the database\n",
      "{'description': 'Maria2019', 'igniteidx': '54638a506f9f45f9af154eef5e89f573', 'compareidx': '51fdaebe31f44ad69272779a3f01182d', 'lcpidx': '43b7f5db36994599861eec4849cc68fd', 'barrieridx': 'cb47616cd2dc4ccc8fd523bd3a5064bb', 'windspeed': 10, 'winddirection': 60, 'relhumid': 90, 'temperature': 20}\n",
      "Choosing a perimeter from the database\n",
      "{'description': 'Maria2019', 'igniteidx': 'a3994fdf10974483a826bac3a5c19009', 'compareidx': '51fdaebe31f44ad69272779a3f01182d', 'lcpidx': '43b7f5db36994599861eec4849cc68fd', 'barrieridx': 'cb47616cd2dc4ccc8fd523bd3a5064bb', 'windspeed': 10, 'winddirection': 60, 'relhumid': 90, 'temperature': 20}\n",
      "Choosing a perimeter from the database\n",
      "{'description': 'Maria2019', 'igniteidx': '2866a3502c6148e9956e61c73bf2c1d0', 'compareidx': '51fdaebe31f44ad69272779a3f01182d', 'lcpidx': '43b7f5db36994599861eec4849cc68fd', 'barrieridx': 'cb47616cd2dc4ccc8fd523bd3a5064bb', 'windspeed': 10, 'winddirection': 60, 'relhumid': 90, 'temperature': 20}\n",
      "Choosing a perimeter from the database\n",
      "{'description': 'Maria2019', 'igniteidx': 'deb42124bbee4e5ab3532b742cd6c4a5', 'compareidx': '51fdaebe31f44ad69272779a3f01182d', 'lcpidx': '43b7f5db36994599861eec4849cc68fd', 'barrieridx': 'cb47616cd2dc4ccc8fd523bd3a5064bb', 'windspeed': 10, 'winddirection': 60, 'relhumid': 90, 'temperature': 20}\n",
      "Choosing a perimeter from the database\n",
      "{'description': 'Maria2019', 'igniteidx': '16385144ed044b42b51decca93cb80bd', 'compareidx': '51fdaebe31f44ad69272779a3f01182d', 'lcpidx': '43b7f5db36994599861eec4849cc68fd', 'barrieridx': 'cb47616cd2dc4ccc8fd523bd3a5064bb', 'windspeed': 10, 'winddirection': 60, 'relhumid': 90, 'temperature': 20}\n",
      "Choosing a perimeter from the database\n",
      "{'description': 'Maria2019', 'igniteidx': '43ec44c0633d4665bdf5b8aac4d84cb6', 'compareidx': '51fdaebe31f44ad69272779a3f01182d', 'lcpidx': '43b7f5db36994599861eec4849cc68fd', 'barrieridx': 'cb47616cd2dc4ccc8fd523bd3a5064bb', 'windspeed': 10, 'winddirection': 60, 'relhumid': 90, 'temperature': 20}\n",
      "Choosing a perimeter from the database\n",
      "{'description': 'Maria2019', 'igniteidx': '15580954d05e4eda9649dafe25bfe2dc', 'compareidx': '51fdaebe31f44ad69272779a3f01182d', 'lcpidx': '43b7f5db36994599861eec4849cc68fd', 'barrieridx': 'cb47616cd2dc4ccc8fd523bd3a5064bb', 'windspeed': 10, 'winddirection': 60, 'relhumid': 90, 'temperature': 20}\n",
      "Choosing a perimeter from the database\n",
      "{'description': 'Maria2019', 'igniteidx': 'f6f1a5439c1145b998e5b7ffaeccbaea', 'compareidx': '51fdaebe31f44ad69272779a3f01182d', 'lcpidx': '43b7f5db36994599861eec4849cc68fd', 'barrieridx': 'cb47616cd2dc4ccc8fd523bd3a5064bb', 'windspeed': 10, 'winddirection': 60, 'relhumid': 90, 'temperature': 20}\n",
      "Choosing a perimeter from the database\n",
      "{'description': 'Maria2019', 'igniteidx': 'f76ac1716eab42b592bd2828a9b8d540', 'compareidx': '51fdaebe31f44ad69272779a3f01182d', 'lcpidx': '43b7f5db36994599861eec4849cc68fd', 'barrieridx': 'cb47616cd2dc4ccc8fd523bd3a5064bb', 'windspeed': 10, 'winddirection': 60, 'relhumid': 90, 'temperature': 20}\n",
      "Choosing a perimeter from the database\n",
      "{'description': 'Maria2019', 'igniteidx': '39024c98da484504af73a0a5c616ae22', 'compareidx': '51fdaebe31f44ad69272779a3f01182d', 'lcpidx': '43b7f5db36994599861eec4849cc68fd', 'barrieridx': 'cb47616cd2dc4ccc8fd523bd3a5064bb', 'windspeed': 10, 'winddirection': 60, 'relhumid': 90, 'temperature': 20}\n",
      "Choosing a perimeter from the database\n",
      "{'description': 'Maria2019', 'igniteidx': '13170327d33441eeb8fd2216f0768c29', 'compareidx': '51fdaebe31f44ad69272779a3f01182d', 'lcpidx': '43b7f5db36994599861eec4849cc68fd', 'barrieridx': 'cb47616cd2dc4ccc8fd523bd3a5064bb', 'windspeed': 10, 'winddirection': 60, 'relhumid': 90, 'temperature': 20}\n",
      "Choosing a perimeter from the database\n",
      "{'description': 'Maria2019', 'igniteidx': '719b9429d8cb4509844fa194fe28f9f3', 'compareidx': '51fdaebe31f44ad69272779a3f01182d', 'lcpidx': '43b7f5db36994599861eec4849cc68fd', 'barrieridx': 'cb47616cd2dc4ccc8fd523bd3a5064bb', 'windspeed': 10, 'winddirection': 60, 'relhumid': 90, 'temperature': 20}\n",
      "Choosing a perimeter from the database\n",
      "{'description': 'Maria2019', 'igniteidx': 'd616edec9ddf46eea56d0302088fcdf4', 'compareidx': '51fdaebe31f44ad69272779a3f01182d', 'lcpidx': '43b7f5db36994599861eec4849cc68fd', 'barrieridx': 'cb47616cd2dc4ccc8fd523bd3a5064bb', 'windspeed': 10, 'winddirection': 60, 'relhumid': 90, 'temperature': 20}\n",
      "Choosing a perimeter from the database\n",
      "{'description': 'Maria2019', 'igniteidx': '14499c7678f845bd82f5619ff34e6509', 'compareidx': '51fdaebe31f44ad69272779a3f01182d', 'lcpidx': '43b7f5db36994599861eec4849cc68fd', 'barrieridx': 'cb47616cd2dc4ccc8fd523bd3a5064bb', 'windspeed': 10, 'winddirection': 60, 'relhumid': 90, 'temperature': 20}\n",
      "Choosing a perimeter from the database\n",
      "{'description': 'Maria2019', 'igniteidx': '459c6bc4a9e3430aaffb3b522c74eb6b', 'compareidx': '51fdaebe31f44ad69272779a3f01182d', 'lcpidx': '43b7f5db36994599861eec4849cc68fd', 'barrieridx': 'cb47616cd2dc4ccc8fd523bd3a5064bb', 'windspeed': 10, 'winddirection': 60, 'relhumid': 90, 'temperature': 20}\n",
      "Choosing a perimeter from the database\n",
      "{'description': 'Maria2019', 'igniteidx': '75609a0dfb7b491cb420f23239ea32f7', 'compareidx': '51fdaebe31f44ad69272779a3f01182d', 'lcpidx': '43b7f5db36994599861eec4849cc68fd', 'barrieridx': 'cb47616cd2dc4ccc8fd523bd3a5064bb', 'windspeed': 10, 'winddirection': 60, 'relhumid': 90, 'temperature': 20}\n",
      "Choosing a perimeter from the database\n",
      "{'description': 'Maria2019', 'igniteidx': 'd38223caebcc4abf9444fa8b214f08a2', 'compareidx': '51fdaebe31f44ad69272779a3f01182d', 'lcpidx': '43b7f5db36994599861eec4849cc68fd', 'barrieridx': 'cb47616cd2dc4ccc8fd523bd3a5064bb', 'windspeed': 10, 'winddirection': 60, 'relhumid': 90, 'temperature': 20}\n",
      "Choosing a perimeter from the database\n",
      "{'description': 'Maria2019', 'igniteidx': '8d89103c3dda4d76a8ac34c99ebf6278', 'compareidx': '51fdaebe31f44ad69272779a3f01182d', 'lcpidx': '43b7f5db36994599861eec4849cc68fd', 'barrieridx': 'cb47616cd2dc4ccc8fd523bd3a5064bb', 'windspeed': 10, 'winddirection': 60, 'relhumid': 90, 'temperature': 20}\n",
      "Choosing a perimeter from the database\n",
      "{'description': 'Maria2019', 'igniteidx': 'aa59bd85eb16414d8e9eea08bd16c014', 'compareidx': '51fdaebe31f44ad69272779a3f01182d', 'lcpidx': '43b7f5db36994599861eec4849cc68fd', 'barrieridx': 'cb47616cd2dc4ccc8fd523bd3a5064bb', 'windspeed': 10, 'winddirection': 60, 'relhumid': 90, 'temperature': 20}\n",
      "Choosing a perimeter from the database\n",
      "{'description': 'Maria2019', 'igniteidx': '12977ff810c64b9797bb1e2e26bdf25c', 'compareidx': '51fdaebe31f44ad69272779a3f01182d', 'lcpidx': '43b7f5db36994599861eec4849cc68fd', 'barrieridx': 'cb47616cd2dc4ccc8fd523bd3a5064bb', 'windspeed': 10, 'winddirection': 60, 'relhumid': 90, 'temperature': 20}\n",
      "Choosing a perimeter from the database\n",
      "{'description': 'Maria2019', 'igniteidx': 'af72a1f705394d69a1e9dda72ce30a84', 'compareidx': '51fdaebe31f44ad69272779a3f01182d', 'lcpidx': '43b7f5db36994599861eec4849cc68fd', 'barrieridx': 'cb47616cd2dc4ccc8fd523bd3a5064bb', 'windspeed': 10, 'winddirection': 60, 'relhumid': 90, 'temperature': 20}\n",
      "Choosing a perimeter from the database\n",
      "{'description': 'Maria2019', 'igniteidx': 'f00611b939834647986f6b85f92268a4', 'compareidx': '51fdaebe31f44ad69272779a3f01182d', 'lcpidx': '43b7f5db36994599861eec4849cc68fd', 'barrieridx': 'cb47616cd2dc4ccc8fd523bd3a5064bb', 'windspeed': 10, 'winddirection': 60, 'relhumid': 90, 'temperature': 20}\n",
      "Choosing a perimeter from the database\n",
      "{'description': 'Maria2019', 'igniteidx': 'd0164e63e14d4629a8c519beb2d6b475', 'compareidx': '51fdaebe31f44ad69272779a3f01182d', 'lcpidx': '43b7f5db36994599861eec4849cc68fd', 'barrieridx': 'cb47616cd2dc4ccc8fd523bd3a5064bb', 'windspeed': 10, 'winddirection': 60, 'relhumid': 90, 'temperature': 20}\n",
      "Choosing a perimeter from the database\n",
      "{'description': 'Maria2019', 'igniteidx': '98801387ce414dbe9018a0c97f988997', 'compareidx': '51fdaebe31f44ad69272779a3f01182d', 'lcpidx': '43b7f5db36994599861eec4849cc68fd', 'barrieridx': 'cb47616cd2dc4ccc8fd523bd3a5064bb', 'windspeed': 10, 'winddirection': 60, 'relhumid': 90, 'temperature': 20}\n",
      "Choosing a perimeter from the database\n",
      "{'description': 'Maria2019', 'igniteidx': '045edeb9a83d480a804c136f08fc538a', 'compareidx': '51fdaebe31f44ad69272779a3f01182d', 'lcpidx': '43b7f5db36994599861eec4849cc68fd', 'barrieridx': 'cb47616cd2dc4ccc8fd523bd3a5064bb', 'windspeed': 10, 'winddirection': 60, 'relhumid': 90, 'temperature': 20}\n",
      "Choosing a perimeter from the database\n",
      "{'description': 'Maria2019', 'igniteidx': '6087c4b4735c4c84bca74bb5ae8bc10b', 'compareidx': '51fdaebe31f44ad69272779a3f01182d', 'lcpidx': '43b7f5db36994599861eec4849cc68fd', 'barrieridx': 'cb47616cd2dc4ccc8fd523bd3a5064bb', 'windspeed': 10, 'winddirection': 60, 'relhumid': 90, 'temperature': 20}\n",
      "Choosing a perimeter from the database\n",
      "{'description': 'Maria2019', 'igniteidx': '69b34c4471ca4a21a8999c595658a7d6', 'compareidx': '51fdaebe31f44ad69272779a3f01182d', 'lcpidx': '43b7f5db36994599861eec4849cc68fd', 'barrieridx': 'cb47616cd2dc4ccc8fd523bd3a5064bb', 'windspeed': 10, 'winddirection': 60, 'relhumid': 90, 'temperature': 20}\n",
      "Choosing a perimeter from the database\n",
      "{'description': 'Maria2019', 'igniteidx': '5c7ad6297b1f468591adea8e4c591427', 'compareidx': '51fdaebe31f44ad69272779a3f01182d', 'lcpidx': '43b7f5db36994599861eec4849cc68fd', 'barrieridx': 'cb47616cd2dc4ccc8fd523bd3a5064bb', 'windspeed': 10, 'winddirection': 60, 'relhumid': 90, 'temperature': 20}\n",
      "Choosing a perimeter from the database\n",
      "{'description': 'Maria2019', 'igniteidx': '89eaaa1613f04b828ad855597aeba1f8', 'compareidx': '51fdaebe31f44ad69272779a3f01182d', 'lcpidx': '43b7f5db36994599861eec4849cc68fd', 'barrieridx': 'cb47616cd2dc4ccc8fd523bd3a5064bb', 'windspeed': 10, 'winddirection': 60, 'relhumid': 90, 'temperature': 20}\n",
      "Choosing a perimeter from the database\n",
      "{'description': 'Maria2019', 'igniteidx': '96de635a5c56427d873725b4bfc0a9e3', 'compareidx': '51fdaebe31f44ad69272779a3f01182d', 'lcpidx': '43b7f5db36994599861eec4849cc68fd', 'barrieridx': 'cb47616cd2dc4ccc8fd523bd3a5064bb', 'windspeed': 10, 'winddirection': 60, 'relhumid': 90, 'temperature': 20}\n",
      "Choosing a perimeter from the database\n",
      "{'description': 'Maria2019', 'igniteidx': '07a961bea5ae4d75bf447d2ab530a454', 'compareidx': '51fdaebe31f44ad69272779a3f01182d', 'lcpidx': '43b7f5db36994599861eec4849cc68fd', 'barrieridx': 'cb47616cd2dc4ccc8fd523bd3a5064bb', 'windspeed': 10, 'winddirection': 60, 'relhumid': 90, 'temperature': 20}\n",
      "Choosing a perimeter from the database\n",
      "{'description': 'Maria2019', 'igniteidx': '8bb73bdef70149b0bf704fddc0df5e50', 'compareidx': '51fdaebe31f44ad69272779a3f01182d', 'lcpidx': '43b7f5db36994599861eec4849cc68fd', 'barrieridx': 'cb47616cd2dc4ccc8fd523bd3a5064bb', 'windspeed': 10, 'winddirection': 60, 'relhumid': 90, 'temperature': 20}\n",
      "Choosing a perimeter from the database\n",
      "{'description': 'Maria2019', 'igniteidx': '8ed14fcc6fba46e08c04cbaeec7924b7', 'compareidx': '51fdaebe31f44ad69272779a3f01182d', 'lcpidx': '43b7f5db36994599861eec4849cc68fd', 'barrieridx': 'cb47616cd2dc4ccc8fd523bd3a5064bb', 'windspeed': 10, 'winddirection': 60, 'relhumid': 90, 'temperature': 20}\n",
      "Choosing a perimeter from the database\n",
      "{'description': 'Maria2019', 'igniteidx': '3019fea184f94187822fd15ac8403cff', 'compareidx': '51fdaebe31f44ad69272779a3f01182d', 'lcpidx': '43b7f5db36994599861eec4849cc68fd', 'barrieridx': 'cb47616cd2dc4ccc8fd523bd3a5064bb', 'windspeed': 10, 'winddirection': 60, 'relhumid': 90, 'temperature': 20}\n",
      "Choosing a perimeter from the database\n",
      "{'description': 'Maria2019', 'igniteidx': 'f92325d4769842c9aaaaab39e40411ed', 'compareidx': '51fdaebe31f44ad69272779a3f01182d', 'lcpidx': '43b7f5db36994599861eec4849cc68fd', 'barrieridx': 'cb47616cd2dc4ccc8fd523bd3a5064bb', 'windspeed': 10, 'winddirection': 60, 'relhumid': 90, 'temperature': 20}\n",
      "Choosing a perimeter from the database\n",
      "{'description': 'Maria2019', 'igniteidx': 'ce3c063d9ce4427383b220543cf41301', 'compareidx': '51fdaebe31f44ad69272779a3f01182d', 'lcpidx': '43b7f5db36994599861eec4849cc68fd', 'barrieridx': 'cb47616cd2dc4ccc8fd523bd3a5064bb', 'windspeed': 10, 'winddirection': 60, 'relhumid': 90, 'temperature': 20}\n",
      "Choosing a perimeter from the database\n",
      "{'description': 'Maria2019', 'igniteidx': '32924e1f24e84876b2ab912e70f30cf9', 'compareidx': '51fdaebe31f44ad69272779a3f01182d', 'lcpidx': '43b7f5db36994599861eec4849cc68fd', 'barrieridx': 'cb47616cd2dc4ccc8fd523bd3a5064bb', 'windspeed': 10, 'winddirection': 60, 'relhumid': 90, 'temperature': 20}\n",
      "Choosing a perimeter from the database\n",
      "{'description': 'Maria2019', 'igniteidx': 'c9b8779df9ed44389270464c7ff4c78c', 'compareidx': '51fdaebe31f44ad69272779a3f01182d', 'lcpidx': '43b7f5db36994599861eec4849cc68fd', 'barrieridx': 'cb47616cd2dc4ccc8fd523bd3a5064bb', 'windspeed': 10, 'winddirection': 60, 'relhumid': 90, 'temperature': 20}\n",
      "Choosing a perimeter from the database\n",
      "{'description': 'Maria2019', 'igniteidx': 'd18ae21a896b46b6ba2a978c3b8c1995', 'compareidx': '51fdaebe31f44ad69272779a3f01182d', 'lcpidx': '43b7f5db36994599861eec4849cc68fd', 'barrieridx': 'cb47616cd2dc4ccc8fd523bd3a5064bb', 'windspeed': 10, 'winddirection': 60, 'relhumid': 90, 'temperature': 20}\n",
      "Choosing a perimeter from the database\n",
      "{'description': 'Maria2019', 'igniteidx': 'b2e5bbb6c20044c39d210fe3d64af0bc', 'compareidx': '51fdaebe31f44ad69272779a3f01182d', 'lcpidx': '43b7f5db36994599861eec4849cc68fd', 'barrieridx': 'cb47616cd2dc4ccc8fd523bd3a5064bb', 'windspeed': 10, 'winddirection': 60, 'relhumid': 90, 'temperature': 20}\n",
      "Choosing a perimeter from the database\n",
      "{'description': 'Maria2019', 'igniteidx': 'f07ae4a974314ff7970a7b33dfb196f5', 'compareidx': '51fdaebe31f44ad69272779a3f01182d', 'lcpidx': '43b7f5db36994599861eec4849cc68fd', 'barrieridx': 'cb47616cd2dc4ccc8fd523bd3a5064bb', 'windspeed': 10, 'winddirection': 60, 'relhumid': 90, 'temperature': 20}\n",
      "Choosing a perimeter from the database\n",
      "{'description': 'Maria2019', 'igniteidx': 'ab081ebd02424fc8beb1faa5d4b27f72', 'compareidx': '51fdaebe31f44ad69272779a3f01182d', 'lcpidx': '43b7f5db36994599861eec4849cc68fd', 'barrieridx': 'cb47616cd2dc4ccc8fd523bd3a5064bb', 'windspeed': 10, 'winddirection': 60, 'relhumid': 90, 'temperature': 20}\n",
      "Choosing a perimeter from the database\n",
      "Farsite $Rev: 2395 $\n",
      "Number of parallel threads = 4 (omp_get_num_procs = 64).\n",
      "Loading lcp file for Farsite #1: /home/jovyan/farsite/inputs/landscapes/Maria2019.lcp\n",
      "Loading inputs file for Farsite #1: /home/jovyan/data/20230224/Run_04064/config\n",
      "Loading ignition file for Farsite #1: /home/jovyan/data/ignitions/Maria2019E967cdd65b41446f3a40877e130b52434.shp\n",
      "Loading barrier file for Farsite #1: /home/jovyan/farsite/inputs/barriers/NoBarrier/NoBarrier.shp\n",
      "Launching Farsite #1\n",
      "Starting time step 0.000000 (maximum = 18)\n",
      "Writing outputs for Farsite #1 to /home/jovyan/data/20230224/Run_04064/out\n"
     ]
    },
    {
     "name": "stderr",
     "output_type": "stream",
     "text": [
      "/home/jovyan/farsite-devAPI/src/farsiteutils_v2.py:177: FutureWarning: The frame.append method is deprecated and will be removed from pandas in a future version. Use pandas.concat instead.\n",
      "  self.gdfsimulation = self.gdfsimulation.append(gdfappend)\n"
     ]
    },
    {
     "name": "stdout",
     "output_type": "stream",
     "text": [
      "Farsite $Rev: 2395 $\n",
      "Number of parallel threads = 4 (omp_get_num_procs = 64).\n",
      "Loading lcp file for Farsite #1: /home/jovyan/farsite/inputs/landscapes/Maria2019.lcp\n",
      "Loading inputs file for Farsite #1: /home/jovyan/data/20230224/Run_04065/config\n",
      "Loading ignition file for Farsite #1: /home/jovyan/data/ignitions/Maria2019Ed19866c5b26a4a68b2b3771025032bd0.shp\n",
      "Loading barrier file for Farsite #1: /home/jovyan/farsite/inputs/barriers/NoBarrier/NoBarrier.shp\n",
      "Launching Farsite #1\n",
      "Starting time step 0.000000 (maximum = 18)\n",
      "Writing outputs for Farsite #1 to /home/jovyan/data/20230224/Run_04065/out\n"
     ]
    },
    {
     "name": "stderr",
     "output_type": "stream",
     "text": [
      "/home/jovyan/farsite-devAPI/src/farsiteutils_v2.py:177: FutureWarning: The frame.append method is deprecated and will be removed from pandas in a future version. Use pandas.concat instead.\n",
      "  self.gdfsimulation = self.gdfsimulation.append(gdfappend)\n"
     ]
    },
    {
     "name": "stdout",
     "output_type": "stream",
     "text": [
      "Farsite $Rev: 2395 $\n",
      "Number of parallel threads = 4 (omp_get_num_procs = 64).\n",
      "Loading lcp file for Farsite #1: /home/jovyan/farsite/inputs/landscapes/Maria2019.lcp\n",
      "Loading inputs file for Farsite #1: /home/jovyan/data/20230224/Run_04066/config\n",
      "Loading ignition file for Farsite #1: /home/jovyan/data/ignitions/Maria2019E1571f50940a846fea2394c3d80cd1039.shp\n",
      "Loading barrier file for Farsite #1: /home/jovyan/farsite/inputs/barriers/NoBarrier/NoBarrier.shp\n",
      "Launching Farsite #1\n",
      "Starting time step 0.000000 (maximum = 18)\n",
      "Writing outputs for Farsite #1 to /home/jovyan/data/20230224/Run_04066/out\n"
     ]
    },
    {
     "name": "stderr",
     "output_type": "stream",
     "text": [
      "/home/jovyan/farsite-devAPI/src/farsiteutils_v2.py:177: FutureWarning: The frame.append method is deprecated and will be removed from pandas in a future version. Use pandas.concat instead.\n",
      "  self.gdfsimulation = self.gdfsimulation.append(gdfappend)\n"
     ]
    },
    {
     "name": "stdout",
     "output_type": "stream",
     "text": [
      "Farsite $Rev: 2395 $\n",
      "Number of parallel threads = 4 (omp_get_num_procs = 64).\n",
      "Loading lcp file for Farsite #1: /home/jovyan/farsite/inputs/landscapes/Maria2019.lcp\n",
      "Loading inputs file for Farsite #1: /home/jovyan/data/20230224/Run_04067/config\n",
      "Loading ignition file for Farsite #1: /home/jovyan/data/ignitions/Maria2019E3ee2f272b41842c49b7989eaf16adab3.shp\n",
      "Loading barrier file for Farsite #1: /home/jovyan/farsite/inputs/barriers/NoBarrier/NoBarrier.shp\n",
      "Launching Farsite #1\n",
      "Starting time step 0.000000 (maximum = 18)\n",
      "Writing outputs for Farsite #1 to /home/jovyan/data/20230224/Run_04067/out\n"
     ]
    },
    {
     "name": "stderr",
     "output_type": "stream",
     "text": [
      "/home/jovyan/farsite-devAPI/src/farsiteutils_v2.py:177: FutureWarning: The frame.append method is deprecated and will be removed from pandas in a future version. Use pandas.concat instead.\n",
      "  self.gdfsimulation = self.gdfsimulation.append(gdfappend)\n"
     ]
    },
    {
     "name": "stdout",
     "output_type": "stream",
     "text": [
      "Farsite $Rev: 2395 $\n",
      "Number of parallel threads = 4 (omp_get_num_procs = 64).\n",
      "Loading lcp file for Farsite #1: /home/jovyan/farsite/inputs/landscapes/Maria2019.lcp\n",
      "Loading inputs file for Farsite #1: /home/jovyan/data/20230224/Run_04068/config\n",
      "Loading ignition file for Farsite #1: /home/jovyan/data/ignitions/Maria2019Eae610db1db1a41538f4b433a436f5607.shp\n",
      "Loading barrier file for Farsite #1: /home/jovyan/farsite/inputs/barriers/NoBarrier/NoBarrier.shp\n",
      "Launching Farsite #1\n",
      "Starting time step 0.000000 (maximum = 18)\n",
      "Writing outputs for Farsite #1 to /home/jovyan/data/20230224/Run_04068/out\n"
     ]
    },
    {
     "name": "stderr",
     "output_type": "stream",
     "text": [
      "/home/jovyan/farsite-devAPI/src/farsiteutils_v2.py:177: FutureWarning: The frame.append method is deprecated and will be removed from pandas in a future version. Use pandas.concat instead.\n",
      "  self.gdfsimulation = self.gdfsimulation.append(gdfappend)\n"
     ]
    },
    {
     "name": "stdout",
     "output_type": "stream",
     "text": [
      "Farsite $Rev: 2395 $\n",
      "Number of parallel threads = 4 (omp_get_num_procs = 64).\n",
      "Loading lcp file for Farsite #1: /home/jovyan/farsite/inputs/landscapes/Maria2019.lcp\n",
      "Loading inputs file for Farsite #1: /home/jovyan/data/20230224/Run_04069/config\n",
      "Loading ignition file for Farsite #1: /home/jovyan/data/ignitions/Maria2019E885c7446fb4449aa8c65e9641187cc85.shp\n",
      "Loading barrier file for Farsite #1: /home/jovyan/farsite/inputs/barriers/NoBarrier/NoBarrier.shp\n",
      "Launching Farsite #1\n",
      "Starting time step 0.000000 (maximum = 18)\n",
      "Writing outputs for Farsite #1 to /home/jovyan/data/20230224/Run_04069/out\n"
     ]
    },
    {
     "name": "stderr",
     "output_type": "stream",
     "text": [
      "/home/jovyan/farsite-devAPI/src/farsiteutils_v2.py:177: FutureWarning: The frame.append method is deprecated and will be removed from pandas in a future version. Use pandas.concat instead.\n",
      "  self.gdfsimulation = self.gdfsimulation.append(gdfappend)\n"
     ]
    },
    {
     "name": "stdout",
     "output_type": "stream",
     "text": [
      "Farsite $Rev: 2395 $\n",
      "Number of parallel threads = 4 (omp_get_num_procs = 64).\n",
      "Loading lcp file for Farsite #1: /home/jovyan/farsite/inputs/landscapes/Maria2019.lcp\n",
      "Loading inputs file for Farsite #1: /home/jovyan/data/20230224/Run_04070/config\n",
      "Loading ignition file for Farsite #1: /home/jovyan/data/ignitions/Maria2019E948ec355b4144db4900dcf4ee1a86d00.shp\n",
      "Loading barrier file for Farsite #1: /home/jovyan/farsite/inputs/barriers/NoBarrier/NoBarrier.shp\n",
      "Launching Farsite #1\n",
      "Starting time step 0.000000 (maximum = 18)\n",
      "Writing outputs for Farsite #1 to /home/jovyan/data/20230224/Run_04070/out\n"
     ]
    },
    {
     "name": "stderr",
     "output_type": "stream",
     "text": [
      "/home/jovyan/farsite-devAPI/src/farsiteutils_v2.py:177: FutureWarning: The frame.append method is deprecated and will be removed from pandas in a future version. Use pandas.concat instead.\n",
      "  self.gdfsimulation = self.gdfsimulation.append(gdfappend)\n"
     ]
    },
    {
     "name": "stdout",
     "output_type": "stream",
     "text": [
      "Farsite $Rev: 2395 $\n",
      "Number of parallel threads = 4 (omp_get_num_procs = 64).\n",
      "Loading lcp file for Farsite #1: /home/jovyan/farsite/inputs/landscapes/Maria2019.lcp\n",
      "Loading inputs file for Farsite #1: /home/jovyan/data/20230224/Run_04071/config\n",
      "Loading ignition file for Farsite #1: /home/jovyan/data/ignitions/Maria2019Ed72e41374bf7458c9c2163be7c647a99.shp\n",
      "Loading barrier file for Farsite #1: /home/jovyan/farsite/inputs/barriers/NoBarrier/NoBarrier.shp\n",
      "Launching Farsite #1\n",
      "Starting time step 0.000000 (maximum = 18)\n",
      "Writing outputs for Farsite #1 to /home/jovyan/data/20230224/Run_04071/out\n"
     ]
    },
    {
     "name": "stderr",
     "output_type": "stream",
     "text": [
      "/home/jovyan/farsite-devAPI/src/farsiteutils_v2.py:177: FutureWarning: The frame.append method is deprecated and will be removed from pandas in a future version. Use pandas.concat instead.\n",
      "  self.gdfsimulation = self.gdfsimulation.append(gdfappend)\n"
     ]
    },
    {
     "name": "stdout",
     "output_type": "stream",
     "text": [
      "Farsite $Rev: 2395 $\n",
      "Number of parallel threads = 4 (omp_get_num_procs = 64).\n",
      "Loading lcp file for Farsite #1: /home/jovyan/farsite/inputs/landscapes/Maria2019.lcp\n",
      "Loading inputs file for Farsite #1: /home/jovyan/data/20230224/Run_04072/config\n",
      "Loading ignition file for Farsite #1: /home/jovyan/data/ignitions/Maria2019Eaa127ef571644741a428677f45342a22.shp\n",
      "Loading barrier file for Farsite #1: /home/jovyan/farsite/inputs/barriers/NoBarrier/NoBarrier.shp\n",
      "Launching Farsite #1\n",
      "Starting time step 0.000000 (maximum = 18)\n",
      "Writing outputs for Farsite #1 to /home/jovyan/data/20230224/Run_04072/out\n"
     ]
    },
    {
     "name": "stderr",
     "output_type": "stream",
     "text": [
      "/home/jovyan/farsite-devAPI/src/farsiteutils_v2.py:177: FutureWarning: The frame.append method is deprecated and will be removed from pandas in a future version. Use pandas.concat instead.\n",
      "  self.gdfsimulation = self.gdfsimulation.append(gdfappend)\n"
     ]
    },
    {
     "name": "stdout",
     "output_type": "stream",
     "text": [
      "Farsite $Rev: 2395 $\n",
      "Number of parallel threads = 4 (omp_get_num_procs = 64).\n",
      "Loading lcp file for Farsite #1: /home/jovyan/farsite/inputs/landscapes/Maria2019.lcp\n",
      "Loading inputs file for Farsite #1: /home/jovyan/data/20230224/Run_04073/config\n",
      "Loading ignition file for Farsite #1: /home/jovyan/data/ignitions/Maria2019Ee118e68a98cb4a1f8c75e355f00a853c.shp\n",
      "Loading barrier file for Farsite #1: /home/jovyan/farsite/inputs/barriers/NoBarrier/NoBarrier.shp\n",
      "Launching Farsite #1\n",
      "Starting time step 0.000000 (maximum = 18)\n",
      "Writing outputs for Farsite #1 to /home/jovyan/data/20230224/Run_04073/out\n"
     ]
    },
    {
     "name": "stderr",
     "output_type": "stream",
     "text": [
      "/home/jovyan/farsite-devAPI/src/farsiteutils_v2.py:177: FutureWarning: The frame.append method is deprecated and will be removed from pandas in a future version. Use pandas.concat instead.\n",
      "  self.gdfsimulation = self.gdfsimulation.append(gdfappend)\n"
     ]
    },
    {
     "name": "stdout",
     "output_type": "stream",
     "text": [
      "Farsite $Rev: 2395 $\n",
      "Number of parallel threads = 4 (omp_get_num_procs = 64).\n",
      "Loading lcp file for Farsite #1: /home/jovyan/farsite/inputs/landscapes/Maria2019.lcp\n",
      "Loading inputs file for Farsite #1: /home/jovyan/data/20230224/Run_04074/config\n",
      "Loading ignition file for Farsite #1: /home/jovyan/data/ignitions/Maria2019E8c16262364ad4a8da20924323f1db22b.shp\n",
      "Loading barrier file for Farsite #1: /home/jovyan/farsite/inputs/barriers/NoBarrier/NoBarrier.shp\n",
      "Launching Farsite #1\n",
      "Starting time step 0.000000 (maximum = 18)\n",
      "Writing outputs for Farsite #1 to /home/jovyan/data/20230224/Run_04074/out\n"
     ]
    },
    {
     "name": "stderr",
     "output_type": "stream",
     "text": [
      "/home/jovyan/farsite-devAPI/src/farsiteutils_v2.py:177: FutureWarning: The frame.append method is deprecated and will be removed from pandas in a future version. Use pandas.concat instead.\n",
      "  self.gdfsimulation = self.gdfsimulation.append(gdfappend)\n"
     ]
    },
    {
     "name": "stdout",
     "output_type": "stream",
     "text": [
      "Farsite $Rev: 2395 $\n",
      "Number of parallel threads = 4 (omp_get_num_procs = 64).\n",
      "Loading lcp file for Farsite #1: /home/jovyan/farsite/inputs/landscapes/Maria2019.lcp\n",
      "Loading inputs file for Farsite #1: /home/jovyan/data/20230224/Run_04075/config\n",
      "Loading ignition file for Farsite #1: /home/jovyan/data/ignitions/Maria2019Ef734e75759a3463a83671948154558a3.shp\n",
      "Loading barrier file for Farsite #1: /home/jovyan/farsite/inputs/barriers/NoBarrier/NoBarrier.shp\n",
      "Launching Farsite #1\n",
      "Starting time step 0.000000 (maximum = 18)\n",
      "Writing outputs for Farsite #1 to /home/jovyan/data/20230224/Run_04075/out\n"
     ]
    },
    {
     "name": "stderr",
     "output_type": "stream",
     "text": [
      "/home/jovyan/farsite-devAPI/src/farsiteutils_v2.py:177: FutureWarning: The frame.append method is deprecated and will be removed from pandas in a future version. Use pandas.concat instead.\n",
      "  self.gdfsimulation = self.gdfsimulation.append(gdfappend)\n"
     ]
    },
    {
     "name": "stdout",
     "output_type": "stream",
     "text": [
      "Farsite $Rev: 2395 $\n",
      "Number of parallel threads = 4 (omp_get_num_procs = 64).\n",
      "Loading lcp file for Farsite #1: /home/jovyan/farsite/inputs/landscapes/Maria2019.lcp\n",
      "Loading inputs file for Farsite #1: /home/jovyan/data/20230224/Run_04076/config\n",
      "Loading ignition file for Farsite #1: /home/jovyan/data/ignitions/Maria2019E8f0aaacce09e469a93da0a986c4bd14a.shp\n",
      "Loading barrier file for Farsite #1: /home/jovyan/farsite/inputs/barriers/NoBarrier/NoBarrier.shp\n",
      "Launching Farsite #1\n",
      "Starting time step 0.000000 (maximum = 18)\n",
      "Writing outputs for Farsite #1 to /home/jovyan/data/20230224/Run_04076/out\n"
     ]
    },
    {
     "name": "stderr",
     "output_type": "stream",
     "text": [
      "/home/jovyan/farsite-devAPI/src/farsiteutils_v2.py:177: FutureWarning: The frame.append method is deprecated and will be removed from pandas in a future version. Use pandas.concat instead.\n",
      "  self.gdfsimulation = self.gdfsimulation.append(gdfappend)\n"
     ]
    },
    {
     "name": "stdout",
     "output_type": "stream",
     "text": [
      "Farsite $Rev: 2395 $\n",
      "Number of parallel threads = 4 (omp_get_num_procs = 64).\n",
      "Loading lcp file for Farsite #1: /home/jovyan/farsite/inputs/landscapes/Maria2019.lcp\n",
      "Loading inputs file for Farsite #1: /home/jovyan/data/20230224/Run_04077/config\n",
      "Loading ignition file for Farsite #1: /home/jovyan/data/ignitions/Maria2019E1667c57eba0b41da91ce084e23aa5f20.shp\n",
      "Loading barrier file for Farsite #1: /home/jovyan/farsite/inputs/barriers/NoBarrier/NoBarrier.shp\n",
      "Launching Farsite #1\n",
      "Starting time step 0.000000 (maximum = 18)\n",
      "Writing outputs for Farsite #1 to /home/jovyan/data/20230224/Run_04077/out\n"
     ]
    },
    {
     "name": "stderr",
     "output_type": "stream",
     "text": [
      "/home/jovyan/farsite-devAPI/src/farsiteutils_v2.py:177: FutureWarning: The frame.append method is deprecated and will be removed from pandas in a future version. Use pandas.concat instead.\n",
      "  self.gdfsimulation = self.gdfsimulation.append(gdfappend)\n"
     ]
    },
    {
     "name": "stdout",
     "output_type": "stream",
     "text": [
      "Farsite $Rev: 2395 $\n",
      "Number of parallel threads = 4 (omp_get_num_procs = 64).\n",
      "Loading lcp file for Farsite #1: /home/jovyan/farsite/inputs/landscapes/Maria2019.lcp\n",
      "Loading inputs file for Farsite #1: /home/jovyan/data/20230224/Run_04078/config\n",
      "Loading ignition file for Farsite #1: /home/jovyan/data/ignitions/Maria2019E2a1b92a568e84df4a0ba853d95e6e7ca.shp\n",
      "Loading barrier file for Farsite #1: /home/jovyan/farsite/inputs/barriers/NoBarrier/NoBarrier.shp\n",
      "Launching Farsite #1\n",
      "Starting time step 0.000000 (maximum = 18)\n",
      "Writing outputs for Farsite #1 to /home/jovyan/data/20230224/Run_04078/out\n"
     ]
    },
    {
     "name": "stderr",
     "output_type": "stream",
     "text": [
      "/home/jovyan/farsite-devAPI/src/farsiteutils_v2.py:177: FutureWarning: The frame.append method is deprecated and will be removed from pandas in a future version. Use pandas.concat instead.\n",
      "  self.gdfsimulation = self.gdfsimulation.append(gdfappend)\n"
     ]
    },
    {
     "name": "stdout",
     "output_type": "stream",
     "text": [
      "Farsite $Rev: 2395 $\n",
      "Number of parallel threads = 4 (omp_get_num_procs = 64).\n",
      "Loading lcp file for Farsite #1: /home/jovyan/farsite/inputs/landscapes/Maria2019.lcp\n",
      "Loading inputs file for Farsite #1: /home/jovyan/data/20230224/Run_04079/config\n",
      "Loading ignition file for Farsite #1: /home/jovyan/data/ignitions/Maria2019Eb0576b1121584224999dc5c878afc63b.shp\n",
      "Loading barrier file for Farsite #1: /home/jovyan/farsite/inputs/barriers/NoBarrier/NoBarrier.shp\n",
      "Launching Farsite #1\n",
      "Starting time step 0.000000 (maximum = 18)\n",
      "Writing outputs for Farsite #1 to /home/jovyan/data/20230224/Run_04079/out\n"
     ]
    },
    {
     "name": "stderr",
     "output_type": "stream",
     "text": [
      "/home/jovyan/farsite-devAPI/src/farsiteutils_v2.py:177: FutureWarning: The frame.append method is deprecated and will be removed from pandas in a future version. Use pandas.concat instead.\n",
      "  self.gdfsimulation = self.gdfsimulation.append(gdfappend)\n"
     ]
    },
    {
     "name": "stdout",
     "output_type": "stream",
     "text": [
      "Farsite $Rev: 2395 $\n",
      "Number of parallel threads = 4 (omp_get_num_procs = 64).\n",
      "Loading lcp file for Farsite #1: /home/jovyan/farsite/inputs/landscapes/Maria2019.lcp\n",
      "Loading inputs file for Farsite #1: /home/jovyan/data/20230224/Run_04080/config\n",
      "Loading ignition file for Farsite #1: /home/jovyan/data/ignitions/Maria2019E095a4affd85b481abfb4c5df5f46f53a.shp\n",
      "Loading barrier file for Farsite #1: /home/jovyan/farsite/inputs/barriers/NoBarrier/NoBarrier.shp\n",
      "Launching Farsite #1\n",
      "Starting time step 0.000000 (maximum = 18)\n",
      "Writing outputs for Farsite #1 to /home/jovyan/data/20230224/Run_04080/out\n"
     ]
    },
    {
     "name": "stderr",
     "output_type": "stream",
     "text": [
      "/home/jovyan/farsite-devAPI/src/farsiteutils_v2.py:177: FutureWarning: The frame.append method is deprecated and will be removed from pandas in a future version. Use pandas.concat instead.\n",
      "  self.gdfsimulation = self.gdfsimulation.append(gdfappend)\n"
     ]
    },
    {
     "name": "stdout",
     "output_type": "stream",
     "text": [
      "Farsite $Rev: 2395 $\n",
      "Number of parallel threads = 4 (omp_get_num_procs = 64).\n",
      "Loading lcp file for Farsite #1: /home/jovyan/farsite/inputs/landscapes/Maria2019.lcp\n",
      "Loading inputs file for Farsite #1: /home/jovyan/data/20230224/Run_04081/config\n",
      "Loading ignition file for Farsite #1: /home/jovyan/data/ignitions/Maria2019Ea40e615e98c04de6aa1620cad1025c79.shp\n",
      "Loading barrier file for Farsite #1: /home/jovyan/farsite/inputs/barriers/NoBarrier/NoBarrier.shp\n",
      "Launching Farsite #1\n",
      "Starting time step 0.000000 (maximum = 18)\n",
      "Writing outputs for Farsite #1 to /home/jovyan/data/20230224/Run_04081/out\n"
     ]
    },
    {
     "name": "stderr",
     "output_type": "stream",
     "text": [
      "/home/jovyan/farsite-devAPI/src/farsiteutils_v2.py:177: FutureWarning: The frame.append method is deprecated and will be removed from pandas in a future version. Use pandas.concat instead.\n",
      "  self.gdfsimulation = self.gdfsimulation.append(gdfappend)\n"
     ]
    },
    {
     "name": "stdout",
     "output_type": "stream",
     "text": [
      "Farsite $Rev: 2395 $\n",
      "Number of parallel threads = 4 (omp_get_num_procs = 64).\n",
      "Loading lcp file for Farsite #1: /home/jovyan/farsite/inputs/landscapes/Maria2019.lcp\n",
      "Loading inputs file for Farsite #1: /home/jovyan/data/20230224/Run_04082/config\n",
      "Loading ignition file for Farsite #1: /home/jovyan/data/ignitions/Maria2019E84b8c7b7ad944885b9f6feef51516b38.shp\n",
      "Loading barrier file for Farsite #1: /home/jovyan/farsite/inputs/barriers/NoBarrier/NoBarrier.shp\n",
      "Launching Farsite #1\n",
      "Starting time step 0.000000 (maximum = 18)\n",
      "Writing outputs for Farsite #1 to /home/jovyan/data/20230224/Run_04082/out\n"
     ]
    },
    {
     "name": "stderr",
     "output_type": "stream",
     "text": [
      "/home/jovyan/farsite-devAPI/src/farsiteutils_v2.py:177: FutureWarning: The frame.append method is deprecated and will be removed from pandas in a future version. Use pandas.concat instead.\n",
      "  self.gdfsimulation = self.gdfsimulation.append(gdfappend)\n"
     ]
    },
    {
     "name": "stdout",
     "output_type": "stream",
     "text": [
      "Farsite $Rev: 2395 $\n",
      "Number of parallel threads = 4 (omp_get_num_procs = 64).\n",
      "Loading lcp file for Farsite #1: /home/jovyan/farsite/inputs/landscapes/Maria2019.lcp\n",
      "Loading inputs file for Farsite #1: /home/jovyan/data/20230224/Run_04083/config\n",
      "Loading ignition file for Farsite #1: /home/jovyan/data/ignitions/Maria2019E7bf5bbc4dcd04e10aa0b526ecc0b408b.shp\n",
      "Loading barrier file for Farsite #1: /home/jovyan/farsite/inputs/barriers/NoBarrier/NoBarrier.shp\n",
      "Launching Farsite #1\n",
      "Starting time step 0.000000 (maximum = 18)\n",
      "Writing outputs for Farsite #1 to /home/jovyan/data/20230224/Run_04083/out\n"
     ]
    },
    {
     "name": "stderr",
     "output_type": "stream",
     "text": [
      "/home/jovyan/farsite-devAPI/src/farsiteutils_v2.py:177: FutureWarning: The frame.append method is deprecated and will be removed from pandas in a future version. Use pandas.concat instead.\n",
      "  self.gdfsimulation = self.gdfsimulation.append(gdfappend)\n"
     ]
    },
    {
     "name": "stdout",
     "output_type": "stream",
     "text": [
      "Farsite $Rev: 2395 $\n",
      "Number of parallel threads = 4 (omp_get_num_procs = 64).\n",
      "Loading lcp file for Farsite #1: /home/jovyan/farsite/inputs/landscapes/Maria2019.lcp\n",
      "Loading inputs file for Farsite #1: /home/jovyan/data/20230224/Run_04084/config\n",
      "Loading ignition file for Farsite #1: /home/jovyan/data/ignitions/Maria2019Ebe153487c9d74c31bfee1a601b0c17f6.shp\n",
      "Loading barrier file for Farsite #1: /home/jovyan/farsite/inputs/barriers/NoBarrier/NoBarrier.shp\n",
      "Launching Farsite #1\n",
      "Starting time step 0.000000 (maximum = 18)\n",
      "Writing outputs for Farsite #1 to /home/jovyan/data/20230224/Run_04084/out\n"
     ]
    },
    {
     "name": "stderr",
     "output_type": "stream",
     "text": [
      "/home/jovyan/farsite-devAPI/src/farsiteutils_v2.py:177: FutureWarning: The frame.append method is deprecated and will be removed from pandas in a future version. Use pandas.concat instead.\n",
      "  self.gdfsimulation = self.gdfsimulation.append(gdfappend)\n"
     ]
    },
    {
     "name": "stdout",
     "output_type": "stream",
     "text": [
      "Farsite $Rev: 2395 $\n",
      "Number of parallel threads = 4 (omp_get_num_procs = 64).\n",
      "Loading lcp file for Farsite #1: /home/jovyan/farsite/inputs/landscapes/Maria2019.lcp\n",
      "Loading inputs file for Farsite #1: /home/jovyan/data/20230224/Run_04085/config\n",
      "Loading ignition file for Farsite #1: /home/jovyan/data/ignitions/Maria2019Ecc269cca647643039114495be4932bc5.shp\n",
      "Loading barrier file for Farsite #1: /home/jovyan/farsite/inputs/barriers/NoBarrier/NoBarrier.shp\n",
      "Launching Farsite #1\n",
      "Starting time step 0.000000 (maximum = 18)\n",
      "Writing outputs for Farsite #1 to /home/jovyan/data/20230224/Run_04085/out\n"
     ]
    },
    {
     "name": "stderr",
     "output_type": "stream",
     "text": [
      "/home/jovyan/farsite-devAPI/src/farsiteutils_v2.py:177: FutureWarning: The frame.append method is deprecated and will be removed from pandas in a future version. Use pandas.concat instead.\n",
      "  self.gdfsimulation = self.gdfsimulation.append(gdfappend)\n"
     ]
    },
    {
     "name": "stdout",
     "output_type": "stream",
     "text": [
      "Farsite $Rev: 2395 $\n",
      "Number of parallel threads = 4 (omp_get_num_procs = 64).\n",
      "Loading lcp file for Farsite #1: /home/jovyan/farsite/inputs/landscapes/Maria2019.lcp\n",
      "Loading inputs file for Farsite #1: /home/jovyan/data/20230224/Run_04086/config\n",
      "Loading ignition file for Farsite #1: /home/jovyan/data/ignitions/Maria2019Ef9860c77f36344069bd97e4b45702999.shp\n",
      "Loading barrier file for Farsite #1: /home/jovyan/farsite/inputs/barriers/NoBarrier/NoBarrier.shp\n",
      "Launching Farsite #1\n",
      "Starting time step 0.000000 (maximum = 18)\n",
      "Writing outputs for Farsite #1 to /home/jovyan/data/20230224/Run_04086/out\n"
     ]
    },
    {
     "name": "stderr",
     "output_type": "stream",
     "text": [
      "/home/jovyan/farsite-devAPI/src/farsiteutils_v2.py:177: FutureWarning: The frame.append method is deprecated and will be removed from pandas in a future version. Use pandas.concat instead.\n",
      "  self.gdfsimulation = self.gdfsimulation.append(gdfappend)\n"
     ]
    },
    {
     "name": "stdout",
     "output_type": "stream",
     "text": [
      "Farsite $Rev: 2395 $\n",
      "Number of parallel threads = 4 (omp_get_num_procs = 64).\n",
      "Loading lcp file for Farsite #1: /home/jovyan/farsite/inputs/landscapes/Maria2019.lcp\n",
      "Loading inputs file for Farsite #1: /home/jovyan/data/20230224/Run_04087/config\n",
      "Loading ignition file for Farsite #1: /home/jovyan/data/ignitions/Maria2019E731d9688a7b24a90b1234d39c72d3e7b.shp\n",
      "Loading barrier file for Farsite #1: /home/jovyan/farsite/inputs/barriers/NoBarrier/NoBarrier.shp\n",
      "Launching Farsite #1\n",
      "Starting time step 0.000000 (maximum = 18)\n",
      "Writing outputs for Farsite #1 to /home/jovyan/data/20230224/Run_04087/out\n"
     ]
    },
    {
     "name": "stderr",
     "output_type": "stream",
     "text": [
      "/home/jovyan/farsite-devAPI/src/farsiteutils_v2.py:177: FutureWarning: The frame.append method is deprecated and will be removed from pandas in a future version. Use pandas.concat instead.\n",
      "  self.gdfsimulation = self.gdfsimulation.append(gdfappend)\n"
     ]
    },
    {
     "name": "stdout",
     "output_type": "stream",
     "text": [
      "Farsite $Rev: 2395 $\n",
      "Number of parallel threads = 4 (omp_get_num_procs = 64).\n",
      "Loading lcp file for Farsite #1: /home/jovyan/farsite/inputs/landscapes/Maria2019.lcp\n",
      "Loading inputs file for Farsite #1: /home/jovyan/data/20230224/Run_04088/config\n",
      "Loading ignition file for Farsite #1: /home/jovyan/data/ignitions/Maria2019Edf24baf6b3c145f680a138090bda2e57.shp\n",
      "Loading barrier file for Farsite #1: /home/jovyan/farsite/inputs/barriers/NoBarrier/NoBarrier.shp\n",
      "Launching Farsite #1\n",
      "Starting time step 0.000000 (maximum = 18)\n",
      "Writing outputs for Farsite #1 to /home/jovyan/data/20230224/Run_04088/out\n"
     ]
    },
    {
     "name": "stderr",
     "output_type": "stream",
     "text": [
      "/home/jovyan/farsite-devAPI/src/farsiteutils_v2.py:177: FutureWarning: The frame.append method is deprecated and will be removed from pandas in a future version. Use pandas.concat instead.\n",
      "  self.gdfsimulation = self.gdfsimulation.append(gdfappend)\n"
     ]
    },
    {
     "name": "stdout",
     "output_type": "stream",
     "text": [
      "Farsite $Rev: 2395 $\n",
      "Number of parallel threads = 4 (omp_get_num_procs = 64).\n",
      "Loading lcp file for Farsite #1: /home/jovyan/farsite/inputs/landscapes/Maria2019.lcp\n",
      "Loading inputs file for Farsite #1: /home/jovyan/data/20230224/Run_04089/config\n",
      "Loading ignition file for Farsite #1: /home/jovyan/data/ignitions/Maria2019E48f44003ddf74f48bb7f0a91fd3bfb67.shp\n",
      "Loading barrier file for Farsite #1: /home/jovyan/farsite/inputs/barriers/NoBarrier/NoBarrier.shp\n",
      "Launching Farsite #1\n",
      "Starting time step 0.000000 (maximum = 18)\n",
      "Writing outputs for Farsite #1 to /home/jovyan/data/20230224/Run_04089/out\n"
     ]
    },
    {
     "name": "stderr",
     "output_type": "stream",
     "text": [
      "/home/jovyan/farsite-devAPI/src/farsiteutils_v2.py:177: FutureWarning: The frame.append method is deprecated and will be removed from pandas in a future version. Use pandas.concat instead.\n",
      "  self.gdfsimulation = self.gdfsimulation.append(gdfappend)\n"
     ]
    },
    {
     "name": "stdout",
     "output_type": "stream",
     "text": [
      "Farsite $Rev: 2395 $\n",
      "Number of parallel threads = 4 (omp_get_num_procs = 64).\n",
      "Loading lcp file for Farsite #1: /home/jovyan/farsite/inputs/landscapes/Maria2019.lcp\n",
      "Loading inputs file for Farsite #1: /home/jovyan/data/20230224/Run_04090/config\n",
      "Loading ignition file for Farsite #1: /home/jovyan/data/ignitions/Maria2019E5f16f35dae63458d85bc039da09cb778.shp\n",
      "Loading barrier file for Farsite #1: /home/jovyan/farsite/inputs/barriers/NoBarrier/NoBarrier.shp\n",
      "Launching Farsite #1\n",
      "Starting time step 0.000000 (maximum = 18)\n",
      "Writing outputs for Farsite #1 to /home/jovyan/data/20230224/Run_04090/out\n"
     ]
    },
    {
     "name": "stderr",
     "output_type": "stream",
     "text": [
      "/home/jovyan/farsite-devAPI/src/farsiteutils_v2.py:177: FutureWarning: The frame.append method is deprecated and will be removed from pandas in a future version. Use pandas.concat instead.\n",
      "  self.gdfsimulation = self.gdfsimulation.append(gdfappend)\n"
     ]
    },
    {
     "name": "stdout",
     "output_type": "stream",
     "text": [
      "Farsite $Rev: 2395 $\n",
      "Number of parallel threads = 4 (omp_get_num_procs = 64).\n",
      "Loading lcp file for Farsite #1: /home/jovyan/farsite/inputs/landscapes/Maria2019.lcp\n",
      "Loading inputs file for Farsite #1: /home/jovyan/data/20230224/Run_04091/config\n",
      "Loading ignition file for Farsite #1: /home/jovyan/data/ignitions/Maria2019E2a2e461a192d41d9ad099c63583a4783.shp\n",
      "Loading barrier file for Farsite #1: /home/jovyan/farsite/inputs/barriers/NoBarrier/NoBarrier.shp\n",
      "Launching Farsite #1\n",
      "Starting time step 0.000000 (maximum = 18)\n",
      "Writing outputs for Farsite #1 to /home/jovyan/data/20230224/Run_04091/out\n"
     ]
    },
    {
     "name": "stderr",
     "output_type": "stream",
     "text": [
      "/home/jovyan/farsite-devAPI/src/farsiteutils_v2.py:177: FutureWarning: The frame.append method is deprecated and will be removed from pandas in a future version. Use pandas.concat instead.\n",
      "  self.gdfsimulation = self.gdfsimulation.append(gdfappend)\n"
     ]
    },
    {
     "name": "stdout",
     "output_type": "stream",
     "text": [
      "Farsite $Rev: 2395 $\n",
      "Number of parallel threads = 4 (omp_get_num_procs = 64).\n",
      "Loading lcp file for Farsite #1: /home/jovyan/farsite/inputs/landscapes/Maria2019.lcp\n",
      "Loading inputs file for Farsite #1: /home/jovyan/data/20230224/Run_04092/config\n",
      "Loading ignition file for Farsite #1: /home/jovyan/data/ignitions/Maria2019E545f9a2f74da4f6db108ab8a39bcb61c.shp\n",
      "Loading barrier file for Farsite #1: /home/jovyan/farsite/inputs/barriers/NoBarrier/NoBarrier.shp\n",
      "Launching Farsite #1\n",
      "Starting time step 0.000000 (maximum = 18)\n",
      "Writing outputs for Farsite #1 to /home/jovyan/data/20230224/Run_04092/out\n"
     ]
    },
    {
     "name": "stderr",
     "output_type": "stream",
     "text": [
      "/home/jovyan/farsite-devAPI/src/farsiteutils_v2.py:177: FutureWarning: The frame.append method is deprecated and will be removed from pandas in a future version. Use pandas.concat instead.\n",
      "  self.gdfsimulation = self.gdfsimulation.append(gdfappend)\n"
     ]
    },
    {
     "name": "stdout",
     "output_type": "stream",
     "text": [
      "Farsite $Rev: 2395 $\n",
      "Number of parallel threads = 4 (omp_get_num_procs = 64).\n",
      "Loading lcp file for Farsite #1: /home/jovyan/farsite/inputs/landscapes/Maria2019.lcp\n",
      "Loading inputs file for Farsite #1: /home/jovyan/data/20230224/Run_04093/config\n",
      "Loading ignition file for Farsite #1: /home/jovyan/data/ignitions/Maria2019E70ec383d68ec4b42a3f79a283ba7eed4.shp\n",
      "Loading barrier file for Farsite #1: /home/jovyan/farsite/inputs/barriers/NoBarrier/NoBarrier.shp\n",
      "Launching Farsite #1\n",
      "Starting time step 0.000000 (maximum = 18)\n",
      "Writing outputs for Farsite #1 to /home/jovyan/data/20230224/Run_04093/out\n"
     ]
    },
    {
     "name": "stderr",
     "output_type": "stream",
     "text": [
      "/home/jovyan/farsite-devAPI/src/farsiteutils_v2.py:177: FutureWarning: The frame.append method is deprecated and will be removed from pandas in a future version. Use pandas.concat instead.\n",
      "  self.gdfsimulation = self.gdfsimulation.append(gdfappend)\n"
     ]
    },
    {
     "name": "stdout",
     "output_type": "stream",
     "text": [
      "Farsite $Rev: 2395 $\n",
      "Number of parallel threads = 4 (omp_get_num_procs = 64).\n",
      "Loading lcp file for Farsite #1: /home/jovyan/farsite/inputs/landscapes/Maria2019.lcp\n",
      "Loading inputs file for Farsite #1: /home/jovyan/data/20230224/Run_04094/config\n",
      "Loading ignition file for Farsite #1: /home/jovyan/data/ignitions/Maria2019Edb676be228f84fb1a1b6caada5de8043.shp\n",
      "Loading barrier file for Farsite #1: /home/jovyan/farsite/inputs/barriers/NoBarrier/NoBarrier.shp\n",
      "Launching Farsite #1\n",
      "Starting time step 0.000000 (maximum = 18)\n",
      "Writing outputs for Farsite #1 to /home/jovyan/data/20230224/Run_04094/out\n"
     ]
    },
    {
     "name": "stderr",
     "output_type": "stream",
     "text": [
      "/home/jovyan/farsite-devAPI/src/farsiteutils_v2.py:177: FutureWarning: The frame.append method is deprecated and will be removed from pandas in a future version. Use pandas.concat instead.\n",
      "  self.gdfsimulation = self.gdfsimulation.append(gdfappend)\n"
     ]
    },
    {
     "name": "stdout",
     "output_type": "stream",
     "text": [
      "Farsite $Rev: 2395 $\n",
      "Number of parallel threads = 4 (omp_get_num_procs = 64).\n",
      "Loading lcp file for Farsite #1: /home/jovyan/farsite/inputs/landscapes/Maria2019.lcp\n",
      "Loading inputs file for Farsite #1: /home/jovyan/data/20230224/Run_04095/config\n",
      "Loading ignition file for Farsite #1: /home/jovyan/data/ignitions/Maria2019E049e9875a77147e79f40031218ec153f.shp\n",
      "Loading barrier file for Farsite #1: /home/jovyan/farsite/inputs/barriers/NoBarrier/NoBarrier.shp\n",
      "Launching Farsite #1\n",
      "Starting time step 0.000000 (maximum = 18)\n",
      "Writing outputs for Farsite #1 to /home/jovyan/data/20230224/Run_04095/out\n"
     ]
    },
    {
     "name": "stderr",
     "output_type": "stream",
     "text": [
      "/home/jovyan/farsite-devAPI/src/farsiteutils_v2.py:177: FutureWarning: The frame.append method is deprecated and will be removed from pandas in a future version. Use pandas.concat instead.\n",
      "  self.gdfsimulation = self.gdfsimulation.append(gdfappend)\n"
     ]
    },
    {
     "name": "stdout",
     "output_type": "stream",
     "text": [
      "Farsite $Rev: 2395 $\n",
      "Number of parallel threads = 4 (omp_get_num_procs = 64).\n",
      "Loading lcp file for Farsite #1: /home/jovyan/farsite/inputs/landscapes/Maria2019.lcp\n",
      "Loading inputs file for Farsite #1: /home/jovyan/data/20230224/Run_04096/config\n",
      "Loading ignition file for Farsite #1: /home/jovyan/data/ignitions/Maria2019E11b18a8425d2490793a7c951acdc091b.shp\n",
      "Loading barrier file for Farsite #1: /home/jovyan/farsite/inputs/barriers/NoBarrier/NoBarrier.shp\n",
      "Launching Farsite #1\n",
      "Starting time step 0.000000 (maximum = 18)\n",
      "Writing outputs for Farsite #1 to /home/jovyan/data/20230224/Run_04096/out\n"
     ]
    },
    {
     "name": "stderr",
     "output_type": "stream",
     "text": [
      "/home/jovyan/farsite-devAPI/src/farsiteutils_v2.py:177: FutureWarning: The frame.append method is deprecated and will be removed from pandas in a future version. Use pandas.concat instead.\n",
      "  self.gdfsimulation = self.gdfsimulation.append(gdfappend)\n"
     ]
    },
    {
     "name": "stdout",
     "output_type": "stream",
     "text": [
      "Farsite $Rev: 2395 $\n",
      "Number of parallel threads = 4 (omp_get_num_procs = 64).\n",
      "Loading lcp file for Farsite #1: /home/jovyan/farsite/inputs/landscapes/Maria2019.lcp\n",
      "Loading inputs file for Farsite #1: /home/jovyan/data/20230224/Run_04097/config\n",
      "Loading ignition file for Farsite #1: /home/jovyan/data/ignitions/Maria2019E2c9feac4d8414bbe925631034e53ccee.shp\n",
      "Loading barrier file for Farsite #1: /home/jovyan/farsite/inputs/barriers/NoBarrier/NoBarrier.shp\n",
      "Launching Farsite #1\n",
      "Starting time step 0.000000 (maximum = 18)\n",
      "Writing outputs for Farsite #1 to /home/jovyan/data/20230224/Run_04097/out\n"
     ]
    },
    {
     "name": "stderr",
     "output_type": "stream",
     "text": [
      "/home/jovyan/farsite-devAPI/src/farsiteutils_v2.py:177: FutureWarning: The frame.append method is deprecated and will be removed from pandas in a future version. Use pandas.concat instead.\n",
      "  self.gdfsimulation = self.gdfsimulation.append(gdfappend)\n"
     ]
    },
    {
     "name": "stdout",
     "output_type": "stream",
     "text": [
      "Farsite $Rev: 2395 $\n",
      "Number of parallel threads = 4 (omp_get_num_procs = 64).\n",
      "Loading lcp file for Farsite #1: /home/jovyan/farsite/inputs/landscapes/Maria2019.lcp\n",
      "Loading inputs file for Farsite #1: /home/jovyan/data/20230224/Run_04098/config\n",
      "Loading ignition file for Farsite #1: /home/jovyan/data/ignitions/Maria2019E423a12017fef4112a6c35922e17004e3.shp\n",
      "Loading barrier file for Farsite #1: /home/jovyan/farsite/inputs/barriers/NoBarrier/NoBarrier.shp\n",
      "Launching Farsite #1\n",
      "Starting time step 0.000000 (maximum = 18)\n",
      "Writing outputs for Farsite #1 to /home/jovyan/data/20230224/Run_04098/out\n"
     ]
    },
    {
     "name": "stderr",
     "output_type": "stream",
     "text": [
      "/home/jovyan/farsite-devAPI/src/farsiteutils_v2.py:177: FutureWarning: The frame.append method is deprecated and will be removed from pandas in a future version. Use pandas.concat instead.\n",
      "  self.gdfsimulation = self.gdfsimulation.append(gdfappend)\n"
     ]
    },
    {
     "name": "stdout",
     "output_type": "stream",
     "text": [
      "Farsite $Rev: 2395 $\n",
      "Number of parallel threads = 4 (omp_get_num_procs = 64).\n",
      "Loading lcp file for Farsite #1: /home/jovyan/farsite/inputs/landscapes/Maria2019.lcp\n",
      "Loading inputs file for Farsite #1: /home/jovyan/data/20230224/Run_04099/config\n",
      "Loading ignition file for Farsite #1: /home/jovyan/data/ignitions/Maria2019E9c73f07d0abe4b7f970fcf40c45f1e87.shp\n",
      "Loading barrier file for Farsite #1: /home/jovyan/farsite/inputs/barriers/NoBarrier/NoBarrier.shp\n",
      "Launching Farsite #1\n",
      "Starting time step 0.000000 (maximum = 18)\n",
      "Writing outputs for Farsite #1 to /home/jovyan/data/20230224/Run_04099/out\n"
     ]
    },
    {
     "name": "stderr",
     "output_type": "stream",
     "text": [
      "/home/jovyan/farsite-devAPI/src/farsiteutils_v2.py:177: FutureWarning: The frame.append method is deprecated and will be removed from pandas in a future version. Use pandas.concat instead.\n",
      "  self.gdfsimulation = self.gdfsimulation.append(gdfappend)\n"
     ]
    },
    {
     "name": "stdout",
     "output_type": "stream",
     "text": [
      "Farsite $Rev: 2395 $\n",
      "Number of parallel threads = 4 (omp_get_num_procs = 64).\n",
      "Loading lcp file for Farsite #1: /home/jovyan/farsite/inputs/landscapes/Maria2019.lcp\n",
      "Loading inputs file for Farsite #1: /home/jovyan/data/20230224/Run_04100/config\n",
      "Loading ignition file for Farsite #1: /home/jovyan/data/ignitions/Maria2019Eb29a0ee96d034a98ac01db8a47b0a5df.shp\n",
      "Loading barrier file for Farsite #1: /home/jovyan/farsite/inputs/barriers/NoBarrier/NoBarrier.shp\n",
      "Launching Farsite #1\n",
      "Starting time step 0.000000 (maximum = 18)\n",
      "Writing outputs for Farsite #1 to /home/jovyan/data/20230224/Run_04100/out\n"
     ]
    },
    {
     "name": "stderr",
     "output_type": "stream",
     "text": [
      "/home/jovyan/farsite-devAPI/src/farsiteutils_v2.py:177: FutureWarning: The frame.append method is deprecated and will be removed from pandas in a future version. Use pandas.concat instead.\n",
      "  self.gdfsimulation = self.gdfsimulation.append(gdfappend)\n"
     ]
    },
    {
     "name": "stdout",
     "output_type": "stream",
     "text": [
      "Farsite $Rev: 2395 $\n",
      "Number of parallel threads = 4 (omp_get_num_procs = 64).\n",
      "Loading lcp file for Farsite #1: /home/jovyan/farsite/inputs/landscapes/Maria2019.lcp\n",
      "Loading inputs file for Farsite #1: /home/jovyan/data/20230224/Run_04101/config\n",
      "Loading ignition file for Farsite #1: /home/jovyan/data/ignitions/Maria2019E978ce13b9b0642d3a241ec187d0ced01.shp\n",
      "Loading barrier file for Farsite #1: /home/jovyan/farsite/inputs/barriers/NoBarrier/NoBarrier.shp\n",
      "Launching Farsite #1\n",
      "Starting time step 0.000000 (maximum = 18)\n",
      "Writing outputs for Farsite #1 to /home/jovyan/data/20230224/Run_04101/out\n"
     ]
    },
    {
     "name": "stderr",
     "output_type": "stream",
     "text": [
      "/home/jovyan/farsite-devAPI/src/farsiteutils_v2.py:177: FutureWarning: The frame.append method is deprecated and will be removed from pandas in a future version. Use pandas.concat instead.\n",
      "  self.gdfsimulation = self.gdfsimulation.append(gdfappend)\n"
     ]
    },
    {
     "name": "stdout",
     "output_type": "stream",
     "text": [
      "Farsite $Rev: 2395 $\n",
      "Number of parallel threads = 4 (omp_get_num_procs = 64).\n",
      "Loading lcp file for Farsite #1: /home/jovyan/farsite/inputs/landscapes/Maria2019.lcp\n",
      "Loading inputs file for Farsite #1: /home/jovyan/data/20230224/Run_04102/config\n",
      "Loading ignition file for Farsite #1: /home/jovyan/data/ignitions/Maria2019Ee96494e2c08e41928e41c07141ff5a19.shp\n",
      "Loading barrier file for Farsite #1: /home/jovyan/farsite/inputs/barriers/NoBarrier/NoBarrier.shp\n",
      "Launching Farsite #1\n",
      "Starting time step 0.000000 (maximum = 18)\n",
      "Writing outputs for Farsite #1 to /home/jovyan/data/20230224/Run_04102/out\n"
     ]
    },
    {
     "name": "stderr",
     "output_type": "stream",
     "text": [
      "/home/jovyan/farsite-devAPI/src/farsiteutils_v2.py:177: FutureWarning: The frame.append method is deprecated and will be removed from pandas in a future version. Use pandas.concat instead.\n",
      "  self.gdfsimulation = self.gdfsimulation.append(gdfappend)\n"
     ]
    },
    {
     "name": "stdout",
     "output_type": "stream",
     "text": [
      "Farsite $Rev: 2395 $\n",
      "Number of parallel threads = 4 (omp_get_num_procs = 64).\n",
      "Loading lcp file for Farsite #1: /home/jovyan/farsite/inputs/landscapes/Maria2019.lcp\n",
      "Loading inputs file for Farsite #1: /home/jovyan/data/20230224/Run_04103/config\n",
      "Loading ignition file for Farsite #1: /home/jovyan/data/ignitions/Maria2019Ecd5914d17f3b42c7b6efda9993fe372b.shp\n",
      "Loading barrier file for Farsite #1: /home/jovyan/farsite/inputs/barriers/NoBarrier/NoBarrier.shp\n",
      "Launching Farsite #1\n",
      "Starting time step 0.000000 (maximum = 18)\n",
      "Writing outputs for Farsite #1 to /home/jovyan/data/20230224/Run_04103/out\n"
     ]
    },
    {
     "name": "stderr",
     "output_type": "stream",
     "text": [
      "/home/jovyan/farsite-devAPI/src/farsiteutils_v2.py:177: FutureWarning: The frame.append method is deprecated and will be removed from pandas in a future version. Use pandas.concat instead.\n",
      "  self.gdfsimulation = self.gdfsimulation.append(gdfappend)\n"
     ]
    },
    {
     "name": "stdout",
     "output_type": "stream",
     "text": [
      "Farsite $Rev: 2395 $\n",
      "Number of parallel threads = 4 (omp_get_num_procs = 64).\n",
      "Loading lcp file for Farsite #1: /home/jovyan/farsite/inputs/landscapes/Maria2019.lcp\n",
      "Loading inputs file for Farsite #1: /home/jovyan/data/20230224/Run_04104/config\n",
      "Loading ignition file for Farsite #1: /home/jovyan/data/ignitions/Maria2019E83e0f3bb63fd43af8191cb270255b859.shp\n",
      "Loading barrier file for Farsite #1: /home/jovyan/farsite/inputs/barriers/NoBarrier/NoBarrier.shp\n",
      "Launching Farsite #1\n",
      "Starting time step 0.000000 (maximum = 18)\n",
      "Writing outputs for Farsite #1 to /home/jovyan/data/20230224/Run_04104/out\n"
     ]
    },
    {
     "name": "stderr",
     "output_type": "stream",
     "text": [
      "/home/jovyan/farsite-devAPI/src/farsiteutils_v2.py:177: FutureWarning: The frame.append method is deprecated and will be removed from pandas in a future version. Use pandas.concat instead.\n",
      "  self.gdfsimulation = self.gdfsimulation.append(gdfappend)\n"
     ]
    },
    {
     "name": "stdout",
     "output_type": "stream",
     "text": [
      "Farsite $Rev: 2395 $\n",
      "Number of parallel threads = 4 (omp_get_num_procs = 64).\n",
      "Loading lcp file for Farsite #1: /home/jovyan/farsite/inputs/landscapes/Maria2019.lcp\n",
      "Loading inputs file for Farsite #1: /home/jovyan/data/20230224/Run_04105/config\n",
      "Loading ignition file for Farsite #1: /home/jovyan/data/ignitions/Maria2019Ea28d632b2ff2420580b1e0084e40420e.shp\n",
      "Loading barrier file for Farsite #1: /home/jovyan/farsite/inputs/barriers/NoBarrier/NoBarrier.shp\n",
      "Launching Farsite #1\n",
      "Starting time step 0.000000 (maximum = 18)\n",
      "Writing outputs for Farsite #1 to /home/jovyan/data/20230224/Run_04105/out\n"
     ]
    },
    {
     "name": "stderr",
     "output_type": "stream",
     "text": [
      "/home/jovyan/farsite-devAPI/src/farsiteutils_v2.py:177: FutureWarning: The frame.append method is deprecated and will be removed from pandas in a future version. Use pandas.concat instead.\n",
      "  self.gdfsimulation = self.gdfsimulation.append(gdfappend)\n"
     ]
    },
    {
     "name": "stdout",
     "output_type": "stream",
     "text": [
      "Farsite $Rev: 2395 $\n",
      "Number of parallel threads = 4 (omp_get_num_procs = 64).\n",
      "Loading lcp file for Farsite #1: /home/jovyan/farsite/inputs/landscapes/Maria2019.lcp\n",
      "Loading inputs file for Farsite #1: /home/jovyan/data/20230224/Run_04106/config\n",
      "Loading ignition file for Farsite #1: /home/jovyan/data/ignitions/Maria2019E1db9422230af42b7b17ce4e302e81c17.shp\n",
      "Loading barrier file for Farsite #1: /home/jovyan/farsite/inputs/barriers/NoBarrier/NoBarrier.shp\n",
      "Launching Farsite #1\n",
      "Starting time step 0.000000 (maximum = 18)\n",
      "Writing outputs for Farsite #1 to /home/jovyan/data/20230224/Run_04106/out\n"
     ]
    },
    {
     "name": "stderr",
     "output_type": "stream",
     "text": [
      "/home/jovyan/farsite-devAPI/src/farsiteutils_v2.py:177: FutureWarning: The frame.append method is deprecated and will be removed from pandas in a future version. Use pandas.concat instead.\n",
      "  self.gdfsimulation = self.gdfsimulation.append(gdfappend)\n"
     ]
    },
    {
     "name": "stdout",
     "output_type": "stream",
     "text": [
      "Farsite $Rev: 2395 $\n",
      "Number of parallel threads = 4 (omp_get_num_procs = 64).\n",
      "Loading lcp file for Farsite #1: /home/jovyan/farsite/inputs/landscapes/Maria2019.lcp\n",
      "Loading inputs file for Farsite #1: /home/jovyan/data/20230224/Run_04107/config\n",
      "Loading ignition file for Farsite #1: /home/jovyan/data/ignitions/Maria2019E8c6f5f2ddcd64e339fac955c8bb0781f.shp\n",
      "Loading barrier file for Farsite #1: /home/jovyan/farsite/inputs/barriers/NoBarrier/NoBarrier.shp\n",
      "Launching Farsite #1\n",
      "Starting time step 0.000000 (maximum = 18)\n",
      "Writing outputs for Farsite #1 to /home/jovyan/data/20230224/Run_04107/out\n"
     ]
    },
    {
     "name": "stderr",
     "output_type": "stream",
     "text": [
      "/home/jovyan/farsite-devAPI/src/farsiteutils_v2.py:177: FutureWarning: The frame.append method is deprecated and will be removed from pandas in a future version. Use pandas.concat instead.\n",
      "  self.gdfsimulation = self.gdfsimulation.append(gdfappend)\n"
     ]
    },
    {
     "name": "stdout",
     "output_type": "stream",
     "text": [
      "Farsite $Rev: 2395 $\n",
      "Number of parallel threads = 4 (omp_get_num_procs = 64).\n",
      "Loading lcp file for Farsite #1: /home/jovyan/farsite/inputs/landscapes/Maria2019.lcp\n",
      "Loading inputs file for Farsite #1: /home/jovyan/data/20230224/Run_04108/config\n",
      "Loading ignition file for Farsite #1: /home/jovyan/data/ignitions/Maria2019Eb46de684e77445b38c774852e0f6ac88.shp\n",
      "Loading barrier file for Farsite #1: /home/jovyan/farsite/inputs/barriers/NoBarrier/NoBarrier.shp\n",
      "Launching Farsite #1\n",
      "Starting time step 0.000000 (maximum = 18)\n",
      "Writing outputs for Farsite #1 to /home/jovyan/data/20230224/Run_04108/out\n"
     ]
    },
    {
     "name": "stderr",
     "output_type": "stream",
     "text": [
      "/home/jovyan/farsite-devAPI/src/farsiteutils_v2.py:177: FutureWarning: The frame.append method is deprecated and will be removed from pandas in a future version. Use pandas.concat instead.\n",
      "  self.gdfsimulation = self.gdfsimulation.append(gdfappend)\n"
     ]
    },
    {
     "name": "stdout",
     "output_type": "stream",
     "text": [
      "Farsite $Rev: 2395 $\n",
      "Number of parallel threads = 4 (omp_get_num_procs = 64).\n",
      "Loading lcp file for Farsite #1: /home/jovyan/farsite/inputs/landscapes/Maria2019.lcp\n",
      "Loading inputs file for Farsite #1: /home/jovyan/data/20230224/Run_04109/config\n",
      "Loading ignition file for Farsite #1: /home/jovyan/data/ignitions/Maria2019E584ed994b5714bfaa84610c93d93f19b.shp\n",
      "Loading barrier file for Farsite #1: /home/jovyan/farsite/inputs/barriers/NoBarrier/NoBarrier.shp\n",
      "Launching Farsite #1\n",
      "Starting time step 0.000000 (maximum = 18)\n",
      "Writing outputs for Farsite #1 to /home/jovyan/data/20230224/Run_04109/out\n"
     ]
    },
    {
     "name": "stderr",
     "output_type": "stream",
     "text": [
      "/home/jovyan/farsite-devAPI/src/farsiteutils_v2.py:177: FutureWarning: The frame.append method is deprecated and will be removed from pandas in a future version. Use pandas.concat instead.\n",
      "  self.gdfsimulation = self.gdfsimulation.append(gdfappend)\n"
     ]
    },
    {
     "name": "stdout",
     "output_type": "stream",
     "text": [
      "Farsite $Rev: 2395 $\n",
      "Number of parallel threads = 4 (omp_get_num_procs = 64).\n",
      "Loading lcp file for Farsite #1: /home/jovyan/farsite/inputs/landscapes/Maria2019.lcp\n",
      "Loading inputs file for Farsite #1: /home/jovyan/data/20230224/Run_04110/config\n",
      "Loading ignition file for Farsite #1: /home/jovyan/data/ignitions/Maria2019E5d6b957eaaee44fb8396adaa7721b6b5.shp\n",
      "Loading barrier file for Farsite #1: /home/jovyan/farsite/inputs/barriers/NoBarrier/NoBarrier.shp\n",
      "Launching Farsite #1\n",
      "Starting time step 0.000000 (maximum = 18)\n",
      "Writing outputs for Farsite #1 to /home/jovyan/data/20230224/Run_04110/out\n"
     ]
    },
    {
     "name": "stderr",
     "output_type": "stream",
     "text": [
      "/home/jovyan/farsite-devAPI/src/farsiteutils_v2.py:177: FutureWarning: The frame.append method is deprecated and will be removed from pandas in a future version. Use pandas.concat instead.\n",
      "  self.gdfsimulation = self.gdfsimulation.append(gdfappend)\n"
     ]
    },
    {
     "name": "stdout",
     "output_type": "stream",
     "text": [
      "Farsite $Rev: 2395 $\n",
      "Number of parallel threads = 4 (omp_get_num_procs = 64).\n",
      "Loading lcp file for Farsite #1: /home/jovyan/farsite/inputs/landscapes/Maria2019.lcp\n",
      "Loading inputs file for Farsite #1: /home/jovyan/data/20230224/Run_04111/config\n",
      "Loading ignition file for Farsite #1: /home/jovyan/data/ignitions/Maria2019E52ab27b210b842d5a7a6e6f6cc66bc83.shp\n",
      "Loading barrier file for Farsite #1: /home/jovyan/farsite/inputs/barriers/NoBarrier/NoBarrier.shp\n",
      "Launching Farsite #1\n",
      "Starting time step 0.000000 (maximum = 18)\n",
      "Writing outputs for Farsite #1 to /home/jovyan/data/20230224/Run_04111/out\n"
     ]
    },
    {
     "name": "stderr",
     "output_type": "stream",
     "text": [
      "/home/jovyan/farsite-devAPI/src/farsiteutils_v2.py:177: FutureWarning: The frame.append method is deprecated and will be removed from pandas in a future version. Use pandas.concat instead.\n",
      "  self.gdfsimulation = self.gdfsimulation.append(gdfappend)\n"
     ]
    },
    {
     "name": "stdout",
     "output_type": "stream",
     "text": [
      "Farsite $Rev: 2395 $\n",
      "Number of parallel threads = 4 (omp_get_num_procs = 64).\n",
      "Loading lcp file for Farsite #1: /home/jovyan/farsite/inputs/landscapes/Maria2019.lcp\n",
      "Loading inputs file for Farsite #1: /home/jovyan/data/20230224/Run_04112/config\n",
      "Loading ignition file for Farsite #1: /home/jovyan/data/ignitions/Maria2019Ed821088bacc741eba7fce024b3ab26b8.shp\n",
      "Loading barrier file for Farsite #1: /home/jovyan/farsite/inputs/barriers/NoBarrier/NoBarrier.shp\n",
      "Launching Farsite #1\n",
      "Starting time step 0.000000 (maximum = 18)\n",
      "Writing outputs for Farsite #1 to /home/jovyan/data/20230224/Run_04112/out\n"
     ]
    },
    {
     "name": "stderr",
     "output_type": "stream",
     "text": [
      "/home/jovyan/farsite-devAPI/src/farsiteutils_v2.py:177: FutureWarning: The frame.append method is deprecated and will be removed from pandas in a future version. Use pandas.concat instead.\n",
      "  self.gdfsimulation = self.gdfsimulation.append(gdfappend)\n"
     ]
    },
    {
     "name": "stdout",
     "output_type": "stream",
     "text": [
      "Farsite $Rev: 2395 $\n",
      "Number of parallel threads = 4 (omp_get_num_procs = 64).\n",
      "Loading lcp file for Farsite #1: /home/jovyan/farsite/inputs/landscapes/Maria2019.lcp\n",
      "Loading inputs file for Farsite #1: /home/jovyan/data/20230224/Run_04113/config\n",
      "Loading ignition file for Farsite #1: /home/jovyan/data/ignitions/Maria2019E24158db381c941189b253f8a4bb2ce19.shp\n",
      "Loading barrier file for Farsite #1: /home/jovyan/farsite/inputs/barriers/NoBarrier/NoBarrier.shp\n",
      "Launching Farsite #1\n",
      "Starting time step 0.000000 (maximum = 18)\n",
      "Writing outputs for Farsite #1 to /home/jovyan/data/20230224/Run_04113/out\n"
     ]
    },
    {
     "name": "stderr",
     "output_type": "stream",
     "text": [
      "/home/jovyan/farsite-devAPI/src/farsiteutils_v2.py:177: FutureWarning: The frame.append method is deprecated and will be removed from pandas in a future version. Use pandas.concat instead.\n",
      "  self.gdfsimulation = self.gdfsimulation.append(gdfappend)\n"
     ]
    },
    {
     "name": "stdout",
     "output_type": "stream",
     "text": [
      "Farsite $Rev: 2395 $\n",
      "Number of parallel threads = 4 (omp_get_num_procs = 64).\n",
      "Loading lcp file for Farsite #1: /home/jovyan/farsite/inputs/landscapes/Maria2019.lcp\n",
      "Loading inputs file for Farsite #1: /home/jovyan/data/20230224/Run_04114/config\n",
      "Loading ignition file for Farsite #1: /home/jovyan/data/ignitions/Maria2019E54447972d6594491b1194c029ace86db.shp\n",
      "Loading barrier file for Farsite #1: /home/jovyan/farsite/inputs/barriers/NoBarrier/NoBarrier.shp\n",
      "Launching Farsite #1\n",
      "Starting time step 0.000000 (maximum = 18)\n",
      "Writing outputs for Farsite #1 to /home/jovyan/data/20230224/Run_04114/out\n"
     ]
    },
    {
     "name": "stderr",
     "output_type": "stream",
     "text": [
      "/home/jovyan/farsite-devAPI/src/farsiteutils_v2.py:177: FutureWarning: The frame.append method is deprecated and will be removed from pandas in a future version. Use pandas.concat instead.\n",
      "  self.gdfsimulation = self.gdfsimulation.append(gdfappend)\n"
     ]
    },
    {
     "name": "stdout",
     "output_type": "stream",
     "text": [
      "Farsite $Rev: 2395 $\n",
      "Number of parallel threads = 4 (omp_get_num_procs = 64).\n",
      "Loading lcp file for Farsite #1: /home/jovyan/farsite/inputs/landscapes/Maria2019.lcp\n",
      "Loading inputs file for Farsite #1: /home/jovyan/data/20230224/Run_04115/config\n",
      "Loading ignition file for Farsite #1: /home/jovyan/data/ignitions/Maria2019E85b9f13749bc4cd0a29798a5dc95f074.shp\n",
      "Loading barrier file for Farsite #1: /home/jovyan/farsite/inputs/barriers/NoBarrier/NoBarrier.shp\n",
      "Launching Farsite #1\n",
      "Starting time step 0.000000 (maximum = 18)\n",
      "Writing outputs for Farsite #1 to /home/jovyan/data/20230224/Run_04115/out\n"
     ]
    },
    {
     "name": "stderr",
     "output_type": "stream",
     "text": [
      "/home/jovyan/farsite-devAPI/src/farsiteutils_v2.py:177: FutureWarning: The frame.append method is deprecated and will be removed from pandas in a future version. Use pandas.concat instead.\n",
      "  self.gdfsimulation = self.gdfsimulation.append(gdfappend)\n"
     ]
    },
    {
     "name": "stdout",
     "output_type": "stream",
     "text": [
      "Farsite $Rev: 2395 $\n",
      "Number of parallel threads = 4 (omp_get_num_procs = 64).\n",
      "Loading lcp file for Farsite #1: /home/jovyan/farsite/inputs/landscapes/Maria2019.lcp\n",
      "Loading inputs file for Farsite #1: /home/jovyan/data/20230224/Run_04116/config\n",
      "Loading ignition file for Farsite #1: /home/jovyan/data/ignitions/Maria2019E6e3f700b346243d7a309f117b88c5095.shp\n",
      "Loading barrier file for Farsite #1: /home/jovyan/farsite/inputs/barriers/NoBarrier/NoBarrier.shp\n",
      "Launching Farsite #1\n",
      "Starting time step 0.000000 (maximum = 18)\n",
      "Writing outputs for Farsite #1 to /home/jovyan/data/20230224/Run_04116/out\n"
     ]
    },
    {
     "name": "stderr",
     "output_type": "stream",
     "text": [
      "/home/jovyan/farsite-devAPI/src/farsiteutils_v2.py:177: FutureWarning: The frame.append method is deprecated and will be removed from pandas in a future version. Use pandas.concat instead.\n",
      "  self.gdfsimulation = self.gdfsimulation.append(gdfappend)\n"
     ]
    },
    {
     "name": "stdout",
     "output_type": "stream",
     "text": [
      "Farsite $Rev: 2395 $\n",
      "Number of parallel threads = 4 (omp_get_num_procs = 64).\n",
      "Loading lcp file for Farsite #1: /home/jovyan/farsite/inputs/landscapes/Maria2019.lcp\n",
      "Loading inputs file for Farsite #1: /home/jovyan/data/20230224/Run_04117/config\n",
      "Loading ignition file for Farsite #1: /home/jovyan/data/ignitions/Maria2019Ecb7a727aafda4b2cbde26bb32822f96e.shp\n",
      "Loading barrier file for Farsite #1: /home/jovyan/farsite/inputs/barriers/NoBarrier/NoBarrier.shp\n",
      "Launching Farsite #1\n",
      "Starting time step 0.000000 (maximum = 18)\n",
      "Writing outputs for Farsite #1 to /home/jovyan/data/20230224/Run_04117/out\n"
     ]
    },
    {
     "name": "stderr",
     "output_type": "stream",
     "text": [
      "/home/jovyan/farsite-devAPI/src/farsiteutils_v2.py:177: FutureWarning: The frame.append method is deprecated and will be removed from pandas in a future version. Use pandas.concat instead.\n",
      "  self.gdfsimulation = self.gdfsimulation.append(gdfappend)\n"
     ]
    },
    {
     "name": "stdout",
     "output_type": "stream",
     "text": [
      "Farsite $Rev: 2395 $\n",
      "Number of parallel threads = 4 (omp_get_num_procs = 64).\n",
      "Loading lcp file for Farsite #1: /home/jovyan/farsite/inputs/landscapes/Maria2019.lcp\n",
      "Loading inputs file for Farsite #1: /home/jovyan/data/20230224/Run_04118/config\n",
      "Loading ignition file for Farsite #1: /home/jovyan/data/ignitions/Maria2019E4ace0f46cf674393a2a48be92483dc03.shp\n",
      "Loading barrier file for Farsite #1: /home/jovyan/farsite/inputs/barriers/NoBarrier/NoBarrier.shp\n",
      "Launching Farsite #1\n",
      "Starting time step 0.000000 (maximum = 18)\n",
      "Writing outputs for Farsite #1 to /home/jovyan/data/20230224/Run_04118/out\n"
     ]
    },
    {
     "name": "stderr",
     "output_type": "stream",
     "text": [
      "/home/jovyan/farsite-devAPI/src/farsiteutils_v2.py:177: FutureWarning: The frame.append method is deprecated and will be removed from pandas in a future version. Use pandas.concat instead.\n",
      "  self.gdfsimulation = self.gdfsimulation.append(gdfappend)\n"
     ]
    },
    {
     "name": "stdout",
     "output_type": "stream",
     "text": [
      "Farsite $Rev: 2395 $\n",
      "Number of parallel threads = 4 (omp_get_num_procs = 64).\n",
      "Loading lcp file for Farsite #1: /home/jovyan/farsite/inputs/landscapes/Maria2019.lcp\n",
      "Loading inputs file for Farsite #1: /home/jovyan/data/20230224/Run_04119/config\n",
      "Loading ignition file for Farsite #1: /home/jovyan/data/ignitions/Maria2019E2b19551ba49743b5b03512e8ab3bc6a0.shp\n",
      "Loading barrier file for Farsite #1: /home/jovyan/farsite/inputs/barriers/NoBarrier/NoBarrier.shp\n",
      "Launching Farsite #1\n",
      "Starting time step 0.000000 (maximum = 18)\n",
      "Writing outputs for Farsite #1 to /home/jovyan/data/20230224/Run_04119/out\n"
     ]
    },
    {
     "name": "stderr",
     "output_type": "stream",
     "text": [
      "/home/jovyan/farsite-devAPI/src/farsiteutils_v2.py:177: FutureWarning: The frame.append method is deprecated and will be removed from pandas in a future version. Use pandas.concat instead.\n",
      "  self.gdfsimulation = self.gdfsimulation.append(gdfappend)\n"
     ]
    },
    {
     "name": "stdout",
     "output_type": "stream",
     "text": [
      "Farsite $Rev: 2395 $\n",
      "Number of parallel threads = 4 (omp_get_num_procs = 64).\n",
      "Loading lcp file for Farsite #1: /home/jovyan/farsite/inputs/landscapes/Maria2019.lcp\n",
      "Loading inputs file for Farsite #1: /home/jovyan/data/20230224/Run_04120/config\n",
      "Loading ignition file for Farsite #1: /home/jovyan/data/ignitions/Maria2019E7c19a05c59dd4899974e4eee6dee5d9c.shp\n",
      "Loading barrier file for Farsite #1: /home/jovyan/farsite/inputs/barriers/NoBarrier/NoBarrier.shp\n",
      "Launching Farsite #1\n",
      "Starting time step 0.000000 (maximum = 18)\n",
      "Writing outputs for Farsite #1 to /home/jovyan/data/20230224/Run_04120/out\n"
     ]
    },
    {
     "name": "stderr",
     "output_type": "stream",
     "text": [
      "/home/jovyan/farsite-devAPI/src/farsiteutils_v2.py:177: FutureWarning: The frame.append method is deprecated and will be removed from pandas in a future version. Use pandas.concat instead.\n",
      "  self.gdfsimulation = self.gdfsimulation.append(gdfappend)\n"
     ]
    },
    {
     "name": "stdout",
     "output_type": "stream",
     "text": [
      "Farsite $Rev: 2395 $\n",
      "Number of parallel threads = 4 (omp_get_num_procs = 64).\n",
      "Loading lcp file for Farsite #1: /home/jovyan/farsite/inputs/landscapes/Maria2019.lcp\n",
      "Loading inputs file for Farsite #1: /home/jovyan/data/20230224/Run_04121/config\n",
      "Loading ignition file for Farsite #1: /home/jovyan/data/ignitions/Maria2019Efb0ac9f1b9044a1e91f2fc22d7a9e67c.shp\n",
      "Loading barrier file for Farsite #1: /home/jovyan/farsite/inputs/barriers/NoBarrier/NoBarrier.shp\n",
      "Launching Farsite #1\n",
      "Starting time step 0.000000 (maximum = 18)\n",
      "Writing outputs for Farsite #1 to /home/jovyan/data/20230224/Run_04121/out\n"
     ]
    },
    {
     "name": "stderr",
     "output_type": "stream",
     "text": [
      "/home/jovyan/farsite-devAPI/src/farsiteutils_v2.py:177: FutureWarning: The frame.append method is deprecated and will be removed from pandas in a future version. Use pandas.concat instead.\n",
      "  self.gdfsimulation = self.gdfsimulation.append(gdfappend)\n"
     ]
    },
    {
     "name": "stdout",
     "output_type": "stream",
     "text": [
      "Farsite $Rev: 2395 $\n",
      "Number of parallel threads = 4 (omp_get_num_procs = 64).\n",
      "Loading lcp file for Farsite #1: /home/jovyan/farsite/inputs/landscapes/Maria2019.lcp\n",
      "Loading inputs file for Farsite #1: /home/jovyan/data/20230224/Run_04122/config\n",
      "Loading ignition file for Farsite #1: /home/jovyan/data/ignitions/Maria2019Ea13f169e7abc4c7dbbc9a4585f2fad4a.shp\n",
      "Loading barrier file for Farsite #1: /home/jovyan/farsite/inputs/barriers/NoBarrier/NoBarrier.shp\n",
      "Launching Farsite #1\n",
      "Starting time step 0.000000 (maximum = 18)\n",
      "Writing outputs for Farsite #1 to /home/jovyan/data/20230224/Run_04122/out\n"
     ]
    },
    {
     "name": "stderr",
     "output_type": "stream",
     "text": [
      "/home/jovyan/farsite-devAPI/src/farsiteutils_v2.py:177: FutureWarning: The frame.append method is deprecated and will be removed from pandas in a future version. Use pandas.concat instead.\n",
      "  self.gdfsimulation = self.gdfsimulation.append(gdfappend)\n"
     ]
    },
    {
     "name": "stdout",
     "output_type": "stream",
     "text": [
      "Farsite $Rev: 2395 $\n",
      "Number of parallel threads = 4 (omp_get_num_procs = 64).\n",
      "Loading lcp file for Farsite #1: /home/jovyan/farsite/inputs/landscapes/Maria2019.lcp\n",
      "Loading inputs file for Farsite #1: /home/jovyan/data/20230224/Run_04123/config\n",
      "Loading ignition file for Farsite #1: /home/jovyan/data/ignitions/Maria2019E4f5f8b40fea14abea6bbd1d5041a3b78.shp\n",
      "Loading barrier file for Farsite #1: /home/jovyan/farsite/inputs/barriers/NoBarrier/NoBarrier.shp\n",
      "Launching Farsite #1\n",
      "Starting time step 0.000000 (maximum = 18)\n",
      "Writing outputs for Farsite #1 to /home/jovyan/data/20230224/Run_04123/out\n"
     ]
    },
    {
     "name": "stderr",
     "output_type": "stream",
     "text": [
      "/home/jovyan/farsite-devAPI/src/farsiteutils_v2.py:177: FutureWarning: The frame.append method is deprecated and will be removed from pandas in a future version. Use pandas.concat instead.\n",
      "  self.gdfsimulation = self.gdfsimulation.append(gdfappend)\n"
     ]
    },
    {
     "name": "stdout",
     "output_type": "stream",
     "text": [
      "Farsite $Rev: 2395 $\n",
      "Number of parallel threads = 4 (omp_get_num_procs = 64).\n",
      "Loading lcp file for Farsite #1: /home/jovyan/farsite/inputs/landscapes/Maria2019.lcp\n",
      "Loading inputs file for Farsite #1: /home/jovyan/data/20230224/Run_04124/config\n",
      "Loading ignition file for Farsite #1: /home/jovyan/data/ignitions/Maria2019E3d82913aa4cb4f0a901a44fb08837b8c.shp\n",
      "Loading barrier file for Farsite #1: /home/jovyan/farsite/inputs/barriers/NoBarrier/NoBarrier.shp\n",
      "Launching Farsite #1\n",
      "Starting time step 0.000000 (maximum = 18)\n",
      "Writing outputs for Farsite #1 to /home/jovyan/data/20230224/Run_04124/out\n"
     ]
    },
    {
     "name": "stderr",
     "output_type": "stream",
     "text": [
      "/home/jovyan/farsite-devAPI/src/farsiteutils_v2.py:177: FutureWarning: The frame.append method is deprecated and will be removed from pandas in a future version. Use pandas.concat instead.\n",
      "  self.gdfsimulation = self.gdfsimulation.append(gdfappend)\n"
     ]
    },
    {
     "name": "stdout",
     "output_type": "stream",
     "text": [
      "Farsite $Rev: 2395 $\n",
      "Number of parallel threads = 4 (omp_get_num_procs = 64).\n",
      "Loading lcp file for Farsite #1: /home/jovyan/farsite/inputs/landscapes/Maria2019.lcp\n",
      "Loading inputs file for Farsite #1: /home/jovyan/data/20230224/Run_04125/config\n",
      "Loading ignition file for Farsite #1: /home/jovyan/data/ignitions/Maria2019E0b1b8073d5394cb9b4a4e7f26cb928ad.shp\n",
      "Loading barrier file for Farsite #1: /home/jovyan/farsite/inputs/barriers/NoBarrier/NoBarrier.shp\n",
      "Launching Farsite #1\n",
      "Starting time step 0.000000 (maximum = 18)\n",
      "Writing outputs for Farsite #1 to /home/jovyan/data/20230224/Run_04125/out\n"
     ]
    },
    {
     "name": "stderr",
     "output_type": "stream",
     "text": [
      "/home/jovyan/farsite-devAPI/src/farsiteutils_v2.py:177: FutureWarning: The frame.append method is deprecated and will be removed from pandas in a future version. Use pandas.concat instead.\n",
      "  self.gdfsimulation = self.gdfsimulation.append(gdfappend)\n"
     ]
    },
    {
     "name": "stdout",
     "output_type": "stream",
     "text": [
      "Farsite $Rev: 2395 $\n",
      "Number of parallel threads = 4 (omp_get_num_procs = 64).\n",
      "Loading lcp file for Farsite #1: /home/jovyan/farsite/inputs/landscapes/Maria2019.lcp\n",
      "Loading inputs file for Farsite #1: /home/jovyan/data/20230224/Run_04126/config\n",
      "Loading ignition file for Farsite #1: /home/jovyan/data/ignitions/Maria2019Ebf110ac5e6914146b3a5134835275fba.shp\n",
      "Loading barrier file for Farsite #1: /home/jovyan/farsite/inputs/barriers/NoBarrier/NoBarrier.shp\n",
      "Launching Farsite #1\n",
      "Starting time step 0.000000 (maximum = 18)\n",
      "Writing outputs for Farsite #1 to /home/jovyan/data/20230224/Run_04126/out\n"
     ]
    },
    {
     "name": "stderr",
     "output_type": "stream",
     "text": [
      "/home/jovyan/farsite-devAPI/src/farsiteutils_v2.py:177: FutureWarning: The frame.append method is deprecated and will be removed from pandas in a future version. Use pandas.concat instead.\n",
      "  self.gdfsimulation = self.gdfsimulation.append(gdfappend)\n"
     ]
    },
    {
     "name": "stdout",
     "output_type": "stream",
     "text": [
      "Farsite $Rev: 2395 $\n",
      "Number of parallel threads = 4 (omp_get_num_procs = 64).\n",
      "Loading lcp file for Farsite #1: /home/jovyan/farsite/inputs/landscapes/Maria2019.lcp\n",
      "Loading inputs file for Farsite #1: /home/jovyan/data/20230224/Run_04127/config\n",
      "Loading ignition file for Farsite #1: /home/jovyan/data/ignitions/Maria2019E4fcd1d077fbc4809bde396477d244e68.shp\n",
      "Loading barrier file for Farsite #1: /home/jovyan/farsite/inputs/barriers/NoBarrier/NoBarrier.shp\n",
      "Launching Farsite #1\n",
      "Starting time step 0.000000 (maximum = 18)\n",
      "Writing outputs for Farsite #1 to /home/jovyan/data/20230224/Run_04127/out\n"
     ]
    },
    {
     "name": "stderr",
     "output_type": "stream",
     "text": [
      "/home/jovyan/farsite-devAPI/src/farsiteutils_v2.py:177: FutureWarning: The frame.append method is deprecated and will be removed from pandas in a future version. Use pandas.concat instead.\n",
      "  self.gdfsimulation = self.gdfsimulation.append(gdfappend)\n"
     ]
    },
    {
     "name": "stdout",
     "output_type": "stream",
     "text": [
      "Farsite $Rev: 2395 $\n",
      "Number of parallel threads = 4 (omp_get_num_procs = 64).\n",
      "Loading lcp file for Farsite #1: /home/jovyan/farsite/inputs/landscapes/Maria2019.lcp\n",
      "Loading inputs file for Farsite #1: /home/jovyan/data/20230224/Run_04128/config\n",
      "Loading ignition file for Farsite #1: /home/jovyan/data/ignitions/Maria2019E20b2fd740ae145babc6637eb7a64dddf.shp\n",
      "Loading barrier file for Farsite #1: /home/jovyan/farsite/inputs/barriers/NoBarrier/NoBarrier.shp\n",
      "Launching Farsite #1\n",
      "Starting time step 0.000000 (maximum = 18)\n",
      "Writing outputs for Farsite #1 to /home/jovyan/data/20230224/Run_04128/out\n"
     ]
    },
    {
     "name": "stderr",
     "output_type": "stream",
     "text": [
      "/home/jovyan/farsite-devAPI/src/farsiteutils_v2.py:177: FutureWarning: The frame.append method is deprecated and will be removed from pandas in a future version. Use pandas.concat instead.\n",
      "  self.gdfsimulation = self.gdfsimulation.append(gdfappend)\n"
     ]
    },
    {
     "name": "stdout",
     "output_type": "stream",
     "text": [
      "Farsite $Rev: 2395 $\n",
      "Number of parallel threads = 4 (omp_get_num_procs = 64).\n",
      "Loading lcp file for Farsite #1: /home/jovyan/farsite/inputs/landscapes/Maria2019.lcp\n",
      "Loading inputs file for Farsite #1: /home/jovyan/data/20230224/Run_04129/config\n",
      "Loading ignition file for Farsite #1: /home/jovyan/data/ignitions/Maria2019E2fc906315cbd46c5b3e51cfd82e05943.shp\n",
      "Loading barrier file for Farsite #1: /home/jovyan/farsite/inputs/barriers/NoBarrier/NoBarrier.shp\n",
      "Launching Farsite #1\n",
      "Starting time step 0.000000 (maximum = 18)\n",
      "Writing outputs for Farsite #1 to /home/jovyan/data/20230224/Run_04129/out\n"
     ]
    },
    {
     "name": "stderr",
     "output_type": "stream",
     "text": [
      "/home/jovyan/farsite-devAPI/src/farsiteutils_v2.py:177: FutureWarning: The frame.append method is deprecated and will be removed from pandas in a future version. Use pandas.concat instead.\n",
      "  self.gdfsimulation = self.gdfsimulation.append(gdfappend)\n"
     ]
    },
    {
     "name": "stdout",
     "output_type": "stream",
     "text": [
      "Farsite $Rev: 2395 $\n",
      "Number of parallel threads = 4 (omp_get_num_procs = 64).\n",
      "Loading lcp file for Farsite #1: /home/jovyan/farsite/inputs/landscapes/Maria2019.lcp\n",
      "Loading inputs file for Farsite #1: /home/jovyan/data/20230224/Run_04130/config\n",
      "Loading ignition file for Farsite #1: /home/jovyan/data/ignitions/Maria2019E0854a79c782c4ad79d968755ef03a8a2.shp\n",
      "Loading barrier file for Farsite #1: /home/jovyan/farsite/inputs/barriers/NoBarrier/NoBarrier.shp\n",
      "Launching Farsite #1\n",
      "Starting time step 0.000000 (maximum = 18)\n",
      "Writing outputs for Farsite #1 to /home/jovyan/data/20230224/Run_04130/out\n"
     ]
    },
    {
     "name": "stderr",
     "output_type": "stream",
     "text": [
      "/home/jovyan/farsite-devAPI/src/farsiteutils_v2.py:177: FutureWarning: The frame.append method is deprecated and will be removed from pandas in a future version. Use pandas.concat instead.\n",
      "  self.gdfsimulation = self.gdfsimulation.append(gdfappend)\n"
     ]
    },
    {
     "name": "stdout",
     "output_type": "stream",
     "text": [
      "Farsite $Rev: 2395 $\n",
      "Number of parallel threads = 4 (omp_get_num_procs = 64).\n",
      "Loading lcp file for Farsite #1: /home/jovyan/farsite/inputs/landscapes/Maria2019.lcp\n",
      "Loading inputs file for Farsite #1: /home/jovyan/data/20230224/Run_04131/config\n",
      "Loading ignition file for Farsite #1: /home/jovyan/data/ignitions/Maria2019E6620588d02294aae92e595fc4ce5065f.shp\n",
      "Loading barrier file for Farsite #1: /home/jovyan/farsite/inputs/barriers/NoBarrier/NoBarrier.shp\n",
      "Launching Farsite #1\n",
      "Starting time step 0.000000 (maximum = 18)\n",
      "Writing outputs for Farsite #1 to /home/jovyan/data/20230224/Run_04131/out\n"
     ]
    },
    {
     "name": "stderr",
     "output_type": "stream",
     "text": [
      "/home/jovyan/farsite-devAPI/src/farsiteutils_v2.py:177: FutureWarning: The frame.append method is deprecated and will be removed from pandas in a future version. Use pandas.concat instead.\n",
      "  self.gdfsimulation = self.gdfsimulation.append(gdfappend)\n"
     ]
    },
    {
     "name": "stdout",
     "output_type": "stream",
     "text": [
      "Farsite $Rev: 2395 $\n",
      "Number of parallel threads = 4 (omp_get_num_procs = 64).\n",
      "Loading lcp file for Farsite #1: /home/jovyan/farsite/inputs/landscapes/Maria2019.lcp\n",
      "Loading inputs file for Farsite #1: /home/jovyan/data/20230224/Run_04132/config\n",
      "Loading ignition file for Farsite #1: /home/jovyan/data/ignitions/Maria2019E2e06ef8233bd4e1fb809f9ffe0fcbcd7.shp\n",
      "Loading barrier file for Farsite #1: /home/jovyan/farsite/inputs/barriers/NoBarrier/NoBarrier.shp\n",
      "Launching Farsite #1\n",
      "Starting time step 0.000000 (maximum = 18)\n",
      "Writing outputs for Farsite #1 to /home/jovyan/data/20230224/Run_04132/out\n"
     ]
    },
    {
     "name": "stderr",
     "output_type": "stream",
     "text": [
      "/home/jovyan/farsite-devAPI/src/farsiteutils_v2.py:177: FutureWarning: The frame.append method is deprecated and will be removed from pandas in a future version. Use pandas.concat instead.\n",
      "  self.gdfsimulation = self.gdfsimulation.append(gdfappend)\n"
     ]
    },
    {
     "name": "stdout",
     "output_type": "stream",
     "text": [
      "Farsite $Rev: 2395 $\n",
      "Number of parallel threads = 4 (omp_get_num_procs = 64).\n",
      "Loading lcp file for Farsite #1: /home/jovyan/farsite/inputs/landscapes/Maria2019.lcp\n",
      "Loading inputs file for Farsite #1: /home/jovyan/data/20230224/Run_04133/config\n",
      "Loading ignition file for Farsite #1: /home/jovyan/data/ignitions/Maria2019Ec4d82ea6bd694adc8bc5720dafe50620.shp\n",
      "Loading barrier file for Farsite #1: /home/jovyan/farsite/inputs/barriers/NoBarrier/NoBarrier.shp\n",
      "Launching Farsite #1\n",
      "Starting time step 0.000000 (maximum = 18)\n",
      "Writing outputs for Farsite #1 to /home/jovyan/data/20230224/Run_04133/out\n"
     ]
    },
    {
     "name": "stderr",
     "output_type": "stream",
     "text": [
      "/home/jovyan/farsite-devAPI/src/farsiteutils_v2.py:177: FutureWarning: The frame.append method is deprecated and will be removed from pandas in a future version. Use pandas.concat instead.\n",
      "  self.gdfsimulation = self.gdfsimulation.append(gdfappend)\n"
     ]
    },
    {
     "name": "stdout",
     "output_type": "stream",
     "text": [
      "Farsite $Rev: 2395 $\n",
      "Number of parallel threads = 4 (omp_get_num_procs = 64).\n",
      "Loading lcp file for Farsite #1: /home/jovyan/farsite/inputs/landscapes/Maria2019.lcp\n",
      "Loading inputs file for Farsite #1: /home/jovyan/data/20230224/Run_04134/config\n",
      "Loading ignition file for Farsite #1: /home/jovyan/data/ignitions/Maria2019E961da770f95843c1a00b221c0647a839.shp\n",
      "Loading barrier file for Farsite #1: /home/jovyan/farsite/inputs/barriers/NoBarrier/NoBarrier.shp\n",
      "Launching Farsite #1\n",
      "Starting time step 0.000000 (maximum = 18)\n",
      "Writing outputs for Farsite #1 to /home/jovyan/data/20230224/Run_04134/out\n"
     ]
    },
    {
     "name": "stderr",
     "output_type": "stream",
     "text": [
      "/home/jovyan/farsite-devAPI/src/farsiteutils_v2.py:177: FutureWarning: The frame.append method is deprecated and will be removed from pandas in a future version. Use pandas.concat instead.\n",
      "  self.gdfsimulation = self.gdfsimulation.append(gdfappend)\n"
     ]
    },
    {
     "name": "stdout",
     "output_type": "stream",
     "text": [
      "Farsite $Rev: 2395 $\n",
      "Number of parallel threads = 4 (omp_get_num_procs = 64).\n",
      "Loading lcp file for Farsite #1: /home/jovyan/farsite/inputs/landscapes/Maria2019.lcp\n",
      "Loading inputs file for Farsite #1: /home/jovyan/data/20230224/Run_04135/config\n",
      "Loading ignition file for Farsite #1: /home/jovyan/data/ignitions/Maria2019E95ff9eb588154b509fb7be9ebc9eefc0.shp\n",
      "Loading barrier file for Farsite #1: /home/jovyan/farsite/inputs/barriers/NoBarrier/NoBarrier.shp\n",
      "Launching Farsite #1\n",
      "Starting time step 0.000000 (maximum = 18)\n",
      "Writing outputs for Farsite #1 to /home/jovyan/data/20230224/Run_04135/out\n"
     ]
    },
    {
     "name": "stderr",
     "output_type": "stream",
     "text": [
      "/home/jovyan/farsite-devAPI/src/farsiteutils_v2.py:177: FutureWarning: The frame.append method is deprecated and will be removed from pandas in a future version. Use pandas.concat instead.\n",
      "  self.gdfsimulation = self.gdfsimulation.append(gdfappend)\n"
     ]
    },
    {
     "name": "stdout",
     "output_type": "stream",
     "text": [
      "Farsite $Rev: 2395 $\n",
      "Number of parallel threads = 4 (omp_get_num_procs = 64).\n",
      "Loading lcp file for Farsite #1: /home/jovyan/farsite/inputs/landscapes/Maria2019.lcp\n",
      "Loading inputs file for Farsite #1: /home/jovyan/data/20230224/Run_04136/config\n",
      "Loading ignition file for Farsite #1: /home/jovyan/data/ignitions/Maria2019E76af49fc313b43c295dba0f746b3ba4f.shp\n",
      "Loading barrier file for Farsite #1: /home/jovyan/farsite/inputs/barriers/NoBarrier/NoBarrier.shp\n",
      "Launching Farsite #1\n",
      "Starting time step 0.000000 (maximum = 18)\n",
      "Writing outputs for Farsite #1 to /home/jovyan/data/20230224/Run_04136/out\n"
     ]
    },
    {
     "name": "stderr",
     "output_type": "stream",
     "text": [
      "/home/jovyan/farsite-devAPI/src/farsiteutils_v2.py:177: FutureWarning: The frame.append method is deprecated and will be removed from pandas in a future version. Use pandas.concat instead.\n",
      "  self.gdfsimulation = self.gdfsimulation.append(gdfappend)\n"
     ]
    },
    {
     "name": "stdout",
     "output_type": "stream",
     "text": [
      "Farsite $Rev: 2395 $\n",
      "Number of parallel threads = 4 (omp_get_num_procs = 64).\n",
      "Loading lcp file for Farsite #1: /home/jovyan/farsite/inputs/landscapes/Maria2019.lcp\n",
      "Loading inputs file for Farsite #1: /home/jovyan/data/20230224/Run_04137/config\n",
      "Loading ignition file for Farsite #1: /home/jovyan/data/ignitions/Maria2019E7a22e4263ef24727816255109d82ac26.shp\n",
      "Loading barrier file for Farsite #1: /home/jovyan/farsite/inputs/barriers/NoBarrier/NoBarrier.shp\n",
      "Launching Farsite #1\n",
      "Starting time step 0.000000 (maximum = 18)\n",
      "Writing outputs for Farsite #1 to /home/jovyan/data/20230224/Run_04137/out\n"
     ]
    },
    {
     "name": "stderr",
     "output_type": "stream",
     "text": [
      "/home/jovyan/farsite-devAPI/src/farsiteutils_v2.py:177: FutureWarning: The frame.append method is deprecated and will be removed from pandas in a future version. Use pandas.concat instead.\n",
      "  self.gdfsimulation = self.gdfsimulation.append(gdfappend)\n"
     ]
    },
    {
     "name": "stdout",
     "output_type": "stream",
     "text": [
      "Farsite $Rev: 2395 $\n",
      "Number of parallel threads = 4 (omp_get_num_procs = 64).\n",
      "Loading lcp file for Farsite #1: /home/jovyan/farsite/inputs/landscapes/Maria2019.lcp\n",
      "Loading inputs file for Farsite #1: /home/jovyan/data/20230224/Run_04138/config\n",
      "Loading ignition file for Farsite #1: /home/jovyan/data/ignitions/Maria2019E3ccadd14589a4245b94eacc0cfcd6921.shp\n",
      "Loading barrier file for Farsite #1: /home/jovyan/farsite/inputs/barriers/NoBarrier/NoBarrier.shp\n",
      "Launching Farsite #1\n",
      "Starting time step 0.000000 (maximum = 18)\n",
      "Writing outputs for Farsite #1 to /home/jovyan/data/20230224/Run_04138/out\n"
     ]
    },
    {
     "name": "stderr",
     "output_type": "stream",
     "text": [
      "/home/jovyan/farsite-devAPI/src/farsiteutils_v2.py:177: FutureWarning: The frame.append method is deprecated and will be removed from pandas in a future version. Use pandas.concat instead.\n",
      "  self.gdfsimulation = self.gdfsimulation.append(gdfappend)\n"
     ]
    },
    {
     "name": "stdout",
     "output_type": "stream",
     "text": [
      "Farsite $Rev: 2395 $\n",
      "Number of parallel threads = 4 (omp_get_num_procs = 64).\n",
      "Loading lcp file for Farsite #1: /home/jovyan/farsite/inputs/landscapes/Maria2019.lcp\n",
      "Loading inputs file for Farsite #1: /home/jovyan/data/20230224/Run_04139/config\n",
      "Loading ignition file for Farsite #1: /home/jovyan/data/ignitions/Maria2019E15c842d39420485384e383637a6a9145.shp\n",
      "Loading barrier file for Farsite #1: /home/jovyan/farsite/inputs/barriers/NoBarrier/NoBarrier.shp\n",
      "Launching Farsite #1\n",
      "Starting time step 0.000000 (maximum = 18)\n",
      "Writing outputs for Farsite #1 to /home/jovyan/data/20230224/Run_04139/out\n"
     ]
    },
    {
     "name": "stderr",
     "output_type": "stream",
     "text": [
      "/home/jovyan/farsite-devAPI/src/farsiteutils_v2.py:177: FutureWarning: The frame.append method is deprecated and will be removed from pandas in a future version. Use pandas.concat instead.\n",
      "  self.gdfsimulation = self.gdfsimulation.append(gdfappend)\n"
     ]
    },
    {
     "name": "stdout",
     "output_type": "stream",
     "text": [
      "Farsite $Rev: 2395 $\n",
      "Number of parallel threads = 4 (omp_get_num_procs = 64).\n",
      "Loading lcp file for Farsite #1: /home/jovyan/farsite/inputs/landscapes/Maria2019.lcp\n",
      "Loading inputs file for Farsite #1: /home/jovyan/data/20230224/Run_04140/config\n",
      "Loading ignition file for Farsite #1: /home/jovyan/data/ignitions/Maria2019E2e379929d02e4989b6ef8d92e4db16c1.shp\n",
      "Loading barrier file for Farsite #1: /home/jovyan/farsite/inputs/barriers/NoBarrier/NoBarrier.shp\n",
      "Launching Farsite #1\n",
      "Starting time step 0.000000 (maximum = 18)\n",
      "Writing outputs for Farsite #1 to /home/jovyan/data/20230224/Run_04140/out\n"
     ]
    },
    {
     "name": "stderr",
     "output_type": "stream",
     "text": [
      "/home/jovyan/farsite-devAPI/src/farsiteutils_v2.py:177: FutureWarning: The frame.append method is deprecated and will be removed from pandas in a future version. Use pandas.concat instead.\n",
      "  self.gdfsimulation = self.gdfsimulation.append(gdfappend)\n"
     ]
    },
    {
     "name": "stdout",
     "output_type": "stream",
     "text": [
      "Farsite $Rev: 2395 $\n",
      "Number of parallel threads = 4 (omp_get_num_procs = 64).\n",
      "Loading lcp file for Farsite #1: /home/jovyan/farsite/inputs/landscapes/Maria2019.lcp\n",
      "Loading inputs file for Farsite #1: /home/jovyan/data/20230224/Run_04141/config\n",
      "Loading ignition file for Farsite #1: /home/jovyan/data/ignitions/Maria2019E45b666440b4f45acad508a97de39caf2.shp\n",
      "Loading barrier file for Farsite #1: /home/jovyan/farsite/inputs/barriers/NoBarrier/NoBarrier.shp\n",
      "Launching Farsite #1\n",
      "Starting time step 0.000000 (maximum = 18)\n",
      "Writing outputs for Farsite #1 to /home/jovyan/data/20230224/Run_04141/out\n"
     ]
    },
    {
     "name": "stderr",
     "output_type": "stream",
     "text": [
      "/home/jovyan/farsite-devAPI/src/farsiteutils_v2.py:177: FutureWarning: The frame.append method is deprecated and will be removed from pandas in a future version. Use pandas.concat instead.\n",
      "  self.gdfsimulation = self.gdfsimulation.append(gdfappend)\n"
     ]
    },
    {
     "name": "stdout",
     "output_type": "stream",
     "text": [
      "Farsite $Rev: 2395 $\n",
      "Number of parallel threads = 4 (omp_get_num_procs = 64).\n",
      "Loading lcp file for Farsite #1: /home/jovyan/farsite/inputs/landscapes/Maria2019.lcp\n",
      "Loading inputs file for Farsite #1: /home/jovyan/data/20230224/Run_04142/config\n",
      "Loading ignition file for Farsite #1: /home/jovyan/data/ignitions/Maria2019E7675f22a1583437db2f9faf37d145419.shp\n",
      "Loading barrier file for Farsite #1: /home/jovyan/farsite/inputs/barriers/NoBarrier/NoBarrier.shp\n",
      "Launching Farsite #1\n",
      "Starting time step 0.000000 (maximum = 18)\n",
      "Writing outputs for Farsite #1 to /home/jovyan/data/20230224/Run_04142/out\n"
     ]
    },
    {
     "name": "stderr",
     "output_type": "stream",
     "text": [
      "/home/jovyan/farsite-devAPI/src/farsiteutils_v2.py:177: FutureWarning: The frame.append method is deprecated and will be removed from pandas in a future version. Use pandas.concat instead.\n",
      "  self.gdfsimulation = self.gdfsimulation.append(gdfappend)\n"
     ]
    },
    {
     "name": "stdout",
     "output_type": "stream",
     "text": [
      "Farsite $Rev: 2395 $\n",
      "Number of parallel threads = 4 (omp_get_num_procs = 64).\n",
      "Loading lcp file for Farsite #1: /home/jovyan/farsite/inputs/landscapes/Maria2019.lcp\n",
      "Loading inputs file for Farsite #1: /home/jovyan/data/20230224/Run_04143/config\n",
      "Loading ignition file for Farsite #1: /home/jovyan/data/ignitions/Maria2019E78d208301e9344bb8e09aa6e11d474f1.shp\n",
      "Loading barrier file for Farsite #1: /home/jovyan/farsite/inputs/barriers/NoBarrier/NoBarrier.shp\n",
      "Launching Farsite #1\n",
      "Starting time step 0.000000 (maximum = 18)\n",
      "Writing outputs for Farsite #1 to /home/jovyan/data/20230224/Run_04143/out\n"
     ]
    },
    {
     "name": "stderr",
     "output_type": "stream",
     "text": [
      "/home/jovyan/farsite-devAPI/src/farsiteutils_v2.py:177: FutureWarning: The frame.append method is deprecated and will be removed from pandas in a future version. Use pandas.concat instead.\n",
      "  self.gdfsimulation = self.gdfsimulation.append(gdfappend)\n"
     ]
    },
    {
     "name": "stdout",
     "output_type": "stream",
     "text": [
      "Farsite $Rev: 2395 $\n",
      "Number of parallel threads = 4 (omp_get_num_procs = 64).\n",
      "Loading lcp file for Farsite #1: /home/jovyan/farsite/inputs/landscapes/Maria2019.lcp\n",
      "Loading inputs file for Farsite #1: /home/jovyan/data/20230224/Run_04144/config\n",
      "Loading ignition file for Farsite #1: /home/jovyan/data/ignitions/Maria2019E7ce16cd577d6494fbd8f75436b7a5bfd.shp\n",
      "Loading barrier file for Farsite #1: /home/jovyan/farsite/inputs/barriers/NoBarrier/NoBarrier.shp\n",
      "Launching Farsite #1\n",
      "Starting time step 0.000000 (maximum = 18)\n",
      "Writing outputs for Farsite #1 to /home/jovyan/data/20230224/Run_04144/out\n"
     ]
    },
    {
     "name": "stderr",
     "output_type": "stream",
     "text": [
      "/home/jovyan/farsite-devAPI/src/farsiteutils_v2.py:177: FutureWarning: The frame.append method is deprecated and will be removed from pandas in a future version. Use pandas.concat instead.\n",
      "  self.gdfsimulation = self.gdfsimulation.append(gdfappend)\n"
     ]
    },
    {
     "name": "stdout",
     "output_type": "stream",
     "text": [
      "Farsite $Rev: 2395 $\n",
      "Number of parallel threads = 4 (omp_get_num_procs = 64).\n",
      "Loading lcp file for Farsite #1: /home/jovyan/farsite/inputs/landscapes/Maria2019.lcp\n",
      "Loading inputs file for Farsite #1: /home/jovyan/data/20230224/Run_04145/config\n",
      "Loading ignition file for Farsite #1: /home/jovyan/data/ignitions/Maria2019E43a64638bf1946b39b6b7a969f8fe5f4.shp\n",
      "Loading barrier file for Farsite #1: /home/jovyan/farsite/inputs/barriers/NoBarrier/NoBarrier.shp\n",
      "Launching Farsite #1\n",
      "Starting time step 0.000000 (maximum = 18)\n",
      "Writing outputs for Farsite #1 to /home/jovyan/data/20230224/Run_04145/out\n"
     ]
    },
    {
     "name": "stderr",
     "output_type": "stream",
     "text": [
      "/home/jovyan/farsite-devAPI/src/farsiteutils_v2.py:177: FutureWarning: The frame.append method is deprecated and will be removed from pandas in a future version. Use pandas.concat instead.\n",
      "  self.gdfsimulation = self.gdfsimulation.append(gdfappend)\n"
     ]
    },
    {
     "name": "stdout",
     "output_type": "stream",
     "text": [
      "Farsite $Rev: 2395 $\n",
      "Number of parallel threads = 4 (omp_get_num_procs = 64).\n",
      "Loading lcp file for Farsite #1: /home/jovyan/farsite/inputs/landscapes/Maria2019.lcp\n",
      "Loading inputs file for Farsite #1: /home/jovyan/data/20230224/Run_04146/config\n",
      "Loading ignition file for Farsite #1: /home/jovyan/data/ignitions/Maria2019E80ba7e73d4534de3b4ea028074364e1f.shp\n",
      "Loading barrier file for Farsite #1: /home/jovyan/farsite/inputs/barriers/NoBarrier/NoBarrier.shp\n",
      "Launching Farsite #1\n",
      "Starting time step 0.000000 (maximum = 18)\n",
      "Writing outputs for Farsite #1 to /home/jovyan/data/20230224/Run_04146/out\n"
     ]
    },
    {
     "name": "stderr",
     "output_type": "stream",
     "text": [
      "/home/jovyan/farsite-devAPI/src/farsiteutils_v2.py:177: FutureWarning: The frame.append method is deprecated and will be removed from pandas in a future version. Use pandas.concat instead.\n",
      "  self.gdfsimulation = self.gdfsimulation.append(gdfappend)\n"
     ]
    },
    {
     "name": "stdout",
     "output_type": "stream",
     "text": [
      "Farsite $Rev: 2395 $\n",
      "Number of parallel threads = 4 (omp_get_num_procs = 64).\n",
      "Loading lcp file for Farsite #1: /home/jovyan/farsite/inputs/landscapes/Maria2019.lcp\n",
      "Loading inputs file for Farsite #1: /home/jovyan/data/20230224/Run_04147/config\n",
      "Loading ignition file for Farsite #1: /home/jovyan/data/ignitions/Maria2019Ec2cdd05d3e6544b39e89126999dbffc3.shp\n",
      "Loading barrier file for Farsite #1: /home/jovyan/farsite/inputs/barriers/NoBarrier/NoBarrier.shp\n",
      "Launching Farsite #1\n",
      "Starting time step 0.000000 (maximum = 18)\n",
      "Writing outputs for Farsite #1 to /home/jovyan/data/20230224/Run_04147/out\n"
     ]
    },
    {
     "name": "stderr",
     "output_type": "stream",
     "text": [
      "/home/jovyan/farsite-devAPI/src/farsiteutils_v2.py:177: FutureWarning: The frame.append method is deprecated and will be removed from pandas in a future version. Use pandas.concat instead.\n",
      "  self.gdfsimulation = self.gdfsimulation.append(gdfappend)\n"
     ]
    },
    {
     "name": "stdout",
     "output_type": "stream",
     "text": [
      "Farsite $Rev: 2395 $\n",
      "Number of parallel threads = 4 (omp_get_num_procs = 64).\n",
      "Loading lcp file for Farsite #1: /home/jovyan/farsite/inputs/landscapes/Maria2019.lcp\n",
      "Loading inputs file for Farsite #1: /home/jovyan/data/20230224/Run_04148/config\n",
      "Loading ignition file for Farsite #1: /home/jovyan/data/ignitions/Maria2019E11d2d844c35c40f9b73d690575530228.shp\n",
      "Loading barrier file for Farsite #1: /home/jovyan/farsite/inputs/barriers/NoBarrier/NoBarrier.shp\n",
      "Launching Farsite #1\n",
      "Starting time step 0.000000 (maximum = 18)\n",
      "Writing outputs for Farsite #1 to /home/jovyan/data/20230224/Run_04148/out\n"
     ]
    },
    {
     "name": "stderr",
     "output_type": "stream",
     "text": [
      "/home/jovyan/farsite-devAPI/src/farsiteutils_v2.py:177: FutureWarning: The frame.append method is deprecated and will be removed from pandas in a future version. Use pandas.concat instead.\n",
      "  self.gdfsimulation = self.gdfsimulation.append(gdfappend)\n"
     ]
    },
    {
     "name": "stdout",
     "output_type": "stream",
     "text": [
      "Farsite $Rev: 2395 $\n",
      "Number of parallel threads = 4 (omp_get_num_procs = 64).\n",
      "Loading lcp file for Farsite #1: /home/jovyan/farsite/inputs/landscapes/Maria2019.lcp\n",
      "Loading inputs file for Farsite #1: /home/jovyan/data/20230224/Run_04149/config\n",
      "Loading ignition file for Farsite #1: /home/jovyan/data/ignitions/Maria2019E0580deff0c224ce592be0077c4ebd945.shp\n",
      "Loading barrier file for Farsite #1: /home/jovyan/farsite/inputs/barriers/NoBarrier/NoBarrier.shp\n",
      "Launching Farsite #1\n",
      "Starting time step 0.000000 (maximum = 18)\n",
      "Writing outputs for Farsite #1 to /home/jovyan/data/20230224/Run_04149/out\n"
     ]
    },
    {
     "name": "stderr",
     "output_type": "stream",
     "text": [
      "/home/jovyan/farsite-devAPI/src/farsiteutils_v2.py:177: FutureWarning: The frame.append method is deprecated and will be removed from pandas in a future version. Use pandas.concat instead.\n",
      "  self.gdfsimulation = self.gdfsimulation.append(gdfappend)\n"
     ]
    },
    {
     "name": "stdout",
     "output_type": "stream",
     "text": [
      "Farsite $Rev: 2395 $\n",
      "Number of parallel threads = 4 (omp_get_num_procs = 64).\n",
      "Loading lcp file for Farsite #1: /home/jovyan/farsite/inputs/landscapes/Maria2019.lcp\n",
      "Loading inputs file for Farsite #1: /home/jovyan/data/20230224/Run_04150/config\n",
      "Loading ignition file for Farsite #1: /home/jovyan/data/ignitions/Maria2019Ebf078923493e4fcfb0d911f3dc71a51c.shp\n",
      "Loading barrier file for Farsite #1: /home/jovyan/farsite/inputs/barriers/NoBarrier/NoBarrier.shp\n",
      "Launching Farsite #1\n",
      "Starting time step 0.000000 (maximum = 18)\n",
      "Writing outputs for Farsite #1 to /home/jovyan/data/20230224/Run_04150/out\n"
     ]
    },
    {
     "name": "stderr",
     "output_type": "stream",
     "text": [
      "/home/jovyan/farsite-devAPI/src/farsiteutils_v2.py:177: FutureWarning: The frame.append method is deprecated and will be removed from pandas in a future version. Use pandas.concat instead.\n",
      "  self.gdfsimulation = self.gdfsimulation.append(gdfappend)\n"
     ]
    },
    {
     "name": "stdout",
     "output_type": "stream",
     "text": [
      "Farsite $Rev: 2395 $\n",
      "Number of parallel threads = 4 (omp_get_num_procs = 64).\n",
      "Loading lcp file for Farsite #1: /home/jovyan/farsite/inputs/landscapes/Maria2019.lcp\n",
      "Loading inputs file for Farsite #1: /home/jovyan/data/20230224/Run_04151/config\n",
      "Loading ignition file for Farsite #1: /home/jovyan/data/ignitions/Maria2019Ecfaf3a321de3480db762a73e3f44fceb.shp\n",
      "Loading barrier file for Farsite #1: /home/jovyan/farsite/inputs/barriers/NoBarrier/NoBarrier.shp\n",
      "Launching Farsite #1\n",
      "Starting time step 0.000000 (maximum = 18)\n",
      "Writing outputs for Farsite #1 to /home/jovyan/data/20230224/Run_04151/out\n"
     ]
    },
    {
     "name": "stderr",
     "output_type": "stream",
     "text": [
      "/home/jovyan/farsite-devAPI/src/farsiteutils_v2.py:177: FutureWarning: The frame.append method is deprecated and will be removed from pandas in a future version. Use pandas.concat instead.\n",
      "  self.gdfsimulation = self.gdfsimulation.append(gdfappend)\n"
     ]
    },
    {
     "name": "stdout",
     "output_type": "stream",
     "text": [
      "Farsite $Rev: 2395 $\n",
      "Number of parallel threads = 4 (omp_get_num_procs = 64).\n",
      "Loading lcp file for Farsite #1: /home/jovyan/farsite/inputs/landscapes/Maria2019.lcp\n",
      "Loading inputs file for Farsite #1: /home/jovyan/data/20230224/Run_04152/config\n",
      "Loading ignition file for Farsite #1: /home/jovyan/data/ignitions/Maria2019E71495f3d060c4adc92caa88bd545b4b9.shp\n",
      "Loading barrier file for Farsite #1: /home/jovyan/farsite/inputs/barriers/NoBarrier/NoBarrier.shp\n",
      "Launching Farsite #1\n",
      "Starting time step 0.000000 (maximum = 18)\n",
      "Writing outputs for Farsite #1 to /home/jovyan/data/20230224/Run_04152/out\n"
     ]
    },
    {
     "name": "stderr",
     "output_type": "stream",
     "text": [
      "/home/jovyan/farsite-devAPI/src/farsiteutils_v2.py:177: FutureWarning: The frame.append method is deprecated and will be removed from pandas in a future version. Use pandas.concat instead.\n",
      "  self.gdfsimulation = self.gdfsimulation.append(gdfappend)\n"
     ]
    },
    {
     "name": "stdout",
     "output_type": "stream",
     "text": [
      "Farsite $Rev: 2395 $\n",
      "Number of parallel threads = 4 (omp_get_num_procs = 64).\n",
      "Loading lcp file for Farsite #1: /home/jovyan/farsite/inputs/landscapes/Maria2019.lcp\n",
      "Loading inputs file for Farsite #1: /home/jovyan/data/20230224/Run_04153/config\n",
      "Loading ignition file for Farsite #1: /home/jovyan/data/ignitions/Maria2019E73a0db743cc54aaba3cf9a49e19fa6d0.shp\n",
      "Loading barrier file for Farsite #1: /home/jovyan/farsite/inputs/barriers/NoBarrier/NoBarrier.shp\n",
      "Launching Farsite #1\n",
      "Starting time step 0.000000 (maximum = 18)\n",
      "Writing outputs for Farsite #1 to /home/jovyan/data/20230224/Run_04153/out\n"
     ]
    },
    {
     "name": "stderr",
     "output_type": "stream",
     "text": [
      "/home/jovyan/farsite-devAPI/src/farsiteutils_v2.py:177: FutureWarning: The frame.append method is deprecated and will be removed from pandas in a future version. Use pandas.concat instead.\n",
      "  self.gdfsimulation = self.gdfsimulation.append(gdfappend)\n"
     ]
    },
    {
     "name": "stdout",
     "output_type": "stream",
     "text": [
      "Farsite $Rev: 2395 $\n",
      "Number of parallel threads = 4 (omp_get_num_procs = 64).\n",
      "Loading lcp file for Farsite #1: /home/jovyan/farsite/inputs/landscapes/Maria2019.lcp\n",
      "Loading inputs file for Farsite #1: /home/jovyan/data/20230224/Run_04154/config\n",
      "Loading ignition file for Farsite #1: /home/jovyan/data/ignitions/Maria2019Ebefc896a51714d51a0893760b03b8594.shp\n",
      "Loading barrier file for Farsite #1: /home/jovyan/farsite/inputs/barriers/NoBarrier/NoBarrier.shp\n",
      "Launching Farsite #1\n",
      "Starting time step 0.000000 (maximum = 18)\n",
      "Writing outputs for Farsite #1 to /home/jovyan/data/20230224/Run_04154/out\n"
     ]
    },
    {
     "name": "stderr",
     "output_type": "stream",
     "text": [
      "/home/jovyan/farsite-devAPI/src/farsiteutils_v2.py:177: FutureWarning: The frame.append method is deprecated and will be removed from pandas in a future version. Use pandas.concat instead.\n",
      "  self.gdfsimulation = self.gdfsimulation.append(gdfappend)\n"
     ]
    },
    {
     "name": "stdout",
     "output_type": "stream",
     "text": [
      "Farsite $Rev: 2395 $\n",
      "Number of parallel threads = 4 (omp_get_num_procs = 64).\n",
      "Loading lcp file for Farsite #1: /home/jovyan/farsite/inputs/landscapes/Maria2019.lcp\n",
      "Loading inputs file for Farsite #1: /home/jovyan/data/20230224/Run_04155/config\n",
      "Loading ignition file for Farsite #1: /home/jovyan/data/ignitions/Maria2019Ed096a9b4806c4dc49cdc2ce5d57bb8ed.shp\n",
      "Loading barrier file for Farsite #1: /home/jovyan/farsite/inputs/barriers/NoBarrier/NoBarrier.shp\n",
      "Launching Farsite #1\n",
      "Starting time step 0.000000 (maximum = 18)\n",
      "Writing outputs for Farsite #1 to /home/jovyan/data/20230224/Run_04155/out\n"
     ]
    },
    {
     "name": "stderr",
     "output_type": "stream",
     "text": [
      "/home/jovyan/farsite-devAPI/src/farsiteutils_v2.py:177: FutureWarning: The frame.append method is deprecated and will be removed from pandas in a future version. Use pandas.concat instead.\n",
      "  self.gdfsimulation = self.gdfsimulation.append(gdfappend)\n"
     ]
    },
    {
     "name": "stdout",
     "output_type": "stream",
     "text": [
      "Farsite $Rev: 2395 $\n",
      "Number of parallel threads = 4 (omp_get_num_procs = 64).\n",
      "Loading lcp file for Farsite #1: /home/jovyan/farsite/inputs/landscapes/Maria2019.lcp\n",
      "Loading inputs file for Farsite #1: /home/jovyan/data/20230224/Run_04156/config\n",
      "Loading ignition file for Farsite #1: /home/jovyan/data/ignitions/Maria2019Ee1435182ed694a6dbfbfef20df4113f9.shp\n",
      "Loading barrier file for Farsite #1: /home/jovyan/farsite/inputs/barriers/NoBarrier/NoBarrier.shp\n",
      "Launching Farsite #1\n",
      "Starting time step 0.000000 (maximum = 18)\n",
      "Writing outputs for Farsite #1 to /home/jovyan/data/20230224/Run_04156/out\n"
     ]
    },
    {
     "name": "stderr",
     "output_type": "stream",
     "text": [
      "/home/jovyan/farsite-devAPI/src/farsiteutils_v2.py:177: FutureWarning: The frame.append method is deprecated and will be removed from pandas in a future version. Use pandas.concat instead.\n",
      "  self.gdfsimulation = self.gdfsimulation.append(gdfappend)\n"
     ]
    },
    {
     "name": "stdout",
     "output_type": "stream",
     "text": [
      "Farsite $Rev: 2395 $\n",
      "Number of parallel threads = 4 (omp_get_num_procs = 64).\n",
      "Loading lcp file for Farsite #1: /home/jovyan/farsite/inputs/landscapes/Maria2019.lcp\n",
      "Loading inputs file for Farsite #1: /home/jovyan/data/20230224/Run_04157/config\n",
      "Loading ignition file for Farsite #1: /home/jovyan/data/ignitions/Maria2019Ef4cf025a4fe1474aa8423e97ad4f14d3.shp\n",
      "Loading barrier file for Farsite #1: /home/jovyan/farsite/inputs/barriers/NoBarrier/NoBarrier.shp\n",
      "Launching Farsite #1\n",
      "Starting time step 0.000000 (maximum = 18)\n",
      "Writing outputs for Farsite #1 to /home/jovyan/data/20230224/Run_04157/out\n"
     ]
    },
    {
     "name": "stderr",
     "output_type": "stream",
     "text": [
      "/home/jovyan/farsite-devAPI/src/farsiteutils_v2.py:177: FutureWarning: The frame.append method is deprecated and will be removed from pandas in a future version. Use pandas.concat instead.\n",
      "  self.gdfsimulation = self.gdfsimulation.append(gdfappend)\n"
     ]
    },
    {
     "name": "stdout",
     "output_type": "stream",
     "text": [
      "Farsite $Rev: 2395 $\n",
      "Number of parallel threads = 4 (omp_get_num_procs = 64).\n",
      "Loading lcp file for Farsite #1: /home/jovyan/farsite/inputs/landscapes/Maria2019.lcp\n",
      "Loading inputs file for Farsite #1: /home/jovyan/data/20230224/Run_04158/config\n",
      "Loading ignition file for Farsite #1: /home/jovyan/data/ignitions/Maria2019E430b63874f074b23b1e5947a96ac7b44.shp\n",
      "Loading barrier file for Farsite #1: /home/jovyan/farsite/inputs/barriers/NoBarrier/NoBarrier.shp\n",
      "Launching Farsite #1\n",
      "Starting time step 0.000000 (maximum = 18)\n",
      "Writing outputs for Farsite #1 to /home/jovyan/data/20230224/Run_04158/out\n"
     ]
    },
    {
     "name": "stderr",
     "output_type": "stream",
     "text": [
      "/home/jovyan/farsite-devAPI/src/farsiteutils_v2.py:177: FutureWarning: The frame.append method is deprecated and will be removed from pandas in a future version. Use pandas.concat instead.\n",
      "  self.gdfsimulation = self.gdfsimulation.append(gdfappend)\n"
     ]
    },
    {
     "name": "stdout",
     "output_type": "stream",
     "text": [
      "Farsite $Rev: 2395 $\n",
      "Number of parallel threads = 4 (omp_get_num_procs = 64).\n",
      "Loading lcp file for Farsite #1: /home/jovyan/farsite/inputs/landscapes/Maria2019.lcp\n",
      "Loading inputs file for Farsite #1: /home/jovyan/data/20230224/Run_04159/config\n",
      "Loading ignition file for Farsite #1: /home/jovyan/data/ignitions/Maria2019E96f9441f063a457db4e22ae9deeb88ab.shp\n",
      "Loading barrier file for Farsite #1: /home/jovyan/farsite/inputs/barriers/NoBarrier/NoBarrier.shp\n",
      "Launching Farsite #1\n",
      "Starting time step 0.000000 (maximum = 18)\n",
      "Writing outputs for Farsite #1 to /home/jovyan/data/20230224/Run_04159/out\n"
     ]
    },
    {
     "name": "stderr",
     "output_type": "stream",
     "text": [
      "/home/jovyan/farsite-devAPI/src/farsiteutils_v2.py:177: FutureWarning: The frame.append method is deprecated and will be removed from pandas in a future version. Use pandas.concat instead.\n",
      "  self.gdfsimulation = self.gdfsimulation.append(gdfappend)\n"
     ]
    },
    {
     "name": "stdout",
     "output_type": "stream",
     "text": [
      "Farsite $Rev: 2395 $\n",
      "Number of parallel threads = 4 (omp_get_num_procs = 64).\n",
      "Loading lcp file for Farsite #1: /home/jovyan/farsite/inputs/landscapes/Maria2019.lcp\n",
      "Loading inputs file for Farsite #1: /home/jovyan/data/20230224/Run_04160/config\n",
      "Loading ignition file for Farsite #1: /home/jovyan/data/ignitions/Maria2019E630f06a113f747088a29890ab39ef7b9.shp\n",
      "Loading barrier file for Farsite #1: /home/jovyan/farsite/inputs/barriers/NoBarrier/NoBarrier.shp\n",
      "Launching Farsite #1\n",
      "Starting time step 0.000000 (maximum = 18)\n",
      "Writing outputs for Farsite #1 to /home/jovyan/data/20230224/Run_04160/out\n"
     ]
    },
    {
     "name": "stderr",
     "output_type": "stream",
     "text": [
      "/home/jovyan/farsite-devAPI/src/farsiteutils_v2.py:177: FutureWarning: The frame.append method is deprecated and will be removed from pandas in a future version. Use pandas.concat instead.\n",
      "  self.gdfsimulation = self.gdfsimulation.append(gdfappend)\n"
     ]
    },
    {
     "name": "stdout",
     "output_type": "stream",
     "text": [
      "Farsite $Rev: 2395 $\n",
      "Number of parallel threads = 4 (omp_get_num_procs = 64).\n",
      "Loading lcp file for Farsite #1: /home/jovyan/farsite/inputs/landscapes/Maria2019.lcp\n",
      "Loading inputs file for Farsite #1: /home/jovyan/data/20230224/Run_04161/config\n",
      "Loading ignition file for Farsite #1: /home/jovyan/data/ignitions/Maria2019E646d3081c43244489367caf77d18712a.shp\n",
      "Loading barrier file for Farsite #1: /home/jovyan/farsite/inputs/barriers/NoBarrier/NoBarrier.shp\n",
      "Launching Farsite #1\n",
      "Starting time step 0.000000 (maximum = 18)\n",
      "Writing outputs for Farsite #1 to /home/jovyan/data/20230224/Run_04161/out\n"
     ]
    },
    {
     "name": "stderr",
     "output_type": "stream",
     "text": [
      "/home/jovyan/farsite-devAPI/src/farsiteutils_v2.py:177: FutureWarning: The frame.append method is deprecated and will be removed from pandas in a future version. Use pandas.concat instead.\n",
      "  self.gdfsimulation = self.gdfsimulation.append(gdfappend)\n"
     ]
    },
    {
     "name": "stdout",
     "output_type": "stream",
     "text": [
      "Farsite $Rev: 2395 $\n",
      "Number of parallel threads = 4 (omp_get_num_procs = 64).\n",
      "Loading lcp file for Farsite #1: /home/jovyan/farsite/inputs/landscapes/Maria2019.lcp\n",
      "Loading inputs file for Farsite #1: /home/jovyan/data/20230224/Run_04162/config\n",
      "Loading ignition file for Farsite #1: /home/jovyan/data/ignitions/Maria2019E6c4e69b9cc5041b1be4ef2e98ab3bf2d.shp\n",
      "Loading barrier file for Farsite #1: /home/jovyan/farsite/inputs/barriers/NoBarrier/NoBarrier.shp\n",
      "Launching Farsite #1\n",
      "Starting time step 0.000000 (maximum = 18)\n",
      "Writing outputs for Farsite #1 to /home/jovyan/data/20230224/Run_04162/out\n"
     ]
    },
    {
     "name": "stderr",
     "output_type": "stream",
     "text": [
      "/home/jovyan/farsite-devAPI/src/farsiteutils_v2.py:177: FutureWarning: The frame.append method is deprecated and will be removed from pandas in a future version. Use pandas.concat instead.\n",
      "  self.gdfsimulation = self.gdfsimulation.append(gdfappend)\n"
     ]
    },
    {
     "name": "stdout",
     "output_type": "stream",
     "text": [
      "Farsite $Rev: 2395 $\n",
      "Number of parallel threads = 4 (omp_get_num_procs = 64).\n",
      "Loading lcp file for Farsite #1: /home/jovyan/farsite/inputs/landscapes/Maria2019.lcp\n",
      "Loading inputs file for Farsite #1: /home/jovyan/data/20230224/Run_04163/config\n",
      "Loading ignition file for Farsite #1: /home/jovyan/data/ignitions/Maria2019Edd4bcbed89544626a72e5476fae3e09c.shp\n",
      "Loading barrier file for Farsite #1: /home/jovyan/farsite/inputs/barriers/NoBarrier/NoBarrier.shp\n",
      "Launching Farsite #1\n",
      "Starting time step 0.000000 (maximum = 18)\n",
      "Writing outputs for Farsite #1 to /home/jovyan/data/20230224/Run_04163/out\n"
     ]
    },
    {
     "name": "stderr",
     "output_type": "stream",
     "text": [
      "/home/jovyan/farsite-devAPI/src/farsiteutils_v2.py:177: FutureWarning: The frame.append method is deprecated and will be removed from pandas in a future version. Use pandas.concat instead.\n",
      "  self.gdfsimulation = self.gdfsimulation.append(gdfappend)\n"
     ]
    },
    {
     "name": "stdout",
     "output_type": "stream",
     "text": [
      "Farsite $Rev: 2395 $\n",
      "Number of parallel threads = 4 (omp_get_num_procs = 64).\n",
      "Loading lcp file for Farsite #1: /home/jovyan/farsite/inputs/landscapes/Maria2019.lcp\n",
      "Loading inputs file for Farsite #1: /home/jovyan/data/20230224/Run_04164/config\n",
      "Loading ignition file for Farsite #1: /home/jovyan/data/ignitions/Maria2019Ed09244e65139458e97de229ce716f133.shp\n",
      "Loading barrier file for Farsite #1: /home/jovyan/farsite/inputs/barriers/NoBarrier/NoBarrier.shp\n",
      "Launching Farsite #1\n",
      "Starting time step 0.000000 (maximum = 18)\n",
      "Writing outputs for Farsite #1 to /home/jovyan/data/20230224/Run_04164/out\n"
     ]
    },
    {
     "name": "stderr",
     "output_type": "stream",
     "text": [
      "/home/jovyan/farsite-devAPI/src/farsiteutils_v2.py:177: FutureWarning: The frame.append method is deprecated and will be removed from pandas in a future version. Use pandas.concat instead.\n",
      "  self.gdfsimulation = self.gdfsimulation.append(gdfappend)\n"
     ]
    },
    {
     "name": "stdout",
     "output_type": "stream",
     "text": [
      "Farsite $Rev: 2395 $\n",
      "Number of parallel threads = 4 (omp_get_num_procs = 64).\n",
      "Loading lcp file for Farsite #1: /home/jovyan/farsite/inputs/landscapes/Maria2019.lcp\n",
      "Loading inputs file for Farsite #1: /home/jovyan/data/20230224/Run_04165/config\n",
      "Loading ignition file for Farsite #1: /home/jovyan/data/ignitions/Maria2019E18a9549eb5794efba36af8a3e16bc945.shp\n",
      "Loading barrier file for Farsite #1: /home/jovyan/farsite/inputs/barriers/NoBarrier/NoBarrier.shp\n",
      "Launching Farsite #1\n",
      "Starting time step 0.000000 (maximum = 18)\n",
      "Writing outputs for Farsite #1 to /home/jovyan/data/20230224/Run_04165/out\n"
     ]
    },
    {
     "name": "stderr",
     "output_type": "stream",
     "text": [
      "/home/jovyan/farsite-devAPI/src/farsiteutils_v2.py:177: FutureWarning: The frame.append method is deprecated and will be removed from pandas in a future version. Use pandas.concat instead.\n",
      "  self.gdfsimulation = self.gdfsimulation.append(gdfappend)\n"
     ]
    },
    {
     "name": "stdout",
     "output_type": "stream",
     "text": [
      "Farsite $Rev: 2395 $\n",
      "Number of parallel threads = 4 (omp_get_num_procs = 64).\n",
      "Loading lcp file for Farsite #1: /home/jovyan/farsite/inputs/landscapes/Maria2019.lcp\n",
      "Loading inputs file for Farsite #1: /home/jovyan/data/20230224/Run_04166/config\n",
      "Loading ignition file for Farsite #1: /home/jovyan/data/ignitions/Maria2019E6a5f339f71444ace81a570f9eb842d2f.shp\n",
      "Loading barrier file for Farsite #1: /home/jovyan/farsite/inputs/barriers/NoBarrier/NoBarrier.shp\n",
      "Launching Farsite #1\n",
      "Starting time step 0.000000 (maximum = 18)\n",
      "Writing outputs for Farsite #1 to /home/jovyan/data/20230224/Run_04166/out\n"
     ]
    },
    {
     "name": "stderr",
     "output_type": "stream",
     "text": [
      "/home/jovyan/farsite-devAPI/src/farsiteutils_v2.py:177: FutureWarning: The frame.append method is deprecated and will be removed from pandas in a future version. Use pandas.concat instead.\n",
      "  self.gdfsimulation = self.gdfsimulation.append(gdfappend)\n"
     ]
    },
    {
     "name": "stdout",
     "output_type": "stream",
     "text": [
      "Farsite $Rev: 2395 $\n",
      "Number of parallel threads = 4 (omp_get_num_procs = 64).\n",
      "Loading lcp file for Farsite #1: /home/jovyan/farsite/inputs/landscapes/Maria2019.lcp\n",
      "Loading inputs file for Farsite #1: /home/jovyan/data/20230224/Run_04167/config\n",
      "Loading ignition file for Farsite #1: /home/jovyan/data/ignitions/Maria2019Ec3ba7e13cd764ff09e5171e97582bce6.shp\n",
      "Loading barrier file for Farsite #1: /home/jovyan/farsite/inputs/barriers/NoBarrier/NoBarrier.shp\n",
      "Launching Farsite #1\n",
      "Starting time step 0.000000 (maximum = 18)\n",
      "Writing outputs for Farsite #1 to /home/jovyan/data/20230224/Run_04167/out\n"
     ]
    },
    {
     "name": "stderr",
     "output_type": "stream",
     "text": [
      "/home/jovyan/farsite-devAPI/src/farsiteutils_v2.py:177: FutureWarning: The frame.append method is deprecated and will be removed from pandas in a future version. Use pandas.concat instead.\n",
      "  self.gdfsimulation = self.gdfsimulation.append(gdfappend)\n"
     ]
    },
    {
     "name": "stdout",
     "output_type": "stream",
     "text": [
      "Farsite $Rev: 2395 $\n",
      "Number of parallel threads = 4 (omp_get_num_procs = 64).\n",
      "Loading lcp file for Farsite #1: /home/jovyan/farsite/inputs/landscapes/Maria2019.lcp\n",
      "Loading inputs file for Farsite #1: /home/jovyan/data/20230224/Run_04168/config\n",
      "Loading ignition file for Farsite #1: /home/jovyan/data/ignitions/Maria2019E8cb400ee218740c58e8e05a83d58127f.shp\n",
      "Loading barrier file for Farsite #1: /home/jovyan/farsite/inputs/barriers/NoBarrier/NoBarrier.shp\n",
      "Launching Farsite #1\n",
      "Starting time step 0.000000 (maximum = 18)\n",
      "Writing outputs for Farsite #1 to /home/jovyan/data/20230224/Run_04168/out\n"
     ]
    },
    {
     "name": "stderr",
     "output_type": "stream",
     "text": [
      "/home/jovyan/farsite-devAPI/src/farsiteutils_v2.py:177: FutureWarning: The frame.append method is deprecated and will be removed from pandas in a future version. Use pandas.concat instead.\n",
      "  self.gdfsimulation = self.gdfsimulation.append(gdfappend)\n"
     ]
    },
    {
     "name": "stdout",
     "output_type": "stream",
     "text": [
      "Farsite $Rev: 2395 $\n",
      "Number of parallel threads = 4 (omp_get_num_procs = 64).\n",
      "Loading lcp file for Farsite #1: /home/jovyan/farsite/inputs/landscapes/Maria2019.lcp\n",
      "Loading inputs file for Farsite #1: /home/jovyan/data/20230224/Run_04169/config\n",
      "Loading ignition file for Farsite #1: /home/jovyan/data/ignitions/Maria2019E2f586ac153c141be97ef22e0a9a0d70d.shp\n",
      "Loading barrier file for Farsite #1: /home/jovyan/farsite/inputs/barriers/NoBarrier/NoBarrier.shp\n",
      "Launching Farsite #1\n",
      "Starting time step 0.000000 (maximum = 18)\n",
      "Writing outputs for Farsite #1 to /home/jovyan/data/20230224/Run_04169/out\n"
     ]
    },
    {
     "name": "stderr",
     "output_type": "stream",
     "text": [
      "/home/jovyan/farsite-devAPI/src/farsiteutils_v2.py:177: FutureWarning: The frame.append method is deprecated and will be removed from pandas in a future version. Use pandas.concat instead.\n",
      "  self.gdfsimulation = self.gdfsimulation.append(gdfappend)\n"
     ]
    },
    {
     "name": "stdout",
     "output_type": "stream",
     "text": [
      "Farsite $Rev: 2395 $\n",
      "Number of parallel threads = 4 (omp_get_num_procs = 64).\n",
      "Loading lcp file for Farsite #1: /home/jovyan/farsite/inputs/landscapes/Maria2019.lcp\n",
      "Loading inputs file for Farsite #1: /home/jovyan/data/20230224/Run_04170/config\n",
      "Loading ignition file for Farsite #1: /home/jovyan/data/ignitions/Maria2019E3a194ef9cec841c6a7588efa76aafa57.shp\n",
      "Loading barrier file for Farsite #1: /home/jovyan/farsite/inputs/barriers/NoBarrier/NoBarrier.shp\n",
      "Launching Farsite #1\n",
      "Starting time step 0.000000 (maximum = 18)\n",
      "Writing outputs for Farsite #1 to /home/jovyan/data/20230224/Run_04170/out\n"
     ]
    },
    {
     "name": "stderr",
     "output_type": "stream",
     "text": [
      "/home/jovyan/farsite-devAPI/src/farsiteutils_v2.py:177: FutureWarning: The frame.append method is deprecated and will be removed from pandas in a future version. Use pandas.concat instead.\n",
      "  self.gdfsimulation = self.gdfsimulation.append(gdfappend)\n"
     ]
    },
    {
     "name": "stdout",
     "output_type": "stream",
     "text": [
      "Farsite $Rev: 2395 $\n",
      "Number of parallel threads = 4 (omp_get_num_procs = 64).\n",
      "Loading lcp file for Farsite #1: /home/jovyan/farsite/inputs/landscapes/Maria2019.lcp\n",
      "Loading inputs file for Farsite #1: /home/jovyan/data/20230224/Run_04171/config\n",
      "Loading ignition file for Farsite #1: /home/jovyan/data/ignitions/Maria2019E68f34461f7bc46fba41a73590a98da87.shp\n",
      "Loading barrier file for Farsite #1: /home/jovyan/farsite/inputs/barriers/NoBarrier/NoBarrier.shp\n",
      "Launching Farsite #1\n",
      "Starting time step 0.000000 (maximum = 18)\n",
      "Writing outputs for Farsite #1 to /home/jovyan/data/20230224/Run_04171/out\n"
     ]
    },
    {
     "name": "stderr",
     "output_type": "stream",
     "text": [
      "/home/jovyan/farsite-devAPI/src/farsiteutils_v2.py:177: FutureWarning: The frame.append method is deprecated and will be removed from pandas in a future version. Use pandas.concat instead.\n",
      "  self.gdfsimulation = self.gdfsimulation.append(gdfappend)\n"
     ]
    },
    {
     "name": "stdout",
     "output_type": "stream",
     "text": [
      "Farsite $Rev: 2395 $\n",
      "Number of parallel threads = 4 (omp_get_num_procs = 64).\n",
      "Loading lcp file for Farsite #1: /home/jovyan/farsite/inputs/landscapes/Maria2019.lcp\n",
      "Loading inputs file for Farsite #1: /home/jovyan/data/20230224/Run_04172/config\n",
      "Loading ignition file for Farsite #1: /home/jovyan/data/ignitions/Maria2019Eb97897525e634eeea4881297e4b83aea.shp\n",
      "Loading barrier file for Farsite #1: /home/jovyan/farsite/inputs/barriers/NoBarrier/NoBarrier.shp\n",
      "Launching Farsite #1\n",
      "Starting time step 0.000000 (maximum = 18)\n",
      "Writing outputs for Farsite #1 to /home/jovyan/data/20230224/Run_04172/out\n"
     ]
    },
    {
     "name": "stderr",
     "output_type": "stream",
     "text": [
      "/home/jovyan/farsite-devAPI/src/farsiteutils_v2.py:177: FutureWarning: The frame.append method is deprecated and will be removed from pandas in a future version. Use pandas.concat instead.\n",
      "  self.gdfsimulation = self.gdfsimulation.append(gdfappend)\n"
     ]
    },
    {
     "name": "stdout",
     "output_type": "stream",
     "text": [
      "Farsite $Rev: 2395 $\n",
      "Number of parallel threads = 4 (omp_get_num_procs = 64).\n",
      "Loading lcp file for Farsite #1: /home/jovyan/farsite/inputs/landscapes/Maria2019.lcp\n",
      "Loading inputs file for Farsite #1: /home/jovyan/data/20230224/Run_04173/config\n",
      "Loading ignition file for Farsite #1: /home/jovyan/data/ignitions/Maria2019E6d3522803a7c450c8e6ac9682d8c41df.shp\n",
      "Loading barrier file for Farsite #1: /home/jovyan/farsite/inputs/barriers/NoBarrier/NoBarrier.shp\n",
      "Launching Farsite #1\n",
      "Starting time step 0.000000 (maximum = 18)\n",
      "Writing outputs for Farsite #1 to /home/jovyan/data/20230224/Run_04173/out\n"
     ]
    },
    {
     "name": "stderr",
     "output_type": "stream",
     "text": [
      "/home/jovyan/farsite-devAPI/src/farsiteutils_v2.py:177: FutureWarning: The frame.append method is deprecated and will be removed from pandas in a future version. Use pandas.concat instead.\n",
      "  self.gdfsimulation = self.gdfsimulation.append(gdfappend)\n"
     ]
    },
    {
     "name": "stdout",
     "output_type": "stream",
     "text": [
      "Farsite $Rev: 2395 $\n",
      "Number of parallel threads = 4 (omp_get_num_procs = 64).\n",
      "Loading lcp file for Farsite #1: /home/jovyan/farsite/inputs/landscapes/Maria2019.lcp\n",
      "Loading inputs file for Farsite #1: /home/jovyan/data/20230224/Run_04174/config\n",
      "Loading ignition file for Farsite #1: /home/jovyan/data/ignitions/Maria2019E1535098a097740af8b3bde23623db1f8.shp\n",
      "Loading barrier file for Farsite #1: /home/jovyan/farsite/inputs/barriers/NoBarrier/NoBarrier.shp\n",
      "Launching Farsite #1\n",
      "Starting time step 0.000000 (maximum = 18)\n",
      "Writing outputs for Farsite #1 to /home/jovyan/data/20230224/Run_04174/out\n"
     ]
    },
    {
     "name": "stderr",
     "output_type": "stream",
     "text": [
      "/home/jovyan/farsite-devAPI/src/farsiteutils_v2.py:177: FutureWarning: The frame.append method is deprecated and will be removed from pandas in a future version. Use pandas.concat instead.\n",
      "  self.gdfsimulation = self.gdfsimulation.append(gdfappend)\n"
     ]
    },
    {
     "name": "stdout",
     "output_type": "stream",
     "text": [
      "Farsite $Rev: 2395 $\n",
      "Number of parallel threads = 4 (omp_get_num_procs = 64).\n",
      "Loading lcp file for Farsite #1: /home/jovyan/farsite/inputs/landscapes/Maria2019.lcp\n",
      "Loading inputs file for Farsite #1: /home/jovyan/data/20230224/Run_04175/config\n",
      "Loading ignition file for Farsite #1: /home/jovyan/data/ignitions/Maria2019E189393b0a1b4455e9c3becb8079c9ef7.shp\n",
      "Loading barrier file for Farsite #1: /home/jovyan/farsite/inputs/barriers/NoBarrier/NoBarrier.shp\n",
      "Launching Farsite #1\n",
      "Starting time step 0.000000 (maximum = 18)\n",
      "Writing outputs for Farsite #1 to /home/jovyan/data/20230224/Run_04175/out\n"
     ]
    },
    {
     "name": "stderr",
     "output_type": "stream",
     "text": [
      "/home/jovyan/farsite-devAPI/src/farsiteutils_v2.py:177: FutureWarning: The frame.append method is deprecated and will be removed from pandas in a future version. Use pandas.concat instead.\n",
      "  self.gdfsimulation = self.gdfsimulation.append(gdfappend)\n"
     ]
    },
    {
     "name": "stdout",
     "output_type": "stream",
     "text": [
      "Farsite $Rev: 2395 $\n",
      "Number of parallel threads = 4 (omp_get_num_procs = 64).\n",
      "Loading lcp file for Farsite #1: /home/jovyan/farsite/inputs/landscapes/Maria2019.lcp\n",
      "Loading inputs file for Farsite #1: /home/jovyan/data/20230224/Run_04176/config\n",
      "Loading ignition file for Farsite #1: /home/jovyan/data/ignitions/Maria2019E4c68c9dd0d7941118ce2206c5bec1cce.shp\n",
      "Loading barrier file for Farsite #1: /home/jovyan/farsite/inputs/barriers/NoBarrier/NoBarrier.shp\n",
      "Launching Farsite #1\n",
      "Starting time step 0.000000 (maximum = 18)\n",
      "Writing outputs for Farsite #1 to /home/jovyan/data/20230224/Run_04176/out\n"
     ]
    },
    {
     "name": "stderr",
     "output_type": "stream",
     "text": [
      "/home/jovyan/farsite-devAPI/src/farsiteutils_v2.py:177: FutureWarning: The frame.append method is deprecated and will be removed from pandas in a future version. Use pandas.concat instead.\n",
      "  self.gdfsimulation = self.gdfsimulation.append(gdfappend)\n"
     ]
    },
    {
     "name": "stdout",
     "output_type": "stream",
     "text": [
      "Farsite $Rev: 2395 $\n",
      "Number of parallel threads = 4 (omp_get_num_procs = 64).\n",
      "Loading lcp file for Farsite #1: /home/jovyan/farsite/inputs/landscapes/Maria2019.lcp\n",
      "Loading inputs file for Farsite #1: /home/jovyan/data/20230224/Run_04177/config\n",
      "Loading ignition file for Farsite #1: /home/jovyan/data/ignitions/Maria2019Ed51f6c881ff94ed585aee27fbb10a4f5.shp\n",
      "Loading barrier file for Farsite #1: /home/jovyan/farsite/inputs/barriers/NoBarrier/NoBarrier.shp\n",
      "Launching Farsite #1\n",
      "Starting time step 0.000000 (maximum = 18)\n",
      "Writing outputs for Farsite #1 to /home/jovyan/data/20230224/Run_04177/out\n"
     ]
    },
    {
     "name": "stderr",
     "output_type": "stream",
     "text": [
      "/home/jovyan/farsite-devAPI/src/farsiteutils_v2.py:177: FutureWarning: The frame.append method is deprecated and will be removed from pandas in a future version. Use pandas.concat instead.\n",
      "  self.gdfsimulation = self.gdfsimulation.append(gdfappend)\n"
     ]
    },
    {
     "name": "stdout",
     "output_type": "stream",
     "text": [
      "Farsite $Rev: 2395 $\n",
      "Number of parallel threads = 4 (omp_get_num_procs = 64).\n",
      "Loading lcp file for Farsite #1: /home/jovyan/farsite/inputs/landscapes/Maria2019.lcp\n",
      "Loading inputs file for Farsite #1: /home/jovyan/data/20230224/Run_04178/config\n",
      "Loading ignition file for Farsite #1: /home/jovyan/data/ignitions/Maria2019E46781c5e542f4e55ba35745a66be58a3.shp\n",
      "Loading barrier file for Farsite #1: /home/jovyan/farsite/inputs/barriers/NoBarrier/NoBarrier.shp\n",
      "Launching Farsite #1\n",
      "Starting time step 0.000000 (maximum = 18)\n",
      "Writing outputs for Farsite #1 to /home/jovyan/data/20230224/Run_04178/out\n"
     ]
    },
    {
     "name": "stderr",
     "output_type": "stream",
     "text": [
      "/home/jovyan/farsite-devAPI/src/farsiteutils_v2.py:177: FutureWarning: The frame.append method is deprecated and will be removed from pandas in a future version. Use pandas.concat instead.\n",
      "  self.gdfsimulation = self.gdfsimulation.append(gdfappend)\n"
     ]
    },
    {
     "name": "stdout",
     "output_type": "stream",
     "text": [
      "Farsite $Rev: 2395 $\n",
      "Number of parallel threads = 4 (omp_get_num_procs = 64).\n",
      "Loading lcp file for Farsite #1: /home/jovyan/farsite/inputs/landscapes/Maria2019.lcp\n",
      "Loading inputs file for Farsite #1: /home/jovyan/data/20230224/Run_04179/config\n",
      "Loading ignition file for Farsite #1: /home/jovyan/data/ignitions/Maria2019E8d14e50aedee44e99c7fd4f79818bc3c.shp\n",
      "Loading barrier file for Farsite #1: /home/jovyan/farsite/inputs/barriers/NoBarrier/NoBarrier.shp\n",
      "Launching Farsite #1\n",
      "Starting time step 0.000000 (maximum = 18)\n",
      "Writing outputs for Farsite #1 to /home/jovyan/data/20230224/Run_04179/out\n"
     ]
    },
    {
     "name": "stderr",
     "output_type": "stream",
     "text": [
      "/home/jovyan/farsite-devAPI/src/farsiteutils_v2.py:177: FutureWarning: The frame.append method is deprecated and will be removed from pandas in a future version. Use pandas.concat instead.\n",
      "  self.gdfsimulation = self.gdfsimulation.append(gdfappend)\n"
     ]
    },
    {
     "name": "stdout",
     "output_type": "stream",
     "text": [
      "Farsite $Rev: 2395 $\n",
      "Number of parallel threads = 4 (omp_get_num_procs = 64).\n",
      "Loading lcp file for Farsite #1: /home/jovyan/farsite/inputs/landscapes/Maria2019.lcp\n",
      "Loading inputs file for Farsite #1: /home/jovyan/data/20230224/Run_04180/config\n",
      "Loading ignition file for Farsite #1: /home/jovyan/data/ignitions/Maria2019Ee73220ccb52142e2b468cc25946cf189.shp\n",
      "Loading barrier file for Farsite #1: /home/jovyan/farsite/inputs/barriers/NoBarrier/NoBarrier.shp\n",
      "Launching Farsite #1\n",
      "Starting time step 0.000000 (maximum = 18)\n",
      "Writing outputs for Farsite #1 to /home/jovyan/data/20230224/Run_04180/out\n"
     ]
    },
    {
     "name": "stderr",
     "output_type": "stream",
     "text": [
      "/home/jovyan/farsite-devAPI/src/farsiteutils_v2.py:177: FutureWarning: The frame.append method is deprecated and will be removed from pandas in a future version. Use pandas.concat instead.\n",
      "  self.gdfsimulation = self.gdfsimulation.append(gdfappend)\n"
     ]
    },
    {
     "name": "stdout",
     "output_type": "stream",
     "text": [
      "Farsite $Rev: 2395 $\n",
      "Number of parallel threads = 4 (omp_get_num_procs = 64).\n",
      "Loading lcp file for Farsite #1: /home/jovyan/farsite/inputs/landscapes/Maria2019.lcp\n",
      "Loading inputs file for Farsite #1: /home/jovyan/data/20230224/Run_04181/config\n",
      "Loading ignition file for Farsite #1: /home/jovyan/data/ignitions/Maria2019Eae50f2a5d81046619defdfe3a7c68ada.shp\n",
      "Loading barrier file for Farsite #1: /home/jovyan/farsite/inputs/barriers/NoBarrier/NoBarrier.shp\n",
      "Launching Farsite #1\n",
      "Starting time step 0.000000 (maximum = 18)\n",
      "Writing outputs for Farsite #1 to /home/jovyan/data/20230224/Run_04181/out\n"
     ]
    },
    {
     "name": "stderr",
     "output_type": "stream",
     "text": [
      "/home/jovyan/farsite-devAPI/src/farsiteutils_v2.py:177: FutureWarning: The frame.append method is deprecated and will be removed from pandas in a future version. Use pandas.concat instead.\n",
      "  self.gdfsimulation = self.gdfsimulation.append(gdfappend)\n"
     ]
    },
    {
     "name": "stdout",
     "output_type": "stream",
     "text": [
      "Farsite $Rev: 2395 $\n",
      "Number of parallel threads = 4 (omp_get_num_procs = 64).\n",
      "Loading lcp file for Farsite #1: /home/jovyan/farsite/inputs/landscapes/Maria2019.lcp\n",
      "Loading inputs file for Farsite #1: /home/jovyan/data/20230224/Run_04182/config\n",
      "Loading ignition file for Farsite #1: /home/jovyan/data/ignitions/Maria2019E2b3cc51899c44b05b6d6b1b1d4b634f3.shp\n",
      "Loading barrier file for Farsite #1: /home/jovyan/farsite/inputs/barriers/NoBarrier/NoBarrier.shp\n",
      "Launching Farsite #1\n",
      "Starting time step 0.000000 (maximum = 18)\n",
      "Writing outputs for Farsite #1 to /home/jovyan/data/20230224/Run_04182/out\n"
     ]
    },
    {
     "name": "stderr",
     "output_type": "stream",
     "text": [
      "/home/jovyan/farsite-devAPI/src/farsiteutils_v2.py:177: FutureWarning: The frame.append method is deprecated and will be removed from pandas in a future version. Use pandas.concat instead.\n",
      "  self.gdfsimulation = self.gdfsimulation.append(gdfappend)\n"
     ]
    },
    {
     "name": "stdout",
     "output_type": "stream",
     "text": [
      "Farsite $Rev: 2395 $\n",
      "Number of parallel threads = 4 (omp_get_num_procs = 64).\n",
      "Loading lcp file for Farsite #1: /home/jovyan/farsite/inputs/landscapes/Maria2019.lcp\n",
      "Loading inputs file for Farsite #1: /home/jovyan/data/20230224/Run_04183/config\n",
      "Loading ignition file for Farsite #1: /home/jovyan/data/ignitions/Maria2019Eac05f284819f4c5eb22a4954076d554e.shp\n",
      "Loading barrier file for Farsite #1: /home/jovyan/farsite/inputs/barriers/NoBarrier/NoBarrier.shp\n",
      "Launching Farsite #1\n",
      "Starting time step 0.000000 (maximum = 18)\n",
      "Writing outputs for Farsite #1 to /home/jovyan/data/20230224/Run_04183/out\n"
     ]
    },
    {
     "name": "stderr",
     "output_type": "stream",
     "text": [
      "/home/jovyan/farsite-devAPI/src/farsiteutils_v2.py:177: FutureWarning: The frame.append method is deprecated and will be removed from pandas in a future version. Use pandas.concat instead.\n",
      "  self.gdfsimulation = self.gdfsimulation.append(gdfappend)\n"
     ]
    },
    {
     "name": "stdout",
     "output_type": "stream",
     "text": [
      "Farsite $Rev: 2395 $\n",
      "Number of parallel threads = 4 (omp_get_num_procs = 64).\n",
      "Loading lcp file for Farsite #1: /home/jovyan/farsite/inputs/landscapes/Maria2019.lcp\n",
      "Loading inputs file for Farsite #1: /home/jovyan/data/20230224/Run_04184/config\n",
      "Loading ignition file for Farsite #1: /home/jovyan/data/ignitions/Maria2019Ef0ed36ed580b421483e67ee08598443b.shp\n",
      "Loading barrier file for Farsite #1: /home/jovyan/farsite/inputs/barriers/NoBarrier/NoBarrier.shp\n",
      "Launching Farsite #1\n",
      "Starting time step 0.000000 (maximum = 18)\n",
      "Writing outputs for Farsite #1 to /home/jovyan/data/20230224/Run_04184/out\n"
     ]
    },
    {
     "name": "stderr",
     "output_type": "stream",
     "text": [
      "/home/jovyan/farsite-devAPI/src/farsiteutils_v2.py:177: FutureWarning: The frame.append method is deprecated and will be removed from pandas in a future version. Use pandas.concat instead.\n",
      "  self.gdfsimulation = self.gdfsimulation.append(gdfappend)\n"
     ]
    },
    {
     "name": "stdout",
     "output_type": "stream",
     "text": [
      "Farsite $Rev: 2395 $\n",
      "Number of parallel threads = 4 (omp_get_num_procs = 64).\n",
      "Loading lcp file for Farsite #1: /home/jovyan/farsite/inputs/landscapes/Maria2019.lcp\n",
      "Loading inputs file for Farsite #1: /home/jovyan/data/20230224/Run_04185/config\n",
      "Loading ignition file for Farsite #1: /home/jovyan/data/ignitions/Maria2019E45076094e3d549ec8ede88771980cf3c.shp\n",
      "Loading barrier file for Farsite #1: /home/jovyan/farsite/inputs/barriers/NoBarrier/NoBarrier.shp\n",
      "Launching Farsite #1\n",
      "Starting time step 0.000000 (maximum = 18)\n",
      "Writing outputs for Farsite #1 to /home/jovyan/data/20230224/Run_04185/out\n"
     ]
    },
    {
     "name": "stderr",
     "output_type": "stream",
     "text": [
      "/home/jovyan/farsite-devAPI/src/farsiteutils_v2.py:177: FutureWarning: The frame.append method is deprecated and will be removed from pandas in a future version. Use pandas.concat instead.\n",
      "  self.gdfsimulation = self.gdfsimulation.append(gdfappend)\n"
     ]
    },
    {
     "name": "stdout",
     "output_type": "stream",
     "text": [
      "Farsite $Rev: 2395 $\n",
      "Number of parallel threads = 4 (omp_get_num_procs = 64).\n",
      "Loading lcp file for Farsite #1: /home/jovyan/farsite/inputs/landscapes/Maria2019.lcp\n",
      "Loading inputs file for Farsite #1: /home/jovyan/data/20230224/Run_04186/config\n",
      "Loading ignition file for Farsite #1: /home/jovyan/data/ignitions/Maria2019Ea0f4fb16ecb54a69ab035650e7505311.shp\n",
      "Loading barrier file for Farsite #1: /home/jovyan/farsite/inputs/barriers/NoBarrier/NoBarrier.shp\n",
      "Launching Farsite #1\n",
      "Starting time step 0.000000 (maximum = 18)\n",
      "Writing outputs for Farsite #1 to /home/jovyan/data/20230224/Run_04186/out\n"
     ]
    },
    {
     "name": "stderr",
     "output_type": "stream",
     "text": [
      "/home/jovyan/farsite-devAPI/src/farsiteutils_v2.py:177: FutureWarning: The frame.append method is deprecated and will be removed from pandas in a future version. Use pandas.concat instead.\n",
      "  self.gdfsimulation = self.gdfsimulation.append(gdfappend)\n"
     ]
    },
    {
     "name": "stdout",
     "output_type": "stream",
     "text": [
      "Farsite $Rev: 2395 $\n",
      "Number of parallel threads = 4 (omp_get_num_procs = 64).\n",
      "Loading lcp file for Farsite #1: /home/jovyan/farsite/inputs/landscapes/Maria2019.lcp\n",
      "Loading inputs file for Farsite #1: /home/jovyan/data/20230224/Run_04187/config\n",
      "Loading ignition file for Farsite #1: /home/jovyan/data/ignitions/Maria2019Edfae5591b48940629614eed1a319f1fb.shp\n",
      "Loading barrier file for Farsite #1: /home/jovyan/farsite/inputs/barriers/NoBarrier/NoBarrier.shp\n",
      "Launching Farsite #1\n",
      "Starting time step 0.000000 (maximum = 18)\n",
      "Writing outputs for Farsite #1 to /home/jovyan/data/20230224/Run_04187/out\n"
     ]
    },
    {
     "name": "stderr",
     "output_type": "stream",
     "text": [
      "/home/jovyan/farsite-devAPI/src/farsiteutils_v2.py:177: FutureWarning: The frame.append method is deprecated and will be removed from pandas in a future version. Use pandas.concat instead.\n",
      "  self.gdfsimulation = self.gdfsimulation.append(gdfappend)\n"
     ]
    },
    {
     "name": "stdout",
     "output_type": "stream",
     "text": [
      "Farsite $Rev: 2395 $\n",
      "Number of parallel threads = 4 (omp_get_num_procs = 64).\n",
      "Loading lcp file for Farsite #1: /home/jovyan/farsite/inputs/landscapes/Maria2019.lcp\n",
      "Loading inputs file for Farsite #1: /home/jovyan/data/20230224/Run_04188/config\n",
      "Loading ignition file for Farsite #1: /home/jovyan/data/ignitions/Maria2019E0bdb96de753c4a81bf45dbc434a71ec0.shp\n",
      "Loading barrier file for Farsite #1: /home/jovyan/farsite/inputs/barriers/NoBarrier/NoBarrier.shp\n",
      "Launching Farsite #1\n",
      "Starting time step 0.000000 (maximum = 18)\n",
      "Writing outputs for Farsite #1 to /home/jovyan/data/20230224/Run_04188/out\n"
     ]
    },
    {
     "name": "stderr",
     "output_type": "stream",
     "text": [
      "/home/jovyan/farsite-devAPI/src/farsiteutils_v2.py:177: FutureWarning: The frame.append method is deprecated and will be removed from pandas in a future version. Use pandas.concat instead.\n",
      "  self.gdfsimulation = self.gdfsimulation.append(gdfappend)\n"
     ]
    },
    {
     "name": "stdout",
     "output_type": "stream",
     "text": [
      "Farsite $Rev: 2395 $\n",
      "Number of parallel threads = 4 (omp_get_num_procs = 64).\n",
      "Loading lcp file for Farsite #1: /home/jovyan/farsite/inputs/landscapes/Maria2019.lcp\n",
      "Loading inputs file for Farsite #1: /home/jovyan/data/20230224/Run_04189/config\n",
      "Loading ignition file for Farsite #1: /home/jovyan/data/ignitions/Maria2019E9db967eb8736450db02c1393c4463560.shp\n",
      "Loading barrier file for Farsite #1: /home/jovyan/farsite/inputs/barriers/NoBarrier/NoBarrier.shp\n",
      "Launching Farsite #1\n",
      "Starting time step 0.000000 (maximum = 18)\n",
      "Writing outputs for Farsite #1 to /home/jovyan/data/20230224/Run_04189/out\n"
     ]
    },
    {
     "name": "stderr",
     "output_type": "stream",
     "text": [
      "/home/jovyan/farsite-devAPI/src/farsiteutils_v2.py:177: FutureWarning: The frame.append method is deprecated and will be removed from pandas in a future version. Use pandas.concat instead.\n",
      "  self.gdfsimulation = self.gdfsimulation.append(gdfappend)\n"
     ]
    },
    {
     "name": "stdout",
     "output_type": "stream",
     "text": [
      "Farsite $Rev: 2395 $\n",
      "Number of parallel threads = 4 (omp_get_num_procs = 64).\n",
      "Loading lcp file for Farsite #1: /home/jovyan/farsite/inputs/landscapes/Maria2019.lcp\n",
      "Loading inputs file for Farsite #1: /home/jovyan/data/20230224/Run_04190/config\n",
      "Loading ignition file for Farsite #1: /home/jovyan/data/ignitions/Maria2019E0a95b0376bb1444798a712f1a2b47482.shp\n",
      "Loading barrier file for Farsite #1: /home/jovyan/farsite/inputs/barriers/NoBarrier/NoBarrier.shp\n",
      "Launching Farsite #1\n",
      "Starting time step 0.000000 (maximum = 18)\n",
      "Writing outputs for Farsite #1 to /home/jovyan/data/20230224/Run_04190/out\n"
     ]
    },
    {
     "name": "stderr",
     "output_type": "stream",
     "text": [
      "/home/jovyan/farsite-devAPI/src/farsiteutils_v2.py:177: FutureWarning: The frame.append method is deprecated and will be removed from pandas in a future version. Use pandas.concat instead.\n",
      "  self.gdfsimulation = self.gdfsimulation.append(gdfappend)\n"
     ]
    },
    {
     "name": "stdout",
     "output_type": "stream",
     "text": [
      "Farsite $Rev: 2395 $\n",
      "Number of parallel threads = 4 (omp_get_num_procs = 64).\n",
      "Loading lcp file for Farsite #1: /home/jovyan/farsite/inputs/landscapes/Maria2019.lcp\n",
      "Loading inputs file for Farsite #1: /home/jovyan/data/20230224/Run_04191/config\n",
      "Loading ignition file for Farsite #1: /home/jovyan/data/ignitions/Maria2019E966ffe13c4704608a32a5f3317a11bb3.shp\n",
      "Loading barrier file for Farsite #1: /home/jovyan/farsite/inputs/barriers/NoBarrier/NoBarrier.shp\n",
      "Launching Farsite #1\n",
      "Starting time step 0.000000 (maximum = 18)\n",
      "Writing outputs for Farsite #1 to /home/jovyan/data/20230224/Run_04191/out\n"
     ]
    },
    {
     "name": "stderr",
     "output_type": "stream",
     "text": [
      "/home/jovyan/farsite-devAPI/src/farsiteutils_v2.py:177: FutureWarning: The frame.append method is deprecated and will be removed from pandas in a future version. Use pandas.concat instead.\n",
      "  self.gdfsimulation = self.gdfsimulation.append(gdfappend)\n"
     ]
    },
    {
     "name": "stdout",
     "output_type": "stream",
     "text": [
      "Farsite $Rev: 2395 $\n",
      "Number of parallel threads = 4 (omp_get_num_procs = 64).\n",
      "Loading lcp file for Farsite #1: /home/jovyan/farsite/inputs/landscapes/Maria2019.lcp\n",
      "Loading inputs file for Farsite #1: /home/jovyan/data/20230224/Run_04192/config\n",
      "Loading ignition file for Farsite #1: /home/jovyan/data/ignitions/Maria2019Eb982780afa36410e982e5b42e6554b34.shp\n",
      "Loading barrier file for Farsite #1: /home/jovyan/farsite/inputs/barriers/NoBarrier/NoBarrier.shp\n",
      "Launching Farsite #1\n",
      "Starting time step 0.000000 (maximum = 18)\n",
      "Writing outputs for Farsite #1 to /home/jovyan/data/20230224/Run_04192/out\n"
     ]
    },
    {
     "name": "stderr",
     "output_type": "stream",
     "text": [
      "/home/jovyan/farsite-devAPI/src/farsiteutils_v2.py:177: FutureWarning: The frame.append method is deprecated and will be removed from pandas in a future version. Use pandas.concat instead.\n",
      "  self.gdfsimulation = self.gdfsimulation.append(gdfappend)\n"
     ]
    },
    {
     "name": "stdout",
     "output_type": "stream",
     "text": [
      "Farsite $Rev: 2395 $\n",
      "Number of parallel threads = 4 (omp_get_num_procs = 64).\n",
      "Loading lcp file for Farsite #1: /home/jovyan/farsite/inputs/landscapes/Maria2019.lcp\n",
      "Loading inputs file for Farsite #1: /home/jovyan/data/20230224/Run_04193/config\n",
      "Loading ignition file for Farsite #1: /home/jovyan/data/ignitions/Maria2019Ed0a4ad9d799b4f0385d0c9ba2779473c.shp\n",
      "Loading barrier file for Farsite #1: /home/jovyan/farsite/inputs/barriers/NoBarrier/NoBarrier.shp\n",
      "Launching Farsite #1\n",
      "Starting time step 0.000000 (maximum = 18)\n",
      "Writing outputs for Farsite #1 to /home/jovyan/data/20230224/Run_04193/out\n"
     ]
    },
    {
     "name": "stderr",
     "output_type": "stream",
     "text": [
      "/home/jovyan/farsite-devAPI/src/farsiteutils_v2.py:177: FutureWarning: The frame.append method is deprecated and will be removed from pandas in a future version. Use pandas.concat instead.\n",
      "  self.gdfsimulation = self.gdfsimulation.append(gdfappend)\n"
     ]
    },
    {
     "name": "stdout",
     "output_type": "stream",
     "text": [
      "Farsite $Rev: 2395 $\n",
      "Number of parallel threads = 4 (omp_get_num_procs = 64).\n",
      "Loading lcp file for Farsite #1: /home/jovyan/farsite/inputs/landscapes/Maria2019.lcp\n",
      "Loading inputs file for Farsite #1: /home/jovyan/data/20230224/Run_04194/config\n",
      "Loading ignition file for Farsite #1: /home/jovyan/data/ignitions/Maria2019E041405052fa34a7189684004b5736141.shp\n",
      "Loading barrier file for Farsite #1: /home/jovyan/farsite/inputs/barriers/NoBarrier/NoBarrier.shp\n",
      "Launching Farsite #1\n",
      "Starting time step 0.000000 (maximum = 18)\n",
      "Writing outputs for Farsite #1 to /home/jovyan/data/20230224/Run_04194/out\n"
     ]
    },
    {
     "name": "stderr",
     "output_type": "stream",
     "text": [
      "/home/jovyan/farsite-devAPI/src/farsiteutils_v2.py:177: FutureWarning: The frame.append method is deprecated and will be removed from pandas in a future version. Use pandas.concat instead.\n",
      "  self.gdfsimulation = self.gdfsimulation.append(gdfappend)\n"
     ]
    },
    {
     "name": "stdout",
     "output_type": "stream",
     "text": [
      "Farsite $Rev: 2395 $\n",
      "Number of parallel threads = 4 (omp_get_num_procs = 64).\n",
      "Loading lcp file for Farsite #1: /home/jovyan/farsite/inputs/landscapes/Maria2019.lcp\n",
      "Loading inputs file for Farsite #1: /home/jovyan/data/20230224/Run_04195/config\n",
      "Loading ignition file for Farsite #1: /home/jovyan/data/ignitions/Maria2019Eaf408db59cd1437191ddc6e083d702b9.shp\n",
      "Loading barrier file for Farsite #1: /home/jovyan/farsite/inputs/barriers/NoBarrier/NoBarrier.shp\n",
      "Launching Farsite #1\n",
      "Starting time step 0.000000 (maximum = 18)\n",
      "Writing outputs for Farsite #1 to /home/jovyan/data/20230224/Run_04195/out\n"
     ]
    },
    {
     "name": "stderr",
     "output_type": "stream",
     "text": [
      "/home/jovyan/farsite-devAPI/src/farsiteutils_v2.py:177: FutureWarning: The frame.append method is deprecated and will be removed from pandas in a future version. Use pandas.concat instead.\n",
      "  self.gdfsimulation = self.gdfsimulation.append(gdfappend)\n"
     ]
    },
    {
     "name": "stdout",
     "output_type": "stream",
     "text": [
      "Farsite $Rev: 2395 $\n",
      "Number of parallel threads = 4 (omp_get_num_procs = 64).\n",
      "Loading lcp file for Farsite #1: /home/jovyan/farsite/inputs/landscapes/Maria2019.lcp\n",
      "Loading inputs file for Farsite #1: /home/jovyan/data/20230224/Run_04196/config\n",
      "Loading ignition file for Farsite #1: /home/jovyan/data/ignitions/Maria2019Ea2f204f206dd42a799665a21477734cb.shp\n",
      "Loading barrier file for Farsite #1: /home/jovyan/farsite/inputs/barriers/NoBarrier/NoBarrier.shp\n",
      "Launching Farsite #1\n",
      "Starting time step 0.000000 (maximum = 18)\n",
      "Writing outputs for Farsite #1 to /home/jovyan/data/20230224/Run_04196/out\n"
     ]
    },
    {
     "name": "stderr",
     "output_type": "stream",
     "text": [
      "/home/jovyan/farsite-devAPI/src/farsiteutils_v2.py:177: FutureWarning: The frame.append method is deprecated and will be removed from pandas in a future version. Use pandas.concat instead.\n",
      "  self.gdfsimulation = self.gdfsimulation.append(gdfappend)\n"
     ]
    },
    {
     "name": "stdout",
     "output_type": "stream",
     "text": [
      "Farsite $Rev: 2395 $\n",
      "Number of parallel threads = 4 (omp_get_num_procs = 64).\n",
      "Loading lcp file for Farsite #1: /home/jovyan/farsite/inputs/landscapes/Maria2019.lcp\n",
      "Loading inputs file for Farsite #1: /home/jovyan/data/20230224/Run_04197/config\n",
      "Loading ignition file for Farsite #1: /home/jovyan/data/ignitions/Maria2019E215115ba01d84f6ba5549e0b4c344efd.shp\n",
      "Loading barrier file for Farsite #1: /home/jovyan/farsite/inputs/barriers/NoBarrier/NoBarrier.shp\n",
      "Launching Farsite #1\n",
      "Starting time step 0.000000 (maximum = 18)\n",
      "Writing outputs for Farsite #1 to /home/jovyan/data/20230224/Run_04197/out\n"
     ]
    },
    {
     "name": "stderr",
     "output_type": "stream",
     "text": [
      "/home/jovyan/farsite-devAPI/src/farsiteutils_v2.py:177: FutureWarning: The frame.append method is deprecated and will be removed from pandas in a future version. Use pandas.concat instead.\n",
      "  self.gdfsimulation = self.gdfsimulation.append(gdfappend)\n"
     ]
    },
    {
     "name": "stdout",
     "output_type": "stream",
     "text": [
      "Farsite $Rev: 2395 $\n",
      "Number of parallel threads = 4 (omp_get_num_procs = 64).\n",
      "Loading lcp file for Farsite #1: /home/jovyan/farsite/inputs/landscapes/Maria2019.lcp\n",
      "Loading inputs file for Farsite #1: /home/jovyan/data/20230224/Run_04198/config\n",
      "Loading ignition file for Farsite #1: /home/jovyan/data/ignitions/Maria2019E2635b20962c148b5bb5e79f7cf7b9cb0.shp\n",
      "Loading barrier file for Farsite #1: /home/jovyan/farsite/inputs/barriers/NoBarrier/NoBarrier.shp\n",
      "Launching Farsite #1\n",
      "Starting time step 0.000000 (maximum = 18)\n",
      "Writing outputs for Farsite #1 to /home/jovyan/data/20230224/Run_04198/out\n"
     ]
    },
    {
     "name": "stderr",
     "output_type": "stream",
     "text": [
      "/home/jovyan/farsite-devAPI/src/farsiteutils_v2.py:177: FutureWarning: The frame.append method is deprecated and will be removed from pandas in a future version. Use pandas.concat instead.\n",
      "  self.gdfsimulation = self.gdfsimulation.append(gdfappend)\n"
     ]
    },
    {
     "name": "stdout",
     "output_type": "stream",
     "text": [
      "Farsite $Rev: 2395 $\n",
      "Number of parallel threads = 4 (omp_get_num_procs = 64).\n",
      "Loading lcp file for Farsite #1: /home/jovyan/farsite/inputs/landscapes/Maria2019.lcp\n",
      "Loading inputs file for Farsite #1: /home/jovyan/data/20230224/Run_04199/config\n",
      "Loading ignition file for Farsite #1: /home/jovyan/data/ignitions/Maria2019Eae5f41261e1c4cffa3f5c3fb8a98ab37.shp\n",
      "Loading barrier file for Farsite #1: /home/jovyan/farsite/inputs/barriers/NoBarrier/NoBarrier.shp\n",
      "Launching Farsite #1\n",
      "Starting time step 0.000000 (maximum = 18)\n",
      "Writing outputs for Farsite #1 to /home/jovyan/data/20230224/Run_04199/out\n"
     ]
    },
    {
     "name": "stderr",
     "output_type": "stream",
     "text": [
      "/home/jovyan/farsite-devAPI/src/farsiteutils_v2.py:177: FutureWarning: The frame.append method is deprecated and will be removed from pandas in a future version. Use pandas.concat instead.\n",
      "  self.gdfsimulation = self.gdfsimulation.append(gdfappend)\n"
     ]
    },
    {
     "name": "stdout",
     "output_type": "stream",
     "text": [
      "Farsite $Rev: 2395 $\n",
      "Number of parallel threads = 4 (omp_get_num_procs = 64).\n",
      "Loading lcp file for Farsite #1: /home/jovyan/farsite/inputs/landscapes/Maria2019.lcp\n",
      "Loading inputs file for Farsite #1: /home/jovyan/data/20230224/Run_04200/config\n",
      "Loading ignition file for Farsite #1: /home/jovyan/data/ignitions/Maria2019Eedb30fae418946c8bda0ee133a82d092.shp\n",
      "Loading barrier file for Farsite #1: /home/jovyan/farsite/inputs/barriers/NoBarrier/NoBarrier.shp\n",
      "Launching Farsite #1\n",
      "Starting time step 0.000000 (maximum = 18)\n",
      "Writing outputs for Farsite #1 to /home/jovyan/data/20230224/Run_04200/out\n"
     ]
    },
    {
     "name": "stderr",
     "output_type": "stream",
     "text": [
      "/home/jovyan/farsite-devAPI/src/farsiteutils_v2.py:177: FutureWarning: The frame.append method is deprecated and will be removed from pandas in a future version. Use pandas.concat instead.\n",
      "  self.gdfsimulation = self.gdfsimulation.append(gdfappend)\n"
     ]
    },
    {
     "name": "stdout",
     "output_type": "stream",
     "text": [
      "Farsite $Rev: 2395 $\n",
      "Number of parallel threads = 4 (omp_get_num_procs = 64).\n",
      "Loading lcp file for Farsite #1: /home/jovyan/farsite/inputs/landscapes/Maria2019.lcp\n",
      "Loading inputs file for Farsite #1: /home/jovyan/data/20230224/Run_04201/config\n",
      "Loading ignition file for Farsite #1: /home/jovyan/data/ignitions/Maria2019Ee65551f1114c4ecdb83802827b7471e3.shp\n",
      "Loading barrier file for Farsite #1: /home/jovyan/farsite/inputs/barriers/NoBarrier/NoBarrier.shp\n",
      "Launching Farsite #1\n",
      "Starting time step 0.000000 (maximum = 18)\n",
      "Writing outputs for Farsite #1 to /home/jovyan/data/20230224/Run_04201/out\n"
     ]
    },
    {
     "name": "stderr",
     "output_type": "stream",
     "text": [
      "/home/jovyan/farsite-devAPI/src/farsiteutils_v2.py:177: FutureWarning: The frame.append method is deprecated and will be removed from pandas in a future version. Use pandas.concat instead.\n",
      "  self.gdfsimulation = self.gdfsimulation.append(gdfappend)\n"
     ]
    },
    {
     "name": "stdout",
     "output_type": "stream",
     "text": [
      "Farsite $Rev: 2395 $\n",
      "Number of parallel threads = 4 (omp_get_num_procs = 64).\n",
      "Loading lcp file for Farsite #1: /home/jovyan/farsite/inputs/landscapes/Maria2019.lcp\n",
      "Loading inputs file for Farsite #1: /home/jovyan/data/20230224/Run_04202/config\n",
      "Loading ignition file for Farsite #1: /home/jovyan/data/ignitions/Maria2019E666c0d6922c2466ca6440ae3dc19d9e1.shp\n",
      "Loading barrier file for Farsite #1: /home/jovyan/farsite/inputs/barriers/NoBarrier/NoBarrier.shp\n",
      "Launching Farsite #1\n",
      "Starting time step 0.000000 (maximum = 18)\n",
      "Writing outputs for Farsite #1 to /home/jovyan/data/20230224/Run_04202/out\n"
     ]
    },
    {
     "name": "stderr",
     "output_type": "stream",
     "text": [
      "/home/jovyan/farsite-devAPI/src/farsiteutils_v2.py:177: FutureWarning: The frame.append method is deprecated and will be removed from pandas in a future version. Use pandas.concat instead.\n",
      "  self.gdfsimulation = self.gdfsimulation.append(gdfappend)\n"
     ]
    },
    {
     "name": "stdout",
     "output_type": "stream",
     "text": [
      "Farsite $Rev: 2395 $\n",
      "Number of parallel threads = 4 (omp_get_num_procs = 64).\n",
      "Loading lcp file for Farsite #1: /home/jovyan/farsite/inputs/landscapes/Maria2019.lcp\n",
      "Loading inputs file for Farsite #1: /home/jovyan/data/20230224/Run_04203/config\n",
      "Loading ignition file for Farsite #1: /home/jovyan/data/ignitions/Maria2019E6fef6310b9294be9bd408227906e9ef4.shp\n",
      "Loading barrier file for Farsite #1: /home/jovyan/farsite/inputs/barriers/NoBarrier/NoBarrier.shp\n",
      "Launching Farsite #1\n",
      "Starting time step 0.000000 (maximum = 18)\n",
      "Writing outputs for Farsite #1 to /home/jovyan/data/20230224/Run_04203/out\n"
     ]
    },
    {
     "name": "stderr",
     "output_type": "stream",
     "text": [
      "/home/jovyan/farsite-devAPI/src/farsiteutils_v2.py:177: FutureWarning: The frame.append method is deprecated and will be removed from pandas in a future version. Use pandas.concat instead.\n",
      "  self.gdfsimulation = self.gdfsimulation.append(gdfappend)\n"
     ]
    },
    {
     "name": "stdout",
     "output_type": "stream",
     "text": [
      "Farsite $Rev: 2395 $\n",
      "Number of parallel threads = 4 (omp_get_num_procs = 64).\n",
      "Loading lcp file for Farsite #1: /home/jovyan/farsite/inputs/landscapes/Maria2019.lcp\n",
      "Loading inputs file for Farsite #1: /home/jovyan/data/20230224/Run_04204/config\n",
      "Loading ignition file for Farsite #1: /home/jovyan/data/ignitions/Maria2019E488859e0659442779eaebf74059088cd.shp\n",
      "Loading barrier file for Farsite #1: /home/jovyan/farsite/inputs/barriers/NoBarrier/NoBarrier.shp\n",
      "Launching Farsite #1\n",
      "Starting time step 0.000000 (maximum = 18)\n",
      "Writing outputs for Farsite #1 to /home/jovyan/data/20230224/Run_04204/out\n"
     ]
    },
    {
     "name": "stderr",
     "output_type": "stream",
     "text": [
      "/home/jovyan/farsite-devAPI/src/farsiteutils_v2.py:177: FutureWarning: The frame.append method is deprecated and will be removed from pandas in a future version. Use pandas.concat instead.\n",
      "  self.gdfsimulation = self.gdfsimulation.append(gdfappend)\n"
     ]
    },
    {
     "name": "stdout",
     "output_type": "stream",
     "text": [
      "Farsite $Rev: 2395 $\n",
      "Number of parallel threads = 4 (omp_get_num_procs = 64).\n",
      "Loading lcp file for Farsite #1: /home/jovyan/farsite/inputs/landscapes/Maria2019.lcp\n",
      "Loading inputs file for Farsite #1: /home/jovyan/data/20230224/Run_04205/config\n",
      "Loading ignition file for Farsite #1: /home/jovyan/data/ignitions/Maria2019Ed29ebd53ac0f48738ec2b30ad8693a27.shp\n",
      "Loading barrier file for Farsite #1: /home/jovyan/farsite/inputs/barriers/NoBarrier/NoBarrier.shp\n",
      "Launching Farsite #1\n",
      "Starting time step 0.000000 (maximum = 18)\n",
      "Writing outputs for Farsite #1 to /home/jovyan/data/20230224/Run_04205/out\n"
     ]
    },
    {
     "name": "stderr",
     "output_type": "stream",
     "text": [
      "/home/jovyan/farsite-devAPI/src/farsiteutils_v2.py:177: FutureWarning: The frame.append method is deprecated and will be removed from pandas in a future version. Use pandas.concat instead.\n",
      "  self.gdfsimulation = self.gdfsimulation.append(gdfappend)\n"
     ]
    },
    {
     "name": "stdout",
     "output_type": "stream",
     "text": [
      "Farsite $Rev: 2395 $\n",
      "Number of parallel threads = 4 (omp_get_num_procs = 64).\n",
      "Loading lcp file for Farsite #1: /home/jovyan/farsite/inputs/landscapes/Maria2019.lcp\n",
      "Loading inputs file for Farsite #1: /home/jovyan/data/20230224/Run_04206/config\n",
      "Loading ignition file for Farsite #1: /home/jovyan/data/ignitions/Maria2019E4379a62b33324f9d81f95b802cc7a912.shp\n",
      "Loading barrier file for Farsite #1: /home/jovyan/farsite/inputs/barriers/NoBarrier/NoBarrier.shp\n",
      "Launching Farsite #1\n",
      "Starting time step 0.000000 (maximum = 18)\n",
      "Writing outputs for Farsite #1 to /home/jovyan/data/20230224/Run_04206/out\n"
     ]
    },
    {
     "name": "stderr",
     "output_type": "stream",
     "text": [
      "/home/jovyan/farsite-devAPI/src/farsiteutils_v2.py:177: FutureWarning: The frame.append method is deprecated and will be removed from pandas in a future version. Use pandas.concat instead.\n",
      "  self.gdfsimulation = self.gdfsimulation.append(gdfappend)\n"
     ]
    },
    {
     "name": "stdout",
     "output_type": "stream",
     "text": [
      "Farsite $Rev: 2395 $\n",
      "Number of parallel threads = 4 (omp_get_num_procs = 64).\n",
      "Loading lcp file for Farsite #1: /home/jovyan/farsite/inputs/landscapes/Maria2019.lcp\n",
      "Loading inputs file for Farsite #1: /home/jovyan/data/20230224/Run_04207/config\n",
      "Loading ignition file for Farsite #1: /home/jovyan/data/ignitions/Maria2019Ec87317a1b3e5419fa4a8d2fd6f5c4924.shp\n",
      "Loading barrier file for Farsite #1: /home/jovyan/farsite/inputs/barriers/NoBarrier/NoBarrier.shp\n",
      "Launching Farsite #1\n",
      "Starting time step 0.000000 (maximum = 18)\n",
      "Writing outputs for Farsite #1 to /home/jovyan/data/20230224/Run_04207/out\n"
     ]
    },
    {
     "name": "stderr",
     "output_type": "stream",
     "text": [
      "/home/jovyan/farsite-devAPI/src/farsiteutils_v2.py:177: FutureWarning: The frame.append method is deprecated and will be removed from pandas in a future version. Use pandas.concat instead.\n",
      "  self.gdfsimulation = self.gdfsimulation.append(gdfappend)\n"
     ]
    },
    {
     "name": "stdout",
     "output_type": "stream",
     "text": [
      "Farsite $Rev: 2395 $\n",
      "Number of parallel threads = 4 (omp_get_num_procs = 64).\n",
      "Loading lcp file for Farsite #1: /home/jovyan/farsite/inputs/landscapes/Maria2019.lcp\n",
      "Loading inputs file for Farsite #1: /home/jovyan/data/20230224/Run_04208/config\n",
      "Loading ignition file for Farsite #1: /home/jovyan/data/ignitions/Maria2019E67f116f390484b7c87fb850fd009bdf1.shp\n",
      "Loading barrier file for Farsite #1: /home/jovyan/farsite/inputs/barriers/NoBarrier/NoBarrier.shp\n",
      "Launching Farsite #1\n",
      "Starting time step 0.000000 (maximum = 18)\n",
      "Writing outputs for Farsite #1 to /home/jovyan/data/20230224/Run_04208/out\n"
     ]
    },
    {
     "name": "stderr",
     "output_type": "stream",
     "text": [
      "/home/jovyan/farsite-devAPI/src/farsiteutils_v2.py:177: FutureWarning: The frame.append method is deprecated and will be removed from pandas in a future version. Use pandas.concat instead.\n",
      "  self.gdfsimulation = self.gdfsimulation.append(gdfappend)\n"
     ]
    },
    {
     "name": "stdout",
     "output_type": "stream",
     "text": [
      "Farsite $Rev: 2395 $\n",
      "Number of parallel threads = 4 (omp_get_num_procs = 64).\n",
      "Loading lcp file for Farsite #1: /home/jovyan/farsite/inputs/landscapes/Maria2019.lcp\n",
      "Loading inputs file for Farsite #1: /home/jovyan/data/20230224/Run_04209/config\n",
      "Loading ignition file for Farsite #1: /home/jovyan/data/ignitions/Maria2019Ea825df2754664081840b3d563766d374.shp\n",
      "Loading barrier file for Farsite #1: /home/jovyan/farsite/inputs/barriers/NoBarrier/NoBarrier.shp\n",
      "Launching Farsite #1\n",
      "Starting time step 0.000000 (maximum = 18)\n",
      "Writing outputs for Farsite #1 to /home/jovyan/data/20230224/Run_04209/out\n"
     ]
    },
    {
     "name": "stderr",
     "output_type": "stream",
     "text": [
      "/home/jovyan/farsite-devAPI/src/farsiteutils_v2.py:177: FutureWarning: The frame.append method is deprecated and will be removed from pandas in a future version. Use pandas.concat instead.\n",
      "  self.gdfsimulation = self.gdfsimulation.append(gdfappend)\n"
     ]
    },
    {
     "name": "stdout",
     "output_type": "stream",
     "text": [
      "Farsite $Rev: 2395 $\n",
      "Number of parallel threads = 4 (omp_get_num_procs = 64).\n",
      "Loading lcp file for Farsite #1: /home/jovyan/farsite/inputs/landscapes/Maria2019.lcp\n",
      "Loading inputs file for Farsite #1: /home/jovyan/data/20230224/Run_04210/config\n",
      "Loading ignition file for Farsite #1: /home/jovyan/data/ignitions/Maria2019Ee4cbe233e78344c0a0c6b038f7efd169.shp\n",
      "Loading barrier file for Farsite #1: /home/jovyan/farsite/inputs/barriers/NoBarrier/NoBarrier.shp\n",
      "Launching Farsite #1\n",
      "Starting time step 0.000000 (maximum = 18)\n",
      "Writing outputs for Farsite #1 to /home/jovyan/data/20230224/Run_04210/out\n"
     ]
    },
    {
     "name": "stderr",
     "output_type": "stream",
     "text": [
      "/home/jovyan/farsite-devAPI/src/farsiteutils_v2.py:177: FutureWarning: The frame.append method is deprecated and will be removed from pandas in a future version. Use pandas.concat instead.\n",
      "  self.gdfsimulation = self.gdfsimulation.append(gdfappend)\n"
     ]
    },
    {
     "name": "stdout",
     "output_type": "stream",
     "text": [
      "Farsite $Rev: 2395 $\n",
      "Number of parallel threads = 4 (omp_get_num_procs = 64).\n",
      "Loading lcp file for Farsite #1: /home/jovyan/farsite/inputs/landscapes/Maria2019.lcp\n",
      "Loading inputs file for Farsite #1: /home/jovyan/data/20230224/Run_04211/config\n",
      "Loading ignition file for Farsite #1: /home/jovyan/data/ignitions/Maria2019E439d31353508449facf3f102f49e4d90.shp\n",
      "Loading barrier file for Farsite #1: /home/jovyan/farsite/inputs/barriers/NoBarrier/NoBarrier.shp\n",
      "Launching Farsite #1\n",
      "Starting time step 0.000000 (maximum = 18)\n",
      "Writing outputs for Farsite #1 to /home/jovyan/data/20230224/Run_04211/out\n"
     ]
    },
    {
     "name": "stderr",
     "output_type": "stream",
     "text": [
      "/home/jovyan/farsite-devAPI/src/farsiteutils_v2.py:177: FutureWarning: The frame.append method is deprecated and will be removed from pandas in a future version. Use pandas.concat instead.\n",
      "  self.gdfsimulation = self.gdfsimulation.append(gdfappend)\n"
     ]
    },
    {
     "name": "stdout",
     "output_type": "stream",
     "text": [
      "Farsite $Rev: 2395 $\n",
      "Number of parallel threads = 4 (omp_get_num_procs = 64).\n",
      "Loading lcp file for Farsite #1: /home/jovyan/farsite/inputs/landscapes/Maria2019.lcp\n",
      "Loading inputs file for Farsite #1: /home/jovyan/data/20230224/Run_04212/config\n",
      "Loading ignition file for Farsite #1: /home/jovyan/data/ignitions/Maria2019E1c139f416bc248739785b77258721193.shp\n",
      "Loading barrier file for Farsite #1: /home/jovyan/farsite/inputs/barriers/NoBarrier/NoBarrier.shp\n",
      "Launching Farsite #1\n",
      "Starting time step 0.000000 (maximum = 18)\n",
      "Writing outputs for Farsite #1 to /home/jovyan/data/20230224/Run_04212/out\n"
     ]
    },
    {
     "name": "stderr",
     "output_type": "stream",
     "text": [
      "/home/jovyan/farsite-devAPI/src/farsiteutils_v2.py:177: FutureWarning: The frame.append method is deprecated and will be removed from pandas in a future version. Use pandas.concat instead.\n",
      "  self.gdfsimulation = self.gdfsimulation.append(gdfappend)\n"
     ]
    },
    {
     "name": "stdout",
     "output_type": "stream",
     "text": [
      "Farsite $Rev: 2395 $\n",
      "Number of parallel threads = 4 (omp_get_num_procs = 64).\n",
      "Loading lcp file for Farsite #1: /home/jovyan/farsite/inputs/landscapes/Maria2019.lcp\n",
      "Loading inputs file for Farsite #1: /home/jovyan/data/20230224/Run_04213/config\n",
      "Loading ignition file for Farsite #1: /home/jovyan/data/ignitions/Maria2019Ed773f55d951a4bfe9dd3366e097e5c8b.shp\n",
      "Loading barrier file for Farsite #1: /home/jovyan/farsite/inputs/barriers/NoBarrier/NoBarrier.shp\n",
      "Launching Farsite #1\n",
      "Starting time step 0.000000 (maximum = 18)\n",
      "Writing outputs for Farsite #1 to /home/jovyan/data/20230224/Run_04213/out\n"
     ]
    },
    {
     "name": "stderr",
     "output_type": "stream",
     "text": [
      "/home/jovyan/farsite-devAPI/src/farsiteutils_v2.py:177: FutureWarning: The frame.append method is deprecated and will be removed from pandas in a future version. Use pandas.concat instead.\n",
      "  self.gdfsimulation = self.gdfsimulation.append(gdfappend)\n"
     ]
    },
    {
     "name": "stdout",
     "output_type": "stream",
     "text": [
      "Farsite $Rev: 2395 $\n",
      "Number of parallel threads = 4 (omp_get_num_procs = 64).\n",
      "Loading lcp file for Farsite #1: /home/jovyan/farsite/inputs/landscapes/Maria2019.lcp\n",
      "Loading inputs file for Farsite #1: /home/jovyan/data/20230224/Run_04214/config\n",
      "Loading ignition file for Farsite #1: /home/jovyan/data/ignitions/Maria2019E4806d18e4f1644bfb9f7c8d1a4e9d5cc.shp\n",
      "Loading barrier file for Farsite #1: /home/jovyan/farsite/inputs/barriers/NoBarrier/NoBarrier.shp\n",
      "Launching Farsite #1\n",
      "Starting time step 0.000000 (maximum = 18)\n",
      "Writing outputs for Farsite #1 to /home/jovyan/data/20230224/Run_04214/out\n"
     ]
    },
    {
     "name": "stderr",
     "output_type": "stream",
     "text": [
      "/home/jovyan/farsite-devAPI/src/farsiteutils_v2.py:177: FutureWarning: The frame.append method is deprecated and will be removed from pandas in a future version. Use pandas.concat instead.\n",
      "  self.gdfsimulation = self.gdfsimulation.append(gdfappend)\n"
     ]
    },
    {
     "name": "stdout",
     "output_type": "stream",
     "text": [
      "Farsite $Rev: 2395 $\n",
      "Number of parallel threads = 4 (omp_get_num_procs = 64).\n",
      "Loading lcp file for Farsite #1: /home/jovyan/farsite/inputs/landscapes/Maria2019.lcp\n",
      "Loading inputs file for Farsite #1: /home/jovyan/data/20230224/Run_04215/config\n",
      "Loading ignition file for Farsite #1: /home/jovyan/data/ignitions/Maria2019E229b90671ea64f208c55e6e1bbf8aecf.shp\n",
      "Loading barrier file for Farsite #1: /home/jovyan/farsite/inputs/barriers/NoBarrier/NoBarrier.shp\n",
      "Launching Farsite #1\n",
      "Starting time step 0.000000 (maximum = 18)\n",
      "Writing outputs for Farsite #1 to /home/jovyan/data/20230224/Run_04215/out\n"
     ]
    },
    {
     "name": "stderr",
     "output_type": "stream",
     "text": [
      "/home/jovyan/farsite-devAPI/src/farsiteutils_v2.py:177: FutureWarning: The frame.append method is deprecated and will be removed from pandas in a future version. Use pandas.concat instead.\n",
      "  self.gdfsimulation = self.gdfsimulation.append(gdfappend)\n"
     ]
    },
    {
     "name": "stdout",
     "output_type": "stream",
     "text": [
      "Farsite $Rev: 2395 $\n",
      "Number of parallel threads = 4 (omp_get_num_procs = 64).\n",
      "Loading lcp file for Farsite #1: /home/jovyan/farsite/inputs/landscapes/Maria2019.lcp\n",
      "Loading inputs file for Farsite #1: /home/jovyan/data/20230224/Run_04216/config\n",
      "Loading ignition file for Farsite #1: /home/jovyan/data/ignitions/Maria2019Ecd524fbfed904f838566e122fcda50bf.shp\n",
      "Loading barrier file for Farsite #1: /home/jovyan/farsite/inputs/barriers/NoBarrier/NoBarrier.shp\n",
      "Launching Farsite #1\n",
      "Starting time step 0.000000 (maximum = 18)\n",
      "Writing outputs for Farsite #1 to /home/jovyan/data/20230224/Run_04216/out\n"
     ]
    },
    {
     "name": "stderr",
     "output_type": "stream",
     "text": [
      "/home/jovyan/farsite-devAPI/src/farsiteutils_v2.py:177: FutureWarning: The frame.append method is deprecated and will be removed from pandas in a future version. Use pandas.concat instead.\n",
      "  self.gdfsimulation = self.gdfsimulation.append(gdfappend)\n"
     ]
    },
    {
     "name": "stdout",
     "output_type": "stream",
     "text": [
      "Farsite $Rev: 2395 $\n",
      "Number of parallel threads = 4 (omp_get_num_procs = 64).\n",
      "Loading lcp file for Farsite #1: /home/jovyan/farsite/inputs/landscapes/Maria2019.lcp\n",
      "Loading inputs file for Farsite #1: /home/jovyan/data/20230224/Run_04217/config\n",
      "Loading ignition file for Farsite #1: /home/jovyan/data/ignitions/Maria2019Edaed349b7f6041bd871e4342add9c1f5.shp\n",
      "Loading barrier file for Farsite #1: /home/jovyan/farsite/inputs/barriers/NoBarrier/NoBarrier.shp\n",
      "Launching Farsite #1\n",
      "Starting time step 0.000000 (maximum = 18)\n",
      "Writing outputs for Farsite #1 to /home/jovyan/data/20230224/Run_04217/out\n"
     ]
    },
    {
     "name": "stderr",
     "output_type": "stream",
     "text": [
      "/home/jovyan/farsite-devAPI/src/farsiteutils_v2.py:177: FutureWarning: The frame.append method is deprecated and will be removed from pandas in a future version. Use pandas.concat instead.\n",
      "  self.gdfsimulation = self.gdfsimulation.append(gdfappend)\n"
     ]
    },
    {
     "name": "stdout",
     "output_type": "stream",
     "text": [
      "Farsite $Rev: 2395 $\n",
      "Number of parallel threads = 4 (omp_get_num_procs = 64).\n",
      "Loading lcp file for Farsite #1: /home/jovyan/farsite/inputs/landscapes/Maria2019.lcp\n",
      "Loading inputs file for Farsite #1: /home/jovyan/data/20230224/Run_04218/config\n",
      "Loading ignition file for Farsite #1: /home/jovyan/data/ignitions/Maria2019E5446f12ee8c24bb09f4b501a8c5ede4f.shp\n",
      "Loading barrier file for Farsite #1: /home/jovyan/farsite/inputs/barriers/NoBarrier/NoBarrier.shp\n",
      "Launching Farsite #1\n",
      "Starting time step 0.000000 (maximum = 18)\n",
      "Writing outputs for Farsite #1 to /home/jovyan/data/20230224/Run_04218/out\n"
     ]
    },
    {
     "name": "stderr",
     "output_type": "stream",
     "text": [
      "/home/jovyan/farsite-devAPI/src/farsiteutils_v2.py:177: FutureWarning: The frame.append method is deprecated and will be removed from pandas in a future version. Use pandas.concat instead.\n",
      "  self.gdfsimulation = self.gdfsimulation.append(gdfappend)\n"
     ]
    },
    {
     "name": "stdout",
     "output_type": "stream",
     "text": [
      "Farsite $Rev: 2395 $\n",
      "Number of parallel threads = 4 (omp_get_num_procs = 64).\n",
      "Loading lcp file for Farsite #1: /home/jovyan/farsite/inputs/landscapes/Maria2019.lcp\n",
      "Loading inputs file for Farsite #1: /home/jovyan/data/20230224/Run_04219/config\n",
      "Loading ignition file for Farsite #1: /home/jovyan/data/ignitions/Maria2019E40c33d3674a84b1c8b4ae23c15990325.shp\n",
      "Loading barrier file for Farsite #1: /home/jovyan/farsite/inputs/barriers/NoBarrier/NoBarrier.shp\n",
      "Launching Farsite #1\n",
      "Starting time step 0.000000 (maximum = 18)\n",
      "Writing outputs for Farsite #1 to /home/jovyan/data/20230224/Run_04219/out\n"
     ]
    },
    {
     "name": "stderr",
     "output_type": "stream",
     "text": [
      "/home/jovyan/farsite-devAPI/src/farsiteutils_v2.py:177: FutureWarning: The frame.append method is deprecated and will be removed from pandas in a future version. Use pandas.concat instead.\n",
      "  self.gdfsimulation = self.gdfsimulation.append(gdfappend)\n"
     ]
    },
    {
     "name": "stdout",
     "output_type": "stream",
     "text": [
      "Farsite $Rev: 2395 $\n",
      "Number of parallel threads = 4 (omp_get_num_procs = 64).\n",
      "Loading lcp file for Farsite #1: /home/jovyan/farsite/inputs/landscapes/Maria2019.lcp\n",
      "Loading inputs file for Farsite #1: /home/jovyan/data/20230224/Run_04220/config\n",
      "Loading ignition file for Farsite #1: /home/jovyan/data/ignitions/Maria2019E399404aa87fe4ab3b7cb0b2af5f99a51.shp\n",
      "Loading barrier file for Farsite #1: /home/jovyan/farsite/inputs/barriers/NoBarrier/NoBarrier.shp\n",
      "Launching Farsite #1\n",
      "Starting time step 0.000000 (maximum = 18)\n",
      "Writing outputs for Farsite #1 to /home/jovyan/data/20230224/Run_04220/out\n"
     ]
    },
    {
     "name": "stderr",
     "output_type": "stream",
     "text": [
      "/home/jovyan/farsite-devAPI/src/farsiteutils_v2.py:177: FutureWarning: The frame.append method is deprecated and will be removed from pandas in a future version. Use pandas.concat instead.\n",
      "  self.gdfsimulation = self.gdfsimulation.append(gdfappend)\n"
     ]
    },
    {
     "name": "stdout",
     "output_type": "stream",
     "text": [
      "Farsite $Rev: 2395 $\n",
      "Number of parallel threads = 4 (omp_get_num_procs = 64).\n",
      "Loading lcp file for Farsite #1: /home/jovyan/farsite/inputs/landscapes/Maria2019.lcp\n",
      "Loading inputs file for Farsite #1: /home/jovyan/data/20230224/Run_04221/config\n",
      "Loading ignition file for Farsite #1: /home/jovyan/data/ignitions/Maria2019E23a45cb063f24c2c9d8a218b97eb86eb.shp\n",
      "Loading barrier file for Farsite #1: /home/jovyan/farsite/inputs/barriers/NoBarrier/NoBarrier.shp\n",
      "Launching Farsite #1\n",
      "Starting time step 0.000000 (maximum = 18)\n",
      "Writing outputs for Farsite #1 to /home/jovyan/data/20230224/Run_04221/out\n"
     ]
    },
    {
     "name": "stderr",
     "output_type": "stream",
     "text": [
      "/home/jovyan/farsite-devAPI/src/farsiteutils_v2.py:177: FutureWarning: The frame.append method is deprecated and will be removed from pandas in a future version. Use pandas.concat instead.\n",
      "  self.gdfsimulation = self.gdfsimulation.append(gdfappend)\n"
     ]
    },
    {
     "name": "stdout",
     "output_type": "stream",
     "text": [
      "Farsite $Rev: 2395 $\n",
      "Number of parallel threads = 4 (omp_get_num_procs = 64).\n",
      "Loading lcp file for Farsite #1: /home/jovyan/farsite/inputs/landscapes/Maria2019.lcp\n",
      "Loading inputs file for Farsite #1: /home/jovyan/data/20230224/Run_04222/config\n",
      "Loading ignition file for Farsite #1: /home/jovyan/data/ignitions/Maria2019E8dee4318cb4247e8aa324ebb42936d91.shp\n",
      "Loading barrier file for Farsite #1: /home/jovyan/farsite/inputs/barriers/NoBarrier/NoBarrier.shp\n",
      "Launching Farsite #1\n",
      "Starting time step 0.000000 (maximum = 18)\n",
      "Writing outputs for Farsite #1 to /home/jovyan/data/20230224/Run_04222/out\n"
     ]
    },
    {
     "name": "stderr",
     "output_type": "stream",
     "text": [
      "/home/jovyan/farsite-devAPI/src/farsiteutils_v2.py:177: FutureWarning: The frame.append method is deprecated and will be removed from pandas in a future version. Use pandas.concat instead.\n",
      "  self.gdfsimulation = self.gdfsimulation.append(gdfappend)\n"
     ]
    },
    {
     "name": "stdout",
     "output_type": "stream",
     "text": [
      "Farsite $Rev: 2395 $\n",
      "Number of parallel threads = 4 (omp_get_num_procs = 64).\n",
      "Loading lcp file for Farsite #1: /home/jovyan/farsite/inputs/landscapes/Maria2019.lcp\n",
      "Loading inputs file for Farsite #1: /home/jovyan/data/20230224/Run_04223/config\n",
      "Loading ignition file for Farsite #1: /home/jovyan/data/ignitions/Maria2019Ef377cec578f64ddab7a82e72dac6884b.shp\n",
      "Loading barrier file for Farsite #1: /home/jovyan/farsite/inputs/barriers/NoBarrier/NoBarrier.shp\n",
      "Launching Farsite #1\n",
      "Starting time step 0.000000 (maximum = 18)\n",
      "Writing outputs for Farsite #1 to /home/jovyan/data/20230224/Run_04223/out\n"
     ]
    },
    {
     "name": "stderr",
     "output_type": "stream",
     "text": [
      "/home/jovyan/farsite-devAPI/src/farsiteutils_v2.py:177: FutureWarning: The frame.append method is deprecated and will be removed from pandas in a future version. Use pandas.concat instead.\n",
      "  self.gdfsimulation = self.gdfsimulation.append(gdfappend)\n"
     ]
    },
    {
     "name": "stdout",
     "output_type": "stream",
     "text": [
      "Farsite $Rev: 2395 $\n",
      "Number of parallel threads = 4 (omp_get_num_procs = 64).\n",
      "Loading lcp file for Farsite #1: /home/jovyan/farsite/inputs/landscapes/Maria2019.lcp\n",
      "Loading inputs file for Farsite #1: /home/jovyan/data/20230224/Run_04224/config\n",
      "Loading ignition file for Farsite #1: /home/jovyan/data/ignitions/Maria2019E5d72de2f9a7846abb72ae2582c655096.shp\n",
      "Loading barrier file for Farsite #1: /home/jovyan/farsite/inputs/barriers/NoBarrier/NoBarrier.shp\n",
      "Launching Farsite #1\n",
      "Starting time step 0.000000 (maximum = 18)\n",
      "Writing outputs for Farsite #1 to /home/jovyan/data/20230224/Run_04224/out\n"
     ]
    },
    {
     "name": "stderr",
     "output_type": "stream",
     "text": [
      "/home/jovyan/farsite-devAPI/src/farsiteutils_v2.py:177: FutureWarning: The frame.append method is deprecated and will be removed from pandas in a future version. Use pandas.concat instead.\n",
      "  self.gdfsimulation = self.gdfsimulation.append(gdfappend)\n"
     ]
    },
    {
     "name": "stdout",
     "output_type": "stream",
     "text": [
      "Farsite $Rev: 2395 $\n",
      "Number of parallel threads = 4 (omp_get_num_procs = 64).\n",
      "Loading lcp file for Farsite #1: /home/jovyan/farsite/inputs/landscapes/Maria2019.lcp\n",
      "Loading inputs file for Farsite #1: /home/jovyan/data/20230224/Run_04225/config\n",
      "Loading ignition file for Farsite #1: /home/jovyan/data/ignitions/Maria2019Ee4a93466225c4c458ad8d1506acf2360.shp\n",
      "Loading barrier file for Farsite #1: /home/jovyan/farsite/inputs/barriers/NoBarrier/NoBarrier.shp\n",
      "Launching Farsite #1\n",
      "Starting time step 0.000000 (maximum = 18)\n",
      "Writing outputs for Farsite #1 to /home/jovyan/data/20230224/Run_04225/out\n"
     ]
    },
    {
     "name": "stderr",
     "output_type": "stream",
     "text": [
      "/home/jovyan/farsite-devAPI/src/farsiteutils_v2.py:177: FutureWarning: The frame.append method is deprecated and will be removed from pandas in a future version. Use pandas.concat instead.\n",
      "  self.gdfsimulation = self.gdfsimulation.append(gdfappend)\n"
     ]
    },
    {
     "name": "stdout",
     "output_type": "stream",
     "text": [
      "Farsite $Rev: 2395 $\n",
      "Number of parallel threads = 4 (omp_get_num_procs = 64).\n",
      "Loading lcp file for Farsite #1: /home/jovyan/farsite/inputs/landscapes/Maria2019.lcp\n",
      "Loading inputs file for Farsite #1: /home/jovyan/data/20230224/Run_04226/config\n",
      "Loading ignition file for Farsite #1: /home/jovyan/data/ignitions/Maria2019Eb14d036c8a1d48f3a7a06c37637ccc45.shp\n",
      "Loading barrier file for Farsite #1: /home/jovyan/farsite/inputs/barriers/NoBarrier/NoBarrier.shp\n",
      "Launching Farsite #1\n",
      "Starting time step 0.000000 (maximum = 18)\n",
      "Writing outputs for Farsite #1 to /home/jovyan/data/20230224/Run_04226/out\n"
     ]
    },
    {
     "name": "stderr",
     "output_type": "stream",
     "text": [
      "/home/jovyan/farsite-devAPI/src/farsiteutils_v2.py:177: FutureWarning: The frame.append method is deprecated and will be removed from pandas in a future version. Use pandas.concat instead.\n",
      "  self.gdfsimulation = self.gdfsimulation.append(gdfappend)\n"
     ]
    },
    {
     "name": "stdout",
     "output_type": "stream",
     "text": [
      "Farsite $Rev: 2395 $\n",
      "Number of parallel threads = 4 (omp_get_num_procs = 64).\n",
      "Loading lcp file for Farsite #1: /home/jovyan/farsite/inputs/landscapes/Maria2019.lcp\n",
      "Loading inputs file for Farsite #1: /home/jovyan/data/20230224/Run_04227/config\n",
      "Loading ignition file for Farsite #1: /home/jovyan/data/ignitions/Maria2019E1905020d6df445adb0974a7d32aa5fc0.shp\n",
      "Loading barrier file for Farsite #1: /home/jovyan/farsite/inputs/barriers/NoBarrier/NoBarrier.shp\n",
      "Launching Farsite #1\n",
      "Starting time step 0.000000 (maximum = 18)\n",
      "Writing outputs for Farsite #1 to /home/jovyan/data/20230224/Run_04227/out\n"
     ]
    },
    {
     "name": "stderr",
     "output_type": "stream",
     "text": [
      "/home/jovyan/farsite-devAPI/src/farsiteutils_v2.py:177: FutureWarning: The frame.append method is deprecated and will be removed from pandas in a future version. Use pandas.concat instead.\n",
      "  self.gdfsimulation = self.gdfsimulation.append(gdfappend)\n"
     ]
    },
    {
     "name": "stdout",
     "output_type": "stream",
     "text": [
      "Farsite $Rev: 2395 $\n",
      "Number of parallel threads = 4 (omp_get_num_procs = 64).\n",
      "Loading lcp file for Farsite #1: /home/jovyan/farsite/inputs/landscapes/Maria2019.lcp\n",
      "Loading inputs file for Farsite #1: /home/jovyan/data/20230224/Run_04228/config\n",
      "Loading ignition file for Farsite #1: /home/jovyan/data/ignitions/Maria2019E32e8c4a1fe384260a5a5c30b9fe24da4.shp\n",
      "Loading barrier file for Farsite #1: /home/jovyan/farsite/inputs/barriers/NoBarrier/NoBarrier.shp\n",
      "Launching Farsite #1\n",
      "Starting time step 0.000000 (maximum = 18)\n",
      "Writing outputs for Farsite #1 to /home/jovyan/data/20230224/Run_04228/out\n"
     ]
    },
    {
     "name": "stderr",
     "output_type": "stream",
     "text": [
      "/home/jovyan/farsite-devAPI/src/farsiteutils_v2.py:177: FutureWarning: The frame.append method is deprecated and will be removed from pandas in a future version. Use pandas.concat instead.\n",
      "  self.gdfsimulation = self.gdfsimulation.append(gdfappend)\n"
     ]
    },
    {
     "name": "stdout",
     "output_type": "stream",
     "text": [
      "Farsite $Rev: 2395 $\n",
      "Number of parallel threads = 4 (omp_get_num_procs = 64).\n",
      "Loading lcp file for Farsite #1: /home/jovyan/farsite/inputs/landscapes/Maria2019.lcp\n",
      "Loading inputs file for Farsite #1: /home/jovyan/data/20230224/Run_04229/config\n",
      "Loading ignition file for Farsite #1: /home/jovyan/data/ignitions/Maria2019Ebd3be2d839e646179918ec817c3c5107.shp\n",
      "Loading barrier file for Farsite #1: /home/jovyan/farsite/inputs/barriers/NoBarrier/NoBarrier.shp\n",
      "Launching Farsite #1\n",
      "Starting time step 0.000000 (maximum = 18)\n",
      "Writing outputs for Farsite #1 to /home/jovyan/data/20230224/Run_04229/out\n"
     ]
    },
    {
     "name": "stderr",
     "output_type": "stream",
     "text": [
      "/home/jovyan/farsite-devAPI/src/farsiteutils_v2.py:177: FutureWarning: The frame.append method is deprecated and will be removed from pandas in a future version. Use pandas.concat instead.\n",
      "  self.gdfsimulation = self.gdfsimulation.append(gdfappend)\n"
     ]
    },
    {
     "name": "stdout",
     "output_type": "stream",
     "text": [
      "Farsite $Rev: 2395 $\n",
      "Number of parallel threads = 4 (omp_get_num_procs = 64).\n",
      "Loading lcp file for Farsite #1: /home/jovyan/farsite/inputs/landscapes/Maria2019.lcp\n",
      "Loading inputs file for Farsite #1: /home/jovyan/data/20230224/Run_04230/config\n",
      "Loading ignition file for Farsite #1: /home/jovyan/data/ignitions/Maria2019E41e275400867446297dd195ba9af2608.shp\n",
      "Loading barrier file for Farsite #1: /home/jovyan/farsite/inputs/barriers/NoBarrier/NoBarrier.shp\n",
      "Launching Farsite #1\n",
      "Starting time step 0.000000 (maximum = 18)\n",
      "Writing outputs for Farsite #1 to /home/jovyan/data/20230224/Run_04230/out\n"
     ]
    },
    {
     "name": "stderr",
     "output_type": "stream",
     "text": [
      "/home/jovyan/farsite-devAPI/src/farsiteutils_v2.py:177: FutureWarning: The frame.append method is deprecated and will be removed from pandas in a future version. Use pandas.concat instead.\n",
      "  self.gdfsimulation = self.gdfsimulation.append(gdfappend)\n"
     ]
    },
    {
     "name": "stdout",
     "output_type": "stream",
     "text": [
      "Farsite $Rev: 2395 $\n",
      "Number of parallel threads = 4 (omp_get_num_procs = 64).\n",
      "Loading lcp file for Farsite #1: /home/jovyan/farsite/inputs/landscapes/Maria2019.lcp\n",
      "Loading inputs file for Farsite #1: /home/jovyan/data/20230224/Run_04231/config\n",
      "Loading ignition file for Farsite #1: /home/jovyan/data/ignitions/Maria2019E5e804c1052a948f197bdf2be2ded531a.shp\n",
      "Loading barrier file for Farsite #1: /home/jovyan/farsite/inputs/barriers/NoBarrier/NoBarrier.shp\n",
      "Launching Farsite #1\n",
      "Starting time step 0.000000 (maximum = 18)\n",
      "Writing outputs for Farsite #1 to /home/jovyan/data/20230224/Run_04231/out\n"
     ]
    },
    {
     "name": "stderr",
     "output_type": "stream",
     "text": [
      "/home/jovyan/farsite-devAPI/src/farsiteutils_v2.py:177: FutureWarning: The frame.append method is deprecated and will be removed from pandas in a future version. Use pandas.concat instead.\n",
      "  self.gdfsimulation = self.gdfsimulation.append(gdfappend)\n"
     ]
    },
    {
     "name": "stdout",
     "output_type": "stream",
     "text": [
      "Farsite $Rev: 2395 $\n",
      "Number of parallel threads = 4 (omp_get_num_procs = 64).\n",
      "Loading lcp file for Farsite #1: /home/jovyan/farsite/inputs/landscapes/Maria2019.lcp\n",
      "Loading inputs file for Farsite #1: /home/jovyan/data/20230224/Run_04232/config\n",
      "Loading ignition file for Farsite #1: /home/jovyan/data/ignitions/Maria2019E772cd2b8329a412181a754d405c3268c.shp\n",
      "Loading barrier file for Farsite #1: /home/jovyan/farsite/inputs/barriers/NoBarrier/NoBarrier.shp\n",
      "Launching Farsite #1\n",
      "Starting time step 0.000000 (maximum = 18)\n",
      "Writing outputs for Farsite #1 to /home/jovyan/data/20230224/Run_04232/out\n"
     ]
    },
    {
     "name": "stderr",
     "output_type": "stream",
     "text": [
      "/home/jovyan/farsite-devAPI/src/farsiteutils_v2.py:177: FutureWarning: The frame.append method is deprecated and will be removed from pandas in a future version. Use pandas.concat instead.\n",
      "  self.gdfsimulation = self.gdfsimulation.append(gdfappend)\n"
     ]
    },
    {
     "name": "stdout",
     "output_type": "stream",
     "text": [
      "Farsite $Rev: 2395 $\n",
      "Number of parallel threads = 4 (omp_get_num_procs = 64).\n",
      "Loading lcp file for Farsite #1: /home/jovyan/farsite/inputs/landscapes/Maria2019.lcp\n",
      "Loading inputs file for Farsite #1: /home/jovyan/data/20230224/Run_04233/config\n",
      "Loading ignition file for Farsite #1: /home/jovyan/data/ignitions/Maria2019Eaef456b249e74f858d5ae3325cd85b0a.shp\n",
      "Loading barrier file for Farsite #1: /home/jovyan/farsite/inputs/barriers/NoBarrier/NoBarrier.shp\n",
      "Launching Farsite #1\n",
      "Starting time step 0.000000 (maximum = 18)\n",
      "Writing outputs for Farsite #1 to /home/jovyan/data/20230224/Run_04233/out\n"
     ]
    },
    {
     "name": "stderr",
     "output_type": "stream",
     "text": [
      "/home/jovyan/farsite-devAPI/src/farsiteutils_v2.py:177: FutureWarning: The frame.append method is deprecated and will be removed from pandas in a future version. Use pandas.concat instead.\n",
      "  self.gdfsimulation = self.gdfsimulation.append(gdfappend)\n"
     ]
    },
    {
     "name": "stdout",
     "output_type": "stream",
     "text": [
      "Farsite $Rev: 2395 $\n",
      "Number of parallel threads = 4 (omp_get_num_procs = 64).\n",
      "Loading lcp file for Farsite #1: /home/jovyan/farsite/inputs/landscapes/Maria2019.lcp\n",
      "Loading inputs file for Farsite #1: /home/jovyan/data/20230224/Run_04234/config\n",
      "Loading ignition file for Farsite #1: /home/jovyan/data/ignitions/Maria2019E41f52bf52cf0428eb38621378d460a55.shp\n",
      "Loading barrier file for Farsite #1: /home/jovyan/farsite/inputs/barriers/NoBarrier/NoBarrier.shp\n",
      "Launching Farsite #1\n",
      "Starting time step 0.000000 (maximum = 18)\n",
      "Writing outputs for Farsite #1 to /home/jovyan/data/20230224/Run_04234/out\n"
     ]
    },
    {
     "name": "stderr",
     "output_type": "stream",
     "text": [
      "/home/jovyan/farsite-devAPI/src/farsiteutils_v2.py:177: FutureWarning: The frame.append method is deprecated and will be removed from pandas in a future version. Use pandas.concat instead.\n",
      "  self.gdfsimulation = self.gdfsimulation.append(gdfappend)\n"
     ]
    },
    {
     "name": "stdout",
     "output_type": "stream",
     "text": [
      "Farsite $Rev: 2395 $\n",
      "Number of parallel threads = 4 (omp_get_num_procs = 64).\n",
      "Loading lcp file for Farsite #1: /home/jovyan/farsite/inputs/landscapes/Maria2019.lcp\n",
      "Loading inputs file for Farsite #1: /home/jovyan/data/20230224/Run_04235/config\n",
      "Loading ignition file for Farsite #1: /home/jovyan/data/ignitions/Maria2019E88d35a661e0d424895c80c49d1dcec6d.shp\n",
      "Loading barrier file for Farsite #1: /home/jovyan/farsite/inputs/barriers/NoBarrier/NoBarrier.shp\n",
      "Launching Farsite #1\n",
      "Starting time step 0.000000 (maximum = 18)\n",
      "Writing outputs for Farsite #1 to /home/jovyan/data/20230224/Run_04235/out\n"
     ]
    },
    {
     "name": "stderr",
     "output_type": "stream",
     "text": [
      "/home/jovyan/farsite-devAPI/src/farsiteutils_v2.py:177: FutureWarning: The frame.append method is deprecated and will be removed from pandas in a future version. Use pandas.concat instead.\n",
      "  self.gdfsimulation = self.gdfsimulation.append(gdfappend)\n"
     ]
    },
    {
     "name": "stdout",
     "output_type": "stream",
     "text": [
      "Farsite $Rev: 2395 $\n",
      "Number of parallel threads = 4 (omp_get_num_procs = 64).\n",
      "Loading lcp file for Farsite #1: /home/jovyan/farsite/inputs/landscapes/Maria2019.lcp\n",
      "Loading inputs file for Farsite #1: /home/jovyan/data/20230224/Run_04236/config\n",
      "Loading ignition file for Farsite #1: /home/jovyan/data/ignitions/Maria2019E0b2828d802554a2cafa741afe0180ce9.shp\n",
      "Loading barrier file for Farsite #1: /home/jovyan/farsite/inputs/barriers/NoBarrier/NoBarrier.shp\n",
      "Launching Farsite #1\n",
      "Starting time step 0.000000 (maximum = 18)\n",
      "Writing outputs for Farsite #1 to /home/jovyan/data/20230224/Run_04236/out\n"
     ]
    },
    {
     "name": "stderr",
     "output_type": "stream",
     "text": [
      "/home/jovyan/farsite-devAPI/src/farsiteutils_v2.py:177: FutureWarning: The frame.append method is deprecated and will be removed from pandas in a future version. Use pandas.concat instead.\n",
      "  self.gdfsimulation = self.gdfsimulation.append(gdfappend)\n"
     ]
    },
    {
     "name": "stdout",
     "output_type": "stream",
     "text": [
      "Farsite $Rev: 2395 $\n",
      "Number of parallel threads = 4 (omp_get_num_procs = 64).\n",
      "Loading lcp file for Farsite #1: /home/jovyan/farsite/inputs/landscapes/Maria2019.lcp\n",
      "Loading inputs file for Farsite #1: /home/jovyan/data/20230224/Run_04237/config\n",
      "Loading ignition file for Farsite #1: /home/jovyan/data/ignitions/Maria2019E5791051fbb754a4a8cc032258f0f72b2.shp\n",
      "Loading barrier file for Farsite #1: /home/jovyan/farsite/inputs/barriers/NoBarrier/NoBarrier.shp\n",
      "Launching Farsite #1\n",
      "Starting time step 0.000000 (maximum = 18)\n",
      "Writing outputs for Farsite #1 to /home/jovyan/data/20230224/Run_04237/out\n"
     ]
    },
    {
     "name": "stderr",
     "output_type": "stream",
     "text": [
      "/home/jovyan/farsite-devAPI/src/farsiteutils_v2.py:177: FutureWarning: The frame.append method is deprecated and will be removed from pandas in a future version. Use pandas.concat instead.\n",
      "  self.gdfsimulation = self.gdfsimulation.append(gdfappend)\n"
     ]
    },
    {
     "name": "stdout",
     "output_type": "stream",
     "text": [
      "Farsite $Rev: 2395 $\n",
      "Number of parallel threads = 4 (omp_get_num_procs = 64).\n",
      "Loading lcp file for Farsite #1: /home/jovyan/farsite/inputs/landscapes/Maria2019.lcp\n",
      "Loading inputs file for Farsite #1: /home/jovyan/data/20230224/Run_04238/config\n",
      "Loading ignition file for Farsite #1: /home/jovyan/data/ignitions/Maria2019E76bcd07f5c9a46299383c1a994aa763f.shp\n",
      "Loading barrier file for Farsite #1: /home/jovyan/farsite/inputs/barriers/NoBarrier/NoBarrier.shp\n",
      "Launching Farsite #1\n",
      "Starting time step 0.000000 (maximum = 18)\n",
      "Writing outputs for Farsite #1 to /home/jovyan/data/20230224/Run_04238/out\n"
     ]
    },
    {
     "name": "stderr",
     "output_type": "stream",
     "text": [
      "/home/jovyan/farsite-devAPI/src/farsiteutils_v2.py:177: FutureWarning: The frame.append method is deprecated and will be removed from pandas in a future version. Use pandas.concat instead.\n",
      "  self.gdfsimulation = self.gdfsimulation.append(gdfappend)\n"
     ]
    },
    {
     "name": "stdout",
     "output_type": "stream",
     "text": [
      "Farsite $Rev: 2395 $\n",
      "Number of parallel threads = 4 (omp_get_num_procs = 64).\n",
      "Loading lcp file for Farsite #1: /home/jovyan/farsite/inputs/landscapes/Maria2019.lcp\n",
      "Loading inputs file for Farsite #1: /home/jovyan/data/20230224/Run_04239/config\n",
      "Loading ignition file for Farsite #1: /home/jovyan/data/ignitions/Maria2019Efb26fa7d8186441f9a25bd39c400a761.shp\n",
      "Loading barrier file for Farsite #1: /home/jovyan/farsite/inputs/barriers/NoBarrier/NoBarrier.shp\n",
      "Launching Farsite #1\n",
      "Starting time step 0.000000 (maximum = 18)\n",
      "Writing outputs for Farsite #1 to /home/jovyan/data/20230224/Run_04239/out\n"
     ]
    },
    {
     "name": "stderr",
     "output_type": "stream",
     "text": [
      "/home/jovyan/farsite-devAPI/src/farsiteutils_v2.py:177: FutureWarning: The frame.append method is deprecated and will be removed from pandas in a future version. Use pandas.concat instead.\n",
      "  self.gdfsimulation = self.gdfsimulation.append(gdfappend)\n"
     ]
    },
    {
     "name": "stdout",
     "output_type": "stream",
     "text": [
      "Farsite $Rev: 2395 $\n",
      "Number of parallel threads = 4 (omp_get_num_procs = 64).\n",
      "Loading lcp file for Farsite #1: /home/jovyan/farsite/inputs/landscapes/Maria2019.lcp\n",
      "Loading inputs file for Farsite #1: /home/jovyan/data/20230224/Run_04240/config\n",
      "Loading ignition file for Farsite #1: /home/jovyan/data/ignitions/Maria2019E21d2c412872644908831d411cc69a2e5.shp\n",
      "Loading barrier file for Farsite #1: /home/jovyan/farsite/inputs/barriers/NoBarrier/NoBarrier.shp\n",
      "Launching Farsite #1\n",
      "Starting time step 0.000000 (maximum = 18)\n",
      "Writing outputs for Farsite #1 to /home/jovyan/data/20230224/Run_04240/out\n"
     ]
    },
    {
     "name": "stderr",
     "output_type": "stream",
     "text": [
      "/home/jovyan/farsite-devAPI/src/farsiteutils_v2.py:177: FutureWarning: The frame.append method is deprecated and will be removed from pandas in a future version. Use pandas.concat instead.\n",
      "  self.gdfsimulation = self.gdfsimulation.append(gdfappend)\n"
     ]
    },
    {
     "name": "stdout",
     "output_type": "stream",
     "text": [
      "Farsite $Rev: 2395 $\n",
      "Number of parallel threads = 4 (omp_get_num_procs = 64).\n",
      "Loading lcp file for Farsite #1: /home/jovyan/farsite/inputs/landscapes/Maria2019.lcp\n",
      "Loading inputs file for Farsite #1: /home/jovyan/data/20230224/Run_04241/config\n",
      "Loading ignition file for Farsite #1: /home/jovyan/data/ignitions/Maria2019Ebd280b8e670149d5a0a735bae58e9833.shp\n",
      "Loading barrier file for Farsite #1: /home/jovyan/farsite/inputs/barriers/NoBarrier/NoBarrier.shp\n",
      "Launching Farsite #1\n",
      "Starting time step 0.000000 (maximum = 18)\n",
      "Writing outputs for Farsite #1 to /home/jovyan/data/20230224/Run_04241/out\n"
     ]
    },
    {
     "name": "stderr",
     "output_type": "stream",
     "text": [
      "/home/jovyan/farsite-devAPI/src/farsiteutils_v2.py:177: FutureWarning: The frame.append method is deprecated and will be removed from pandas in a future version. Use pandas.concat instead.\n",
      "  self.gdfsimulation = self.gdfsimulation.append(gdfappend)\n"
     ]
    },
    {
     "name": "stdout",
     "output_type": "stream",
     "text": [
      "Farsite $Rev: 2395 $\n",
      "Number of parallel threads = 4 (omp_get_num_procs = 64).\n",
      "Loading lcp file for Farsite #1: /home/jovyan/farsite/inputs/landscapes/Maria2019.lcp\n",
      "Loading inputs file for Farsite #1: /home/jovyan/data/20230224/Run_04242/config\n",
      "Loading ignition file for Farsite #1: /home/jovyan/data/ignitions/Maria2019Eafa7ad791d314284bd008bb21fe77f6c.shp\n",
      "Loading barrier file for Farsite #1: /home/jovyan/farsite/inputs/barriers/NoBarrier/NoBarrier.shp\n",
      "Launching Farsite #1\n",
      "Starting time step 0.000000 (maximum = 18)\n",
      "Writing outputs for Farsite #1 to /home/jovyan/data/20230224/Run_04242/out\n"
     ]
    },
    {
     "name": "stderr",
     "output_type": "stream",
     "text": [
      "/home/jovyan/farsite-devAPI/src/farsiteutils_v2.py:177: FutureWarning: The frame.append method is deprecated and will be removed from pandas in a future version. Use pandas.concat instead.\n",
      "  self.gdfsimulation = self.gdfsimulation.append(gdfappend)\n"
     ]
    },
    {
     "name": "stdout",
     "output_type": "stream",
     "text": [
      "Farsite $Rev: 2395 $\n",
      "Number of parallel threads = 4 (omp_get_num_procs = 64).\n",
      "Loading lcp file for Farsite #1: /home/jovyan/farsite/inputs/landscapes/Maria2019.lcp\n",
      "Loading inputs file for Farsite #1: /home/jovyan/data/20230224/Run_04243/config\n",
      "Loading ignition file for Farsite #1: /home/jovyan/data/ignitions/Maria2019Ea7e4561f7c8d498cbd3e8fd8a69cfaab.shp\n",
      "Loading barrier file for Farsite #1: /home/jovyan/farsite/inputs/barriers/NoBarrier/NoBarrier.shp\n",
      "Launching Farsite #1\n",
      "Starting time step 0.000000 (maximum = 18)\n",
      "Writing outputs for Farsite #1 to /home/jovyan/data/20230224/Run_04243/out\n"
     ]
    },
    {
     "name": "stderr",
     "output_type": "stream",
     "text": [
      "/home/jovyan/farsite-devAPI/src/farsiteutils_v2.py:177: FutureWarning: The frame.append method is deprecated and will be removed from pandas in a future version. Use pandas.concat instead.\n",
      "  self.gdfsimulation = self.gdfsimulation.append(gdfappend)\n"
     ]
    },
    {
     "name": "stdout",
     "output_type": "stream",
     "text": [
      "Farsite $Rev: 2395 $\n",
      "Number of parallel threads = 4 (omp_get_num_procs = 64).\n",
      "Loading lcp file for Farsite #1: /home/jovyan/farsite/inputs/landscapes/Maria2019.lcp\n",
      "Loading inputs file for Farsite #1: /home/jovyan/data/20230224/Run_04244/config\n",
      "Loading ignition file for Farsite #1: /home/jovyan/data/ignitions/Maria2019E309b74ca2da74b3f96faf01dd2cf08b0.shp\n",
      "Loading barrier file for Farsite #1: /home/jovyan/farsite/inputs/barriers/NoBarrier/NoBarrier.shp\n",
      "Launching Farsite #1\n",
      "Starting time step 0.000000 (maximum = 18)\n",
      "Writing outputs for Farsite #1 to /home/jovyan/data/20230224/Run_04244/out\n"
     ]
    },
    {
     "name": "stderr",
     "output_type": "stream",
     "text": [
      "/home/jovyan/farsite-devAPI/src/farsiteutils_v2.py:177: FutureWarning: The frame.append method is deprecated and will be removed from pandas in a future version. Use pandas.concat instead.\n",
      "  self.gdfsimulation = self.gdfsimulation.append(gdfappend)\n"
     ]
    },
    {
     "name": "stdout",
     "output_type": "stream",
     "text": [
      "Farsite $Rev: 2395 $\n",
      "Number of parallel threads = 4 (omp_get_num_procs = 64).\n",
      "Loading lcp file for Farsite #1: /home/jovyan/farsite/inputs/landscapes/Maria2019.lcp\n",
      "Loading inputs file for Farsite #1: /home/jovyan/data/20230224/Run_04245/config\n",
      "Loading ignition file for Farsite #1: /home/jovyan/data/ignitions/Maria2019E0b39fab53ed6435b8f56ec6ea15c64e6.shp\n",
      "Loading barrier file for Farsite #1: /home/jovyan/farsite/inputs/barriers/NoBarrier/NoBarrier.shp\n",
      "Launching Farsite #1\n",
      "Starting time step 0.000000 (maximum = 18)\n",
      "Writing outputs for Farsite #1 to /home/jovyan/data/20230224/Run_04245/out\n"
     ]
    },
    {
     "name": "stderr",
     "output_type": "stream",
     "text": [
      "/home/jovyan/farsite-devAPI/src/farsiteutils_v2.py:177: FutureWarning: The frame.append method is deprecated and will be removed from pandas in a future version. Use pandas.concat instead.\n",
      "  self.gdfsimulation = self.gdfsimulation.append(gdfappend)\n"
     ]
    },
    {
     "name": "stdout",
     "output_type": "stream",
     "text": [
      "Farsite $Rev: 2395 $\n",
      "Number of parallel threads = 4 (omp_get_num_procs = 64).\n",
      "Loading lcp file for Farsite #1: /home/jovyan/farsite/inputs/landscapes/Maria2019.lcp\n",
      "Loading inputs file for Farsite #1: /home/jovyan/data/20230224/Run_04246/config\n",
      "Loading ignition file for Farsite #1: /home/jovyan/data/ignitions/Maria2019E31d6e1f6e7534898bbcfab986e39e541.shp\n",
      "Loading barrier file for Farsite #1: /home/jovyan/farsite/inputs/barriers/NoBarrier/NoBarrier.shp\n",
      "Launching Farsite #1\n",
      "Starting time step 0.000000 (maximum = 18)\n",
      "Writing outputs for Farsite #1 to /home/jovyan/data/20230224/Run_04246/out\n"
     ]
    },
    {
     "name": "stderr",
     "output_type": "stream",
     "text": [
      "/home/jovyan/farsite-devAPI/src/farsiteutils_v2.py:177: FutureWarning: The frame.append method is deprecated and will be removed from pandas in a future version. Use pandas.concat instead.\n",
      "  self.gdfsimulation = self.gdfsimulation.append(gdfappend)\n"
     ]
    },
    {
     "name": "stdout",
     "output_type": "stream",
     "text": [
      "Farsite $Rev: 2395 $\n",
      "Number of parallel threads = 4 (omp_get_num_procs = 64).\n",
      "Loading lcp file for Farsite #1: /home/jovyan/farsite/inputs/landscapes/Maria2019.lcp\n",
      "Loading inputs file for Farsite #1: /home/jovyan/data/20230224/Run_04247/config\n",
      "Loading ignition file for Farsite #1: /home/jovyan/data/ignitions/Maria2019E09de561bee85417595969749eb939231.shp\n",
      "Loading barrier file for Farsite #1: /home/jovyan/farsite/inputs/barriers/NoBarrier/NoBarrier.shp\n",
      "Launching Farsite #1\n",
      "Starting time step 0.000000 (maximum = 18)\n",
      "Writing outputs for Farsite #1 to /home/jovyan/data/20230224/Run_04247/out\n"
     ]
    },
    {
     "name": "stderr",
     "output_type": "stream",
     "text": [
      "/home/jovyan/farsite-devAPI/src/farsiteutils_v2.py:177: FutureWarning: The frame.append method is deprecated and will be removed from pandas in a future version. Use pandas.concat instead.\n",
      "  self.gdfsimulation = self.gdfsimulation.append(gdfappend)\n"
     ]
    },
    {
     "name": "stdout",
     "output_type": "stream",
     "text": [
      "Farsite $Rev: 2395 $\n",
      "Number of parallel threads = 4 (omp_get_num_procs = 64).\n",
      "Loading lcp file for Farsite #1: /home/jovyan/farsite/inputs/landscapes/Maria2019.lcp\n",
      "Loading inputs file for Farsite #1: /home/jovyan/data/20230224/Run_04248/config\n",
      "Loading ignition file for Farsite #1: /home/jovyan/data/ignitions/Maria2019Ed2965b41a3ad4d5c9afcfe97b576cd7e.shp\n",
      "Loading barrier file for Farsite #1: /home/jovyan/farsite/inputs/barriers/NoBarrier/NoBarrier.shp\n",
      "Launching Farsite #1\n",
      "Starting time step 0.000000 (maximum = 18)\n",
      "Writing outputs for Farsite #1 to /home/jovyan/data/20230224/Run_04248/out\n"
     ]
    },
    {
     "name": "stderr",
     "output_type": "stream",
     "text": [
      "/home/jovyan/farsite-devAPI/src/farsiteutils_v2.py:177: FutureWarning: The frame.append method is deprecated and will be removed from pandas in a future version. Use pandas.concat instead.\n",
      "  self.gdfsimulation = self.gdfsimulation.append(gdfappend)\n"
     ]
    },
    {
     "name": "stdout",
     "output_type": "stream",
     "text": [
      "Farsite $Rev: 2395 $\n",
      "Number of parallel threads = 4 (omp_get_num_procs = 64).\n",
      "Loading lcp file for Farsite #1: /home/jovyan/farsite/inputs/landscapes/Maria2019.lcp\n",
      "Loading inputs file for Farsite #1: /home/jovyan/data/20230224/Run_04249/config\n",
      "Loading ignition file for Farsite #1: /home/jovyan/data/ignitions/Maria2019E63158be54063457ea5f85171dc8351b5.shp\n",
      "Loading barrier file for Farsite #1: /home/jovyan/farsite/inputs/barriers/NoBarrier/NoBarrier.shp\n",
      "Launching Farsite #1\n",
      "Starting time step 0.000000 (maximum = 18)\n",
      "Writing outputs for Farsite #1 to /home/jovyan/data/20230224/Run_04249/out\n"
     ]
    },
    {
     "name": "stderr",
     "output_type": "stream",
     "text": [
      "/home/jovyan/farsite-devAPI/src/farsiteutils_v2.py:177: FutureWarning: The frame.append method is deprecated and will be removed from pandas in a future version. Use pandas.concat instead.\n",
      "  self.gdfsimulation = self.gdfsimulation.append(gdfappend)\n"
     ]
    },
    {
     "name": "stdout",
     "output_type": "stream",
     "text": [
      "Farsite $Rev: 2395 $\n",
      "Number of parallel threads = 4 (omp_get_num_procs = 64).\n",
      "Loading lcp file for Farsite #1: /home/jovyan/farsite/inputs/landscapes/Maria2019.lcp\n",
      "Loading inputs file for Farsite #1: /home/jovyan/data/20230224/Run_04250/config\n",
      "Loading ignition file for Farsite #1: /home/jovyan/data/ignitions/Maria2019Eabf45dae9c2244beb32ea544ae9c6eb1.shp\n",
      "Loading barrier file for Farsite #1: /home/jovyan/farsite/inputs/barriers/NoBarrier/NoBarrier.shp\n",
      "Launching Farsite #1\n",
      "Starting time step 0.000000 (maximum = 18)\n",
      "Writing outputs for Farsite #1 to /home/jovyan/data/20230224/Run_04250/out\n"
     ]
    },
    {
     "name": "stderr",
     "output_type": "stream",
     "text": [
      "/home/jovyan/farsite-devAPI/src/farsiteutils_v2.py:177: FutureWarning: The frame.append method is deprecated and will be removed from pandas in a future version. Use pandas.concat instead.\n",
      "  self.gdfsimulation = self.gdfsimulation.append(gdfappend)\n"
     ]
    },
    {
     "name": "stdout",
     "output_type": "stream",
     "text": [
      "Farsite $Rev: 2395 $\n",
      "Number of parallel threads = 4 (omp_get_num_procs = 64).\n",
      "Loading lcp file for Farsite #1: /home/jovyan/farsite/inputs/landscapes/Maria2019.lcp\n",
      "Loading inputs file for Farsite #1: /home/jovyan/data/20230224/Run_04251/config\n",
      "Loading ignition file for Farsite #1: /home/jovyan/data/ignitions/Maria2019E872f3bb3e8fa47568fa3d2b76ca13783.shp\n",
      "Loading barrier file for Farsite #1: /home/jovyan/farsite/inputs/barriers/NoBarrier/NoBarrier.shp\n",
      "Launching Farsite #1\n",
      "Starting time step 0.000000 (maximum = 18)\n",
      "Writing outputs for Farsite #1 to /home/jovyan/data/20230224/Run_04251/out\n"
     ]
    },
    {
     "name": "stderr",
     "output_type": "stream",
     "text": [
      "/home/jovyan/farsite-devAPI/src/farsiteutils_v2.py:177: FutureWarning: The frame.append method is deprecated and will be removed from pandas in a future version. Use pandas.concat instead.\n",
      "  self.gdfsimulation = self.gdfsimulation.append(gdfappend)\n"
     ]
    },
    {
     "name": "stdout",
     "output_type": "stream",
     "text": [
      "Farsite $Rev: 2395 $\n",
      "Number of parallel threads = 4 (omp_get_num_procs = 64).\n",
      "Loading lcp file for Farsite #1: /home/jovyan/farsite/inputs/landscapes/Maria2019.lcp\n",
      "Loading inputs file for Farsite #1: /home/jovyan/data/20230224/Run_04252/config\n",
      "Loading ignition file for Farsite #1: /home/jovyan/data/ignitions/Maria2019E9bbdc453288a44008b956fbcd3fbbe98.shp\n",
      "Loading barrier file for Farsite #1: /home/jovyan/farsite/inputs/barriers/NoBarrier/NoBarrier.shp\n",
      "Launching Farsite #1\n",
      "Starting time step 0.000000 (maximum = 18)\n",
      "Writing outputs for Farsite #1 to /home/jovyan/data/20230224/Run_04252/out\n"
     ]
    },
    {
     "name": "stderr",
     "output_type": "stream",
     "text": [
      "/home/jovyan/farsite-devAPI/src/farsiteutils_v2.py:177: FutureWarning: The frame.append method is deprecated and will be removed from pandas in a future version. Use pandas.concat instead.\n",
      "  self.gdfsimulation = self.gdfsimulation.append(gdfappend)\n"
     ]
    },
    {
     "name": "stdout",
     "output_type": "stream",
     "text": [
      "Farsite $Rev: 2395 $\n",
      "Number of parallel threads = 4 (omp_get_num_procs = 64).\n",
      "Loading lcp file for Farsite #1: /home/jovyan/farsite/inputs/landscapes/Maria2019.lcp\n",
      "Loading inputs file for Farsite #1: /home/jovyan/data/20230224/Run_04253/config\n",
      "Loading ignition file for Farsite #1: /home/jovyan/data/ignitions/Maria2019Ee8af9c4662164dc38394c956f159a050.shp\n",
      "Loading barrier file for Farsite #1: /home/jovyan/farsite/inputs/barriers/NoBarrier/NoBarrier.shp\n",
      "Launching Farsite #1\n",
      "Starting time step 0.000000 (maximum = 18)\n",
      "Writing outputs for Farsite #1 to /home/jovyan/data/20230224/Run_04253/out\n"
     ]
    },
    {
     "name": "stderr",
     "output_type": "stream",
     "text": [
      "/home/jovyan/farsite-devAPI/src/farsiteutils_v2.py:177: FutureWarning: The frame.append method is deprecated and will be removed from pandas in a future version. Use pandas.concat instead.\n",
      "  self.gdfsimulation = self.gdfsimulation.append(gdfappend)\n"
     ]
    },
    {
     "name": "stdout",
     "output_type": "stream",
     "text": [
      "Farsite $Rev: 2395 $\n",
      "Number of parallel threads = 4 (omp_get_num_procs = 64).\n",
      "Loading lcp file for Farsite #1: /home/jovyan/farsite/inputs/landscapes/Maria2019.lcp\n",
      "Loading inputs file for Farsite #1: /home/jovyan/data/20230224/Run_04254/config\n",
      "Loading ignition file for Farsite #1: /home/jovyan/data/ignitions/Maria2019Eed7eeee76ecf4dbcbbeda74dbfaccdd3.shp\n",
      "Loading barrier file for Farsite #1: /home/jovyan/farsite/inputs/barriers/NoBarrier/NoBarrier.shp\n",
      "Launching Farsite #1\n",
      "Starting time step 0.000000 (maximum = 18)\n",
      "Writing outputs for Farsite #1 to /home/jovyan/data/20230224/Run_04254/out\n"
     ]
    },
    {
     "name": "stderr",
     "output_type": "stream",
     "text": [
      "/home/jovyan/farsite-devAPI/src/farsiteutils_v2.py:177: FutureWarning: The frame.append method is deprecated and will be removed from pandas in a future version. Use pandas.concat instead.\n",
      "  self.gdfsimulation = self.gdfsimulation.append(gdfappend)\n"
     ]
    },
    {
     "name": "stdout",
     "output_type": "stream",
     "text": [
      "Farsite $Rev: 2395 $\n",
      "Number of parallel threads = 4 (omp_get_num_procs = 64).\n",
      "Loading lcp file for Farsite #1: /home/jovyan/farsite/inputs/landscapes/Maria2019.lcp\n",
      "Loading inputs file for Farsite #1: /home/jovyan/data/20230224/Run_04255/config\n",
      "Loading ignition file for Farsite #1: /home/jovyan/data/ignitions/Maria2019Eed77c2ff02974f17910740693c2403f0.shp\n",
      "Loading barrier file for Farsite #1: /home/jovyan/farsite/inputs/barriers/NoBarrier/NoBarrier.shp\n",
      "Launching Farsite #1\n",
      "Starting time step 0.000000 (maximum = 18)\n",
      "Writing outputs for Farsite #1 to /home/jovyan/data/20230224/Run_04255/out\n"
     ]
    },
    {
     "name": "stderr",
     "output_type": "stream",
     "text": [
      "/home/jovyan/farsite-devAPI/src/farsiteutils_v2.py:177: FutureWarning: The frame.append method is deprecated and will be removed from pandas in a future version. Use pandas.concat instead.\n",
      "  self.gdfsimulation = self.gdfsimulation.append(gdfappend)\n"
     ]
    },
    {
     "name": "stdout",
     "output_type": "stream",
     "text": [
      "Farsite $Rev: 2395 $\n",
      "Number of parallel threads = 4 (omp_get_num_procs = 64).\n",
      "Loading lcp file for Farsite #1: /home/jovyan/farsite/inputs/landscapes/Maria2019.lcp\n",
      "Loading inputs file for Farsite #1: /home/jovyan/data/20230224/Run_04256/config\n",
      "Loading ignition file for Farsite #1: /home/jovyan/data/ignitions/Maria2019Ef3669cdfc0ff4ca6ad34bb54eb8eaa5b.shp\n",
      "Loading barrier file for Farsite #1: /home/jovyan/farsite/inputs/barriers/NoBarrier/NoBarrier.shp\n",
      "Launching Farsite #1\n",
      "Starting time step 0.000000 (maximum = 18)\n",
      "Writing outputs for Farsite #1 to /home/jovyan/data/20230224/Run_04256/out\n"
     ]
    },
    {
     "name": "stderr",
     "output_type": "stream",
     "text": [
      "/home/jovyan/farsite-devAPI/src/farsiteutils_v2.py:177: FutureWarning: The frame.append method is deprecated and will be removed from pandas in a future version. Use pandas.concat instead.\n",
      "  self.gdfsimulation = self.gdfsimulation.append(gdfappend)\n"
     ]
    },
    {
     "name": "stdout",
     "output_type": "stream",
     "text": [
      "Farsite $Rev: 2395 $\n",
      "Number of parallel threads = 4 (omp_get_num_procs = 64).\n",
      "Loading lcp file for Farsite #1: /home/jovyan/farsite/inputs/landscapes/Maria2019.lcp\n",
      "Loading inputs file for Farsite #1: /home/jovyan/data/20230224/Run_04257/config\n",
      "Loading ignition file for Farsite #1: /home/jovyan/data/ignitions/Maria2019Ef3f9a83ffb8446c390d78d6568f77f4d.shp\n",
      "Loading barrier file for Farsite #1: /home/jovyan/farsite/inputs/barriers/NoBarrier/NoBarrier.shp\n",
      "Launching Farsite #1\n",
      "Starting time step 0.000000 (maximum = 18)\n",
      "Writing outputs for Farsite #1 to /home/jovyan/data/20230224/Run_04257/out\n"
     ]
    },
    {
     "name": "stderr",
     "output_type": "stream",
     "text": [
      "/home/jovyan/farsite-devAPI/src/farsiteutils_v2.py:177: FutureWarning: The frame.append method is deprecated and will be removed from pandas in a future version. Use pandas.concat instead.\n",
      "  self.gdfsimulation = self.gdfsimulation.append(gdfappend)\n"
     ]
    },
    {
     "name": "stdout",
     "output_type": "stream",
     "text": [
      "Farsite $Rev: 2395 $\n",
      "Number of parallel threads = 4 (omp_get_num_procs = 64).\n",
      "Loading lcp file for Farsite #1: /home/jovyan/farsite/inputs/landscapes/Maria2019.lcp\n",
      "Loading inputs file for Farsite #1: /home/jovyan/data/20230224/Run_04258/config\n",
      "Loading ignition file for Farsite #1: /home/jovyan/data/ignitions/Maria2019E2c9da871f10e4fe9abac533e3a8b8b33.shp\n",
      "Loading barrier file for Farsite #1: /home/jovyan/farsite/inputs/barriers/NoBarrier/NoBarrier.shp\n",
      "Launching Farsite #1\n",
      "Starting time step 0.000000 (maximum = 18)\n",
      "Writing outputs for Farsite #1 to /home/jovyan/data/20230224/Run_04258/out\n"
     ]
    },
    {
     "name": "stderr",
     "output_type": "stream",
     "text": [
      "/home/jovyan/farsite-devAPI/src/farsiteutils_v2.py:177: FutureWarning: The frame.append method is deprecated and will be removed from pandas in a future version. Use pandas.concat instead.\n",
      "  self.gdfsimulation = self.gdfsimulation.append(gdfappend)\n"
     ]
    },
    {
     "name": "stdout",
     "output_type": "stream",
     "text": [
      "Farsite $Rev: 2395 $\n",
      "Number of parallel threads = 4 (omp_get_num_procs = 64).\n",
      "Loading lcp file for Farsite #1: /home/jovyan/farsite/inputs/landscapes/Maria2019.lcp\n",
      "Loading inputs file for Farsite #1: /home/jovyan/data/20230224/Run_04259/config\n",
      "Loading ignition file for Farsite #1: /home/jovyan/data/ignitions/Maria2019Ed9f6971579c34990b350f95805326ae1.shp\n",
      "Loading barrier file for Farsite #1: /home/jovyan/farsite/inputs/barriers/NoBarrier/NoBarrier.shp\n",
      "Launching Farsite #1\n",
      "Starting time step 0.000000 (maximum = 18)\n",
      "Writing outputs for Farsite #1 to /home/jovyan/data/20230224/Run_04259/out\n"
     ]
    },
    {
     "name": "stderr",
     "output_type": "stream",
     "text": [
      "/home/jovyan/farsite-devAPI/src/farsiteutils_v2.py:177: FutureWarning: The frame.append method is deprecated and will be removed from pandas in a future version. Use pandas.concat instead.\n",
      "  self.gdfsimulation = self.gdfsimulation.append(gdfappend)\n"
     ]
    },
    {
     "name": "stdout",
     "output_type": "stream",
     "text": [
      "Farsite $Rev: 2395 $\n",
      "Number of parallel threads = 4 (omp_get_num_procs = 64).\n",
      "Loading lcp file for Farsite #1: /home/jovyan/farsite/inputs/landscapes/Maria2019.lcp\n",
      "Loading inputs file for Farsite #1: /home/jovyan/data/20230224/Run_04260/config\n",
      "Loading ignition file for Farsite #1: /home/jovyan/data/ignitions/Maria2019Ea0d48cbbc26c4046ae8bc5278cdb9007.shp\n",
      "Loading barrier file for Farsite #1: /home/jovyan/farsite/inputs/barriers/NoBarrier/NoBarrier.shp\n",
      "Launching Farsite #1\n",
      "Starting time step 0.000000 (maximum = 18)\n",
      "Writing outputs for Farsite #1 to /home/jovyan/data/20230224/Run_04260/out\n"
     ]
    },
    {
     "name": "stderr",
     "output_type": "stream",
     "text": [
      "/home/jovyan/farsite-devAPI/src/farsiteutils_v2.py:177: FutureWarning: The frame.append method is deprecated and will be removed from pandas in a future version. Use pandas.concat instead.\n",
      "  self.gdfsimulation = self.gdfsimulation.append(gdfappend)\n"
     ]
    },
    {
     "name": "stdout",
     "output_type": "stream",
     "text": [
      "Farsite $Rev: 2395 $\n",
      "Number of parallel threads = 4 (omp_get_num_procs = 64).\n",
      "Loading lcp file for Farsite #1: /home/jovyan/farsite/inputs/landscapes/Maria2019.lcp\n",
      "Loading inputs file for Farsite #1: /home/jovyan/data/20230224/Run_04261/config\n",
      "Loading ignition file for Farsite #1: /home/jovyan/data/ignitions/Maria2019Ee25c6b51cc314ddabd8f8eac2df2d6d4.shp\n",
      "Loading barrier file for Farsite #1: /home/jovyan/farsite/inputs/barriers/NoBarrier/NoBarrier.shp\n",
      "Launching Farsite #1\n",
      "Starting time step 0.000000 (maximum = 18)\n",
      "Writing outputs for Farsite #1 to /home/jovyan/data/20230224/Run_04261/out\n"
     ]
    },
    {
     "name": "stderr",
     "output_type": "stream",
     "text": [
      "/home/jovyan/farsite-devAPI/src/farsiteutils_v2.py:177: FutureWarning: The frame.append method is deprecated and will be removed from pandas in a future version. Use pandas.concat instead.\n",
      "  self.gdfsimulation = self.gdfsimulation.append(gdfappend)\n"
     ]
    },
    {
     "name": "stdout",
     "output_type": "stream",
     "text": [
      "Farsite $Rev: 2395 $\n",
      "Number of parallel threads = 4 (omp_get_num_procs = 64).\n",
      "Loading lcp file for Farsite #1: /home/jovyan/farsite/inputs/landscapes/Maria2019.lcp\n",
      "Loading inputs file for Farsite #1: /home/jovyan/data/20230224/Run_04262/config\n",
      "Loading ignition file for Farsite #1: /home/jovyan/data/ignitions/Maria2019Ec4e0a7e82f384e0c955abd37a985fcfc.shp\n",
      "Loading barrier file for Farsite #1: /home/jovyan/farsite/inputs/barriers/NoBarrier/NoBarrier.shp\n",
      "Launching Farsite #1\n",
      "Starting time step 0.000000 (maximum = 18)\n",
      "Writing outputs for Farsite #1 to /home/jovyan/data/20230224/Run_04262/out\n"
     ]
    },
    {
     "name": "stderr",
     "output_type": "stream",
     "text": [
      "/home/jovyan/farsite-devAPI/src/farsiteutils_v2.py:177: FutureWarning: The frame.append method is deprecated and will be removed from pandas in a future version. Use pandas.concat instead.\n",
      "  self.gdfsimulation = self.gdfsimulation.append(gdfappend)\n"
     ]
    },
    {
     "name": "stdout",
     "output_type": "stream",
     "text": [
      "Farsite $Rev: 2395 $\n",
      "Number of parallel threads = 4 (omp_get_num_procs = 64).\n",
      "Loading lcp file for Farsite #1: /home/jovyan/farsite/inputs/landscapes/Maria2019.lcp\n",
      "Loading inputs file for Farsite #1: /home/jovyan/data/20230224/Run_04263/config\n",
      "Loading ignition file for Farsite #1: /home/jovyan/data/ignitions/Maria2019E23e5f8c2b80e49a6ae39467b1f878e20.shp\n",
      "Loading barrier file for Farsite #1: /home/jovyan/farsite/inputs/barriers/NoBarrier/NoBarrier.shp\n",
      "Launching Farsite #1\n",
      "Starting time step 0.000000 (maximum = 18)\n",
      "Writing outputs for Farsite #1 to /home/jovyan/data/20230224/Run_04263/out\n"
     ]
    },
    {
     "name": "stderr",
     "output_type": "stream",
     "text": [
      "/home/jovyan/farsite-devAPI/src/farsiteutils_v2.py:177: FutureWarning: The frame.append method is deprecated and will be removed from pandas in a future version. Use pandas.concat instead.\n",
      "  self.gdfsimulation = self.gdfsimulation.append(gdfappend)\n"
     ]
    },
    {
     "name": "stdout",
     "output_type": "stream",
     "text": [
      "Farsite $Rev: 2395 $\n",
      "Number of parallel threads = 4 (omp_get_num_procs = 64).\n",
      "Loading lcp file for Farsite #1: /home/jovyan/farsite/inputs/landscapes/Maria2019.lcp\n",
      "Loading inputs file for Farsite #1: /home/jovyan/data/20230224/Run_04264/config\n",
      "Loading ignition file for Farsite #1: /home/jovyan/data/ignitions/Maria2019E1d1c38af1abe478a9c0b3eb8175ca8c1.shp\n",
      "Loading barrier file for Farsite #1: /home/jovyan/farsite/inputs/barriers/NoBarrier/NoBarrier.shp\n",
      "Launching Farsite #1\n",
      "Starting time step 0.000000 (maximum = 18)\n",
      "Writing outputs for Farsite #1 to /home/jovyan/data/20230224/Run_04264/out\n"
     ]
    },
    {
     "name": "stderr",
     "output_type": "stream",
     "text": [
      "/home/jovyan/farsite-devAPI/src/farsiteutils_v2.py:177: FutureWarning: The frame.append method is deprecated and will be removed from pandas in a future version. Use pandas.concat instead.\n",
      "  self.gdfsimulation = self.gdfsimulation.append(gdfappend)\n"
     ]
    },
    {
     "name": "stdout",
     "output_type": "stream",
     "text": [
      "Farsite $Rev: 2395 $\n",
      "Number of parallel threads = 4 (omp_get_num_procs = 64).\n",
      "Loading lcp file for Farsite #1: /home/jovyan/farsite/inputs/landscapes/Maria2019.lcp\n",
      "Loading inputs file for Farsite #1: /home/jovyan/data/20230224/Run_04265/config\n",
      "Loading ignition file for Farsite #1: /home/jovyan/data/ignitions/Maria2019Ec02d37371cb6451183793026bcd97de8.shp\n",
      "Loading barrier file for Farsite #1: /home/jovyan/farsite/inputs/barriers/NoBarrier/NoBarrier.shp\n",
      "Launching Farsite #1\n",
      "Starting time step 0.000000 (maximum = 18)\n",
      "Writing outputs for Farsite #1 to /home/jovyan/data/20230224/Run_04265/out\n"
     ]
    },
    {
     "name": "stderr",
     "output_type": "stream",
     "text": [
      "/home/jovyan/farsite-devAPI/src/farsiteutils_v2.py:177: FutureWarning: The frame.append method is deprecated and will be removed from pandas in a future version. Use pandas.concat instead.\n",
      "  self.gdfsimulation = self.gdfsimulation.append(gdfappend)\n"
     ]
    },
    {
     "name": "stdout",
     "output_type": "stream",
     "text": [
      "Farsite $Rev: 2395 $\n",
      "Number of parallel threads = 4 (omp_get_num_procs = 64).\n",
      "Loading lcp file for Farsite #1: /home/jovyan/farsite/inputs/landscapes/Maria2019.lcp\n",
      "Loading inputs file for Farsite #1: /home/jovyan/data/20230224/Run_04266/config\n",
      "Loading ignition file for Farsite #1: /home/jovyan/data/ignitions/Maria2019E39ed2411be4941acb3e6faa07724eb25.shp\n",
      "Loading barrier file for Farsite #1: /home/jovyan/farsite/inputs/barriers/NoBarrier/NoBarrier.shp\n",
      "Launching Farsite #1\n",
      "Starting time step 0.000000 (maximum = 18)\n",
      "Writing outputs for Farsite #1 to /home/jovyan/data/20230224/Run_04266/out\n"
     ]
    },
    {
     "name": "stderr",
     "output_type": "stream",
     "text": [
      "/home/jovyan/farsite-devAPI/src/farsiteutils_v2.py:177: FutureWarning: The frame.append method is deprecated and will be removed from pandas in a future version. Use pandas.concat instead.\n",
      "  self.gdfsimulation = self.gdfsimulation.append(gdfappend)\n"
     ]
    },
    {
     "name": "stdout",
     "output_type": "stream",
     "text": [
      "Farsite $Rev: 2395 $\n",
      "Number of parallel threads = 4 (omp_get_num_procs = 64).\n",
      "Loading lcp file for Farsite #1: /home/jovyan/farsite/inputs/landscapes/Maria2019.lcp\n",
      "Loading inputs file for Farsite #1: /home/jovyan/data/20230224/Run_04267/config\n",
      "Loading ignition file for Farsite #1: /home/jovyan/data/ignitions/Maria2019Ecbdbe722e55f4a1c8fd2458e0ecf6032.shp\n",
      "Loading barrier file for Farsite #1: /home/jovyan/farsite/inputs/barriers/NoBarrier/NoBarrier.shp\n",
      "Launching Farsite #1\n",
      "Starting time step 0.000000 (maximum = 18)\n",
      "Writing outputs for Farsite #1 to /home/jovyan/data/20230224/Run_04267/out\n"
     ]
    },
    {
     "name": "stderr",
     "output_type": "stream",
     "text": [
      "/home/jovyan/farsite-devAPI/src/farsiteutils_v2.py:177: FutureWarning: The frame.append method is deprecated and will be removed from pandas in a future version. Use pandas.concat instead.\n",
      "  self.gdfsimulation = self.gdfsimulation.append(gdfappend)\n"
     ]
    },
    {
     "name": "stdout",
     "output_type": "stream",
     "text": [
      "Farsite $Rev: 2395 $\n",
      "Number of parallel threads = 4 (omp_get_num_procs = 64).\n",
      "Loading lcp file for Farsite #1: /home/jovyan/farsite/inputs/landscapes/Maria2019.lcp\n",
      "Loading inputs file for Farsite #1: /home/jovyan/data/20230224/Run_04268/config\n",
      "Loading ignition file for Farsite #1: /home/jovyan/data/ignitions/Maria2019Efe1691492f0c4ad3b6bf2ba378fc8298.shp\n",
      "Loading barrier file for Farsite #1: /home/jovyan/farsite/inputs/barriers/NoBarrier/NoBarrier.shp\n",
      "Launching Farsite #1\n",
      "Starting time step 0.000000 (maximum = 18)\n",
      "Writing outputs for Farsite #1 to /home/jovyan/data/20230224/Run_04268/out\n"
     ]
    },
    {
     "name": "stderr",
     "output_type": "stream",
     "text": [
      "/home/jovyan/farsite-devAPI/src/farsiteutils_v2.py:177: FutureWarning: The frame.append method is deprecated and will be removed from pandas in a future version. Use pandas.concat instead.\n",
      "  self.gdfsimulation = self.gdfsimulation.append(gdfappend)\n"
     ]
    },
    {
     "name": "stdout",
     "output_type": "stream",
     "text": [
      "Farsite $Rev: 2395 $\n",
      "Number of parallel threads = 4 (omp_get_num_procs = 64).\n",
      "Loading lcp file for Farsite #1: /home/jovyan/farsite/inputs/landscapes/Maria2019.lcp\n",
      "Loading inputs file for Farsite #1: /home/jovyan/data/20230224/Run_04269/config\n",
      "Loading ignition file for Farsite #1: /home/jovyan/data/ignitions/Maria2019E2b4929f6389c4aa1941151386c394c46.shp\n",
      "Loading barrier file for Farsite #1: /home/jovyan/farsite/inputs/barriers/NoBarrier/NoBarrier.shp\n",
      "Launching Farsite #1\n",
      "Starting time step 0.000000 (maximum = 18)\n",
      "Writing outputs for Farsite #1 to /home/jovyan/data/20230224/Run_04269/out\n"
     ]
    },
    {
     "name": "stderr",
     "output_type": "stream",
     "text": [
      "/home/jovyan/farsite-devAPI/src/farsiteutils_v2.py:177: FutureWarning: The frame.append method is deprecated and will be removed from pandas in a future version. Use pandas.concat instead.\n",
      "  self.gdfsimulation = self.gdfsimulation.append(gdfappend)\n"
     ]
    },
    {
     "name": "stdout",
     "output_type": "stream",
     "text": [
      "Farsite $Rev: 2395 $\n",
      "Number of parallel threads = 4 (omp_get_num_procs = 64).\n",
      "Loading lcp file for Farsite #1: /home/jovyan/farsite/inputs/landscapes/Maria2019.lcp\n",
      "Loading inputs file for Farsite #1: /home/jovyan/data/20230224/Run_04270/config\n",
      "Loading ignition file for Farsite #1: /home/jovyan/data/ignitions/Maria2019Eaa240e006e384a39a7cf9df244fa6cfd.shp\n",
      "Loading barrier file for Farsite #1: /home/jovyan/farsite/inputs/barriers/NoBarrier/NoBarrier.shp\n",
      "Launching Farsite #1\n",
      "Starting time step 0.000000 (maximum = 18)\n",
      "Writing outputs for Farsite #1 to /home/jovyan/data/20230224/Run_04270/out\n"
     ]
    },
    {
     "name": "stderr",
     "output_type": "stream",
     "text": [
      "/home/jovyan/farsite-devAPI/src/farsiteutils_v2.py:177: FutureWarning: The frame.append method is deprecated and will be removed from pandas in a future version. Use pandas.concat instead.\n",
      "  self.gdfsimulation = self.gdfsimulation.append(gdfappend)\n"
     ]
    },
    {
     "name": "stdout",
     "output_type": "stream",
     "text": [
      "Farsite $Rev: 2395 $\n",
      "Number of parallel threads = 4 (omp_get_num_procs = 64).\n",
      "Loading lcp file for Farsite #1: /home/jovyan/farsite/inputs/landscapes/Maria2019.lcp\n",
      "Loading inputs file for Farsite #1: /home/jovyan/data/20230224/Run_04271/config\n",
      "Loading ignition file for Farsite #1: /home/jovyan/data/ignitions/Maria2019Ecf827fe282804927974b7a7d27f3ce0b.shp\n",
      "Loading barrier file for Farsite #1: /home/jovyan/farsite/inputs/barriers/NoBarrier/NoBarrier.shp\n",
      "Launching Farsite #1\n",
      "Starting time step 0.000000 (maximum = 18)\n",
      "Writing outputs for Farsite #1 to /home/jovyan/data/20230224/Run_04271/out\n"
     ]
    },
    {
     "name": "stderr",
     "output_type": "stream",
     "text": [
      "/home/jovyan/farsite-devAPI/src/farsiteutils_v2.py:177: FutureWarning: The frame.append method is deprecated and will be removed from pandas in a future version. Use pandas.concat instead.\n",
      "  self.gdfsimulation = self.gdfsimulation.append(gdfappend)\n"
     ]
    },
    {
     "name": "stdout",
     "output_type": "stream",
     "text": [
      "Farsite $Rev: 2395 $\n",
      "Number of parallel threads = 4 (omp_get_num_procs = 64).\n",
      "Loading lcp file for Farsite #1: /home/jovyan/farsite/inputs/landscapes/Maria2019.lcp\n",
      "Loading inputs file for Farsite #1: /home/jovyan/data/20230224/Run_04272/config\n",
      "Loading ignition file for Farsite #1: /home/jovyan/data/ignitions/Maria2019E54638a506f9f45f9af154eef5e89f573.shp\n",
      "Loading barrier file for Farsite #1: /home/jovyan/farsite/inputs/barriers/NoBarrier/NoBarrier.shp\n",
      "Launching Farsite #1\n",
      "Starting time step 0.000000 (maximum = 18)\n",
      "Writing outputs for Farsite #1 to /home/jovyan/data/20230224/Run_04272/out\n"
     ]
    },
    {
     "name": "stderr",
     "output_type": "stream",
     "text": [
      "/home/jovyan/farsite-devAPI/src/farsiteutils_v2.py:177: FutureWarning: The frame.append method is deprecated and will be removed from pandas in a future version. Use pandas.concat instead.\n",
      "  self.gdfsimulation = self.gdfsimulation.append(gdfappend)\n"
     ]
    },
    {
     "name": "stdout",
     "output_type": "stream",
     "text": [
      "Farsite $Rev: 2395 $\n",
      "Number of parallel threads = 4 (omp_get_num_procs = 64).\n",
      "Loading lcp file for Farsite #1: /home/jovyan/farsite/inputs/landscapes/Maria2019.lcp\n",
      "Loading inputs file for Farsite #1: /home/jovyan/data/20230224/Run_04273/config\n",
      "Loading ignition file for Farsite #1: /home/jovyan/data/ignitions/Maria2019Ea3994fdf10974483a826bac3a5c19009.shp\n",
      "Loading barrier file for Farsite #1: /home/jovyan/farsite/inputs/barriers/NoBarrier/NoBarrier.shp\n",
      "Launching Farsite #1\n",
      "Starting time step 0.000000 (maximum = 18)\n",
      "Writing outputs for Farsite #1 to /home/jovyan/data/20230224/Run_04273/out\n"
     ]
    },
    {
     "name": "stderr",
     "output_type": "stream",
     "text": [
      "/home/jovyan/farsite-devAPI/src/farsiteutils_v2.py:177: FutureWarning: The frame.append method is deprecated and will be removed from pandas in a future version. Use pandas.concat instead.\n",
      "  self.gdfsimulation = self.gdfsimulation.append(gdfappend)\n"
     ]
    },
    {
     "name": "stdout",
     "output_type": "stream",
     "text": [
      "Farsite $Rev: 2395 $\n",
      "Number of parallel threads = 4 (omp_get_num_procs = 64).\n",
      "Loading lcp file for Farsite #1: /home/jovyan/farsite/inputs/landscapes/Maria2019.lcp\n",
      "Loading inputs file for Farsite #1: /home/jovyan/data/20230224/Run_04274/config\n",
      "Loading ignition file for Farsite #1: /home/jovyan/data/ignitions/Maria2019E2866a3502c6148e9956e61c73bf2c1d0.shp\n",
      "Loading barrier file for Farsite #1: /home/jovyan/farsite/inputs/barriers/NoBarrier/NoBarrier.shp\n",
      "Launching Farsite #1\n",
      "Starting time step 0.000000 (maximum = 18)\n",
      "Writing outputs for Farsite #1 to /home/jovyan/data/20230224/Run_04274/out\n"
     ]
    },
    {
     "name": "stderr",
     "output_type": "stream",
     "text": [
      "/home/jovyan/farsite-devAPI/src/farsiteutils_v2.py:177: FutureWarning: The frame.append method is deprecated and will be removed from pandas in a future version. Use pandas.concat instead.\n",
      "  self.gdfsimulation = self.gdfsimulation.append(gdfappend)\n"
     ]
    },
    {
     "name": "stdout",
     "output_type": "stream",
     "text": [
      "Farsite $Rev: 2395 $\n",
      "Number of parallel threads = 4 (omp_get_num_procs = 64).\n",
      "Loading lcp file for Farsite #1: /home/jovyan/farsite/inputs/landscapes/Maria2019.lcp\n",
      "Loading inputs file for Farsite #1: /home/jovyan/data/20230224/Run_04275/config\n",
      "Loading ignition file for Farsite #1: /home/jovyan/data/ignitions/Maria2019Edeb42124bbee4e5ab3532b742cd6c4a5.shp\n",
      "Loading barrier file for Farsite #1: /home/jovyan/farsite/inputs/barriers/NoBarrier/NoBarrier.shp\n",
      "Launching Farsite #1\n",
      "Starting time step 0.000000 (maximum = 18)\n",
      "Writing outputs for Farsite #1 to /home/jovyan/data/20230224/Run_04275/out\n"
     ]
    },
    {
     "name": "stderr",
     "output_type": "stream",
     "text": [
      "/home/jovyan/farsite-devAPI/src/farsiteutils_v2.py:177: FutureWarning: The frame.append method is deprecated and will be removed from pandas in a future version. Use pandas.concat instead.\n",
      "  self.gdfsimulation = self.gdfsimulation.append(gdfappend)\n"
     ]
    },
    {
     "name": "stdout",
     "output_type": "stream",
     "text": [
      "Farsite $Rev: 2395 $\n",
      "Number of parallel threads = 4 (omp_get_num_procs = 64).\n",
      "Loading lcp file for Farsite #1: /home/jovyan/farsite/inputs/landscapes/Maria2019.lcp\n",
      "Loading inputs file for Farsite #1: /home/jovyan/data/20230224/Run_04276/config\n",
      "Loading ignition file for Farsite #1: /home/jovyan/data/ignitions/Maria2019E16385144ed044b42b51decca93cb80bd.shp\n",
      "Loading barrier file for Farsite #1: /home/jovyan/farsite/inputs/barriers/NoBarrier/NoBarrier.shp\n",
      "Launching Farsite #1\n",
      "Starting time step 0.000000 (maximum = 18)\n",
      "Writing outputs for Farsite #1 to /home/jovyan/data/20230224/Run_04276/out\n"
     ]
    },
    {
     "name": "stderr",
     "output_type": "stream",
     "text": [
      "/home/jovyan/farsite-devAPI/src/farsiteutils_v2.py:177: FutureWarning: The frame.append method is deprecated and will be removed from pandas in a future version. Use pandas.concat instead.\n",
      "  self.gdfsimulation = self.gdfsimulation.append(gdfappend)\n"
     ]
    },
    {
     "name": "stdout",
     "output_type": "stream",
     "text": [
      "Farsite $Rev: 2395 $\n",
      "Number of parallel threads = 4 (omp_get_num_procs = 64).\n",
      "Loading lcp file for Farsite #1: /home/jovyan/farsite/inputs/landscapes/Maria2019.lcp\n",
      "Loading inputs file for Farsite #1: /home/jovyan/data/20230224/Run_04277/config\n",
      "Loading ignition file for Farsite #1: /home/jovyan/data/ignitions/Maria2019E43ec44c0633d4665bdf5b8aac4d84cb6.shp\n",
      "Loading barrier file for Farsite #1: /home/jovyan/farsite/inputs/barriers/NoBarrier/NoBarrier.shp\n",
      "Launching Farsite #1\n",
      "Starting time step 0.000000 (maximum = 18)\n",
      "Writing outputs for Farsite #1 to /home/jovyan/data/20230224/Run_04277/out\n"
     ]
    },
    {
     "name": "stderr",
     "output_type": "stream",
     "text": [
      "/home/jovyan/farsite-devAPI/src/farsiteutils_v2.py:177: FutureWarning: The frame.append method is deprecated and will be removed from pandas in a future version. Use pandas.concat instead.\n",
      "  self.gdfsimulation = self.gdfsimulation.append(gdfappend)\n"
     ]
    },
    {
     "name": "stdout",
     "output_type": "stream",
     "text": [
      "Farsite $Rev: 2395 $\n",
      "Number of parallel threads = 4 (omp_get_num_procs = 64).\n",
      "Loading lcp file for Farsite #1: /home/jovyan/farsite/inputs/landscapes/Maria2019.lcp\n",
      "Loading inputs file for Farsite #1: /home/jovyan/data/20230224/Run_04278/config\n",
      "Loading ignition file for Farsite #1: /home/jovyan/data/ignitions/Maria2019E15580954d05e4eda9649dafe25bfe2dc.shp\n",
      "Loading barrier file for Farsite #1: /home/jovyan/farsite/inputs/barriers/NoBarrier/NoBarrier.shp\n",
      "Launching Farsite #1\n",
      "Starting time step 0.000000 (maximum = 18)\n",
      "Writing outputs for Farsite #1 to /home/jovyan/data/20230224/Run_04278/out\n"
     ]
    },
    {
     "name": "stderr",
     "output_type": "stream",
     "text": [
      "/home/jovyan/farsite-devAPI/src/farsiteutils_v2.py:177: FutureWarning: The frame.append method is deprecated and will be removed from pandas in a future version. Use pandas.concat instead.\n",
      "  self.gdfsimulation = self.gdfsimulation.append(gdfappend)\n"
     ]
    },
    {
     "name": "stdout",
     "output_type": "stream",
     "text": [
      "Farsite $Rev: 2395 $\n",
      "Number of parallel threads = 4 (omp_get_num_procs = 64).\n",
      "Loading lcp file for Farsite #1: /home/jovyan/farsite/inputs/landscapes/Maria2019.lcp\n",
      "Loading inputs file for Farsite #1: /home/jovyan/data/20230224/Run_04279/config\n",
      "Loading ignition file for Farsite #1: /home/jovyan/data/ignitions/Maria2019Ef6f1a5439c1145b998e5b7ffaeccbaea.shp\n",
      "Loading barrier file for Farsite #1: /home/jovyan/farsite/inputs/barriers/NoBarrier/NoBarrier.shp\n",
      "Launching Farsite #1\n",
      "Starting time step 0.000000 (maximum = 18)\n",
      "Writing outputs for Farsite #1 to /home/jovyan/data/20230224/Run_04279/out\n"
     ]
    },
    {
     "name": "stderr",
     "output_type": "stream",
     "text": [
      "/home/jovyan/farsite-devAPI/src/farsiteutils_v2.py:177: FutureWarning: The frame.append method is deprecated and will be removed from pandas in a future version. Use pandas.concat instead.\n",
      "  self.gdfsimulation = self.gdfsimulation.append(gdfappend)\n"
     ]
    },
    {
     "name": "stdout",
     "output_type": "stream",
     "text": [
      "Farsite $Rev: 2395 $\n",
      "Number of parallel threads = 4 (omp_get_num_procs = 64).\n",
      "Loading lcp file for Farsite #1: /home/jovyan/farsite/inputs/landscapes/Maria2019.lcp\n",
      "Loading inputs file for Farsite #1: /home/jovyan/data/20230224/Run_04280/config\n",
      "Loading ignition file for Farsite #1: /home/jovyan/data/ignitions/Maria2019Ef76ac1716eab42b592bd2828a9b8d540.shp\n",
      "Loading barrier file for Farsite #1: /home/jovyan/farsite/inputs/barriers/NoBarrier/NoBarrier.shp\n",
      "Launching Farsite #1\n",
      "Starting time step 0.000000 (maximum = 18)\n",
      "Writing outputs for Farsite #1 to /home/jovyan/data/20230224/Run_04280/out\n"
     ]
    },
    {
     "name": "stderr",
     "output_type": "stream",
     "text": [
      "/home/jovyan/farsite-devAPI/src/farsiteutils_v2.py:177: FutureWarning: The frame.append method is deprecated and will be removed from pandas in a future version. Use pandas.concat instead.\n",
      "  self.gdfsimulation = self.gdfsimulation.append(gdfappend)\n"
     ]
    },
    {
     "name": "stdout",
     "output_type": "stream",
     "text": [
      "Farsite $Rev: 2395 $\n",
      "Number of parallel threads = 4 (omp_get_num_procs = 64).\n",
      "Loading lcp file for Farsite #1: /home/jovyan/farsite/inputs/landscapes/Maria2019.lcp\n",
      "Loading inputs file for Farsite #1: /home/jovyan/data/20230224/Run_04281/config\n",
      "Loading ignition file for Farsite #1: /home/jovyan/data/ignitions/Maria2019E39024c98da484504af73a0a5c616ae22.shp\n",
      "Loading barrier file for Farsite #1: /home/jovyan/farsite/inputs/barriers/NoBarrier/NoBarrier.shp\n",
      "Launching Farsite #1\n",
      "Starting time step 0.000000 (maximum = 18)\n",
      "Writing outputs for Farsite #1 to /home/jovyan/data/20230224/Run_04281/out\n"
     ]
    },
    {
     "name": "stderr",
     "output_type": "stream",
     "text": [
      "/home/jovyan/farsite-devAPI/src/farsiteutils_v2.py:177: FutureWarning: The frame.append method is deprecated and will be removed from pandas in a future version. Use pandas.concat instead.\n",
      "  self.gdfsimulation = self.gdfsimulation.append(gdfappend)\n"
     ]
    },
    {
     "name": "stdout",
     "output_type": "stream",
     "text": [
      "Farsite $Rev: 2395 $\n",
      "Number of parallel threads = 4 (omp_get_num_procs = 64).\n",
      "Loading lcp file for Farsite #1: /home/jovyan/farsite/inputs/landscapes/Maria2019.lcp\n",
      "Loading inputs file for Farsite #1: /home/jovyan/data/20230224/Run_04282/config\n",
      "Loading ignition file for Farsite #1: /home/jovyan/data/ignitions/Maria2019E13170327d33441eeb8fd2216f0768c29.shp\n",
      "Loading barrier file for Farsite #1: /home/jovyan/farsite/inputs/barriers/NoBarrier/NoBarrier.shp\n",
      "Launching Farsite #1\n",
      "Starting time step 0.000000 (maximum = 18)\n",
      "Writing outputs for Farsite #1 to /home/jovyan/data/20230224/Run_04282/out\n"
     ]
    },
    {
     "name": "stderr",
     "output_type": "stream",
     "text": [
      "/home/jovyan/farsite-devAPI/src/farsiteutils_v2.py:177: FutureWarning: The frame.append method is deprecated and will be removed from pandas in a future version. Use pandas.concat instead.\n",
      "  self.gdfsimulation = self.gdfsimulation.append(gdfappend)\n"
     ]
    },
    {
     "name": "stdout",
     "output_type": "stream",
     "text": [
      "Farsite $Rev: 2395 $\n",
      "Number of parallel threads = 4 (omp_get_num_procs = 64).\n",
      "Loading lcp file for Farsite #1: /home/jovyan/farsite/inputs/landscapes/Maria2019.lcp\n",
      "Loading inputs file for Farsite #1: /home/jovyan/data/20230224/Run_04283/config\n",
      "Loading ignition file for Farsite #1: /home/jovyan/data/ignitions/Maria2019E719b9429d8cb4509844fa194fe28f9f3.shp\n",
      "Loading barrier file for Farsite #1: /home/jovyan/farsite/inputs/barriers/NoBarrier/NoBarrier.shp\n",
      "Launching Farsite #1\n",
      "Starting time step 0.000000 (maximum = 18)\n",
      "Writing outputs for Farsite #1 to /home/jovyan/data/20230224/Run_04283/out\n"
     ]
    },
    {
     "name": "stderr",
     "output_type": "stream",
     "text": [
      "/home/jovyan/farsite-devAPI/src/farsiteutils_v2.py:177: FutureWarning: The frame.append method is deprecated and will be removed from pandas in a future version. Use pandas.concat instead.\n",
      "  self.gdfsimulation = self.gdfsimulation.append(gdfappend)\n"
     ]
    },
    {
     "name": "stdout",
     "output_type": "stream",
     "text": [
      "Farsite $Rev: 2395 $\n",
      "Number of parallel threads = 4 (omp_get_num_procs = 64).\n",
      "Loading lcp file for Farsite #1: /home/jovyan/farsite/inputs/landscapes/Maria2019.lcp\n",
      "Loading inputs file for Farsite #1: /home/jovyan/data/20230224/Run_04284/config\n",
      "Loading ignition file for Farsite #1: /home/jovyan/data/ignitions/Maria2019Ed616edec9ddf46eea56d0302088fcdf4.shp\n",
      "Loading barrier file for Farsite #1: /home/jovyan/farsite/inputs/barriers/NoBarrier/NoBarrier.shp\n",
      "Launching Farsite #1\n",
      "Starting time step 0.000000 (maximum = 18)\n",
      "Writing outputs for Farsite #1 to /home/jovyan/data/20230224/Run_04284/out\n"
     ]
    },
    {
     "name": "stderr",
     "output_type": "stream",
     "text": [
      "/home/jovyan/farsite-devAPI/src/farsiteutils_v2.py:177: FutureWarning: The frame.append method is deprecated and will be removed from pandas in a future version. Use pandas.concat instead.\n",
      "  self.gdfsimulation = self.gdfsimulation.append(gdfappend)\n"
     ]
    },
    {
     "name": "stdout",
     "output_type": "stream",
     "text": [
      "Farsite $Rev: 2395 $\n",
      "Number of parallel threads = 4 (omp_get_num_procs = 64).\n",
      "Loading lcp file for Farsite #1: /home/jovyan/farsite/inputs/landscapes/Maria2019.lcp\n",
      "Loading inputs file for Farsite #1: /home/jovyan/data/20230224/Run_04285/config\n",
      "Loading ignition file for Farsite #1: /home/jovyan/data/ignitions/Maria2019E14499c7678f845bd82f5619ff34e6509.shp\n",
      "Loading barrier file for Farsite #1: /home/jovyan/farsite/inputs/barriers/NoBarrier/NoBarrier.shp\n",
      "Launching Farsite #1\n",
      "Starting time step 0.000000 (maximum = 18)\n",
      "Writing outputs for Farsite #1 to /home/jovyan/data/20230224/Run_04285/out\n"
     ]
    },
    {
     "name": "stderr",
     "output_type": "stream",
     "text": [
      "/home/jovyan/farsite-devAPI/src/farsiteutils_v2.py:177: FutureWarning: The frame.append method is deprecated and will be removed from pandas in a future version. Use pandas.concat instead.\n",
      "  self.gdfsimulation = self.gdfsimulation.append(gdfappend)\n"
     ]
    },
    {
     "name": "stdout",
     "output_type": "stream",
     "text": [
      "Farsite $Rev: 2395 $\n",
      "Number of parallel threads = 4 (omp_get_num_procs = 64).\n",
      "Loading lcp file for Farsite #1: /home/jovyan/farsite/inputs/landscapes/Maria2019.lcp\n",
      "Loading inputs file for Farsite #1: /home/jovyan/data/20230224/Run_04286/config\n",
      "Loading ignition file for Farsite #1: /home/jovyan/data/ignitions/Maria2019E459c6bc4a9e3430aaffb3b522c74eb6b.shp\n",
      "Loading barrier file for Farsite #1: /home/jovyan/farsite/inputs/barriers/NoBarrier/NoBarrier.shp\n",
      "Launching Farsite #1\n",
      "Starting time step 0.000000 (maximum = 18)\n",
      "Writing outputs for Farsite #1 to /home/jovyan/data/20230224/Run_04286/out\n"
     ]
    },
    {
     "name": "stderr",
     "output_type": "stream",
     "text": [
      "/home/jovyan/farsite-devAPI/src/farsiteutils_v2.py:177: FutureWarning: The frame.append method is deprecated and will be removed from pandas in a future version. Use pandas.concat instead.\n",
      "  self.gdfsimulation = self.gdfsimulation.append(gdfappend)\n"
     ]
    },
    {
     "name": "stdout",
     "output_type": "stream",
     "text": [
      "Farsite $Rev: 2395 $\n",
      "Number of parallel threads = 4 (omp_get_num_procs = 64).\n",
      "Loading lcp file for Farsite #1: /home/jovyan/farsite/inputs/landscapes/Maria2019.lcp\n",
      "Loading inputs file for Farsite #1: /home/jovyan/data/20230224/Run_04287/config\n",
      "Loading ignition file for Farsite #1: /home/jovyan/data/ignitions/Maria2019E75609a0dfb7b491cb420f23239ea32f7.shp\n",
      "Loading barrier file for Farsite #1: /home/jovyan/farsite/inputs/barriers/NoBarrier/NoBarrier.shp\n",
      "Launching Farsite #1\n",
      "Starting time step 0.000000 (maximum = 18)\n",
      "Writing outputs for Farsite #1 to /home/jovyan/data/20230224/Run_04287/out\n"
     ]
    },
    {
     "name": "stderr",
     "output_type": "stream",
     "text": [
      "/home/jovyan/farsite-devAPI/src/farsiteutils_v2.py:177: FutureWarning: The frame.append method is deprecated and will be removed from pandas in a future version. Use pandas.concat instead.\n",
      "  self.gdfsimulation = self.gdfsimulation.append(gdfappend)\n"
     ]
    },
    {
     "name": "stdout",
     "output_type": "stream",
     "text": [
      "Farsite $Rev: 2395 $\n",
      "Number of parallel threads = 4 (omp_get_num_procs = 64).\n",
      "Loading lcp file for Farsite #1: /home/jovyan/farsite/inputs/landscapes/Maria2019.lcp\n",
      "Loading inputs file for Farsite #1: /home/jovyan/data/20230224/Run_04288/config\n",
      "Loading ignition file for Farsite #1: /home/jovyan/data/ignitions/Maria2019Ed38223caebcc4abf9444fa8b214f08a2.shp\n",
      "Loading barrier file for Farsite #1: /home/jovyan/farsite/inputs/barriers/NoBarrier/NoBarrier.shp\n",
      "Launching Farsite #1\n",
      "Starting time step 0.000000 (maximum = 18)\n",
      "Writing outputs for Farsite #1 to /home/jovyan/data/20230224/Run_04288/out\n"
     ]
    },
    {
     "name": "stderr",
     "output_type": "stream",
     "text": [
      "/home/jovyan/farsite-devAPI/src/farsiteutils_v2.py:177: FutureWarning: The frame.append method is deprecated and will be removed from pandas in a future version. Use pandas.concat instead.\n",
      "  self.gdfsimulation = self.gdfsimulation.append(gdfappend)\n"
     ]
    },
    {
     "name": "stdout",
     "output_type": "stream",
     "text": [
      "Farsite $Rev: 2395 $\n",
      "Number of parallel threads = 4 (omp_get_num_procs = 64).\n",
      "Loading lcp file for Farsite #1: /home/jovyan/farsite/inputs/landscapes/Maria2019.lcp\n",
      "Loading inputs file for Farsite #1: /home/jovyan/data/20230224/Run_04289/config\n",
      "Loading ignition file for Farsite #1: /home/jovyan/data/ignitions/Maria2019E8d89103c3dda4d76a8ac34c99ebf6278.shp\n",
      "Loading barrier file for Farsite #1: /home/jovyan/farsite/inputs/barriers/NoBarrier/NoBarrier.shp\n",
      "Launching Farsite #1\n",
      "Starting time step 0.000000 (maximum = 18)\n",
      "Writing outputs for Farsite #1 to /home/jovyan/data/20230224/Run_04289/out\n"
     ]
    },
    {
     "name": "stderr",
     "output_type": "stream",
     "text": [
      "/home/jovyan/farsite-devAPI/src/farsiteutils_v2.py:177: FutureWarning: The frame.append method is deprecated and will be removed from pandas in a future version. Use pandas.concat instead.\n",
      "  self.gdfsimulation = self.gdfsimulation.append(gdfappend)\n"
     ]
    },
    {
     "name": "stdout",
     "output_type": "stream",
     "text": [
      "Farsite $Rev: 2395 $\n",
      "Number of parallel threads = 4 (omp_get_num_procs = 64).\n",
      "Loading lcp file for Farsite #1: /home/jovyan/farsite/inputs/landscapes/Maria2019.lcp\n",
      "Loading inputs file for Farsite #1: /home/jovyan/data/20230224/Run_04290/config\n",
      "Loading ignition file for Farsite #1: /home/jovyan/data/ignitions/Maria2019Eaa59bd85eb16414d8e9eea08bd16c014.shp\n",
      "Loading barrier file for Farsite #1: /home/jovyan/farsite/inputs/barriers/NoBarrier/NoBarrier.shp\n",
      "Launching Farsite #1\n",
      "Starting time step 0.000000 (maximum = 18)\n",
      "Writing outputs for Farsite #1 to /home/jovyan/data/20230224/Run_04290/out\n"
     ]
    },
    {
     "name": "stderr",
     "output_type": "stream",
     "text": [
      "/home/jovyan/farsite-devAPI/src/farsiteutils_v2.py:177: FutureWarning: The frame.append method is deprecated and will be removed from pandas in a future version. Use pandas.concat instead.\n",
      "  self.gdfsimulation = self.gdfsimulation.append(gdfappend)\n"
     ]
    },
    {
     "name": "stdout",
     "output_type": "stream",
     "text": [
      "Farsite $Rev: 2395 $\n",
      "Number of parallel threads = 4 (omp_get_num_procs = 64).\n",
      "Loading lcp file for Farsite #1: /home/jovyan/farsite/inputs/landscapes/Maria2019.lcp\n",
      "Loading inputs file for Farsite #1: /home/jovyan/data/20230224/Run_04291/config\n",
      "Loading ignition file for Farsite #1: /home/jovyan/data/ignitions/Maria2019E12977ff810c64b9797bb1e2e26bdf25c.shp\n",
      "Loading barrier file for Farsite #1: /home/jovyan/farsite/inputs/barriers/NoBarrier/NoBarrier.shp\n",
      "Launching Farsite #1\n",
      "Starting time step 0.000000 (maximum = 18)\n",
      "Writing outputs for Farsite #1 to /home/jovyan/data/20230224/Run_04291/out\n"
     ]
    },
    {
     "name": "stderr",
     "output_type": "stream",
     "text": [
      "/home/jovyan/farsite-devAPI/src/farsiteutils_v2.py:177: FutureWarning: The frame.append method is deprecated and will be removed from pandas in a future version. Use pandas.concat instead.\n",
      "  self.gdfsimulation = self.gdfsimulation.append(gdfappend)\n"
     ]
    },
    {
     "name": "stdout",
     "output_type": "stream",
     "text": [
      "Farsite $Rev: 2395 $\n",
      "Number of parallel threads = 4 (omp_get_num_procs = 64).\n",
      "Loading lcp file for Farsite #1: /home/jovyan/farsite/inputs/landscapes/Maria2019.lcp\n",
      "Loading inputs file for Farsite #1: /home/jovyan/data/20230224/Run_04292/config\n",
      "Loading ignition file for Farsite #1: /home/jovyan/data/ignitions/Maria2019Eaf72a1f705394d69a1e9dda72ce30a84.shp\n",
      "Loading barrier file for Farsite #1: /home/jovyan/farsite/inputs/barriers/NoBarrier/NoBarrier.shp\n",
      "Launching Farsite #1\n",
      "Starting time step 0.000000 (maximum = 18)\n",
      "Writing outputs for Farsite #1 to /home/jovyan/data/20230224/Run_04292/out\n"
     ]
    },
    {
     "name": "stderr",
     "output_type": "stream",
     "text": [
      "/home/jovyan/farsite-devAPI/src/farsiteutils_v2.py:177: FutureWarning: The frame.append method is deprecated and will be removed from pandas in a future version. Use pandas.concat instead.\n",
      "  self.gdfsimulation = self.gdfsimulation.append(gdfappend)\n"
     ]
    },
    {
     "name": "stdout",
     "output_type": "stream",
     "text": [
      "Farsite $Rev: 2395 $\n",
      "Number of parallel threads = 4 (omp_get_num_procs = 64).\n",
      "Loading lcp file for Farsite #1: /home/jovyan/farsite/inputs/landscapes/Maria2019.lcp\n",
      "Loading inputs file for Farsite #1: /home/jovyan/data/20230224/Run_04293/config\n",
      "Loading ignition file for Farsite #1: /home/jovyan/data/ignitions/Maria2019Ef00611b939834647986f6b85f92268a4.shp\n",
      "Loading barrier file for Farsite #1: /home/jovyan/farsite/inputs/barriers/NoBarrier/NoBarrier.shp\n",
      "Launching Farsite #1\n",
      "Starting time step 0.000000 (maximum = 18)\n",
      "Writing outputs for Farsite #1 to /home/jovyan/data/20230224/Run_04293/out\n"
     ]
    },
    {
     "name": "stderr",
     "output_type": "stream",
     "text": [
      "/home/jovyan/farsite-devAPI/src/farsiteutils_v2.py:177: FutureWarning: The frame.append method is deprecated and will be removed from pandas in a future version. Use pandas.concat instead.\n",
      "  self.gdfsimulation = self.gdfsimulation.append(gdfappend)\n"
     ]
    },
    {
     "name": "stdout",
     "output_type": "stream",
     "text": [
      "Farsite $Rev: 2395 $\n",
      "Number of parallel threads = 4 (omp_get_num_procs = 64).\n",
      "Loading lcp file for Farsite #1: /home/jovyan/farsite/inputs/landscapes/Maria2019.lcp\n",
      "Loading inputs file for Farsite #1: /home/jovyan/data/20230224/Run_04294/config\n",
      "Loading ignition file for Farsite #1: /home/jovyan/data/ignitions/Maria2019Ed0164e63e14d4629a8c519beb2d6b475.shp\n",
      "Loading barrier file for Farsite #1: /home/jovyan/farsite/inputs/barriers/NoBarrier/NoBarrier.shp\n",
      "Launching Farsite #1\n",
      "Starting time step 0.000000 (maximum = 18)\n",
      "Writing outputs for Farsite #1 to /home/jovyan/data/20230224/Run_04294/out\n"
     ]
    },
    {
     "name": "stderr",
     "output_type": "stream",
     "text": [
      "/home/jovyan/farsite-devAPI/src/farsiteutils_v2.py:177: FutureWarning: The frame.append method is deprecated and will be removed from pandas in a future version. Use pandas.concat instead.\n",
      "  self.gdfsimulation = self.gdfsimulation.append(gdfappend)\n"
     ]
    },
    {
     "name": "stdout",
     "output_type": "stream",
     "text": [
      "Farsite $Rev: 2395 $\n",
      "Number of parallel threads = 4 (omp_get_num_procs = 64).\n",
      "Loading lcp file for Farsite #1: /home/jovyan/farsite/inputs/landscapes/Maria2019.lcp\n",
      "Loading inputs file for Farsite #1: /home/jovyan/data/20230224/Run_04295/config\n",
      "Loading ignition file for Farsite #1: /home/jovyan/data/ignitions/Maria2019E98801387ce414dbe9018a0c97f988997.shp\n",
      "Loading barrier file for Farsite #1: /home/jovyan/farsite/inputs/barriers/NoBarrier/NoBarrier.shp\n",
      "Launching Farsite #1\n",
      "Starting time step 0.000000 (maximum = 18)\n",
      "Writing outputs for Farsite #1 to /home/jovyan/data/20230224/Run_04295/out\n"
     ]
    },
    {
     "name": "stderr",
     "output_type": "stream",
     "text": [
      "/home/jovyan/farsite-devAPI/src/farsiteutils_v2.py:177: FutureWarning: The frame.append method is deprecated and will be removed from pandas in a future version. Use pandas.concat instead.\n",
      "  self.gdfsimulation = self.gdfsimulation.append(gdfappend)\n"
     ]
    },
    {
     "name": "stdout",
     "output_type": "stream",
     "text": [
      "Farsite $Rev: 2395 $\n",
      "Number of parallel threads = 4 (omp_get_num_procs = 64).\n",
      "Loading lcp file for Farsite #1: /home/jovyan/farsite/inputs/landscapes/Maria2019.lcp\n",
      "Loading inputs file for Farsite #1: /home/jovyan/data/20230224/Run_04296/config\n",
      "Loading ignition file for Farsite #1: /home/jovyan/data/ignitions/Maria2019E045edeb9a83d480a804c136f08fc538a.shp\n",
      "Loading barrier file for Farsite #1: /home/jovyan/farsite/inputs/barriers/NoBarrier/NoBarrier.shp\n",
      "Launching Farsite #1\n",
      "Starting time step 0.000000 (maximum = 18)\n",
      "Writing outputs for Farsite #1 to /home/jovyan/data/20230224/Run_04296/out\n"
     ]
    },
    {
     "name": "stderr",
     "output_type": "stream",
     "text": [
      "/home/jovyan/farsite-devAPI/src/farsiteutils_v2.py:177: FutureWarning: The frame.append method is deprecated and will be removed from pandas in a future version. Use pandas.concat instead.\n",
      "  self.gdfsimulation = self.gdfsimulation.append(gdfappend)\n"
     ]
    },
    {
     "name": "stdout",
     "output_type": "stream",
     "text": [
      "Farsite $Rev: 2395 $\n",
      "Number of parallel threads = 4 (omp_get_num_procs = 64).\n",
      "Loading lcp file for Farsite #1: /home/jovyan/farsite/inputs/landscapes/Maria2019.lcp\n",
      "Loading inputs file for Farsite #1: /home/jovyan/data/20230224/Run_04297/config\n",
      "Loading ignition file for Farsite #1: /home/jovyan/data/ignitions/Maria2019E6087c4b4735c4c84bca74bb5ae8bc10b.shp\n",
      "Loading barrier file for Farsite #1: /home/jovyan/farsite/inputs/barriers/NoBarrier/NoBarrier.shp\n",
      "Launching Farsite #1\n",
      "Starting time step 0.000000 (maximum = 18)\n",
      "Writing outputs for Farsite #1 to /home/jovyan/data/20230224/Run_04297/out\n"
     ]
    },
    {
     "name": "stderr",
     "output_type": "stream",
     "text": [
      "/home/jovyan/farsite-devAPI/src/farsiteutils_v2.py:177: FutureWarning: The frame.append method is deprecated and will be removed from pandas in a future version. Use pandas.concat instead.\n",
      "  self.gdfsimulation = self.gdfsimulation.append(gdfappend)\n"
     ]
    },
    {
     "name": "stdout",
     "output_type": "stream",
     "text": [
      "Farsite $Rev: 2395 $\n",
      "Number of parallel threads = 4 (omp_get_num_procs = 64).\n",
      "Loading lcp file for Farsite #1: /home/jovyan/farsite/inputs/landscapes/Maria2019.lcp\n",
      "Loading inputs file for Farsite #1: /home/jovyan/data/20230224/Run_04298/config\n",
      "Loading ignition file for Farsite #1: /home/jovyan/data/ignitions/Maria2019E69b34c4471ca4a21a8999c595658a7d6.shp\n",
      "Loading barrier file for Farsite #1: /home/jovyan/farsite/inputs/barriers/NoBarrier/NoBarrier.shp\n",
      "Launching Farsite #1\n",
      "Starting time step 0.000000 (maximum = 18)\n",
      "Writing outputs for Farsite #1 to /home/jovyan/data/20230224/Run_04298/out\n"
     ]
    },
    {
     "name": "stderr",
     "output_type": "stream",
     "text": [
      "/home/jovyan/farsite-devAPI/src/farsiteutils_v2.py:177: FutureWarning: The frame.append method is deprecated and will be removed from pandas in a future version. Use pandas.concat instead.\n",
      "  self.gdfsimulation = self.gdfsimulation.append(gdfappend)\n"
     ]
    },
    {
     "name": "stdout",
     "output_type": "stream",
     "text": [
      "Farsite $Rev: 2395 $\n",
      "Number of parallel threads = 4 (omp_get_num_procs = 64).\n",
      "Loading lcp file for Farsite #1: /home/jovyan/farsite/inputs/landscapes/Maria2019.lcp\n",
      "Loading inputs file for Farsite #1: /home/jovyan/data/20230224/Run_04299/config\n",
      "Loading ignition file for Farsite #1: /home/jovyan/data/ignitions/Maria2019E5c7ad6297b1f468591adea8e4c591427.shp\n",
      "Loading barrier file for Farsite #1: /home/jovyan/farsite/inputs/barriers/NoBarrier/NoBarrier.shp\n",
      "Launching Farsite #1\n",
      "Starting time step 0.000000 (maximum = 18)\n",
      "Writing outputs for Farsite #1 to /home/jovyan/data/20230224/Run_04299/out\n"
     ]
    },
    {
     "name": "stderr",
     "output_type": "stream",
     "text": [
      "/home/jovyan/farsite-devAPI/src/farsiteutils_v2.py:177: FutureWarning: The frame.append method is deprecated and will be removed from pandas in a future version. Use pandas.concat instead.\n",
      "  self.gdfsimulation = self.gdfsimulation.append(gdfappend)\n"
     ]
    },
    {
     "name": "stdout",
     "output_type": "stream",
     "text": [
      "Farsite $Rev: 2395 $\n",
      "Number of parallel threads = 4 (omp_get_num_procs = 64).\n",
      "Loading lcp file for Farsite #1: /home/jovyan/farsite/inputs/landscapes/Maria2019.lcp\n",
      "Loading inputs file for Farsite #1: /home/jovyan/data/20230224/Run_04300/config\n",
      "Loading ignition file for Farsite #1: /home/jovyan/data/ignitions/Maria2019E89eaaa1613f04b828ad855597aeba1f8.shp\n",
      "Loading barrier file for Farsite #1: /home/jovyan/farsite/inputs/barriers/NoBarrier/NoBarrier.shp\n",
      "Launching Farsite #1\n",
      "Starting time step 0.000000 (maximum = 18)\n",
      "Writing outputs for Farsite #1 to /home/jovyan/data/20230224/Run_04300/out\n"
     ]
    },
    {
     "name": "stderr",
     "output_type": "stream",
     "text": [
      "/home/jovyan/farsite-devAPI/src/farsiteutils_v2.py:177: FutureWarning: The frame.append method is deprecated and will be removed from pandas in a future version. Use pandas.concat instead.\n",
      "  self.gdfsimulation = self.gdfsimulation.append(gdfappend)\n"
     ]
    },
    {
     "name": "stdout",
     "output_type": "stream",
     "text": [
      "Farsite $Rev: 2395 $\n",
      "Number of parallel threads = 4 (omp_get_num_procs = 64).\n",
      "Loading lcp file for Farsite #1: /home/jovyan/farsite/inputs/landscapes/Maria2019.lcp\n",
      "Loading inputs file for Farsite #1: /home/jovyan/data/20230224/Run_04301/config\n",
      "Loading ignition file for Farsite #1: /home/jovyan/data/ignitions/Maria2019E96de635a5c56427d873725b4bfc0a9e3.shp\n",
      "Loading barrier file for Farsite #1: /home/jovyan/farsite/inputs/barriers/NoBarrier/NoBarrier.shp\n",
      "Launching Farsite #1\n",
      "Starting time step 0.000000 (maximum = 18)\n",
      "Writing outputs for Farsite #1 to /home/jovyan/data/20230224/Run_04301/out\n"
     ]
    },
    {
     "name": "stderr",
     "output_type": "stream",
     "text": [
      "/home/jovyan/farsite-devAPI/src/farsiteutils_v2.py:177: FutureWarning: The frame.append method is deprecated and will be removed from pandas in a future version. Use pandas.concat instead.\n",
      "  self.gdfsimulation = self.gdfsimulation.append(gdfappend)\n"
     ]
    },
    {
     "name": "stdout",
     "output_type": "stream",
     "text": [
      "Farsite $Rev: 2395 $\n",
      "Number of parallel threads = 4 (omp_get_num_procs = 64).\n",
      "Loading lcp file for Farsite #1: /home/jovyan/farsite/inputs/landscapes/Maria2019.lcp\n",
      "Loading inputs file for Farsite #1: /home/jovyan/data/20230224/Run_04302/config\n",
      "Loading ignition file for Farsite #1: /home/jovyan/data/ignitions/Maria2019E07a961bea5ae4d75bf447d2ab530a454.shp\n",
      "Loading barrier file for Farsite #1: /home/jovyan/farsite/inputs/barriers/NoBarrier/NoBarrier.shp\n",
      "Launching Farsite #1\n",
      "Starting time step 0.000000 (maximum = 18)\n",
      "Writing outputs for Farsite #1 to /home/jovyan/data/20230224/Run_04302/out\n"
     ]
    },
    {
     "name": "stderr",
     "output_type": "stream",
     "text": [
      "/home/jovyan/farsite-devAPI/src/farsiteutils_v2.py:177: FutureWarning: The frame.append method is deprecated and will be removed from pandas in a future version. Use pandas.concat instead.\n",
      "  self.gdfsimulation = self.gdfsimulation.append(gdfappend)\n"
     ]
    },
    {
     "name": "stdout",
     "output_type": "stream",
     "text": [
      "Farsite $Rev: 2395 $\n",
      "Number of parallel threads = 4 (omp_get_num_procs = 64).\n",
      "Loading lcp file for Farsite #1: /home/jovyan/farsite/inputs/landscapes/Maria2019.lcp\n",
      "Loading inputs file for Farsite #1: /home/jovyan/data/20230224/Run_04303/config\n",
      "Loading ignition file for Farsite #1: /home/jovyan/data/ignitions/Maria2019E8bb73bdef70149b0bf704fddc0df5e50.shp\n",
      "Loading barrier file for Farsite #1: /home/jovyan/farsite/inputs/barriers/NoBarrier/NoBarrier.shp\n",
      "Launching Farsite #1\n",
      "Starting time step 0.000000 (maximum = 18)\n",
      "Writing outputs for Farsite #1 to /home/jovyan/data/20230224/Run_04303/out\n"
     ]
    },
    {
     "name": "stderr",
     "output_type": "stream",
     "text": [
      "/home/jovyan/farsite-devAPI/src/farsiteutils_v2.py:177: FutureWarning: The frame.append method is deprecated and will be removed from pandas in a future version. Use pandas.concat instead.\n",
      "  self.gdfsimulation = self.gdfsimulation.append(gdfappend)\n"
     ]
    },
    {
     "name": "stdout",
     "output_type": "stream",
     "text": [
      "Farsite $Rev: 2395 $\n",
      "Number of parallel threads = 4 (omp_get_num_procs = 64).\n",
      "Loading lcp file for Farsite #1: /home/jovyan/farsite/inputs/landscapes/Maria2019.lcp\n",
      "Loading inputs file for Farsite #1: /home/jovyan/data/20230224/Run_04304/config\n",
      "Loading ignition file for Farsite #1: /home/jovyan/data/ignitions/Maria2019E8ed14fcc6fba46e08c04cbaeec7924b7.shp\n",
      "Loading barrier file for Farsite #1: /home/jovyan/farsite/inputs/barriers/NoBarrier/NoBarrier.shp\n",
      "Launching Farsite #1\n",
      "Starting time step 0.000000 (maximum = 18)\n",
      "Writing outputs for Farsite #1 to /home/jovyan/data/20230224/Run_04304/out\n"
     ]
    },
    {
     "name": "stderr",
     "output_type": "stream",
     "text": [
      "/home/jovyan/farsite-devAPI/src/farsiteutils_v2.py:177: FutureWarning: The frame.append method is deprecated and will be removed from pandas in a future version. Use pandas.concat instead.\n",
      "  self.gdfsimulation = self.gdfsimulation.append(gdfappend)\n"
     ]
    },
    {
     "name": "stdout",
     "output_type": "stream",
     "text": [
      "Farsite $Rev: 2395 $\n",
      "Number of parallel threads = 4 (omp_get_num_procs = 64).\n",
      "Loading lcp file for Farsite #1: /home/jovyan/farsite/inputs/landscapes/Maria2019.lcp\n",
      "Loading inputs file for Farsite #1: /home/jovyan/data/20230224/Run_04305/config\n",
      "Loading ignition file for Farsite #1: /home/jovyan/data/ignitions/Maria2019E3019fea184f94187822fd15ac8403cff.shp\n",
      "Loading barrier file for Farsite #1: /home/jovyan/farsite/inputs/barriers/NoBarrier/NoBarrier.shp\n",
      "Launching Farsite #1\n",
      "Starting time step 0.000000 (maximum = 18)\n",
      "Writing outputs for Farsite #1 to /home/jovyan/data/20230224/Run_04305/out\n"
     ]
    },
    {
     "name": "stderr",
     "output_type": "stream",
     "text": [
      "/home/jovyan/farsite-devAPI/src/farsiteutils_v2.py:177: FutureWarning: The frame.append method is deprecated and will be removed from pandas in a future version. Use pandas.concat instead.\n",
      "  self.gdfsimulation = self.gdfsimulation.append(gdfappend)\n"
     ]
    },
    {
     "name": "stdout",
     "output_type": "stream",
     "text": [
      "Farsite $Rev: 2395 $\n",
      "Number of parallel threads = 4 (omp_get_num_procs = 64).\n",
      "Loading lcp file for Farsite #1: /home/jovyan/farsite/inputs/landscapes/Maria2019.lcp\n",
      "Loading inputs file for Farsite #1: /home/jovyan/data/20230224/Run_04306/config\n",
      "Loading ignition file for Farsite #1: /home/jovyan/data/ignitions/Maria2019Ef92325d4769842c9aaaaab39e40411ed.shp\n",
      "Loading barrier file for Farsite #1: /home/jovyan/farsite/inputs/barriers/NoBarrier/NoBarrier.shp\n",
      "Launching Farsite #1\n",
      "Starting time step 0.000000 (maximum = 18)\n",
      "Writing outputs for Farsite #1 to /home/jovyan/data/20230224/Run_04306/out\n"
     ]
    },
    {
     "name": "stderr",
     "output_type": "stream",
     "text": [
      "/home/jovyan/farsite-devAPI/src/farsiteutils_v2.py:177: FutureWarning: The frame.append method is deprecated and will be removed from pandas in a future version. Use pandas.concat instead.\n",
      "  self.gdfsimulation = self.gdfsimulation.append(gdfappend)\n"
     ]
    },
    {
     "name": "stdout",
     "output_type": "stream",
     "text": [
      "Farsite $Rev: 2395 $\n",
      "Number of parallel threads = 4 (omp_get_num_procs = 64).\n",
      "Loading lcp file for Farsite #1: /home/jovyan/farsite/inputs/landscapes/Maria2019.lcp\n",
      "Loading inputs file for Farsite #1: /home/jovyan/data/20230224/Run_04307/config\n",
      "Loading ignition file for Farsite #1: /home/jovyan/data/ignitions/Maria2019Ece3c063d9ce4427383b220543cf41301.shp\n",
      "Loading barrier file for Farsite #1: /home/jovyan/farsite/inputs/barriers/NoBarrier/NoBarrier.shp\n",
      "Launching Farsite #1\n",
      "Starting time step 0.000000 (maximum = 18)\n",
      "Writing outputs for Farsite #1 to /home/jovyan/data/20230224/Run_04307/out\n"
     ]
    },
    {
     "name": "stderr",
     "output_type": "stream",
     "text": [
      "/home/jovyan/farsite-devAPI/src/farsiteutils_v2.py:177: FutureWarning: The frame.append method is deprecated and will be removed from pandas in a future version. Use pandas.concat instead.\n",
      "  self.gdfsimulation = self.gdfsimulation.append(gdfappend)\n"
     ]
    },
    {
     "name": "stdout",
     "output_type": "stream",
     "text": [
      "Farsite $Rev: 2395 $\n",
      "Number of parallel threads = 4 (omp_get_num_procs = 64).\n",
      "Loading lcp file for Farsite #1: /home/jovyan/farsite/inputs/landscapes/Maria2019.lcp\n",
      "Loading inputs file for Farsite #1: /home/jovyan/data/20230224/Run_04308/config\n",
      "Loading ignition file for Farsite #1: /home/jovyan/data/ignitions/Maria2019E32924e1f24e84876b2ab912e70f30cf9.shp\n",
      "Loading barrier file for Farsite #1: /home/jovyan/farsite/inputs/barriers/NoBarrier/NoBarrier.shp\n",
      "Launching Farsite #1\n",
      "Starting time step 0.000000 (maximum = 18)\n",
      "Writing outputs for Farsite #1 to /home/jovyan/data/20230224/Run_04308/out\n"
     ]
    },
    {
     "name": "stderr",
     "output_type": "stream",
     "text": [
      "/home/jovyan/farsite-devAPI/src/farsiteutils_v2.py:177: FutureWarning: The frame.append method is deprecated and will be removed from pandas in a future version. Use pandas.concat instead.\n",
      "  self.gdfsimulation = self.gdfsimulation.append(gdfappend)\n"
     ]
    },
    {
     "name": "stdout",
     "output_type": "stream",
     "text": [
      "Farsite $Rev: 2395 $\n",
      "Number of parallel threads = 4 (omp_get_num_procs = 64).\n",
      "Loading lcp file for Farsite #1: /home/jovyan/farsite/inputs/landscapes/Maria2019.lcp\n",
      "Loading inputs file for Farsite #1: /home/jovyan/data/20230224/Run_04309/config\n",
      "Loading ignition file for Farsite #1: /home/jovyan/data/ignitions/Maria2019Ec9b8779df9ed44389270464c7ff4c78c.shp\n",
      "Loading barrier file for Farsite #1: /home/jovyan/farsite/inputs/barriers/NoBarrier/NoBarrier.shp\n",
      "Launching Farsite #1\n",
      "Starting time step 0.000000 (maximum = 18)\n",
      "Writing outputs for Farsite #1 to /home/jovyan/data/20230224/Run_04309/out\n"
     ]
    },
    {
     "name": "stderr",
     "output_type": "stream",
     "text": [
      "/home/jovyan/farsite-devAPI/src/farsiteutils_v2.py:177: FutureWarning: The frame.append method is deprecated and will be removed from pandas in a future version. Use pandas.concat instead.\n",
      "  self.gdfsimulation = self.gdfsimulation.append(gdfappend)\n"
     ]
    },
    {
     "name": "stdout",
     "output_type": "stream",
     "text": [
      "Farsite $Rev: 2395 $\n",
      "Number of parallel threads = 4 (omp_get_num_procs = 64).\n",
      "Loading lcp file for Farsite #1: /home/jovyan/farsite/inputs/landscapes/Maria2019.lcp\n",
      "Loading inputs file for Farsite #1: /home/jovyan/data/20230224/Run_04310/config\n",
      "Loading ignition file for Farsite #1: /home/jovyan/data/ignitions/Maria2019Ed18ae21a896b46b6ba2a978c3b8c1995.shp\n",
      "Loading barrier file for Farsite #1: /home/jovyan/farsite/inputs/barriers/NoBarrier/NoBarrier.shp\n",
      "Launching Farsite #1\n",
      "Starting time step 0.000000 (maximum = 18)\n",
      "Writing outputs for Farsite #1 to /home/jovyan/data/20230224/Run_04310/out\n"
     ]
    },
    {
     "name": "stderr",
     "output_type": "stream",
     "text": [
      "/home/jovyan/farsite-devAPI/src/farsiteutils_v2.py:177: FutureWarning: The frame.append method is deprecated and will be removed from pandas in a future version. Use pandas.concat instead.\n",
      "  self.gdfsimulation = self.gdfsimulation.append(gdfappend)\n"
     ]
    },
    {
     "name": "stdout",
     "output_type": "stream",
     "text": [
      "Farsite $Rev: 2395 $\n",
      "Number of parallel threads = 4 (omp_get_num_procs = 64).\n",
      "Loading lcp file for Farsite #1: /home/jovyan/farsite/inputs/landscapes/Maria2019.lcp\n",
      "Loading inputs file for Farsite #1: /home/jovyan/data/20230224/Run_04311/config\n",
      "Loading ignition file for Farsite #1: /home/jovyan/data/ignitions/Maria2019Eb2e5bbb6c20044c39d210fe3d64af0bc.shp\n",
      "Loading barrier file for Farsite #1: /home/jovyan/farsite/inputs/barriers/NoBarrier/NoBarrier.shp\n",
      "Launching Farsite #1\n",
      "Starting time step 0.000000 (maximum = 18)\n",
      "Writing outputs for Farsite #1 to /home/jovyan/data/20230224/Run_04311/out\n"
     ]
    },
    {
     "name": "stderr",
     "output_type": "stream",
     "text": [
      "/home/jovyan/farsite-devAPI/src/farsiteutils_v2.py:177: FutureWarning: The frame.append method is deprecated and will be removed from pandas in a future version. Use pandas.concat instead.\n",
      "  self.gdfsimulation = self.gdfsimulation.append(gdfappend)\n"
     ]
    },
    {
     "name": "stdout",
     "output_type": "stream",
     "text": [
      "Farsite $Rev: 2395 $\n",
      "Number of parallel threads = 4 (omp_get_num_procs = 64).\n",
      "Loading lcp file for Farsite #1: /home/jovyan/farsite/inputs/landscapes/Maria2019.lcp\n",
      "Loading inputs file for Farsite #1: /home/jovyan/data/20230224/Run_04312/config\n",
      "Loading ignition file for Farsite #1: /home/jovyan/data/ignitions/Maria2019Ef07ae4a974314ff7970a7b33dfb196f5.shp\n",
      "Loading barrier file for Farsite #1: /home/jovyan/farsite/inputs/barriers/NoBarrier/NoBarrier.shp\n",
      "Launching Farsite #1\n",
      "Starting time step 0.000000 (maximum = 18)\n",
      "Writing outputs for Farsite #1 to /home/jovyan/data/20230224/Run_04312/out\n"
     ]
    },
    {
     "name": "stderr",
     "output_type": "stream",
     "text": [
      "/home/jovyan/farsite-devAPI/src/farsiteutils_v2.py:177: FutureWarning: The frame.append method is deprecated and will be removed from pandas in a future version. Use pandas.concat instead.\n",
      "  self.gdfsimulation = self.gdfsimulation.append(gdfappend)\n"
     ]
    },
    {
     "name": "stdout",
     "output_type": "stream",
     "text": [
      "Farsite $Rev: 2395 $\n",
      "Number of parallel threads = 4 (omp_get_num_procs = 64).\n",
      "Loading lcp file for Farsite #1: /home/jovyan/farsite/inputs/landscapes/Maria2019.lcp\n",
      "Loading inputs file for Farsite #1: /home/jovyan/data/20230224/Run_04313/config\n",
      "Loading ignition file for Farsite #1: /home/jovyan/data/ignitions/Maria2019Eab081ebd02424fc8beb1faa5d4b27f72.shp\n",
      "Loading barrier file for Farsite #1: /home/jovyan/farsite/inputs/barriers/NoBarrier/NoBarrier.shp\n",
      "Launching Farsite #1\n",
      "Starting time step 0.000000 (maximum = 18)\n",
      "Writing outputs for Farsite #1 to /home/jovyan/data/20230224/Run_04313/out\n",
      "Calculating 9/250 ( 3.60%) - Remaining - 0:0:2...   \r"
     ]
    },
    {
     "name": "stderr",
     "output_type": "stream",
     "text": [
      "/home/jovyan/farsite-devAPI/src/farsiteutils_v2.py:177: FutureWarning: The frame.append method is deprecated and will be removed from pandas in a future version. Use pandas.concat instead.\n",
      "  self.gdfsimulation = self.gdfsimulation.append(gdfappend)\n"
     ]
    },
    {
     "name": "stdout",
     "output_type": "stream",
     "text": [
      "{'description': 'Maria2019', 'igniteidx': 'f23196b034474744bdca7df94b13e0f7', 'compareidx': '51fdaebe31f44ad69272779a3f01182d', 'lcpidx': '43b7f5db36994599861eec4849cc68fd', 'barrieridx': 'cb47616cd2dc4ccc8fd523bd3a5064bb', 'windspeed': 10, 'winddirection': 60, 'relhumid': 90, 'temperature': 20}\n",
      "Choosing a perimeter from the database\n",
      "Farsite $Rev: 2395 $\n",
      "Number of parallel threads = 4 (omp_get_num_procs = 64).\n",
      "Loading lcp file for Farsite #1: /home/jovyan/farsite/inputs/landscapes/Maria2019.lcp\n",
      "Loading inputs file for Farsite #1: /home/jovyan/data/20230224/Run_04314/config\n",
      "Loading ignition file for Farsite #1: /home/jovyan/farsite/inputs/maria_ignite/maria_21231.shp\n",
      "Loading barrier file for Farsite #1: /home/jovyan/farsite/inputs/barriers/NoBarrier/NoBarrier.shp\n",
      "Launching Farsite #1\n",
      "Starting time step 0.000000 (maximum = 18)\n",
      "Writing outputs for Farsite #1 to /home/jovyan/data/20230224/Run_04314/out\n"
     ]
    },
    {
     "name": "stderr",
     "output_type": "stream",
     "text": [
      "/home/jovyan/farsite-devAPI/src/farsiteutils_v2.py:177: FutureWarning: The frame.append method is deprecated and will be removed from pandas in a future version. Use pandas.concat instead.\n",
      "  self.gdfsimulation = self.gdfsimulation.append(gdfappend)\n"
     ]
    }
   ],
   "source": [
    "## obtain the igniteidx of the ignition\n",
    "## The indices will be passed from the interface, which will include corresponding datetime, filepath etc.\n",
    "lcpidx = '43b7f5db36994599861eec4849cc68fd'        # Index for Maria2019\n",
    "barrieridx = 'cb47616cd2dc4ccc8fd523bd3a5064bb'    # NoBarrier shapefile index\n",
    "\n",
    "# observation = usr.db.gdfignition.iloc[1]\n",
    "observation = usr.db.gdfignition.loc[referenceidx_lst[1]]\n",
    "compareidx = observation.name    # t=1 observation\n",
    "\n",
    "state.update(compareidx, lcpidx, barrieridx, observation, windspeed, winddirection)\n",
    "X_0_lst.append(state.X_0)\n",
    "\n",
    "calculate_model(igniteidx_lst, compareidx, lcpidx, barrieridx, windspeed, winddirection, usr_model)"
   ]
  },
  {
   "cell_type": "code",
   "execution_count": null,
   "id": "b6aa093c-e164-42e7-9c65-e4acbeebeb38",
   "metadata": {},
   "outputs": [],
   "source": []
  },
  {
   "cell_type": "code",
   "execution_count": null,
   "id": "0d35b9d6-787b-4330-acab-e4a566f1bf15",
   "metadata": {},
   "outputs": [],
   "source": [
    "state.X_0"
   ]
  },
  {
   "cell_type": "code",
   "execution_count": null,
   "id": "a9bddda3-cf64-4fb4-aeeb-7fbcdc46eda7",
   "metadata": {},
   "outputs": [],
   "source": [
    "# fig, ax = plt.subplots(1,1, figsize=(4,4), dpi=200)\n",
    "# plot_matrix(X_0_lst[0], ax=ax, color='red', show_stdev=True)\n",
    "# ax.set_aspect('equal')\n",
    "\n",
    "plt.plot(X_0_lst[0][::2, 0], X_0_lst[0][1::2, 0])\n",
    "plt.plot(X_0_lst[0][50, 0], X_0_lst[0][51, 0], 'ro')\n",
    "\n",
    "plt.plot(X_0_lst[0][::2, 50], X_0_lst[0][1::2, 50])\n",
    "plt.plot(X_0_lst[0][50, 50], X_0_lst[0][51, 50], 'ko')"
   ]
  },
  {
   "cell_type": "code",
   "execution_count": 69,
   "id": "634c1b1e-b633-4744-b30d-839a2456adee",
   "metadata": {},
   "outputs": [
    {
     "data": {
      "image/png": "[encoded data removed]",
      "text/plain": [
       "<Figure size 800x800 with 1 Axes>"
      ]
     },
     "metadata": {},
     "output_type": "display_data"
    }
   ],
   "source": [
    "# # fig, ax = plt.subplots(1,1, figsize=(4,4), dpi=200)\n",
    "# # # plot_matrix(X_0_lst[0], ax=ax, color='red', ls='-')\n",
    "# # plot_matrix(X_0_lst[1], ax=ax, show_stdev=True, color='blue', ls='--')\n",
    "# # ax.set_aspect('equal')\n",
    "# k = 1\n",
    "# fig, ax = plt.subplots(1,1, figsize=(4,4), dpi=200)\n",
    "# for i in [0,5,10,15,20,25,50]:\n",
    "#     ax.plot(X_0_lst[k][::2, i], X_0_lst[k][1::2, i])\n",
    "\n",
    "fig, ax = plt.subplots(1,1, figsize=(4,4), dpi=200)\n",
    "plot_matrix(state.Xt_1, ax=ax, color='red', show_stdev=True)\n",
    "# plot_matrix(X_0_lst[0], ax=ax, color='black', show_stdev=True)\n",
    "plot_matrix(state.Y_1, ax=ax, color='blue', show_stdev=True)\n",
    "plot_matrix(state.X_1, ax=ax, color='black', show_stdev=True)\n",
    "\n",
    "\n",
    "ax.set_aspect('equal')"
   ]
  },
  {
   "cell_type": "code",
   "execution_count": null,
   "id": "8471ce03-e73c-427b-93b4-6948c1505f8d",
   "metadata": {
    "scrolled": true,
    "tags": []
   },
   "outputs": [],
   "source": [
    "%%time\n",
    "\n",
    "calc_range = range(2,10)\n",
    "time_estimator = TimeEstimator(len(calc_range))\n",
    "for i in calc_range:\n",
    "    print(time_estimator.info_str(i))\n",
    "    observation = usr.db.gdfignition.iloc[i]\n",
    "    compareidx = observation.name    # t=1 observation\n",
    "\n",
    "    state.update(compareidx, lcpidx, barrieridx, observation, windspeed, winddirection)\n",
    "    X_0_lst.append(state.X_0)\n",
    "\n",
    "    calculate_model(igniteidx_lst, compareidx, lcpidx, barrieridx, windspeed, winddirection, usr_model)\n",
    "    \n",
    "igniteidx_lst_model = igniteidx_lst.copy()"
   ]
  },
  {
   "cell_type": "code",
   "execution_count": null,
   "id": "961979dc-74b4-4f4c-8b87-80b826a724a3",
   "metadata": {},
   "outputs": [],
   "source": [
    "# import geopandas as gpd\n",
    "\n",
    "# gdf = gpd.read_file('/home/jovyan/data/ignitions/Maria2019U0081_f5421b23173641e18b5d780c6d528798.shp')\n",
    "# gdf['geometry'][0]"
   ]
  },
  {
   "cell_type": "code",
   "execution_count": null,
   "id": "387a1474-cf25-4198-b8f4-9c6c0c97ef3b",
   "metadata": {},
   "outputs": [],
   "source": []
  },
  {
   "cell_type": "code",
   "execution_count": null,
   "id": "1da16e4c-7441-4f71-997e-f38c89ab670c",
   "metadata": {},
   "outputs": [],
   "source": []
  },
  {
   "cell_type": "code",
   "execution_count": null,
   "id": "bfea16d2-b6fe-4975-b267-519c554609b1",
   "metadata": {},
   "outputs": [],
   "source": []
  },
  {
   "cell_type": "code",
   "execution_count": null,
   "id": "86668cd6-57cd-410d-816c-8526f4d90fc6",
   "metadata": {},
   "outputs": [],
   "source": []
  },
  {
   "cell_type": "code",
   "execution_count": null,
   "id": "6d635033-7453-4e12-9918-6b27477e8790",
   "metadata": {},
   "outputs": [],
   "source": []
  },
  {
   "cell_type": "code",
   "execution_count": null,
   "id": "50579d8b-86ed-4dfb-a215-8ef9bca921d9",
   "metadata": {},
   "outputs": [],
   "source": []
  },
  {
   "cell_type": "code",
   "execution_count": null,
   "id": "17f65f47-b4ea-4ad3-a82b-5086f30d864a",
   "metadata": {},
   "outputs": [],
   "source": []
  },
  {
   "cell_type": "code",
   "execution_count": null,
   "id": "0054ba52-8832-42f4-8897-8eff14af83d2",
   "metadata": {},
   "outputs": [],
   "source": []
  },
  {
   "cell_type": "code",
   "execution_count": null,
   "id": "a2d3c62d-0ed8-4b8f-b9f4-a8e89891ee90",
   "metadata": {},
   "outputs": [],
   "source": [
    "# fig, ax = plt.subplots(1,1, figsize=(4,2), dpi=200)\n",
    "\n",
    "# # plot_matrix(X_0_lst[0], ax)\n",
    "# # plot_matrix(X_0_lst[1], ax, color='blue')\n",
    "# plot_matrix(X_0_lst[0], ax, color='black')\n",
    "# plot_matrix(X_0_lst[1], ax, color='black')\n",
    "# plot_matrix(X_0_lst[2], ax, color='black')\n",
    "# plot_matrix(X_0_lst[3], ax, color='black')\n",
    "# plot_matrix(X_0_lst[4], ax, color='black')\n",
    "# plot_matrix(X_0_lst[5], ax, color='black')\n",
    "# plot_matrix(X_0_lst[6], ax, color='black')\n",
    "# plot_geometry(usr.db.gdfignition.iloc[4]['geometry'], ax)\n",
    "# plot_geometry(usr.db.gdfignition.iloc[5]['geometry'], ax)\n",
    "# plot_geometry(usr.db.gdfignition.iloc[6]['geometry'], ax)\n",
    "# # plot_geometry(usr.db.gdfignition.iloc[10]['geometry'], ax)\n",
    "# # plot_geometry(usr.db.gdfignition.iloc[11]['geometry'], ax)\n",
    "# # plot_geometry(usr.db.gdfignition.iloc[12]['geometry'], ax)\n",
    "# # plot_geometry(usr.db.gdfignition.iloc[13]['geometry'], ax)\n",
    "# # plot_geometry(usr.db.gdfignition.iloc[14]['geometry'], ax)\n",
    "# # plot_geometry(usr.db.gdfignition.iloc[15]['geometry'], ax)\n",
    "# # plot_geometry(usr.db.gdfignition.iloc[16]['geometry'], ax)\n",
    "# # plot_geometry(usr.db.gdfignition.iloc[17]['geometry'], ax)\n",
    "# # plot_geometry(usr.db.gdfignition.iloc[18]['geometry'], ax)\n",
    "# # plot_geometry(usr.db.gdfignition.iloc[0]['geometry'], ax)"
   ]
  },
  {
   "cell_type": "markdown",
   "id": "c3a44d97-9474-4b70-9c10-a281a2433f5b",
   "metadata": {},
   "source": [
    "## Compare the predictions from the updated states, observations and using only the first simulation"
   ]
  },
  {
   "cell_type": "markdown",
   "id": "29ed5f7b-ec68-4766-8b52-a3b9e59512a6",
   "metadata": {},
   "source": [
    "### 1. Predict with the updated states"
   ]
  },
  {
   "cell_type": "code",
   "execution_count": null,
   "id": "2d63fcf2-8519-472a-a4a9-47555d72221a",
   "metadata": {},
   "outputs": [],
   "source": [
    "usr_combined = futils.User(fp)\n",
    "igniteidx_lst = []\n",
    "compareidx_lst = []\n",
    "for i, X_0 in enumerate(X_0_lst):\n",
    "    obrow = usr.db.gdfignition.iloc[i]\n",
    "    comprow = usr.db.gdfignition.iloc[i+1]\n",
    "    \n",
    "    vertices = X_0.mean(axis=1)\n",
    "    geom = Polygon(zip(vertices[::2],vertices[1::2])).buffer(0)\n",
    "    \n",
    "    dt = obrow['datetime']\n",
    "    desc = obrow['description']\n",
    "    objid = str(obrow['objectid']) + '_updated'\n",
    "    ftype = obrow['filetype']\n",
    "    \n",
    "    ignitions = state_to_ignitions(X_0.mean(axis=1, keepdims=True), [objid], [dt], [desc], [ftype], usr_combined)\n",
    "    igniteidx_lst.append(ignitions['igniteidx'][0])\n",
    "    compareidx_lst.append(comprow.name)\n",
    "    \n",
    "    usr_combined.db.gdfignition = pd.concat([usr_combined.db.gdfignition, gpd.GeoDataFrame(ignitions, geometry='geometry', crs='EPSG:5070').set_index('igniteidx')])"
   ]
  },
  {
   "cell_type": "code",
   "execution_count": null,
   "id": "5c7aa856-4a61-49b9-b156-6e99d7012516",
   "metadata": {},
   "outputs": [],
   "source": [
    "igniteidx_lst_observed = []\n",
    "compareidx_lst_observed = []\n",
    "for i in range(len(igniteidx_lst)):\n",
    "    igniteidx_lst_observed.append(usr_combined.db.gdfignition.index[i])\n",
    "    compareidx_lst_observed.append(usr_combined.db.gdfignition.index[i+1])"
   ]
  },
  {
   "cell_type": "code",
   "execution_count": null,
   "id": "90bc07da-78a8-448d-8eb7-53b07cdf58e7",
   "metadata": {
    "scrolled": true,
    "tags": []
   },
   "outputs": [],
   "source": [
    "# Combine all igniteidx and compareidx into a single\n",
    "\n",
    "igniteidx_lst_combined = igniteidx_lst + igniteidx_lst_observed\n",
    "compareidx_lst_combined = compareidx_lst + compareidx_lst_observed\n",
    "\n",
    "desc_lst_combined = ['Maria2019_updated' for i in range(len(igniteidx_lst))] + ['Maria2019_observed' for i in range(len(igniteidx_lst))]\n",
    "inputData_lst = []\n",
    "mainapi_lst = []\n",
    "for (igniteidx, compareidx, desc) in zip(igniteidx_lst_combined, compareidx_lst_combined, desc_lst_combined):\n",
    "    inputData = {'description': desc,\n",
    "                 'igniteidx'  : igniteidx,\n",
    "                 'compareidx' : compareidx,\n",
    "                 'lcpidx'     : '43b7f5db36994599861eec4849cc68fd',\n",
    "                 'barrieridx' : 'cb47616cd2dc4ccc8fd523bd3a5064bb',\n",
    "                 \n",
    "                 'windspeed': 10, 'winddirection': 60,\n",
    "                 'relhumid': 90, 'temperature': 20}\n",
    "    \n",
    "    mainapi_lst.append(usr_combined.calculatePerimeters(inputData))\n",
    "    \n",
    "for mainapi in mainapi_lst:\n",
    "    # pool.apply_async(farsite.run_command, callback=farsite.updatedb)\n",
    "    mainapi.run_farsite()"
   ]
  },
  {
   "cell_type": "code",
   "execution_count": null,
   "id": "de6236ed-f53b-461c-b584-31ab53056e56",
   "metadata": {},
   "outputs": [],
   "source": [
    "# usr_combined.db.gdfignition.to_pickle('/home/jovyan/ignitions.pkl')\n",
    "# usr_combined.db.gdfsimulation.to_pickle('/home/jovyan/simulations.pkl')"
   ]
  },
  {
   "cell_type": "markdown",
   "id": "4b1debeb-3c1b-4c3f-9e20-82f32a063c6d",
   "metadata": {},
   "source": [
    "#### Interpolate all the vertices\n",
    "\n",
    "#### TODO: Vertices include an additional point when generated from geometry. Remove the repeat!\n",
    "\n",
    "#### TODO: Check whether the aligned_vertices have the correct roll amount\n",
    "1. Create matrices from the aligned_vertices, and form the $X_0$ ensemble state matrix\n",
    "2. Using the observation $y_1$, update the state vector and obtain $X_1$"
   ]
  },
  {
   "cell_type": "markdown",
   "id": "fdfb7ebf-10e4-47b7-ba2d-d03e31d8e9f8",
   "metadata": {},
   "source": [
    "#### TODO - Question: Can we find a way to not interpolate the vertices\n",
    "1. Without interpolation, we need to create a matrix that maps the observed vertices to the state vector"
   ]
  },
  {
   "cell_type": "markdown",
   "id": "b86c1968-48f0-4d52-900c-545ecc8a9cef",
   "metadata": {},
   "source": [
    "## Compare the perimeters"
   ]
  },
  {
   "cell_type": "code",
   "execution_count": null,
   "id": "6376ea2d-809c-4e9d-8140-80cff6fce841",
   "metadata": {},
   "outputs": [],
   "source": [
    "# gdfignition = pd.read_pickle('/home/jovyan/ignitions.pkl')\n",
    "# gdfsimulation = pd.read_pickle('/home/jovyan/simulations.pkl')\n",
    "\n",
    "gdfignition = usr_combined.db.gdfignition\n",
    "gdfsimulation = usr_combined.db.gdfsimulation\n",
    "\n",
    "gdfignition_model = usr_model.db.gdfignition\n",
    "gdfsimulation_model = usr_model.db.gdfsimulation"
   ]
  },
  {
   "cell_type": "code",
   "execution_count": null,
   "id": "553df1e2-e6ca-40bf-b56d-f0d0a729c7f5",
   "metadata": {},
   "outputs": [],
   "source": [
    "def get_coordinates(geom):\n",
    "    x,y = geom.exterior.coords.xy\n",
    "    x = np.array(x)\n",
    "    y = np.array(y)\n",
    "    \n",
    "    return x,y\n",
    "\n",
    "def calculate_rms(geom1, geom2):\n",
    "    xy1, xy2 = interpolate_geometries([geom1, geom2], vertex_count=2000)\n",
    "    xy1, xy2 = align_vertices([xy1, xy2])\n",
    "    return np.sqrt(np.sum((xy1[:,0] - xy2[:,0])**2 + (xy1[:,1] - xy2[:,1])**2)/xy1.shape[0])\n",
    "    \n",
    "\n",
    "def calculate_area_diff(geom1, geom2):\n",
    "    return (geom1.union(geom2) - geom1.intersection(geom2)).area\n",
    "\n",
    "calculate_error = calculate_area_diff"
   ]
  },
  {
   "cell_type": "code",
   "execution_count": null,
   "id": "5d6c99d5-619d-456d-9bdc-a0c6c9fcd83f",
   "metadata": {},
   "outputs": [],
   "source": [
    "geoms_updated = []\n",
    "geoms_observed = []\n",
    "geoms_compare = []\n",
    "geoms_model = []\n",
    "errors_updated = []\n",
    "errors_observed = []\n",
    "errors_model = []\n",
    "dt = []\n",
    "\n",
    "for compareidx in compareidx_lst[:-1]:\n",
    "    gdffiltered = gdfsimulation[gdfsimulation['compareidx'] == compareidx]\n",
    "    \n",
    "    geom_updated = gdffiltered[gdffiltered['description'] == 'Maria2019_updated']['geometry'].iloc[0]\n",
    "    if isinstance(geom_updated, MultiPolygon):\n",
    "        geom_updated = calculate_max_area_geom(geom_updated)\n",
    "    geoms_updated.append(geom_updated)\n",
    "    \n",
    "    geom_observed = gdffiltered[gdffiltered['description'] == 'Maria2019_observed']['geometry'].iloc[0]\n",
    "    if isinstance(geom_observed, MultiPolygon):\n",
    "        geom_observed = calculate_max_area_geom(geom_observed)\n",
    "    geoms_observed.append(geom_observed)\n",
    "    \n",
    "    geom_compare = gdfignition.loc[compareidx, 'geometry']\n",
    "    if isinstance(geom_compare, MultiPolygon):\n",
    "        geom_compare = calculate_max_area_geom(geom_compare)\n",
    "    geoms_compare.append(geom_compare)\n",
    "    \n",
    "    gdffiltered_model = gdfsimulation_model[gdfsimulation_model['compareidx'] == compareidx]\n",
    "    geom_model = gdffiltered_model[gdffiltered_model['description'] == 'Maria2019']['geometry'].iloc[0]\n",
    "    if isinstance(geom_model, MultiPolygon):\n",
    "            geom_model = calculate_max_area_geom(geom_model)\n",
    "    geoms_model.append(geom_model)\n",
    "    \n",
    "    dt.append((gdfignition.loc[compareidx, 'datetime'] - gdfignition.iloc[0]['datetime']).total_seconds()/60/60)\n",
    "    \n",
    "    errors_updated.append(calculate_error(geom_updated, geom_compare))\n",
    "    errors_observed.append(calculate_error(geom_observed,  geom_compare))\n",
    "    errors_model.append(calculate_error(geom_model, geom_compare))"
   ]
  },
  {
   "cell_type": "code",
   "execution_count": null,
   "id": "872554e3-3b7f-4d7e-86f2-ea35cbf754a9",
   "metadata": {},
   "outputs": [],
   "source": []
  },
  {
   "cell_type": "code",
   "execution_count": null,
   "id": "0d1bcb05-e5b6-4164-9ef7-0160c382e529",
   "metadata": {},
   "outputs": [],
   "source": [
    "fig, ax = plt.subplots(1,1, figsize=(4,3), dpi=400)\n",
    "ax.plot(dt, errors_updated, label='EnKF')\n",
    "ax.plot(dt, errors_observed, label='Observed')\n",
    "ax.plot(dt, errors_model, label='Model')\n",
    "\n",
    "ax.set_xlim(0,6)\n",
    "ax.set_ylim(0, 2.5e7)\n",
    "\n",
    "ax.set_xlabel('Hours after first ignition')\n",
    "ax.set_ylabel('Area difference')\n",
    "\n",
    "ax.legend()"
   ]
  },
  {
   "cell_type": "code",
   "execution_count": null,
   "id": "b2675e95-8826-4ed9-870c-93a1443cf8a2",
   "metadata": {},
   "outputs": [],
   "source": []
  },
  {
   "cell_type": "code",
   "execution_count": null,
   "id": "ad5ff0dd-d763-4a0d-ad21-e8afac4882a4",
   "metadata": {},
   "outputs": [],
   "source": []
  }
 ],
 "metadata": {
  "kernelspec": {
   "display_name": "Python 3 (ipykernel)",
   "language": "python",
   "name": "python3"
  },
  "language_info": {
   "codemirror_mode": {
    "name": "ipython",
    "version": 3
   },
   "file_extension": ".py",
   "mimetype": "text/x-python",
   "name": "python",
   "nbconvert_exporter": "python",
   "pygments_lexer": "ipython3",
   "version": "3.10.9"
  }
 },
 "nbformat": 4,
 "nbformat_minor": 5
}
