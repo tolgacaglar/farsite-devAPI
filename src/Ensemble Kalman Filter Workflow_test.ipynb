{
 "cells": [
  {
   "cell_type": "markdown",
   "id": "de901356-30f4-46aa-895f-f834710f5efa",
   "metadata": {},
   "source": [
    "# Ensemble Kalman Filter Workflow\n",
    "\n",
    "1. Available observation vector for $\\vec{y_{k+1}}$, and calculate the observation ensemble from the directional uncertainties based on the wind speed and direction. To calculate the uncertainty for each point of the perimeter:\n",
    "    1. Obtain the centroid $c_k = 1/M\\sum{y_k}$ where $M$ is the number of points.\n",
    "    2. Calculate vectors $\\vec{v_k^m}$ for each point from the centroid to the point where $m$ is the $m^{th}$ point in the perimeter\n",
    "    3. Obtain the wind speed and direction: $\\vec{u_k}$ from the closest weather station to the centroid\n",
    "    4. Uncertainty for each point $m$ is then $e_k^m = \\alpha \\left(1 - \\vec{v_k^m} \\cdot \\vec{u_k}\\right)$\n",
    "\n",
    "2. Given a state vector $x_k$ and uncertainties around each point $P_k$, generate an ensemble \n",
    "$$X_k = (x_k^1, x_k^2, \\cdots , x_k^N)$$\n",
    "    1. For the first timepoint $k=0$, the state vector is the first observation $(x_0 = y_0)$, and the ensemble is obtained from directional uncertainties assigned based on the wind speed and direction\n",
    "    2. **Question:** When creating the ensemble, do we preserve the mean $\\overline{x_k}$?\n",
    "    \n",
    "3. From the ensemble $X_k$, advance for each state vector $X_{k+1} = F(X_k, u_k)$, where $u_k$ \n",
    "\n",
    "4. "
   ]
  },
  {
   "cell_type": "markdown",
   "id": "a4b5f10a-ee62-4ba4-aac3-0fe305e1bc0f",
   "metadata": {
    "tags": []
   },
   "source": [
    "## Dependencies:"
   ]
  },
  {
   "cell_type": "code",
   "execution_count": 1,
   "id": "145b1582-6a79-497f-a6d3-6838d655a74b",
   "metadata": {},
   "outputs": [],
   "source": [
    "import sys\n",
    "sys.path.append('/home/jovyan/farsite-devAPI/src/')\n",
    "sys.path.append('/home/jovyan/python-helper/src/')\n",
    "\n",
    "import geopandas as gpd\n",
    "import pandas as pd\n",
    "import numpy as np\n",
    "\n",
    "from shapely.geometry import MultiPolygon, Polygon\n",
    "\n",
    "import uuid\n",
    "import random\n",
    "\n",
    "import farsiteutils_v2 as futils\n",
    "from kalmanutils import calculate_uncertainties_observed, interpolate_perimeter\n",
    "\n",
    "from loggers import TimeEstimator\n",
    "\n",
    "from matplotlib import pyplot as plt"
   ]
  },
  {
   "cell_type": "markdown",
   "id": "5ac1bb62-56d4-4c93-aa7d-544952e3ab6f",
   "metadata": {},
   "source": [
    "## Default Values"
   ]
  },
  {
   "cell_type": "code",
   "execution_count": 2,
   "id": "323345e2-6444-499f-87e2-c9bf65ae7a61",
   "metadata": {},
   "outputs": [],
   "source": [
    "SELECTED_FIRE_DEFAULT = 'Maria2019'\n",
    "DATA_PATH = '/home/jovyan/data/'    # Folder to keep all the data while running the simulations"
   ]
  },
  {
   "cell_type": "markdown",
   "id": "39840580-19e1-468d-85d2-bb17a1b28a29",
   "metadata": {},
   "source": [
    "## Select a fire\n",
    "\n",
    "```selected_fire``` variable holds the name of the fire selected. ```selected_fire = 'Maria2019'``` for now"
   ]
  },
  {
   "cell_type": "code",
   "execution_count": 3,
   "id": "d3fee504-e3de-4596-9983-2851ed3ed383",
   "metadata": {},
   "outputs": [
    {
     "name": "stdout",
     "output_type": "stream",
     "text": [
      "Database interaction not yet implemented. Use pickle file for dataframes instead!\n",
      "Available fires are ['Maria2019' 'River2021' 'Bridge2021']\n",
      "Maria2019 is selected.\n",
      "\n",
      "Maria2019 is found!\n"
     ]
    }
   ],
   "source": [
    "fp = futils.FilePaths(DATA_PATH)\n",
    "usr = futils.User(fp)\n",
    "\n",
    "unique_desc = usr.db.gdfignitionAll['description'].unique()\n",
    "print(f'Available fires are {unique_desc}')\n",
    "\n",
    "selected_fire = SELECTED_FIRE_DEFAULT\n",
    "print(f'{selected_fire} is selected.\\n')\n",
    "if (unique_desc == selected_fire).any():\n",
    "    print(f'{selected_fire} is found!')\n",
    "else:\n",
    "    raise ValueError(f'{selected_fire} not found in possible fire descriptions: {unique_desc}')"
   ]
  },
  {
   "cell_type": "code",
   "execution_count": 4,
   "id": "4b04e271-eb7f-4ed7-a88e-b42f77bbd6ec",
   "metadata": {
    "tags": []
   },
   "outputs": [
    {
     "data": {
      "text/html": [
       "<div>\n",
       "<style scoped>\n",
       "    .dataframe tbody tr th:only-of-type {\n",
       "        vertical-align: middle;\n",
       "    }\n",
       "\n",
       "    .dataframe tbody tr th {\n",
       "        vertical-align: top;\n",
       "    }\n",
       "\n",
       "    .dataframe thead th {\n",
       "        text-align: right;\n",
       "    }\n",
       "</style>\n",
       "<table border=\"1\" class=\"dataframe\">\n",
       "  <thead>\n",
       "    <tr style=\"text-align: right;\">\n",
       "      <th></th>\n",
       "      <th>filetype</th>\n",
       "      <th>objectid</th>\n",
       "      <th>filepath</th>\n",
       "      <th>datetime</th>\n",
       "      <th>description</th>\n",
       "      <th>geometry</th>\n",
       "    </tr>\n",
       "  </thead>\n",
       "  <tbody>\n",
       "    <tr>\n",
       "      <th>f23196b034474744bdca7df94b13e0f7</th>\n",
       "      <td>Ignition</td>\n",
       "      <td>21231</td>\n",
       "      <td>/home/jovyan/farsite/inputs/maria_ignite/maria...</td>\n",
       "      <td>2019-10-31 19:37:11</td>\n",
       "      <td>Maria2019</td>\n",
       "      <td>POLYGON ((-2084217.148 1503560.461, -2084279.5...</td>\n",
       "    </tr>\n",
       "    <tr>\n",
       "      <th>9f82e870591748a9a8a01346d174f2a1</th>\n",
       "      <td>Ignition</td>\n",
       "      <td>21232</td>\n",
       "      <td>/home/jovyan/farsite/inputs/maria_ignite/maria...</td>\n",
       "      <td>2019-10-31 19:58:22</td>\n",
       "      <td>Maria2019</td>\n",
       "      <td>POLYGON ((-2082034.494 1504548.520, -2081987.6...</td>\n",
       "    </tr>\n",
       "    <tr>\n",
       "      <th>1a6eb30ee33742e18fa6bb26678b5077</th>\n",
       "      <td>Ignition</td>\n",
       "      <td>21234</td>\n",
       "      <td>/home/jovyan/farsite/inputs/maria_ignite/maria...</td>\n",
       "      <td>2019-10-31 20:31:33</td>\n",
       "      <td>Maria2019</td>\n",
       "      <td>POLYGON ((-2082034.494 1504548.520, -2081987.6...</td>\n",
       "    </tr>\n",
       "    <tr>\n",
       "      <th>911f9b001c054b74a6ba70958f5f3c93</th>\n",
       "      <td>Ignition</td>\n",
       "      <td>21235</td>\n",
       "      <td>/home/jovyan/farsite/inputs/maria_ignite/maria...</td>\n",
       "      <td>2019-10-31 20:56:44</td>\n",
       "      <td>Maria2019</td>\n",
       "      <td>POLYGON ((-2082396.219 1505343.939, -2082305.7...</td>\n",
       "    </tr>\n",
       "    <tr>\n",
       "      <th>7957c2e604554199ba60c5b13aff2f40</th>\n",
       "      <td>Ignition</td>\n",
       "      <td>21236</td>\n",
       "      <td>/home/jovyan/farsite/inputs/maria_ignite/maria...</td>\n",
       "      <td>2019-10-31 21:22:55</td>\n",
       "      <td>Maria2019</td>\n",
       "      <td>POLYGON ((-2082598.331 1505371.327, -2082338.5...</td>\n",
       "    </tr>\n",
       "    <tr>\n",
       "      <th>714f0cf8d475462a97c651642a3d2525</th>\n",
       "      <td>Ignition</td>\n",
       "      <td>21237</td>\n",
       "      <td>/home/jovyan/farsite/inputs/maria_ignite/maria...</td>\n",
       "      <td>2019-10-31 23:31:00</td>\n",
       "      <td>Maria2019</td>\n",
       "      <td>MULTIPOLYGON (((-2085055.250 1500983.797, -208...</td>\n",
       "    </tr>\n",
       "    <tr>\n",
       "      <th>628d7730c0f149f898695d37a1350882</th>\n",
       "      <td>Ignition</td>\n",
       "      <td>21238</td>\n",
       "      <td>/home/jovyan/farsite/inputs/maria_ignite/maria...</td>\n",
       "      <td>2019-10-31 23:48:00</td>\n",
       "      <td>Maria2019</td>\n",
       "      <td>POLYGON ((-2081520.701 1505276.095, -2081364.6...</td>\n",
       "    </tr>\n",
       "    <tr>\n",
       "      <th>746e4f286cba4af4a89362b548f2c255</th>\n",
       "      <td>Ignition</td>\n",
       "      <td>21239</td>\n",
       "      <td>/home/jovyan/farsite/inputs/maria_ignite/maria...</td>\n",
       "      <td>2019-11-01 00:29:00</td>\n",
       "      <td>Maria2019</td>\n",
       "      <td>POLYGON ((-2081508.646 1505341.661, -2081409.9...</td>\n",
       "    </tr>\n",
       "    <tr>\n",
       "      <th>ec72de65d1934e0ab74ff46ffba1ae1b</th>\n",
       "      <td>Ignition</td>\n",
       "      <td>21240</td>\n",
       "      <td>/home/jovyan/farsite/inputs/maria_ignite/maria...</td>\n",
       "      <td>2019-11-01 00:54:00</td>\n",
       "      <td>Maria2019</td>\n",
       "      <td>POLYGON ((-2081447.957 1505469.815, -2081376.9...</td>\n",
       "    </tr>\n",
       "    <tr>\n",
       "      <th>15dc4b77768f4921be77c65ae9a6b9d4</th>\n",
       "      <td>Ignition</td>\n",
       "      <td>21241</td>\n",
       "      <td>/home/jovyan/farsite/inputs/maria_ignite/maria...</td>\n",
       "      <td>2019-11-01 01:12:00</td>\n",
       "      <td>Maria2019</td>\n",
       "      <td>POLYGON ((-2081447.957 1505469.815, -2081376.9...</td>\n",
       "    </tr>\n",
       "    <tr>\n",
       "      <th>db87bccf2de3464ea09ffbe2c1fe1611</th>\n",
       "      <td>Ignition</td>\n",
       "      <td>21242</td>\n",
       "      <td>/home/jovyan/farsite/inputs/maria_ignite/maria...</td>\n",
       "      <td>2019-11-01 01:25:00</td>\n",
       "      <td>Maria2019</td>\n",
       "      <td>POLYGON ((-2081352.332 1505575.284, -2081233.6...</td>\n",
       "    </tr>\n",
       "    <tr>\n",
       "      <th>548466fe1b424e62bc8d766234763fa2</th>\n",
       "      <td>Ignition</td>\n",
       "      <td>21243</td>\n",
       "      <td>/home/jovyan/farsite/inputs/maria_ignite/maria...</td>\n",
       "      <td>2019-11-01 01:38:00</td>\n",
       "      <td>Maria2019</td>\n",
       "      <td>POLYGON ((-2081352.332 1505575.284, -2081233.6...</td>\n",
       "    </tr>\n",
       "    <tr>\n",
       "      <th>116dd0ef296445f39a3343b0daa1a084</th>\n",
       "      <td>Ignition</td>\n",
       "      <td>21244</td>\n",
       "      <td>/home/jovyan/farsite/inputs/maria_ignite/maria...</td>\n",
       "      <td>2019-11-01 01:56:00</td>\n",
       "      <td>Maria2019</td>\n",
       "      <td>POLYGON ((-2081352.332 1505575.284, -2081233.6...</td>\n",
       "    </tr>\n",
       "    <tr>\n",
       "      <th>9623320b87894822a5ec1429be08f9bd</th>\n",
       "      <td>Ignition</td>\n",
       "      <td>21245</td>\n",
       "      <td>/home/jovyan/farsite/inputs/maria_ignite/maria...</td>\n",
       "      <td>2019-11-01 02:10:00</td>\n",
       "      <td>Maria2019</td>\n",
       "      <td>POLYGON ((-2081352.332 1505575.284, -2081233.6...</td>\n",
       "    </tr>\n",
       "    <tr>\n",
       "      <th>04983f027cb4496da5a4d1177d28a801</th>\n",
       "      <td>Ignition</td>\n",
       "      <td>21246</td>\n",
       "      <td>/home/jovyan/farsite/inputs/maria_ignite/maria...</td>\n",
       "      <td>2019-11-01 02:24:00</td>\n",
       "      <td>Maria2019</td>\n",
       "      <td>POLYGON ((-2081345.220 1505623.806, -2081233.6...</td>\n",
       "    </tr>\n",
       "    <tr>\n",
       "      <th>57a3d3ce84b2401ea89da919252ede28</th>\n",
       "      <td>Ignition</td>\n",
       "      <td>21247</td>\n",
       "      <td>/home/jovyan/farsite/inputs/maria_ignite/maria...</td>\n",
       "      <td>2019-11-01 02:29:00</td>\n",
       "      <td>Maria2019</td>\n",
       "      <td>POLYGON ((-2081335.836 1505650.273, -2081233.6...</td>\n",
       "    </tr>\n",
       "    <tr>\n",
       "      <th>c9c4975019b947eab1e825ea811e9156</th>\n",
       "      <td>Ignition</td>\n",
       "      <td>21248</td>\n",
       "      <td>/home/jovyan/farsite/inputs/maria_ignite/maria...</td>\n",
       "      <td>2019-11-01 03:05:00</td>\n",
       "      <td>Maria2019</td>\n",
       "      <td>MULTIPOLYGON (((-2088744.530 1504291.102, -208...</td>\n",
       "    </tr>\n",
       "    <tr>\n",
       "      <th>49716755b8444847b9e030fa52481e05</th>\n",
       "      <td>Ignition</td>\n",
       "      <td>21249</td>\n",
       "      <td>/home/jovyan/farsite/inputs/maria_ignite/maria...</td>\n",
       "      <td>2019-11-01 03:15:00</td>\n",
       "      <td>Maria2019</td>\n",
       "      <td>MULTIPOLYGON (((-2088744.530 1504291.102, -208...</td>\n",
       "    </tr>\n",
       "    <tr>\n",
       "      <th>d6b0375e8f54460eac6a82223cc04337</th>\n",
       "      <td>Ignition</td>\n",
       "      <td>21630</td>\n",
       "      <td>/home/jovyan/farsite/inputs/maria_ignite/maria...</td>\n",
       "      <td>2019-11-01 20:20:11</td>\n",
       "      <td>Maria2019</td>\n",
       "      <td>POLYGON ((-2081294.633 1505728.926, -2081233.6...</td>\n",
       "    </tr>\n",
       "    <tr>\n",
       "      <th>81011859d7ab456395abfab9112ee2a3</th>\n",
       "      <td>Ignition</td>\n",
       "      <td>21631</td>\n",
       "      <td>/home/jovyan/farsite/inputs/maria_ignite/maria...</td>\n",
       "      <td>2019-11-01 20:42:22</td>\n",
       "      <td>Maria2019</td>\n",
       "      <td>POLYGON ((-2081294.633 1505728.926, -2081280.7...</td>\n",
       "    </tr>\n",
       "    <tr>\n",
       "      <th>51fdaebe31f44ad69272779a3f01182d</th>\n",
       "      <td>Ignition</td>\n",
       "      <td>None</td>\n",
       "      <td>/home/jovyan/data/20230203/Run_00000/out_Perim...</td>\n",
       "      <td>2019-10-31 20:07:11</td>\n",
       "      <td>Maria2019</td>\n",
       "      <td>POLYGON ((-2084574.000 1504835.000, -2084554.0...</td>\n",
       "    </tr>\n",
       "    <tr>\n",
       "      <th>68b265e5ba78410d9ba23e595c4ebe4d</th>\n",
       "      <td>Ignition</td>\n",
       "      <td>None</td>\n",
       "      <td>/home/jovyan/data/20230203/Run_00001/out_Perim...</td>\n",
       "      <td>2019-10-31 20:37:11</td>\n",
       "      <td>Maria2019</td>\n",
       "      <td>POLYGON ((-2085015.000 1504756.000, -2085025.0...</td>\n",
       "    </tr>\n",
       "    <tr>\n",
       "      <th>aab698d3dcdb40c5a200fa962062eac6</th>\n",
       "      <td>Ignition</td>\n",
       "      <td>None</td>\n",
       "      <td>/home/jovyan/data/20230203/Run_00002/out_Perim...</td>\n",
       "      <td>2019-10-31 21:07:11</td>\n",
       "      <td>Maria2019</td>\n",
       "      <td>POLYGON ((-2085197.000 1504021.000, -2085201.0...</td>\n",
       "    </tr>\n",
       "    <tr>\n",
       "      <th>898b0f9313d44e70bfe3fd53a269981f</th>\n",
       "      <td>Ignition</td>\n",
       "      <td>None</td>\n",
       "      <td>/home/jovyan/data/20230203/Run_00003/out_Perim...</td>\n",
       "      <td>2019-10-31 21:37:11</td>\n",
       "      <td>Maria2019</td>\n",
       "      <td>POLYGON ((-2085149.000 1504474.000, -2085139.0...</td>\n",
       "    </tr>\n",
       "    <tr>\n",
       "      <th>f812b5bd6b9841c7a9d3c049f2ef65d0</th>\n",
       "      <td>Ignition</td>\n",
       "      <td>None</td>\n",
       "      <td>/home/jovyan/data/20230203/Run_00004/out_Perim...</td>\n",
       "      <td>2019-10-31 22:07:11</td>\n",
       "      <td>Maria2019</td>\n",
       "      <td>POLYGON ((-2085749.000 1504157.000, -2085717.0...</td>\n",
       "    </tr>\n",
       "    <tr>\n",
       "      <th>1902f9bb87654d6596616ce39baa5bd4</th>\n",
       "      <td>Ignition</td>\n",
       "      <td>None</td>\n",
       "      <td>/home/jovyan/data/20230203/Run_00005/out_Perim...</td>\n",
       "      <td>2019-10-31 22:37:11</td>\n",
       "      <td>Maria2019</td>\n",
       "      <td>POLYGON ((-2085846.000 1504355.000, -2085870.0...</td>\n",
       "    </tr>\n",
       "    <tr>\n",
       "      <th>8a431825f5ed4c80a5c8bbe6272aae75</th>\n",
       "      <td>Ignition</td>\n",
       "      <td>None</td>\n",
       "      <td>/home/jovyan/data/20230203/Run_00006/out_Perim...</td>\n",
       "      <td>2019-10-31 23:07:11</td>\n",
       "      <td>Maria2019</td>\n",
       "      <td>POLYGON ((-2085917.000 1504477.000, -2085917.0...</td>\n",
       "    </tr>\n",
       "    <tr>\n",
       "      <th>eaf6ac2e01c14ee6a7575004cc255470</th>\n",
       "      <td>Ignition</td>\n",
       "      <td>None</td>\n",
       "      <td>/home/jovyan/data/20230203/Run_00007/out_Perim...</td>\n",
       "      <td>2019-10-31 23:37:11</td>\n",
       "      <td>Maria2019</td>\n",
       "      <td>POLYGON ((-2087673.000 1503303.000, -2087676.0...</td>\n",
       "    </tr>\n",
       "    <tr>\n",
       "      <th>2a2d3f9489a34a5ebe7acb1842be28b9</th>\n",
       "      <td>Ignition</td>\n",
       "      <td>None</td>\n",
       "      <td>/home/jovyan/data/20230203/Run_00008/out_Perim...</td>\n",
       "      <td>2019-11-01 00:07:11</td>\n",
       "      <td>Maria2019</td>\n",
       "      <td>POLYGON ((-2088382.000 1503008.000, -2088380.0...</td>\n",
       "    </tr>\n",
       "    <tr>\n",
       "      <th>a966c3e028054453ae6ae791bdbb2eaa</th>\n",
       "      <td>Ignition</td>\n",
       "      <td>None</td>\n",
       "      <td>/home/jovyan/data/20230203/Run_00009/out_Perim...</td>\n",
       "      <td>2019-11-01 00:37:11</td>\n",
       "      <td>Maria2019</td>\n",
       "      <td>POLYGON ((-2088359.000 1503673.000, -2088332.0...</td>\n",
       "    </tr>\n",
       "    <tr>\n",
       "      <th>4589feb89833462392177adc46d432b2</th>\n",
       "      <td>Ignition</td>\n",
       "      <td>None</td>\n",
       "      <td>/home/jovyan/data/20230203/Run_00010/out_Perim...</td>\n",
       "      <td>2019-11-01 01:07:11</td>\n",
       "      <td>Maria2019</td>\n",
       "      <td>POLYGON ((-2088857.000 1503620.000, -2088822.0...</td>\n",
       "    </tr>\n",
       "    <tr>\n",
       "      <th>b93e051584c54d3183511baf8088fc84</th>\n",
       "      <td>Ignition</td>\n",
       "      <td>None</td>\n",
       "      <td>/home/jovyan/data/20230203/Run_00011/out_Perim...</td>\n",
       "      <td>2019-11-01 01:37:11</td>\n",
       "      <td>Maria2019</td>\n",
       "      <td>POLYGON ((-2088876.000 1504308.000, -2088902.0...</td>\n",
       "    </tr>\n",
       "  </tbody>\n",
       "</table>\n",
       "</div>"
      ],
      "text/plain": [
       "                                  filetype objectid  \\\n",
       "f23196b034474744bdca7df94b13e0f7  Ignition    21231   \n",
       "9f82e870591748a9a8a01346d174f2a1  Ignition    21232   \n",
       "1a6eb30ee33742e18fa6bb26678b5077  Ignition    21234   \n",
       "911f9b001c054b74a6ba70958f5f3c93  Ignition    21235   \n",
       "7957c2e604554199ba60c5b13aff2f40  Ignition    21236   \n",
       "714f0cf8d475462a97c651642a3d2525  Ignition    21237   \n",
       "628d7730c0f149f898695d37a1350882  Ignition    21238   \n",
       "746e4f286cba4af4a89362b548f2c255  Ignition    21239   \n",
       "ec72de65d1934e0ab74ff46ffba1ae1b  Ignition    21240   \n",
       "15dc4b77768f4921be77c65ae9a6b9d4  Ignition    21241   \n",
       "db87bccf2de3464ea09ffbe2c1fe1611  Ignition    21242   \n",
       "548466fe1b424e62bc8d766234763fa2  Ignition    21243   \n",
       "116dd0ef296445f39a3343b0daa1a084  Ignition    21244   \n",
       "9623320b87894822a5ec1429be08f9bd  Ignition    21245   \n",
       "04983f027cb4496da5a4d1177d28a801  Ignition    21246   \n",
       "57a3d3ce84b2401ea89da919252ede28  Ignition    21247   \n",
       "c9c4975019b947eab1e825ea811e9156  Ignition    21248   \n",
       "49716755b8444847b9e030fa52481e05  Ignition    21249   \n",
       "d6b0375e8f54460eac6a82223cc04337  Ignition    21630   \n",
       "81011859d7ab456395abfab9112ee2a3  Ignition    21631   \n",
       "51fdaebe31f44ad69272779a3f01182d  Ignition     None   \n",
       "68b265e5ba78410d9ba23e595c4ebe4d  Ignition     None   \n",
       "aab698d3dcdb40c5a200fa962062eac6  Ignition     None   \n",
       "898b0f9313d44e70bfe3fd53a269981f  Ignition     None   \n",
       "f812b5bd6b9841c7a9d3c049f2ef65d0  Ignition     None   \n",
       "1902f9bb87654d6596616ce39baa5bd4  Ignition     None   \n",
       "8a431825f5ed4c80a5c8bbe6272aae75  Ignition     None   \n",
       "eaf6ac2e01c14ee6a7575004cc255470  Ignition     None   \n",
       "2a2d3f9489a34a5ebe7acb1842be28b9  Ignition     None   \n",
       "a966c3e028054453ae6ae791bdbb2eaa  Ignition     None   \n",
       "4589feb89833462392177adc46d432b2  Ignition     None   \n",
       "b93e051584c54d3183511baf8088fc84  Ignition     None   \n",
       "\n",
       "                                                                           filepath  \\\n",
       "f23196b034474744bdca7df94b13e0f7  /home/jovyan/farsite/inputs/maria_ignite/maria...   \n",
       "9f82e870591748a9a8a01346d174f2a1  /home/jovyan/farsite/inputs/maria_ignite/maria...   \n",
       "1a6eb30ee33742e18fa6bb26678b5077  /home/jovyan/farsite/inputs/maria_ignite/maria...   \n",
       "911f9b001c054b74a6ba70958f5f3c93  /home/jovyan/farsite/inputs/maria_ignite/maria...   \n",
       "7957c2e604554199ba60c5b13aff2f40  /home/jovyan/farsite/inputs/maria_ignite/maria...   \n",
       "714f0cf8d475462a97c651642a3d2525  /home/jovyan/farsite/inputs/maria_ignite/maria...   \n",
       "628d7730c0f149f898695d37a1350882  /home/jovyan/farsite/inputs/maria_ignite/maria...   \n",
       "746e4f286cba4af4a89362b548f2c255  /home/jovyan/farsite/inputs/maria_ignite/maria...   \n",
       "ec72de65d1934e0ab74ff46ffba1ae1b  /home/jovyan/farsite/inputs/maria_ignite/maria...   \n",
       "15dc4b77768f4921be77c65ae9a6b9d4  /home/jovyan/farsite/inputs/maria_ignite/maria...   \n",
       "db87bccf2de3464ea09ffbe2c1fe1611  /home/jovyan/farsite/inputs/maria_ignite/maria...   \n",
       "548466fe1b424e62bc8d766234763fa2  /home/jovyan/farsite/inputs/maria_ignite/maria...   \n",
       "116dd0ef296445f39a3343b0daa1a084  /home/jovyan/farsite/inputs/maria_ignite/maria...   \n",
       "9623320b87894822a5ec1429be08f9bd  /home/jovyan/farsite/inputs/maria_ignite/maria...   \n",
       "04983f027cb4496da5a4d1177d28a801  /home/jovyan/farsite/inputs/maria_ignite/maria...   \n",
       "57a3d3ce84b2401ea89da919252ede28  /home/jovyan/farsite/inputs/maria_ignite/maria...   \n",
       "c9c4975019b947eab1e825ea811e9156  /home/jovyan/farsite/inputs/maria_ignite/maria...   \n",
       "49716755b8444847b9e030fa52481e05  /home/jovyan/farsite/inputs/maria_ignite/maria...   \n",
       "d6b0375e8f54460eac6a82223cc04337  /home/jovyan/farsite/inputs/maria_ignite/maria...   \n",
       "81011859d7ab456395abfab9112ee2a3  /home/jovyan/farsite/inputs/maria_ignite/maria...   \n",
       "51fdaebe31f44ad69272779a3f01182d  /home/jovyan/data/20230203/Run_00000/out_Perim...   \n",
       "68b265e5ba78410d9ba23e595c4ebe4d  /home/jovyan/data/20230203/Run_00001/out_Perim...   \n",
       "aab698d3dcdb40c5a200fa962062eac6  /home/jovyan/data/20230203/Run_00002/out_Perim...   \n",
       "898b0f9313d44e70bfe3fd53a269981f  /home/jovyan/data/20230203/Run_00003/out_Perim...   \n",
       "f812b5bd6b9841c7a9d3c049f2ef65d0  /home/jovyan/data/20230203/Run_00004/out_Perim...   \n",
       "1902f9bb87654d6596616ce39baa5bd4  /home/jovyan/data/20230203/Run_00005/out_Perim...   \n",
       "8a431825f5ed4c80a5c8bbe6272aae75  /home/jovyan/data/20230203/Run_00006/out_Perim...   \n",
       "eaf6ac2e01c14ee6a7575004cc255470  /home/jovyan/data/20230203/Run_00007/out_Perim...   \n",
       "2a2d3f9489a34a5ebe7acb1842be28b9  /home/jovyan/data/20230203/Run_00008/out_Perim...   \n",
       "a966c3e028054453ae6ae791bdbb2eaa  /home/jovyan/data/20230203/Run_00009/out_Perim...   \n",
       "4589feb89833462392177adc46d432b2  /home/jovyan/data/20230203/Run_00010/out_Perim...   \n",
       "b93e051584c54d3183511baf8088fc84  /home/jovyan/data/20230203/Run_00011/out_Perim...   \n",
       "\n",
       "                                             datetime description  \\\n",
       "f23196b034474744bdca7df94b13e0f7  2019-10-31 19:37:11   Maria2019   \n",
       "9f82e870591748a9a8a01346d174f2a1  2019-10-31 19:58:22   Maria2019   \n",
       "1a6eb30ee33742e18fa6bb26678b5077  2019-10-31 20:31:33   Maria2019   \n",
       "911f9b001c054b74a6ba70958f5f3c93  2019-10-31 20:56:44   Maria2019   \n",
       "7957c2e604554199ba60c5b13aff2f40  2019-10-31 21:22:55   Maria2019   \n",
       "714f0cf8d475462a97c651642a3d2525  2019-10-31 23:31:00   Maria2019   \n",
       "628d7730c0f149f898695d37a1350882  2019-10-31 23:48:00   Maria2019   \n",
       "746e4f286cba4af4a89362b548f2c255  2019-11-01 00:29:00   Maria2019   \n",
       "ec72de65d1934e0ab74ff46ffba1ae1b  2019-11-01 00:54:00   Maria2019   \n",
       "15dc4b77768f4921be77c65ae9a6b9d4  2019-11-01 01:12:00   Maria2019   \n",
       "db87bccf2de3464ea09ffbe2c1fe1611  2019-11-01 01:25:00   Maria2019   \n",
       "548466fe1b424e62bc8d766234763fa2  2019-11-01 01:38:00   Maria2019   \n",
       "116dd0ef296445f39a3343b0daa1a084  2019-11-01 01:56:00   Maria2019   \n",
       "9623320b87894822a5ec1429be08f9bd  2019-11-01 02:10:00   Maria2019   \n",
       "04983f027cb4496da5a4d1177d28a801  2019-11-01 02:24:00   Maria2019   \n",
       "57a3d3ce84b2401ea89da919252ede28  2019-11-01 02:29:00   Maria2019   \n",
       "c9c4975019b947eab1e825ea811e9156  2019-11-01 03:05:00   Maria2019   \n",
       "49716755b8444847b9e030fa52481e05  2019-11-01 03:15:00   Maria2019   \n",
       "d6b0375e8f54460eac6a82223cc04337  2019-11-01 20:20:11   Maria2019   \n",
       "81011859d7ab456395abfab9112ee2a3  2019-11-01 20:42:22   Maria2019   \n",
       "51fdaebe31f44ad69272779a3f01182d  2019-10-31 20:07:11   Maria2019   \n",
       "68b265e5ba78410d9ba23e595c4ebe4d  2019-10-31 20:37:11   Maria2019   \n",
       "aab698d3dcdb40c5a200fa962062eac6  2019-10-31 21:07:11   Maria2019   \n",
       "898b0f9313d44e70bfe3fd53a269981f  2019-10-31 21:37:11   Maria2019   \n",
       "f812b5bd6b9841c7a9d3c049f2ef65d0  2019-10-31 22:07:11   Maria2019   \n",
       "1902f9bb87654d6596616ce39baa5bd4  2019-10-31 22:37:11   Maria2019   \n",
       "8a431825f5ed4c80a5c8bbe6272aae75  2019-10-31 23:07:11   Maria2019   \n",
       "eaf6ac2e01c14ee6a7575004cc255470  2019-10-31 23:37:11   Maria2019   \n",
       "2a2d3f9489a34a5ebe7acb1842be28b9  2019-11-01 00:07:11   Maria2019   \n",
       "a966c3e028054453ae6ae791bdbb2eaa  2019-11-01 00:37:11   Maria2019   \n",
       "4589feb89833462392177adc46d432b2  2019-11-01 01:07:11   Maria2019   \n",
       "b93e051584c54d3183511baf8088fc84  2019-11-01 01:37:11   Maria2019   \n",
       "\n",
       "                                                                           geometry  \n",
       "f23196b034474744bdca7df94b13e0f7  POLYGON ((-2084217.148 1503560.461, -2084279.5...  \n",
       "9f82e870591748a9a8a01346d174f2a1  POLYGON ((-2082034.494 1504548.520, -2081987.6...  \n",
       "1a6eb30ee33742e18fa6bb26678b5077  POLYGON ((-2082034.494 1504548.520, -2081987.6...  \n",
       "911f9b001c054b74a6ba70958f5f3c93  POLYGON ((-2082396.219 1505343.939, -2082305.7...  \n",
       "7957c2e604554199ba60c5b13aff2f40  POLYGON ((-2082598.331 1505371.327, -2082338.5...  \n",
       "714f0cf8d475462a97c651642a3d2525  MULTIPOLYGON (((-2085055.250 1500983.797, -208...  \n",
       "628d7730c0f149f898695d37a1350882  POLYGON ((-2081520.701 1505276.095, -2081364.6...  \n",
       "746e4f286cba4af4a89362b548f2c255  POLYGON ((-2081508.646 1505341.661, -2081409.9...  \n",
       "ec72de65d1934e0ab74ff46ffba1ae1b  POLYGON ((-2081447.957 1505469.815, -2081376.9...  \n",
       "15dc4b77768f4921be77c65ae9a6b9d4  POLYGON ((-2081447.957 1505469.815, -2081376.9...  \n",
       "db87bccf2de3464ea09ffbe2c1fe1611  POLYGON ((-2081352.332 1505575.284, -2081233.6...  \n",
       "548466fe1b424e62bc8d766234763fa2  POLYGON ((-2081352.332 1505575.284, -2081233.6...  \n",
       "116dd0ef296445f39a3343b0daa1a084  POLYGON ((-2081352.332 1505575.284, -2081233.6...  \n",
       "9623320b87894822a5ec1429be08f9bd  POLYGON ((-2081352.332 1505575.284, -2081233.6...  \n",
       "04983f027cb4496da5a4d1177d28a801  POLYGON ((-2081345.220 1505623.806, -2081233.6...  \n",
       "57a3d3ce84b2401ea89da919252ede28  POLYGON ((-2081335.836 1505650.273, -2081233.6...  \n",
       "c9c4975019b947eab1e825ea811e9156  MULTIPOLYGON (((-2088744.530 1504291.102, -208...  \n",
       "49716755b8444847b9e030fa52481e05  MULTIPOLYGON (((-2088744.530 1504291.102, -208...  \n",
       "d6b0375e8f54460eac6a82223cc04337  POLYGON ((-2081294.633 1505728.926, -2081233.6...  \n",
       "81011859d7ab456395abfab9112ee2a3  POLYGON ((-2081294.633 1505728.926, -2081280.7...  \n",
       "51fdaebe31f44ad69272779a3f01182d  POLYGON ((-2084574.000 1504835.000, -2084554.0...  \n",
       "68b265e5ba78410d9ba23e595c4ebe4d  POLYGON ((-2085015.000 1504756.000, -2085025.0...  \n",
       "aab698d3dcdb40c5a200fa962062eac6  POLYGON ((-2085197.000 1504021.000, -2085201.0...  \n",
       "898b0f9313d44e70bfe3fd53a269981f  POLYGON ((-2085149.000 1504474.000, -2085139.0...  \n",
       "f812b5bd6b9841c7a9d3c049f2ef65d0  POLYGON ((-2085749.000 1504157.000, -2085717.0...  \n",
       "1902f9bb87654d6596616ce39baa5bd4  POLYGON ((-2085846.000 1504355.000, -2085870.0...  \n",
       "8a431825f5ed4c80a5c8bbe6272aae75  POLYGON ((-2085917.000 1504477.000, -2085917.0...  \n",
       "eaf6ac2e01c14ee6a7575004cc255470  POLYGON ((-2087673.000 1503303.000, -2087676.0...  \n",
       "2a2d3f9489a34a5ebe7acb1842be28b9  POLYGON ((-2088382.000 1503008.000, -2088380.0...  \n",
       "a966c3e028054453ae6ae791bdbb2eaa  POLYGON ((-2088359.000 1503673.000, -2088332.0...  \n",
       "4589feb89833462392177adc46d432b2  POLYGON ((-2088857.000 1503620.000, -2088822.0...  \n",
       "b93e051584c54d3183511baf8088fc84  POLYGON ((-2088876.000 1504308.000, -2088902.0...  "
      ]
     },
     "execution_count": 4,
     "metadata": {},
     "output_type": "execute_result"
    }
   ],
   "source": [
    "usr.db.gdfignition"
   ]
  },
  {
   "cell_type": "code",
   "execution_count": 5,
   "id": "9b8b2724-b39d-4548-8503-ff406bc70d23",
   "metadata": {},
   "outputs": [],
   "source": [
    "referenceidx_lst = [usr.db.gdfignition.index[0]] + usr.db.gdfignition.index[-12:].tolist()"
   ]
  },
  {
   "cell_type": "code",
   "execution_count": 6,
   "id": "12c82488-5539-48f6-ac4b-b060e27939b0",
   "metadata": {},
   "outputs": [],
   "source": [
    "from shapely.geometry import MultiPolygon, Polygon\n",
    "import numpy as np\n",
    "\n",
    "def calculate_max_area_geom(multigeom):\n",
    "    max_area = 0\n",
    "    max_area_idx = 0\n",
    "    for ix, g in enumerate(multigeom.geoms):\n",
    "        if g.area > max_area:\n",
    "            max_area = g.area\n",
    "            max_area_idx = ix\n",
    "    return multigeom.geoms[max_area_idx]\n",
    "    \n",
    "\n",
    "class State:\n",
    "    def __init__(self, geom):\n",
    "        self.geom = geom\n",
    "        \n",
    "        # Initialize\n",
    "        self.vertices = self.calculate_vertices()\n",
    "        self.lengths = self.calculate_lengths()\n",
    "    def calculate_vertices(self):\n",
    "        geom = self.geom\n",
    "        \n",
    "        if isinstance(geom, MultiPolygon):\n",
    "            geompoly = calculate_max_area_geom(geom)\n",
    "        elif isinstance(geom, Polygon):\n",
    "            geompoly = geom\n",
    "\n",
    "        return np.array((geompoly.exterior.coords))\n",
    "    \n",
    "    def calculate_lengths(self):\n",
    "        return np.sqrt((np.diff(self.vertices, axis=0)**2).sum(axis=1))\n",
    "    \n",
    "    def calculate_vector(self):\n",
    "        # Returns column vector of the vertices (x0, y0, x1, y1, ...)\n",
    "        return self.vertices.reshape(len(self.vertices)*2, 1)\n",
    "    \n",
    "    "
   ]
  },
  {
   "cell_type": "code",
   "execution_count": 7,
   "id": "77824d0b-3a36-41bb-ae72-546268cf028e",
   "metadata": {},
   "outputs": [],
   "source": [
    "def sample_geometry(current_state, uncertainties):\n",
    "    \n",
    "    maxlength = current_state.lengths.max()\n",
    "    \n",
    "    sampled_vertices = []\n",
    "    \n",
    "    # Choose a random direction\n",
    "    theta = random.uniform(0,2*np.pi)\n",
    "\n",
    "    for (x,y), sigma in zip(current_state.vertices, uncertainties):\n",
    "        mu=0\n",
    "        # randx = random.gauss(mu, sigma)\n",
    "        # randy = random.gauss(mu, sigma)\n",
    "        \n",
    "        # Choose a normal random radius based on the given sigma\n",
    "        radius = abs(random.gauss(mu, sigma))\n",
    "        \n",
    "        # Calculate x and y distance for the random\n",
    "        randx = radius*np.cos(theta)\n",
    "        randy = radius*np.sin(theta)\n",
    "        \n",
    "        sampled_vertices.append((x+randx, y+randy))\n",
    "\n",
    "    sampled_vertices = np.array(sampled_vertices)\n",
    "    # return Polygon(sampled_vertices).buffer(maxlength, join_style=1).buffer(-maxlength, join_style=1)\n",
    "    return Polygon(sampled_vertices)\n",
    "\n",
    "\n",
    "def interpolate_geometries(geoms, vertex_count = None):\n",
    "    \n",
    "    if vertex_count == None:\n",
    "        vertex_count = 0\n",
    "        for geom in geoms:\n",
    "            if isinstance(geom, MultiPolygon):\n",
    "                geom = calculate_max_area_geom(geom)\n",
    "\n",
    "            if vertex_count < len(geom.exterior.coords):\n",
    "                vertex_count = len(geom.exterior.coords)\n",
    "\n",
    "    interpolated_vertices = []\n",
    "    for geom in geoms:\n",
    "        if isinstance(geom, MultiPolygon):\n",
    "            geom = calculate_max_area_geom(geom)\n",
    "        \n",
    "        geom_state = State(geom)\n",
    "        vertices = np.array(interpolate_perimeter(geom_state.calculate_vertices(), vertex_count))\n",
    "\n",
    "        interpolated_vertices.append(vertices)\n",
    "        \n",
    "    return interpolated_vertices\n",
    "\n",
    "\n",
    "def align_vertices(interpolated_vertices):\n",
    "\n",
    "    time_estimator = TimeEstimator(len(interpolated_vertices)-1)\n",
    "\n",
    "    minroll_lst = []\n",
    "    \n",
    "    aligned_vertices = [interpolated_vertices[0]]\n",
    "    for i in range(len(interpolated_vertices)-1):\n",
    "        print(time_estimator.info_str(i), end='\\r', flush=True)\n",
    "\n",
    "        right_vertices = interpolated_vertices[i+1]\n",
    "\n",
    "\n",
    "        # Cycle right_vertices\n",
    "        l2perroll = []\n",
    "        for roll in range(len(interpolated_vertices[i])-1):\n",
    "            diff = aligned_vertices[0] - right_vertices\n",
    "            diff2sum = (diff[:,0]**2 + diff[:,1]**2).sum()\n",
    "\n",
    "            # Calculate diff^2 in\n",
    "            l2perroll.append(diff2sum)\n",
    "\n",
    "            right_vertices = np.roll(right_vertices,1, axis=0)\n",
    "\n",
    "        minroll_lst.append(np.argmin(l2perroll))\n",
    "\n",
    "    for i in range(len(interpolated_vertices)-1):\n",
    "        aligned_vertices.append(np.roll(interpolated_vertices[i+1], minroll_lst[i], axis=0))\n",
    "    \n",
    "    return aligned_vertices\n",
    "## Check reverse direction too?\n",
    "\n",
    "def create_ensembles(nsamples, current_state, windspeed, winddirection, normalized_scale, filetype, objectid, datetime, description):\n",
    "                     \n",
    "    # uncertainty in both x and y for each vertex\n",
    "    # uncertainties = calculate_uncertainties_observed(current_state.vertices, windspeed, winddirection, scale=windspeed*normalized_scale)*np.sqrt(current_state.lengths.sum())\n",
    "    uncertainties = calculate_uncertainties_observed(current_state.vertices, windspeed, winddirection, scale=1)\n",
    "\n",
    "    ignitions = {'igniteidx': [], \n",
    "                 'filetype': [],\n",
    "                 'objectid': [],\n",
    "                 'filepath': [],\n",
    "                 'datetime': [],\n",
    "                 'description': [],\n",
    "                 'geometry': []}\n",
    "\n",
    "    time_estimator = TimeEstimator(nsamples)\n",
    "    for sample in range(nsamples):\n",
    "        print(time_estimator.info_str(sample), end='\\r', flush=True)\n",
    "        \n",
    "        igniteidx = uuid.uuid4().hex\n",
    "        ignitions['igniteidx'].append(igniteidx)\n",
    "        ignitions['filetype'].append(filetype)\n",
    "        ignitions['objectid'].append(f'{objectid}E{sample:04d}')\n",
    "\n",
    "        geometry = sample_geometry(current_state, uncertainties)\n",
    "        if isinstance(geometry, MultiPolygon):\n",
    "            geometry = calculate_max_area_geom(geometry)\n",
    "\n",
    "        ignitions['geometry'].append(geometry)\n",
    "\n",
    "        ignitions['filepath'].append(f'{usr.db.fp.datadir}ignitions/{selected_fire}E{igniteidx}.shp')\n",
    "        gpd.GeoDataFrame({'FID': [0], 'geometry': ignitions['geometry'][-1]}, \n",
    "                         crs='EPSG:5070').to_file(ignitions['filepath'][-1])\n",
    "\n",
    "        ignitions['datetime'].append(datetime)\n",
    "        ignitions['description'].append(description)\n",
    "        \n",
    "    return ignitions\n",
    "\n",
    "\n",
    "def create_ensemble_matrix(geoms, vertex_count=100, aligned_geom=None):\n",
    "\n",
    "    interpolated_vertices = interpolate_geometries(geoms, vertex_count=vertex_count)\n",
    "    # Add first list of vertices from the state vector to align. align_vertices aligns all the perimeters w.r.t the first array\n",
    "    if aligned_geom is not None:\n",
    "        interpolated_vertices = [aligned_geom] + interpolated_vertices\n",
    "\n",
    "    aligned_vertices = align_vertices(interpolated_vertices)\n",
    "    if aligned_geom is not None:\n",
    "        aligned_vertices = aligned_vertices[1:]\n",
    "    else:\n",
    "        aligned_geom = aligned_vertices[0]\n",
    "    \n",
    "    if vertex_count is None:\n",
    "        vertex_count = aligned_vertices[0].shape[0]\n",
    "    \n",
    "    X = np.zeros((vertex_count*2, nsamples))\n",
    "    for i, vertices in enumerate(aligned_vertices):\n",
    "        X[:,i] = vertices.flatten()\n",
    "        \n",
    "    return X, aligned_geom, vertex_count\n",
    "\n",
    "\n",
    "def state_to_ignitions(X_0, objectid_lst, datetime_lst, description_lst, filetype_lst, usr):\n",
    "\n",
    "    geoms = [Polygon(zip(X_0[::2,i], X_0[1::2,i])).buffer(0) for i in range(X_0.shape[1])]\n",
    "\n",
    "    ignitions = {'igniteidx': [],\n",
    "                 'filetype': [],\n",
    "                 'objectid': [],\n",
    "                 'filepath': [],\n",
    "                 'geometry': [],\n",
    "                 'datetime': [],\n",
    "                 'description': []}\n",
    "\n",
    "    for sample, geometry in enumerate(geoms):\n",
    "        filetype = filetype_lst[sample]\n",
    "        datetime = datetime_lst[sample]\n",
    "        description = description_lst[sample]\n",
    "        objectid = objectid_lst[sample]\n",
    "        \n",
    "        igniteidx = uuid.uuid4().hex\n",
    "        ignitions['igniteidx'].append(igniteidx)\n",
    "        ignitions['filetype'].append(filetype)\n",
    "        ignitions['objectid'].append(f'{objectid}U{sample:04d}')\n",
    "\n",
    "        if isinstance(geometry, MultiPolygon):\n",
    "            geometry = calculate_max_area_geom(geometry)\n",
    "\n",
    "        ignitions['geometry'].append(geometry)\n",
    "\n",
    "        ignitions['filepath'].append(f'{usr.db.fp.datadir}ignitions/{description}U{sample:04d}_{igniteidx}.shp')\n",
    "        gpd.GeoDataFrame({'FID': [0], 'geometry': ignitions['geometry'][-1]}, \n",
    "                         crs='EPSG:5070').to_file(ignitions['filepath'][-1])\n",
    "\n",
    "        ignitions['datetime'].append(datetime)\n",
    "        ignitions['description'].append(description)\n",
    "    \n",
    "    return ignitions\n",
    "\n",
    "def validate_geoms_matrix(X, aligned_geom):\n",
    "    for i in range(X.shape[1]):\n",
    "        X_0 = X[:,i]\n",
    "        x = X_0[::2]\n",
    "        y = X_0[1::2]\n",
    "\n",
    "        geom = Polygon(zip(x,y)).buffer(0)\n",
    "        if isinstance(geom, MultiPolygon):\n",
    "            geom = calculate_max_area_geom(geom)\n",
    "\n",
    "        xx,yy = geom.exterior.xy\n",
    "        xx = list(xx)\n",
    "        yy = list(yy)\n",
    "\n",
    "        geom = np.array(interpolate_perimeter(list(zip(xx, yy)), len(x)))\n",
    "        geom = align_vertices([aligned_geom, geom])[1]\n",
    "\n",
    "        X[:,i] = geom.flatten()\n",
    "\n",
    "    return X"
   ]
  },
  {
   "cell_type": "markdown",
   "id": "5d3f538e-2e16-4561-baab-2d18133bc96b",
   "metadata": {},
   "source": [
    "### Plotting functions"
   ]
  },
  {
   "cell_type": "code",
   "execution_count": 8,
   "id": "31a0ee5d-c9bd-42da-ba45-6ed47237b2dc",
   "metadata": {},
   "outputs": [],
   "source": [
    "def compare_perimeters(alst, colors='rgbcmyk', showvertex = 0):\n",
    "    fig, ax = plt.subplots(1,1, figsize=(4,2), dpi=200)\n",
    "    \n",
    "    for a,c in zip(alst, colors):\n",
    "        if c == 'r':\n",
    "            ax.plot(a[::2], a[1::2], c+'o', markersize=1)\n",
    "        else:\n",
    "            ax.plot(a[::2], a[1::2], c)\n",
    "            \n",
    "        ax.scatter(a[2*showvertex], a[2*showvertex + 1], facecolor=(0,0,0,0.2), edgecolor=(0,0,0,0.9))\n",
    "        \n",
    "    ax.set_ylim(1.502e6, 1.506e6)\n",
    "    ax.set_xlim(-2.087e6, -2.081e6)\n",
    "    \n",
    "def compare_matrices(X, colors='rgbcmy', showvertex = 0, ax=None):\n",
    "    \n",
    "    if ax is None:\n",
    "        fig, ax = plt.subplots(1,1, figsize=(4,2), dpi=200)\n",
    "    \n",
    "    for i in range(X.shape[1]):\n",
    "        c = colors[i%len(colors)]\n",
    "        ax.plot(X[::2,i], X[1::2,i], c)\n",
    "        ax.scatter(X[2*showvertex,i], X[2*showvertex+1,i], facecolor=(0,0,0,0.2), edgecolor=(0,0,0,0.9))\n",
    "        \n",
    "    # ax.set_ylim(1.502e6, 1.506e6)\n",
    "    # ax.set_xlim(-2.087e6, -2.081e6)\n",
    "    \n",
    "    return ax\n",
    "\n",
    "def plot_geometry(geom, ax, **kwargs):\n",
    "    if isinstance(geom, MultiPolygon):\n",
    "        for g in geom.geoms:\n",
    "            x,y = g.exterior.coords.xy\n",
    "            ax.plot(x,y, **kwargs)\n",
    "    else:\n",
    "        x,y = geom.exterior.coords.xy\n",
    "        ax.plot(x,y, **kwargs)\n",
    "        \n",
    "def plot_matrix(X, ax, show_stdev = False, **kwargs):\n",
    "    vcounts = X.shape[0]//2\n",
    "    \n",
    "    color = (1,0,0,0.9)\n",
    "    if 'color' in kwargs:\n",
    "        color = kwargs['color']\n",
    "        \n",
    "    X_std = np.std(X, axis=1)\n",
    "    X_mean = np.mean(X, axis=1)\n",
    "\n",
    "    # Calculate standard deviation of the generated coordinates\n",
    "    x0, y0 = X_mean[::2], X_mean[1::2]\n",
    "    radstd = np.zeros_like(x0)\n",
    "    \n",
    "    for vix in range(vcounts):\n",
    "        x,y = X[2*vix,:], X[2*vix+1,:]\n",
    "        radius = np.sqrt((x-x0[vix])**2 +(y-y0[vix])**2)\n",
    "        radstd[vix] = np.std(radius)\n",
    "    \n",
    "    ax.plot(X_mean[::2], X_mean[1::2], color=color)\n",
    "    \n",
    "    if show_stdev:\n",
    "        for vix in range(vcounts):\n",
    "            circle = plt.Circle((x0[vix], y0[vix]), radius=radstd[vix], fill=False, edgecolor=(0,0,0,0.4), lw=0.3)\n",
    "            ax.add_artist(circle)"
   ]
  },
  {
   "cell_type": "code",
   "execution_count": 9,
   "id": "75b602a3-a491-4c35-8975-6e38df5648c7",
   "metadata": {},
   "outputs": [],
   "source": [
    "class EnKF:\n",
    "    # Initialize with the first observation\n",
    "    # Windspeed and direction is given from PyLaski\n",
    "    def __init__(self, observation: gpd.GeoSeries, windspeed: int, winddirection: int, normalized_scale: float, nsamples: int, usr: futils.User):\n",
    "        state_geom = gpd.read_file(observation['filepath'])['geometry'].set_crs(epsg=5070).iloc[0]\n",
    "        \n",
    "        \n",
    "        self.state_datetime = observation['datetime']\n",
    "        self.selected_fire = observation['description']\n",
    "        self.igniteidx = observation.name\n",
    "        self.current_state = State(state_geom)\n",
    "        \n",
    "        \n",
    "        self.windspeed = windspeed\n",
    "        self.winddirection = winddirection\n",
    "        self.normalized_scale = normalized_scale\n",
    "        self.nsamples = nsamples\n",
    "        self.usr = usr\n",
    "\n",
    "        self.ignitions = create_ensembles(self.nsamples, self.current_state, self.windspeed, self.winddirection, self.normalized_scale,\n",
    "                                     observation['filetype'], observation['objectid'],\n",
    "                                     observation['datetime'], observation['description'])\n",
    "        \n",
    "        self.usr.db.gdfignition = self.usr.db.gdfignition.append(gpd.GeoDataFrame(self.ignitions).set_index('igniteidx').set_crs(epsg=5070))\n",
    "        \n",
    "        # Create ensemble matrix\n",
    "        self.X_0, self.aligned_geom, self.vertex_count = create_ensemble_matrix(self.ignitions['geometry'])\n",
    "        \n",
    "    # Updates the state matrix\n",
    "    # Need to first add the observation into the database (usr.db for now)\n",
    "    def update(self, compareidx: str, lcpidx: str, barrieridx: str, observation: gpd.GeoSeries, windspeed: int, winddirection: int):\n",
    "        # Advance the state in Farsite using the windspeed and direction\n",
    "        inputData_lst = []\n",
    "        mainapi_lst = []\n",
    "        for igniteidx in self.ignitions['igniteidx']:\n",
    "            inputData = {'description': self.selected_fire,\n",
    "                         'igniteidx'  : igniteidx,\n",
    "                         'compareidx' : compareidx,\n",
    "                         'lcpidx'     : lcpidx,\n",
    "                         'barrieridx' : barrieridx,\n",
    "\n",
    "                         'windspeed': windspeed, 'winddirection': winddirection,\n",
    "                         'relhumid': 90, 'temperature': 20}\n",
    "\n",
    "            mainapi_lst.append(self.usr.calculatePerimeters(inputData))\n",
    "            \n",
    "\n",
    "        # from multiprocessing import Pool\n",
    "\n",
    "        # numproc = 4\n",
    "        # pool = Pool(processes=numproc)\n",
    "\n",
    "        # Run for each FarsiteManual\n",
    "        for mainapi in mainapi_lst:\n",
    "            # pool.apply_async(farsite.run_command, callback=farsite.updatedb)\n",
    "            mainapi.run_farsite()\n",
    "\n",
    "        # pool.close()\n",
    "        # pool.join()\n",
    "        \n",
    "        # Filter igniteidx->compareidx simulations only\n",
    "        df = self.usr.db.gdfsimulation\n",
    "        filtered_indices = df[df['igniteidx'].isin(self.ignitions['igniteidx']) & (df['compareidx'] == compareidx)].index\n",
    "        \n",
    "        self.Xt_1, self.aligned_geom, self.vertex_count = create_ensemble_matrix(df.loc[filtered_indices, 'geometry'], \n",
    "                                                                                 self.vertex_count, self.aligned_geom)\n",
    "        \n",
    "        \n",
    "        \n",
    "        # Calculate ensemble for the observation\n",
    "        state_geom = gpd.read_file(observation['filepath'])['geometry'].set_crs(epsg=5070).iloc[0]\n",
    "        # igniteidx = observation.name\n",
    "        state_datetime = observation['datetime']\n",
    "\n",
    "        self.observed_state = State(state_geom)\n",
    "\n",
    "        self.observed_ensemble = create_ensembles(self.nsamples, self.observed_state, windspeed, winddirection, self.normalized_scale,\n",
    "                                     observation['filetype'], observation['objectid'],\n",
    "                                     observation['datetime'], observation['description'])\n",
    "\n",
    "        self.Y_1, self.aligned_geom, self.vertex_count = create_ensemble_matrix(self.observed_ensemble['geometry'], self.vertex_count, self.aligned_geom)\n",
    "        \n",
    "        ##############################\n",
    "        # Calculate the Kalman Filter\n",
    "        ###############################\n",
    "        self.Xt_1 = remove_duplicates(self.Xt_1, self.vertex_count)\n",
    "        self.Y_1 = remove_duplicates(self.Y_1, self.vertex_count)\n",
    "\n",
    "        xt_1 = self.Xt_1.mean(axis=1, keepdims=True)\n",
    "        y_1 = self.Y_1.mean(axis=1, keepdims=True)\n",
    "\n",
    "        Ex_1 = self.Xt_1 - xt_1.repeat(self.nsamples, axis=1)\n",
    "        Ey_1 = self.Y_1 - y_1.repeat(self.nsamples, axis=1)\n",
    "\n",
    "        Py_1 = 1/(nsamples-1)*np.matmul(Ey_1, Ey_1.T)\n",
    "        Pxy_1 = 1/(nsamples-1)*np.matmul(Ex_1, Ey_1.T)\n",
    "\n",
    "        max_Py = abs(Py_1).max()\n",
    "        max_Pxy = abs(Pxy_1).max()\n",
    "\n",
    "        Py_1 /= max_Py\n",
    "        Pxy_1 /= max_Pxy\n",
    "\n",
    "        Py_1inv = np.linalg.pinv(Py_1, hermitian=True)\n",
    "            \n",
    "        assert(np.allclose(np.matmul(Py_1inv, Py_1), np.eye(2*self.vertex_count))), 'Inverse calculation is incorrect'\n",
    "\n",
    "        self.K = np.matmul(Pxy_1, Py_1inv)*(max_Pxy/max_Py)\n",
    "\n",
    "        #### Update the state ensemble\n",
    "        self.X_1 = self.Xt_1 + np.matmul(self.K, (self.Y_1 - self.Xt_1))\n",
    "        \n",
    "        ### TODO ####\n",
    "        # Fix invalid geometries\n",
    "        \n",
    "        self.X_1 = validate_geoms_matrix(self.X_1, self.aligned_geom)\n",
    "        #############\n",
    "        \n",
    "        ####################\n",
    "        # Recursive updates\n",
    "        ##################\n",
    "        \n",
    "        # Update ignitions\n",
    "        self.X_0 = self.X_1\n",
    "        self.ignitions = state_to_ignitions(self.X_0, self.observed_ensemble['objectid'], self.observed_ensemble['datetime'], \n",
    "                           self.observed_ensemble['description'], self.observed_ensemble['filetype'], self.usr)\n",
    "        \n",
    "        self.current_state = self.observed_state\n",
    "        \n",
    "        self.usr.db.gdfignition = pd.concat([self.usr.db.gdfignition, gpd.GeoDataFrame(self.ignitions, geometry='geometry', crs='EPSG:5070').set_index('igniteidx')])\n",
    "        \n",
    "        # x_1 = X_1.mean(axis=1, keepdims=True)\n",
    "        \n",
    "# ## obtain the igniteidx of the ignition\n",
    "# ## The indices will be passed from the interface, which will include corresponding datetime, filepath etc.\n",
    "# compareidx = '9f82e870591748a9a8a01346d174f2a1'    # t=1 observation\n",
    "# lcpidx = '43b7f5db36994599861eec4849cc68fd'        # Index for Maria2019\n",
    "# barrieridx = 'cb47616cd2dc4ccc8fd523bd3a5064bb'    # NoBarrier shapefile index        "
   ]
  },
  {
   "cell_type": "code",
   "execution_count": 10,
   "id": "420243c5-5c30-4cb0-9deb-696df19bf38d",
   "metadata": {},
   "outputs": [],
   "source": [
    "def calculate_model(igniteidx_lst, compareidx, lcpidx, barrieridx, windspeed, winddirection, usr_model):\n",
    "    inputData = {'description': 'Maria2019',\n",
    "                 'igniteidx'  : igniteidx_lst[-1],\n",
    "                 'compareidx' : compareidx,\n",
    "                 'lcpidx'     : lcpidx,\n",
    "                 'barrieridx' : barrieridx,\n",
    "\n",
    "                 'windspeed': windspeed, 'winddirection': winddirection,\n",
    "                 'relhumid': 90, 'temperature': 20}\n",
    "\n",
    "    mainapi = usr_model.calculatePerimeters(inputData)\n",
    "    mainapi.run_farsite()\n",
    "\n",
    "    gdfsim = usr_model.db.gdfsimulation.iloc[-1]\n",
    "    gdfsim_geom = gdfsim['geometry']\n",
    "    if isinstance(gdfsim_geom, MultiPolygon):\n",
    "        gdfsim_geom = calculate_max_area_geom(gdfsim_geom)\n",
    "    \n",
    "    usr_model.db.gdfignition = pd.concat([usr_model.db.gdfignition, gpd.GeoDataFrame({'filetype': 'Ignition',\n",
    "                                                                                      'objectid': str(usr_model.db.gdfignition.loc[gdfsim['igniteidx']]['objectid']) + '_farsite',\n",
    "                                                                                      'filepath': gdfsim['filepath'],\n",
    "                                                                                      'datetime': gdfsim['datetime'],\n",
    "                                                                                      'description': gdfsim['description'],\n",
    "                                                                                      'geometry': gdfsim_geom}, index=[gdfsim.name])\n",
    "                                         ])\n",
    "    igniteidx_lst.append(gdfsim.name)\n",
    "    gpd.GeoDataFrame({'FID': [0], 'geometry':gdfsim_geom}, \n",
    "                     crs='EPSG:5070').to_file(gdfsim['filepath'])"
   ]
  },
  {
   "cell_type": "code",
   "execution_count": 11,
   "id": "e12b23a4-96b9-4bfd-80c2-ee513b3078f5",
   "metadata": {
    "tags": []
   },
   "outputs": [],
   "source": [
    "def test_duplicates(arr):\n",
    "    tst = []\n",
    "    for rix in range(arr.shape[0]):\n",
    "        for rjx in range(rix+1, arr.shape[0]):\n",
    "            tst.append(arr[rix,:] - arr[rjx,:])\n",
    "\n",
    "    tst = np.array(tst)\n",
    "    tstsum = tst.sum(axis=1)\n",
    "    zeroix = np.where(np.abs(tstsum) == 0)[0]\n",
    "\n",
    "    i = 0\n",
    "    rixlst = []\n",
    "    rjxlst = []\n",
    "    for rix in range(arr.shape[0]):\n",
    "        for rjx in range(rix+1, arr.shape[0]):            \n",
    "            if i in zeroix:\n",
    "                print(f'{i} found at pair {rix}, {rjx}')\n",
    "            i += 1\n",
    "\n",
    "def remove_duplicates(arr, dnumber):\n",
    "    tst = []\n",
    "    for rix in range(arr.shape[0]):\n",
    "        for rjx in range(rix+1, arr.shape[0]):\n",
    "            tst.append(arr[rix,:] - arr[rjx,:])\n",
    "\n",
    "    tst = np.array(tst)\n",
    "    tstsum = tst.sum(axis=1)\n",
    "    zeroix = np.where(np.abs(tstsum) == 0)[0]\n",
    "\n",
    "    i = 0\n",
    "    rixlst = []\n",
    "    rjxlst = []\n",
    "    for rix in range(arr.shape[0]):\n",
    "        for rjx in range(rix+1, arr.shape[0]):            \n",
    "            if i in zeroix:\n",
    "                # print(f'{i} found at pair {rix}, {rjx}')\n",
    "                rixlst.append(rix)\n",
    "                rjxlst.append(rjx)\n",
    "            i += 1\n",
    "\n",
    "    arrnew = np.zeros_like(arr)\n",
    "    arr = np.delete(arr, rixlst, axis=0)\n",
    "\n",
    "    for j in range(arr.shape[1]):\n",
    "        vertices = list(zip(arr[::2,j], arr[1::2,j]))\n",
    "        vertices_interpolated = interpolate_perimeter(vertices, dnumber)\n",
    "\n",
    "        arrnew[:,j] = np.array(vertices_interpolated).flatten()\n",
    "\n",
    "    return arrnew"
   ]
  },
  {
   "cell_type": "code",
   "execution_count": 12,
   "id": "fdbdc110-72d4-4274-9dd2-7e8f37b6b89a",
   "metadata": {},
   "outputs": [
    {
     "name": "stdout",
     "output_type": "stream",
     "text": [
      "Calculating 55/249 ( 22.09%) - Remaining - 0:0:0...    \r"
     ]
    },
    {
     "name": "stderr",
     "output_type": "stream",
     "text": [
      "/tmp/ipykernel_14229/3636928067.py:24: FutureWarning: The frame.append method is deprecated and will be removed from pandas in a future version. Use pandas.concat instead.\n",
      "  self.usr.db.gdfignition = self.usr.db.gdfignition.append(gpd.GeoDataFrame(self.ignitions).set_index('igniteidx').set_crs(epsg=5070))\n"
     ]
    },
    {
     "name": "stdout",
     "output_type": "stream",
     "text": [
      "Database interaction not yet implemented. Use pickle file for dataframes instead!\n"
     ]
    }
   ],
   "source": [
    "# Initial params\n",
    "\n",
    "initial = usr.db.gdfignition.iloc[0]\n",
    "windspeed = 10   # Calculations are made with windspeed = 10, winddirection = 90\n",
    "winddirection = 60\n",
    "nsamples = 250\n",
    "normalized_scale = 2\n",
    "\n",
    "state = EnKF(initial, windspeed, winddirection, normalized_scale, nsamples, usr)\n",
    "X_0_lst = [state.X_0]\n",
    "\n",
    "usr_model = futils.User(fp)\n",
    "# igniteidx_lst = ['f23196b034474744bdca7df94b13e0f7']\n",
    "igniteidx_lst = [referenceidx_lst[0]]"
   ]
  },
  {
   "cell_type": "code",
   "execution_count": 13,
   "id": "b2e9c42a-a82c-4443-b011-5dd96885a8ba",
   "metadata": {},
   "outputs": [
    {
     "data": {
      "image/png": "[encoded data removed]",
      "text/plain": [
       "<Figure size 800x800 with 1 Axes>"
      ]
     },
     "metadata": {},
     "output_type": "display_data"
    }
   ],
   "source": [
    "fig, ax = plt.subplots(1,1, figsize=(4,4), dpi=200)\n",
    "plot_matrix(X_0_lst[0], ax=ax, color='red', show_stdev=True)\n",
    "ax.set_aspect('equal')"
   ]
  },
  {
   "cell_type": "markdown",
   "id": "6dc7f936-1282-42b0-984a-a31ab7646409",
   "metadata": {},
   "source": [
    "### Testing EnKF update function"
   ]
  },
  {
   "cell_type": "code",
   "execution_count": null,
   "id": "3f9e5bbb-177f-4523-81f8-f02f9a608705",
   "metadata": {
    "tags": []
   },
   "outputs": [],
   "source": [
    "%%time\n",
    "\n",
    "N = 100\n",
    "sigma = 50\n",
    "\n",
    "srange = np.arange(10,1001, 10)\n",
    "detlst = []\n",
    "\n",
    "time_estimator = TimeEstimator(len(srange))\n",
    "for i, s in enumerate(srange):\n",
    "    print(time_estimator.info_str(i), end='\\r', flush=True)\n",
    "    \n",
    "    mat = np.random.randn(N,s)*50\n",
    "    P_mat = np.matmul(mat, mat.T)/(nsamples-1)\n",
    "    P_mat = P_mat/P_mat.max()\n",
    "    \n",
    "    detlst.append(np.linalg.det(P_mat))\n",
    "# P_mat"
   ]
  },
  {
   "cell_type": "code",
   "execution_count": null,
   "id": "aa2c9f1b-53bd-4f7a-be91-0ef3d7fa2c05",
   "metadata": {
    "tags": []
   },
   "outputs": [],
   "source": [
    "fig, ax = plt.subplots(1,1, figsize=(3,2), dpi=200)\n",
    "ax.plot(srange, detlst, 'k')\n",
    "ax.set_ylim(0, 2e-6)\n",
    "\n",
    "ax2 = ax.twinx()\n",
    "\n",
    "ax2.semilogy(srange, detlst, 'r')\n",
    "ax2.set_ylim(1e-50, 1e-5)\n",
    "ax2.set_yticklabels(ax2.get_yticklabels(), color='red')"
   ]
  },
  {
   "cell_type": "code",
   "execution_count": null,
   "id": "74876d04-45a8-4760-967e-ceea1440ab27",
   "metadata": {
    "tags": []
   },
   "outputs": [],
   "source": [
    "# np.matmul(np.linalg.pinv(P_mat, hermitian=True), P_mat)"
   ]
  },
  {
   "cell_type": "markdown",
   "id": "ca79278e-ce7c-4103-9c4c-0a44bca20834",
   "metadata": {},
   "source": [
    "### Test EnKF is done"
   ]
  },
  {
   "cell_type": "code",
   "execution_count": null,
   "id": "75f48202-4942-43f2-b18f-1eb72fa7d118",
   "metadata": {},
   "outputs": [],
   "source": []
  },
  {
   "cell_type": "code",
   "execution_count": null,
   "id": "e43c6379-43e6-4cbb-b9a8-72e7b58c7913",
   "metadata": {},
   "outputs": [],
   "source": []
  },
  {
   "cell_type": "code",
   "execution_count": null,
   "id": "4033c893-64c2-48ab-a8b1-da7d41888b31",
   "metadata": {},
   "outputs": [],
   "source": []
  },
  {
   "cell_type": "code",
   "execution_count": 14,
   "id": "da16fec2-6b48-4f50-a44b-85863cb096f3",
   "metadata": {
    "scrolled": true,
    "tags": []
   },
   "outputs": [
    {
     "name": "stdout",
     "output_type": "stream",
     "text": [
      "{'description': 'Maria2019', 'igniteidx': '61f1af846b7b46a49fcded85489dd55a', 'compareidx': '51fdaebe31f44ad69272779a3f01182d', 'lcpidx': '43b7f5db36994599861eec4849cc68fd', 'barrieridx': 'cb47616cd2dc4ccc8fd523bd3a5064bb', 'windspeed': 10, 'winddirection': 60, 'relhumid': 90, 'temperature': 20}\n",
      "Choosing a perimeter from the database\n",
      "{'description': 'Maria2019', 'igniteidx': 'cb5fb1b9f3d84979994b03bacf1d5a57', 'compareidx': '51fdaebe31f44ad69272779a3f01182d', 'lcpidx': '43b7f5db36994599861eec4849cc68fd', 'barrieridx': 'cb47616cd2dc4ccc8fd523bd3a5064bb', 'windspeed': 10, 'winddirection': 60, 'relhumid': 90, 'temperature': 20}\n",
      "Choosing a perimeter from the database\n",
      "{'description': 'Maria2019', 'igniteidx': 'd7333d5b5e334a808fbe2bcc66d3f0da', 'compareidx': '51fdaebe31f44ad69272779a3f01182d', 'lcpidx': '43b7f5db36994599861eec4849cc68fd', 'barrieridx': 'cb47616cd2dc4ccc8fd523bd3a5064bb', 'windspeed': 10, 'winddirection': 60, 'relhumid': 90, 'temperature': 20}\n",
      "Choosing a perimeter from the database\n",
      "{'description': 'Maria2019', 'igniteidx': '8c3e193bd06d4cde97b05d4a1186cd2a', 'compareidx': '51fdaebe31f44ad69272779a3f01182d', 'lcpidx': '43b7f5db36994599861eec4849cc68fd', 'barrieridx': 'cb47616cd2dc4ccc8fd523bd3a5064bb', 'windspeed': 10, 'winddirection': 60, 'relhumid': 90, 'temperature': 20}\n",
      "Choosing a perimeter from the database\n",
      "{'description': 'Maria2019', 'igniteidx': '0b49a261207a491492638bf209c88bfb', 'compareidx': '51fdaebe31f44ad69272779a3f01182d', 'lcpidx': '43b7f5db36994599861eec4849cc68fd', 'barrieridx': 'cb47616cd2dc4ccc8fd523bd3a5064bb', 'windspeed': 10, 'winddirection': 60, 'relhumid': 90, 'temperature': 20}\n",
      "Choosing a perimeter from the database\n",
      "{'description': 'Maria2019', 'igniteidx': '2b4194355e3d4bfe87268b26966ba101', 'compareidx': '51fdaebe31f44ad69272779a3f01182d', 'lcpidx': '43b7f5db36994599861eec4849cc68fd', 'barrieridx': 'cb47616cd2dc4ccc8fd523bd3a5064bb', 'windspeed': 10, 'winddirection': 60, 'relhumid': 90, 'temperature': 20}\n",
      "Choosing a perimeter from the database\n",
      "{'description': 'Maria2019', 'igniteidx': '9950a92c479a44f4b2ccfe4799f8e21f', 'compareidx': '51fdaebe31f44ad69272779a3f01182d', 'lcpidx': '43b7f5db36994599861eec4849cc68fd', 'barrieridx': 'cb47616cd2dc4ccc8fd523bd3a5064bb', 'windspeed': 10, 'winddirection': 60, 'relhumid': 90, 'temperature': 20}\n",
      "Choosing a perimeter from the database\n",
      "{'description': 'Maria2019', 'igniteidx': '5fc21c7a664a45f4b1b7f134dfcdce60', 'compareidx': '51fdaebe31f44ad69272779a3f01182d', 'lcpidx': '43b7f5db36994599861eec4849cc68fd', 'barrieridx': 'cb47616cd2dc4ccc8fd523bd3a5064bb', 'windspeed': 10, 'winddirection': 60, 'relhumid': 90, 'temperature': 20}\n",
      "Choosing a perimeter from the database\n",
      "{'description': 'Maria2019', 'igniteidx': 'be6a9ff4ba91445491345c20ddadacb0', 'compareidx': '51fdaebe31f44ad69272779a3f01182d', 'lcpidx': '43b7f5db36994599861eec4849cc68fd', 'barrieridx': 'cb47616cd2dc4ccc8fd523bd3a5064bb', 'windspeed': 10, 'winddirection': 60, 'relhumid': 90, 'temperature': 20}\n",
      "Choosing a perimeter from the database\n",
      "{'description': 'Maria2019', 'igniteidx': '1973e05773674caca4a08f61213fda38', 'compareidx': '51fdaebe31f44ad69272779a3f01182d', 'lcpidx': '43b7f5db36994599861eec4849cc68fd', 'barrieridx': 'cb47616cd2dc4ccc8fd523bd3a5064bb', 'windspeed': 10, 'winddirection': 60, 'relhumid': 90, 'temperature': 20}\n",
      "Choosing a perimeter from the database\n",
      "{'description': 'Maria2019', 'igniteidx': '1a0aaadb887245dc8140a98744b5bffb', 'compareidx': '51fdaebe31f44ad69272779a3f01182d', 'lcpidx': '43b7f5db36994599861eec4849cc68fd', 'barrieridx': 'cb47616cd2dc4ccc8fd523bd3a5064bb', 'windspeed': 10, 'winddirection': 60, 'relhumid': 90, 'temperature': 20}\n",
      "Choosing a perimeter from the database\n",
      "{'description': 'Maria2019', 'igniteidx': '71618de3ca3b48268de42a0e9492afb0', 'compareidx': '51fdaebe31f44ad69272779a3f01182d', 'lcpidx': '43b7f5db36994599861eec4849cc68fd', 'barrieridx': 'cb47616cd2dc4ccc8fd523bd3a5064bb', 'windspeed': 10, 'winddirection': 60, 'relhumid': 90, 'temperature': 20}\n",
      "Choosing a perimeter from the database\n",
      "{'description': 'Maria2019', 'igniteidx': 'fbd476c947294ac3b294afa9f8957b53', 'compareidx': '51fdaebe31f44ad69272779a3f01182d', 'lcpidx': '43b7f5db36994599861eec4849cc68fd', 'barrieridx': 'cb47616cd2dc4ccc8fd523bd3a5064bb', 'windspeed': 10, 'winddirection': 60, 'relhumid': 90, 'temperature': 20}\n",
      "Choosing a perimeter from the database\n",
      "{'description': 'Maria2019', 'igniteidx': '6582115a0f61451186c3d8e5545ec08d', 'compareidx': '51fdaebe31f44ad69272779a3f01182d', 'lcpidx': '43b7f5db36994599861eec4849cc68fd', 'barrieridx': 'cb47616cd2dc4ccc8fd523bd3a5064bb', 'windspeed': 10, 'winddirection': 60, 'relhumid': 90, 'temperature': 20}\n",
      "Choosing a perimeter from the database\n",
      "{'description': 'Maria2019', 'igniteidx': '3d4723d44bae4228b8c9eef324ff373c', 'compareidx': '51fdaebe31f44ad69272779a3f01182d', 'lcpidx': '43b7f5db36994599861eec4849cc68fd', 'barrieridx': 'cb47616cd2dc4ccc8fd523bd3a5064bb', 'windspeed': 10, 'winddirection': 60, 'relhumid': 90, 'temperature': 20}\n",
      "Choosing a perimeter from the database\n",
      "{'description': 'Maria2019', 'igniteidx': '9d15b3e4cc6448b4b7b74db7af5ae5ca', 'compareidx': '51fdaebe31f44ad69272779a3f01182d', 'lcpidx': '43b7f5db36994599861eec4849cc68fd', 'barrieridx': 'cb47616cd2dc4ccc8fd523bd3a5064bb', 'windspeed': 10, 'winddirection': 60, 'relhumid': 90, 'temperature': 20}\n",
      "Choosing a perimeter from the database\n",
      "{'description': 'Maria2019', 'igniteidx': '3100df7023244967830e3951467b6a7e', 'compareidx': '51fdaebe31f44ad69272779a3f01182d', 'lcpidx': '43b7f5db36994599861eec4849cc68fd', 'barrieridx': 'cb47616cd2dc4ccc8fd523bd3a5064bb', 'windspeed': 10, 'winddirection': 60, 'relhumid': 90, 'temperature': 20}\n",
      "Choosing a perimeter from the database\n",
      "{'description': 'Maria2019', 'igniteidx': '3783f38b2a894883a5cd6756c7d20f15', 'compareidx': '51fdaebe31f44ad69272779a3f01182d', 'lcpidx': '43b7f5db36994599861eec4849cc68fd', 'barrieridx': 'cb47616cd2dc4ccc8fd523bd3a5064bb', 'windspeed': 10, 'winddirection': 60, 'relhumid': 90, 'temperature': 20}\n",
      "Choosing a perimeter from the database\n",
      "{'description': 'Maria2019', 'igniteidx': '2a98108ba84e4f749cef9ffc56703ebd', 'compareidx': '51fdaebe31f44ad69272779a3f01182d', 'lcpidx': '43b7f5db36994599861eec4849cc68fd', 'barrieridx': 'cb47616cd2dc4ccc8fd523bd3a5064bb', 'windspeed': 10, 'winddirection': 60, 'relhumid': 90, 'temperature': 20}\n",
      "Choosing a perimeter from the database\n",
      "{'description': 'Maria2019', 'igniteidx': '71640ace22b44483814a7213ec28cf31', 'compareidx': '51fdaebe31f44ad69272779a3f01182d', 'lcpidx': '43b7f5db36994599861eec4849cc68fd', 'barrieridx': 'cb47616cd2dc4ccc8fd523bd3a5064bb', 'windspeed': 10, 'winddirection': 60, 'relhumid': 90, 'temperature': 20}\n",
      "Choosing a perimeter from the database\n",
      "{'description': 'Maria2019', 'igniteidx': '4b5b52d7823e4a34ae1131e3c91d3960', 'compareidx': '51fdaebe31f44ad69272779a3f01182d', 'lcpidx': '43b7f5db36994599861eec4849cc68fd', 'barrieridx': 'cb47616cd2dc4ccc8fd523bd3a5064bb', 'windspeed': 10, 'winddirection': 60, 'relhumid': 90, 'temperature': 20}\n",
      "Choosing a perimeter from the database\n",
      "{'description': 'Maria2019', 'igniteidx': 'd32ef62a953a4991a6a73d1a374d652b', 'compareidx': '51fdaebe31f44ad69272779a3f01182d', 'lcpidx': '43b7f5db36994599861eec4849cc68fd', 'barrieridx': 'cb47616cd2dc4ccc8fd523bd3a5064bb', 'windspeed': 10, 'winddirection': 60, 'relhumid': 90, 'temperature': 20}\n",
      "Choosing a perimeter from the database\n",
      "{'description': 'Maria2019', 'igniteidx': '4458ae0282a64a1394d161a8b5240a23', 'compareidx': '51fdaebe31f44ad69272779a3f01182d', 'lcpidx': '43b7f5db36994599861eec4849cc68fd', 'barrieridx': 'cb47616cd2dc4ccc8fd523bd3a5064bb', 'windspeed': 10, 'winddirection': 60, 'relhumid': 90, 'temperature': 20}\n",
      "Choosing a perimeter from the database\n",
      "{'description': 'Maria2019', 'igniteidx': 'c3316bbd93e04c708b0d448fe3be6a95', 'compareidx': '51fdaebe31f44ad69272779a3f01182d', 'lcpidx': '43b7f5db36994599861eec4849cc68fd', 'barrieridx': 'cb47616cd2dc4ccc8fd523bd3a5064bb', 'windspeed': 10, 'winddirection': 60, 'relhumid': 90, 'temperature': 20}\n",
      "Choosing a perimeter from the database\n",
      "{'description': 'Maria2019', 'igniteidx': '75e0ca6dbc8345dbb29de4f227434e5f', 'compareidx': '51fdaebe31f44ad69272779a3f01182d', 'lcpidx': '43b7f5db36994599861eec4849cc68fd', 'barrieridx': 'cb47616cd2dc4ccc8fd523bd3a5064bb', 'windspeed': 10, 'winddirection': 60, 'relhumid': 90, 'temperature': 20}\n",
      "Choosing a perimeter from the database\n",
      "{'description': 'Maria2019', 'igniteidx': '7920068afa0340949533163c09228352', 'compareidx': '51fdaebe31f44ad69272779a3f01182d', 'lcpidx': '43b7f5db36994599861eec4849cc68fd', 'barrieridx': 'cb47616cd2dc4ccc8fd523bd3a5064bb', 'windspeed': 10, 'winddirection': 60, 'relhumid': 90, 'temperature': 20}\n",
      "Choosing a perimeter from the database\n",
      "{'description': 'Maria2019', 'igniteidx': '1e7faac3d578497ebe8a861669e82f81', 'compareidx': '51fdaebe31f44ad69272779a3f01182d', 'lcpidx': '43b7f5db36994599861eec4849cc68fd', 'barrieridx': 'cb47616cd2dc4ccc8fd523bd3a5064bb', 'windspeed': 10, 'winddirection': 60, 'relhumid': 90, 'temperature': 20}\n",
      "Choosing a perimeter from the database\n",
      "{'description': 'Maria2019', 'igniteidx': '0c767286b11c411aafbe2944ed338460', 'compareidx': '51fdaebe31f44ad69272779a3f01182d', 'lcpidx': '43b7f5db36994599861eec4849cc68fd', 'barrieridx': 'cb47616cd2dc4ccc8fd523bd3a5064bb', 'windspeed': 10, 'winddirection': 60, 'relhumid': 90, 'temperature': 20}\n",
      "Choosing a perimeter from the database\n",
      "{'description': 'Maria2019', 'igniteidx': 'af4854b431704a88b5ba078c9f05c8e9', 'compareidx': '51fdaebe31f44ad69272779a3f01182d', 'lcpidx': '43b7f5db36994599861eec4849cc68fd', 'barrieridx': 'cb47616cd2dc4ccc8fd523bd3a5064bb', 'windspeed': 10, 'winddirection': 60, 'relhumid': 90, 'temperature': 20}\n",
      "Choosing a perimeter from the database\n",
      "{'description': 'Maria2019', 'igniteidx': '0f7a494ddd2f41f58189253ddce7f9a3', 'compareidx': '51fdaebe31f44ad69272779a3f01182d', 'lcpidx': '43b7f5db36994599861eec4849cc68fd', 'barrieridx': 'cb47616cd2dc4ccc8fd523bd3a5064bb', 'windspeed': 10, 'winddirection': 60, 'relhumid': 90, 'temperature': 20}\n",
      "Choosing a perimeter from the database\n",
      "{'description': 'Maria2019', 'igniteidx': 'f05980fc400947ce8850246e11f1a882', 'compareidx': '51fdaebe31f44ad69272779a3f01182d', 'lcpidx': '43b7f5db36994599861eec4849cc68fd', 'barrieridx': 'cb47616cd2dc4ccc8fd523bd3a5064bb', 'windspeed': 10, 'winddirection': 60, 'relhumid': 90, 'temperature': 20}\n",
      "Choosing a perimeter from the database\n",
      "{'description': 'Maria2019', 'igniteidx': '58f453e7416d475c86b48b973b1f6f1a', 'compareidx': '51fdaebe31f44ad69272779a3f01182d', 'lcpidx': '43b7f5db36994599861eec4849cc68fd', 'barrieridx': 'cb47616cd2dc4ccc8fd523bd3a5064bb', 'windspeed': 10, 'winddirection': 60, 'relhumid': 90, 'temperature': 20}\n",
      "Choosing a perimeter from the database\n",
      "{'description': 'Maria2019', 'igniteidx': '8d1455a505ae4b91bc0313097c112c69', 'compareidx': '51fdaebe31f44ad69272779a3f01182d', 'lcpidx': '43b7f5db36994599861eec4849cc68fd', 'barrieridx': 'cb47616cd2dc4ccc8fd523bd3a5064bb', 'windspeed': 10, 'winddirection': 60, 'relhumid': 90, 'temperature': 20}\n",
      "Choosing a perimeter from the database\n",
      "{'description': 'Maria2019', 'igniteidx': '7d7e283e984f4369b10475c255ec75cf', 'compareidx': '51fdaebe31f44ad69272779a3f01182d', 'lcpidx': '43b7f5db36994599861eec4849cc68fd', 'barrieridx': 'cb47616cd2dc4ccc8fd523bd3a5064bb', 'windspeed': 10, 'winddirection': 60, 'relhumid': 90, 'temperature': 20}\n",
      "Choosing a perimeter from the database\n",
      "{'description': 'Maria2019', 'igniteidx': '70cc89aee4cc4cedba851a2e2fcdf7ba', 'compareidx': '51fdaebe31f44ad69272779a3f01182d', 'lcpidx': '43b7f5db36994599861eec4849cc68fd', 'barrieridx': 'cb47616cd2dc4ccc8fd523bd3a5064bb', 'windspeed': 10, 'winddirection': 60, 'relhumid': 90, 'temperature': 20}\n",
      "Choosing a perimeter from the database\n",
      "{'description': 'Maria2019', 'igniteidx': '2ccb605bc9d04c918ec601faa960b79c', 'compareidx': '51fdaebe31f44ad69272779a3f01182d', 'lcpidx': '43b7f5db36994599861eec4849cc68fd', 'barrieridx': 'cb47616cd2dc4ccc8fd523bd3a5064bb', 'windspeed': 10, 'winddirection': 60, 'relhumid': 90, 'temperature': 20}\n",
      "Choosing a perimeter from the database\n",
      "{'description': 'Maria2019', 'igniteidx': '865bdbef50314a708f465fa0113e70a6', 'compareidx': '51fdaebe31f44ad69272779a3f01182d', 'lcpidx': '43b7f5db36994599861eec4849cc68fd', 'barrieridx': 'cb47616cd2dc4ccc8fd523bd3a5064bb', 'windspeed': 10, 'winddirection': 60, 'relhumid': 90, 'temperature': 20}\n",
      "Choosing a perimeter from the database\n",
      "{'description': 'Maria2019', 'igniteidx': 'bcbc6b3e8d6d46689bbccdb259d912c1', 'compareidx': '51fdaebe31f44ad69272779a3f01182d', 'lcpidx': '43b7f5db36994599861eec4849cc68fd', 'barrieridx': 'cb47616cd2dc4ccc8fd523bd3a5064bb', 'windspeed': 10, 'winddirection': 60, 'relhumid': 90, 'temperature': 20}\n",
      "Choosing a perimeter from the database\n",
      "{'description': 'Maria2019', 'igniteidx': '29918e3fa3134f1bb78c5e6b146daf89', 'compareidx': '51fdaebe31f44ad69272779a3f01182d', 'lcpidx': '43b7f5db36994599861eec4849cc68fd', 'barrieridx': 'cb47616cd2dc4ccc8fd523bd3a5064bb', 'windspeed': 10, 'winddirection': 60, 'relhumid': 90, 'temperature': 20}\n",
      "Choosing a perimeter from the database\n",
      "{'description': 'Maria2019', 'igniteidx': '217c7bf8ef304f8582de82c045f2d848', 'compareidx': '51fdaebe31f44ad69272779a3f01182d', 'lcpidx': '43b7f5db36994599861eec4849cc68fd', 'barrieridx': 'cb47616cd2dc4ccc8fd523bd3a5064bb', 'windspeed': 10, 'winddirection': 60, 'relhumid': 90, 'temperature': 20}\n",
      "Choosing a perimeter from the database\n",
      "{'description': 'Maria2019', 'igniteidx': '61d43fb456474f59b52e08617dffbe12', 'compareidx': '51fdaebe31f44ad69272779a3f01182d', 'lcpidx': '43b7f5db36994599861eec4849cc68fd', 'barrieridx': 'cb47616cd2dc4ccc8fd523bd3a5064bb', 'windspeed': 10, 'winddirection': 60, 'relhumid': 90, 'temperature': 20}\n",
      "Choosing a perimeter from the database\n",
      "{'description': 'Maria2019', 'igniteidx': 'f8d4dd6d702843e88bf328a369eb8631', 'compareidx': '51fdaebe31f44ad69272779a3f01182d', 'lcpidx': '43b7f5db36994599861eec4849cc68fd', 'barrieridx': 'cb47616cd2dc4ccc8fd523bd3a5064bb', 'windspeed': 10, 'winddirection': 60, 'relhumid': 90, 'temperature': 20}\n",
      "Choosing a perimeter from the database\n",
      "{'description': 'Maria2019', 'igniteidx': '07b212baf58f4a5f90e3e9bf234824d5', 'compareidx': '51fdaebe31f44ad69272779a3f01182d', 'lcpidx': '43b7f5db36994599861eec4849cc68fd', 'barrieridx': 'cb47616cd2dc4ccc8fd523bd3a5064bb', 'windspeed': 10, 'winddirection': 60, 'relhumid': 90, 'temperature': 20}\n",
      "Choosing a perimeter from the database\n",
      "{'description': 'Maria2019', 'igniteidx': '537a672c65784af8bc0d24f7590dc446', 'compareidx': '51fdaebe31f44ad69272779a3f01182d', 'lcpidx': '43b7f5db36994599861eec4849cc68fd', 'barrieridx': 'cb47616cd2dc4ccc8fd523bd3a5064bb', 'windspeed': 10, 'winddirection': 60, 'relhumid': 90, 'temperature': 20}\n",
      "Choosing a perimeter from the database\n",
      "{'description': 'Maria2019', 'igniteidx': 'f7153c55b92441e8a7d8af6f90c66d67', 'compareidx': '51fdaebe31f44ad69272779a3f01182d', 'lcpidx': '43b7f5db36994599861eec4849cc68fd', 'barrieridx': 'cb47616cd2dc4ccc8fd523bd3a5064bb', 'windspeed': 10, 'winddirection': 60, 'relhumid': 90, 'temperature': 20}\n",
      "Choosing a perimeter from the database\n",
      "{'description': 'Maria2019', 'igniteidx': 'd8ff9fc6165645ad835b20353a6d3a95', 'compareidx': '51fdaebe31f44ad69272779a3f01182d', 'lcpidx': '43b7f5db36994599861eec4849cc68fd', 'barrieridx': 'cb47616cd2dc4ccc8fd523bd3a5064bb', 'windspeed': 10, 'winddirection': 60, 'relhumid': 90, 'temperature': 20}\n",
      "Choosing a perimeter from the database\n",
      "{'description': 'Maria2019', 'igniteidx': '8f114090d1224916a946e118989a4eb2', 'compareidx': '51fdaebe31f44ad69272779a3f01182d', 'lcpidx': '43b7f5db36994599861eec4849cc68fd', 'barrieridx': 'cb47616cd2dc4ccc8fd523bd3a5064bb', 'windspeed': 10, 'winddirection': 60, 'relhumid': 90, 'temperature': 20}\n",
      "Choosing a perimeter from the database\n",
      "{'description': 'Maria2019', 'igniteidx': '5b660f51c1e0486997c34ba5a171efab', 'compareidx': '51fdaebe31f44ad69272779a3f01182d', 'lcpidx': '43b7f5db36994599861eec4849cc68fd', 'barrieridx': 'cb47616cd2dc4ccc8fd523bd3a5064bb', 'windspeed': 10, 'winddirection': 60, 'relhumid': 90, 'temperature': 20}\n",
      "Choosing a perimeter from the database\n",
      "{'description': 'Maria2019', 'igniteidx': '2982e15874774a78b46548731dfc208e', 'compareidx': '51fdaebe31f44ad69272779a3f01182d', 'lcpidx': '43b7f5db36994599861eec4849cc68fd', 'barrieridx': 'cb47616cd2dc4ccc8fd523bd3a5064bb', 'windspeed': 10, 'winddirection': 60, 'relhumid': 90, 'temperature': 20}\n",
      "Choosing a perimeter from the database\n",
      "{'description': 'Maria2019', 'igniteidx': '39aba7d47c1947df8f7536544b57fee7', 'compareidx': '51fdaebe31f44ad69272779a3f01182d', 'lcpidx': '43b7f5db36994599861eec4849cc68fd', 'barrieridx': 'cb47616cd2dc4ccc8fd523bd3a5064bb', 'windspeed': 10, 'winddirection': 60, 'relhumid': 90, 'temperature': 20}\n",
      "Choosing a perimeter from the database\n",
      "{'description': 'Maria2019', 'igniteidx': 'a9777685c9754d0ebd19080a8cf85298', 'compareidx': '51fdaebe31f44ad69272779a3f01182d', 'lcpidx': '43b7f5db36994599861eec4849cc68fd', 'barrieridx': 'cb47616cd2dc4ccc8fd523bd3a5064bb', 'windspeed': 10, 'winddirection': 60, 'relhumid': 90, 'temperature': 20}\n",
      "Choosing a perimeter from the database\n",
      "{'description': 'Maria2019', 'igniteidx': '9b00a30c3406497ca0f1ce077e548551', 'compareidx': '51fdaebe31f44ad69272779a3f01182d', 'lcpidx': '43b7f5db36994599861eec4849cc68fd', 'barrieridx': 'cb47616cd2dc4ccc8fd523bd3a5064bb', 'windspeed': 10, 'winddirection': 60, 'relhumid': 90, 'temperature': 20}\n",
      "Choosing a perimeter from the database\n",
      "{'description': 'Maria2019', 'igniteidx': '01e9447d61b24f44baa6aac5eadbfe18', 'compareidx': '51fdaebe31f44ad69272779a3f01182d', 'lcpidx': '43b7f5db36994599861eec4849cc68fd', 'barrieridx': 'cb47616cd2dc4ccc8fd523bd3a5064bb', 'windspeed': 10, 'winddirection': 60, 'relhumid': 90, 'temperature': 20}\n",
      "Choosing a perimeter from the database\n",
      "{'description': 'Maria2019', 'igniteidx': '670c7790c70f4ffea618114c7c30a249', 'compareidx': '51fdaebe31f44ad69272779a3f01182d', 'lcpidx': '43b7f5db36994599861eec4849cc68fd', 'barrieridx': 'cb47616cd2dc4ccc8fd523bd3a5064bb', 'windspeed': 10, 'winddirection': 60, 'relhumid': 90, 'temperature': 20}\n",
      "Choosing a perimeter from the database\n",
      "{'description': 'Maria2019', 'igniteidx': '0922c06e5d34412cb7a83316f3e5a0fd', 'compareidx': '51fdaebe31f44ad69272779a3f01182d', 'lcpidx': '43b7f5db36994599861eec4849cc68fd', 'barrieridx': 'cb47616cd2dc4ccc8fd523bd3a5064bb', 'windspeed': 10, 'winddirection': 60, 'relhumid': 90, 'temperature': 20}\n",
      "Choosing a perimeter from the database\n",
      "{'description': 'Maria2019', 'igniteidx': '52936e79b8bc4ae99cb9abcc01bda194', 'compareidx': '51fdaebe31f44ad69272779a3f01182d', 'lcpidx': '43b7f5db36994599861eec4849cc68fd', 'barrieridx': 'cb47616cd2dc4ccc8fd523bd3a5064bb', 'windspeed': 10, 'winddirection': 60, 'relhumid': 90, 'temperature': 20}\n",
      "Choosing a perimeter from the database\n",
      "{'description': 'Maria2019', 'igniteidx': 'c1471401a232408282318306b0fce118', 'compareidx': '51fdaebe31f44ad69272779a3f01182d', 'lcpidx': '43b7f5db36994599861eec4849cc68fd', 'barrieridx': 'cb47616cd2dc4ccc8fd523bd3a5064bb', 'windspeed': 10, 'winddirection': 60, 'relhumid': 90, 'temperature': 20}\n",
      "Choosing a perimeter from the database\n",
      "{'description': 'Maria2019', 'igniteidx': 'd4af94bba5aa430a88cc77cef195cd69', 'compareidx': '51fdaebe31f44ad69272779a3f01182d', 'lcpidx': '43b7f5db36994599861eec4849cc68fd', 'barrieridx': 'cb47616cd2dc4ccc8fd523bd3a5064bb', 'windspeed': 10, 'winddirection': 60, 'relhumid': 90, 'temperature': 20}\n",
      "Choosing a perimeter from the database\n",
      "{'description': 'Maria2019', 'igniteidx': '0fb7f04c6bce45c4be9935f98bc0e3dc', 'compareidx': '51fdaebe31f44ad69272779a3f01182d', 'lcpidx': '43b7f5db36994599861eec4849cc68fd', 'barrieridx': 'cb47616cd2dc4ccc8fd523bd3a5064bb', 'windspeed': 10, 'winddirection': 60, 'relhumid': 90, 'temperature': 20}\n",
      "Choosing a perimeter from the database\n",
      "{'description': 'Maria2019', 'igniteidx': '8107d405cd4d4134b05abdee9883327b', 'compareidx': '51fdaebe31f44ad69272779a3f01182d', 'lcpidx': '43b7f5db36994599861eec4849cc68fd', 'barrieridx': 'cb47616cd2dc4ccc8fd523bd3a5064bb', 'windspeed': 10, 'winddirection': 60, 'relhumid': 90, 'temperature': 20}\n",
      "Choosing a perimeter from the database\n",
      "{'description': 'Maria2019', 'igniteidx': '28af6eb89b054feb83498d8ccd918ac1', 'compareidx': '51fdaebe31f44ad69272779a3f01182d', 'lcpidx': '43b7f5db36994599861eec4849cc68fd', 'barrieridx': 'cb47616cd2dc4ccc8fd523bd3a5064bb', 'windspeed': 10, 'winddirection': 60, 'relhumid': 90, 'temperature': 20}\n",
      "Choosing a perimeter from the database\n",
      "{'description': 'Maria2019', 'igniteidx': 'b22a9a459d344d478da15d368c91928b', 'compareidx': '51fdaebe31f44ad69272779a3f01182d', 'lcpidx': '43b7f5db36994599861eec4849cc68fd', 'barrieridx': 'cb47616cd2dc4ccc8fd523bd3a5064bb', 'windspeed': 10, 'winddirection': 60, 'relhumid': 90, 'temperature': 20}\n",
      "Choosing a perimeter from the database\n",
      "{'description': 'Maria2019', 'igniteidx': 'a9e78f7debf1424093f4ae16a7437cff', 'compareidx': '51fdaebe31f44ad69272779a3f01182d', 'lcpidx': '43b7f5db36994599861eec4849cc68fd', 'barrieridx': 'cb47616cd2dc4ccc8fd523bd3a5064bb', 'windspeed': 10, 'winddirection': 60, 'relhumid': 90, 'temperature': 20}\n",
      "Choosing a perimeter from the database\n",
      "{'description': 'Maria2019', 'igniteidx': '2582cd7e2ea24f85aafb53c0e1375278', 'compareidx': '51fdaebe31f44ad69272779a3f01182d', 'lcpidx': '43b7f5db36994599861eec4849cc68fd', 'barrieridx': 'cb47616cd2dc4ccc8fd523bd3a5064bb', 'windspeed': 10, 'winddirection': 60, 'relhumid': 90, 'temperature': 20}\n",
      "Choosing a perimeter from the database\n",
      "{'description': 'Maria2019', 'igniteidx': 'a4174d02ea6f45449774c5a442e62fda', 'compareidx': '51fdaebe31f44ad69272779a3f01182d', 'lcpidx': '43b7f5db36994599861eec4849cc68fd', 'barrieridx': 'cb47616cd2dc4ccc8fd523bd3a5064bb', 'windspeed': 10, 'winddirection': 60, 'relhumid': 90, 'temperature': 20}\n",
      "Choosing a perimeter from the database\n",
      "{'description': 'Maria2019', 'igniteidx': '5384696bb92845f9a35afe4ef3c7ad40', 'compareidx': '51fdaebe31f44ad69272779a3f01182d', 'lcpidx': '43b7f5db36994599861eec4849cc68fd', 'barrieridx': 'cb47616cd2dc4ccc8fd523bd3a5064bb', 'windspeed': 10, 'winddirection': 60, 'relhumid': 90, 'temperature': 20}\n",
      "Choosing a perimeter from the database\n",
      "{'description': 'Maria2019', 'igniteidx': '0cdc19d5969346c6ad6eb42045353fc3', 'compareidx': '51fdaebe31f44ad69272779a3f01182d', 'lcpidx': '43b7f5db36994599861eec4849cc68fd', 'barrieridx': 'cb47616cd2dc4ccc8fd523bd3a5064bb', 'windspeed': 10, 'winddirection': 60, 'relhumid': 90, 'temperature': 20}\n",
      "Choosing a perimeter from the database\n",
      "{'description': 'Maria2019', 'igniteidx': '1e3ef4a1468940fbb7252a2171e79442', 'compareidx': '51fdaebe31f44ad69272779a3f01182d', 'lcpidx': '43b7f5db36994599861eec4849cc68fd', 'barrieridx': 'cb47616cd2dc4ccc8fd523bd3a5064bb', 'windspeed': 10, 'winddirection': 60, 'relhumid': 90, 'temperature': 20}\n",
      "Choosing a perimeter from the database\n",
      "{'description': 'Maria2019', 'igniteidx': '87e9330d0e2a43398625a160b2f355e4', 'compareidx': '51fdaebe31f44ad69272779a3f01182d', 'lcpidx': '43b7f5db36994599861eec4849cc68fd', 'barrieridx': 'cb47616cd2dc4ccc8fd523bd3a5064bb', 'windspeed': 10, 'winddirection': 60, 'relhumid': 90, 'temperature': 20}\n",
      "Choosing a perimeter from the database\n",
      "{'description': 'Maria2019', 'igniteidx': '33f07d43c1364c4788e4c1457d7dcf50', 'compareidx': '51fdaebe31f44ad69272779a3f01182d', 'lcpidx': '43b7f5db36994599861eec4849cc68fd', 'barrieridx': 'cb47616cd2dc4ccc8fd523bd3a5064bb', 'windspeed': 10, 'winddirection': 60, 'relhumid': 90, 'temperature': 20}\n",
      "Choosing a perimeter from the database\n",
      "{'description': 'Maria2019', 'igniteidx': '4054b3d97e404a43830c68b66469e8c0', 'compareidx': '51fdaebe31f44ad69272779a3f01182d', 'lcpidx': '43b7f5db36994599861eec4849cc68fd', 'barrieridx': 'cb47616cd2dc4ccc8fd523bd3a5064bb', 'windspeed': 10, 'winddirection': 60, 'relhumid': 90, 'temperature': 20}\n",
      "Choosing a perimeter from the database\n",
      "{'description': 'Maria2019', 'igniteidx': '0a27c4052b454ba3bd10c110d20a71d1', 'compareidx': '51fdaebe31f44ad69272779a3f01182d', 'lcpidx': '43b7f5db36994599861eec4849cc68fd', 'barrieridx': 'cb47616cd2dc4ccc8fd523bd3a5064bb', 'windspeed': 10, 'winddirection': 60, 'relhumid': 90, 'temperature': 20}\n",
      "Choosing a perimeter from the database\n",
      "{'description': 'Maria2019', 'igniteidx': 'b17b68fadda641228aa87d19a4c0349a', 'compareidx': '51fdaebe31f44ad69272779a3f01182d', 'lcpidx': '43b7f5db36994599861eec4849cc68fd', 'barrieridx': 'cb47616cd2dc4ccc8fd523bd3a5064bb', 'windspeed': 10, 'winddirection': 60, 'relhumid': 90, 'temperature': 20}\n",
      "Choosing a perimeter from the database\n",
      "{'description': 'Maria2019', 'igniteidx': 'ac56580cb3e241298e06ec923be6f443', 'compareidx': '51fdaebe31f44ad69272779a3f01182d', 'lcpidx': '43b7f5db36994599861eec4849cc68fd', 'barrieridx': 'cb47616cd2dc4ccc8fd523bd3a5064bb', 'windspeed': 10, 'winddirection': 60, 'relhumid': 90, 'temperature': 20}\n",
      "Choosing a perimeter from the database\n",
      "{'description': 'Maria2019', 'igniteidx': '4e3fc07addde4d54a89d020e6693b623', 'compareidx': '51fdaebe31f44ad69272779a3f01182d', 'lcpidx': '43b7f5db36994599861eec4849cc68fd', 'barrieridx': 'cb47616cd2dc4ccc8fd523bd3a5064bb', 'windspeed': 10, 'winddirection': 60, 'relhumid': 90, 'temperature': 20}\n",
      "Choosing a perimeter from the database\n",
      "{'description': 'Maria2019', 'igniteidx': '0f9aca44ddab4c599ef91eae15178099', 'compareidx': '51fdaebe31f44ad69272779a3f01182d', 'lcpidx': '43b7f5db36994599861eec4849cc68fd', 'barrieridx': 'cb47616cd2dc4ccc8fd523bd3a5064bb', 'windspeed': 10, 'winddirection': 60, 'relhumid': 90, 'temperature': 20}\n",
      "Choosing a perimeter from the database\n",
      "{'description': 'Maria2019', 'igniteidx': '3524795d47354fb78ab1056a0c984cba', 'compareidx': '51fdaebe31f44ad69272779a3f01182d', 'lcpidx': '43b7f5db36994599861eec4849cc68fd', 'barrieridx': 'cb47616cd2dc4ccc8fd523bd3a5064bb', 'windspeed': 10, 'winddirection': 60, 'relhumid': 90, 'temperature': 20}\n",
      "Choosing a perimeter from the database\n",
      "{'description': 'Maria2019', 'igniteidx': '3105dcac5d95414d9d27fc7b36dcbe31', 'compareidx': '51fdaebe31f44ad69272779a3f01182d', 'lcpidx': '43b7f5db36994599861eec4849cc68fd', 'barrieridx': 'cb47616cd2dc4ccc8fd523bd3a5064bb', 'windspeed': 10, 'winddirection': 60, 'relhumid': 90, 'temperature': 20}\n",
      "Choosing a perimeter from the database\n",
      "{'description': 'Maria2019', 'igniteidx': '375b1ea9e169497584b53f2e9885e483', 'compareidx': '51fdaebe31f44ad69272779a3f01182d', 'lcpidx': '43b7f5db36994599861eec4849cc68fd', 'barrieridx': 'cb47616cd2dc4ccc8fd523bd3a5064bb', 'windspeed': 10, 'winddirection': 60, 'relhumid': 90, 'temperature': 20}\n",
      "Choosing a perimeter from the database\n",
      "{'description': 'Maria2019', 'igniteidx': 'a7b26dee9c5c4507a16c7ed365ead0b3', 'compareidx': '51fdaebe31f44ad69272779a3f01182d', 'lcpidx': '43b7f5db36994599861eec4849cc68fd', 'barrieridx': 'cb47616cd2dc4ccc8fd523bd3a5064bb', 'windspeed': 10, 'winddirection': 60, 'relhumid': 90, 'temperature': 20}\n",
      "Choosing a perimeter from the database\n",
      "{'description': 'Maria2019', 'igniteidx': '3b6dbdb57d784234a1869d2a0ba62cd3', 'compareidx': '51fdaebe31f44ad69272779a3f01182d', 'lcpidx': '43b7f5db36994599861eec4849cc68fd', 'barrieridx': 'cb47616cd2dc4ccc8fd523bd3a5064bb', 'windspeed': 10, 'winddirection': 60, 'relhumid': 90, 'temperature': 20}\n",
      "Choosing a perimeter from the database\n",
      "{'description': 'Maria2019', 'igniteidx': '2b4df310198042c08a7a19bb081001b2', 'compareidx': '51fdaebe31f44ad69272779a3f01182d', 'lcpidx': '43b7f5db36994599861eec4849cc68fd', 'barrieridx': 'cb47616cd2dc4ccc8fd523bd3a5064bb', 'windspeed': 10, 'winddirection': 60, 'relhumid': 90, 'temperature': 20}\n",
      "Choosing a perimeter from the database\n",
      "{'description': 'Maria2019', 'igniteidx': 'a53a67683b8f479c89a0a67c1e2ea720', 'compareidx': '51fdaebe31f44ad69272779a3f01182d', 'lcpidx': '43b7f5db36994599861eec4849cc68fd', 'barrieridx': 'cb47616cd2dc4ccc8fd523bd3a5064bb', 'windspeed': 10, 'winddirection': 60, 'relhumid': 90, 'temperature': 20}\n",
      "Choosing a perimeter from the database\n",
      "{'description': 'Maria2019', 'igniteidx': 'e30320ce25c84908a814e92f94e4d4f3', 'compareidx': '51fdaebe31f44ad69272779a3f01182d', 'lcpidx': '43b7f5db36994599861eec4849cc68fd', 'barrieridx': 'cb47616cd2dc4ccc8fd523bd3a5064bb', 'windspeed': 10, 'winddirection': 60, 'relhumid': 90, 'temperature': 20}\n",
      "Choosing a perimeter from the database\n",
      "{'description': 'Maria2019', 'igniteidx': '268a41c5be314ea9ae8134886d253cbd', 'compareidx': '51fdaebe31f44ad69272779a3f01182d', 'lcpidx': '43b7f5db36994599861eec4849cc68fd', 'barrieridx': 'cb47616cd2dc4ccc8fd523bd3a5064bb', 'windspeed': 10, 'winddirection': 60, 'relhumid': 90, 'temperature': 20}\n",
      "Choosing a perimeter from the database\n",
      "{'description': 'Maria2019', 'igniteidx': 'a01b325762dc41359d9d6bfed3a1644b', 'compareidx': '51fdaebe31f44ad69272779a3f01182d', 'lcpidx': '43b7f5db36994599861eec4849cc68fd', 'barrieridx': 'cb47616cd2dc4ccc8fd523bd3a5064bb', 'windspeed': 10, 'winddirection': 60, 'relhumid': 90, 'temperature': 20}\n",
      "Choosing a perimeter from the database\n",
      "{'description': 'Maria2019', 'igniteidx': 'd61d139255024d17b9db7019a9295fd9', 'compareidx': '51fdaebe31f44ad69272779a3f01182d', 'lcpidx': '43b7f5db36994599861eec4849cc68fd', 'barrieridx': 'cb47616cd2dc4ccc8fd523bd3a5064bb', 'windspeed': 10, 'winddirection': 60, 'relhumid': 90, 'temperature': 20}\n",
      "Choosing a perimeter from the database\n",
      "{'description': 'Maria2019', 'igniteidx': '87c3853cba6d434cbc34eb4ef175e74b', 'compareidx': '51fdaebe31f44ad69272779a3f01182d', 'lcpidx': '43b7f5db36994599861eec4849cc68fd', 'barrieridx': 'cb47616cd2dc4ccc8fd523bd3a5064bb', 'windspeed': 10, 'winddirection': 60, 'relhumid': 90, 'temperature': 20}\n",
      "Choosing a perimeter from the database\n",
      "{'description': 'Maria2019', 'igniteidx': '538e7bf0cad54bc493b0778af66032af', 'compareidx': '51fdaebe31f44ad69272779a3f01182d', 'lcpidx': '43b7f5db36994599861eec4849cc68fd', 'barrieridx': 'cb47616cd2dc4ccc8fd523bd3a5064bb', 'windspeed': 10, 'winddirection': 60, 'relhumid': 90, 'temperature': 20}\n",
      "Choosing a perimeter from the database\n",
      "{'description': 'Maria2019', 'igniteidx': '141aae3276c34b5aabb34532a4a3fe70', 'compareidx': '51fdaebe31f44ad69272779a3f01182d', 'lcpidx': '43b7f5db36994599861eec4849cc68fd', 'barrieridx': 'cb47616cd2dc4ccc8fd523bd3a5064bb', 'windspeed': 10, 'winddirection': 60, 'relhumid': 90, 'temperature': 20}\n",
      "Choosing a perimeter from the database\n",
      "{'description': 'Maria2019', 'igniteidx': 'b8e345ca935c4e8dadf8502111bd24ad', 'compareidx': '51fdaebe31f44ad69272779a3f01182d', 'lcpidx': '43b7f5db36994599861eec4849cc68fd', 'barrieridx': 'cb47616cd2dc4ccc8fd523bd3a5064bb', 'windspeed': 10, 'winddirection': 60, 'relhumid': 90, 'temperature': 20}\n",
      "Choosing a perimeter from the database\n",
      "{'description': 'Maria2019', 'igniteidx': '6b515e52bf63408a8c05681b0ab2de90', 'compareidx': '51fdaebe31f44ad69272779a3f01182d', 'lcpidx': '43b7f5db36994599861eec4849cc68fd', 'barrieridx': 'cb47616cd2dc4ccc8fd523bd3a5064bb', 'windspeed': 10, 'winddirection': 60, 'relhumid': 90, 'temperature': 20}\n",
      "Choosing a perimeter from the database\n",
      "{'description': 'Maria2019', 'igniteidx': '7435af37343043b0a3ac6126a8db9c4b', 'compareidx': '51fdaebe31f44ad69272779a3f01182d', 'lcpidx': '43b7f5db36994599861eec4849cc68fd', 'barrieridx': 'cb47616cd2dc4ccc8fd523bd3a5064bb', 'windspeed': 10, 'winddirection': 60, 'relhumid': 90, 'temperature': 20}\n",
      "Choosing a perimeter from the database\n",
      "{'description': 'Maria2019', 'igniteidx': '29384ebfb7b746af86f1ac4b3f3df784', 'compareidx': '51fdaebe31f44ad69272779a3f01182d', 'lcpidx': '43b7f5db36994599861eec4849cc68fd', 'barrieridx': 'cb47616cd2dc4ccc8fd523bd3a5064bb', 'windspeed': 10, 'winddirection': 60, 'relhumid': 90, 'temperature': 20}\n",
      "Choosing a perimeter from the database\n",
      "{'description': 'Maria2019', 'igniteidx': 'c1772621aea64631acd0d8b3c10d128f', 'compareidx': '51fdaebe31f44ad69272779a3f01182d', 'lcpidx': '43b7f5db36994599861eec4849cc68fd', 'barrieridx': 'cb47616cd2dc4ccc8fd523bd3a5064bb', 'windspeed': 10, 'winddirection': 60, 'relhumid': 90, 'temperature': 20}\n",
      "Choosing a perimeter from the database\n",
      "{'description': 'Maria2019', 'igniteidx': '37eface554ea46429ffe0af5717b9c3a', 'compareidx': '51fdaebe31f44ad69272779a3f01182d', 'lcpidx': '43b7f5db36994599861eec4849cc68fd', 'barrieridx': 'cb47616cd2dc4ccc8fd523bd3a5064bb', 'windspeed': 10, 'winddirection': 60, 'relhumid': 90, 'temperature': 20}\n",
      "Choosing a perimeter from the database\n",
      "{'description': 'Maria2019', 'igniteidx': '24440470fca14c47abe7e0da3e0ec7f6', 'compareidx': '51fdaebe31f44ad69272779a3f01182d', 'lcpidx': '43b7f5db36994599861eec4849cc68fd', 'barrieridx': 'cb47616cd2dc4ccc8fd523bd3a5064bb', 'windspeed': 10, 'winddirection': 60, 'relhumid': 90, 'temperature': 20}\n",
      "Choosing a perimeter from the database\n",
      "{'description': 'Maria2019', 'igniteidx': 'e763e8fb47434cd58df8cfe408879188', 'compareidx': '51fdaebe31f44ad69272779a3f01182d', 'lcpidx': '43b7f5db36994599861eec4849cc68fd', 'barrieridx': 'cb47616cd2dc4ccc8fd523bd3a5064bb', 'windspeed': 10, 'winddirection': 60, 'relhumid': 90, 'temperature': 20}\n",
      "Choosing a perimeter from the database\n",
      "{'description': 'Maria2019', 'igniteidx': 'e900da451ecd42288ea8a281de32d693', 'compareidx': '51fdaebe31f44ad69272779a3f01182d', 'lcpidx': '43b7f5db36994599861eec4849cc68fd', 'barrieridx': 'cb47616cd2dc4ccc8fd523bd3a5064bb', 'windspeed': 10, 'winddirection': 60, 'relhumid': 90, 'temperature': 20}\n",
      "Choosing a perimeter from the database\n",
      "{'description': 'Maria2019', 'igniteidx': '791bf7a1f94a4093805aae4d084beb5d', 'compareidx': '51fdaebe31f44ad69272779a3f01182d', 'lcpidx': '43b7f5db36994599861eec4849cc68fd', 'barrieridx': 'cb47616cd2dc4ccc8fd523bd3a5064bb', 'windspeed': 10, 'winddirection': 60, 'relhumid': 90, 'temperature': 20}\n",
      "Choosing a perimeter from the database\n",
      "{'description': 'Maria2019', 'igniteidx': 'c77c3359be4d44989bf9a8ce90a2985c', 'compareidx': '51fdaebe31f44ad69272779a3f01182d', 'lcpidx': '43b7f5db36994599861eec4849cc68fd', 'barrieridx': 'cb47616cd2dc4ccc8fd523bd3a5064bb', 'windspeed': 10, 'winddirection': 60, 'relhumid': 90, 'temperature': 20}\n",
      "Choosing a perimeter from the database\n",
      "{'description': 'Maria2019', 'igniteidx': 'b1ef282012764c3ea2c31962ead241ae', 'compareidx': '51fdaebe31f44ad69272779a3f01182d', 'lcpidx': '43b7f5db36994599861eec4849cc68fd', 'barrieridx': 'cb47616cd2dc4ccc8fd523bd3a5064bb', 'windspeed': 10, 'winddirection': 60, 'relhumid': 90, 'temperature': 20}\n",
      "Choosing a perimeter from the database\n",
      "{'description': 'Maria2019', 'igniteidx': '525459f9a6b745ca825f2c8e7c7b9f0a', 'compareidx': '51fdaebe31f44ad69272779a3f01182d', 'lcpidx': '43b7f5db36994599861eec4849cc68fd', 'barrieridx': 'cb47616cd2dc4ccc8fd523bd3a5064bb', 'windspeed': 10, 'winddirection': 60, 'relhumid': 90, 'temperature': 20}\n",
      "Choosing a perimeter from the database\n",
      "{'description': 'Maria2019', 'igniteidx': '615ff4a1ed1f4dfdbae28feb0d5a5b89', 'compareidx': '51fdaebe31f44ad69272779a3f01182d', 'lcpidx': '43b7f5db36994599861eec4849cc68fd', 'barrieridx': 'cb47616cd2dc4ccc8fd523bd3a5064bb', 'windspeed': 10, 'winddirection': 60, 'relhumid': 90, 'temperature': 20}\n",
      "Choosing a perimeter from the database\n",
      "{'description': 'Maria2019', 'igniteidx': '29bfb4bf632e46bdbba168a48beb4095', 'compareidx': '51fdaebe31f44ad69272779a3f01182d', 'lcpidx': '43b7f5db36994599861eec4849cc68fd', 'barrieridx': 'cb47616cd2dc4ccc8fd523bd3a5064bb', 'windspeed': 10, 'winddirection': 60, 'relhumid': 90, 'temperature': 20}\n",
      "Choosing a perimeter from the database\n",
      "{'description': 'Maria2019', 'igniteidx': '22b8e2af83c44e1ab46455b7a7f107bd', 'compareidx': '51fdaebe31f44ad69272779a3f01182d', 'lcpidx': '43b7f5db36994599861eec4849cc68fd', 'barrieridx': 'cb47616cd2dc4ccc8fd523bd3a5064bb', 'windspeed': 10, 'winddirection': 60, 'relhumid': 90, 'temperature': 20}\n",
      "Choosing a perimeter from the database\n",
      "{'description': 'Maria2019', 'igniteidx': 'd08e8136ef17468990343a1f36e9f4f4', 'compareidx': '51fdaebe31f44ad69272779a3f01182d', 'lcpidx': '43b7f5db36994599861eec4849cc68fd', 'barrieridx': 'cb47616cd2dc4ccc8fd523bd3a5064bb', 'windspeed': 10, 'winddirection': 60, 'relhumid': 90, 'temperature': 20}\n",
      "Choosing a perimeter from the database\n",
      "{'description': 'Maria2019', 'igniteidx': 'c731f4c017ce48af8f4865d345008019', 'compareidx': '51fdaebe31f44ad69272779a3f01182d', 'lcpidx': '43b7f5db36994599861eec4849cc68fd', 'barrieridx': 'cb47616cd2dc4ccc8fd523bd3a5064bb', 'windspeed': 10, 'winddirection': 60, 'relhumid': 90, 'temperature': 20}\n",
      "Choosing a perimeter from the database\n",
      "{'description': 'Maria2019', 'igniteidx': 'e9cd97a7dca0461d9590f053144ed2c4', 'compareidx': '51fdaebe31f44ad69272779a3f01182d', 'lcpidx': '43b7f5db36994599861eec4849cc68fd', 'barrieridx': 'cb47616cd2dc4ccc8fd523bd3a5064bb', 'windspeed': 10, 'winddirection': 60, 'relhumid': 90, 'temperature': 20}\n",
      "Choosing a perimeter from the database\n",
      "{'description': 'Maria2019', 'igniteidx': '0b1cb497739d47ca8bcf347c01230e36', 'compareidx': '51fdaebe31f44ad69272779a3f01182d', 'lcpidx': '43b7f5db36994599861eec4849cc68fd', 'barrieridx': 'cb47616cd2dc4ccc8fd523bd3a5064bb', 'windspeed': 10, 'winddirection': 60, 'relhumid': 90, 'temperature': 20}\n",
      "Choosing a perimeter from the database\n",
      "{'description': 'Maria2019', 'igniteidx': 'a96239f4f07b45708f3ae89c4621eb8f', 'compareidx': '51fdaebe31f44ad69272779a3f01182d', 'lcpidx': '43b7f5db36994599861eec4849cc68fd', 'barrieridx': 'cb47616cd2dc4ccc8fd523bd3a5064bb', 'windspeed': 10, 'winddirection': 60, 'relhumid': 90, 'temperature': 20}\n",
      "Choosing a perimeter from the database\n",
      "{'description': 'Maria2019', 'igniteidx': '76bc6cb344904c2e97144f15b62c4829', 'compareidx': '51fdaebe31f44ad69272779a3f01182d', 'lcpidx': '43b7f5db36994599861eec4849cc68fd', 'barrieridx': 'cb47616cd2dc4ccc8fd523bd3a5064bb', 'windspeed': 10, 'winddirection': 60, 'relhumid': 90, 'temperature': 20}\n",
      "Choosing a perimeter from the database\n",
      "{'description': 'Maria2019', 'igniteidx': 'bcc7341195bc4f8f9f612bd5a6142c66', 'compareidx': '51fdaebe31f44ad69272779a3f01182d', 'lcpidx': '43b7f5db36994599861eec4849cc68fd', 'barrieridx': 'cb47616cd2dc4ccc8fd523bd3a5064bb', 'windspeed': 10, 'winddirection': 60, 'relhumid': 90, 'temperature': 20}\n",
      "Choosing a perimeter from the database\n",
      "{'description': 'Maria2019', 'igniteidx': 'd022094edcb94b04830ac78564c52917', 'compareidx': '51fdaebe31f44ad69272779a3f01182d', 'lcpidx': '43b7f5db36994599861eec4849cc68fd', 'barrieridx': 'cb47616cd2dc4ccc8fd523bd3a5064bb', 'windspeed': 10, 'winddirection': 60, 'relhumid': 90, 'temperature': 20}\n",
      "Choosing a perimeter from the database\n",
      "{'description': 'Maria2019', 'igniteidx': '5165212dc38b43cbbf424969052d8b92', 'compareidx': '51fdaebe31f44ad69272779a3f01182d', 'lcpidx': '43b7f5db36994599861eec4849cc68fd', 'barrieridx': 'cb47616cd2dc4ccc8fd523bd3a5064bb', 'windspeed': 10, 'winddirection': 60, 'relhumid': 90, 'temperature': 20}\n",
      "Choosing a perimeter from the database\n",
      "{'description': 'Maria2019', 'igniteidx': 'fc3f2b8389a94c30aa86a9f40b1d9f97', 'compareidx': '51fdaebe31f44ad69272779a3f01182d', 'lcpidx': '43b7f5db36994599861eec4849cc68fd', 'barrieridx': 'cb47616cd2dc4ccc8fd523bd3a5064bb', 'windspeed': 10, 'winddirection': 60, 'relhumid': 90, 'temperature': 20}\n",
      "Choosing a perimeter from the database\n",
      "{'description': 'Maria2019', 'igniteidx': 'e1ec0c36bdfa44bdaff05c14f42ec2b4', 'compareidx': '51fdaebe31f44ad69272779a3f01182d', 'lcpidx': '43b7f5db36994599861eec4849cc68fd', 'barrieridx': 'cb47616cd2dc4ccc8fd523bd3a5064bb', 'windspeed': 10, 'winddirection': 60, 'relhumid': 90, 'temperature': 20}\n",
      "Choosing a perimeter from the database\n",
      "{'description': 'Maria2019', 'igniteidx': 'b8437bb81120438cb9fb24a3a16f157b', 'compareidx': '51fdaebe31f44ad69272779a3f01182d', 'lcpidx': '43b7f5db36994599861eec4849cc68fd', 'barrieridx': 'cb47616cd2dc4ccc8fd523bd3a5064bb', 'windspeed': 10, 'winddirection': 60, 'relhumid': 90, 'temperature': 20}\n",
      "Choosing a perimeter from the database\n",
      "{'description': 'Maria2019', 'igniteidx': 'eb2565daf3e545668c086c66989d73a1', 'compareidx': '51fdaebe31f44ad69272779a3f01182d', 'lcpidx': '43b7f5db36994599861eec4849cc68fd', 'barrieridx': 'cb47616cd2dc4ccc8fd523bd3a5064bb', 'windspeed': 10, 'winddirection': 60, 'relhumid': 90, 'temperature': 20}\n",
      "Choosing a perimeter from the database\n",
      "{'description': 'Maria2019', 'igniteidx': '53c823a68b56457e8c0bd68d714c7d93', 'compareidx': '51fdaebe31f44ad69272779a3f01182d', 'lcpidx': '43b7f5db36994599861eec4849cc68fd', 'barrieridx': 'cb47616cd2dc4ccc8fd523bd3a5064bb', 'windspeed': 10, 'winddirection': 60, 'relhumid': 90, 'temperature': 20}\n",
      "Choosing a perimeter from the database\n",
      "{'description': 'Maria2019', 'igniteidx': '5e787c0d840b4d85bfdb0a19b2208d63', 'compareidx': '51fdaebe31f44ad69272779a3f01182d', 'lcpidx': '43b7f5db36994599861eec4849cc68fd', 'barrieridx': 'cb47616cd2dc4ccc8fd523bd3a5064bb', 'windspeed': 10, 'winddirection': 60, 'relhumid': 90, 'temperature': 20}\n",
      "Choosing a perimeter from the database\n",
      "{'description': 'Maria2019', 'igniteidx': '00745b81dc77442a995b0e87c693300a', 'compareidx': '51fdaebe31f44ad69272779a3f01182d', 'lcpidx': '43b7f5db36994599861eec4849cc68fd', 'barrieridx': 'cb47616cd2dc4ccc8fd523bd3a5064bb', 'windspeed': 10, 'winddirection': 60, 'relhumid': 90, 'temperature': 20}\n",
      "Choosing a perimeter from the database\n",
      "{'description': 'Maria2019', 'igniteidx': '5270b6fef39b49508b787cbda4e3d065', 'compareidx': '51fdaebe31f44ad69272779a3f01182d', 'lcpidx': '43b7f5db36994599861eec4849cc68fd', 'barrieridx': 'cb47616cd2dc4ccc8fd523bd3a5064bb', 'windspeed': 10, 'winddirection': 60, 'relhumid': 90, 'temperature': 20}\n",
      "Choosing a perimeter from the database\n",
      "{'description': 'Maria2019', 'igniteidx': '6c1171531f8047a899adc8867eb7e312', 'compareidx': '51fdaebe31f44ad69272779a3f01182d', 'lcpidx': '43b7f5db36994599861eec4849cc68fd', 'barrieridx': 'cb47616cd2dc4ccc8fd523bd3a5064bb', 'windspeed': 10, 'winddirection': 60, 'relhumid': 90, 'temperature': 20}\n",
      "Choosing a perimeter from the database\n",
      "{'description': 'Maria2019', 'igniteidx': '62963fbca06b42bfaf9704a53435382c', 'compareidx': '51fdaebe31f44ad69272779a3f01182d', 'lcpidx': '43b7f5db36994599861eec4849cc68fd', 'barrieridx': 'cb47616cd2dc4ccc8fd523bd3a5064bb', 'windspeed': 10, 'winddirection': 60, 'relhumid': 90, 'temperature': 20}\n",
      "Choosing a perimeter from the database\n",
      "{'description': 'Maria2019', 'igniteidx': 'a384c4dcdee14530afdb1bceddd2a7bf', 'compareidx': '51fdaebe31f44ad69272779a3f01182d', 'lcpidx': '43b7f5db36994599861eec4849cc68fd', 'barrieridx': 'cb47616cd2dc4ccc8fd523bd3a5064bb', 'windspeed': 10, 'winddirection': 60, 'relhumid': 90, 'temperature': 20}\n",
      "Choosing a perimeter from the database\n",
      "{'description': 'Maria2019', 'igniteidx': 'bc7a5988a2004de09dd0e52dc9c876b5', 'compareidx': '51fdaebe31f44ad69272779a3f01182d', 'lcpidx': '43b7f5db36994599861eec4849cc68fd', 'barrieridx': 'cb47616cd2dc4ccc8fd523bd3a5064bb', 'windspeed': 10, 'winddirection': 60, 'relhumid': 90, 'temperature': 20}\n",
      "Choosing a perimeter from the database\n",
      "{'description': 'Maria2019', 'igniteidx': 'daa304b61c944b3db0e29572a9813f7b', 'compareidx': '51fdaebe31f44ad69272779a3f01182d', 'lcpidx': '43b7f5db36994599861eec4849cc68fd', 'barrieridx': 'cb47616cd2dc4ccc8fd523bd3a5064bb', 'windspeed': 10, 'winddirection': 60, 'relhumid': 90, 'temperature': 20}\n",
      "Choosing a perimeter from the database\n",
      "{'description': 'Maria2019', 'igniteidx': '374974cc321648ad9b0c64607a25abe6', 'compareidx': '51fdaebe31f44ad69272779a3f01182d', 'lcpidx': '43b7f5db36994599861eec4849cc68fd', 'barrieridx': 'cb47616cd2dc4ccc8fd523bd3a5064bb', 'windspeed': 10, 'winddirection': 60, 'relhumid': 90, 'temperature': 20}\n",
      "Choosing a perimeter from the database\n",
      "{'description': 'Maria2019', 'igniteidx': 'f7c2491c2e7149e287383134f0503237', 'compareidx': '51fdaebe31f44ad69272779a3f01182d', 'lcpidx': '43b7f5db36994599861eec4849cc68fd', 'barrieridx': 'cb47616cd2dc4ccc8fd523bd3a5064bb', 'windspeed': 10, 'winddirection': 60, 'relhumid': 90, 'temperature': 20}\n",
      "Choosing a perimeter from the database\n",
      "{'description': 'Maria2019', 'igniteidx': '6f7e6b27cd8e4e1eb09fe6bf187fc920', 'compareidx': '51fdaebe31f44ad69272779a3f01182d', 'lcpidx': '43b7f5db36994599861eec4849cc68fd', 'barrieridx': 'cb47616cd2dc4ccc8fd523bd3a5064bb', 'windspeed': 10, 'winddirection': 60, 'relhumid': 90, 'temperature': 20}\n",
      "Choosing a perimeter from the database\n",
      "{'description': 'Maria2019', 'igniteidx': '155b448a7dd547eda860c9b9453c9428', 'compareidx': '51fdaebe31f44ad69272779a3f01182d', 'lcpidx': '43b7f5db36994599861eec4849cc68fd', 'barrieridx': 'cb47616cd2dc4ccc8fd523bd3a5064bb', 'windspeed': 10, 'winddirection': 60, 'relhumid': 90, 'temperature': 20}\n",
      "Choosing a perimeter from the database\n",
      "{'description': 'Maria2019', 'igniteidx': '7c6761200fea40beaaa1a54349485a54', 'compareidx': '51fdaebe31f44ad69272779a3f01182d', 'lcpidx': '43b7f5db36994599861eec4849cc68fd', 'barrieridx': 'cb47616cd2dc4ccc8fd523bd3a5064bb', 'windspeed': 10, 'winddirection': 60, 'relhumid': 90, 'temperature': 20}\n",
      "Choosing a perimeter from the database\n",
      "{'description': 'Maria2019', 'igniteidx': 'aebfa47e659b4c2e8e7072ba4030ac4c', 'compareidx': '51fdaebe31f44ad69272779a3f01182d', 'lcpidx': '43b7f5db36994599861eec4849cc68fd', 'barrieridx': 'cb47616cd2dc4ccc8fd523bd3a5064bb', 'windspeed': 10, 'winddirection': 60, 'relhumid': 90, 'temperature': 20}\n",
      "Choosing a perimeter from the database\n",
      "{'description': 'Maria2019', 'igniteidx': '7e61d30c9cb54d4082074b8657fd8260', 'compareidx': '51fdaebe31f44ad69272779a3f01182d', 'lcpidx': '43b7f5db36994599861eec4849cc68fd', 'barrieridx': 'cb47616cd2dc4ccc8fd523bd3a5064bb', 'windspeed': 10, 'winddirection': 60, 'relhumid': 90, 'temperature': 20}\n",
      "Choosing a perimeter from the database\n",
      "{'description': 'Maria2019', 'igniteidx': 'bd2f8ec494d843758a6b03b2f2ca2401', 'compareidx': '51fdaebe31f44ad69272779a3f01182d', 'lcpidx': '43b7f5db36994599861eec4849cc68fd', 'barrieridx': 'cb47616cd2dc4ccc8fd523bd3a5064bb', 'windspeed': 10, 'winddirection': 60, 'relhumid': 90, 'temperature': 20}\n",
      "Choosing a perimeter from the database\n",
      "{'description': 'Maria2019', 'igniteidx': 'ea0f1ed6e9a947a6bc7140b9af8ab871', 'compareidx': '51fdaebe31f44ad69272779a3f01182d', 'lcpidx': '43b7f5db36994599861eec4849cc68fd', 'barrieridx': 'cb47616cd2dc4ccc8fd523bd3a5064bb', 'windspeed': 10, 'winddirection': 60, 'relhumid': 90, 'temperature': 20}\n",
      "Choosing a perimeter from the database\n",
      "{'description': 'Maria2019', 'igniteidx': 'dafc383052dd4ca4af18f42f16fa0690', 'compareidx': '51fdaebe31f44ad69272779a3f01182d', 'lcpidx': '43b7f5db36994599861eec4849cc68fd', 'barrieridx': 'cb47616cd2dc4ccc8fd523bd3a5064bb', 'windspeed': 10, 'winddirection': 60, 'relhumid': 90, 'temperature': 20}\n",
      "Choosing a perimeter from the database\n",
      "{'description': 'Maria2019', 'igniteidx': '24359ba71f334cd9962e2d71d2647c97', 'compareidx': '51fdaebe31f44ad69272779a3f01182d', 'lcpidx': '43b7f5db36994599861eec4849cc68fd', 'barrieridx': 'cb47616cd2dc4ccc8fd523bd3a5064bb', 'windspeed': 10, 'winddirection': 60, 'relhumid': 90, 'temperature': 20}\n",
      "Choosing a perimeter from the database\n",
      "{'description': 'Maria2019', 'igniteidx': 'ceb1fbfdc63e4d089fbcbe58d57bd7c0', 'compareidx': '51fdaebe31f44ad69272779a3f01182d', 'lcpidx': '43b7f5db36994599861eec4849cc68fd', 'barrieridx': 'cb47616cd2dc4ccc8fd523bd3a5064bb', 'windspeed': 10, 'winddirection': 60, 'relhumid': 90, 'temperature': 20}\n",
      "Choosing a perimeter from the database\n",
      "{'description': 'Maria2019', 'igniteidx': '1411c90d20c14096a999cef95f764d69', 'compareidx': '51fdaebe31f44ad69272779a3f01182d', 'lcpidx': '43b7f5db36994599861eec4849cc68fd', 'barrieridx': 'cb47616cd2dc4ccc8fd523bd3a5064bb', 'windspeed': 10, 'winddirection': 60, 'relhumid': 90, 'temperature': 20}\n",
      "Choosing a perimeter from the database\n",
      "{'description': 'Maria2019', 'igniteidx': '2b9a469215414598a372436dea066a9a', 'compareidx': '51fdaebe31f44ad69272779a3f01182d', 'lcpidx': '43b7f5db36994599861eec4849cc68fd', 'barrieridx': 'cb47616cd2dc4ccc8fd523bd3a5064bb', 'windspeed': 10, 'winddirection': 60, 'relhumid': 90, 'temperature': 20}\n",
      "Choosing a perimeter from the database\n",
      "{'description': 'Maria2019', 'igniteidx': 'd74c135100dc45a7aed1f93acd0b023f', 'compareidx': '51fdaebe31f44ad69272779a3f01182d', 'lcpidx': '43b7f5db36994599861eec4849cc68fd', 'barrieridx': 'cb47616cd2dc4ccc8fd523bd3a5064bb', 'windspeed': 10, 'winddirection': 60, 'relhumid': 90, 'temperature': 20}\n",
      "Choosing a perimeter from the database\n",
      "{'description': 'Maria2019', 'igniteidx': '3b62ed0f52fd4b6aa932c068d53e900c', 'compareidx': '51fdaebe31f44ad69272779a3f01182d', 'lcpidx': '43b7f5db36994599861eec4849cc68fd', 'barrieridx': 'cb47616cd2dc4ccc8fd523bd3a5064bb', 'windspeed': 10, 'winddirection': 60, 'relhumid': 90, 'temperature': 20}\n",
      "Choosing a perimeter from the database\n",
      "{'description': 'Maria2019', 'igniteidx': '7e1adaa86dab4eb7b83652a7762a5633', 'compareidx': '51fdaebe31f44ad69272779a3f01182d', 'lcpidx': '43b7f5db36994599861eec4849cc68fd', 'barrieridx': 'cb47616cd2dc4ccc8fd523bd3a5064bb', 'windspeed': 10, 'winddirection': 60, 'relhumid': 90, 'temperature': 20}\n",
      "Choosing a perimeter from the database\n",
      "{'description': 'Maria2019', 'igniteidx': '5d26a9c9f4fe43fd9bf2ce500d4e8722', 'compareidx': '51fdaebe31f44ad69272779a3f01182d', 'lcpidx': '43b7f5db36994599861eec4849cc68fd', 'barrieridx': 'cb47616cd2dc4ccc8fd523bd3a5064bb', 'windspeed': 10, 'winddirection': 60, 'relhumid': 90, 'temperature': 20}\n",
      "Choosing a perimeter from the database\n",
      "{'description': 'Maria2019', 'igniteidx': '43a658e05acb441581b4725794d91292', 'compareidx': '51fdaebe31f44ad69272779a3f01182d', 'lcpidx': '43b7f5db36994599861eec4849cc68fd', 'barrieridx': 'cb47616cd2dc4ccc8fd523bd3a5064bb', 'windspeed': 10, 'winddirection': 60, 'relhumid': 90, 'temperature': 20}\n",
      "Choosing a perimeter from the database\n",
      "{'description': 'Maria2019', 'igniteidx': '64b8d9ab49ad4fce8ef2bb5f1b937437', 'compareidx': '51fdaebe31f44ad69272779a3f01182d', 'lcpidx': '43b7f5db36994599861eec4849cc68fd', 'barrieridx': 'cb47616cd2dc4ccc8fd523bd3a5064bb', 'windspeed': 10, 'winddirection': 60, 'relhumid': 90, 'temperature': 20}\n",
      "Choosing a perimeter from the database\n",
      "{'description': 'Maria2019', 'igniteidx': '14efb09add0b467696aa1c20ea750d9d', 'compareidx': '51fdaebe31f44ad69272779a3f01182d', 'lcpidx': '43b7f5db36994599861eec4849cc68fd', 'barrieridx': 'cb47616cd2dc4ccc8fd523bd3a5064bb', 'windspeed': 10, 'winddirection': 60, 'relhumid': 90, 'temperature': 20}\n",
      "Choosing a perimeter from the database\n",
      "{'description': 'Maria2019', 'igniteidx': 'ecf59e55e3544bfabb50b4e5f7af111b', 'compareidx': '51fdaebe31f44ad69272779a3f01182d', 'lcpidx': '43b7f5db36994599861eec4849cc68fd', 'barrieridx': 'cb47616cd2dc4ccc8fd523bd3a5064bb', 'windspeed': 10, 'winddirection': 60, 'relhumid': 90, 'temperature': 20}\n",
      "Choosing a perimeter from the database\n",
      "{'description': 'Maria2019', 'igniteidx': '03181ff15ad1437f803a966118158dcd', 'compareidx': '51fdaebe31f44ad69272779a3f01182d', 'lcpidx': '43b7f5db36994599861eec4849cc68fd', 'barrieridx': 'cb47616cd2dc4ccc8fd523bd3a5064bb', 'windspeed': 10, 'winddirection': 60, 'relhumid': 90, 'temperature': 20}\n",
      "Choosing a perimeter from the database\n",
      "{'description': 'Maria2019', 'igniteidx': 'c7873baa57b74b41aabf58cbd472294a', 'compareidx': '51fdaebe31f44ad69272779a3f01182d', 'lcpidx': '43b7f5db36994599861eec4849cc68fd', 'barrieridx': 'cb47616cd2dc4ccc8fd523bd3a5064bb', 'windspeed': 10, 'winddirection': 60, 'relhumid': 90, 'temperature': 20}\n",
      "Choosing a perimeter from the database\n",
      "{'description': 'Maria2019', 'igniteidx': '734412f844f447d9908d6eb89c4cb22f', 'compareidx': '51fdaebe31f44ad69272779a3f01182d', 'lcpidx': '43b7f5db36994599861eec4849cc68fd', 'barrieridx': 'cb47616cd2dc4ccc8fd523bd3a5064bb', 'windspeed': 10, 'winddirection': 60, 'relhumid': 90, 'temperature': 20}\n",
      "Choosing a perimeter from the database\n",
      "{'description': 'Maria2019', 'igniteidx': '767255088b554e7e963ceea2b225e275', 'compareidx': '51fdaebe31f44ad69272779a3f01182d', 'lcpidx': '43b7f5db36994599861eec4849cc68fd', 'barrieridx': 'cb47616cd2dc4ccc8fd523bd3a5064bb', 'windspeed': 10, 'winddirection': 60, 'relhumid': 90, 'temperature': 20}\n",
      "Choosing a perimeter from the database\n",
      "{'description': 'Maria2019', 'igniteidx': 'c39c837617f0468881c615b176b24eac', 'compareidx': '51fdaebe31f44ad69272779a3f01182d', 'lcpidx': '43b7f5db36994599861eec4849cc68fd', 'barrieridx': 'cb47616cd2dc4ccc8fd523bd3a5064bb', 'windspeed': 10, 'winddirection': 60, 'relhumid': 90, 'temperature': 20}\n",
      "Choosing a perimeter from the database\n",
      "{'description': 'Maria2019', 'igniteidx': 'ab62519e557445fdb50aa3b632e918d9', 'compareidx': '51fdaebe31f44ad69272779a3f01182d', 'lcpidx': '43b7f5db36994599861eec4849cc68fd', 'barrieridx': 'cb47616cd2dc4ccc8fd523bd3a5064bb', 'windspeed': 10, 'winddirection': 60, 'relhumid': 90, 'temperature': 20}\n",
      "Choosing a perimeter from the database\n",
      "{'description': 'Maria2019', 'igniteidx': '1626c51c88674417b78ba024bcf30dfc', 'compareidx': '51fdaebe31f44ad69272779a3f01182d', 'lcpidx': '43b7f5db36994599861eec4849cc68fd', 'barrieridx': 'cb47616cd2dc4ccc8fd523bd3a5064bb', 'windspeed': 10, 'winddirection': 60, 'relhumid': 90, 'temperature': 20}\n",
      "Choosing a perimeter from the database\n",
      "{'description': 'Maria2019', 'igniteidx': '31a603151e344f32b1f094db13c901a4', 'compareidx': '51fdaebe31f44ad69272779a3f01182d', 'lcpidx': '43b7f5db36994599861eec4849cc68fd', 'barrieridx': 'cb47616cd2dc4ccc8fd523bd3a5064bb', 'windspeed': 10, 'winddirection': 60, 'relhumid': 90, 'temperature': 20}\n",
      "Choosing a perimeter from the database\n",
      "{'description': 'Maria2019', 'igniteidx': 'd1a4b66fb996480896c610c3d4779eae', 'compareidx': '51fdaebe31f44ad69272779a3f01182d', 'lcpidx': '43b7f5db36994599861eec4849cc68fd', 'barrieridx': 'cb47616cd2dc4ccc8fd523bd3a5064bb', 'windspeed': 10, 'winddirection': 60, 'relhumid': 90, 'temperature': 20}\n",
      "Choosing a perimeter from the database\n",
      "{'description': 'Maria2019', 'igniteidx': '51a35a5bd1d54d3e9c7fa0d8c34cd2a3', 'compareidx': '51fdaebe31f44ad69272779a3f01182d', 'lcpidx': '43b7f5db36994599861eec4849cc68fd', 'barrieridx': 'cb47616cd2dc4ccc8fd523bd3a5064bb', 'windspeed': 10, 'winddirection': 60, 'relhumid': 90, 'temperature': 20}\n",
      "Choosing a perimeter from the database\n",
      "{'description': 'Maria2019', 'igniteidx': '6cafbce7ee1442c3868a234774c294d3', 'compareidx': '51fdaebe31f44ad69272779a3f01182d', 'lcpidx': '43b7f5db36994599861eec4849cc68fd', 'barrieridx': 'cb47616cd2dc4ccc8fd523bd3a5064bb', 'windspeed': 10, 'winddirection': 60, 'relhumid': 90, 'temperature': 20}\n",
      "Choosing a perimeter from the database\n",
      "{'description': 'Maria2019', 'igniteidx': '8ebbc0828b524098b532d84717a17741', 'compareidx': '51fdaebe31f44ad69272779a3f01182d', 'lcpidx': '43b7f5db36994599861eec4849cc68fd', 'barrieridx': 'cb47616cd2dc4ccc8fd523bd3a5064bb', 'windspeed': 10, 'winddirection': 60, 'relhumid': 90, 'temperature': 20}\n",
      "Choosing a perimeter from the database\n",
      "{'description': 'Maria2019', 'igniteidx': '67e0095cdae24243bd39fc74e3056d3e', 'compareidx': '51fdaebe31f44ad69272779a3f01182d', 'lcpidx': '43b7f5db36994599861eec4849cc68fd', 'barrieridx': 'cb47616cd2dc4ccc8fd523bd3a5064bb', 'windspeed': 10, 'winddirection': 60, 'relhumid': 90, 'temperature': 20}\n",
      "Choosing a perimeter from the database\n",
      "{'description': 'Maria2019', 'igniteidx': '3a879cd16930459098723224d2ed45ea', 'compareidx': '51fdaebe31f44ad69272779a3f01182d', 'lcpidx': '43b7f5db36994599861eec4849cc68fd', 'barrieridx': 'cb47616cd2dc4ccc8fd523bd3a5064bb', 'windspeed': 10, 'winddirection': 60, 'relhumid': 90, 'temperature': 20}\n",
      "Choosing a perimeter from the database\n",
      "{'description': 'Maria2019', 'igniteidx': '759269dd7e424c389061ae191ffeb9e8', 'compareidx': '51fdaebe31f44ad69272779a3f01182d', 'lcpidx': '43b7f5db36994599861eec4849cc68fd', 'barrieridx': 'cb47616cd2dc4ccc8fd523bd3a5064bb', 'windspeed': 10, 'winddirection': 60, 'relhumid': 90, 'temperature': 20}\n",
      "Choosing a perimeter from the database\n",
      "{'description': 'Maria2019', 'igniteidx': 'f23efcdf3bf4429e8690c2a932a5bf6f', 'compareidx': '51fdaebe31f44ad69272779a3f01182d', 'lcpidx': '43b7f5db36994599861eec4849cc68fd', 'barrieridx': 'cb47616cd2dc4ccc8fd523bd3a5064bb', 'windspeed': 10, 'winddirection': 60, 'relhumid': 90, 'temperature': 20}\n",
      "Choosing a perimeter from the database\n",
      "{'description': 'Maria2019', 'igniteidx': 'a55d6c6a330b4a6e9cb6e9707f31799c', 'compareidx': '51fdaebe31f44ad69272779a3f01182d', 'lcpidx': '43b7f5db36994599861eec4849cc68fd', 'barrieridx': 'cb47616cd2dc4ccc8fd523bd3a5064bb', 'windspeed': 10, 'winddirection': 60, 'relhumid': 90, 'temperature': 20}\n",
      "Choosing a perimeter from the database\n",
      "{'description': 'Maria2019', 'igniteidx': 'e322f3268aa0422cbc0d700645cddbac', 'compareidx': '51fdaebe31f44ad69272779a3f01182d', 'lcpidx': '43b7f5db36994599861eec4849cc68fd', 'barrieridx': 'cb47616cd2dc4ccc8fd523bd3a5064bb', 'windspeed': 10, 'winddirection': 60, 'relhumid': 90, 'temperature': 20}\n",
      "Choosing a perimeter from the database\n",
      "{'description': 'Maria2019', 'igniteidx': '5f5aa6d4968647ab96a3cc0fff4315c4', 'compareidx': '51fdaebe31f44ad69272779a3f01182d', 'lcpidx': '43b7f5db36994599861eec4849cc68fd', 'barrieridx': 'cb47616cd2dc4ccc8fd523bd3a5064bb', 'windspeed': 10, 'winddirection': 60, 'relhumid': 90, 'temperature': 20}\n",
      "Choosing a perimeter from the database\n",
      "{'description': 'Maria2019', 'igniteidx': '9f86bc40bcf44e839631cb9a23190c9e', 'compareidx': '51fdaebe31f44ad69272779a3f01182d', 'lcpidx': '43b7f5db36994599861eec4849cc68fd', 'barrieridx': 'cb47616cd2dc4ccc8fd523bd3a5064bb', 'windspeed': 10, 'winddirection': 60, 'relhumid': 90, 'temperature': 20}\n",
      "Choosing a perimeter from the database\n",
      "{'description': 'Maria2019', 'igniteidx': '5f03a16bf0a6460d9ac8f17bdc28429c', 'compareidx': '51fdaebe31f44ad69272779a3f01182d', 'lcpidx': '43b7f5db36994599861eec4849cc68fd', 'barrieridx': 'cb47616cd2dc4ccc8fd523bd3a5064bb', 'windspeed': 10, 'winddirection': 60, 'relhumid': 90, 'temperature': 20}\n",
      "Choosing a perimeter from the database\n",
      "{'description': 'Maria2019', 'igniteidx': 'b5e99e9cd6654b58b7fc338369242fbb', 'compareidx': '51fdaebe31f44ad69272779a3f01182d', 'lcpidx': '43b7f5db36994599861eec4849cc68fd', 'barrieridx': 'cb47616cd2dc4ccc8fd523bd3a5064bb', 'windspeed': 10, 'winddirection': 60, 'relhumid': 90, 'temperature': 20}\n",
      "Choosing a perimeter from the database\n",
      "{'description': 'Maria2019', 'igniteidx': '161e9ec5bb6d412db3baab3668af02d3', 'compareidx': '51fdaebe31f44ad69272779a3f01182d', 'lcpidx': '43b7f5db36994599861eec4849cc68fd', 'barrieridx': 'cb47616cd2dc4ccc8fd523bd3a5064bb', 'windspeed': 10, 'winddirection': 60, 'relhumid': 90, 'temperature': 20}\n",
      "Choosing a perimeter from the database\n",
      "{'description': 'Maria2019', 'igniteidx': '63fc7548f8d0449cb25ecce19e360e80', 'compareidx': '51fdaebe31f44ad69272779a3f01182d', 'lcpidx': '43b7f5db36994599861eec4849cc68fd', 'barrieridx': 'cb47616cd2dc4ccc8fd523bd3a5064bb', 'windspeed': 10, 'winddirection': 60, 'relhumid': 90, 'temperature': 20}\n",
      "Choosing a perimeter from the database\n",
      "{'description': 'Maria2019', 'igniteidx': '35fd6150f35147d58a4796b92469bf6e', 'compareidx': '51fdaebe31f44ad69272779a3f01182d', 'lcpidx': '43b7f5db36994599861eec4849cc68fd', 'barrieridx': 'cb47616cd2dc4ccc8fd523bd3a5064bb', 'windspeed': 10, 'winddirection': 60, 'relhumid': 90, 'temperature': 20}\n",
      "Choosing a perimeter from the database\n",
      "{'description': 'Maria2019', 'igniteidx': '751f20b3e3a04ee98597ca0b3e624a7f', 'compareidx': '51fdaebe31f44ad69272779a3f01182d', 'lcpidx': '43b7f5db36994599861eec4849cc68fd', 'barrieridx': 'cb47616cd2dc4ccc8fd523bd3a5064bb', 'windspeed': 10, 'winddirection': 60, 'relhumid': 90, 'temperature': 20}\n",
      "Choosing a perimeter from the database\n",
      "{'description': 'Maria2019', 'igniteidx': 'a117c8840685419ebc1946f1f30b0948', 'compareidx': '51fdaebe31f44ad69272779a3f01182d', 'lcpidx': '43b7f5db36994599861eec4849cc68fd', 'barrieridx': 'cb47616cd2dc4ccc8fd523bd3a5064bb', 'windspeed': 10, 'winddirection': 60, 'relhumid': 90, 'temperature': 20}\n",
      "Choosing a perimeter from the database\n",
      "{'description': 'Maria2019', 'igniteidx': 'd888f827e4f045c38f48fe12b260344b', 'compareidx': '51fdaebe31f44ad69272779a3f01182d', 'lcpidx': '43b7f5db36994599861eec4849cc68fd', 'barrieridx': 'cb47616cd2dc4ccc8fd523bd3a5064bb', 'windspeed': 10, 'winddirection': 60, 'relhumid': 90, 'temperature': 20}\n",
      "Choosing a perimeter from the database\n",
      "{'description': 'Maria2019', 'igniteidx': '2faf85090e90447bb13b90eaa325182f', 'compareidx': '51fdaebe31f44ad69272779a3f01182d', 'lcpidx': '43b7f5db36994599861eec4849cc68fd', 'barrieridx': 'cb47616cd2dc4ccc8fd523bd3a5064bb', 'windspeed': 10, 'winddirection': 60, 'relhumid': 90, 'temperature': 20}\n",
      "Choosing a perimeter from the database\n",
      "{'description': 'Maria2019', 'igniteidx': '6d5acadba4914c12a9f9fb449efadc6f', 'compareidx': '51fdaebe31f44ad69272779a3f01182d', 'lcpidx': '43b7f5db36994599861eec4849cc68fd', 'barrieridx': 'cb47616cd2dc4ccc8fd523bd3a5064bb', 'windspeed': 10, 'winddirection': 60, 'relhumid': 90, 'temperature': 20}\n",
      "Choosing a perimeter from the database\n",
      "{'description': 'Maria2019', 'igniteidx': '9e4438eaf73d44aa80bd66cea553dadf', 'compareidx': '51fdaebe31f44ad69272779a3f01182d', 'lcpidx': '43b7f5db36994599861eec4849cc68fd', 'barrieridx': 'cb47616cd2dc4ccc8fd523bd3a5064bb', 'windspeed': 10, 'winddirection': 60, 'relhumid': 90, 'temperature': 20}\n",
      "Choosing a perimeter from the database\n",
      "{'description': 'Maria2019', 'igniteidx': 'bc81093baa454f12801d303084d38d97', 'compareidx': '51fdaebe31f44ad69272779a3f01182d', 'lcpidx': '43b7f5db36994599861eec4849cc68fd', 'barrieridx': 'cb47616cd2dc4ccc8fd523bd3a5064bb', 'windspeed': 10, 'winddirection': 60, 'relhumid': 90, 'temperature': 20}\n",
      "Choosing a perimeter from the database\n",
      "{'description': 'Maria2019', 'igniteidx': 'da55c769b252418f8316078d8c72c23a', 'compareidx': '51fdaebe31f44ad69272779a3f01182d', 'lcpidx': '43b7f5db36994599861eec4849cc68fd', 'barrieridx': 'cb47616cd2dc4ccc8fd523bd3a5064bb', 'windspeed': 10, 'winddirection': 60, 'relhumid': 90, 'temperature': 20}\n",
      "Choosing a perimeter from the database\n",
      "{'description': 'Maria2019', 'igniteidx': 'e04a6907542b430d9dd59f108be32d18', 'compareidx': '51fdaebe31f44ad69272779a3f01182d', 'lcpidx': '43b7f5db36994599861eec4849cc68fd', 'barrieridx': 'cb47616cd2dc4ccc8fd523bd3a5064bb', 'windspeed': 10, 'winddirection': 60, 'relhumid': 90, 'temperature': 20}\n",
      "Choosing a perimeter from the database\n",
      "{'description': 'Maria2019', 'igniteidx': '0d0dfc10248c45bd850ed1e2e64768af', 'compareidx': '51fdaebe31f44ad69272779a3f01182d', 'lcpidx': '43b7f5db36994599861eec4849cc68fd', 'barrieridx': 'cb47616cd2dc4ccc8fd523bd3a5064bb', 'windspeed': 10, 'winddirection': 60, 'relhumid': 90, 'temperature': 20}\n",
      "Choosing a perimeter from the database\n",
      "{'description': 'Maria2019', 'igniteidx': '7eb9872730af49a3bc1cce783e49908d', 'compareidx': '51fdaebe31f44ad69272779a3f01182d', 'lcpidx': '43b7f5db36994599861eec4849cc68fd', 'barrieridx': 'cb47616cd2dc4ccc8fd523bd3a5064bb', 'windspeed': 10, 'winddirection': 60, 'relhumid': 90, 'temperature': 20}\n",
      "Choosing a perimeter from the database\n",
      "{'description': 'Maria2019', 'igniteidx': '625c9d7b516c4a30ab0bf3375755ab20', 'compareidx': '51fdaebe31f44ad69272779a3f01182d', 'lcpidx': '43b7f5db36994599861eec4849cc68fd', 'barrieridx': 'cb47616cd2dc4ccc8fd523bd3a5064bb', 'windspeed': 10, 'winddirection': 60, 'relhumid': 90, 'temperature': 20}\n",
      "Choosing a perimeter from the database\n",
      "{'description': 'Maria2019', 'igniteidx': '8dd0917e3cb541d6b4c1cf674bf9faef', 'compareidx': '51fdaebe31f44ad69272779a3f01182d', 'lcpidx': '43b7f5db36994599861eec4849cc68fd', 'barrieridx': 'cb47616cd2dc4ccc8fd523bd3a5064bb', 'windspeed': 10, 'winddirection': 60, 'relhumid': 90, 'temperature': 20}\n",
      "Choosing a perimeter from the database\n",
      "{'description': 'Maria2019', 'igniteidx': 'f85a25214eff4f15844aef9764ee9a63', 'compareidx': '51fdaebe31f44ad69272779a3f01182d', 'lcpidx': '43b7f5db36994599861eec4849cc68fd', 'barrieridx': 'cb47616cd2dc4ccc8fd523bd3a5064bb', 'windspeed': 10, 'winddirection': 60, 'relhumid': 90, 'temperature': 20}\n",
      "Choosing a perimeter from the database\n",
      "{'description': 'Maria2019', 'igniteidx': '6386a5308c3a4867a6825e389a8b2df8', 'compareidx': '51fdaebe31f44ad69272779a3f01182d', 'lcpidx': '43b7f5db36994599861eec4849cc68fd', 'barrieridx': 'cb47616cd2dc4ccc8fd523bd3a5064bb', 'windspeed': 10, 'winddirection': 60, 'relhumid': 90, 'temperature': 20}\n",
      "Choosing a perimeter from the database\n",
      "{'description': 'Maria2019', 'igniteidx': '530d7b95bfd04f2e8186e2656102b735', 'compareidx': '51fdaebe31f44ad69272779a3f01182d', 'lcpidx': '43b7f5db36994599861eec4849cc68fd', 'barrieridx': 'cb47616cd2dc4ccc8fd523bd3a5064bb', 'windspeed': 10, 'winddirection': 60, 'relhumid': 90, 'temperature': 20}\n",
      "Choosing a perimeter from the database\n",
      "{'description': 'Maria2019', 'igniteidx': '6cf9fb6997e2458c836ee4084d95a3ce', 'compareidx': '51fdaebe31f44ad69272779a3f01182d', 'lcpidx': '43b7f5db36994599861eec4849cc68fd', 'barrieridx': 'cb47616cd2dc4ccc8fd523bd3a5064bb', 'windspeed': 10, 'winddirection': 60, 'relhumid': 90, 'temperature': 20}\n",
      "Choosing a perimeter from the database\n",
      "{'description': 'Maria2019', 'igniteidx': 'eddc8be1c7f24e8a819f90421bd7b2bd', 'compareidx': '51fdaebe31f44ad69272779a3f01182d', 'lcpidx': '43b7f5db36994599861eec4849cc68fd', 'barrieridx': 'cb47616cd2dc4ccc8fd523bd3a5064bb', 'windspeed': 10, 'winddirection': 60, 'relhumid': 90, 'temperature': 20}\n",
      "Choosing a perimeter from the database\n",
      "{'description': 'Maria2019', 'igniteidx': 'a7e72c69e3474de28ebffc78b57ef7bf', 'compareidx': '51fdaebe31f44ad69272779a3f01182d', 'lcpidx': '43b7f5db36994599861eec4849cc68fd', 'barrieridx': 'cb47616cd2dc4ccc8fd523bd3a5064bb', 'windspeed': 10, 'winddirection': 60, 'relhumid': 90, 'temperature': 20}\n",
      "Choosing a perimeter from the database\n",
      "{'description': 'Maria2019', 'igniteidx': '7d3095d848a245da813249723d7919b1', 'compareidx': '51fdaebe31f44ad69272779a3f01182d', 'lcpidx': '43b7f5db36994599861eec4849cc68fd', 'barrieridx': 'cb47616cd2dc4ccc8fd523bd3a5064bb', 'windspeed': 10, 'winddirection': 60, 'relhumid': 90, 'temperature': 20}\n",
      "Choosing a perimeter from the database\n",
      "{'description': 'Maria2019', 'igniteidx': '4dee233b14f741afa722d4974de42711', 'compareidx': '51fdaebe31f44ad69272779a3f01182d', 'lcpidx': '43b7f5db36994599861eec4849cc68fd', 'barrieridx': 'cb47616cd2dc4ccc8fd523bd3a5064bb', 'windspeed': 10, 'winddirection': 60, 'relhumid': 90, 'temperature': 20}\n",
      "Choosing a perimeter from the database\n",
      "{'description': 'Maria2019', 'igniteidx': '3ce1107dbf674c4388360ec181b1ae66', 'compareidx': '51fdaebe31f44ad69272779a3f01182d', 'lcpidx': '43b7f5db36994599861eec4849cc68fd', 'barrieridx': 'cb47616cd2dc4ccc8fd523bd3a5064bb', 'windspeed': 10, 'winddirection': 60, 'relhumid': 90, 'temperature': 20}\n",
      "Choosing a perimeter from the database\n",
      "{'description': 'Maria2019', 'igniteidx': '140c1e24a6cb41748ff85ef49b76f8d1', 'compareidx': '51fdaebe31f44ad69272779a3f01182d', 'lcpidx': '43b7f5db36994599861eec4849cc68fd', 'barrieridx': 'cb47616cd2dc4ccc8fd523bd3a5064bb', 'windspeed': 10, 'winddirection': 60, 'relhumid': 90, 'temperature': 20}\n",
      "Choosing a perimeter from the database\n",
      "{'description': 'Maria2019', 'igniteidx': 'd21df6f58a25415a8ffad609dda6bd6c', 'compareidx': '51fdaebe31f44ad69272779a3f01182d', 'lcpidx': '43b7f5db36994599861eec4849cc68fd', 'barrieridx': 'cb47616cd2dc4ccc8fd523bd3a5064bb', 'windspeed': 10, 'winddirection': 60, 'relhumid': 90, 'temperature': 20}\n",
      "Choosing a perimeter from the database\n",
      "{'description': 'Maria2019', 'igniteidx': 'b6f0f748bf104409a393e355a76e2bf8', 'compareidx': '51fdaebe31f44ad69272779a3f01182d', 'lcpidx': '43b7f5db36994599861eec4849cc68fd', 'barrieridx': 'cb47616cd2dc4ccc8fd523bd3a5064bb', 'windspeed': 10, 'winddirection': 60, 'relhumid': 90, 'temperature': 20}\n",
      "Choosing a perimeter from the database\n",
      "{'description': 'Maria2019', 'igniteidx': '8e2820a0017048d9a808f793f51ce6c1', 'compareidx': '51fdaebe31f44ad69272779a3f01182d', 'lcpidx': '43b7f5db36994599861eec4849cc68fd', 'barrieridx': 'cb47616cd2dc4ccc8fd523bd3a5064bb', 'windspeed': 10, 'winddirection': 60, 'relhumid': 90, 'temperature': 20}\n",
      "Choosing a perimeter from the database\n",
      "{'description': 'Maria2019', 'igniteidx': '6dc7ca6be32d49bfa765f60088c2f14c', 'compareidx': '51fdaebe31f44ad69272779a3f01182d', 'lcpidx': '43b7f5db36994599861eec4849cc68fd', 'barrieridx': 'cb47616cd2dc4ccc8fd523bd3a5064bb', 'windspeed': 10, 'winddirection': 60, 'relhumid': 90, 'temperature': 20}\n",
      "Choosing a perimeter from the database\n",
      "{'description': 'Maria2019', 'igniteidx': 'cc37f786679740dbb60d10ff3cad1d98', 'compareidx': '51fdaebe31f44ad69272779a3f01182d', 'lcpidx': '43b7f5db36994599861eec4849cc68fd', 'barrieridx': 'cb47616cd2dc4ccc8fd523bd3a5064bb', 'windspeed': 10, 'winddirection': 60, 'relhumid': 90, 'temperature': 20}\n",
      "Choosing a perimeter from the database\n",
      "{'description': 'Maria2019', 'igniteidx': 'be2922ffcce14018b25cb404f1bb29f5', 'compareidx': '51fdaebe31f44ad69272779a3f01182d', 'lcpidx': '43b7f5db36994599861eec4849cc68fd', 'barrieridx': 'cb47616cd2dc4ccc8fd523bd3a5064bb', 'windspeed': 10, 'winddirection': 60, 'relhumid': 90, 'temperature': 20}\n",
      "Choosing a perimeter from the database\n",
      "{'description': 'Maria2019', 'igniteidx': 'fc71eeb896824fb089e8006b4474e28b', 'compareidx': '51fdaebe31f44ad69272779a3f01182d', 'lcpidx': '43b7f5db36994599861eec4849cc68fd', 'barrieridx': 'cb47616cd2dc4ccc8fd523bd3a5064bb', 'windspeed': 10, 'winddirection': 60, 'relhumid': 90, 'temperature': 20}\n",
      "Choosing a perimeter from the database\n",
      "{'description': 'Maria2019', 'igniteidx': 'cf044c52f8e3434ba00c2e1bc1c5d278', 'compareidx': '51fdaebe31f44ad69272779a3f01182d', 'lcpidx': '43b7f5db36994599861eec4849cc68fd', 'barrieridx': 'cb47616cd2dc4ccc8fd523bd3a5064bb', 'windspeed': 10, 'winddirection': 60, 'relhumid': 90, 'temperature': 20}\n",
      "Choosing a perimeter from the database\n",
      "{'description': 'Maria2019', 'igniteidx': 'fe825040df334a16b2fd8fbf06da37f1', 'compareidx': '51fdaebe31f44ad69272779a3f01182d', 'lcpidx': '43b7f5db36994599861eec4849cc68fd', 'barrieridx': 'cb47616cd2dc4ccc8fd523bd3a5064bb', 'windspeed': 10, 'winddirection': 60, 'relhumid': 90, 'temperature': 20}\n",
      "Choosing a perimeter from the database\n",
      "{'description': 'Maria2019', 'igniteidx': '8ae9126bd08f4955b9f984ba0789ec53', 'compareidx': '51fdaebe31f44ad69272779a3f01182d', 'lcpidx': '43b7f5db36994599861eec4849cc68fd', 'barrieridx': 'cb47616cd2dc4ccc8fd523bd3a5064bb', 'windspeed': 10, 'winddirection': 60, 'relhumid': 90, 'temperature': 20}\n",
      "Choosing a perimeter from the database\n",
      "{'description': 'Maria2019', 'igniteidx': 'e265386b9c204140bb9b6e10076591ce', 'compareidx': '51fdaebe31f44ad69272779a3f01182d', 'lcpidx': '43b7f5db36994599861eec4849cc68fd', 'barrieridx': 'cb47616cd2dc4ccc8fd523bd3a5064bb', 'windspeed': 10, 'winddirection': 60, 'relhumid': 90, 'temperature': 20}\n",
      "Choosing a perimeter from the database\n",
      "{'description': 'Maria2019', 'igniteidx': '908ab7787b1f4840b616610d627f41b4', 'compareidx': '51fdaebe31f44ad69272779a3f01182d', 'lcpidx': '43b7f5db36994599861eec4849cc68fd', 'barrieridx': 'cb47616cd2dc4ccc8fd523bd3a5064bb', 'windspeed': 10, 'winddirection': 60, 'relhumid': 90, 'temperature': 20}\n",
      "Choosing a perimeter from the database\n",
      "{'description': 'Maria2019', 'igniteidx': 'd0b5f4b4678b4be2aef8241e81067f8b', 'compareidx': '51fdaebe31f44ad69272779a3f01182d', 'lcpidx': '43b7f5db36994599861eec4849cc68fd', 'barrieridx': 'cb47616cd2dc4ccc8fd523bd3a5064bb', 'windspeed': 10, 'winddirection': 60, 'relhumid': 90, 'temperature': 20}\n",
      "Choosing a perimeter from the database\n",
      "{'description': 'Maria2019', 'igniteidx': '52031d33c5a64128b5157e22f63d14af', 'compareidx': '51fdaebe31f44ad69272779a3f01182d', 'lcpidx': '43b7f5db36994599861eec4849cc68fd', 'barrieridx': 'cb47616cd2dc4ccc8fd523bd3a5064bb', 'windspeed': 10, 'winddirection': 60, 'relhumid': 90, 'temperature': 20}\n",
      "Choosing a perimeter from the database\n",
      "{'description': 'Maria2019', 'igniteidx': 'd88be74656324a50b5bd1c93820537c8', 'compareidx': '51fdaebe31f44ad69272779a3f01182d', 'lcpidx': '43b7f5db36994599861eec4849cc68fd', 'barrieridx': 'cb47616cd2dc4ccc8fd523bd3a5064bb', 'windspeed': 10, 'winddirection': 60, 'relhumid': 90, 'temperature': 20}\n",
      "Choosing a perimeter from the database\n",
      "{'description': 'Maria2019', 'igniteidx': '0ed0176b4b6f43bab4515e065c6680f7', 'compareidx': '51fdaebe31f44ad69272779a3f01182d', 'lcpidx': '43b7f5db36994599861eec4849cc68fd', 'barrieridx': 'cb47616cd2dc4ccc8fd523bd3a5064bb', 'windspeed': 10, 'winddirection': 60, 'relhumid': 90, 'temperature': 20}\n",
      "Choosing a perimeter from the database\n",
      "{'description': 'Maria2019', 'igniteidx': '5e474aa4524a4856a6e6d4703f5248c2', 'compareidx': '51fdaebe31f44ad69272779a3f01182d', 'lcpidx': '43b7f5db36994599861eec4849cc68fd', 'barrieridx': 'cb47616cd2dc4ccc8fd523bd3a5064bb', 'windspeed': 10, 'winddirection': 60, 'relhumid': 90, 'temperature': 20}\n",
      "Choosing a perimeter from the database\n",
      "{'description': 'Maria2019', 'igniteidx': '66435d2d770941389d1a71d49246a37f', 'compareidx': '51fdaebe31f44ad69272779a3f01182d', 'lcpidx': '43b7f5db36994599861eec4849cc68fd', 'barrieridx': 'cb47616cd2dc4ccc8fd523bd3a5064bb', 'windspeed': 10, 'winddirection': 60, 'relhumid': 90, 'temperature': 20}\n",
      "Choosing a perimeter from the database\n",
      "{'description': 'Maria2019', 'igniteidx': 'f2a32cd7132f44449aa937a6ff0db177', 'compareidx': '51fdaebe31f44ad69272779a3f01182d', 'lcpidx': '43b7f5db36994599861eec4849cc68fd', 'barrieridx': 'cb47616cd2dc4ccc8fd523bd3a5064bb', 'windspeed': 10, 'winddirection': 60, 'relhumid': 90, 'temperature': 20}\n",
      "Choosing a perimeter from the database\n",
      "{'description': 'Maria2019', 'igniteidx': '40c12e6b00294aa5bcd4594d3a5abcf6', 'compareidx': '51fdaebe31f44ad69272779a3f01182d', 'lcpidx': '43b7f5db36994599861eec4849cc68fd', 'barrieridx': 'cb47616cd2dc4ccc8fd523bd3a5064bb', 'windspeed': 10, 'winddirection': 60, 'relhumid': 90, 'temperature': 20}\n",
      "Choosing a perimeter from the database\n",
      "{'description': 'Maria2019', 'igniteidx': '78df544a074f4ddebc30a28ff85323a4', 'compareidx': '51fdaebe31f44ad69272779a3f01182d', 'lcpidx': '43b7f5db36994599861eec4849cc68fd', 'barrieridx': 'cb47616cd2dc4ccc8fd523bd3a5064bb', 'windspeed': 10, 'winddirection': 60, 'relhumid': 90, 'temperature': 20}\n",
      "Choosing a perimeter from the database\n",
      "{'description': 'Maria2019', 'igniteidx': '25ab5e377258422a9ffc8662f924cc7a', 'compareidx': '51fdaebe31f44ad69272779a3f01182d', 'lcpidx': '43b7f5db36994599861eec4849cc68fd', 'barrieridx': 'cb47616cd2dc4ccc8fd523bd3a5064bb', 'windspeed': 10, 'winddirection': 60, 'relhumid': 90, 'temperature': 20}\n",
      "Choosing a perimeter from the database\n",
      "{'description': 'Maria2019', 'igniteidx': '0546abaa12374a77bfeba156a89d4616', 'compareidx': '51fdaebe31f44ad69272779a3f01182d', 'lcpidx': '43b7f5db36994599861eec4849cc68fd', 'barrieridx': 'cb47616cd2dc4ccc8fd523bd3a5064bb', 'windspeed': 10, 'winddirection': 60, 'relhumid': 90, 'temperature': 20}\n",
      "Choosing a perimeter from the database\n",
      "{'description': 'Maria2019', 'igniteidx': '3df481eb2ef244cfa92478df13e049a5', 'compareidx': '51fdaebe31f44ad69272779a3f01182d', 'lcpidx': '43b7f5db36994599861eec4849cc68fd', 'barrieridx': 'cb47616cd2dc4ccc8fd523bd3a5064bb', 'windspeed': 10, 'winddirection': 60, 'relhumid': 90, 'temperature': 20}\n",
      "Choosing a perimeter from the database\n",
      "{'description': 'Maria2019', 'igniteidx': 'b600814667254c4fa449566ef6445fdd', 'compareidx': '51fdaebe31f44ad69272779a3f01182d', 'lcpidx': '43b7f5db36994599861eec4849cc68fd', 'barrieridx': 'cb47616cd2dc4ccc8fd523bd3a5064bb', 'windspeed': 10, 'winddirection': 60, 'relhumid': 90, 'temperature': 20}\n",
      "Choosing a perimeter from the database\n",
      "{'description': 'Maria2019', 'igniteidx': '240821e4b97a4e339c01059f9bec0340', 'compareidx': '51fdaebe31f44ad69272779a3f01182d', 'lcpidx': '43b7f5db36994599861eec4849cc68fd', 'barrieridx': 'cb47616cd2dc4ccc8fd523bd3a5064bb', 'windspeed': 10, 'winddirection': 60, 'relhumid': 90, 'temperature': 20}\n",
      "Choosing a perimeter from the database\n",
      "{'description': 'Maria2019', 'igniteidx': '65923fe974304bbe9d1904405b204985', 'compareidx': '51fdaebe31f44ad69272779a3f01182d', 'lcpidx': '43b7f5db36994599861eec4849cc68fd', 'barrieridx': 'cb47616cd2dc4ccc8fd523bd3a5064bb', 'windspeed': 10, 'winddirection': 60, 'relhumid': 90, 'temperature': 20}\n",
      "Choosing a perimeter from the database\n",
      "{'description': 'Maria2019', 'igniteidx': 'bffe6d9580444e1baa5de77bce532ecb', 'compareidx': '51fdaebe31f44ad69272779a3f01182d', 'lcpidx': '43b7f5db36994599861eec4849cc68fd', 'barrieridx': 'cb47616cd2dc4ccc8fd523bd3a5064bb', 'windspeed': 10, 'winddirection': 60, 'relhumid': 90, 'temperature': 20}\n",
      "Choosing a perimeter from the database\n",
      "{'description': 'Maria2019', 'igniteidx': '55ae4615e0e94e4f8a992182e831e114', 'compareidx': '51fdaebe31f44ad69272779a3f01182d', 'lcpidx': '43b7f5db36994599861eec4849cc68fd', 'barrieridx': 'cb47616cd2dc4ccc8fd523bd3a5064bb', 'windspeed': 10, 'winddirection': 60, 'relhumid': 90, 'temperature': 20}\n",
      "Choosing a perimeter from the database\n",
      "{'description': 'Maria2019', 'igniteidx': '286827b9429649218c9d7839a8685786', 'compareidx': '51fdaebe31f44ad69272779a3f01182d', 'lcpidx': '43b7f5db36994599861eec4849cc68fd', 'barrieridx': 'cb47616cd2dc4ccc8fd523bd3a5064bb', 'windspeed': 10, 'winddirection': 60, 'relhumid': 90, 'temperature': 20}\n",
      "Choosing a perimeter from the database\n",
      "{'description': 'Maria2019', 'igniteidx': '0695cbe933ec4c10b12019138cd76887', 'compareidx': '51fdaebe31f44ad69272779a3f01182d', 'lcpidx': '43b7f5db36994599861eec4849cc68fd', 'barrieridx': 'cb47616cd2dc4ccc8fd523bd3a5064bb', 'windspeed': 10, 'winddirection': 60, 'relhumid': 90, 'temperature': 20}\n",
      "Choosing a perimeter from the database\n",
      "{'description': 'Maria2019', 'igniteidx': '19a5eebabf4c49b5a8735e5d1c5e6e4f', 'compareidx': '51fdaebe31f44ad69272779a3f01182d', 'lcpidx': '43b7f5db36994599861eec4849cc68fd', 'barrieridx': 'cb47616cd2dc4ccc8fd523bd3a5064bb', 'windspeed': 10, 'winddirection': 60, 'relhumid': 90, 'temperature': 20}\n",
      "Choosing a perimeter from the database\n",
      "{'description': 'Maria2019', 'igniteidx': '7ac09529e64d40259ea1aef66813e1c4', 'compareidx': '51fdaebe31f44ad69272779a3f01182d', 'lcpidx': '43b7f5db36994599861eec4849cc68fd', 'barrieridx': 'cb47616cd2dc4ccc8fd523bd3a5064bb', 'windspeed': 10, 'winddirection': 60, 'relhumid': 90, 'temperature': 20}\n",
      "Choosing a perimeter from the database\n",
      "{'description': 'Maria2019', 'igniteidx': '5387ce23b8624f408844fa8b0e7dd1bb', 'compareidx': '51fdaebe31f44ad69272779a3f01182d', 'lcpidx': '43b7f5db36994599861eec4849cc68fd', 'barrieridx': 'cb47616cd2dc4ccc8fd523bd3a5064bb', 'windspeed': 10, 'winddirection': 60, 'relhumid': 90, 'temperature': 20}\n",
      "Choosing a perimeter from the database\n",
      "{'description': 'Maria2019', 'igniteidx': '5b64b26e61054c589f675b1271e0e563', 'compareidx': '51fdaebe31f44ad69272779a3f01182d', 'lcpidx': '43b7f5db36994599861eec4849cc68fd', 'barrieridx': 'cb47616cd2dc4ccc8fd523bd3a5064bb', 'windspeed': 10, 'winddirection': 60, 'relhumid': 90, 'temperature': 20}\n",
      "Choosing a perimeter from the database\n",
      "{'description': 'Maria2019', 'igniteidx': '7b83ab9746b444cba753b18c334509ed', 'compareidx': '51fdaebe31f44ad69272779a3f01182d', 'lcpidx': '43b7f5db36994599861eec4849cc68fd', 'barrieridx': 'cb47616cd2dc4ccc8fd523bd3a5064bb', 'windspeed': 10, 'winddirection': 60, 'relhumid': 90, 'temperature': 20}\n",
      "Choosing a perimeter from the database\n",
      "{'description': 'Maria2019', 'igniteidx': 'f6e0dc31df754de69cfe7c1e852e478c', 'compareidx': '51fdaebe31f44ad69272779a3f01182d', 'lcpidx': '43b7f5db36994599861eec4849cc68fd', 'barrieridx': 'cb47616cd2dc4ccc8fd523bd3a5064bb', 'windspeed': 10, 'winddirection': 60, 'relhumid': 90, 'temperature': 20}\n",
      "Choosing a perimeter from the database\n",
      "{'description': 'Maria2019', 'igniteidx': '2dc00c21e8cc4fe38b4d0513ae392f58', 'compareidx': '51fdaebe31f44ad69272779a3f01182d', 'lcpidx': '43b7f5db36994599861eec4849cc68fd', 'barrieridx': 'cb47616cd2dc4ccc8fd523bd3a5064bb', 'windspeed': 10, 'winddirection': 60, 'relhumid': 90, 'temperature': 20}\n",
      "Choosing a perimeter from the database\n",
      "{'description': 'Maria2019', 'igniteidx': '6e33edca4b63471294f2912e10d47e4b', 'compareidx': '51fdaebe31f44ad69272779a3f01182d', 'lcpidx': '43b7f5db36994599861eec4849cc68fd', 'barrieridx': 'cb47616cd2dc4ccc8fd523bd3a5064bb', 'windspeed': 10, 'winddirection': 60, 'relhumid': 90, 'temperature': 20}\n",
      "Choosing a perimeter from the database\n",
      "{'description': 'Maria2019', 'igniteidx': '6f092c9e4b9d4cdda9c6190905f8c6ce', 'compareidx': '51fdaebe31f44ad69272779a3f01182d', 'lcpidx': '43b7f5db36994599861eec4849cc68fd', 'barrieridx': 'cb47616cd2dc4ccc8fd523bd3a5064bb', 'windspeed': 10, 'winddirection': 60, 'relhumid': 90, 'temperature': 20}\n",
      "Choosing a perimeter from the database\n",
      "{'description': 'Maria2019', 'igniteidx': 'ab8d391fe29c4a2383caf6b1f775d214', 'compareidx': '51fdaebe31f44ad69272779a3f01182d', 'lcpidx': '43b7f5db36994599861eec4849cc68fd', 'barrieridx': 'cb47616cd2dc4ccc8fd523bd3a5064bb', 'windspeed': 10, 'winddirection': 60, 'relhumid': 90, 'temperature': 20}\n",
      "Choosing a perimeter from the database\n",
      "{'description': 'Maria2019', 'igniteidx': 'd23046c5796b4dc385755e502ba106b5', 'compareidx': '51fdaebe31f44ad69272779a3f01182d', 'lcpidx': '43b7f5db36994599861eec4849cc68fd', 'barrieridx': 'cb47616cd2dc4ccc8fd523bd3a5064bb', 'windspeed': 10, 'winddirection': 60, 'relhumid': 90, 'temperature': 20}\n",
      "Choosing a perimeter from the database\n",
      "{'description': 'Maria2019', 'igniteidx': '689c79feb8f4421a9e7dc24f439de6ca', 'compareidx': '51fdaebe31f44ad69272779a3f01182d', 'lcpidx': '43b7f5db36994599861eec4849cc68fd', 'barrieridx': 'cb47616cd2dc4ccc8fd523bd3a5064bb', 'windspeed': 10, 'winddirection': 60, 'relhumid': 90, 'temperature': 20}\n",
      "Choosing a perimeter from the database\n",
      "{'description': 'Maria2019', 'igniteidx': 'c2318476f52e4ce78712aa4c9c8bc969', 'compareidx': '51fdaebe31f44ad69272779a3f01182d', 'lcpidx': '43b7f5db36994599861eec4849cc68fd', 'barrieridx': 'cb47616cd2dc4ccc8fd523bd3a5064bb', 'windspeed': 10, 'winddirection': 60, 'relhumid': 90, 'temperature': 20}\n",
      "Choosing a perimeter from the database\n",
      "{'description': 'Maria2019', 'igniteidx': '1eff6fe499ac4e1ab8fcad6c3b54f569', 'compareidx': '51fdaebe31f44ad69272779a3f01182d', 'lcpidx': '43b7f5db36994599861eec4849cc68fd', 'barrieridx': 'cb47616cd2dc4ccc8fd523bd3a5064bb', 'windspeed': 10, 'winddirection': 60, 'relhumid': 90, 'temperature': 20}\n",
      "Choosing a perimeter from the database\n",
      "{'description': 'Maria2019', 'igniteidx': '7c0578def77c46df84c25ec1d3e1db12', 'compareidx': '51fdaebe31f44ad69272779a3f01182d', 'lcpidx': '43b7f5db36994599861eec4849cc68fd', 'barrieridx': 'cb47616cd2dc4ccc8fd523bd3a5064bb', 'windspeed': 10, 'winddirection': 60, 'relhumid': 90, 'temperature': 20}\n",
      "Choosing a perimeter from the database\n",
      "{'description': 'Maria2019', 'igniteidx': 'd749856ab54242898e60d2f8fcb3a41b', 'compareidx': '51fdaebe31f44ad69272779a3f01182d', 'lcpidx': '43b7f5db36994599861eec4849cc68fd', 'barrieridx': 'cb47616cd2dc4ccc8fd523bd3a5064bb', 'windspeed': 10, 'winddirection': 60, 'relhumid': 90, 'temperature': 20}\n",
      "Choosing a perimeter from the database\n",
      "{'description': 'Maria2019', 'igniteidx': 'c54f2afda55d4238891475d646304a80', 'compareidx': '51fdaebe31f44ad69272779a3f01182d', 'lcpidx': '43b7f5db36994599861eec4849cc68fd', 'barrieridx': 'cb47616cd2dc4ccc8fd523bd3a5064bb', 'windspeed': 10, 'winddirection': 60, 'relhumid': 90, 'temperature': 20}\n",
      "Choosing a perimeter from the database\n",
      "{'description': 'Maria2019', 'igniteidx': '082fdc5c156f45e5934434a721cb0dce', 'compareidx': '51fdaebe31f44ad69272779a3f01182d', 'lcpidx': '43b7f5db36994599861eec4849cc68fd', 'barrieridx': 'cb47616cd2dc4ccc8fd523bd3a5064bb', 'windspeed': 10, 'winddirection': 60, 'relhumid': 90, 'temperature': 20}\n",
      "Choosing a perimeter from the database\n",
      "{'description': 'Maria2019', 'igniteidx': '219bf3a703364551bf520926e07e47d4', 'compareidx': '51fdaebe31f44ad69272779a3f01182d', 'lcpidx': '43b7f5db36994599861eec4849cc68fd', 'barrieridx': 'cb47616cd2dc4ccc8fd523bd3a5064bb', 'windspeed': 10, 'winddirection': 60, 'relhumid': 90, 'temperature': 20}\n",
      "Choosing a perimeter from the database\n",
      "{'description': 'Maria2019', 'igniteidx': '59f75568641a456bb7a1bcd1e71890b4', 'compareidx': '51fdaebe31f44ad69272779a3f01182d', 'lcpidx': '43b7f5db36994599861eec4849cc68fd', 'barrieridx': 'cb47616cd2dc4ccc8fd523bd3a5064bb', 'windspeed': 10, 'winddirection': 60, 'relhumid': 90, 'temperature': 20}\n",
      "Choosing a perimeter from the database\n",
      "{'description': 'Maria2019', 'igniteidx': '8aa6498a4d564a6e903ef4358b289aab', 'compareidx': '51fdaebe31f44ad69272779a3f01182d', 'lcpidx': '43b7f5db36994599861eec4849cc68fd', 'barrieridx': 'cb47616cd2dc4ccc8fd523bd3a5064bb', 'windspeed': 10, 'winddirection': 60, 'relhumid': 90, 'temperature': 20}\n",
      "Choosing a perimeter from the database\n",
      "Farsite $Rev: 2395 $\n",
      "Number of parallel threads = 4 (omp_get_num_procs = 48).\n",
      "Loading lcp file for Farsite #1: /home/jovyan/farsite/inputs/landscapes/Maria2019.lcp\n",
      "Loading inputs file for Farsite #1: /home/jovyan/data/20230303/Run_00752/config\n",
      "Loading ignition file for Farsite #1: /home/jovyan/data/ignitions/Maria2019E61f1af846b7b46a49fcded85489dd55a.shp\n",
      "Loading barrier file for Farsite #1: /home/jovyan/farsite/inputs/barriers/NoBarrier/NoBarrier.shp\n",
      "Launching Farsite #1\n",
      "Starting time step 0.000000 (maximum = 18)\n",
      "Writing outputs for Farsite #1 to /home/jovyan/data/20230303/Run_00752/out\n"
     ]
    },
    {
     "name": "stderr",
     "output_type": "stream",
     "text": [
      "/home/jovyan/farsite-devAPI/src/farsiteutils_v2.py:177: FutureWarning: The frame.append method is deprecated and will be removed from pandas in a future version. Use pandas.concat instead.\n",
      "  self.gdfsimulation = self.gdfsimulation.append(gdfappend)\n",
      "/home/jovyan/farsite-devAPI/src/farsiteutils_v2.py:177: FutureWarning: The frame.append method is deprecated and will be removed from pandas in a future version. Use pandas.concat instead.\n",
      "  self.gdfsimulation = self.gdfsimulation.append(gdfappend)\n"
     ]
    },
    {
     "name": "stdout",
     "output_type": "stream",
     "text": [
      "Farsite $Rev: 2395 $\n",
      "Number of parallel threads = 4 (omp_get_num_procs = 48).\n",
      "Loading lcp file for Farsite #1: /home/jovyan/farsite/inputs/landscapes/Maria2019.lcp\n",
      "Loading inputs file for Farsite #1: /home/jovyan/data/20230303/Run_00753/config\n",
      "Loading ignition file for Farsite #1: /home/jovyan/data/ignitions/Maria2019Ecb5fb1b9f3d84979994b03bacf1d5a57.shp\n",
      "Loading barrier file for Farsite #1: /home/jovyan/farsite/inputs/barriers/NoBarrier/NoBarrier.shp\n",
      "Launching Farsite #1\n",
      "Starting time step 0.000000 (maximum = 18)\n",
      "Writing outputs for Farsite #1 to /home/jovyan/data/20230303/Run_00753/out\n",
      "Farsite $Rev: 2395 $\n",
      "Number of parallel threads = 4 (omp_get_num_procs = 48).\n",
      "Loading lcp file for Farsite #1: /home/jovyan/farsite/inputs/landscapes/Maria2019.lcp\n",
      "Loading inputs file for Farsite #1: /home/jovyan/data/20230303/Run_00754/config\n",
      "Loading ignition file for Farsite #1: /home/jovyan/data/ignitions/Maria2019Ed7333d5b5e334a808fbe2bcc66d3f0da.shp\n",
      "Loading barrier file for Farsite #1: /home/jovyan/farsite/inputs/barriers/NoBarrier/NoBarrier.shp\n",
      "Launching Farsite #1\n",
      "Starting time step 0.000000 (maximum = 18)\n",
      "Writing outputs for Farsite #1 to /home/jovyan/data/20230303/Run_00754/out\n"
     ]
    },
    {
     "name": "stderr",
     "output_type": "stream",
     "text": [
      "/home/jovyan/farsite-devAPI/src/farsiteutils_v2.py:177: FutureWarning: The frame.append method is deprecated and will be removed from pandas in a future version. Use pandas.concat instead.\n",
      "  self.gdfsimulation = self.gdfsimulation.append(gdfappend)\n"
     ]
    },
    {
     "name": "stdout",
     "output_type": "stream",
     "text": [
      "Farsite $Rev: 2395 $\n",
      "Number of parallel threads = 4 (omp_get_num_procs = 48).\n",
      "Loading lcp file for Farsite #1: /home/jovyan/farsite/inputs/landscapes/Maria2019.lcp\n",
      "Loading inputs file for Farsite #1: /home/jovyan/data/20230303/Run_00755/config\n",
      "Loading ignition file for Farsite #1: /home/jovyan/data/ignitions/Maria2019E8c3e193bd06d4cde97b05d4a1186cd2a.shp\n",
      "Loading barrier file for Farsite #1: /home/jovyan/farsite/inputs/barriers/NoBarrier/NoBarrier.shp\n",
      "Launching Farsite #1\n",
      "Starting time step 0.000000 (maximum = 18)\n",
      "Writing outputs for Farsite #1 to /home/jovyan/data/20230303/Run_00755/out\n"
     ]
    },
    {
     "name": "stderr",
     "output_type": "stream",
     "text": [
      "/home/jovyan/farsite-devAPI/src/farsiteutils_v2.py:177: FutureWarning: The frame.append method is deprecated and will be removed from pandas in a future version. Use pandas.concat instead.\n",
      "  self.gdfsimulation = self.gdfsimulation.append(gdfappend)\n"
     ]
    },
    {
     "name": "stdout",
     "output_type": "stream",
     "text": [
      "Farsite $Rev: 2395 $\n",
      "Number of parallel threads = 4 (omp_get_num_procs = 48).\n",
      "Loading lcp file for Farsite #1: /home/jovyan/farsite/inputs/landscapes/Maria2019.lcp\n",
      "Loading inputs file for Farsite #1: /home/jovyan/data/20230303/Run_00756/config\n",
      "Loading ignition file for Farsite #1: /home/jovyan/data/ignitions/Maria2019E0b49a261207a491492638bf209c88bfb.shp\n",
      "Loading barrier file for Farsite #1: /home/jovyan/farsite/inputs/barriers/NoBarrier/NoBarrier.shp\n",
      "Launching Farsite #1\n",
      "Starting time step 0.000000 (maximum = 18)\n",
      "Writing outputs for Farsite #1 to /home/jovyan/data/20230303/Run_00756/out\n"
     ]
    },
    {
     "name": "stderr",
     "output_type": "stream",
     "text": [
      "/home/jovyan/farsite-devAPI/src/farsiteutils_v2.py:177: FutureWarning: The frame.append method is deprecated and will be removed from pandas in a future version. Use pandas.concat instead.\n",
      "  self.gdfsimulation = self.gdfsimulation.append(gdfappend)\n"
     ]
    },
    {
     "name": "stdout",
     "output_type": "stream",
     "text": [
      "Farsite $Rev: 2395 $\n",
      "Number of parallel threads = 4 (omp_get_num_procs = 48).\n",
      "Loading lcp file for Farsite #1: /home/jovyan/farsite/inputs/landscapes/Maria2019.lcp\n",
      "Loading inputs file for Farsite #1: /home/jovyan/data/20230303/Run_00757/config\n",
      "Loading ignition file for Farsite #1: /home/jovyan/data/ignitions/Maria2019E2b4194355e3d4bfe87268b26966ba101.shp\n",
      "Loading barrier file for Farsite #1: /home/jovyan/farsite/inputs/barriers/NoBarrier/NoBarrier.shp\n",
      "Launching Farsite #1\n",
      "Starting time step 0.000000 (maximum = 18)\n",
      "Writing outputs for Farsite #1 to /home/jovyan/data/20230303/Run_00757/out\n",
      "Farsite $Rev: 2395 $\n",
      "Number of parallel threads = 4 (omp_get_num_procs = 48).\n",
      "Loading lcp file for Farsite #1: /home/jovyan/farsite/inputs/landscapes/Maria2019.lcp\n",
      "Loading inputs file for Farsite #1: /home/jovyan/data/20230303/Run_00758/config\n",
      "Loading ignition file for Farsite #1: /home/jovyan/data/ignitions/Maria2019E9950a92c479a44f4b2ccfe4799f8e21f.shp\n",
      "Loading barrier file for Farsite #1: /home/jovyan/farsite/inputs/barriers/NoBarrier/NoBarrier.shp\n",
      "Launching Farsite #1\n",
      "Starting time step 0.000000 (maximum = 18)\n",
      "Writing outputs for Farsite #1 to /home/jovyan/data/20230303/Run_00758/out\n"
     ]
    },
    {
     "name": "stderr",
     "output_type": "stream",
     "text": [
      "/home/jovyan/farsite-devAPI/src/farsiteutils_v2.py:177: FutureWarning: The frame.append method is deprecated and will be removed from pandas in a future version. Use pandas.concat instead.\n",
      "  self.gdfsimulation = self.gdfsimulation.append(gdfappend)\n",
      "/home/jovyan/farsite-devAPI/src/farsiteutils_v2.py:177: FutureWarning: The frame.append method is deprecated and will be removed from pandas in a future version. Use pandas.concat instead.\n",
      "  self.gdfsimulation = self.gdfsimulation.append(gdfappend)\n"
     ]
    },
    {
     "name": "stdout",
     "output_type": "stream",
     "text": [
      "Farsite $Rev: 2395 $\n",
      "Number of parallel threads = 4 (omp_get_num_procs = 48).\n",
      "Loading lcp file for Farsite #1: /home/jovyan/farsite/inputs/landscapes/Maria2019.lcp\n",
      "Loading inputs file for Farsite #1: /home/jovyan/data/20230303/Run_00759/config\n",
      "Loading ignition file for Farsite #1: /home/jovyan/data/ignitions/Maria2019E5fc21c7a664a45f4b1b7f134dfcdce60.shp\n",
      "Loading barrier file for Farsite #1: /home/jovyan/farsite/inputs/barriers/NoBarrier/NoBarrier.shp\n",
      "Launching Farsite #1\n",
      "Starting time step 0.000000 (maximum = 18)\n",
      "Writing outputs for Farsite #1 to /home/jovyan/data/20230303/Run_00759/out\n"
     ]
    },
    {
     "name": "stderr",
     "output_type": "stream",
     "text": [
      "/home/jovyan/farsite-devAPI/src/farsiteutils_v2.py:177: FutureWarning: The frame.append method is deprecated and will be removed from pandas in a future version. Use pandas.concat instead.\n",
      "  self.gdfsimulation = self.gdfsimulation.append(gdfappend)\n"
     ]
    },
    {
     "name": "stdout",
     "output_type": "stream",
     "text": [
      "Farsite $Rev: 2395 $\n",
      "Number of parallel threads = 4 (omp_get_num_procs = 48).\n",
      "Loading lcp file for Farsite #1: /home/jovyan/farsite/inputs/landscapes/Maria2019.lcp\n",
      "Loading inputs file for Farsite #1: /home/jovyan/data/20230303/Run_00760/config\n",
      "Loading ignition file for Farsite #1: /home/jovyan/data/ignitions/Maria2019Ebe6a9ff4ba91445491345c20ddadacb0.shp\n",
      "Loading barrier file for Farsite #1: /home/jovyan/farsite/inputs/barriers/NoBarrier/NoBarrier.shp\n",
      "Launching Farsite #1\n",
      "Starting time step 0.000000 (maximum = 18)\n",
      "Writing outputs for Farsite #1 to /home/jovyan/data/20230303/Run_00760/out\n"
     ]
    },
    {
     "name": "stderr",
     "output_type": "stream",
     "text": [
      "/home/jovyan/farsite-devAPI/src/farsiteutils_v2.py:177: FutureWarning: The frame.append method is deprecated and will be removed from pandas in a future version. Use pandas.concat instead.\n",
      "  self.gdfsimulation = self.gdfsimulation.append(gdfappend)\n",
      "/home/jovyan/farsite-devAPI/src/farsiteutils_v2.py:177: FutureWarning: The frame.append method is deprecated and will be removed from pandas in a future version. Use pandas.concat instead.\n",
      "  self.gdfsimulation = self.gdfsimulation.append(gdfappend)\n"
     ]
    },
    {
     "name": "stdout",
     "output_type": "stream",
     "text": [
      "Farsite $Rev: 2395 $\n",
      "Number of parallel threads = 4 (omp_get_num_procs = 48).\n",
      "Loading lcp file for Farsite #1: /home/jovyan/farsite/inputs/landscapes/Maria2019.lcp\n",
      "Loading inputs file for Farsite #1: /home/jovyan/data/20230303/Run_00761/config\n",
      "Loading ignition file for Farsite #1: /home/jovyan/data/ignitions/Maria2019E1973e05773674caca4a08f61213fda38.shp\n",
      "Loading barrier file for Farsite #1: /home/jovyan/farsite/inputs/barriers/NoBarrier/NoBarrier.shp\n",
      "Launching Farsite #1\n",
      "Starting time step 0.000000 (maximum = 18)\n",
      "Writing outputs for Farsite #1 to /home/jovyan/data/20230303/Run_00761/out\n",
      "Farsite $Rev: 2395 $\n",
      "Number of parallel threads = 4 (omp_get_num_procs = 48).\n",
      "Loading lcp file for Farsite #1: /home/jovyan/farsite/inputs/landscapes/Maria2019.lcp\n",
      "Loading inputs file for Farsite #1: /home/jovyan/data/20230303/Run_00762/config\n",
      "Loading ignition file for Farsite #1: /home/jovyan/data/ignitions/Maria2019E1a0aaadb887245dc8140a98744b5bffb.shp\n",
      "Loading barrier file for Farsite #1: /home/jovyan/farsite/inputs/barriers/NoBarrier/NoBarrier.shp\n",
      "Launching Farsite #1\n",
      "Starting time step 0.000000 (maximum = 18)\n",
      "Writing outputs for Farsite #1 to /home/jovyan/data/20230303/Run_00762/out\n"
     ]
    },
    {
     "name": "stderr",
     "output_type": "stream",
     "text": [
      "/home/jovyan/farsite-devAPI/src/farsiteutils_v2.py:177: FutureWarning: The frame.append method is deprecated and will be removed from pandas in a future version. Use pandas.concat instead.\n",
      "  self.gdfsimulation = self.gdfsimulation.append(gdfappend)\n",
      "/home/jovyan/farsite-devAPI/src/farsiteutils_v2.py:177: FutureWarning: The frame.append method is deprecated and will be removed from pandas in a future version. Use pandas.concat instead.\n",
      "  self.gdfsimulation = self.gdfsimulation.append(gdfappend)\n"
     ]
    },
    {
     "name": "stdout",
     "output_type": "stream",
     "text": [
      "Farsite $Rev: 2395 $\n",
      "Number of parallel threads = 4 (omp_get_num_procs = 48).\n",
      "Loading lcp file for Farsite #1: /home/jovyan/farsite/inputs/landscapes/Maria2019.lcp\n",
      "Loading inputs file for Farsite #1: /home/jovyan/data/20230303/Run_00763/config\n",
      "Loading ignition file for Farsite #1: /home/jovyan/data/ignitions/Maria2019E71618de3ca3b48268de42a0e9492afb0.shp\n",
      "Loading barrier file for Farsite #1: /home/jovyan/farsite/inputs/barriers/NoBarrier/NoBarrier.shp\n",
      "Launching Farsite #1\n",
      "Starting time step 0.000000 (maximum = 18)\n",
      "Writing outputs for Farsite #1 to /home/jovyan/data/20230303/Run_00763/out\n",
      "Farsite $Rev: 2395 $\n",
      "Number of parallel threads = 4 (omp_get_num_procs = 48).\n",
      "Loading lcp file for Farsite #1: /home/jovyan/farsite/inputs/landscapes/Maria2019.lcp\n",
      "Loading inputs file for Farsite #1: /home/jovyan/data/20230303/Run_00764/config\n",
      "Loading ignition file for Farsite #1: /home/jovyan/data/ignitions/Maria2019Efbd476c947294ac3b294afa9f8957b53.shp\n",
      "Loading barrier file for Farsite #1: /home/jovyan/farsite/inputs/barriers/NoBarrier/NoBarrier.shp\n",
      "Launching Farsite #1\n",
      "Starting time step 0.000000 (maximum = 18)\n",
      "Writing outputs for Farsite #1 to /home/jovyan/data/20230303/Run_00764/out\n"
     ]
    },
    {
     "name": "stderr",
     "output_type": "stream",
     "text": [
      "/home/jovyan/farsite-devAPI/src/farsiteutils_v2.py:177: FutureWarning: The frame.append method is deprecated and will be removed from pandas in a future version. Use pandas.concat instead.\n",
      "  self.gdfsimulation = self.gdfsimulation.append(gdfappend)\n"
     ]
    },
    {
     "name": "stdout",
     "output_type": "stream",
     "text": [
      "Farsite $Rev: 2395 $\n",
      "Number of parallel threads = 4 (omp_get_num_procs = 48).\n",
      "Loading lcp file for Farsite #1: /home/jovyan/farsite/inputs/landscapes/Maria2019.lcp\n",
      "Loading inputs file for Farsite #1: /home/jovyan/data/20230303/Run_00765/config\n",
      "Loading ignition file for Farsite #1: /home/jovyan/data/ignitions/Maria2019E6582115a0f61451186c3d8e5545ec08d.shp\n",
      "Loading barrier file for Farsite #1: /home/jovyan/farsite/inputs/barriers/NoBarrier/NoBarrier.shp\n",
      "Launching Farsite #1\n",
      "Starting time step 0.000000 (maximum = 18)\n",
      "Writing outputs for Farsite #1 to /home/jovyan/data/20230303/Run_00765/out\n",
      "Farsite $Rev: 2395 $\n",
      "Number of parallel threads = 4 (omp_get_num_procs = 48).\n",
      "Loading lcp file for Farsite #1: /home/jovyan/farsite/inputs/landscapes/Maria2019.lcp\n",
      "Loading inputs file for Farsite #1: /home/jovyan/data/20230303/Run_00766/config\n",
      "Loading ignition file for Farsite #1: /home/jovyan/data/ignitions/Maria2019E3d4723d44bae4228b8c9eef324ff373c.shp\n",
      "Loading barrier file for Farsite #1: /home/jovyan/farsite/inputs/barriers/NoBarrier/NoBarrier.shp\n",
      "Launching Farsite #1\n",
      "Starting time step 0.000000 (maximum = 18)\n",
      "Writing outputs for Farsite #1 to /home/jovyan/data/20230303/Run_00766/out\n"
     ]
    },
    {
     "name": "stderr",
     "output_type": "stream",
     "text": [
      "/home/jovyan/farsite-devAPI/src/farsiteutils_v2.py:177: FutureWarning: The frame.append method is deprecated and will be removed from pandas in a future version. Use pandas.concat instead.\n",
      "  self.gdfsimulation = self.gdfsimulation.append(gdfappend)\n",
      "/home/jovyan/farsite-devAPI/src/farsiteutils_v2.py:177: FutureWarning: The frame.append method is deprecated and will be removed from pandas in a future version. Use pandas.concat instead.\n",
      "  self.gdfsimulation = self.gdfsimulation.append(gdfappend)\n"
     ]
    },
    {
     "name": "stdout",
     "output_type": "stream",
     "text": [
      "Farsite $Rev: 2395 $\n",
      "Number of parallel threads = 4 (omp_get_num_procs = 48).\n",
      "Loading lcp file for Farsite #1: /home/jovyan/farsite/inputs/landscapes/Maria2019.lcp\n",
      "Loading inputs file for Farsite #1: /home/jovyan/data/20230303/Run_00767/config\n",
      "Loading ignition file for Farsite #1: /home/jovyan/data/ignitions/Maria2019E9d15b3e4cc6448b4b7b74db7af5ae5ca.shp\n",
      "Loading barrier file for Farsite #1: /home/jovyan/farsite/inputs/barriers/NoBarrier/NoBarrier.shp\n",
      "Launching Farsite #1\n",
      "Starting time step 0.000000 (maximum = 18)\n",
      "Writing outputs for Farsite #1 to /home/jovyan/data/20230303/Run_00767/out\n",
      "Farsite $Rev: 2395 $\n",
      "Number of parallel threads = 4 (omp_get_num_procs = 48).\n",
      "Loading lcp file for Farsite #1: /home/jovyan/farsite/inputs/landscapes/Maria2019.lcp\n",
      "Loading inputs file for Farsite #1: /home/jovyan/data/20230303/Run_00768/config\n",
      "Loading ignition file for Farsite #1: /home/jovyan/data/ignitions/Maria2019E3100df7023244967830e3951467b6a7e.shp\n",
      "Loading barrier file for Farsite #1: /home/jovyan/farsite/inputs/barriers/NoBarrier/NoBarrier.shp\n",
      "Launching Farsite #1\n",
      "Starting time step 0.000000 (maximum = 18)\n",
      "Writing outputs for Farsite #1 to /home/jovyan/data/20230303/Run_00768/out\n"
     ]
    },
    {
     "name": "stderr",
     "output_type": "stream",
     "text": [
      "/home/jovyan/farsite-devAPI/src/farsiteutils_v2.py:177: FutureWarning: The frame.append method is deprecated and will be removed from pandas in a future version. Use pandas.concat instead.\n",
      "  self.gdfsimulation = self.gdfsimulation.append(gdfappend)\n",
      "/home/jovyan/farsite-devAPI/src/farsiteutils_v2.py:177: FutureWarning: The frame.append method is deprecated and will be removed from pandas in a future version. Use pandas.concat instead.\n",
      "  self.gdfsimulation = self.gdfsimulation.append(gdfappend)\n"
     ]
    },
    {
     "name": "stdout",
     "output_type": "stream",
     "text": [
      "Farsite $Rev: 2395 $\n",
      "Number of parallel threads = 4 (omp_get_num_procs = 48).\n",
      "Loading lcp file for Farsite #1: /home/jovyan/farsite/inputs/landscapes/Maria2019.lcp\n",
      "Loading inputs file for Farsite #1: /home/jovyan/data/20230303/Run_00769/config\n",
      "Loading ignition file for Farsite #1: /home/jovyan/data/ignitions/Maria2019E3783f38b2a894883a5cd6756c7d20f15.shp\n",
      "Loading barrier file for Farsite #1: /home/jovyan/farsite/inputs/barriers/NoBarrier/NoBarrier.shp\n",
      "Launching Farsite #1\n",
      "Starting time step 0.000000 (maximum = 18)\n",
      "Writing outputs for Farsite #1 to /home/jovyan/data/20230303/Run_00769/out\n",
      "Farsite $Rev: 2395 $\n",
      "Number of parallel threads = 4 (omp_get_num_procs = 48).\n",
      "Loading lcp file for Farsite #1: /home/jovyan/farsite/inputs/landscapes/Maria2019.lcp\n",
      "Loading inputs file for Farsite #1: /home/jovyan/data/20230303/Run_00770/config\n",
      "Loading ignition file for Farsite #1: /home/jovyan/data/ignitions/Maria2019E2a98108ba84e4f749cef9ffc56703ebd.shp\n",
      "Loading barrier file for Farsite #1: /home/jovyan/farsite/inputs/barriers/NoBarrier/NoBarrier.shp\n",
      "Launching Farsite #1\n",
      "Starting time step 0.000000 (maximum = 18)\n",
      "Writing outputs for Farsite #1 to /home/jovyan/data/20230303/Run_00770/out\n"
     ]
    },
    {
     "name": "stderr",
     "output_type": "stream",
     "text": [
      "/home/jovyan/farsite-devAPI/src/farsiteutils_v2.py:177: FutureWarning: The frame.append method is deprecated and will be removed from pandas in a future version. Use pandas.concat instead.\n",
      "  self.gdfsimulation = self.gdfsimulation.append(gdfappend)\n",
      "/home/jovyan/farsite-devAPI/src/farsiteutils_v2.py:177: FutureWarning: The frame.append method is deprecated and will be removed from pandas in a future version. Use pandas.concat instead.\n",
      "  self.gdfsimulation = self.gdfsimulation.append(gdfappend)\n"
     ]
    },
    {
     "name": "stdout",
     "output_type": "stream",
     "text": [
      "Farsite $Rev: 2395 $\n",
      "Number of parallel threads = 4 (omp_get_num_procs = 48).\n",
      "Loading lcp file for Farsite #1: /home/jovyan/farsite/inputs/landscapes/Maria2019.lcp\n",
      "Loading inputs file for Farsite #1: /home/jovyan/data/20230303/Run_00771/config\n",
      "Loading ignition file for Farsite #1: /home/jovyan/data/ignitions/Maria2019E71640ace22b44483814a7213ec28cf31.shp\n",
      "Loading barrier file for Farsite #1: /home/jovyan/farsite/inputs/barriers/NoBarrier/NoBarrier.shp\n",
      "Launching Farsite #1\n",
      "Starting time step 0.000000 (maximum = 18)\n",
      "Writing outputs for Farsite #1 to /home/jovyan/data/20230303/Run_00771/out\n"
     ]
    },
    {
     "name": "stderr",
     "output_type": "stream",
     "text": [
      "/home/jovyan/farsite-devAPI/src/farsiteutils_v2.py:177: FutureWarning: The frame.append method is deprecated and will be removed from pandas in a future version. Use pandas.concat instead.\n",
      "  self.gdfsimulation = self.gdfsimulation.append(gdfappend)\n"
     ]
    },
    {
     "name": "stdout",
     "output_type": "stream",
     "text": [
      "Farsite $Rev: 2395 $\n",
      "Number of parallel threads = 4 (omp_get_num_procs = 48).\n",
      "Loading lcp file for Farsite #1: /home/jovyan/farsite/inputs/landscapes/Maria2019.lcp\n",
      "Loading inputs file for Farsite #1: /home/jovyan/data/20230303/Run_00772/config\n",
      "Loading ignition file for Farsite #1: /home/jovyan/data/ignitions/Maria2019E4b5b52d7823e4a34ae1131e3c91d3960.shp\n",
      "Loading barrier file for Farsite #1: /home/jovyan/farsite/inputs/barriers/NoBarrier/NoBarrier.shp\n",
      "Launching Farsite #1\n",
      "Starting time step 0.000000 (maximum = 18)\n",
      "Writing outputs for Farsite #1 to /home/jovyan/data/20230303/Run_00772/out\n"
     ]
    },
    {
     "name": "stderr",
     "output_type": "stream",
     "text": [
      "/home/jovyan/farsite-devAPI/src/farsiteutils_v2.py:177: FutureWarning: The frame.append method is deprecated and will be removed from pandas in a future version. Use pandas.concat instead.\n",
      "  self.gdfsimulation = self.gdfsimulation.append(gdfappend)\n"
     ]
    },
    {
     "name": "stdout",
     "output_type": "stream",
     "text": [
      "Farsite $Rev: 2395 $\n",
      "Number of parallel threads = 4 (omp_get_num_procs = 48).\n",
      "Loading lcp file for Farsite #1: /home/jovyan/farsite/inputs/landscapes/Maria2019.lcp\n",
      "Loading inputs file for Farsite #1: /home/jovyan/data/20230303/Run_00773/config\n",
      "Loading ignition file for Farsite #1: /home/jovyan/data/ignitions/Maria2019Ed32ef62a953a4991a6a73d1a374d652b.shp\n",
      "Loading barrier file for Farsite #1: /home/jovyan/farsite/inputs/barriers/NoBarrier/NoBarrier.shp\n",
      "Launching Farsite #1\n",
      "Starting time step 0.000000 (maximum = 18)\n",
      "Writing outputs for Farsite #1 to /home/jovyan/data/20230303/Run_00773/out\n"
     ]
    },
    {
     "name": "stderr",
     "output_type": "stream",
     "text": [
      "/home/jovyan/farsite-devAPI/src/farsiteutils_v2.py:177: FutureWarning: The frame.append method is deprecated and will be removed from pandas in a future version. Use pandas.concat instead.\n",
      "  self.gdfsimulation = self.gdfsimulation.append(gdfappend)\n",
      "/home/jovyan/farsite-devAPI/src/farsiteutils_v2.py:177: FutureWarning: The frame.append method is deprecated and will be removed from pandas in a future version. Use pandas.concat instead.\n",
      "  self.gdfsimulation = self.gdfsimulation.append(gdfappend)\n"
     ]
    },
    {
     "name": "stdout",
     "output_type": "stream",
     "text": [
      "Farsite $Rev: 2395 $\n",
      "Number of parallel threads = 4 (omp_get_num_procs = 48).\n",
      "Loading lcp file for Farsite #1: /home/jovyan/farsite/inputs/landscapes/Maria2019.lcp\n",
      "Loading inputs file for Farsite #1: /home/jovyan/data/20230303/Run_00774/config\n",
      "Loading ignition file for Farsite #1: /home/jovyan/data/ignitions/Maria2019E4458ae0282a64a1394d161a8b5240a23.shp\n",
      "Loading barrier file for Farsite #1: /home/jovyan/farsite/inputs/barriers/NoBarrier/NoBarrier.shp\n",
      "Launching Farsite #1\n",
      "Starting time step 0.000000 (maximum = 18)\n",
      "Writing outputs for Farsite #1 to /home/jovyan/data/20230303/Run_00774/out\n",
      "Farsite $Rev: 2395 $\n",
      "Number of parallel threads = 4 (omp_get_num_procs = 48).\n",
      "Loading lcp file for Farsite #1: /home/jovyan/farsite/inputs/landscapes/Maria2019.lcp\n",
      "Loading inputs file for Farsite #1: /home/jovyan/data/20230303/Run_00775/config\n",
      "Loading ignition file for Farsite #1: /home/jovyan/data/ignitions/Maria2019Ec3316bbd93e04c708b0d448fe3be6a95.shp\n",
      "Loading barrier file for Farsite #1: /home/jovyan/farsite/inputs/barriers/NoBarrier/NoBarrier.shp\n",
      "Launching Farsite #1\n",
      "Starting time step 0.000000 (maximum = 18)\n",
      "Writing outputs for Farsite #1 to /home/jovyan/data/20230303/Run_00775/out\n"
     ]
    },
    {
     "name": "stderr",
     "output_type": "stream",
     "text": [
      "/home/jovyan/farsite-devAPI/src/farsiteutils_v2.py:177: FutureWarning: The frame.append method is deprecated and will be removed from pandas in a future version. Use pandas.concat instead.\n",
      "  self.gdfsimulation = self.gdfsimulation.append(gdfappend)\n",
      "/home/jovyan/farsite-devAPI/src/farsiteutils_v2.py:177: FutureWarning: The frame.append method is deprecated and will be removed from pandas in a future version. Use pandas.concat instead.\n",
      "  self.gdfsimulation = self.gdfsimulation.append(gdfappend)\n"
     ]
    },
    {
     "name": "stdout",
     "output_type": "stream",
     "text": [
      "Farsite $Rev: 2395 $\n",
      "Number of parallel threads = 4 (omp_get_num_procs = 48).\n",
      "Loading lcp file for Farsite #1: /home/jovyan/farsite/inputs/landscapes/Maria2019.lcp\n",
      "Loading inputs file for Farsite #1: /home/jovyan/data/20230303/Run_00776/config\n",
      "Loading ignition file for Farsite #1: /home/jovyan/data/ignitions/Maria2019E75e0ca6dbc8345dbb29de4f227434e5f.shp\n",
      "Loading barrier file for Farsite #1: /home/jovyan/farsite/inputs/barriers/NoBarrier/NoBarrier.shp\n",
      "Launching Farsite #1\n",
      "Starting time step 0.000000 (maximum = 18)\n",
      "Writing outputs for Farsite #1 to /home/jovyan/data/20230303/Run_00776/out\n",
      "Farsite $Rev: 2395 $\n",
      "Number of parallel threads = 4 (omp_get_num_procs = 48).\n",
      "Loading lcp file for Farsite #1: /home/jovyan/farsite/inputs/landscapes/Maria2019.lcp\n",
      "Loading inputs file for Farsite #1: /home/jovyan/data/20230303/Run_00777/config\n",
      "Loading ignition file for Farsite #1: /home/jovyan/data/ignitions/Maria2019E7920068afa0340949533163c09228352.shp\n",
      "Loading barrier file for Farsite #1: /home/jovyan/farsite/inputs/barriers/NoBarrier/NoBarrier.shp\n",
      "Launching Farsite #1\n",
      "Starting time step 0.000000 (maximum = 18)\n",
      "Writing outputs for Farsite #1 to /home/jovyan/data/20230303/Run_00777/out\n"
     ]
    },
    {
     "name": "stderr",
     "output_type": "stream",
     "text": [
      "/home/jovyan/farsite-devAPI/src/farsiteutils_v2.py:177: FutureWarning: The frame.append method is deprecated and will be removed from pandas in a future version. Use pandas.concat instead.\n",
      "  self.gdfsimulation = self.gdfsimulation.append(gdfappend)\n"
     ]
    },
    {
     "name": "stdout",
     "output_type": "stream",
     "text": [
      "Farsite $Rev: 2395 $\n",
      "Number of parallel threads = 4 (omp_get_num_procs = 48).\n",
      "Loading lcp file for Farsite #1: /home/jovyan/farsite/inputs/landscapes/Maria2019.lcp\n",
      "Loading inputs file for Farsite #1: /home/jovyan/data/20230303/Run_00778/config\n",
      "Loading ignition file for Farsite #1: /home/jovyan/data/ignitions/Maria2019E1e7faac3d578497ebe8a861669e82f81.shp\n",
      "Loading barrier file for Farsite #1: /home/jovyan/farsite/inputs/barriers/NoBarrier/NoBarrier.shp\n",
      "Launching Farsite #1\n",
      "Starting time step 0.000000 (maximum = 18)\n",
      "Writing outputs for Farsite #1 to /home/jovyan/data/20230303/Run_00778/out\n"
     ]
    },
    {
     "name": "stderr",
     "output_type": "stream",
     "text": [
      "/home/jovyan/farsite-devAPI/src/farsiteutils_v2.py:177: FutureWarning: The frame.append method is deprecated and will be removed from pandas in a future version. Use pandas.concat instead.\n",
      "  self.gdfsimulation = self.gdfsimulation.append(gdfappend)\n"
     ]
    },
    {
     "name": "stdout",
     "output_type": "stream",
     "text": [
      "Farsite $Rev: 2395 $\n",
      "Number of parallel threads = 4 (omp_get_num_procs = 48).\n",
      "Loading lcp file for Farsite #1: /home/jovyan/farsite/inputs/landscapes/Maria2019.lcp\n",
      "Loading inputs file for Farsite #1: /home/jovyan/data/20230303/Run_00779/config\n",
      "Loading ignition file for Farsite #1: /home/jovyan/data/ignitions/Maria2019E0c767286b11c411aafbe2944ed338460.shp\n",
      "Loading barrier file for Farsite #1: /home/jovyan/farsite/inputs/barriers/NoBarrier/NoBarrier.shp\n",
      "Launching Farsite #1\n",
      "Starting time step 0.000000 (maximum = 18)\n",
      "Writing outputs for Farsite #1 to /home/jovyan/data/20230303/Run_00779/out\n"
     ]
    },
    {
     "name": "stderr",
     "output_type": "stream",
     "text": [
      "/home/jovyan/farsite-devAPI/src/farsiteutils_v2.py:177: FutureWarning: The frame.append method is deprecated and will be removed from pandas in a future version. Use pandas.concat instead.\n",
      "  self.gdfsimulation = self.gdfsimulation.append(gdfappend)\n"
     ]
    },
    {
     "name": "stdout",
     "output_type": "stream",
     "text": [
      "Farsite $Rev: 2395 $\n",
      "Number of parallel threads = 4 (omp_get_num_procs = 48).\n",
      "Loading lcp file for Farsite #1: /home/jovyan/farsite/inputs/landscapes/Maria2019.lcp\n",
      "Loading inputs file for Farsite #1: /home/jovyan/data/20230303/Run_00780/config\n",
      "Loading ignition file for Farsite #1: /home/jovyan/data/ignitions/Maria2019Eaf4854b431704a88b5ba078c9f05c8e9.shp\n",
      "Loading barrier file for Farsite #1: /home/jovyan/farsite/inputs/barriers/NoBarrier/NoBarrier.shp\n",
      "Launching Farsite #1\n",
      "Starting time step 0.000000 (maximum = 18)\n",
      "Writing outputs for Farsite #1 to /home/jovyan/data/20230303/Run_00780/out\n"
     ]
    },
    {
     "name": "stderr",
     "output_type": "stream",
     "text": [
      "/home/jovyan/farsite-devAPI/src/farsiteutils_v2.py:177: FutureWarning: The frame.append method is deprecated and will be removed from pandas in a future version. Use pandas.concat instead.\n",
      "  self.gdfsimulation = self.gdfsimulation.append(gdfappend)\n"
     ]
    },
    {
     "name": "stdout",
     "output_type": "stream",
     "text": [
      "Farsite $Rev: 2395 $\n",
      "Number of parallel threads = 4 (omp_get_num_procs = 48).\n",
      "Loading lcp file for Farsite #1: /home/jovyan/farsite/inputs/landscapes/Maria2019.lcp\n",
      "Loading inputs file for Farsite #1: /home/jovyan/data/20230303/Run_00781/config\n",
      "Loading ignition file for Farsite #1: /home/jovyan/data/ignitions/Maria2019E0f7a494ddd2f41f58189253ddce7f9a3.shp\n",
      "Loading barrier file for Farsite #1: /home/jovyan/farsite/inputs/barriers/NoBarrier/NoBarrier.shp\n",
      "Launching Farsite #1\n",
      "Starting time step 0.000000 (maximum = 18)\n",
      "Writing outputs for Farsite #1 to /home/jovyan/data/20230303/Run_00781/out\n"
     ]
    },
    {
     "name": "stderr",
     "output_type": "stream",
     "text": [
      "/home/jovyan/farsite-devAPI/src/farsiteutils_v2.py:177: FutureWarning: The frame.append method is deprecated and will be removed from pandas in a future version. Use pandas.concat instead.\n",
      "  self.gdfsimulation = self.gdfsimulation.append(gdfappend)\n"
     ]
    },
    {
     "name": "stdout",
     "output_type": "stream",
     "text": [
      "Farsite $Rev: 2395 $\n",
      "Number of parallel threads = 4 (omp_get_num_procs = 48).\n",
      "Loading lcp file for Farsite #1: /home/jovyan/farsite/inputs/landscapes/Maria2019.lcp\n",
      "Loading inputs file for Farsite #1: /home/jovyan/data/20230303/Run_00782/config\n",
      "Loading ignition file for Farsite #1: /home/jovyan/data/ignitions/Maria2019Ef05980fc400947ce8850246e11f1a882.shp\n",
      "Loading barrier file for Farsite #1: /home/jovyan/farsite/inputs/barriers/NoBarrier/NoBarrier.shp\n",
      "Launching Farsite #1\n",
      "Starting time step 0.000000 (maximum = 18)\n",
      "Writing outputs for Farsite #1 to /home/jovyan/data/20230303/Run_00782/out\n"
     ]
    },
    {
     "name": "stderr",
     "output_type": "stream",
     "text": [
      "/home/jovyan/farsite-devAPI/src/farsiteutils_v2.py:177: FutureWarning: The frame.append method is deprecated and will be removed from pandas in a future version. Use pandas.concat instead.\n",
      "  self.gdfsimulation = self.gdfsimulation.append(gdfappend)\n",
      "/home/jovyan/farsite-devAPI/src/farsiteutils_v2.py:177: FutureWarning: The frame.append method is deprecated and will be removed from pandas in a future version. Use pandas.concat instead.\n",
      "  self.gdfsimulation = self.gdfsimulation.append(gdfappend)\n"
     ]
    },
    {
     "name": "stdout",
     "output_type": "stream",
     "text": [
      "Farsite $Rev: 2395 $\n",
      "Number of parallel threads = 4 (omp_get_num_procs = 48).\n",
      "Loading lcp file for Farsite #1: /home/jovyan/farsite/inputs/landscapes/Maria2019.lcp\n",
      "Loading inputs file for Farsite #1: /home/jovyan/data/20230303/Run_00783/config\n",
      "Loading ignition file for Farsite #1: /home/jovyan/data/ignitions/Maria2019E58f453e7416d475c86b48b973b1f6f1a.shp\n",
      "Loading barrier file for Farsite #1: /home/jovyan/farsite/inputs/barriers/NoBarrier/NoBarrier.shp\n",
      "Launching Farsite #1\n",
      "Starting time step 0.000000 (maximum = 18)\n",
      "Writing outputs for Farsite #1 to /home/jovyan/data/20230303/Run_00783/out\n",
      "Farsite $Rev: 2395 $\n",
      "Number of parallel threads = 4 (omp_get_num_procs = 48).\n",
      "Loading lcp file for Farsite #1: /home/jovyan/farsite/inputs/landscapes/Maria2019.lcp\n",
      "Loading inputs file for Farsite #1: /home/jovyan/data/20230303/Run_00784/config\n",
      "Loading ignition file for Farsite #1: /home/jovyan/data/ignitions/Maria2019E8d1455a505ae4b91bc0313097c112c69.shp\n",
      "Loading barrier file for Farsite #1: /home/jovyan/farsite/inputs/barriers/NoBarrier/NoBarrier.shp\n",
      "Launching Farsite #1\n",
      "Starting time step 0.000000 (maximum = 18)\n",
      "Writing outputs for Farsite #1 to /home/jovyan/data/20230303/Run_00784/out\n",
      "Farsite $Rev: 2395 $\n",
      "Number of parallel threads = 4 (omp_get_num_procs = 48).\n",
      "Loading lcp file for Farsite #1: /home/jovyan/farsite/inputs/landscapes/Maria2019.lcp\n",
      "Loading inputs file for Farsite #1: /home/jovyan/data/20230303/Run_00785/config\n",
      "Loading ignition file for Farsite #1: /home/jovyan/data/ignitions/Maria2019E7d7e283e984f4369b10475c255ec75cf.shp\n",
      "Loading barrier file for Farsite #1: /home/jovyan/farsite/inputs/barriers/NoBarrier/NoBarrier.shp\n",
      "Launching Farsite #1\n",
      "Starting time step 0.000000 (maximum = 18)\n",
      "Writing outputs for Farsite #1 to /home/jovyan/data/20230303/Run_00785/out\n"
     ]
    },
    {
     "name": "stderr",
     "output_type": "stream",
     "text": [
      "/home/jovyan/farsite-devAPI/src/farsiteutils_v2.py:177: FutureWarning: The frame.append method is deprecated and will be removed from pandas in a future version. Use pandas.concat instead.\n",
      "  self.gdfsimulation = self.gdfsimulation.append(gdfappend)\n",
      "/home/jovyan/farsite-devAPI/src/farsiteutils_v2.py:177: FutureWarning: The frame.append method is deprecated and will be removed from pandas in a future version. Use pandas.concat instead.\n",
      "  self.gdfsimulation = self.gdfsimulation.append(gdfappend)\n"
     ]
    },
    {
     "name": "stdout",
     "output_type": "stream",
     "text": [
      "Farsite $Rev: 2395 $\n",
      "Number of parallel threads = 4 (omp_get_num_procs = 48).\n",
      "Loading lcp file for Farsite #1: /home/jovyan/farsite/inputs/landscapes/Maria2019.lcp\n",
      "Loading inputs file for Farsite #1: /home/jovyan/data/20230303/Run_00786/config\n",
      "Loading ignition file for Farsite #1: /home/jovyan/data/ignitions/Maria2019E70cc89aee4cc4cedba851a2e2fcdf7ba.shp\n",
      "Loading barrier file for Farsite #1: /home/jovyan/farsite/inputs/barriers/NoBarrier/NoBarrier.shp\n",
      "Launching Farsite #1\n",
      "Starting time step 0.000000 (maximum = 18)\n",
      "Writing outputs for Farsite #1 to /home/jovyan/data/20230303/Run_00786/out\n"
     ]
    },
    {
     "name": "stderr",
     "output_type": "stream",
     "text": [
      "/home/jovyan/farsite-devAPI/src/farsiteutils_v2.py:177: FutureWarning: The frame.append method is deprecated and will be removed from pandas in a future version. Use pandas.concat instead.\n",
      "  self.gdfsimulation = self.gdfsimulation.append(gdfappend)\n"
     ]
    },
    {
     "name": "stdout",
     "output_type": "stream",
     "text": [
      "Farsite $Rev: 2395 $\n",
      "Number of parallel threads = 4 (omp_get_num_procs = 48).\n",
      "Loading lcp file for Farsite #1: /home/jovyan/farsite/inputs/landscapes/Maria2019.lcp\n",
      "Loading inputs file for Farsite #1: /home/jovyan/data/20230303/Run_00787/config\n",
      "Loading ignition file for Farsite #1: /home/jovyan/data/ignitions/Maria2019E2ccb605bc9d04c918ec601faa960b79c.shp\n",
      "Loading barrier file for Farsite #1: /home/jovyan/farsite/inputs/barriers/NoBarrier/NoBarrier.shp\n",
      "Launching Farsite #1\n",
      "Starting time step 0.000000 (maximum = 18)\n",
      "Writing outputs for Farsite #1 to /home/jovyan/data/20230303/Run_00787/out\n",
      "Farsite $Rev: 2395 $\n",
      "Number of parallel threads = 4 (omp_get_num_procs = 48).\n",
      "Loading lcp file for Farsite #1: /home/jovyan/farsite/inputs/landscapes/Maria2019.lcp\n",
      "Loading inputs file for Farsite #1: /home/jovyan/data/20230303/Run_00788/config\n",
      "Loading ignition file for Farsite #1: /home/jovyan/data/ignitions/Maria2019E865bdbef50314a708f465fa0113e70a6.shp\n",
      "Loading barrier file for Farsite #1: /home/jovyan/farsite/inputs/barriers/NoBarrier/NoBarrier.shp\n",
      "Launching Farsite #1\n",
      "Starting time step 0.000000 (maximum = 18)\n",
      "Writing outputs for Farsite #1 to /home/jovyan/data/20230303/Run_00788/out\n"
     ]
    },
    {
     "name": "stderr",
     "output_type": "stream",
     "text": [
      "/home/jovyan/farsite-devAPI/src/farsiteutils_v2.py:177: FutureWarning: The frame.append method is deprecated and will be removed from pandas in a future version. Use pandas.concat instead.\n",
      "  self.gdfsimulation = self.gdfsimulation.append(gdfappend)\n",
      "/home/jovyan/farsite-devAPI/src/farsiteutils_v2.py:177: FutureWarning: The frame.append method is deprecated and will be removed from pandas in a future version. Use pandas.concat instead.\n",
      "  self.gdfsimulation = self.gdfsimulation.append(gdfappend)\n"
     ]
    },
    {
     "name": "stdout",
     "output_type": "stream",
     "text": [
      "Farsite $Rev: 2395 $\n",
      "Number of parallel threads = 4 (omp_get_num_procs = 48).\n",
      "Loading lcp file for Farsite #1: /home/jovyan/farsite/inputs/landscapes/Maria2019.lcp\n",
      "Loading inputs file for Farsite #1: /home/jovyan/data/20230303/Run_00789/config\n",
      "Loading ignition file for Farsite #1: /home/jovyan/data/ignitions/Maria2019Ebcbc6b3e8d6d46689bbccdb259d912c1.shp\n",
      "Loading barrier file for Farsite #1: /home/jovyan/farsite/inputs/barriers/NoBarrier/NoBarrier.shp\n",
      "Launching Farsite #1\n",
      "Starting time step 0.000000 (maximum = 18)\n",
      "Writing outputs for Farsite #1 to /home/jovyan/data/20230303/Run_00789/out\n",
      "Farsite $Rev: 2395 $\n",
      "Number of parallel threads = 4 (omp_get_num_procs = 48).\n",
      "Loading lcp file for Farsite #1: /home/jovyan/farsite/inputs/landscapes/Maria2019.lcp\n",
      "Loading inputs file for Farsite #1: /home/jovyan/data/20230303/Run_00790/config\n",
      "Loading ignition file for Farsite #1: /home/jovyan/data/ignitions/Maria2019E29918e3fa3134f1bb78c5e6b146daf89.shp\n",
      "Loading barrier file for Farsite #1: /home/jovyan/farsite/inputs/barriers/NoBarrier/NoBarrier.shp\n",
      "Launching Farsite #1\n",
      "Starting time step 0.000000 (maximum = 18)\n",
      "Writing outputs for Farsite #1 to /home/jovyan/data/20230303/Run_00790/out\n"
     ]
    },
    {
     "name": "stderr",
     "output_type": "stream",
     "text": [
      "/home/jovyan/farsite-devAPI/src/farsiteutils_v2.py:177: FutureWarning: The frame.append method is deprecated and will be removed from pandas in a future version. Use pandas.concat instead.\n",
      "  self.gdfsimulation = self.gdfsimulation.append(gdfappend)\n",
      "/home/jovyan/farsite-devAPI/src/farsiteutils_v2.py:177: FutureWarning: The frame.append method is deprecated and will be removed from pandas in a future version. Use pandas.concat instead.\n",
      "  self.gdfsimulation = self.gdfsimulation.append(gdfappend)\n"
     ]
    },
    {
     "name": "stdout",
     "output_type": "stream",
     "text": [
      "Farsite $Rev: 2395 $\n",
      "Number of parallel threads = 4 (omp_get_num_procs = 48).\n",
      "Loading lcp file for Farsite #1: /home/jovyan/farsite/inputs/landscapes/Maria2019.lcp\n",
      "Loading inputs file for Farsite #1: /home/jovyan/data/20230303/Run_00791/config\n",
      "Loading ignition file for Farsite #1: /home/jovyan/data/ignitions/Maria2019E217c7bf8ef304f8582de82c045f2d848.shp\n",
      "Loading barrier file for Farsite #1: /home/jovyan/farsite/inputs/barriers/NoBarrier/NoBarrier.shp\n",
      "Launching Farsite #1\n",
      "Starting time step 0.000000 (maximum = 18)\n",
      "Writing outputs for Farsite #1 to /home/jovyan/data/20230303/Run_00791/out\n",
      "Farsite $Rev: 2395 $\n",
      "Number of parallel threads = 4 (omp_get_num_procs = 48).\n",
      "Loading lcp file for Farsite #1: /home/jovyan/farsite/inputs/landscapes/Maria2019.lcp\n",
      "Loading inputs file for Farsite #1: /home/jovyan/data/20230303/Run_00792/config\n",
      "Loading ignition file for Farsite #1: /home/jovyan/data/ignitions/Maria2019E61d43fb456474f59b52e08617dffbe12.shp\n",
      "Loading barrier file for Farsite #1: /home/jovyan/farsite/inputs/barriers/NoBarrier/NoBarrier.shp\n",
      "Launching Farsite #1\n",
      "Starting time step 0.000000 (maximum = 18)\n",
      "Writing outputs for Farsite #1 to /home/jovyan/data/20230303/Run_00792/out\n"
     ]
    },
    {
     "name": "stderr",
     "output_type": "stream",
     "text": [
      "/home/jovyan/farsite-devAPI/src/farsiteutils_v2.py:177: FutureWarning: The frame.append method is deprecated and will be removed from pandas in a future version. Use pandas.concat instead.\n",
      "  self.gdfsimulation = self.gdfsimulation.append(gdfappend)\n",
      "/home/jovyan/farsite-devAPI/src/farsiteutils_v2.py:177: FutureWarning: The frame.append method is deprecated and will be removed from pandas in a future version. Use pandas.concat instead.\n",
      "  self.gdfsimulation = self.gdfsimulation.append(gdfappend)\n"
     ]
    },
    {
     "name": "stdout",
     "output_type": "stream",
     "text": [
      "Farsite $Rev: 2395 $\n",
      "Number of parallel threads = 4 (omp_get_num_procs = 48).\n",
      "Loading lcp file for Farsite #1: /home/jovyan/farsite/inputs/landscapes/Maria2019.lcp\n",
      "Loading inputs file for Farsite #1: /home/jovyan/data/20230303/Run_00793/config\n",
      "Loading ignition file for Farsite #1: /home/jovyan/data/ignitions/Maria2019Ef8d4dd6d702843e88bf328a369eb8631.shp\n",
      "Loading barrier file for Farsite #1: /home/jovyan/farsite/inputs/barriers/NoBarrier/NoBarrier.shp\n",
      "Launching Farsite #1\n",
      "Starting time step 0.000000 (maximum = 18)\n",
      "Writing outputs for Farsite #1 to /home/jovyan/data/20230303/Run_00793/out\n"
     ]
    },
    {
     "name": "stderr",
     "output_type": "stream",
     "text": [
      "/home/jovyan/farsite-devAPI/src/farsiteutils_v2.py:177: FutureWarning: The frame.append method is deprecated and will be removed from pandas in a future version. Use pandas.concat instead.\n",
      "  self.gdfsimulation = self.gdfsimulation.append(gdfappend)\n"
     ]
    },
    {
     "name": "stdout",
     "output_type": "stream",
     "text": [
      "Farsite $Rev: 2395 $\n",
      "Number of parallel threads = 4 (omp_get_num_procs = 48).\n",
      "Loading lcp file for Farsite #1: /home/jovyan/farsite/inputs/landscapes/Maria2019.lcp\n",
      "Loading inputs file for Farsite #1: /home/jovyan/data/20230303/Run_00794/config\n",
      "Loading ignition file for Farsite #1: /home/jovyan/data/ignitions/Maria2019E07b212baf58f4a5f90e3e9bf234824d5.shp\n",
      "Loading barrier file for Farsite #1: /home/jovyan/farsite/inputs/barriers/NoBarrier/NoBarrier.shp\n",
      "Launching Farsite #1\n",
      "Starting time step 0.000000 (maximum = 18)\n",
      "Writing outputs for Farsite #1 to /home/jovyan/data/20230303/Run_00794/out\n"
     ]
    },
    {
     "name": "stderr",
     "output_type": "stream",
     "text": [
      "/home/jovyan/farsite-devAPI/src/farsiteutils_v2.py:177: FutureWarning: The frame.append method is deprecated and will be removed from pandas in a future version. Use pandas.concat instead.\n",
      "  self.gdfsimulation = self.gdfsimulation.append(gdfappend)\n",
      "/home/jovyan/farsite-devAPI/src/farsiteutils_v2.py:177: FutureWarning: The frame.append method is deprecated and will be removed from pandas in a future version. Use pandas.concat instead.\n",
      "  self.gdfsimulation = self.gdfsimulation.append(gdfappend)\n"
     ]
    },
    {
     "name": "stdout",
     "output_type": "stream",
     "text": [
      "Farsite $Rev: 2395 $\n",
      "Number of parallel threads = 4 (omp_get_num_procs = 48).\n",
      "Loading lcp file for Farsite #1: /home/jovyan/farsite/inputs/landscapes/Maria2019.lcp\n",
      "Loading inputs file for Farsite #1: /home/jovyan/data/20230303/Run_00795/config\n",
      "Loading ignition file for Farsite #1: /home/jovyan/data/ignitions/Maria2019E537a672c65784af8bc0d24f7590dc446.shp\n",
      "Loading barrier file for Farsite #1: /home/jovyan/farsite/inputs/barriers/NoBarrier/NoBarrier.shp\n",
      "Launching Farsite #1\n",
      "Starting time step 0.000000 (maximum = 18)\n",
      "Writing outputs for Farsite #1 to /home/jovyan/data/20230303/Run_00795/out\n",
      "Farsite $Rev: 2395 $\n",
      "Number of parallel threads = 4 (omp_get_num_procs = 48).\n",
      "Loading lcp file for Farsite #1: /home/jovyan/farsite/inputs/landscapes/Maria2019.lcp\n",
      "Loading inputs file for Farsite #1: /home/jovyan/data/20230303/Run_00796/config\n",
      "Loading ignition file for Farsite #1: /home/jovyan/data/ignitions/Maria2019Ef7153c55b92441e8a7d8af6f90c66d67.shp\n",
      "Loading barrier file for Farsite #1: /home/jovyan/farsite/inputs/barriers/NoBarrier/NoBarrier.shp\n",
      "Launching Farsite #1\n",
      "Starting time step 0.000000 (maximum = 18)\n",
      "Writing outputs for Farsite #1 to /home/jovyan/data/20230303/Run_00796/out\n"
     ]
    },
    {
     "name": "stderr",
     "output_type": "stream",
     "text": [
      "/home/jovyan/farsite-devAPI/src/farsiteutils_v2.py:177: FutureWarning: The frame.append method is deprecated and will be removed from pandas in a future version. Use pandas.concat instead.\n",
      "  self.gdfsimulation = self.gdfsimulation.append(gdfappend)\n",
      "/home/jovyan/farsite-devAPI/src/farsiteutils_v2.py:177: FutureWarning: The frame.append method is deprecated and will be removed from pandas in a future version. Use pandas.concat instead.\n",
      "  self.gdfsimulation = self.gdfsimulation.append(gdfappend)\n"
     ]
    },
    {
     "name": "stdout",
     "output_type": "stream",
     "text": [
      "Farsite $Rev: 2395 $\n",
      "Number of parallel threads = 4 (omp_get_num_procs = 48).\n",
      "Loading lcp file for Farsite #1: /home/jovyan/farsite/inputs/landscapes/Maria2019.lcp\n",
      "Loading inputs file for Farsite #1: /home/jovyan/data/20230303/Run_00797/config\n",
      "Loading ignition file for Farsite #1: /home/jovyan/data/ignitions/Maria2019Ed8ff9fc6165645ad835b20353a6d3a95.shp\n",
      "Loading barrier file for Farsite #1: /home/jovyan/farsite/inputs/barriers/NoBarrier/NoBarrier.shp\n",
      "Launching Farsite #1\n",
      "Starting time step 0.000000 (maximum = 18)\n",
      "Writing outputs for Farsite #1 to /home/jovyan/data/20230303/Run_00797/out\n",
      "Farsite $Rev: 2395 $\n",
      "Number of parallel threads = 4 (omp_get_num_procs = 48).\n",
      "Loading lcp file for Farsite #1: /home/jovyan/farsite/inputs/landscapes/Maria2019.lcp\n",
      "Loading inputs file for Farsite #1: /home/jovyan/data/20230303/Run_00798/config\n",
      "Loading ignition file for Farsite #1: /home/jovyan/data/ignitions/Maria2019E8f114090d1224916a946e118989a4eb2.shp\n",
      "Loading barrier file for Farsite #1: /home/jovyan/farsite/inputs/barriers/NoBarrier/NoBarrier.shp\n",
      "Launching Farsite #1\n",
      "Starting time step 0.000000 (maximum = 18)\n",
      "Writing outputs for Farsite #1 to /home/jovyan/data/20230303/Run_00798/out\n"
     ]
    },
    {
     "name": "stderr",
     "output_type": "stream",
     "text": [
      "/home/jovyan/farsite-devAPI/src/farsiteutils_v2.py:177: FutureWarning: The frame.append method is deprecated and will be removed from pandas in a future version. Use pandas.concat instead.\n",
      "  self.gdfsimulation = self.gdfsimulation.append(gdfappend)\n"
     ]
    },
    {
     "name": "stdout",
     "output_type": "stream",
     "text": [
      "Farsite $Rev: 2395 $\n",
      "Number of parallel threads = 4 (omp_get_num_procs = 48).\n",
      "Loading lcp file for Farsite #1: /home/jovyan/farsite/inputs/landscapes/Maria2019.lcp\n",
      "Loading inputs file for Farsite #1: /home/jovyan/data/20230303/Run_00799/config\n",
      "Loading ignition file for Farsite #1: /home/jovyan/data/ignitions/Maria2019E5b660f51c1e0486997c34ba5a171efab.shp\n",
      "Loading barrier file for Farsite #1: /home/jovyan/farsite/inputs/barriers/NoBarrier/NoBarrier.shp\n",
      "Launching Farsite #1\n",
      "Starting time step 0.000000 (maximum = 18)\n",
      "Writing outputs for Farsite #1 to /home/jovyan/data/20230303/Run_00799/out\n"
     ]
    },
    {
     "name": "stderr",
     "output_type": "stream",
     "text": [
      "/home/jovyan/farsite-devAPI/src/farsiteutils_v2.py:177: FutureWarning: The frame.append method is deprecated and will be removed from pandas in a future version. Use pandas.concat instead.\n",
      "  self.gdfsimulation = self.gdfsimulation.append(gdfappend)\n"
     ]
    },
    {
     "name": "stdout",
     "output_type": "stream",
     "text": [
      "Farsite $Rev: 2395 $\n",
      "Number of parallel threads = 4 (omp_get_num_procs = 48).\n",
      "Loading lcp file for Farsite #1: /home/jovyan/farsite/inputs/landscapes/Maria2019.lcp\n",
      "Loading inputs file for Farsite #1: /home/jovyan/data/20230303/Run_00800/config\n",
      "Loading ignition file for Farsite #1: /home/jovyan/data/ignitions/Maria2019E2982e15874774a78b46548731dfc208e.shp\n",
      "Loading barrier file for Farsite #1: /home/jovyan/farsite/inputs/barriers/NoBarrier/NoBarrier.shp\n",
      "Launching Farsite #1\n",
      "Starting time step 0.000000 (maximum = 18)\n",
      "Writing outputs for Farsite #1 to /home/jovyan/data/20230303/Run_00800/out\n",
      "Farsite $Rev: 2395 $\n",
      "Number of parallel threads = 4 (omp_get_num_procs = 48).\n",
      "Loading lcp file for Farsite #1: /home/jovyan/farsite/inputs/landscapes/Maria2019.lcp\n",
      "Loading inputs file for Farsite #1: /home/jovyan/data/20230303/Run_00801/config\n",
      "Loading ignition file for Farsite #1: /home/jovyan/data/ignitions/Maria2019E39aba7d47c1947df8f7536544b57fee7.shp\n",
      "Loading barrier file for Farsite #1: /home/jovyan/farsite/inputs/barriers/NoBarrier/NoBarrier.shp\n",
      "Launching Farsite #1\n",
      "Starting time step 0.000000 (maximum = 18)\n",
      "Writing outputs for Farsite #1 to /home/jovyan/data/20230303/Run_00801/out\n"
     ]
    },
    {
     "name": "stderr",
     "output_type": "stream",
     "text": [
      "/home/jovyan/farsite-devAPI/src/farsiteutils_v2.py:177: FutureWarning: The frame.append method is deprecated and will be removed from pandas in a future version. Use pandas.concat instead.\n",
      "  self.gdfsimulation = self.gdfsimulation.append(gdfappend)\n",
      "/home/jovyan/farsite-devAPI/src/farsiteutils_v2.py:177: FutureWarning: The frame.append method is deprecated and will be removed from pandas in a future version. Use pandas.concat instead.\n",
      "  self.gdfsimulation = self.gdfsimulation.append(gdfappend)\n"
     ]
    },
    {
     "name": "stdout",
     "output_type": "stream",
     "text": [
      "Farsite $Rev: 2395 $\n",
      "Number of parallel threads = 4 (omp_get_num_procs = 48).\n",
      "Loading lcp file for Farsite #1: /home/jovyan/farsite/inputs/landscapes/Maria2019.lcp\n",
      "Loading inputs file for Farsite #1: /home/jovyan/data/20230303/Run_00802/config\n",
      "Loading ignition file for Farsite #1: /home/jovyan/data/ignitions/Maria2019Ea9777685c9754d0ebd19080a8cf85298.shp\n",
      "Loading barrier file for Farsite #1: /home/jovyan/farsite/inputs/barriers/NoBarrier/NoBarrier.shp\n",
      "Launching Farsite #1\n",
      "Starting time step 0.000000 (maximum = 18)\n",
      "Writing outputs for Farsite #1 to /home/jovyan/data/20230303/Run_00802/out\n"
     ]
    },
    {
     "name": "stderr",
     "output_type": "stream",
     "text": [
      "/home/jovyan/farsite-devAPI/src/farsiteutils_v2.py:177: FutureWarning: The frame.append method is deprecated and will be removed from pandas in a future version. Use pandas.concat instead.\n",
      "  self.gdfsimulation = self.gdfsimulation.append(gdfappend)\n",
      "/home/jovyan/farsite-devAPI/src/farsiteutils_v2.py:177: FutureWarning: The frame.append method is deprecated and will be removed from pandas in a future version. Use pandas.concat instead.\n",
      "  self.gdfsimulation = self.gdfsimulation.append(gdfappend)\n"
     ]
    },
    {
     "name": "stdout",
     "output_type": "stream",
     "text": [
      "Farsite $Rev: 2395 $\n",
      "Number of parallel threads = 4 (omp_get_num_procs = 48).\n",
      "Loading lcp file for Farsite #1: /home/jovyan/farsite/inputs/landscapes/Maria2019.lcp\n",
      "Loading inputs file for Farsite #1: /home/jovyan/data/20230303/Run_00803/config\n",
      "Loading ignition file for Farsite #1: /home/jovyan/data/ignitions/Maria2019E9b00a30c3406497ca0f1ce077e548551.shp\n",
      "Loading barrier file for Farsite #1: /home/jovyan/farsite/inputs/barriers/NoBarrier/NoBarrier.shp\n",
      "Launching Farsite #1\n",
      "Starting time step 0.000000 (maximum = 18)\n",
      "Writing outputs for Farsite #1 to /home/jovyan/data/20230303/Run_00803/out\n",
      "Farsite $Rev: 2395 $\n",
      "Number of parallel threads = 4 (omp_get_num_procs = 48).\n",
      "Loading lcp file for Farsite #1: /home/jovyan/farsite/inputs/landscapes/Maria2019.lcp\n",
      "Loading inputs file for Farsite #1: /home/jovyan/data/20230303/Run_00804/config\n",
      "Loading ignition file for Farsite #1: /home/jovyan/data/ignitions/Maria2019E01e9447d61b24f44baa6aac5eadbfe18.shp\n",
      "Loading barrier file for Farsite #1: /home/jovyan/farsite/inputs/barriers/NoBarrier/NoBarrier.shp\n",
      "Launching Farsite #1\n",
      "Starting time step 0.000000 (maximum = 18)\n",
      "Writing outputs for Farsite #1 to /home/jovyan/data/20230303/Run_00804/out\n",
      "Farsite $Rev: 2395 $\n",
      "Number of parallel threads = 4 (omp_get_num_procs = 48).\n",
      "Loading lcp file for Farsite #1: /home/jovyan/farsite/inputs/landscapes/Maria2019.lcp\n",
      "Loading inputs file for Farsite #1: /home/jovyan/data/20230303/Run_00805/config\n",
      "Loading ignition file for Farsite #1: /home/jovyan/data/ignitions/Maria2019E670c7790c70f4ffea618114c7c30a249.shp\n",
      "Loading barrier file for Farsite #1: /home/jovyan/farsite/inputs/barriers/NoBarrier/NoBarrier.shp\n",
      "Launching Farsite #1\n",
      "Starting time step 0.000000 (maximum = 18)\n",
      "Writing outputs for Farsite #1 to /home/jovyan/data/20230303/Run_00805/out\n"
     ]
    },
    {
     "name": "stderr",
     "output_type": "stream",
     "text": [
      "/home/jovyan/farsite-devAPI/src/farsiteutils_v2.py:177: FutureWarning: The frame.append method is deprecated and will be removed from pandas in a future version. Use pandas.concat instead.\n",
      "  self.gdfsimulation = self.gdfsimulation.append(gdfappend)\n",
      "/home/jovyan/farsite-devAPI/src/farsiteutils_v2.py:177: FutureWarning: The frame.append method is deprecated and will be removed from pandas in a future version. Use pandas.concat instead.\n",
      "  self.gdfsimulation = self.gdfsimulation.append(gdfappend)\n"
     ]
    },
    {
     "name": "stdout",
     "output_type": "stream",
     "text": [
      "Farsite $Rev: 2395 $\n",
      "Number of parallel threads = 4 (omp_get_num_procs = 48).\n",
      "Loading lcp file for Farsite #1: /home/jovyan/farsite/inputs/landscapes/Maria2019.lcp\n",
      "Loading inputs file for Farsite #1: /home/jovyan/data/20230303/Run_00806/config\n",
      "Loading ignition file for Farsite #1: /home/jovyan/data/ignitions/Maria2019E0922c06e5d34412cb7a83316f3e5a0fd.shp\n",
      "Loading barrier file for Farsite #1: /home/jovyan/farsite/inputs/barriers/NoBarrier/NoBarrier.shp\n",
      "Launching Farsite #1\n",
      "Starting time step 0.000000 (maximum = 18)\n",
      "Writing outputs for Farsite #1 to /home/jovyan/data/20230303/Run_00806/out\n"
     ]
    },
    {
     "name": "stderr",
     "output_type": "stream",
     "text": [
      "/home/jovyan/farsite-devAPI/src/farsiteutils_v2.py:177: FutureWarning: The frame.append method is deprecated and will be removed from pandas in a future version. Use pandas.concat instead.\n",
      "  self.gdfsimulation = self.gdfsimulation.append(gdfappend)\n"
     ]
    },
    {
     "name": "stdout",
     "output_type": "stream",
     "text": [
      "Farsite $Rev: 2395 $\n",
      "Number of parallel threads = 4 (omp_get_num_procs = 48).\n",
      "Loading lcp file for Farsite #1: /home/jovyan/farsite/inputs/landscapes/Maria2019.lcp\n",
      "Loading inputs file for Farsite #1: /home/jovyan/data/20230303/Run_00807/config\n",
      "Loading ignition file for Farsite #1: /home/jovyan/data/ignitions/Maria2019E52936e79b8bc4ae99cb9abcc01bda194.shp\n",
      "Loading barrier file for Farsite #1: /home/jovyan/farsite/inputs/barriers/NoBarrier/NoBarrier.shp\n",
      "Launching Farsite #1\n",
      "Starting time step 0.000000 (maximum = 18)\n",
      "Writing outputs for Farsite #1 to /home/jovyan/data/20230303/Run_00807/out\n"
     ]
    },
    {
     "name": "stderr",
     "output_type": "stream",
     "text": [
      "/home/jovyan/farsite-devAPI/src/farsiteutils_v2.py:177: FutureWarning: The frame.append method is deprecated and will be removed from pandas in a future version. Use pandas.concat instead.\n",
      "  self.gdfsimulation = self.gdfsimulation.append(gdfappend)\n"
     ]
    },
    {
     "name": "stdout",
     "output_type": "stream",
     "text": [
      "Farsite $Rev: 2395 $\n",
      "Number of parallel threads = 4 (omp_get_num_procs = 48).\n",
      "Loading lcp file for Farsite #1: /home/jovyan/farsite/inputs/landscapes/Maria2019.lcp\n",
      "Loading inputs file for Farsite #1: /home/jovyan/data/20230303/Run_00808/config\n",
      "Loading ignition file for Farsite #1: /home/jovyan/data/ignitions/Maria2019Ec1471401a232408282318306b0fce118.shp\n",
      "Loading barrier file for Farsite #1: /home/jovyan/farsite/inputs/barriers/NoBarrier/NoBarrier.shp\n",
      "Launching Farsite #1\n",
      "Starting time step 0.000000 (maximum = 18)\n",
      "Writing outputs for Farsite #1 to /home/jovyan/data/20230303/Run_00808/out\n"
     ]
    },
    {
     "name": "stderr",
     "output_type": "stream",
     "text": [
      "/home/jovyan/farsite-devAPI/src/farsiteutils_v2.py:177: FutureWarning: The frame.append method is deprecated and will be removed from pandas in a future version. Use pandas.concat instead.\n",
      "  self.gdfsimulation = self.gdfsimulation.append(gdfappend)\n"
     ]
    },
    {
     "name": "stdout",
     "output_type": "stream",
     "text": [
      "Farsite $Rev: 2395 $\n",
      "Number of parallel threads = 4 (omp_get_num_procs = 48).\n",
      "Loading lcp file for Farsite #1: /home/jovyan/farsite/inputs/landscapes/Maria2019.lcp\n",
      "Loading inputs file for Farsite #1: /home/jovyan/data/20230303/Run_00809/config\n",
      "Loading ignition file for Farsite #1: /home/jovyan/data/ignitions/Maria2019Ed4af94bba5aa430a88cc77cef195cd69.shp\n",
      "Loading barrier file for Farsite #1: /home/jovyan/farsite/inputs/barriers/NoBarrier/NoBarrier.shp\n",
      "Launching Farsite #1\n",
      "Starting time step 0.000000 (maximum = 18)\n",
      "Writing outputs for Farsite #1 to /home/jovyan/data/20230303/Run_00809/out\n"
     ]
    },
    {
     "name": "stderr",
     "output_type": "stream",
     "text": [
      "/home/jovyan/farsite-devAPI/src/farsiteutils_v2.py:177: FutureWarning: The frame.append method is deprecated and will be removed from pandas in a future version. Use pandas.concat instead.\n",
      "  self.gdfsimulation = self.gdfsimulation.append(gdfappend)\n"
     ]
    },
    {
     "name": "stdout",
     "output_type": "stream",
     "text": [
      "Farsite $Rev: 2395 $\n",
      "Number of parallel threads = 4 (omp_get_num_procs = 48).\n",
      "Loading lcp file for Farsite #1: /home/jovyan/farsite/inputs/landscapes/Maria2019.lcp\n",
      "Loading inputs file for Farsite #1: /home/jovyan/data/20230303/Run_00810/config\n",
      "Loading ignition file for Farsite #1: /home/jovyan/data/ignitions/Maria2019E0fb7f04c6bce45c4be9935f98bc0e3dc.shp\n",
      "Loading barrier file for Farsite #1: /home/jovyan/farsite/inputs/barriers/NoBarrier/NoBarrier.shp\n",
      "Launching Farsite #1\n",
      "Starting time step 0.000000 (maximum = 18)\n",
      "Writing outputs for Farsite #1 to /home/jovyan/data/20230303/Run_00810/out\n",
      "Farsite $Rev: 2395 $\n",
      "Number of parallel threads = 4 (omp_get_num_procs = 48).\n",
      "Loading lcp file for Farsite #1: /home/jovyan/farsite/inputs/landscapes/Maria2019.lcp\n",
      "Loading inputs file for Farsite #1: /home/jovyan/data/20230303/Run_00811/config\n",
      "Loading ignition file for Farsite #1: /home/jovyan/data/ignitions/Maria2019E8107d405cd4d4134b05abdee9883327b.shp\n",
      "Loading barrier file for Farsite #1: /home/jovyan/farsite/inputs/barriers/NoBarrier/NoBarrier.shp\n",
      "Launching Farsite #1\n",
      "Starting time step 0.000000 (maximum = 18)\n",
      "Writing outputs for Farsite #1 to /home/jovyan/data/20230303/Run_00811/out\n"
     ]
    },
    {
     "name": "stderr",
     "output_type": "stream",
     "text": [
      "/home/jovyan/farsite-devAPI/src/farsiteutils_v2.py:177: FutureWarning: The frame.append method is deprecated and will be removed from pandas in a future version. Use pandas.concat instead.\n",
      "  self.gdfsimulation = self.gdfsimulation.append(gdfappend)\n",
      "/home/jovyan/farsite-devAPI/src/farsiteutils_v2.py:177: FutureWarning: The frame.append method is deprecated and will be removed from pandas in a future version. Use pandas.concat instead.\n",
      "  self.gdfsimulation = self.gdfsimulation.append(gdfappend)\n"
     ]
    },
    {
     "name": "stdout",
     "output_type": "stream",
     "text": [
      "Farsite $Rev: 2395 $\n",
      "Number of parallel threads = 4 (omp_get_num_procs = 48).\n",
      "Loading lcp file for Farsite #1: /home/jovyan/farsite/inputs/landscapes/Maria2019.lcp\n",
      "Loading inputs file for Farsite #1: /home/jovyan/data/20230303/Run_00812/config\n",
      "Loading ignition file for Farsite #1: /home/jovyan/data/ignitions/Maria2019E28af6eb89b054feb83498d8ccd918ac1.shp\n",
      "Loading barrier file for Farsite #1: /home/jovyan/farsite/inputs/barriers/NoBarrier/NoBarrier.shp\n",
      "Launching Farsite #1\n",
      "Starting time step 0.000000 (maximum = 18)\n",
      "Writing outputs for Farsite #1 to /home/jovyan/data/20230303/Run_00812/out\n"
     ]
    },
    {
     "name": "stderr",
     "output_type": "stream",
     "text": [
      "/home/jovyan/farsite-devAPI/src/farsiteutils_v2.py:177: FutureWarning: The frame.append method is deprecated and will be removed from pandas in a future version. Use pandas.concat instead.\n",
      "  self.gdfsimulation = self.gdfsimulation.append(gdfappend)\n"
     ]
    },
    {
     "name": "stdout",
     "output_type": "stream",
     "text": [
      "Farsite $Rev: 2395 $\n",
      "Number of parallel threads = 4 (omp_get_num_procs = 48).\n",
      "Loading lcp file for Farsite #1: /home/jovyan/farsite/inputs/landscapes/Maria2019.lcp\n",
      "Loading inputs file for Farsite #1: /home/jovyan/data/20230303/Run_00813/config\n",
      "Loading ignition file for Farsite #1: /home/jovyan/data/ignitions/Maria2019Eb22a9a459d344d478da15d368c91928b.shp\n",
      "Loading barrier file for Farsite #1: /home/jovyan/farsite/inputs/barriers/NoBarrier/NoBarrier.shp\n",
      "Launching Farsite #1\n",
      "Starting time step 0.000000 (maximum = 18)\n",
      "Writing outputs for Farsite #1 to /home/jovyan/data/20230303/Run_00813/out\n"
     ]
    },
    {
     "name": "stderr",
     "output_type": "stream",
     "text": [
      "/home/jovyan/farsite-devAPI/src/farsiteutils_v2.py:177: FutureWarning: The frame.append method is deprecated and will be removed from pandas in a future version. Use pandas.concat instead.\n",
      "  self.gdfsimulation = self.gdfsimulation.append(gdfappend)\n"
     ]
    },
    {
     "name": "stdout",
     "output_type": "stream",
     "text": [
      "Farsite $Rev: 2395 $\n",
      "Number of parallel threads = 4 (omp_get_num_procs = 48).\n",
      "Loading lcp file for Farsite #1: /home/jovyan/farsite/inputs/landscapes/Maria2019.lcp\n",
      "Loading inputs file for Farsite #1: /home/jovyan/data/20230303/Run_00814/config\n",
      "Loading ignition file for Farsite #1: /home/jovyan/data/ignitions/Maria2019Ea9e78f7debf1424093f4ae16a7437cff.shp\n",
      "Loading barrier file for Farsite #1: /home/jovyan/farsite/inputs/barriers/NoBarrier/NoBarrier.shp\n",
      "Launching Farsite #1\n",
      "Starting time step 0.000000 (maximum = 18)\n",
      "Writing outputs for Farsite #1 to /home/jovyan/data/20230303/Run_00814/out\n"
     ]
    },
    {
     "name": "stderr",
     "output_type": "stream",
     "text": [
      "/home/jovyan/farsite-devAPI/src/farsiteutils_v2.py:177: FutureWarning: The frame.append method is deprecated and will be removed from pandas in a future version. Use pandas.concat instead.\n",
      "  self.gdfsimulation = self.gdfsimulation.append(gdfappend)\n"
     ]
    },
    {
     "name": "stdout",
     "output_type": "stream",
     "text": [
      "Farsite $Rev: 2395 $\n",
      "Number of parallel threads = 4 (omp_get_num_procs = 48).\n",
      "Loading lcp file for Farsite #1: /home/jovyan/farsite/inputs/landscapes/Maria2019.lcp\n",
      "Loading inputs file for Farsite #1: /home/jovyan/data/20230303/Run_00815/config\n",
      "Loading ignition file for Farsite #1: /home/jovyan/data/ignitions/Maria2019E2582cd7e2ea24f85aafb53c0e1375278.shp\n",
      "Loading barrier file for Farsite #1: /home/jovyan/farsite/inputs/barriers/NoBarrier/NoBarrier.shp\n",
      "Launching Farsite #1\n",
      "Starting time step 0.000000 (maximum = 18)\n",
      "Writing outputs for Farsite #1 to /home/jovyan/data/20230303/Run_00815/out\n"
     ]
    },
    {
     "name": "stderr",
     "output_type": "stream",
     "text": [
      "/home/jovyan/farsite-devAPI/src/farsiteutils_v2.py:177: FutureWarning: The frame.append method is deprecated and will be removed from pandas in a future version. Use pandas.concat instead.\n",
      "  self.gdfsimulation = self.gdfsimulation.append(gdfappend)\n"
     ]
    },
    {
     "name": "stdout",
     "output_type": "stream",
     "text": [
      "Farsite $Rev: 2395 $\n",
      "Number of parallel threads = 4 (omp_get_num_procs = 48).\n",
      "Loading lcp file for Farsite #1: /home/jovyan/farsite/inputs/landscapes/Maria2019.lcp\n",
      "Loading inputs file for Farsite #1: /home/jovyan/data/20230303/Run_00816/config\n",
      "Loading ignition file for Farsite #1: /home/jovyan/data/ignitions/Maria2019Ea4174d02ea6f45449774c5a442e62fda.shp\n",
      "Loading barrier file for Farsite #1: /home/jovyan/farsite/inputs/barriers/NoBarrier/NoBarrier.shp\n",
      "Launching Farsite #1\n",
      "Starting time step 0.000000 (maximum = 18)\n",
      "Writing outputs for Farsite #1 to /home/jovyan/data/20230303/Run_00816/out\n"
     ]
    },
    {
     "name": "stderr",
     "output_type": "stream",
     "text": [
      "/home/jovyan/farsite-devAPI/src/farsiteutils_v2.py:177: FutureWarning: The frame.append method is deprecated and will be removed from pandas in a future version. Use pandas.concat instead.\n",
      "  self.gdfsimulation = self.gdfsimulation.append(gdfappend)\n",
      "/home/jovyan/farsite-devAPI/src/farsiteutils_v2.py:177: FutureWarning: The frame.append method is deprecated and will be removed from pandas in a future version. Use pandas.concat instead.\n",
      "  self.gdfsimulation = self.gdfsimulation.append(gdfappend)\n"
     ]
    },
    {
     "name": "stdout",
     "output_type": "stream",
     "text": [
      "Farsite $Rev: 2395 $\n",
      "Number of parallel threads = 4 (omp_get_num_procs = 48).\n",
      "Loading lcp file for Farsite #1: /home/jovyan/farsite/inputs/landscapes/Maria2019.lcp\n",
      "Loading inputs file for Farsite #1: /home/jovyan/data/20230303/Run_00817/config\n",
      "Loading ignition file for Farsite #1: /home/jovyan/data/ignitions/Maria2019E5384696bb92845f9a35afe4ef3c7ad40.shp\n",
      "Loading barrier file for Farsite #1: /home/jovyan/farsite/inputs/barriers/NoBarrier/NoBarrier.shp\n",
      "Launching Farsite #1\n",
      "Starting time step 0.000000 (maximum = 18)\n",
      "Writing outputs for Farsite #1 to /home/jovyan/data/20230303/Run_00817/out\n",
      "Farsite $Rev: 2395 $\n",
      "Number of parallel threads = 4 (omp_get_num_procs = 48).\n",
      "Loading lcp file for Farsite #1: /home/jovyan/farsite/inputs/landscapes/Maria2019.lcp\n",
      "Loading inputs file for Farsite #1: /home/jovyan/data/20230303/Run_00818/config\n",
      "Loading ignition file for Farsite #1: /home/jovyan/data/ignitions/Maria2019E0cdc19d5969346c6ad6eb42045353fc3.shp\n",
      "Loading barrier file for Farsite #1: /home/jovyan/farsite/inputs/barriers/NoBarrier/NoBarrier.shp\n",
      "Launching Farsite #1\n",
      "Starting time step 0.000000 (maximum = 18)\n",
      "Writing outputs for Farsite #1 to /home/jovyan/data/20230303/Run_00818/out\n"
     ]
    },
    {
     "name": "stderr",
     "output_type": "stream",
     "text": [
      "/home/jovyan/farsite-devAPI/src/farsiteutils_v2.py:177: FutureWarning: The frame.append method is deprecated and will be removed from pandas in a future version. Use pandas.concat instead.\n",
      "  self.gdfsimulation = self.gdfsimulation.append(gdfappend)\n"
     ]
    },
    {
     "name": "stdout",
     "output_type": "stream",
     "text": [
      "Farsite $Rev: 2395 $\n",
      "Number of parallel threads = 4 (omp_get_num_procs = 48).\n",
      "Loading lcp file for Farsite #1: /home/jovyan/farsite/inputs/landscapes/Maria2019.lcp\n",
      "Loading inputs file for Farsite #1: /home/jovyan/data/20230303/Run_00819/config\n",
      "Loading ignition file for Farsite #1: /home/jovyan/data/ignitions/Maria2019E1e3ef4a1468940fbb7252a2171e79442.shp\n",
      "Loading barrier file for Farsite #1: /home/jovyan/farsite/inputs/barriers/NoBarrier/NoBarrier.shp\n",
      "Launching Farsite #1\n",
      "Starting time step 0.000000 (maximum = 18)\n",
      "Writing outputs for Farsite #1 to /home/jovyan/data/20230303/Run_00819/out\n"
     ]
    },
    {
     "name": "stderr",
     "output_type": "stream",
     "text": [
      "/home/jovyan/farsite-devAPI/src/farsiteutils_v2.py:177: FutureWarning: The frame.append method is deprecated and will be removed from pandas in a future version. Use pandas.concat instead.\n",
      "  self.gdfsimulation = self.gdfsimulation.append(gdfappend)\n"
     ]
    },
    {
     "name": "stdout",
     "output_type": "stream",
     "text": [
      "Farsite $Rev: 2395 $\n",
      "Number of parallel threads = 4 (omp_get_num_procs = 48).\n",
      "Loading lcp file for Farsite #1: /home/jovyan/farsite/inputs/landscapes/Maria2019.lcp\n",
      "Loading inputs file for Farsite #1: /home/jovyan/data/20230303/Run_00820/config\n",
      "Loading ignition file for Farsite #1: /home/jovyan/data/ignitions/Maria2019E87e9330d0e2a43398625a160b2f355e4.shp\n",
      "Loading barrier file for Farsite #1: /home/jovyan/farsite/inputs/barriers/NoBarrier/NoBarrier.shp\n",
      "Launching Farsite #1\n",
      "Starting time step 0.000000 (maximum = 18)\n",
      "Writing outputs for Farsite #1 to /home/jovyan/data/20230303/Run_00820/out\n"
     ]
    },
    {
     "name": "stderr",
     "output_type": "stream",
     "text": [
      "/home/jovyan/farsite-devAPI/src/farsiteutils_v2.py:177: FutureWarning: The frame.append method is deprecated and will be removed from pandas in a future version. Use pandas.concat instead.\n",
      "  self.gdfsimulation = self.gdfsimulation.append(gdfappend)\n"
     ]
    },
    {
     "name": "stdout",
     "output_type": "stream",
     "text": [
      "Farsite $Rev: 2395 $\n",
      "Number of parallel threads = 4 (omp_get_num_procs = 48).\n",
      "Loading lcp file for Farsite #1: /home/jovyan/farsite/inputs/landscapes/Maria2019.lcp\n",
      "Loading inputs file for Farsite #1: /home/jovyan/data/20230303/Run_00821/config\n",
      "Loading ignition file for Farsite #1: /home/jovyan/data/ignitions/Maria2019E33f07d43c1364c4788e4c1457d7dcf50.shp\n",
      "Loading barrier file for Farsite #1: /home/jovyan/farsite/inputs/barriers/NoBarrier/NoBarrier.shp\n",
      "Launching Farsite #1\n",
      "Starting time step 0.000000 (maximum = 18)\n",
      "Writing outputs for Farsite #1 to /home/jovyan/data/20230303/Run_00821/out\n"
     ]
    },
    {
     "name": "stderr",
     "output_type": "stream",
     "text": [
      "/home/jovyan/farsite-devAPI/src/farsiteutils_v2.py:177: FutureWarning: The frame.append method is deprecated and will be removed from pandas in a future version. Use pandas.concat instead.\n",
      "  self.gdfsimulation = self.gdfsimulation.append(gdfappend)\n"
     ]
    },
    {
     "name": "stdout",
     "output_type": "stream",
     "text": [
      "Farsite $Rev: 2395 $\n",
      "Number of parallel threads = 4 (omp_get_num_procs = 48).\n",
      "Loading lcp file for Farsite #1: /home/jovyan/farsite/inputs/landscapes/Maria2019.lcp\n",
      "Loading inputs file for Farsite #1: /home/jovyan/data/20230303/Run_00822/config\n",
      "Loading ignition file for Farsite #1: /home/jovyan/data/ignitions/Maria2019E4054b3d97e404a43830c68b66469e8c0.shp\n",
      "Loading barrier file for Farsite #1: /home/jovyan/farsite/inputs/barriers/NoBarrier/NoBarrier.shp\n",
      "Launching Farsite #1\n",
      "Starting time step 0.000000 (maximum = 18)\n",
      "Writing outputs for Farsite #1 to /home/jovyan/data/20230303/Run_00822/out\n"
     ]
    },
    {
     "name": "stderr",
     "output_type": "stream",
     "text": [
      "/home/jovyan/farsite-devAPI/src/farsiteutils_v2.py:177: FutureWarning: The frame.append method is deprecated and will be removed from pandas in a future version. Use pandas.concat instead.\n",
      "  self.gdfsimulation = self.gdfsimulation.append(gdfappend)\n"
     ]
    },
    {
     "name": "stdout",
     "output_type": "stream",
     "text": [
      "Farsite $Rev: 2395 $\n",
      "Number of parallel threads = 4 (omp_get_num_procs = 48).\n",
      "Loading lcp file for Farsite #1: /home/jovyan/farsite/inputs/landscapes/Maria2019.lcp\n",
      "Loading inputs file for Farsite #1: /home/jovyan/data/20230303/Run_00823/config\n",
      "Loading ignition file for Farsite #1: /home/jovyan/data/ignitions/Maria2019E0a27c4052b454ba3bd10c110d20a71d1.shp\n",
      "Loading barrier file for Farsite #1: /home/jovyan/farsite/inputs/barriers/NoBarrier/NoBarrier.shp\n",
      "Launching Farsite #1\n",
      "Starting time step 0.000000 (maximum = 18)\n",
      "Writing outputs for Farsite #1 to /home/jovyan/data/20230303/Run_00823/out\n"
     ]
    },
    {
     "name": "stderr",
     "output_type": "stream",
     "text": [
      "/home/jovyan/farsite-devAPI/src/farsiteutils_v2.py:177: FutureWarning: The frame.append method is deprecated and will be removed from pandas in a future version. Use pandas.concat instead.\n",
      "  self.gdfsimulation = self.gdfsimulation.append(gdfappend)\n",
      "/home/jovyan/farsite-devAPI/src/farsiteutils_v2.py:177: FutureWarning: The frame.append method is deprecated and will be removed from pandas in a future version. Use pandas.concat instead.\n",
      "  self.gdfsimulation = self.gdfsimulation.append(gdfappend)\n"
     ]
    },
    {
     "name": "stdout",
     "output_type": "stream",
     "text": [
      "Farsite $Rev: 2395 $\n",
      "Number of parallel threads = 4 (omp_get_num_procs = 48).\n",
      "Loading lcp file for Farsite #1: /home/jovyan/farsite/inputs/landscapes/Maria2019.lcp\n",
      "Loading inputs file for Farsite #1: /home/jovyan/data/20230303/Run_00824/config\n",
      "Loading ignition file for Farsite #1: /home/jovyan/data/ignitions/Maria2019Eb17b68fadda641228aa87d19a4c0349a.shp\n",
      "Loading barrier file for Farsite #1: /home/jovyan/farsite/inputs/barriers/NoBarrier/NoBarrier.shp\n",
      "Launching Farsite #1\n",
      "Starting time step 0.000000 (maximum = 18)\n",
      "Writing outputs for Farsite #1 to /home/jovyan/data/20230303/Run_00824/out\n",
      "Farsite $Rev: 2395 $\n",
      "Number of parallel threads = 4 (omp_get_num_procs = 48).\n",
      "Loading lcp file for Farsite #1: /home/jovyan/farsite/inputs/landscapes/Maria2019.lcp\n",
      "Loading inputs file for Farsite #1: /home/jovyan/data/20230303/Run_00825/config\n",
      "Loading ignition file for Farsite #1: /home/jovyan/data/ignitions/Maria2019Eac56580cb3e241298e06ec923be6f443.shp\n",
      "Loading barrier file for Farsite #1: /home/jovyan/farsite/inputs/barriers/NoBarrier/NoBarrier.shp\n",
      "Launching Farsite #1\n",
      "Starting time step 0.000000 (maximum = 18)\n",
      "Writing outputs for Farsite #1 to /home/jovyan/data/20230303/Run_00825/out\n"
     ]
    },
    {
     "name": "stderr",
     "output_type": "stream",
     "text": [
      "/home/jovyan/farsite-devAPI/src/farsiteutils_v2.py:177: FutureWarning: The frame.append method is deprecated and will be removed from pandas in a future version. Use pandas.concat instead.\n",
      "  self.gdfsimulation = self.gdfsimulation.append(gdfappend)\n"
     ]
    },
    {
     "name": "stdout",
     "output_type": "stream",
     "text": [
      "Farsite $Rev: 2395 $\n",
      "Number of parallel threads = 4 (omp_get_num_procs = 48).\n",
      "Loading lcp file for Farsite #1: /home/jovyan/farsite/inputs/landscapes/Maria2019.lcp\n",
      "Loading inputs file for Farsite #1: /home/jovyan/data/20230303/Run_00826/config\n",
      "Loading ignition file for Farsite #1: /home/jovyan/data/ignitions/Maria2019E4e3fc07addde4d54a89d020e6693b623.shp\n",
      "Loading barrier file for Farsite #1: /home/jovyan/farsite/inputs/barriers/NoBarrier/NoBarrier.shp\n",
      "Launching Farsite #1\n",
      "Starting time step 0.000000 (maximum = 18)\n",
      "Writing outputs for Farsite #1 to /home/jovyan/data/20230303/Run_00826/out\n"
     ]
    },
    {
     "name": "stderr",
     "output_type": "stream",
     "text": [
      "/home/jovyan/farsite-devAPI/src/farsiteutils_v2.py:177: FutureWarning: The frame.append method is deprecated and will be removed from pandas in a future version. Use pandas.concat instead.\n",
      "  self.gdfsimulation = self.gdfsimulation.append(gdfappend)\n"
     ]
    },
    {
     "name": "stdout",
     "output_type": "stream",
     "text": [
      "Farsite $Rev: 2395 $\n",
      "Number of parallel threads = 4 (omp_get_num_procs = 48).\n",
      "Loading lcp file for Farsite #1: /home/jovyan/farsite/inputs/landscapes/Maria2019.lcp\n",
      "Loading inputs file for Farsite #1: /home/jovyan/data/20230303/Run_00827/config\n",
      "Loading ignition file for Farsite #1: /home/jovyan/data/ignitions/Maria2019E0f9aca44ddab4c599ef91eae15178099.shp\n",
      "Loading barrier file for Farsite #1: /home/jovyan/farsite/inputs/barriers/NoBarrier/NoBarrier.shp\n",
      "Launching Farsite #1\n",
      "Starting time step 0.000000 (maximum = 18)\n",
      "Writing outputs for Farsite #1 to /home/jovyan/data/20230303/Run_00827/out\n"
     ]
    },
    {
     "name": "stderr",
     "output_type": "stream",
     "text": [
      "/home/jovyan/farsite-devAPI/src/farsiteutils_v2.py:177: FutureWarning: The frame.append method is deprecated and will be removed from pandas in a future version. Use pandas.concat instead.\n",
      "  self.gdfsimulation = self.gdfsimulation.append(gdfappend)\n"
     ]
    },
    {
     "name": "stdout",
     "output_type": "stream",
     "text": [
      "Farsite $Rev: 2395 $\n",
      "Number of parallel threads = 4 (omp_get_num_procs = 48).\n",
      "Loading lcp file for Farsite #1: /home/jovyan/farsite/inputs/landscapes/Maria2019.lcp\n",
      "Loading inputs file for Farsite #1: /home/jovyan/data/20230303/Run_00828/config\n",
      "Loading ignition file for Farsite #1: /home/jovyan/data/ignitions/Maria2019E3524795d47354fb78ab1056a0c984cba.shp\n",
      "Loading barrier file for Farsite #1: /home/jovyan/farsite/inputs/barriers/NoBarrier/NoBarrier.shp\n",
      "Launching Farsite #1\n",
      "Starting time step 0.000000 (maximum = 18)\n",
      "Writing outputs for Farsite #1 to /home/jovyan/data/20230303/Run_00828/out\n"
     ]
    },
    {
     "name": "stderr",
     "output_type": "stream",
     "text": [
      "/home/jovyan/farsite-devAPI/src/farsiteutils_v2.py:177: FutureWarning: The frame.append method is deprecated and will be removed from pandas in a future version. Use pandas.concat instead.\n",
      "  self.gdfsimulation = self.gdfsimulation.append(gdfappend)\n"
     ]
    },
    {
     "name": "stdout",
     "output_type": "stream",
     "text": [
      "Farsite $Rev: 2395 $\n",
      "Number of parallel threads = 4 (omp_get_num_procs = 48).\n",
      "Loading lcp file for Farsite #1: /home/jovyan/farsite/inputs/landscapes/Maria2019.lcp\n",
      "Loading inputs file for Farsite #1: /home/jovyan/data/20230303/Run_00829/config\n",
      "Loading ignition file for Farsite #1: /home/jovyan/data/ignitions/Maria2019E3105dcac5d95414d9d27fc7b36dcbe31.shp\n",
      "Loading barrier file for Farsite #1: /home/jovyan/farsite/inputs/barriers/NoBarrier/NoBarrier.shp\n",
      "Launching Farsite #1\n",
      "Starting time step 0.000000 (maximum = 18)\n",
      "Writing outputs for Farsite #1 to /home/jovyan/data/20230303/Run_00829/out\n"
     ]
    },
    {
     "name": "stderr",
     "output_type": "stream",
     "text": [
      "/home/jovyan/farsite-devAPI/src/farsiteutils_v2.py:177: FutureWarning: The frame.append method is deprecated and will be removed from pandas in a future version. Use pandas.concat instead.\n",
      "  self.gdfsimulation = self.gdfsimulation.append(gdfappend)\n"
     ]
    },
    {
     "name": "stdout",
     "output_type": "stream",
     "text": [
      "Farsite $Rev: 2395 $\n",
      "Number of parallel threads = 4 (omp_get_num_procs = 48).\n",
      "Loading lcp file for Farsite #1: /home/jovyan/farsite/inputs/landscapes/Maria2019.lcp\n",
      "Loading inputs file for Farsite #1: /home/jovyan/data/20230303/Run_00830/config\n",
      "Loading ignition file for Farsite #1: /home/jovyan/data/ignitions/Maria2019E375b1ea9e169497584b53f2e9885e483.shp\n",
      "Loading barrier file for Farsite #1: /home/jovyan/farsite/inputs/barriers/NoBarrier/NoBarrier.shp\n",
      "Launching Farsite #1\n",
      "Starting time step 0.000000 (maximum = 18)\n",
      "Writing outputs for Farsite #1 to /home/jovyan/data/20230303/Run_00830/out\n",
      "Farsite $Rev: 2395 $\n",
      "Number of parallel threads = 4 (omp_get_num_procs = 48).\n",
      "Loading lcp file for Farsite #1: /home/jovyan/farsite/inputs/landscapes/Maria2019.lcp\n",
      "Loading inputs file for Farsite #1: /home/jovyan/data/20230303/Run_00831/config\n",
      "Loading ignition file for Farsite #1: /home/jovyan/data/ignitions/Maria2019Ea7b26dee9c5c4507a16c7ed365ead0b3.shp\n",
      "Loading barrier file for Farsite #1: /home/jovyan/farsite/inputs/barriers/NoBarrier/NoBarrier.shp\n",
      "Launching Farsite #1\n",
      "Starting time step 0.000000 (maximum = 18)\n",
      "Writing outputs for Farsite #1 to /home/jovyan/data/20230303/Run_00831/out\n"
     ]
    },
    {
     "name": "stderr",
     "output_type": "stream",
     "text": [
      "/home/jovyan/farsite-devAPI/src/farsiteutils_v2.py:177: FutureWarning: The frame.append method is deprecated and will be removed from pandas in a future version. Use pandas.concat instead.\n",
      "  self.gdfsimulation = self.gdfsimulation.append(gdfappend)\n",
      "/home/jovyan/farsite-devAPI/src/farsiteutils_v2.py:177: FutureWarning: The frame.append method is deprecated and will be removed from pandas in a future version. Use pandas.concat instead.\n",
      "  self.gdfsimulation = self.gdfsimulation.append(gdfappend)\n"
     ]
    },
    {
     "name": "stdout",
     "output_type": "stream",
     "text": [
      "Farsite $Rev: 2395 $\n",
      "Number of parallel threads = 4 (omp_get_num_procs = 48).\n",
      "Loading lcp file for Farsite #1: /home/jovyan/farsite/inputs/landscapes/Maria2019.lcp\n",
      "Loading inputs file for Farsite #1: /home/jovyan/data/20230303/Run_00832/config\n",
      "Loading ignition file for Farsite #1: /home/jovyan/data/ignitions/Maria2019E3b6dbdb57d784234a1869d2a0ba62cd3.shp\n",
      "Loading barrier file for Farsite #1: /home/jovyan/farsite/inputs/barriers/NoBarrier/NoBarrier.shp\n",
      "Launching Farsite #1\n",
      "Starting time step 0.000000 (maximum = 18)\n",
      "Writing outputs for Farsite #1 to /home/jovyan/data/20230303/Run_00832/out\n"
     ]
    },
    {
     "name": "stderr",
     "output_type": "stream",
     "text": [
      "/home/jovyan/farsite-devAPI/src/farsiteutils_v2.py:177: FutureWarning: The frame.append method is deprecated and will be removed from pandas in a future version. Use pandas.concat instead.\n",
      "  self.gdfsimulation = self.gdfsimulation.append(gdfappend)\n"
     ]
    },
    {
     "name": "stdout",
     "output_type": "stream",
     "text": [
      "Farsite $Rev: 2395 $\n",
      "Number of parallel threads = 4 (omp_get_num_procs = 48).\n",
      "Loading lcp file for Farsite #1: /home/jovyan/farsite/inputs/landscapes/Maria2019.lcp\n",
      "Loading inputs file for Farsite #1: /home/jovyan/data/20230303/Run_00833/config\n",
      "Loading ignition file for Farsite #1: /home/jovyan/data/ignitions/Maria2019E2b4df310198042c08a7a19bb081001b2.shp\n",
      "Loading barrier file for Farsite #1: /home/jovyan/farsite/inputs/barriers/NoBarrier/NoBarrier.shp\n",
      "Launching Farsite #1\n",
      "Starting time step 0.000000 (maximum = 18)\n",
      "Writing outputs for Farsite #1 to /home/jovyan/data/20230303/Run_00833/out\n"
     ]
    },
    {
     "name": "stderr",
     "output_type": "stream",
     "text": [
      "/home/jovyan/farsite-devAPI/src/farsiteutils_v2.py:177: FutureWarning: The frame.append method is deprecated and will be removed from pandas in a future version. Use pandas.concat instead.\n",
      "  self.gdfsimulation = self.gdfsimulation.append(gdfappend)\n"
     ]
    },
    {
     "name": "stdout",
     "output_type": "stream",
     "text": [
      "Farsite $Rev: 2395 $\n",
      "Number of parallel threads = 4 (omp_get_num_procs = 48).\n",
      "Loading lcp file for Farsite #1: /home/jovyan/farsite/inputs/landscapes/Maria2019.lcp\n",
      "Loading inputs file for Farsite #1: /home/jovyan/data/20230303/Run_00834/config\n",
      "Loading ignition file for Farsite #1: /home/jovyan/data/ignitions/Maria2019Ea53a67683b8f479c89a0a67c1e2ea720.shp\n",
      "Loading barrier file for Farsite #1: /home/jovyan/farsite/inputs/barriers/NoBarrier/NoBarrier.shp\n",
      "Launching Farsite #1\n",
      "Starting time step 0.000000 (maximum = 18)\n",
      "Writing outputs for Farsite #1 to /home/jovyan/data/20230303/Run_00834/out\n"
     ]
    },
    {
     "name": "stderr",
     "output_type": "stream",
     "text": [
      "/home/jovyan/farsite-devAPI/src/farsiteutils_v2.py:177: FutureWarning: The frame.append method is deprecated and will be removed from pandas in a future version. Use pandas.concat instead.\n",
      "  self.gdfsimulation = self.gdfsimulation.append(gdfappend)\n"
     ]
    },
    {
     "name": "stdout",
     "output_type": "stream",
     "text": [
      "Farsite $Rev: 2395 $\n",
      "Number of parallel threads = 4 (omp_get_num_procs = 48).\n",
      "Loading lcp file for Farsite #1: /home/jovyan/farsite/inputs/landscapes/Maria2019.lcp\n",
      "Loading inputs file for Farsite #1: /home/jovyan/data/20230303/Run_00835/config\n",
      "Loading ignition file for Farsite #1: /home/jovyan/data/ignitions/Maria2019Ee30320ce25c84908a814e92f94e4d4f3.shp\n",
      "Loading barrier file for Farsite #1: /home/jovyan/farsite/inputs/barriers/NoBarrier/NoBarrier.shp\n",
      "Launching Farsite #1\n",
      "Starting time step 0.000000 (maximum = 18)\n",
      "Writing outputs for Farsite #1 to /home/jovyan/data/20230303/Run_00835/out\n"
     ]
    },
    {
     "name": "stderr",
     "output_type": "stream",
     "text": [
      "/home/jovyan/farsite-devAPI/src/farsiteutils_v2.py:177: FutureWarning: The frame.append method is deprecated and will be removed from pandas in a future version. Use pandas.concat instead.\n",
      "  self.gdfsimulation = self.gdfsimulation.append(gdfappend)\n",
      "/home/jovyan/farsite-devAPI/src/farsiteutils_v2.py:177: FutureWarning: The frame.append method is deprecated and will be removed from pandas in a future version. Use pandas.concat instead.\n",
      "  self.gdfsimulation = self.gdfsimulation.append(gdfappend)\n"
     ]
    },
    {
     "name": "stdout",
     "output_type": "stream",
     "text": [
      "Farsite $Rev: 2395 $\n",
      "Number of parallel threads = 4 (omp_get_num_procs = 48).\n",
      "Loading lcp file for Farsite #1: /home/jovyan/farsite/inputs/landscapes/Maria2019.lcp\n",
      "Loading inputs file for Farsite #1: /home/jovyan/data/20230303/Run_00836/config\n",
      "Loading ignition file for Farsite #1: /home/jovyan/data/ignitions/Maria2019E268a41c5be314ea9ae8134886d253cbd.shp\n",
      "Loading barrier file for Farsite #1: /home/jovyan/farsite/inputs/barriers/NoBarrier/NoBarrier.shp\n",
      "Launching Farsite #1\n",
      "Starting time step 0.000000 (maximum = 18)\n",
      "Writing outputs for Farsite #1 to /home/jovyan/data/20230303/Run_00836/out\n",
      "Farsite $Rev: 2395 $\n",
      "Number of parallel threads = 4 (omp_get_num_procs = 48).\n",
      "Loading lcp file for Farsite #1: /home/jovyan/farsite/inputs/landscapes/Maria2019.lcp\n",
      "Loading inputs file for Farsite #1: /home/jovyan/data/20230303/Run_00837/config\n",
      "Loading ignition file for Farsite #1: /home/jovyan/data/ignitions/Maria2019Ea01b325762dc41359d9d6bfed3a1644b.shp\n",
      "Loading barrier file for Farsite #1: /home/jovyan/farsite/inputs/barriers/NoBarrier/NoBarrier.shp\n",
      "Launching Farsite #1\n",
      "Starting time step 0.000000 (maximum = 18)\n",
      "Writing outputs for Farsite #1 to /home/jovyan/data/20230303/Run_00837/out\n"
     ]
    },
    {
     "name": "stderr",
     "output_type": "stream",
     "text": [
      "/home/jovyan/farsite-devAPI/src/farsiteutils_v2.py:177: FutureWarning: The frame.append method is deprecated and will be removed from pandas in a future version. Use pandas.concat instead.\n",
      "  self.gdfsimulation = self.gdfsimulation.append(gdfappend)\n"
     ]
    },
    {
     "name": "stdout",
     "output_type": "stream",
     "text": [
      "Farsite $Rev: 2395 $\n",
      "Number of parallel threads = 4 (omp_get_num_procs = 48).\n",
      "Loading lcp file for Farsite #1: /home/jovyan/farsite/inputs/landscapes/Maria2019.lcp\n",
      "Loading inputs file for Farsite #1: /home/jovyan/data/20230303/Run_00838/config\n",
      "Loading ignition file for Farsite #1: /home/jovyan/data/ignitions/Maria2019Ed61d139255024d17b9db7019a9295fd9.shp\n",
      "Loading barrier file for Farsite #1: /home/jovyan/farsite/inputs/barriers/NoBarrier/NoBarrier.shp\n",
      "Launching Farsite #1\n",
      "Starting time step 0.000000 (maximum = 18)\n",
      "Writing outputs for Farsite #1 to /home/jovyan/data/20230303/Run_00838/out\n"
     ]
    },
    {
     "name": "stderr",
     "output_type": "stream",
     "text": [
      "/home/jovyan/farsite-devAPI/src/farsiteutils_v2.py:177: FutureWarning: The frame.append method is deprecated and will be removed from pandas in a future version. Use pandas.concat instead.\n",
      "  self.gdfsimulation = self.gdfsimulation.append(gdfappend)\n"
     ]
    },
    {
     "name": "stdout",
     "output_type": "stream",
     "text": [
      "Farsite $Rev: 2395 $\n",
      "Number of parallel threads = 4 (omp_get_num_procs = 48).\n",
      "Loading lcp file for Farsite #1: /home/jovyan/farsite/inputs/landscapes/Maria2019.lcp\n",
      "Loading inputs file for Farsite #1: /home/jovyan/data/20230303/Run_00839/config\n",
      "Loading ignition file for Farsite #1: /home/jovyan/data/ignitions/Maria2019E87c3853cba6d434cbc34eb4ef175e74b.shp\n",
      "Loading barrier file for Farsite #1: /home/jovyan/farsite/inputs/barriers/NoBarrier/NoBarrier.shp\n",
      "Launching Farsite #1\n",
      "Starting time step 0.000000 (maximum = 18)\n",
      "Writing outputs for Farsite #1 to /home/jovyan/data/20230303/Run_00839/out\n",
      "Farsite $Rev: 2395 $\n",
      "Number of parallel threads = 4 (omp_get_num_procs = 48).\n",
      "Loading lcp file for Farsite #1: /home/jovyan/farsite/inputs/landscapes/Maria2019.lcp\n",
      "Loading inputs file for Farsite #1: /home/jovyan/data/20230303/Run_00840/config\n",
      "Loading ignition file for Farsite #1: /home/jovyan/data/ignitions/Maria2019E538e7bf0cad54bc493b0778af66032af.shp\n",
      "Loading barrier file for Farsite #1: /home/jovyan/farsite/inputs/barriers/NoBarrier/NoBarrier.shp\n",
      "Launching Farsite #1\n",
      "Starting time step 0.000000 (maximum = 18)\n",
      "Writing outputs for Farsite #1 to /home/jovyan/data/20230303/Run_00840/out\n"
     ]
    },
    {
     "name": "stderr",
     "output_type": "stream",
     "text": [
      "/home/jovyan/farsite-devAPI/src/farsiteutils_v2.py:177: FutureWarning: The frame.append method is deprecated and will be removed from pandas in a future version. Use pandas.concat instead.\n",
      "  self.gdfsimulation = self.gdfsimulation.append(gdfappend)\n",
      "/home/jovyan/farsite-devAPI/src/farsiteutils_v2.py:177: FutureWarning: The frame.append method is deprecated and will be removed from pandas in a future version. Use pandas.concat instead.\n",
      "  self.gdfsimulation = self.gdfsimulation.append(gdfappend)\n"
     ]
    },
    {
     "name": "stdout",
     "output_type": "stream",
     "text": [
      "Farsite $Rev: 2395 $\n",
      "Number of parallel threads = 4 (omp_get_num_procs = 48).\n",
      "Loading lcp file for Farsite #1: /home/jovyan/farsite/inputs/landscapes/Maria2019.lcp\n",
      "Loading inputs file for Farsite #1: /home/jovyan/data/20230303/Run_00841/config\n",
      "Loading ignition file for Farsite #1: /home/jovyan/data/ignitions/Maria2019E141aae3276c34b5aabb34532a4a3fe70.shp\n",
      "Loading barrier file for Farsite #1: /home/jovyan/farsite/inputs/barriers/NoBarrier/NoBarrier.shp\n",
      "Launching Farsite #1\n",
      "Starting time step 0.000000 (maximum = 18)\n",
      "Writing outputs for Farsite #1 to /home/jovyan/data/20230303/Run_00841/out\n"
     ]
    },
    {
     "name": "stderr",
     "output_type": "stream",
     "text": [
      "/home/jovyan/farsite-devAPI/src/farsiteutils_v2.py:177: FutureWarning: The frame.append method is deprecated and will be removed from pandas in a future version. Use pandas.concat instead.\n",
      "  self.gdfsimulation = self.gdfsimulation.append(gdfappend)\n"
     ]
    },
    {
     "name": "stdout",
     "output_type": "stream",
     "text": [
      "Farsite $Rev: 2395 $\n",
      "Number of parallel threads = 4 (omp_get_num_procs = 48).\n",
      "Loading lcp file for Farsite #1: /home/jovyan/farsite/inputs/landscapes/Maria2019.lcp\n",
      "Loading inputs file for Farsite #1: /home/jovyan/data/20230303/Run_00842/config\n",
      "Loading ignition file for Farsite #1: /home/jovyan/data/ignitions/Maria2019Eb8e345ca935c4e8dadf8502111bd24ad.shp\n",
      "Loading barrier file for Farsite #1: /home/jovyan/farsite/inputs/barriers/NoBarrier/NoBarrier.shp\n",
      "Launching Farsite #1\n",
      "Starting time step 0.000000 (maximum = 18)\n",
      "Writing outputs for Farsite #1 to /home/jovyan/data/20230303/Run_00842/out\n"
     ]
    },
    {
     "name": "stderr",
     "output_type": "stream",
     "text": [
      "/home/jovyan/farsite-devAPI/src/farsiteutils_v2.py:177: FutureWarning: The frame.append method is deprecated and will be removed from pandas in a future version. Use pandas.concat instead.\n",
      "  self.gdfsimulation = self.gdfsimulation.append(gdfappend)\n"
     ]
    },
    {
     "name": "stdout",
     "output_type": "stream",
     "text": [
      "Farsite $Rev: 2395 $\n",
      "Number of parallel threads = 4 (omp_get_num_procs = 48).\n",
      "Loading lcp file for Farsite #1: /home/jovyan/farsite/inputs/landscapes/Maria2019.lcp\n",
      "Loading inputs file for Farsite #1: /home/jovyan/data/20230303/Run_00843/config\n",
      "Loading ignition file for Farsite #1: /home/jovyan/data/ignitions/Maria2019E6b515e52bf63408a8c05681b0ab2de90.shp\n",
      "Loading barrier file for Farsite #1: /home/jovyan/farsite/inputs/barriers/NoBarrier/NoBarrier.shp\n",
      "Launching Farsite #1\n",
      "Starting time step 0.000000 (maximum = 18)\n",
      "Writing outputs for Farsite #1 to /home/jovyan/data/20230303/Run_00843/out\n",
      "Farsite $Rev: 2395 $\n",
      "Number of parallel threads = 4 (omp_get_num_procs = 48).\n",
      "Loading lcp file for Farsite #1: /home/jovyan/farsite/inputs/landscapes/Maria2019.lcp\n",
      "Loading inputs file for Farsite #1: /home/jovyan/data/20230303/Run_00844/config\n",
      "Loading ignition file for Farsite #1: /home/jovyan/data/ignitions/Maria2019E7435af37343043b0a3ac6126a8db9c4b.shp\n",
      "Loading barrier file for Farsite #1: /home/jovyan/farsite/inputs/barriers/NoBarrier/NoBarrier.shp\n",
      "Launching Farsite #1\n",
      "Starting time step 0.000000 (maximum = 18)\n",
      "Writing outputs for Farsite #1 to /home/jovyan/data/20230303/Run_00844/out\n"
     ]
    },
    {
     "name": "stderr",
     "output_type": "stream",
     "text": [
      "/home/jovyan/farsite-devAPI/src/farsiteutils_v2.py:177: FutureWarning: The frame.append method is deprecated and will be removed from pandas in a future version. Use pandas.concat instead.\n",
      "  self.gdfsimulation = self.gdfsimulation.append(gdfappend)\n",
      "/home/jovyan/farsite-devAPI/src/farsiteutils_v2.py:177: FutureWarning: The frame.append method is deprecated and will be removed from pandas in a future version. Use pandas.concat instead.\n",
      "  self.gdfsimulation = self.gdfsimulation.append(gdfappend)\n"
     ]
    },
    {
     "name": "stdout",
     "output_type": "stream",
     "text": [
      "Farsite $Rev: 2395 $\n",
      "Number of parallel threads = 4 (omp_get_num_procs = 48).\n",
      "Loading lcp file for Farsite #1: /home/jovyan/farsite/inputs/landscapes/Maria2019.lcp\n",
      "Loading inputs file for Farsite #1: /home/jovyan/data/20230303/Run_00845/config\n",
      "Loading ignition file for Farsite #1: /home/jovyan/data/ignitions/Maria2019E29384ebfb7b746af86f1ac4b3f3df784.shp\n",
      "Loading barrier file for Farsite #1: /home/jovyan/farsite/inputs/barriers/NoBarrier/NoBarrier.shp\n",
      "Launching Farsite #1\n",
      "Starting time step 0.000000 (maximum = 18)\n",
      "Writing outputs for Farsite #1 to /home/jovyan/data/20230303/Run_00845/out\n"
     ]
    },
    {
     "name": "stderr",
     "output_type": "stream",
     "text": [
      "/home/jovyan/farsite-devAPI/src/farsiteutils_v2.py:177: FutureWarning: The frame.append method is deprecated and will be removed from pandas in a future version. Use pandas.concat instead.\n",
      "  self.gdfsimulation = self.gdfsimulation.append(gdfappend)\n"
     ]
    },
    {
     "name": "stdout",
     "output_type": "stream",
     "text": [
      "Farsite $Rev: 2395 $\n",
      "Number of parallel threads = 4 (omp_get_num_procs = 48).\n",
      "Loading lcp file for Farsite #1: /home/jovyan/farsite/inputs/landscapes/Maria2019.lcp\n",
      "Loading inputs file for Farsite #1: /home/jovyan/data/20230303/Run_00846/config\n",
      "Loading ignition file for Farsite #1: /home/jovyan/data/ignitions/Maria2019Ec1772621aea64631acd0d8b3c10d128f.shp\n",
      "Loading barrier file for Farsite #1: /home/jovyan/farsite/inputs/barriers/NoBarrier/NoBarrier.shp\n",
      "Launching Farsite #1\n",
      "Starting time step 0.000000 (maximum = 18)\n",
      "Writing outputs for Farsite #1 to /home/jovyan/data/20230303/Run_00846/out\n"
     ]
    },
    {
     "name": "stderr",
     "output_type": "stream",
     "text": [
      "/home/jovyan/farsite-devAPI/src/farsiteutils_v2.py:177: FutureWarning: The frame.append method is deprecated and will be removed from pandas in a future version. Use pandas.concat instead.\n",
      "  self.gdfsimulation = self.gdfsimulation.append(gdfappend)\n"
     ]
    },
    {
     "name": "stdout",
     "output_type": "stream",
     "text": [
      "Farsite $Rev: 2395 $\n",
      "Number of parallel threads = 4 (omp_get_num_procs = 48).\n",
      "Loading lcp file for Farsite #1: /home/jovyan/farsite/inputs/landscapes/Maria2019.lcp\n",
      "Loading inputs file for Farsite #1: /home/jovyan/data/20230303/Run_00847/config\n",
      "Loading ignition file for Farsite #1: /home/jovyan/data/ignitions/Maria2019E37eface554ea46429ffe0af5717b9c3a.shp\n",
      "Loading barrier file for Farsite #1: /home/jovyan/farsite/inputs/barriers/NoBarrier/NoBarrier.shp\n",
      "Launching Farsite #1\n",
      "Starting time step 0.000000 (maximum = 18)\n",
      "Writing outputs for Farsite #1 to /home/jovyan/data/20230303/Run_00847/out\n"
     ]
    },
    {
     "name": "stderr",
     "output_type": "stream",
     "text": [
      "/home/jovyan/farsite-devAPI/src/farsiteutils_v2.py:177: FutureWarning: The frame.append method is deprecated and will be removed from pandas in a future version. Use pandas.concat instead.\n",
      "  self.gdfsimulation = self.gdfsimulation.append(gdfappend)\n"
     ]
    },
    {
     "name": "stdout",
     "output_type": "stream",
     "text": [
      "Farsite $Rev: 2395 $\n",
      "Number of parallel threads = 4 (omp_get_num_procs = 48).\n",
      "Loading lcp file for Farsite #1: /home/jovyan/farsite/inputs/landscapes/Maria2019.lcp\n",
      "Loading inputs file for Farsite #1: /home/jovyan/data/20230303/Run_00848/config\n",
      "Loading ignition file for Farsite #1: /home/jovyan/data/ignitions/Maria2019E24440470fca14c47abe7e0da3e0ec7f6.shp\n",
      "Loading barrier file for Farsite #1: /home/jovyan/farsite/inputs/barriers/NoBarrier/NoBarrier.shp\n",
      "Launching Farsite #1\n",
      "Starting time step 0.000000 (maximum = 18)\n",
      "Writing outputs for Farsite #1 to /home/jovyan/data/20230303/Run_00848/out\n"
     ]
    },
    {
     "name": "stderr",
     "output_type": "stream",
     "text": [
      "/home/jovyan/farsite-devAPI/src/farsiteutils_v2.py:177: FutureWarning: The frame.append method is deprecated and will be removed from pandas in a future version. Use pandas.concat instead.\n",
      "  self.gdfsimulation = self.gdfsimulation.append(gdfappend)\n"
     ]
    },
    {
     "name": "stdout",
     "output_type": "stream",
     "text": [
      "Farsite $Rev: 2395 $\n",
      "Number of parallel threads = 4 (omp_get_num_procs = 48).\n",
      "Loading lcp file for Farsite #1: /home/jovyan/farsite/inputs/landscapes/Maria2019.lcp\n",
      "Loading inputs file for Farsite #1: /home/jovyan/data/20230303/Run_00849/config\n",
      "Loading ignition file for Farsite #1: /home/jovyan/data/ignitions/Maria2019Ee763e8fb47434cd58df8cfe408879188.shp\n",
      "Loading barrier file for Farsite #1: /home/jovyan/farsite/inputs/barriers/NoBarrier/NoBarrier.shp\n",
      "Launching Farsite #1\n",
      "Starting time step 0.000000 (maximum = 18)\n",
      "Writing outputs for Farsite #1 to /home/jovyan/data/20230303/Run_00849/out\n"
     ]
    },
    {
     "name": "stderr",
     "output_type": "stream",
     "text": [
      "/home/jovyan/farsite-devAPI/src/farsiteutils_v2.py:177: FutureWarning: The frame.append method is deprecated and will be removed from pandas in a future version. Use pandas.concat instead.\n",
      "  self.gdfsimulation = self.gdfsimulation.append(gdfappend)\n"
     ]
    },
    {
     "name": "stdout",
     "output_type": "stream",
     "text": [
      "Farsite $Rev: 2395 $\n",
      "Number of parallel threads = 4 (omp_get_num_procs = 48).\n",
      "Loading lcp file for Farsite #1: /home/jovyan/farsite/inputs/landscapes/Maria2019.lcp\n",
      "Loading inputs file for Farsite #1: /home/jovyan/data/20230303/Run_00850/config\n",
      "Loading ignition file for Farsite #1: /home/jovyan/data/ignitions/Maria2019Ee900da451ecd42288ea8a281de32d693.shp\n",
      "Loading barrier file for Farsite #1: /home/jovyan/farsite/inputs/barriers/NoBarrier/NoBarrier.shp\n",
      "Launching Farsite #1\n",
      "Starting time step 0.000000 (maximum = 18)\n",
      "Writing outputs for Farsite #1 to /home/jovyan/data/20230303/Run_00850/out\n",
      "Farsite $Rev: 2395 $\n",
      "Number of parallel threads = 4 (omp_get_num_procs = 48).\n",
      "Loading lcp file for Farsite #1: /home/jovyan/farsite/inputs/landscapes/Maria2019.lcp\n",
      "Loading inputs file for Farsite #1: /home/jovyan/data/20230303/Run_00851/config\n",
      "Loading ignition file for Farsite #1: /home/jovyan/data/ignitions/Maria2019E791bf7a1f94a4093805aae4d084beb5d.shp\n",
      "Loading barrier file for Farsite #1: /home/jovyan/farsite/inputs/barriers/NoBarrier/NoBarrier.shp\n",
      "Launching Farsite #1\n",
      "Starting time step 0.000000 (maximum = 18)\n",
      "Writing outputs for Farsite #1 to /home/jovyan/data/20230303/Run_00851/out\n"
     ]
    },
    {
     "name": "stderr",
     "output_type": "stream",
     "text": [
      "/home/jovyan/farsite-devAPI/src/farsiteutils_v2.py:177: FutureWarning: The frame.append method is deprecated and will be removed from pandas in a future version. Use pandas.concat instead.\n",
      "  self.gdfsimulation = self.gdfsimulation.append(gdfappend)\n",
      "/home/jovyan/farsite-devAPI/src/farsiteutils_v2.py:177: FutureWarning: The frame.append method is deprecated and will be removed from pandas in a future version. Use pandas.concat instead.\n",
      "  self.gdfsimulation = self.gdfsimulation.append(gdfappend)\n"
     ]
    },
    {
     "name": "stdout",
     "output_type": "stream",
     "text": [
      "Farsite $Rev: 2395 $\n",
      "Number of parallel threads = 4 (omp_get_num_procs = 48).\n",
      "Loading lcp file for Farsite #1: /home/jovyan/farsite/inputs/landscapes/Maria2019.lcp\n",
      "Loading inputs file for Farsite #1: /home/jovyan/data/20230303/Run_00852/config\n",
      "Loading ignition file for Farsite #1: /home/jovyan/data/ignitions/Maria2019Ec77c3359be4d44989bf9a8ce90a2985c.shp\n",
      "Loading barrier file for Farsite #1: /home/jovyan/farsite/inputs/barriers/NoBarrier/NoBarrier.shp\n",
      "Launching Farsite #1\n",
      "Starting time step 0.000000 (maximum = 18)\n",
      "Writing outputs for Farsite #1 to /home/jovyan/data/20230303/Run_00852/out\n"
     ]
    },
    {
     "name": "stderr",
     "output_type": "stream",
     "text": [
      "/home/jovyan/farsite-devAPI/src/farsiteutils_v2.py:177: FutureWarning: The frame.append method is deprecated and will be removed from pandas in a future version. Use pandas.concat instead.\n",
      "  self.gdfsimulation = self.gdfsimulation.append(gdfappend)\n",
      "/home/jovyan/farsite-devAPI/src/farsiteutils_v2.py:177: FutureWarning: The frame.append method is deprecated and will be removed from pandas in a future version. Use pandas.concat instead.\n",
      "  self.gdfsimulation = self.gdfsimulation.append(gdfappend)\n"
     ]
    },
    {
     "name": "stdout",
     "output_type": "stream",
     "text": [
      "Farsite $Rev: 2395 $\n",
      "Number of parallel threads = 4 (omp_get_num_procs = 48).\n",
      "Loading lcp file for Farsite #1: /home/jovyan/farsite/inputs/landscapes/Maria2019.lcp\n",
      "Loading inputs file for Farsite #1: /home/jovyan/data/20230303/Run_00853/config\n",
      "Loading ignition file for Farsite #1: /home/jovyan/data/ignitions/Maria2019Eb1ef282012764c3ea2c31962ead241ae.shp\n",
      "Loading barrier file for Farsite #1: /home/jovyan/farsite/inputs/barriers/NoBarrier/NoBarrier.shp\n",
      "Launching Farsite #1\n",
      "Starting time step 0.000000 (maximum = 18)\n",
      "Writing outputs for Farsite #1 to /home/jovyan/data/20230303/Run_00853/out\n",
      "Farsite $Rev: 2395 $\n",
      "Number of parallel threads = 4 (omp_get_num_procs = 48).\n",
      "Loading lcp file for Farsite #1: /home/jovyan/farsite/inputs/landscapes/Maria2019.lcp\n",
      "Loading inputs file for Farsite #1: /home/jovyan/data/20230303/Run_00854/config\n",
      "Loading ignition file for Farsite #1: /home/jovyan/data/ignitions/Maria2019E525459f9a6b745ca825f2c8e7c7b9f0a.shp\n",
      "Loading barrier file for Farsite #1: /home/jovyan/farsite/inputs/barriers/NoBarrier/NoBarrier.shp\n",
      "Launching Farsite #1\n",
      "Starting time step 0.000000 (maximum = 18)\n",
      "Writing outputs for Farsite #1 to /home/jovyan/data/20230303/Run_00854/out\n"
     ]
    },
    {
     "name": "stderr",
     "output_type": "stream",
     "text": [
      "/home/jovyan/farsite-devAPI/src/farsiteutils_v2.py:177: FutureWarning: The frame.append method is deprecated and will be removed from pandas in a future version. Use pandas.concat instead.\n",
      "  self.gdfsimulation = self.gdfsimulation.append(gdfappend)\n"
     ]
    },
    {
     "name": "stdout",
     "output_type": "stream",
     "text": [
      "Farsite $Rev: 2395 $\n",
      "Number of parallel threads = 4 (omp_get_num_procs = 48).\n",
      "Loading lcp file for Farsite #1: /home/jovyan/farsite/inputs/landscapes/Maria2019.lcp\n",
      "Loading inputs file for Farsite #1: /home/jovyan/data/20230303/Run_00855/config\n",
      "Loading ignition file for Farsite #1: /home/jovyan/data/ignitions/Maria2019E615ff4a1ed1f4dfdbae28feb0d5a5b89.shp\n",
      "Loading barrier file for Farsite #1: /home/jovyan/farsite/inputs/barriers/NoBarrier/NoBarrier.shp\n",
      "Launching Farsite #1\n",
      "Starting time step 0.000000 (maximum = 18)\n",
      "Writing outputs for Farsite #1 to /home/jovyan/data/20230303/Run_00855/out\n"
     ]
    },
    {
     "name": "stderr",
     "output_type": "stream",
     "text": [
      "/home/jovyan/farsite-devAPI/src/farsiteutils_v2.py:177: FutureWarning: The frame.append method is deprecated and will be removed from pandas in a future version. Use pandas.concat instead.\n",
      "  self.gdfsimulation = self.gdfsimulation.append(gdfappend)\n"
     ]
    },
    {
     "name": "stdout",
     "output_type": "stream",
     "text": [
      "Farsite $Rev: 2395 $\n",
      "Number of parallel threads = 4 (omp_get_num_procs = 48).\n",
      "Loading lcp file for Farsite #1: /home/jovyan/farsite/inputs/landscapes/Maria2019.lcp\n",
      "Loading inputs file for Farsite #1: /home/jovyan/data/20230303/Run_00856/config\n",
      "Loading ignition file for Farsite #1: /home/jovyan/data/ignitions/Maria2019E29bfb4bf632e46bdbba168a48beb4095.shp\n",
      "Loading barrier file for Farsite #1: /home/jovyan/farsite/inputs/barriers/NoBarrier/NoBarrier.shp\n",
      "Launching Farsite #1\n",
      "Starting time step 0.000000 (maximum = 18)\n",
      "Writing outputs for Farsite #1 to /home/jovyan/data/20230303/Run_00856/out\n"
     ]
    },
    {
     "name": "stderr",
     "output_type": "stream",
     "text": [
      "/home/jovyan/farsite-devAPI/src/farsiteutils_v2.py:177: FutureWarning: The frame.append method is deprecated and will be removed from pandas in a future version. Use pandas.concat instead.\n",
      "  self.gdfsimulation = self.gdfsimulation.append(gdfappend)\n",
      "/home/jovyan/farsite-devAPI/src/farsiteutils_v2.py:177: FutureWarning: The frame.append method is deprecated and will be removed from pandas in a future version. Use pandas.concat instead.\n",
      "  self.gdfsimulation = self.gdfsimulation.append(gdfappend)\n"
     ]
    },
    {
     "name": "stdout",
     "output_type": "stream",
     "text": [
      "Farsite $Rev: 2395 $\n",
      "Number of parallel threads = 4 (omp_get_num_procs = 48).\n",
      "Loading lcp file for Farsite #1: /home/jovyan/farsite/inputs/landscapes/Maria2019.lcp\n",
      "Loading inputs file for Farsite #1: /home/jovyan/data/20230303/Run_00857/config\n",
      "Loading ignition file for Farsite #1: /home/jovyan/data/ignitions/Maria2019E22b8e2af83c44e1ab46455b7a7f107bd.shp\n",
      "Loading barrier file for Farsite #1: /home/jovyan/farsite/inputs/barriers/NoBarrier/NoBarrier.shp\n",
      "Launching Farsite #1\n",
      "Starting time step 0.000000 (maximum = 18)\n",
      "Writing outputs for Farsite #1 to /home/jovyan/data/20230303/Run_00857/out\n",
      "Farsite $Rev: 2395 $\n",
      "Number of parallel threads = 4 (omp_get_num_procs = 48).\n",
      "Loading lcp file for Farsite #1: /home/jovyan/farsite/inputs/landscapes/Maria2019.lcp\n",
      "Loading inputs file for Farsite #1: /home/jovyan/data/20230303/Run_00858/config\n",
      "Loading ignition file for Farsite #1: /home/jovyan/data/ignitions/Maria2019Ed08e8136ef17468990343a1f36e9f4f4.shp\n",
      "Loading barrier file for Farsite #1: /home/jovyan/farsite/inputs/barriers/NoBarrier/NoBarrier.shp\n",
      "Launching Farsite #1\n",
      "Starting time step 0.000000 (maximum = 18)\n",
      "Writing outputs for Farsite #1 to /home/jovyan/data/20230303/Run_00858/out\n"
     ]
    },
    {
     "name": "stderr",
     "output_type": "stream",
     "text": [
      "/home/jovyan/farsite-devAPI/src/farsiteutils_v2.py:177: FutureWarning: The frame.append method is deprecated and will be removed from pandas in a future version. Use pandas.concat instead.\n",
      "  self.gdfsimulation = self.gdfsimulation.append(gdfappend)\n"
     ]
    },
    {
     "name": "stdout",
     "output_type": "stream",
     "text": [
      "Farsite $Rev: 2395 $\n",
      "Number of parallel threads = 4 (omp_get_num_procs = 48).\n",
      "Loading lcp file for Farsite #1: /home/jovyan/farsite/inputs/landscapes/Maria2019.lcp\n",
      "Loading inputs file for Farsite #1: /home/jovyan/data/20230303/Run_00859/config\n",
      "Loading ignition file for Farsite #1: /home/jovyan/data/ignitions/Maria2019Ec731f4c017ce48af8f4865d345008019.shp\n",
      "Loading barrier file for Farsite #1: /home/jovyan/farsite/inputs/barriers/NoBarrier/NoBarrier.shp\n",
      "Launching Farsite #1\n",
      "Starting time step 0.000000 (maximum = 18)\n",
      "Writing outputs for Farsite #1 to /home/jovyan/data/20230303/Run_00859/out\n"
     ]
    },
    {
     "name": "stderr",
     "output_type": "stream",
     "text": [
      "/home/jovyan/farsite-devAPI/src/farsiteutils_v2.py:177: FutureWarning: The frame.append method is deprecated and will be removed from pandas in a future version. Use pandas.concat instead.\n",
      "  self.gdfsimulation = self.gdfsimulation.append(gdfappend)\n",
      "/home/jovyan/farsite-devAPI/src/farsiteutils_v2.py:177: FutureWarning: The frame.append method is deprecated and will be removed from pandas in a future version. Use pandas.concat instead.\n",
      "  self.gdfsimulation = self.gdfsimulation.append(gdfappend)\n"
     ]
    },
    {
     "name": "stdout",
     "output_type": "stream",
     "text": [
      "Farsite $Rev: 2395 $\n",
      "Number of parallel threads = 4 (omp_get_num_procs = 48).\n",
      "Loading lcp file for Farsite #1: /home/jovyan/farsite/inputs/landscapes/Maria2019.lcp\n",
      "Loading inputs file for Farsite #1: /home/jovyan/data/20230303/Run_00860/config\n",
      "Loading ignition file for Farsite #1: /home/jovyan/data/ignitions/Maria2019Ee9cd97a7dca0461d9590f053144ed2c4.shp\n",
      "Loading barrier file for Farsite #1: /home/jovyan/farsite/inputs/barriers/NoBarrier/NoBarrier.shp\n",
      "Launching Farsite #1\n",
      "Starting time step 0.000000 (maximum = 18)\n",
      "Writing outputs for Farsite #1 to /home/jovyan/data/20230303/Run_00860/out\n",
      "Farsite $Rev: 2395 $\n",
      "Number of parallel threads = 4 (omp_get_num_procs = 48).\n",
      "Loading lcp file for Farsite #1: /home/jovyan/farsite/inputs/landscapes/Maria2019.lcp\n",
      "Loading inputs file for Farsite #1: /home/jovyan/data/20230303/Run_00861/config\n",
      "Loading ignition file for Farsite #1: /home/jovyan/data/ignitions/Maria2019E0b1cb497739d47ca8bcf347c01230e36.shp\n",
      "Loading barrier file for Farsite #1: /home/jovyan/farsite/inputs/barriers/NoBarrier/NoBarrier.shp\n",
      "Launching Farsite #1\n",
      "Starting time step 0.000000 (maximum = 18)\n",
      "Writing outputs for Farsite #1 to /home/jovyan/data/20230303/Run_00861/out\n"
     ]
    },
    {
     "name": "stderr",
     "output_type": "stream",
     "text": [
      "/home/jovyan/farsite-devAPI/src/farsiteutils_v2.py:177: FutureWarning: The frame.append method is deprecated and will be removed from pandas in a future version. Use pandas.concat instead.\n",
      "  self.gdfsimulation = self.gdfsimulation.append(gdfappend)\n",
      "/home/jovyan/farsite-devAPI/src/farsiteutils_v2.py:177: FutureWarning: The frame.append method is deprecated and will be removed from pandas in a future version. Use pandas.concat instead.\n",
      "  self.gdfsimulation = self.gdfsimulation.append(gdfappend)\n"
     ]
    },
    {
     "name": "stdout",
     "output_type": "stream",
     "text": [
      "Farsite $Rev: 2395 $\n",
      "Number of parallel threads = 4 (omp_get_num_procs = 48).\n",
      "Loading lcp file for Farsite #1: /home/jovyan/farsite/inputs/landscapes/Maria2019.lcp\n",
      "Loading inputs file for Farsite #1: /home/jovyan/data/20230303/Run_00862/config\n",
      "Loading ignition file for Farsite #1: /home/jovyan/data/ignitions/Maria2019Ea96239f4f07b45708f3ae89c4621eb8f.shp\n",
      "Loading barrier file for Farsite #1: /home/jovyan/farsite/inputs/barriers/NoBarrier/NoBarrier.shp\n",
      "Launching Farsite #1\n",
      "Starting time step 0.000000 (maximum = 18)\n",
      "Writing outputs for Farsite #1 to /home/jovyan/data/20230303/Run_00862/out\n",
      "Farsite $Rev: 2395 $\n",
      "Number of parallel threads = 4 (omp_get_num_procs = 48).\n",
      "Loading lcp file for Farsite #1: /home/jovyan/farsite/inputs/landscapes/Maria2019.lcp\n",
      "Loading inputs file for Farsite #1: /home/jovyan/data/20230303/Run_00863/config\n",
      "Loading ignition file for Farsite #1: /home/jovyan/data/ignitions/Maria2019E76bc6cb344904c2e97144f15b62c4829.shp\n",
      "Loading barrier file for Farsite #1: /home/jovyan/farsite/inputs/barriers/NoBarrier/NoBarrier.shp\n",
      "Launching Farsite #1\n",
      "Starting time step 0.000000 (maximum = 18)\n",
      "Writing outputs for Farsite #1 to /home/jovyan/data/20230303/Run_00863/out\n"
     ]
    },
    {
     "name": "stderr",
     "output_type": "stream",
     "text": [
      "/home/jovyan/farsite-devAPI/src/farsiteutils_v2.py:177: FutureWarning: The frame.append method is deprecated and will be removed from pandas in a future version. Use pandas.concat instead.\n",
      "  self.gdfsimulation = self.gdfsimulation.append(gdfappend)\n"
     ]
    },
    {
     "name": "stdout",
     "output_type": "stream",
     "text": [
      "Farsite $Rev: 2395 $\n",
      "Number of parallel threads = 4 (omp_get_num_procs = 48).\n",
      "Loading lcp file for Farsite #1: /home/jovyan/farsite/inputs/landscapes/Maria2019.lcp\n",
      "Loading inputs file for Farsite #1: /home/jovyan/data/20230303/Run_00864/config\n",
      "Loading ignition file for Farsite #1: /home/jovyan/data/ignitions/Maria2019Ebcc7341195bc4f8f9f612bd5a6142c66.shp\n",
      "Loading barrier file for Farsite #1: /home/jovyan/farsite/inputs/barriers/NoBarrier/NoBarrier.shp\n",
      "Launching Farsite #1\n",
      "Starting time step 0.000000 (maximum = 18)\n",
      "Writing outputs for Farsite #1 to /home/jovyan/data/20230303/Run_00864/out\n"
     ]
    },
    {
     "name": "stderr",
     "output_type": "stream",
     "text": [
      "/home/jovyan/farsite-devAPI/src/farsiteutils_v2.py:177: FutureWarning: The frame.append method is deprecated and will be removed from pandas in a future version. Use pandas.concat instead.\n",
      "  self.gdfsimulation = self.gdfsimulation.append(gdfappend)\n"
     ]
    },
    {
     "name": "stdout",
     "output_type": "stream",
     "text": [
      "Farsite $Rev: 2395 $\n",
      "Number of parallel threads = 4 (omp_get_num_procs = 48).\n",
      "Loading lcp file for Farsite #1: /home/jovyan/farsite/inputs/landscapes/Maria2019.lcp\n",
      "Loading inputs file for Farsite #1: /home/jovyan/data/20230303/Run_00865/config\n",
      "Loading ignition file for Farsite #1: /home/jovyan/data/ignitions/Maria2019Ed022094edcb94b04830ac78564c52917.shp\n",
      "Loading barrier file for Farsite #1: /home/jovyan/farsite/inputs/barriers/NoBarrier/NoBarrier.shp\n",
      "Launching Farsite #1\n",
      "Starting time step 0.000000 (maximum = 18)\n",
      "Writing outputs for Farsite #1 to /home/jovyan/data/20230303/Run_00865/out\n"
     ]
    },
    {
     "name": "stderr",
     "output_type": "stream",
     "text": [
      "/home/jovyan/farsite-devAPI/src/farsiteutils_v2.py:177: FutureWarning: The frame.append method is deprecated and will be removed from pandas in a future version. Use pandas.concat instead.\n",
      "  self.gdfsimulation = self.gdfsimulation.append(gdfappend)\n"
     ]
    },
    {
     "name": "stdout",
     "output_type": "stream",
     "text": [
      "Farsite $Rev: 2395 $\n",
      "Number of parallel threads = 4 (omp_get_num_procs = 48).\n",
      "Loading lcp file for Farsite #1: /home/jovyan/farsite/inputs/landscapes/Maria2019.lcp\n",
      "Loading inputs file for Farsite #1: /home/jovyan/data/20230303/Run_00866/config\n",
      "Loading ignition file for Farsite #1: /home/jovyan/data/ignitions/Maria2019E5165212dc38b43cbbf424969052d8b92.shp\n",
      "Loading barrier file for Farsite #1: /home/jovyan/farsite/inputs/barriers/NoBarrier/NoBarrier.shp\n",
      "Launching Farsite #1\n",
      "Starting time step 0.000000 (maximum = 18)\n",
      "Writing outputs for Farsite #1 to /home/jovyan/data/20230303/Run_00866/out\n"
     ]
    },
    {
     "name": "stderr",
     "output_type": "stream",
     "text": [
      "/home/jovyan/farsite-devAPI/src/farsiteutils_v2.py:177: FutureWarning: The frame.append method is deprecated and will be removed from pandas in a future version. Use pandas.concat instead.\n",
      "  self.gdfsimulation = self.gdfsimulation.append(gdfappend)\n"
     ]
    },
    {
     "name": "stdout",
     "output_type": "stream",
     "text": [
      "Farsite $Rev: 2395 $\n",
      "Number of parallel threads = 4 (omp_get_num_procs = 48).\n",
      "Loading lcp file for Farsite #1: /home/jovyan/farsite/inputs/landscapes/Maria2019.lcp\n",
      "Loading inputs file for Farsite #1: /home/jovyan/data/20230303/Run_00867/config\n",
      "Loading ignition file for Farsite #1: /home/jovyan/data/ignitions/Maria2019Efc3f2b8389a94c30aa86a9f40b1d9f97.shp\n",
      "Loading barrier file for Farsite #1: /home/jovyan/farsite/inputs/barriers/NoBarrier/NoBarrier.shp\n",
      "Launching Farsite #1\n",
      "Starting time step 0.000000 (maximum = 18)\n",
      "Writing outputs for Farsite #1 to /home/jovyan/data/20230303/Run_00867/out\n"
     ]
    },
    {
     "name": "stderr",
     "output_type": "stream",
     "text": [
      "/home/jovyan/farsite-devAPI/src/farsiteutils_v2.py:177: FutureWarning: The frame.append method is deprecated and will be removed from pandas in a future version. Use pandas.concat instead.\n",
      "  self.gdfsimulation = self.gdfsimulation.append(gdfappend)\n"
     ]
    },
    {
     "name": "stdout",
     "output_type": "stream",
     "text": [
      "Farsite $Rev: 2395 $\n",
      "Number of parallel threads = 4 (omp_get_num_procs = 48).\n",
      "Loading lcp file for Farsite #1: /home/jovyan/farsite/inputs/landscapes/Maria2019.lcp\n",
      "Loading inputs file for Farsite #1: /home/jovyan/data/20230303/Run_00868/config\n",
      "Loading ignition file for Farsite #1: /home/jovyan/data/ignitions/Maria2019Ee1ec0c36bdfa44bdaff05c14f42ec2b4.shp\n",
      "Loading barrier file for Farsite #1: /home/jovyan/farsite/inputs/barriers/NoBarrier/NoBarrier.shp\n",
      "Launching Farsite #1\n",
      "Starting time step 0.000000 (maximum = 18)\n",
      "Writing outputs for Farsite #1 to /home/jovyan/data/20230303/Run_00868/out\n"
     ]
    },
    {
     "name": "stderr",
     "output_type": "stream",
     "text": [
      "/home/jovyan/farsite-devAPI/src/farsiteutils_v2.py:177: FutureWarning: The frame.append method is deprecated and will be removed from pandas in a future version. Use pandas.concat instead.\n",
      "  self.gdfsimulation = self.gdfsimulation.append(gdfappend)\n",
      "/home/jovyan/farsite-devAPI/src/farsiteutils_v2.py:177: FutureWarning: The frame.append method is deprecated and will be removed from pandas in a future version. Use pandas.concat instead.\n",
      "  self.gdfsimulation = self.gdfsimulation.append(gdfappend)\n"
     ]
    },
    {
     "name": "stdout",
     "output_type": "stream",
     "text": [
      "Farsite $Rev: 2395 $\n",
      "Number of parallel threads = 4 (omp_get_num_procs = 48).\n",
      "Loading lcp file for Farsite #1: /home/jovyan/farsite/inputs/landscapes/Maria2019.lcp\n",
      "Loading inputs file for Farsite #1: /home/jovyan/data/20230303/Run_00869/config\n",
      "Loading ignition file for Farsite #1: /home/jovyan/data/ignitions/Maria2019Eb8437bb81120438cb9fb24a3a16f157b.shp\n",
      "Loading barrier file for Farsite #1: /home/jovyan/farsite/inputs/barriers/NoBarrier/NoBarrier.shp\n",
      "Launching Farsite #1\n",
      "Starting time step 0.000000 (maximum = 18)\n",
      "Writing outputs for Farsite #1 to /home/jovyan/data/20230303/Run_00869/out\n",
      "Farsite $Rev: 2395 $\n",
      "Number of parallel threads = 4 (omp_get_num_procs = 48).\n",
      "Loading lcp file for Farsite #1: /home/jovyan/farsite/inputs/landscapes/Maria2019.lcp\n",
      "Loading inputs file for Farsite #1: /home/jovyan/data/20230303/Run_00870/config\n",
      "Loading ignition file for Farsite #1: /home/jovyan/data/ignitions/Maria2019Eeb2565daf3e545668c086c66989d73a1.shp\n",
      "Loading barrier file for Farsite #1: /home/jovyan/farsite/inputs/barriers/NoBarrier/NoBarrier.shp\n",
      "Launching Farsite #1\n",
      "Starting time step 0.000000 (maximum = 18)\n",
      "Writing outputs for Farsite #1 to /home/jovyan/data/20230303/Run_00870/out\n",
      "Farsite $Rev: 2395 $\n",
      "Number of parallel threads = 4 (omp_get_num_procs = 48).\n",
      "Loading lcp file for Farsite #1: /home/jovyan/farsite/inputs/landscapes/Maria2019.lcp\n",
      "Loading inputs file for Farsite #1: /home/jovyan/data/20230303/Run_00871/config\n",
      "Loading ignition file for Farsite #1: /home/jovyan/data/ignitions/Maria2019E53c823a68b56457e8c0bd68d714c7d93.shp\n",
      "Loading barrier file for Farsite #1: /home/jovyan/farsite/inputs/barriers/NoBarrier/NoBarrier.shp\n",
      "Launching Farsite #1\n",
      "Starting time step 0.000000 (maximum = 18)\n",
      "Writing outputs for Farsite #1 to /home/jovyan/data/20230303/Run_00871/out\n"
     ]
    },
    {
     "name": "stderr",
     "output_type": "stream",
     "text": [
      "/home/jovyan/farsite-devAPI/src/farsiteutils_v2.py:177: FutureWarning: The frame.append method is deprecated and will be removed from pandas in a future version. Use pandas.concat instead.\n",
      "  self.gdfsimulation = self.gdfsimulation.append(gdfappend)\n",
      "/home/jovyan/farsite-devAPI/src/farsiteutils_v2.py:177: FutureWarning: The frame.append method is deprecated and will be removed from pandas in a future version. Use pandas.concat instead.\n",
      "  self.gdfsimulation = self.gdfsimulation.append(gdfappend)\n"
     ]
    },
    {
     "name": "stdout",
     "output_type": "stream",
     "text": [
      "Farsite $Rev: 2395 $\n",
      "Number of parallel threads = 4 (omp_get_num_procs = 48).\n",
      "Loading lcp file for Farsite #1: /home/jovyan/farsite/inputs/landscapes/Maria2019.lcp\n",
      "Loading inputs file for Farsite #1: /home/jovyan/data/20230303/Run_00872/config\n",
      "Loading ignition file for Farsite #1: /home/jovyan/data/ignitions/Maria2019E5e787c0d840b4d85bfdb0a19b2208d63.shp\n",
      "Loading barrier file for Farsite #1: /home/jovyan/farsite/inputs/barriers/NoBarrier/NoBarrier.shp\n",
      "Launching Farsite #1\n",
      "Starting time step 0.000000 (maximum = 18)\n",
      "Writing outputs for Farsite #1 to /home/jovyan/data/20230303/Run_00872/out\n"
     ]
    },
    {
     "name": "stderr",
     "output_type": "stream",
     "text": [
      "/home/jovyan/farsite-devAPI/src/farsiteutils_v2.py:177: FutureWarning: The frame.append method is deprecated and will be removed from pandas in a future version. Use pandas.concat instead.\n",
      "  self.gdfsimulation = self.gdfsimulation.append(gdfappend)\n"
     ]
    },
    {
     "name": "stdout",
     "output_type": "stream",
     "text": [
      "Farsite $Rev: 2395 $\n",
      "Number of parallel threads = 4 (omp_get_num_procs = 48).\n",
      "Loading lcp file for Farsite #1: /home/jovyan/farsite/inputs/landscapes/Maria2019.lcp\n",
      "Loading inputs file for Farsite #1: /home/jovyan/data/20230303/Run_00873/config\n",
      "Loading ignition file for Farsite #1: /home/jovyan/data/ignitions/Maria2019E00745b81dc77442a995b0e87c693300a.shp\n",
      "Loading barrier file for Farsite #1: /home/jovyan/farsite/inputs/barriers/NoBarrier/NoBarrier.shp\n",
      "Launching Farsite #1\n",
      "Starting time step 0.000000 (maximum = 18)\n",
      "Writing outputs for Farsite #1 to /home/jovyan/data/20230303/Run_00873/out\n"
     ]
    },
    {
     "name": "stderr",
     "output_type": "stream",
     "text": [
      "/home/jovyan/farsite-devAPI/src/farsiteutils_v2.py:177: FutureWarning: The frame.append method is deprecated and will be removed from pandas in a future version. Use pandas.concat instead.\n",
      "  self.gdfsimulation = self.gdfsimulation.append(gdfappend)\n"
     ]
    },
    {
     "name": "stdout",
     "output_type": "stream",
     "text": [
      "Farsite $Rev: 2395 $\n",
      "Number of parallel threads = 4 (omp_get_num_procs = 48).\n",
      "Loading lcp file for Farsite #1: /home/jovyan/farsite/inputs/landscapes/Maria2019.lcp\n",
      "Loading inputs file for Farsite #1: /home/jovyan/data/20230303/Run_00874/config\n",
      "Loading ignition file for Farsite #1: /home/jovyan/data/ignitions/Maria2019E5270b6fef39b49508b787cbda4e3d065.shp\n",
      "Loading barrier file for Farsite #1: /home/jovyan/farsite/inputs/barriers/NoBarrier/NoBarrier.shp\n",
      "Launching Farsite #1\n",
      "Starting time step 0.000000 (maximum = 18)\n",
      "Writing outputs for Farsite #1 to /home/jovyan/data/20230303/Run_00874/out\n"
     ]
    },
    {
     "name": "stderr",
     "output_type": "stream",
     "text": [
      "/home/jovyan/farsite-devAPI/src/farsiteutils_v2.py:177: FutureWarning: The frame.append method is deprecated and will be removed from pandas in a future version. Use pandas.concat instead.\n",
      "  self.gdfsimulation = self.gdfsimulation.append(gdfappend)\n"
     ]
    },
    {
     "name": "stdout",
     "output_type": "stream",
     "text": [
      "Farsite $Rev: 2395 $\n",
      "Number of parallel threads = 4 (omp_get_num_procs = 48).\n",
      "Loading lcp file for Farsite #1: /home/jovyan/farsite/inputs/landscapes/Maria2019.lcp\n",
      "Loading inputs file for Farsite #1: /home/jovyan/data/20230303/Run_00875/config\n",
      "Loading ignition file for Farsite #1: /home/jovyan/data/ignitions/Maria2019E6c1171531f8047a899adc8867eb7e312.shp\n",
      "Loading barrier file for Farsite #1: /home/jovyan/farsite/inputs/barriers/NoBarrier/NoBarrier.shp\n",
      "Launching Farsite #1\n",
      "Starting time step 0.000000 (maximum = 18)\n",
      "Writing outputs for Farsite #1 to /home/jovyan/data/20230303/Run_00875/out\n",
      "Farsite $Rev: 2395 $\n",
      "Number of parallel threads = 4 (omp_get_num_procs = 48).\n",
      "Loading lcp file for Farsite #1: /home/jovyan/farsite/inputs/landscapes/Maria2019.lcp\n",
      "Loading inputs file for Farsite #1: /home/jovyan/data/20230303/Run_00876/config\n",
      "Loading ignition file for Farsite #1: /home/jovyan/data/ignitions/Maria2019E62963fbca06b42bfaf9704a53435382c.shp\n",
      "Loading barrier file for Farsite #1: /home/jovyan/farsite/inputs/barriers/NoBarrier/NoBarrier.shp\n",
      "Launching Farsite #1\n",
      "Starting time step 0.000000 (maximum = 18)\n",
      "Writing outputs for Farsite #1 to /home/jovyan/data/20230303/Run_00876/out\n"
     ]
    },
    {
     "name": "stderr",
     "output_type": "stream",
     "text": [
      "/home/jovyan/farsite-devAPI/src/farsiteutils_v2.py:177: FutureWarning: The frame.append method is deprecated and will be removed from pandas in a future version. Use pandas.concat instead.\n",
      "  self.gdfsimulation = self.gdfsimulation.append(gdfappend)\n",
      "/home/jovyan/farsite-devAPI/src/farsiteutils_v2.py:177: FutureWarning: The frame.append method is deprecated and will be removed from pandas in a future version. Use pandas.concat instead.\n",
      "  self.gdfsimulation = self.gdfsimulation.append(gdfappend)\n"
     ]
    },
    {
     "name": "stdout",
     "output_type": "stream",
     "text": [
      "Farsite $Rev: 2395 $\n",
      "Number of parallel threads = 4 (omp_get_num_procs = 48).\n",
      "Loading lcp file for Farsite #1: /home/jovyan/farsite/inputs/landscapes/Maria2019.lcp\n",
      "Loading inputs file for Farsite #1: /home/jovyan/data/20230303/Run_00877/config\n",
      "Loading ignition file for Farsite #1: /home/jovyan/data/ignitions/Maria2019Ea384c4dcdee14530afdb1bceddd2a7bf.shp\n",
      "Loading barrier file for Farsite #1: /home/jovyan/farsite/inputs/barriers/NoBarrier/NoBarrier.shp\n",
      "Launching Farsite #1\n",
      "Starting time step 0.000000 (maximum = 18)\n",
      "Writing outputs for Farsite #1 to /home/jovyan/data/20230303/Run_00877/out\n"
     ]
    },
    {
     "name": "stderr",
     "output_type": "stream",
     "text": [
      "/home/jovyan/farsite-devAPI/src/farsiteutils_v2.py:177: FutureWarning: The frame.append method is deprecated and will be removed from pandas in a future version. Use pandas.concat instead.\n",
      "  self.gdfsimulation = self.gdfsimulation.append(gdfappend)\n"
     ]
    },
    {
     "name": "stdout",
     "output_type": "stream",
     "text": [
      "Farsite $Rev: 2395 $\n",
      "Number of parallel threads = 4 (omp_get_num_procs = 48).\n",
      "Loading lcp file for Farsite #1: /home/jovyan/farsite/inputs/landscapes/Maria2019.lcp\n",
      "Loading inputs file for Farsite #1: /home/jovyan/data/20230303/Run_00878/config\n",
      "Loading ignition file for Farsite #1: /home/jovyan/data/ignitions/Maria2019Ebc7a5988a2004de09dd0e52dc9c876b5.shp\n",
      "Loading barrier file for Farsite #1: /home/jovyan/farsite/inputs/barriers/NoBarrier/NoBarrier.shp\n",
      "Launching Farsite #1\n",
      "Starting time step 0.000000 (maximum = 18)\n",
      "Writing outputs for Farsite #1 to /home/jovyan/data/20230303/Run_00878/out\n"
     ]
    },
    {
     "name": "stderr",
     "output_type": "stream",
     "text": [
      "/home/jovyan/farsite-devAPI/src/farsiteutils_v2.py:177: FutureWarning: The frame.append method is deprecated and will be removed from pandas in a future version. Use pandas.concat instead.\n",
      "  self.gdfsimulation = self.gdfsimulation.append(gdfappend)\n"
     ]
    },
    {
     "name": "stdout",
     "output_type": "stream",
     "text": [
      "Farsite $Rev: 2395 $\n",
      "Number of parallel threads = 4 (omp_get_num_procs = 48).\n",
      "Loading lcp file for Farsite #1: /home/jovyan/farsite/inputs/landscapes/Maria2019.lcp\n",
      "Loading inputs file for Farsite #1: /home/jovyan/data/20230303/Run_00879/config\n",
      "Loading ignition file for Farsite #1: /home/jovyan/data/ignitions/Maria2019Edaa304b61c944b3db0e29572a9813f7b.shp\n",
      "Loading barrier file for Farsite #1: /home/jovyan/farsite/inputs/barriers/NoBarrier/NoBarrier.shp\n",
      "Launching Farsite #1\n",
      "Starting time step 0.000000 (maximum = 18)\n",
      "Writing outputs for Farsite #1 to /home/jovyan/data/20230303/Run_00879/out\n"
     ]
    },
    {
     "name": "stderr",
     "output_type": "stream",
     "text": [
      "/home/jovyan/farsite-devAPI/src/farsiteutils_v2.py:177: FutureWarning: The frame.append method is deprecated and will be removed from pandas in a future version. Use pandas.concat instead.\n",
      "  self.gdfsimulation = self.gdfsimulation.append(gdfappend)\n",
      "/home/jovyan/farsite-devAPI/src/farsiteutils_v2.py:177: FutureWarning: The frame.append method is deprecated and will be removed from pandas in a future version. Use pandas.concat instead.\n",
      "  self.gdfsimulation = self.gdfsimulation.append(gdfappend)\n"
     ]
    },
    {
     "name": "stdout",
     "output_type": "stream",
     "text": [
      "Farsite $Rev: 2395 $\n",
      "Number of parallel threads = 4 (omp_get_num_procs = 48).\n",
      "Loading lcp file for Farsite #1: /home/jovyan/farsite/inputs/landscapes/Maria2019.lcp\n",
      "Loading inputs file for Farsite #1: /home/jovyan/data/20230303/Run_00880/config\n",
      "Loading ignition file for Farsite #1: /home/jovyan/data/ignitions/Maria2019E374974cc321648ad9b0c64607a25abe6.shp\n",
      "Loading barrier file for Farsite #1: /home/jovyan/farsite/inputs/barriers/NoBarrier/NoBarrier.shp\n",
      "Launching Farsite #1\n",
      "Starting time step 0.000000 (maximum = 18)\n",
      "Writing outputs for Farsite #1 to /home/jovyan/data/20230303/Run_00880/out\n",
      "Farsite $Rev: 2395 $\n",
      "Number of parallel threads = 4 (omp_get_num_procs = 48).\n",
      "Loading lcp file for Farsite #1: /home/jovyan/farsite/inputs/landscapes/Maria2019.lcp\n",
      "Loading inputs file for Farsite #1: /home/jovyan/data/20230303/Run_00881/config\n",
      "Loading ignition file for Farsite #1: /home/jovyan/data/ignitions/Maria2019Ef7c2491c2e7149e287383134f0503237.shp\n",
      "Loading barrier file for Farsite #1: /home/jovyan/farsite/inputs/barriers/NoBarrier/NoBarrier.shp\n",
      "Launching Farsite #1\n",
      "Starting time step 0.000000 (maximum = 18)\n",
      "Writing outputs for Farsite #1 to /home/jovyan/data/20230303/Run_00881/out\n",
      "Farsite $Rev: 2395 $\n",
      "Number of parallel threads = 4 (omp_get_num_procs = 48).\n",
      "Loading lcp file for Farsite #1: /home/jovyan/farsite/inputs/landscapes/Maria2019.lcp\n",
      "Loading inputs file for Farsite #1: /home/jovyan/data/20230303/Run_00882/config\n",
      "Loading ignition file for Farsite #1: /home/jovyan/data/ignitions/Maria2019E6f7e6b27cd8e4e1eb09fe6bf187fc920.shp\n",
      "Loading barrier file for Farsite #1: /home/jovyan/farsite/inputs/barriers/NoBarrier/NoBarrier.shp\n",
      "Launching Farsite #1\n",
      "Starting time step 0.000000 (maximum = 18)\n",
      "Writing outputs for Farsite #1 to /home/jovyan/data/20230303/Run_00882/out\n"
     ]
    },
    {
     "name": "stderr",
     "output_type": "stream",
     "text": [
      "/home/jovyan/farsite-devAPI/src/farsiteutils_v2.py:177: FutureWarning: The frame.append method is deprecated and will be removed from pandas in a future version. Use pandas.concat instead.\n",
      "  self.gdfsimulation = self.gdfsimulation.append(gdfappend)\n",
      "/home/jovyan/farsite-devAPI/src/farsiteutils_v2.py:177: FutureWarning: The frame.append method is deprecated and will be removed from pandas in a future version. Use pandas.concat instead.\n",
      "  self.gdfsimulation = self.gdfsimulation.append(gdfappend)\n"
     ]
    },
    {
     "name": "stdout",
     "output_type": "stream",
     "text": [
      "Farsite $Rev: 2395 $\n",
      "Number of parallel threads = 4 (omp_get_num_procs = 48).\n",
      "Loading lcp file for Farsite #1: /home/jovyan/farsite/inputs/landscapes/Maria2019.lcp\n",
      "Loading inputs file for Farsite #1: /home/jovyan/data/20230303/Run_00883/config\n",
      "Loading ignition file for Farsite #1: /home/jovyan/data/ignitions/Maria2019E155b448a7dd547eda860c9b9453c9428.shp\n",
      "Loading barrier file for Farsite #1: /home/jovyan/farsite/inputs/barriers/NoBarrier/NoBarrier.shp\n",
      "Launching Farsite #1\n",
      "Starting time step 0.000000 (maximum = 18)\n",
      "Writing outputs for Farsite #1 to /home/jovyan/data/20230303/Run_00883/out\n"
     ]
    },
    {
     "name": "stderr",
     "output_type": "stream",
     "text": [
      "/home/jovyan/farsite-devAPI/src/farsiteutils_v2.py:177: FutureWarning: The frame.append method is deprecated and will be removed from pandas in a future version. Use pandas.concat instead.\n",
      "  self.gdfsimulation = self.gdfsimulation.append(gdfappend)\n"
     ]
    },
    {
     "name": "stdout",
     "output_type": "stream",
     "text": [
      "Farsite $Rev: 2395 $\n",
      "Number of parallel threads = 4 (omp_get_num_procs = 48).\n",
      "Loading lcp file for Farsite #1: /home/jovyan/farsite/inputs/landscapes/Maria2019.lcp\n",
      "Loading inputs file for Farsite #1: /home/jovyan/data/20230303/Run_00884/config\n",
      "Loading ignition file for Farsite #1: /home/jovyan/data/ignitions/Maria2019E7c6761200fea40beaaa1a54349485a54.shp\n",
      "Loading barrier file for Farsite #1: /home/jovyan/farsite/inputs/barriers/NoBarrier/NoBarrier.shp\n",
      "Launching Farsite #1\n",
      "Starting time step 0.000000 (maximum = 18)\n",
      "Writing outputs for Farsite #1 to /home/jovyan/data/20230303/Run_00884/out\n"
     ]
    },
    {
     "name": "stderr",
     "output_type": "stream",
     "text": [
      "/home/jovyan/farsite-devAPI/src/farsiteutils_v2.py:177: FutureWarning: The frame.append method is deprecated and will be removed from pandas in a future version. Use pandas.concat instead.\n",
      "  self.gdfsimulation = self.gdfsimulation.append(gdfappend)\n"
     ]
    },
    {
     "name": "stdout",
     "output_type": "stream",
     "text": [
      "Farsite $Rev: 2395 $\n",
      "Number of parallel threads = 4 (omp_get_num_procs = 48).\n",
      "Loading lcp file for Farsite #1: /home/jovyan/farsite/inputs/landscapes/Maria2019.lcp\n",
      "Loading inputs file for Farsite #1: /home/jovyan/data/20230303/Run_00885/config\n",
      "Loading ignition file for Farsite #1: /home/jovyan/data/ignitions/Maria2019Eaebfa47e659b4c2e8e7072ba4030ac4c.shp\n",
      "Loading barrier file for Farsite #1: /home/jovyan/farsite/inputs/barriers/NoBarrier/NoBarrier.shp\n",
      "Launching Farsite #1\n",
      "Starting time step 0.000000 (maximum = 18)\n",
      "Writing outputs for Farsite #1 to /home/jovyan/data/20230303/Run_00885/out\n",
      "Farsite $Rev: 2395 $\n",
      "Number of parallel threads = 4 (omp_get_num_procs = 48).\n",
      "Loading lcp file for Farsite #1: /home/jovyan/farsite/inputs/landscapes/Maria2019.lcp\n",
      "Loading inputs file for Farsite #1: /home/jovyan/data/20230303/Run_00886/config\n",
      "Loading ignition file for Farsite #1: /home/jovyan/data/ignitions/Maria2019E7e61d30c9cb54d4082074b8657fd8260.shp\n",
      "Loading barrier file for Farsite #1: /home/jovyan/farsite/inputs/barriers/NoBarrier/NoBarrier.shp\n",
      "Launching Farsite #1\n",
      "Starting time step 0.000000 (maximum = 18)\n",
      "Writing outputs for Farsite #1 to /home/jovyan/data/20230303/Run_00886/out\n"
     ]
    },
    {
     "name": "stderr",
     "output_type": "stream",
     "text": [
      "/home/jovyan/farsite-devAPI/src/farsiteutils_v2.py:177: FutureWarning: The frame.append method is deprecated and will be removed from pandas in a future version. Use pandas.concat instead.\n",
      "  self.gdfsimulation = self.gdfsimulation.append(gdfappend)\n",
      "/home/jovyan/farsite-devAPI/src/farsiteutils_v2.py:177: FutureWarning: The frame.append method is deprecated and will be removed from pandas in a future version. Use pandas.concat instead.\n",
      "  self.gdfsimulation = self.gdfsimulation.append(gdfappend)\n"
     ]
    },
    {
     "name": "stdout",
     "output_type": "stream",
     "text": [
      "Farsite $Rev: 2395 $\n",
      "Number of parallel threads = 4 (omp_get_num_procs = 48).\n",
      "Loading lcp file for Farsite #1: /home/jovyan/farsite/inputs/landscapes/Maria2019.lcp\n",
      "Loading inputs file for Farsite #1: /home/jovyan/data/20230303/Run_00887/config\n",
      "Loading ignition file for Farsite #1: /home/jovyan/data/ignitions/Maria2019Ebd2f8ec494d843758a6b03b2f2ca2401.shp\n",
      "Loading barrier file for Farsite #1: /home/jovyan/farsite/inputs/barriers/NoBarrier/NoBarrier.shp\n",
      "Launching Farsite #1\n",
      "Starting time step 0.000000 (maximum = 18)\n",
      "Writing outputs for Farsite #1 to /home/jovyan/data/20230303/Run_00887/out\n"
     ]
    },
    {
     "name": "stderr",
     "output_type": "stream",
     "text": [
      "/home/jovyan/farsite-devAPI/src/farsiteutils_v2.py:177: FutureWarning: The frame.append method is deprecated and will be removed from pandas in a future version. Use pandas.concat instead.\n",
      "  self.gdfsimulation = self.gdfsimulation.append(gdfappend)\n"
     ]
    },
    {
     "name": "stdout",
     "output_type": "stream",
     "text": [
      "Farsite $Rev: 2395 $\n",
      "Number of parallel threads = 4 (omp_get_num_procs = 48).\n",
      "Loading lcp file for Farsite #1: /home/jovyan/farsite/inputs/landscapes/Maria2019.lcp\n",
      "Loading inputs file for Farsite #1: /home/jovyan/data/20230303/Run_00888/config\n",
      "Loading ignition file for Farsite #1: /home/jovyan/data/ignitions/Maria2019Eea0f1ed6e9a947a6bc7140b9af8ab871.shp\n",
      "Loading barrier file for Farsite #1: /home/jovyan/farsite/inputs/barriers/NoBarrier/NoBarrier.shp\n",
      "Launching Farsite #1\n",
      "Starting time step 0.000000 (maximum = 18)\n",
      "Writing outputs for Farsite #1 to /home/jovyan/data/20230303/Run_00888/out\n"
     ]
    },
    {
     "name": "stderr",
     "output_type": "stream",
     "text": [
      "/home/jovyan/farsite-devAPI/src/farsiteutils_v2.py:177: FutureWarning: The frame.append method is deprecated and will be removed from pandas in a future version. Use pandas.concat instead.\n",
      "  self.gdfsimulation = self.gdfsimulation.append(gdfappend)\n"
     ]
    },
    {
     "name": "stdout",
     "output_type": "stream",
     "text": [
      "Farsite $Rev: 2395 $\n",
      "Number of parallel threads = 4 (omp_get_num_procs = 48).\n",
      "Loading lcp file for Farsite #1: /home/jovyan/farsite/inputs/landscapes/Maria2019.lcp\n",
      "Loading inputs file for Farsite #1: /home/jovyan/data/20230303/Run_00889/config\n",
      "Loading ignition file for Farsite #1: /home/jovyan/data/ignitions/Maria2019Edafc383052dd4ca4af18f42f16fa0690.shp\n",
      "Loading barrier file for Farsite #1: /home/jovyan/farsite/inputs/barriers/NoBarrier/NoBarrier.shp\n",
      "Launching Farsite #1\n",
      "Starting time step 0.000000 (maximum = 18)\n",
      "Writing outputs for Farsite #1 to /home/jovyan/data/20230303/Run_00889/out\n"
     ]
    },
    {
     "name": "stderr",
     "output_type": "stream",
     "text": [
      "/home/jovyan/farsite-devAPI/src/farsiteutils_v2.py:177: FutureWarning: The frame.append method is deprecated and will be removed from pandas in a future version. Use pandas.concat instead.\n",
      "  self.gdfsimulation = self.gdfsimulation.append(gdfappend)\n"
     ]
    },
    {
     "name": "stdout",
     "output_type": "stream",
     "text": [
      "Farsite $Rev: 2395 $\n",
      "Number of parallel threads = 4 (omp_get_num_procs = 48).\n",
      "Loading lcp file for Farsite #1: /home/jovyan/farsite/inputs/landscapes/Maria2019.lcp\n",
      "Loading inputs file for Farsite #1: /home/jovyan/data/20230303/Run_00890/config\n",
      "Loading ignition file for Farsite #1: /home/jovyan/data/ignitions/Maria2019E24359ba71f334cd9962e2d71d2647c97.shp\n",
      "Loading barrier file for Farsite #1: /home/jovyan/farsite/inputs/barriers/NoBarrier/NoBarrier.shp\n",
      "Launching Farsite #1\n",
      "Starting time step 0.000000 (maximum = 18)\n",
      "Writing outputs for Farsite #1 to /home/jovyan/data/20230303/Run_00890/out\n"
     ]
    },
    {
     "name": "stderr",
     "output_type": "stream",
     "text": [
      "/home/jovyan/farsite-devAPI/src/farsiteutils_v2.py:177: FutureWarning: The frame.append method is deprecated and will be removed from pandas in a future version. Use pandas.concat instead.\n",
      "  self.gdfsimulation = self.gdfsimulation.append(gdfappend)\n"
     ]
    },
    {
     "name": "stdout",
     "output_type": "stream",
     "text": [
      "Farsite $Rev: 2395 $\n",
      "Number of parallel threads = 4 (omp_get_num_procs = 48).\n",
      "Loading lcp file for Farsite #1: /home/jovyan/farsite/inputs/landscapes/Maria2019.lcp\n",
      "Loading inputs file for Farsite #1: /home/jovyan/data/20230303/Run_00891/config\n",
      "Loading ignition file for Farsite #1: /home/jovyan/data/ignitions/Maria2019Eceb1fbfdc63e4d089fbcbe58d57bd7c0.shp\n",
      "Loading barrier file for Farsite #1: /home/jovyan/farsite/inputs/barriers/NoBarrier/NoBarrier.shp\n",
      "Launching Farsite #1\n",
      "Starting time step 0.000000 (maximum = 18)\n",
      "Writing outputs for Farsite #1 to /home/jovyan/data/20230303/Run_00891/out\n"
     ]
    },
    {
     "name": "stderr",
     "output_type": "stream",
     "text": [
      "/home/jovyan/farsite-devAPI/src/farsiteutils_v2.py:177: FutureWarning: The frame.append method is deprecated and will be removed from pandas in a future version. Use pandas.concat instead.\n",
      "  self.gdfsimulation = self.gdfsimulation.append(gdfappend)\n"
     ]
    },
    {
     "name": "stdout",
     "output_type": "stream",
     "text": [
      "Farsite $Rev: 2395 $\n",
      "Number of parallel threads = 4 (omp_get_num_procs = 48).\n",
      "Loading lcp file for Farsite #1: /home/jovyan/farsite/inputs/landscapes/Maria2019.lcp\n",
      "Loading inputs file for Farsite #1: /home/jovyan/data/20230303/Run_00892/config\n",
      "Loading ignition file for Farsite #1: /home/jovyan/data/ignitions/Maria2019E1411c90d20c14096a999cef95f764d69.shp\n",
      "Loading barrier file for Farsite #1: /home/jovyan/farsite/inputs/barriers/NoBarrier/NoBarrier.shp\n",
      "Launching Farsite #1\n",
      "Starting time step 0.000000 (maximum = 18)\n",
      "Writing outputs for Farsite #1 to /home/jovyan/data/20230303/Run_00892/out\n"
     ]
    },
    {
     "name": "stderr",
     "output_type": "stream",
     "text": [
      "/home/jovyan/farsite-devAPI/src/farsiteutils_v2.py:177: FutureWarning: The frame.append method is deprecated and will be removed from pandas in a future version. Use pandas.concat instead.\n",
      "  self.gdfsimulation = self.gdfsimulation.append(gdfappend)\n"
     ]
    },
    {
     "name": "stdout",
     "output_type": "stream",
     "text": [
      "Farsite $Rev: 2395 $\n",
      "Number of parallel threads = 4 (omp_get_num_procs = 48).\n",
      "Loading lcp file for Farsite #1: /home/jovyan/farsite/inputs/landscapes/Maria2019.lcp\n",
      "Loading inputs file for Farsite #1: /home/jovyan/data/20230303/Run_00893/config\n",
      "Loading ignition file for Farsite #1: /home/jovyan/data/ignitions/Maria2019E2b9a469215414598a372436dea066a9a.shp\n",
      "Loading barrier file for Farsite #1: /home/jovyan/farsite/inputs/barriers/NoBarrier/NoBarrier.shp\n",
      "Launching Farsite #1\n",
      "Starting time step 0.000000 (maximum = 18)\n",
      "Writing outputs for Farsite #1 to /home/jovyan/data/20230303/Run_00893/out\n"
     ]
    },
    {
     "name": "stderr",
     "output_type": "stream",
     "text": [
      "/home/jovyan/farsite-devAPI/src/farsiteutils_v2.py:177: FutureWarning: The frame.append method is deprecated and will be removed from pandas in a future version. Use pandas.concat instead.\n",
      "  self.gdfsimulation = self.gdfsimulation.append(gdfappend)\n",
      "/home/jovyan/farsite-devAPI/src/farsiteutils_v2.py:177: FutureWarning: The frame.append method is deprecated and will be removed from pandas in a future version. Use pandas.concat instead.\n",
      "  self.gdfsimulation = self.gdfsimulation.append(gdfappend)\n"
     ]
    },
    {
     "name": "stdout",
     "output_type": "stream",
     "text": [
      "Farsite $Rev: 2395 $\n",
      "Number of parallel threads = 4 (omp_get_num_procs = 48).\n",
      "Loading lcp file for Farsite #1: /home/jovyan/farsite/inputs/landscapes/Maria2019.lcp\n",
      "Loading inputs file for Farsite #1: /home/jovyan/data/20230303/Run_00894/config\n",
      "Loading ignition file for Farsite #1: /home/jovyan/data/ignitions/Maria2019Ed74c135100dc45a7aed1f93acd0b023f.shp\n",
      "Loading barrier file for Farsite #1: /home/jovyan/farsite/inputs/barriers/NoBarrier/NoBarrier.shp\n",
      "Launching Farsite #1\n",
      "Starting time step 0.000000 (maximum = 18)\n",
      "Writing outputs for Farsite #1 to /home/jovyan/data/20230303/Run_00894/out\n",
      "Farsite $Rev: 2395 $\n",
      "Number of parallel threads = 4 (omp_get_num_procs = 48).\n",
      "Loading lcp file for Farsite #1: /home/jovyan/farsite/inputs/landscapes/Maria2019.lcp\n",
      "Loading inputs file for Farsite #1: /home/jovyan/data/20230303/Run_00895/config\n",
      "Loading ignition file for Farsite #1: /home/jovyan/data/ignitions/Maria2019E3b62ed0f52fd4b6aa932c068d53e900c.shp\n",
      "Loading barrier file for Farsite #1: /home/jovyan/farsite/inputs/barriers/NoBarrier/NoBarrier.shp\n",
      "Launching Farsite #1\n",
      "Starting time step 0.000000 (maximum = 18)\n",
      "Writing outputs for Farsite #1 to /home/jovyan/data/20230303/Run_00895/out\n"
     ]
    },
    {
     "name": "stderr",
     "output_type": "stream",
     "text": [
      "/home/jovyan/farsite-devAPI/src/farsiteutils_v2.py:177: FutureWarning: The frame.append method is deprecated and will be removed from pandas in a future version. Use pandas.concat instead.\n",
      "  self.gdfsimulation = self.gdfsimulation.append(gdfappend)\n"
     ]
    },
    {
     "name": "stdout",
     "output_type": "stream",
     "text": [
      "Farsite $Rev: 2395 $\n",
      "Number of parallel threads = 4 (omp_get_num_procs = 48).\n",
      "Loading lcp file for Farsite #1: /home/jovyan/farsite/inputs/landscapes/Maria2019.lcp\n",
      "Loading inputs file for Farsite #1: /home/jovyan/data/20230303/Run_00896/config\n",
      "Loading ignition file for Farsite #1: /home/jovyan/data/ignitions/Maria2019E7e1adaa86dab4eb7b83652a7762a5633.shp\n",
      "Loading barrier file for Farsite #1: /home/jovyan/farsite/inputs/barriers/NoBarrier/NoBarrier.shp\n",
      "Launching Farsite #1\n",
      "Starting time step 0.000000 (maximum = 18)\n",
      "Writing outputs for Farsite #1 to /home/jovyan/data/20230303/Run_00896/out\n",
      "Farsite $Rev: 2395 $\n",
      "Number of parallel threads = 4 (omp_get_num_procs = 48).\n",
      "Loading lcp file for Farsite #1: /home/jovyan/farsite/inputs/landscapes/Maria2019.lcp\n",
      "Loading inputs file for Farsite #1: /home/jovyan/data/20230303/Run_00897/config\n",
      "Loading ignition file for Farsite #1: /home/jovyan/data/ignitions/Maria2019E5d26a9c9f4fe43fd9bf2ce500d4e8722.shp\n",
      "Loading barrier file for Farsite #1: /home/jovyan/farsite/inputs/barriers/NoBarrier/NoBarrier.shp\n",
      "Launching Farsite #1\n",
      "Starting time step 0.000000 (maximum = 18)\n",
      "Writing outputs for Farsite #1 to /home/jovyan/data/20230303/Run_00897/out\n"
     ]
    },
    {
     "name": "stderr",
     "output_type": "stream",
     "text": [
      "/home/jovyan/farsite-devAPI/src/farsiteutils_v2.py:177: FutureWarning: The frame.append method is deprecated and will be removed from pandas in a future version. Use pandas.concat instead.\n",
      "  self.gdfsimulation = self.gdfsimulation.append(gdfappend)\n",
      "/home/jovyan/farsite-devAPI/src/farsiteutils_v2.py:177: FutureWarning: The frame.append method is deprecated and will be removed from pandas in a future version. Use pandas.concat instead.\n",
      "  self.gdfsimulation = self.gdfsimulation.append(gdfappend)\n"
     ]
    },
    {
     "name": "stdout",
     "output_type": "stream",
     "text": [
      "Farsite $Rev: 2395 $\n",
      "Number of parallel threads = 4 (omp_get_num_procs = 48).\n",
      "Loading lcp file for Farsite #1: /home/jovyan/farsite/inputs/landscapes/Maria2019.lcp\n",
      "Loading inputs file for Farsite #1: /home/jovyan/data/20230303/Run_00898/config\n",
      "Loading ignition file for Farsite #1: /home/jovyan/data/ignitions/Maria2019E43a658e05acb441581b4725794d91292.shp\n",
      "Loading barrier file for Farsite #1: /home/jovyan/farsite/inputs/barriers/NoBarrier/NoBarrier.shp\n",
      "Launching Farsite #1\n",
      "Starting time step 0.000000 (maximum = 18)\n",
      "Writing outputs for Farsite #1 to /home/jovyan/data/20230303/Run_00898/out\n"
     ]
    },
    {
     "name": "stderr",
     "output_type": "stream",
     "text": [
      "/home/jovyan/farsite-devAPI/src/farsiteutils_v2.py:177: FutureWarning: The frame.append method is deprecated and will be removed from pandas in a future version. Use pandas.concat instead.\n",
      "  self.gdfsimulation = self.gdfsimulation.append(gdfappend)\n"
     ]
    },
    {
     "name": "stdout",
     "output_type": "stream",
     "text": [
      "Farsite $Rev: 2395 $\n",
      "Number of parallel threads = 4 (omp_get_num_procs = 48).\n",
      "Loading lcp file for Farsite #1: /home/jovyan/farsite/inputs/landscapes/Maria2019.lcp\n",
      "Loading inputs file for Farsite #1: /home/jovyan/data/20230303/Run_00899/config\n",
      "Loading ignition file for Farsite #1: /home/jovyan/data/ignitions/Maria2019E64b8d9ab49ad4fce8ef2bb5f1b937437.shp\n",
      "Loading barrier file for Farsite #1: /home/jovyan/farsite/inputs/barriers/NoBarrier/NoBarrier.shp\n",
      "Launching Farsite #1\n",
      "Starting time step 0.000000 (maximum = 18)\n",
      "Writing outputs for Farsite #1 to /home/jovyan/data/20230303/Run_00899/out\n"
     ]
    },
    {
     "name": "stderr",
     "output_type": "stream",
     "text": [
      "/home/jovyan/farsite-devAPI/src/farsiteutils_v2.py:177: FutureWarning: The frame.append method is deprecated and will be removed from pandas in a future version. Use pandas.concat instead.\n",
      "  self.gdfsimulation = self.gdfsimulation.append(gdfappend)\n"
     ]
    },
    {
     "name": "stdout",
     "output_type": "stream",
     "text": [
      "Farsite $Rev: 2395 $\n",
      "Number of parallel threads = 4 (omp_get_num_procs = 48).\n",
      "Loading lcp file for Farsite #1: /home/jovyan/farsite/inputs/landscapes/Maria2019.lcp\n",
      "Loading inputs file for Farsite #1: /home/jovyan/data/20230303/Run_00900/config\n",
      "Loading ignition file for Farsite #1: /home/jovyan/data/ignitions/Maria2019E14efb09add0b467696aa1c20ea750d9d.shp\n",
      "Loading barrier file for Farsite #1: /home/jovyan/farsite/inputs/barriers/NoBarrier/NoBarrier.shp\n",
      "Launching Farsite #1\n",
      "Starting time step 0.000000 (maximum = 18)\n",
      "Writing outputs for Farsite #1 to /home/jovyan/data/20230303/Run_00900/out\n"
     ]
    },
    {
     "name": "stderr",
     "output_type": "stream",
     "text": [
      "/home/jovyan/farsite-devAPI/src/farsiteutils_v2.py:177: FutureWarning: The frame.append method is deprecated and will be removed from pandas in a future version. Use pandas.concat instead.\n",
      "  self.gdfsimulation = self.gdfsimulation.append(gdfappend)\n"
     ]
    },
    {
     "name": "stdout",
     "output_type": "stream",
     "text": [
      "Farsite $Rev: 2395 $\n",
      "Number of parallel threads = 4 (omp_get_num_procs = 48).\n",
      "Loading lcp file for Farsite #1: /home/jovyan/farsite/inputs/landscapes/Maria2019.lcp\n",
      "Loading inputs file for Farsite #1: /home/jovyan/data/20230303/Run_00901/config\n",
      "Loading ignition file for Farsite #1: /home/jovyan/data/ignitions/Maria2019Eecf59e55e3544bfabb50b4e5f7af111b.shp\n",
      "Loading barrier file for Farsite #1: /home/jovyan/farsite/inputs/barriers/NoBarrier/NoBarrier.shp\n",
      "Launching Farsite #1\n",
      "Starting time step 0.000000 (maximum = 18)\n",
      "Writing outputs for Farsite #1 to /home/jovyan/data/20230303/Run_00901/out\n"
     ]
    },
    {
     "name": "stderr",
     "output_type": "stream",
     "text": [
      "/home/jovyan/farsite-devAPI/src/farsiteutils_v2.py:177: FutureWarning: The frame.append method is deprecated and will be removed from pandas in a future version. Use pandas.concat instead.\n",
      "  self.gdfsimulation = self.gdfsimulation.append(gdfappend)\n",
      "/home/jovyan/farsite-devAPI/src/farsiteutils_v2.py:177: FutureWarning: The frame.append method is deprecated and will be removed from pandas in a future version. Use pandas.concat instead.\n",
      "  self.gdfsimulation = self.gdfsimulation.append(gdfappend)\n"
     ]
    },
    {
     "name": "stdout",
     "output_type": "stream",
     "text": [
      "Farsite $Rev: 2395 $\n",
      "Number of parallel threads = 4 (omp_get_num_procs = 48).\n",
      "Loading lcp file for Farsite #1: /home/jovyan/farsite/inputs/landscapes/Maria2019.lcp\n",
      "Loading inputs file for Farsite #1: /home/jovyan/data/20230303/Run_00902/config\n",
      "Loading ignition file for Farsite #1: /home/jovyan/data/ignitions/Maria2019E03181ff15ad1437f803a966118158dcd.shp\n",
      "Loading barrier file for Farsite #1: /home/jovyan/farsite/inputs/barriers/NoBarrier/NoBarrier.shp\n",
      "Launching Farsite #1\n",
      "Starting time step 0.000000 (maximum = 18)\n",
      "Writing outputs for Farsite #1 to /home/jovyan/data/20230303/Run_00902/out\n",
      "Farsite $Rev: 2395 $\n",
      "Number of parallel threads = 4 (omp_get_num_procs = 48).\n",
      "Loading lcp file for Farsite #1: /home/jovyan/farsite/inputs/landscapes/Maria2019.lcp\n",
      "Loading inputs file for Farsite #1: /home/jovyan/data/20230303/Run_00903/config\n",
      "Loading ignition file for Farsite #1: /home/jovyan/data/ignitions/Maria2019Ec7873baa57b74b41aabf58cbd472294a.shp\n",
      "Loading barrier file for Farsite #1: /home/jovyan/farsite/inputs/barriers/NoBarrier/NoBarrier.shp\n",
      "Launching Farsite #1\n",
      "Starting time step 0.000000 (maximum = 18)\n",
      "Writing outputs for Farsite #1 to /home/jovyan/data/20230303/Run_00903/out\n"
     ]
    },
    {
     "name": "stderr",
     "output_type": "stream",
     "text": [
      "/home/jovyan/farsite-devAPI/src/farsiteutils_v2.py:177: FutureWarning: The frame.append method is deprecated and will be removed from pandas in a future version. Use pandas.concat instead.\n",
      "  self.gdfsimulation = self.gdfsimulation.append(gdfappend)\n"
     ]
    },
    {
     "name": "stdout",
     "output_type": "stream",
     "text": [
      "Farsite $Rev: 2395 $\n",
      "Number of parallel threads = 4 (omp_get_num_procs = 48).\n",
      "Loading lcp file for Farsite #1: /home/jovyan/farsite/inputs/landscapes/Maria2019.lcp\n",
      "Loading inputs file for Farsite #1: /home/jovyan/data/20230303/Run_00904/config\n",
      "Loading ignition file for Farsite #1: /home/jovyan/data/ignitions/Maria2019E734412f844f447d9908d6eb89c4cb22f.shp\n",
      "Loading barrier file for Farsite #1: /home/jovyan/farsite/inputs/barriers/NoBarrier/NoBarrier.shp\n",
      "Launching Farsite #1\n",
      "Starting time step 0.000000 (maximum = 18)\n",
      "Writing outputs for Farsite #1 to /home/jovyan/data/20230303/Run_00904/out\n"
     ]
    },
    {
     "name": "stderr",
     "output_type": "stream",
     "text": [
      "/home/jovyan/farsite-devAPI/src/farsiteutils_v2.py:177: FutureWarning: The frame.append method is deprecated and will be removed from pandas in a future version. Use pandas.concat instead.\n",
      "  self.gdfsimulation = self.gdfsimulation.append(gdfappend)\n"
     ]
    },
    {
     "name": "stdout",
     "output_type": "stream",
     "text": [
      "Farsite $Rev: 2395 $\n",
      "Number of parallel threads = 4 (omp_get_num_procs = 48).\n",
      "Loading lcp file for Farsite #1: /home/jovyan/farsite/inputs/landscapes/Maria2019.lcp\n",
      "Loading inputs file for Farsite #1: /home/jovyan/data/20230303/Run_00905/config\n",
      "Loading ignition file for Farsite #1: /home/jovyan/data/ignitions/Maria2019E767255088b554e7e963ceea2b225e275.shp\n",
      "Loading barrier file for Farsite #1: /home/jovyan/farsite/inputs/barriers/NoBarrier/NoBarrier.shp\n",
      "Launching Farsite #1\n",
      "Starting time step 0.000000 (maximum = 18)\n",
      "Writing outputs for Farsite #1 to /home/jovyan/data/20230303/Run_00905/out\n",
      "Farsite $Rev: 2395 $\n",
      "Number of parallel threads = 4 (omp_get_num_procs = 48).\n",
      "Loading lcp file for Farsite #1: /home/jovyan/farsite/inputs/landscapes/Maria2019.lcp\n",
      "Loading inputs file for Farsite #1: /home/jovyan/data/20230303/Run_00906/config\n",
      "Loading ignition file for Farsite #1: /home/jovyan/data/ignitions/Maria2019Ec39c837617f0468881c615b176b24eac.shp\n",
      "Loading barrier file for Farsite #1: /home/jovyan/farsite/inputs/barriers/NoBarrier/NoBarrier.shp\n",
      "Launching Farsite #1\n",
      "Starting time step 0.000000 (maximum = 18)\n",
      "Writing outputs for Farsite #1 to /home/jovyan/data/20230303/Run_00906/out\n"
     ]
    },
    {
     "name": "stderr",
     "output_type": "stream",
     "text": [
      "/home/jovyan/farsite-devAPI/src/farsiteutils_v2.py:177: FutureWarning: The frame.append method is deprecated and will be removed from pandas in a future version. Use pandas.concat instead.\n",
      "  self.gdfsimulation = self.gdfsimulation.append(gdfappend)\n",
      "/home/jovyan/farsite-devAPI/src/farsiteutils_v2.py:177: FutureWarning: The frame.append method is deprecated and will be removed from pandas in a future version. Use pandas.concat instead.\n",
      "  self.gdfsimulation = self.gdfsimulation.append(gdfappend)\n"
     ]
    },
    {
     "name": "stdout",
     "output_type": "stream",
     "text": [
      "Farsite $Rev: 2395 $\n",
      "Number of parallel threads = 4 (omp_get_num_procs = 48).\n",
      "Loading lcp file for Farsite #1: /home/jovyan/farsite/inputs/landscapes/Maria2019.lcp\n",
      "Loading inputs file for Farsite #1: /home/jovyan/data/20230303/Run_00907/config\n",
      "Loading ignition file for Farsite #1: /home/jovyan/data/ignitions/Maria2019Eab62519e557445fdb50aa3b632e918d9.shp\n",
      "Loading barrier file for Farsite #1: /home/jovyan/farsite/inputs/barriers/NoBarrier/NoBarrier.shp\n",
      "Launching Farsite #1\n",
      "Starting time step 0.000000 (maximum = 18)\n",
      "Writing outputs for Farsite #1 to /home/jovyan/data/20230303/Run_00907/out\n",
      "Farsite $Rev: 2395 $\n",
      "Number of parallel threads = 4 (omp_get_num_procs = 48).\n",
      "Loading lcp file for Farsite #1: /home/jovyan/farsite/inputs/landscapes/Maria2019.lcp\n",
      "Loading inputs file for Farsite #1: /home/jovyan/data/20230303/Run_00908/config\n",
      "Loading ignition file for Farsite #1: /home/jovyan/data/ignitions/Maria2019E1626c51c88674417b78ba024bcf30dfc.shp\n",
      "Loading barrier file for Farsite #1: /home/jovyan/farsite/inputs/barriers/NoBarrier/NoBarrier.shp\n",
      "Launching Farsite #1\n",
      "Starting time step 0.000000 (maximum = 18)\n",
      "Writing outputs for Farsite #1 to /home/jovyan/data/20230303/Run_00908/out\n"
     ]
    },
    {
     "name": "stderr",
     "output_type": "stream",
     "text": [
      "/home/jovyan/farsite-devAPI/src/farsiteutils_v2.py:177: FutureWarning: The frame.append method is deprecated and will be removed from pandas in a future version. Use pandas.concat instead.\n",
      "  self.gdfsimulation = self.gdfsimulation.append(gdfappend)\n",
      "/home/jovyan/farsite-devAPI/src/farsiteutils_v2.py:177: FutureWarning: The frame.append method is deprecated and will be removed from pandas in a future version. Use pandas.concat instead.\n",
      "  self.gdfsimulation = self.gdfsimulation.append(gdfappend)\n"
     ]
    },
    {
     "name": "stdout",
     "output_type": "stream",
     "text": [
      "Farsite $Rev: 2395 $\n",
      "Number of parallel threads = 4 (omp_get_num_procs = 48).\n",
      "Loading lcp file for Farsite #1: /home/jovyan/farsite/inputs/landscapes/Maria2019.lcp\n",
      "Loading inputs file for Farsite #1: /home/jovyan/data/20230303/Run_00909/config\n",
      "Loading ignition file for Farsite #1: /home/jovyan/data/ignitions/Maria2019E31a603151e344f32b1f094db13c901a4.shp\n",
      "Loading barrier file for Farsite #1: /home/jovyan/farsite/inputs/barriers/NoBarrier/NoBarrier.shp\n",
      "Launching Farsite #1\n",
      "Starting time step 0.000000 (maximum = 18)\n",
      "Writing outputs for Farsite #1 to /home/jovyan/data/20230303/Run_00909/out\n"
     ]
    },
    {
     "name": "stderr",
     "output_type": "stream",
     "text": [
      "/home/jovyan/farsite-devAPI/src/farsiteutils_v2.py:177: FutureWarning: The frame.append method is deprecated and will be removed from pandas in a future version. Use pandas.concat instead.\n",
      "  self.gdfsimulation = self.gdfsimulation.append(gdfappend)\n"
     ]
    },
    {
     "name": "stdout",
     "output_type": "stream",
     "text": [
      "Farsite $Rev: 2395 $\n",
      "Number of parallel threads = 4 (omp_get_num_procs = 48).\n",
      "Loading lcp file for Farsite #1: /home/jovyan/farsite/inputs/landscapes/Maria2019.lcp\n",
      "Loading inputs file for Farsite #1: /home/jovyan/data/20230303/Run_00910/config\n",
      "Loading ignition file for Farsite #1: /home/jovyan/data/ignitions/Maria2019Ed1a4b66fb996480896c610c3d4779eae.shp\n",
      "Loading barrier file for Farsite #1: /home/jovyan/farsite/inputs/barriers/NoBarrier/NoBarrier.shp\n",
      "Launching Farsite #1\n",
      "Starting time step 0.000000 (maximum = 18)\n",
      "Writing outputs for Farsite #1 to /home/jovyan/data/20230303/Run_00910/out\n"
     ]
    },
    {
     "name": "stderr",
     "output_type": "stream",
     "text": [
      "/home/jovyan/farsite-devAPI/src/farsiteutils_v2.py:177: FutureWarning: The frame.append method is deprecated and will be removed from pandas in a future version. Use pandas.concat instead.\n",
      "  self.gdfsimulation = self.gdfsimulation.append(gdfappend)\n"
     ]
    },
    {
     "name": "stdout",
     "output_type": "stream",
     "text": [
      "Farsite $Rev: 2395 $\n",
      "Number of parallel threads = 4 (omp_get_num_procs = 48).\n",
      "Loading lcp file for Farsite #1: /home/jovyan/farsite/inputs/landscapes/Maria2019.lcp\n",
      "Loading inputs file for Farsite #1: /home/jovyan/data/20230303/Run_00911/config\n",
      "Loading ignition file for Farsite #1: /home/jovyan/data/ignitions/Maria2019E51a35a5bd1d54d3e9c7fa0d8c34cd2a3.shp\n",
      "Loading barrier file for Farsite #1: /home/jovyan/farsite/inputs/barriers/NoBarrier/NoBarrier.shp\n",
      "Launching Farsite #1\n",
      "Starting time step 0.000000 (maximum = 18)\n",
      "Writing outputs for Farsite #1 to /home/jovyan/data/20230303/Run_00911/out\n"
     ]
    },
    {
     "name": "stderr",
     "output_type": "stream",
     "text": [
      "/home/jovyan/farsite-devAPI/src/farsiteutils_v2.py:177: FutureWarning: The frame.append method is deprecated and will be removed from pandas in a future version. Use pandas.concat instead.\n",
      "  self.gdfsimulation = self.gdfsimulation.append(gdfappend)\n"
     ]
    },
    {
     "name": "stdout",
     "output_type": "stream",
     "text": [
      "Farsite $Rev: 2395 $\n",
      "Number of parallel threads = 4 (omp_get_num_procs = 48).\n",
      "Loading lcp file for Farsite #1: /home/jovyan/farsite/inputs/landscapes/Maria2019.lcp\n",
      "Loading inputs file for Farsite #1: /home/jovyan/data/20230303/Run_00912/config\n",
      "Loading ignition file for Farsite #1: /home/jovyan/data/ignitions/Maria2019E6cafbce7ee1442c3868a234774c294d3.shp\n",
      "Loading barrier file for Farsite #1: /home/jovyan/farsite/inputs/barriers/NoBarrier/NoBarrier.shp\n",
      "Launching Farsite #1\n",
      "Starting time step 0.000000 (maximum = 18)\n",
      "Writing outputs for Farsite #1 to /home/jovyan/data/20230303/Run_00912/out\n"
     ]
    },
    {
     "name": "stderr",
     "output_type": "stream",
     "text": [
      "/home/jovyan/farsite-devAPI/src/farsiteutils_v2.py:177: FutureWarning: The frame.append method is deprecated and will be removed from pandas in a future version. Use pandas.concat instead.\n",
      "  self.gdfsimulation = self.gdfsimulation.append(gdfappend)\n"
     ]
    },
    {
     "name": "stdout",
     "output_type": "stream",
     "text": [
      "Farsite $Rev: 2395 $\n",
      "Number of parallel threads = 4 (omp_get_num_procs = 48).\n",
      "Loading lcp file for Farsite #1: /home/jovyan/farsite/inputs/landscapes/Maria2019.lcp\n",
      "Loading inputs file for Farsite #1: /home/jovyan/data/20230303/Run_00913/config\n",
      "Loading ignition file for Farsite #1: /home/jovyan/data/ignitions/Maria2019E8ebbc0828b524098b532d84717a17741.shp\n",
      "Loading barrier file for Farsite #1: /home/jovyan/farsite/inputs/barriers/NoBarrier/NoBarrier.shp\n",
      "Launching Farsite #1\n",
      "Starting time step 0.000000 (maximum = 18)\n",
      "Writing outputs for Farsite #1 to /home/jovyan/data/20230303/Run_00913/out\n"
     ]
    },
    {
     "name": "stderr",
     "output_type": "stream",
     "text": [
      "/home/jovyan/farsite-devAPI/src/farsiteutils_v2.py:177: FutureWarning: The frame.append method is deprecated and will be removed from pandas in a future version. Use pandas.concat instead.\n",
      "  self.gdfsimulation = self.gdfsimulation.append(gdfappend)\n"
     ]
    },
    {
     "name": "stdout",
     "output_type": "stream",
     "text": [
      "Farsite $Rev: 2395 $\n",
      "Number of parallel threads = 4 (omp_get_num_procs = 48).\n",
      "Loading lcp file for Farsite #1: /home/jovyan/farsite/inputs/landscapes/Maria2019.lcp\n",
      "Loading inputs file for Farsite #1: /home/jovyan/data/20230303/Run_00914/config\n",
      "Loading ignition file for Farsite #1: /home/jovyan/data/ignitions/Maria2019E67e0095cdae24243bd39fc74e3056d3e.shp\n",
      "Loading barrier file for Farsite #1: /home/jovyan/farsite/inputs/barriers/NoBarrier/NoBarrier.shp\n",
      "Launching Farsite #1\n",
      "Starting time step 0.000000 (maximum = 18)\n",
      "Writing outputs for Farsite #1 to /home/jovyan/data/20230303/Run_00914/out\n"
     ]
    },
    {
     "name": "stderr",
     "output_type": "stream",
     "text": [
      "/home/jovyan/farsite-devAPI/src/farsiteutils_v2.py:177: FutureWarning: The frame.append method is deprecated and will be removed from pandas in a future version. Use pandas.concat instead.\n",
      "  self.gdfsimulation = self.gdfsimulation.append(gdfappend)\n"
     ]
    },
    {
     "name": "stdout",
     "output_type": "stream",
     "text": [
      "Farsite $Rev: 2395 $\n",
      "Number of parallel threads = 4 (omp_get_num_procs = 48).\n",
      "Loading lcp file for Farsite #1: /home/jovyan/farsite/inputs/landscapes/Maria2019.lcp\n",
      "Loading inputs file for Farsite #1: /home/jovyan/data/20230303/Run_00915/config\n",
      "Loading ignition file for Farsite #1: /home/jovyan/data/ignitions/Maria2019E3a879cd16930459098723224d2ed45ea.shp\n",
      "Loading barrier file for Farsite #1: /home/jovyan/farsite/inputs/barriers/NoBarrier/NoBarrier.shp\n",
      "Launching Farsite #1\n",
      "Starting time step 0.000000 (maximum = 18)\n",
      "Writing outputs for Farsite #1 to /home/jovyan/data/20230303/Run_00915/out\n"
     ]
    },
    {
     "name": "stderr",
     "output_type": "stream",
     "text": [
      "/home/jovyan/farsite-devAPI/src/farsiteutils_v2.py:177: FutureWarning: The frame.append method is deprecated and will be removed from pandas in a future version. Use pandas.concat instead.\n",
      "  self.gdfsimulation = self.gdfsimulation.append(gdfappend)\n"
     ]
    },
    {
     "name": "stdout",
     "output_type": "stream",
     "text": [
      "Farsite $Rev: 2395 $\n",
      "Number of parallel threads = 4 (omp_get_num_procs = 48).\n",
      "Loading lcp file for Farsite #1: /home/jovyan/farsite/inputs/landscapes/Maria2019.lcp\n",
      "Loading inputs file for Farsite #1: /home/jovyan/data/20230303/Run_00916/config\n",
      "Loading ignition file for Farsite #1: /home/jovyan/data/ignitions/Maria2019E759269dd7e424c389061ae191ffeb9e8.shp\n",
      "Loading barrier file for Farsite #1: /home/jovyan/farsite/inputs/barriers/NoBarrier/NoBarrier.shp\n",
      "Launching Farsite #1\n",
      "Starting time step 0.000000 (maximum = 18)\n",
      "Writing outputs for Farsite #1 to /home/jovyan/data/20230303/Run_00916/out\n"
     ]
    },
    {
     "name": "stderr",
     "output_type": "stream",
     "text": [
      "/home/jovyan/farsite-devAPI/src/farsiteutils_v2.py:177: FutureWarning: The frame.append method is deprecated and will be removed from pandas in a future version. Use pandas.concat instead.\n",
      "  self.gdfsimulation = self.gdfsimulation.append(gdfappend)\n"
     ]
    },
    {
     "name": "stdout",
     "output_type": "stream",
     "text": [
      "Farsite $Rev: 2395 $\n",
      "Number of parallel threads = 4 (omp_get_num_procs = 48).\n",
      "Loading lcp file for Farsite #1: /home/jovyan/farsite/inputs/landscapes/Maria2019.lcp\n",
      "Loading inputs file for Farsite #1: /home/jovyan/data/20230303/Run_00917/config\n",
      "Loading ignition file for Farsite #1: /home/jovyan/data/ignitions/Maria2019Ef23efcdf3bf4429e8690c2a932a5bf6f.shp\n",
      "Loading barrier file for Farsite #1: /home/jovyan/farsite/inputs/barriers/NoBarrier/NoBarrier.shp\n",
      "Launching Farsite #1\n",
      "Starting time step 0.000000 (maximum = 18)\n",
      "Writing outputs for Farsite #1 to /home/jovyan/data/20230303/Run_00917/out\n",
      "Farsite $Rev: 2395 $\n",
      "Number of parallel threads = 4 (omp_get_num_procs = 48).\n",
      "Loading lcp file for Farsite #1: /home/jovyan/farsite/inputs/landscapes/Maria2019.lcp\n",
      "Loading inputs file for Farsite #1: /home/jovyan/data/20230303/Run_00918/config\n",
      "Loading ignition file for Farsite #1: /home/jovyan/data/ignitions/Maria2019Ea55d6c6a330b4a6e9cb6e9707f31799c.shp\n",
      "Loading barrier file for Farsite #1: /home/jovyan/farsite/inputs/barriers/NoBarrier/NoBarrier.shp\n",
      "Launching Farsite #1\n",
      "Starting time step 0.000000 (maximum = 18)\n",
      "Writing outputs for Farsite #1 to /home/jovyan/data/20230303/Run_00918/out\n"
     ]
    },
    {
     "name": "stderr",
     "output_type": "stream",
     "text": [
      "/home/jovyan/farsite-devAPI/src/farsiteutils_v2.py:177: FutureWarning: The frame.append method is deprecated and will be removed from pandas in a future version. Use pandas.concat instead.\n",
      "  self.gdfsimulation = self.gdfsimulation.append(gdfappend)\n",
      "/home/jovyan/farsite-devAPI/src/farsiteutils_v2.py:177: FutureWarning: The frame.append method is deprecated and will be removed from pandas in a future version. Use pandas.concat instead.\n",
      "  self.gdfsimulation = self.gdfsimulation.append(gdfappend)\n"
     ]
    },
    {
     "name": "stdout",
     "output_type": "stream",
     "text": [
      "Farsite $Rev: 2395 $\n",
      "Number of parallel threads = 4 (omp_get_num_procs = 48).\n",
      "Loading lcp file for Farsite #1: /home/jovyan/farsite/inputs/landscapes/Maria2019.lcp\n",
      "Loading inputs file for Farsite #1: /home/jovyan/data/20230303/Run_00919/config\n",
      "Loading ignition file for Farsite #1: /home/jovyan/data/ignitions/Maria2019Ee322f3268aa0422cbc0d700645cddbac.shp\n",
      "Loading barrier file for Farsite #1: /home/jovyan/farsite/inputs/barriers/NoBarrier/NoBarrier.shp\n",
      "Launching Farsite #1\n",
      "Starting time step 0.000000 (maximum = 18)\n",
      "Writing outputs for Farsite #1 to /home/jovyan/data/20230303/Run_00919/out\n"
     ]
    },
    {
     "name": "stderr",
     "output_type": "stream",
     "text": [
      "/home/jovyan/farsite-devAPI/src/farsiteutils_v2.py:177: FutureWarning: The frame.append method is deprecated and will be removed from pandas in a future version. Use pandas.concat instead.\n",
      "  self.gdfsimulation = self.gdfsimulation.append(gdfappend)\n"
     ]
    },
    {
     "name": "stdout",
     "output_type": "stream",
     "text": [
      "Farsite $Rev: 2395 $\n",
      "Number of parallel threads = 4 (omp_get_num_procs = 48).\n",
      "Loading lcp file for Farsite #1: /home/jovyan/farsite/inputs/landscapes/Maria2019.lcp\n",
      "Loading inputs file for Farsite #1: /home/jovyan/data/20230303/Run_00920/config\n",
      "Loading ignition file for Farsite #1: /home/jovyan/data/ignitions/Maria2019E5f5aa6d4968647ab96a3cc0fff4315c4.shp\n",
      "Loading barrier file for Farsite #1: /home/jovyan/farsite/inputs/barriers/NoBarrier/NoBarrier.shp\n",
      "Launching Farsite #1\n",
      "Starting time step 0.000000 (maximum = 18)\n",
      "Writing outputs for Farsite #1 to /home/jovyan/data/20230303/Run_00920/out\n"
     ]
    },
    {
     "name": "stderr",
     "output_type": "stream",
     "text": [
      "/home/jovyan/farsite-devAPI/src/farsiteutils_v2.py:177: FutureWarning: The frame.append method is deprecated and will be removed from pandas in a future version. Use pandas.concat instead.\n",
      "  self.gdfsimulation = self.gdfsimulation.append(gdfappend)\n"
     ]
    },
    {
     "name": "stdout",
     "output_type": "stream",
     "text": [
      "Farsite $Rev: 2395 $\n",
      "Number of parallel threads = 4 (omp_get_num_procs = 48).\n",
      "Loading lcp file for Farsite #1: /home/jovyan/farsite/inputs/landscapes/Maria2019.lcp\n",
      "Loading inputs file for Farsite #1: /home/jovyan/data/20230303/Run_00921/config\n",
      "Loading ignition file for Farsite #1: /home/jovyan/data/ignitions/Maria2019E9f86bc40bcf44e839631cb9a23190c9e.shp\n",
      "Loading barrier file for Farsite #1: /home/jovyan/farsite/inputs/barriers/NoBarrier/NoBarrier.shp\n",
      "Launching Farsite #1\n",
      "Starting time step 0.000000 (maximum = 18)\n",
      "Writing outputs for Farsite #1 to /home/jovyan/data/20230303/Run_00921/out\n"
     ]
    },
    {
     "name": "stderr",
     "output_type": "stream",
     "text": [
      "/home/jovyan/farsite-devAPI/src/farsiteutils_v2.py:177: FutureWarning: The frame.append method is deprecated and will be removed from pandas in a future version. Use pandas.concat instead.\n",
      "  self.gdfsimulation = self.gdfsimulation.append(gdfappend)\n"
     ]
    },
    {
     "name": "stdout",
     "output_type": "stream",
     "text": [
      "Farsite $Rev: 2395 $\n",
      "Number of parallel threads = 4 (omp_get_num_procs = 48).\n",
      "Loading lcp file for Farsite #1: /home/jovyan/farsite/inputs/landscapes/Maria2019.lcp\n",
      "Loading inputs file for Farsite #1: /home/jovyan/data/20230303/Run_00922/config\n",
      "Loading ignition file for Farsite #1: /home/jovyan/data/ignitions/Maria2019E5f03a16bf0a6460d9ac8f17bdc28429c.shp\n",
      "Loading barrier file for Farsite #1: /home/jovyan/farsite/inputs/barriers/NoBarrier/NoBarrier.shp\n",
      "Launching Farsite #1\n",
      "Starting time step 0.000000 (maximum = 18)\n",
      "Writing outputs for Farsite #1 to /home/jovyan/data/20230303/Run_00922/out\n"
     ]
    },
    {
     "name": "stderr",
     "output_type": "stream",
     "text": [
      "/home/jovyan/farsite-devAPI/src/farsiteutils_v2.py:177: FutureWarning: The frame.append method is deprecated and will be removed from pandas in a future version. Use pandas.concat instead.\n",
      "  self.gdfsimulation = self.gdfsimulation.append(gdfappend)\n"
     ]
    },
    {
     "name": "stdout",
     "output_type": "stream",
     "text": [
      "Farsite $Rev: 2395 $\n",
      "Number of parallel threads = 4 (omp_get_num_procs = 48).\n",
      "Loading lcp file for Farsite #1: /home/jovyan/farsite/inputs/landscapes/Maria2019.lcp\n",
      "Loading inputs file for Farsite #1: /home/jovyan/data/20230303/Run_00923/config\n",
      "Loading ignition file for Farsite #1: /home/jovyan/data/ignitions/Maria2019Eb5e99e9cd6654b58b7fc338369242fbb.shp\n",
      "Loading barrier file for Farsite #1: /home/jovyan/farsite/inputs/barriers/NoBarrier/NoBarrier.shp\n",
      "Launching Farsite #1\n",
      "Starting time step 0.000000 (maximum = 18)\n",
      "Writing outputs for Farsite #1 to /home/jovyan/data/20230303/Run_00923/out\n"
     ]
    },
    {
     "name": "stderr",
     "output_type": "stream",
     "text": [
      "/home/jovyan/farsite-devAPI/src/farsiteutils_v2.py:177: FutureWarning: The frame.append method is deprecated and will be removed from pandas in a future version. Use pandas.concat instead.\n",
      "  self.gdfsimulation = self.gdfsimulation.append(gdfappend)\n"
     ]
    },
    {
     "name": "stdout",
     "output_type": "stream",
     "text": [
      "Farsite $Rev: 2395 $\n",
      "Number of parallel threads = 4 (omp_get_num_procs = 48).\n",
      "Loading lcp file for Farsite #1: /home/jovyan/farsite/inputs/landscapes/Maria2019.lcp\n",
      "Loading inputs file for Farsite #1: /home/jovyan/data/20230303/Run_00924/config\n",
      "Loading ignition file for Farsite #1: /home/jovyan/data/ignitions/Maria2019E161e9ec5bb6d412db3baab3668af02d3.shp\n",
      "Loading barrier file for Farsite #1: /home/jovyan/farsite/inputs/barriers/NoBarrier/NoBarrier.shp\n",
      "Launching Farsite #1\n",
      "Starting time step 0.000000 (maximum = 18)\n",
      "Writing outputs for Farsite #1 to /home/jovyan/data/20230303/Run_00924/out\n"
     ]
    },
    {
     "name": "stderr",
     "output_type": "stream",
     "text": [
      "/home/jovyan/farsite-devAPI/src/farsiteutils_v2.py:177: FutureWarning: The frame.append method is deprecated and will be removed from pandas in a future version. Use pandas.concat instead.\n",
      "  self.gdfsimulation = self.gdfsimulation.append(gdfappend)\n"
     ]
    },
    {
     "name": "stdout",
     "output_type": "stream",
     "text": [
      "Farsite $Rev: 2395 $\n",
      "Number of parallel threads = 4 (omp_get_num_procs = 48).\n",
      "Loading lcp file for Farsite #1: /home/jovyan/farsite/inputs/landscapes/Maria2019.lcp\n",
      "Loading inputs file for Farsite #1: /home/jovyan/data/20230303/Run_00925/config\n",
      "Loading ignition file for Farsite #1: /home/jovyan/data/ignitions/Maria2019E63fc7548f8d0449cb25ecce19e360e80.shp\n",
      "Loading barrier file for Farsite #1: /home/jovyan/farsite/inputs/barriers/NoBarrier/NoBarrier.shp\n",
      "Launching Farsite #1\n",
      "Starting time step 0.000000 (maximum = 18)\n",
      "Writing outputs for Farsite #1 to /home/jovyan/data/20230303/Run_00925/out\n"
     ]
    },
    {
     "name": "stderr",
     "output_type": "stream",
     "text": [
      "/home/jovyan/farsite-devAPI/src/farsiteutils_v2.py:177: FutureWarning: The frame.append method is deprecated and will be removed from pandas in a future version. Use pandas.concat instead.\n",
      "  self.gdfsimulation = self.gdfsimulation.append(gdfappend)\n"
     ]
    },
    {
     "name": "stdout",
     "output_type": "stream",
     "text": [
      "Farsite $Rev: 2395 $\n",
      "Number of parallel threads = 4 (omp_get_num_procs = 48).\n",
      "Loading lcp file for Farsite #1: /home/jovyan/farsite/inputs/landscapes/Maria2019.lcp\n",
      "Loading inputs file for Farsite #1: /home/jovyan/data/20230303/Run_00926/config\n",
      "Loading ignition file for Farsite #1: /home/jovyan/data/ignitions/Maria2019E35fd6150f35147d58a4796b92469bf6e.shp\n",
      "Loading barrier file for Farsite #1: /home/jovyan/farsite/inputs/barriers/NoBarrier/NoBarrier.shp\n",
      "Launching Farsite #1\n",
      "Starting time step 0.000000 (maximum = 18)\n",
      "Writing outputs for Farsite #1 to /home/jovyan/data/20230303/Run_00926/out\n"
     ]
    },
    {
     "name": "stderr",
     "output_type": "stream",
     "text": [
      "/home/jovyan/farsite-devAPI/src/farsiteutils_v2.py:177: FutureWarning: The frame.append method is deprecated and will be removed from pandas in a future version. Use pandas.concat instead.\n",
      "  self.gdfsimulation = self.gdfsimulation.append(gdfappend)\n"
     ]
    },
    {
     "name": "stdout",
     "output_type": "stream",
     "text": [
      "Farsite $Rev: 2395 $\n",
      "Number of parallel threads = 4 (omp_get_num_procs = 48).\n",
      "Loading lcp file for Farsite #1: /home/jovyan/farsite/inputs/landscapes/Maria2019.lcp\n",
      "Loading inputs file for Farsite #1: /home/jovyan/data/20230303/Run_00927/config\n",
      "Loading ignition file for Farsite #1: /home/jovyan/data/ignitions/Maria2019E751f20b3e3a04ee98597ca0b3e624a7f.shp\n",
      "Loading barrier file for Farsite #1: /home/jovyan/farsite/inputs/barriers/NoBarrier/NoBarrier.shp\n",
      "Launching Farsite #1\n",
      "Starting time step 0.000000 (maximum = 18)\n",
      "Writing outputs for Farsite #1 to /home/jovyan/data/20230303/Run_00927/out\n"
     ]
    },
    {
     "name": "stderr",
     "output_type": "stream",
     "text": [
      "/home/jovyan/farsite-devAPI/src/farsiteutils_v2.py:177: FutureWarning: The frame.append method is deprecated and will be removed from pandas in a future version. Use pandas.concat instead.\n",
      "  self.gdfsimulation = self.gdfsimulation.append(gdfappend)\n"
     ]
    },
    {
     "name": "stdout",
     "output_type": "stream",
     "text": [
      "Farsite $Rev: 2395 $\n",
      "Number of parallel threads = 4 (omp_get_num_procs = 48).\n",
      "Loading lcp file for Farsite #1: /home/jovyan/farsite/inputs/landscapes/Maria2019.lcp\n",
      "Loading inputs file for Farsite #1: /home/jovyan/data/20230303/Run_00928/config\n",
      "Loading ignition file for Farsite #1: /home/jovyan/data/ignitions/Maria2019Ea117c8840685419ebc1946f1f30b0948.shp\n",
      "Loading barrier file for Farsite #1: /home/jovyan/farsite/inputs/barriers/NoBarrier/NoBarrier.shp\n",
      "Launching Farsite #1\n",
      "Starting time step 0.000000 (maximum = 18)\n",
      "Writing outputs for Farsite #1 to /home/jovyan/data/20230303/Run_00928/out\n",
      "Farsite $Rev: 2395 $\n",
      "Number of parallel threads = 4 (omp_get_num_procs = 48).\n",
      "Loading lcp file for Farsite #1: /home/jovyan/farsite/inputs/landscapes/Maria2019.lcp\n",
      "Loading inputs file for Farsite #1: /home/jovyan/data/20230303/Run_00929/config\n",
      "Loading ignition file for Farsite #1: /home/jovyan/data/ignitions/Maria2019Ed888f827e4f045c38f48fe12b260344b.shp\n",
      "Loading barrier file for Farsite #1: /home/jovyan/farsite/inputs/barriers/NoBarrier/NoBarrier.shp\n",
      "Launching Farsite #1\n",
      "Starting time step 0.000000 (maximum = 18)\n",
      "Writing outputs for Farsite #1 to /home/jovyan/data/20230303/Run_00929/out\n"
     ]
    },
    {
     "name": "stderr",
     "output_type": "stream",
     "text": [
      "/home/jovyan/farsite-devAPI/src/farsiteutils_v2.py:177: FutureWarning: The frame.append method is deprecated and will be removed from pandas in a future version. Use pandas.concat instead.\n",
      "  self.gdfsimulation = self.gdfsimulation.append(gdfappend)\n",
      "/home/jovyan/farsite-devAPI/src/farsiteutils_v2.py:177: FutureWarning: The frame.append method is deprecated and will be removed from pandas in a future version. Use pandas.concat instead.\n",
      "  self.gdfsimulation = self.gdfsimulation.append(gdfappend)\n"
     ]
    },
    {
     "name": "stdout",
     "output_type": "stream",
     "text": [
      "Farsite $Rev: 2395 $\n",
      "Number of parallel threads = 4 (omp_get_num_procs = 48).\n",
      "Loading lcp file for Farsite #1: /home/jovyan/farsite/inputs/landscapes/Maria2019.lcp\n",
      "Loading inputs file for Farsite #1: /home/jovyan/data/20230303/Run_00930/config\n",
      "Loading ignition file for Farsite #1: /home/jovyan/data/ignitions/Maria2019E2faf85090e90447bb13b90eaa325182f.shp\n",
      "Loading barrier file for Farsite #1: /home/jovyan/farsite/inputs/barriers/NoBarrier/NoBarrier.shp\n",
      "Launching Farsite #1\n",
      "Starting time step 0.000000 (maximum = 18)\n",
      "Writing outputs for Farsite #1 to /home/jovyan/data/20230303/Run_00930/out\n"
     ]
    },
    {
     "name": "stderr",
     "output_type": "stream",
     "text": [
      "/home/jovyan/farsite-devAPI/src/farsiteutils_v2.py:177: FutureWarning: The frame.append method is deprecated and will be removed from pandas in a future version. Use pandas.concat instead.\n",
      "  self.gdfsimulation = self.gdfsimulation.append(gdfappend)\n",
      "/home/jovyan/farsite-devAPI/src/farsiteutils_v2.py:177: FutureWarning: The frame.append method is deprecated and will be removed from pandas in a future version. Use pandas.concat instead.\n",
      "  self.gdfsimulation = self.gdfsimulation.append(gdfappend)\n"
     ]
    },
    {
     "name": "stdout",
     "output_type": "stream",
     "text": [
      "Farsite $Rev: 2395 $\n",
      "Number of parallel threads = 4 (omp_get_num_procs = 48).\n",
      "Loading lcp file for Farsite #1: /home/jovyan/farsite/inputs/landscapes/Maria2019.lcp\n",
      "Loading inputs file for Farsite #1: /home/jovyan/data/20230303/Run_00931/config\n",
      "Loading ignition file for Farsite #1: /home/jovyan/data/ignitions/Maria2019E6d5acadba4914c12a9f9fb449efadc6f.shp\n",
      "Loading barrier file for Farsite #1: /home/jovyan/farsite/inputs/barriers/NoBarrier/NoBarrier.shp\n",
      "Launching Farsite #1\n",
      "Starting time step 0.000000 (maximum = 18)\n",
      "Writing outputs for Farsite #1 to /home/jovyan/data/20230303/Run_00931/out\n",
      "Farsite $Rev: 2395 $\n",
      "Number of parallel threads = 4 (omp_get_num_procs = 48).\n",
      "Loading lcp file for Farsite #1: /home/jovyan/farsite/inputs/landscapes/Maria2019.lcp\n",
      "Loading inputs file for Farsite #1: /home/jovyan/data/20230303/Run_00932/config\n",
      "Loading ignition file for Farsite #1: /home/jovyan/data/ignitions/Maria2019E9e4438eaf73d44aa80bd66cea553dadf.shp\n",
      "Loading barrier file for Farsite #1: /home/jovyan/farsite/inputs/barriers/NoBarrier/NoBarrier.shp\n",
      "Launching Farsite #1\n",
      "Starting time step 0.000000 (maximum = 18)\n",
      "Writing outputs for Farsite #1 to /home/jovyan/data/20230303/Run_00932/out\n"
     ]
    },
    {
     "name": "stderr",
     "output_type": "stream",
     "text": [
      "/home/jovyan/farsite-devAPI/src/farsiteutils_v2.py:177: FutureWarning: The frame.append method is deprecated and will be removed from pandas in a future version. Use pandas.concat instead.\n",
      "  self.gdfsimulation = self.gdfsimulation.append(gdfappend)\n"
     ]
    },
    {
     "name": "stdout",
     "output_type": "stream",
     "text": [
      "Farsite $Rev: 2395 $\n",
      "Number of parallel threads = 4 (omp_get_num_procs = 48).\n",
      "Loading lcp file for Farsite #1: /home/jovyan/farsite/inputs/landscapes/Maria2019.lcp\n",
      "Loading inputs file for Farsite #1: /home/jovyan/data/20230303/Run_00933/config\n",
      "Loading ignition file for Farsite #1: /home/jovyan/data/ignitions/Maria2019Ebc81093baa454f12801d303084d38d97.shp\n",
      "Loading barrier file for Farsite #1: /home/jovyan/farsite/inputs/barriers/NoBarrier/NoBarrier.shp\n",
      "Launching Farsite #1\n",
      "Starting time step 0.000000 (maximum = 18)\n",
      "Writing outputs for Farsite #1 to /home/jovyan/data/20230303/Run_00933/out\n"
     ]
    },
    {
     "name": "stderr",
     "output_type": "stream",
     "text": [
      "/home/jovyan/farsite-devAPI/src/farsiteutils_v2.py:177: FutureWarning: The frame.append method is deprecated and will be removed from pandas in a future version. Use pandas.concat instead.\n",
      "  self.gdfsimulation = self.gdfsimulation.append(gdfappend)\n"
     ]
    },
    {
     "name": "stdout",
     "output_type": "stream",
     "text": [
      "Farsite $Rev: 2395 $\n",
      "Number of parallel threads = 4 (omp_get_num_procs = 48).\n",
      "Loading lcp file for Farsite #1: /home/jovyan/farsite/inputs/landscapes/Maria2019.lcp\n",
      "Loading inputs file for Farsite #1: /home/jovyan/data/20230303/Run_00934/config\n",
      "Loading ignition file for Farsite #1: /home/jovyan/data/ignitions/Maria2019Eda55c769b252418f8316078d8c72c23a.shp\n",
      "Loading barrier file for Farsite #1: /home/jovyan/farsite/inputs/barriers/NoBarrier/NoBarrier.shp\n",
      "Launching Farsite #1\n",
      "Starting time step 0.000000 (maximum = 18)\n",
      "Writing outputs for Farsite #1 to /home/jovyan/data/20230303/Run_00934/out\n"
     ]
    },
    {
     "name": "stderr",
     "output_type": "stream",
     "text": [
      "/home/jovyan/farsite-devAPI/src/farsiteutils_v2.py:177: FutureWarning: The frame.append method is deprecated and will be removed from pandas in a future version. Use pandas.concat instead.\n",
      "  self.gdfsimulation = self.gdfsimulation.append(gdfappend)\n"
     ]
    },
    {
     "name": "stdout",
     "output_type": "stream",
     "text": [
      "Farsite $Rev: 2395 $\n",
      "Number of parallel threads = 4 (omp_get_num_procs = 48).\n",
      "Loading lcp file for Farsite #1: /home/jovyan/farsite/inputs/landscapes/Maria2019.lcp\n",
      "Loading inputs file for Farsite #1: /home/jovyan/data/20230303/Run_00935/config\n",
      "Loading ignition file for Farsite #1: /home/jovyan/data/ignitions/Maria2019Ee04a6907542b430d9dd59f108be32d18.shp\n",
      "Loading barrier file for Farsite #1: /home/jovyan/farsite/inputs/barriers/NoBarrier/NoBarrier.shp\n",
      "Launching Farsite #1\n",
      "Starting time step 0.000000 (maximum = 18)\n",
      "Writing outputs for Farsite #1 to /home/jovyan/data/20230303/Run_00935/out\n",
      "Farsite $Rev: 2395 $\n",
      "Number of parallel threads = 4 (omp_get_num_procs = 48).\n",
      "Loading lcp file for Farsite #1: /home/jovyan/farsite/inputs/landscapes/Maria2019.lcp\n",
      "Loading inputs file for Farsite #1: /home/jovyan/data/20230303/Run_00936/config\n",
      "Loading ignition file for Farsite #1: /home/jovyan/data/ignitions/Maria2019E0d0dfc10248c45bd850ed1e2e64768af.shp\n",
      "Loading barrier file for Farsite #1: /home/jovyan/farsite/inputs/barriers/NoBarrier/NoBarrier.shp\n",
      "Launching Farsite #1\n",
      "Starting time step 0.000000 (maximum = 18)\n",
      "Writing outputs for Farsite #1 to /home/jovyan/data/20230303/Run_00936/out\n"
     ]
    },
    {
     "name": "stderr",
     "output_type": "stream",
     "text": [
      "/home/jovyan/farsite-devAPI/src/farsiteutils_v2.py:177: FutureWarning: The frame.append method is deprecated and will be removed from pandas in a future version. Use pandas.concat instead.\n",
      "  self.gdfsimulation = self.gdfsimulation.append(gdfappend)\n",
      "/home/jovyan/farsite-devAPI/src/farsiteutils_v2.py:177: FutureWarning: The frame.append method is deprecated and will be removed from pandas in a future version. Use pandas.concat instead.\n",
      "  self.gdfsimulation = self.gdfsimulation.append(gdfappend)\n"
     ]
    },
    {
     "name": "stdout",
     "output_type": "stream",
     "text": [
      "Farsite $Rev: 2395 $\n",
      "Number of parallel threads = 4 (omp_get_num_procs = 48).\n",
      "Loading lcp file for Farsite #1: /home/jovyan/farsite/inputs/landscapes/Maria2019.lcp\n",
      "Loading inputs file for Farsite #1: /home/jovyan/data/20230303/Run_00937/config\n",
      "Loading ignition file for Farsite #1: /home/jovyan/data/ignitions/Maria2019E7eb9872730af49a3bc1cce783e49908d.shp\n",
      "Loading barrier file for Farsite #1: /home/jovyan/farsite/inputs/barriers/NoBarrier/NoBarrier.shp\n",
      "Launching Farsite #1\n",
      "Starting time step 0.000000 (maximum = 18)\n",
      "Writing outputs for Farsite #1 to /home/jovyan/data/20230303/Run_00937/out\n"
     ]
    },
    {
     "name": "stderr",
     "output_type": "stream",
     "text": [
      "/home/jovyan/farsite-devAPI/src/farsiteutils_v2.py:177: FutureWarning: The frame.append method is deprecated and will be removed from pandas in a future version. Use pandas.concat instead.\n",
      "  self.gdfsimulation = self.gdfsimulation.append(gdfappend)\n"
     ]
    },
    {
     "name": "stdout",
     "output_type": "stream",
     "text": [
      "Farsite $Rev: 2395 $\n",
      "Number of parallel threads = 4 (omp_get_num_procs = 48).\n",
      "Loading lcp file for Farsite #1: /home/jovyan/farsite/inputs/landscapes/Maria2019.lcp\n",
      "Loading inputs file for Farsite #1: /home/jovyan/data/20230303/Run_00938/config\n",
      "Loading ignition file for Farsite #1: /home/jovyan/data/ignitions/Maria2019E625c9d7b516c4a30ab0bf3375755ab20.shp\n",
      "Loading barrier file for Farsite #1: /home/jovyan/farsite/inputs/barriers/NoBarrier/NoBarrier.shp\n",
      "Launching Farsite #1\n",
      "Starting time step 0.000000 (maximum = 18)\n",
      "Writing outputs for Farsite #1 to /home/jovyan/data/20230303/Run_00938/out\n",
      "Farsite $Rev: 2395 $\n",
      "Number of parallel threads = 4 (omp_get_num_procs = 48).\n",
      "Loading lcp file for Farsite #1: /home/jovyan/farsite/inputs/landscapes/Maria2019.lcp\n",
      "Loading inputs file for Farsite #1: /home/jovyan/data/20230303/Run_00939/config\n",
      "Loading ignition file for Farsite #1: /home/jovyan/data/ignitions/Maria2019E8dd0917e3cb541d6b4c1cf674bf9faef.shp\n",
      "Loading barrier file for Farsite #1: /home/jovyan/farsite/inputs/barriers/NoBarrier/NoBarrier.shp\n",
      "Launching Farsite #1\n",
      "Starting time step 0.000000 (maximum = 18)\n",
      "Writing outputs for Farsite #1 to /home/jovyan/data/20230303/Run_00939/out\n"
     ]
    },
    {
     "name": "stderr",
     "output_type": "stream",
     "text": [
      "/home/jovyan/farsite-devAPI/src/farsiteutils_v2.py:177: FutureWarning: The frame.append method is deprecated and will be removed from pandas in a future version. Use pandas.concat instead.\n",
      "  self.gdfsimulation = self.gdfsimulation.append(gdfappend)\n",
      "/home/jovyan/farsite-devAPI/src/farsiteutils_v2.py:177: FutureWarning: The frame.append method is deprecated and will be removed from pandas in a future version. Use pandas.concat instead.\n",
      "  self.gdfsimulation = self.gdfsimulation.append(gdfappend)\n"
     ]
    },
    {
     "name": "stdout",
     "output_type": "stream",
     "text": [
      "Farsite $Rev: 2395 $\n",
      "Number of parallel threads = 4 (omp_get_num_procs = 48).\n",
      "Loading lcp file for Farsite #1: /home/jovyan/farsite/inputs/landscapes/Maria2019.lcp\n",
      "Loading inputs file for Farsite #1: /home/jovyan/data/20230303/Run_00940/config\n",
      "Loading ignition file for Farsite #1: /home/jovyan/data/ignitions/Maria2019Ef85a25214eff4f15844aef9764ee9a63.shp\n",
      "Loading barrier file for Farsite #1: /home/jovyan/farsite/inputs/barriers/NoBarrier/NoBarrier.shp\n",
      "Launching Farsite #1\n",
      "Starting time step 0.000000 (maximum = 18)\n",
      "Writing outputs for Farsite #1 to /home/jovyan/data/20230303/Run_00940/out\n"
     ]
    },
    {
     "name": "stderr",
     "output_type": "stream",
     "text": [
      "/home/jovyan/farsite-devAPI/src/farsiteutils_v2.py:177: FutureWarning: The frame.append method is deprecated and will be removed from pandas in a future version. Use pandas.concat instead.\n",
      "  self.gdfsimulation = self.gdfsimulation.append(gdfappend)\n"
     ]
    },
    {
     "name": "stdout",
     "output_type": "stream",
     "text": [
      "Farsite $Rev: 2395 $\n",
      "Number of parallel threads = 4 (omp_get_num_procs = 48).\n",
      "Loading lcp file for Farsite #1: /home/jovyan/farsite/inputs/landscapes/Maria2019.lcp\n",
      "Loading inputs file for Farsite #1: /home/jovyan/data/20230303/Run_00941/config\n",
      "Loading ignition file for Farsite #1: /home/jovyan/data/ignitions/Maria2019E6386a5308c3a4867a6825e389a8b2df8.shp\n",
      "Loading barrier file for Farsite #1: /home/jovyan/farsite/inputs/barriers/NoBarrier/NoBarrier.shp\n",
      "Launching Farsite #1\n",
      "Starting time step 0.000000 (maximum = 18)\n",
      "Writing outputs for Farsite #1 to /home/jovyan/data/20230303/Run_00941/out\n"
     ]
    },
    {
     "name": "stderr",
     "output_type": "stream",
     "text": [
      "/home/jovyan/farsite-devAPI/src/farsiteutils_v2.py:177: FutureWarning: The frame.append method is deprecated and will be removed from pandas in a future version. Use pandas.concat instead.\n",
      "  self.gdfsimulation = self.gdfsimulation.append(gdfappend)\n"
     ]
    },
    {
     "name": "stdout",
     "output_type": "stream",
     "text": [
      "Farsite $Rev: 2395 $\n",
      "Number of parallel threads = 4 (omp_get_num_procs = 48).\n",
      "Loading lcp file for Farsite #1: /home/jovyan/farsite/inputs/landscapes/Maria2019.lcp\n",
      "Loading inputs file for Farsite #1: /home/jovyan/data/20230303/Run_00942/config\n",
      "Loading ignition file for Farsite #1: /home/jovyan/data/ignitions/Maria2019E530d7b95bfd04f2e8186e2656102b735.shp\n",
      "Loading barrier file for Farsite #1: /home/jovyan/farsite/inputs/barriers/NoBarrier/NoBarrier.shp\n",
      "Launching Farsite #1\n",
      "Starting time step 0.000000 (maximum = 18)\n",
      "Writing outputs for Farsite #1 to /home/jovyan/data/20230303/Run_00942/out\n"
     ]
    },
    {
     "name": "stderr",
     "output_type": "stream",
     "text": [
      "/home/jovyan/farsite-devAPI/src/farsiteutils_v2.py:177: FutureWarning: The frame.append method is deprecated and will be removed from pandas in a future version. Use pandas.concat instead.\n",
      "  self.gdfsimulation = self.gdfsimulation.append(gdfappend)\n",
      "/home/jovyan/farsite-devAPI/src/farsiteutils_v2.py:177: FutureWarning: The frame.append method is deprecated and will be removed from pandas in a future version. Use pandas.concat instead.\n",
      "  self.gdfsimulation = self.gdfsimulation.append(gdfappend)\n"
     ]
    },
    {
     "name": "stdout",
     "output_type": "stream",
     "text": [
      "Farsite $Rev: 2395 $\n",
      "Number of parallel threads = 4 (omp_get_num_procs = 48).\n",
      "Loading lcp file for Farsite #1: /home/jovyan/farsite/inputs/landscapes/Maria2019.lcp\n",
      "Loading inputs file for Farsite #1: /home/jovyan/data/20230303/Run_00943/config\n",
      "Loading ignition file for Farsite #1: /home/jovyan/data/ignitions/Maria2019E6cf9fb6997e2458c836ee4084d95a3ce.shp\n",
      "Loading barrier file for Farsite #1: /home/jovyan/farsite/inputs/barriers/NoBarrier/NoBarrier.shp\n",
      "Launching Farsite #1\n",
      "Starting time step 0.000000 (maximum = 18)\n",
      "Writing outputs for Farsite #1 to /home/jovyan/data/20230303/Run_00943/out\n",
      "Farsite $Rev: 2395 $\n",
      "Number of parallel threads = 4 (omp_get_num_procs = 48).\n",
      "Loading lcp file for Farsite #1: /home/jovyan/farsite/inputs/landscapes/Maria2019.lcp\n",
      "Loading inputs file for Farsite #1: /home/jovyan/data/20230303/Run_00944/config\n",
      "Loading ignition file for Farsite #1: /home/jovyan/data/ignitions/Maria2019Eeddc8be1c7f24e8a819f90421bd7b2bd.shp\n",
      "Loading barrier file for Farsite #1: /home/jovyan/farsite/inputs/barriers/NoBarrier/NoBarrier.shp\n",
      "Launching Farsite #1\n",
      "Starting time step 0.000000 (maximum = 18)\n",
      "Writing outputs for Farsite #1 to /home/jovyan/data/20230303/Run_00944/out\n"
     ]
    },
    {
     "name": "stderr",
     "output_type": "stream",
     "text": [
      "/home/jovyan/farsite-devAPI/src/farsiteutils_v2.py:177: FutureWarning: The frame.append method is deprecated and will be removed from pandas in a future version. Use pandas.concat instead.\n",
      "  self.gdfsimulation = self.gdfsimulation.append(gdfappend)\n"
     ]
    },
    {
     "name": "stdout",
     "output_type": "stream",
     "text": [
      "Farsite $Rev: 2395 $\n",
      "Number of parallel threads = 4 (omp_get_num_procs = 48).\n",
      "Loading lcp file for Farsite #1: /home/jovyan/farsite/inputs/landscapes/Maria2019.lcp\n",
      "Loading inputs file for Farsite #1: /home/jovyan/data/20230303/Run_00945/config\n",
      "Loading ignition file for Farsite #1: /home/jovyan/data/ignitions/Maria2019Ea7e72c69e3474de28ebffc78b57ef7bf.shp\n",
      "Loading barrier file for Farsite #1: /home/jovyan/farsite/inputs/barriers/NoBarrier/NoBarrier.shp\n",
      "Launching Farsite #1\n",
      "Starting time step 0.000000 (maximum = 18)\n",
      "Writing outputs for Farsite #1 to /home/jovyan/data/20230303/Run_00945/out\n"
     ]
    },
    {
     "name": "stderr",
     "output_type": "stream",
     "text": [
      "/home/jovyan/farsite-devAPI/src/farsiteutils_v2.py:177: FutureWarning: The frame.append method is deprecated and will be removed from pandas in a future version. Use pandas.concat instead.\n",
      "  self.gdfsimulation = self.gdfsimulation.append(gdfappend)\n"
     ]
    },
    {
     "name": "stdout",
     "output_type": "stream",
     "text": [
      "Farsite $Rev: 2395 $\n",
      "Number of parallel threads = 4 (omp_get_num_procs = 48).\n",
      "Loading lcp file for Farsite #1: /home/jovyan/farsite/inputs/landscapes/Maria2019.lcp\n",
      "Loading inputs file for Farsite #1: /home/jovyan/data/20230303/Run_00946/config\n",
      "Loading ignition file for Farsite #1: /home/jovyan/data/ignitions/Maria2019E7d3095d848a245da813249723d7919b1.shp\n",
      "Loading barrier file for Farsite #1: /home/jovyan/farsite/inputs/barriers/NoBarrier/NoBarrier.shp\n",
      "Launching Farsite #1\n",
      "Starting time step 0.000000 (maximum = 18)\n",
      "Writing outputs for Farsite #1 to /home/jovyan/data/20230303/Run_00946/out\n",
      "Farsite $Rev: 2395 $\n",
      "Number of parallel threads = 4 (omp_get_num_procs = 48).\n",
      "Loading lcp file for Farsite #1: /home/jovyan/farsite/inputs/landscapes/Maria2019.lcp\n",
      "Loading inputs file for Farsite #1: /home/jovyan/data/20230303/Run_00947/config\n",
      "Loading ignition file for Farsite #1: /home/jovyan/data/ignitions/Maria2019E4dee233b14f741afa722d4974de42711.shp\n",
      "Loading barrier file for Farsite #1: /home/jovyan/farsite/inputs/barriers/NoBarrier/NoBarrier.shp\n",
      "Launching Farsite #1\n",
      "Starting time step 0.000000 (maximum = 18)\n",
      "Writing outputs for Farsite #1 to /home/jovyan/data/20230303/Run_00947/out\n"
     ]
    },
    {
     "name": "stderr",
     "output_type": "stream",
     "text": [
      "/home/jovyan/farsite-devAPI/src/farsiteutils_v2.py:177: FutureWarning: The frame.append method is deprecated and will be removed from pandas in a future version. Use pandas.concat instead.\n",
      "  self.gdfsimulation = self.gdfsimulation.append(gdfappend)\n",
      "/home/jovyan/farsite-devAPI/src/farsiteutils_v2.py:177: FutureWarning: The frame.append method is deprecated and will be removed from pandas in a future version. Use pandas.concat instead.\n",
      "  self.gdfsimulation = self.gdfsimulation.append(gdfappend)\n"
     ]
    },
    {
     "name": "stdout",
     "output_type": "stream",
     "text": [
      "Farsite $Rev: 2395 $\n",
      "Number of parallel threads = 4 (omp_get_num_procs = 48).\n",
      "Loading lcp file for Farsite #1: /home/jovyan/farsite/inputs/landscapes/Maria2019.lcp\n",
      "Loading inputs file for Farsite #1: /home/jovyan/data/20230303/Run_00948/config\n",
      "Loading ignition file for Farsite #1: /home/jovyan/data/ignitions/Maria2019E3ce1107dbf674c4388360ec181b1ae66.shp\n",
      "Loading barrier file for Farsite #1: /home/jovyan/farsite/inputs/barriers/NoBarrier/NoBarrier.shp\n",
      "Launching Farsite #1\n",
      "Starting time step 0.000000 (maximum = 18)\n",
      "Writing outputs for Farsite #1 to /home/jovyan/data/20230303/Run_00948/out\n",
      "Farsite $Rev: 2395 $\n",
      "Number of parallel threads = 4 (omp_get_num_procs = 48).\n",
      "Loading lcp file for Farsite #1: /home/jovyan/farsite/inputs/landscapes/Maria2019.lcp\n",
      "Loading inputs file for Farsite #1: /home/jovyan/data/20230303/Run_00949/config\n",
      "Loading ignition file for Farsite #1: /home/jovyan/data/ignitions/Maria2019E140c1e24a6cb41748ff85ef49b76f8d1.shp\n",
      "Loading barrier file for Farsite #1: /home/jovyan/farsite/inputs/barriers/NoBarrier/NoBarrier.shp\n",
      "Launching Farsite #1\n",
      "Starting time step 0.000000 (maximum = 18)\n",
      "Writing outputs for Farsite #1 to /home/jovyan/data/20230303/Run_00949/out\n"
     ]
    },
    {
     "name": "stderr",
     "output_type": "stream",
     "text": [
      "/home/jovyan/farsite-devAPI/src/farsiteutils_v2.py:177: FutureWarning: The frame.append method is deprecated and will be removed from pandas in a future version. Use pandas.concat instead.\n",
      "  self.gdfsimulation = self.gdfsimulation.append(gdfappend)\n",
      "/home/jovyan/farsite-devAPI/src/farsiteutils_v2.py:177: FutureWarning: The frame.append method is deprecated and will be removed from pandas in a future version. Use pandas.concat instead.\n",
      "  self.gdfsimulation = self.gdfsimulation.append(gdfappend)\n"
     ]
    },
    {
     "name": "stdout",
     "output_type": "stream",
     "text": [
      "Farsite $Rev: 2395 $\n",
      "Number of parallel threads = 4 (omp_get_num_procs = 48).\n",
      "Loading lcp file for Farsite #1: /home/jovyan/farsite/inputs/landscapes/Maria2019.lcp\n",
      "Loading inputs file for Farsite #1: /home/jovyan/data/20230303/Run_00950/config\n",
      "Loading ignition file for Farsite #1: /home/jovyan/data/ignitions/Maria2019Ed21df6f58a25415a8ffad609dda6bd6c.shp\n",
      "Loading barrier file for Farsite #1: /home/jovyan/farsite/inputs/barriers/NoBarrier/NoBarrier.shp\n",
      "Launching Farsite #1\n",
      "Starting time step 0.000000 (maximum = 18)\n",
      "Writing outputs for Farsite #1 to /home/jovyan/data/20230303/Run_00950/out\n"
     ]
    },
    {
     "name": "stderr",
     "output_type": "stream",
     "text": [
      "/home/jovyan/farsite-devAPI/src/farsiteutils_v2.py:177: FutureWarning: The frame.append method is deprecated and will be removed from pandas in a future version. Use pandas.concat instead.\n",
      "  self.gdfsimulation = self.gdfsimulation.append(gdfappend)\n"
     ]
    },
    {
     "name": "stdout",
     "output_type": "stream",
     "text": [
      "Farsite $Rev: 2395 $\n",
      "Number of parallel threads = 4 (omp_get_num_procs = 48).\n",
      "Loading lcp file for Farsite #1: /home/jovyan/farsite/inputs/landscapes/Maria2019.lcp\n",
      "Loading inputs file for Farsite #1: /home/jovyan/data/20230303/Run_00951/config\n",
      "Loading ignition file for Farsite #1: /home/jovyan/data/ignitions/Maria2019Eb6f0f748bf104409a393e355a76e2bf8.shp\n",
      "Loading barrier file for Farsite #1: /home/jovyan/farsite/inputs/barriers/NoBarrier/NoBarrier.shp\n",
      "Launching Farsite #1\n",
      "Starting time step 0.000000 (maximum = 18)\n",
      "Writing outputs for Farsite #1 to /home/jovyan/data/20230303/Run_00951/out\n"
     ]
    },
    {
     "name": "stderr",
     "output_type": "stream",
     "text": [
      "/home/jovyan/farsite-devAPI/src/farsiteutils_v2.py:177: FutureWarning: The frame.append method is deprecated and will be removed from pandas in a future version. Use pandas.concat instead.\n",
      "  self.gdfsimulation = self.gdfsimulation.append(gdfappend)\n"
     ]
    },
    {
     "name": "stdout",
     "output_type": "stream",
     "text": [
      "Farsite $Rev: 2395 $\n",
      "Number of parallel threads = 4 (omp_get_num_procs = 48).\n",
      "Loading lcp file for Farsite #1: /home/jovyan/farsite/inputs/landscapes/Maria2019.lcp\n",
      "Loading inputs file for Farsite #1: /home/jovyan/data/20230303/Run_00952/config\n",
      "Loading ignition file for Farsite #1: /home/jovyan/data/ignitions/Maria2019E8e2820a0017048d9a808f793f51ce6c1.shp\n",
      "Loading barrier file for Farsite #1: /home/jovyan/farsite/inputs/barriers/NoBarrier/NoBarrier.shp\n",
      "Launching Farsite #1\n",
      "Starting time step 0.000000 (maximum = 18)\n",
      "Writing outputs for Farsite #1 to /home/jovyan/data/20230303/Run_00952/out\n"
     ]
    },
    {
     "name": "stderr",
     "output_type": "stream",
     "text": [
      "/home/jovyan/farsite-devAPI/src/farsiteutils_v2.py:177: FutureWarning: The frame.append method is deprecated and will be removed from pandas in a future version. Use pandas.concat instead.\n",
      "  self.gdfsimulation = self.gdfsimulation.append(gdfappend)\n"
     ]
    },
    {
     "name": "stdout",
     "output_type": "stream",
     "text": [
      "Farsite $Rev: 2395 $\n",
      "Number of parallel threads = 4 (omp_get_num_procs = 48).\n",
      "Loading lcp file for Farsite #1: /home/jovyan/farsite/inputs/landscapes/Maria2019.lcp\n",
      "Loading inputs file for Farsite #1: /home/jovyan/data/20230303/Run_00953/config\n",
      "Loading ignition file for Farsite #1: /home/jovyan/data/ignitions/Maria2019E6dc7ca6be32d49bfa765f60088c2f14c.shp\n",
      "Loading barrier file for Farsite #1: /home/jovyan/farsite/inputs/barriers/NoBarrier/NoBarrier.shp\n",
      "Launching Farsite #1\n",
      "Starting time step 0.000000 (maximum = 18)\n",
      "Writing outputs for Farsite #1 to /home/jovyan/data/20230303/Run_00953/out\n"
     ]
    },
    {
     "name": "stderr",
     "output_type": "stream",
     "text": [
      "/home/jovyan/farsite-devAPI/src/farsiteutils_v2.py:177: FutureWarning: The frame.append method is deprecated and will be removed from pandas in a future version. Use pandas.concat instead.\n",
      "  self.gdfsimulation = self.gdfsimulation.append(gdfappend)\n"
     ]
    },
    {
     "name": "stdout",
     "output_type": "stream",
     "text": [
      "Farsite $Rev: 2395 $\n",
      "Number of parallel threads = 4 (omp_get_num_procs = 48).\n",
      "Loading lcp file for Farsite #1: /home/jovyan/farsite/inputs/landscapes/Maria2019.lcp\n",
      "Loading inputs file for Farsite #1: /home/jovyan/data/20230303/Run_00954/config\n",
      "Loading ignition file for Farsite #1: /home/jovyan/data/ignitions/Maria2019Ecc37f786679740dbb60d10ff3cad1d98.shp\n",
      "Loading barrier file for Farsite #1: /home/jovyan/farsite/inputs/barriers/NoBarrier/NoBarrier.shp\n",
      "Launching Farsite #1\n",
      "Starting time step 0.000000 (maximum = 18)\n",
      "Writing outputs for Farsite #1 to /home/jovyan/data/20230303/Run_00954/out\n"
     ]
    },
    {
     "name": "stderr",
     "output_type": "stream",
     "text": [
      "/home/jovyan/farsite-devAPI/src/farsiteutils_v2.py:177: FutureWarning: The frame.append method is deprecated and will be removed from pandas in a future version. Use pandas.concat instead.\n",
      "  self.gdfsimulation = self.gdfsimulation.append(gdfappend)\n"
     ]
    },
    {
     "name": "stdout",
     "output_type": "stream",
     "text": [
      "Farsite $Rev: 2395 $\n",
      "Number of parallel threads = 4 (omp_get_num_procs = 48).\n",
      "Loading lcp file for Farsite #1: /home/jovyan/farsite/inputs/landscapes/Maria2019.lcp\n",
      "Loading inputs file for Farsite #1: /home/jovyan/data/20230303/Run_00955/config\n",
      "Loading ignition file for Farsite #1: /home/jovyan/data/ignitions/Maria2019Ebe2922ffcce14018b25cb404f1bb29f5.shp\n",
      "Loading barrier file for Farsite #1: /home/jovyan/farsite/inputs/barriers/NoBarrier/NoBarrier.shp\n",
      "Launching Farsite #1\n",
      "Starting time step 0.000000 (maximum = 18)\n",
      "Writing outputs for Farsite #1 to /home/jovyan/data/20230303/Run_00955/out\n"
     ]
    },
    {
     "name": "stderr",
     "output_type": "stream",
     "text": [
      "/home/jovyan/farsite-devAPI/src/farsiteutils_v2.py:177: FutureWarning: The frame.append method is deprecated and will be removed from pandas in a future version. Use pandas.concat instead.\n",
      "  self.gdfsimulation = self.gdfsimulation.append(gdfappend)\n"
     ]
    },
    {
     "name": "stdout",
     "output_type": "stream",
     "text": [
      "Farsite $Rev: 2395 $\n",
      "Number of parallel threads = 4 (omp_get_num_procs = 48).\n",
      "Loading lcp file for Farsite #1: /home/jovyan/farsite/inputs/landscapes/Maria2019.lcp\n",
      "Loading inputs file for Farsite #1: /home/jovyan/data/20230303/Run_00956/config\n",
      "Loading ignition file for Farsite #1: /home/jovyan/data/ignitions/Maria2019Efc71eeb896824fb089e8006b4474e28b.shp\n",
      "Loading barrier file for Farsite #1: /home/jovyan/farsite/inputs/barriers/NoBarrier/NoBarrier.shp\n",
      "Launching Farsite #1\n",
      "Starting time step 0.000000 (maximum = 18)\n",
      "Writing outputs for Farsite #1 to /home/jovyan/data/20230303/Run_00956/out\n"
     ]
    },
    {
     "name": "stderr",
     "output_type": "stream",
     "text": [
      "/home/jovyan/farsite-devAPI/src/farsiteutils_v2.py:177: FutureWarning: The frame.append method is deprecated and will be removed from pandas in a future version. Use pandas.concat instead.\n",
      "  self.gdfsimulation = self.gdfsimulation.append(gdfappend)\n"
     ]
    },
    {
     "name": "stdout",
     "output_type": "stream",
     "text": [
      "Farsite $Rev: 2395 $\n",
      "Number of parallel threads = 4 (omp_get_num_procs = 48).\n",
      "Loading lcp file for Farsite #1: /home/jovyan/farsite/inputs/landscapes/Maria2019.lcp\n",
      "Loading inputs file for Farsite #1: /home/jovyan/data/20230303/Run_00957/config\n",
      "Loading ignition file for Farsite #1: /home/jovyan/data/ignitions/Maria2019Ecf044c52f8e3434ba00c2e1bc1c5d278.shp\n",
      "Loading barrier file for Farsite #1: /home/jovyan/farsite/inputs/barriers/NoBarrier/NoBarrier.shp\n",
      "Launching Farsite #1\n",
      "Starting time step 0.000000 (maximum = 18)\n",
      "Writing outputs for Farsite #1 to /home/jovyan/data/20230303/Run_00957/out\n"
     ]
    },
    {
     "name": "stderr",
     "output_type": "stream",
     "text": [
      "/home/jovyan/farsite-devAPI/src/farsiteutils_v2.py:177: FutureWarning: The frame.append method is deprecated and will be removed from pandas in a future version. Use pandas.concat instead.\n",
      "  self.gdfsimulation = self.gdfsimulation.append(gdfappend)\n"
     ]
    },
    {
     "name": "stdout",
     "output_type": "stream",
     "text": [
      "Farsite $Rev: 2395 $\n",
      "Number of parallel threads = 4 (omp_get_num_procs = 48).\n",
      "Loading lcp file for Farsite #1: /home/jovyan/farsite/inputs/landscapes/Maria2019.lcp\n",
      "Loading inputs file for Farsite #1: /home/jovyan/data/20230303/Run_00958/config\n",
      "Loading ignition file for Farsite #1: /home/jovyan/data/ignitions/Maria2019Efe825040df334a16b2fd8fbf06da37f1.shp\n",
      "Loading barrier file for Farsite #1: /home/jovyan/farsite/inputs/barriers/NoBarrier/NoBarrier.shp\n",
      "Launching Farsite #1\n",
      "Starting time step 0.000000 (maximum = 18)\n",
      "Writing outputs for Farsite #1 to /home/jovyan/data/20230303/Run_00958/out\n"
     ]
    },
    {
     "name": "stderr",
     "output_type": "stream",
     "text": [
      "/home/jovyan/farsite-devAPI/src/farsiteutils_v2.py:177: FutureWarning: The frame.append method is deprecated and will be removed from pandas in a future version. Use pandas.concat instead.\n",
      "  self.gdfsimulation = self.gdfsimulation.append(gdfappend)\n"
     ]
    },
    {
     "name": "stdout",
     "output_type": "stream",
     "text": [
      "Farsite $Rev: 2395 $\n",
      "Number of parallel threads = 4 (omp_get_num_procs = 48).\n",
      "Loading lcp file for Farsite #1: /home/jovyan/farsite/inputs/landscapes/Maria2019.lcp\n",
      "Loading inputs file for Farsite #1: /home/jovyan/data/20230303/Run_00959/config\n",
      "Loading ignition file for Farsite #1: /home/jovyan/data/ignitions/Maria2019E8ae9126bd08f4955b9f984ba0789ec53.shp\n",
      "Loading barrier file for Farsite #1: /home/jovyan/farsite/inputs/barriers/NoBarrier/NoBarrier.shp\n",
      "Launching Farsite #1\n",
      "Starting time step 0.000000 (maximum = 18)\n",
      "Writing outputs for Farsite #1 to /home/jovyan/data/20230303/Run_00959/out\n"
     ]
    },
    {
     "name": "stderr",
     "output_type": "stream",
     "text": [
      "/home/jovyan/farsite-devAPI/src/farsiteutils_v2.py:177: FutureWarning: The frame.append method is deprecated and will be removed from pandas in a future version. Use pandas.concat instead.\n",
      "  self.gdfsimulation = self.gdfsimulation.append(gdfappend)\n"
     ]
    },
    {
     "name": "stdout",
     "output_type": "stream",
     "text": [
      "Farsite $Rev: 2395 $\n",
      "Number of parallel threads = 4 (omp_get_num_procs = 48).\n",
      "Loading lcp file for Farsite #1: /home/jovyan/farsite/inputs/landscapes/Maria2019.lcp\n",
      "Loading inputs file for Farsite #1: /home/jovyan/data/20230303/Run_00960/config\n",
      "Loading ignition file for Farsite #1: /home/jovyan/data/ignitions/Maria2019Ee265386b9c204140bb9b6e10076591ce.shp\n",
      "Loading barrier file for Farsite #1: /home/jovyan/farsite/inputs/barriers/NoBarrier/NoBarrier.shp\n",
      "Launching Farsite #1\n",
      "Starting time step 0.000000 (maximum = 18)\n",
      "Writing outputs for Farsite #1 to /home/jovyan/data/20230303/Run_00960/out\n"
     ]
    },
    {
     "name": "stderr",
     "output_type": "stream",
     "text": [
      "/home/jovyan/farsite-devAPI/src/farsiteutils_v2.py:177: FutureWarning: The frame.append method is deprecated and will be removed from pandas in a future version. Use pandas.concat instead.\n",
      "  self.gdfsimulation = self.gdfsimulation.append(gdfappend)\n"
     ]
    },
    {
     "name": "stdout",
     "output_type": "stream",
     "text": [
      "Farsite $Rev: 2395 $\n",
      "Number of parallel threads = 4 (omp_get_num_procs = 48).\n",
      "Loading lcp file for Farsite #1: /home/jovyan/farsite/inputs/landscapes/Maria2019.lcp\n",
      "Loading inputs file for Farsite #1: /home/jovyan/data/20230303/Run_00961/config\n",
      "Loading ignition file for Farsite #1: /home/jovyan/data/ignitions/Maria2019E908ab7787b1f4840b616610d627f41b4.shp\n",
      "Loading barrier file for Farsite #1: /home/jovyan/farsite/inputs/barriers/NoBarrier/NoBarrier.shp\n",
      "Launching Farsite #1\n",
      "Starting time step 0.000000 (maximum = 18)\n",
      "Writing outputs for Farsite #1 to /home/jovyan/data/20230303/Run_00961/out\n"
     ]
    },
    {
     "name": "stderr",
     "output_type": "stream",
     "text": [
      "/home/jovyan/farsite-devAPI/src/farsiteutils_v2.py:177: FutureWarning: The frame.append method is deprecated and will be removed from pandas in a future version. Use pandas.concat instead.\n",
      "  self.gdfsimulation = self.gdfsimulation.append(gdfappend)\n"
     ]
    },
    {
     "name": "stdout",
     "output_type": "stream",
     "text": [
      "Farsite $Rev: 2395 $\n",
      "Number of parallel threads = 4 (omp_get_num_procs = 48).\n",
      "Loading lcp file for Farsite #1: /home/jovyan/farsite/inputs/landscapes/Maria2019.lcp\n",
      "Loading inputs file for Farsite #1: /home/jovyan/data/20230303/Run_00962/config\n",
      "Loading ignition file for Farsite #1: /home/jovyan/data/ignitions/Maria2019Ed0b5f4b4678b4be2aef8241e81067f8b.shp\n",
      "Loading barrier file for Farsite #1: /home/jovyan/farsite/inputs/barriers/NoBarrier/NoBarrier.shp\n",
      "Launching Farsite #1\n",
      "Starting time step 0.000000 (maximum = 18)\n",
      "Writing outputs for Farsite #1 to /home/jovyan/data/20230303/Run_00962/out\n"
     ]
    },
    {
     "name": "stderr",
     "output_type": "stream",
     "text": [
      "/home/jovyan/farsite-devAPI/src/farsiteutils_v2.py:177: FutureWarning: The frame.append method is deprecated and will be removed from pandas in a future version. Use pandas.concat instead.\n",
      "  self.gdfsimulation = self.gdfsimulation.append(gdfappend)\n"
     ]
    },
    {
     "name": "stdout",
     "output_type": "stream",
     "text": [
      "Farsite $Rev: 2395 $\n",
      "Number of parallel threads = 4 (omp_get_num_procs = 48).\n",
      "Loading lcp file for Farsite #1: /home/jovyan/farsite/inputs/landscapes/Maria2019.lcp\n",
      "Loading inputs file for Farsite #1: /home/jovyan/data/20230303/Run_00963/config\n",
      "Loading ignition file for Farsite #1: /home/jovyan/data/ignitions/Maria2019E52031d33c5a64128b5157e22f63d14af.shp\n",
      "Loading barrier file for Farsite #1: /home/jovyan/farsite/inputs/barriers/NoBarrier/NoBarrier.shp\n",
      "Launching Farsite #1\n",
      "Starting time step 0.000000 (maximum = 18)\n",
      "Writing outputs for Farsite #1 to /home/jovyan/data/20230303/Run_00963/out\n",
      "Farsite $Rev: 2395 $\n",
      "Number of parallel threads = 4 (omp_get_num_procs = 48).\n",
      "Loading lcp file for Farsite #1: /home/jovyan/farsite/inputs/landscapes/Maria2019.lcp\n",
      "Loading inputs file for Farsite #1: /home/jovyan/data/20230303/Run_00964/config\n",
      "Loading ignition file for Farsite #1: /home/jovyan/data/ignitions/Maria2019Ed88be74656324a50b5bd1c93820537c8.shp\n",
      "Loading barrier file for Farsite #1: /home/jovyan/farsite/inputs/barriers/NoBarrier/NoBarrier.shp\n",
      "Launching Farsite #1\n",
      "Starting time step 0.000000 (maximum = 18)\n",
      "Writing outputs for Farsite #1 to /home/jovyan/data/20230303/Run_00964/out\n"
     ]
    },
    {
     "name": "stderr",
     "output_type": "stream",
     "text": [
      "/home/jovyan/farsite-devAPI/src/farsiteutils_v2.py:177: FutureWarning: The frame.append method is deprecated and will be removed from pandas in a future version. Use pandas.concat instead.\n",
      "  self.gdfsimulation = self.gdfsimulation.append(gdfappend)\n",
      "/home/jovyan/farsite-devAPI/src/farsiteutils_v2.py:177: FutureWarning: The frame.append method is deprecated and will be removed from pandas in a future version. Use pandas.concat instead.\n",
      "  self.gdfsimulation = self.gdfsimulation.append(gdfappend)\n"
     ]
    },
    {
     "name": "stdout",
     "output_type": "stream",
     "text": [
      "Farsite $Rev: 2395 $\n",
      "Number of parallel threads = 4 (omp_get_num_procs = 48).\n",
      "Loading lcp file for Farsite #1: /home/jovyan/farsite/inputs/landscapes/Maria2019.lcp\n",
      "Loading inputs file for Farsite #1: /home/jovyan/data/20230303/Run_00965/config\n",
      "Loading ignition file for Farsite #1: /home/jovyan/data/ignitions/Maria2019E0ed0176b4b6f43bab4515e065c6680f7.shp\n",
      "Loading barrier file for Farsite #1: /home/jovyan/farsite/inputs/barriers/NoBarrier/NoBarrier.shp\n",
      "Launching Farsite #1\n",
      "Starting time step 0.000000 (maximum = 18)\n",
      "Writing outputs for Farsite #1 to /home/jovyan/data/20230303/Run_00965/out\n"
     ]
    },
    {
     "name": "stderr",
     "output_type": "stream",
     "text": [
      "/home/jovyan/farsite-devAPI/src/farsiteutils_v2.py:177: FutureWarning: The frame.append method is deprecated and will be removed from pandas in a future version. Use pandas.concat instead.\n",
      "  self.gdfsimulation = self.gdfsimulation.append(gdfappend)\n"
     ]
    },
    {
     "name": "stdout",
     "output_type": "stream",
     "text": [
      "Farsite $Rev: 2395 $\n",
      "Number of parallel threads = 4 (omp_get_num_procs = 48).\n",
      "Loading lcp file for Farsite #1: /home/jovyan/farsite/inputs/landscapes/Maria2019.lcp\n",
      "Loading inputs file for Farsite #1: /home/jovyan/data/20230303/Run_00966/config\n",
      "Loading ignition file for Farsite #1: /home/jovyan/data/ignitions/Maria2019E5e474aa4524a4856a6e6d4703f5248c2.shp\n",
      "Loading barrier file for Farsite #1: /home/jovyan/farsite/inputs/barriers/NoBarrier/NoBarrier.shp\n",
      "Launching Farsite #1\n",
      "Starting time step 0.000000 (maximum = 18)\n",
      "Writing outputs for Farsite #1 to /home/jovyan/data/20230303/Run_00966/out\n"
     ]
    },
    {
     "name": "stderr",
     "output_type": "stream",
     "text": [
      "/home/jovyan/farsite-devAPI/src/farsiteutils_v2.py:177: FutureWarning: The frame.append method is deprecated and will be removed from pandas in a future version. Use pandas.concat instead.\n",
      "  self.gdfsimulation = self.gdfsimulation.append(gdfappend)\n"
     ]
    },
    {
     "name": "stdout",
     "output_type": "stream",
     "text": [
      "Farsite $Rev: 2395 $\n",
      "Number of parallel threads = 4 (omp_get_num_procs = 48).\n",
      "Loading lcp file for Farsite #1: /home/jovyan/farsite/inputs/landscapes/Maria2019.lcp\n",
      "Loading inputs file for Farsite #1: /home/jovyan/data/20230303/Run_00967/config\n",
      "Loading ignition file for Farsite #1: /home/jovyan/data/ignitions/Maria2019E66435d2d770941389d1a71d49246a37f.shp\n",
      "Loading barrier file for Farsite #1: /home/jovyan/farsite/inputs/barriers/NoBarrier/NoBarrier.shp\n",
      "Launching Farsite #1\n",
      "Starting time step 0.000000 (maximum = 18)\n",
      "Writing outputs for Farsite #1 to /home/jovyan/data/20230303/Run_00967/out\n"
     ]
    },
    {
     "name": "stderr",
     "output_type": "stream",
     "text": [
      "/home/jovyan/farsite-devAPI/src/farsiteutils_v2.py:177: FutureWarning: The frame.append method is deprecated and will be removed from pandas in a future version. Use pandas.concat instead.\n",
      "  self.gdfsimulation = self.gdfsimulation.append(gdfappend)\n"
     ]
    },
    {
     "name": "stdout",
     "output_type": "stream",
     "text": [
      "Farsite $Rev: 2395 $\n",
      "Number of parallel threads = 4 (omp_get_num_procs = 48).\n",
      "Loading lcp file for Farsite #1: /home/jovyan/farsite/inputs/landscapes/Maria2019.lcp\n",
      "Loading inputs file for Farsite #1: /home/jovyan/data/20230303/Run_00968/config\n",
      "Loading ignition file for Farsite #1: /home/jovyan/data/ignitions/Maria2019Ef2a32cd7132f44449aa937a6ff0db177.shp\n",
      "Loading barrier file for Farsite #1: /home/jovyan/farsite/inputs/barriers/NoBarrier/NoBarrier.shp\n",
      "Launching Farsite #1\n",
      "Starting time step 0.000000 (maximum = 18)\n",
      "Writing outputs for Farsite #1 to /home/jovyan/data/20230303/Run_00968/out\n"
     ]
    },
    {
     "name": "stderr",
     "output_type": "stream",
     "text": [
      "/home/jovyan/farsite-devAPI/src/farsiteutils_v2.py:177: FutureWarning: The frame.append method is deprecated and will be removed from pandas in a future version. Use pandas.concat instead.\n",
      "  self.gdfsimulation = self.gdfsimulation.append(gdfappend)\n"
     ]
    },
    {
     "name": "stdout",
     "output_type": "stream",
     "text": [
      "Farsite $Rev: 2395 $\n",
      "Number of parallel threads = 4 (omp_get_num_procs = 48).\n",
      "Loading lcp file for Farsite #1: /home/jovyan/farsite/inputs/landscapes/Maria2019.lcp\n",
      "Loading inputs file for Farsite #1: /home/jovyan/data/20230303/Run_00969/config\n",
      "Loading ignition file for Farsite #1: /home/jovyan/data/ignitions/Maria2019E40c12e6b00294aa5bcd4594d3a5abcf6.shp\n",
      "Loading barrier file for Farsite #1: /home/jovyan/farsite/inputs/barriers/NoBarrier/NoBarrier.shp\n",
      "Launching Farsite #1\n",
      "Starting time step 0.000000 (maximum = 18)\n",
      "Writing outputs for Farsite #1 to /home/jovyan/data/20230303/Run_00969/out\n"
     ]
    },
    {
     "name": "stderr",
     "output_type": "stream",
     "text": [
      "/home/jovyan/farsite-devAPI/src/farsiteutils_v2.py:177: FutureWarning: The frame.append method is deprecated and will be removed from pandas in a future version. Use pandas.concat instead.\n",
      "  self.gdfsimulation = self.gdfsimulation.append(gdfappend)\n"
     ]
    },
    {
     "name": "stdout",
     "output_type": "stream",
     "text": [
      "Farsite $Rev: 2395 $\n",
      "Number of parallel threads = 4 (omp_get_num_procs = 48).\n",
      "Loading lcp file for Farsite #1: /home/jovyan/farsite/inputs/landscapes/Maria2019.lcp\n",
      "Loading inputs file for Farsite #1: /home/jovyan/data/20230303/Run_00970/config\n",
      "Loading ignition file for Farsite #1: /home/jovyan/data/ignitions/Maria2019E78df544a074f4ddebc30a28ff85323a4.shp\n",
      "Loading barrier file for Farsite #1: /home/jovyan/farsite/inputs/barriers/NoBarrier/NoBarrier.shp\n",
      "Launching Farsite #1\n",
      "Starting time step 0.000000 (maximum = 18)\n",
      "Writing outputs for Farsite #1 to /home/jovyan/data/20230303/Run_00970/out\n",
      "Farsite $Rev: 2395 $\n",
      "Number of parallel threads = 4 (omp_get_num_procs = 48).\n",
      "Loading lcp file for Farsite #1: /home/jovyan/farsite/inputs/landscapes/Maria2019.lcp\n",
      "Loading inputs file for Farsite #1: /home/jovyan/data/20230303/Run_00971/config\n",
      "Loading ignition file for Farsite #1: /home/jovyan/data/ignitions/Maria2019E25ab5e377258422a9ffc8662f924cc7a.shp\n",
      "Loading barrier file for Farsite #1: /home/jovyan/farsite/inputs/barriers/NoBarrier/NoBarrier.shp\n",
      "Launching Farsite #1\n",
      "Starting time step 0.000000 (maximum = 18)\n",
      "Writing outputs for Farsite #1 to /home/jovyan/data/20230303/Run_00971/out\n"
     ]
    },
    {
     "name": "stderr",
     "output_type": "stream",
     "text": [
      "/home/jovyan/farsite-devAPI/src/farsiteutils_v2.py:177: FutureWarning: The frame.append method is deprecated and will be removed from pandas in a future version. Use pandas.concat instead.\n",
      "  self.gdfsimulation = self.gdfsimulation.append(gdfappend)\n",
      "/home/jovyan/farsite-devAPI/src/farsiteutils_v2.py:177: FutureWarning: The frame.append method is deprecated and will be removed from pandas in a future version. Use pandas.concat instead.\n",
      "  self.gdfsimulation = self.gdfsimulation.append(gdfappend)\n"
     ]
    },
    {
     "name": "stdout",
     "output_type": "stream",
     "text": [
      "Farsite $Rev: 2395 $\n",
      "Number of parallel threads = 4 (omp_get_num_procs = 48).\n",
      "Loading lcp file for Farsite #1: /home/jovyan/farsite/inputs/landscapes/Maria2019.lcp\n",
      "Loading inputs file for Farsite #1: /home/jovyan/data/20230303/Run_00972/config\n",
      "Loading ignition file for Farsite #1: /home/jovyan/data/ignitions/Maria2019E0546abaa12374a77bfeba156a89d4616.shp\n",
      "Loading barrier file for Farsite #1: /home/jovyan/farsite/inputs/barriers/NoBarrier/NoBarrier.shp\n",
      "Launching Farsite #1\n",
      "Starting time step 0.000000 (maximum = 18)\n",
      "Writing outputs for Farsite #1 to /home/jovyan/data/20230303/Run_00972/out\n"
     ]
    },
    {
     "name": "stderr",
     "output_type": "stream",
     "text": [
      "/home/jovyan/farsite-devAPI/src/farsiteutils_v2.py:177: FutureWarning: The frame.append method is deprecated and will be removed from pandas in a future version. Use pandas.concat instead.\n",
      "  self.gdfsimulation = self.gdfsimulation.append(gdfappend)\n"
     ]
    },
    {
     "name": "stdout",
     "output_type": "stream",
     "text": [
      "Farsite $Rev: 2395 $\n",
      "Number of parallel threads = 4 (omp_get_num_procs = 48).\n",
      "Loading lcp file for Farsite #1: /home/jovyan/farsite/inputs/landscapes/Maria2019.lcp\n",
      "Loading inputs file for Farsite #1: /home/jovyan/data/20230303/Run_00973/config\n",
      "Loading ignition file for Farsite #1: /home/jovyan/data/ignitions/Maria2019E3df481eb2ef244cfa92478df13e049a5.shp\n",
      "Loading barrier file for Farsite #1: /home/jovyan/farsite/inputs/barriers/NoBarrier/NoBarrier.shp\n",
      "Launching Farsite #1\n",
      "Starting time step 0.000000 (maximum = 18)\n",
      "Writing outputs for Farsite #1 to /home/jovyan/data/20230303/Run_00973/out\n"
     ]
    },
    {
     "name": "stderr",
     "output_type": "stream",
     "text": [
      "/home/jovyan/farsite-devAPI/src/farsiteutils_v2.py:177: FutureWarning: The frame.append method is deprecated and will be removed from pandas in a future version. Use pandas.concat instead.\n",
      "  self.gdfsimulation = self.gdfsimulation.append(gdfappend)\n"
     ]
    },
    {
     "name": "stdout",
     "output_type": "stream",
     "text": [
      "Farsite $Rev: 2395 $\n",
      "Number of parallel threads = 4 (omp_get_num_procs = 48).\n",
      "Loading lcp file for Farsite #1: /home/jovyan/farsite/inputs/landscapes/Maria2019.lcp\n",
      "Loading inputs file for Farsite #1: /home/jovyan/data/20230303/Run_00974/config\n",
      "Loading ignition file for Farsite #1: /home/jovyan/data/ignitions/Maria2019Eb600814667254c4fa449566ef6445fdd.shp\n",
      "Loading barrier file for Farsite #1: /home/jovyan/farsite/inputs/barriers/NoBarrier/NoBarrier.shp\n",
      "Launching Farsite #1\n",
      "Starting time step 0.000000 (maximum = 18)\n",
      "Writing outputs for Farsite #1 to /home/jovyan/data/20230303/Run_00974/out\n"
     ]
    },
    {
     "name": "stderr",
     "output_type": "stream",
     "text": [
      "/home/jovyan/farsite-devAPI/src/farsiteutils_v2.py:177: FutureWarning: The frame.append method is deprecated and will be removed from pandas in a future version. Use pandas.concat instead.\n",
      "  self.gdfsimulation = self.gdfsimulation.append(gdfappend)\n",
      "/home/jovyan/farsite-devAPI/src/farsiteutils_v2.py:177: FutureWarning: The frame.append method is deprecated and will be removed from pandas in a future version. Use pandas.concat instead.\n",
      "  self.gdfsimulation = self.gdfsimulation.append(gdfappend)\n"
     ]
    },
    {
     "name": "stdout",
     "output_type": "stream",
     "text": [
      "Farsite $Rev: 2395 $\n",
      "Number of parallel threads = 4 (omp_get_num_procs = 48).\n",
      "Loading lcp file for Farsite #1: /home/jovyan/farsite/inputs/landscapes/Maria2019.lcp\n",
      "Loading inputs file for Farsite #1: /home/jovyan/data/20230303/Run_00975/config\n",
      "Loading ignition file for Farsite #1: /home/jovyan/data/ignitions/Maria2019E240821e4b97a4e339c01059f9bec0340.shp\n",
      "Loading barrier file for Farsite #1: /home/jovyan/farsite/inputs/barriers/NoBarrier/NoBarrier.shp\n",
      "Launching Farsite #1\n",
      "Starting time step 0.000000 (maximum = 18)\n",
      "Writing outputs for Farsite #1 to /home/jovyan/data/20230303/Run_00975/out\n",
      "Farsite $Rev: 2395 $\n",
      "Number of parallel threads = 4 (omp_get_num_procs = 48).\n",
      "Loading lcp file for Farsite #1: /home/jovyan/farsite/inputs/landscapes/Maria2019.lcp\n",
      "Loading inputs file for Farsite #1: /home/jovyan/data/20230303/Run_00976/config\n",
      "Loading ignition file for Farsite #1: /home/jovyan/data/ignitions/Maria2019E65923fe974304bbe9d1904405b204985.shp\n",
      "Loading barrier file for Farsite #1: /home/jovyan/farsite/inputs/barriers/NoBarrier/NoBarrier.shp\n",
      "Launching Farsite #1\n",
      "Starting time step 0.000000 (maximum = 18)\n",
      "Writing outputs for Farsite #1 to /home/jovyan/data/20230303/Run_00976/out\n"
     ]
    },
    {
     "name": "stderr",
     "output_type": "stream",
     "text": [
      "/home/jovyan/farsite-devAPI/src/farsiteutils_v2.py:177: FutureWarning: The frame.append method is deprecated and will be removed from pandas in a future version. Use pandas.concat instead.\n",
      "  self.gdfsimulation = self.gdfsimulation.append(gdfappend)\n"
     ]
    },
    {
     "name": "stdout",
     "output_type": "stream",
     "text": [
      "Farsite $Rev: 2395 $\n",
      "Number of parallel threads = 4 (omp_get_num_procs = 48).\n",
      "Loading lcp file for Farsite #1: /home/jovyan/farsite/inputs/landscapes/Maria2019.lcp\n",
      "Loading inputs file for Farsite #1: /home/jovyan/data/20230303/Run_00977/config\n",
      "Loading ignition file for Farsite #1: /home/jovyan/data/ignitions/Maria2019Ebffe6d9580444e1baa5de77bce532ecb.shp\n",
      "Loading barrier file for Farsite #1: /home/jovyan/farsite/inputs/barriers/NoBarrier/NoBarrier.shp\n",
      "Launching Farsite #1\n",
      "Starting time step 0.000000 (maximum = 18)\n",
      "Writing outputs for Farsite #1 to /home/jovyan/data/20230303/Run_00977/out\n"
     ]
    },
    {
     "name": "stderr",
     "output_type": "stream",
     "text": [
      "/home/jovyan/farsite-devAPI/src/farsiteutils_v2.py:177: FutureWarning: The frame.append method is deprecated and will be removed from pandas in a future version. Use pandas.concat instead.\n",
      "  self.gdfsimulation = self.gdfsimulation.append(gdfappend)\n"
     ]
    },
    {
     "name": "stdout",
     "output_type": "stream",
     "text": [
      "Farsite $Rev: 2395 $\n",
      "Number of parallel threads = 4 (omp_get_num_procs = 48).\n",
      "Loading lcp file for Farsite #1: /home/jovyan/farsite/inputs/landscapes/Maria2019.lcp\n",
      "Loading inputs file for Farsite #1: /home/jovyan/data/20230303/Run_00978/config\n",
      "Loading ignition file for Farsite #1: /home/jovyan/data/ignitions/Maria2019E55ae4615e0e94e4f8a992182e831e114.shp\n",
      "Loading barrier file for Farsite #1: /home/jovyan/farsite/inputs/barriers/NoBarrier/NoBarrier.shp\n",
      "Launching Farsite #1\n",
      "Starting time step 0.000000 (maximum = 18)\n",
      "Writing outputs for Farsite #1 to /home/jovyan/data/20230303/Run_00978/out\n",
      "Farsite $Rev: 2395 $\n",
      "Number of parallel threads = 4 (omp_get_num_procs = 48).\n",
      "Loading lcp file for Farsite #1: /home/jovyan/farsite/inputs/landscapes/Maria2019.lcp\n",
      "Loading inputs file for Farsite #1: /home/jovyan/data/20230303/Run_00979/config\n",
      "Loading ignition file for Farsite #1: /home/jovyan/data/ignitions/Maria2019E286827b9429649218c9d7839a8685786.shp\n",
      "Loading barrier file for Farsite #1: /home/jovyan/farsite/inputs/barriers/NoBarrier/NoBarrier.shp\n",
      "Launching Farsite #1\n",
      "Starting time step 0.000000 (maximum = 18)\n",
      "Writing outputs for Farsite #1 to /home/jovyan/data/20230303/Run_00979/out\n"
     ]
    },
    {
     "name": "stderr",
     "output_type": "stream",
     "text": [
      "/home/jovyan/farsite-devAPI/src/farsiteutils_v2.py:177: FutureWarning: The frame.append method is deprecated and will be removed from pandas in a future version. Use pandas.concat instead.\n",
      "  self.gdfsimulation = self.gdfsimulation.append(gdfappend)\n",
      "/home/jovyan/farsite-devAPI/src/farsiteutils_v2.py:177: FutureWarning: The frame.append method is deprecated and will be removed from pandas in a future version. Use pandas.concat instead.\n",
      "  self.gdfsimulation = self.gdfsimulation.append(gdfappend)\n"
     ]
    },
    {
     "name": "stdout",
     "output_type": "stream",
     "text": [
      "Farsite $Rev: 2395 $\n",
      "Number of parallel threads = 4 (omp_get_num_procs = 48).\n",
      "Loading lcp file for Farsite #1: /home/jovyan/farsite/inputs/landscapes/Maria2019.lcp\n",
      "Loading inputs file for Farsite #1: /home/jovyan/data/20230303/Run_00980/config\n",
      "Loading ignition file for Farsite #1: /home/jovyan/data/ignitions/Maria2019E0695cbe933ec4c10b12019138cd76887.shp\n",
      "Loading barrier file for Farsite #1: /home/jovyan/farsite/inputs/barriers/NoBarrier/NoBarrier.shp\n",
      "Launching Farsite #1\n",
      "Starting time step 0.000000 (maximum = 18)\n",
      "Writing outputs for Farsite #1 to /home/jovyan/data/20230303/Run_00980/out\n"
     ]
    },
    {
     "name": "stderr",
     "output_type": "stream",
     "text": [
      "/home/jovyan/farsite-devAPI/src/farsiteutils_v2.py:177: FutureWarning: The frame.append method is deprecated and will be removed from pandas in a future version. Use pandas.concat instead.\n",
      "  self.gdfsimulation = self.gdfsimulation.append(gdfappend)\n"
     ]
    },
    {
     "name": "stdout",
     "output_type": "stream",
     "text": [
      "Farsite $Rev: 2395 $\n",
      "Number of parallel threads = 4 (omp_get_num_procs = 48).\n",
      "Loading lcp file for Farsite #1: /home/jovyan/farsite/inputs/landscapes/Maria2019.lcp\n",
      "Loading inputs file for Farsite #1: /home/jovyan/data/20230303/Run_00981/config\n",
      "Loading ignition file for Farsite #1: /home/jovyan/data/ignitions/Maria2019E19a5eebabf4c49b5a8735e5d1c5e6e4f.shp\n",
      "Loading barrier file for Farsite #1: /home/jovyan/farsite/inputs/barriers/NoBarrier/NoBarrier.shp\n",
      "Launching Farsite #1\n",
      "Starting time step 0.000000 (maximum = 18)\n",
      "Writing outputs for Farsite #1 to /home/jovyan/data/20230303/Run_00981/out\n",
      "Farsite $Rev: 2395 $\n",
      "Number of parallel threads = 4 (omp_get_num_procs = 48).\n",
      "Loading lcp file for Farsite #1: /home/jovyan/farsite/inputs/landscapes/Maria2019.lcp\n",
      "Loading inputs file for Farsite #1: /home/jovyan/data/20230303/Run_00982/config\n",
      "Loading ignition file for Farsite #1: /home/jovyan/data/ignitions/Maria2019E7ac09529e64d40259ea1aef66813e1c4.shp\n",
      "Loading barrier file for Farsite #1: /home/jovyan/farsite/inputs/barriers/NoBarrier/NoBarrier.shp\n",
      "Launching Farsite #1\n",
      "Starting time step 0.000000 (maximum = 18)\n",
      "Writing outputs for Farsite #1 to /home/jovyan/data/20230303/Run_00982/out\n"
     ]
    },
    {
     "name": "stderr",
     "output_type": "stream",
     "text": [
      "/home/jovyan/farsite-devAPI/src/farsiteutils_v2.py:177: FutureWarning: The frame.append method is deprecated and will be removed from pandas in a future version. Use pandas.concat instead.\n",
      "  self.gdfsimulation = self.gdfsimulation.append(gdfappend)\n",
      "/home/jovyan/farsite-devAPI/src/farsiteutils_v2.py:177: FutureWarning: The frame.append method is deprecated and will be removed from pandas in a future version. Use pandas.concat instead.\n",
      "  self.gdfsimulation = self.gdfsimulation.append(gdfappend)\n"
     ]
    },
    {
     "name": "stdout",
     "output_type": "stream",
     "text": [
      "Farsite $Rev: 2395 $\n",
      "Number of parallel threads = 4 (omp_get_num_procs = 48).\n",
      "Loading lcp file for Farsite #1: /home/jovyan/farsite/inputs/landscapes/Maria2019.lcp\n",
      "Loading inputs file for Farsite #1: /home/jovyan/data/20230303/Run_00983/config\n",
      "Loading ignition file for Farsite #1: /home/jovyan/data/ignitions/Maria2019E5387ce23b8624f408844fa8b0e7dd1bb.shp\n",
      "Loading barrier file for Farsite #1: /home/jovyan/farsite/inputs/barriers/NoBarrier/NoBarrier.shp\n",
      "Launching Farsite #1\n",
      "Starting time step 0.000000 (maximum = 18)\n",
      "Writing outputs for Farsite #1 to /home/jovyan/data/20230303/Run_00983/out\n"
     ]
    },
    {
     "name": "stderr",
     "output_type": "stream",
     "text": [
      "/home/jovyan/farsite-devAPI/src/farsiteutils_v2.py:177: FutureWarning: The frame.append method is deprecated and will be removed from pandas in a future version. Use pandas.concat instead.\n",
      "  self.gdfsimulation = self.gdfsimulation.append(gdfappend)\n"
     ]
    },
    {
     "name": "stdout",
     "output_type": "stream",
     "text": [
      "Farsite $Rev: 2395 $\n",
      "Number of parallel threads = 4 (omp_get_num_procs = 48).\n",
      "Loading lcp file for Farsite #1: /home/jovyan/farsite/inputs/landscapes/Maria2019.lcp\n",
      "Loading inputs file for Farsite #1: /home/jovyan/data/20230303/Run_00984/config\n",
      "Loading ignition file for Farsite #1: /home/jovyan/data/ignitions/Maria2019E5b64b26e61054c589f675b1271e0e563.shp\n",
      "Loading barrier file for Farsite #1: /home/jovyan/farsite/inputs/barriers/NoBarrier/NoBarrier.shp\n",
      "Launching Farsite #1\n",
      "Starting time step 0.000000 (maximum = 18)\n",
      "Writing outputs for Farsite #1 to /home/jovyan/data/20230303/Run_00984/out\n"
     ]
    },
    {
     "name": "stderr",
     "output_type": "stream",
     "text": [
      "/home/jovyan/farsite-devAPI/src/farsiteutils_v2.py:177: FutureWarning: The frame.append method is deprecated and will be removed from pandas in a future version. Use pandas.concat instead.\n",
      "  self.gdfsimulation = self.gdfsimulation.append(gdfappend)\n",
      "/home/jovyan/farsite-devAPI/src/farsiteutils_v2.py:177: FutureWarning: The frame.append method is deprecated and will be removed from pandas in a future version. Use pandas.concat instead.\n",
      "  self.gdfsimulation = self.gdfsimulation.append(gdfappend)\n"
     ]
    },
    {
     "name": "stdout",
     "output_type": "stream",
     "text": [
      "Farsite $Rev: 2395 $\n",
      "Number of parallel threads = 4 (omp_get_num_procs = 48).\n",
      "Loading lcp file for Farsite #1: /home/jovyan/farsite/inputs/landscapes/Maria2019.lcp\n",
      "Loading inputs file for Farsite #1: /home/jovyan/data/20230303/Run_00985/config\n",
      "Loading ignition file for Farsite #1: /home/jovyan/data/ignitions/Maria2019E7b83ab9746b444cba753b18c334509ed.shp\n",
      "Loading barrier file for Farsite #1: /home/jovyan/farsite/inputs/barriers/NoBarrier/NoBarrier.shp\n",
      "Launching Farsite #1\n",
      "Starting time step 0.000000 (maximum = 18)\n",
      "Writing outputs for Farsite #1 to /home/jovyan/data/20230303/Run_00985/out\n",
      "Farsite $Rev: 2395 $\n",
      "Number of parallel threads = 4 (omp_get_num_procs = 48).\n",
      "Loading lcp file for Farsite #1: /home/jovyan/farsite/inputs/landscapes/Maria2019.lcp\n",
      "Loading inputs file for Farsite #1: /home/jovyan/data/20230303/Run_00986/config\n",
      "Loading ignition file for Farsite #1: /home/jovyan/data/ignitions/Maria2019Ef6e0dc31df754de69cfe7c1e852e478c.shp\n",
      "Loading barrier file for Farsite #1: /home/jovyan/farsite/inputs/barriers/NoBarrier/NoBarrier.shp\n",
      "Launching Farsite #1\n",
      "Starting time step 0.000000 (maximum = 18)\n",
      "Writing outputs for Farsite #1 to /home/jovyan/data/20230303/Run_00986/out\n"
     ]
    },
    {
     "name": "stderr",
     "output_type": "stream",
     "text": [
      "/home/jovyan/farsite-devAPI/src/farsiteutils_v2.py:177: FutureWarning: The frame.append method is deprecated and will be removed from pandas in a future version. Use pandas.concat instead.\n",
      "  self.gdfsimulation = self.gdfsimulation.append(gdfappend)\n"
     ]
    },
    {
     "name": "stdout",
     "output_type": "stream",
     "text": [
      "Farsite $Rev: 2395 $\n",
      "Number of parallel threads = 4 (omp_get_num_procs = 48).\n",
      "Loading lcp file for Farsite #1: /home/jovyan/farsite/inputs/landscapes/Maria2019.lcp\n",
      "Loading inputs file for Farsite #1: /home/jovyan/data/20230303/Run_00987/config\n",
      "Loading ignition file for Farsite #1: /home/jovyan/data/ignitions/Maria2019E2dc00c21e8cc4fe38b4d0513ae392f58.shp\n",
      "Loading barrier file for Farsite #1: /home/jovyan/farsite/inputs/barriers/NoBarrier/NoBarrier.shp\n",
      "Launching Farsite #1\n",
      "Starting time step 0.000000 (maximum = 18)\n",
      "Writing outputs for Farsite #1 to /home/jovyan/data/20230303/Run_00987/out\n"
     ]
    },
    {
     "name": "stderr",
     "output_type": "stream",
     "text": [
      "/home/jovyan/farsite-devAPI/src/farsiteutils_v2.py:177: FutureWarning: The frame.append method is deprecated and will be removed from pandas in a future version. Use pandas.concat instead.\n",
      "  self.gdfsimulation = self.gdfsimulation.append(gdfappend)\n"
     ]
    },
    {
     "name": "stdout",
     "output_type": "stream",
     "text": [
      "Farsite $Rev: 2395 $\n",
      "Number of parallel threads = 4 (omp_get_num_procs = 48).\n",
      "Loading lcp file for Farsite #1: /home/jovyan/farsite/inputs/landscapes/Maria2019.lcp\n",
      "Loading inputs file for Farsite #1: /home/jovyan/data/20230303/Run_00988/config\n",
      "Loading ignition file for Farsite #1: /home/jovyan/data/ignitions/Maria2019E6e33edca4b63471294f2912e10d47e4b.shp\n",
      "Loading barrier file for Farsite #1: /home/jovyan/farsite/inputs/barriers/NoBarrier/NoBarrier.shp\n",
      "Launching Farsite #1\n",
      "Starting time step 0.000000 (maximum = 18)\n",
      "Writing outputs for Farsite #1 to /home/jovyan/data/20230303/Run_00988/out\n",
      "Farsite $Rev: 2395 $\n",
      "Number of parallel threads = 4 (omp_get_num_procs = 48).\n",
      "Loading lcp file for Farsite #1: /home/jovyan/farsite/inputs/landscapes/Maria2019.lcp\n",
      "Loading inputs file for Farsite #1: /home/jovyan/data/20230303/Run_00989/config\n",
      "Loading ignition file for Farsite #1: /home/jovyan/data/ignitions/Maria2019E6f092c9e4b9d4cdda9c6190905f8c6ce.shp\n",
      "Loading barrier file for Farsite #1: /home/jovyan/farsite/inputs/barriers/NoBarrier/NoBarrier.shp\n",
      "Launching Farsite #1\n",
      "Starting time step 0.000000 (maximum = 18)\n",
      "Writing outputs for Farsite #1 to /home/jovyan/data/20230303/Run_00989/out\n"
     ]
    },
    {
     "name": "stderr",
     "output_type": "stream",
     "text": [
      "/home/jovyan/farsite-devAPI/src/farsiteutils_v2.py:177: FutureWarning: The frame.append method is deprecated and will be removed from pandas in a future version. Use pandas.concat instead.\n",
      "  self.gdfsimulation = self.gdfsimulation.append(gdfappend)\n",
      "/home/jovyan/farsite-devAPI/src/farsiteutils_v2.py:177: FutureWarning: The frame.append method is deprecated and will be removed from pandas in a future version. Use pandas.concat instead.\n",
      "  self.gdfsimulation = self.gdfsimulation.append(gdfappend)\n"
     ]
    },
    {
     "name": "stdout",
     "output_type": "stream",
     "text": [
      "Farsite $Rev: 2395 $\n",
      "Number of parallel threads = 4 (omp_get_num_procs = 48).\n",
      "Loading lcp file for Farsite #1: /home/jovyan/farsite/inputs/landscapes/Maria2019.lcp\n",
      "Loading inputs file for Farsite #1: /home/jovyan/data/20230303/Run_00990/config\n",
      "Loading ignition file for Farsite #1: /home/jovyan/data/ignitions/Maria2019Eab8d391fe29c4a2383caf6b1f775d214.shp\n",
      "Loading barrier file for Farsite #1: /home/jovyan/farsite/inputs/barriers/NoBarrier/NoBarrier.shp\n",
      "Launching Farsite #1\n",
      "Starting time step 0.000000 (maximum = 18)\n",
      "Writing outputs for Farsite #1 to /home/jovyan/data/20230303/Run_00990/out\n",
      "Farsite $Rev: 2395 $\n",
      "Number of parallel threads = 4 (omp_get_num_procs = 48).\n",
      "Loading lcp file for Farsite #1: /home/jovyan/farsite/inputs/landscapes/Maria2019.lcp\n",
      "Loading inputs file for Farsite #1: /home/jovyan/data/20230303/Run_00991/config\n",
      "Loading ignition file for Farsite #1: /home/jovyan/data/ignitions/Maria2019Ed23046c5796b4dc385755e502ba106b5.shp\n",
      "Loading barrier file for Farsite #1: /home/jovyan/farsite/inputs/barriers/NoBarrier/NoBarrier.shp\n",
      "Launching Farsite #1\n",
      "Starting time step 0.000000 (maximum = 18)\n",
      "Writing outputs for Farsite #1 to /home/jovyan/data/20230303/Run_00991/out\n"
     ]
    },
    {
     "name": "stderr",
     "output_type": "stream",
     "text": [
      "/home/jovyan/farsite-devAPI/src/farsiteutils_v2.py:177: FutureWarning: The frame.append method is deprecated and will be removed from pandas in a future version. Use pandas.concat instead.\n",
      "  self.gdfsimulation = self.gdfsimulation.append(gdfappend)\n",
      "/home/jovyan/farsite-devAPI/src/farsiteutils_v2.py:177: FutureWarning: The frame.append method is deprecated and will be removed from pandas in a future version. Use pandas.concat instead.\n",
      "  self.gdfsimulation = self.gdfsimulation.append(gdfappend)\n"
     ]
    },
    {
     "name": "stdout",
     "output_type": "stream",
     "text": [
      "Farsite $Rev: 2395 $\n",
      "Number of parallel threads = 4 (omp_get_num_procs = 48).\n",
      "Loading lcp file for Farsite #1: /home/jovyan/farsite/inputs/landscapes/Maria2019.lcp\n",
      "Loading inputs file for Farsite #1: /home/jovyan/data/20230303/Run_00992/config\n",
      "Loading ignition file for Farsite #1: /home/jovyan/data/ignitions/Maria2019E689c79feb8f4421a9e7dc24f439de6ca.shp\n",
      "Loading barrier file for Farsite #1: /home/jovyan/farsite/inputs/barriers/NoBarrier/NoBarrier.shp\n",
      "Launching Farsite #1\n",
      "Starting time step 0.000000 (maximum = 18)\n",
      "Writing outputs for Farsite #1 to /home/jovyan/data/20230303/Run_00992/out\n"
     ]
    },
    {
     "name": "stderr",
     "output_type": "stream",
     "text": [
      "/home/jovyan/farsite-devAPI/src/farsiteutils_v2.py:177: FutureWarning: The frame.append method is deprecated and will be removed from pandas in a future version. Use pandas.concat instead.\n",
      "  self.gdfsimulation = self.gdfsimulation.append(gdfappend)\n"
     ]
    },
    {
     "name": "stdout",
     "output_type": "stream",
     "text": [
      "Farsite $Rev: 2395 $\n",
      "Number of parallel threads = 4 (omp_get_num_procs = 48).\n",
      "Loading lcp file for Farsite #1: /home/jovyan/farsite/inputs/landscapes/Maria2019.lcp\n",
      "Loading inputs file for Farsite #1: /home/jovyan/data/20230303/Run_00993/config\n",
      "Loading ignition file for Farsite #1: /home/jovyan/data/ignitions/Maria2019Ec2318476f52e4ce78712aa4c9c8bc969.shp\n",
      "Loading barrier file for Farsite #1: /home/jovyan/farsite/inputs/barriers/NoBarrier/NoBarrier.shp\n",
      "Launching Farsite #1\n",
      "Starting time step 0.000000 (maximum = 18)\n",
      "Writing outputs for Farsite #1 to /home/jovyan/data/20230303/Run_00993/out\n",
      "Farsite $Rev: 2395 $\n",
      "Number of parallel threads = 4 (omp_get_num_procs = 48).\n",
      "Loading lcp file for Farsite #1: /home/jovyan/farsite/inputs/landscapes/Maria2019.lcp\n",
      "Loading inputs file for Farsite #1: /home/jovyan/data/20230303/Run_00994/config\n",
      "Loading ignition file for Farsite #1: /home/jovyan/data/ignitions/Maria2019E1eff6fe499ac4e1ab8fcad6c3b54f569.shp\n",
      "Loading barrier file for Farsite #1: /home/jovyan/farsite/inputs/barriers/NoBarrier/NoBarrier.shp\n",
      "Launching Farsite #1\n",
      "Starting time step 0.000000 (maximum = 18)\n",
      "Writing outputs for Farsite #1 to /home/jovyan/data/20230303/Run_00994/out\n"
     ]
    },
    {
     "name": "stderr",
     "output_type": "stream",
     "text": [
      "/home/jovyan/farsite-devAPI/src/farsiteutils_v2.py:177: FutureWarning: The frame.append method is deprecated and will be removed from pandas in a future version. Use pandas.concat instead.\n",
      "  self.gdfsimulation = self.gdfsimulation.append(gdfappend)\n",
      "/home/jovyan/farsite-devAPI/src/farsiteutils_v2.py:177: FutureWarning: The frame.append method is deprecated and will be removed from pandas in a future version. Use pandas.concat instead.\n",
      "  self.gdfsimulation = self.gdfsimulation.append(gdfappend)\n"
     ]
    },
    {
     "name": "stdout",
     "output_type": "stream",
     "text": [
      "Farsite $Rev: 2395 $\n",
      "Number of parallel threads = 4 (omp_get_num_procs = 48).\n",
      "Loading lcp file for Farsite #1: /home/jovyan/farsite/inputs/landscapes/Maria2019.lcp\n",
      "Loading inputs file for Farsite #1: /home/jovyan/data/20230303/Run_00995/config\n",
      "Loading ignition file for Farsite #1: /home/jovyan/data/ignitions/Maria2019E7c0578def77c46df84c25ec1d3e1db12.shp\n",
      "Loading barrier file for Farsite #1: /home/jovyan/farsite/inputs/barriers/NoBarrier/NoBarrier.shp\n",
      "Launching Farsite #1\n",
      "Starting time step 0.000000 (maximum = 18)\n",
      "Writing outputs for Farsite #1 to /home/jovyan/data/20230303/Run_00995/out\n"
     ]
    },
    {
     "name": "stderr",
     "output_type": "stream",
     "text": [
      "/home/jovyan/farsite-devAPI/src/farsiteutils_v2.py:177: FutureWarning: The frame.append method is deprecated and will be removed from pandas in a future version. Use pandas.concat instead.\n",
      "  self.gdfsimulation = self.gdfsimulation.append(gdfappend)\n"
     ]
    },
    {
     "name": "stdout",
     "output_type": "stream",
     "text": [
      "Farsite $Rev: 2395 $\n",
      "Number of parallel threads = 4 (omp_get_num_procs = 48).\n",
      "Loading lcp file for Farsite #1: /home/jovyan/farsite/inputs/landscapes/Maria2019.lcp\n",
      "Loading inputs file for Farsite #1: /home/jovyan/data/20230303/Run_00996/config\n",
      "Loading ignition file for Farsite #1: /home/jovyan/data/ignitions/Maria2019Ed749856ab54242898e60d2f8fcb3a41b.shp\n",
      "Loading barrier file for Farsite #1: /home/jovyan/farsite/inputs/barriers/NoBarrier/NoBarrier.shp\n",
      "Launching Farsite #1\n",
      "Starting time step 0.000000 (maximum = 18)\n",
      "Writing outputs for Farsite #1 to /home/jovyan/data/20230303/Run_00996/out\n"
     ]
    },
    {
     "name": "stderr",
     "output_type": "stream",
     "text": [
      "/home/jovyan/farsite-devAPI/src/farsiteutils_v2.py:177: FutureWarning: The frame.append method is deprecated and will be removed from pandas in a future version. Use pandas.concat instead.\n",
      "  self.gdfsimulation = self.gdfsimulation.append(gdfappend)\n"
     ]
    },
    {
     "name": "stdout",
     "output_type": "stream",
     "text": [
      "Farsite $Rev: 2395 $\n",
      "Number of parallel threads = 4 (omp_get_num_procs = 48).\n",
      "Loading lcp file for Farsite #1: /home/jovyan/farsite/inputs/landscapes/Maria2019.lcp\n",
      "Loading inputs file for Farsite #1: /home/jovyan/data/20230303/Run_00997/config\n",
      "Loading ignition file for Farsite #1: /home/jovyan/data/ignitions/Maria2019Ec54f2afda55d4238891475d646304a80.shp\n",
      "Loading barrier file for Farsite #1: /home/jovyan/farsite/inputs/barriers/NoBarrier/NoBarrier.shp\n",
      "Launching Farsite #1\n",
      "Starting time step 0.000000 (maximum = 18)\n",
      "Writing outputs for Farsite #1 to /home/jovyan/data/20230303/Run_00997/out\n",
      "Farsite $Rev: 2395 $\n",
      "Number of parallel threads = 4 (omp_get_num_procs = 48).\n",
      "Loading lcp file for Farsite #1: /home/jovyan/farsite/inputs/landscapes/Maria2019.lcp\n",
      "Loading inputs file for Farsite #1: /home/jovyan/data/20230303/Run_00998/config\n",
      "Loading ignition file for Farsite #1: /home/jovyan/data/ignitions/Maria2019E082fdc5c156f45e5934434a721cb0dce.shp\n",
      "Loading barrier file for Farsite #1: /home/jovyan/farsite/inputs/barriers/NoBarrier/NoBarrier.shp\n",
      "Launching Farsite #1\n",
      "Starting time step 0.000000 (maximum = 18)\n",
      "Writing outputs for Farsite #1 to /home/jovyan/data/20230303/Run_00998/out\n"
     ]
    },
    {
     "name": "stderr",
     "output_type": "stream",
     "text": [
      "/home/jovyan/farsite-devAPI/src/farsiteutils_v2.py:177: FutureWarning: The frame.append method is deprecated and will be removed from pandas in a future version. Use pandas.concat instead.\n",
      "  self.gdfsimulation = self.gdfsimulation.append(gdfappend)\n",
      "/home/jovyan/farsite-devAPI/src/farsiteutils_v2.py:177: FutureWarning: The frame.append method is deprecated and will be removed from pandas in a future version. Use pandas.concat instead.\n",
      "  self.gdfsimulation = self.gdfsimulation.append(gdfappend)\n"
     ]
    },
    {
     "name": "stdout",
     "output_type": "stream",
     "text": [
      "Farsite $Rev: 2395 $\n",
      "Number of parallel threads = 4 (omp_get_num_procs = 48).\n",
      "Loading lcp file for Farsite #1: /home/jovyan/farsite/inputs/landscapes/Maria2019.lcp\n",
      "Loading inputs file for Farsite #1: /home/jovyan/data/20230303/Run_00999/config\n",
      "Loading ignition file for Farsite #1: /home/jovyan/data/ignitions/Maria2019E219bf3a703364551bf520926e07e47d4.shp\n",
      "Loading barrier file for Farsite #1: /home/jovyan/farsite/inputs/barriers/NoBarrier/NoBarrier.shp\n",
      "Launching Farsite #1\n",
      "Starting time step 0.000000 (maximum = 18)\n",
      "Writing outputs for Farsite #1 to /home/jovyan/data/20230303/Run_00999/out\n"
     ]
    },
    {
     "name": "stderr",
     "output_type": "stream",
     "text": [
      "/home/jovyan/farsite-devAPI/src/farsiteutils_v2.py:177: FutureWarning: The frame.append method is deprecated and will be removed from pandas in a future version. Use pandas.concat instead.\n",
      "  self.gdfsimulation = self.gdfsimulation.append(gdfappend)\n"
     ]
    },
    {
     "name": "stdout",
     "output_type": "stream",
     "text": [
      "Farsite $Rev: 2395 $\n",
      "Number of parallel threads = 4 (omp_get_num_procs = 48).\n",
      "Loading lcp file for Farsite #1: /home/jovyan/farsite/inputs/landscapes/Maria2019.lcp\n",
      "Loading inputs file for Farsite #1: /home/jovyan/data/20230303/Run_01000/config\n",
      "Loading ignition file for Farsite #1: /home/jovyan/data/ignitions/Maria2019E59f75568641a456bb7a1bcd1e71890b4.shp\n",
      "Loading barrier file for Farsite #1: /home/jovyan/farsite/inputs/barriers/NoBarrier/NoBarrier.shp\n",
      "Launching Farsite #1\n",
      "Starting time step 0.000000 (maximum = 18)\n",
      "Writing outputs for Farsite #1 to /home/jovyan/data/20230303/Run_01000/out\n"
     ]
    },
    {
     "name": "stderr",
     "output_type": "stream",
     "text": [
      "/home/jovyan/farsite-devAPI/src/farsiteutils_v2.py:177: FutureWarning: The frame.append method is deprecated and will be removed from pandas in a future version. Use pandas.concat instead.\n",
      "  self.gdfsimulation = self.gdfsimulation.append(gdfappend)\n"
     ]
    },
    {
     "name": "stdout",
     "output_type": "stream",
     "text": [
      "Farsite $Rev: 2395 $\n",
      "Number of parallel threads = 4 (omp_get_num_procs = 48).\n",
      "Loading lcp file for Farsite #1: /home/jovyan/farsite/inputs/landscapes/Maria2019.lcp\n",
      "Loading inputs file for Farsite #1: /home/jovyan/data/20230303/Run_01001/config\n",
      "Loading ignition file for Farsite #1: /home/jovyan/data/ignitions/Maria2019E8aa6498a4d564a6e903ef4358b289aab.shp\n",
      "Loading barrier file for Farsite #1: /home/jovyan/farsite/inputs/barriers/NoBarrier/NoBarrier.shp\n",
      "Launching Farsite #1\n",
      "Starting time step 0.000000 (maximum = 18)\n",
      "Writing outputs for Farsite #1 to /home/jovyan/data/20230303/Run_01001/out\n",
      "Calculating 46/249 ( 18.47%) - Remaining - 0:0:0...   \r"
     ]
    },
    {
     "name": "stderr",
     "output_type": "stream",
     "text": [
      "/home/jovyan/farsite-devAPI/src/farsiteutils_v2.py:177: FutureWarning: The frame.append method is deprecated and will be removed from pandas in a future version. Use pandas.concat instead.\n",
      "  self.gdfsimulation = self.gdfsimulation.append(gdfappend)\n"
     ]
    },
    {
     "name": "stdout",
     "output_type": "stream",
     "text": [
      "{'description': 'Maria2019', 'igniteidx': 'f23196b034474744bdca7df94b13e0f7', 'compareidx': '51fdaebe31f44ad69272779a3f01182d', 'lcpidx': '43b7f5db36994599861eec4849cc68fd', 'barrieridx': 'cb47616cd2dc4ccc8fd523bd3a5064bb', 'windspeed': 10, 'winddirection': 60, 'relhumid': 90, 'temperature': 20}\n",
      "Choosing a perimeter from the database\n",
      "Farsite $Rev: 2395 $\n",
      "Number of parallel threads = 4 (omp_get_num_procs = 48).\n",
      "Loading lcp file for Farsite #1: /home/jovyan/farsite/inputs/landscapes/Maria2019.lcp\n",
      "Loading inputs file for Farsite #1: /home/jovyan/data/20230303/Run_01002/config\n",
      "Loading ignition file for Farsite #1: /home/jovyan/farsite/inputs/maria_ignite/maria_21231.shp\n",
      "Loading barrier file for Farsite #1: /home/jovyan/farsite/inputs/barriers/NoBarrier/NoBarrier.shp\n",
      "Launching Farsite #1\n",
      "Starting time step 0.000000 (maximum = 18)\n",
      "Writing outputs for Farsite #1 to /home/jovyan/data/20230303/Run_01002/out\n"
     ]
    },
    {
     "name": "stderr",
     "output_type": "stream",
     "text": [
      "/home/jovyan/farsite-devAPI/src/farsiteutils_v2.py:177: FutureWarning: The frame.append method is deprecated and will be removed from pandas in a future version. Use pandas.concat instead.\n",
      "  self.gdfsimulation = self.gdfsimulation.append(gdfappend)\n"
     ]
    }
   ],
   "source": [
    "## obtain the igniteidx of the ignition\n",
    "## The indices will be passed from the interface, which will include corresponding datetime, filepath etc.\n",
    "lcpidx = '43b7f5db36994599861eec4849cc68fd'        # Index for Maria2019\n",
    "barrieridx = 'cb47616cd2dc4ccc8fd523bd3a5064bb'    # NoBarrier shapefile index\n",
    "\n",
    "# observation = usr.db.gdfignition.iloc[1]\n",
    "observation = usr.db.gdfignition.loc[referenceidx_lst[1]]\n",
    "compareidx = observation.name    # t=1 observation\n",
    "\n",
    "state.update(compareidx, lcpidx, barrieridx, observation, windspeed, winddirection)\n",
    "X_0_lst.append(state.X_0)\n",
    "\n",
    "calculate_model(igniteidx_lst, compareidx, lcpidx, barrieridx, windspeed, winddirection, usr_model)"
   ]
  },
  {
   "cell_type": "code",
   "execution_count": null,
   "id": "e82e5dad-ee9e-42b3-86ef-0cfe539fa180",
   "metadata": {},
   "outputs": [],
   "source": []
  },
  {
   "cell_type": "markdown",
   "id": "665f5b5d-1baf-45da-aa95-558b24de85ac",
   "metadata": {},
   "source": [
    "### Fixing the invalid geometries"
   ]
  },
  {
   "cell_type": "code",
   "execution_count": null,
   "id": "247d7f3c-284a-4eae-a787-2290b1e6b26f",
   "metadata": {},
   "outputs": [],
   "source": [
    "X_0 = X_0_lst[1][:,0]\n",
    "x = X_0[::2]\n",
    "y = X_0[1::2]\n",
    "geom = Polygon(zip(x,y)).buffer(0)\n",
    "if isinstance(geom, MultiPolygon):\n",
    "    geom = calculate_max_area_geom(geom)\n",
    "geom"
   ]
  },
  {
   "cell_type": "code",
   "execution_count": null,
   "id": "7c22a8d2-b678-47ef-ae05-654efbf36131",
   "metadata": {},
   "outputs": [],
   "source": [
    "X_0_lst[1].shape[1]"
   ]
  },
  {
   "cell_type": "code",
   "execution_count": null,
   "id": "e2fe9295-757f-4058-b056-88ac8f6cf9ca",
   "metadata": {
    "tags": []
   },
   "outputs": [],
   "source": [
    "\n",
    "# i = 25\n",
    "# plt.plot(geom0[:,0], geom0[:,1], 'r-')\n",
    "# plt.plot(geom0[i,0], geom0[i,1], 'ro')\n",
    "# plt.plot(geom1[:,0], geom1[:,1], 'k-')\n",
    "# plt.plot(geom1[i,0], geom1[i,1], 'ko')"
   ]
  },
  {
   "cell_type": "code",
   "execution_count": null,
   "id": "3525bb4a-52ca-4e57-a1ad-84847fb81881",
   "metadata": {},
   "outputs": [],
   "source": [
    "interpolated_vertices = [geom0, geom1]"
   ]
  },
  {
   "cell_type": "code",
   "execution_count": null,
   "id": "a3ff6218-3487-4eda-9586-e203345d3893",
   "metadata": {},
   "outputs": [],
   "source": [
    "time_estimator = TimeEstimator(len(interpolated_vertices)-1)\n",
    "\n",
    "minroll_lst = []\n",
    "\n",
    "aligned_vertices = [interpolated_vertices[0]]\n",
    "for i in range(len(interpolated_vertices)-1):\n",
    "    print(time_estimator.info_str(i), end='\\r', flush=True)\n",
    "\n",
    "    right_vertices = interpolated_vertices[i+1]\n",
    "\n",
    "\n",
    "    # Cycle right_vertices\n",
    "    l2perroll = []\n",
    "    for roll in range(len(interpolated_vertices[i])-1):\n",
    "        diff = aligned_vertices[0] - right_vertices\n",
    "        diff2sum = (diff[:,0]**2 + diff[:,1]**2).sum()\n",
    "\n",
    "        # Calculate diff^2 in\n",
    "        l2perroll.append(diff2sum)\n",
    "\n",
    "        right_vertices = np.roll(right_vertices,1, axis=0)\n",
    "\n",
    "    minroll_lst.append(np.argmin(l2perroll))\n",
    "\n",
    "for i in range(len(interpolated_vertices)-1):\n",
    "    aligned_vertices.append(np.roll(interpolated_vertices[i+1], minroll_lst[i], axis=0))\n",
    "\n",
    "# return aligned_vertices"
   ]
  },
  {
   "cell_type": "code",
   "execution_count": null,
   "id": "58d24b46-cae1-4006-b5a5-eefd768c78c6",
   "metadata": {},
   "outputs": [],
   "source": []
  },
  {
   "cell_type": "code",
   "execution_count": null,
   "id": "4744c1eb-9ca2-402a-a4aa-1d146ae58296",
   "metadata": {},
   "outputs": [],
   "source": [
    "geom0, geom1 = aligned_vertices\n",
    "i = 0\n",
    "plt.plot(geom0[:,0], geom0[:,1], 'r-')\n",
    "plt.plot(geom0[i,0], geom0[i,1], 'ro')\n",
    "plt.plot(geom1[:,0], geom1[:,1], 'k-')\n",
    "plt.plot(geom1[i,0], geom1[i,1], 'ko')"
   ]
  },
  {
   "cell_type": "markdown",
   "id": "cf45e53b-221c-4867-8efa-99c0e2ddd6df",
   "metadata": {},
   "source": [
    "#### Fixing is done"
   ]
  },
  {
   "cell_type": "code",
   "execution_count": 15,
   "id": "b6aa093c-e164-42e7-9c65-e4acbeebeb38",
   "metadata": {},
   "outputs": [
    {
     "data": {
      "text/plain": [
       "(200, 250)"
      ]
     },
     "execution_count": 15,
     "metadata": {},
     "output_type": "execute_result"
    }
   ],
   "source": [
    "X_0_lst[1].shape"
   ]
  },
  {
   "cell_type": "code",
   "execution_count": null,
   "id": "0d35b9d6-787b-4330-acab-e4a566f1bf15",
   "metadata": {},
   "outputs": [],
   "source": []
  },
  {
   "cell_type": "code",
   "execution_count": 17,
   "id": "a9bddda3-cf64-4fb4-aeeb-7fbcdc46eda7",
   "metadata": {},
   "outputs": [
    {
     "data": {
      "text/plain": [
       "[<matplotlib.lines.Line2D at 0x7f90502a9240>]"
      ]
     },
     "execution_count": 17,
     "metadata": {},
     "output_type": "execute_result"
    },
    {
     "data": {
      "image/png": "[encoded data removed]",
      "text/plain": [
       "<Figure size 640x480 with 1 Axes>"
      ]
     },
     "metadata": {},
     "output_type": "display_data"
    }
   ],
   "source": [
    "# fig, ax = plt.subplots(1,1, figsize=(4,4), dpi=200)\n",
    "# plot_matrix(X_0_lst[0], ax=ax, color='red', show_stdev=True)\n",
    "# ax.set_aspect('equal')\n",
    "\n",
    "plt.plot(X_0_lst[1][::2, 50], X_0_lst[1][1::2, 50])\n",
    "plt.plot(X_0_lst[1][::2, 1], X_0_lst[1][1::2, 1])\n",
    "# plt.plot(X_0_lst[1][50, 0], X_0_lst[1][51, 0], 'ro')\n",
    "\n",
    "plt.plot(X_0_lst[1][::2, 50], X_0_lst[1][1::2, 50])\n",
    "plt.plot(X_0_lst[1][::2, 150], X_0_lst[1][1::2, 150])\n",
    "# plt.plot(X_0_lst[1][50, 50], X_0_lst[1][51, 50], 'ko')"
   ]
  },
  {
   "cell_type": "code",
   "execution_count": null,
   "id": "634c1b1e-b633-4744-b30d-839a2456adee",
   "metadata": {},
   "outputs": [],
   "source": [
    "# # fig, ax = plt.subplots(1,1, figsize=(4,4), dpi=200)\n",
    "# # # plot_matrix(X_0_lst[0], ax=ax, color='red', ls='-')\n",
    "# # plot_matrix(X_0_lst[1], ax=ax, show_stdev=True, color='blue', ls='--')\n",
    "# # ax.set_aspect('equal')\n",
    "# k = 1\n",
    "# fig, ax = plt.subplots(1,1, figsize=(4,4), dpi=200)\n",
    "# for i in [0,5,10,15,20,25,50]:\n",
    "#     ax.plot(X_0_lst[k][::2, i], X_0_lst[k][1::2, i])\n",
    "\n",
    "fig, ax = plt.subplots(1,1, figsize=(4,4), dpi=200)\n",
    "# plot_matrix(state.Xt_1, ax=ax, color='red', show_stdev=True)\n",
    "# plot_matrix(X_0_lst[0], ax=ax, color='black', show_stdev=True)\n",
    "# plot_matrix(state.Y_1, ax=ax, color='blue', show_stdev=True)\n",
    "# plot_matrix(state.X_1, ax=ax, color='black', show_stdev=True)\n",
    "plot_matrix(X_0_lst[1], ax=ax, color='black', show_stdev=True)\n",
    "\n",
    "\n",
    "ax.set_aspect('equal')"
   ]
  },
  {
   "cell_type": "code",
   "execution_count": null,
   "id": "8471ce03-e73c-427b-93b4-6948c1505f8d",
   "metadata": {
    "scrolled": true,
    "tags": []
   },
   "outputs": [],
   "source": [
    "%%time\n",
    "\n",
    "calc_range = range(2,10)\n",
    "time_estimator = TimeEstimator(len(calc_range))\n",
    "for i in calc_range:\n",
    "    print(time_estimator.info_str(i))\n",
    "    observation = usr.db.gdfignition.iloc[i]\n",
    "    compareidx = observation.name    # t=1 observation\n",
    "\n",
    "    state.update(compareidx, lcpidx, barrieridx, observation, windspeed, winddirection)\n",
    "    X_0_lst.append(state.X_0)\n",
    "\n",
    "    calculate_model(igniteidx_lst, compareidx, lcpidx, barrieridx, windspeed, winddirection, usr_model)\n",
    "    \n",
    "igniteidx_lst_model = igniteidx_lst.copy()"
   ]
  },
  {
   "cell_type": "code",
   "execution_count": null,
   "id": "961979dc-74b4-4f4c-8b87-80b826a724a3",
   "metadata": {},
   "outputs": [],
   "source": [
    "# import geopandas as gpd\n",
    "\n",
    "# gdf = gpd.read_file('/home/jovyan/data/ignitions/Maria2019U0081_f5421b23173641e18b5d780c6d528798.shp')\n",
    "# gdf['geometry'][0]"
   ]
  },
  {
   "cell_type": "code",
   "execution_count": null,
   "id": "387a1474-cf25-4198-b8f4-9c6c0c97ef3b",
   "metadata": {},
   "outputs": [],
   "source": []
  },
  {
   "cell_type": "code",
   "execution_count": null,
   "id": "1da16e4c-7441-4f71-997e-f38c89ab670c",
   "metadata": {},
   "outputs": [],
   "source": []
  },
  {
   "cell_type": "code",
   "execution_count": null,
   "id": "bfea16d2-b6fe-4975-b267-519c554609b1",
   "metadata": {},
   "outputs": [],
   "source": []
  },
  {
   "cell_type": "code",
   "execution_count": null,
   "id": "86668cd6-57cd-410d-816c-8526f4d90fc6",
   "metadata": {},
   "outputs": [],
   "source": []
  },
  {
   "cell_type": "code",
   "execution_count": null,
   "id": "6d635033-7453-4e12-9918-6b27477e8790",
   "metadata": {},
   "outputs": [],
   "source": []
  },
  {
   "cell_type": "code",
   "execution_count": null,
   "id": "50579d8b-86ed-4dfb-a215-8ef9bca921d9",
   "metadata": {},
   "outputs": [],
   "source": []
  },
  {
   "cell_type": "code",
   "execution_count": null,
   "id": "17f65f47-b4ea-4ad3-a82b-5086f30d864a",
   "metadata": {},
   "outputs": [],
   "source": []
  },
  {
   "cell_type": "code",
   "execution_count": null,
   "id": "0054ba52-8832-42f4-8897-8eff14af83d2",
   "metadata": {},
   "outputs": [],
   "source": []
  },
  {
   "cell_type": "code",
   "execution_count": null,
   "id": "a2d3c62d-0ed8-4b8f-b9f4-a8e89891ee90",
   "metadata": {},
   "outputs": [],
   "source": [
    "# fig, ax = plt.subplots(1,1, figsize=(4,2), dpi=200)\n",
    "\n",
    "# # plot_matrix(X_0_lst[0], ax)\n",
    "# # plot_matrix(X_0_lst[1], ax, color='blue')\n",
    "# plot_matrix(X_0_lst[0], ax, color='black')\n",
    "# plot_matrix(X_0_lst[1], ax, color='black')\n",
    "# plot_matrix(X_0_lst[2], ax, color='black')\n",
    "# plot_matrix(X_0_lst[3], ax, color='black')\n",
    "# plot_matrix(X_0_lst[4], ax, color='black')\n",
    "# plot_matrix(X_0_lst[5], ax, color='black')\n",
    "# plot_matrix(X_0_lst[6], ax, color='black')\n",
    "# plot_geometry(usr.db.gdfignition.iloc[4]['geometry'], ax)\n",
    "# plot_geometry(usr.db.gdfignition.iloc[5]['geometry'], ax)\n",
    "# plot_geometry(usr.db.gdfignition.iloc[6]['geometry'], ax)\n",
    "# # plot_geometry(usr.db.gdfignition.iloc[10]['geometry'], ax)\n",
    "# # plot_geometry(usr.db.gdfignition.iloc[11]['geometry'], ax)\n",
    "# # plot_geometry(usr.db.gdfignition.iloc[12]['geometry'], ax)\n",
    "# # plot_geometry(usr.db.gdfignition.iloc[13]['geometry'], ax)\n",
    "# # plot_geometry(usr.db.gdfignition.iloc[14]['geometry'], ax)\n",
    "# # plot_geometry(usr.db.gdfignition.iloc[15]['geometry'], ax)\n",
    "# # plot_geometry(usr.db.gdfignition.iloc[16]['geometry'], ax)\n",
    "# # plot_geometry(usr.db.gdfignition.iloc[17]['geometry'], ax)\n",
    "# # plot_geometry(usr.db.gdfignition.iloc[18]['geometry'], ax)\n",
    "# # plot_geometry(usr.db.gdfignition.iloc[0]['geometry'], ax)"
   ]
  },
  {
   "cell_type": "markdown",
   "id": "c3a44d97-9474-4b70-9c10-a281a2433f5b",
   "metadata": {},
   "source": [
    "## Compare the predictions from the updated states, observations and using only the first simulation"
   ]
  },
  {
   "cell_type": "markdown",
   "id": "29ed5f7b-ec68-4766-8b52-a3b9e59512a6",
   "metadata": {},
   "source": [
    "### 1. Predict with the updated states"
   ]
  },
  {
   "cell_type": "code",
   "execution_count": null,
   "id": "2d63fcf2-8519-472a-a4a9-47555d72221a",
   "metadata": {},
   "outputs": [],
   "source": [
    "usr_combined = futils.User(fp)\n",
    "igniteidx_lst = []\n",
    "compareidx_lst = []\n",
    "for i, X_0 in enumerate(X_0_lst):\n",
    "    obrow = usr.db.gdfignition.iloc[i]\n",
    "    comprow = usr.db.gdfignition.iloc[i+1]\n",
    "    \n",
    "    vertices = X_0.mean(axis=1)\n",
    "    geom = Polygon(zip(vertices[::2],vertices[1::2])).buffer(0)\n",
    "    \n",
    "    dt = obrow['datetime']\n",
    "    desc = obrow['description']\n",
    "    objid = str(obrow['objectid']) + '_updated'\n",
    "    ftype = obrow['filetype']\n",
    "    \n",
    "    ignitions = state_to_ignitions(X_0.mean(axis=1, keepdims=True), [objid], [dt], [desc], [ftype], usr_combined)\n",
    "    igniteidx_lst.append(ignitions['igniteidx'][0])\n",
    "    compareidx_lst.append(comprow.name)\n",
    "    \n",
    "    usr_combined.db.gdfignition = pd.concat([usr_combined.db.gdfignition, gpd.GeoDataFrame(ignitions, geometry='geometry', crs='EPSG:5070').set_index('igniteidx')])"
   ]
  },
  {
   "cell_type": "code",
   "execution_count": null,
   "id": "5c7aa856-4a61-49b9-b156-6e99d7012516",
   "metadata": {},
   "outputs": [],
   "source": [
    "igniteidx_lst_observed = []\n",
    "compareidx_lst_observed = []\n",
    "for i in range(len(igniteidx_lst)):\n",
    "    igniteidx_lst_observed.append(usr_combined.db.gdfignition.index[i])\n",
    "    compareidx_lst_observed.append(usr_combined.db.gdfignition.index[i+1])"
   ]
  },
  {
   "cell_type": "code",
   "execution_count": null,
   "id": "90bc07da-78a8-448d-8eb7-53b07cdf58e7",
   "metadata": {
    "scrolled": true,
    "tags": []
   },
   "outputs": [],
   "source": [
    "# Combine all igniteidx and compareidx into a single\n",
    "\n",
    "igniteidx_lst_combined = igniteidx_lst + igniteidx_lst_observed\n",
    "compareidx_lst_combined = compareidx_lst + compareidx_lst_observed\n",
    "\n",
    "desc_lst_combined = ['Maria2019_updated' for i in range(len(igniteidx_lst))] + ['Maria2019_observed' for i in range(len(igniteidx_lst))]\n",
    "inputData_lst = []\n",
    "mainapi_lst = []\n",
    "for (igniteidx, compareidx, desc) in zip(igniteidx_lst_combined, compareidx_lst_combined, desc_lst_combined):\n",
    "    inputData = {'description': desc,\n",
    "                 'igniteidx'  : igniteidx,\n",
    "                 'compareidx' : compareidx,\n",
    "                 'lcpidx'     : '43b7f5db36994599861eec4849cc68fd',\n",
    "                 'barrieridx' : 'cb47616cd2dc4ccc8fd523bd3a5064bb',\n",
    "                 \n",
    "                 'windspeed': 10, 'winddirection': 60,\n",
    "                 'relhumid': 90, 'temperature': 20}\n",
    "    \n",
    "    mainapi_lst.append(usr_combined.calculatePerimeters(inputData))\n",
    "    \n",
    "for mainapi in mainapi_lst:\n",
    "    # pool.apply_async(farsite.run_command, callback=farsite.updatedb)\n",
    "    mainapi.run_farsite()"
   ]
  },
  {
   "cell_type": "code",
   "execution_count": null,
   "id": "de6236ed-f53b-461c-b584-31ab53056e56",
   "metadata": {},
   "outputs": [],
   "source": [
    "# usr_combined.db.gdfignition.to_pickle('/home/jovyan/ignitions.pkl')\n",
    "# usr_combined.db.gdfsimulation.to_pickle('/home/jovyan/simulations.pkl')"
   ]
  },
  {
   "cell_type": "markdown",
   "id": "4b1debeb-3c1b-4c3f-9e20-82f32a063c6d",
   "metadata": {},
   "source": [
    "#### Interpolate all the vertices\n",
    "\n",
    "#### TODO: Vertices include an additional point when generated from geometry. Remove the repeat!\n",
    "\n",
    "#### TODO: Check whether the aligned_vertices have the correct roll amount\n",
    "1. Create matrices from the aligned_vertices, and form the $X_0$ ensemble state matrix\n",
    "2. Using the observation $y_1$, update the state vector and obtain $X_1$"
   ]
  },
  {
   "cell_type": "markdown",
   "id": "fdfb7ebf-10e4-47b7-ba2d-d03e31d8e9f8",
   "metadata": {},
   "source": [
    "#### TODO - Question: Can we find a way to not interpolate the vertices\n",
    "1. Without interpolation, we need to create a matrix that maps the observed vertices to the state vector"
   ]
  },
  {
   "cell_type": "markdown",
   "id": "b86c1968-48f0-4d52-900c-545ecc8a9cef",
   "metadata": {},
   "source": [
    "## Compare the perimeters"
   ]
  },
  {
   "cell_type": "code",
   "execution_count": null,
   "id": "6376ea2d-809c-4e9d-8140-80cff6fce841",
   "metadata": {},
   "outputs": [],
   "source": [
    "# gdfignition = pd.read_pickle('/home/jovyan/ignitions.pkl')\n",
    "# gdfsimulation = pd.read_pickle('/home/jovyan/simulations.pkl')\n",
    "\n",
    "gdfignition = usr_combined.db.gdfignition\n",
    "gdfsimulation = usr_combined.db.gdfsimulation\n",
    "\n",
    "gdfignition_model = usr_model.db.gdfignition\n",
    "gdfsimulation_model = usr_model.db.gdfsimulation"
   ]
  },
  {
   "cell_type": "code",
   "execution_count": null,
   "id": "553df1e2-e6ca-40bf-b56d-f0d0a729c7f5",
   "metadata": {},
   "outputs": [],
   "source": [
    "def get_coordinates(geom):\n",
    "    x,y = geom.exterior.coords.xy\n",
    "    x = np.array(x)\n",
    "    y = np.array(y)\n",
    "    \n",
    "    return x,y\n",
    "\n",
    "def calculate_rms(geom1, geom2):\n",
    "    xy1, xy2 = interpolate_geometries([geom1, geom2], vertex_count=2000)\n",
    "    xy1, xy2 = align_vertices([xy1, xy2])\n",
    "    return np.sqrt(np.sum((xy1[:,0] - xy2[:,0])**2 + (xy1[:,1] - xy2[:,1])**2)/xy1.shape[0])\n",
    "    \n",
    "\n",
    "def calculate_area_diff(geom1, geom2):\n",
    "    return (geom1.union(geom2) - geom1.intersection(geom2)).area\n",
    "\n",
    "calculate_error = calculate_area_diff"
   ]
  },
  {
   "cell_type": "code",
   "execution_count": null,
   "id": "5d6c99d5-619d-456d-9bdc-a0c6c9fcd83f",
   "metadata": {},
   "outputs": [],
   "source": [
    "geoms_updated = []\n",
    "geoms_observed = []\n",
    "geoms_compare = []\n",
    "geoms_model = []\n",
    "errors_updated = []\n",
    "errors_observed = []\n",
    "errors_model = []\n",
    "dt = []\n",
    "\n",
    "for compareidx in compareidx_lst[:-1]:\n",
    "    gdffiltered = gdfsimulation[gdfsimulation['compareidx'] == compareidx]\n",
    "    \n",
    "    geom_updated = gdffiltered[gdffiltered['description'] == 'Maria2019_updated']['geometry'].iloc[0]\n",
    "    if isinstance(geom_updated, MultiPolygon):\n",
    "        geom_updated = calculate_max_area_geom(geom_updated)\n",
    "    geoms_updated.append(geom_updated)\n",
    "    \n",
    "    geom_observed = gdffiltered[gdffiltered['description'] == 'Maria2019_observed']['geometry'].iloc[0]\n",
    "    if isinstance(geom_observed, MultiPolygon):\n",
    "        geom_observed = calculate_max_area_geom(geom_observed)\n",
    "    geoms_observed.append(geom_observed)\n",
    "    \n",
    "    geom_compare = gdfignition.loc[compareidx, 'geometry']\n",
    "    if isinstance(geom_compare, MultiPolygon):\n",
    "        geom_compare = calculate_max_area_geom(geom_compare)\n",
    "    geoms_compare.append(geom_compare)\n",
    "    \n",
    "    gdffiltered_model = gdfsimulation_model[gdfsimulation_model['compareidx'] == compareidx]\n",
    "    geom_model = gdffiltered_model[gdffiltered_model['description'] == 'Maria2019']['geometry'].iloc[0]\n",
    "    if isinstance(geom_model, MultiPolygon):\n",
    "            geom_model = calculate_max_area_geom(geom_model)\n",
    "    geoms_model.append(geom_model)\n",
    "    \n",
    "    dt.append((gdfignition.loc[compareidx, 'datetime'] - gdfignition.iloc[0]['datetime']).total_seconds()/60/60)\n",
    "    \n",
    "    errors_updated.append(calculate_error(geom_updated, geom_compare))\n",
    "    errors_observed.append(calculate_error(geom_observed,  geom_compare))\n",
    "    errors_model.append(calculate_error(geom_model, geom_compare))"
   ]
  },
  {
   "cell_type": "code",
   "execution_count": null,
   "id": "872554e3-3b7f-4d7e-86f2-ea35cbf754a9",
   "metadata": {},
   "outputs": [],
   "source": []
  },
  {
   "cell_type": "code",
   "execution_count": null,
   "id": "0d1bcb05-e5b6-4164-9ef7-0160c382e529",
   "metadata": {},
   "outputs": [],
   "source": [
    "fig, ax = plt.subplots(1,1, figsize=(4,3), dpi=400)\n",
    "ax.plot(dt, errors_updated, label='EnKF')\n",
    "ax.plot(dt, errors_observed, label='Observed')\n",
    "ax.plot(dt, errors_model, label='Model')\n",
    "\n",
    "ax.set_xlim(0,6)\n",
    "ax.set_ylim(0, 2.5e7)\n",
    "\n",
    "ax.set_xlabel('Hours after first ignition')\n",
    "ax.set_ylabel('Area difference')\n",
    "\n",
    "ax.legend()"
   ]
  },
  {
   "cell_type": "code",
   "execution_count": null,
   "id": "b2675e95-8826-4ed9-870c-93a1443cf8a2",
   "metadata": {},
   "outputs": [],
   "source": []
  },
  {
   "cell_type": "code",
   "execution_count": null,
   "id": "ad5ff0dd-d763-4a0d-ad21-e8afac4882a4",
   "metadata": {},
   "outputs": [],
   "source": []
  }
 ],
 "metadata": {
  "kernelspec": {
   "display_name": "Python 3 (ipykernel)",
   "language": "python",
   "name": "python3"
  },
  "language_info": {
   "codemirror_mode": {
    "name": "ipython",
    "version": 3
   },
   "file_extension": ".py",
   "mimetype": "text/x-python",
   "name": "python",
   "nbconvert_exporter": "python",
   "pygments_lexer": "ipython3",
   "version": "3.10.9"
  }
 },
 "nbformat": 4,
 "nbformat_minor": 5
}
