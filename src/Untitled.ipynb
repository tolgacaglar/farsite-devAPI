{
 "cells": [
  {
   "cell_type": "markdown",
   "id": "1a4b315b-8e87-464b-bb1c-9a5aa9c2b0e2",
   "metadata": {},
   "source": [
    "# Use case for the Bridge 2021 fire"
   ]
  },
  {
   "cell_type": "code",
   "execution_count": 1,
   "id": "286a99a1-4c95-4b86-b21a-f7ac91758a94",
   "metadata": {},
   "outputs": [
    {
     "name": "stderr",
     "output_type": "stream",
     "text": [
      "/opt/conda/lib/python3.11/site-packages/geopandas/_compat.py:124: UserWarning: The Shapely GEOS version (3.11.1-CAPI-1.17.1) is incompatible with the GEOS version PyGEOS was compiled with (3.10.4-CAPI-1.16.2). Conversions between both will be slow.\n",
      "  warnings.warn(\n"
     ]
    }
   ],
   "source": [
    "from dsfunctions import forward_pass, forward_pass_nsteps, sample_windspeed, sample_winddirection, sample_geometry\n",
    "from dsfunctions import plot_matrix, plot_matrix_ensemble, align_geoms, interpolate_geom, get_observation, plot_geometry\n",
    "from dsfunctions import geom_to_vector, reproject_geom, validate_geom\n",
    "from dsfunctions import forward_pass_farsite\n",
    "\n",
    "import farsiteutils_v2 as futils\n",
    "import datetime\n",
    "import uuid\n",
    "\n",
    "import numpy as np\n",
    "from matplotlib import pyplot as plt\n",
    "\n",
    "import contextily as ctx\n",
    "\n",
    "import pickle\n",
    "from shapely.geometry import Polygon\n",
    "from tqdm import tqdm\n",
    "\n",
    "description = 'Bridge2021'\n",
    "\n",
    "# with open(f'./Bridge2021_results_22082024_vsz1_wsz100.pkl', 'rb') as f:\n",
    "#     data = pickle.load(f)\n",
    "\n",
    "# with open(f'./Bridge2021_results_22082024_vsz1_wsz1.pkl', 'rb') as f:\n",
    "#     data = pickle.load(f)\n",
    "\n",
    "with open(f'./Bridge2021_results_22082024_vsz100_wsz100.pkl', 'rb') as f:\n",
    "    data = pickle.load(f)\n",
    "\n",
    "# with open(f'./Bridge2021_results_22082024_vsz100_wsz1.pkl', 'rb') as f:\n",
    "#     data = pickle.load(f)\n",
    "\n",
    "# with open(f'./Bridge2021_results_22082024_vsz1000_wsz1.pkl', 'rb') as f:\n",
    "#     data = pickle.load(f)\n",
    "\n",
    "\n",
    "adjusted_geom_lst = data['adjusted_geom']\n",
    "zkphat_ensemble_lst = data['zkphat_ensemble_lst']\n",
    "xkphat_ensemble_lst = data['xkphat_ensemble_lst']\n",
    "ykhat_ensemble_lst = data['ykhat_ensemble_lst']\n",
    "\n",
    "tfin = 6\n",
    "\n",
    "# # # Bridge fire wind values\n",
    "wslst = [15]*(tfin)\n",
    "wdlst = [0]*(tfin)\n",
    "\n",
    "observations = []\n",
    "timestamps = []\n",
    "sampled_wslst = []\n",
    "sampled_wdlst = []\n",
    "\n",
    "for tix in range(tfin):\n",
    "    obs, ts = get_observation(description, tix)\n",
    "    observations.append(obs)\n",
    "    timestamps.append(ts)\n",
    "\n",
    "# # Bridge2021 ignition\n",
    "ignition_timepoint = timestamps[0].replace(hour=12, minute=53)\n",
    "x,y = x,y = observations[0].centroid.x, observations[0].centroid.y\n",
    "width = 100\n",
    "xshift = -50\n",
    "yshift = 50\n",
    "\n",
    "x += xshift\n",
    "y+= yshift\n",
    "ignition = Polygon([(x-width, y), (x, y), (x,y-width), (x-width, y-width)])"
   ]
  },
  {
   "cell_type": "markdown",
   "id": "96f233d2-717b-4841-9801-59230d80bb07",
   "metadata": {},
   "source": [
    "## Timestep 0"
   ]
  },
  {
   "cell_type": "code",
   "execution_count": 7,
   "id": "68f3b8da-c209-4bee-afa1-5b70540f8055",
   "metadata": {},
   "outputs": [
    {
     "name": "stdout",
     "output_type": "stream",
     "text": [
      "2021-09-05 12:53:52\n",
      "2021-09-05 14:04:52\n",
      "2021-09-05 14:34:29\n",
      "2021-09-05 15:02:16\n",
      "2021-09-05 15:25:20\n",
      "2021-09-05 15:58:27\n",
      "2021-09-05 16:23:31\n"
     ]
    }
   ],
   "source": [
    "for tp in ([ignition_timepoint] + timestamps):\n",
    "    print(tp)"
   ]
  }
 ],
 "metadata": {
  "kernelspec": {
   "display_name": "Python 3 (ipykernel)",
   "language": "python",
   "name": "python3"
  },
  "language_info": {
   "codemirror_mode": {
    "name": "ipython",
    "version": 3
   },
   "file_extension": ".py",
   "mimetype": "text/x-python",
   "name": "python",
   "nbconvert_exporter": "python",
   "pygments_lexer": "ipython3",
   "version": "3.11.9"
  }
 },
 "nbformat": 4,
 "nbformat_minor": 5
}
