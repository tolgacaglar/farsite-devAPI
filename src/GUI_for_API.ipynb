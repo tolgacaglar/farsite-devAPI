{
 "cells": [
  {
   "cell_type": "code",
   "execution_count": 78,
   "id": "46e7b777",
   "metadata": {},
   "outputs": [],
   "source": [
    "import datetime\n",
    "import pandas as pd\n",
    "import geopandas as gpd\n",
    "from dataclasses import dataclass\n",
    "import uuid\n",
    "\n",
    "from shapely.geometry import MultiPolygon, Polygon\n",
    "\n",
    "from farsiteutils import User, Run_File, Config_File, Input, FilePaths, Database\n",
    "\n",
    "import osq\n",
    "\n",
    "import ipywidgets\n",
    "from ipywidgets import IntRangeSlider, IntSlider, Layout, SelectionRangeSlider, VBox, HBox, Label, Button"
   ]
  },
  {
   "cell_type": "code",
   "execution_count": 82,
   "id": "39402beb",
   "metadata": {},
   "outputs": [
    {
     "data": {
      "application/vnd.jupyter.widget-view+json": {
       "model_id": "c4a94e25a03f49e18b07cce38e642110",
       "version_major": 2,
       "version_minor": 0
      },
      "text/plain": [
       "VBox(children=(HBox(children=(Label(value='Windspeed'), IntRangeSlider(value=(0, 20), max=50), Label(value='St…"
      ]
     },
     "metadata": {},
     "output_type": "display_data"
    },
    {
     "name": "stdout",
     "output_type": "stream",
     "text": [
      "Button(description='Calculate Perimeters', style=ButtonStyle())\n"
     ]
    }
   ],
   "source": [
    "# Windspeed\n",
    "windspeed_desc = Label('Windspeed')\n",
    "windspeed_widget = IntRangeSlider(min=0, max=50, value=(0,20))\n",
    "windspeed_units = Label('mph')\n",
    "\n",
    "windspeedstep_desc = Label('Steps')\n",
    "windspeedstep_widget = IntSlider(min=1, max=windspeed.max)\n",
    "\n",
    "windspeed_box = HBox([windspeed_desc, windspeed_widget, windspeedstep_desc, windspeedstep_widget, windspeed_units])\n",
    "\n",
    "# Winddirection\n",
    "winddirection_desc = Label('Winddirection')\n",
    "winddirection_widget = IntRangeSlider(min=0, max=355, step=5, value=(0,180))\n",
    "winddirection_units = Label('degrees')\n",
    "\n",
    "winddirectionstep_desc = Label('Steps')\n",
    "winddirectionstep_widget = IntSlider(min=5, max=355, step=5)\n",
    "\n",
    "winddirection_box = HBox([winddirection_desc, winddirection_widget, winddirectionstep_desc, winddirectionstep_widget, winddirection_units])\n",
    "\n",
    "# Temperature\n",
    "temperature_desc = Label('Temperature')\n",
    "temperature_widget = IntSlider(min=-40, max=120, value=60)\n",
    "temperature_units = Label('Fahrenheit')\n",
    "\n",
    "temperature_box = HBox([temperature_desc, temperature_widget, temperature_units])\n",
    "\n",
    "# Relative humidity\n",
    "relhumid_desc = Label('Relative Humidity')\n",
    "relhumid_widget = IntSlider(min=0, max=100, value=10)\n",
    "relhumid_units = Label('%')\n",
    "\n",
    "relhumid_box = HBox([relhumid_desc, relhumid_widget, relhumid_units])\n",
    "\n",
    "# Burn time\n",
    "burntime_desc = Label('Burn time')\n",
    "burntime_widget = IntSlider(min=30, max=300, value=3, step=30)\n",
    "burntime_units = Label('minutes')\n",
    "\n",
    "burntimestep_desc = Label('Steps')\n",
    "burntimestep_widget = IntSlider(min=30, max=300, step=30)\n",
    "\n",
    "burntime_box = HBox([burntime_desc, burntime_widget, burntimestep_desc, burntimestep_widget, burntime_units])\n",
    "\n",
    "# Calculate button\n",
    "calculate_widget = Button(description='Calculate Perimeters')\n",
    "\n",
    "def setBurntimeStepMax(change):\n",
    "    if change['name'] == 'value':\n",
    "        burntimestep.max = burntime.value\n",
    "        \n",
    "def calculatePerimeters(change):\n",
    "    windspeedlow = windspeed_widget.value[0]\n",
    "    windspeedhigh = windspeed_widget.value[1]\n",
    "    windspeeddelta = windspeedstep_widget.value\n",
    "    \n",
    "    winddirectionlow = winddirection_widget.value[0]\n",
    "    winddirectionhigh = winddirection_widget.value[1]\n",
    "    winddirectiondelta = winddirectionstep_widget.value\n",
    "    \n",
    "    relhumid = relhumid_widget.value\n",
    "    burntime = datetime.timedelta(minutes=burntime_widget.value)\n",
    "    burntimestep = datetime.timedelta(minutes=burntimestep_widget.value)\n",
    "    \n",
    "    temperature = temperature_widget.value\n",
    "    \n",
    "    fp = FilePaths('/home/tcaglar/data/')\n",
    "    usr = User(fp)\n",
    "    \n",
    "    mainapi = usr.calculatePerimeters()\n",
    "    \n",
    "    \n",
    "# Collect activity\n",
    "burntime.observe(test)\n",
    "calculate.on_click(calculatePerimeters)\n",
    "\n",
    "VBox([windspeed_box, winddirection_box,  burntime_box, temperature_box, relhumid_box, calculate_widget])"
   ]
  },
  {
   "cell_type": "code",
   "execution_count": 83,
   "id": "9476f478",
   "metadata": {},
   "outputs": [
    {
     "name": "stdout",
     "output_type": "stream",
     "text": [
      "Setting up the interface\n",
      "Database interaction not yet implemented. Use pickle file for dataframes instead!\n",
      "Choosing a perimeter from the database\n",
      "Collecting lcp file from gdal_translate\n"
     ]
    }
   ],
   "source": [
    "fp = FilePaths('/home/tcaglar/data/')\n",
    "usr = User(fp)\n",
    "mainapi = usr.calculatePerimeters()"
   ]
  },
  {
   "cell_type": "code",
   "execution_count": 89,
   "id": "8bc311f3",
   "metadata": {},
   "outputs": [],
   "source": [
    "testconfig = Config_File(datetime.datetime.now(), datetime.datetime.now(), 0, 0)"
   ]
  },
  {
   "cell_type": "code",
   "execution_count": 90,
   "id": "d70de646",
   "metadata": {},
   "outputs": [
    {
     "data": {
      "text/plain": [
       "<farsiteutils.Config_File at 0x7f7b7d749e80>"
      ]
     },
     "execution_count": 90,
     "metadata": {},
     "output_type": "execute_result"
    }
   ],
   "source": [
    "testconfig."
   ]
  },
  {
   "cell_type": "code",
   "execution_count": 39,
   "id": "82f7df56",
   "metadata": {},
   "outputs": [
    {
     "data": {
      "application/vnd.jupyter.widget-view+json": {
       "model_id": "65686b3615044cf1a0c03ec466b7f9fd",
       "version_major": 2,
       "version_minor": 0
      },
      "text/plain": [
       "IntSlider(value=1, description='Windspeed steps', layout=Layout(width='400px'), max=10, min=1)"
      ]
     },
     "metadata": {},
     "output_type": "display_data"
    }
   ],
   "source": [
    "windspeedstep = IntSlider(description='Windspeed steps', min=1, max=10, layout=Layout(width='400px'))"
   ]
  },
  {
   "cell_type": "code",
   "execution_count": 42,
   "id": "28fac2ed",
   "metadata": {},
   "outputs": [
    {
     "data": {
      "text/plain": [
       "25"
      ]
     },
     "execution_count": 42,
     "metadata": {},
     "output_type": "execute_result"
    }
   ],
   "source": []
  }
 ],
 "metadata": {
  "kernelspec": {
   "display_name": "Python 3",
   "language": "python",
   "name": "python3"
  },
  "language_info": {
   "codemirror_mode": {
    "name": "ipython",
    "version": 3
   },
   "file_extension": ".py",
   "mimetype": "text/x-python",
   "name": "python",
   "nbconvert_exporter": "python",
   "pygments_lexer": "ipython3",
   "version": "3.6.9"
  }
 },
 "nbformat": 4,
 "nbformat_minor": 5
}
