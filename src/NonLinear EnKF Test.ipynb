{
 "cells": [
  {
   "cell_type": "markdown",
   "id": "9fe335d9-7a2b-4a91-bc0e-36b04b0c2c48",
   "metadata": {},
   "source": [
    "# Testing EnKF on non-linear system\n",
    "Projectile is thrown from mass 1 towards mass 2."
   ]
  },
  {
   "cell_type": "markdown",
   "id": "2532de69-9af5-42bc-803d-b3dc602c7935",
   "metadata": {},
   "source": [
    "## Dependencies"
   ]
  },
  {
   "cell_type": "code",
   "execution_count": 1,
   "id": "0f073841-bfbf-415b-92b7-36726edba2ed",
   "metadata": {},
   "outputs": [],
   "source": [
    "import numpy as np\n",
    "\n",
    "from matplotlib import pyplot as plt"
   ]
  },
  {
   "cell_type": "markdown",
   "id": "81804ba9-2d12-471f-a0cc-ca72057ddf78",
   "metadata": {},
   "source": [
    "## Parameters"
   ]
  },
  {
   "cell_type": "code",
   "execution_count": null,
   "id": "238c1595-ae7d-4474-9c4c-70889973c084",
   "metadata": {},
   "outputs": [],
   "source": []
  },
  {
   "cell_type": "code",
   "execution_count": 35,
   "id": "c744c6a8-5bc1-4185-a93f-98a6c66b4919",
   "metadata": {},
   "outputs": [],
   "source": [
    "def F(r):\n",
    "    G =  6.67e-11 # in units of m^3/s^2/m2 - ~6.67e-11 N m^2/kg^2\n",
    "    \n",
    "\n",
    "    \n",
    "    # r1 - distance from m1 to m\n",
    "    # r2 - distance from m2 to m\n",
    "    # r1hat and r2hat are the unit vectors in the direction of r1 and r2\n",
    "    # r - position of the projectile\n",
    "\n",
    "    x, y = r\n",
    "    # m1 is a the origin\n",
    "    r1vec = r\n",
    "    r1 = np.sqrt(x**2 + y**2)\n",
    "    r1hat = r1vec/r1\n",
    "    \n",
    "    # m2 is at (0, y2)\n",
    "    r2vec = np.array([r[0], r[1]-y2])\n",
    "    r2 = np.sqrt(r2vec[0]**2 + r2vec[1]**2)\n",
    "    r2hat = r2vec/r2\n",
    "    \n",
    "    F1vec = -G*m*m1/r1/r1*r1hat\n",
    "    F2vec = -G*m*m2/r2/r2*r2hat\n",
    "\n",
    "    return F1vec+F2vec\n",
    "\n",
    "y2 = 3.8e8  # m : distance from m2 to m1\n",
    "m = 1e3 # kg : mass of the projectile\n",
    "m1 = 6e24   # in units of m1 ~ 6e24 kg\n",
    "m2 = 7e22   # ~ 7e22 kg\n",
    "\n",
    "R1 = 3.6e6 # m: radius of m1\n",
    "R2 = 1.7e6 # m: radius of m2\n",
    "\n",
    "# initial conditions\n",
    "rx_0 = R1 # m: (r1x_0, r1y_0) is the initial position, at the surface of m2\n",
    "ry_0 = 0\n",
    "v0 = 1e5 # m/s initial speed of the projectile\n",
    "\n",
    "# Time array\n",
    "tfin = 1000\n",
    "dt = 0.1\n",
    "tar = np.arange(0, tfin, dt)"
   ]
  },
  {
   "cell_type": "code",
   "execution_count": 36,
   "id": "758aeda0-db56-4dc2-97c9-cce9067b19b5",
   "metadata": {},
   "outputs": [],
   "source": [
    "xar = np.zeros_like(tar)\n",
    "vxar = np.zeros_like(tar)\n",
    "yar = np.zeros_like(tar)\n",
    "vyar = np.zeros_like(tar)\n",
    "\n",
    "xar[0] = R1\n",
    "vxar[0] = 0\n",
    "yar[0] = 0\n",
    "vyar[0] = v0\n",
    "\n",
    "for tix in range(len(tar)-1):\n",
    "    Ft = F((xar[tix], yar[tix]))\n",
    "    vxar[tix+1] = vxar[tix] + Ft[0]/m*dt\n",
    "    vyar[tix+1] = vyar[tix] + Ft[1]/m*dt\n",
    "    xar[tix+1] = xar[tix] + vxar[tix]*dt\n",
    "    yar[tix+1] = yar[tix] + vyar[tix]*dt"
   ]
  },
  {
   "cell_type": "code",
   "execution_count": 37,
   "id": "59091269-4b18-4af6-815c-ce4d2acbd1e0",
   "metadata": {},
   "outputs": [
    {
     "data": {
      "text/plain": [
       "[<matplotlib.lines.Line2D at 0x7f1348ca2dd0>]"
      ]
     },
     "execution_count": 37,
     "metadata": {},
     "output_type": "execute_result"
    },
    {
     "data": {
      "image/png": "[encoded data removed]",
      "text/plain": [
       "<Figure size 640x480 with 1 Axes>"
      ]
     },
     "metadata": {},
     "output_type": "display_data"
    }
   ],
   "source": [
    "fig, ax = plt.subplots(1,1)\n",
    "ax.plot(0,0, 'ro', ms=10)\n",
    "ax.plot(0,y2,'ko', ms=1)\n",
    "ax.plot(xar, yar, 'b--')"
   ]
  },
  {
   "cell_type": "code",
   "execution_count": null,
   "id": "62ea047e-7aef-46d1-b94f-90ba64489837",
   "metadata": {},
   "outputs": [],
   "source": []
  }
 ],
 "metadata": {
  "kernelspec": {
   "display_name": "Python 3 (ipykernel)",
   "language": "python",
   "name": "python3"
  },
  "language_info": {
   "codemirror_mode": {
    "name": "ipython",
    "version": 3
   },
   "file_extension": ".py",
   "mimetype": "text/x-python",
   "name": "python",
   "nbconvert_exporter": "python",
   "pygments_lexer": "ipython3",
   "version": "3.11.6"
  }
 },
 "nbformat": 4,
 "nbformat_minor": 5
}
