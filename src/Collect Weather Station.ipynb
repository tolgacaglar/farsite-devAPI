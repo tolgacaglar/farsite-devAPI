{
 "cells": [
  {
   "cell_type": "markdown",
   "id": "7fc6d9c7-994f-4f6c-8192-b3cdd9187b5b",
   "metadata": {},
   "source": [
    "# Collect Weather Station data around chosen polygon"
   ]
  },
  {
   "cell_type": "code",
   "execution_count": 4,
   "id": "16a3ccb6-326c-4740-a1b7-e85f9525e0a4",
   "metadata": {},
   "outputs": [
    {
     "name": "stderr",
     "output_type": "stream",
     "text": [
      "/opt/conda/lib/python3.11/site-packages/geopandas/_compat.py:124: UserWarning: The Shapely GEOS version (3.11.1-CAPI-1.17.1) is incompatible with the GEOS version PyGEOS was compiled with (3.10.4-CAPI-1.16.2). Conversions between both will be slow.\n",
      "  warnings.warn(\n",
      "/tmp/ipykernel_319/892420718.py:3: DeprecationWarning: Shapely 2.0 is installed, but because PyGEOS is also installed, GeoPandas still uses PyGEOS by default. However, starting with version 0.14, the default will switch to Shapely. To force to use Shapely 2.0 now, you can either uninstall PyGEOS or set the environment variable USE_PYGEOS=0. You can do this before starting the Python process, or in your code before importing geopandas:\n",
      "\n",
      "import os\n",
      "os.environ['USE_PYGEOS'] = '0'\n",
      "import geopandas\n",
      "\n",
      "In the next release, GeoPandas will switch to using Shapely by default, even if PyGEOS is installed. If you only have PyGEOS installed to get speed-ups, this switch should be smooth. However, if you are using PyGEOS directly (calling PyGEOS functions on geometries from GeoPandas), this will then stop working and you are encouraged to migrate from PyGEOS to Shapely 2.0 (https://shapely.readthedocs.io/en/latest/migration_pygeos.html).\n",
      "  import geopandas as gpd\n"
     ]
    }
   ],
   "source": [
    "import numpy as np\n",
    "import pandas as pd\n",
    "import geopandas as gpd\n",
    "from matplotlib import pyplot as plt\n",
    "\n",
    "from dataclasses import dataclass\n",
    "\n",
    "import arrow\n",
    "\n",
    "import contextily as ctx\n",
    "import datetime\n",
    "\n",
    "import requests\n",
    "\n",
    "@dataclass\n",
    "class Station:\n",
    "    name: str\n",
    "    lat: float\n",
    "    lon: float\n",
    "    temperature: list\n",
    "    wind_speed: list\n",
    "    wind_direction: list\n",
    "    timestamp: list\n",
    "    units: dict"
   ]
  },
  {
   "cell_type": "code",
   "execution_count": 5,
   "id": "b96c1ca7-027f-4ffd-8829-6fa0459c42f6",
   "metadata": {},
   "outputs": [],
   "source": [
    "def reproject_geom(geom, from_crs='EPSG:5070', to_crs='EPSG:3857'):\n",
    "    return gpd.GeoSeries(geom, crs=from_crs).to_crs(to_crs)[0]\n",
    "\n",
    "\n",
    "def get_observation(description : str, tix : int, crs_epsg=5070):\n",
    "    ''' Obtain selected observation geometry and datetime\n",
    "    '''\n",
    "\n",
    "    if description not in ['Maria2019', 'River2021', 'Bridge2021']:\n",
    "        raise ValueError(f'description {description} not present in db')\n",
    "    \n",
    "    def change_username_jovyan(df, column):\n",
    "        for ix, row in df.iterrows():\n",
    "            path_list = row[column].split('/')\n",
    "            path_list[2] = 'jovyan'\n",
    "    \n",
    "            path = ''\n",
    "            for string in path_list[:-1]:\n",
    "                path += f'{string}/'\n",
    "            path += path_list[-1]\n",
    "    \n",
    "            df.loc[ix, column] = path  \n",
    "    \n",
    "    df = pd.read_pickle('/home/jovyan/data/dftable_06032023.pkl')\n",
    "    change_username_jovyan(df, 'filepath')\n",
    "    \n",
    "    dfrow = df[df['description'] == description].sort_values('datetime').iloc[tix]\n",
    "    dfgeom = gpd.read_file(dfrow['filepath']).to_crs(epsg=crs_epsg)['geometry'][0]\n",
    "    dfdt = dfrow['datetime']\n",
    "    \n",
    "    return dfgeom, dfdt\n",
    "\n",
    "\n",
    "# def collect_wx_data(gdf, gdfignition, igniteidx, compareidx):\n",
    "def collect_wx_data(centerlon, centerlat, radius, fromdt, todt):\n",
    "    km_per_miles = 1.60934\n",
    "\n",
    "    # ignite = gdfignition.to_crs(epsg=4326).loc[igniteidx]\n",
    "    # compare = gdfignition.to_crs(epsg=4326).loc[compareidx]\n",
    "\n",
    "    baseURL = \"https://firemap.sdsc.edu/pylaski/stations/data?\"\n",
    "\n",
    "    ## Always start with the base of the URL\n",
    "\n",
    "    selectionType='selection=withinRadius'\n",
    "\n",
    "    # Choose the centroid of the ignition\n",
    "    # lon = ignite['geometry'].centroid.x\n",
    "    # lat = ignite['geometry'].centroid.y\n",
    "    lon = centerlon\n",
    "    lat = centerlat\n",
    "    \n",
    "    # radius = 5*km_per_miles    # 2 mile radius\n",
    "\n",
    "    ## Latitude and longitude of the White House according to Google\n",
    "    selectionParameters = '&lat={}&lon={}&radius={}'.format(str(lat),str(lon), str(radius))\n",
    "\n",
    "    observables_list = ['temperature', 'wind_speed', 'wind_direction']\n",
    "    observables = ''\n",
    "    for observable in observables_list:\n",
    "        observables += f'&observable={observable}'\n",
    "\n",
    "    # fromdt = ignite['datetime'].tz_localize('US/Pacific')\n",
    "    # todt = compare['datetime'].tz_localize('US/Pacific')\n",
    "    frm = arrow.Arrow.fromdatetime(fromdt.to_pydatetime())\n",
    "    to = arrow.Arrow.fromdatetime(todt.to_pydatetime())\n",
    "\n",
    "    frm = frm.shift(minutes=-10)\n",
    "    to = to.shift(minutes=10)\n",
    "\n",
    "    urlDateTime = '&from={}&to={}'.format(str(frm), str(to))\n",
    "\n",
    "    urlPlot = baseURL + selectionType + selectionParameters + observables + urlDateTime\n",
    "    print(urlPlot)\n",
    "\n",
    "    r = requests.get(urlPlot)\n",
    "    ## Request to GET information from the given URL (Our REST query we built)\n",
    "    r_json = r.json()\n",
    "\n",
    "    stations_lst = []\n",
    "    for feature in r_json['features']:\n",
    "\n",
    "        lon,lat = feature['geometry']['coordinates']\n",
    "\n",
    "        name = feature['properties']['description']['name']\n",
    "        wxid = feature['properties']['description']['id']\n",
    "        provider = feature['properties']['description']['provider']\n",
    "        wifire_uid = feature['properties']['description']['wifire_uid']\n",
    "\n",
    "        timestamp = pd.to_datetime(feature['properties']['timestamp'])\n",
    "        try:\n",
    "            temperature = feature['properties']['temperature']\n",
    "        except KeyError:\n",
    "            temperature = []\n",
    "\n",
    "        try:\n",
    "            wind_speed = feature['properties']['wind_speed']\n",
    "        except KeyError:\n",
    "            wind_speed = []\n",
    "\n",
    "        try:\n",
    "            wind_direction = feature['properties']['wind_direction']\n",
    "        except KeyError:\n",
    "            wind_direction = []\n",
    "\n",
    "        units = feature['properties']['units']\n",
    "\n",
    "        stations_lst.append(Station(name, lat, lon, temperature, wind_speed, wind_direction, timestamp, units))\n",
    "        \n",
    "    return stations_lst"
   ]
  },
  {
   "cell_type": "code",
   "execution_count": 6,
   "id": "3cb30c93-ef6b-46d5-9005-49094b368c42",
   "metadata": {},
   "outputs": [],
   "source": [
    "maria_0, dt = get_observation('Maria2019', 0, crs_epsg=4326)"
   ]
  },
  {
   "cell_type": "code",
   "execution_count": 7,
   "id": "437518a7-388a-497e-a2a6-26247a6db7ea",
   "metadata": {},
   "outputs": [
    {
     "data": {
      "text/plain": [
       "(array('d', [-119.03909139010646]), array('d', [34.31984085482562]))"
      ]
     },
     "execution_count": 7,
     "metadata": {},
     "output_type": "execute_result"
    }
   ],
   "source": [
    "maria_0.centroid.xy"
   ]
  },
  {
   "cell_type": "code",
   "execution_count": 25,
   "id": "676f0a4f-1062-42f4-aafb-f2e05b146d0c",
   "metadata": {},
   "outputs": [],
   "source": [
    "fromdt = dt.tz_localize('US/Pacific')-datetime.timedelta(minutes=10)\n",
    "todt = dt.tz_localize('US/Pacific')+datetime.timedelta(minutes=10)\n",
    "\n",
    "year = 2022\n",
    "fromdt = fromdt.replace(year=year)\n",
    "todt = todt.replace(year=year)"
   ]
  },
  {
   "cell_type": "code",
   "execution_count": 26,
   "id": "0b9a41b6-c571-4bac-81a9-c823f11d2f15",
   "metadata": {},
   "outputs": [
    {
     "name": "stdout",
     "output_type": "stream",
     "text": [
      "https://firemap.sdsc.edu/pylaski/stations/data?selection=withinRadius&lat=34.31984085482562&lon=-119.03909139010646&radius=5&observable=temperature&observable=wind_speed&observable=wind_direction&from=2022-10-31T19:17:11-07:00&to=2022-10-31T19:57:11-07:00\n"
     ]
    },
    {
     "ename": "KeyError",
     "evalue": "'features'",
     "output_type": "error",
     "traceback": [
      "\u001b[0;31m---------------------------------------------------------------------------\u001b[0m",
      "\u001b[0;31mKeyError\u001b[0m                                  Traceback (most recent call last)",
      "Cell \u001b[0;32mIn[26], line 1\u001b[0m\n\u001b[0;32m----> 1\u001b[0m stations_lst \u001b[38;5;241m=\u001b[39m \u001b[43mcollect_wx_data\u001b[49m\u001b[43m(\u001b[49m\u001b[43mmaria_0\u001b[49m\u001b[38;5;241;43m.\u001b[39;49m\u001b[43mcentroid\u001b[49m\u001b[38;5;241;43m.\u001b[39;49m\u001b[43mx\u001b[49m\u001b[43m,\u001b[49m\u001b[43m \u001b[49m\u001b[43mmaria_0\u001b[49m\u001b[38;5;241;43m.\u001b[39;49m\u001b[43mcentroid\u001b[49m\u001b[38;5;241;43m.\u001b[39;49m\u001b[43my\u001b[49m\u001b[43m,\u001b[49m\u001b[43m \u001b[49m\u001b[43mradius\u001b[49m\u001b[38;5;241;43m=\u001b[39;49m\u001b[38;5;241;43m5\u001b[39;49m\u001b[43m,\u001b[49m\u001b[43m \u001b[49m\u001b[43mfromdt\u001b[49m\u001b[38;5;241;43m=\u001b[39;49m\u001b[43mfromdt\u001b[49m\u001b[43m,\u001b[49m\u001b[43m \u001b[49m\u001b[43mtodt\u001b[49m\u001b[38;5;241;43m=\u001b[39;49m\u001b[43mtodt\u001b[49m\u001b[43m)\u001b[49m\n",
      "Cell \u001b[0;32mIn[5], line 81\u001b[0m, in \u001b[0;36mcollect_wx_data\u001b[0;34m(centerlon, centerlat, radius, fromdt, todt)\u001b[0m\n\u001b[1;32m     78\u001b[0m r_json \u001b[38;5;241m=\u001b[39m r\u001b[38;5;241m.\u001b[39mjson()\n\u001b[1;32m     80\u001b[0m stations_lst \u001b[38;5;241m=\u001b[39m []\n\u001b[0;32m---> 81\u001b[0m \u001b[38;5;28;01mfor\u001b[39;00m feature \u001b[38;5;129;01min\u001b[39;00m \u001b[43mr_json\u001b[49m\u001b[43m[\u001b[49m\u001b[38;5;124;43m'\u001b[39;49m\u001b[38;5;124;43mfeatures\u001b[39;49m\u001b[38;5;124;43m'\u001b[39;49m\u001b[43m]\u001b[49m:\n\u001b[1;32m     83\u001b[0m     lon,lat \u001b[38;5;241m=\u001b[39m feature[\u001b[38;5;124m'\u001b[39m\u001b[38;5;124mgeometry\u001b[39m\u001b[38;5;124m'\u001b[39m][\u001b[38;5;124m'\u001b[39m\u001b[38;5;124mcoordinates\u001b[39m\u001b[38;5;124m'\u001b[39m]\n\u001b[1;32m     85\u001b[0m     name \u001b[38;5;241m=\u001b[39m feature[\u001b[38;5;124m'\u001b[39m\u001b[38;5;124mproperties\u001b[39m\u001b[38;5;124m'\u001b[39m][\u001b[38;5;124m'\u001b[39m\u001b[38;5;124mdescription\u001b[39m\u001b[38;5;124m'\u001b[39m][\u001b[38;5;124m'\u001b[39m\u001b[38;5;124mname\u001b[39m\u001b[38;5;124m'\u001b[39m]\n",
      "\u001b[0;31mKeyError\u001b[0m: 'features'"
     ]
    }
   ],
   "source": [
    "stations_lst = collect_wx_data(maria_0.centroid.x, maria_0.centroid.y, radius=5, fromdt=fromdt, todt=todt)"
   ]
  },
  {
   "cell_type": "code",
   "execution_count": 41,
   "id": "e34f99a2-1653-4243-be4d-6ed1193d5155",
   "metadata": {},
   "outputs": [
    {
     "data": {
      "text/plain": [
       "(<POLYGON ((-2081294.633 1505728.926, -2081280.718 1505416.526, -2081213.235 ...>,\n",
       " Timestamp('2019-11-01 20:42:22'))"
      ]
     },
     "execution_count": 41,
     "metadata": {},
     "output_type": "execute_result"
    }
   ],
   "source": [
    "get_observation('Maria2019', 19)"
   ]
  }
 ],
 "metadata": {
  "kernelspec": {
   "display_name": "Python 3 (ipykernel)",
   "language": "python",
   "name": "python3"
  },
  "language_info": {
   "codemirror_mode": {
    "name": "ipython",
    "version": 3
   },
   "file_extension": ".py",
   "mimetype": "text/x-python",
   "name": "python",
   "nbconvert_exporter": "python",
   "pygments_lexer": "ipython3",
   "version": "3.11.6"
  }
 },
 "nbformat": 4,
 "nbformat_minor": 5
}
