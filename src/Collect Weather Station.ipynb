{
 "cells": [
  {
   "cell_type": "markdown",
   "id": "7fc6d9c7-994f-4f6c-8192-b3cdd9187b5b",
   "metadata": {},
   "source": [
    "# Collect Weather Station data around chosen polygon"
   ]
  },
  {
   "cell_type": "code",
   "execution_count": 4,
   "id": "16a3ccb6-326c-4740-a1b7-e85f9525e0a4",
   "metadata": {},
   "outputs": [
    {
     "name": "stderr",
     "output_type": "stream",
     "text": [
      "/opt/conda/lib/python3.11/site-packages/geopandas/_compat.py:124: UserWarning: The Shapely GEOS version (3.11.1-CAPI-1.17.1) is incompatible with the GEOS version PyGEOS was compiled with (3.10.4-CAPI-1.16.2). Conversions between both will be slow.\n",
      "  warnings.warn(\n",
      "/tmp/ipykernel_319/892420718.py:3: DeprecationWarning: Shapely 2.0 is installed, but because PyGEOS is also installed, GeoPandas still uses PyGEOS by default. However, starting with version 0.14, the default will switch to Shapely. To force to use Shapely 2.0 now, you can either uninstall PyGEOS or set the environment variable USE_PYGEOS=0. You can do this before starting the Python process, or in your code before importing geopandas:\n",
      "\n",
      "import os\n",
      "os.environ['USE_PYGEOS'] = '0'\n",
      "import geopandas\n",
      "\n",
      "In the next release, GeoPandas will switch to using Shapely by default, even if PyGEOS is installed. If you only have PyGEOS installed to get speed-ups, this switch should be smooth. However, if you are using PyGEOS directly (calling PyGEOS functions on geometries from GeoPandas), this will then stop working and you are encouraged to migrate from PyGEOS to Shapely 2.0 (https://shapely.readthedocs.io/en/latest/migration_pygeos.html).\n",
      "  import geopandas as gpd\n"
     ]
    }
   ],
   "source": [
    "import numpy as np\n",
    "import pandas as pd\n",
    "import geopandas as gpd\n",
    "from matplotlib import pyplot as plt\n",
    "\n",
    "from dataclasses import dataclass\n",
    "\n",
    "import arrow\n",
    "\n",
    "import contextily as ctx\n",
    "import datetime\n",
    "\n",
    "import requests\n",
    "\n",
    "@dataclass\n",
    "class Station:\n",
    "    name: str\n",
    "    lat: float\n",
    "    lon: float\n",
    "    temperature: list\n",
    "    wind_speed: list\n",
    "    wind_direction: list\n",
    "    timestamp: list\n",
    "    units: dict"
   ]
  },
  {
   "cell_type": "code",
   "execution_count": 5,
   "id": "b96c1ca7-027f-4ffd-8829-6fa0459c42f6",
   "metadata": {},
   "outputs": [],
   "source": [
    "def reproject_geom(geom, from_crs='EPSG:5070', to_crs='EPSG:3857'):\n",
    "    return gpd.GeoSeries(geom, crs=from_crs).to_crs(to_crs)[0]\n",
    "\n",
    "\n",
    "def get_observation(description : str, tix : int, crs_epsg=5070):\n",
    "    ''' Obtain selected observation geometry and datetime\n",
    "    '''\n",
    "\n",
    "    if description not in ['Maria2019', 'River2021', 'Bridge2021']:\n",
    "        raise ValueError(f'description {description} not present in db')\n",
    "    \n",
    "    def change_username_jovyan(df, column):\n",
    "        for ix, row in df.iterrows():\n",
    "            path_list = row[column].split('/')\n",
    "            path_list[2] = 'jovyan'\n",
    "    \n",
    "            path = ''\n",
    "            for string in path_list[:-1]:\n",
    "                path += f'{string}/'\n",
    "            path += path_list[-1]\n",
    "    \n",
    "            df.loc[ix, column] = path  \n",
    "    \n",
    "    df = pd.read_pickle('/home/jovyan/data/dftable_06032023.pkl')\n",
    "    change_username_jovyan(df, 'filepath')\n",
    "    \n",
    "    dfrow = df[df['description'] == description].sort_values('datetime').iloc[tix]\n",
    "    dfgeom = gpd.read_file(dfrow['filepath']).to_crs(epsg=crs_epsg)['geometry'][0]\n",
    "    dfdt = dfrow['datetime']\n",
    "    \n",
    "    return dfgeom, dfdt\n",
    "\n",
    "\n",
    "# def collect_wx_data(gdf, gdfignition, igniteidx, compareidx):\n",
    "def collect_wx_data(centerlon, centerlat, radius, fromdt, todt):\n",
    "    km_per_miles = 1.60934\n",
    "\n",
    "    # ignite = gdfignition.to_crs(epsg=4326).loc[igniteidx]\n",
    "    # compare = gdfignition.to_crs(epsg=4326).loc[compareidx]\n",
    "\n",
    "    baseURL = \"https://firemap.sdsc.edu/pylaski/stations/data?\"\n",
    "\n",
    "    ## Always start with the base of the URL\n",
    "\n",
    "    selectionType='selection=withinRadius'\n",
    "\n",
    "    # Choose the centroid of the ignition\n",
    "    # lon = ignite['geometry'].centroid.x\n",
    "    # lat = ignite['geometry'].centroid.y\n",
    "    lon = centerlon\n",
    "    lat = centerlat\n",
    "    \n",
    "    # radius = 5*km_per_miles    # 2 mile radius\n",
    "\n",
    "    ## Latitude and longitude of the White House according to Google\n",
    "    selectionParameters = '&lat={}&lon={}&radius={}'.format(str(lat),str(lon), str(radius))\n",
    "\n",
    "    observables_list = ['temperature', 'wind_speed', 'wind_direction']\n",
    "    observables = ''\n",
    "    for observable in observables_list:\n",
    "        observables += f'&observable={observable}'\n",
    "\n",
    "    # fromdt = ignite['datetime'].tz_localize('US/Pacific')\n",
    "    # todt = compare['datetime'].tz_localize('US/Pacific')\n",
    "    frm = arrow.Arrow.fromdatetime(fromdt.to_pydatetime())\n",
    "    to = arrow.Arrow.fromdatetime(todt.to_pydatetime())\n",
    "\n",
    "    frm = frm.shift(minutes=-10)\n",
    "    to = to.shift(minutes=10)\n",
    "\n",
    "    urlDateTime = '&from={}&to={}'.format(str(frm), str(to))\n",
    "\n",
    "    urlPlot = baseURL + selectionType + selectionParameters + observables + urlDateTime\n",
    "    print(urlPlot)\n",
    "\n",
    "    r = requests.get(urlPlot)\n",
    "    ## Request to GET information from the given URL (Our REST query we built)\n",
    "    r_json = r.json()\n",
    "\n",
    "    stations_lst = []\n",
    "    for feature in r_json['features']:\n",
    "\n",
    "        lon,lat = feature['geometry']['coordinates']\n",
    "\n",
    "        name = feature['properties']['description']['name']\n",
    "        wxid = feature['properties']['description']['id']\n",
    "        provider = feature['properties']['description']['provider']\n",
    "        wifire_uid = feature['properties']['description']['wifire_uid']\n",
    "\n",
    "        timestamp = pd.to_datetime(feature['properties']['timestamp'])\n",
    "        try:\n",
    "            temperature = feature['properties']['temperature']\n",
    "        except KeyError:\n",
    "            temperature = []\n",
    "\n",
    "        try:\n",
    "            wind_speed = feature['properties']['wind_speed']\n",
    "        except KeyError:\n",
    "            wind_speed = []\n",
    "\n",
    "        try:\n",
    "            wind_direction = feature['properties']['wind_direction']\n",
    "        except KeyError:\n",
    "            wind_direction = []\n",
    "\n",
    "        units = feature['properties']['units']\n",
    "\n",
    "        stations_lst.append(Station(name, lat, lon, temperature, wind_speed, wind_direction, timestamp, units))\n",
    "        \n",
    "    return stations_lst"
   ]
  },
  {
   "cell_type": "code",
   "execution_count": 6,
   "id": "3cb30c93-ef6b-46d5-9005-49094b368c42",
   "metadata": {},
   "outputs": [],
   "source": [
    "maria_0, dt = get_observation('Maria2019', 0, crs_epsg=4326)"
   ]
  },
  {
   "cell_type": "code",
   "execution_count": 7,
   "id": "437518a7-388a-497e-a2a6-26247a6db7ea",
   "metadata": {},
   "outputs": [
    {
     "data": {
      "text/plain": [
       "(array('d', [-119.03909139010646]), array('d', [34.31984085482562]))"
      ]
     },
     "execution_count": 7,
     "metadata": {},
     "output_type": "execute_result"
    }
   ],
   "source": [
    "maria_0.centroid.xy"
   ]
  },
  {
   "cell_type": "code",
   "execution_count": 8,
   "id": "676f0a4f-1062-42f4-aafb-f2e05b146d0c",
   "metadata": {},
   "outputs": [],
   "source": [
    "fromdt = dt.tz_localize('US/Pacific')-datetime.timedelta(minutes=10)\n",
    "todt = dt.tz_localize('US/Pacific')+datetime.timedelta(minutes=10)\n",
    "\n",
    "year = 2023\n",
    "fromdt = fromdt.replace(year=year)\n",
    "todt = todt.replace(year=year)"
   ]
  },
  {
   "cell_type": "code",
   "execution_count": 14,
   "id": "0b9a41b6-c571-4bac-81a9-c823f11d2f15",
   "metadata": {},
   "outputs": [
    {
     "name": "stdout",
     "output_type": "stream",
     "text": [
      "https://firemap.sdsc.edu/pylaski/stations/data?selection=withinRadius&lat=34.31984085482562&lon=-119.03909139010646&radius=5&observable=temperature&observable=wind_speed&observable=wind_direction&from=2023-10-31T19:17:11-07:00&to=2023-10-31T19:57:11-07:00\n"
     ]
    }
   ],
   "source": [
    "stations_lst = collect_wx_data(maria_0.centroid.x, maria_0.centroid.y, radius=5, fromdt=fromdt, todt=todt)"
   ]
  },
  {
   "cell_type": "code",
   "execution_count": 22,
   "id": "e34f99a2-1653-4243-be4d-6ed1193d5155",
   "metadata": {},
   "outputs": [
    {
     "data": {
      "text/plain": [
       "[Station(name='SCE Krohn Ridge', lat=34.30253, lon=-119.06011, temperature=[74.89, 75.19, 74.7, 75.8], wind_speed=[1.57, 1.21, 1.62, 1.27], wind_direction=[338.5, 347.2, 0.89, 339.1], timestamp=DatetimeIndex(['2023-10-31 19:20:00-07:00', '2023-10-31 19:30:00-07:00',\n",
       "                '2023-10-31 19:40:00-07:00', '2023-10-31 19:50:00-07:00'],\n",
       "               dtype='datetime64[ns, UTC-07:00]', freq=None), units={'temperature': 'F', 'wind_speed': 'mps', 'wind_direction': 'd'}),\n",
       " Station(name='SCE Morgan Canyon Rd', lat=34.34512, lon=-119.04721, temperature=[64.49, 63.1, 62.44, 62.4], wind_speed=[1.2, 1.22, 1.42, 0.94], wind_direction=[159.2, 152.8, 162.7, 151.7], timestamp=DatetimeIndex(['2023-10-31 19:20:00-07:00', '2023-10-31 19:30:00-07:00',\n",
       "                '2023-10-31 19:40:00-07:00', '2023-10-31 19:50:00-07:00'],\n",
       "               dtype='datetime64[ns, UTC-07:00]', freq=None), units={'temperature': 'F', 'wind_speed': 'mps', 'wind_direction': 'd'}),\n",
       " Station(name='SCE River Valley View', lat=34.32463, lon=-119.08072, temperature=[67.06, 64.96, 64.3, 62.97], wind_speed=[0.2, 0.21, 0.34, 0.47], wind_direction=[188.9, 79.17, 141.4, 130.0], timestamp=DatetimeIndex(['2023-10-31 19:20:00-07:00', '2023-10-31 19:30:00-07:00',\n",
       "                '2023-10-31 19:40:00-07:00', '2023-10-31 19:50:00-07:00'],\n",
       "               dtype='datetime64[ns, UTC-07:00]', freq=None), units={'temperature': 'F', 'wind_speed': 'mps', 'wind_direction': 'd'})]"
      ]
     },
     "execution_count": 22,
     "metadata": {},
     "output_type": "execute_result"
    }
   ],
   "source": [
    "stations_lst[-3:]"
   ]
  }
 ],
 "metadata": {
  "kernelspec": {
   "display_name": "Python 3 (ipykernel)",
   "language": "python",
   "name": "python3"
  },
  "language_info": {
   "codemirror_mode": {
    "name": "ipython",
    "version": 3
   },
   "file_extension": ".py",
   "mimetype": "text/x-python",
   "name": "python",
   "nbconvert_exporter": "python",
   "pygments_lexer": "ipython3",
   "version": "3.11.6"
  }
 },
 "nbformat": 4,
 "nbformat_minor": 5
}
