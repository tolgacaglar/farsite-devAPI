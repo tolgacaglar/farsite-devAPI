{
 "cells": [
  {
   "cell_type": "markdown",
   "id": "992fcd1d-a22a-4535-a8ae-23c656c1800e",
   "metadata": {
    "jp-MarkdownHeadingCollapsed": true,
    "tags": []
   },
   "source": [
    "# Dependencies"
   ]
  },
  {
   "cell_type": "code",
   "execution_count": 1,
   "id": "569af194-c96e-4ab0-90a8-13189c4fda2e",
   "metadata": {
    "tags": []
   },
   "outputs": [
    {
     "name": "stderr",
     "output_type": "stream",
     "text": [
      "/opt/conda/lib/python3.11/site-packages/geopandas/_compat.py:124: UserWarning: The Shapely GEOS version (3.11.1-CAPI-1.17.1) is incompatible with the GEOS version PyGEOS was compiled with (3.10.4-CAPI-1.16.2). Conversions between both will be slow.\n",
      "  warnings.warn(\n"
     ]
    }
   ],
   "source": [
    "# from kalmanutils import validate_geoms_matrix, interpolate_geometries\n",
    "import farsiteutils_v2 as futils\n",
    "import uuid\n",
    "import datetime\n",
    "\n",
    "import pandas as pd\n",
    "import geopandas as gpd\n",
    "\n",
    "from shapely.geometry import MultiPolygon, Polygon, Point, GeometryCollection\n",
    "from shapely.validation import make_valid\n",
    "\n",
    "from matplotlib import pyplot as plt\n",
    "import numpy as np\n",
    "\n",
    "import random \n",
    "import pickle"
   ]
  },
  {
   "cell_type": "markdown",
   "id": "a222dc5d-44f4-4774-a2a0-20b27480923c",
   "metadata": {},
   "source": [
    "# Functions"
   ]
  },
  {
   "cell_type": "markdown",
   "id": "c88eda77-125c-455d-952a-a96834799def",
   "metadata": {},
   "source": [
    "## Geometry handling - backend"
   ]
  },
  {
   "cell_type": "code",
   "execution_count": 2,
   "id": "6acc0d42-1180-4edb-91c6-8fb38e9601ea",
   "metadata": {
    "tags": []
   },
   "outputs": [],
   "source": [
    "def interpolate_perimeter(vertices, dnumber):\n",
    "    # Changes the number of vertices of the given set of vertices\n",
    "    if len(vertices) == dnumber:\n",
    "        return vertices\n",
    "    \n",
    "    vertices = np.array(vertices)\n",
    "    step_len = np.sqrt(np.sum(np.diff(vertices, 1, 0)**2, 1)) # length of each side\n",
    "    step_len = np.append([0], step_len)\n",
    "    cumulative_len = np.cumsum(step_len)\n",
    "    interpolation_loc = np.linspace(0, cumulative_len[-1], dnumber)\n",
    "    X = np.interp(interpolation_loc, cumulative_len, vertices[:,0])\n",
    "    Y = np.interp(interpolation_loc, cumulative_len, vertices[:,1])\n",
    "\n",
    "    return list(zip(X,Y))\n",
    "\n",
    "def align_vertices(interpolated_vertices):\n",
    "    minroll_lst = []\n",
    "    \n",
    "    aligned_vertices = [interpolated_vertices[0]]\n",
    "    for i in range(len(interpolated_vertices)-1):\n",
    "        right_vertices = interpolated_vertices[i+1]\n",
    "\n",
    "        # Cycle right_vertices\n",
    "        l2perroll = []\n",
    "        for roll in range(len(interpolated_vertices[i])-1):\n",
    "            diff = aligned_vertices[0] - right_vertices\n",
    "            diff2sum = (diff[:,0]**2 + diff[:,1]**2).sum()\n",
    "\n",
    "            # Calculate diff^2 in\n",
    "            l2perroll.append(diff2sum)\n",
    "\n",
    "            right_vertices = np.roll(right_vertices,1, axis=0)\n",
    "\n",
    "        minroll_lst.append(np.argmin(l2perroll))\n",
    "\n",
    "    for i in range(len(interpolated_vertices)-1):\n",
    "        aligned_vertices.append(np.roll(interpolated_vertices[i+1], minroll_lst[i], axis=0))\n",
    "    \n",
    "    return aligned_vertices\n",
    "\n",
    "def validate_geoms_matrix(X, aligned_vertices):\n",
    "    Xnew = np.zeros((2*aligned_vertices.shape[0], X.shape[1]))\n",
    "\n",
    "    for i in range(X.shape[1]):\n",
    "        X_0 = X[:,i]\n",
    "        x = X_0[::2]\n",
    "        y = X_0[1::2]\n",
    "\n",
    "        geom = Polygon(zip(x,y)).buffer(0)\n",
    "        if isinstance(geom, MultiPolygon):\n",
    "            geom = calculate_max_area_geom(geom)\n",
    "\n",
    "        geom = np.array(interpolate_perimeter(geom.exterior.coords[:-1], aligned_vertices.shape[0]))\n",
    "        geom = align_vertices([aligned_vertices, geom])[1]\n",
    "\n",
    "        Xnew[:,i] = geom.flatten()\n",
    "\n",
    "    # X = np.append(Xnew, X, axis=0)\n",
    "    return Xnew"
   ]
  },
  {
   "cell_type": "markdown",
   "id": "7d5d2e0d-52e9-4824-a1fc-35f6961e6c38",
   "metadata": {},
   "source": [
    "## Geometry handling"
   ]
  },
  {
   "cell_type": "code",
   "execution_count": 3,
   "id": "354d8f67-6f18-4c57-b50d-b9a1f00f6aba",
   "metadata": {
    "tags": []
   },
   "outputs": [],
   "source": [
    "def make_ccw(geom):\n",
    "    if not geom.exterior.is_ccw:\n",
    "        return geom.reverse()\n",
    "    \n",
    "    return geom\n",
    "\n",
    "def interpolate_geom(geom, vertex_count):\n",
    "    return Polygon(interpolate_perimeter((geom.exterior.coords[:-1]), vertex_count))\n",
    "\n",
    "def interpolate_geoms(geoms, vertex_count):\n",
    "        \n",
    "    interpolated_geoms = []\n",
    "    for geom in geoms:\n",
    "        interpolated_geoms.append(interpolate_geom(geom, vertex_count))\n",
    "        \n",
    "    return interpolated_geoms\n",
    "\n",
    "\n",
    "\n",
    "def align_geoms(geoms, vertex_count): \n",
    "    '''\n",
    "        Will align all the geometries based on geoms[0]\n",
    "    '''\n",
    "    \n",
    "    # Calculate interpolated vertices first\n",
    "    interpolated_geoms = interpolate_geoms(geoms, vertex_count)\n",
    "    \n",
    "    interpolated_vertices = [make_ccw(interpolated_geoms[0]).exterior.coords[:-1]]\n",
    "    for geom in interpolated_geoms[1:]:\n",
    "        interpolated_vertices.append(make_ccw(geom).exterior.coords[:-1])\n",
    "\n",
    "    # for vertices in align_vertices(np.array(interpolated_vertices)):\n",
    "    #     poly = Polygon(vertices)\n",
    "    #     geom = interpolate_geom(validate_geom(poly), vertex_count)\n",
    "            \n",
    "    \n",
    "    return [Polygon(vertices) for vertices in align_vertices(np.array(interpolated_vertices))]\n",
    "\n",
    "def geom_to_vector(geom):\n",
    "    return np.array(geom.exterior.coords[:-1]).reshape(1, 2*len(geom.exterior.coords[:-1]))\n",
    "\n",
    "def geoms_to_matrix(geoms, vertex_count=None, aligned_geom=None, nsamples=None):\n",
    "    if vertex_count == None:\n",
    "        vertex_count = len(geoms[0].exterior.coords)-1\n",
    "              \n",
    "    assert (nsamples is not None), f'nsamples = {nsamples}, give a value!'\n",
    "    X = np.zeros((2*vertex_count, nsamples))\n",
    "\n",
    "    assert (nsamples == len(geoms)), f'Need to fill {nsamples-len(geoms)}/{nsamples}'\n",
    "    \n",
    "    if aligned_geom is not None:\n",
    "        aligned_geoms = align_geoms([aligned_geom] + geoms, vertex_count)[1:]\n",
    "    else:\n",
    "        aligned_geoms = align_geoms(geoms, vertex_count)\n",
    "        \n",
    "    for i, geom in enumerate(aligned_geoms):\n",
    "        X[:,i] = geom_to_vector(geom)\n",
    "        \n",
    "    return X\n",
    "\n",
    "def matrix_to_geom(X):\n",
    "    geoms = []\n",
    "    \n",
    "    for xix in range(X.shape[1]):\n",
    "        geoms.append(Polygon(zip(X[::2,xix],X[1::2,xix])))\n",
    "        \n",
    "    return geoms\n",
    "\n",
    "def sample_geometry(geom, sigma=1):\n",
    "    sampled_vertices = []\n",
    "    \n",
    "    # Choose a random direction\n",
    "    theta = random.uniform(0,2*np.pi)\n",
    "\n",
    "    for (x,y) in geom.exterior.coords[:-1]:\n",
    "        mu=0\n",
    "        \n",
    "        randx = random.gauss(mu, sigma)\n",
    "        randy = random.gauss(mu, sigma)\n",
    "        \n",
    "#         # Choose a normal random radius based on the given sigma\n",
    "#         radius = abs(random.gauss(mu, sigma))\n",
    "        \n",
    "#         # Calculate x and y distance for the random\n",
    "#         randx = radius*np.cos(theta)\n",
    "#         randy = radius*np.sin(theta)\n",
    "        \n",
    "        sampled_vertices.append((x+randx, y+randy))\n",
    "\n",
    "    sampled_vertices = np.array(sampled_vertices)\n",
    "    return Polygon(sampled_vertices)\n",
    "\n",
    "def calculate_max_area_geom(multigeom):\n",
    "    if isinstance(multigeom, GeometryCollection) | isinstance(multigeom, MultiPolygon):\n",
    "        max_area = 0\n",
    "        max_area_idx = 0\n",
    "        for ix, g in enumerate(multigeom.geoms):\n",
    "            if g.area > max_area:\n",
    "                max_area = g.area\n",
    "                max_area_idx = ix\n",
    "        return calculate_max_area_geom(multigeom.geoms[max_area_idx])\n",
    "    \n",
    "    return multigeom\n",
    "\n",
    "def validate_geom(poly):\n",
    "    poly = make_valid(poly)\n",
    "    if isinstance(poly, GeometryCollection) | isinstance(poly, MultiPolygon):\n",
    "        poly = calculate_max_area_geom(poly)\n",
    "    \n",
    "    assert(isinstance(poly, Polygon)), 'buffered polygon is not a polygon'\n",
    "    \n",
    "    return poly\n",
    "\n",
    "def fill_null_geoms(geoms, nsamples):\n",
    "    X = geoms_to_matrix(geoms, nsamples=len(geoms))\n",
    "    mu = X.mean(axis=1)\n",
    "    stdev = X.std(axis=1)\n",
    "    \n",
    "    added_geoms = []\n",
    "    for i in range(nsamples-len(geoms)):\n",
    "        xy = np.random.normal(mu, stdev)\n",
    "        geom = Polygon(zip(xy[::2], xy[1::2]))\n",
    "        added_geoms.append(validate_geom(geom))\n",
    "        \n",
    "    return geoms + added_geoms\n",
    "\n",
    "def fill_zeros(A, nonzerolen, nsamples):\n",
    "    mu = A[:,:nonzerolen].mean(axis=1)\n",
    "    stdev = A[:,:nonzerolen].std(axis=1)\n",
    "\n",
    "    for i in range(nonzerolen, nsamples):\n",
    "        # Calculate uncertainties for each point\n",
    "        A[:,i] = np.random.normal(mu, stdev)\n",
    "        \n",
    "    return A\n",
    "\n"
   ]
  },
  {
   "cell_type": "markdown",
   "id": "cfeb774e-37e4-4272-8bc9-0a7e632cb6b7",
   "metadata": {},
   "source": [
    "## Plots"
   ]
  },
  {
   "cell_type": "code",
   "execution_count": 4,
   "id": "068b32c7-b68a-4c1f-975f-80e246ed927f",
   "metadata": {
    "tags": []
   },
   "outputs": [],
   "source": [
    "def plot_geometry(geom, ax = None, **kwargs):\n",
    "    if ax is None:\n",
    "        fig, ax = plt.subplots(1,1, figsize=(4,4))\n",
    "    \n",
    "    if isinstance(geom, MultiPolygon):\n",
    "        for g in geom.geoms:\n",
    "            x,y = g.exterior.coords.xy\n",
    "            ax.plot(x[:-1],y[:-1], **kwargs)\n",
    "    else:\n",
    "        x,y = geom.exterior.coords.xy\n",
    "        ax.plot(x[:-1],y[:-1], **kwargs)\n",
    "        \n",
    "    ax.set_aspect('equal')\n",
    "        \n",
    "def plot_matrix(X, ax=None, show_stdev = False, **kwargs):\n",
    "    vcounts = X.shape[0]//2\n",
    "    \n",
    "    if ax is None:\n",
    "        fig, ax = plt.subplots(1,1, figsize=(4,4))\n",
    "    \n",
    "    color = (1,0,0,0.9)\n",
    "    if 'color' in kwargs:\n",
    "        color = kwargs['color']\n",
    "        \n",
    "    X_std = np.std(X, axis=1)\n",
    "    X_mean = np.mean(X, axis=1)\n",
    "    ax.plot(X_mean[::2], X_mean[1::2], **kwargs)\n",
    "\n",
    "    # Calculate standard deviation of the generated coordinates\n",
    "    x0, y0 = X_mean[::2], X_mean[1::2]\n",
    "    radstd = np.zeros_like(x0)\n",
    "    \n",
    "    for vix in range(vcounts):\n",
    "        x,y = X[2*vix,:], X[2*vix+1,:]\n",
    "        radius = np.sqrt((x-x0[vix])**2 +(y-y0[vix])**2)\n",
    "        radstd[vix] = np.std(radius)\n",
    "    \n",
    "    if show_stdev:\n",
    "        for vix in range(vcounts):\n",
    "            circle = plt.Circle((x0[vix], y0[vix]), radius=radstd[vix], fill=False, edgecolor=(0,0,0,0.4), lw=0.3)\n",
    "            ax.add_artist(circle)\n",
    "            \n",
    "    ax.set_aspect('equal')\n",
    "\n",
    "def plot_matrix_ensemble(X, ax=None, plot_alix = None, alpha=0.1, **kwargs):\n",
    "    \n",
    "    if ax is None:\n",
    "        fig, ax = plt.subplots(1,1, figsize=(4,4))\n",
    "        \n",
    "    for vix in range(X.shape[1]):\n",
    "        ax.plot(X[::2, vix], X[1::2, vix], **kwargs)\n",
    "        \n",
    "    if plot_alix is not None:\n",
    "        ax.scatter(X[2*plot_alix,:], X[2*plot_alix+1, :], alpha = alpha, color=kwargs['color'], edgecolors=(0,0,0,0))\n",
    "    ax.set_aspect('equal')"
   ]
  },
  {
   "cell_type": "markdown",
   "id": "88a14eeb-49ef-4aef-a2e5-975d8d350ebc",
   "metadata": {},
   "source": [
    "## FARSITE Forward Pass"
   ]
  },
  {
   "cell_type": "code",
   "execution_count": 5,
   "id": "8d59c46c-4b56-4c25-aaae-bd4f8320c0e5",
   "metadata": {
    "tags": []
   },
   "outputs": [],
   "source": [
    "def calculate(initialidx, \n",
    "              observeidx,\n",
    "              windspeed, winddirection, \n",
    "              usr: futils.User,\n",
    "              lcpidx='43b7f5db36994599861eec4849cc68fd', \n",
    "              barrieridx='cb47616cd2dc4ccc8fd523bd3a5064bb'):\n",
    "\n",
    "    \n",
    "    # Setup the input data\n",
    "    inputData = {'description': 'Maria_2019',\n",
    "                 'igniteidx'  : initialidx,\n",
    "                 'compareidx' : observeidx,\n",
    "                 'lcpidx'     : lcpidx,\n",
    "                 'barrieridx' : barrieridx,\n",
    "\n",
    "                 'windspeed': windspeed, 'winddirection': winddirection,\n",
    "                 'relhumid': 90, 'temperature': 20}\n",
    "\n",
    "    mainapi = usr.calculatePerimeters(inputData)\n",
    "    mainapi.run_farsite()\n",
    "\n",
    "def forward_pass(poly, params):\n",
    "    '''\n",
    "        params: take values: 'windspeed', 'winddirection' ,'dt' (dt is a datetime.timedelta object)\n",
    "    '''\n",
    "    # Parameters to run the simulation\n",
    "    windspeed = params['windspeed']\n",
    "    winddirection = params['winddirection']\n",
    "    dt = params['dt']\n",
    "    \n",
    "    # Create handles for simulation\n",
    "    fp = futils.FilePaths(DATA_PATH)\n",
    "    usr = futils.User(fp)\n",
    "\n",
    "    initialidx = uuid.uuid4().hex\n",
    "    fpath = f'/home/jovyan/farsite/inputs/maria_ignite/Reference/maria_{initialidx}.shp'\n",
    "    # Creating the shp file for simulation\n",
    "    gpd.GeoDataFrame({'FID': [0], 'geometry':poly}, crs='EPSG:5070').to_file(fpath)\n",
    "    \n",
    "    usr.db.dfObservation.loc[initialidx, ['filetype', 'filepath', 'datetime', 'description']] = ['Observation', \n",
    "                                                                                               fpath, datetime.datetime.now(),\n",
    "                                                                                               'Maria2019']\n",
    "    \n",
    "    observeidx = uuid.uuid4().hex\n",
    "    # Add observationidx only to calculate the dt in the backend\n",
    "    usr.db.dfObservation.loc[observeidx, 'datetime'] = usr.db.dfObservation.loc[initialidx, 'datetime'] + dt\n",
    "    \n",
    "    \n",
    "    # Run simulation for dt from initialidx\n",
    "    calculate(initialidx, observeidx, windspeed, winddirection, usr)\n",
    "    \n",
    "    # add simulation as the next initial point\n",
    "    dfsim = usr.db.dfsimulation[(usr.db.dfsimulation['igniteidx'] == initialidx) & \n",
    "                            (usr.db.dfsimulation['compareidx'] == observeidx)]\n",
    "    \n",
    "    if len(dfsim) < 1:\n",
    "        return None\n",
    "    \n",
    "    # assert(len(dfsim) == 1) , f'Length of dfsim = {len(dfsim)}'\n",
    "    if len(dfsim) != 1:\n",
    "        raise ValueError(f'Length of dfsim = {len(dfsim)}')\n",
    "\n",
    "    usr.db.dfObservation.loc[dfsim.index[0], ['filetype', 'description']] = ['Observation', 'Maria2019']\n",
    "    \n",
    "\n",
    "    simpath = f'/home/jovyan/farsite/inputs/maria_ignite/Reference/maria_{observeidx}.shp'\n",
    "    dfgeom = gpd.read_file(dfsim['filepath'].iloc[0])['geometry']\n",
    "    assert(len(dfgeom) == 1), f'dfgeom has size = {len(dfgeom)}'\n",
    "    dfgeom = dfgeom[0]\n",
    "    return Polygon(dfgeom.coords)"
   ]
  },
  {
   "cell_type": "markdown",
   "id": "710d88e3-505a-47d5-a9f5-39e049d784e6",
   "metadata": {},
   "source": [
    "## EnKF Update"
   ]
  },
  {
   "cell_type": "code",
   "execution_count": 6,
   "id": "ea97587b-0d3f-42c1-bf2a-ac5af5ce650c",
   "metadata": {
    "tags": []
   },
   "outputs": [],
   "source": [
    "def update_EnKF(Xt, Y):\n",
    "    nsamples = Y.shape[1]\n",
    "\n",
    "    xt = Xt.mean(axis=1, keepdims=True)\n",
    "    y = Y.mean(axis=1, keepdims=True)\n",
    "\n",
    "    Ex = Xt - xt.repeat(nsamples, axis=1)\n",
    "    Ey = Y - y.repeat(nsamples, axis=1)\n",
    "\n",
    "    Py = 1/(nsamples)*np.matmul(Ey, Ey.T)\n",
    "    Pxy = 1/(nsamples)*np.matmul(Ex, Ey.T)\n",
    "\n",
    "    # max_Py = abs(Py).max()\n",
    "    # max_Pxy = abs(Pxy).max()\n",
    "    # Py /= max_Py\n",
    "    # Pxy /= max_Pxy\n",
    "\n",
    "    Py_inv = np.linalg.pinv(Py, hermitian=True)\n",
    "\n",
    "    assert(np.allclose(np.matmul(Py_inv, Py), np.eye(Y.shape[0]))), 'Inverse calculation is incorrect'\n",
    "\n",
    "    # K = np.matmul(Pxy, Py_inv)*(max_Pxy/max_Py)\n",
    "    K = np.matmul(Pxy, Py_inv)\n",
    "\n",
    "    # Note that Xt has additional +2 in it\n",
    "    # Remove that with the matrix C\n",
    "    C = np.eye(Y.shape[0], Xt.shape[0])\n",
    "    #### Update the state ensemble\n",
    "    # X = Xt + np.matmul(K, (Y - np.matmul(C, Xt)))\n",
    "    X = Xt + np.matmul(K, (Y - Xt))\n",
    "\n",
    "    ### TODO ####\n",
    "    # Fix invalid geometries\n",
    "\n",
    "    # X = validate_geoms_matrix(X, aligned_geom)\n",
    "\n",
    "    return X\n",
    "\n",
    "def update_EnKF_2(Xt, Y):\n",
    "    nsamples = Y.shape[1]\n",
    "\n",
    "    xt = Xt.mean(axis=1, keepdims=True)\n",
    "    y = Y.mean(axis=1, keepdims=True)\n",
    "\n",
    "    Ex = Xt - xt.repeat(nsamples, axis=1)\n",
    "    Ey = Y - y.repeat(nsamples, axis=1)\n",
    "\n",
    "    Py = 1/(nsamples)*np.matmul(Ey, Ey.T)\n",
    "    Px = 1/(nsamples)*np.matmul(Ex, Ex.T)\n",
    "\n",
    "    Pxy_inv = np.linalg.pinv(Px + Py, hermitian=True)\n",
    "\n",
    "    assert(np.allclose(np.matmul(Pxy_inv, (Px+Py)), np.eye(Y.shape[0]))), 'Inverse calculation is incorrect'\n",
    "\n",
    "    K = np.matmul(Px, Pxy_inv)\n",
    "\n",
    "    # Note that Xt has additional +2 in it\n",
    "    # Remove that with the matrix C\n",
    "    C = np.eye(Y.shape[0], Xt.shape[0])\n",
    "    #### Update the state ensemble\n",
    "    # X = Xt + np.matmul(K, (Y - np.matmul(C, Xt)))\n",
    "    X = Xt + np.matmul(K, (Y - Xt))\n",
    "\n",
    "    ### TODO ####\n",
    "    # Fix invalid geometries\n",
    "\n",
    "    # X = validate_geoms_matrix(X, aligned_geom)\n",
    "\n",
    "    return X"
   ]
  },
  {
   "cell_type": "markdown",
   "id": "bf60a023-163e-4acd-aed4-8413dac8994f",
   "metadata": {},
   "source": [
    "# Start"
   ]
  },
  {
   "cell_type": "code",
   "execution_count": 7,
   "id": "5c705e40-b4a8-41fe-a637-3d1639373c02",
   "metadata": {
    "tags": []
   },
   "outputs": [
    {
     "name": "stdout",
     "output_type": "stream",
     "text": [
      "Database interaction not yet implemented. Use pickle file for dataframes instead!\n"
     ]
    }
   ],
   "source": [
    "SELECTED_FIRE_DEFAULT = 'Maria2019'\n",
    "DATA_PATH = '/home/jovyan/data/'    # Folder to keep all the data while running the simulations\n",
    "\n",
    "# Create handles for simulation\n",
    "fp = futils.FilePaths(DATA_PATH)\n",
    "usr = futils.User(fp)\n",
    "\n",
    "# ignition is a 100x100 square from the centroid\n",
    "cx, cy = gpd.read_file(usr.db.dfObservation.iloc[0]['filepath'])['geometry'][0].centroid.xy\n",
    "cx = cx[0]\n",
    "cy = cy[0]\n",
    "size = 100"
   ]
  },
  {
   "cell_type": "markdown",
   "id": "1cf42ae2-1e87-4386-ba3d-cd9a28d6a36a",
   "metadata": {},
   "source": [
    "## Ground Truth (Reference) geometries"
   ]
  },
  {
   "cell_type": "code",
   "execution_count": 8,
   "id": "e92ddb10-de3b-426d-a22a-b60240ede7f3",
   "metadata": {
    "scrolled": true,
    "tags": []
   },
   "outputs": [],
   "source": [
    "poly = Polygon(((cx-size/2,cy-size/2), (cx-size/2,cy+size/2), (cx+size/2,cy+size/2), (cx+size/2, cy-size/2)))\n",
    "# Run for 24h every 5 minutes\n",
    "params = {'windspeed': 15, 'winddirection': 90, 'dt': datetime.timedelta(minutes=30)}"
   ]
  },
  {
   "cell_type": "markdown",
   "id": "774958dd-5431-47e9-a8e3-fc7b9e3203a7",
   "metadata": {},
   "source": [
    "### Run forward simulations"
   ]
  },
  {
   "cell_type": "code",
   "execution_count": 10,
   "id": "d8b1f350-c8a9-4880-84ac-98a61015419d",
   "metadata": {
    "scrolled": true,
    "tags": []
   },
   "outputs": [
    {
     "name": "stdout",
     "output_type": "stream",
     "text": [
      "Database interaction not yet implemented. Use pickle file for dataframes instead!\n",
      "{'description': 'Maria_2019', 'igniteidx': '1606bc979d4f4cc68634b83e9a129829', 'compareidx': 'b4206d8b6ec84c1a893d4df9d82266ed', 'lcpidx': '43b7f5db36994599861eec4849cc68fd', 'barrieridx': 'cb47616cd2dc4ccc8fd523bd3a5064bb', 'windspeed': 15, 'winddirection': 90, 'relhumid': 90, 'temperature': 20}\n",
      "Choosing a perimeter from the database\n"
     ]
    },
    {
     "name": "stderr",
     "output_type": "stream",
     "text": [
      "/tmp/ipykernel_931/3353749124.py:40: SettingWithCopyWarning: \n",
      "A value is trying to be set on a copy of a slice from a DataFrame\n",
      "\n",
      "See the caveats in the documentation: https://pandas.pydata.org/pandas-docs/stable/user_guide/indexing.html#returning-a-view-versus-a-copy\n",
      "  usr.db.dfObservation.loc[initialidx, ['filetype', 'filepath', 'datetime', 'description']] = ['Observation',\n"
     ]
    },
    {
     "name": "stdout",
     "output_type": "stream",
     "text": [
      "Database interaction not yet implemented. Use pickle file for dataframes instead!\n"
     ]
    },
    {
     "name": "stderr",
     "output_type": "stream",
     "text": [
      "/tmp/ipykernel_931/3353749124.py:40: SettingWithCopyWarning: \n",
      "A value is trying to be set on a copy of a slice from a DataFrame\n",
      "\n",
      "See the caveats in the documentation: https://pandas.pydata.org/pandas-docs/stable/user_guide/indexing.html#returning-a-view-versus-a-copy\n",
      "  usr.db.dfObservation.loc[initialidx, ['filetype', 'filepath', 'datetime', 'description']] = ['Observation',\n"
     ]
    },
    {
     "name": "stdout",
     "output_type": "stream",
     "text": [
      "{'description': 'Maria_2019', 'igniteidx': 'd9987d5639644212813a70ed8e9a032a', 'compareidx': '51339b697b2042838fa98ef59fd1d7a4', 'lcpidx': '43b7f5db36994599861eec4849cc68fd', 'barrieridx': 'cb47616cd2dc4ccc8fd523bd3a5064bb', 'windspeed': 15, 'winddirection': 90, 'relhumid': 90, 'temperature': 20}\n",
      "Choosing a perimeter from the database\n",
      "Database interaction not yet implemented. Use pickle file for dataframes instead!\n",
      "{'description': 'Maria_2019', 'igniteidx': 'fb0019046f744c999f20a48dafb75b1a', 'compareidx': '45ea587617c94c1483b12f073f89aac1', 'lcpidx': '43b7f5db36994599861eec4849cc68fd', 'barrieridx': 'cb47616cd2dc4ccc8fd523bd3a5064bb', 'windspeed': 15, 'winddirection': 90, 'relhumid': 90, 'temperature': 20}\n",
      "Choosing a perimeter from the database\n"
     ]
    },
    {
     "name": "stderr",
     "output_type": "stream",
     "text": [
      "/tmp/ipykernel_931/3353749124.py:40: SettingWithCopyWarning: \n",
      "A value is trying to be set on a copy of a slice from a DataFrame\n",
      "\n",
      "See the caveats in the documentation: https://pandas.pydata.org/pandas-docs/stable/user_guide/indexing.html#returning-a-view-versus-a-copy\n",
      "  usr.db.dfObservation.loc[initialidx, ['filetype', 'filepath', 'datetime', 'description']] = ['Observation',\n"
     ]
    },
    {
     "name": "stdout",
     "output_type": "stream",
     "text": [
      "Database interaction not yet implemented. Use pickle file for dataframes instead!\n"
     ]
    },
    {
     "name": "stderr",
     "output_type": "stream",
     "text": [
      "/tmp/ipykernel_931/3353749124.py:40: SettingWithCopyWarning: \n",
      "A value is trying to be set on a copy of a slice from a DataFrame\n",
      "\n",
      "See the caveats in the documentation: https://pandas.pydata.org/pandas-docs/stable/user_guide/indexing.html#returning-a-view-versus-a-copy\n",
      "  usr.db.dfObservation.loc[initialidx, ['filetype', 'filepath', 'datetime', 'description']] = ['Observation',\n"
     ]
    },
    {
     "name": "stdout",
     "output_type": "stream",
     "text": [
      "{'description': 'Maria_2019', 'igniteidx': '682042a3ee0549afac2005992f1b797b', 'compareidx': '6f362247bd194a49bfbd05a67bfd219d', 'lcpidx': '43b7f5db36994599861eec4849cc68fd', 'barrieridx': 'cb47616cd2dc4ccc8fd523bd3a5064bb', 'windspeed': 15, 'winddirection': 90, 'relhumid': 90, 'temperature': 20}\n",
      "Choosing a perimeter from the database\n",
      "Database interaction not yet implemented. Use pickle file for dataframes instead!\n"
     ]
    },
    {
     "name": "stderr",
     "output_type": "stream",
     "text": [
      "/tmp/ipykernel_931/3353749124.py:40: SettingWithCopyWarning: \n",
      "A value is trying to be set on a copy of a slice from a DataFrame\n",
      "\n",
      "See the caveats in the documentation: https://pandas.pydata.org/pandas-docs/stable/user_guide/indexing.html#returning-a-view-versus-a-copy\n",
      "  usr.db.dfObservation.loc[initialidx, ['filetype', 'filepath', 'datetime', 'description']] = ['Observation',\n"
     ]
    },
    {
     "name": "stdout",
     "output_type": "stream",
     "text": [
      "{'description': 'Maria_2019', 'igniteidx': 'e6a1326a89c248b19ee96a0657f77e5c', 'compareidx': 'bafeb582b4994ab6911bf77dd65603a3', 'lcpidx': '43b7f5db36994599861eec4849cc68fd', 'barrieridx': 'cb47616cd2dc4ccc8fd523bd3a5064bb', 'windspeed': 15, 'winddirection': 90, 'relhumid': 90, 'temperature': 20}\n",
      "Choosing a perimeter from the database\n",
      "Database interaction not yet implemented. Use pickle file for dataframes instead!\n",
      "{'description': 'Maria_2019', 'igniteidx': '2cad26887c7d40de8a34ddbe7633127d', 'compareidx': '5fe449ed2716459aa28449ffa53cee93', 'lcpidx': '43b7f5db36994599861eec4849cc68fd', 'barrieridx': 'cb47616cd2dc4ccc8fd523bd3a5064bb', 'windspeed': 15, 'winddirection': 90, 'relhumid': 90, 'temperature': 20}\n",
      "Choosing a perimeter from the database\n"
     ]
    },
    {
     "name": "stderr",
     "output_type": "stream",
     "text": [
      "/tmp/ipykernel_931/3353749124.py:40: SettingWithCopyWarning: \n",
      "A value is trying to be set on a copy of a slice from a DataFrame\n",
      "\n",
      "See the caveats in the documentation: https://pandas.pydata.org/pandas-docs/stable/user_guide/indexing.html#returning-a-view-versus-a-copy\n",
      "  usr.db.dfObservation.loc[initialidx, ['filetype', 'filepath', 'datetime', 'description']] = ['Observation',\n"
     ]
    },
    {
     "name": "stdout",
     "output_type": "stream",
     "text": [
      "Database interaction not yet implemented. Use pickle file for dataframes instead!\n",
      "{'description': 'Maria_2019', 'igniteidx': '709c475057834bd9aa04a778e504b6e2', 'compareidx': 'b3a74bd7c68f45bda829575d2669b417', 'lcpidx': '43b7f5db36994599861eec4849cc68fd', 'barrieridx': 'cb47616cd2dc4ccc8fd523bd3a5064bb', 'windspeed': 15, 'winddirection': 90, 'relhumid': 90, 'temperature': 20}\n",
      "Choosing a perimeter from the database\n"
     ]
    },
    {
     "name": "stderr",
     "output_type": "stream",
     "text": [
      "/tmp/ipykernel_931/3353749124.py:40: SettingWithCopyWarning: \n",
      "A value is trying to be set on a copy of a slice from a DataFrame\n",
      "\n",
      "See the caveats in the documentation: https://pandas.pydata.org/pandas-docs/stable/user_guide/indexing.html#returning-a-view-versus-a-copy\n",
      "  usr.db.dfObservation.loc[initialidx, ['filetype', 'filepath', 'datetime', 'description']] = ['Observation',\n"
     ]
    },
    {
     "name": "stdout",
     "output_type": "stream",
     "text": [
      "Database interaction not yet implemented. Use pickle file for dataframes instead!\n"
     ]
    },
    {
     "name": "stderr",
     "output_type": "stream",
     "text": [
      "/tmp/ipykernel_931/3353749124.py:40: SettingWithCopyWarning: \n",
      "A value is trying to be set on a copy of a slice from a DataFrame\n",
      "\n",
      "See the caveats in the documentation: https://pandas.pydata.org/pandas-docs/stable/user_guide/indexing.html#returning-a-view-versus-a-copy\n",
      "  usr.db.dfObservation.loc[initialidx, ['filetype', 'filepath', 'datetime', 'description']] = ['Observation',\n"
     ]
    },
    {
     "name": "stdout",
     "output_type": "stream",
     "text": [
      "{'description': 'Maria_2019', 'igniteidx': '44a84985747d4f69b81111437a96d0b1', 'compareidx': 'd7517810ce4744ac959756e5e2cadd58', 'lcpidx': '43b7f5db36994599861eec4849cc68fd', 'barrieridx': 'cb47616cd2dc4ccc8fd523bd3a5064bb', 'windspeed': 15, 'winddirection': 90, 'relhumid': 90, 'temperature': 20}\n",
      "Choosing a perimeter from the database\n",
      "Database interaction not yet implemented. Use pickle file for dataframes instead!\n"
     ]
    },
    {
     "name": "stderr",
     "output_type": "stream",
     "text": [
      "/tmp/ipykernel_931/3353749124.py:40: SettingWithCopyWarning: \n",
      "A value is trying to be set on a copy of a slice from a DataFrame\n",
      "\n",
      "See the caveats in the documentation: https://pandas.pydata.org/pandas-docs/stable/user_guide/indexing.html#returning-a-view-versus-a-copy\n",
      "  usr.db.dfObservation.loc[initialidx, ['filetype', 'filepath', 'datetime', 'description']] = ['Observation',\n"
     ]
    },
    {
     "name": "stdout",
     "output_type": "stream",
     "text": [
      "{'description': 'Maria_2019', 'igniteidx': 'eb8b7ef3a6464bd6a18a19fb1829f5f9', 'compareidx': '5ff9f9f2f2a94cc3892e781300de8658', 'lcpidx': '43b7f5db36994599861eec4849cc68fd', 'barrieridx': 'cb47616cd2dc4ccc8fd523bd3a5064bb', 'windspeed': 15, 'winddirection': 90, 'relhumid': 90, 'temperature': 20}\n",
      "Choosing a perimeter from the database\n",
      "Database interaction not yet implemented. Use pickle file for dataframes instead!\n",
      "{'description': 'Maria_2019', 'igniteidx': 'f00f8f74396b43c5b7181769dab91183', 'compareidx': '0cf16dbc4cfb402f9b9f936be74b4822', 'lcpidx': '43b7f5db36994599861eec4849cc68fd', 'barrieridx': 'cb47616cd2dc4ccc8fd523bd3a5064bb', 'windspeed': 15, 'winddirection': 90, 'relhumid': 90, 'temperature': 20}\n",
      "Choosing a perimeter from the database\n"
     ]
    },
    {
     "name": "stderr",
     "output_type": "stream",
     "text": [
      "/tmp/ipykernel_931/3353749124.py:40: SettingWithCopyWarning: \n",
      "A value is trying to be set on a copy of a slice from a DataFrame\n",
      "\n",
      "See the caveats in the documentation: https://pandas.pydata.org/pandas-docs/stable/user_guide/indexing.html#returning-a-view-versus-a-copy\n",
      "  usr.db.dfObservation.loc[initialidx, ['filetype', 'filepath', 'datetime', 'description']] = ['Observation',\n"
     ]
    },
    {
     "name": "stdout",
     "output_type": "stream",
     "text": [
      "Database interaction not yet implemented. Use pickle file for dataframes instead!\n"
     ]
    },
    {
     "name": "stderr",
     "output_type": "stream",
     "text": [
      "/tmp/ipykernel_931/3353749124.py:40: SettingWithCopyWarning: \n",
      "A value is trying to be set on a copy of a slice from a DataFrame\n",
      "\n",
      "See the caveats in the documentation: https://pandas.pydata.org/pandas-docs/stable/user_guide/indexing.html#returning-a-view-versus-a-copy\n",
      "  usr.db.dfObservation.loc[initialidx, ['filetype', 'filepath', 'datetime', 'description']] = ['Observation',\n"
     ]
    },
    {
     "name": "stdout",
     "output_type": "stream",
     "text": [
      "{'description': 'Maria_2019', 'igniteidx': 'ebd000ca5afa4de093ae6eaa97db9893', 'compareidx': '3ab731c58f4f4adfb58ea42da7ded1bf', 'lcpidx': '43b7f5db36994599861eec4849cc68fd', 'barrieridx': 'cb47616cd2dc4ccc8fd523bd3a5064bb', 'windspeed': 15, 'winddirection': 90, 'relhumid': 90, 'temperature': 20}\n",
      "Choosing a perimeter from the database\n",
      "Database interaction not yet implemented. Use pickle file for dataframes instead!\n"
     ]
    },
    {
     "name": "stderr",
     "output_type": "stream",
     "text": [
      "/tmp/ipykernel_931/3353749124.py:40: SettingWithCopyWarning: \n",
      "A value is trying to be set on a copy of a slice from a DataFrame\n",
      "\n",
      "See the caveats in the documentation: https://pandas.pydata.org/pandas-docs/stable/user_guide/indexing.html#returning-a-view-versus-a-copy\n",
      "  usr.db.dfObservation.loc[initialidx, ['filetype', 'filepath', 'datetime', 'description']] = ['Observation',\n"
     ]
    },
    {
     "name": "stdout",
     "output_type": "stream",
     "text": [
      "{'description': 'Maria_2019', 'igniteidx': '53f2f932dcef4be3889fadda268827b0', 'compareidx': '064637bd822149668b72baf3ed5298b8', 'lcpidx': '43b7f5db36994599861eec4849cc68fd', 'barrieridx': 'cb47616cd2dc4ccc8fd523bd3a5064bb', 'windspeed': 15, 'winddirection': 90, 'relhumid': 90, 'temperature': 20}\n",
      "Choosing a perimeter from the database\n",
      "Database interaction not yet implemented. Use pickle file for dataframes instead!\n",
      "{'description': 'Maria_2019', 'igniteidx': '0841bd6fbce34fc486570991831a12d4', 'compareidx': 'ba5134603a8f415f8ac35164028ed549', 'lcpidx': '43b7f5db36994599861eec4849cc68fd', 'barrieridx': 'cb47616cd2dc4ccc8fd523bd3a5064bb', 'windspeed': 15, 'winddirection': 90, 'relhumid': 90, 'temperature': 20}\n",
      "Choosing a perimeter from the database\n"
     ]
    },
    {
     "name": "stderr",
     "output_type": "stream",
     "text": [
      "/tmp/ipykernel_931/3353749124.py:40: SettingWithCopyWarning: \n",
      "A value is trying to be set on a copy of a slice from a DataFrame\n",
      "\n",
      "See the caveats in the documentation: https://pandas.pydata.org/pandas-docs/stable/user_guide/indexing.html#returning-a-view-versus-a-copy\n",
      "  usr.db.dfObservation.loc[initialidx, ['filetype', 'filepath', 'datetime', 'description']] = ['Observation',\n"
     ]
    },
    {
     "name": "stdout",
     "output_type": "stream",
     "text": [
      "Database interaction not yet implemented. Use pickle file for dataframes instead!\n",
      "{'description': 'Maria_2019', 'igniteidx': 'de5b1467e4454a668b60b377789b5000', 'compareidx': 'e14f89a64a5243248979806a54997f10', 'lcpidx': '43b7f5db36994599861eec4849cc68fd', 'barrieridx': 'cb47616cd2dc4ccc8fd523bd3a5064bb', 'windspeed': 15, 'winddirection': 90, 'relhumid': 90, 'temperature': 20}\n",
      "Choosing a perimeter from the database\n"
     ]
    },
    {
     "name": "stderr",
     "output_type": "stream",
     "text": [
      "/tmp/ipykernel_931/3353749124.py:40: SettingWithCopyWarning: \n",
      "A value is trying to be set on a copy of a slice from a DataFrame\n",
      "\n",
      "See the caveats in the documentation: https://pandas.pydata.org/pandas-docs/stable/user_guide/indexing.html#returning-a-view-versus-a-copy\n",
      "  usr.db.dfObservation.loc[initialidx, ['filetype', 'filepath', 'datetime', 'description']] = ['Observation',\n"
     ]
    }
   ],
   "source": [
    "ground_truth_geoms = [poly]\n",
    "for ix in range(14):\n",
    "    simpoly = forward_pass(poly, params)\n",
    "    ground_truth_geoms.append(simpoly)\n",
    "    poly = simpoly"
   ]
  },
  {
   "cell_type": "markdown",
   "id": "d09f6e4c-76df-41a5-b85b-d55d9562e809",
   "metadata": {},
   "source": [
    "### Validate geometries"
   ]
  },
  {
   "cell_type": "code",
   "execution_count": 13,
   "id": "be433e4f-1a0e-4ad7-885a-fafe3e2007df",
   "metadata": {},
   "outputs": [
    {
     "data": {
      "image/svg+xml": [
       "<svg xmlns=\"http://www.w3.org/2000/svg\" xmlns:xlink=\"http://www.w3.org/1999/xlink\" width=\"300\" height=\"300\" viewBox=\"-2087375.949565319 1502754.7942145355 4837.666610025568 3148.2394628189504\" preserveAspectRatio=\"xMinYMin meet\"><g transform=\"matrix(1,0,0,-1,0,3008657.82789189)\"><g><path fill-rule=\"evenodd\" fill=\"#66cc99\" stroke=\"#555555\" stroke-width=\"32.251110733503786\" opacity=\"0.6\" d=\"M -2087140.1013750057,1504038.5912266686 L -2087147.030700298,1504044.3931963965 L -2087182.7840469335,1504080.527828939 L -2087196.7767279109,1504125.5556664274 L -2087100.1370605659,1504230.0441551104 L -2087117.561884591,1504254.3601293613 L -2087125.1031432834,1504270.9678155738 L -2087007.3484036718,1504302.3371034581 L -2086989.840390243,1504329.1648745886 L -2087033.6442654834,1504365.535199178 L -2087053.5286107473,1504406.2896628028 L -2087020.6158743605,1504402.8706100078 L -2086965.3241596299,1504407.6347187483 L -2086936.3469767908,1504357.8575436505 L -2086922.9049603648,1504439.4880149479 L -2086928.1099025079,1504462.3352936467 L -2086928.0438988067,1504462.29967681 L -2086819.4282649963,1504435.723449882 L -2086802.3703911353,1504527.230847743 L -2086769.785038512,1504569.5918006129 L -2086703.3591237313,1504522.0938594972 L -2086706.2470637204,1504492.2993914825 L -2086610.6490409079,1504504.9055589791 L -2086638.9491724845,1504522.64910566 L -2086569.4633309173,1504569.949290253 L -2086580.67817448,1504575.0886598765 L -2086533.9442463557,1504626.4934426977 L -2086476.228742914,1504665.5006204918 L -2086494.9911721149,1504678.7536651075 L -2086497.2853554718,1504676.2918543236 L -2086497.4737939253,1504680.5072918509 L -2086624.0061845446,1504769.8848132924 L -2086531.337318538,1504751.8414925323 L -2086500.768170722,1504754.2037127032 L -2086504.32747971,1504833.8267641398 L -2086465.7486207774,1504853.6290848798 L -2086650.5063010722,1504826.0826284417 L -2086505.290210512,1505019.4096644341 L -2086468.2795248537,1504905.7574620924 L -2086485.5422266482,1505031.1897275543 L -2086452.7463498064,1505041.2874282405 L -2086315.059299373,1505013.9836252276 L -2086329.5748946725,1505020.4743957096 L -2086304.1640214594,1505017.1560233848 L -2086298.178085525,1505110.3831862595 L -2086277.5197990455,1505013.6765896191 L -2086255.7456237485,1505010.8331288653 L -2086227.5269494404,1505009.4242961518 L -2086200.4600383267,1505040.654260221 L -2086190.4588481453,1505028.5543464697 L -2086150.6170796996,1505119.4516345577 L -2086000.7898367974,1505168.2692266419 L -2085979.3025221096,1505212.3204529043 L -2085961.1065664354,1505230.878212656 L -2085967.1666289973,1505237.2002939247 L -2085924.867913324,1505323.9170531756 L -2085969.7896641155,1505239.9367411176 L -2086059.4726557434,1505333.4973530255 L -2086084.444485915,1505313.7095428281 L -2086094.53183678,1505359.3503953747 L -2085985.0533736069,1505379.7043346968 L -2085938.673324785,1505484.3795307039 L -2085860.3791352336,1505384.9660568116 L -2085882.560747503,1505321.3192307241 L -2085825.6422848392,1505332.5695882356 L -2085859.8157737218,1505363.8468302055 L -2085846.8266201993,1505367.7578500817 L -2085819.9931050073,1505333.6861906487 L -2085705.869003108,1505356.243668257 L -2085695.3504220257,1505366.6029565993 L -2085694.7717901876,1505358.437114933 L -2085676.422820583,1505362.063925257 L -2085691.5504662476,1505345.239056484 L -2085693.767500853,1505344.2642555228 L -2085691.6124302058,1505313.851194015 L -2085624.557017344,1505348.1341925866 L -2085620.777416059,1505380.6262269525 L -2085469.6956180304,1505456.9217760365 L -2085548.2768396793,1505401.0882158158 L -2085473.0392136609,1505367.5158026356 L -2085446.3074775245,1505427.4875338548 L -2085344.1648180913,1505369.0069103069 L -2085342.342324214,1505364.7203632582 L -2085344.2784957387,1505355.6112611506 L -2085341.5351669611,1505362.8219110426 L -2085331.1889639308,1505338.4874062105 L -2085327.239044943,1505342.3566268454 L -2085330.103131173,1505335.9335028685 L -2085322.7696397286,1505318.6849642054 L -2085320.8549577522,1505383.053079442 L -2085319.873186932,1505419.758926845 L -2085312.2808912834,1505439.7147506766 L -2085229.361833055,1505316.551091647 L -2085294.171999191,1505434.4806238385 L -2085253.718041669,1505387.2626365335 L -2085192.7233617976,1505370.0937155515 L -2085187.282432347,1505381.462868849 L -2085196.4292434896,1505427.288153182 L -2085105.6636874313,1505375.4126403525 L -2085091.9577937135,1505441.661894527 L -2085047.1613649675,1505454.528643549 L -2085022.0893395706,1505530.5061110172 L -2085012.2537041213,1505525.155745075 L -2085030.0689871898,1505472.7454435588 L -2085005.4937749123,1505514.6165397568 L -2085003.3982536155,1505479.4322440613 L -2085015.4857443273,1505452.4259736347 L -2084991.8229589877,1505408.8525866221 L -2084989.2412038832,1505408.7663273755 L -2084964.0356601689,1505447.6673910199 L -2084992.3134995862,1505504.1981671182 L -2084997.149949016,1505493.3924122828 L -2084987.3970867142,1505545.4495662982 L -2084882.6829683671,1505723.8608399462 L -2084900.1968489287,1505672.498303399 L -2084755.4211868357,1505664.673449132 L -2084775.5137005732,1505538.9583920753 L -2084733.6619678847,1505637.1730271294 L -2084673.6689792406,1505563.3696601808 L -2084675.0186815846,1505563.1263689315 L -2084673.5347283606,1505563.2045047656 L -2084637.0216350364,1505518.2861020332 L -2084718.8375095963,1505495.0037168656 L -2084583.601851135,1505510.8628514337 L -2084640.074110221,1505441.2243946304 L -2084639.3142157388,1505438.7470833496 L -2084639.5780877403,1505436.3561926 L -2084640.7414923664,1505440.401415995 L -2084704.393690217,1505361.9090570526 L -2084642.3536429512,1505411.2074491298 L -2084643.1807133858,1505403.713531476 L -2084557.1842388865,1505455.9268207015 L -2084577.451525346,1505383.5047986447 L -2084529.4833297033,1505310.9321552494 L -2084514.7237784127,1505403.7265694982 L -2084504.6958004066,1505394.210182762 L -2084509.3244659663,1505416.5343932633 L -2084513.1994397796,1505413.3102016686 L -2084511.6218449953,1505423.2286592869 L -2084514.5756559528,1505422.5779334572 L -2084512.0045603672,1505429.46057918 L -2084516.074529767,1505449.0901792112 L -2084510.1610405564,1505485.3710293572 L -2084550.3998427857,1505549.6698593972 L -2084535.235313158,1505570.0667232198 L -2084497.3877546645,1505563.7385810365 L -2084495.9478173247,1505572.5729847164 L -2084493.8905060373,1505563.1538382566 L -2084465.1812195617,1505558.3536224957 L -2084449.9684296593,1505601.361908085 L -2084464.7850176026,1505558.2873772099 L -2084463.9329700293,1505558.1449141712 L -2084459.0329157168,1505571.262021931 L -2084449.8509365432,1505555.79038686 L -2084311.5494278008,1505532.6662635 L -2084432.459018284,1505572.2931369867 L -2084359.513559465,1505602.2658906148 L -2084332.9823835453,1505591.8404130545 L -2084261.6926901685,1505666.462932474 L -2084224.001670023,1505609.7563884314 L -2084208.9366652335,1505628.8871681113 L -2084182.2621609273,1505579.4595238415 L -2084131.9434826567,1505517.157616523 L -2084097.5667928632,1505624.7269378046 L -2084134.4121836433,1505487.084727158 L -2084096.9159853917,1505487.1308164939 L -2084095.2032566874,1505483.049616018 L -2084094.7324588757,1505487.133500427 L -2084043.90761259,1505487.1959729847 L -2084093.268859378,1505478.4402092868 L -2084081.6462707513,1505450.7451551242 L -2084011.9259000907,1505474.255492149 L -2084010.95725544,1505472.2544574447 L -2084010.0616348216,1505474.884139191 L -2083963.6991741902,1505490.5179785464 L -2083950.276501609,1505467.2853646257 L -2083868.637797839,1505575.5274174048 L -2083834.0098649764,1505556.3490099485 L -2083811.6538357064,1505580.1031762038 L -2083832.1337746468,1505497.8499181585 L -2083847.8662565723,1505436.3248322615 L -2083791.6345250888,1505541.8666227756 L -2083822.1279170446,1505646.5371133448 L -2083794.0519915766,1505572.5908732174 L -2083776.5680699479,1505529.3542096142 L -2083761.8239473132,1505454.048165086 L -2083632.6769365678,1505544.5941080786 L -2083642.5653541305,1505626.5586249686 L -2083599.283651912,1505490.296224187 L -2083588.443667195,1505552.561877476 L -2083507.0072977124,1505466.1425090162 L -2083503.2436146175,1505427.8204289915 L -2083491.6006255767,1505403.0679339701 L -2083460.1769833227,1505454.6171553924 L -2083481.8502183985,1505509.081308591 L -2083426.4542097503,1505438.9732751118 L -2083402.2658994705,1505437.2709888786 L -2083326.628563897,1505486.240652462 L -2083277.3234173628,1505411.9333540897 L -2083375.601297706,1505398.2578887783 L -2083313.3483049637,1505390.150247698 L -2083299.7698091955,1505307.5130024874 L -2083331.5438774386,1505312.7500763496 L -2083334.7780030468,1505341.8630565363 L -2083331.6395954378,1505312.7658528069 L -2083352.6740153627,1505316.2327935195 L -2083349.2113612366,1505306.9678391414 L -2083330.6628066793,1505303.709724651 L -2083324.3922146643,1505245.5730145434 L -2083328.0021403476,1505250.2187510782 L -2083323.6321270987,1505238.5259940457 L -2083322.473305829,1505227.7821829258 L -2083297.0298499165,1505210.3594537284 L -2083324.0293881213,1505245.1060806853 L -2083330.5371436728,1505303.6876515313 L -2083239.6147635567,1505287.7168370269 L -2083293.3382635869,1505200.9027054387 L -2083256.8200937596,1505156.5132351958 L -2083247.3554047772,1505135.2860152598 L -2083243.3573362164,1505083.2279014944 L -2083213.9585624093,1505104.4131250472 L -2083198.8358781915,1505086.0308253795 L -2083212.3815676032,1505105.549532563 L -2083172.681191334,1505134.1582545429 L -2083161.770420977,1505090.6493587056 L -2083182.137172246,1505090.7859640024 L -2083170.1211224778,1505082.1823594316 L -2083161.6398208837,1505090.1285645121 L -2083157.3549138391,1505073.041634059 L -2083108.9280260624,1505038.3675272549 L -2083136.4801438756,1505090.4797299923 L -2083161.088835895,1505090.6447871304 L -2083113.2210523663,1505135.4925290057 L -2083105.8165583704,1505076.9117493038 L -2083000.5870586,1505039.0065631536 L -2083014.0643892435,1505109.6538506553 L -2082968.4261625563,1505100.809114878 L -2082967.4774380808,1505114.748325539 L -2082942.153210057,1505068.4237073185 L -2082852.9639215544,1505050.6867571613 L -2082860.9360466942,1504999.6612171296 L -2082923.332954201,1504968.5986455567 L -2082925.1072667404,1504904.70298877 L -2082921.0796506568,1504907.2734167194 L -2082855.7043693424,1504858.8640159324 L -2082866.97998299,1504837.0772190222 L -2082920.9972971142,1504893.0397248191 L -2082878.6472939702,1504814.5335825728 L -2082883.2160647628,1504805.7057808677 L -2082877.3839572985,1504812.1916774698 L -2082845.8359664252,1504753.7097205583 L -2082866.1527647434,1504730.312487241 L -2082876.4568407014,1504748.6445090384 L -2082882.9433040104,1504551.7300423712 L -2082822.559058101,1504595.002559671 L -2082865.4148141618,1504512.5836485093 L -2082783.8478259149,1504544.831583808 L -2082758.7211769468,1504569.4510867198 L -2082763.0180827847,1504598.8246791332 L -2082757.7498919123,1504568.9012046247 L -2082745.4675162605,1504463.0425187987 L -2082717.4557927018,1504392.3027964616 L -2082800.7845751778,1504499.755509513 L -2082805.5596970657,1504424.1100541402 L -2082875.991144327,1504422.348969071 L -2082801.3705443998,1504351.0243224185 L -2082800.5436842465,1504315.7792649667 L -2082791.5124506718,1504314.8991023283 L -2082800.4107536117,1504310.113073602 L -2082800.183637628,1504300.4322154128 L -2082774.2765942086,1504228.0078925984 L -2082821.6811142704,1504298.6726272814 L -2082916.873245076,1504247.4727214535 L -2082869.7848019605,1504205.029532061 L -2082768.7764255963,1504194.1309267513 L -2082914.8069362056,1504120.8281964723 L -2082911.2188596302,1504152.483125279 L -2082899.34089276,1504170.9531196884 L -2082908.9374454315,1504172.6103445613 L -2082908.0097523704,1504180.7946899016 L -2082910.8183506792,1504186.523632071 L -2082932.1391705335,1504176.6170412628 L -2082932.508241988,1504176.680776066 L -2083005.9553305581,1504147.0276855475 L -2082984.7981014547,1504115.4000774473 L -2083042.6944593363,1504018.369140536 L -2083015.0985779217,1504012.3636098742 L -2083033.543707032,1503936.0007064648 L -2083026.941001805,1503897.8935615032 L -2083065.1509186958,1503875.688558387 L -2083025.7002665072,1503877.9987263968 L -2083020.3066165764,1503751.1774236828 L -2083035.7300072773,1503727.8804526143 L -2083082.9023534472,1503711.964194367 L -2083142.2272409264,1503576.7068291001 L -2083196.5127627805,1503558.499542547 L -2083238.1119772713,1503495.3929786275 L -2083255.249010725,1503538.7994888152 L -2083256.7795867333,1503538.2861358065 L -2083255.3501625513,1503539.0556969729 L -2083270.2001261301,1503576.6692721064 L -2083288.358291377,1503536.1371357166 L -2083289.679124879,1503524.6978545848 L -2083337.4626966082,1503487.2621205524 L -2083484.9436441448,1503480.408474776 L -2083484.0257042637,1503471.541008527 L -2083423.5183190098,1503451.8004937815 L -2083480.329450965,1503454.05796535 L -2083482.719362744,1503458.9215117875 L -2083482.2236913245,1503454.1332356995 L -2083508.2006909398,1503455.1654689265 L -2083537.8377780395,1503481.8250575403 L -2083514.9269616,1503524.4649992238 L -2083545.2870022566,1503586.248646997 L -2083563.767161747,1503505.1494382506 L -2083602.845701458,1503540.3019412216 L -2083585.928905182,1503431.3168871077 L -2083581.7767957044,1503426.1151060779 L -2083592.0905439619,1503380.8537638625 L -2083573.4059803695,1503415.628111781 L -2083526.3635621774,1503356.6931632056 L -2083623.2387622122,1503320.9188055184 L -2083673.4750888587,1503250.9301069295 L -2083668.4790628855,1503279.1833447975 L -2083752.4282244272,1503281.4254813457 L -2083755.1018371226,1503274.6801520893 L -2083778.4148164438,1503304.0740946918 L -2083805.8986146979,1503278.839740184 L -2083874.3399557257,1503234.978383715 L -2083913.7875246366,1503198.3186505958 L -2084040.7895548684,1503143.4068316075 L -2083906.7453831057,1503240.532332643 L -2083975.1269315206,1503229.955430222 L -2084070.3772199927,1503183.175674819 L -2084114.5924869752,1503197.7275542365 L -2084061.6058457089,1503092.918693181 L -2084102.484508006,1503138.8571799716 L -2084146.5567760721,1503117.2211038622 L -2084231.1055323193,1503093.6081467206 L -2084176.0366213964,1503151.700516238 L -2084229.9118508722,1503129.8139499766 L -2084239.8451848757,1503217.2852225618 L -2084268.3307948725,1503142.6077077198 L -2084364.963326338,1503091.9166716717 L -2084294.4666651944,1503136.3866911777 L -2084342.7744491664,1503149.0681457473 L -2084401.1931008874,1503123.2493967288 L -2084535.936693777,1503320.4606975592 L -2084552.6265584405,1503165.0166209845 L -2084439.1239908144,1503119.9867695116 L -2084533.6282165095,1503136.0032007024 L -2084524.9481688673,1503150.8814407648 L -2084552.672382783,1503164.5898276758 L -2084555.3464969106,1503139.6839815467 L -2084651.3333900336,1503155.9516929386 L -2084683.130624891,1503133.9000122636 L -2084764.3101671783,1503123.3266359884 L -2084806.7921099574,1503092.3358416022 L -2084759.7618635017,1503061.2822869807 L -2084843.3630923724,1503089.3065728878 L -2084866.428768188,1503027.0944809625 L -2084856.2100859492,1503032.068724952 L -2084941.9114566434,1502933.9670519438 L -2084980.0311814812,1503075.9575239946 L -2085012.0113550604,1503073.7213216352 L -2085009.2208420758,1503081.1712013287 L -2085085.8543974743,1503050.0924564293 L -2085154.4897411505,1503042.3576071183 L -2085244.1857134053,1502960.16119062 L -2085240.6472336147,1503021.2700027938 L -2085167.958378109,1503065.4334495799 L -2085212.5701006884,1503066.900712994 L -2085112.0949787162,1503071.034548978 L -2085339.1349199929,1503108.6394866402 L -2085351.7617914213,1503006.5649640367 L -2085355.61688733,1503140.8618025016 L -2085399.6275736103,1503111.455901503 L -2085411.9343352055,1503104.120283655 L -2085455.6611411453,1503073.0535241296 L -2085459.368788766,1503075.8463123534 L -2085491.3585032655,1503056.7783943778 L -2085459.673583551,1503076.0758992434 L -2085542.4453503576,1503138.4237918297 L -2085541.1473590576,1503144.0030470171 L -2085542.784133253,1503143.7810185964 L -2085528.1243854798,1503208.686143983 L -2085544.9725233517,1503268.0966042383 L -2085553.969693008,1503221.55772162 L -2085625.1195323677,1503277.5759822445 L -2085616.5606187945,1503255.1826959061 L -2085633.9341496124,1503159.9106481057 L -2085608.0255993104,1503134.9310136798 L -2085666.5541123631,1503126.9916208428 L -2085678.1380458674,1503076.588910895 L -2085803.6496963205,1503103.6727448748 L -2085758.572186576,1503139.5270369395 L -2085828.1285550643,1503215.5812029098 L -2085862.821086924,1503140.6770661543 L -2085853.5685030762,1503141.2568011812 L -2085900.6643678804,1503113.5553572634 L -2086029.7725920198,1503157.6385674528 L -2085945.4958649427,1503207.9015910728 L -2086059.3584246396,1503167.7404682937 L -2086073.3483045243,1503172.5172268588 L -2086074.5868668794,1503162.3691562475 L -2086111.3952988174,1503149.3862410705 L -2086149.6949560726,1503305.5255070745 L -2086145.1312923592,1503209.0374485813 L -2086192.9569689748,1503259.6402840735 L -2086264.1455900616,1503212.6711918632 L -2086299.8883939616,1503175.6943723361 L -2086334.855842434,1503283.3917463578 L -2086501.498875373,1503289.9534278235 L -2086503.3134149823,1503254.80678073 L -2086595.7489284792,1503230.28059586 L -2086525.3885641575,1503320.2239854322 L -2086641.5774473455,1503371.0527521947 L -2086682.0654515664,1503421.9841657116 L -2086683.4580896166,1503425.5926275873 L -2086603.3629199017,1503485.9509231772 L -2086764.5969125703,1503529.3392569635 L -2086764.4781775274,1503529.9902808277 L -2086766.0488080299,1503529.7299644302 L -2086778.1020085746,1503532.9735006087 L -2086774.3360966935,1503528.3564286896 L -2086844.359714734,1503516.7507098627 L -2086836.0776584584,1503575.3257586681 L -2086856.555763474,1503546.4348052486 L -2086778.5675585784,1503696.8991862144 L -2086923.7945337296,1503687.1242625033 L -2086888.304175366,1503694.3393029817 L -2086826.8864191377,1503716.1177009442 L -2086949.2138230053,1503779.030079399 L -2086951.2539824944,1503776.1383836428 L -2086952.487007325,1503780.7134618966 L -2086968.2615658063,1503788.826239261 L -2086954.809034494,1503789.329229999 L -2086971.2144079555,1503850.2005648701 L -2087018.512661704,1503826.6732463948 L -2087069.2142725515,1503774.7081163533 L -2087143.8907435266,1503831.3936892764 L -2087146.5335849721,1503913.6023403562 L -2087184.8059533115,1503989.9170924048 L -2087140.1013750057,1504038.5912266686 z M -2087148.288882429,1503968.2029053709 L -2087156.2706066396,1503947.8995673475 L -2087147.622679413,1503947.4798872073 L -2087148.288882429,1503968.2029053709 z M -2087142.8037588487,1503947.246027092 L -2087132.4397734716,1503946.7430673975 L -2087126.4438279504,1504023.7707893918 L -2087146.2498795888,1503973.389574667 L -2087142.8037588487,1503947.246027092 z M -2085654.4437432764,1503179.68489815 L -2085637.7340326272,1503163.574291477 L -2085640.0259292,1503219.2458362028 L -2085651.2907200963,1503193.4039783515 L -2085654.4437432764,1503179.68489815 z M -2083489.8550315686,1503473.442824663 L -2083493.0918323218,1503480.0298170822 L -2083507.9313132048,1503479.3402056633 L -2083489.8550315686,1503473.442824663 z M -2083178.9195056362,1503693.9492865573 L -2083095.2666186097,1503757.4007892718 L -2083224.4057234186,1503677.656278049 L -2083178.9195056362,1503693.9492865573 z M -2083138.4727959137,1503833.078873662 L -2083175.230427593,1503811.7178398678 L -2083177.96637444,1503773.641088402 L -2083029.8807047226,1503762.840078741 L -2083138.4727959137,1503833.078873662 z M -2083096.2468377803,1505014.3822692367 L -2083097.908632633,1505014.348060852 L -2083091.855033359,1504966.4549076317 L -2083038.1923593974,1504966.7240377339 L -2083092.2815754157,1505006.8823537072 L -2083096.2468377803,1505014.3822692367 z M -2083092.2028410695,1504966.4531632997 L -2083099.0282902252,1505014.325012473 L -2083239.5606098068,1505011.4321261232 L -2083220.578519043,1505021.6110194866 L -2083262.767760057,1505068.5843413807 L -2083299.6809048527,1505097.8544698877 L -2083277.276318617,1505108.1110784498 L -2083301.5382039328,1505099.327207663 L -2083323.0331669124,1505116.3715514098 L -2083345.416251748,1505159.5536533468 L -2083384.2533198642,1505100.9201497075 L -2083402.3101151115,1505110.8849696785 L -2083391.2471336455,1505090.3613762036 L -2083394.929204964,1505084.8024410796 L -2083413.1519325532,1505073.0876282887 L -2083378.48702888,1505066.6893485768 L -2083346.7206357762,1505007.7576274835 L -2083362.2133301161,1505069.2277145612 L -2083350.3584856074,1505074.654750723 L -2083333.8355647284,1505050.0130179445 L -2083285.8357899438,1505071.833799829 L -2083368.2613135795,1504951.40343486 L -2083241.2136447527,1504985.6698090541 L -2083303.3472216015,1504982.3010076345 L -2083266.8260221975,1504996.811411857 L -2083239.7002788568,1505011.3572304551 L -2083178.5035569256,1504966.0203462453 L -2083092.2028410695,1504966.4531632997 z M -2084095.7861126284,1505477.9936955527 L -2084221.3433127585,1505455.7221921685 L -2084099.1063748153,1505449.192442346 L -2084095.7861126284,1505477.9936955527 z M -2084469.1646539366,1505449.9495683406 L -2084467.3970945925,1505441.8570154828 L -2084418.4710667224,1505360.97686188 L -2084456.0971630441,1505460.8224403467 L -2084469.1646539366,1505449.9495683406 z M -2084591.5876698713,1505332.9914665977 L -2084604.0925336017,1505288.307264857 L -2084631.3611473155,1505327.187299606 L -2084543.421531223,1505167.3636721116 L -2084591.5876698713,1505332.9914665977 z M -2085198.1007653768,1505358.857303429 L -2085252.9557363722,1505386.3728713773 L -2085209.3116874548,1505335.4313992949 L -2085198.1007653768,1505358.857303429 z M -2085323.2737015558,1505301.7393250973 L -2085341.775757347,1505309.7559652408 L -2085362.502648545,1505263.2729402438 L -2085323.299567728,1505300.8697515735 L -2085323.2737015558,1505301.7393250973 z M -2085354.7714016081,1505315.3867667392 L -2085431.9525111965,1505348.8280874456 L -2085394.3901647977,1505276.577430009 L -2085354.7714016081,1505315.3867667392 z M -2085473.9332006269,1505365.5101736053 L -2085526.531930357,1505380.910555587 L -2085447.6974924356,1505302.2553008876 L -2085477.9367166287,1505356.5284230607 L -2085473.9332006269,1505365.5101736053 z M -2085737.6027909806,1505324.9904549008 L -2085782.332195076,1505305.3235241252 L -2085769.2700180714,1505293.802794334 L -2085737.6027909806,1505324.9904549008 z M -2085931.5219075647,1505200.0144029548 L -2086006.8514135557,1505146.7874984634 L -2086041.1498526456,1505081.9110369321 L -2086032.1977986633,1505074.5909277208 L -2085967.3424814425,1505097.2320192228 L -2085975.6511004514,1505079.1065411835 L -2085944.124279329,1505084.8668428238 L -2085977.5410532604,1505074.9835577977 L -2085987.619966557,1505052.9961346865 L -2086001.2589444986,1505049.2921759707 L -2085992.5734310376,1505042.1900173805 L -2085999.4355519686,1505027.2201141866 L -2086023.017195392,1505061.5336156967 L -2086057.280187809,1505051.4000546115 L -2086064.1961548042,1505038.3183086594 L -2086093.8072793132,1505044.088258997 L -2086185.5813521394,1505022.653320699 L -2086130.2560269835,1504955.7181209365 L -2086105.7987834017,1504959.625767383 L -2086113.3374549446,1504945.3661582773 L -2086206.4229362314,1504908.513240049 L -2086091.991681777,1504882.1706230806 L -2086168.81713593,1504884.5615291654 L -2086055.186228028,1504864.4323520255 L -2086069.5905483796,1504836.2159943595 L -2086045.4975252098,1504862.7160442104 L -2086033.5239701387,1504860.5949856404 L -2086034.605098504,1504874.6966847745 L -2086009.1804203812,1504902.6614292962 L -2086031.88841841,1504970.6710747527 L -2086080.7976970521,1504956.7561225907 L -2086078.3549820832,1504958.7365511076 L -2086063.1841783908,1504963.686265166 L -2086061.886158177,1504965.7359345981 L -2086077.1995874334,1504959.6732860692 L -2086070.2532202934,1504965.3050457083 L -2086061.247846466,1504966.7438757594 L -2086053.6179117765,1504978.7921040803 L -2085986.117821356,1505033.5177293185 L -2085975.789475724,1504935.2555889532 L -2085920.5236169694,1505034.9739621386 L -2085945.1678370112,1505024.4498533967 L -2085917.4612421903,1505040.4995259845 L -2085890.7879633333,1505088.6271772159 L -2085828.5675946611,1505131.5414790234 L -2085823.1306055142,1505108.0719343026 L -2085784.7360643938,1505112.1986927504 L -2085793.0272834122,1505089.3074092302 L -2085789.2586476128,1505035.7956680213 L -2085808.4059444724,1505046.84835831 L -2085808.736219573,1505045.9364995167 L -2085802.5054420426,1505019.0404532047 L -2085789.468804599,1505021.2757518673 L -2085757.947944043,1505048.3279476669 L -2085772.7114138885,1505113.4911376296 L -2085754.4104391707,1505115.4581803344 L -2085828.8464375772,1505254.100098256 L -2085908.327648446,1505216.403181809 L -2085914.8114271117,1505211.8218233725 L -2085918.9159460242,1505186.863397909 L -2085931.5219075647,1505200.0144029548 z M -2085796.973209684,1505001.074221198 L -2085798.2312691018,1505000.5903716856 L -2085793.8761759081,1504981.79098627 L -2085795.5292282216,1504981.9447785341 L -2085810.7528373215,1504988.021894571 L -2085813.4875156593,1504983.6155336965 L -2085830.597919063,1504985.2074056896 L -2085826.933256292,1504989.6425023235 L -2085834.5090374106,1504985.571277868 L -2085846.690700622,1504986.7046029007 L -2085839.5533370697,1504982.8604714428 L -2085926.156658323,1504936.3198502325 L -2085881.0623306574,1504897.901483706 L -2085865.2367686538,1504900.2324606257 L -2085871.656612063,1504889.8882287557 L -2085866.6543273695,1504885.6265041272 L -2085831.9666155847,1504890.1284325859 L -2085830.4595464682,1504905.3548633705 L -2085809.0941339526,1504908.501815336 L -2085807.2243436251,1504904.10497124 L -2085803.7743843766,1504902.6450927479 L -2085795.1847507658,1504910.5505546583 L -2085772.30433382,1504913.920654488 L -2085794.2755245978,1504898.6255724896 L -2085791.177432039,1504897.314589267 L -2085770.0052683067,1504914.2592881902 L -2085760.8955750861,1504915.6010721114 L -2085778.3497501772,1504891.8864506995 L -2085765.2814213694,1504886.3564804073 L -2085798.8049066374,1504825.9963448404 L -2085756.616280578,1504812.382693587 L -2085734.3397386915,1504851.8135310605 L -2085739.0747756322,1504959.408712551 L -2085741.987930978,1504960.5716157071 L -2085739.2495676968,1504963.3805472257 L -2085739.7781725533,1504975.3921399917 L -2085738.10809019,1504964.5514408646 L -2085727.3366534312,1504975.6004599703 L -2085790.2937359384,1504981.4576927922 L -2085796.973209684,1505001.074221198 z M -2085737.2005579108,1504958.6605431454 L -2085723.6539615158,1504870.7280082372 L -2085717.348765868,1504881.8885889994 L -2085715.204047675,1504896.3466098811 L -2085712.507395303,1504890.4581101062 L -2085709.038261011,1504896.5986893373 L -2085710.1202253504,1504930.6177833953 L -2085707.7068414122,1504946.8869396364 L -2085710.6753481112,1504948.071938512 L -2085711.9604493838,1504988.47805864 L -2085720.5835348668,1504952.027189874 L -2085737.2005579108,1504958.6605431454 z M -2085691.9998649196,1504845.6771849433 L -2085684.0081084701,1504828.2261198568 L -2085690.2179713221,1504820.2813736626 L -2085689.5467978052,1504810.7157093643 L -2085685.7851853892,1504809.4854131832 L -2085621.2099004686,1504867.3280417374 L -2085627.288941784,1504837.5388749712 L -2085630.5109963526,1504837.9728778086 L -2085627.55322078,1504836.243826842 L -2085632.5340367772,1504811.8363009398 L -2085601.9512547522,1504821.277476954 L -2085595.8217768366,1504817.6943181055 L -2085596.0618554559,1504823.095586743 L -2085572.974511403,1504830.222854587 L -2085596.519619456,1504833.3943228184 L -2085600.5500308096,1504924.0701793537 L -2085598.5259623523,1504926.6173337132 L -2085600.6406796644,1504926.1095896848 L -2085601.009719738,1504934.4122223044 L -2085609.0838454163,1504924.082383984 L -2085696.0363019323,1504903.2050826568 L -2085691.9998649196,1504845.6771849433 z M -2085639.642120141,1504777.0045125503 L -2085639.6546580081,1504776.9430731568 L -2085639.7230892864,1504777.059095842 L -2085643.2361042856,1504779.4273056348 L -2085640.169811227,1504774.418664397 L -2085646.2484040144,1504744.6316955562 L -2085620.0510673188,1504741.5556703957 L -2085585.375970468,1504684.9155786978 L -2085618.6086500573,1504741.2603500139 L -2085558.6555059438,1504722.409444534 L -2085580.0982245929,1504736.864508432 L -2085576.8534690007,1504736.4835174193 L -2085576.929179208,1504736.5322659484 L -2085580.1740164824,1504736.9156016083 L -2085639.642120141,1504777.0045125503 z M -2085576.3735875254,1504736.4666299592 L -2085576.2598521402,1504736.4138164255 L -2085535.8931630068,1504731.6740616611 L -2085535.8910157657,1504731.684136401 L -2085576.3735875254,1504736.4666299592 z M -2085506.669146168,1504690.6049143511 L -2085511.4496930614,1504686.3875306102 L -2085471.0020785504,1504674.7989946657 L -2085506.669146168,1504690.6049143511 z M -2085438.783804144,1504740.0124193637 L -2085414.8508510205,1504706.188809874 L -2085437.0297109338,1504739.20703597 L -2085438.783804144,1504740.0124193637 z M -2085438.393677516,1504750.7398329973 L -2085345.182415882,1504735.8275876676 L -2085369.3828917623,1504811.7184250269 L -2085438.4214086193,1504750.8128581543 L -2085438.393677516,1504750.7398329973 z M -2085869.5760972435,1504885.2473035897 L -2085873.5941500755,1504886.766292412 L -2085874.9714446345,1504884.5470709507 L -2085869.5760972435,1504885.2473035897 z M -2085800.7753221649,1505011.5721422066 L -2085800.5992344066,1505011.7232662695 L -2085801.259640295,1505013.662770992 L -2085800.7753221649,1505011.5721422066 z M -2086478.5938146552,1504661.7547656905 L -2086505.9234692268,1504640.128959369 L -2086479.400722207,1504660.6084437429 L -2086478.5938146552,1504661.7547656905 z M -2086047.9218347715,1505069.1016424075 L -2086033.2836676305,1505074.2118491856 L -2086041.4038320764,1505081.4306277006 L -2086047.9218347715,1505069.1016424075 z M -2085852.712084138,1505104.8924297886 L -2085850.5229443866,1505105.9957330036 L -2085859.6385052192,1505104.147957635 L -2085852.712084138,1505104.8924297886 z\" /><path fill-rule=\"evenodd\" fill=\"#66cc99\" stroke=\"#555555\" stroke-width=\"32.251110733503786\" opacity=\"0.6\" d=\"M -2086766.523161904,1503518.7776379576 L -2086763.4000882213,1503514.9486965865 L -2086771.8520504073,1503489.5593591435 L -2086766.523161904,1503518.7776379576 z\" /><path fill-rule=\"evenodd\" fill=\"#66cc99\" stroke=\"#555555\" stroke-width=\"32.251110733503786\" opacity=\"0.6\" d=\"M -2086078.727703012,1503128.4415164343 L -2086085.545821263,1503072.5777602259 L -2086115.7183083151,1503106.3801510662 L -2086078.727703012,1503128.4415164343 z\" /><path fill-rule=\"evenodd\" fill=\"#66cc99\" stroke=\"#555555\" stroke-width=\"32.251110733503786\" opacity=\"0.6\" d=\"M -2082860.781394309,1504830.6554159278 L -2082817.4129613084,1504878.8855238182 L -2082773.7899539445,1504740.531368396 L -2082860.781394309,1504830.6554159278 z\" /><path fill-rule=\"evenodd\" fill=\"#66cc99\" stroke=\"#555555\" stroke-width=\"32.251110733503786\" opacity=\"0.6\" d=\"M -2083367.9306796154,1505091.9123402205 L -2083371.5445139818,1505106.2508863972 L -2083358.4054752795,1505086.655762567 L -2083367.9306796154,1505091.9123402205 z\" /><path fill-rule=\"evenodd\" fill=\"#66cc99\" stroke=\"#555555\" stroke-width=\"32.251110733503786\" opacity=\"0.6\" d=\"M -2083342.8705458294,1505078.0826590282 L -2083309.0754445798,1505093.5537380828 L -2083312.9192732023,1505061.5537547823 L -2083342.8705458294,1505078.0826590282 z\" /><path fill-rule=\"evenodd\" fill=\"#66cc99\" stroke=\"#555555\" stroke-width=\"32.251110733503786\" opacity=\"0.6\" d=\"M -2085837.7078860889,1504944.5894840346 L -2085867.9566688575,1504939.9946055447 L -2085834.6979593323,1504980.2454007429 L -2085820.368783937,1504972.5278123785 L -2085837.7078860889,1504944.5894840346 z\" /><path fill-rule=\"evenodd\" fill=\"#66cc99\" stroke=\"#555555\" stroke-width=\"32.251110733503786\" opacity=\"0.6\" d=\"M -2085826.4062959934,1504946.3062285935 L -2085826.17301885,1504948.6631067474 L -2085825.2457103794,1504946.4825249396 L -2085826.4062959934,1504946.3062285935 z\" /><path fill-rule=\"evenodd\" fill=\"#66cc99\" stroke=\"#555555\" stroke-width=\"32.251110733503786\" opacity=\"0.6\" d=\"M -2086085.2378295672,1504956.4909135234 L -2086094.1969346912,1504952.9439675983 L -2086109.136838092,1504948.6934849313 L -2086085.2378295672,1504956.4909135234 z\" /><path fill-rule=\"evenodd\" fill=\"#66cc99\" stroke=\"#555555\" stroke-width=\"32.251110733503786\" opacity=\"0.6\" d=\"M -2085686.1473964865,1505347.614715206 L -2085645.3874055445,1505368.1983058844 L -2085634.388913048,1505370.3722397343 L -2085686.1473964865,1505347.614715206 z\" /><path fill-rule=\"evenodd\" fill=\"#66cc99\" stroke=\"#555555\" stroke-width=\"32.251110733503786\" opacity=\"0.6\" d=\"M -2084519.813487315,1505408.5566198095 L -2084519.3925700632,1505408.1571762376 L -2084520.2198397706,1505407.468842286 L -2084519.813487315,1505408.5566198095 z\" /><path fill-rule=\"evenodd\" fill=\"#66cc99\" stroke=\"#555555\" stroke-width=\"32.251110733503786\" opacity=\"0.6\" d=\"M -2084530.818013771,1505418.9997350157 L -2084545.6545377027,1505415.7312423862 L -2084550.6499734106,1505437.8199396024 L -2084530.818013771,1505418.9997350157 z\" /><path fill-rule=\"evenodd\" fill=\"#66cc99\" stroke=\"#555555\" stroke-width=\"32.251110733503786\" opacity=\"0.6\" d=\"M -2083990.6177227497,1505531.9744959609 L -2083989.5173564537,1505535.205342932 L -2083984.341484831,1505526.2466928281 L -2083990.6177227497,1505531.9744959609 z\" /><path fill-rule=\"evenodd\" fill=\"#66cc99\" stroke=\"#555555\" stroke-width=\"32.251110733503786\" opacity=\"0.6\" d=\"M -2083479.9263214117,1503431.94022439 L -2083479.6742244759,1503429.5049221267 L -2083485.2473626428,1503434.5181533636 L -2083479.9263214117,1503431.94022439 z\" /></g></g></svg>"
      ],
      "text/plain": [
       "<MULTIPOLYGON (((-2087140.101 1504038.591, -2087147.031 1504044.393, -208718...>"
      ]
     },
     "execution_count": 13,
     "metadata": {},
     "output_type": "execute_result"
    }
   ],
   "source": [
    "import shapely\n",
    "geom1 = sample_geometry(ground_truth_geoms[0],50)\n",
    "geom1.buffer(0)"
   ]
  },
  {
   "cell_type": "code",
   "execution_count": 14,
   "id": "93f9d378-a39b-4d5c-85eb-f6664f6e5a49",
   "metadata": {},
   "outputs": [
    {
     "data": {
      "image/svg+xml": [
       "<svg xmlns=\"http://www.w3.org/2000/svg\" xmlns:xlink=\"http://www.w3.org/1999/xlink\" width=\"300\" height=\"300\" viewBox=\"-2087375.949565319 1502754.7942145355 4837.666610025568 3148.2394628189504\" preserveAspectRatio=\"xMinYMin meet\"><g transform=\"matrix(1,0,0,-1,0,3008657.82789189)\"><path fill-rule=\"evenodd\" fill=\"#66cc99\" stroke=\"#555555\" stroke-width=\"32.251110733503786\" opacity=\"0.6\" d=\"M -2087184.8059533115,1503989.9170924048 L -2087196.7767279109,1504125.5556664274 L -2087125.1031432834,1504270.9678155738 L -2087053.5286107473,1504406.2896628028 L -2086650.5063010722,1504826.0826284417 L -2086505.290210512,1505019.4096644341 L -2086094.53183678,1505359.3503953747 L -2085938.673324785,1505484.3795307039 L -2085469.6956180304,1505456.9217760365 L -2084882.6829683671,1505723.8608399462 L -2084261.6926901685,1505666.462932474 L -2083822.1279170446,1505646.5371133448 L -2083642.5653541305,1505626.5586249686 L -2083326.628563897,1505486.240652462 L -2082852.9639215544,1505050.6867571613 L -2082773.7899539445,1504740.531368396 L -2082717.4557927018,1504392.3027964616 L -2082768.7764255963,1504194.1309267513 L -2083020.3066165764,1503751.1774236828 L -2083035.7300072773,1503727.8804526143 L -2083142.2272409264,1503576.7068291001 L -2083238.1119772713,1503495.3929786275 L -2083673.4750888587,1503250.9301069295 L -2084061.6058457089,1503092.918693181 L -2084231.1055323193,1503093.6081467206 L -2084364.963326338,1503091.9166716717 L -2084941.9114566434,1502933.9670519438 L -2085244.1857134053,1502960.16119062 L -2085678.1380458674,1503076.588910895 L -2086085.545821263,1503072.5777602259 L -2086595.7489284792,1503230.28059586 L -2086844.359714734,1503516.7507098627 L -2087143.8907435266,1503831.3936892764 L -2087184.8059533115,1503989.9170924048 z\" /></g></svg>"
      ],
      "text/plain": [
       "<POLYGON ((-2087184.806 1503989.917, -2087196.777 1504125.556, -2087125.103 ...>"
      ]
     },
     "execution_count": 14,
     "metadata": {},
     "output_type": "execute_result"
    }
   ],
   "source": [
    "shapely.concave_hull(geom1.buffer(0), ratio=0.38)"
   ]
  },
  {
   "cell_type": "code",
   "execution_count": 15,
   "id": "2ce2a892-0089-4dd3-9e4b-c3a654d0b7c1",
   "metadata": {
    "scrolled": true,
    "tags": []
   },
   "outputs": [],
   "source": [
    "ground_truth_geoms_fixed = []\n",
    "for geom in ground_truth_geoms:\n",
    "    poly = validate_geom(geom)\n",
    "    ground_truth_geoms_fixed.append(poly)"
   ]
  },
  {
   "cell_type": "markdown",
   "id": "03113390-2b52-4f6c-b474-6b0d5c9c4bfc",
   "metadata": {
    "tags": []
   },
   "source": [
    "## Observations (deviated and downsampled)"
   ]
  },
  {
   "cell_type": "code",
   "execution_count": 16,
   "id": "20afe8fa-b2a3-4264-8e5d-3db6827beddd",
   "metadata": {
    "tags": []
   },
   "outputs": [],
   "source": [
    "# Shift 400m to right\n",
    "shiftx = 400\n",
    "shifty = 0\n",
    "\n",
    "initialidx = uuid.uuid4().hex\n",
    "fpath = f'/home/jovyan/farsite/inputs/maria_ignite/Reference/maria_{initialidx}.shp'\n",
    "poly = Polygon(((cx-size/2+shiftx,cy-size/2+shifty), (cx-size/2+shiftx,cy+size/2+shifty), (cx+size/2+shiftx,cy+size/2+shifty), (cx+size/2+shiftx, cy-size/2+shifty)))\n",
    "\n",
    "params = {'windspeed': 15, 'winddirection': 120, 'dt': datetime.timedelta(minutes=30)}"
   ]
  },
  {
   "cell_type": "markdown",
   "id": "37ace999-834b-4f43-8cdc-0337a7d8271f",
   "metadata": {},
   "source": [
    "### Run forward simulations"
   ]
  },
  {
   "cell_type": "code",
   "execution_count": 17,
   "id": "5595f5c1-9259-49e7-9059-78bbf35ae5b3",
   "metadata": {
    "scrolled": true,
    "tags": []
   },
   "outputs": [
    {
     "name": "stdout",
     "output_type": "stream",
     "text": [
      "Database interaction not yet implemented. Use pickle file for dataframes instead!\n",
      "{'description': 'Maria_2019', 'igniteidx': '27397e9d8ffc484db8acbda655977ed8', 'compareidx': '28344fb2fdc148418c4af54fbb1bcd4f', 'lcpidx': '43b7f5db36994599861eec4849cc68fd', 'barrieridx': 'cb47616cd2dc4ccc8fd523bd3a5064bb', 'windspeed': 15, 'winddirection': 120, 'relhumid': 90, 'temperature': 20}\n",
      "Choosing a perimeter from the database\n",
      "Database interaction not yet implemented. Use pickle file for dataframes instead!\n"
     ]
    },
    {
     "name": "stderr",
     "output_type": "stream",
     "text": [
      "/tmp/ipykernel_931/3353749124.py:40: SettingWithCopyWarning: \n",
      "A value is trying to be set on a copy of a slice from a DataFrame\n",
      "\n",
      "See the caveats in the documentation: https://pandas.pydata.org/pandas-docs/stable/user_guide/indexing.html#returning-a-view-versus-a-copy\n",
      "  usr.db.dfObservation.loc[initialidx, ['filetype', 'filepath', 'datetime', 'description']] = ['Observation',\n",
      "/tmp/ipykernel_931/3353749124.py:40: SettingWithCopyWarning: \n",
      "A value is trying to be set on a copy of a slice from a DataFrame\n",
      "\n",
      "See the caveats in the documentation: https://pandas.pydata.org/pandas-docs/stable/user_guide/indexing.html#returning-a-view-versus-a-copy\n",
      "  usr.db.dfObservation.loc[initialidx, ['filetype', 'filepath', 'datetime', 'description']] = ['Observation',\n"
     ]
    },
    {
     "name": "stdout",
     "output_type": "stream",
     "text": [
      "{'description': 'Maria_2019', 'igniteidx': 'a10cee32345548948735cdbb0f792888', 'compareidx': '0bd56d74107647319f35cc1d9e0176c8', 'lcpidx': '43b7f5db36994599861eec4849cc68fd', 'barrieridx': 'cb47616cd2dc4ccc8fd523bd3a5064bb', 'windspeed': 15, 'winddirection': 120, 'relhumid': 90, 'temperature': 20}\n",
      "Choosing a perimeter from the database\n",
      "Database interaction not yet implemented. Use pickle file for dataframes instead!\n"
     ]
    },
    {
     "name": "stderr",
     "output_type": "stream",
     "text": [
      "/tmp/ipykernel_931/3353749124.py:40: SettingWithCopyWarning: \n",
      "A value is trying to be set on a copy of a slice from a DataFrame\n",
      "\n",
      "See the caveats in the documentation: https://pandas.pydata.org/pandas-docs/stable/user_guide/indexing.html#returning-a-view-versus-a-copy\n",
      "  usr.db.dfObservation.loc[initialidx, ['filetype', 'filepath', 'datetime', 'description']] = ['Observation',\n"
     ]
    },
    {
     "name": "stdout",
     "output_type": "stream",
     "text": [
      "{'description': 'Maria_2019', 'igniteidx': '809578cabe5649ed82431f96610abc06', 'compareidx': 'dd09a9970a354508b2c9bee960800604', 'lcpidx': '43b7f5db36994599861eec4849cc68fd', 'barrieridx': 'cb47616cd2dc4ccc8fd523bd3a5064bb', 'windspeed': 15, 'winddirection': 120, 'relhumid': 90, 'temperature': 20}\n",
      "Choosing a perimeter from the database\n",
      "Database interaction not yet implemented. Use pickle file for dataframes instead!\n"
     ]
    },
    {
     "name": "stderr",
     "output_type": "stream",
     "text": [
      "/tmp/ipykernel_931/3353749124.py:40: SettingWithCopyWarning: \n",
      "A value is trying to be set on a copy of a slice from a DataFrame\n",
      "\n",
      "See the caveats in the documentation: https://pandas.pydata.org/pandas-docs/stable/user_guide/indexing.html#returning-a-view-versus-a-copy\n",
      "  usr.db.dfObservation.loc[initialidx, ['filetype', 'filepath', 'datetime', 'description']] = ['Observation',\n"
     ]
    },
    {
     "name": "stdout",
     "output_type": "stream",
     "text": [
      "{'description': 'Maria_2019', 'igniteidx': 'ca2f1600fd8b4b35858fbfb340020396', 'compareidx': 'dfd8a91b51754fb99e9b86b78fa3e685', 'lcpidx': '43b7f5db36994599861eec4849cc68fd', 'barrieridx': 'cb47616cd2dc4ccc8fd523bd3a5064bb', 'windspeed': 15, 'winddirection': 120, 'relhumid': 90, 'temperature': 20}\n",
      "Choosing a perimeter from the database\n",
      "Database interaction not yet implemented. Use pickle file for dataframes instead!\n"
     ]
    },
    {
     "name": "stderr",
     "output_type": "stream",
     "text": [
      "/tmp/ipykernel_931/3353749124.py:40: SettingWithCopyWarning: \n",
      "A value is trying to be set on a copy of a slice from a DataFrame\n",
      "\n",
      "See the caveats in the documentation: https://pandas.pydata.org/pandas-docs/stable/user_guide/indexing.html#returning-a-view-versus-a-copy\n",
      "  usr.db.dfObservation.loc[initialidx, ['filetype', 'filepath', 'datetime', 'description']] = ['Observation',\n"
     ]
    },
    {
     "name": "stdout",
     "output_type": "stream",
     "text": [
      "{'description': 'Maria_2019', 'igniteidx': 'd0e458a55f504270ab4dade395eb820f', 'compareidx': '2369450b3f0142248f0fe038849e1072', 'lcpidx': '43b7f5db36994599861eec4849cc68fd', 'barrieridx': 'cb47616cd2dc4ccc8fd523bd3a5064bb', 'windspeed': 15, 'winddirection': 120, 'relhumid': 90, 'temperature': 20}\n",
      "Choosing a perimeter from the database\n",
      "Database interaction not yet implemented. Use pickle file for dataframes instead!\n"
     ]
    },
    {
     "name": "stderr",
     "output_type": "stream",
     "text": [
      "/tmp/ipykernel_931/3353749124.py:40: SettingWithCopyWarning: \n",
      "A value is trying to be set on a copy of a slice from a DataFrame\n",
      "\n",
      "See the caveats in the documentation: https://pandas.pydata.org/pandas-docs/stable/user_guide/indexing.html#returning-a-view-versus-a-copy\n",
      "  usr.db.dfObservation.loc[initialidx, ['filetype', 'filepath', 'datetime', 'description']] = ['Observation',\n"
     ]
    },
    {
     "name": "stdout",
     "output_type": "stream",
     "text": [
      "{'description': 'Maria_2019', 'igniteidx': 'cbf7f26291d84de3992a1cbfca12c6db', 'compareidx': '056d25461037463f98b859087c5e7fd4', 'lcpidx': '43b7f5db36994599861eec4849cc68fd', 'barrieridx': 'cb47616cd2dc4ccc8fd523bd3a5064bb', 'windspeed': 15, 'winddirection': 120, 'relhumid': 90, 'temperature': 20}\n",
      "Choosing a perimeter from the database\n",
      "Database interaction not yet implemented. Use pickle file for dataframes instead!\n",
      "{'description': 'Maria_2019', 'igniteidx': '2de06743390343e3a6e06bd6a7bfd7a9', 'compareidx': 'daa723688a384a1eaee2aaad77ea15d9', 'lcpidx': '43b7f5db36994599861eec4849cc68fd', 'barrieridx': 'cb47616cd2dc4ccc8fd523bd3a5064bb', 'windspeed': 15, 'winddirection': 120, 'relhumid': 90, 'temperature': 20}\n",
      "Choosing a perimeter from the database\n"
     ]
    },
    {
     "name": "stderr",
     "output_type": "stream",
     "text": [
      "/tmp/ipykernel_931/3353749124.py:40: SettingWithCopyWarning: \n",
      "A value is trying to be set on a copy of a slice from a DataFrame\n",
      "\n",
      "See the caveats in the documentation: https://pandas.pydata.org/pandas-docs/stable/user_guide/indexing.html#returning-a-view-versus-a-copy\n",
      "  usr.db.dfObservation.loc[initialidx, ['filetype', 'filepath', 'datetime', 'description']] = ['Observation',\n"
     ]
    },
    {
     "name": "stdout",
     "output_type": "stream",
     "text": [
      "Database interaction not yet implemented. Use pickle file for dataframes instead!\n"
     ]
    },
    {
     "name": "stderr",
     "output_type": "stream",
     "text": [
      "/tmp/ipykernel_931/3353749124.py:40: SettingWithCopyWarning: \n",
      "A value is trying to be set on a copy of a slice from a DataFrame\n",
      "\n",
      "See the caveats in the documentation: https://pandas.pydata.org/pandas-docs/stable/user_guide/indexing.html#returning-a-view-versus-a-copy\n",
      "  usr.db.dfObservation.loc[initialidx, ['filetype', 'filepath', 'datetime', 'description']] = ['Observation',\n"
     ]
    },
    {
     "name": "stdout",
     "output_type": "stream",
     "text": [
      "{'description': 'Maria_2019', 'igniteidx': 'b815a322d2f34ccb8006c19c5911dd43', 'compareidx': 'd73f367567214a9f8c742d5f7197dbde', 'lcpidx': '43b7f5db36994599861eec4849cc68fd', 'barrieridx': 'cb47616cd2dc4ccc8fd523bd3a5064bb', 'windspeed': 15, 'winddirection': 120, 'relhumid': 90, 'temperature': 20}\n",
      "Choosing a perimeter from the database\n",
      "Database interaction not yet implemented. Use pickle file for dataframes instead!\n"
     ]
    },
    {
     "name": "stderr",
     "output_type": "stream",
     "text": [
      "/tmp/ipykernel_931/3353749124.py:40: SettingWithCopyWarning: \n",
      "A value is trying to be set on a copy of a slice from a DataFrame\n",
      "\n",
      "See the caveats in the documentation: https://pandas.pydata.org/pandas-docs/stable/user_guide/indexing.html#returning-a-view-versus-a-copy\n",
      "  usr.db.dfObservation.loc[initialidx, ['filetype', 'filepath', 'datetime', 'description']] = ['Observation',\n"
     ]
    },
    {
     "name": "stdout",
     "output_type": "stream",
     "text": [
      "{'description': 'Maria_2019', 'igniteidx': '3f1e63a03cb54eeb921d08dc123a05b9', 'compareidx': '1b67a5c210b14101886e0cf86368fc08', 'lcpidx': '43b7f5db36994599861eec4849cc68fd', 'barrieridx': 'cb47616cd2dc4ccc8fd523bd3a5064bb', 'windspeed': 15, 'winddirection': 120, 'relhumid': 90, 'temperature': 20}\n",
      "Choosing a perimeter from the database\n",
      "Database interaction not yet implemented. Use pickle file for dataframes instead!\n"
     ]
    },
    {
     "name": "stderr",
     "output_type": "stream",
     "text": [
      "/tmp/ipykernel_931/3353749124.py:40: SettingWithCopyWarning: \n",
      "A value is trying to be set on a copy of a slice from a DataFrame\n",
      "\n",
      "See the caveats in the documentation: https://pandas.pydata.org/pandas-docs/stable/user_guide/indexing.html#returning-a-view-versus-a-copy\n",
      "  usr.db.dfObservation.loc[initialidx, ['filetype', 'filepath', 'datetime', 'description']] = ['Observation',\n"
     ]
    },
    {
     "name": "stdout",
     "output_type": "stream",
     "text": [
      "{'description': 'Maria_2019', 'igniteidx': 'ebe1f0bd9d5c464aab5a2fe618072952', 'compareidx': '0df5a869d83f4e97a6232263c19c238b', 'lcpidx': '43b7f5db36994599861eec4849cc68fd', 'barrieridx': 'cb47616cd2dc4ccc8fd523bd3a5064bb', 'windspeed': 15, 'winddirection': 120, 'relhumid': 90, 'temperature': 20}\n",
      "Choosing a perimeter from the database\n",
      "Database interaction not yet implemented. Use pickle file for dataframes instead!\n"
     ]
    },
    {
     "name": "stderr",
     "output_type": "stream",
     "text": [
      "/tmp/ipykernel_931/3353749124.py:40: SettingWithCopyWarning: \n",
      "A value is trying to be set on a copy of a slice from a DataFrame\n",
      "\n",
      "See the caveats in the documentation: https://pandas.pydata.org/pandas-docs/stable/user_guide/indexing.html#returning-a-view-versus-a-copy\n",
      "  usr.db.dfObservation.loc[initialidx, ['filetype', 'filepath', 'datetime', 'description']] = ['Observation',\n"
     ]
    },
    {
     "name": "stdout",
     "output_type": "stream",
     "text": [
      "{'description': 'Maria_2019', 'igniteidx': 'ae60a24cf1f44bf8beaf768eb0125d98', 'compareidx': '1b7f83194c4c4fc3b7d1efe5e2a97e91', 'lcpidx': '43b7f5db36994599861eec4849cc68fd', 'barrieridx': 'cb47616cd2dc4ccc8fd523bd3a5064bb', 'windspeed': 15, 'winddirection': 120, 'relhumid': 90, 'temperature': 20}\n",
      "Choosing a perimeter from the database\n",
      "Database interaction not yet implemented. Use pickle file for dataframes instead!\n"
     ]
    },
    {
     "name": "stderr",
     "output_type": "stream",
     "text": [
      "/tmp/ipykernel_931/3353749124.py:40: SettingWithCopyWarning: \n",
      "A value is trying to be set on a copy of a slice from a DataFrame\n",
      "\n",
      "See the caveats in the documentation: https://pandas.pydata.org/pandas-docs/stable/user_guide/indexing.html#returning-a-view-versus-a-copy\n",
      "  usr.db.dfObservation.loc[initialidx, ['filetype', 'filepath', 'datetime', 'description']] = ['Observation',\n"
     ]
    },
    {
     "name": "stdout",
     "output_type": "stream",
     "text": [
      "{'description': 'Maria_2019', 'igniteidx': '1ef17ce6af2e4d3199c1953265d152a2', 'compareidx': 'ff03014959fb49b0966bdfccc2f73f8c', 'lcpidx': '43b7f5db36994599861eec4849cc68fd', 'barrieridx': 'cb47616cd2dc4ccc8fd523bd3a5064bb', 'windspeed': 15, 'winddirection': 120, 'relhumid': 90, 'temperature': 20}\n",
      "Choosing a perimeter from the database\n",
      "Database interaction not yet implemented. Use pickle file for dataframes instead!\n",
      "{'description': 'Maria_2019', 'igniteidx': 'c8b4ebed996f427ca025dcdc86ff5286', 'compareidx': 'b7ea4384854c473d95d11ee868fe2125', 'lcpidx': '43b7f5db36994599861eec4849cc68fd', 'barrieridx': 'cb47616cd2dc4ccc8fd523bd3a5064bb', 'windspeed': 15, 'winddirection': 120, 'relhumid': 90, 'temperature': 20}\n",
      "Choosing a perimeter from the database\n"
     ]
    },
    {
     "name": "stderr",
     "output_type": "stream",
     "text": [
      "/tmp/ipykernel_931/3353749124.py:40: SettingWithCopyWarning: \n",
      "A value is trying to be set on a copy of a slice from a DataFrame\n",
      "\n",
      "See the caveats in the documentation: https://pandas.pydata.org/pandas-docs/stable/user_guide/indexing.html#returning-a-view-versus-a-copy\n",
      "  usr.db.dfObservation.loc[initialidx, ['filetype', 'filepath', 'datetime', 'description']] = ['Observation',\n"
     ]
    },
    {
     "name": "stdout",
     "output_type": "stream",
     "text": [
      "Database interaction not yet implemented. Use pickle file for dataframes instead!\n"
     ]
    },
    {
     "name": "stderr",
     "output_type": "stream",
     "text": [
      "/tmp/ipykernel_931/3353749124.py:40: SettingWithCopyWarning: \n",
      "A value is trying to be set on a copy of a slice from a DataFrame\n",
      "\n",
      "See the caveats in the documentation: https://pandas.pydata.org/pandas-docs/stable/user_guide/indexing.html#returning-a-view-versus-a-copy\n",
      "  usr.db.dfObservation.loc[initialidx, ['filetype', 'filepath', 'datetime', 'description']] = ['Observation',\n"
     ]
    },
    {
     "name": "stdout",
     "output_type": "stream",
     "text": [
      "{'description': 'Maria_2019', 'igniteidx': '2d03deee16b34898865ed0c2ba0efb3f', 'compareidx': '802d20bd47064b63a7cb317227277013', 'lcpidx': '43b7f5db36994599861eec4849cc68fd', 'barrieridx': 'cb47616cd2dc4ccc8fd523bd3a5064bb', 'windspeed': 15, 'winddirection': 120, 'relhumid': 90, 'temperature': 20}\n",
      "Choosing a perimeter from the database\n"
     ]
    }
   ],
   "source": [
    "observed_geoms = [poly]\n",
    "for ix in range(14):\n",
    "    simpoly = forward_pass(poly, params)\n",
    "    observed_geoms.append(simpoly)\n",
    "    poly = simpoly"
   ]
  },
  {
   "cell_type": "markdown",
   "id": "9eb5aa5c-f5b8-49a8-9644-e27a1f8326b7",
   "metadata": {},
   "source": [
    "### Validate and downsample geometries"
   ]
  },
  {
   "cell_type": "code",
   "execution_count": 18,
   "id": "a4877492-0866-46c2-b9e2-f0fb57b6ff66",
   "metadata": {
    "tags": []
   },
   "outputs": [],
   "source": [
    "observed_geoms_fixed = []\n",
    "for geom in observed_geoms:\n",
    "    poly = validate_geom(geom)\n",
    "    poly = validate_geom(interpolate_geom(poly, 100))\n",
    "    assert(isinstance(poly, Polygon)), 'buffered polygon is not a polygon'\n",
    "    observed_geoms_fixed.append(poly)"
   ]
  },
  {
   "cell_type": "code",
   "execution_count": null,
   "id": "ba8df4d6-6cac-454f-98de-9c96cedd8934",
   "metadata": {},
   "outputs": [],
   "source": []
  },
  {
   "cell_type": "markdown",
   "id": "6806853f-6adc-4021-828a-6810302578e2",
   "metadata": {},
   "source": [
    "## Plot Geometries"
   ]
  },
  {
   "cell_type": "code",
   "execution_count": 19,
   "id": "cd2bde89-0948-4b07-b402-db679c85fccb",
   "metadata": {
    "tags": []
   },
   "outputs": [
    {
     "data": {
      "image/png": "[encoded data removed]",
      "text/plain": [
       "<Figure size 800x800 with 1 Axes>"
      ]
     },
     "metadata": {},
     "output_type": "display_data"
    }
   ],
   "source": [
    "fig, ax = plt.subplots(1,1, figsize=(4,4), dpi=200)\n",
    "\n",
    "for geom_truth, geom_observed in zip(ground_truth_geoms_fixed, observed_geoms_fixed):\n",
    "    plot_geometry(geom_truth, ax=ax, color=(1,0,0), lw=1)\n",
    "    plot_geometry(geom_observed, ax=ax, color=(0,0,1), lw=1)\n",
    "    \n",
    "    assert(geom_truth.is_valid), 'Ground truth Geometry is not valid'\n",
    "    assert(geom_observed.is_valid), 'Observed Geometry is not valid'\n",
    "    assert(isinstance(geom_observed, Polygon)), 'buffered polygon is not a polygon'\n",
    "    \n",
    "# plot_geometry(Polygon(gpd.read_file(usr.db.dfObservation.iloc[0]['filepath'])['geometry'][0]), ax=ax)\n",
    "    \n",
    "ax.set_aspect('equal')"
   ]
  },
  {
   "cell_type": "code",
   "execution_count": 20,
   "id": "1806a9f6-9801-44fd-a1da-965474ab71d5",
   "metadata": {},
   "outputs": [],
   "source": [
    "with open('/home/jovyan/data/zeroinfo_simulations_08302023.pkl', 'wb') as f:\n",
    "    pickle.dump(ground_truth_geoms_fixed, f)"
   ]
  },
  {
   "cell_type": "markdown",
   "id": "4e05733f-f884-42b6-b83c-5f6b6e8b1e40",
   "metadata": {
    "tags": []
   },
   "source": [
    "## EnKF Update runs"
   ]
  },
  {
   "cell_type": "code",
   "execution_count": null,
   "id": "d150b8b5-6f0d-4ddf-94a1-5940615b6811",
   "metadata": {},
   "outputs": [],
   "source": [
    "# ws = 10\n",
    "# wd = 60 \n",
    "######### wd and ws to be chosen from the runs during the live fire\n",
    "nsamples = 500\n",
    "vertex_count = 100\n",
    "\n",
    "data = {'calculations': [],\n",
    "        'parameters': {'nsamples': nsamples,\n",
    "                       'vertex_count': vertex_count},\n",
    "       }\n",
    "\n",
    "windspeed = 15\n",
    "winddirection = 120"
   ]
  },
  {
   "cell_type": "code",
   "execution_count": null,
   "id": "48f9b389-487c-4786-bc36-1e3cda8b455e",
   "metadata": {
    "tags": []
   },
   "outputs": [],
   "source": [
    "# for upix in range(len(wdar)):\n",
    "#     sampled = sample_geometry(observed_geoms_fixed[1], sigma=500)\n",
    "#     # Validate sample_poly\n",
    "#     sampled_validated = validate_geom(sampled)\n",
    "#     # Interpolate\n",
    "#     sampled_validated_interpolated = interpolate_geom(sampled_validated, vertex_count)\n",
    "#     # Validate again\n",
    "#     sampled_validated_2 = validate_geom(sampled_validated_interpolated)\n",
    "\n",
    "#     Y_geoms.append(sampled_validated_2)\n",
    "    \n",
    "# Y = geoms_to_matrix(Y_geoms, vertex_count=vertex_count)\n"
   ]
  },
  {
   "cell_type": "code",
   "execution_count": null,
   "id": "b55bba35-89b8-41f3-9d40-973e292a9069",
   "metadata": {
    "tags": []
   },
   "outputs": [],
   "source": [
    "# plot_matrix_ensemble(Y, lw=0.1, color=(0,0,1,0.1))"
   ]
  },
  {
   "cell_type": "code",
   "execution_count": null,
   "id": "62677973-36f1-4a87-b5dc-6e1568887a33",
   "metadata": {
    "scrolled": true,
    "tags": []
   },
   "outputs": [],
   "source": [
    "%%time\n",
    "\n",
    "for upix in range(1,len(observed_geoms_fixed)):\n",
    "    print('------------------------------------')\n",
    "    print('------------------------------------')\n",
    "    print(f'Calculating {upix-1}-->{upix}')\n",
    "    print('------------------------------------')\n",
    "    print('------------------------------------')\n",
    "    \n",
    "    # Generate samples of (ws, wd)\n",
    "    wsar = np.array([windspeed]*nsamples)\n",
    "    # wdar = np.random.uniform(inddirection-45, winddirection+45, size=nsamples)\n",
    "    wdar = np.random.normal(winddirection, scale=15, size=nsamples)\n",
    "\n",
    "    if upix == 1:# First ensemble, use generated samples from observed geometry\n",
    "        initial_poly = observed_geoms_fixed[upix-1]\n",
    "    else:\n",
    "        # TODO: average of the state matrix\n",
    "        Xmean = X.mean(axis=1)\n",
    "        x,y = Xmean[::2], Xmean[1::2]\n",
    "        initial_poly = Polygon(zip(x,y))\n",
    "    \n",
    "    Xt_geoms = []\n",
    "    Y_geoms = []\n",
    "    for i, (wsflt, wdflt) in enumerate(zip(wsar, wdar)):\n",
    "        wsint = round(wsflt)\n",
    "        wdint = np.fmod(round(wdflt)+360, 360)\n",
    "        \n",
    "        print(f'-- {upix-1}-->{upix} --\\nCalculating wd={wdint}, ws={wsint} - {i}/{len(wdar)}')\n",
    "\n",
    "        \n",
    "        xtgeom = forward_pass(initial_poly, \n",
    "                              {'windspeed': wsint, \n",
    "                               'winddirection': wdint, \n",
    "                               'dt': datetime.timedelta(minutes=30)})\n",
    "        if xtgeom is not None:\n",
    "            Xt_geoms.append(xtgeom)\n",
    "        \n",
    "        sampled = sample_geometry(observed_geoms_fixed[upix], sigma=150)\n",
    "        # Validate sample_poly\n",
    "        sampled_validated = validate_geom(sampled)\n",
    "        # Interpolate\n",
    "        sampled_validated_interpolated = interpolate_geom(sampled_validated, vertex_count)\n",
    "        # Validate again\n",
    "        sampled_validated_2 = validate_geom(sampled_validated_interpolated)\n",
    "        \n",
    "        Y_geoms.append(sampled_validated_2)\n",
    "        \n",
    "    Y = geoms_to_matrix(Y_geoms, vertex_count=vertex_count, nsamples=nsamples)\n",
    "\n",
    "    Ymean = Y.mean(axis=1)\n",
    "    x,y = Ymean[::2], Ymean[1::2]\n",
    "    aligned_geom = Polygon(zip(x,y))\n",
    "    \n",
    "    filled_count = nsamples-len(Xt_geoms)\n",
    "    if filled_count > 0:\n",
    "        Xt_geoms = fill_null_geoms(Xt_geoms, nsamples)\n",
    "        \n",
    "    Xt = geoms_to_matrix(Xt_geoms, vertex_count=vertex_count,  aligned_geom=aligned_geom, nsamples=nsamples)\n",
    "\n",
    "    X = update_EnKF_2(Xt, Y)\n",
    "    X = geoms_to_matrix(matrix_to_geom(X), vertex_count=vertex_count, aligned_geom = aligned_geom, nsamples=nsamples)\n",
    "    \n",
    "    data['calculations'].append({'initial_poly': initial_poly,\n",
    "                                 'aligned_geom': aligned_geom,\n",
    "                                 'filled_geoms': filled_count,\n",
    "                                  'Xt': Xt, 'X': X, 'Y': Y,\n",
    "                                  'wdar': wdar, 'wsar': wsar})\n",
    "    \n",
    "    with open('/home/jovyan/data/output_reftest_06202023.pkl', 'wb') as f:\n",
    "        pickle.dump(data, f)\n",
    "    \n",
    "    if upix == 14:\n",
    "        break"
   ]
  },
  {
   "cell_type": "code",
   "execution_count": null,
   "id": "178a8f97-4b52-488d-a830-072c624dfc93",
   "metadata": {
    "tags": []
   },
   "outputs": [],
   "source": [
    "print('test')"
   ]
  },
  {
   "cell_type": "code",
   "execution_count": null,
   "id": "de9e59e7-ff17-4165-9af6-7a0a59fb3e7a",
   "metadata": {
    "tags": []
   },
   "outputs": [],
   "source": [
    "# with open('/home/jovyan/data/output_reftest_06202023.pkl', 'wb') as f:\n",
    "#     pickle.dump(data, f)\n",
    "\n",
    "with open('/home/jovyan/data/output_reftest_08302023.pkl', 'wb') as f:\n",
    "    pickle.dump(data, f)\n",
    "    "
   ]
  },
  {
   "cell_type": "markdown",
   "id": "e00363f0-c90a-462b-b20d-b0145d5ba72f",
   "metadata": {},
   "source": [
    "## Plot filtered calculations"
   ]
  },
  {
   "cell_type": "markdown",
   "id": "68980474-c0de-4ac7-8945-c5d068d16a7d",
   "metadata": {},
   "source": [
    "### Load pickle"
   ]
  },
  {
   "cell_type": "code",
   "execution_count": null,
   "id": "7565660b-3653-4659-b559-9579a5b02a8c",
   "metadata": {
    "tags": []
   },
   "outputs": [],
   "source": [
    "with open('/home/jovyan/data/output_reftest_08302023.pkl', 'rb') as f:\n",
    "    data = pickle.load(f)"
   ]
  },
  {
   "cell_type": "code",
   "execution_count": null,
   "id": "d48d3ff8-a590-4169-b438-ba664206ec06",
   "metadata": {
    "tags": []
   },
   "outputs": [],
   "source": [
    "calix = 13\n",
    "Xt = data['calculations'][calix]['Xt']\n",
    "Y = data['calculations'][calix]['Y']\n",
    "X = data['calculations'][calix]['X']\n",
    "\n",
    "plot_alix = None\n",
    "\n",
    "fig, ax = plt.subplots(1,1, figsize=(4,4), dpi=200)\n",
    "\n",
    "# plot_matrix_ensemble(Xt, plot_alix =plot_alix, color=(0,0,1,0.2), ax=ax, ls='-', marker='', lw=0.05, alpha=0.5)\n",
    "# plot_matrix_ensemble(Y, plot_alix=plot_alix, color=(1,0,0,0.2), ax=ax, ls='-', marker='', lw=0.05, alpha=0.5)\n",
    "# plot_matrix_ensemble(X, plot_alix=plot_alix, color=(0,0,0,0.2), ax=ax, ls='-', marker='', lw=0.05, alpha=0.5)\n",
    "\n",
    "show_stdev = True\n",
    "plot_matrix(Xt, show_stdev=show_stdev, ax=ax, color='red')\n",
    "plot_matrix(Y, show_stdev=show_stdev, ax=ax, color='blue')\n",
    "plot_matrix(X, show_stdev=show_stdev, ax=ax, color='black', ls='--')"
   ]
  },
  {
   "cell_type": "markdown",
   "id": "82c58220-4605-47ff-8426-62aa791c1361",
   "metadata": {},
   "source": [
    "## Repeat Calculations for Maria Fire\n"
   ]
  },
  {
   "cell_type": "code",
   "execution_count": 21,
   "id": "5675aca5-4216-4888-a64a-2f2c59e065a0",
   "metadata": {
    "tags": []
   },
   "outputs": [],
   "source": [
    "# Collect observations\n",
    "maria_observations = []\n",
    "for i in range(10):\n",
    "    dfrow = usr.db.dfObservation.iloc[i]\n",
    "    geom = gpd.read_file(dfrow['filepath'])['geometry'][0]\n",
    "    \n",
    "    maria_observations.append(geom)\n",
    "    \n",
    "windspeed_maria = [11, 18, 18, 25, 17, 22, 15, 12, 14, 14, 14]\n",
    "winddirection_maria = [37, 48, 48, 44, 16, 29, 19, 24, 22, 21, 20]"
   ]
  },
  {
   "cell_type": "markdown",
   "id": "e6d28199-d8c4-4708-aee7-7023aeb02102",
   "metadata": {
    "tags": []
   },
   "source": [
    "### Generate no-observation simulations"
   ]
  },
  {
   "cell_type": "code",
   "execution_count": 22,
   "id": "8dbd453e-4a0c-4e54-a0e2-f41b0bf4680f",
   "metadata": {
    "tags": []
   },
   "outputs": [
    {
     "name": "stdout",
     "output_type": "stream",
     "text": [
      "Database interaction not yet implemented. Use pickle file for dataframes instead!\n"
     ]
    },
    {
     "name": "stderr",
     "output_type": "stream",
     "text": [
      "/tmp/ipykernel_931/3353749124.py:40: SettingWithCopyWarning: \n",
      "A value is trying to be set on a copy of a slice from a DataFrame\n",
      "\n",
      "See the caveats in the documentation: https://pandas.pydata.org/pandas-docs/stable/user_guide/indexing.html#returning-a-view-versus-a-copy\n",
      "  usr.db.dfObservation.loc[initialidx, ['filetype', 'filepath', 'datetime', 'description']] = ['Observation',\n"
     ]
    },
    {
     "name": "stdout",
     "output_type": "stream",
     "text": [
      "{'description': 'Maria_2019', 'igniteidx': '703e8cfd5a8c47c5b62b904a48c52415', 'compareidx': 'c5d5b2f948fe43eba720f48fb863a60f', 'lcpidx': '43b7f5db36994599861eec4849cc68fd', 'barrieridx': 'cb47616cd2dc4ccc8fd523bd3a5064bb', 'windspeed': 11, 'winddirection': 37, 'relhumid': 90, 'temperature': 20}\n",
      "Choosing a perimeter from the database\n",
      "Database interaction not yet implemented. Use pickle file for dataframes instead!\n"
     ]
    },
    {
     "name": "stderr",
     "output_type": "stream",
     "text": [
      "/tmp/ipykernel_931/3353749124.py:40: SettingWithCopyWarning: \n",
      "A value is trying to be set on a copy of a slice from a DataFrame\n",
      "\n",
      "See the caveats in the documentation: https://pandas.pydata.org/pandas-docs/stable/user_guide/indexing.html#returning-a-view-versus-a-copy\n",
      "  usr.db.dfObservation.loc[initialidx, ['filetype', 'filepath', 'datetime', 'description']] = ['Observation',\n"
     ]
    },
    {
     "name": "stdout",
     "output_type": "stream",
     "text": [
      "{'description': 'Maria_2019', 'igniteidx': '3ced3091cac7495ea899b930b58b4c18', 'compareidx': 'cbb32a8d461a4a1b9ab0cad5c70cdcac', 'lcpidx': '43b7f5db36994599861eec4849cc68fd', 'barrieridx': 'cb47616cd2dc4ccc8fd523bd3a5064bb', 'windspeed': 18, 'winddirection': 48, 'relhumid': 90, 'temperature': 20}\n",
      "Choosing a perimeter from the database\n",
      "Database interaction not yet implemented. Use pickle file for dataframes instead!\n"
     ]
    },
    {
     "name": "stderr",
     "output_type": "stream",
     "text": [
      "/tmp/ipykernel_931/3353749124.py:40: SettingWithCopyWarning: \n",
      "A value is trying to be set on a copy of a slice from a DataFrame\n",
      "\n",
      "See the caveats in the documentation: https://pandas.pydata.org/pandas-docs/stable/user_guide/indexing.html#returning-a-view-versus-a-copy\n",
      "  usr.db.dfObservation.loc[initialidx, ['filetype', 'filepath', 'datetime', 'description']] = ['Observation',\n"
     ]
    },
    {
     "name": "stdout",
     "output_type": "stream",
     "text": [
      "{'description': 'Maria_2019', 'igniteidx': '97aba253dd8d4aaebd888968ec0a301d', 'compareidx': '5dc116fedd664beb8bcc827826105ec6', 'lcpidx': '43b7f5db36994599861eec4849cc68fd', 'barrieridx': 'cb47616cd2dc4ccc8fd523bd3a5064bb', 'windspeed': 18, 'winddirection': 48, 'relhumid': 90, 'temperature': 20}\n",
      "Choosing a perimeter from the database\n",
      "Database interaction not yet implemented. Use pickle file for dataframes instead!\n",
      "{'description': 'Maria_2019', 'igniteidx': 'fcf12e329c1d49b0acdfba87554ef50c', 'compareidx': 'de1f46605f9349feb8ee89f300e648f3', 'lcpidx': '43b7f5db36994599861eec4849cc68fd', 'barrieridx': 'cb47616cd2dc4ccc8fd523bd3a5064bb', 'windspeed': 25, 'winddirection': 44, 'relhumid': 90, 'temperature': 20}\n",
      "Choosing a perimeter from the database\n"
     ]
    },
    {
     "name": "stderr",
     "output_type": "stream",
     "text": [
      "/tmp/ipykernel_931/3353749124.py:40: SettingWithCopyWarning: \n",
      "A value is trying to be set on a copy of a slice from a DataFrame\n",
      "\n",
      "See the caveats in the documentation: https://pandas.pydata.org/pandas-docs/stable/user_guide/indexing.html#returning-a-view-versus-a-copy\n",
      "  usr.db.dfObservation.loc[initialidx, ['filetype', 'filepath', 'datetime', 'description']] = ['Observation',\n"
     ]
    },
    {
     "name": "stdout",
     "output_type": "stream",
     "text": [
      "Database interaction not yet implemented. Use pickle file for dataframes instead!\n"
     ]
    },
    {
     "name": "stderr",
     "output_type": "stream",
     "text": [
      "/tmp/ipykernel_931/3353749124.py:40: SettingWithCopyWarning: \n",
      "A value is trying to be set on a copy of a slice from a DataFrame\n",
      "\n",
      "See the caveats in the documentation: https://pandas.pydata.org/pandas-docs/stable/user_guide/indexing.html#returning-a-view-versus-a-copy\n",
      "  usr.db.dfObservation.loc[initialidx, ['filetype', 'filepath', 'datetime', 'description']] = ['Observation',\n"
     ]
    },
    {
     "name": "stdout",
     "output_type": "stream",
     "text": [
      "{'description': 'Maria_2019', 'igniteidx': '2b514c79acde4a2ca955becf4c1afc4f', 'compareidx': 'cb61f4c00d5547489e9c0ad05d97fc11', 'lcpidx': '43b7f5db36994599861eec4849cc68fd', 'barrieridx': 'cb47616cd2dc4ccc8fd523bd3a5064bb', 'windspeed': 17, 'winddirection': 16, 'relhumid': 90, 'temperature': 20}\n",
      "Choosing a perimeter from the database\n",
      "Database interaction not yet implemented. Use pickle file for dataframes instead!\n"
     ]
    },
    {
     "name": "stderr",
     "output_type": "stream",
     "text": [
      "/tmp/ipykernel_931/3353749124.py:40: SettingWithCopyWarning: \n",
      "A value is trying to be set on a copy of a slice from a DataFrame\n",
      "\n",
      "See the caveats in the documentation: https://pandas.pydata.org/pandas-docs/stable/user_guide/indexing.html#returning-a-view-versus-a-copy\n",
      "  usr.db.dfObservation.loc[initialidx, ['filetype', 'filepath', 'datetime', 'description']] = ['Observation',\n"
     ]
    },
    {
     "name": "stdout",
     "output_type": "stream",
     "text": [
      "{'description': 'Maria_2019', 'igniteidx': '088a6091384d42278609d55e283d9f22', 'compareidx': '576b0b06de0848d7ad058c73c678f39c', 'lcpidx': '43b7f5db36994599861eec4849cc68fd', 'barrieridx': 'cb47616cd2dc4ccc8fd523bd3a5064bb', 'windspeed': 22, 'winddirection': 29, 'relhumid': 90, 'temperature': 20}\n",
      "Choosing a perimeter from the database\n",
      "Database interaction not yet implemented. Use pickle file for dataframes instead!\n"
     ]
    },
    {
     "name": "stderr",
     "output_type": "stream",
     "text": [
      "/tmp/ipykernel_931/3353749124.py:40: SettingWithCopyWarning: \n",
      "A value is trying to be set on a copy of a slice from a DataFrame\n",
      "\n",
      "See the caveats in the documentation: https://pandas.pydata.org/pandas-docs/stable/user_guide/indexing.html#returning-a-view-versus-a-copy\n",
      "  usr.db.dfObservation.loc[initialidx, ['filetype', 'filepath', 'datetime', 'description']] = ['Observation',\n"
     ]
    },
    {
     "name": "stdout",
     "output_type": "stream",
     "text": [
      "{'description': 'Maria_2019', 'igniteidx': '96ef52b28570454fbfffbb91b9a941fa', 'compareidx': '407c2cf47f0f43099d3070e160684901', 'lcpidx': '43b7f5db36994599861eec4849cc68fd', 'barrieridx': 'cb47616cd2dc4ccc8fd523bd3a5064bb', 'windspeed': 15, 'winddirection': 19, 'relhumid': 90, 'temperature': 20}\n",
      "Choosing a perimeter from the database\n",
      "Database interaction not yet implemented. Use pickle file for dataframes instead!\n",
      "{'description': 'Maria_2019', 'igniteidx': 'bb1facc3c25640d6b34904a3ed274900', 'compareidx': 'bbfc398c431b41bbbee622153497900b', 'lcpidx': '43b7f5db36994599861eec4849cc68fd', 'barrieridx': 'cb47616cd2dc4ccc8fd523bd3a5064bb', 'windspeed': 12, 'winddirection': 24, 'relhumid': 90, 'temperature': 20}\n",
      "Choosing a perimeter from the database\n"
     ]
    },
    {
     "name": "stderr",
     "output_type": "stream",
     "text": [
      "/tmp/ipykernel_931/3353749124.py:40: SettingWithCopyWarning: \n",
      "A value is trying to be set on a copy of a slice from a DataFrame\n",
      "\n",
      "See the caveats in the documentation: https://pandas.pydata.org/pandas-docs/stable/user_guide/indexing.html#returning-a-view-versus-a-copy\n",
      "  usr.db.dfObservation.loc[initialidx, ['filetype', 'filepath', 'datetime', 'description']] = ['Observation',\n"
     ]
    },
    {
     "name": "stdout",
     "output_type": "stream",
     "text": [
      "Database interaction not yet implemented. Use pickle file for dataframes instead!\n"
     ]
    },
    {
     "name": "stderr",
     "output_type": "stream",
     "text": [
      "/tmp/ipykernel_931/3353749124.py:40: SettingWithCopyWarning: \n",
      "A value is trying to be set on a copy of a slice from a DataFrame\n",
      "\n",
      "See the caveats in the documentation: https://pandas.pydata.org/pandas-docs/stable/user_guide/indexing.html#returning-a-view-versus-a-copy\n",
      "  usr.db.dfObservation.loc[initialidx, ['filetype', 'filepath', 'datetime', 'description']] = ['Observation',\n"
     ]
    },
    {
     "name": "stdout",
     "output_type": "stream",
     "text": [
      "{'description': 'Maria_2019', 'igniteidx': 'a438432f5dd64b628e396072140b0489', 'compareidx': 'ed13cc421bbb475297d756d110c48d09', 'lcpidx': '43b7f5db36994599861eec4849cc68fd', 'barrieridx': 'cb47616cd2dc4ccc8fd523bd3a5064bb', 'windspeed': 14, 'winddirection': 22, 'relhumid': 90, 'temperature': 20}\n",
      "Choosing a perimeter from the database\n",
      "Database interaction not yet implemented. Use pickle file for dataframes instead!\n"
     ]
    },
    {
     "name": "stderr",
     "output_type": "stream",
     "text": [
      "/tmp/ipykernel_931/3353749124.py:40: SettingWithCopyWarning: \n",
      "A value is trying to be set on a copy of a slice from a DataFrame\n",
      "\n",
      "See the caveats in the documentation: https://pandas.pydata.org/pandas-docs/stable/user_guide/indexing.html#returning-a-view-versus-a-copy\n",
      "  usr.db.dfObservation.loc[initialidx, ['filetype', 'filepath', 'datetime', 'description']] = ['Observation',\n"
     ]
    },
    {
     "name": "stdout",
     "output_type": "stream",
     "text": [
      "{'description': 'Maria_2019', 'igniteidx': '11861e53ba604975b3d312d0d221f18a', 'compareidx': '1b2a9a02941a42a2b4475ee22b27b18a', 'lcpidx': '43b7f5db36994599861eec4849cc68fd', 'barrieridx': 'cb47616cd2dc4ccc8fd523bd3a5064bb', 'windspeed': 14, 'winddirection': 21, 'relhumid': 90, 'temperature': 20}\n",
      "Choosing a perimeter from the database\n",
      "CPU times: user 659 ms, sys: 23.3 ms, total: 682 ms\n",
      "Wall time: 18.8 s\n"
     ]
    }
   ],
   "source": [
    "%%time\n",
    "\n",
    "# zero concurrent observations\n",
    "# Considers the first observation as the ignition\n",
    "dfrow_ignite = usr.db.dfObservation.iloc[0]\n",
    "\n",
    "timestamp = dfrow_ignite['datetime']\n",
    "ignition_geom = gpd.read_file(dfrow_ignite['filepath'])['geometry'][0]\n",
    "\n",
    "zero_info_simulations = [ignition_geom]\n",
    "for i in range(10):\n",
    "    dfrow_pre = usr.db.dfObservation.iloc[i]\n",
    "    dfrow_next = usr.db.dfObservation.iloc[i+1]\n",
    "    dt = dfrow_next['datetime'] - dfrow_pre['datetime']\n",
    "    \n",
    "    ignition_geom = forward_pass(ignition_geom, params={'winddirection': winddirection_maria[i],\n",
    "                                                        'windspeed': windspeed_maria[i],\n",
    "                                                        'dt': dt})\n",
    "    zero_info_simulations.append(ignition_geom)"
   ]
  },
  {
   "cell_type": "code",
   "execution_count": 23,
   "id": "8c0f3646-67ae-4882-89d4-95d013ec9375",
   "metadata": {},
   "outputs": [
    {
     "data": {
      "text/plain": [
       "[<POLYGON ((-2084217.148 1503560.461, -2084279.557 1503576.755, -2084348.612 ...>,\n",
       " <POLYGON ((-2084991 1504442, -2084936 1504448, -2084907 1504477, -2084884 15...>,\n",
       " <POLYGON ((-2085377 1504125, -2085351 1504106, -2085325 1504086, -2085286 15...>,\n",
       " <POLYGON ((-2085851 1503900, -2085847 1503863, -2085841 1503826, -2085822 15...>,\n",
       " <POLYGON ((-2086563 1503341, -2086561 1503296, -2086553 1503250, -2086549 15...>,\n",
       " <POLYGON ((-2087232 1501829, -2087224 1501800, -2087217 1501770, -2087204 15...>,\n",
       " <POLYGON ((-2087491 1501632, -2087485 1501578, -2087434 1501552, -2087412 15...>,\n",
       " <POLYGON ((-2087792 1501904, -2087786 1501875, -2087779 1501845, -2087748 15...>,\n",
       " <POLYGON ((-2087950 1502384, -2087921 1502352, -2087902 1502340, -2087862 15...>,\n",
       " <POLYGON ((-2088100 1501586, -2088097 1501538, -2088090 1501500, -2088070 15...>,\n",
       " <POLYGON ((-2088172 1502148, -2088164 1502112, -2088149 1502097, -2088125 15...>]"
      ]
     },
     "execution_count": 23,
     "metadata": {},
     "output_type": "execute_result"
    }
   ],
   "source": [
    "zero_info_simulations"
   ]
  },
  {
   "cell_type": "code",
   "execution_count": 24,
   "id": "cbc7a0f6-2d76-41bd-af38-8a44d6f522c9",
   "metadata": {},
   "outputs": [],
   "source": [
    "with open('/home/jovyan/data/maria_zero_observation_sim_08312023.pkl', 'wb') as f:\n",
    "    pickle.dump(zero_info_simulations, f)\n",
    "    "
   ]
  },
  {
   "cell_type": "markdown",
   "id": "8fe1dd28-994f-4b8f-b7f2-bcbe9220a2de",
   "metadata": {
    "tags": []
   },
   "source": [
    "### Validate observed geometries"
   ]
  },
  {
   "cell_type": "code",
   "execution_count": null,
   "id": "05cd5c4e-7ebe-46f2-8f2d-70a7bb14830f",
   "metadata": {
    "tags": []
   },
   "outputs": [],
   "source": [
    "observed_geoms_fixed = []\n",
    "for geom in maria_observations:\n",
    "    poly = validate_geom(geom)\n",
    "    poly = validate_geom(interpolate_geom(poly, 100))\n",
    "    assert(isinstance(poly, Polygon)), 'buffered polygon is not a polygon'\n",
    "    observed_geoms_fixed.append(poly)"
   ]
  },
  {
   "cell_type": "code",
   "execution_count": null,
   "id": "8c9dd9de-8ee0-4979-807c-688ab96d770b",
   "metadata": {
    "tags": []
   },
   "outputs": [],
   "source": [
    "# ws = 10\n",
    "# wd = 60 \n",
    "######### wd and ws to be chosen from the runs during the live fire\n",
    "nsamples = 500\n",
    "vertex_count = 100\n",
    "\n",
    "data = {'calculations': [],\n",
    "        'parameters': {'nsamples': nsamples,\n",
    "                       'vertex_count': vertex_count},\n",
    "       }"
   ]
  },
  {
   "cell_type": "code",
   "execution_count": null,
   "id": "5eccf3ec-d3a1-4ffa-91bf-f5bdd40b672b",
   "metadata": {
    "tags": []
   },
   "outputs": [],
   "source": [
    "plt.hist(np.random.normal(winddirection_maria[0], scale=30, size=nsamples))"
   ]
  },
  {
   "cell_type": "code",
   "execution_count": null,
   "id": "09df11fe-b790-47d1-9ac4-1916d98bcd3d",
   "metadata": {
    "scrolled": true,
    "tags": []
   },
   "outputs": [],
   "source": [
    "%%time\n",
    "\n",
    "for upix in range(1,len(observed_geoms_fixed)):\n",
    "    print('------------------------------------')\n",
    "    print('------------------------------------')\n",
    "    print(f'Calculating {upix-1}-->{upix}')\n",
    "    print('------------------------------------')\n",
    "    print('------------------------------------')\n",
    "    \n",
    "    # Generate samples of (ws, wd)\n",
    "    \n",
    "    # wsar = np.array([windspeed_maria]*nsamples)\n",
    "    # wdar = np.random.uniform(inddirection-45, winddirection+45, size=nsamples)\n",
    "    wsar = np.random.normal(windspeed_maria[upix-1], scale=3, size=nsamples)\n",
    "    wdar = np.random.normal(winddirection_maria[upix-1], scale=30, size=nsamples)\n",
    "\n",
    "    if upix == 1:# First ensemble, use the first observation as the ignition\n",
    "        initial_poly = observed_geoms_fixed[upix-1]\n",
    "    else:\n",
    "        # TODO: average of the state matrix\n",
    "        Xmean = X.mean(axis=1)\n",
    "        x,y = Xmean[::2], Xmean[1::2]\n",
    "        initial_poly = Polygon(zip(x,y))\n",
    "    \n",
    "    Xt_geoms = []\n",
    "    Y_geoms = []\n",
    "    for i, (wsflt, wdflt) in enumerate(zip(wsar, wdar)):\n",
    "        wsint = round(wsflt)\n",
    "        wdint = np.fmod(round(wdflt)+360, 360)\n",
    "        \n",
    "        print(f'-- {upix-1}-->{upix} --\\nCalculating wd={wdint}, ws={wsint} - {i}/{len(wdar)}')\n",
    "\n",
    "        \n",
    "        xtgeom = forward_pass(initial_poly, \n",
    "                              {'windspeed': wsint, \n",
    "                               'winddirection': wdint, \n",
    "                               'dt': datetime.timedelta(minutes=30)})\n",
    "        if xtgeom is not None:\n",
    "            Xt_geoms.append(xtgeom)\n",
    "        \n",
    "        sampled = sample_geometry(observed_geoms_fixed[upix], sigma=150)\n",
    "        # Validate sample_poly\n",
    "        sampled_validated = validate_geom(sampled)\n",
    "        # Interpolate\n",
    "        sampled_validated_interpolated = interpolate_geom(sampled_validated, vertex_count)\n",
    "        # Validate again\n",
    "        sampled_validated_2 = validate_geom(sampled_validated_interpolated)\n",
    "        \n",
    "        Y_geoms.append(sampled_validated_2)\n",
    "        \n",
    "    Y = geoms_to_matrix(Y_geoms, vertex_count=vertex_count, nsamples=nsamples)\n",
    "\n",
    "    Ymean = Y.mean(axis=1)\n",
    "    x,y = Ymean[::2], Ymean[1::2]\n",
    "    aligned_geom = Polygon(zip(x,y))\n",
    "    \n",
    "    filled_count = nsamples-len(Xt_geoms)\n",
    "    if filled_count > 0:\n",
    "        Xt_geoms = fill_null_geoms(Xt_geoms, nsamples)\n",
    "        \n",
    "    Xt = geoms_to_matrix(Xt_geoms, vertex_count=vertex_count,  aligned_geom=aligned_geom, nsamples=nsamples)\n",
    "\n",
    "    X = update_EnKF_2(Xt, Y)\n",
    "    X = geoms_to_matrix(matrix_to_geom(X), vertex_count=vertex_count, aligned_geom = aligned_geom, nsamples=nsamples)\n",
    "    \n",
    "    data['calculations'].append({'initial_poly': initial_poly,\n",
    "                                 'aligned_geom': aligned_geom,\n",
    "                                 'filled_geoms': filled_count,\n",
    "                                  'Xt': Xt, 'X': X, 'Y': Y,\n",
    "                                  'wdar': wdar, 'wsar': wsar})\n",
    "    \n",
    "    with open('/home/jovyan/data/output_maria_08302023.pkl', 'wb') as f:\n",
    "        pickle.dump(data, f)"
   ]
  },
  {
   "cell_type": "code",
   "execution_count": null,
   "id": "6d29aed0-b3f1-499d-83b3-379321ec09fc",
   "metadata": {},
   "outputs": [],
   "source": [
    "fig, ax = plt.subplots(1,1, figsize=(4,4,), dpi=200)\n",
    "# plot_geometry(zero_info_simulations[1], ax=ax, color=(1,0,0,0.2))\n",
    "# plot_geometry(zero_info_simulations[2], ax=ax, color=(1,0,0,0.4))\n",
    "# plot_geometry(zero_info_simulations[3], ax=ax, color=(1,0,0,0.6))\n",
    "plot_geometry(zero_info_simulations[4], ax=ax, color=(1,0,0,1))\n",
    "\n",
    "# plot_matrix(data['calculations'][0]['X'], ax=ax, color=(0,0,1,0.2))\n",
    "# plot_matrix(data['calculations'][1]['X'], ax=ax, color=(0,0,1,0.4))\n",
    "# plot_matrix(data['calculations'][2]['X'], ax=ax, color=(0,0,1,0.6))\n",
    "plot_matrix(data['calculations'][3]['X'], ax=ax, color=(0,0,1,1))\n",
    "\n",
    "# plot_matrix(data['calculations'][0]['Y'], ax=ax, color=(0,0,0,0.2), ls='--')\n",
    "# plot_matrix(data['calculations'][1]['Y'], ax=ax, color=(0,0,0,0.4), ls='--')\n",
    "# plot_matrix(data['calculations'][2]['Y'], ax=ax, color=(0,0,0,0.6), ls='--')\n",
    "plot_matrix(data['calculations'][3]['Y'], ax=ax, color=(0,0,0,1), ls='--')"
   ]
  },
  {
   "cell_type": "code",
   "execution_count": null,
   "id": "f6afabdc-d4fe-4b38-a9de-baa5658ec2db",
   "metadata": {},
   "outputs": [],
   "source": [
    "with open('/home/jovyan/data/output_maria_08302023.pkl', 'wb') as f:\n",
    "    pickle.dump(data, f)"
   ]
  },
  {
   "cell_type": "code",
   "execution_count": null,
   "id": "8ed07a26-9bb2-454a-a22a-bd54c6fa2c5c",
   "metadata": {},
   "outputs": [],
   "source": [
    "calix = 4\n",
    "Xt = data['calculations'][calix]['Xt']\n",
    "Y = data['calculations'][calix]['Y']\n",
    "X = data['calculations'][calix]['X']\n",
    "\n",
    "plot_alix = None\n",
    "\n",
    "fig, ax = plt.subplots(1,1, figsize=(4,4), dpi=200)\n",
    "\n",
    "# plot_matrix_ensemble(Xt, plot_alix =plot_alix, color=(0,0,1,0.2), ax=ax, ls='-', marker='', lw=0.05, alpha=0.5)\n",
    "# plot_matrix_ensemble(Y, plot_alix=plot_alix, color=(1,0,0,0.2), ax=ax, ls='-', marker='', lw=0.05, alpha=0.5)\n",
    "# plot_matrix_ensemble(X, plot_alix=plot_alix, color=(0,0,0,0.2), ax=ax, ls='-', marker='', lw=0.05, alpha=0.5)\n",
    "\n",
    "show_stdev = True\n",
    "plot_matrix(Xt, show_stdev=show_stdev, ax=ax, color='red')\n",
    "plot_matrix(Y, show_stdev=show_stdev, ax=ax, color='blue')\n",
    "plot_matrix(X, show_stdev=show_stdev, ax=ax, color='black', ls='--')"
   ]
  },
  {
   "cell_type": "code",
   "execution_count": null,
   "id": "f19ec371-41da-4cc2-a839-b21e8a837f7f",
   "metadata": {},
   "outputs": [],
   "source": []
  }
 ],
 "metadata": {
  "kernelspec": {
   "display_name": "Python 3 (ipykernel)",
   "language": "python",
   "name": "python3"
  },
  "language_info": {
   "codemirror_mode": {
    "name": "ipython",
    "version": 3
   },
   "file_extension": ".py",
   "mimetype": "text/x-python",
   "name": "python",
   "nbconvert_exporter": "python",
   "pygments_lexer": "ipython3",
   "version": "3.11.4"
  }
 },
 "nbformat": 4,
 "nbformat_minor": 5
}
