{
 "cells": [
  {
   "cell_type": "markdown",
   "id": "2303a156",
   "metadata": {},
   "source": [
    "## Dependencies"
   ]
  },
  {
   "cell_type": "code",
   "execution_count": 77,
   "id": "a742ef22",
   "metadata": {},
   "outputs": [],
   "source": [
    "import datetime\n",
    "import pandas as pd\n",
    "import geopandas as gpd\n",
    "from dataclasses import dataclass\n",
    "import uuid\n",
    "\n",
    "from shapely.geometry import MultiPolygon, Polygon\n",
    "\n",
    "from farsiteutils import User, Run_File, Config_File, Input, FilePaths, Database\n",
    "\n",
    "from multiprocessing import Pool\n",
    "\n",
    "from ipyleaflet import Map, basemaps, basemap_to_tiles, ScaleControl, LayersControl, WKTLayer, WidgetControl\n",
    "from ipyleaflet.leaflet import LayerException\n",
    "from ipywidgets import Layout, FloatProgress, HBox, VBox, FloatText\n",
    "from ipywidgets import SelectionSlider\n",
    "\n",
    "from functools import partial\n",
    "\n",
    "import os"
   ]
  },
  {
   "cell_type": "code",
   "execution_count": 3,
   "id": "bd7aaec2",
   "metadata": {},
   "outputs": [
    {
     "name": "stdout",
     "output_type": "stream",
     "text": [
      "Setting up the interface\n",
      "Database interaction not yet implemented. Use pickle file for dataframes instead!\n"
     ]
    }
   ],
   "source": [
    "fp = FilePaths('/home/tcaglar/data/')\n",
    "usr = User(fp)"
   ]
  },
  {
   "cell_type": "code",
   "execution_count": 4,
   "id": "30358fe4",
   "metadata": {},
   "outputs": [
    {
     "data": {
      "application/vnd.jupyter.widget-view+json": {
       "model_id": "9ad716dfe528444abaa6270f7f0a4908",
       "version_major": 2,
       "version_minor": 0
      },
      "text/plain": [
       "VBox(children=(HBox(children=(Label(value='Windspeed'), IntRangeSlider(value=(0, 20), max=50), Label(value='St…"
      ]
     },
     "metadata": {},
     "output_type": "display_data"
    },
    {
     "name": "stdout",
     "output_type": "stream",
     "text": [
      "{'windspeedlow': 0, 'windspeedhigh': 20, 'windspeeddelta': 5, 'winddirectionlow': 0, 'winddirectionhigh': 180, 'winddirectiondelta': 20, 'relhumid': 10, 'burntime': datetime.timedelta(0, 7200), 'burntimestep': datetime.timedelta(0, 1800), 'temperature': 60}\n",
      "Choosing a perimeter from the database\n",
      "Collecting lcp file from gdal_translate\n"
     ]
    }
   ],
   "source": [
    "usr.UI"
   ]
  },
  {
   "cell_type": "code",
   "execution_count": 5,
   "id": "01c2207e",
   "metadata": {},
   "outputs": [
    {
     "ename": "DriverError",
     "evalue": "/home/tcaglar/data/20220330/Run_0034/out_Perimeters.shp: No such file or directory",
     "output_type": "error",
     "traceback": [
      "\u001b[0;31m---------------------------------------------------------------------------\u001b[0m",
      "\u001b[0;31mCPLE_OpenFailedError\u001b[0m                      Traceback (most recent call last)",
      "\u001b[0;32mfiona/_shim.pyx\u001b[0m in \u001b[0;36mfiona._shim.gdal_open_vector\u001b[0;34m()\u001b[0m\n",
      "\u001b[0;32mfiona/_err.pyx\u001b[0m in \u001b[0;36mfiona._err.exc_wrap_pointer\u001b[0;34m()\u001b[0m\n",
      "\u001b[0;31mCPLE_OpenFailedError\u001b[0m: /home/tcaglar/data/20220330/Run_0034/out_Perimeters.shp: No such file or directory",
      "\nDuring handling of the above exception, another exception occurred:\n",
      "\u001b[0;31mDriverError\u001b[0m                               Traceback (most recent call last)",
      "\u001b[0;32m<ipython-input-5-6ac654e20af9>\u001b[0m in \u001b[0;36m<module>\u001b[0;34m\u001b[0m\n\u001b[0;32m----> 1\u001b[0;31m \u001b[0musr\u001b[0m\u001b[0;34m.\u001b[0m\u001b[0mmainapi\u001b[0m\u001b[0;34m.\u001b[0m\u001b[0mrun_farsite\u001b[0m\u001b[0;34m(\u001b[0m\u001b[0;34m)\u001b[0m\u001b[0;34m\u001b[0m\u001b[0;34m\u001b[0m\u001b[0m\n\u001b[0m",
      "\u001b[0;32m~/farsite/src/farsiteutils.py\u001b[0m in \u001b[0;36mrun_farsite\u001b[0;34m(self, numproc)\u001b[0m\n\u001b[1;32m    405\u001b[0m         \u001b[0;32mif\u001b[0m \u001b[0mnumproc\u001b[0m \u001b[0;34m==\u001b[0m \u001b[0;36m1\u001b[0m\u001b[0;34m:\u001b[0m\u001b[0;34m\u001b[0m\u001b[0;34m\u001b[0m\u001b[0m\n\u001b[1;32m    406\u001b[0m             \u001b[0;32mfor\u001b[0m \u001b[0mfarsite\u001b[0m \u001b[0;32min\u001b[0m \u001b[0mself\u001b[0m\u001b[0;34m.\u001b[0m\u001b[0mfarsite_lst\u001b[0m\u001b[0;34m:\u001b[0m\u001b[0;34m\u001b[0m\u001b[0;34m\u001b[0m\u001b[0m\n\u001b[0;32m--> 407\u001b[0;31m                 \u001b[0mfarsite\u001b[0m\u001b[0;34m.\u001b[0m\u001b[0mupdatedb\u001b[0m\u001b[0;34m(\u001b[0m\u001b[0mfarsite\u001b[0m\u001b[0;34m.\u001b[0m\u001b[0mrun_command\u001b[0m\u001b[0;34m(\u001b[0m\u001b[0;34m)\u001b[0m\u001b[0;34m)\u001b[0m\u001b[0;34m\u001b[0m\u001b[0;34m\u001b[0m\u001b[0m\n\u001b[0m\u001b[1;32m    408\u001b[0m         \u001b[0;32melse\u001b[0m\u001b[0;34m:\u001b[0m\u001b[0;34m\u001b[0m\u001b[0;34m\u001b[0m\u001b[0m\n\u001b[1;32m    409\u001b[0m             \u001b[0mpool\u001b[0m \u001b[0;34m=\u001b[0m \u001b[0mPool\u001b[0m\u001b[0;34m(\u001b[0m\u001b[0mprocesses\u001b[0m\u001b[0;34m=\u001b[0m\u001b[0mnumproc\u001b[0m\u001b[0;34m)\u001b[0m\u001b[0;34m\u001b[0m\u001b[0;34m\u001b[0m\u001b[0m\n",
      "\u001b[0;32m~/farsite/src/farsiteutils.py\u001b[0m in \u001b[0;36mrun_command\u001b[0;34m(self)\u001b[0m\n\u001b[1;32m    644\u001b[0m         \u001b[0mos\u001b[0m\u001b[0;34m.\u001b[0m\u001b[0msystem\u001b[0m\u001b[0;34m(\u001b[0m\u001b[0mself\u001b[0m\u001b[0;34m.\u001b[0m\u001b[0mcommand\u001b[0m\u001b[0;34m)\u001b[0m\u001b[0;34m\u001b[0m\u001b[0;34m\u001b[0m\u001b[0m\n\u001b[1;32m    645\u001b[0m \u001b[0;34m\u001b[0m\u001b[0m\n\u001b[0;32m--> 646\u001b[0;31m         \u001b[0mself\u001b[0m\u001b[0;34m.\u001b[0m\u001b[0mrunfile\u001b[0m\u001b[0;34m.\u001b[0m\u001b[0mupdatedb\u001b[0m\u001b[0;34m(\u001b[0m\u001b[0;34m)\u001b[0m\u001b[0;34m\u001b[0m\u001b[0;34m\u001b[0m\u001b[0m\n\u001b[0m\u001b[1;32m    647\u001b[0m         \u001b[0;31m# Return\u001b[0m\u001b[0;34m\u001b[0m\u001b[0;34m\u001b[0m\u001b[0;34m\u001b[0m\u001b[0m\n\u001b[1;32m    648\u001b[0m         \u001b[0;32mreturn\u001b[0m \u001b[0;36m0\u001b[0m\u001b[0;34m\u001b[0m\u001b[0;34m\u001b[0m\u001b[0m\n",
      "\u001b[0;32m~/farsite/src/farsiteutils.py\u001b[0m in \u001b[0;36mupdatedb\u001b[0;34m(self)\u001b[0m\n\u001b[1;32m    498\u001b[0m                 'configpath': self.configpath}\n\u001b[1;32m    499\u001b[0m \u001b[0;34m\u001b[0m\u001b[0m\n\u001b[0;32m--> 500\u001b[0;31m         \u001b[0mself\u001b[0m\u001b[0;34m.\u001b[0m\u001b[0mdb\u001b[0m\u001b[0;34m.\u001b[0m\u001b[0mappend\u001b[0m\u001b[0;34m(\u001b[0m\u001b[0mdata\u001b[0m\u001b[0;34m)\u001b[0m\u001b[0;34m\u001b[0m\u001b[0;34m\u001b[0m\u001b[0m\n\u001b[0m\u001b[1;32m    501\u001b[0m \u001b[0;34m\u001b[0m\u001b[0m\n\u001b[1;32m    502\u001b[0m         \u001b[0;31m# Calculation done for runfile\u001b[0m\u001b[0;34m\u001b[0m\u001b[0;34m\u001b[0m\u001b[0;34m\u001b[0m\u001b[0m\n",
      "\u001b[0;32m~/farsite/src/farsiteutils.py\u001b[0m in \u001b[0;36mappend\u001b[0;34m(self, data)\u001b[0m\n\u001b[1;32m     99\u001b[0m         \u001b[0;32mif\u001b[0m \u001b[0mfiletype\u001b[0m \u001b[0;34m==\u001b[0m \u001b[0;34m'Simulation'\u001b[0m\u001b[0;34m:\u001b[0m\u001b[0;34m\u001b[0m\u001b[0;34m\u001b[0m\u001b[0m\n\u001b[1;32m    100\u001b[0m             \u001b[0;31m# Read the output simulation geoms\u001b[0m\u001b[0;34m\u001b[0m\u001b[0;34m\u001b[0m\u001b[0;34m\u001b[0m\u001b[0m\n\u001b[0;32m--> 101\u001b[0;31m             \u001b[0mgdf\u001b[0m \u001b[0;34m=\u001b[0m \u001b[0mgpd\u001b[0m\u001b[0;34m.\u001b[0m\u001b[0mread_file\u001b[0m\u001b[0;34m(\u001b[0m\u001b[0mdata\u001b[0m\u001b[0;34m[\u001b[0m\u001b[0;34m'filepath'\u001b[0m\u001b[0;34m]\u001b[0m\u001b[0;34m)\u001b[0m\u001b[0;34m\u001b[0m\u001b[0;34m\u001b[0m\u001b[0m\n\u001b[0m\u001b[1;32m    102\u001b[0m             \u001b[0midxlst\u001b[0m \u001b[0;34m=\u001b[0m \u001b[0;34m[\u001b[0m\u001b[0;34m]\u001b[0m\u001b[0;34m\u001b[0m\u001b[0;34m\u001b[0m\u001b[0m\n\u001b[1;32m    103\u001b[0m             \u001b[0mgeomlst\u001b[0m \u001b[0;34m=\u001b[0m \u001b[0;34m[\u001b[0m\u001b[0;34m]\u001b[0m\u001b[0;34m\u001b[0m\u001b[0;34m\u001b[0m\u001b[0m\n",
      "\u001b[0;32m/usr/local/lib/python3.6/dist-packages/geopandas/io/file.py\u001b[0m in \u001b[0;36m_read_file\u001b[0;34m(filename, bbox, mask, rows, **kwargs)\u001b[0m\n\u001b[1;32m    158\u001b[0m \u001b[0;34m\u001b[0m\u001b[0m\n\u001b[1;32m    159\u001b[0m     \u001b[0;32mwith\u001b[0m \u001b[0mfiona_env\u001b[0m\u001b[0;34m(\u001b[0m\u001b[0;34m)\u001b[0m\u001b[0;34m:\u001b[0m\u001b[0;34m\u001b[0m\u001b[0;34m\u001b[0m\u001b[0m\n\u001b[0;32m--> 160\u001b[0;31m         \u001b[0;32mwith\u001b[0m \u001b[0mreader\u001b[0m\u001b[0;34m(\u001b[0m\u001b[0mpath_or_bytes\u001b[0m\u001b[0;34m,\u001b[0m \u001b[0;34m**\u001b[0m\u001b[0mkwargs\u001b[0m\u001b[0;34m)\u001b[0m \u001b[0;32mas\u001b[0m \u001b[0mfeatures\u001b[0m\u001b[0;34m:\u001b[0m\u001b[0;34m\u001b[0m\u001b[0;34m\u001b[0m\u001b[0m\n\u001b[0m\u001b[1;32m    161\u001b[0m \u001b[0;34m\u001b[0m\u001b[0m\n\u001b[1;32m    162\u001b[0m             \u001b[0;31m# In a future Fiona release the crs attribute of features will\u001b[0m\u001b[0;34m\u001b[0m\u001b[0;34m\u001b[0m\u001b[0;34m\u001b[0m\u001b[0m\n",
      "\u001b[0;32m/usr/local/lib/python3.6/dist-packages/fiona/env.py\u001b[0m in \u001b[0;36mwrapper\u001b[0;34m(*args, **kwargs)\u001b[0m\n\u001b[1;32m    398\u001b[0m     \u001b[0;32mdef\u001b[0m \u001b[0mwrapper\u001b[0m\u001b[0;34m(\u001b[0m\u001b[0;34m*\u001b[0m\u001b[0margs\u001b[0m\u001b[0;34m,\u001b[0m \u001b[0;34m**\u001b[0m\u001b[0mkwargs\u001b[0m\u001b[0;34m)\u001b[0m\u001b[0;34m:\u001b[0m\u001b[0;34m\u001b[0m\u001b[0;34m\u001b[0m\u001b[0m\n\u001b[1;32m    399\u001b[0m         \u001b[0;32mif\u001b[0m \u001b[0mlocal\u001b[0m\u001b[0;34m.\u001b[0m\u001b[0m_env\u001b[0m\u001b[0;34m:\u001b[0m\u001b[0;34m\u001b[0m\u001b[0;34m\u001b[0m\u001b[0m\n\u001b[0;32m--> 400\u001b[0;31m             \u001b[0;32mreturn\u001b[0m \u001b[0mf\u001b[0m\u001b[0;34m(\u001b[0m\u001b[0;34m*\u001b[0m\u001b[0margs\u001b[0m\u001b[0;34m,\u001b[0m \u001b[0;34m**\u001b[0m\u001b[0mkwargs\u001b[0m\u001b[0;34m)\u001b[0m\u001b[0;34m\u001b[0m\u001b[0;34m\u001b[0m\u001b[0m\n\u001b[0m\u001b[1;32m    401\u001b[0m         \u001b[0;32melse\u001b[0m\u001b[0;34m:\u001b[0m\u001b[0;34m\u001b[0m\u001b[0;34m\u001b[0m\u001b[0m\n\u001b[1;32m    402\u001b[0m             \u001b[0;32mif\u001b[0m \u001b[0misinstance\u001b[0m\u001b[0;34m(\u001b[0m\u001b[0margs\u001b[0m\u001b[0;34m[\u001b[0m\u001b[0;36m0\u001b[0m\u001b[0;34m]\u001b[0m\u001b[0;34m,\u001b[0m \u001b[0mstr\u001b[0m\u001b[0;34m)\u001b[0m\u001b[0;34m:\u001b[0m\u001b[0;34m\u001b[0m\u001b[0;34m\u001b[0m\u001b[0m\n",
      "\u001b[0;32m/usr/local/lib/python3.6/dist-packages/fiona/__init__.py\u001b[0m in \u001b[0;36mopen\u001b[0;34m(fp, mode, driver, schema, crs, encoding, layer, vfs, enabled_drivers, crs_wkt, **kwargs)\u001b[0m\n\u001b[1;32m    255\u001b[0m         \u001b[0;32mif\u001b[0m \u001b[0mmode\u001b[0m \u001b[0;32min\u001b[0m \u001b[0;34m(\u001b[0m\u001b[0;34m'a'\u001b[0m\u001b[0;34m,\u001b[0m \u001b[0;34m'r'\u001b[0m\u001b[0;34m)\u001b[0m\u001b[0;34m:\u001b[0m\u001b[0;34m\u001b[0m\u001b[0;34m\u001b[0m\u001b[0m\n\u001b[1;32m    256\u001b[0m             c = Collection(path, mode, driver=driver, encoding=encoding,\n\u001b[0;32m--> 257\u001b[0;31m                            layer=layer, enabled_drivers=enabled_drivers, **kwargs)\n\u001b[0m\u001b[1;32m    258\u001b[0m         \u001b[0;32melif\u001b[0m \u001b[0mmode\u001b[0m \u001b[0;34m==\u001b[0m \u001b[0;34m'w'\u001b[0m\u001b[0;34m:\u001b[0m\u001b[0;34m\u001b[0m\u001b[0;34m\u001b[0m\u001b[0m\n\u001b[1;32m    259\u001b[0m             \u001b[0;32mif\u001b[0m \u001b[0mschema\u001b[0m\u001b[0;34m:\u001b[0m\u001b[0;34m\u001b[0m\u001b[0;34m\u001b[0m\u001b[0m\n",
      "\u001b[0;32m/usr/local/lib/python3.6/dist-packages/fiona/collection.py\u001b[0m in \u001b[0;36m__init__\u001b[0;34m(self, path, mode, driver, schema, crs, encoding, layer, vsi, archive, enabled_drivers, crs_wkt, ignore_fields, ignore_geometry, **kwargs)\u001b[0m\n\u001b[1;32m    162\u001b[0m             \u001b[0;32mif\u001b[0m \u001b[0mself\u001b[0m\u001b[0;34m.\u001b[0m\u001b[0mmode\u001b[0m \u001b[0;34m==\u001b[0m \u001b[0;34m'r'\u001b[0m\u001b[0;34m:\u001b[0m\u001b[0;34m\u001b[0m\u001b[0;34m\u001b[0m\u001b[0m\n\u001b[1;32m    163\u001b[0m                 \u001b[0mself\u001b[0m\u001b[0;34m.\u001b[0m\u001b[0msession\u001b[0m \u001b[0;34m=\u001b[0m \u001b[0mSession\u001b[0m\u001b[0;34m(\u001b[0m\u001b[0;34m)\u001b[0m\u001b[0;34m\u001b[0m\u001b[0;34m\u001b[0m\u001b[0m\n\u001b[0;32m--> 164\u001b[0;31m                 \u001b[0mself\u001b[0m\u001b[0;34m.\u001b[0m\u001b[0msession\u001b[0m\u001b[0;34m.\u001b[0m\u001b[0mstart\u001b[0m\u001b[0;34m(\u001b[0m\u001b[0mself\u001b[0m\u001b[0;34m,\u001b[0m \u001b[0;34m**\u001b[0m\u001b[0mkwargs\u001b[0m\u001b[0;34m)\u001b[0m\u001b[0;34m\u001b[0m\u001b[0;34m\u001b[0m\u001b[0m\n\u001b[0m\u001b[1;32m    165\u001b[0m             \u001b[0;32melif\u001b[0m \u001b[0mself\u001b[0m\u001b[0;34m.\u001b[0m\u001b[0mmode\u001b[0m \u001b[0;32min\u001b[0m \u001b[0;34m(\u001b[0m\u001b[0;34m'a'\u001b[0m\u001b[0;34m,\u001b[0m \u001b[0;34m'w'\u001b[0m\u001b[0;34m)\u001b[0m\u001b[0;34m:\u001b[0m\u001b[0;34m\u001b[0m\u001b[0;34m\u001b[0m\u001b[0m\n\u001b[1;32m    166\u001b[0m                 \u001b[0mself\u001b[0m\u001b[0;34m.\u001b[0m\u001b[0msession\u001b[0m \u001b[0;34m=\u001b[0m \u001b[0mWritingSession\u001b[0m\u001b[0;34m(\u001b[0m\u001b[0;34m)\u001b[0m\u001b[0;34m\u001b[0m\u001b[0;34m\u001b[0m\u001b[0m\n",
      "\u001b[0;32mfiona/ogrext.pyx\u001b[0m in \u001b[0;36mfiona.ogrext.Session.start\u001b[0;34m()\u001b[0m\n",
      "\u001b[0;32mfiona/_shim.pyx\u001b[0m in \u001b[0;36mfiona._shim.gdal_open_vector\u001b[0;34m()\u001b[0m\n",
      "\u001b[0;31mDriverError\u001b[0m: /home/tcaglar/data/20220330/Run_0034/out_Perimeters.shp: No such file or directory"
     ]
    }
   ],
   "source": [
    "usr.mainapi.run_farsite()"
   ]
  },
  {
   "cell_type": "code",
   "execution_count": 148,
   "id": "6d4e6874",
   "metadata": {},
   "outputs": [],
   "source": [
    "def initiate_wktlayers(gdf, newws, newwd):\n",
    "    add_mask = ((gdf['windspeed'] == newws) & \n",
    "                   (gdf['winddirection'] == newwd))\n",
    "    \n",
    "    gdf.loc[add_mask, 'WKTLayer'].apply(lambda wlayer: m.add_layer(wlayer))\n",
    "    \n",
    "def update_wktlayers(gdf, oldws, newws, oldwd, newwd):    \n",
    "    remove_mask = ((gdf['windspeed'] == oldws) & \n",
    "                   (gdf['winddirection'] == oldwd))\n",
    "    add_mask = ((gdf['windspeed'] == newws) & \n",
    "                   (gdf['winddirection'] == newwd))\n",
    "    \n",
    "    gdf.loc[remove_mask, 'WKTLayer'].apply(lambda wlayer: m.remove_layer(wlayer))\n",
    "    gdf.loc[add_mask, 'WKTLayer'].apply(lambda wlayer: m.add_layer(wlayer))\n",
    "    \n",
    "def test_observe(m, gdf, vbox, event):\n",
    "    if event['owner'].description == 'Wind Speed':\n",
    "        oldws = event['old']\n",
    "        newws = event['new']\n",
    "        oldwd = vbox.children[1].value\n",
    "        newwd = vbox.children[1].value\n",
    "    elif event['owner'].description == 'Wind Direction':\n",
    "        oldws = vbox.children[0].value\n",
    "        newws = vbox.children[0].value\n",
    "        oldwd = event['old']\n",
    "        newwd = event['new']\n",
    "        \n",
    "    update_wktlayers(gdf, oldws, newws, oldwd, newwd)"
   ]
  },
  {
   "cell_type": "code",
   "execution_count": 179,
   "id": "c65808f9",
   "metadata": {
    "scrolled": false
   },
   "outputs": [
    {
     "data": {
      "text/plain": [
       "[34.31457332063798, -119.04471211379085]"
      ]
     },
     "execution_count": 179,
     "metadata": {},
     "output_type": "execute_result"
    }
   ],
   "source": [
    "gdf = usr.mainapi.db.gdfsimulation.to_crs(epsg=4326)\n",
    "gdf['WKTLayer'] = gdf.apply(lambda row: WKTLayer(wkt_string = row['geometry'].wkt), axis=1)\n",
    "# gdf['WKTLayer_visibility'] = False\n",
    "\n",
    "centerlon = gdf.iloc[0]['geometry'].centroid.x\n",
    "centerlat = gdf.iloc[0]['geometry'].centroid.y\n",
    "\n",
    "m = Map(\n",
    "    basemap=basemaps.Esri.WorldTopoMap,\n",
    "    center=(centerlat, centerlon),\n",
    "    zoom=10,\n",
    "    layout=Layout(height='700px')\n",
    ")\n",
    "\n",
    "m.add_control(ScaleControl())\n",
    "    \n",
    "ws = gdf['windspeed'].unique()\n",
    "wd = gdf['winddirection'].unique()\n",
    "dt = gdf['datetime'].unique()\n",
    "\n",
    "ws_select = SelectionSlider(description='Wind Speed', options=ws)\n",
    "wd_select = SelectionSlider(description='Wind Direction', options=wd)\n",
    "\n",
    "vbox = VBox([ws_select, wd_select, dt_select])\n",
    "\n",
    "ws_select.observe(partial(test_observe, m, gdf, vbox), names='value')\n",
    "wd_select.observe(partial(test_observe, m, gdf, vbox), names='value')\n",
    "\n",
    "widget_control = WidgetControl(widget = vbox)\n",
    "m.add_control(widget_control)    \n",
    "    \n",
    "initiate_wktlayers(gdf, vbox.children[0].value, vbox.children[1].value)\n",
    "\n",
    "m"
   ]
  },
  {
   "cell_type": "code",
   "execution_count": 180,
   "id": "08eb1c97",
   "metadata": {},
   "outputs": [
    {
     "data": {
      "application/vnd.jupyter.widget-view+json": {
       "model_id": "1ce42cd7ca0d4f5b8f99f0799edde4fc",
       "version_major": 2,
       "version_minor": 0
      },
      "text/plain": [
       "Map(center=[34.31457332063798, -119.04471211379085], controls=(ZoomControl(options=['position', 'zoom_in_text'…"
      ]
     },
     "metadata": {},
     "output_type": "display_data"
    }
   ],
   "source": [
    "m"
   ]
  },
  {
   "cell_type": "code",
   "execution_count": 184,
   "id": "c5637677",
   "metadata": {},
   "outputs": [
    {
     "name": "stdout",
     "output_type": "stream",
     "text": [
      "https://firemap.sdsc.edu/pylaski/stations/data/latest?selection=closestTo&lat=34.31457332063798&lon=-119.04471211379085&observable=temperature&from=2022-03-29T15:23:43.517905-07:00&to=2022-03-30T15:23:43.517905-07:00\n"
     ]
    }
   ],
   "source": [
    "import requests\n",
    "import arrow\n",
    "\n",
    "baseURL = \"https://firemap.sdsc.edu/pylaski/stations/data/latest?\"\n",
    "\n",
    "## Always start with the base of the URL\n",
    "\n",
    "selectionType=\"selection=closestTo\"\n",
    "#15.87, -97.08\n",
    "lat = 34.31457332063798 \n",
    "lon = -119.04471211379085\n",
    "\n",
    "## Latitude and longitude of the White House according to Google\n",
    "selectionParameters = \"&lat=%s&lon=%s\" % (str(lat),str(lon))\n",
    "observables = \"&observable=temperature\"\n",
    "\n",
    "to = arrow.Arrow.now()\n",
    "frm = to.shift(days=-1)\n",
    "urlDateTime = \"&from=%s&to=%s\" % ( str(frm) , str(to) )\n",
    "\n",
    "urlPlot = baseURL + selectionType + selectionParameters + observables + urlDateTime\n",
    "print(urlPlot)\n",
    "\n",
    "r = requests.get(urlPlot)\n",
    "## Request to GET information from the given URL (Our REST query we built)\n",
    "r_json = r.json()\n",
    "# ## Extract the JSON object from the data returned on our GET request\n",
    "\n",
    "# rTemperature = r_json['features'][0]['properties']['temperature']\n",
    "# rTime = r_json['features'][0]['properties']['timestamp']\n",
    "\n",
    "# rTimeMins = []\n",
    "# for i, val in enumerate(rTime):\n",
    "# \trTimeMins.append( (arrow.get(rTime[i]).timestamp - arrow.get(rTime[0]).timestamp) / 60 / 60 )\n",
    "\n",
    "# plt.plot(rTimeMins,rTemperature,'-og',label='Actual')\n",
    "# plt.xlabel(\"time (hours)\")\n",
    "# plt.ylabel(\"temperature (F)\")\n",
    "# minFive = int(min(rTemperature)) - (int(min(rTemperature))%5)\n",
    "# maxFive = (int(max(rTemperature)) +5) - ( (int(max(rTemperature)) +5) % 5 )\n",
    "# plt.yticks(np.arange(minFive, maxFive+1, (maxFive - minFive)/2))\n",
    "# plt.gca().yaxis.grid(True)\n",
    "# title = \"Temperature at Alert Airport, NU\\n(Past 24 Hours)\"\n",
    "# plt.title(title)\n",
    "# plt.show()"
   ]
  },
  {
   "cell_type": "code",
   "execution_count": 185,
   "id": "51fb8473",
   "metadata": {},
   "outputs": [
    {
     "data": {
      "text/plain": [
       "{'type': 'FeatureCollection',\n",
       " 'features': [{'type': 'Feature',\n",
       "   'geometry': {'type': 'Point', 'coordinates': [-119.04174, 34.29971]},\n",
       "   'properties': {'description': {'id': '90558',\n",
       "     'name': 'SCE Hondo Barranca Rd',\n",
       "     'provider': 'Mesowest',\n",
       "     'wifire_uid': 'mesowest_se209'},\n",
       "    'distanceFromLocation': {'value': 1.632131030311548, 'units': 'km'},\n",
       "    'temperature': {'timestamp': '2022-03-30 15:10:00-0700',\n",
       "     'value': 61.65,\n",
       "     'units': 'F'},\n",
       "    'relative_humidity': {'timestamp': '2022-03-30 15:10:00-0700',\n",
       "     'value': 76.23,\n",
       "     'units': '%'},\n",
       "    'wind_speed': {'timestamp': '2022-03-30 15:10:00-0700',\n",
       "     'value': 2.36,\n",
       "     'units': 'mps'},\n",
       "    'wind_gust': {'timestamp': '2022-03-30 15:10:00-0700',\n",
       "     'value': 5.92,\n",
       "     'units': 'mps'},\n",
       "    'wind_direction': {'timestamp': '2022-03-30 15:10:00-0700',\n",
       "     'value': 186.8,\n",
       "     'units': 'd'}}}]}"
      ]
     },
     "execution_count": 185,
     "metadata": {},
     "output_type": "execute_result"
    }
   ],
   "source": [
    "r_json"
   ]
  },
  {
   "cell_type": "markdown",
   "id": "96733afe",
   "metadata": {},
   "source": [
    "### Create Landscape file"
   ]
  },
  {
   "cell_type": "code",
   "execution_count": 171,
   "id": "c3433a37",
   "metadata": {},
   "outputs": [],
   "source": [
    "gdf_5070 = usr.mainapi.db.gdfignition.set_crs(epsg=5070)\n",
    "gdf_4326 = gdf_5070.to_crs(epsg=4326)\n",
    "geom_5070 = gdf_5070.iloc[0]['geometry']\n",
    "geom = gdf_4326.iloc[0]['geometry']"
   ]
  },
  {
   "cell_type": "code",
   "execution_count": 207,
   "id": "566d3b57",
   "metadata": {},
   "outputs": [
    {
     "name": "stdout",
     "output_type": "stream",
     "text": [
      "CPU times: user 0 ns, sys: 272 ms, total: 272 ms\n",
      "Wall time: 2.76 s\n"
     ]
    }
   ],
   "source": [
    "%%time\n",
    "\n",
    "bounds = geom_5070.bounds\n",
    "\n",
    "ulx = bounds[0]-10000\n",
    "uly = bounds[3]+10000\n",
    "lrx = bounds[2]+10000\n",
    "lry=  bounds[1]-10000\n",
    "\n",
    "fname_lst = {'density': 'US_140CBD_12052016/Grid/us_140cbd', \n",
    "             'base': 'US_140CBH_12052016/Grid/us_140cbh', \n",
    "             'cover': 'US_140CC_12052016/Grid/us_140cc', \n",
    "             'height': 'US_140CH_12052016/Grid/us_140ch', \n",
    "             'fuel': 'US_140FBFM40_20180618/Grid/us_140fbfm40', \n",
    "             'aspect': 'Aspect/Grid/us_asp', \n",
    "             'elevation': 'DEM_Elevation/Grid/us_dem', \n",
    "             'slope': 'Slope/Grid/us_slp'}\n",
    "type_lst = {'density': 'cbd',\n",
    "            'base': 'cbh',\n",
    "            'cover': 'cc',\n",
    "            'height': 'ch',\n",
    "            'fuel': 'fuel',   # fbfm40\n",
    "            'aspect': 'aspect',\n",
    "            'elevation': 'elevation', #dem\n",
    "            'slope': 'slope'}\n",
    "\n",
    "from_folder = os.path.join('/data', 'firemap', 'landfire', 'mosaic')\n",
    "to_folder = '/home/tcaglar/farsite/inputs/landscapes/'\n",
    "\n",
    "# Create the asc files\n",
    "ascpath_lst = {}\n",
    "for (key, fname) in fname_lst.items():\n",
    "    ascpath_lst[key] = f'{os.path.join(to_folder, \"test\")}-{key}.asc'\n",
    "    os.system(f'gdal_translate -of AAIGrid -a_nodata -32768 -projwin {ulx} {uly} {lrx} {lry} {os.path.join(from_folder, fname)} {ascpath_lst[key]}')\n",
    "    \n",
    "# # Extra for the tif file\n",
    "# os.system(f'gdal_translate -of GTiff -a_nodata -32768 -projwin {ulx} {uly} {lrx} {lry} {os.path.join(from_folder, fname_lst[\"elevation\"])} {os.path.join(to_folder, \"test\")}-elevation.tif')\n"
   ]
  },
  {
   "cell_type": "code",
   "execution_count": 208,
   "id": "b2b47c97",
   "metadata": {},
   "outputs": [],
   "source": [
    "lcppath = f'{os.path.join(to_folder, \"test\")}-maria'\n",
    "# ascpath_lst"
   ]
  },
  {
   "cell_type": "code",
   "execution_count": 209,
   "id": "e2f9e6b3",
   "metadata": {},
   "outputs": [
    {
     "data": {
      "text/plain": [
       "0"
      ]
     },
     "execution_count": 209,
     "metadata": {},
     "output_type": "execute_result"
    }
   ],
   "source": [
    "lcpmakepath = '/home/tcaglar/farsite/src/lcpmake'\n",
    "\n",
    "base_command = f'{lcpmakepath} -latitude {m.center[0]} -landscape {lcppath}'\n",
    "run_command = base_command\n",
    "for (key, ascpath) in ascpath_lst.items():\n",
    "    run_command += f' -{key} {ascpath}'\n",
    "    \n",
    "os.system(run_command)"
   ]
  },
  {
   "cell_type": "code",
   "execution_count": 200,
   "id": "eadfb40f",
   "metadata": {},
   "outputs": [
    {
     "data": {
      "text/plain": [
       "{'density': '/home/tcaglar/farsite/inputs/landscapes/test-density.asc',\n",
       " 'base': '/home/tcaglar/farsite/inputs/landscapes/test-base.asc',\n",
       " 'cover': '/home/tcaglar/farsite/inputs/landscapes/test-cover.asc',\n",
       " 'height': '/home/tcaglar/farsite/inputs/landscapes/test-height.asc',\n",
       " 'fuel': '/home/tcaglar/farsite/inputs/landscapes/test-fuel.asc',\n",
       " 'aspect': '/home/tcaglar/farsite/inputs/landscapes/test-aspect.asc',\n",
       " 'elevation': '/home/tcaglar/farsite/inputs/landscapes/test-elevation.asc',\n",
       " 'slope': '/home/tcaglar/farsite/inputs/landscapes/test-slope.asc'}"
      ]
     },
     "execution_count": 200,
     "metadata": {},
     "output_type": "execute_result"
    }
   ],
   "source": [
    "ascpath_lst"
   ]
  },
  {
   "cell_type": "code",
   "execution_count": null,
   "id": "5ef9d8f5",
   "metadata": {},
   "outputs": [],
   "source": []
  },
  {
   "cell_type": "code",
   "execution_count": null,
   "id": "7bd3af47",
   "metadata": {},
   "outputs": [],
   "source": []
  },
  {
   "cell_type": "code",
   "execution_count": null,
   "id": "4505f34d",
   "metadata": {},
   "outputs": [],
   "source": []
  },
  {
   "cell_type": "code",
   "execution_count": null,
   "id": "b467284c",
   "metadata": {},
   "outputs": [],
   "source": [
    "m = Map(center = (geom.centroid.y, geom.centroid.x))\n",
    "m.add_layer(WKTLayer(wkt_string = geom.wkt))\n",
    "m"
   ]
  },
  {
   "cell_type": "code",
   "execution_count": null,
   "id": "67540212",
   "metadata": {},
   "outputs": [],
   "source": [
    "def printSomething(text):\n",
    "    print('Inside print')\n",
    "    return text\n",
    "    \n",
    "def callbackFunction(value):\n",
    "    A.append(value)\n",
    "A = []\n",
    "\n",
    "\n",
    "pool = Pool(processes=4)\n",
    "for ix in range(126):\n",
    "    pool.apply_async(partial(printSomething, ix), callback=callbackFunction)\n",
    "pool.close()\n",
    "pool.join()"
   ]
  },
  {
   "cell_type": "code",
   "execution_count": null,
   "id": "ec1a962a",
   "metadata": {},
   "outputs": [],
   "source": [
    "A"
   ]
  },
  {
   "cell_type": "code",
   "execution_count": null,
   "id": "38ab056e",
   "metadata": {},
   "outputs": [],
   "source": [
    "count = 0.0\n",
    "for (runfile, value) in usr.mainapi.runfile_done.items():\n",
    "    count += value\n",
    "\n",
    "usr.mainapi.loading_widget.value = 0"
   ]
  },
  {
   "cell_type": "code",
   "execution_count": null,
   "id": "bcf417c4",
   "metadata": {},
   "outputs": [],
   "source": [
    "usr.mainapi.update_loading()"
   ]
  },
  {
   "cell_type": "code",
   "execution_count": null,
   "id": "61383d6d",
   "metadata": {},
   "outputs": [],
   "source": [
    "usr.mainapi.runfile_done[runfile] = 1"
   ]
  },
  {
   "cell_type": "code",
   "execution_count": null,
   "id": "81ae568c",
   "metadata": {},
   "outputs": [],
   "source": [
    "usr.mainapi.farsite_lst[0].runfile.tofile()"
   ]
  },
  {
   "cell_type": "code",
   "execution_count": null,
   "id": "658f708d",
   "metadata": {},
   "outputs": [],
   "source": [
    "dt = {usr.mainapi.farsite_lst[0].runfile: 'test'}\n",
    "dt[usr.mainapi.farsite_lst[0].runfile]"
   ]
  },
  {
   "cell_type": "code",
   "execution_count": null,
   "id": "eabce511",
   "metadata": {},
   "outputs": [],
   "source": [
    "usr.mainapi.runfile_lst[0].tofile()"
   ]
  },
  {
   "cell_type": "code",
   "execution_count": null,
   "id": "2e65077e",
   "metadata": {},
   "outputs": [],
   "source": [
    "pd.read_pickle('/home/tcaglar/data/test_table.pkl')"
   ]
  },
  {
   "cell_type": "code",
   "execution_count": null,
   "id": "eabcc0cf",
   "metadata": {},
   "outputs": [],
   "source": [
    "usr.UI"
   ]
  },
  {
   "cell_type": "code",
   "execution_count": null,
   "id": "3904e0fc",
   "metadata": {},
   "outputs": [],
   "source": [
    "gdf = gpd.read_file('/mnt/c/Users/tolk1/Dropbox/SDSC/SDGE/data/Lidar/Documents/LiDAR/Distribution/C11/2017_12_11/GIS-Data/C11_Data.gdb/')"
   ]
  },
  {
   "cell_type": "code",
   "execution_count": null,
   "id": "89e6d57b",
   "metadata": {},
   "outputs": [],
   "source": []
  },
  {
   "cell_type": "code",
   "execution_count": 10,
   "id": "7d50217c",
   "metadata": {},
   "outputs": [
    {
     "ename": "NameError",
     "evalue": "name 'g' is not defined",
     "output_type": "error",
     "traceback": [
      "\u001b[0;31m---------------------------------------------------------------------------\u001b[0m",
      "\u001b[0;31mNameError\u001b[0m                                 Traceback (most recent call last)",
      "\u001b[0;32m<ipython-input-10-bb999538838a>\u001b[0m in \u001b[0;36m<module>\u001b[0;34m\u001b[0m\n\u001b[1;32m      7\u001b[0m \u001b[0;34m\u001b[0m\u001b[0m\n\u001b[1;32m      8\u001b[0m \u001b[0mm\u001b[0m\u001b[0;34m.\u001b[0m\u001b[0madd_control\u001b[0m\u001b[0;34m(\u001b[0m\u001b[0mScaleControl\u001b[0m\u001b[0;34m(\u001b[0m\u001b[0;34m)\u001b[0m\u001b[0;34m)\u001b[0m\u001b[0;34m\u001b[0m\u001b[0;34m\u001b[0m\u001b[0m\n\u001b[0;32m----> 9\u001b[0;31m \u001b[0mm\u001b[0m\u001b[0;34m.\u001b[0m\u001b[0madd_layer\u001b[0m\u001b[0;34m(\u001b[0m\u001b[0mg\u001b[0m\u001b[0;34m)\u001b[0m\u001b[0;34m\u001b[0m\u001b[0;34m\u001b[0m\u001b[0m\n\u001b[0m",
      "\u001b[0;31mNameError\u001b[0m: name 'g' is not defined"
     ]
    }
   ],
   "source": [
    "m = Map(\n",
    "    basemap=basemaps.Esri.WorldTopoMap,\n",
    "    center=(32.7157, -117.1611),\n",
    "    zoom=10,\n",
    "    layout=Layout(height='700px')\n",
    ")\n",
    "\n",
    "m.add_control(ScaleControl())\n",
    "m.add_layer(g)"
   ]
  },
  {
   "cell_type": "code",
   "execution_count": null,
   "id": "4ed4dfdf",
   "metadata": {},
   "outputs": [],
   "source": [
    "usr.db.gdfsimulation"
   ]
  },
  {
   "cell_type": "code",
   "execution_count": null,
   "id": "93c37146",
   "metadata": {},
   "outputs": [],
   "source": [
    "usr.mainapi.farsite_lst[0].runfile.configfile.FARSITE_TIMESTEP"
   ]
  },
  {
   "cell_type": "code",
   "execution_count": null,
   "id": "e503e862",
   "metadata": {},
   "outputs": [],
   "source": [
    "gdf = gpd.read_file(mainapi.farsite_lst[2].runfile.outpath + '_Perimeters.shp')\n",
    "minutes = gdf['Elapsed_Mi'].unique()\n",
    "\n",
    "gdf0 = gdf[gdf['Elapsed_Mi'] == minutes[0]]\n",
    "polygon_lst = [Polygon(value) for value in gdf0['geometry'].values]\n",
    "multipoly = MultiPolygon()\n",
    "for poly in polygon_lst:\n",
    "    multipoly = multipoly.union(poly.buffer(0))\n",
    "    \n",
    "multipoly\n"
   ]
  },
  {
   "cell_type": "code",
   "execution_count": null,
   "id": "7229cd3f",
   "metadata": {},
   "outputs": [],
   "source": [
    "crs = gpd.read_file(mainapi.farsite_lst[0].runfile.outpath + '_Perimeters.shp').crs"
   ]
  },
  {
   "cell_type": "code",
   "execution_count": null,
   "id": "9ce1c90b",
   "metadata": {},
   "outputs": [],
   "source": [
    "geom = gpd.read_file(mainapi.farsite_lst[0].runfile.outpath + '_Perimeters.shp').loc[0, 'geometry']\n",
    "mainapi.db.gdfsimulation.loc['db8ac00b671441fbbd5f86e277f1b0d3', 'igniteidx'] = 'test'\n",
    "gs = gpd.GeoSeries(index=['db8ac00b671441fbbd5f86e277f1b0d3'], data=geom)\n",
    "mainapi.db.gdfsimulation.loc['db8ac00b671441fbbd5f86e277f1b0d3', 'geometry'] = gs"
   ]
  },
  {
   "cell_type": "code",
   "execution_count": null,
   "id": "405e82b7",
   "metadata": {},
   "outputs": [],
   "source": []
  },
  {
   "cell_type": "code",
   "execution_count": null,
   "id": "500bc0d8",
   "metadata": {},
   "outputs": [],
   "source": [
    "gdf = gpd.read_file(mainapi.dftable.iloc[0]['filepath'])\n",
    "gdf.crs"
   ]
  },
  {
   "cell_type": "code",
   "execution_count": null,
   "id": "4b3781f1",
   "metadata": {},
   "outputs": [],
   "source": [
    "gdf['geometry'][0]"
   ]
  },
  {
   "cell_type": "code",
   "execution_count": null,
   "id": "5db72cf0",
   "metadata": {},
   "outputs": [],
   "source": [
    "gdftable = gpd.GeoDataFrame(dftable)\n",
    "gdftable.loc['f23196b034474744bdca7df94b13e0f7', 'geometry'] = gdf['geometry'][0]\n",
    "gdftable"
   ]
  },
  {
   "cell_type": "code",
   "execution_count": 79,
   "id": "08d81caa",
   "metadata": {},
   "outputs": [
    {
     "data": {
      "text/plain": [
       "Exception"
      ]
     },
     "execution_count": 79,
     "metadata": {},
     "output_type": "execute_result"
    }
   ],
   "source": [
    "Exception"
   ]
  },
  {
   "cell_type": "code",
   "execution_count": null,
   "id": "7eb61b6d",
   "metadata": {},
   "outputs": [],
   "source": []
  },
  {
   "cell_type": "code",
   "execution_count": null,
   "id": "a9ce6cca",
   "metadata": {},
   "outputs": [],
   "source": []
  },
  {
   "cell_type": "code",
   "execution_count": null,
   "id": "182743e2",
   "metadata": {},
   "outputs": [],
   "source": [
    "db = Database(fp)"
   ]
  },
  {
   "cell_type": "code",
   "execution_count": null,
   "id": "36b76db6",
   "metadata": {},
   "outputs": [],
   "source": [
    "fpath = mainapi.dftable.loc['3c01d3099b094139873113e19c9f785a', 'filepath']\n",
    "# geoms = gpd.read_file(fpath)['geometry']\n",
    "# for geom in geoms:\n",
    "#     display(geom)\n",
    "#     break\n",
    "    \n",
    "gdf = gpd.read_file(fpath)\n",
    "row = gdf.iloc[0]\n",
    "geom = row['geometry']\n",
    "gdf"
   ]
  },
  {
   "cell_type": "code",
   "execution_count": null,
   "id": "a22544d3",
   "metadata": {},
   "outputs": [],
   "source": [
    "# Setup the database for reading\n",
    "dftable = pd.read_pickle(fp.dfpath)\n",
    "\n",
    "# Collect the tables in dataframe format\n",
    "# Table 1 - ignition\n",
    "\n",
    "\n",
    "\n",
    "# Table 2 - barrier\n",
    "gdfbarrier = gpd.GeoDataFrame(dftable[dftable['filetype'] == 'Barrier'])\n",
    "for (idx, ignition) in gdfbarrier.iterrows():\n",
    "    geom = gpd.read_file(ignition['filepath']).loc[0,'geometry']\n",
    "    gdfbarrier.loc[idx, 'shape'] = geom.to_wkb()\n",
    "\n",
    "gs = gpd.GeoSeries.from_wkb(gdfignition['shape'])\n",
    "gdfbarrier['geometry'] = gs\n",
    "gdfbarrier.drop(columns='shape')\n",
    "\n",
    "# Table 3 - landscape\n",
    "# Table 4 - simulation"
   ]
  },
  {
   "cell_type": "code",
   "execution_count": null,
   "id": "50177dd4",
   "metadata": {},
   "outputs": [],
   "source": [
    "gdfignition.loc['714f0cf8d475462a97c651642a3d2525', 'shape']"
   ]
  },
  {
   "cell_type": "code",
   "execution_count": null,
   "id": "20dbfa2b",
   "metadata": {},
   "outputs": [],
   "source": [
    "# .from_wkb()\n",
    "\n",
    "gdfignition"
   ]
  },
  {
   "cell_type": "markdown",
   "id": "394757e3",
   "metadata": {},
   "source": [
    "### Set the pickle file for maria fire"
   ]
  },
  {
   "cell_type": "code",
   "execution_count": null,
   "id": "9e938d98",
   "metadata": {},
   "outputs": [],
   "source": [
    "# Read measured fire perimeter and convert to EPSG=5070\n",
    "gdf_maria = gpd.read_file('/home/tcaglar/data/maria-wgs84/')\n",
    "\n",
    "# ignition geodataframe\n",
    "gdf_ignition = gdf_maria.to_crs(epsg=5070)\n",
    "# reindex using the objectid\n",
    "gdf_ignition.set_index('objectid', inplace=True)\n",
    "\n",
    "# Remove the objectids 21230 and 21233\n",
    "gdf_ignition.drop(index=[21230, 21233], inplace=True)\n",
    "\n",
    "# Calculate datetime and add to gdf\n",
    "gdf_ignition['datetime'] = pd.to_datetime(gdf_ignition['YYYYMMDD'].astype(str) + ':' + gdf_ignition['24_HHMMSS'], \n",
    "               format='%Y%m%d:%H:%M:%S')"
   ]
  },
  {
   "cell_type": "code",
   "execution_count": null,
   "id": "b5ad31bb",
   "metadata": {},
   "outputs": [],
   "source": [
    "# igniteids = gdf_ignition.index\n",
    "dftable = pd.DataFrame(columns=['filetype', 'objectid', 'filepath', 'datetime'])\n",
    "for (objectid, row) in gdf_ignition.iterrows():\n",
    "    igniteidx = uuid.uuid4().hex\n",
    "    dftable.loc[igniteidx, 'filepath'] = os.path.join('/home/tcaglar/farsite/inputs/maria_ignite','maria_'+str(objectid)+'.shp')\n",
    "    dftable.loc[igniteidx, 'filetype'] = 'Ignition'\n",
    "    dftable.loc[igniteidx, 'objectid'] = objectid\n",
    "    dftable.loc[igniteidx, 'datetime'] = row['datetime']\n",
    "\n",
    "lcpidx = uuid.uuid4().hex\n",
    "dftable.loc[lcpidx, 'filepath'] = '/home/tcaglar/farsite/inputs/landscapes/mariafire.lcp'\n",
    "dftable.loc[lcpidx, 'filetype'] = 'Landscape'\n",
    "\n",
    "barrieridx = uuid.uuid4().hex\n",
    "dftable.loc[barrieridx, 'filepath'] = '/home/tcaglar/farsite/inputs/barriers/NoBarrier/NoBarrier.shp'\n",
    "dftable.loc[barrieridx, 'filetype'] = 'Barrier'\n",
    "\n",
    "# dftable.to_pickle('/home/tcaglar/data/test_table.pkl')\n",
    "dftable = pd.read_pickle('/home/tcaglar/data/test_table.pkl')"
   ]
  },
  {
   "cell_type": "code",
   "execution_count": null,
   "id": "8ada60cd",
   "metadata": {},
   "outputs": [],
   "source": [
    "dftable"
   ]
  }
 ],
 "metadata": {
  "kernelspec": {
   "display_name": "Python 3",
   "language": "python",
   "name": "python3"
  },
  "language_info": {
   "codemirror_mode": {
    "name": "ipython",
    "version": 3
   },
   "file_extension": ".py",
   "mimetype": "text/x-python",
   "name": "python",
   "nbconvert_exporter": "python",
   "pygments_lexer": "ipython3",
   "version": "3.6.9"
  }
 },
 "nbformat": 4,
 "nbformat_minor": 5
}
