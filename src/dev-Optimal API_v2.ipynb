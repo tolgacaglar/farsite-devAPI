{
 "cells": [
  {
   "cell_type": "markdown",
   "id": "2303a156",
   "metadata": {},
   "source": [
    "## Dependencies"
   ]
  },
  {
   "cell_type": "code",
   "execution_count": 165,
   "id": "a742ef22",
   "metadata": {},
   "outputs": [
    {
     "data": {
      "text/html": [
       "<style>.container { width:90% !important; }</style>"
      ],
      "text/plain": [
       "<IPython.core.display.HTML object>"
      ]
     },
     "metadata": {},
     "output_type": "display_data"
    }
   ],
   "source": [
    "import datetime\n",
    "import pandas as pd\n",
    "import geopandas as gpd\n",
    "from dataclasses import dataclass\n",
    "import uuid\n",
    "\n",
    "from shapely.geometry import MultiPolygon, Polygon\n",
    "\n",
    "from farsiteutils import User, Run_File, Config_File, Input, FilePaths, Database\n",
    "\n",
    "from multiprocessing import Pool\n",
    "\n",
    "from ipyleaflet import Map, basemaps, basemap_to_tiles, ScaleControl, ZoomControl, LayersControl, WKTLayer, WidgetControl\n",
    "from ipyleaflet import Circle\n",
    "from ipyleaflet.leaflet import LayerException\n",
    "from ipywidgets import Layout, FloatProgress, HBox, VBox, FloatText, Label\n",
    "from ipywidgets import SelectionSlider\n",
    "\n",
    "from functools import partial\n",
    "\n",
    "from IPython.display import display, HTML\n",
    "display(HTML(\"<style>.container { width:90% !important; }</style>\"))\n",
    "\n",
    "import os\n",
    "\n",
    "import requests\n",
    "import arrow\n",
    "\n",
    "from dataclasses import dataclass\n",
    "\n",
    "@dataclass\n",
    "class Station:\n",
    "    name: str\n",
    "    lat: float\n",
    "    lon: float\n",
    "    temperature: list\n",
    "    wind_speed: list\n",
    "    wind_direction: list\n",
    "    timestamp: list\n",
    "    units: dict"
   ]
  },
  {
   "cell_type": "code",
   "execution_count": 233,
   "id": "cde13ef6",
   "metadata": {},
   "outputs": [],
   "source": [
    "def collect_wx_data():\n",
    "    km_per_miles = 1.60934\n",
    "\n",
    "    ignite = usr.db.gdfignition.to_crs(epsg=4326).loc[usr.igniteidx]\n",
    "    compare = usr.db.gdfignition.to_crs(epsg=4326).loc[usr.compareidx]\n",
    "\n",
    "\n",
    "    baseURL = \"https://firemap.sdsc.edu/pylaski/stations/data?\"\n",
    "\n",
    "    ## Always start with the base of the URL\n",
    "\n",
    "    selectionType='selection=withinRadius'\n",
    "\n",
    "    # Choose the centroid of the ignition\n",
    "    lon = ignite['geometry'].centroid.x\n",
    "    lat = ignite['geometry'].centroid.y\n",
    "    radius = 5*km_per_miles    # 2 mile radius\n",
    "\n",
    "    ## Latitude and longitude of the White House according to Google\n",
    "    selectionParameters = '&lat={}&lon={}&radius={}'.format(str(lat),str(lon), str(radius))\n",
    "\n",
    "    observables_list = ['temperature', 'wind_speed', 'wind_direction']\n",
    "    observables = ''\n",
    "    for observable in observables_list:\n",
    "        observables += f'&observable={observable}'\n",
    "\n",
    "    fromdt = ignite['datetime'].tz_localize('US/Pacific')\n",
    "    todt = compare['datetime'].tz_localize('US/Pacific')\n",
    "    frm = arrow.Arrow.fromdatetime(fromdt.to_pydatetime())\n",
    "    to = arrow.Arrow.fromdatetime(todt.to_pydatetime())\n",
    "\n",
    "    frm = frm.shift(minutes=-10)\n",
    "    to = to.shift(minutes=10)\n",
    "\n",
    "    urlDateTime = '&from={}&to={}'.format(str(frm), str(to))\n",
    "\n",
    "    urlPlot = baseURL + selectionType + selectionParameters + observables + urlDateTime\n",
    "    print(urlPlot)\n",
    "\n",
    "    r = requests.get(urlPlot)\n",
    "    ## Request to GET information from the given URL (Our REST query we built)\n",
    "    r_json = r.json()\n",
    "\n",
    "    stations_lst = []\n",
    "    for feature in r_json['features']:\n",
    "\n",
    "        lon,lat = feature['geometry']['coordinates']\n",
    "\n",
    "        name = feature['properties']['description']['name']\n",
    "        wxid = feature['properties']['description']['id']\n",
    "        provider = feature['properties']['description']['provider']\n",
    "        wifire_uid = feature['properties']['description']['wifire_uid']\n",
    "\n",
    "        timestamp = pd.to_datetime(feature['properties']['timestamp'])\n",
    "        try:\n",
    "            temperature = feature['properties']['temperature']\n",
    "        except KeyError:\n",
    "            temperature = []\n",
    "\n",
    "        try:\n",
    "            wind_speed = feature['properties']['wind_speed']\n",
    "        except KeyError:\n",
    "            wind_speed = []\n",
    "\n",
    "        try:\n",
    "            wind_direction = feature['properties']['wind_direction']\n",
    "        except KeyError:\n",
    "            wind_direction = []\n",
    "\n",
    "        units = feature['properties']['units']\n",
    "\n",
    "        stations_lst.append(Station(name, lat, lon, temperature, wind_speed, wind_direction, timestamp, units))\n",
    "        \n",
    "    return stations_lst"
   ]
  },
  {
   "cell_type": "code",
   "execution_count": 2,
   "id": "bd7aaec2",
   "metadata": {},
   "outputs": [
    {
     "name": "stdout",
     "output_type": "stream",
     "text": [
      "Database interaction not yet implemented. Use pickle file for dataframes instead!\n",
      "Setting up the interface\n"
     ]
    }
   ],
   "source": [
    "fp = FilePaths('/home/tcaglar/data/')\n",
    "usr = User(fp)"
   ]
  },
  {
   "cell_type": "markdown",
   "id": "50d0cc42",
   "metadata": {},
   "source": [
    "## Choose ignition\n"
   ]
  },
  {
   "cell_type": "code",
   "execution_count": 173,
   "id": "e1465fa2",
   "metadata": {
    "scrolled": false
   },
   "outputs": [
    {
     "data": {
      "application/vnd.jupyter.widget-view+json": {
       "model_id": "4d331b72b7674a61b0265bfae3d13cb4",
       "version_major": 2,
       "version_minor": 0
      },
      "text/plain": [
       "Map(bottom=209252.0, center=[34.332096438353915, -119.00229713395525], controls=(AttributionControl(options=['…"
      ]
     },
     "metadata": {},
     "output_type": "display_data"
    },
    {
     "name": "stdout",
     "output_type": "stream",
     "text": [
      "{'windspeedlow': 0, 'windspeedhigh': 20, 'windspeeddelta': 5, 'winddirectionlow': 0, 'winddirectionhigh': 180, 'winddirectiondelta': 5, 'relhumid': 10, 'burntime': datetime.timedelta(0, 1800), 'burntimestep': datetime.timedelta(0, 1800), 'temperature': 60}\n",
      "Choosing a perimeter from the database\n",
      "Collecting lcp file from gdal_translate\n"
     ]
    }
   ],
   "source": [
    "usr.m"
   ]
  },
  {
   "cell_type": "code",
   "execution_count": 246,
   "id": "0f7b9069",
   "metadata": {},
   "outputs": [
    {
     "name": "stderr",
     "output_type": "stream",
     "text": [
      "/usr/local/lib/python3.6/dist-packages/pandas/core/frame.py:7123: FutureWarning: Sorting because non-concatenation axis is not aligned. A future version\n",
      "of pandas will change to not sort by default.\n",
      "\n",
      "To accept the future behavior, pass 'sort=False'.\n",
      "\n",
      "To retain the current behavior and silence the warning, pass 'sort=True'.\n",
      "\n",
      "  sort=sort,\n"
     ]
    },
    {
     "ename": "KeyboardInterrupt",
     "evalue": "",
     "output_type": "error",
     "traceback": [
      "\u001b[0;31m---------------------------------------------------------------------------\u001b[0m",
      "\u001b[0;31mKeyboardInterrupt\u001b[0m                         Traceback (most recent call last)",
      "\u001b[0;32m<ipython-input-246-6ac654e20af9>\u001b[0m in \u001b[0;36m<module>\u001b[0;34m\u001b[0m\n\u001b[0;32m----> 1\u001b[0;31m \u001b[0musr\u001b[0m\u001b[0;34m.\u001b[0m\u001b[0mmainapi\u001b[0m\u001b[0;34m.\u001b[0m\u001b[0mrun_farsite\u001b[0m\u001b[0;34m(\u001b[0m\u001b[0;34m)\u001b[0m\u001b[0;34m\u001b[0m\u001b[0;34m\u001b[0m\u001b[0m\n\u001b[0m",
      "\u001b[0;32m~/farsite-devAPI/src/farsiteutils.py\u001b[0m in \u001b[0;36mrun_farsite\u001b[0;34m(self, numproc)\u001b[0m\n\u001b[1;32m    517\u001b[0m         \u001b[0;32mif\u001b[0m \u001b[0mnumproc\u001b[0m \u001b[0;34m==\u001b[0m \u001b[0;36m1\u001b[0m\u001b[0;34m:\u001b[0m\u001b[0;34m\u001b[0m\u001b[0;34m\u001b[0m\u001b[0m\n\u001b[1;32m    518\u001b[0m             \u001b[0;32mfor\u001b[0m \u001b[0mfarsite\u001b[0m \u001b[0;32min\u001b[0m \u001b[0mself\u001b[0m\u001b[0;34m.\u001b[0m\u001b[0mfarsite_lst\u001b[0m\u001b[0;34m:\u001b[0m\u001b[0;34m\u001b[0m\u001b[0;34m\u001b[0m\u001b[0m\n\u001b[0;32m--> 519\u001b[0;31m                 \u001b[0mfarsite\u001b[0m\u001b[0;34m.\u001b[0m\u001b[0mrun_command\u001b[0m\u001b[0;34m(\u001b[0m\u001b[0;34m)\u001b[0m\u001b[0;34m\u001b[0m\u001b[0;34m\u001b[0m\u001b[0m\n\u001b[0m\u001b[1;32m    520\u001b[0m         \u001b[0;32melse\u001b[0m\u001b[0;34m:\u001b[0m\u001b[0;34m\u001b[0m\u001b[0;34m\u001b[0m\u001b[0m\n\u001b[1;32m    521\u001b[0m             \u001b[0mpool\u001b[0m \u001b[0;34m=\u001b[0m \u001b[0mPool\u001b[0m\u001b[0;34m(\u001b[0m\u001b[0mprocesses\u001b[0m\u001b[0;34m=\u001b[0m\u001b[0mnumproc\u001b[0m\u001b[0;34m)\u001b[0m\u001b[0;34m\u001b[0m\u001b[0;34m\u001b[0m\u001b[0m\n",
      "\u001b[0;32m~/farsite-devAPI/src/farsiteutils.py\u001b[0m in \u001b[0;36mrun_command\u001b[0;34m(self)\u001b[0m\n\u001b[1;32m    756\u001b[0m         \u001b[0mos\u001b[0m\u001b[0;34m.\u001b[0m\u001b[0msystem\u001b[0m\u001b[0;34m(\u001b[0m\u001b[0mself\u001b[0m\u001b[0;34m.\u001b[0m\u001b[0mcommand\u001b[0m\u001b[0;34m)\u001b[0m\u001b[0;34m\u001b[0m\u001b[0;34m\u001b[0m\u001b[0m\n\u001b[1;32m    757\u001b[0m \u001b[0;34m\u001b[0m\u001b[0m\n\u001b[0;32m--> 758\u001b[0;31m         \u001b[0mself\u001b[0m\u001b[0;34m.\u001b[0m\u001b[0mupdatedb\u001b[0m\u001b[0;34m(\u001b[0m\u001b[0;34m)\u001b[0m\u001b[0;34m\u001b[0m\u001b[0;34m\u001b[0m\u001b[0m\n\u001b[0m\u001b[1;32m    759\u001b[0m \u001b[0;31m#         # Return\u001b[0m\u001b[0;34m\u001b[0m\u001b[0;34m\u001b[0m\u001b[0;34m\u001b[0m\u001b[0m\n\u001b[1;32m    760\u001b[0m \u001b[0;31m#         return 0\u001b[0m\u001b[0;34m\u001b[0m\u001b[0;34m\u001b[0m\u001b[0;34m\u001b[0m\u001b[0m\n",
      "\u001b[0;32m~/farsite-devAPI/src/farsiteutils.py\u001b[0m in \u001b[0;36mupdatedb\u001b[0;34m(self)\u001b[0m\n\u001b[1;32m    761\u001b[0m     \u001b[0;32mdef\u001b[0m \u001b[0mupdatedb\u001b[0m\u001b[0;34m(\u001b[0m\u001b[0mself\u001b[0m\u001b[0;34m)\u001b[0m\u001b[0;34m:\u001b[0m\u001b[0;34m\u001b[0m\u001b[0;34m\u001b[0m\u001b[0m\n\u001b[1;32m    762\u001b[0m \u001b[0;31m#         print(value)\u001b[0m\u001b[0;34m\u001b[0m\u001b[0;34m\u001b[0m\u001b[0;34m\u001b[0m\u001b[0m\n\u001b[0;32m--> 763\u001b[0;31m         \u001b[0mself\u001b[0m\u001b[0;34m.\u001b[0m\u001b[0mrunfile\u001b[0m\u001b[0;34m.\u001b[0m\u001b[0mupdatedb\u001b[0m\u001b[0;34m(\u001b[0m\u001b[0;34m)\u001b[0m\u001b[0;34m\u001b[0m\u001b[0;34m\u001b[0m\u001b[0m\n\u001b[0m",
      "\u001b[0;32m~/farsite-devAPI/src/farsiteutils.py\u001b[0m in \u001b[0;36mupdatedb\u001b[0;34m(self)\u001b[0m\n\u001b[1;32m    610\u001b[0m                 'configpath': self.configpath}\n\u001b[1;32m    611\u001b[0m \u001b[0;34m\u001b[0m\u001b[0m\n\u001b[0;32m--> 612\u001b[0;31m         \u001b[0mself\u001b[0m\u001b[0;34m.\u001b[0m\u001b[0mdb\u001b[0m\u001b[0;34m.\u001b[0m\u001b[0mappend\u001b[0m\u001b[0;34m(\u001b[0m\u001b[0mdata\u001b[0m\u001b[0;34m)\u001b[0m\u001b[0;34m\u001b[0m\u001b[0;34m\u001b[0m\u001b[0m\n\u001b[0m\u001b[1;32m    613\u001b[0m \u001b[0;34m\u001b[0m\u001b[0m\n\u001b[1;32m    614\u001b[0m         \u001b[0;31m# Calculation done for runfile\u001b[0m\u001b[0;34m\u001b[0m\u001b[0;34m\u001b[0m\u001b[0;34m\u001b[0m\u001b[0m\n",
      "\u001b[0;32m~/farsite-devAPI/src/farsiteutils.py\u001b[0m in \u001b[0;36mappend\u001b[0;34m(self, data)\u001b[0m\n\u001b[1;32m    121\u001b[0m                 \u001b[0mmultipoly\u001b[0m \u001b[0;34m=\u001b[0m \u001b[0mMultiPolygon\u001b[0m\u001b[0;34m(\u001b[0m\u001b[0;34m)\u001b[0m\u001b[0;34m\u001b[0m\u001b[0;34m\u001b[0m\u001b[0m\n\u001b[1;32m    122\u001b[0m                 \u001b[0;32mfor\u001b[0m \u001b[0mpoly\u001b[0m \u001b[0;32min\u001b[0m \u001b[0mpolygon_lst\u001b[0m\u001b[0;34m:\u001b[0m\u001b[0;34m\u001b[0m\u001b[0;34m\u001b[0m\u001b[0m\n\u001b[0;32m--> 123\u001b[0;31m                     \u001b[0mmultipoly\u001b[0m \u001b[0;34m=\u001b[0m \u001b[0mmultipoly\u001b[0m\u001b[0;34m.\u001b[0m\u001b[0munion\u001b[0m\u001b[0;34m(\u001b[0m\u001b[0mpoly\u001b[0m\u001b[0;34m.\u001b[0m\u001b[0mbuffer\u001b[0m\u001b[0;34m(\u001b[0m\u001b[0;36m0\u001b[0m\u001b[0;34m)\u001b[0m\u001b[0;34m)\u001b[0m\u001b[0;34m\u001b[0m\u001b[0;34m\u001b[0m\u001b[0m\n\u001b[0m\u001b[1;32m    124\u001b[0m                 \u001b[0mgeomlst\u001b[0m\u001b[0;34m.\u001b[0m\u001b[0mappend\u001b[0m\u001b[0;34m(\u001b[0m\u001b[0mmultipoly\u001b[0m\u001b[0;34m)\u001b[0m\u001b[0;34m\u001b[0m\u001b[0;34m\u001b[0m\u001b[0m\n\u001b[1;32m    125\u001b[0m \u001b[0;34m\u001b[0m\u001b[0m\n",
      "\u001b[0;32m/usr/local/lib/python3.6/dist-packages/shapely/geometry/base.py\u001b[0m in \u001b[0;36munion\u001b[0;34m(self, other)\u001b[0m\n\u001b[1;32m    627\u001b[0m     \u001b[0;32mdef\u001b[0m \u001b[0munion\u001b[0m\u001b[0;34m(\u001b[0m\u001b[0mself\u001b[0m\u001b[0;34m,\u001b[0m \u001b[0mother\u001b[0m\u001b[0;34m)\u001b[0m\u001b[0;34m:\u001b[0m\u001b[0;34m\u001b[0m\u001b[0;34m\u001b[0m\u001b[0m\n\u001b[1;32m    628\u001b[0m         \u001b[0;34m\"\"\"Returns the union of the geometries (Shapely geometry)\"\"\"\u001b[0m\u001b[0;34m\u001b[0m\u001b[0;34m\u001b[0m\u001b[0m\n\u001b[0;32m--> 629\u001b[0;31m         \u001b[0;32mreturn\u001b[0m \u001b[0mgeom_factory\u001b[0m\u001b[0;34m(\u001b[0m\u001b[0mself\u001b[0m\u001b[0;34m.\u001b[0m\u001b[0mimpl\u001b[0m\u001b[0;34m[\u001b[0m\u001b[0;34m'union'\u001b[0m\u001b[0;34m]\u001b[0m\u001b[0;34m(\u001b[0m\u001b[0mself\u001b[0m\u001b[0;34m,\u001b[0m \u001b[0mother\u001b[0m\u001b[0;34m)\u001b[0m\u001b[0;34m)\u001b[0m\u001b[0;34m\u001b[0m\u001b[0;34m\u001b[0m\u001b[0m\n\u001b[0m\u001b[1;32m    630\u001b[0m \u001b[0;34m\u001b[0m\u001b[0m\n\u001b[1;32m    631\u001b[0m     \u001b[0;31m# Unary predicates\u001b[0m\u001b[0;34m\u001b[0m\u001b[0;34m\u001b[0m\u001b[0;34m\u001b[0m\u001b[0m\n",
      "\u001b[0;32m/usr/local/lib/python3.6/dist-packages/shapely/topology.py\u001b[0m in \u001b[0;36m__call__\u001b[0;34m(self, this, other, *args)\u001b[0m\n\u001b[1;32m     64\u001b[0m         \u001b[0mself\u001b[0m\u001b[0;34m.\u001b[0m\u001b[0m_validate\u001b[0m\u001b[0;34m(\u001b[0m\u001b[0mthis\u001b[0m\u001b[0;34m)\u001b[0m\u001b[0;34m\u001b[0m\u001b[0;34m\u001b[0m\u001b[0m\n\u001b[1;32m     65\u001b[0m         \u001b[0mself\u001b[0m\u001b[0;34m.\u001b[0m\u001b[0m_validate\u001b[0m\u001b[0;34m(\u001b[0m\u001b[0mother\u001b[0m\u001b[0;34m,\u001b[0m \u001b[0mstop_prepared\u001b[0m\u001b[0;34m=\u001b[0m\u001b[0;32mTrue\u001b[0m\u001b[0;34m)\u001b[0m\u001b[0;34m\u001b[0m\u001b[0;34m\u001b[0m\u001b[0m\n\u001b[0;32m---> 66\u001b[0;31m         \u001b[0mproduct\u001b[0m \u001b[0;34m=\u001b[0m \u001b[0mself\u001b[0m\u001b[0;34m.\u001b[0m\u001b[0mfn\u001b[0m\u001b[0;34m(\u001b[0m\u001b[0mthis\u001b[0m\u001b[0;34m.\u001b[0m\u001b[0m_geom\u001b[0m\u001b[0;34m,\u001b[0m \u001b[0mother\u001b[0m\u001b[0;34m.\u001b[0m\u001b[0m_geom\u001b[0m\u001b[0;34m,\u001b[0m \u001b[0;34m*\u001b[0m\u001b[0margs\u001b[0m\u001b[0;34m)\u001b[0m\u001b[0;34m\u001b[0m\u001b[0;34m\u001b[0m\u001b[0m\n\u001b[0m\u001b[1;32m     67\u001b[0m         \u001b[0;32mif\u001b[0m \u001b[0mproduct\u001b[0m \u001b[0;32mis\u001b[0m \u001b[0;32mNone\u001b[0m\u001b[0;34m:\u001b[0m\u001b[0;34m\u001b[0m\u001b[0;34m\u001b[0m\u001b[0m\n\u001b[1;32m     68\u001b[0m             err = TopologicalError(\n",
      "\u001b[0;31mKeyboardInterrupt\u001b[0m: "
     ]
    }
   ],
   "source": [
    "usr.mainapi.run_farsite()"
   ]
  },
  {
   "cell_type": "code",
   "execution_count": 245,
   "id": "354684e9",
   "metadata": {},
   "outputs": [
    {
     "name": "stdout",
     "output_type": "stream",
     "text": [
      "https://firemap.sdsc.edu/pylaski/stations/data?selection=withinRadius&lat=34.31448975046042&lon=-119.04499757335797&radius=8.0467&observable=temperature&observable=wind_speed&observable=wind_direction&from=2019-10-31T19:48:22-07:00&to=2019-10-31T20:41:33-07:00\n"
     ]
    }
   ],
   "source": [
    "def collect_station_layers(stations_lst, ws_optimal):\n",
    "    clayers_lst = []\n",
    "    for station in stations_lst:\n",
    "        try:\n",
    "            ws = station.wind_speed[0]\n",
    "            pdiff = abs(ws - ws_optimal)/ws_optimal\n",
    "\n",
    "            blueint = int(pdiff*256)\n",
    "            if blueint > 255:\n",
    "                blueint = 255\n",
    "            elif blueint < 0:\n",
    "                blueint = 0\n",
    "        except IndexError:\n",
    "            blueint = 0\n",
    "            \n",
    "#         red = '{:02x}'.format(redint)\n",
    "        blue = '{:02x}'.format(blueint)\n",
    "        # Define circle\n",
    "        clayer = Circle(radius=400, location=(station.lat, station.lon), stroke=False, fill_color='#{}0000'.format(blue), fill_opacity=1)\n",
    "        \n",
    "        # Add circle to circle list\n",
    "        clayers_lst.append(clayer)\n",
    "        \n",
    "    return clayers_lst\n",
    "\n",
    "for station in station_layers:\n",
    "    usr.m.remove_layer(station)\n",
    "    \n",
    "geom_compare = usr.db.gdfignition.loc[usr.compareidx, 'geometry']\n",
    "gdf = usr.mainapi.db.gdfsimulation\n",
    "\n",
    "gdf['area'] = (gdf['geometry'].union(geom_compare).difference(gdf['geometry'].intersection(geom_compare))).area\n",
    "idxmin = gdf['area'].idxmin()\n",
    "\n",
    "ws_optimal = gdf.loc[idxmin, 'windspeed']\n",
    "wd_optimal = gdf.loc[idxmin, 'winddirection']\n",
    "\n",
    "stations_lst = collect_wx_data()\n",
    "\n",
    "station_layers = collect_station_layers(stations_lst, ws_optimal)\n",
    "\n",
    "for station in station_layers:\n",
    "    usr.m.add_layer(station)    \n",
    "\n",
    "# Color based on wind speed percent difference\n"
   ]
  },
  {
   "cell_type": "code",
   "execution_count": 251,
   "id": "8ed6a5e6",
   "metadata": {},
   "outputs": [
    {
     "data": {
      "text/plain": [
       "{'description': {'id': '134',\n",
       "  'name': 'Camarillo, Camarillo Airport',\n",
       "  'provider': 'Mesowest',\n",
       "  'wifire_uid': 'mesowest_kcma'},\n",
       " 'distanceFromLocation': {'value': 11.143267623372429, 'units': 'km'},\n",
       " 'units': {'temperature': 'F', 'wind_speed': 'mps', 'wind_direction': 'd'},\n",
       " 'timestamp': ['2019-10-31 19:00:00-0700',\n",
       "  '2019-10-31 19:05:00-0700',\n",
       "  '2019-10-31 19:10:00-0700',\n",
       "  '2019-10-31 19:15:00-0700',\n",
       "  '2019-10-31 19:20:00-0700',\n",
       "  '2019-10-31 19:25:00-0700',\n",
       "  '2019-10-31 19:30:00-0700',\n",
       "  '2019-10-31 19:35:00-0700',\n",
       "  '2019-10-31 19:40:00-0700',\n",
       "  '2019-10-31 19:45:00-0700',\n",
       "  '2019-10-31 19:50:00-0700',\n",
       "  '2019-10-31 19:55:00-0700',\n",
       "  '2019-10-31 20:00:00-0700',\n",
       "  '2019-10-31 20:05:00-0700',\n",
       "  '2019-10-31 20:10:00-0700',\n",
       "  '2019-10-31 20:15:00-0700',\n",
       "  '2019-10-31 20:20:00-0700',\n",
       "  '2019-10-31 20:25:00-0700',\n",
       "  '2019-10-31 20:30:00-0700',\n",
       "  '2019-10-31 20:35:00-0700',\n",
       "  '2019-10-31 20:40:00-0700',\n",
       "  '2019-10-31 20:45:00-0700',\n",
       "  '2019-10-31 20:50:00-0700',\n",
       "  '2019-10-31 20:55:00-0700',\n",
       "  '2019-10-31 21:00:00-0700',\n",
       "  '2019-10-31 21:05:00-0700',\n",
       "  '2019-10-31 21:10:00-0700',\n",
       "  '2019-10-31 21:15:00-0700',\n",
       "  '2019-10-31 21:20:00-0700',\n",
       "  '2019-10-31 21:25:00-0700',\n",
       "  '2019-10-31 21:30:00-0700'],\n",
       " 'temperature': [62.6,\n",
       "  62.6,\n",
       "  60.8,\n",
       "  60.8,\n",
       "  59.0,\n",
       "  59.0,\n",
       "  60.8,\n",
       "  60.8,\n",
       "  60.8,\n",
       "  57.2,\n",
       "  57.2,\n",
       "  57.2,\n",
       "  57.2,\n",
       "  57.2,\n",
       "  57.2,\n",
       "  57.2,\n",
       "  57.2,\n",
       "  55.4,\n",
       "  55.4,\n",
       "  55.4,\n",
       "  57.2,\n",
       "  55.4,\n",
       "  55.4,\n",
       "  53.6,\n",
       "  51.8,\n",
       "  51.8,\n",
       "  51.8,\n",
       "  51.8,\n",
       "  51.8,\n",
       "  53.6,\n",
       "  53.6],\n",
       " 'wind_speed': [0.0,\n",
       "  0.0,\n",
       "  0.0,\n",
       "  0.0,\n",
       "  0.0,\n",
       "  1.54,\n",
       "  None,\n",
       "  2.06,\n",
       "  0.0,\n",
       "  1.54,\n",
       "  2.06,\n",
       "  1.54,\n",
       "  2.06,\n",
       "  1.54,\n",
       "  0.0,\n",
       "  0.0,\n",
       "  0.0,\n",
       "  1.54,\n",
       "  0.0,\n",
       "  0.0,\n",
       "  0.0,\n",
       "  0.0,\n",
       "  0.0,\n",
       "  0.0,\n",
       "  0.0,\n",
       "  0.0,\n",
       "  0.0,\n",
       "  0.0,\n",
       "  0.0,\n",
       "  1.54,\n",
       "  0.0],\n",
       " 'wind_direction': [0.0,\n",
       "  0.0,\n",
       "  0.0,\n",
       "  0.0,\n",
       "  0.0,\n",
       "  100.0,\n",
       "  None,\n",
       "  60.0,\n",
       "  0.0,\n",
       "  60.0,\n",
       "  30.0,\n",
       "  40.0,\n",
       "  10.0,\n",
       "  20.0,\n",
       "  0.0,\n",
       "  0.0,\n",
       "  0.0,\n",
       "  310.0,\n",
       "  0.0,\n",
       "  0.0,\n",
       "  0.0,\n",
       "  0.0,\n",
       "  0.0,\n",
       "  0.0,\n",
       "  0.0,\n",
       "  0.0,\n",
       "  0.0,\n",
       "  0.0,\n",
       "  0.0,\n",
       "  20.0,\n",
       "  0.0]}"
      ]
     },
     "execution_count": 251,
     "metadata": {},
     "output_type": "execute_result"
    }
   ],
   "source": [
    "r_json['features'][0]['properties']"
   ]
  },
  {
   "cell_type": "code",
   "execution_count": 208,
   "id": "24936ffb",
   "metadata": {},
   "outputs": [
    {
     "data": {
      "text/plain": [
       "95"
      ]
     },
     "execution_count": 208,
     "metadata": {},
     "output_type": "execute_result"
    }
   ],
   "source": [
    "wd_optimal"
   ]
  },
  {
   "cell_type": "code",
   "execution_count": 209,
   "id": "8f3a49ad",
   "metadata": {},
   "outputs": [
    {
     "data": {
      "text/plain": [
       "30.0"
      ]
     },
     "execution_count": 209,
     "metadata": {},
     "output_type": "execute_result"
    }
   ],
   "source": [
    "stations_lst[0].wind_direction[0]"
   ]
  },
  {
   "cell_type": "code",
   "execution_count": 225,
   "id": "e41e3b54",
   "metadata": {},
   "outputs": [
    {
     "data": {
      "text/plain": [
       "'0c'"
      ]
     },
     "execution_count": 225,
     "metadata": {},
     "output_type": "execute_result"
    }
   ],
   "source": []
  },
  {
   "cell_type": "code",
   "execution_count": 155,
   "id": "24e7f0a1",
   "metadata": {},
   "outputs": [
    {
     "data": {
      "text/plain": [
       "37"
      ]
     },
     "execution_count": 155,
     "metadata": {},
     "output_type": "execute_result"
    }
   ],
   "source": []
  },
  {
   "cell_type": "code",
   "execution_count": 140,
   "id": "af04c571",
   "metadata": {},
   "outputs": [
    {
     "data": {
      "text/plain": [
       "<Arrow [2019-10-31T19:58:22-07:00]>"
      ]
     },
     "execution_count": 140,
     "metadata": {},
     "output_type": "execute_result"
    }
   ],
   "source": [
    "frm"
   ]
  },
  {
   "cell_type": "code",
   "execution_count": 13,
   "id": "08ff8eed",
   "metadata": {},
   "outputs": [
    {
     "data": {
      "text/plain": [
       "15"
      ]
     },
     "execution_count": 13,
     "metadata": {},
     "output_type": "execute_result"
    }
   ],
   "source": [
    "wx_station_data = []\n",
    "# Add weather stations within 10 miles\n"
   ]
  },
  {
   "cell_type": "code",
   "execution_count": null,
   "id": "0521f783",
   "metadata": {},
   "outputs": [],
   "source": []
  },
  {
   "cell_type": "code",
   "execution_count": null,
   "id": "952818c8",
   "metadata": {},
   "outputs": [],
   "source": []
  },
  {
   "cell_type": "code",
   "execution_count": null,
   "id": "f9f4e1df",
   "metadata": {},
   "outputs": [],
   "source": [
    "usr.mainapi.runfile_lst[2].runpath"
   ]
  },
  {
   "cell_type": "code",
   "execution_count": null,
   "id": "16fdaeb0",
   "metadata": {},
   "outputs": [],
   "source": [
    "def initiate_perimeters(gdf, newigniteid, newcompareid):\n",
    "    add_mask_ignite = (gdf['objectid'] == newigniteid)\n",
    "    add_mask_compare = (gdf['objectid'] == newcompareid)\n",
    "    \n",
    "    gdf.loc[add_mask_ignite, 'WKTLayerIgnite'].apply(lambda wlayer: m.add_layer(wlayer))\n",
    "    gdf.loc[add_mask_compare, 'WKTLayerCompare'].apply(lambda wlayer: m.add_layer(wlayer))\n",
    "\n",
    "    \n",
    "def update_perimeters(gdf, vbox, oldigniteid, newigniteid, oldcompareid, newcompareid):    \n",
    "    remove_mask_ignite = (gdf['objectid'] == oldigniteid)\n",
    "    remove_mask_compare = (gdf['objectid'] == oldcompareid)\n",
    "    add_mask_ignite = (gdf['objectid'] == newigniteid)\n",
    "    add_mask_compare = (gdf['objectid'] == newcompareid)\n",
    "    \n",
    "    gdf.loc[remove_mask_ignite, 'WKTLayerIgnite'].apply(lambda wlayer: m.remove_layer(wlayer))\n",
    "    gdf.loc[add_mask_ignite, 'WKTLayerIgnite'].apply(lambda wlayer: m.add_layer(wlayer))\n",
    "    gdf.loc[remove_mask_compare, 'WKTLayerCompare'].apply(lambda wlayer: m.remove_layer(wlayer))\n",
    "    gdf.loc[add_mask_compare, 'WKTLayerCompare'].apply(lambda wlayer: m.add_layer(wlayer))\n",
    "    \n",
    "    vbox.children[1].value = str(gdf.set_index('objectid').loc[newigniteid, 'datetime'])\n",
    "    vbox.children[3].value = str(gdf.set_index('objectid').loc[newcompareid, 'datetime'])\n",
    "    \n",
    "    deltadt = gdf.set_index('objectid').loc[newcompareid, 'datetime'] - gdf.set_index('objectid').loc[newigniteid, 'datetime']\n",
    "    vbox.children[4].value = str(int(deltadt.total_seconds()/60)) + ' minutes'\n",
    "    \n",
    "def observe_objectid_slider(m, gdf, vbox, event):\n",
    "    if event['owner'].description == 'ignite':\n",
    "        oldigniteid = event['old']\n",
    "        newigniteid = event['new']\n",
    "        oldcompareid = vbox.children[2].value\n",
    "        newcompareid = vbox.children[2].value\n",
    "    elif event['owner'].description == 'compare':\n",
    "        oldigniteid = vbox.children[0].value\n",
    "        newigniteid = vbox.children[0].value\n",
    "        oldcompareid = event['old']\n",
    "        newcompareid = event['new']\n",
    "        \n",
    "    update_perimeters(gdf, vbox, oldigniteid, newigniteid, oldcompareid, newcompareid)\n",
    "\n",
    "\n",
    "gdf = usr.db.gdfignition.to_crs(epsg=4326)\n",
    "gdf['WKTLayerIgnite'] = gdf.apply(lambda row: WKTLayer(wkt_string = row['geometry'].wkt), axis=1)\n",
    "gdf['WKTLayerCompare'] = gdf.apply(lambda row: WKTLayer(wkt_string = row['geometry'].wkt), axis=1)\n",
    "\n",
    "centerlon = gdf.iloc[0]['geometry'].centroid.x\n",
    "centerlat = gdf.iloc[0]['geometry'].centroid.y\n",
    "\n",
    "m = Map(\n",
    "    basemap=basemaps.Esri.WorldTopoMap,\n",
    "    center=(centerlat, centerlon),\n",
    "    zoom=10,\n",
    "    layout=Layout(height='800px', width='100%'),\n",
    "    zoom_control=False\n",
    ")\n",
    "\n",
    "\n",
    "\n",
    "objectids = gdf['objectid'].unique()\n",
    "\n",
    "igniteid_select = SelectionSlider(description='ignite', options=objectids)\n",
    "ignitedt_label = Label(value=str(gdf.set_index('objectid').loc[igniteid_select.value, 'datetime']))\n",
    "\n",
    "compareid_select = SelectionSlider(description='compare', options=objectids)\n",
    "comparedt_label = Label(value=str(gdf.set_index('objectid').loc[compareid_select.value, 'datetime']))\n",
    "\n",
    "deltadt = gdf.set_index('objectid').loc[compareid_select.value, 'datetime'] - gdf.set_index('objectid').loc[igniteid_select.value, 'datetime']\n",
    "deltadt_label = Label(value=str(int(deltadt.total_seconds()/60)) + ' minutes')\n",
    "\n",
    "\n",
    "vbox = VBox([igniteid_select, ignitedt_label, compareid_select, comparedt_label, deltadt_label])\n",
    "\n",
    "igniteid_select.observe(partial(observe_objectid_slider, m, gdf, vbox), names='value')\n",
    "compareid_select.observe(partial(observe_objectid_slider, m, gdf, vbox), names='value')\n",
    "\n",
    "initiate_perimeters(gdf, igniteid_select.value, compareid_select.value)\n",
    "\n",
    "\n",
    "widget_control = WidgetControl(widget = vbox, position='topleft')\n",
    "m.add_control(widget_control) \n",
    "\n",
    "m.add_control(ZoomControl(position='topleft'))\n",
    "m.add_control(ScaleControl(position='topleft'))\n",
    "\n",
    "UIcontrol = WidgetControl(widget = usr.UI, position='topright')\n",
    "m.add_control(UIcontrol)\n",
    "m"
   ]
  },
  {
   "cell_type": "code",
   "execution_count": null,
   "id": "30358fe4",
   "metadata": {},
   "outputs": [],
   "source": [
    "usr.UI"
   ]
  },
  {
   "cell_type": "code",
   "execution_count": null,
   "id": "01c2207e",
   "metadata": {},
   "outputs": [],
   "source": [
    "usr.mainapi.run_farsite()"
   ]
  },
  {
   "cell_type": "code",
   "execution_count": null,
   "id": "031535b6",
   "metadata": {},
   "outputs": [],
   "source": []
  },
  {
   "cell_type": "code",
   "execution_count": null,
   "id": "6d4e6874",
   "metadata": {},
   "outputs": [],
   "source": [
    " \n",
    "def initiate_wktlayers(gdf, newws, newwd):\n",
    "    add_mask = ((gdf['windspeed'] == newws) & \n",
    "                   (gdf['winddirection'] == newwd))\n",
    "    \n",
    "    gdf.loc[add_mask, 'WKTLayer'].apply(lambda wlayer: m.add_layer(wlayer))\n",
    "    \n",
    "def update_wktlayers(gdf, oldws, newws, oldwd, newwd):    \n",
    "    remove_mask = ((gdf['windspeed'] == oldws) & \n",
    "                   (gdf['winddirection'] == oldwd))\n",
    "    add_mask = ((gdf['windspeed'] == newws) & \n",
    "                   (gdf['winddirection'] == newwd))\n",
    "    \n",
    "    gdf.loc[remove_mask, 'WKTLayer'].apply(lambda wlayer: m.remove_layer(wlayer))\n",
    "    gdf.loc[add_mask, 'WKTLayer'].apply(lambda wlayer: m.add_layer(wlayer))\n",
    "    \n",
    "def test_observe(m, gdf, vbox, event):\n",
    "    if event['owner'].description == 'Wind Speed':\n",
    "        oldws = event['old']\n",
    "        newws = event['new']\n",
    "        oldwd = vbox.children[1].value\n",
    "        newwd = vbox.children[1].value\n",
    "    elif event['owner'].description == 'Wind Direction':\n",
    "        oldws = vbox.children[0].value\n",
    "        newws = vbox.children[0].value\n",
    "        oldwd = event['old']\n",
    "        newwd = event['new']\n",
    "        \n",
    "    update_wktlayers(gdf, oldws, newws, oldwd, newwd)\n",
    "    \n",
    "gdf = usr.mainapi.db.gdfsimulation.to_crs(epsg=4326)\n",
    "gdf['WKTLayer'] = gdf.apply(lambda row: WKTLayer(wkt_string = row['geometry'].wkt), axis=1)\n",
    "\n",
    "centerlat = 34.31984085482566\n",
    "centerlon = -119.03909139010659\n",
    "\n",
    "\n",
    "m = Map(\n",
    "    basemap=basemaps.Esri.WorldTopoMap,\n",
    "    center=(centerlat, centerlon),\n",
    "    zoom=10,\n",
    "    layout=Layout(height='700px')\n",
    ")\n",
    "\n",
    "m.add_control(ScaleControl())\n",
    "\n",
    "\n",
    "\n",
    "\n",
    "ws = gdf['windspeed'].unique()\n",
    "wd = gdf['winddirection'].unique()\n",
    "dt = gdf['datetime'].unique()\n",
    "\n",
    "ws_select = SelectionSlider(description='Wind Speed', options=ws)\n",
    "wd_select = SelectionSlider(description='Wind Direction', options=wd)\n",
    "\n",
    "vbox = VBox([ws_select, wd_select])\n",
    "\n",
    "ws_select.observe(partial(test_observe, m, gdf, vbox), names='value')\n",
    "wd_select.observe(partial(test_observe, m, gdf, vbox), names='value')\n",
    "\n",
    "widget_control = WidgetControl(widget = vbox)\n",
    "m.add_control(widget_control)    \n",
    "    \n",
    "initiate_wktlayers(gdf, vbox.children[0].value, vbox.children[1].value)\n",
    "\n",
    "m"
   ]
  },
  {
   "cell_type": "code",
   "execution_count": null,
   "id": "c65808f9",
   "metadata": {
    "scrolled": false
   },
   "outputs": [],
   "source": [
    "gdf = usr.mainapi.db.gdfsimulation.to_crs(epsg=4326)\n",
    "gdf['WKTLayer'] = gdf.apply(lambda row: WKTLayer(wkt_string = row['geometry'].wkt), axis=1)\n",
    "# gdf['WKTLayer_visibility'] = False\n",
    "\n",
    "centerlon = gdf.iloc[0]['geometry'].centroid.x\n",
    "centerlat = gdf.iloc[0]['geometry'].centroid.y\n",
    "\n",
    "m = Map(\n",
    "    basemap=basemaps.Esri.WorldTopoMap,\n",
    "    center=(centerlat, centerlon),\n",
    "    zoom=10,\n",
    "    layout=Layout(height='700px')\n",
    ")\n",
    "\n",
    "m.add_control(ScaleControl())\n",
    "    \n",
    "\n",
    "\n",
    "m"
   ]
  },
  {
   "cell_type": "code",
   "execution_count": null,
   "id": "08eb1c97",
   "metadata": {},
   "outputs": [],
   "source": [
    "m"
   ]
  },
  {
   "cell_type": "code",
   "execution_count": null,
   "id": "c5637677",
   "metadata": {},
   "outputs": [],
   "source": [
    "\n",
    "# ## Extract the JSON object from the data returned on our GET request\n",
    "\n",
    "# rTemperature = r_json['features'][0]['properties']['temperature']\n",
    "# rTime = r_json['features'][0]['properties']['timestamp']\n",
    "\n",
    "# rTimeMins = []\n",
    "# for i, val in enumerate(rTime):\n",
    "# \trTimeMins.append( (arrow.get(rTime[i]).timestamp - arrow.get(rTime[0]).timestamp) / 60 / 60 )\n",
    "\n",
    "# plt.plot(rTimeMins,rTemperature,'-og',label='Actual')\n",
    "# plt.xlabel(\"time (hours)\")\n",
    "# plt.ylabel(\"temperature (F)\")\n",
    "# minFive = int(min(rTemperature)) - (int(min(rTemperature))%5)\n",
    "# maxFive = (int(max(rTemperature)) +5) - ( (int(max(rTemperature)) +5) % 5 )\n",
    "# plt.yticks(np.arange(minFive, maxFive+1, (maxFive - minFive)/2))\n",
    "# plt.gca().yaxis.grid(True)\n",
    "# title = \"Temperature at Alert Airport, NU\\n(Past 24 Hours)\"\n",
    "# plt.title(title)\n",
    "# plt.show()"
   ]
  },
  {
   "cell_type": "code",
   "execution_count": null,
   "id": "51fb8473",
   "metadata": {},
   "outputs": [],
   "source": [
    "r_json"
   ]
  },
  {
   "cell_type": "markdown",
   "id": "96733afe",
   "metadata": {},
   "source": [
    "### Create Landscape file"
   ]
  },
  {
   "cell_type": "code",
   "execution_count": null,
   "id": "c3433a37",
   "metadata": {},
   "outputs": [],
   "source": [
    "gdf_5070 = usr.mainapi.db.gdfignition.set_crs(epsg=5070)\n",
    "gdf_4326 = gdf_5070.to_crs(epsg=4326)\n",
    "geom_5070 = gdf_5070.iloc[0]['geometry']\n",
    "geom = gdf_4326.iloc[0]['geometry']"
   ]
  },
  {
   "cell_type": "code",
   "execution_count": null,
   "id": "566d3b57",
   "metadata": {},
   "outputs": [],
   "source": [
    "%%time\n",
    "\n",
    "bounds = geom_5070.bounds\n",
    "\n",
    "ulx = bounds[0]-10000\n",
    "uly = bounds[3]+10000\n",
    "lrx = bounds[2]+10000\n",
    "lry=  bounds[1]-10000\n",
    "\n",
    "fname_lst = {'density': 'US_140CBD_12052016/Grid/us_140cbd', \n",
    "             'base': 'US_140CBH_12052016/Grid/us_140cbh', \n",
    "             'cover': 'US_140CC_12052016/Grid/us_140cc', \n",
    "             'height': 'US_140CH_12052016/Grid/us_140ch', \n",
    "             'fuel': 'US_140FBFM40_20180618/Grid/us_140fbfm40', \n",
    "             'aspect': 'Aspect/Grid/us_asp', \n",
    "             'elevation': 'DEM_Elevation/Grid/us_dem', \n",
    "             'slope': 'Slope/Grid/us_slp'}\n",
    "type_lst = {'density': 'cbd',\n",
    "            'base': 'cbh',\n",
    "            'cover': 'cc',\n",
    "            'height': 'ch',\n",
    "            'fuel': 'fuel',   # fbfm40\n",
    "            'aspect': 'aspect',\n",
    "            'elevation': 'elevation', #dem\n",
    "            'slope': 'slope'}\n",
    "\n",
    "from_folder = os.path.join('/data', 'firemap', 'landfire', 'mosaic')\n",
    "to_folder = '/home/tcaglar/farsite/inputs/landscapes/'\n",
    "\n",
    "# Create the asc files\n",
    "ascpath_lst = {}\n",
    "for (key, fname) in fname_lst.items():\n",
    "    ascpath_lst[key] = f'{os.path.join(to_folder, \"test\")}-{key}.asc'\n",
    "    os.system(f'gdal_translate -of AAIGrid -a_nodata -32768 -projwin {ulx} {uly} {lrx} {lry} {os.path.join(from_folder, fname)} {ascpath_lst[key]}')\n",
    "    \n",
    "# # Extra for the tif file\n",
    "# os.system(f'gdal_translate -of GTiff -a_nodata -32768 -projwin {ulx} {uly} {lrx} {lry} {os.path.join(from_folder, fname_lst[\"elevation\"])} {os.path.join(to_folder, \"test\")}-elevation.tif')\n"
   ]
  },
  {
   "cell_type": "code",
   "execution_count": null,
   "id": "b2b47c97",
   "metadata": {},
   "outputs": [],
   "source": [
    "lcppath = f'{os.path.join(to_folder, \"test\")}-maria'\n",
    "# ascpath_lst"
   ]
  },
  {
   "cell_type": "code",
   "execution_count": null,
   "id": "e2f9e6b3",
   "metadata": {},
   "outputs": [],
   "source": [
    "lcpmakepath = '/home/tcaglar/farsite/src/lcpmake'\n",
    "\n",
    "base_command = f'{lcpmakepath} -latitude {m.center[0]} -landscape {lcppath}'\n",
    "run_command = base_command\n",
    "for (key, ascpath) in ascpath_lst.items():\n",
    "    run_command += f' -{key} {ascpath}'\n",
    "    \n",
    "os.system(run_command)"
   ]
  },
  {
   "cell_type": "code",
   "execution_count": null,
   "id": "eadfb40f",
   "metadata": {},
   "outputs": [],
   "source": [
    "ascpath_lst"
   ]
  },
  {
   "cell_type": "code",
   "execution_count": null,
   "id": "5ef9d8f5",
   "metadata": {},
   "outputs": [],
   "source": []
  },
  {
   "cell_type": "code",
   "execution_count": null,
   "id": "7bd3af47",
   "metadata": {},
   "outputs": [],
   "source": []
  },
  {
   "cell_type": "code",
   "execution_count": null,
   "id": "4505f34d",
   "metadata": {},
   "outputs": [],
   "source": []
  },
  {
   "cell_type": "code",
   "execution_count": null,
   "id": "b467284c",
   "metadata": {},
   "outputs": [],
   "source": [
    "m = Map(center = (geom.centroid.y, geom.centroid.x))\n",
    "m.add_layer(WKTLayer(wkt_string = geom.wkt))\n",
    "m"
   ]
  },
  {
   "cell_type": "code",
   "execution_count": null,
   "id": "67540212",
   "metadata": {},
   "outputs": [],
   "source": [
    "def printSomething(text):\n",
    "    print('Inside print')\n",
    "    return text\n",
    "    \n",
    "def callbackFunction(value):\n",
    "    A.append(value)\n",
    "A = []\n",
    "\n",
    "\n",
    "pool = Pool(processes=4)\n",
    "for ix in range(126):\n",
    "    pool.apply_async(partial(printSomething, ix), callback=callbackFunction)\n",
    "pool.close()\n",
    "pool.join()"
   ]
  },
  {
   "cell_type": "code",
   "execution_count": null,
   "id": "ec1a962a",
   "metadata": {},
   "outputs": [],
   "source": [
    "A"
   ]
  },
  {
   "cell_type": "code",
   "execution_count": null,
   "id": "38ab056e",
   "metadata": {},
   "outputs": [],
   "source": [
    "count = 0.0\n",
    "for (runfile, value) in usr.mainapi.runfile_done.items():\n",
    "    count += value\n",
    "\n",
    "usr.mainapi.loading_widget.value = 0"
   ]
  },
  {
   "cell_type": "code",
   "execution_count": null,
   "id": "bcf417c4",
   "metadata": {},
   "outputs": [],
   "source": [
    "usr.mainapi.update_loading()"
   ]
  },
  {
   "cell_type": "code",
   "execution_count": null,
   "id": "61383d6d",
   "metadata": {},
   "outputs": [],
   "source": [
    "usr.mainapi.runfile_done[runfile] = 1"
   ]
  },
  {
   "cell_type": "code",
   "execution_count": null,
   "id": "81ae568c",
   "metadata": {},
   "outputs": [],
   "source": [
    "usr.mainapi.farsite_lst[0].runfile.tofile()"
   ]
  },
  {
   "cell_type": "code",
   "execution_count": null,
   "id": "658f708d",
   "metadata": {},
   "outputs": [],
   "source": [
    "dt = {usr.mainapi.farsite_lst[0].runfile: 'test'}\n",
    "dt[usr.mainapi.farsite_lst[0].runfile]"
   ]
  },
  {
   "cell_type": "code",
   "execution_count": null,
   "id": "eabce511",
   "metadata": {},
   "outputs": [],
   "source": [
    "usr.mainapi.runfile_lst[0].tofile()"
   ]
  },
  {
   "cell_type": "code",
   "execution_count": null,
   "id": "2e65077e",
   "metadata": {},
   "outputs": [],
   "source": [
    "pd.read_pickle('/home/tcaglar/data/test_table.pkl')"
   ]
  },
  {
   "cell_type": "code",
   "execution_count": null,
   "id": "eabcc0cf",
   "metadata": {},
   "outputs": [],
   "source": [
    "usr.UI"
   ]
  },
  {
   "cell_type": "code",
   "execution_count": null,
   "id": "3904e0fc",
   "metadata": {},
   "outputs": [],
   "source": [
    "gdf = gpd.read_file('/mnt/c/Users/tolk1/Dropbox/SDSC/SDGE/data/Lidar/Documents/LiDAR/Distribution/C11/2017_12_11/GIS-Data/C11_Data.gdb/')"
   ]
  },
  {
   "cell_type": "code",
   "execution_count": null,
   "id": "89e6d57b",
   "metadata": {},
   "outputs": [],
   "source": []
  },
  {
   "cell_type": "code",
   "execution_count": null,
   "id": "7d50217c",
   "metadata": {},
   "outputs": [],
   "source": [
    "m = Map(\n",
    "    basemap=basemaps.Esri.WorldTopoMap,\n",
    "    center=(32.7157, -117.1611),\n",
    "    zoom=10,\n",
    "    layout=Layout(height='700px')\n",
    ")\n",
    "\n",
    "m.add_control(ScaleControl())\n",
    "m.add_layer(g)"
   ]
  },
  {
   "cell_type": "code",
   "execution_count": null,
   "id": "4ed4dfdf",
   "metadata": {},
   "outputs": [],
   "source": [
    "usr.db.gdfsimulation"
   ]
  },
  {
   "cell_type": "code",
   "execution_count": null,
   "id": "93c37146",
   "metadata": {},
   "outputs": [],
   "source": [
    "usr.mainapi.farsite_lst[0].runfile.configfile.FARSITE_TIMESTEP"
   ]
  },
  {
   "cell_type": "code",
   "execution_count": null,
   "id": "e503e862",
   "metadata": {},
   "outputs": [],
   "source": [
    "gdf = gpd.read_file(mainapi.farsite_lst[2].runfile.outpath + '_Perimeters.shp')\n",
    "minutes = gdf['Elapsed_Mi'].unique()\n",
    "\n",
    "gdf0 = gdf[gdf['Elapsed_Mi'] == minutes[0]]\n",
    "polygon_lst = [Polygon(value) for value in gdf0['geometry'].values]\n",
    "multipoly = MultiPolygon()\n",
    "for poly in polygon_lst:\n",
    "    multipoly = multipoly.union(poly.buffer(0))\n",
    "    \n",
    "multipoly\n"
   ]
  },
  {
   "cell_type": "code",
   "execution_count": null,
   "id": "7229cd3f",
   "metadata": {},
   "outputs": [],
   "source": [
    "crs = gpd.read_file(mainapi.farsite_lst[0].runfile.outpath + '_Perimeters.shp').crs"
   ]
  },
  {
   "cell_type": "code",
   "execution_count": null,
   "id": "9ce1c90b",
   "metadata": {},
   "outputs": [],
   "source": [
    "geom = gpd.read_file(mainapi.farsite_lst[0].runfile.outpath + '_Perimeters.shp').loc[0, 'geometry']\n",
    "mainapi.db.gdfsimulation.loc['db8ac00b671441fbbd5f86e277f1b0d3', 'igniteidx'] = 'test'\n",
    "gs = gpd.GeoSeries(index=['db8ac00b671441fbbd5f86e277f1b0d3'], data=geom)\n",
    "mainapi.db.gdfsimulation.loc['db8ac00b671441fbbd5f86e277f1b0d3', 'geometry'] = gs"
   ]
  },
  {
   "cell_type": "code",
   "execution_count": null,
   "id": "405e82b7",
   "metadata": {},
   "outputs": [],
   "source": []
  },
  {
   "cell_type": "code",
   "execution_count": null,
   "id": "500bc0d8",
   "metadata": {},
   "outputs": [],
   "source": [
    "gdf = gpd.read_file(mainapi.dftable.iloc[0]['filepath'])\n",
    "gdf.crs"
   ]
  },
  {
   "cell_type": "code",
   "execution_count": null,
   "id": "4b3781f1",
   "metadata": {},
   "outputs": [],
   "source": [
    "gdf['geometry'][0]"
   ]
  },
  {
   "cell_type": "code",
   "execution_count": null,
   "id": "5db72cf0",
   "metadata": {},
   "outputs": [],
   "source": [
    "gdftable = gpd.GeoDataFrame(dftable)\n",
    "gdftable.loc['f23196b034474744bdca7df94b13e0f7', 'geometry'] = gdf['geometry'][0]\n",
    "gdftable"
   ]
  },
  {
   "cell_type": "code",
   "execution_count": null,
   "id": "08d81caa",
   "metadata": {},
   "outputs": [],
   "source": [
    "Exception"
   ]
  },
  {
   "cell_type": "code",
   "execution_count": null,
   "id": "7eb61b6d",
   "metadata": {},
   "outputs": [],
   "source": []
  },
  {
   "cell_type": "code",
   "execution_count": null,
   "id": "a9ce6cca",
   "metadata": {},
   "outputs": [],
   "source": []
  },
  {
   "cell_type": "code",
   "execution_count": null,
   "id": "182743e2",
   "metadata": {},
   "outputs": [],
   "source": [
    "db = Database(fp)"
   ]
  },
  {
   "cell_type": "code",
   "execution_count": null,
   "id": "36b76db6",
   "metadata": {},
   "outputs": [],
   "source": [
    "fpath = mainapi.dftable.loc['3c01d3099b094139873113e19c9f785a', 'filepath']\n",
    "# geoms = gpd.read_file(fpath)['geometry']\n",
    "# for geom in geoms:\n",
    "#     display(geom)\n",
    "#     break\n",
    "    \n",
    "gdf = gpd.read_file(fpath)\n",
    "row = gdf.iloc[0]\n",
    "geom = row['geometry']\n",
    "gdf"
   ]
  },
  {
   "cell_type": "code",
   "execution_count": null,
   "id": "a22544d3",
   "metadata": {},
   "outputs": [],
   "source": [
    "# Setup the database for reading\n",
    "dftable = pd.read_pickle(fp.dfpath)\n",
    "\n",
    "# Collect the tables in dataframe format\n",
    "# Table 1 - ignition\n",
    "\n",
    "\n",
    "\n",
    "# Table 2 - barrier\n",
    "gdfbarrier = gpd.GeoDataFrame(dftable[dftable['filetype'] == 'Barrier'])\n",
    "for (idx, ignition) in gdfbarrier.iterrows():\n",
    "    geom = gpd.read_file(ignition['filepath']).loc[0,'geometry']\n",
    "    gdfbarrier.loc[idx, 'shape'] = geom.to_wkb()\n",
    "\n",
    "gs = gpd.GeoSeries.from_wkb(gdfignition['shape'])\n",
    "gdfbarrier['geometry'] = gs\n",
    "gdfbarrier.drop(columns='shape')\n",
    "\n",
    "# Table 3 - landscape\n",
    "# Table 4 - simulation"
   ]
  },
  {
   "cell_type": "code",
   "execution_count": null,
   "id": "50177dd4",
   "metadata": {},
   "outputs": [],
   "source": [
    "gdfignition.loc['714f0cf8d475462a97c651642a3d2525', 'shape']"
   ]
  },
  {
   "cell_type": "code",
   "execution_count": null,
   "id": "20dbfa2b",
   "metadata": {},
   "outputs": [],
   "source": [
    "# .from_wkb()\n",
    "\n",
    "gdfignition"
   ]
  },
  {
   "cell_type": "markdown",
   "id": "394757e3",
   "metadata": {},
   "source": [
    "### Set the pickle file for maria fire"
   ]
  },
  {
   "cell_type": "code",
   "execution_count": null,
   "id": "9e938d98",
   "metadata": {},
   "outputs": [],
   "source": [
    "# Read measured fire perimeter and convert to EPSG=5070\n",
    "gdf_maria = gpd.read_file('/home/tcaglar/data/maria-wgs84/')\n",
    "\n",
    "# ignition geodataframe\n",
    "gdf_ignition = gdf_maria.to_crs(epsg=5070)\n",
    "# reindex using the objectid\n",
    "gdf_ignition.set_index('objectid', inplace=True)\n",
    "\n",
    "# Remove the objectids 21230 and 21233\n",
    "gdf_ignition.drop(index=[21230, 21233], inplace=True)\n",
    "\n",
    "# Calculate datetime and add to gdf\n",
    "gdf_ignition['datetime'] = pd.to_datetime(gdf_ignition['YYYYMMDD'].astype(str) + ':' + gdf_ignition['24_HHMMSS'], \n",
    "               format='%Y%m%d:%H:%M:%S')"
   ]
  },
  {
   "cell_type": "code",
   "execution_count": null,
   "id": "b5ad31bb",
   "metadata": {},
   "outputs": [],
   "source": [
    "# igniteids = gdf_ignition.index\n",
    "dftable = pd.DataFrame(columns=['filetype', 'objectid', 'filepath', 'datetime'])\n",
    "for (objectid, row) in gdf_ignition.iterrows():\n",
    "    igniteidx = uuid.uuid4().hex\n",
    "    dftable.loc[igniteidx, 'filepath'] = os.path.join('/home/tcaglar/farsite/inputs/maria_ignite','maria_'+str(objectid)+'.shp')\n",
    "    dftable.loc[igniteidx, 'filetype'] = 'Ignition'\n",
    "    dftable.loc[igniteidx, 'objectid'] = objectid\n",
    "    dftable.loc[igniteidx, 'datetime'] = row['datetime']\n",
    "\n",
    "lcpidx = uuid.uuid4().hex\n",
    "dftable.loc[lcpidx, 'filepath'] = '/home/tcaglar/farsite/inputs/landscapes/mariafire.lcp'\n",
    "dftable.loc[lcpidx, 'filetype'] = 'Landscape'\n",
    "\n",
    "barrieridx = uuid.uuid4().hex\n",
    "dftable.loc[barrieridx, 'filepath'] = '/home/tcaglar/farsite/inputs/barriers/NoBarrier/NoBarrier.shp'\n",
    "dftable.loc[barrieridx, 'filetype'] = 'Barrier'\n",
    "\n",
    "# dftable.to_pickle('/home/tcaglar/data/test_table.pkl')\n",
    "dftable = pd.read_pickle('/home/tcaglar/data/test_table.pkl')"
   ]
  },
  {
   "cell_type": "code",
   "execution_count": null,
   "id": "8ada60cd",
   "metadata": {},
   "outputs": [],
   "source": [
    "dftable"
   ]
  }
 ],
 "metadata": {
  "kernelspec": {
   "display_name": "Python 3",
   "language": "python",
   "name": "python3"
  },
  "language_info": {
   "codemirror_mode": {
    "name": "ipython",
    "version": 3
   },
   "file_extension": ".py",
   "mimetype": "text/x-python",
   "name": "python",
   "nbconvert_exporter": "python",
   "pygments_lexer": "ipython3",
   "version": "3.6.9"
  }
 },
 "nbformat": 4,
 "nbformat_minor": 5
}
