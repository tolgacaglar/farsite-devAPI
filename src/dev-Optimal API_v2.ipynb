{
 "cells": [
  {
   "cell_type": "markdown",
   "id": "2303a156",
   "metadata": {},
   "source": [
    "## Dependencies"
   ]
  },
  {
   "cell_type": "code",
   "execution_count": null,
   "id": "a742ef22",
   "metadata": {},
   "outputs": [],
   "source": [
    "import datetime\n",
    "import pandas as pd\n",
    "import geopandas as gpd\n",
    "from dataclasses import dataclass\n",
    "import uuid\n",
    "\n",
    "from shapely.geometry import MultiPolygon, Polygon\n",
    "\n",
    "from farsiteutils import User, Run_File, Config_File, Input, FilePaths, Database\n",
    "\n",
    "from multiprocessing import Pool\n",
    "\n",
    "from ipyleaflet import Map, basemaps, basemap_to_tiles, ScaleControl, ZoomControl, LayersControl, WKTLayer, WidgetControl\n",
    "from ipyleaflet import Circle\n",
    "from ipyleaflet.leaflet import LayerException\n",
    "from ipywidgets import Layout, FloatProgress, HBox, VBox, FloatText, Label\n",
    "from ipywidgets import SelectionSlider\n",
    "\n",
    "from functools import partial\n",
    "\n",
    "from IPython.display import display, HTML\n",
    "display(HTML(\"<style>.container { width:90% !important; }</style>\"))\n",
    "\n",
    "import os \n",
    "\n",
    "import requests\n",
    "import arrow\n",
    "\n",
    "import numpy as np\n",
    "\n",
    "from dataclasses import dataclass\n",
    "\n",
    "@dataclass\n",
    "class Station:\n",
    "    name: str\n",
    "    lat: float\n",
    "    lon: float\n",
    "    temperature: list\n",
    "    wind_speed: list\n",
    "    wind_direction: list\n",
    "    timestamp: list\n",
    "    units: dict\n",
    "    \n",
    "%load_ext autoreload\n",
    "%autoreload 2"
   ]
  },
  {
   "cell_type": "code",
   "execution_count": null,
   "id": "0f8a83e0",
   "metadata": {},
   "outputs": [],
   "source": [
    "# from ipywidgets import Dropdown"
   ]
  },
  {
   "cell_type": "code",
   "execution_count": null,
   "id": "7fe5562e",
   "metadata": {},
   "outputs": [],
   "source": [
    "\n",
    "# def observe_dropdown(test, event):\n",
    "#     print(test)\n",
    "#     print(event)\n",
    "\n",
    "# dd = Dropdown(options=['option1', 'option2', 'option3'])\n",
    "\n",
    "# test1 = partial(observe_dropdown, 'test1')\n",
    "# test2 = partial(observe_dropdown, 'test2')\n",
    "# test3 = partial(observe_dropdown, 'test3')\n",
    "# dd.observe(test1, names='value')\n",
    "# dd.observe(test2, names='value')\n",
    "# dd.unobserve(test2, names='value')\n",
    "# dd.observe(test3, names='value')\n",
    "# dd"
   ]
  },
  {
   "cell_type": "code",
   "execution_count": null,
   "id": "aa24b13d",
   "metadata": {},
   "outputs": [],
   "source": []
  },
  {
   "cell_type": "code",
   "execution_count": null,
   "id": "62428f2f",
   "metadata": {},
   "outputs": [],
   "source": [
    "# def collect_wx_data(igniteidx):\n",
    "#     km_per_miles = 1.60934\n",
    "    \n",
    "#     if igniteidx == 'f23196b034474744bdca7df94b13e0f7':\n",
    "#         compareidx = '9f82e870591748a9a8a01346d174f2a1'\n",
    "#     elif igniteidx == '9f82e870591748a9a8a01346d174f2a1':\n",
    "#         compareidx = '1a6eb30ee33742e18fa6bb26678b5077'\n",
    "#     elif igniteidx == '1a6eb30ee33742e18fa6bb26678b5077':\n",
    "#         compareidx = '911f9b001c054b74a6ba70958f5f3c93'\n",
    "#     elif igniteidx == '911f9b001c054b74a6ba70958f5f3c93':\n",
    "#         compareidx = '7957c2e604554199ba60c5b13aff2f40'\n",
    "#     elif igniteidx == '7957c2e604554199ba60c5b13aff2f40':\n",
    "#         compareidx = '714f0cf8d475462a97c651642a3d2525'\n",
    "#     elif igniteidx == '714f0cf8d475462a97c651642a3d2525':\n",
    "#         compareidx = '628d7730c0f149f898695d37a1350882'\n",
    "#     else:\n",
    "#         raise ValueError(f'igniteidx: {igniteidx}, not defined!!')\n",
    "\n",
    "#     ignite = usr.db.gdfignition.to_crs(epsg=4326).loc[igniteidx]\n",
    "#     compare = usr.db.gdfignition.to_crs(epsg=4326).loc[compareidx]\n",
    "\n",
    "\n",
    "#     baseURL = \"https://firemap.sdsc.edu/pylaski/stations/data?\"\n",
    "\n",
    "#     ## Always start with the base of the URL\n",
    "\n",
    "#     selectionType='selection=withinRadius'\n",
    "\n",
    "#     # Choose the centroid of the ignition\n",
    "#     lon = ignite['geometry'].centroid.x\n",
    "#     lat = ignite['geometry'].centroid.y\n",
    "#     radius = 5*km_per_miles    # 2 mile radius\n",
    "\n",
    "#     ## Latitude and longitude of the White House according to Google\n",
    "#     selectionParameters = '&lat={}&lon={}&radius={}'.format(str(lat),str(lon), str(radius))\n",
    "\n",
    "#     observables_list = ['temperature', 'wind_speed', 'wind_direction']\n",
    "#     observables = ''\n",
    "#     for observable in observables_list:\n",
    "#         observables += f'&observable={observable}'\n",
    "\n",
    "#     fromdt = ignite['datetime'].tz_localize('US/Pacific')\n",
    "#     todt = compare['datetime'].tz_localize('US/Pacific')\n",
    "#     frm = arrow.Arrow.fromdatetime(fromdt.to_pydatetime())\n",
    "#     to = arrow.Arrow.fromdatetime(todt.to_pydatetime())\n",
    "\n",
    "#     frm = frm.shift(minutes=-10)\n",
    "#     to = to.shift(minutes=10)\n",
    "\n",
    "#     urlDateTime = '&from={}&to={}'.format(str(frm), str(to))\n",
    "\n",
    "#     urlPlot = baseURL + selectionType + selectionParameters + observables + urlDateTime\n",
    "#     print(urlPlot)\n",
    "\n",
    "#     r = requests.get(urlPlot)\n",
    "#     ## Request to GET information from the given URL (Our REST query we built)\n",
    "#     r_json = r.json()\n",
    "\n",
    "#     stations_lst = []\n",
    "#     for feature in r_json['features']:\n",
    "\n",
    "#         lon,lat = feature['geometry']['coordinates']\n",
    "\n",
    "#         name = feature['properties']['description']['name']\n",
    "#         wxid = feature['properties']['description']['id']\n",
    "#         provider = feature['properties']['description']['provider']\n",
    "#         wifire_uid = feature['properties']['description']['wifire_uid']\n",
    "\n",
    "#         timestamp = pd.to_datetime(feature['properties']['timestamp'])\n",
    "#         try:\n",
    "#             temperature = feature['properties']['temperature']\n",
    "#         except KeyError:\n",
    "#             temperature = []\n",
    "\n",
    "#         try:\n",
    "#             wind_speed = feature['properties']['wind_speed']\n",
    "#         except KeyError:\n",
    "#             wind_speed = []\n",
    "\n",
    "#         try:\n",
    "#             wind_direction = feature['properties']['wind_direction']\n",
    "#         except KeyError:\n",
    "#             wind_direction = []\n",
    "\n",
    "#         units = feature['properties']['units']\n",
    "\n",
    "#         stations_lst.append(Station(name, lat, lon, temperature, wind_speed, wind_direction, timestamp, units))\n",
    "        \n",
    "#     return stations_lst"
   ]
  },
  {
   "cell_type": "code",
   "execution_count": null,
   "id": "c9554ac3-e15c-4da3-ab04-e3a9c24488f5",
   "metadata": {},
   "outputs": [],
   "source": [
    "fp = FilePaths('/home/jovyan/data/')\n",
    "usr = User(fp)"
   ]
  },
  {
   "cell_type": "code",
   "execution_count": null,
   "id": "51cdd655-3be2-4923-8327-a76b5655ce63",
   "metadata": {},
   "outputs": [],
   "source": [
    "!jupyter labextension list"
   ]
  },
  {
   "cell_type": "code",
   "execution_count": null,
   "id": "a42a6324-b808-4c08-91e7-a845f395eaaf",
   "metadata": {},
   "outputs": [],
   "source": [
    "from ipywidgets import Button"
   ]
  },
  {
   "cell_type": "code",
   "execution_count": null,
   "id": "5b8d1e8f-395f-44a5-8f0c-9391720c3a5e",
   "metadata": {},
   "outputs": [],
   "source": [
    "Map()"
   ]
  },
  {
   "cell_type": "markdown",
   "id": "50d0cc42",
   "metadata": {},
   "source": [
    "## Choose ignition\n"
   ]
  },
  {
   "cell_type": "code",
   "execution_count": 1,
   "id": "70cdb1f7-3ecd-4579-87e8-e61d375de378",
   "metadata": {},
   "outputs": [
    {
     "data": {
      "application/vnd.jupyter.widget-view+json": {
       "model_id": "0dbb81e74ff84cc8830e67791973a001",
       "version_major": 2,
       "version_minor": 0
      },
      "text/plain": [
       "Map(center=[34.178861487501464, -118.566380281569], controls=(AttributionControl(options=['position', 'prefix'…"
      ]
     },
     "metadata": {},
     "output_type": "display_data"
    }
   ],
   "source": [
    "from ipyleaflet import Map, basemaps\n",
    "from ipywidgets import Layout\n",
    "\n",
    "centerlat = 34.178861487501464\n",
    "centerlon = -118.566380281569\n",
    "\n",
    "m = Map(\n",
    "    basemap=basemaps.Esri.WorldTopoMap,\n",
    "    center=(centerlat, centerlon),\n",
    "    zoom=10,\n",
    "    layout=Layout(height='800px', width='100%'),\n",
    "    zoom_control=False\n",
    ")\n",
    "\n",
    "m"
   ]
  },
  {
   "cell_type": "code",
   "execution_count": null,
   "id": "e1465fa2",
   "metadata": {},
   "outputs": [],
   "source": [
    "usr.m"
   ]
  },
  {
   "cell_type": "code",
   "execution_count": null,
   "id": "d28c1ad9",
   "metadata": {},
   "outputs": [],
   "source": [
    "usr.mainapi.run_farsite(16)"
   ]
  },
  {
   "cell_type": "code",
   "execution_count": null,
   "id": "c21fe66d",
   "metadata": {},
   "outputs": [],
   "source": [
    "usr.db.gdfsimulation.set_crs(epsg=5070, allow_override=True).to_pickle('./Maria2019_simulation_Kalman_1.pkl')"
   ]
  },
  {
   "cell_type": "code",
   "execution_count": null,
   "id": "0f7b9069",
   "metadata": {},
   "outputs": [],
   "source": [
    "usr.db.gdfsimulation.set_crs(epsg=5070, allow_override=True).to_crs(epsg=4326)['geometry'].iloc[0].centroid.x"
   ]
  },
  {
   "cell_type": "code",
   "execution_count": null,
   "id": "bc53744b",
   "metadata": {},
   "outputs": [],
   "source": [
    "usr.db.gdfig"
   ]
  },
  {
   "cell_type": "code",
   "execution_count": null,
   "id": "d12cd574",
   "metadata": {},
   "outputs": [],
   "source": [
    "usr.db.gdfsimulation.to_pickle('./Maria2019_simulation_new.pkl')"
   ]
  },
  {
   "cell_type": "code",
   "execution_count": null,
   "id": "07c9f9a7",
   "metadata": {},
   "outputs": [],
   "source": [
    "df = usr.db.gdfsimulation.groupby(['windspeed', 'winddirection'])['igniteidx'].count()\n",
    "df[df==5]"
   ]
  },
  {
   "cell_type": "code",
   "execution_count": null,
   "id": "74bbe23a",
   "metadata": {},
   "outputs": [],
   "source": [
    "usr.db.gdfsimulation.to_pickle('/home/tcaglar/farsite-devAPI/Bridge2021_simulation.pkl')"
   ]
  },
  {
   "cell_type": "code",
   "execution_count": null,
   "id": "94bd3c06",
   "metadata": {},
   "outputs": [],
   "source": [
    "df = pd.read_pickle('/home/tcaglar/farsite-devAPI/src/Maria2019_simulation.pkl')"
   ]
  },
  {
   "cell_type": "code",
   "execution_count": null,
   "id": "f2ac2952",
   "metadata": {},
   "outputs": [],
   "source": [
    "compare_map = {'1943c4f73e9949bd9226acd86000101f': 'd588064eaa4545fea0463c2984f24e94',\n",
    "               'd588064eaa4545fea0463c2984f24e94': '8e3a089a43df4c0ebf5fa61e017a0463',\n",
    "               '8e3a089a43df4c0ebf5fa61e017a0463': 'a057a384686842a384129e298cda3e3a',\n",
    "               'a057a384686842a384129e298cda3e3a': '441194065b374d90945a1cd431e0c68b',\n",
    "               '441194065b374d90945a1cd431e0c68b': 'b39e407634c5444eb4ef63ca8b29aec4'}"
   ]
  },
  {
   "cell_type": "code",
   "execution_count": null,
   "id": "8fe09a9e",
   "metadata": {},
   "outputs": [],
   "source": [
    "usr.db.gdfignition.sort_values(by='datetime')"
   ]
  },
  {
   "cell_type": "code",
   "execution_count": null,
   "id": "56534e0d",
   "metadata": {},
   "outputs": [],
   "source": [
    "1050*6"
   ]
  },
  {
   "cell_type": "code",
   "execution_count": null,
   "id": "c7256741",
   "metadata": {},
   "outputs": [],
   "source": [
    "for (key, value) in compare_map.items():\n",
    "    usr.db.gdfsimulation.loc[(usr.db.gdfsimulation['igniteidx'] == key), 'compareidx'] = value"
   ]
  },
  {
   "cell_type": "code",
   "execution_count": null,
   "id": "6b626642",
   "metadata": {},
   "outputs": [],
   "source": [
    "usr.db.gdfsimulation.to_pickle('/home/tcaglar/farsite-devAPI/src/Bridge2021_simulation.pkl')"
   ]
  },
  {
   "cell_type": "code",
   "execution_count": null,
   "id": "2d677fd9",
   "metadata": {},
   "outputs": [],
   "source": [
    "pd.read_pickle('/home/tcaglar/farsite-devAPI/src/Bridge2021_simulation.pkl')"
   ]
  },
  {
   "cell_type": "code",
   "execution_count": null,
   "id": "a3890da2",
   "metadata": {},
   "outputs": [],
   "source": [
    "usr.db.gdfsimulationf"
   ]
  },
  {
   "cell_type": "code",
   "execution_count": null,
   "id": "638babd7",
   "metadata": {},
   "outputs": [],
   "source": [
    "def collect_station_comparison(stations_lst, ws_optimal, wd_optimal, igniteidx):\n",
    "    pdiff_wslst = []\n",
    "    sine_wdlst = []\n",
    "    station_name = []\n",
    "    geometry = []\n",
    "\n",
    "    for station in stations_lst:\n",
    "        try:\n",
    "            ws = station.wind_speed[0]\n",
    "            wd = station.wind_direction[0]\n",
    "\n",
    "            wsdiff = abs(ws - ws_optimal)/ws_optimal\n",
    "            wdsine = np.sin((wd - wd_optimal)/180*np.pi)\n",
    "        except IndexError:\n",
    "            print(f'Skipping {station.name}. No data found!')\n",
    "            wsdiff = None\n",
    "            wdsine = None\n",
    "            \n",
    "        pdiff_wslst.append(wsdiff)\n",
    "        sine_wdlst.append(wdsine)\n",
    "        station_name.append(station.name)\n",
    "        geometry.append(shapely.geometry.Point(station.lon, station.lat))\n",
    "        \n",
    "    gdf = gpd.GeoDataFrame(data={'station_name': station_name,\n",
    "                                 'wsdiff': pdiff_wslst,\n",
    "                                 'wdsine': sine_wdlst},\n",
    "                           crs='EPSG:4326',\n",
    "                           geometry=geometry)    \n",
    "            \n",
    "    gdf['igniteidx'] = igniteidx\n",
    "    \n",
    "    return gdf"
   ]
  },
  {
   "cell_type": "code",
   "execution_count": null,
   "id": "f1f0b178",
   "metadata": {},
   "outputs": [],
   "source": [
    "# gdf = usr.db.gdfsimulation\n",
    "\n",
    "    print(f'Calculating {ix+1}/{len(ignitionidx_lst)}...   ', end='\\r', flush=True)\n",
    "    gdfSub = gdf[gdf['igniteidx'] == ignition]\n",
    "\n",
    "    \n",
    "    gdf['area'] = (gdf['geometry'].union(geom_compare).difference(gdf['geometry'].intersection(geom_compare))).area\n",
    "    idxmin = gdf['area'].idxmin()\n",
    "\n",
    "    ws_optimal = gdf.loc[idxmin, 'windspeed']\n",
    "    wd_optimal = gdf.loc[idxmin, 'winddirection']    # Degrees\n",
    "        \n",
    "    stations_lst = collect_wx_data(igniteidx)\n",
    "    \n",
    "    gdfResults = gdfResults.append(collect_station_comparison(stations_lst, ws_optimal, wd_optimal, igniteidx))"
   ]
  },
  {
   "cell_type": "code",
   "execution_count": null,
   "id": "2517a936",
   "metadata": {},
   "outputs": [],
   "source": [
    "gdfResults = gdfResults.dropna().reset_index(drop=True)\n",
    "stations_lst = gdfResults['station_name'].unique()\n",
    "\n",
    "gdfResults.groupby('igniteidx').min(column='wdsine')"
   ]
  },
  {
   "cell_type": "code",
   "execution_count": null,
   "id": "8db1549d",
   "metadata": {},
   "outputs": [],
   "source": [
    "gdfResults = gdfResults.dropna().reset_index(drop=True)\n",
    "stations_lst = gdfResults['station_name'].unique()\n",
    "\n",
    "for igniteidx in gdfResults['igniteidx'].unique():\n",
    "    gdfSub = gdfResults[gdfResults['igniteidx'] == igniteidx]\n",
    "    print(abs(gdfSub['wdsine']).idxmin())"
   ]
  },
  {
   "cell_type": "code",
   "execution_count": null,
   "id": "e7fd5ded",
   "metadata": {},
   "outputs": [],
   "source": [
    "wsdiff_min = gdfResults.loc[[0, 10, 27, 38, 45]]\n",
    "wdsine_min = gdfResults.loc[[1, 13, 21, 32, 43]]"
   ]
  },
  {
   "cell_type": "code",
   "execution_count": null,
   "id": "bff7bcc6",
   "metadata": {},
   "outputs": [],
   "source": []
  },
  {
   "cell_type": "code",
   "execution_count": null,
   "id": "354684e9",
   "metadata": {},
   "outputs": [],
   "source": [
    "def collect_station_comparison(stations_lst, ws_optimal, wd_optimal):\n",
    "    pdiff_wslst = []\n",
    "    pdiff_wdlst = []\n",
    "    for station in stations_lst:\n",
    "        try:\n",
    "            ws = station.wind_speed[0]\n",
    "            wd = station.wind_direction[0]\n",
    "\n",
    "            station.wsdiff = abs(ws - ws_optimal)/ws_optimal\n",
    "            station.wddiff = np.sin(np.abs((wd - wd_optimal)/180*np.pi))\n",
    "        except IndexError:\n",
    "            print(f'Skipping {station.name}. No data found!')\n",
    "            station.wsdiff = None\n",
    "            station.wddiff = None\n",
    "\n",
    "def collect_station_layers(stations_lst, ws_optimal):\n",
    "    clayers_lst = []\n",
    "    for station in stations_lst:\n",
    "        if station.name == 'Santa Paula':\n",
    "            blue='FF'\n",
    "        else:\n",
    "            blue='00'\n",
    "#         try:\n",
    "#             ws = station.wind_speed[0]\n",
    "#             pdiff = abs(ws - ws_optimal)/ws_optimal\n",
    "\n",
    "#             blueint = int(pdiff*256)\n",
    "#             if blueint > 255:\n",
    "#                 blueint = 255\n",
    "#             elif blueint < 0:\n",
    "#                 blueint = 0\n",
    "#         except IndexError:\n",
    "#             blueint = 0\n",
    "            \n",
    "#         red = '{:02x}'.format(redint)\n",
    "#         blue = '{:02x}'.format(blueint)\n",
    "        # Define circle\n",
    "        clayer = Circle(radius=400, location=(station.lat, station.lon), stroke=False, fill_color='#{}0000'.format(blue), fill_opacity=1)\n",
    "        \n",
    "        # Add circle to circle list\n",
    "        clayers_lst.append(clayer)\n",
    "        \n",
    "    return clayers_lst\n",
    "\n",
    "for station in station_layers:\n",
    "    usr.m.remove_layer(station)\n",
    "    \n",
    "geom_compare = usr.db.gdfignition.loc[usr.compareidx, 'geometry']\n",
    "gdf = usr.mainapi.db.gdfsimulation\n",
    "\n",
    "gdf['area'] = (gdf['geometry'].union(geom_compare).difference(gdf['geometry'].intersection(geom_compare))).area\n",
    "idxmin = gdf['area'].idxmin()\n",
    "\n",
    "ws_optimal = gdf.loc[idxmin, 'windspeed']\n",
    "wd_optimal = gdf.loc[idxmin, 'winddirection']    # Degrees\n",
    "\n",
    "# stations_lst = collect_wx_data(igniteidx)\n",
    "\n",
    "station_layers = collect_station_layers(stations_lst, ws_optimal)\n",
    "\n",
    "for station in station_layers:\n",
    "    usr.m.add_layer(station)    \n",
    "\n",
    "# Color based on wind speed percent difference\n"
   ]
  },
  {
   "cell_type": "code",
   "execution_count": null,
   "id": "ebfb6861",
   "metadata": {},
   "outputs": [],
   "source": [
    "import shapely\n",
    "\n",
    "collect_station_comparison(stations_lst, ws_optimal, wd_optimal)\n",
    "\n",
    "station_name = []\n",
    "geometry = []\n",
    "wsdiff = []\n",
    "wdsine = []\n",
    "calculation_set = []\n",
    "for station in stations_lst:\n",
    "    station_name.append(station.name)\n",
    "    geometry.append(shapely.geometry.Point(station.lon, station.lat))\n",
    "    wsdiff.append(station.wsdiff)\n",
    "    wdsine.append(station.wddiff)\n",
    "    calculation_set.append(0)\n",
    "    \n",
    "gdf = gpd.GeoDataFrame(data={'station_name': station_name, \n",
    "                       'wsdiff': wsdiff, \n",
    "                       'wdsine': wdsine,\n",
    "                       'set': calculation_set}, geometry=geometry, crs='EPSG:4326')"
   ]
  },
  {
   "cell_type": "code",
   "execution_count": null,
   "id": "29f5c683",
   "metadata": {},
   "outputs": [],
   "source": [
    "gdf"
   ]
  },
  {
   "cell_type": "code",
   "execution_count": null,
   "id": "38eb3be6",
   "metadata": {},
   "outputs": [],
   "source": [
    "gdfCompare = gdfCompare.append(gdf)"
   ]
  },
  {
   "cell_type": "code",
   "execution_count": null,
   "id": "6c000e1a",
   "metadata": {},
   "outputs": [],
   "source": [
    "shapely.geometry.Point(station.lon, station.lat).x"
   ]
  },
  {
   "cell_type": "code",
   "execution_count": null,
   "id": "246ec69f",
   "metadata": {},
   "outputs": [],
   "source": [
    "stations_lst[0]"
   ]
  },
  {
   "cell_type": "code",
   "execution_count": null,
   "id": "e6020246",
   "metadata": {},
   "outputs": [],
   "source": [
    "r_json['features'][0]['properties']"
   ]
  },
  {
   "cell_type": "code",
   "execution_count": null,
   "id": "24936ffb",
   "metadata": {},
   "outputs": [],
   "source": [
    "wd_optimal"
   ]
  },
  {
   "cell_type": "code",
   "execution_count": null,
   "id": "8f3a49ad",
   "metadata": {},
   "outputs": [],
   "source": [
    "stations_lst[0].wind_direction[0]"
   ]
  },
  {
   "cell_type": "code",
   "execution_count": null,
   "id": "e41e3b54",
   "metadata": {},
   "outputs": [],
   "source": []
  },
  {
   "cell_type": "code",
   "execution_count": null,
   "id": "24e7f0a1",
   "metadata": {},
   "outputs": [],
   "source": []
  },
  {
   "cell_type": "code",
   "execution_count": null,
   "id": "af04c571",
   "metadata": {},
   "outputs": [],
   "source": [
    "frm"
   ]
  },
  {
   "cell_type": "code",
   "execution_count": null,
   "id": "08ff8eed",
   "metadata": {},
   "outputs": [],
   "source": [
    "wx_station_data = []\n",
    "# Add weather stations within 10 miles\n"
   ]
  },
  {
   "cell_type": "code",
   "execution_count": null,
   "id": "0521f783",
   "metadata": {},
   "outputs": [],
   "source": []
  },
  {
   "cell_type": "code",
   "execution_count": null,
   "id": "952818c8",
   "metadata": {},
   "outputs": [],
   "source": []
  },
  {
   "cell_type": "code",
   "execution_count": null,
   "id": "f9f4e1df",
   "metadata": {},
   "outputs": [],
   "source": [
    "usr.mainapi.runfile_lst[2].runpath"
   ]
  },
  {
   "cell_type": "code",
   "execution_count": null,
   "id": "16fdaeb0",
   "metadata": {},
   "outputs": [],
   "source": [
    "def initiate_perimeters(gdf, newigniteid, newcompareid):\n",
    "    add_mask_ignite = (gdf['objectid'] == newigniteid)\n",
    "    add_mask_compare = (gdf['objectid'] == newcompareid)\n",
    "    \n",
    "    gdf.loc[add_mask_ignite, 'WKTLayerIgnite'].apply(lambda wlayer: m.add_layer(wlayer))\n",
    "    gdf.loc[add_mask_compare, 'WKTLayerCompare'].apply(lambda wlayer: m.add_layer(wlayer))\n",
    "\n",
    "    \n",
    "def update_perimeters(gdf, vbox, oldigniteid, newigniteid, oldcompareid, newcompareid):    \n",
    "    remove_mask_ignite = (gdf['objectid'] == oldigniteid)\n",
    "    remove_mask_compare = (gdf['objectid'] == oldcompareid)\n",
    "    add_mask_ignite = (gdf['objectid'] == newigniteid)\n",
    "    add_mask_compare = (gdf['objectid'] == newcompareid)\n",
    "    \n",
    "    gdf.loc[remove_mask_ignite, 'WKTLayerIgnite'].apply(lambda wlayer: m.remove_layer(wlayer))\n",
    "    gdf.loc[add_mask_ignite, 'WKTLayerIgnite'].apply(lambda wlayer: m.add_layer(wlayer))\n",
    "    gdf.loc[remove_mask_compare, 'WKTLayerCompare'].apply(lambda wlayer: m.remove_layer(wlayer))\n",
    "    gdf.loc[add_mask_compare, 'WKTLayerCompare'].apply(lambda wlayer: m.add_layer(wlayer))\n",
    "    \n",
    "    vbox.children[1].value = str(gdf.set_index('objectid').loc[newigniteid, 'datetime'])\n",
    "    vbox.children[3].value = str(gdf.set_index('objectid').loc[newcompareid, 'datetime'])\n",
    "    \n",
    "    deltadt = gdf.set_index('objectid').loc[newcompareid, 'datetime'] - gdf.set_index('objectid').loc[newigniteid, 'datetime']\n",
    "    vbox.children[4].value = str(int(deltadt.total_seconds()/60)) + ' minutes'\n",
    "    \n",
    "def observe_objectid_slider(m, gdf, vbox, event):\n",
    "    if event['owner'].description == 'ignite':\n",
    "        oldigniteid = event['old']\n",
    "        newigniteid = event['new']\n",
    "        oldcompareid = vbox.children[2].value\n",
    "        newcompareid = vbox.children[2].value\n",
    "    elif event['owner'].description == 'compare':\n",
    "        oldigniteid = vbox.children[0].value\n",
    "        newigniteid = vbox.children[0].value\n",
    "        oldcompareid = event['old']\n",
    "        newcompareid = event['new']\n",
    "        \n",
    "    update_perimeters(gdf, vbox, oldigniteid, newigniteid, oldcompareid, newcompareid)\n",
    "\n",
    "\n",
    "gdf = usr.db.gdfignition.to_crs(epsg=4326)\n",
    "gdf['WKTLayerIgnite'] = gdf.apply(lambda row: WKTLayer(wkt_string = row['geometry'].wkt), axis=1)\n",
    "gdf['WKTLayerCompare'] = gdf.apply(lambda row: WKTLayer(wkt_string = row['geometry'].wkt), axis=1)\n",
    "\n",
    "centerlon = gdf.iloc[0]['geometry'].centroid.x\n",
    "centerlat = gdf.iloc[0]['geometry'].centroid.y\n",
    "\n",
    "m = Map(\n",
    "    basemap=basemaps.Esri.WorldTopoMap,\n",
    "    center=(centerlat, centerlon),\n",
    "    zoom=10,\n",
    "    layout=Layout(height='800px', width='100%'),\n",
    "    zoom_control=False\n",
    ")\n",
    "\n",
    "\n",
    "\n",
    "objectids = gdf['objectid'].unique()\n",
    "\n",
    "igniteid_select = SelectionSlider(description='ignite', options=objectids)\n",
    "ignitedt_label = Label(value=str(gdf.set_index('objectid').loc[igniteid_select.value, 'datetime']))\n",
    "\n",
    "compareid_select = SelectionSlider(description='compare', options=objectids)\n",
    "comparedt_label = Label(value=str(gdf.set_index('objectid').loc[compareid_select.value, 'datetime']))\n",
    "\n",
    "deltadt = gdf.set_index('objectid').loc[compareid_select.value, 'datetime'] - gdf.set_index('objectid').loc[igniteid_select.value, 'datetime']\n",
    "deltadt_label = Label(value=str(int(deltadt.total_seconds()/60)) + ' minutes')\n",
    "\n",
    "\n",
    "vbox = VBox([igniteid_select, ignitedt_label, compareid_select, comparedt_label, deltadt_label])\n",
    "\n",
    "igniteid_select.observe(partial(observe_objectid_slider, m, gdf, vbox), names='value')\n",
    "compareid_select.observe(partial(observe_objectid_slider, m, gdf, vbox), names='value')\n",
    "\n",
    "initiate_perimeters(gdf, igniteid_select.value, compareid_select.value)\n",
    "\n",
    "\n",
    "widget_control = WidgetControl(widget = vbox, position='topleft')\n",
    "m.add_control(widget_control) \n",
    "\n",
    "m.add_control(ZoomControl(position='topleft'))\n",
    "m.add_control(ScaleControl(position='topleft'))\n",
    "\n",
    "UIcontrol = WidgetControl(widget = usr.UI, position='topright')\n",
    "m.add_control(UIcontrol)\n",
    "m"
   ]
  },
  {
   "cell_type": "code",
   "execution_count": null,
   "id": "30358fe4",
   "metadata": {},
   "outputs": [],
   "source": [
    "usr.UI"
   ]
  },
  {
   "cell_type": "code",
   "execution_count": null,
   "id": "01c2207e",
   "metadata": {},
   "outputs": [],
   "source": [
    "usr.mainapi.run_farsite()"
   ]
  },
  {
   "cell_type": "code",
   "execution_count": null,
   "id": "031535b6",
   "metadata": {},
   "outputs": [],
   "source": []
  },
  {
   "cell_type": "code",
   "execution_count": null,
   "id": "6d4e6874",
   "metadata": {},
   "outputs": [],
   "source": [
    " \n",
    "def initiate_wktlayers(gdf, newws, newwd):\n",
    "    add_mask = ((gdf['windspeed'] == newws) & \n",
    "                   (gdf['winddirection'] == newwd))\n",
    "    \n",
    "    gdf.loc[add_mask, 'WKTLayer'].apply(lambda wlayer: m.add_layer(wlayer))\n",
    "    \n",
    "def update_wktlayers(gdf, oldws, newws, oldwd, newwd):    \n",
    "    remove_mask = ((gdf['windspeed'] == oldws) & \n",
    "                   (gdf['winddirection'] == oldwd))\n",
    "    add_mask = ((gdf['windspeed'] == newws) & \n",
    "                   (gdf['winddirection'] == newwd))\n",
    "    \n",
    "    gdf.loc[remove_mask, 'WKTLayer'].apply(lambda wlayer: m.remove_layer(wlayer))\n",
    "    gdf.loc[add_mask, 'WKTLayer'].apply(lambda wlayer: m.add_layer(wlayer))\n",
    "    \n",
    "def test_observe(m, gdf, vbox, event):\n",
    "    if event['owner'].description == 'Wind Speed':\n",
    "        oldws = event['old']\n",
    "        newws = event['new']\n",
    "        oldwd = vbox.children[1].value\n",
    "        newwd = vbox.children[1].value\n",
    "    elif event['owner'].description == 'Wind Direction':\n",
    "        oldws = vbox.children[0].value\n",
    "        newws = vbox.children[0].value\n",
    "        oldwd = event['old']\n",
    "        newwd = event['new']\n",
    "        \n",
    "    update_wktlayers(gdf, oldws, newws, oldwd, newwd)\n",
    "    \n",
    "gdf = usr.mainapi.db.gdfsimulation.to_crs(epsg=4326)\n",
    "gdf['WKTLayer'] = gdf.apply(lambda row: WKTLayer(wkt_string = row['geometry'].wkt), axis=1)\n",
    "\n",
    "centerlat = 34.31984085482566\n",
    "centerlon = -119.03909139010659\n",
    "\n",
    "\n",
    "m = Map(\n",
    "    basemap=basemaps.Esri.WorldTopoMap,\n",
    "    center=(centerlat, centerlon),\n",
    "    zoom=10,\n",
    "    layout=Layout(height='700px')\n",
    ")\n",
    "\n",
    "m.add_control(ScaleControl())\n",
    "\n",
    "\n",
    "\n",
    "\n",
    "ws = gdf['windspeed'].unique()\n",
    "wd = gdf['winddirection'].unique()\n",
    "dt = gdf['datetime'].unique()\n",
    "\n",
    "ws_select = SelectionSlider(description='Wind Speed', options=ws)\n",
    "wd_select = SelectionSlider(description='Wind Direction', options=wd)\n",
    "\n",
    "vbox = VBox([ws_select, wd_select])\n",
    "\n",
    "ws_select.observe(partial(test_observe, m, gdf, vbox), names='value')\n",
    "wd_select.observe(partial(test_observe, m, gdf, vbox), names='value')\n",
    "\n",
    "widget_control = WidgetControl(widget = vbox)\n",
    "m.add_control(widget_control)    \n",
    "    \n",
    "initiate_wktlayers(gdf, vbox.children[0].value, vbox.children[1].value)\n",
    "\n",
    "m"
   ]
  },
  {
   "cell_type": "code",
   "execution_count": null,
   "id": "c65808f9",
   "metadata": {},
   "outputs": [],
   "source": [
    "gdf = usr.mainapi.db.gdfsimulation.to_crs(epsg=4326)\n",
    "gdf['WKTLayer'] = gdf.apply(lambda row: WKTLayer(wkt_string = row['geometry'].wkt), axis=1)\n",
    "# gdf['WKTLayer_visibility'] = False\n",
    "\n",
    "centerlon = gdf.iloc[0]['geometry'].centroid.x\n",
    "centerlat = gdf.iloc[0]['geometry'].centroid.y\n",
    "\n",
    "m = Map(\n",
    "    basemap=basemaps.Esri.WorldTopoMap,\n",
    "    center=(centerlat, centerlon),\n",
    "    zoom=10,\n",
    "    layout=Layout(height='700px')\n",
    ")\n",
    "\n",
    "m.add_control(ScaleControl())\n",
    "    \n",
    "\n",
    "\n",
    "m"
   ]
  },
  {
   "cell_type": "code",
   "execution_count": null,
   "id": "08eb1c97",
   "metadata": {},
   "outputs": [],
   "source": [
    "m"
   ]
  },
  {
   "cell_type": "code",
   "execution_count": null,
   "id": "c5637677",
   "metadata": {},
   "outputs": [],
   "source": [
    "\n",
    "# ## Extract the JSON object from the data returned on our GET request\n",
    "\n",
    "# rTemperature = r_json['features'][0]['properties']['temperature']\n",
    "# rTime = r_json['features'][0]['properties']['timestamp']\n",
    "\n",
    "# rTimeMins = []\n",
    "# for i, val in enumerate(rTime):\n",
    "# \trTimeMins.append( (arrow.get(rTime[i]).timestamp - arrow.get(rTime[0]).timestamp) / 60 / 60 )\n",
    "\n",
    "# plt.plot(rTimeMins,rTemperature,'-og',label='Actual')\n",
    "# plt.xlabel(\"time (hours)\")\n",
    "# plt.ylabel(\"temperature (F)\")\n",
    "# minFive = int(min(rTemperature)) - (int(min(rTemperature))%5)\n",
    "# maxFive = (int(max(rTemperature)) +5) - ( (int(max(rTemperature)) +5) % 5 )\n",
    "# plt.yticks(np.arange(minFive, maxFive+1, (maxFive - minFive)/2))\n",
    "# plt.gca().yaxis.grid(True)\n",
    "# title = \"Temperature at Alert Airport, NU\\n(Past 24 Hours)\"\n",
    "# plt.title(title)\n",
    "# plt.show()"
   ]
  },
  {
   "cell_type": "code",
   "execution_count": null,
   "id": "51fb8473",
   "metadata": {},
   "outputs": [],
   "source": [
    "r_json"
   ]
  },
  {
   "cell_type": "markdown",
   "id": "96733afe",
   "metadata": {},
   "source": [
    "### Create Landscape file"
   ]
  },
  {
   "cell_type": "code",
   "execution_count": null,
   "id": "c3433a37",
   "metadata": {},
   "outputs": [],
   "source": [
    "gdf_5070 = usr.mainapi.db.gdfignition.set_crs(epsg=5070)\n",
    "gdf_4326 = gdf_5070.to_crs(epsg=4326)\n",
    "geom_5070 = gdf_5070.iloc[0]['geometry']\n",
    "geom = gdf_4326.iloc[0]['geometry']"
   ]
  },
  {
   "cell_type": "code",
   "execution_count": null,
   "id": "566d3b57",
   "metadata": {},
   "outputs": [],
   "source": [
    "%%time\n",
    "\n",
    "bounds = geom_5070.bounds\n",
    "\n",
    "ulx = bounds[0]-10000\n",
    "uly = bounds[3]+10000\n",
    "lrx = bounds[2]+10000\n",
    "lry=  bounds[1]-10000\n",
    "\n",
    "fname_lst = {'density': 'US_140CBD_12052016/Grid/us_140cbd', \n",
    "             'base': 'US_140CBH_12052016/Grid/us_140cbh', \n",
    "             'cover': 'US_140CC_12052016/Grid/us_140cc', \n",
    "             'height': 'US_140CH_12052016/Grid/us_140ch', \n",
    "             'fuel': 'US_140FBFM40_20180618/Grid/us_140fbfm40', \n",
    "             'aspect': 'Aspect/Grid/us_asp', \n",
    "             'elevation': 'DEM_Elevation/Grid/us_dem', \n",
    "             'slope': 'Slope/Grid/us_slp'}\n",
    "type_lst = {'density': 'cbd',\n",
    "            'base': 'cbh',\n",
    "            'cover': 'cc',\n",
    "            'height': 'ch',\n",
    "            'fuel': 'fuel',   # fbfm40\n",
    "            'aspect': 'aspect',\n",
    "            'elevation': 'elevation', #dem\n",
    "            'slope': 'slope'}\n",
    "\n",
    "from_folder = os.path.join('/data', 'firemap', 'landfire', 'mosaic')\n",
    "to_folder = '/home/tcaglar/farsite/inputs/landscapes/'\n",
    "\n",
    "# Create the asc files\n",
    "ascpath_lst = {}\n",
    "for (key, fname) in fname_lst.items():\n",
    "    ascpath_lst[key] = f'{os.path.join(to_folder, \"test\")}-{key}.asc'\n",
    "    os.system(f'gdal_translate -of AAIGrid -a_nodata -32768 -projwin {ulx} {uly} {lrx} {lry} {os.path.join(from_folder, fname)} {ascpath_lst[key]}')\n",
    "    \n",
    "# # Extra for the tif file\n",
    "# os.system(f'gdal_translate -of GTiff -a_nodata -32768 -projwin {ulx} {uly} {lrx} {lry} {os.path.join(from_folder, fname_lst[\"elevation\"])} {os.path.join(to_folder, \"test\")}-elevation.tif')\n"
   ]
  },
  {
   "cell_type": "code",
   "execution_count": null,
   "id": "b2b47c97",
   "metadata": {},
   "outputs": [],
   "source": [
    "lcppath = f'{os.path.join(to_folder, \"test\")}-maria'\n",
    "# ascpath_lst"
   ]
  },
  {
   "cell_type": "code",
   "execution_count": null,
   "id": "e2f9e6b3",
   "metadata": {},
   "outputs": [],
   "source": [
    "lcpmakepath = '/home/tcaglar/farsite/src/lcpmake'\n",
    "\n",
    "base_command = f'{lcpmakepath} -latitude {m.center[0]} -landscape {lcppath}'\n",
    "run_command = base_command\n",
    "for (key, ascpath) in ascpath_lst.items():\n",
    "    run_command += f' -{key} {ascpath}'\n",
    "    \n",
    "os.system(run_command)"
   ]
  },
  {
   "cell_type": "code",
   "execution_count": null,
   "id": "eadfb40f",
   "metadata": {},
   "outputs": [],
   "source": [
    "ascpath_lst"
   ]
  },
  {
   "cell_type": "code",
   "execution_count": null,
   "id": "5ef9d8f5",
   "metadata": {},
   "outputs": [],
   "source": []
  },
  {
   "cell_type": "code",
   "execution_count": null,
   "id": "7bd3af47",
   "metadata": {},
   "outputs": [],
   "source": []
  },
  {
   "cell_type": "code",
   "execution_count": null,
   "id": "4505f34d",
   "metadata": {},
   "outputs": [],
   "source": []
  },
  {
   "cell_type": "code",
   "execution_count": null,
   "id": "b467284c",
   "metadata": {},
   "outputs": [],
   "source": [
    "m = Map(center = (geom.centroid.y, geom.centroid.x))\n",
    "m.add_layer(WKTLayer(wkt_string = geom.wkt))\n",
    "m"
   ]
  },
  {
   "cell_type": "code",
   "execution_count": null,
   "id": "67540212",
   "metadata": {},
   "outputs": [],
   "source": [
    "def printSomething(text):\n",
    "    print('Inside print')\n",
    "    return text\n",
    "    \n",
    "def callbackFunction(value):\n",
    "    A.append(value)\n",
    "A = []\n",
    "\n",
    "\n",
    "pool = Pool(processes=4)\n",
    "for ix in range(126):\n",
    "    pool.apply_async(partial(printSomething, ix), callback=callbackFunction)\n",
    "pool.close()\n",
    "pool.join()"
   ]
  },
  {
   "cell_type": "code",
   "execution_count": null,
   "id": "ec1a962a",
   "metadata": {},
   "outputs": [],
   "source": [
    "A"
   ]
  },
  {
   "cell_type": "code",
   "execution_count": null,
   "id": "38ab056e",
   "metadata": {},
   "outputs": [],
   "source": [
    "count = 0.0\n",
    "for (runfile, value) in usr.mainapi.runfile_done.items():\n",
    "    count += value\n",
    "\n",
    "usr.mainapi.loading_widget.value = 0"
   ]
  },
  {
   "cell_type": "code",
   "execution_count": null,
   "id": "bcf417c4",
   "metadata": {},
   "outputs": [],
   "source": [
    "usr.mainapi.update_loading()"
   ]
  },
  {
   "cell_type": "code",
   "execution_count": null,
   "id": "61383d6d",
   "metadata": {},
   "outputs": [],
   "source": [
    "usr.mainapi.runfile_done[runfile] = 1"
   ]
  },
  {
   "cell_type": "code",
   "execution_count": null,
   "id": "81ae568c",
   "metadata": {},
   "outputs": [],
   "source": [
    "usr.mainapi.farsite_lst[0].runfile.tofile()"
   ]
  },
  {
   "cell_type": "code",
   "execution_count": null,
   "id": "658f708d",
   "metadata": {},
   "outputs": [],
   "source": [
    "dt = {usr.mainapi.farsite_lst[0].runfile: 'test'}\n",
    "dt[usr.mainapi.farsite_lst[0].runfile]"
   ]
  },
  {
   "cell_type": "code",
   "execution_count": null,
   "id": "eabce511",
   "metadata": {},
   "outputs": [],
   "source": [
    "usr.mainapi.runfile_lst[0].tofile()"
   ]
  },
  {
   "cell_type": "code",
   "execution_count": null,
   "id": "2e65077e",
   "metadata": {},
   "outputs": [],
   "source": [
    "pd.read_pickle('/home/tcaglar/data/test_table.pkl')"
   ]
  },
  {
   "cell_type": "code",
   "execution_count": null,
   "id": "eabcc0cf",
   "metadata": {},
   "outputs": [],
   "source": [
    "usr.UI"
   ]
  },
  {
   "cell_type": "code",
   "execution_count": null,
   "id": "3904e0fc",
   "metadata": {},
   "outputs": [],
   "source": [
    "gdf = gpd.read_file('/mnt/c/Users/tolk1/Dropbox/SDSC/SDGE/data/Lidar/Documents/LiDAR/Distribution/C11/2017_12_11/GIS-Data/C11_Data.gdb/')"
   ]
  },
  {
   "cell_type": "code",
   "execution_count": null,
   "id": "89e6d57b",
   "metadata": {},
   "outputs": [],
   "source": []
  },
  {
   "cell_type": "code",
   "execution_count": null,
   "id": "7d50217c",
   "metadata": {},
   "outputs": [],
   "source": [
    "m = Map(\n",
    "    basemap=basemaps.Esri.WorldTopoMap,\n",
    "    center=(32.7157, -117.1611),\n",
    "    zoom=10,\n",
    "    layout=Layout(height='700px')\n",
    ")\n",
    "\n",
    "m.add_control(ScaleControl())\n",
    "m.add_layer(g)"
   ]
  },
  {
   "cell_type": "code",
   "execution_count": null,
   "id": "4ed4dfdf",
   "metadata": {},
   "outputs": [],
   "source": [
    "usr.db.gdfsimulation"
   ]
  },
  {
   "cell_type": "code",
   "execution_count": null,
   "id": "93c37146",
   "metadata": {},
   "outputs": [],
   "source": [
    "usr.mainapi.farsite_lst[0].runfile.configfile.FARSITE_TIMESTEP"
   ]
  },
  {
   "cell_type": "code",
   "execution_count": null,
   "id": "e503e862",
   "metadata": {},
   "outputs": [],
   "source": [
    "gdf = gpd.read_file(mainapi.farsite_lst[2].runfile.outpath + '_Perimeters.shp')\n",
    "minutes = gdf['Elapsed_Mi'].unique()\n",
    "\n",
    "gdf0 = gdf[gdf['Elapsed_Mi'] == minutes[0]]\n",
    "polygon_lst = [Polygon(value) for value in gdf0['geometry'].values]\n",
    "multipoly = MultiPolygon()\n",
    "for poly in polygon_lst:\n",
    "    multipoly = multipoly.union(poly.buffer(0))\n",
    "    \n",
    "multipoly\n"
   ]
  },
  {
   "cell_type": "code",
   "execution_count": null,
   "id": "7229cd3f",
   "metadata": {},
   "outputs": [],
   "source": [
    "crs = gpd.read_file(mainapi.farsite_lst[0].runfile.outpath + '_Perimeters.shp').crs"
   ]
  },
  {
   "cell_type": "code",
   "execution_count": null,
   "id": "9ce1c90b",
   "metadata": {},
   "outputs": [],
   "source": [
    "geom = gpd.read_file(mainapi.farsite_lst[0].runfile.outpath + '_Perimeters.shp').loc[0, 'geometry']\n",
    "mainapi.db.gdfsimulation.loc['db8ac00b671441fbbd5f86e277f1b0d3', 'igniteidx'] = 'test'\n",
    "gs = gpd.GeoSeries(index=['db8ac00b671441fbbd5f86e277f1b0d3'], data=geom)\n",
    "mainapi.db.gdfsimulation.loc['db8ac00b671441fbbd5f86e277f1b0d3', 'geometry'] = gs"
   ]
  },
  {
   "cell_type": "code",
   "execution_count": null,
   "id": "405e82b7",
   "metadata": {},
   "outputs": [],
   "source": []
  },
  {
   "cell_type": "code",
   "execution_count": null,
   "id": "500bc0d8",
   "metadata": {},
   "outputs": [],
   "source": [
    "gdf = gpd.read_file(mainapi.dftable.iloc[0]['filepath'])\n",
    "gdf.crs"
   ]
  },
  {
   "cell_type": "code",
   "execution_count": null,
   "id": "4b3781f1",
   "metadata": {},
   "outputs": [],
   "source": [
    "gdf['geometry'][0]"
   ]
  },
  {
   "cell_type": "code",
   "execution_count": null,
   "id": "5db72cf0",
   "metadata": {},
   "outputs": [],
   "source": [
    "gdftable = gpd.GeoDataFrame(dftable)\n",
    "gdftable.loc['f23196b034474744bdca7df94b13e0f7', 'geometry'] = gdf['geometry'][0]\n",
    "gdftable"
   ]
  },
  {
   "cell_type": "code",
   "execution_count": null,
   "id": "08d81caa",
   "metadata": {},
   "outputs": [],
   "source": [
    "Exception"
   ]
  },
  {
   "cell_type": "code",
   "execution_count": null,
   "id": "7eb61b6d",
   "metadata": {},
   "outputs": [],
   "source": []
  },
  {
   "cell_type": "code",
   "execution_count": null,
   "id": "a9ce6cca",
   "metadata": {},
   "outputs": [],
   "source": []
  },
  {
   "cell_type": "code",
   "execution_count": null,
   "id": "182743e2",
   "metadata": {},
   "outputs": [],
   "source": [
    "db = Database(fp)"
   ]
  },
  {
   "cell_type": "code",
   "execution_count": null,
   "id": "36b76db6",
   "metadata": {},
   "outputs": [],
   "source": [
    "fpath = mainapi.dftable.loc['3c01d3099b094139873113e19c9f785a', 'filepath']\n",
    "# geoms = gpd.read_file(fpath)['geometry']\n",
    "# for geom in geoms:\n",
    "#     display(geom)\n",
    "#     break\n",
    "    \n",
    "gdf = gpd.read_file(fpath)\n",
    "row = gdf.iloc[0]\n",
    "geom = row['geometry']\n",
    "gdf"
   ]
  },
  {
   "cell_type": "code",
   "execution_count": null,
   "id": "a22544d3",
   "metadata": {},
   "outputs": [],
   "source": [
    "# Setup the database for reading\n",
    "dftable = pd.read_pickle(fp.dfpath)\n",
    "\n",
    "# Collect the tables in dataframe format\n",
    "# Table 1 - ignition\n",
    "\n",
    "\n",
    "\n",
    "# Table 2 - barrier\n",
    "gdfbarrier = gpd.GeoDataFrame(dftable[dftable['filetype'] == 'Barrier'])\n",
    "for (idx, ignition) in gdfbarrier.iterrows():\n",
    "    geom = gpd.read_file(ignition['filepath']).loc[0,'geometry']\n",
    "    gdfbarrier.loc[idx, 'shape'] = geom.to_wkb()\n",
    "\n",
    "gs = gpd.GeoSeries.from_wkb(gdfignition['shape'])\n",
    "gdfbarrier['geometry'] = gs\n",
    "gdfbarrier.drop(columns='shape')\n",
    "\n",
    "# Table 3 - landscape\n",
    "# Table 4 - simulation"
   ]
  },
  {
   "cell_type": "code",
   "execution_count": null,
   "id": "50177dd4",
   "metadata": {},
   "outputs": [],
   "source": [
    "gdfignition.loc['714f0cf8d475462a97c651642a3d2525', 'shape']"
   ]
  },
  {
   "cell_type": "code",
   "execution_count": null,
   "id": "20dbfa2b",
   "metadata": {},
   "outputs": [],
   "source": [
    "# .from_wkb()\n",
    "\n",
    "gdfignition"
   ]
  },
  {
   "cell_type": "markdown",
   "id": "394757e3",
   "metadata": {},
   "source": [
    "### Set the pickle file for maria fire"
   ]
  },
  {
   "cell_type": "code",
   "execution_count": null,
   "id": "9e938d98",
   "metadata": {},
   "outputs": [],
   "source": [
    "# Read measured fire perimeter and convert to EPSG=5070\n",
    "gdf_maria = gpd.read_file('/home/tcaglar/data/maria-wgs84/')\n",
    "\n",
    "# ignition geodataframe\n",
    "gdf_ignition = gdf_maria.to_crs(epsg=5070)\n",
    "# reindex using the objectid\n",
    "gdf_ignition.set_index('objectid', inplace=True)\n",
    "\n",
    "# Remove the objectids 21230 and 21233\n",
    "gdf_ignition.drop(index=[21230, 21233], inplace=True)\n",
    "\n",
    "# Calculate datetime and add to gdf\n",
    "gdf_ignition['datetime'] = pd.to_datetime(gdf_ignition['YYYYMMDD'].astype(str) + ':' + gdf_ignition['24_HHMMSS'], \n",
    "               format='%Y%m%d:%H:%M:%S')"
   ]
  },
  {
   "cell_type": "code",
   "execution_count": null,
   "id": "b5ad31bb",
   "metadata": {},
   "outputs": [],
   "source": [
    "# igniteids = gdf_ignition.index\n",
    "dftable = pd.DataFrame(columns=['filetype', 'objectid', 'filepath', 'datetime'])\n",
    "for (objectid, row) in gdf_ignition.iterrows():\n",
    "    igniteidx = uuid.uuid4().hex\n",
    "    dftable.loc[igniteidx, 'filepath'] = os.path.join('/home/tcaglar/farsite/inputs/maria_ignite','maria_'+str(objectid)+'.shp')\n",
    "    dftable.loc[igniteidx, 'filetype'] = 'Ignition'\n",
    "    dftable.loc[igniteidx, 'objectid'] = objectid\n",
    "    dftable.loc[igniteidx, 'datetime'] = row['datetime']\n",
    "\n",
    "lcpidx = uuid.uuid4().hex\n",
    "dftable.loc[lcpidx, 'filepath'] = '/home/tcaglar/farsite/inputs/landscapes/mariafire.lcp'\n",
    "dftable.loc[lcpidx, 'filetype'] = 'Landscape'\n",
    "\n",
    "barrieridx = uuid.uuid4().hex\n",
    "dftable.loc[barrieridx, 'filepath'] = '/home/tcaglar/farsite/inputs/barriers/NoBarrier/NoBarrier.shp'\n",
    "dftable.loc[barrieridx, 'filetype'] = 'Barrier'\n",
    "\n",
    "# dftable.to_pickle('/home/tcaglar/data/test_table.pkl')\n",
    "dftable = pd.read_pickle('/home/tcaglar/data/test_table.pkl')"
   ]
  },
  {
   "cell_type": "code",
   "execution_count": null,
   "id": "8ada60cd",
   "metadata": {},
   "outputs": [],
   "source": [
    "dftable"
   ]
  }
 ],
 "metadata": {
  "kernelspec": {
   "display_name": "Python 3 (ipykernel)",
   "language": "python",
   "name": "python3"
  },
  "language_info": {
   "codemirror_mode": {
    "name": "ipython",
    "version": 3
   },
   "file_extension": ".py",
   "mimetype": "text/x-python",
   "name": "python",
   "nbconvert_exporter": "python",
   "pygments_lexer": "ipython3",
   "version": "3.9.10"
  }
 },
 "nbformat": 4,
 "nbformat_minor": 5
}
