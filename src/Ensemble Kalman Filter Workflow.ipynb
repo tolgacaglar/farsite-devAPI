{
 "cells": [
  {
   "cell_type": "markdown",
   "id": "de901356-30f4-46aa-895f-f834710f5efa",
   "metadata": {},
   "source": [
    "# Ensemble Kalman Filter Workflow\n",
    "\n",
    "1. Available observation vector for $\\vec{y_{k+1}}$, and calculate the observation ensemble from the directional uncertainties based on the wind speed and direction. To calculate the uncertainty for each point of the perimeter:\n",
    "    1. Obtain the centroid $c_k = 1/M\\sum{y_k}$ where $M$ is the number of points.\n",
    "    2. Calculate vectors $\\vec{v_k^m}$ for each point from the centroid to the point where $m$ is the $m^{th}$ point in the perimeter\n",
    "    3. Obtain the wind speed and direction: $\\vec{u_k}$ from the closest weather station to the centroid\n",
    "    4. Uncertainty for each point $m$ is then $e_k^m = \\alpha \\left(1 - \\vec{v_k^m} \\cdot \\vec{u_k}\\right)$\n",
    "\n",
    "2. Given a state vector $x_k$ and uncertainties around each point $P_k$, generate an ensemble \n",
    "$$X_k = (x_k^1, x_k^2, \\cdots , x_k^N)$$\n",
    "    1. For the first timepoint $k=0$, the state vector is the first observation $(x_0 = y_0)$, and the ensemble is obtained from directional uncertainties assigned based on the wind speed and direction\n",
    "    2. **Question:** When creating the ensemble, do we preserve the mean $\\overline{x_k}$?\n",
    "    \n",
    "3. From the ensemble $X_k$, advance for each state vector $X_{k+1} = F(X_k, u_k)$, where $u_k$ \n",
    "\n",
    "4. "
   ]
  },
  {
   "cell_type": "markdown",
   "id": "a4b5f10a-ee62-4ba4-aac3-0fe305e1bc0f",
   "metadata": {},
   "source": [
    "## Dependencies:"
   ]
  },
  {
   "cell_type": "code",
   "execution_count": 1,
   "id": "145b1582-6a79-497f-a6d3-6838d655a74b",
   "metadata": {},
   "outputs": [],
   "source": [
    "import sys\n",
    "sys.path.append('/home/jovyan/farsite-devAPI/src/')\n",
    "sys.path.append('/home/jovyan/python-helper/src/')\n",
    "\n",
    "import geopandas as gpd\n",
    "import pandas as pd\n",
    "import numpy as np\n",
    "\n",
    "from shapely.geometry import MultiPolygon, Polygon\n",
    "\n",
    "import uuid\n",
    "import random\n",
    "\n",
    "import farsiteutils_v2 as futils\n",
    "from kalmanutils import calculate_uncertainties_observed, interpolate_perimeter\n",
    "\n",
    "from loggers import TimeEstimator\n",
    "\n",
    "from matplotlib import pyplot as plt"
   ]
  },
  {
   "cell_type": "markdown",
   "id": "5ac1bb62-56d4-4c93-aa7d-544952e3ab6f",
   "metadata": {},
   "source": [
    "## Default Values"
   ]
  },
  {
   "cell_type": "code",
   "execution_count": 2,
   "id": "323345e2-6444-499f-87e2-c9bf65ae7a61",
   "metadata": {},
   "outputs": [],
   "source": [
    "SELECTED_FIRE_DEFAULT = 'Maria2019'\n",
    "DATA_PATH = '/home/jovyan/data/'    # Folder to keep all the data while running the simulations"
   ]
  },
  {
   "cell_type": "markdown",
   "id": "39840580-19e1-468d-85d2-bb17a1b28a29",
   "metadata": {},
   "source": [
    "## Select a fire\n",
    "\n",
    "```selected_fire``` variable holds the name of the fire selected. ```selected_fire = 'Maria2019'``` for now"
   ]
  },
  {
   "cell_type": "code",
   "execution_count": 3,
   "id": "d3fee504-e3de-4596-9983-2851ed3ed383",
   "metadata": {},
   "outputs": [
    {
     "name": "stdout",
     "output_type": "stream",
     "text": [
      "Database interaction not yet implemented. Use pickle file for dataframes instead!\n",
      "Available fires are ['Maria2019' 'River2021' 'Bridge2021']\n",
      "Maria2019 is selected.\n",
      "\n",
      "Maria2019 is found!\n"
     ]
    }
   ],
   "source": [
    "fp = futils.FilePaths(DATA_PATH)\n",
    "usr = futils.User(fp)\n",
    "\n",
    "unique_desc = usr.db.gdfignitionAll['description'].unique()\n",
    "print(f'Available fires are {unique_desc}')\n",
    "\n",
    "selected_fire = 'Maria2019'\n",
    "print(f'{selected_fire} is selected.\\n')\n",
    "if (unique_desc == selected_fire).any():\n",
    "    print(f'{selected_fire} is found!')\n",
    "else:\n",
    "    raise ValueError(f'{selected_fire} not found in possible fire descriptions: {unique_desc}')"
   ]
  },
  {
   "cell_type": "code",
   "execution_count": 4,
   "id": "12c82488-5539-48f6-ac4b-b060e27939b0",
   "metadata": {},
   "outputs": [],
   "source": [
    "from shapely.geometry import MultiPolygon, Polygon\n",
    "import numpy as np\n",
    "\n",
    "class State:\n",
    "    def __init__(self, geom):\n",
    "        self.geom = geom\n",
    "        \n",
    "        # Initialize\n",
    "        self.vertices = self.calculate_vertices()\n",
    "        self.lengths = self.calculate_lengths()\n",
    "    def calculate_vertices(self):\n",
    "        geom = self.geom\n",
    "        if isinstance(geom, MultiPolygon):\n",
    "            geompoly = geom.geoms[0]\n",
    "        elif isinstance(geom, Polygon):\n",
    "            geompoly = geom\n",
    "\n",
    "        return np.array((geompoly.exterior.coords))\n",
    "    \n",
    "    def calculate_lengths(self):\n",
    "        return np.sqrt((np.diff(self.vertices, axis=0)**2).sum(axis=1))\n",
    "    \n",
    "    def calculate_vector(self):\n",
    "        # Returns column vector of the vertices (x0, y0, x1, y1, ...)\n",
    "        return self.vertices.reshape(len(self.vertices)*2, 1)\n",
    "    \n",
    "    "
   ]
  },
  {
   "cell_type": "code",
   "execution_count": 5,
   "id": "77824d0b-3a36-41bb-ae72-546268cf028e",
   "metadata": {},
   "outputs": [],
   "source": [
    "def sample_geometry(current_state, uncertainties):\n",
    "    \n",
    "    maxlength = current_state.lengths.max()\n",
    "    \n",
    "    sampled_vertices = []\n",
    "    \n",
    "    # Choose a random direction\n",
    "    theta = random.uniform(0,2*np.pi)\n",
    "\n",
    "    for (x,y), sigma in zip(current_state.vertices, uncertainties):\n",
    "        mu=0\n",
    "        # randx = random.gauss(mu, sigma)\n",
    "        # randy = random.gauss(mu, sigma)\n",
    "        \n",
    "        # Choose a normal random radius based on the given sigma\n",
    "        radius = abs(random.gauss(mu, sigma))\n",
    "        \n",
    "        # Calculate x and y distance for the random\n",
    "        randx = radius*np.cos(theta)\n",
    "        randy = radius*np.sin(theta)\n",
    "        \n",
    "        sampled_vertices.append((x+randx, y+randy))\n",
    "\n",
    "    sampled_vertices = np.array(sampled_vertices)\n",
    "    # return Polygon(sampled_vertices).buffer(maxlength, join_style=1).buffer(-maxlength, join_style=1)\n",
    "    return Polygon(sampled_vertices)\n",
    "\n",
    "\n",
    "def interpolate_geometries(geoms, vertex_count = None):\n",
    "    \n",
    "    if vertex_count == None:\n",
    "        vertex_count = 0\n",
    "        for geom in geoms:\n",
    "            if isinstance(geom, MultiPolygon):\n",
    "                geom = geom.geoms[0]\n",
    "\n",
    "            if vertex_count < len(geom.exterior.coords):\n",
    "                vertex_count = len(geom.exterior.coords)\n",
    "\n",
    "    interpolated_vertices = []\n",
    "    for geom in geoms:\n",
    "        if isinstance(geom, MultiPolygon):\n",
    "            geom = geom.geoms[0]\n",
    "        \n",
    "        geom_state = State(geom)\n",
    "        vertices = np.array(interpolate_perimeter(geom_state.calculate_vertices(), vertex_count))\n",
    "\n",
    "        interpolated_vertices.append(vertices)\n",
    "        \n",
    "    return interpolated_vertices\n",
    "\n",
    "\n",
    "def align_vertices(interpolated_vertices):\n",
    "\n",
    "    time_estimator = TimeEstimator(len(interpolated_vertices)-1)\n",
    "\n",
    "    minroll_lst = []\n",
    "    \n",
    "    aligned_vertices = [interpolated_vertices[0]]\n",
    "    for i in range(len(interpolated_vertices)-1):\n",
    "        print(time_estimator.info_str(i), end='\\r', flush=True)\n",
    "\n",
    "        right_vertices = interpolated_vertices[i+1]\n",
    "\n",
    "\n",
    "        # Cycle right_vertices\n",
    "        l2perroll = []\n",
    "        for roll in range(len(interpolated_vertices)-1):\n",
    "            diff = aligned_vertices[0] - right_vertices\n",
    "            diff2sum = (diff[:,0]**2 + diff[:,1]**2).sum()\n",
    "\n",
    "            # Calculate diff^2 in\n",
    "            l2perroll.append(diff2sum)\n",
    "\n",
    "            right_vertices = np.roll(right_vertices,1, axis=0)\n",
    "\n",
    "        minroll_lst.append(np.argmin(l2perroll))\n",
    "\n",
    "    for i in range(len(interpolated_vertices)-1):\n",
    "        aligned_vertices.append(np.roll(interpolated_vertices[i+1], minroll_lst[i], axis=0))\n",
    "    \n",
    "    return aligned_vertices\n",
    "## Check reverse direction too?\n",
    "\n",
    "def create_ensembles(nsamples, current_state, windspeed, winddirection, filetype, objectid, datetime, description):\n",
    "                     \n",
    "    # uncertainty in both x and y for each vertex\n",
    "    uncertainties = calculate_uncertainties_observed(current_state.vertices, windspeed, winddirection, scale=windspeed)*np.sqrt(current_state.lengths.sum())\n",
    "\n",
    "\n",
    "    ignitions = {'igniteidx': [], \n",
    "                 'filetype': [],\n",
    "                 'objectid': [],\n",
    "                 'filepath': [],\n",
    "                 'datetime': [],\n",
    "                 'description': [],\n",
    "                 'geometry': []}\n",
    "\n",
    "    time_estimator = TimeEstimator(nsamples)\n",
    "    for sample in range(nsamples):\n",
    "        print(time_estimator.info_str(sample), end='\\r', flush=True)\n",
    "\n",
    "        ignitions['igniteidx'].append(uuid.uuid4().hex)\n",
    "        ignitions['filetype'].append(filetype)\n",
    "        ignitions['objectid'].append(f'{objectid}E{sample:04d}')\n",
    "\n",
    "        geometry = sample_geometry(current_state, uncertainties)\n",
    "        if isinstance(geometry, MultiPolygon):\n",
    "            max_area = 0\n",
    "            max_area_idx = 0\n",
    "            for ix, geom in enumerate(geometry.geoms):\n",
    "                if geom.area > max_area:\n",
    "                    max_area = geom.area\n",
    "                    max_area_idx = ix\n",
    "            geometry = geometry.geoms[max_area_idx]\n",
    "\n",
    "        ignitions['geometry'].append(geometry)\n",
    "\n",
    "        ignitions['filepath'].append(f'{usr.db.fp.datadir}ignitions/{selected_fire}E{sample:04d}.shp')\n",
    "        gpd.GeoDataFrame({'FID': [0], 'geometry': ignitions['geometry'][-1]}, \n",
    "                         crs='EPSG:5070').to_file(ignitions['filepath'][-1])\n",
    "\n",
    "        ignitions['datetime'].append(datetime)\n",
    "        ignitions['description'].append(description)\n",
    "        \n",
    "    return ignitions\n",
    "\n",
    "\n",
    "def create_ensemble_matrix(geoms, vertex_count=None, aligned_geom=None):\n",
    "\n",
    "    interpolated_vertices = interpolate_geometries(geoms, vertex_count=vertex_count)\n",
    "    # Add first list of vertices from the state vector to align. align_vertices aligns all the perimeters w.r.t the first array\n",
    "    if aligned_geom is not None:\n",
    "        interpolated_vertices = [aligned_geom] + interpolated_vertices\n",
    "\n",
    "    aligned_vertices = align_vertices(interpolated_vertices)\n",
    "    if aligned_geom is not None:\n",
    "        aligned_vertices = aligned_vertices[1:]\n",
    "    else:\n",
    "        aligned_geom = aligned_vertices[0]\n",
    "    \n",
    "    if vertex_count is None:\n",
    "        vertex_count = aligned_vertices[0].shape[0]\n",
    "    \n",
    "    X = np.zeros((vertex_count*2, nsamples))\n",
    "    for i, vertices in enumerate(aligned_vertices):\n",
    "        X[:,i] = vertices.flatten()\n",
    "        \n",
    "    return X, aligned_geom, vertex_count\n",
    "\n",
    "\n",
    "def state_to_ignitions(X_0, objectid_lst, datetime_lst, description_lst, filetype_lst, usr):\n",
    "\n",
    "    geoms = [Polygon(zip(X_0[::2,i], X_0[1::2,i])).buffer(0) for i in range(X_0.shape[1])]\n",
    "\n",
    "    ignitions = {'igniteidx': [],\n",
    "                 'filetype': [],\n",
    "                 'objectid': [],\n",
    "                 'filepath': [],\n",
    "                 'geometry': [],\n",
    "                 'datetime': [],\n",
    "                 'description': []}\n",
    "\n",
    "    for sample, geometry in enumerate(geoms):\n",
    "        filetype = filetype_lst[sample]\n",
    "        datetime = datetime_lst[sample]\n",
    "        description = description_lst[sample]\n",
    "        objectid = objectid_lst[sample]\n",
    "        \n",
    "        \n",
    "        ignitions['igniteidx'].append(uuid.uuid4().hex)\n",
    "        ignitions['filetype'].append(filetype)\n",
    "        ignitions['objectid'].append(f'{objectid}U{sample:04d}')\n",
    "\n",
    "        if isinstance(geometry, MultiPolygon):\n",
    "            max_area = 0\n",
    "            max_area_idx = 0\n",
    "            for ix, geom in enumerate(geometry.geoms):\n",
    "                if geom.area > max_area:\n",
    "                    max_area = geom.area\n",
    "                    max_area_idx = ix\n",
    "            geometry = geometry.geoms[max_area_idx]\n",
    "\n",
    "        ignitions['geometry'].append(geometry)\n",
    "\n",
    "        ignitions['filepath'].append(f'{usr.db.fp.datadir}ignitions/{description}U{sample:04d}.shp')\n",
    "        gpd.GeoDataFrame({'FID': [0], 'geometry': ignitions['geometry'][-1]}, \n",
    "                         crs='EPSG:5070').to_file(ignitions['filepath'][-1])\n",
    "\n",
    "        ignitions['datetime'].append(datetime)\n",
    "        ignitions['description'].append(description)\n",
    "    \n",
    "    return ignitions"
   ]
  },
  {
   "cell_type": "markdown",
   "id": "5d3f538e-2e16-4561-baab-2d18133bc96b",
   "metadata": {},
   "source": [
    "### Plotting functions"
   ]
  },
  {
   "cell_type": "code",
   "execution_count": 6,
   "id": "31a0ee5d-c9bd-42da-ba45-6ed47237b2dc",
   "metadata": {},
   "outputs": [],
   "source": [
    "def compare_perimeters(alst, colors='rgbcmyk', showvertex = 0):\n",
    "    fig, ax = plt.subplots(1,1, figsize=(4,2), dpi=200)\n",
    "    \n",
    "    for a,c in zip(alst, colors):\n",
    "        if c == 'r':\n",
    "            ax.plot(a[::2], a[1::2], c+'o', markersize=1)\n",
    "        else:\n",
    "            ax.plot(a[::2], a[1::2], c)\n",
    "            \n",
    "        ax.scatter(a[2*showvertex], a[2*showvertex + 1], facecolor=(0,0,0,0.2), edgecolor=(0,0,0,0.9))\n",
    "        \n",
    "    ax.set_ylim(1.502e6, 1.506e6)\n",
    "    ax.set_xlim(-2.087e6, -2.081e6)\n",
    "    \n",
    "def compare_matrices(X, colors='rgbcmy', showvertex = 0, ax=None):\n",
    "    \n",
    "    if ax is None:\n",
    "        fig, ax = plt.subplots(1,1, figsize=(4,2), dpi=200)\n",
    "    \n",
    "    for i in range(X.shape[1]):\n",
    "        c = colors[i%len(colors)]\n",
    "        ax.plot(X[::2,i], X[1::2,i], c)\n",
    "        ax.scatter(X[2*showvertex,i], X[2*showvertex+1,i], facecolor=(0,0,0,0.2), edgecolor=(0,0,0,0.9))\n",
    "        \n",
    "    # ax.set_ylim(1.502e6, 1.506e6)\n",
    "    # ax.set_xlim(-2.087e6, -2.081e6)\n",
    "    \n",
    "    return ax\n",
    "    "
   ]
  },
  {
   "cell_type": "code",
   "execution_count": 7,
   "id": "75b602a3-a491-4c35-8975-6e38df5648c7",
   "metadata": {},
   "outputs": [],
   "source": [
    "class EnKF:\n",
    "    # Initialize with the first observation\n",
    "    # Windspeed and direction is given from PyLaski\n",
    "    def __init__(self, observation: gpd.GeoSeries, windspeed: int, winddirection: int, nsamples: int, usr: futils.User):\n",
    "        state_geom = gpd.read_file(observation['filepath'])['geometry'].set_crs(epsg=5070).iloc[0]\n",
    "        \n",
    "        \n",
    "        self.state_datetime = observation['datetime']\n",
    "        self.selected_fire = observation['description']\n",
    "        self.igniteidx = observation.name\n",
    "        self.current_state = State(state_geom)\n",
    "        \n",
    "        \n",
    "        self.windspeed = windspeed\n",
    "        self.winddirection = winddirection\n",
    "        self.nsamples = nsamples\n",
    "        self.usr = usr\n",
    "\n",
    "        self.ignitions = create_ensembles(self.nsamples, self.current_state, self.windspeed, self.winddirection, \n",
    "                                     observation['filetype'], observation['objectid'],\n",
    "                                     observation['datetime'], observation['description'])\n",
    "        \n",
    "        self.usr.db.gdfignition = self.usr.db.gdfignition.append(gpd.GeoDataFrame(self.ignitions).set_index('igniteidx').set_crs(epsg=5070))\n",
    "        \n",
    "        # Create ensemble matrix\n",
    "        self.X_0, self.aligned_geom, self.vertex_count = create_ensemble_matrix(self.ignitions['geometry'])\n",
    "        \n",
    "    # Updates the state matrix\n",
    "    # Need to first add the observation into the database (usr.db for now)\n",
    "    def update(self, compareidx: str, lcpidx: str, barrieridx: str, observation: gpd.GeoSeries, windspeed: int, winddirection: int):\n",
    "        # Advance the state in Farsite using the windspeed and direction\n",
    "        inputData_lst = []\n",
    "        mainapi_lst = []\n",
    "        for igniteidx in self.ignitions['igniteidx']:\n",
    "            inputData = {'description': self.selected_fire,\n",
    "                         'igniteidx'  : igniteidx,\n",
    "                         'compareidx' : compareidx,\n",
    "                         'lcpidx'     : lcpidx,\n",
    "                         'barrieridx' : barrieridx,\n",
    "\n",
    "                         'windspeed': self.windspeed, 'winddirection': self.winddirection,\n",
    "                         'relhumid': 90, 'temperature': 20}\n",
    "\n",
    "            mainapi_lst.append(usr.calculatePerimeters(inputData))\n",
    "            \n",
    "\n",
    "        # from multiprocessing import Pool\n",
    "\n",
    "        # numproc = 4\n",
    "        # pool = Pool(processes=numproc)\n",
    "\n",
    "        # Run for each FarsiteManual\n",
    "        for mainapi in mainapi_lst:\n",
    "            # pool.apply_async(farsite.run_command, callback=farsite.updatedb)\n",
    "            mainapi.run_farsite()\n",
    "\n",
    "        # pool.close()\n",
    "        # pool.join()\n",
    "        \n",
    "        # Filter igniteidx->compareidx simulations only\n",
    "        df = self.usr.db.gdfsimulation\n",
    "        filtered_indices = df[df['igniteidx'].isin(self.ignitions['igniteidx']) & (df['compareidx'] == compareidx)].index\n",
    "        \n",
    "        self.Xt_1, self.aligned_geom, self.vertex_count = create_ensemble_matrix(df.loc[filtered_indices, 'geometry'], \n",
    "                                                                                 self.vertex_count, self.aligned_geom)\n",
    "        \n",
    "        \n",
    "        \n",
    "        # Calculate ensemble for the observation\n",
    "        state_geom = gpd.read_file(observation['filepath'])['geometry'].set_crs(epsg=5070).iloc[0]\n",
    "        igniteidx = observation.name\n",
    "        state_datetime = observation['datetime']\n",
    "\n",
    "        self.observed_state = State(state_geom)\n",
    "\n",
    "        self.observed_ensemble = create_ensembles(self.nsamples, self.observed_state, windspeed, winddirection, \n",
    "                                     observation['filetype'], observation['objectid'],\n",
    "                                     observation['datetime'], observation['description'])\n",
    "\n",
    "        self.Y_1, self.aligned_geom, self.vertex_count = create_ensemble_matrix(self.observed_ensemble['geometry'], self.vertex_count, self.aligned_geom)\n",
    "        \n",
    "        ##############################\n",
    "        # Calculate the Kalman Filter\n",
    "        ###############################\n",
    "        neighbor_count = 0\n",
    "        invert = False\n",
    "        normed = False\n",
    "\n",
    "        xt_1 = self.Xt_1.mean(axis=1, keepdims=True)\n",
    "        y_1 = self.Y_1.mean(axis=1, keepdims=True)\n",
    "\n",
    "        Ex_1 = self.Xt_1 - xt_1.repeat(self.nsamples, axis=1)\n",
    "        Ey_1 = self.Y_1 - y_1.repeat(self.nsamples, axis=1)\n",
    "\n",
    "\n",
    "        connectivity = np.eye(2*self.vertex_count, k=0)\n",
    "        for i in range(neighbor_count):\n",
    "            connectivity += np.eye(2*self.vertex_count, k=2*(i+1)) + np.eye(2*self.vertex_count, k=-2*(i+1))\n",
    "\n",
    "\n",
    "        Py_1 = 1/(nsamples-1)*np.matmul(Ey_1, Ey_1.T)*connectivity\n",
    "        Pxy_1 = 1/(nsamples-1)*np.matmul(Ex_1, Ey_1.T)*connectivity\n",
    "\n",
    "        if normed:\n",
    "            max_Py = abs(Py_1).max()\n",
    "            max_Pxy = abs(Pxy_1).max()\n",
    "\n",
    "            Py_1 /= max_Py\n",
    "            Pxy_1 /= max_Pxy\n",
    "        \n",
    "        if invert:\n",
    "            Py_1inv = np.linalg.pinv(Py_1, hermitian=True)\n",
    "        else:\n",
    "            Py_1inv = np.zeros_like(Py_1)\n",
    "            np.fill_diagonal(Py_1inv, 1/Py_1.diagonal())\n",
    "\n",
    "        assert(np.allclose(np.matmul(Py_1inv, Py_1), np.eye(2*self.vertex_count))), 'Inverse calculation is incorrect'\n",
    "\n",
    "        self.K = np.matmul(Pxy_1, Py_1inv)\n",
    "        \n",
    "        #### Update the state ensemble\n",
    "        self.X_1 = self.Xt_1 + np.matmul(self.K, (self.Y_1 - self.Xt_1))\n",
    "        \n",
    "        ####################\n",
    "        # Recursive updates\n",
    "        ##################\n",
    "        \n",
    "        # Update ignitions\n",
    "        self.X_0 = self.X_1\n",
    "        self.ignitions = state_to_ignitions(self.X_0, self.observed_ensemble['objectid'], self.observed_ensemble['datetime'], \n",
    "                           self.observed_ensemble['description'], self.observed_ensemble['filetype'], self.usr)\n",
    "        \n",
    "        self.current_state = self.observed_state\n",
    "        \n",
    "        \n",
    "        self.usr.db.gdfignition = pd.concat([self.usr.db.gdfignition, gpd.GeoDataFrame(self.ignitions, geometry='geometry', crs='EPSG:5070').set_index('igniteidx')])\n",
    "        \n",
    "        # x_1 = X_1.mean(axis=1, keepdims=True)\n",
    "        \n",
    "# ## obtain the igniteidx of the ignition\n",
    "# ## The indices will be passed from the interface, which will include corresponding datetime, filepath etc.\n",
    "# compareidx = '9f82e870591748a9a8a01346d174f2a1'    # t=1 observation\n",
    "# lcpidx = '43b7f5db36994599861eec4849cc68fd'        # Index for Maria2019\n",
    "# barrieridx = 'cb47616cd2dc4ccc8fd523bd3a5064bb'    # NoBarrier shapefile index        "
   ]
  },
  {
   "cell_type": "code",
   "execution_count": 8,
   "id": "fdbdc110-72d4-4274-9dd2-7e8f37b6b89a",
   "metadata": {},
   "outputs": [
    {
     "name": "stdout",
     "output_type": "stream",
     "text": [
      "Calculating 26/99 ( 26.26%) - Remaining - 0:0:0...    \r"
     ]
    },
    {
     "name": "stderr",
     "output_type": "stream",
     "text": [
      "/tmp/ipykernel_12779/2103266057.py:23: FutureWarning: The frame.append method is deprecated and will be removed from pandas in a future version. Use pandas.concat instead.\n",
      "  self.usr.db.gdfignition = self.usr.db.gdfignition.append(gpd.GeoDataFrame(self.ignitions).set_index('igniteidx').set_crs(epsg=5070))\n"
     ]
    },
    {
     "name": "stdout",
     "output_type": "stream",
     "text": [
      "Calculating 98/99 ( 98.99%) - Remaining - 0:0:0...   \r"
     ]
    }
   ],
   "source": [
    "initial = usr.db.gdfignition.iloc[0]\n",
    "windspeed = 10\n",
    "winddirection = 90\n",
    "nsamples = 100\n",
    "\n",
    "state = EnKF(initial, windspeed, winddirection, nsamples, usr)\n",
    "X_0_lst = [state.X_0]"
   ]
  },
  {
   "cell_type": "code",
   "execution_count": 9,
   "id": "59e3b505-6420-4988-ac10-fd8807019839",
   "metadata": {},
   "outputs": [
    {
     "data": {
      "text/html": [
       "<div>\n",
       "<style scoped>\n",
       "    .dataframe tbody tr th:only-of-type {\n",
       "        vertical-align: middle;\n",
       "    }\n",
       "\n",
       "    .dataframe tbody tr th {\n",
       "        vertical-align: top;\n",
       "    }\n",
       "\n",
       "    .dataframe thead th {\n",
       "        text-align: right;\n",
       "    }\n",
       "</style>\n",
       "<table border=\"1\" class=\"dataframe\">\n",
       "  <thead>\n",
       "    <tr style=\"text-align: right;\">\n",
       "      <th></th>\n",
       "      <th>filetype</th>\n",
       "      <th>objectid</th>\n",
       "      <th>filepath</th>\n",
       "      <th>datetime</th>\n",
       "      <th>description</th>\n",
       "      <th>geometry</th>\n",
       "    </tr>\n",
       "  </thead>\n",
       "  <tbody>\n",
       "    <tr>\n",
       "      <th>f23196b034474744bdca7df94b13e0f7</th>\n",
       "      <td>Ignition</td>\n",
       "      <td>21231</td>\n",
       "      <td>/home/jovyan/farsite/inputs/maria_ignite/maria...</td>\n",
       "      <td>2019-10-31 19:37:11</td>\n",
       "      <td>Maria2019</td>\n",
       "      <td>POLYGON ((-2084217.148 1503560.461, -2084279.5...</td>\n",
       "    </tr>\n",
       "    <tr>\n",
       "      <th>9f82e870591748a9a8a01346d174f2a1</th>\n",
       "      <td>Ignition</td>\n",
       "      <td>21232</td>\n",
       "      <td>/home/jovyan/farsite/inputs/maria_ignite/maria...</td>\n",
       "      <td>2019-10-31 19:58:22</td>\n",
       "      <td>Maria2019</td>\n",
       "      <td>POLYGON ((-2082034.494 1504548.520, -2081987.6...</td>\n",
       "    </tr>\n",
       "    <tr>\n",
       "      <th>1a6eb30ee33742e18fa6bb26678b5077</th>\n",
       "      <td>Ignition</td>\n",
       "      <td>21234</td>\n",
       "      <td>/home/jovyan/farsite/inputs/maria_ignite/maria...</td>\n",
       "      <td>2019-10-31 20:31:33</td>\n",
       "      <td>Maria2019</td>\n",
       "      <td>POLYGON ((-2082034.494 1504548.520, -2081987.6...</td>\n",
       "    </tr>\n",
       "    <tr>\n",
       "      <th>911f9b001c054b74a6ba70958f5f3c93</th>\n",
       "      <td>Ignition</td>\n",
       "      <td>21235</td>\n",
       "      <td>/home/jovyan/farsite/inputs/maria_ignite/maria...</td>\n",
       "      <td>2019-10-31 20:56:44</td>\n",
       "      <td>Maria2019</td>\n",
       "      <td>POLYGON ((-2082396.219 1505343.939, -2082305.7...</td>\n",
       "    </tr>\n",
       "    <tr>\n",
       "      <th>7957c2e604554199ba60c5b13aff2f40</th>\n",
       "      <td>Ignition</td>\n",
       "      <td>21236</td>\n",
       "      <td>/home/jovyan/farsite/inputs/maria_ignite/maria...</td>\n",
       "      <td>2019-10-31 21:22:55</td>\n",
       "      <td>Maria2019</td>\n",
       "      <td>POLYGON ((-2082598.331 1505371.327, -2082338.5...</td>\n",
       "    </tr>\n",
       "    <tr>\n",
       "      <th>...</th>\n",
       "      <td>...</td>\n",
       "      <td>...</td>\n",
       "      <td>...</td>\n",
       "      <td>...</td>\n",
       "      <td>...</td>\n",
       "      <td>...</td>\n",
       "    </tr>\n",
       "    <tr>\n",
       "      <th>1ac798a3159b4092ade1c9b5f9677160</th>\n",
       "      <td>Ignition</td>\n",
       "      <td>21231E0095</td>\n",
       "      <td>/home/jovyan/data/ignitions/Maria2019E0095.shp</td>\n",
       "      <td>2019-10-31 19:37:11</td>\n",
       "      <td>Maria2019</td>\n",
       "      <td>POLYGON ((-2084071.794 1503549.108, -2084263.1...</td>\n",
       "    </tr>\n",
       "    <tr>\n",
       "      <th>5a51257a0435478f8c636ad82f518ff0</th>\n",
       "      <td>Ignition</td>\n",
       "      <td>21231E0096</td>\n",
       "      <td>/home/jovyan/data/ignitions/Maria2019E0096.shp</td>\n",
       "      <td>2019-10-31 19:37:11</td>\n",
       "      <td>Maria2019</td>\n",
       "      <td>POLYGON ((-2084263.617 1503607.701, -2084375.5...</td>\n",
       "    </tr>\n",
       "    <tr>\n",
       "      <th>691815b4f4a64d61a47f4aa11ac89b2a</th>\n",
       "      <td>Ignition</td>\n",
       "      <td>21231E0097</td>\n",
       "      <td>/home/jovyan/data/ignitions/Maria2019E0097.shp</td>\n",
       "      <td>2019-10-31 19:37:11</td>\n",
       "      <td>Maria2019</td>\n",
       "      <td>POLYGON ((-2084121.084 1503611.830, -2083911.6...</td>\n",
       "    </tr>\n",
       "    <tr>\n",
       "      <th>9936a4f648784317b0473d3e47be02f0</th>\n",
       "      <td>Ignition</td>\n",
       "      <td>21231E0098</td>\n",
       "      <td>/home/jovyan/data/ignitions/Maria2019E0098.shp</td>\n",
       "      <td>2019-10-31 19:37:11</td>\n",
       "      <td>Maria2019</td>\n",
       "      <td>POLYGON ((-2084249.542 1503665.107, -2084329.3...</td>\n",
       "    </tr>\n",
       "    <tr>\n",
       "      <th>b21fe09c809b40569276031875875b14</th>\n",
       "      <td>Ignition</td>\n",
       "      <td>21231E0099</td>\n",
       "      <td>/home/jovyan/data/ignitions/Maria2019E0099.shp</td>\n",
       "      <td>2019-10-31 19:37:11</td>\n",
       "      <td>Maria2019</td>\n",
       "      <td>POLYGON ((-2084208.812 1503680.073, -2084250.8...</td>\n",
       "    </tr>\n",
       "  </tbody>\n",
       "</table>\n",
       "<p>120 rows × 6 columns</p>\n",
       "</div>"
      ],
      "text/plain": [
       "                                  filetype    objectid  \\\n",
       "f23196b034474744bdca7df94b13e0f7  Ignition       21231   \n",
       "9f82e870591748a9a8a01346d174f2a1  Ignition       21232   \n",
       "1a6eb30ee33742e18fa6bb26678b5077  Ignition       21234   \n",
       "911f9b001c054b74a6ba70958f5f3c93  Ignition       21235   \n",
       "7957c2e604554199ba60c5b13aff2f40  Ignition       21236   \n",
       "...                                    ...         ...   \n",
       "1ac798a3159b4092ade1c9b5f9677160  Ignition  21231E0095   \n",
       "5a51257a0435478f8c636ad82f518ff0  Ignition  21231E0096   \n",
       "691815b4f4a64d61a47f4aa11ac89b2a  Ignition  21231E0097   \n",
       "9936a4f648784317b0473d3e47be02f0  Ignition  21231E0098   \n",
       "b21fe09c809b40569276031875875b14  Ignition  21231E0099   \n",
       "\n",
       "                                                                           filepath  \\\n",
       "f23196b034474744bdca7df94b13e0f7  /home/jovyan/farsite/inputs/maria_ignite/maria...   \n",
       "9f82e870591748a9a8a01346d174f2a1  /home/jovyan/farsite/inputs/maria_ignite/maria...   \n",
       "1a6eb30ee33742e18fa6bb26678b5077  /home/jovyan/farsite/inputs/maria_ignite/maria...   \n",
       "911f9b001c054b74a6ba70958f5f3c93  /home/jovyan/farsite/inputs/maria_ignite/maria...   \n",
       "7957c2e604554199ba60c5b13aff2f40  /home/jovyan/farsite/inputs/maria_ignite/maria...   \n",
       "...                                                                             ...   \n",
       "1ac798a3159b4092ade1c9b5f9677160     /home/jovyan/data/ignitions/Maria2019E0095.shp   \n",
       "5a51257a0435478f8c636ad82f518ff0     /home/jovyan/data/ignitions/Maria2019E0096.shp   \n",
       "691815b4f4a64d61a47f4aa11ac89b2a     /home/jovyan/data/ignitions/Maria2019E0097.shp   \n",
       "9936a4f648784317b0473d3e47be02f0     /home/jovyan/data/ignitions/Maria2019E0098.shp   \n",
       "b21fe09c809b40569276031875875b14     /home/jovyan/data/ignitions/Maria2019E0099.shp   \n",
       "\n",
       "                                             datetime description  \\\n",
       "f23196b034474744bdca7df94b13e0f7  2019-10-31 19:37:11   Maria2019   \n",
       "9f82e870591748a9a8a01346d174f2a1  2019-10-31 19:58:22   Maria2019   \n",
       "1a6eb30ee33742e18fa6bb26678b5077  2019-10-31 20:31:33   Maria2019   \n",
       "911f9b001c054b74a6ba70958f5f3c93  2019-10-31 20:56:44   Maria2019   \n",
       "7957c2e604554199ba60c5b13aff2f40  2019-10-31 21:22:55   Maria2019   \n",
       "...                                               ...         ...   \n",
       "1ac798a3159b4092ade1c9b5f9677160  2019-10-31 19:37:11   Maria2019   \n",
       "5a51257a0435478f8c636ad82f518ff0  2019-10-31 19:37:11   Maria2019   \n",
       "691815b4f4a64d61a47f4aa11ac89b2a  2019-10-31 19:37:11   Maria2019   \n",
       "9936a4f648784317b0473d3e47be02f0  2019-10-31 19:37:11   Maria2019   \n",
       "b21fe09c809b40569276031875875b14  2019-10-31 19:37:11   Maria2019   \n",
       "\n",
       "                                                                           geometry  \n",
       "f23196b034474744bdca7df94b13e0f7  POLYGON ((-2084217.148 1503560.461, -2084279.5...  \n",
       "9f82e870591748a9a8a01346d174f2a1  POLYGON ((-2082034.494 1504548.520, -2081987.6...  \n",
       "1a6eb30ee33742e18fa6bb26678b5077  POLYGON ((-2082034.494 1504548.520, -2081987.6...  \n",
       "911f9b001c054b74a6ba70958f5f3c93  POLYGON ((-2082396.219 1505343.939, -2082305.7...  \n",
       "7957c2e604554199ba60c5b13aff2f40  POLYGON ((-2082598.331 1505371.327, -2082338.5...  \n",
       "...                                                                             ...  \n",
       "1ac798a3159b4092ade1c9b5f9677160  POLYGON ((-2084071.794 1503549.108, -2084263.1...  \n",
       "5a51257a0435478f8c636ad82f518ff0  POLYGON ((-2084263.617 1503607.701, -2084375.5...  \n",
       "691815b4f4a64d61a47f4aa11ac89b2a  POLYGON ((-2084121.084 1503611.830, -2083911.6...  \n",
       "9936a4f648784317b0473d3e47be02f0  POLYGON ((-2084249.542 1503665.107, -2084329.3...  \n",
       "b21fe09c809b40569276031875875b14  POLYGON ((-2084208.812 1503680.073, -2084250.8...  \n",
       "\n",
       "[120 rows x 6 columns]"
      ]
     },
     "execution_count": 9,
     "metadata": {},
     "output_type": "execute_result"
    }
   ],
   "source": [
    "state.usr.db.gdfignition"
   ]
  },
  {
   "cell_type": "code",
   "execution_count": 10,
   "id": "da16fec2-6b48-4f50-a44b-85863cb096f3",
   "metadata": {
    "scrolled": true,
    "tags": []
   },
   "outputs": [
    {
     "name": "stdout",
     "output_type": "stream",
     "text": [
      "{'description': 'Maria2019', 'igniteidx': '4445f02f26a842c587fe43076fd9a0fd', 'compareidx': '9f82e870591748a9a8a01346d174f2a1', 'lcpidx': '43b7f5db36994599861eec4849cc68fd', 'barrieridx': 'cb47616cd2dc4ccc8fd523bd3a5064bb', 'windspeed': 10, 'winddirection': 90, 'relhumid': 90, 'temperature': 20}\n",
      "Choosing a perimeter from the database\n",
      "{'description': 'Maria2019', 'igniteidx': '37d716cebdb540eda569d9d6075c7b16', 'compareidx': '9f82e870591748a9a8a01346d174f2a1', 'lcpidx': '43b7f5db36994599861eec4849cc68fd', 'barrieridx': 'cb47616cd2dc4ccc8fd523bd3a5064bb', 'windspeed': 10, 'winddirection': 90, 'relhumid': 90, 'temperature': 20}\n",
      "Choosing a perimeter from the database\n",
      "{'description': 'Maria2019', 'igniteidx': '049b662c3af64a05b14ad941cc826014', 'compareidx': '9f82e870591748a9a8a01346d174f2a1', 'lcpidx': '43b7f5db36994599861eec4849cc68fd', 'barrieridx': 'cb47616cd2dc4ccc8fd523bd3a5064bb', 'windspeed': 10, 'winddirection': 90, 'relhumid': 90, 'temperature': 20}\n",
      "Choosing a perimeter from the database\n",
      "{'description': 'Maria2019', 'igniteidx': 'aa8d72f8ff8c4246aa2132d7d176f126', 'compareidx': '9f82e870591748a9a8a01346d174f2a1', 'lcpidx': '43b7f5db36994599861eec4849cc68fd', 'barrieridx': 'cb47616cd2dc4ccc8fd523bd3a5064bb', 'windspeed': 10, 'winddirection': 90, 'relhumid': 90, 'temperature': 20}\n",
      "Choosing a perimeter from the database\n",
      "{'description': 'Maria2019', 'igniteidx': 'de56b2a5f53d44608b0b05922b6a7b7d', 'compareidx': '9f82e870591748a9a8a01346d174f2a1', 'lcpidx': '43b7f5db36994599861eec4849cc68fd', 'barrieridx': 'cb47616cd2dc4ccc8fd523bd3a5064bb', 'windspeed': 10, 'winddirection': 90, 'relhumid': 90, 'temperature': 20}\n",
      "Choosing a perimeter from the database\n",
      "{'description': 'Maria2019', 'igniteidx': '8615aa371ec94c3da14ff74e37bd5e9d', 'compareidx': '9f82e870591748a9a8a01346d174f2a1', 'lcpidx': '43b7f5db36994599861eec4849cc68fd', 'barrieridx': 'cb47616cd2dc4ccc8fd523bd3a5064bb', 'windspeed': 10, 'winddirection': 90, 'relhumid': 90, 'temperature': 20}\n",
      "Choosing a perimeter from the database\n",
      "{'description': 'Maria2019', 'igniteidx': 'a899e207bb57474eb962cfe9ff86dd91', 'compareidx': '9f82e870591748a9a8a01346d174f2a1', 'lcpidx': '43b7f5db36994599861eec4849cc68fd', 'barrieridx': 'cb47616cd2dc4ccc8fd523bd3a5064bb', 'windspeed': 10, 'winddirection': 90, 'relhumid': 90, 'temperature': 20}\n",
      "Choosing a perimeter from the database\n",
      "{'description': 'Maria2019', 'igniteidx': '6478d62df50c4b7e8a8ce3ae459ee3ea', 'compareidx': '9f82e870591748a9a8a01346d174f2a1', 'lcpidx': '43b7f5db36994599861eec4849cc68fd', 'barrieridx': 'cb47616cd2dc4ccc8fd523bd3a5064bb', 'windspeed': 10, 'winddirection': 90, 'relhumid': 90, 'temperature': 20}\n",
      "Choosing a perimeter from the database\n",
      "{'description': 'Maria2019', 'igniteidx': '5169fc4d281e4cf8ab4ef13b6ee77ddb', 'compareidx': '9f82e870591748a9a8a01346d174f2a1', 'lcpidx': '43b7f5db36994599861eec4849cc68fd', 'barrieridx': 'cb47616cd2dc4ccc8fd523bd3a5064bb', 'windspeed': 10, 'winddirection': 90, 'relhumid': 90, 'temperature': 20}\n",
      "Choosing a perimeter from the database\n",
      "{'description': 'Maria2019', 'igniteidx': 'fffdbb3b2d764729ade741b2944d678b', 'compareidx': '9f82e870591748a9a8a01346d174f2a1', 'lcpidx': '43b7f5db36994599861eec4849cc68fd', 'barrieridx': 'cb47616cd2dc4ccc8fd523bd3a5064bb', 'windspeed': 10, 'winddirection': 90, 'relhumid': 90, 'temperature': 20}\n",
      "Choosing a perimeter from the database\n",
      "{'description': 'Maria2019', 'igniteidx': '6db92e7fac6c41b9b314ec9c16739549', 'compareidx': '9f82e870591748a9a8a01346d174f2a1', 'lcpidx': '43b7f5db36994599861eec4849cc68fd', 'barrieridx': 'cb47616cd2dc4ccc8fd523bd3a5064bb', 'windspeed': 10, 'winddirection': 90, 'relhumid': 90, 'temperature': 20}\n",
      "Choosing a perimeter from the database\n",
      "{'description': 'Maria2019', 'igniteidx': '2082eeeaece7416c9da27211f0756819', 'compareidx': '9f82e870591748a9a8a01346d174f2a1', 'lcpidx': '43b7f5db36994599861eec4849cc68fd', 'barrieridx': 'cb47616cd2dc4ccc8fd523bd3a5064bb', 'windspeed': 10, 'winddirection': 90, 'relhumid': 90, 'temperature': 20}\n",
      "Choosing a perimeter from the database\n",
      "{'description': 'Maria2019', 'igniteidx': 'd984cd89bb164a6a9a0eb2a3e1c28063', 'compareidx': '9f82e870591748a9a8a01346d174f2a1', 'lcpidx': '43b7f5db36994599861eec4849cc68fd', 'barrieridx': 'cb47616cd2dc4ccc8fd523bd3a5064bb', 'windspeed': 10, 'winddirection': 90, 'relhumid': 90, 'temperature': 20}\n",
      "Choosing a perimeter from the database\n",
      "{'description': 'Maria2019', 'igniteidx': '93b016e44bc549f2a453741732d31a39', 'compareidx': '9f82e870591748a9a8a01346d174f2a1', 'lcpidx': '43b7f5db36994599861eec4849cc68fd', 'barrieridx': 'cb47616cd2dc4ccc8fd523bd3a5064bb', 'windspeed': 10, 'winddirection': 90, 'relhumid': 90, 'temperature': 20}\n",
      "Choosing a perimeter from the database\n",
      "{'description': 'Maria2019', 'igniteidx': 'b3ba2b87e0dc4e2392e366da42570fd9', 'compareidx': '9f82e870591748a9a8a01346d174f2a1', 'lcpidx': '43b7f5db36994599861eec4849cc68fd', 'barrieridx': 'cb47616cd2dc4ccc8fd523bd3a5064bb', 'windspeed': 10, 'winddirection': 90, 'relhumid': 90, 'temperature': 20}\n",
      "Choosing a perimeter from the database\n",
      "{'description': 'Maria2019', 'igniteidx': 'd7045b03353a42feb71535cdee870ec3', 'compareidx': '9f82e870591748a9a8a01346d174f2a1', 'lcpidx': '43b7f5db36994599861eec4849cc68fd', 'barrieridx': 'cb47616cd2dc4ccc8fd523bd3a5064bb', 'windspeed': 10, 'winddirection': 90, 'relhumid': 90, 'temperature': 20}\n",
      "Choosing a perimeter from the database\n",
      "{'description': 'Maria2019', 'igniteidx': '17eaf83f0dc8400ca968b98a4dd06d0d', 'compareidx': '9f82e870591748a9a8a01346d174f2a1', 'lcpidx': '43b7f5db36994599861eec4849cc68fd', 'barrieridx': 'cb47616cd2dc4ccc8fd523bd3a5064bb', 'windspeed': 10, 'winddirection': 90, 'relhumid': 90, 'temperature': 20}\n",
      "Choosing a perimeter from the database\n",
      "{'description': 'Maria2019', 'igniteidx': '8983041981b44d2aa7f62406cd99f0cb', 'compareidx': '9f82e870591748a9a8a01346d174f2a1', 'lcpidx': '43b7f5db36994599861eec4849cc68fd', 'barrieridx': 'cb47616cd2dc4ccc8fd523bd3a5064bb', 'windspeed': 10, 'winddirection': 90, 'relhumid': 90, 'temperature': 20}\n",
      "Choosing a perimeter from the database\n",
      "{'description': 'Maria2019', 'igniteidx': '5f111c12f1544daa952c49eb1520cded', 'compareidx': '9f82e870591748a9a8a01346d174f2a1', 'lcpidx': '43b7f5db36994599861eec4849cc68fd', 'barrieridx': 'cb47616cd2dc4ccc8fd523bd3a5064bb', 'windspeed': 10, 'winddirection': 90, 'relhumid': 90, 'temperature': 20}\n",
      "Choosing a perimeter from the database\n",
      "{'description': 'Maria2019', 'igniteidx': '16c5ed49169840f1b00643b4cc7ee9f1', 'compareidx': '9f82e870591748a9a8a01346d174f2a1', 'lcpidx': '43b7f5db36994599861eec4849cc68fd', 'barrieridx': 'cb47616cd2dc4ccc8fd523bd3a5064bb', 'windspeed': 10, 'winddirection': 90, 'relhumid': 90, 'temperature': 20}\n",
      "Choosing a perimeter from the database\n",
      "{'description': 'Maria2019', 'igniteidx': '3c3e796090b44974a3f15285f06a2662', 'compareidx': '9f82e870591748a9a8a01346d174f2a1', 'lcpidx': '43b7f5db36994599861eec4849cc68fd', 'barrieridx': 'cb47616cd2dc4ccc8fd523bd3a5064bb', 'windspeed': 10, 'winddirection': 90, 'relhumid': 90, 'temperature': 20}\n",
      "Choosing a perimeter from the database\n",
      "{'description': 'Maria2019', 'igniteidx': '8d0c5b9b4c604c1fbe76b6f5087ed4b5', 'compareidx': '9f82e870591748a9a8a01346d174f2a1', 'lcpidx': '43b7f5db36994599861eec4849cc68fd', 'barrieridx': 'cb47616cd2dc4ccc8fd523bd3a5064bb', 'windspeed': 10, 'winddirection': 90, 'relhumid': 90, 'temperature': 20}\n",
      "Choosing a perimeter from the database\n",
      "{'description': 'Maria2019', 'igniteidx': 'f138e064c351431e94faed7499221f51', 'compareidx': '9f82e870591748a9a8a01346d174f2a1', 'lcpidx': '43b7f5db36994599861eec4849cc68fd', 'barrieridx': 'cb47616cd2dc4ccc8fd523bd3a5064bb', 'windspeed': 10, 'winddirection': 90, 'relhumid': 90, 'temperature': 20}\n",
      "Choosing a perimeter from the database\n",
      "{'description': 'Maria2019', 'igniteidx': '126844da7d924702b829be94fa27ceff', 'compareidx': '9f82e870591748a9a8a01346d174f2a1', 'lcpidx': '43b7f5db36994599861eec4849cc68fd', 'barrieridx': 'cb47616cd2dc4ccc8fd523bd3a5064bb', 'windspeed': 10, 'winddirection': 90, 'relhumid': 90, 'temperature': 20}\n",
      "Choosing a perimeter from the database\n",
      "{'description': 'Maria2019', 'igniteidx': '61b65531eae54e0f92a2c9e24e0094ad', 'compareidx': '9f82e870591748a9a8a01346d174f2a1', 'lcpidx': '43b7f5db36994599861eec4849cc68fd', 'barrieridx': 'cb47616cd2dc4ccc8fd523bd3a5064bb', 'windspeed': 10, 'winddirection': 90, 'relhumid': 90, 'temperature': 20}\n",
      "Choosing a perimeter from the database\n",
      "{'description': 'Maria2019', 'igniteidx': 'b7d2d778f08b47429c6a0acbd144a3b9', 'compareidx': '9f82e870591748a9a8a01346d174f2a1', 'lcpidx': '43b7f5db36994599861eec4849cc68fd', 'barrieridx': 'cb47616cd2dc4ccc8fd523bd3a5064bb', 'windspeed': 10, 'winddirection': 90, 'relhumid': 90, 'temperature': 20}\n",
      "Choosing a perimeter from the database\n",
      "{'description': 'Maria2019', 'igniteidx': '1c4133bb88a0465790d894f53815fd0d', 'compareidx': '9f82e870591748a9a8a01346d174f2a1', 'lcpidx': '43b7f5db36994599861eec4849cc68fd', 'barrieridx': 'cb47616cd2dc4ccc8fd523bd3a5064bb', 'windspeed': 10, 'winddirection': 90, 'relhumid': 90, 'temperature': 20}\n",
      "Choosing a perimeter from the database\n",
      "{'description': 'Maria2019', 'igniteidx': '602bf3071a3c4d04890fae1b05b3979e', 'compareidx': '9f82e870591748a9a8a01346d174f2a1', 'lcpidx': '43b7f5db36994599861eec4849cc68fd', 'barrieridx': 'cb47616cd2dc4ccc8fd523bd3a5064bb', 'windspeed': 10, 'winddirection': 90, 'relhumid': 90, 'temperature': 20}\n",
      "Choosing a perimeter from the database\n",
      "{'description': 'Maria2019', 'igniteidx': '171f1dcfc4434116b1ce070f4895b1dd', 'compareidx': '9f82e870591748a9a8a01346d174f2a1', 'lcpidx': '43b7f5db36994599861eec4849cc68fd', 'barrieridx': 'cb47616cd2dc4ccc8fd523bd3a5064bb', 'windspeed': 10, 'winddirection': 90, 'relhumid': 90, 'temperature': 20}\n",
      "Choosing a perimeter from the database\n",
      "{'description': 'Maria2019', 'igniteidx': '94b3bf1890704665a505b7ab7d7055c7', 'compareidx': '9f82e870591748a9a8a01346d174f2a1', 'lcpidx': '43b7f5db36994599861eec4849cc68fd', 'barrieridx': 'cb47616cd2dc4ccc8fd523bd3a5064bb', 'windspeed': 10, 'winddirection': 90, 'relhumid': 90, 'temperature': 20}\n",
      "Choosing a perimeter from the database\n",
      "{'description': 'Maria2019', 'igniteidx': '42525a209e984d598aa114d8d540aea2', 'compareidx': '9f82e870591748a9a8a01346d174f2a1', 'lcpidx': '43b7f5db36994599861eec4849cc68fd', 'barrieridx': 'cb47616cd2dc4ccc8fd523bd3a5064bb', 'windspeed': 10, 'winddirection': 90, 'relhumid': 90, 'temperature': 20}\n",
      "Choosing a perimeter from the database\n",
      "{'description': 'Maria2019', 'igniteidx': '2de91cb0750743d3b4f4d7595df72bdc', 'compareidx': '9f82e870591748a9a8a01346d174f2a1', 'lcpidx': '43b7f5db36994599861eec4849cc68fd', 'barrieridx': 'cb47616cd2dc4ccc8fd523bd3a5064bb', 'windspeed': 10, 'winddirection': 90, 'relhumid': 90, 'temperature': 20}\n",
      "Choosing a perimeter from the database\n",
      "{'description': 'Maria2019', 'igniteidx': '089845fb03ce46a2a8a22bb476ea8459', 'compareidx': '9f82e870591748a9a8a01346d174f2a1', 'lcpidx': '43b7f5db36994599861eec4849cc68fd', 'barrieridx': 'cb47616cd2dc4ccc8fd523bd3a5064bb', 'windspeed': 10, 'winddirection': 90, 'relhumid': 90, 'temperature': 20}\n",
      "Choosing a perimeter from the database\n",
      "{'description': 'Maria2019', 'igniteidx': '03af9c80c2714b77a82febf9e5efdda9', 'compareidx': '9f82e870591748a9a8a01346d174f2a1', 'lcpidx': '43b7f5db36994599861eec4849cc68fd', 'barrieridx': 'cb47616cd2dc4ccc8fd523bd3a5064bb', 'windspeed': 10, 'winddirection': 90, 'relhumid': 90, 'temperature': 20}\n",
      "Choosing a perimeter from the database\n",
      "{'description': 'Maria2019', 'igniteidx': '5aa229bf53f8405b9af84717169a66fc', 'compareidx': '9f82e870591748a9a8a01346d174f2a1', 'lcpidx': '43b7f5db36994599861eec4849cc68fd', 'barrieridx': 'cb47616cd2dc4ccc8fd523bd3a5064bb', 'windspeed': 10, 'winddirection': 90, 'relhumid': 90, 'temperature': 20}\n",
      "Choosing a perimeter from the database\n",
      "{'description': 'Maria2019', 'igniteidx': '08615119a17847c7afa30942fe128a2d', 'compareidx': '9f82e870591748a9a8a01346d174f2a1', 'lcpidx': '43b7f5db36994599861eec4849cc68fd', 'barrieridx': 'cb47616cd2dc4ccc8fd523bd3a5064bb', 'windspeed': 10, 'winddirection': 90, 'relhumid': 90, 'temperature': 20}\n",
      "Choosing a perimeter from the database\n",
      "{'description': 'Maria2019', 'igniteidx': '0a176b56e8f6416f9d622e84b9b52348', 'compareidx': '9f82e870591748a9a8a01346d174f2a1', 'lcpidx': '43b7f5db36994599861eec4849cc68fd', 'barrieridx': 'cb47616cd2dc4ccc8fd523bd3a5064bb', 'windspeed': 10, 'winddirection': 90, 'relhumid': 90, 'temperature': 20}\n",
      "Choosing a perimeter from the database\n",
      "{'description': 'Maria2019', 'igniteidx': '10cbf6d973864f949af52cd7894ff3a7', 'compareidx': '9f82e870591748a9a8a01346d174f2a1', 'lcpidx': '43b7f5db36994599861eec4849cc68fd', 'barrieridx': 'cb47616cd2dc4ccc8fd523bd3a5064bb', 'windspeed': 10, 'winddirection': 90, 'relhumid': 90, 'temperature': 20}\n",
      "Choosing a perimeter from the database\n",
      "{'description': 'Maria2019', 'igniteidx': '882c93fe306f4ccf8476b6396bc190a2', 'compareidx': '9f82e870591748a9a8a01346d174f2a1', 'lcpidx': '43b7f5db36994599861eec4849cc68fd', 'barrieridx': 'cb47616cd2dc4ccc8fd523bd3a5064bb', 'windspeed': 10, 'winddirection': 90, 'relhumid': 90, 'temperature': 20}\n",
      "Choosing a perimeter from the database\n",
      "{'description': 'Maria2019', 'igniteidx': 'c9aa8e31302e4fbfa90bd5757dbe6d8c', 'compareidx': '9f82e870591748a9a8a01346d174f2a1', 'lcpidx': '43b7f5db36994599861eec4849cc68fd', 'barrieridx': 'cb47616cd2dc4ccc8fd523bd3a5064bb', 'windspeed': 10, 'winddirection': 90, 'relhumid': 90, 'temperature': 20}\n",
      "Choosing a perimeter from the database\n",
      "{'description': 'Maria2019', 'igniteidx': 'b656dcaac999413798e34a95b905164f', 'compareidx': '9f82e870591748a9a8a01346d174f2a1', 'lcpidx': '43b7f5db36994599861eec4849cc68fd', 'barrieridx': 'cb47616cd2dc4ccc8fd523bd3a5064bb', 'windspeed': 10, 'winddirection': 90, 'relhumid': 90, 'temperature': 20}\n",
      "Choosing a perimeter from the database\n",
      "{'description': 'Maria2019', 'igniteidx': '5b4c7fca28c745139234e13808e6a42f', 'compareidx': '9f82e870591748a9a8a01346d174f2a1', 'lcpidx': '43b7f5db36994599861eec4849cc68fd', 'barrieridx': 'cb47616cd2dc4ccc8fd523bd3a5064bb', 'windspeed': 10, 'winddirection': 90, 'relhumid': 90, 'temperature': 20}\n",
      "Choosing a perimeter from the database\n",
      "{'description': 'Maria2019', 'igniteidx': '0da2d505732d48aa97564a6905f7472c', 'compareidx': '9f82e870591748a9a8a01346d174f2a1', 'lcpidx': '43b7f5db36994599861eec4849cc68fd', 'barrieridx': 'cb47616cd2dc4ccc8fd523bd3a5064bb', 'windspeed': 10, 'winddirection': 90, 'relhumid': 90, 'temperature': 20}\n",
      "Choosing a perimeter from the database\n",
      "{'description': 'Maria2019', 'igniteidx': '7f52625400ed42129f860fbc62c5ed42', 'compareidx': '9f82e870591748a9a8a01346d174f2a1', 'lcpidx': '43b7f5db36994599861eec4849cc68fd', 'barrieridx': 'cb47616cd2dc4ccc8fd523bd3a5064bb', 'windspeed': 10, 'winddirection': 90, 'relhumid': 90, 'temperature': 20}\n",
      "Choosing a perimeter from the database\n",
      "{'description': 'Maria2019', 'igniteidx': 'f6a7cb83affe47129c18da0c4c1d4bdd', 'compareidx': '9f82e870591748a9a8a01346d174f2a1', 'lcpidx': '43b7f5db36994599861eec4849cc68fd', 'barrieridx': 'cb47616cd2dc4ccc8fd523bd3a5064bb', 'windspeed': 10, 'winddirection': 90, 'relhumid': 90, 'temperature': 20}\n",
      "Choosing a perimeter from the database\n",
      "{'description': 'Maria2019', 'igniteidx': '64cc06b3d8474a749f7d65de8588e988', 'compareidx': '9f82e870591748a9a8a01346d174f2a1', 'lcpidx': '43b7f5db36994599861eec4849cc68fd', 'barrieridx': 'cb47616cd2dc4ccc8fd523bd3a5064bb', 'windspeed': 10, 'winddirection': 90, 'relhumid': 90, 'temperature': 20}\n",
      "Choosing a perimeter from the database\n",
      "{'description': 'Maria2019', 'igniteidx': '6c27637ddcd34ca0bd2657141250a065', 'compareidx': '9f82e870591748a9a8a01346d174f2a1', 'lcpidx': '43b7f5db36994599861eec4849cc68fd', 'barrieridx': 'cb47616cd2dc4ccc8fd523bd3a5064bb', 'windspeed': 10, 'winddirection': 90, 'relhumid': 90, 'temperature': 20}\n",
      "Choosing a perimeter from the database\n",
      "{'description': 'Maria2019', 'igniteidx': '41749057e23f47cf8a954f8828c95c37', 'compareidx': '9f82e870591748a9a8a01346d174f2a1', 'lcpidx': '43b7f5db36994599861eec4849cc68fd', 'barrieridx': 'cb47616cd2dc4ccc8fd523bd3a5064bb', 'windspeed': 10, 'winddirection': 90, 'relhumid': 90, 'temperature': 20}\n",
      "Choosing a perimeter from the database\n",
      "{'description': 'Maria2019', 'igniteidx': 'af1267cb54f34eed855d95e8c76ec322', 'compareidx': '9f82e870591748a9a8a01346d174f2a1', 'lcpidx': '43b7f5db36994599861eec4849cc68fd', 'barrieridx': 'cb47616cd2dc4ccc8fd523bd3a5064bb', 'windspeed': 10, 'winddirection': 90, 'relhumid': 90, 'temperature': 20}\n",
      "Choosing a perimeter from the database\n",
      "{'description': 'Maria2019', 'igniteidx': '3c74189dd05c4cc38af53d611aedcd08', 'compareidx': '9f82e870591748a9a8a01346d174f2a1', 'lcpidx': '43b7f5db36994599861eec4849cc68fd', 'barrieridx': 'cb47616cd2dc4ccc8fd523bd3a5064bb', 'windspeed': 10, 'winddirection': 90, 'relhumid': 90, 'temperature': 20}\n",
      "Choosing a perimeter from the database\n",
      "{'description': 'Maria2019', 'igniteidx': '1a5e6028e3524cd3aa5ab37e16437723', 'compareidx': '9f82e870591748a9a8a01346d174f2a1', 'lcpidx': '43b7f5db36994599861eec4849cc68fd', 'barrieridx': 'cb47616cd2dc4ccc8fd523bd3a5064bb', 'windspeed': 10, 'winddirection': 90, 'relhumid': 90, 'temperature': 20}\n",
      "Choosing a perimeter from the database\n",
      "{'description': 'Maria2019', 'igniteidx': '4ec717572cf54ce99263719bab5f7903', 'compareidx': '9f82e870591748a9a8a01346d174f2a1', 'lcpidx': '43b7f5db36994599861eec4849cc68fd', 'barrieridx': 'cb47616cd2dc4ccc8fd523bd3a5064bb', 'windspeed': 10, 'winddirection': 90, 'relhumid': 90, 'temperature': 20}\n",
      "Choosing a perimeter from the database\n",
      "{'description': 'Maria2019', 'igniteidx': '1980e4095c4a4b09972e32a42571748a', 'compareidx': '9f82e870591748a9a8a01346d174f2a1', 'lcpidx': '43b7f5db36994599861eec4849cc68fd', 'barrieridx': 'cb47616cd2dc4ccc8fd523bd3a5064bb', 'windspeed': 10, 'winddirection': 90, 'relhumid': 90, 'temperature': 20}\n",
      "Choosing a perimeter from the database\n",
      "{'description': 'Maria2019', 'igniteidx': '69cfec55601f49fda353af0c474391e3', 'compareidx': '9f82e870591748a9a8a01346d174f2a1', 'lcpidx': '43b7f5db36994599861eec4849cc68fd', 'barrieridx': 'cb47616cd2dc4ccc8fd523bd3a5064bb', 'windspeed': 10, 'winddirection': 90, 'relhumid': 90, 'temperature': 20}\n",
      "Choosing a perimeter from the database\n",
      "{'description': 'Maria2019', 'igniteidx': '6e8cfe9f56ee4fad88077b8ae02a6f54', 'compareidx': '9f82e870591748a9a8a01346d174f2a1', 'lcpidx': '43b7f5db36994599861eec4849cc68fd', 'barrieridx': 'cb47616cd2dc4ccc8fd523bd3a5064bb', 'windspeed': 10, 'winddirection': 90, 'relhumid': 90, 'temperature': 20}\n",
      "Choosing a perimeter from the database\n",
      "{'description': 'Maria2019', 'igniteidx': '4f822549b37a456fbb5680d908e13fc0', 'compareidx': '9f82e870591748a9a8a01346d174f2a1', 'lcpidx': '43b7f5db36994599861eec4849cc68fd', 'barrieridx': 'cb47616cd2dc4ccc8fd523bd3a5064bb', 'windspeed': 10, 'winddirection': 90, 'relhumid': 90, 'temperature': 20}\n",
      "Choosing a perimeter from the database\n",
      "{'description': 'Maria2019', 'igniteidx': 'd0bc58052cea44558f4e01f19c0b4730', 'compareidx': '9f82e870591748a9a8a01346d174f2a1', 'lcpidx': '43b7f5db36994599861eec4849cc68fd', 'barrieridx': 'cb47616cd2dc4ccc8fd523bd3a5064bb', 'windspeed': 10, 'winddirection': 90, 'relhumid': 90, 'temperature': 20}\n",
      "Choosing a perimeter from the database\n",
      "{'description': 'Maria2019', 'igniteidx': '5a1e08673139415e9051f7f896ed2fd5', 'compareidx': '9f82e870591748a9a8a01346d174f2a1', 'lcpidx': '43b7f5db36994599861eec4849cc68fd', 'barrieridx': 'cb47616cd2dc4ccc8fd523bd3a5064bb', 'windspeed': 10, 'winddirection': 90, 'relhumid': 90, 'temperature': 20}\n",
      "Choosing a perimeter from the database\n",
      "{'description': 'Maria2019', 'igniteidx': 'a2b051c8258a4fdfb911d0b0171af1c9', 'compareidx': '9f82e870591748a9a8a01346d174f2a1', 'lcpidx': '43b7f5db36994599861eec4849cc68fd', 'barrieridx': 'cb47616cd2dc4ccc8fd523bd3a5064bb', 'windspeed': 10, 'winddirection': 90, 'relhumid': 90, 'temperature': 20}\n",
      "Choosing a perimeter from the database\n",
      "{'description': 'Maria2019', 'igniteidx': '429cfd4bc7aa4a439be03b69ba9c1127', 'compareidx': '9f82e870591748a9a8a01346d174f2a1', 'lcpidx': '43b7f5db36994599861eec4849cc68fd', 'barrieridx': 'cb47616cd2dc4ccc8fd523bd3a5064bb', 'windspeed': 10, 'winddirection': 90, 'relhumid': 90, 'temperature': 20}\n",
      "Choosing a perimeter from the database\n",
      "{'description': 'Maria2019', 'igniteidx': '5a2a4db8941d4b40915a4033ee327315', 'compareidx': '9f82e870591748a9a8a01346d174f2a1', 'lcpidx': '43b7f5db36994599861eec4849cc68fd', 'barrieridx': 'cb47616cd2dc4ccc8fd523bd3a5064bb', 'windspeed': 10, 'winddirection': 90, 'relhumid': 90, 'temperature': 20}\n",
      "Choosing a perimeter from the database\n",
      "{'description': 'Maria2019', 'igniteidx': '375e62dde4a04950b563418ba5208a4c', 'compareidx': '9f82e870591748a9a8a01346d174f2a1', 'lcpidx': '43b7f5db36994599861eec4849cc68fd', 'barrieridx': 'cb47616cd2dc4ccc8fd523bd3a5064bb', 'windspeed': 10, 'winddirection': 90, 'relhumid': 90, 'temperature': 20}\n",
      "Choosing a perimeter from the database\n",
      "{'description': 'Maria2019', 'igniteidx': '5763000e2de249329446e8717de80710', 'compareidx': '9f82e870591748a9a8a01346d174f2a1', 'lcpidx': '43b7f5db36994599861eec4849cc68fd', 'barrieridx': 'cb47616cd2dc4ccc8fd523bd3a5064bb', 'windspeed': 10, 'winddirection': 90, 'relhumid': 90, 'temperature': 20}\n",
      "Choosing a perimeter from the database\n",
      "{'description': 'Maria2019', 'igniteidx': 'd26044ab0f1241cabcc368a4700f515e', 'compareidx': '9f82e870591748a9a8a01346d174f2a1', 'lcpidx': '43b7f5db36994599861eec4849cc68fd', 'barrieridx': 'cb47616cd2dc4ccc8fd523bd3a5064bb', 'windspeed': 10, 'winddirection': 90, 'relhumid': 90, 'temperature': 20}\n",
      "Choosing a perimeter from the database\n",
      "{'description': 'Maria2019', 'igniteidx': 'a13f01c583814f4aa065b5a533b60e6c', 'compareidx': '9f82e870591748a9a8a01346d174f2a1', 'lcpidx': '43b7f5db36994599861eec4849cc68fd', 'barrieridx': 'cb47616cd2dc4ccc8fd523bd3a5064bb', 'windspeed': 10, 'winddirection': 90, 'relhumid': 90, 'temperature': 20}\n",
      "Choosing a perimeter from the database\n",
      "{'description': 'Maria2019', 'igniteidx': '3c0420e2d61f4d83bf609d00de1b33f4', 'compareidx': '9f82e870591748a9a8a01346d174f2a1', 'lcpidx': '43b7f5db36994599861eec4849cc68fd', 'barrieridx': 'cb47616cd2dc4ccc8fd523bd3a5064bb', 'windspeed': 10, 'winddirection': 90, 'relhumid': 90, 'temperature': 20}\n",
      "Choosing a perimeter from the database\n",
      "{'description': 'Maria2019', 'igniteidx': '16bd7a4877b74db785ad691cc82a0bad', 'compareidx': '9f82e870591748a9a8a01346d174f2a1', 'lcpidx': '43b7f5db36994599861eec4849cc68fd', 'barrieridx': 'cb47616cd2dc4ccc8fd523bd3a5064bb', 'windspeed': 10, 'winddirection': 90, 'relhumid': 90, 'temperature': 20}\n",
      "Choosing a perimeter from the database\n",
      "{'description': 'Maria2019', 'igniteidx': '339b11a0c98841bb8bef41a3703d1b61', 'compareidx': '9f82e870591748a9a8a01346d174f2a1', 'lcpidx': '43b7f5db36994599861eec4849cc68fd', 'barrieridx': 'cb47616cd2dc4ccc8fd523bd3a5064bb', 'windspeed': 10, 'winddirection': 90, 'relhumid': 90, 'temperature': 20}\n",
      "Choosing a perimeter from the database\n",
      "{'description': 'Maria2019', 'igniteidx': '0b568d27aa944c65a6f82b83a84f6a73', 'compareidx': '9f82e870591748a9a8a01346d174f2a1', 'lcpidx': '43b7f5db36994599861eec4849cc68fd', 'barrieridx': 'cb47616cd2dc4ccc8fd523bd3a5064bb', 'windspeed': 10, 'winddirection': 90, 'relhumid': 90, 'temperature': 20}\n",
      "Choosing a perimeter from the database\n",
      "{'description': 'Maria2019', 'igniteidx': '1d6e4e8090284ed4ba85c429534141f3', 'compareidx': '9f82e870591748a9a8a01346d174f2a1', 'lcpidx': '43b7f5db36994599861eec4849cc68fd', 'barrieridx': 'cb47616cd2dc4ccc8fd523bd3a5064bb', 'windspeed': 10, 'winddirection': 90, 'relhumid': 90, 'temperature': 20}\n",
      "Choosing a perimeter from the database\n",
      "{'description': 'Maria2019', 'igniteidx': '4d96e5c1bed2434bb12bcf8e82863256', 'compareidx': '9f82e870591748a9a8a01346d174f2a1', 'lcpidx': '43b7f5db36994599861eec4849cc68fd', 'barrieridx': 'cb47616cd2dc4ccc8fd523bd3a5064bb', 'windspeed': 10, 'winddirection': 90, 'relhumid': 90, 'temperature': 20}\n",
      "Choosing a perimeter from the database\n",
      "{'description': 'Maria2019', 'igniteidx': '25ea0175d7c94cf1ae91a942a4df6516', 'compareidx': '9f82e870591748a9a8a01346d174f2a1', 'lcpidx': '43b7f5db36994599861eec4849cc68fd', 'barrieridx': 'cb47616cd2dc4ccc8fd523bd3a5064bb', 'windspeed': 10, 'winddirection': 90, 'relhumid': 90, 'temperature': 20}\n",
      "Choosing a perimeter from the database\n",
      "{'description': 'Maria2019', 'igniteidx': '4402460c2c8e4d588e42a8c36acba482', 'compareidx': '9f82e870591748a9a8a01346d174f2a1', 'lcpidx': '43b7f5db36994599861eec4849cc68fd', 'barrieridx': 'cb47616cd2dc4ccc8fd523bd3a5064bb', 'windspeed': 10, 'winddirection': 90, 'relhumid': 90, 'temperature': 20}\n",
      "Choosing a perimeter from the database\n",
      "{'description': 'Maria2019', 'igniteidx': '6d5a32ad33b248a78a8c042667d1abe4', 'compareidx': '9f82e870591748a9a8a01346d174f2a1', 'lcpidx': '43b7f5db36994599861eec4849cc68fd', 'barrieridx': 'cb47616cd2dc4ccc8fd523bd3a5064bb', 'windspeed': 10, 'winddirection': 90, 'relhumid': 90, 'temperature': 20}\n",
      "Choosing a perimeter from the database\n",
      "{'description': 'Maria2019', 'igniteidx': '0890f818d4444c2283021c14e76c181c', 'compareidx': '9f82e870591748a9a8a01346d174f2a1', 'lcpidx': '43b7f5db36994599861eec4849cc68fd', 'barrieridx': 'cb47616cd2dc4ccc8fd523bd3a5064bb', 'windspeed': 10, 'winddirection': 90, 'relhumid': 90, 'temperature': 20}\n",
      "Choosing a perimeter from the database\n",
      "{'description': 'Maria2019', 'igniteidx': '90e8f989c6e749f9b17bb831119d1c25', 'compareidx': '9f82e870591748a9a8a01346d174f2a1', 'lcpidx': '43b7f5db36994599861eec4849cc68fd', 'barrieridx': 'cb47616cd2dc4ccc8fd523bd3a5064bb', 'windspeed': 10, 'winddirection': 90, 'relhumid': 90, 'temperature': 20}\n",
      "Choosing a perimeter from the database\n",
      "{'description': 'Maria2019', 'igniteidx': 'f93ef8b983724374987cfefb6a34d9ac', 'compareidx': '9f82e870591748a9a8a01346d174f2a1', 'lcpidx': '43b7f5db36994599861eec4849cc68fd', 'barrieridx': 'cb47616cd2dc4ccc8fd523bd3a5064bb', 'windspeed': 10, 'winddirection': 90, 'relhumid': 90, 'temperature': 20}\n",
      "Choosing a perimeter from the database\n",
      "{'description': 'Maria2019', 'igniteidx': '283d394bb8ad48a687ac9fd14f6dc128', 'compareidx': '9f82e870591748a9a8a01346d174f2a1', 'lcpidx': '43b7f5db36994599861eec4849cc68fd', 'barrieridx': 'cb47616cd2dc4ccc8fd523bd3a5064bb', 'windspeed': 10, 'winddirection': 90, 'relhumid': 90, 'temperature': 20}\n",
      "Choosing a perimeter from the database\n",
      "{'description': 'Maria2019', 'igniteidx': 'c723bee2b20e420a8dfaa7d96dcd358e', 'compareidx': '9f82e870591748a9a8a01346d174f2a1', 'lcpidx': '43b7f5db36994599861eec4849cc68fd', 'barrieridx': 'cb47616cd2dc4ccc8fd523bd3a5064bb', 'windspeed': 10, 'winddirection': 90, 'relhumid': 90, 'temperature': 20}\n",
      "Choosing a perimeter from the database\n",
      "{'description': 'Maria2019', 'igniteidx': '1e54d469f36d4fa69f22ed2872e2caff', 'compareidx': '9f82e870591748a9a8a01346d174f2a1', 'lcpidx': '43b7f5db36994599861eec4849cc68fd', 'barrieridx': 'cb47616cd2dc4ccc8fd523bd3a5064bb', 'windspeed': 10, 'winddirection': 90, 'relhumid': 90, 'temperature': 20}\n",
      "Choosing a perimeter from the database\n",
      "{'description': 'Maria2019', 'igniteidx': 'fa10331ce6c147e08aeaa0e367b4372c', 'compareidx': '9f82e870591748a9a8a01346d174f2a1', 'lcpidx': '43b7f5db36994599861eec4849cc68fd', 'barrieridx': 'cb47616cd2dc4ccc8fd523bd3a5064bb', 'windspeed': 10, 'winddirection': 90, 'relhumid': 90, 'temperature': 20}\n",
      "Choosing a perimeter from the database\n",
      "{'description': 'Maria2019', 'igniteidx': '478116e999b04e09bad20e1e72439251', 'compareidx': '9f82e870591748a9a8a01346d174f2a1', 'lcpidx': '43b7f5db36994599861eec4849cc68fd', 'barrieridx': 'cb47616cd2dc4ccc8fd523bd3a5064bb', 'windspeed': 10, 'winddirection': 90, 'relhumid': 90, 'temperature': 20}\n",
      "Choosing a perimeter from the database\n",
      "{'description': 'Maria2019', 'igniteidx': '81a7e8b9d09a46638dceebfc6bde1128', 'compareidx': '9f82e870591748a9a8a01346d174f2a1', 'lcpidx': '43b7f5db36994599861eec4849cc68fd', 'barrieridx': 'cb47616cd2dc4ccc8fd523bd3a5064bb', 'windspeed': 10, 'winddirection': 90, 'relhumid': 90, 'temperature': 20}\n",
      "Choosing a perimeter from the database\n",
      "{'description': 'Maria2019', 'igniteidx': '641ce3c12e624a34b918a8097dd07798', 'compareidx': '9f82e870591748a9a8a01346d174f2a1', 'lcpidx': '43b7f5db36994599861eec4849cc68fd', 'barrieridx': 'cb47616cd2dc4ccc8fd523bd3a5064bb', 'windspeed': 10, 'winddirection': 90, 'relhumid': 90, 'temperature': 20}\n",
      "Choosing a perimeter from the database\n",
      "{'description': 'Maria2019', 'igniteidx': 'a576e04b31d044bdb4eef46d1d47ae53', 'compareidx': '9f82e870591748a9a8a01346d174f2a1', 'lcpidx': '43b7f5db36994599861eec4849cc68fd', 'barrieridx': 'cb47616cd2dc4ccc8fd523bd3a5064bb', 'windspeed': 10, 'winddirection': 90, 'relhumid': 90, 'temperature': 20}\n",
      "Choosing a perimeter from the database\n",
      "{'description': 'Maria2019', 'igniteidx': 'd5a1747402c44ea097cd96f5768a5372', 'compareidx': '9f82e870591748a9a8a01346d174f2a1', 'lcpidx': '43b7f5db36994599861eec4849cc68fd', 'barrieridx': 'cb47616cd2dc4ccc8fd523bd3a5064bb', 'windspeed': 10, 'winddirection': 90, 'relhumid': 90, 'temperature': 20}\n",
      "Choosing a perimeter from the database\n",
      "{'description': 'Maria2019', 'igniteidx': '8aaf84189f5740588de1b9590f61fce2', 'compareidx': '9f82e870591748a9a8a01346d174f2a1', 'lcpidx': '43b7f5db36994599861eec4849cc68fd', 'barrieridx': 'cb47616cd2dc4ccc8fd523bd3a5064bb', 'windspeed': 10, 'winddirection': 90, 'relhumid': 90, 'temperature': 20}\n",
      "Choosing a perimeter from the database\n",
      "{'description': 'Maria2019', 'igniteidx': 'd603a8c4c7d746efa6f49c4320a35f92', 'compareidx': '9f82e870591748a9a8a01346d174f2a1', 'lcpidx': '43b7f5db36994599861eec4849cc68fd', 'barrieridx': 'cb47616cd2dc4ccc8fd523bd3a5064bb', 'windspeed': 10, 'winddirection': 90, 'relhumid': 90, 'temperature': 20}\n",
      "Choosing a perimeter from the database\n",
      "{'description': 'Maria2019', 'igniteidx': '121ecc00e44b4476bfdf223e1d529769', 'compareidx': '9f82e870591748a9a8a01346d174f2a1', 'lcpidx': '43b7f5db36994599861eec4849cc68fd', 'barrieridx': 'cb47616cd2dc4ccc8fd523bd3a5064bb', 'windspeed': 10, 'winddirection': 90, 'relhumid': 90, 'temperature': 20}\n",
      "Choosing a perimeter from the database\n",
      "{'description': 'Maria2019', 'igniteidx': '2e4aaaee4fb64f35a493c894071d9f7a', 'compareidx': '9f82e870591748a9a8a01346d174f2a1', 'lcpidx': '43b7f5db36994599861eec4849cc68fd', 'barrieridx': 'cb47616cd2dc4ccc8fd523bd3a5064bb', 'windspeed': 10, 'winddirection': 90, 'relhumid': 90, 'temperature': 20}\n",
      "Choosing a perimeter from the database\n",
      "{'description': 'Maria2019', 'igniteidx': '89dbb714019f468e853c478c5a1488c0', 'compareidx': '9f82e870591748a9a8a01346d174f2a1', 'lcpidx': '43b7f5db36994599861eec4849cc68fd', 'barrieridx': 'cb47616cd2dc4ccc8fd523bd3a5064bb', 'windspeed': 10, 'winddirection': 90, 'relhumid': 90, 'temperature': 20}\n",
      "Choosing a perimeter from the database\n",
      "{'description': 'Maria2019', 'igniteidx': '275045f7e60f4dc08cd463eac5134a07', 'compareidx': '9f82e870591748a9a8a01346d174f2a1', 'lcpidx': '43b7f5db36994599861eec4849cc68fd', 'barrieridx': 'cb47616cd2dc4ccc8fd523bd3a5064bb', 'windspeed': 10, 'winddirection': 90, 'relhumid': 90, 'temperature': 20}\n",
      "Choosing a perimeter from the database\n",
      "{'description': 'Maria2019', 'igniteidx': '31e552a1d99d4e6ca0f7c6baabe198a6', 'compareidx': '9f82e870591748a9a8a01346d174f2a1', 'lcpidx': '43b7f5db36994599861eec4849cc68fd', 'barrieridx': 'cb47616cd2dc4ccc8fd523bd3a5064bb', 'windspeed': 10, 'winddirection': 90, 'relhumid': 90, 'temperature': 20}\n",
      "Choosing a perimeter from the database\n",
      "{'description': 'Maria2019', 'igniteidx': '1a9af65c19f74ac585fa8c80754ceddb', 'compareidx': '9f82e870591748a9a8a01346d174f2a1', 'lcpidx': '43b7f5db36994599861eec4849cc68fd', 'barrieridx': 'cb47616cd2dc4ccc8fd523bd3a5064bb', 'windspeed': 10, 'winddirection': 90, 'relhumid': 90, 'temperature': 20}\n",
      "Choosing a perimeter from the database\n",
      "{'description': 'Maria2019', 'igniteidx': 'cf783e253df34f60ba15ede34d1d8339', 'compareidx': '9f82e870591748a9a8a01346d174f2a1', 'lcpidx': '43b7f5db36994599861eec4849cc68fd', 'barrieridx': 'cb47616cd2dc4ccc8fd523bd3a5064bb', 'windspeed': 10, 'winddirection': 90, 'relhumid': 90, 'temperature': 20}\n",
      "Choosing a perimeter from the database\n",
      "{'description': 'Maria2019', 'igniteidx': '1ac798a3159b4092ade1c9b5f9677160', 'compareidx': '9f82e870591748a9a8a01346d174f2a1', 'lcpidx': '43b7f5db36994599861eec4849cc68fd', 'barrieridx': 'cb47616cd2dc4ccc8fd523bd3a5064bb', 'windspeed': 10, 'winddirection': 90, 'relhumid': 90, 'temperature': 20}\n",
      "Choosing a perimeter from the database\n",
      "{'description': 'Maria2019', 'igniteidx': '5a51257a0435478f8c636ad82f518ff0', 'compareidx': '9f82e870591748a9a8a01346d174f2a1', 'lcpidx': '43b7f5db36994599861eec4849cc68fd', 'barrieridx': 'cb47616cd2dc4ccc8fd523bd3a5064bb', 'windspeed': 10, 'winddirection': 90, 'relhumid': 90, 'temperature': 20}\n",
      "Choosing a perimeter from the database\n",
      "{'description': 'Maria2019', 'igniteidx': '691815b4f4a64d61a47f4aa11ac89b2a', 'compareidx': '9f82e870591748a9a8a01346d174f2a1', 'lcpidx': '43b7f5db36994599861eec4849cc68fd', 'barrieridx': 'cb47616cd2dc4ccc8fd523bd3a5064bb', 'windspeed': 10, 'winddirection': 90, 'relhumid': 90, 'temperature': 20}\n",
      "Choosing a perimeter from the database\n",
      "{'description': 'Maria2019', 'igniteidx': '9936a4f648784317b0473d3e47be02f0', 'compareidx': '9f82e870591748a9a8a01346d174f2a1', 'lcpidx': '43b7f5db36994599861eec4849cc68fd', 'barrieridx': 'cb47616cd2dc4ccc8fd523bd3a5064bb', 'windspeed': 10, 'winddirection': 90, 'relhumid': 90, 'temperature': 20}\n",
      "Choosing a perimeter from the database\n",
      "{'description': 'Maria2019', 'igniteidx': 'b21fe09c809b40569276031875875b14', 'compareidx': '9f82e870591748a9a8a01346d174f2a1', 'lcpidx': '43b7f5db36994599861eec4849cc68fd', 'barrieridx': 'cb47616cd2dc4ccc8fd523bd3a5064bb', 'windspeed': 10, 'winddirection': 90, 'relhumid': 90, 'temperature': 20}\n",
      "Choosing a perimeter from the database\n",
      "Farsite $Rev: 2395 $\n",
      "Number of parallel threads = 4 (omp_get_num_procs = 32).\n",
      "Loading lcp file for Farsite #1: /home/jovyan/farsite/inputs/landscapes/Maria2019.lcp\n",
      "Loading inputs file for Farsite #1: /home/jovyan/data/20221209/Run_00800/config\n",
      "Loading ignition file for Farsite #1: /home/jovyan/data/ignitions/Maria2019E0000.shp\n",
      "Loading barrier file for Farsite #1: /home/jovyan/farsite/inputs/barriers/NoBarrier/NoBarrier.shp\n",
      "Launching Farsite #1\n",
      "Starting time step 0.000000 (maximum = 12)\n",
      "Writing outputs for Farsite #1 to /home/jovyan/data/20221209/Run_00800/out\n"
     ]
    },
    {
     "name": "stderr",
     "output_type": "stream",
     "text": [
      "/home/jovyan/farsite-devAPI/src/farsiteutils_v2.py:177: FutureWarning: The frame.append method is deprecated and will be removed from pandas in a future version. Use pandas.concat instead.\n",
      "  self.gdfsimulation = self.gdfsimulation.append(gdfappend)\n"
     ]
    },
    {
     "name": "stdout",
     "output_type": "stream",
     "text": [
      "Farsite $Rev: 2395 $\n",
      "Number of parallel threads = 4 (omp_get_num_procs = 32).\n",
      "Loading lcp file for Farsite #1: /home/jovyan/farsite/inputs/landscapes/Maria2019.lcp\n",
      "Loading inputs file for Farsite #1: /home/jovyan/data/20221209/Run_00801/config\n",
      "Loading ignition file for Farsite #1: /home/jovyan/data/ignitions/Maria2019E0001.shp\n",
      "Loading barrier file for Farsite #1: /home/jovyan/farsite/inputs/barriers/NoBarrier/NoBarrier.shp\n",
      "Launching Farsite #1\n",
      "Starting time step 0.000000 (maximum = 12)\n",
      "Writing outputs for Farsite #1 to /home/jovyan/data/20221209/Run_00801/out\n"
     ]
    },
    {
     "name": "stderr",
     "output_type": "stream",
     "text": [
      "/home/jovyan/farsite-devAPI/src/farsiteutils_v2.py:177: FutureWarning: The frame.append method is deprecated and will be removed from pandas in a future version. Use pandas.concat instead.\n",
      "  self.gdfsimulation = self.gdfsimulation.append(gdfappend)\n"
     ]
    },
    {
     "name": "stdout",
     "output_type": "stream",
     "text": [
      "Farsite $Rev: 2395 $\n",
      "Number of parallel threads = 4 (omp_get_num_procs = 32).\n",
      "Loading lcp file for Farsite #1: /home/jovyan/farsite/inputs/landscapes/Maria2019.lcp\n",
      "Loading inputs file for Farsite #1: /home/jovyan/data/20221209/Run_00802/config\n",
      "Loading ignition file for Farsite #1: /home/jovyan/data/ignitions/Maria2019E0002.shp\n",
      "Loading barrier file for Farsite #1: /home/jovyan/farsite/inputs/barriers/NoBarrier/NoBarrier.shp\n",
      "Launching Farsite #1\n",
      "Starting time step 0.000000 (maximum = 12)\n",
      "Writing outputs for Farsite #1 to /home/jovyan/data/20221209/Run_00802/out\n"
     ]
    },
    {
     "name": "stderr",
     "output_type": "stream",
     "text": [
      "/home/jovyan/farsite-devAPI/src/farsiteutils_v2.py:177: FutureWarning: The frame.append method is deprecated and will be removed from pandas in a future version. Use pandas.concat instead.\n",
      "  self.gdfsimulation = self.gdfsimulation.append(gdfappend)\n"
     ]
    },
    {
     "name": "stdout",
     "output_type": "stream",
     "text": [
      "Farsite $Rev: 2395 $\n",
      "Number of parallel threads = 4 (omp_get_num_procs = 32).\n",
      "Loading lcp file for Farsite #1: /home/jovyan/farsite/inputs/landscapes/Maria2019.lcp\n",
      "Loading inputs file for Farsite #1: /home/jovyan/data/20221209/Run_00803/config\n",
      "Loading ignition file for Farsite #1: /home/jovyan/data/ignitions/Maria2019E0003.shp\n",
      "Loading barrier file for Farsite #1: /home/jovyan/farsite/inputs/barriers/NoBarrier/NoBarrier.shp\n",
      "Launching Farsite #1\n",
      "Starting time step 0.000000 (maximum = 12)\n",
      "Writing outputs for Farsite #1 to /home/jovyan/data/20221209/Run_00803/out\n"
     ]
    },
    {
     "name": "stderr",
     "output_type": "stream",
     "text": [
      "/home/jovyan/farsite-devAPI/src/farsiteutils_v2.py:177: FutureWarning: The frame.append method is deprecated and will be removed from pandas in a future version. Use pandas.concat instead.\n",
      "  self.gdfsimulation = self.gdfsimulation.append(gdfappend)\n"
     ]
    },
    {
     "name": "stdout",
     "output_type": "stream",
     "text": [
      "Farsite $Rev: 2395 $\n",
      "Number of parallel threads = 4 (omp_get_num_procs = 32).\n",
      "Loading lcp file for Farsite #1: /home/jovyan/farsite/inputs/landscapes/Maria2019.lcp\n",
      "Loading inputs file for Farsite #1: /home/jovyan/data/20221209/Run_00804/config\n",
      "Loading ignition file for Farsite #1: /home/jovyan/data/ignitions/Maria2019E0004.shp\n",
      "Loading barrier file for Farsite #1: /home/jovyan/farsite/inputs/barriers/NoBarrier/NoBarrier.shp\n",
      "Launching Farsite #1\n",
      "Starting time step 0.000000 (maximum = 12)\n",
      "Writing outputs for Farsite #1 to /home/jovyan/data/20221209/Run_00804/out\n"
     ]
    },
    {
     "name": "stderr",
     "output_type": "stream",
     "text": [
      "/home/jovyan/farsite-devAPI/src/farsiteutils_v2.py:177: FutureWarning: The frame.append method is deprecated and will be removed from pandas in a future version. Use pandas.concat instead.\n",
      "  self.gdfsimulation = self.gdfsimulation.append(gdfappend)\n"
     ]
    },
    {
     "name": "stdout",
     "output_type": "stream",
     "text": [
      "Farsite $Rev: 2395 $\n",
      "Number of parallel threads = 4 (omp_get_num_procs = 32).\n",
      "Loading lcp file for Farsite #1: /home/jovyan/farsite/inputs/landscapes/Maria2019.lcp\n",
      "Loading inputs file for Farsite #1: /home/jovyan/data/20221209/Run_00805/config\n",
      "Loading ignition file for Farsite #1: /home/jovyan/data/ignitions/Maria2019E0005.shp\n",
      "Loading barrier file for Farsite #1: /home/jovyan/farsite/inputs/barriers/NoBarrier/NoBarrier.shp\n",
      "Launching Farsite #1\n",
      "Starting time step 0.000000 (maximum = 12)\n",
      "Writing outputs for Farsite #1 to /home/jovyan/data/20221209/Run_00805/out\n"
     ]
    },
    {
     "name": "stderr",
     "output_type": "stream",
     "text": [
      "/home/jovyan/farsite-devAPI/src/farsiteutils_v2.py:177: FutureWarning: The frame.append method is deprecated and will be removed from pandas in a future version. Use pandas.concat instead.\n",
      "  self.gdfsimulation = self.gdfsimulation.append(gdfappend)\n"
     ]
    },
    {
     "name": "stdout",
     "output_type": "stream",
     "text": [
      "Farsite $Rev: 2395 $\n",
      "Number of parallel threads = 4 (omp_get_num_procs = 32).\n",
      "Loading lcp file for Farsite #1: /home/jovyan/farsite/inputs/landscapes/Maria2019.lcp\n",
      "Loading inputs file for Farsite #1: /home/jovyan/data/20221209/Run_00806/config\n",
      "Loading ignition file for Farsite #1: /home/jovyan/data/ignitions/Maria2019E0006.shp\n",
      "Loading barrier file for Farsite #1: /home/jovyan/farsite/inputs/barriers/NoBarrier/NoBarrier.shp\n",
      "Launching Farsite #1\n",
      "Starting time step 0.000000 (maximum = 12)\n",
      "Writing outputs for Farsite #1 to /home/jovyan/data/20221209/Run_00806/out\n"
     ]
    },
    {
     "name": "stderr",
     "output_type": "stream",
     "text": [
      "/home/jovyan/farsite-devAPI/src/farsiteutils_v2.py:177: FutureWarning: The frame.append method is deprecated and will be removed from pandas in a future version. Use pandas.concat instead.\n",
      "  self.gdfsimulation = self.gdfsimulation.append(gdfappend)\n"
     ]
    },
    {
     "name": "stdout",
     "output_type": "stream",
     "text": [
      "Farsite $Rev: 2395 $\n",
      "Number of parallel threads = 4 (omp_get_num_procs = 32).\n",
      "Loading lcp file for Farsite #1: /home/jovyan/farsite/inputs/landscapes/Maria2019.lcp\n",
      "Loading inputs file for Farsite #1: /home/jovyan/data/20221209/Run_00807/config\n",
      "Loading ignition file for Farsite #1: /home/jovyan/data/ignitions/Maria2019E0007.shp\n",
      "Loading barrier file for Farsite #1: /home/jovyan/farsite/inputs/barriers/NoBarrier/NoBarrier.shp\n",
      "Launching Farsite #1\n",
      "Starting time step 0.000000 (maximum = 12)\n",
      "Writing outputs for Farsite #1 to /home/jovyan/data/20221209/Run_00807/out\n"
     ]
    },
    {
     "name": "stderr",
     "output_type": "stream",
     "text": [
      "/home/jovyan/farsite-devAPI/src/farsiteutils_v2.py:177: FutureWarning: The frame.append method is deprecated and will be removed from pandas in a future version. Use pandas.concat instead.\n",
      "  self.gdfsimulation = self.gdfsimulation.append(gdfappend)\n"
     ]
    },
    {
     "name": "stdout",
     "output_type": "stream",
     "text": [
      "Farsite $Rev: 2395 $\n",
      "Number of parallel threads = 4 (omp_get_num_procs = 32).\n",
      "Loading lcp file for Farsite #1: /home/jovyan/farsite/inputs/landscapes/Maria2019.lcp\n",
      "Loading inputs file for Farsite #1: /home/jovyan/data/20221209/Run_00808/config\n",
      "Loading ignition file for Farsite #1: /home/jovyan/data/ignitions/Maria2019E0008.shp\n",
      "Loading barrier file for Farsite #1: /home/jovyan/farsite/inputs/barriers/NoBarrier/NoBarrier.shp\n",
      "Launching Farsite #1\n",
      "Starting time step 0.000000 (maximum = 12)\n",
      "Writing outputs for Farsite #1 to /home/jovyan/data/20221209/Run_00808/out\n"
     ]
    },
    {
     "name": "stderr",
     "output_type": "stream",
     "text": [
      "/home/jovyan/farsite-devAPI/src/farsiteutils_v2.py:177: FutureWarning: The frame.append method is deprecated and will be removed from pandas in a future version. Use pandas.concat instead.\n",
      "  self.gdfsimulation = self.gdfsimulation.append(gdfappend)\n"
     ]
    },
    {
     "name": "stdout",
     "output_type": "stream",
     "text": [
      "Farsite $Rev: 2395 $\n",
      "Number of parallel threads = 4 (omp_get_num_procs = 32).\n",
      "Loading lcp file for Farsite #1: /home/jovyan/farsite/inputs/landscapes/Maria2019.lcp\n",
      "Loading inputs file for Farsite #1: /home/jovyan/data/20221209/Run_00809/config\n",
      "Loading ignition file for Farsite #1: /home/jovyan/data/ignitions/Maria2019E0009.shp\n",
      "Loading barrier file for Farsite #1: /home/jovyan/farsite/inputs/barriers/NoBarrier/NoBarrier.shp\n",
      "Launching Farsite #1\n",
      "Starting time step 0.000000 (maximum = 12)\n",
      "Writing outputs for Farsite #1 to /home/jovyan/data/20221209/Run_00809/out\n"
     ]
    },
    {
     "name": "stderr",
     "output_type": "stream",
     "text": [
      "/home/jovyan/farsite-devAPI/src/farsiteutils_v2.py:177: FutureWarning: The frame.append method is deprecated and will be removed from pandas in a future version. Use pandas.concat instead.\n",
      "  self.gdfsimulation = self.gdfsimulation.append(gdfappend)\n"
     ]
    },
    {
     "name": "stdout",
     "output_type": "stream",
     "text": [
      "Farsite $Rev: 2395 $\n",
      "Number of parallel threads = 4 (omp_get_num_procs = 32).\n",
      "Loading lcp file for Farsite #1: /home/jovyan/farsite/inputs/landscapes/Maria2019.lcp\n",
      "Loading inputs file for Farsite #1: /home/jovyan/data/20221209/Run_00810/config\n",
      "Loading ignition file for Farsite #1: /home/jovyan/data/ignitions/Maria2019E0010.shp\n",
      "Loading barrier file for Farsite #1: /home/jovyan/farsite/inputs/barriers/NoBarrier/NoBarrier.shp\n",
      "Launching Farsite #1\n",
      "Starting time step 0.000000 (maximum = 12)\n",
      "Writing outputs for Farsite #1 to /home/jovyan/data/20221209/Run_00810/out\n"
     ]
    },
    {
     "name": "stderr",
     "output_type": "stream",
     "text": [
      "/home/jovyan/farsite-devAPI/src/farsiteutils_v2.py:177: FutureWarning: The frame.append method is deprecated and will be removed from pandas in a future version. Use pandas.concat instead.\n",
      "  self.gdfsimulation = self.gdfsimulation.append(gdfappend)\n"
     ]
    },
    {
     "name": "stdout",
     "output_type": "stream",
     "text": [
      "Farsite $Rev: 2395 $\n",
      "Number of parallel threads = 4 (omp_get_num_procs = 32).\n",
      "Loading lcp file for Farsite #1: /home/jovyan/farsite/inputs/landscapes/Maria2019.lcp\n",
      "Loading inputs file for Farsite #1: /home/jovyan/data/20221209/Run_00811/config\n",
      "Loading ignition file for Farsite #1: /home/jovyan/data/ignitions/Maria2019E0011.shp\n",
      "Loading barrier file for Farsite #1: /home/jovyan/farsite/inputs/barriers/NoBarrier/NoBarrier.shp\n",
      "Launching Farsite #1\n",
      "Starting time step 0.000000 (maximum = 12)\n",
      "Writing outputs for Farsite #1 to /home/jovyan/data/20221209/Run_00811/out\n"
     ]
    },
    {
     "name": "stderr",
     "output_type": "stream",
     "text": [
      "/home/jovyan/farsite-devAPI/src/farsiteutils_v2.py:177: FutureWarning: The frame.append method is deprecated and will be removed from pandas in a future version. Use pandas.concat instead.\n",
      "  self.gdfsimulation = self.gdfsimulation.append(gdfappend)\n"
     ]
    },
    {
     "name": "stdout",
     "output_type": "stream",
     "text": [
      "Farsite $Rev: 2395 $\n",
      "Number of parallel threads = 4 (omp_get_num_procs = 32).\n",
      "Loading lcp file for Farsite #1: /home/jovyan/farsite/inputs/landscapes/Maria2019.lcp\n",
      "Loading inputs file for Farsite #1: /home/jovyan/data/20221209/Run_00812/config\n",
      "Loading ignition file for Farsite #1: /home/jovyan/data/ignitions/Maria2019E0012.shp\n",
      "Loading barrier file for Farsite #1: /home/jovyan/farsite/inputs/barriers/NoBarrier/NoBarrier.shp\n",
      "Launching Farsite #1\n",
      "Starting time step 0.000000 (maximum = 12)\n",
      "Writing outputs for Farsite #1 to /home/jovyan/data/20221209/Run_00812/out\n"
     ]
    },
    {
     "name": "stderr",
     "output_type": "stream",
     "text": [
      "/home/jovyan/farsite-devAPI/src/farsiteutils_v2.py:177: FutureWarning: The frame.append method is deprecated and will be removed from pandas in a future version. Use pandas.concat instead.\n",
      "  self.gdfsimulation = self.gdfsimulation.append(gdfappend)\n"
     ]
    },
    {
     "name": "stdout",
     "output_type": "stream",
     "text": [
      "Farsite $Rev: 2395 $\n",
      "Number of parallel threads = 4 (omp_get_num_procs = 32).\n",
      "Loading lcp file for Farsite #1: /home/jovyan/farsite/inputs/landscapes/Maria2019.lcp\n",
      "Loading inputs file for Farsite #1: /home/jovyan/data/20221209/Run_00813/config\n",
      "Loading ignition file for Farsite #1: /home/jovyan/data/ignitions/Maria2019E0013.shp\n",
      "Loading barrier file for Farsite #1: /home/jovyan/farsite/inputs/barriers/NoBarrier/NoBarrier.shp\n",
      "Launching Farsite #1\n",
      "Starting time step 0.000000 (maximum = 12)\n",
      "Writing outputs for Farsite #1 to /home/jovyan/data/20221209/Run_00813/out\n"
     ]
    },
    {
     "name": "stderr",
     "output_type": "stream",
     "text": [
      "/home/jovyan/farsite-devAPI/src/farsiteutils_v2.py:177: FutureWarning: The frame.append method is deprecated and will be removed from pandas in a future version. Use pandas.concat instead.\n",
      "  self.gdfsimulation = self.gdfsimulation.append(gdfappend)\n"
     ]
    },
    {
     "name": "stdout",
     "output_type": "stream",
     "text": [
      "Farsite $Rev: 2395 $\n",
      "Number of parallel threads = 4 (omp_get_num_procs = 32).\n",
      "Loading lcp file for Farsite #1: /home/jovyan/farsite/inputs/landscapes/Maria2019.lcp\n",
      "Loading inputs file for Farsite #1: /home/jovyan/data/20221209/Run_00814/config\n",
      "Loading ignition file for Farsite #1: /home/jovyan/data/ignitions/Maria2019E0014.shp\n",
      "Loading barrier file for Farsite #1: /home/jovyan/farsite/inputs/barriers/NoBarrier/NoBarrier.shp\n",
      "Launching Farsite #1\n",
      "Starting time step 0.000000 (maximum = 12)\n",
      "Writing outputs for Farsite #1 to /home/jovyan/data/20221209/Run_00814/out\n"
     ]
    },
    {
     "name": "stderr",
     "output_type": "stream",
     "text": [
      "/home/jovyan/farsite-devAPI/src/farsiteutils_v2.py:177: FutureWarning: The frame.append method is deprecated and will be removed from pandas in a future version. Use pandas.concat instead.\n",
      "  self.gdfsimulation = self.gdfsimulation.append(gdfappend)\n"
     ]
    },
    {
     "name": "stdout",
     "output_type": "stream",
     "text": [
      "Farsite $Rev: 2395 $\n",
      "Number of parallel threads = 4 (omp_get_num_procs = 32).\n",
      "Loading lcp file for Farsite #1: /home/jovyan/farsite/inputs/landscapes/Maria2019.lcp\n",
      "Loading inputs file for Farsite #1: /home/jovyan/data/20221209/Run_00815/config\n",
      "Loading ignition file for Farsite #1: /home/jovyan/data/ignitions/Maria2019E0015.shp\n",
      "Loading barrier file for Farsite #1: /home/jovyan/farsite/inputs/barriers/NoBarrier/NoBarrier.shp\n",
      "Launching Farsite #1\n",
      "Starting time step 0.000000 (maximum = 12)\n",
      "Writing outputs for Farsite #1 to /home/jovyan/data/20221209/Run_00815/out\n"
     ]
    },
    {
     "name": "stderr",
     "output_type": "stream",
     "text": [
      "/home/jovyan/farsite-devAPI/src/farsiteutils_v2.py:177: FutureWarning: The frame.append method is deprecated and will be removed from pandas in a future version. Use pandas.concat instead.\n",
      "  self.gdfsimulation = self.gdfsimulation.append(gdfappend)\n"
     ]
    },
    {
     "name": "stdout",
     "output_type": "stream",
     "text": [
      "Farsite $Rev: 2395 $\n",
      "Number of parallel threads = 4 (omp_get_num_procs = 32).\n",
      "Loading lcp file for Farsite #1: /home/jovyan/farsite/inputs/landscapes/Maria2019.lcp\n",
      "Loading inputs file for Farsite #1: /home/jovyan/data/20221209/Run_00816/config\n",
      "Loading ignition file for Farsite #1: /home/jovyan/data/ignitions/Maria2019E0016.shp\n",
      "Loading barrier file for Farsite #1: /home/jovyan/farsite/inputs/barriers/NoBarrier/NoBarrier.shp\n",
      "Launching Farsite #1\n",
      "Starting time step 0.000000 (maximum = 12)\n",
      "Writing outputs for Farsite #1 to /home/jovyan/data/20221209/Run_00816/out\n"
     ]
    },
    {
     "name": "stderr",
     "output_type": "stream",
     "text": [
      "/home/jovyan/farsite-devAPI/src/farsiteutils_v2.py:177: FutureWarning: The frame.append method is deprecated and will be removed from pandas in a future version. Use pandas.concat instead.\n",
      "  self.gdfsimulation = self.gdfsimulation.append(gdfappend)\n"
     ]
    },
    {
     "name": "stdout",
     "output_type": "stream",
     "text": [
      "Farsite $Rev: 2395 $\n",
      "Number of parallel threads = 4 (omp_get_num_procs = 32).\n",
      "Loading lcp file for Farsite #1: /home/jovyan/farsite/inputs/landscapes/Maria2019.lcp\n",
      "Loading inputs file for Farsite #1: /home/jovyan/data/20221209/Run_00817/config\n",
      "Loading ignition file for Farsite #1: /home/jovyan/data/ignitions/Maria2019E0017.shp\n",
      "Loading barrier file for Farsite #1: /home/jovyan/farsite/inputs/barriers/NoBarrier/NoBarrier.shp\n",
      "Launching Farsite #1\n",
      "Starting time step 0.000000 (maximum = 12)\n",
      "Writing outputs for Farsite #1 to /home/jovyan/data/20221209/Run_00817/out\n"
     ]
    },
    {
     "name": "stderr",
     "output_type": "stream",
     "text": [
      "/home/jovyan/farsite-devAPI/src/farsiteutils_v2.py:177: FutureWarning: The frame.append method is deprecated and will be removed from pandas in a future version. Use pandas.concat instead.\n",
      "  self.gdfsimulation = self.gdfsimulation.append(gdfappend)\n"
     ]
    },
    {
     "name": "stdout",
     "output_type": "stream",
     "text": [
      "Farsite $Rev: 2395 $\n",
      "Number of parallel threads = 4 (omp_get_num_procs = 32).\n",
      "Loading lcp file for Farsite #1: /home/jovyan/farsite/inputs/landscapes/Maria2019.lcp\n",
      "Loading inputs file for Farsite #1: /home/jovyan/data/20221209/Run_00818/config\n",
      "Loading ignition file for Farsite #1: /home/jovyan/data/ignitions/Maria2019E0018.shp\n",
      "Loading barrier file for Farsite #1: /home/jovyan/farsite/inputs/barriers/NoBarrier/NoBarrier.shp\n",
      "Launching Farsite #1\n",
      "Starting time step 0.000000 (maximum = 12)\n",
      "Writing outputs for Farsite #1 to /home/jovyan/data/20221209/Run_00818/out\n"
     ]
    },
    {
     "name": "stderr",
     "output_type": "stream",
     "text": [
      "/home/jovyan/farsite-devAPI/src/farsiteutils_v2.py:177: FutureWarning: The frame.append method is deprecated and will be removed from pandas in a future version. Use pandas.concat instead.\n",
      "  self.gdfsimulation = self.gdfsimulation.append(gdfappend)\n"
     ]
    },
    {
     "name": "stdout",
     "output_type": "stream",
     "text": [
      "Farsite $Rev: 2395 $\n",
      "Number of parallel threads = 4 (omp_get_num_procs = 32).\n",
      "Loading lcp file for Farsite #1: /home/jovyan/farsite/inputs/landscapes/Maria2019.lcp\n",
      "Loading inputs file for Farsite #1: /home/jovyan/data/20221209/Run_00819/config\n",
      "Loading ignition file for Farsite #1: /home/jovyan/data/ignitions/Maria2019E0019.shp\n",
      "Loading barrier file for Farsite #1: /home/jovyan/farsite/inputs/barriers/NoBarrier/NoBarrier.shp\n",
      "Launching Farsite #1\n",
      "Starting time step 0.000000 (maximum = 12)\n",
      "Writing outputs for Farsite #1 to /home/jovyan/data/20221209/Run_00819/out\n"
     ]
    },
    {
     "name": "stderr",
     "output_type": "stream",
     "text": [
      "/home/jovyan/farsite-devAPI/src/farsiteutils_v2.py:177: FutureWarning: The frame.append method is deprecated and will be removed from pandas in a future version. Use pandas.concat instead.\n",
      "  self.gdfsimulation = self.gdfsimulation.append(gdfappend)\n"
     ]
    },
    {
     "name": "stdout",
     "output_type": "stream",
     "text": [
      "Farsite $Rev: 2395 $\n",
      "Number of parallel threads = 4 (omp_get_num_procs = 32).\n",
      "Loading lcp file for Farsite #1: /home/jovyan/farsite/inputs/landscapes/Maria2019.lcp\n",
      "Loading inputs file for Farsite #1: /home/jovyan/data/20221209/Run_00820/config\n",
      "Loading ignition file for Farsite #1: /home/jovyan/data/ignitions/Maria2019E0020.shp\n",
      "Loading barrier file for Farsite #1: /home/jovyan/farsite/inputs/barriers/NoBarrier/NoBarrier.shp\n",
      "Launching Farsite #1\n",
      "Starting time step 0.000000 (maximum = 12)\n",
      "Writing outputs for Farsite #1 to /home/jovyan/data/20221209/Run_00820/out\n"
     ]
    },
    {
     "name": "stderr",
     "output_type": "stream",
     "text": [
      "/home/jovyan/farsite-devAPI/src/farsiteutils_v2.py:177: FutureWarning: The frame.append method is deprecated and will be removed from pandas in a future version. Use pandas.concat instead.\n",
      "  self.gdfsimulation = self.gdfsimulation.append(gdfappend)\n"
     ]
    },
    {
     "name": "stdout",
     "output_type": "stream",
     "text": [
      "Farsite $Rev: 2395 $\n",
      "Number of parallel threads = 4 (omp_get_num_procs = 32).\n",
      "Loading lcp file for Farsite #1: /home/jovyan/farsite/inputs/landscapes/Maria2019.lcp\n",
      "Loading inputs file for Farsite #1: /home/jovyan/data/20221209/Run_00821/config\n",
      "Loading ignition file for Farsite #1: /home/jovyan/data/ignitions/Maria2019E0021.shp\n",
      "Loading barrier file for Farsite #1: /home/jovyan/farsite/inputs/barriers/NoBarrier/NoBarrier.shp\n",
      "Launching Farsite #1\n",
      "Starting time step 0.000000 (maximum = 12)\n",
      "Writing outputs for Farsite #1 to /home/jovyan/data/20221209/Run_00821/out\n"
     ]
    },
    {
     "name": "stderr",
     "output_type": "stream",
     "text": [
      "/home/jovyan/farsite-devAPI/src/farsiteutils_v2.py:177: FutureWarning: The frame.append method is deprecated and will be removed from pandas in a future version. Use pandas.concat instead.\n",
      "  self.gdfsimulation = self.gdfsimulation.append(gdfappend)\n"
     ]
    },
    {
     "name": "stdout",
     "output_type": "stream",
     "text": [
      "Farsite $Rev: 2395 $\n",
      "Number of parallel threads = 4 (omp_get_num_procs = 32).\n",
      "Loading lcp file for Farsite #1: /home/jovyan/farsite/inputs/landscapes/Maria2019.lcp\n",
      "Loading inputs file for Farsite #1: /home/jovyan/data/20221209/Run_00822/config\n",
      "Loading ignition file for Farsite #1: /home/jovyan/data/ignitions/Maria2019E0022.shp\n",
      "Loading barrier file for Farsite #1: /home/jovyan/farsite/inputs/barriers/NoBarrier/NoBarrier.shp\n",
      "Launching Farsite #1\n",
      "Starting time step 0.000000 (maximum = 12)\n",
      "Writing outputs for Farsite #1 to /home/jovyan/data/20221209/Run_00822/out\n"
     ]
    },
    {
     "name": "stderr",
     "output_type": "stream",
     "text": [
      "/home/jovyan/farsite-devAPI/src/farsiteutils_v2.py:177: FutureWarning: The frame.append method is deprecated and will be removed from pandas in a future version. Use pandas.concat instead.\n",
      "  self.gdfsimulation = self.gdfsimulation.append(gdfappend)\n"
     ]
    },
    {
     "name": "stdout",
     "output_type": "stream",
     "text": [
      "Farsite $Rev: 2395 $\n",
      "Number of parallel threads = 4 (omp_get_num_procs = 32).\n",
      "Loading lcp file for Farsite #1: /home/jovyan/farsite/inputs/landscapes/Maria2019.lcp\n",
      "Loading inputs file for Farsite #1: /home/jovyan/data/20221209/Run_00823/config\n",
      "Loading ignition file for Farsite #1: /home/jovyan/data/ignitions/Maria2019E0023.shp\n",
      "Loading barrier file for Farsite #1: /home/jovyan/farsite/inputs/barriers/NoBarrier/NoBarrier.shp\n",
      "Launching Farsite #1\n",
      "Starting time step 0.000000 (maximum = 12)\n",
      "Writing outputs for Farsite #1 to /home/jovyan/data/20221209/Run_00823/out\n"
     ]
    },
    {
     "name": "stderr",
     "output_type": "stream",
     "text": [
      "/home/jovyan/farsite-devAPI/src/farsiteutils_v2.py:177: FutureWarning: The frame.append method is deprecated and will be removed from pandas in a future version. Use pandas.concat instead.\n",
      "  self.gdfsimulation = self.gdfsimulation.append(gdfappend)\n"
     ]
    },
    {
     "name": "stdout",
     "output_type": "stream",
     "text": [
      "Farsite $Rev: 2395 $\n",
      "Number of parallel threads = 4 (omp_get_num_procs = 32).\n",
      "Loading lcp file for Farsite #1: /home/jovyan/farsite/inputs/landscapes/Maria2019.lcp\n",
      "Loading inputs file for Farsite #1: /home/jovyan/data/20221209/Run_00824/config\n",
      "Loading ignition file for Farsite #1: /home/jovyan/data/ignitions/Maria2019E0024.shp\n",
      "Loading barrier file for Farsite #1: /home/jovyan/farsite/inputs/barriers/NoBarrier/NoBarrier.shp\n",
      "Launching Farsite #1\n",
      "Starting time step 0.000000 (maximum = 12)\n",
      "Writing outputs for Farsite #1 to /home/jovyan/data/20221209/Run_00824/out\n"
     ]
    },
    {
     "name": "stderr",
     "output_type": "stream",
     "text": [
      "/home/jovyan/farsite-devAPI/src/farsiteutils_v2.py:177: FutureWarning: The frame.append method is deprecated and will be removed from pandas in a future version. Use pandas.concat instead.\n",
      "  self.gdfsimulation = self.gdfsimulation.append(gdfappend)\n"
     ]
    },
    {
     "name": "stdout",
     "output_type": "stream",
     "text": [
      "Farsite $Rev: 2395 $\n",
      "Number of parallel threads = 4 (omp_get_num_procs = 32).\n",
      "Loading lcp file for Farsite #1: /home/jovyan/farsite/inputs/landscapes/Maria2019.lcp\n",
      "Loading inputs file for Farsite #1: /home/jovyan/data/20221209/Run_00825/config\n",
      "Loading ignition file for Farsite #1: /home/jovyan/data/ignitions/Maria2019E0025.shp\n",
      "Loading barrier file for Farsite #1: /home/jovyan/farsite/inputs/barriers/NoBarrier/NoBarrier.shp\n",
      "Launching Farsite #1\n",
      "Starting time step 0.000000 (maximum = 12)\n",
      "Writing outputs for Farsite #1 to /home/jovyan/data/20221209/Run_00825/out\n"
     ]
    },
    {
     "name": "stderr",
     "output_type": "stream",
     "text": [
      "/home/jovyan/farsite-devAPI/src/farsiteutils_v2.py:177: FutureWarning: The frame.append method is deprecated and will be removed from pandas in a future version. Use pandas.concat instead.\n",
      "  self.gdfsimulation = self.gdfsimulation.append(gdfappend)\n"
     ]
    },
    {
     "name": "stdout",
     "output_type": "stream",
     "text": [
      "Farsite $Rev: 2395 $\n",
      "Number of parallel threads = 4 (omp_get_num_procs = 32).\n",
      "Loading lcp file for Farsite #1: /home/jovyan/farsite/inputs/landscapes/Maria2019.lcp\n",
      "Loading inputs file for Farsite #1: /home/jovyan/data/20221209/Run_00826/config\n",
      "Loading ignition file for Farsite #1: /home/jovyan/data/ignitions/Maria2019E0026.shp\n",
      "Loading barrier file for Farsite #1: /home/jovyan/farsite/inputs/barriers/NoBarrier/NoBarrier.shp\n",
      "Launching Farsite #1\n",
      "Starting time step 0.000000 (maximum = 12)\n",
      "Writing outputs for Farsite #1 to /home/jovyan/data/20221209/Run_00826/out\n"
     ]
    },
    {
     "name": "stderr",
     "output_type": "stream",
     "text": [
      "/home/jovyan/farsite-devAPI/src/farsiteutils_v2.py:177: FutureWarning: The frame.append method is deprecated and will be removed from pandas in a future version. Use pandas.concat instead.\n",
      "  self.gdfsimulation = self.gdfsimulation.append(gdfappend)\n"
     ]
    },
    {
     "name": "stdout",
     "output_type": "stream",
     "text": [
      "Farsite $Rev: 2395 $\n",
      "Number of parallel threads = 4 (omp_get_num_procs = 32).\n",
      "Loading lcp file for Farsite #1: /home/jovyan/farsite/inputs/landscapes/Maria2019.lcp\n",
      "Loading inputs file for Farsite #1: /home/jovyan/data/20221209/Run_00827/config\n",
      "Loading ignition file for Farsite #1: /home/jovyan/data/ignitions/Maria2019E0027.shp\n",
      "Loading barrier file for Farsite #1: /home/jovyan/farsite/inputs/barriers/NoBarrier/NoBarrier.shp\n",
      "Launching Farsite #1\n",
      "Starting time step 0.000000 (maximum = 12)\n",
      "Writing outputs for Farsite #1 to /home/jovyan/data/20221209/Run_00827/out\n"
     ]
    },
    {
     "name": "stderr",
     "output_type": "stream",
     "text": [
      "/home/jovyan/farsite-devAPI/src/farsiteutils_v2.py:177: FutureWarning: The frame.append method is deprecated and will be removed from pandas in a future version. Use pandas.concat instead.\n",
      "  self.gdfsimulation = self.gdfsimulation.append(gdfappend)\n"
     ]
    },
    {
     "name": "stdout",
     "output_type": "stream",
     "text": [
      "Farsite $Rev: 2395 $\n",
      "Number of parallel threads = 4 (omp_get_num_procs = 32).\n",
      "Loading lcp file for Farsite #1: /home/jovyan/farsite/inputs/landscapes/Maria2019.lcp\n",
      "Loading inputs file for Farsite #1: /home/jovyan/data/20221209/Run_00828/config\n",
      "Loading ignition file for Farsite #1: /home/jovyan/data/ignitions/Maria2019E0028.shp\n",
      "Loading barrier file for Farsite #1: /home/jovyan/farsite/inputs/barriers/NoBarrier/NoBarrier.shp\n",
      "Launching Farsite #1\n",
      "Starting time step 0.000000 (maximum = 12)\n",
      "Writing outputs for Farsite #1 to /home/jovyan/data/20221209/Run_00828/out\n"
     ]
    },
    {
     "name": "stderr",
     "output_type": "stream",
     "text": [
      "/home/jovyan/farsite-devAPI/src/farsiteutils_v2.py:177: FutureWarning: The frame.append method is deprecated and will be removed from pandas in a future version. Use pandas.concat instead.\n",
      "  self.gdfsimulation = self.gdfsimulation.append(gdfappend)\n"
     ]
    },
    {
     "name": "stdout",
     "output_type": "stream",
     "text": [
      "Farsite $Rev: 2395 $\n",
      "Number of parallel threads = 4 (omp_get_num_procs = 32).\n",
      "Loading lcp file for Farsite #1: /home/jovyan/farsite/inputs/landscapes/Maria2019.lcp\n",
      "Loading inputs file for Farsite #1: /home/jovyan/data/20221209/Run_00829/config\n",
      "Loading ignition file for Farsite #1: /home/jovyan/data/ignitions/Maria2019E0029.shp\n",
      "Loading barrier file for Farsite #1: /home/jovyan/farsite/inputs/barriers/NoBarrier/NoBarrier.shp\n",
      "Launching Farsite #1\n",
      "Starting time step 0.000000 (maximum = 12)\n",
      "Writing outputs for Farsite #1 to /home/jovyan/data/20221209/Run_00829/out\n"
     ]
    },
    {
     "name": "stderr",
     "output_type": "stream",
     "text": [
      "/home/jovyan/farsite-devAPI/src/farsiteutils_v2.py:177: FutureWarning: The frame.append method is deprecated and will be removed from pandas in a future version. Use pandas.concat instead.\n",
      "  self.gdfsimulation = self.gdfsimulation.append(gdfappend)\n"
     ]
    },
    {
     "name": "stdout",
     "output_type": "stream",
     "text": [
      "Farsite $Rev: 2395 $\n",
      "Number of parallel threads = 4 (omp_get_num_procs = 32).\n",
      "Loading lcp file for Farsite #1: /home/jovyan/farsite/inputs/landscapes/Maria2019.lcp\n",
      "Loading inputs file for Farsite #1: /home/jovyan/data/20221209/Run_00830/config\n",
      "Loading ignition file for Farsite #1: /home/jovyan/data/ignitions/Maria2019E0030.shp\n",
      "Loading barrier file for Farsite #1: /home/jovyan/farsite/inputs/barriers/NoBarrier/NoBarrier.shp\n",
      "Launching Farsite #1\n",
      "Starting time step 0.000000 (maximum = 12)\n",
      "Writing outputs for Farsite #1 to /home/jovyan/data/20221209/Run_00830/out\n"
     ]
    },
    {
     "name": "stderr",
     "output_type": "stream",
     "text": [
      "/home/jovyan/farsite-devAPI/src/farsiteutils_v2.py:177: FutureWarning: The frame.append method is deprecated and will be removed from pandas in a future version. Use pandas.concat instead.\n",
      "  self.gdfsimulation = self.gdfsimulation.append(gdfappend)\n"
     ]
    },
    {
     "name": "stdout",
     "output_type": "stream",
     "text": [
      "Farsite $Rev: 2395 $\n",
      "Number of parallel threads = 4 (omp_get_num_procs = 32).\n",
      "Loading lcp file for Farsite #1: /home/jovyan/farsite/inputs/landscapes/Maria2019.lcp\n",
      "Loading inputs file for Farsite #1: /home/jovyan/data/20221209/Run_00831/config\n",
      "Loading ignition file for Farsite #1: /home/jovyan/data/ignitions/Maria2019E0031.shp\n",
      "Loading barrier file for Farsite #1: /home/jovyan/farsite/inputs/barriers/NoBarrier/NoBarrier.shp\n",
      "Launching Farsite #1\n",
      "Starting time step 0.000000 (maximum = 12)\n",
      "Writing outputs for Farsite #1 to /home/jovyan/data/20221209/Run_00831/out\n"
     ]
    },
    {
     "name": "stderr",
     "output_type": "stream",
     "text": [
      "/home/jovyan/farsite-devAPI/src/farsiteutils_v2.py:177: FutureWarning: The frame.append method is deprecated and will be removed from pandas in a future version. Use pandas.concat instead.\n",
      "  self.gdfsimulation = self.gdfsimulation.append(gdfappend)\n"
     ]
    },
    {
     "name": "stdout",
     "output_type": "stream",
     "text": [
      "Farsite $Rev: 2395 $\n",
      "Number of parallel threads = 4 (omp_get_num_procs = 32).\n",
      "Loading lcp file for Farsite #1: /home/jovyan/farsite/inputs/landscapes/Maria2019.lcp\n",
      "Loading inputs file for Farsite #1: /home/jovyan/data/20221209/Run_00832/config\n",
      "Loading ignition file for Farsite #1: /home/jovyan/data/ignitions/Maria2019E0032.shp\n",
      "Loading barrier file for Farsite #1: /home/jovyan/farsite/inputs/barriers/NoBarrier/NoBarrier.shp\n",
      "Launching Farsite #1\n",
      "Starting time step 0.000000 (maximum = 12)\n",
      "Writing outputs for Farsite #1 to /home/jovyan/data/20221209/Run_00832/out\n"
     ]
    },
    {
     "name": "stderr",
     "output_type": "stream",
     "text": [
      "/home/jovyan/farsite-devAPI/src/farsiteutils_v2.py:177: FutureWarning: The frame.append method is deprecated and will be removed from pandas in a future version. Use pandas.concat instead.\n",
      "  self.gdfsimulation = self.gdfsimulation.append(gdfappend)\n"
     ]
    },
    {
     "name": "stdout",
     "output_type": "stream",
     "text": [
      "Farsite $Rev: 2395 $\n",
      "Number of parallel threads = 4 (omp_get_num_procs = 32).\n",
      "Loading lcp file for Farsite #1: /home/jovyan/farsite/inputs/landscapes/Maria2019.lcp\n",
      "Loading inputs file for Farsite #1: /home/jovyan/data/20221209/Run_00833/config\n",
      "Loading ignition file for Farsite #1: /home/jovyan/data/ignitions/Maria2019E0033.shp\n",
      "Loading barrier file for Farsite #1: /home/jovyan/farsite/inputs/barriers/NoBarrier/NoBarrier.shp\n",
      "Launching Farsite #1\n",
      "Starting time step 0.000000 (maximum = 12)\n",
      "Writing outputs for Farsite #1 to /home/jovyan/data/20221209/Run_00833/out\n"
     ]
    },
    {
     "name": "stderr",
     "output_type": "stream",
     "text": [
      "/home/jovyan/farsite-devAPI/src/farsiteutils_v2.py:177: FutureWarning: The frame.append method is deprecated and will be removed from pandas in a future version. Use pandas.concat instead.\n",
      "  self.gdfsimulation = self.gdfsimulation.append(gdfappend)\n"
     ]
    },
    {
     "name": "stdout",
     "output_type": "stream",
     "text": [
      "Farsite $Rev: 2395 $\n",
      "Number of parallel threads = 4 (omp_get_num_procs = 32).\n",
      "Loading lcp file for Farsite #1: /home/jovyan/farsite/inputs/landscapes/Maria2019.lcp\n",
      "Loading inputs file for Farsite #1: /home/jovyan/data/20221209/Run_00834/config\n",
      "Loading ignition file for Farsite #1: /home/jovyan/data/ignitions/Maria2019E0034.shp\n",
      "Loading barrier file for Farsite #1: /home/jovyan/farsite/inputs/barriers/NoBarrier/NoBarrier.shp\n",
      "Launching Farsite #1\n",
      "Starting time step 0.000000 (maximum = 12)\n",
      "Writing outputs for Farsite #1 to /home/jovyan/data/20221209/Run_00834/out\n"
     ]
    },
    {
     "name": "stderr",
     "output_type": "stream",
     "text": [
      "/home/jovyan/farsite-devAPI/src/farsiteutils_v2.py:177: FutureWarning: The frame.append method is deprecated and will be removed from pandas in a future version. Use pandas.concat instead.\n",
      "  self.gdfsimulation = self.gdfsimulation.append(gdfappend)\n"
     ]
    },
    {
     "name": "stdout",
     "output_type": "stream",
     "text": [
      "Farsite $Rev: 2395 $\n",
      "Number of parallel threads = 4 (omp_get_num_procs = 32).\n",
      "Loading lcp file for Farsite #1: /home/jovyan/farsite/inputs/landscapes/Maria2019.lcp\n",
      "Loading inputs file for Farsite #1: /home/jovyan/data/20221209/Run_00835/config\n",
      "Loading ignition file for Farsite #1: /home/jovyan/data/ignitions/Maria2019E0035.shp\n",
      "Loading barrier file for Farsite #1: /home/jovyan/farsite/inputs/barriers/NoBarrier/NoBarrier.shp\n",
      "Launching Farsite #1\n",
      "Starting time step 0.000000 (maximum = 12)\n",
      "Writing outputs for Farsite #1 to /home/jovyan/data/20221209/Run_00835/out\n"
     ]
    },
    {
     "name": "stderr",
     "output_type": "stream",
     "text": [
      "/home/jovyan/farsite-devAPI/src/farsiteutils_v2.py:177: FutureWarning: The frame.append method is deprecated and will be removed from pandas in a future version. Use pandas.concat instead.\n",
      "  self.gdfsimulation = self.gdfsimulation.append(gdfappend)\n"
     ]
    },
    {
     "name": "stdout",
     "output_type": "stream",
     "text": [
      "Farsite $Rev: 2395 $\n",
      "Number of parallel threads = 4 (omp_get_num_procs = 32).\n",
      "Loading lcp file for Farsite #1: /home/jovyan/farsite/inputs/landscapes/Maria2019.lcp\n",
      "Loading inputs file for Farsite #1: /home/jovyan/data/20221209/Run_00836/config\n",
      "Loading ignition file for Farsite #1: /home/jovyan/data/ignitions/Maria2019E0036.shp\n",
      "Loading barrier file for Farsite #1: /home/jovyan/farsite/inputs/barriers/NoBarrier/NoBarrier.shp\n",
      "Launching Farsite #1\n",
      "Starting time step 0.000000 (maximum = 12)\n",
      "Writing outputs for Farsite #1 to /home/jovyan/data/20221209/Run_00836/out\n"
     ]
    },
    {
     "name": "stderr",
     "output_type": "stream",
     "text": [
      "/home/jovyan/farsite-devAPI/src/farsiteutils_v2.py:177: FutureWarning: The frame.append method is deprecated and will be removed from pandas in a future version. Use pandas.concat instead.\n",
      "  self.gdfsimulation = self.gdfsimulation.append(gdfappend)\n"
     ]
    },
    {
     "name": "stdout",
     "output_type": "stream",
     "text": [
      "Farsite $Rev: 2395 $\n",
      "Number of parallel threads = 4 (omp_get_num_procs = 32).\n",
      "Loading lcp file for Farsite #1: /home/jovyan/farsite/inputs/landscapes/Maria2019.lcp\n",
      "Loading inputs file for Farsite #1: /home/jovyan/data/20221209/Run_00837/config\n",
      "Loading ignition file for Farsite #1: /home/jovyan/data/ignitions/Maria2019E0037.shp\n",
      "Loading barrier file for Farsite #1: /home/jovyan/farsite/inputs/barriers/NoBarrier/NoBarrier.shp\n",
      "Launching Farsite #1\n",
      "Starting time step 0.000000 (maximum = 12)\n",
      "Writing outputs for Farsite #1 to /home/jovyan/data/20221209/Run_00837/out\n"
     ]
    },
    {
     "name": "stderr",
     "output_type": "stream",
     "text": [
      "/home/jovyan/farsite-devAPI/src/farsiteutils_v2.py:177: FutureWarning: The frame.append method is deprecated and will be removed from pandas in a future version. Use pandas.concat instead.\n",
      "  self.gdfsimulation = self.gdfsimulation.append(gdfappend)\n"
     ]
    },
    {
     "name": "stdout",
     "output_type": "stream",
     "text": [
      "Farsite $Rev: 2395 $\n",
      "Number of parallel threads = 4 (omp_get_num_procs = 32).\n",
      "Loading lcp file for Farsite #1: /home/jovyan/farsite/inputs/landscapes/Maria2019.lcp\n",
      "Loading inputs file for Farsite #1: /home/jovyan/data/20221209/Run_00838/config\n",
      "Loading ignition file for Farsite #1: /home/jovyan/data/ignitions/Maria2019E0038.shp\n",
      "Loading barrier file for Farsite #1: /home/jovyan/farsite/inputs/barriers/NoBarrier/NoBarrier.shp\n",
      "Launching Farsite #1\n",
      "Starting time step 0.000000 (maximum = 12)\n",
      "Writing outputs for Farsite #1 to /home/jovyan/data/20221209/Run_00838/out\n"
     ]
    },
    {
     "name": "stderr",
     "output_type": "stream",
     "text": [
      "/home/jovyan/farsite-devAPI/src/farsiteutils_v2.py:177: FutureWarning: The frame.append method is deprecated and will be removed from pandas in a future version. Use pandas.concat instead.\n",
      "  self.gdfsimulation = self.gdfsimulation.append(gdfappend)\n"
     ]
    },
    {
     "name": "stdout",
     "output_type": "stream",
     "text": [
      "Farsite $Rev: 2395 $\n",
      "Number of parallel threads = 4 (omp_get_num_procs = 32).\n",
      "Loading lcp file for Farsite #1: /home/jovyan/farsite/inputs/landscapes/Maria2019.lcp\n",
      "Loading inputs file for Farsite #1: /home/jovyan/data/20221209/Run_00839/config\n",
      "Loading ignition file for Farsite #1: /home/jovyan/data/ignitions/Maria2019E0039.shp\n",
      "Loading barrier file for Farsite #1: /home/jovyan/farsite/inputs/barriers/NoBarrier/NoBarrier.shp\n",
      "Launching Farsite #1\n",
      "Starting time step 0.000000 (maximum = 12)\n",
      "Writing outputs for Farsite #1 to /home/jovyan/data/20221209/Run_00839/out\n"
     ]
    },
    {
     "name": "stderr",
     "output_type": "stream",
     "text": [
      "/home/jovyan/farsite-devAPI/src/farsiteutils_v2.py:177: FutureWarning: The frame.append method is deprecated and will be removed from pandas in a future version. Use pandas.concat instead.\n",
      "  self.gdfsimulation = self.gdfsimulation.append(gdfappend)\n"
     ]
    },
    {
     "name": "stdout",
     "output_type": "stream",
     "text": [
      "Farsite $Rev: 2395 $\n",
      "Number of parallel threads = 4 (omp_get_num_procs = 32).\n",
      "Loading lcp file for Farsite #1: /home/jovyan/farsite/inputs/landscapes/Maria2019.lcp\n",
      "Loading inputs file for Farsite #1: /home/jovyan/data/20221209/Run_00840/config\n",
      "Loading ignition file for Farsite #1: /home/jovyan/data/ignitions/Maria2019E0040.shp\n",
      "Loading barrier file for Farsite #1: /home/jovyan/farsite/inputs/barriers/NoBarrier/NoBarrier.shp\n",
      "Launching Farsite #1\n",
      "Starting time step 0.000000 (maximum = 12)\n",
      "Writing outputs for Farsite #1 to /home/jovyan/data/20221209/Run_00840/out\n"
     ]
    },
    {
     "name": "stderr",
     "output_type": "stream",
     "text": [
      "/home/jovyan/farsite-devAPI/src/farsiteutils_v2.py:177: FutureWarning: The frame.append method is deprecated and will be removed from pandas in a future version. Use pandas.concat instead.\n",
      "  self.gdfsimulation = self.gdfsimulation.append(gdfappend)\n"
     ]
    },
    {
     "name": "stdout",
     "output_type": "stream",
     "text": [
      "Farsite $Rev: 2395 $\n",
      "Number of parallel threads = 4 (omp_get_num_procs = 32).\n",
      "Loading lcp file for Farsite #1: /home/jovyan/farsite/inputs/landscapes/Maria2019.lcp\n",
      "Loading inputs file for Farsite #1: /home/jovyan/data/20221209/Run_00841/config\n",
      "Loading ignition file for Farsite #1: /home/jovyan/data/ignitions/Maria2019E0041.shp\n",
      "Loading barrier file for Farsite #1: /home/jovyan/farsite/inputs/barriers/NoBarrier/NoBarrier.shp\n",
      "Launching Farsite #1\n",
      "Starting time step 0.000000 (maximum = 12)\n",
      "Writing outputs for Farsite #1 to /home/jovyan/data/20221209/Run_00841/out\n"
     ]
    },
    {
     "name": "stderr",
     "output_type": "stream",
     "text": [
      "/home/jovyan/farsite-devAPI/src/farsiteutils_v2.py:177: FutureWarning: The frame.append method is deprecated and will be removed from pandas in a future version. Use pandas.concat instead.\n",
      "  self.gdfsimulation = self.gdfsimulation.append(gdfappend)\n"
     ]
    },
    {
     "name": "stdout",
     "output_type": "stream",
     "text": [
      "Farsite $Rev: 2395 $\n",
      "Number of parallel threads = 4 (omp_get_num_procs = 32).\n",
      "Loading lcp file for Farsite #1: /home/jovyan/farsite/inputs/landscapes/Maria2019.lcp\n",
      "Loading inputs file for Farsite #1: /home/jovyan/data/20221209/Run_00842/config\n",
      "Loading ignition file for Farsite #1: /home/jovyan/data/ignitions/Maria2019E0042.shp\n",
      "Loading barrier file for Farsite #1: /home/jovyan/farsite/inputs/barriers/NoBarrier/NoBarrier.shp\n",
      "Launching Farsite #1\n",
      "Starting time step 0.000000 (maximum = 12)\n",
      "Writing outputs for Farsite #1 to /home/jovyan/data/20221209/Run_00842/out\n"
     ]
    },
    {
     "name": "stderr",
     "output_type": "stream",
     "text": [
      "/home/jovyan/farsite-devAPI/src/farsiteutils_v2.py:177: FutureWarning: The frame.append method is deprecated and will be removed from pandas in a future version. Use pandas.concat instead.\n",
      "  self.gdfsimulation = self.gdfsimulation.append(gdfappend)\n"
     ]
    },
    {
     "name": "stdout",
     "output_type": "stream",
     "text": [
      "Farsite $Rev: 2395 $\n",
      "Number of parallel threads = 4 (omp_get_num_procs = 32).\n",
      "Loading lcp file for Farsite #1: /home/jovyan/farsite/inputs/landscapes/Maria2019.lcp\n",
      "Loading inputs file for Farsite #1: /home/jovyan/data/20221209/Run_00843/config\n",
      "Loading ignition file for Farsite #1: /home/jovyan/data/ignitions/Maria2019E0043.shp\n",
      "Loading barrier file for Farsite #1: /home/jovyan/farsite/inputs/barriers/NoBarrier/NoBarrier.shp\n",
      "Launching Farsite #1\n",
      "Starting time step 0.000000 (maximum = 12)\n",
      "Writing outputs for Farsite #1 to /home/jovyan/data/20221209/Run_00843/out\n"
     ]
    },
    {
     "name": "stderr",
     "output_type": "stream",
     "text": [
      "/home/jovyan/farsite-devAPI/src/farsiteutils_v2.py:177: FutureWarning: The frame.append method is deprecated and will be removed from pandas in a future version. Use pandas.concat instead.\n",
      "  self.gdfsimulation = self.gdfsimulation.append(gdfappend)\n"
     ]
    },
    {
     "name": "stdout",
     "output_type": "stream",
     "text": [
      "Farsite $Rev: 2395 $\n",
      "Number of parallel threads = 4 (omp_get_num_procs = 32).\n",
      "Loading lcp file for Farsite #1: /home/jovyan/farsite/inputs/landscapes/Maria2019.lcp\n",
      "Loading inputs file for Farsite #1: /home/jovyan/data/20221209/Run_00844/config\n",
      "Loading ignition file for Farsite #1: /home/jovyan/data/ignitions/Maria2019E0044.shp\n",
      "Loading barrier file for Farsite #1: /home/jovyan/farsite/inputs/barriers/NoBarrier/NoBarrier.shp\n",
      "Launching Farsite #1\n",
      "Starting time step 0.000000 (maximum = 12)\n",
      "Writing outputs for Farsite #1 to /home/jovyan/data/20221209/Run_00844/out\n"
     ]
    },
    {
     "name": "stderr",
     "output_type": "stream",
     "text": [
      "/home/jovyan/farsite-devAPI/src/farsiteutils_v2.py:177: FutureWarning: The frame.append method is deprecated and will be removed from pandas in a future version. Use pandas.concat instead.\n",
      "  self.gdfsimulation = self.gdfsimulation.append(gdfappend)\n"
     ]
    },
    {
     "name": "stdout",
     "output_type": "stream",
     "text": [
      "Farsite $Rev: 2395 $\n",
      "Number of parallel threads = 4 (omp_get_num_procs = 32).\n",
      "Loading lcp file for Farsite #1: /home/jovyan/farsite/inputs/landscapes/Maria2019.lcp\n",
      "Loading inputs file for Farsite #1: /home/jovyan/data/20221209/Run_00845/config\n",
      "Loading ignition file for Farsite #1: /home/jovyan/data/ignitions/Maria2019E0045.shp\n",
      "Loading barrier file for Farsite #1: /home/jovyan/farsite/inputs/barriers/NoBarrier/NoBarrier.shp\n",
      "Launching Farsite #1\n",
      "Starting time step 0.000000 (maximum = 12)\n",
      "Writing outputs for Farsite #1 to /home/jovyan/data/20221209/Run_00845/out\n"
     ]
    },
    {
     "name": "stderr",
     "output_type": "stream",
     "text": [
      "/home/jovyan/farsite-devAPI/src/farsiteutils_v2.py:177: FutureWarning: The frame.append method is deprecated and will be removed from pandas in a future version. Use pandas.concat instead.\n",
      "  self.gdfsimulation = self.gdfsimulation.append(gdfappend)\n"
     ]
    },
    {
     "name": "stdout",
     "output_type": "stream",
     "text": [
      "Farsite $Rev: 2395 $\n",
      "Number of parallel threads = 4 (omp_get_num_procs = 32).\n",
      "Loading lcp file for Farsite #1: /home/jovyan/farsite/inputs/landscapes/Maria2019.lcp\n",
      "Loading inputs file for Farsite #1: /home/jovyan/data/20221209/Run_00846/config\n",
      "Loading ignition file for Farsite #1: /home/jovyan/data/ignitions/Maria2019E0046.shp\n",
      "Loading barrier file for Farsite #1: /home/jovyan/farsite/inputs/barriers/NoBarrier/NoBarrier.shp\n",
      "Launching Farsite #1\n",
      "Starting time step 0.000000 (maximum = 12)\n",
      "Writing outputs for Farsite #1 to /home/jovyan/data/20221209/Run_00846/out\n"
     ]
    },
    {
     "name": "stderr",
     "output_type": "stream",
     "text": [
      "/home/jovyan/farsite-devAPI/src/farsiteutils_v2.py:177: FutureWarning: The frame.append method is deprecated and will be removed from pandas in a future version. Use pandas.concat instead.\n",
      "  self.gdfsimulation = self.gdfsimulation.append(gdfappend)\n"
     ]
    },
    {
     "name": "stdout",
     "output_type": "stream",
     "text": [
      "Farsite $Rev: 2395 $\n",
      "Number of parallel threads = 4 (omp_get_num_procs = 32).\n",
      "Loading lcp file for Farsite #1: /home/jovyan/farsite/inputs/landscapes/Maria2019.lcp\n",
      "Loading inputs file for Farsite #1: /home/jovyan/data/20221209/Run_00847/config\n",
      "Loading ignition file for Farsite #1: /home/jovyan/data/ignitions/Maria2019E0047.shp\n",
      "Loading barrier file for Farsite #1: /home/jovyan/farsite/inputs/barriers/NoBarrier/NoBarrier.shp\n",
      "Launching Farsite #1\n",
      "Starting time step 0.000000 (maximum = 12)\n",
      "Writing outputs for Farsite #1 to /home/jovyan/data/20221209/Run_00847/out\n"
     ]
    },
    {
     "name": "stderr",
     "output_type": "stream",
     "text": [
      "/home/jovyan/farsite-devAPI/src/farsiteutils_v2.py:177: FutureWarning: The frame.append method is deprecated and will be removed from pandas in a future version. Use pandas.concat instead.\n",
      "  self.gdfsimulation = self.gdfsimulation.append(gdfappend)\n"
     ]
    },
    {
     "name": "stdout",
     "output_type": "stream",
     "text": [
      "Farsite $Rev: 2395 $\n",
      "Number of parallel threads = 4 (omp_get_num_procs = 32).\n",
      "Loading lcp file for Farsite #1: /home/jovyan/farsite/inputs/landscapes/Maria2019.lcp\n",
      "Loading inputs file for Farsite #1: /home/jovyan/data/20221209/Run_00848/config\n",
      "Loading ignition file for Farsite #1: /home/jovyan/data/ignitions/Maria2019E0048.shp\n",
      "Loading barrier file for Farsite #1: /home/jovyan/farsite/inputs/barriers/NoBarrier/NoBarrier.shp\n",
      "Launching Farsite #1\n",
      "Starting time step 0.000000 (maximum = 12)\n",
      "Writing outputs for Farsite #1 to /home/jovyan/data/20221209/Run_00848/out\n"
     ]
    },
    {
     "name": "stderr",
     "output_type": "stream",
     "text": [
      "/home/jovyan/farsite-devAPI/src/farsiteutils_v2.py:177: FutureWarning: The frame.append method is deprecated and will be removed from pandas in a future version. Use pandas.concat instead.\n",
      "  self.gdfsimulation = self.gdfsimulation.append(gdfappend)\n"
     ]
    },
    {
     "name": "stdout",
     "output_type": "stream",
     "text": [
      "Farsite $Rev: 2395 $\n",
      "Number of parallel threads = 4 (omp_get_num_procs = 32).\n",
      "Loading lcp file for Farsite #1: /home/jovyan/farsite/inputs/landscapes/Maria2019.lcp\n",
      "Loading inputs file for Farsite #1: /home/jovyan/data/20221209/Run_00849/config\n",
      "Loading ignition file for Farsite #1: /home/jovyan/data/ignitions/Maria2019E0049.shp\n",
      "Loading barrier file for Farsite #1: /home/jovyan/farsite/inputs/barriers/NoBarrier/NoBarrier.shp\n",
      "Launching Farsite #1\n",
      "Starting time step 0.000000 (maximum = 12)\n",
      "Writing outputs for Farsite #1 to /home/jovyan/data/20221209/Run_00849/out\n"
     ]
    },
    {
     "name": "stderr",
     "output_type": "stream",
     "text": [
      "/home/jovyan/farsite-devAPI/src/farsiteutils_v2.py:177: FutureWarning: The frame.append method is deprecated and will be removed from pandas in a future version. Use pandas.concat instead.\n",
      "  self.gdfsimulation = self.gdfsimulation.append(gdfappend)\n"
     ]
    },
    {
     "name": "stdout",
     "output_type": "stream",
     "text": [
      "Farsite $Rev: 2395 $\n",
      "Number of parallel threads = 4 (omp_get_num_procs = 32).\n",
      "Loading lcp file for Farsite #1: /home/jovyan/farsite/inputs/landscapes/Maria2019.lcp\n",
      "Loading inputs file for Farsite #1: /home/jovyan/data/20221209/Run_00850/config\n",
      "Loading ignition file for Farsite #1: /home/jovyan/data/ignitions/Maria2019E0050.shp\n",
      "Loading barrier file for Farsite #1: /home/jovyan/farsite/inputs/barriers/NoBarrier/NoBarrier.shp\n",
      "Launching Farsite #1\n",
      "Starting time step 0.000000 (maximum = 12)\n",
      "Writing outputs for Farsite #1 to /home/jovyan/data/20221209/Run_00850/out\n"
     ]
    },
    {
     "name": "stderr",
     "output_type": "stream",
     "text": [
      "/home/jovyan/farsite-devAPI/src/farsiteutils_v2.py:177: FutureWarning: The frame.append method is deprecated and will be removed from pandas in a future version. Use pandas.concat instead.\n",
      "  self.gdfsimulation = self.gdfsimulation.append(gdfappend)\n"
     ]
    },
    {
     "name": "stdout",
     "output_type": "stream",
     "text": [
      "Farsite $Rev: 2395 $\n",
      "Number of parallel threads = 4 (omp_get_num_procs = 32).\n",
      "Loading lcp file for Farsite #1: /home/jovyan/farsite/inputs/landscapes/Maria2019.lcp\n",
      "Loading inputs file for Farsite #1: /home/jovyan/data/20221209/Run_00851/config\n",
      "Loading ignition file for Farsite #1: /home/jovyan/data/ignitions/Maria2019E0051.shp\n",
      "Loading barrier file for Farsite #1: /home/jovyan/farsite/inputs/barriers/NoBarrier/NoBarrier.shp\n",
      "Launching Farsite #1\n",
      "Starting time step 0.000000 (maximum = 12)\n",
      "Writing outputs for Farsite #1 to /home/jovyan/data/20221209/Run_00851/out\n"
     ]
    },
    {
     "name": "stderr",
     "output_type": "stream",
     "text": [
      "/home/jovyan/farsite-devAPI/src/farsiteutils_v2.py:177: FutureWarning: The frame.append method is deprecated and will be removed from pandas in a future version. Use pandas.concat instead.\n",
      "  self.gdfsimulation = self.gdfsimulation.append(gdfappend)\n"
     ]
    },
    {
     "name": "stdout",
     "output_type": "stream",
     "text": [
      "Farsite $Rev: 2395 $\n",
      "Number of parallel threads = 4 (omp_get_num_procs = 32).\n",
      "Loading lcp file for Farsite #1: /home/jovyan/farsite/inputs/landscapes/Maria2019.lcp\n",
      "Loading inputs file for Farsite #1: /home/jovyan/data/20221209/Run_00852/config\n",
      "Loading ignition file for Farsite #1: /home/jovyan/data/ignitions/Maria2019E0052.shp\n",
      "Loading barrier file for Farsite #1: /home/jovyan/farsite/inputs/barriers/NoBarrier/NoBarrier.shp\n",
      "Launching Farsite #1\n",
      "Starting time step 0.000000 (maximum = 12)\n",
      "Writing outputs for Farsite #1 to /home/jovyan/data/20221209/Run_00852/out\n"
     ]
    },
    {
     "name": "stderr",
     "output_type": "stream",
     "text": [
      "/home/jovyan/farsite-devAPI/src/farsiteutils_v2.py:177: FutureWarning: The frame.append method is deprecated and will be removed from pandas in a future version. Use pandas.concat instead.\n",
      "  self.gdfsimulation = self.gdfsimulation.append(gdfappend)\n"
     ]
    },
    {
     "name": "stdout",
     "output_type": "stream",
     "text": [
      "Farsite $Rev: 2395 $\n",
      "Number of parallel threads = 4 (omp_get_num_procs = 32).\n",
      "Loading lcp file for Farsite #1: /home/jovyan/farsite/inputs/landscapes/Maria2019.lcp\n",
      "Loading inputs file for Farsite #1: /home/jovyan/data/20221209/Run_00853/config\n",
      "Loading ignition file for Farsite #1: /home/jovyan/data/ignitions/Maria2019E0053.shp\n",
      "Loading barrier file for Farsite #1: /home/jovyan/farsite/inputs/barriers/NoBarrier/NoBarrier.shp\n",
      "Launching Farsite #1\n",
      "Starting time step 0.000000 (maximum = 12)\n",
      "Writing outputs for Farsite #1 to /home/jovyan/data/20221209/Run_00853/out\n"
     ]
    },
    {
     "name": "stderr",
     "output_type": "stream",
     "text": [
      "/home/jovyan/farsite-devAPI/src/farsiteutils_v2.py:177: FutureWarning: The frame.append method is deprecated and will be removed from pandas in a future version. Use pandas.concat instead.\n",
      "  self.gdfsimulation = self.gdfsimulation.append(gdfappend)\n"
     ]
    },
    {
     "name": "stdout",
     "output_type": "stream",
     "text": [
      "Farsite $Rev: 2395 $\n",
      "Number of parallel threads = 4 (omp_get_num_procs = 32).\n",
      "Loading lcp file for Farsite #1: /home/jovyan/farsite/inputs/landscapes/Maria2019.lcp\n",
      "Loading inputs file for Farsite #1: /home/jovyan/data/20221209/Run_00854/config\n",
      "Loading ignition file for Farsite #1: /home/jovyan/data/ignitions/Maria2019E0054.shp\n",
      "Loading barrier file for Farsite #1: /home/jovyan/farsite/inputs/barriers/NoBarrier/NoBarrier.shp\n",
      "Launching Farsite #1\n",
      "Starting time step 0.000000 (maximum = 12)\n",
      "Writing outputs for Farsite #1 to /home/jovyan/data/20221209/Run_00854/out\n"
     ]
    },
    {
     "name": "stderr",
     "output_type": "stream",
     "text": [
      "/home/jovyan/farsite-devAPI/src/farsiteutils_v2.py:177: FutureWarning: The frame.append method is deprecated and will be removed from pandas in a future version. Use pandas.concat instead.\n",
      "  self.gdfsimulation = self.gdfsimulation.append(gdfappend)\n"
     ]
    },
    {
     "name": "stdout",
     "output_type": "stream",
     "text": [
      "Farsite $Rev: 2395 $\n",
      "Number of parallel threads = 4 (omp_get_num_procs = 32).\n",
      "Loading lcp file for Farsite #1: /home/jovyan/farsite/inputs/landscapes/Maria2019.lcp\n",
      "Loading inputs file for Farsite #1: /home/jovyan/data/20221209/Run_00855/config\n",
      "Loading ignition file for Farsite #1: /home/jovyan/data/ignitions/Maria2019E0055.shp\n",
      "Loading barrier file for Farsite #1: /home/jovyan/farsite/inputs/barriers/NoBarrier/NoBarrier.shp\n",
      "Launching Farsite #1\n",
      "Starting time step 0.000000 (maximum = 12)\n",
      "Writing outputs for Farsite #1 to /home/jovyan/data/20221209/Run_00855/out\n"
     ]
    },
    {
     "name": "stderr",
     "output_type": "stream",
     "text": [
      "/home/jovyan/farsite-devAPI/src/farsiteutils_v2.py:177: FutureWarning: The frame.append method is deprecated and will be removed from pandas in a future version. Use pandas.concat instead.\n",
      "  self.gdfsimulation = self.gdfsimulation.append(gdfappend)\n"
     ]
    },
    {
     "name": "stdout",
     "output_type": "stream",
     "text": [
      "Farsite $Rev: 2395 $\n",
      "Number of parallel threads = 4 (omp_get_num_procs = 32).\n",
      "Loading lcp file for Farsite #1: /home/jovyan/farsite/inputs/landscapes/Maria2019.lcp\n",
      "Loading inputs file for Farsite #1: /home/jovyan/data/20221209/Run_00856/config\n",
      "Loading ignition file for Farsite #1: /home/jovyan/data/ignitions/Maria2019E0056.shp\n",
      "Loading barrier file for Farsite #1: /home/jovyan/farsite/inputs/barriers/NoBarrier/NoBarrier.shp\n",
      "Launching Farsite #1\n",
      "Starting time step 0.000000 (maximum = 12)\n",
      "Writing outputs for Farsite #1 to /home/jovyan/data/20221209/Run_00856/out\n"
     ]
    },
    {
     "name": "stderr",
     "output_type": "stream",
     "text": [
      "/home/jovyan/farsite-devAPI/src/farsiteutils_v2.py:177: FutureWarning: The frame.append method is deprecated and will be removed from pandas in a future version. Use pandas.concat instead.\n",
      "  self.gdfsimulation = self.gdfsimulation.append(gdfappend)\n"
     ]
    },
    {
     "name": "stdout",
     "output_type": "stream",
     "text": [
      "Farsite $Rev: 2395 $\n",
      "Number of parallel threads = 4 (omp_get_num_procs = 32).\n",
      "Loading lcp file for Farsite #1: /home/jovyan/farsite/inputs/landscapes/Maria2019.lcp\n",
      "Loading inputs file for Farsite #1: /home/jovyan/data/20221209/Run_00857/config\n",
      "Loading ignition file for Farsite #1: /home/jovyan/data/ignitions/Maria2019E0057.shp\n",
      "Loading barrier file for Farsite #1: /home/jovyan/farsite/inputs/barriers/NoBarrier/NoBarrier.shp\n",
      "Launching Farsite #1\n",
      "Starting time step 0.000000 (maximum = 12)\n",
      "Writing outputs for Farsite #1 to /home/jovyan/data/20221209/Run_00857/out\n"
     ]
    },
    {
     "name": "stderr",
     "output_type": "stream",
     "text": [
      "/home/jovyan/farsite-devAPI/src/farsiteutils_v2.py:177: FutureWarning: The frame.append method is deprecated and will be removed from pandas in a future version. Use pandas.concat instead.\n",
      "  self.gdfsimulation = self.gdfsimulation.append(gdfappend)\n"
     ]
    },
    {
     "name": "stdout",
     "output_type": "stream",
     "text": [
      "Farsite $Rev: 2395 $\n",
      "Number of parallel threads = 4 (omp_get_num_procs = 32).\n",
      "Loading lcp file for Farsite #1: /home/jovyan/farsite/inputs/landscapes/Maria2019.lcp\n",
      "Loading inputs file for Farsite #1: /home/jovyan/data/20221209/Run_00858/config\n",
      "Loading ignition file for Farsite #1: /home/jovyan/data/ignitions/Maria2019E0058.shp\n",
      "Loading barrier file for Farsite #1: /home/jovyan/farsite/inputs/barriers/NoBarrier/NoBarrier.shp\n",
      "Launching Farsite #1\n",
      "Starting time step 0.000000 (maximum = 12)\n",
      "Writing outputs for Farsite #1 to /home/jovyan/data/20221209/Run_00858/out\n"
     ]
    },
    {
     "name": "stderr",
     "output_type": "stream",
     "text": [
      "/home/jovyan/farsite-devAPI/src/farsiteutils_v2.py:177: FutureWarning: The frame.append method is deprecated and will be removed from pandas in a future version. Use pandas.concat instead.\n",
      "  self.gdfsimulation = self.gdfsimulation.append(gdfappend)\n"
     ]
    },
    {
     "name": "stdout",
     "output_type": "stream",
     "text": [
      "Farsite $Rev: 2395 $\n",
      "Number of parallel threads = 4 (omp_get_num_procs = 32).\n",
      "Loading lcp file for Farsite #1: /home/jovyan/farsite/inputs/landscapes/Maria2019.lcp\n",
      "Loading inputs file for Farsite #1: /home/jovyan/data/20221209/Run_00859/config\n",
      "Loading ignition file for Farsite #1: /home/jovyan/data/ignitions/Maria2019E0059.shp\n",
      "Loading barrier file for Farsite #1: /home/jovyan/farsite/inputs/barriers/NoBarrier/NoBarrier.shp\n",
      "Launching Farsite #1\n",
      "Starting time step 0.000000 (maximum = 12)\n",
      "Writing outputs for Farsite #1 to /home/jovyan/data/20221209/Run_00859/out\n"
     ]
    },
    {
     "name": "stderr",
     "output_type": "stream",
     "text": [
      "/home/jovyan/farsite-devAPI/src/farsiteutils_v2.py:177: FutureWarning: The frame.append method is deprecated and will be removed from pandas in a future version. Use pandas.concat instead.\n",
      "  self.gdfsimulation = self.gdfsimulation.append(gdfappend)\n"
     ]
    },
    {
     "name": "stdout",
     "output_type": "stream",
     "text": [
      "Farsite $Rev: 2395 $\n",
      "Number of parallel threads = 4 (omp_get_num_procs = 32).\n",
      "Loading lcp file for Farsite #1: /home/jovyan/farsite/inputs/landscapes/Maria2019.lcp\n",
      "Loading inputs file for Farsite #1: /home/jovyan/data/20221209/Run_00860/config\n",
      "Loading ignition file for Farsite #1: /home/jovyan/data/ignitions/Maria2019E0060.shp\n",
      "Loading barrier file for Farsite #1: /home/jovyan/farsite/inputs/barriers/NoBarrier/NoBarrier.shp\n",
      "Launching Farsite #1\n",
      "Starting time step 0.000000 (maximum = 12)\n",
      "Writing outputs for Farsite #1 to /home/jovyan/data/20221209/Run_00860/out\n"
     ]
    },
    {
     "name": "stderr",
     "output_type": "stream",
     "text": [
      "/home/jovyan/farsite-devAPI/src/farsiteutils_v2.py:177: FutureWarning: The frame.append method is deprecated and will be removed from pandas in a future version. Use pandas.concat instead.\n",
      "  self.gdfsimulation = self.gdfsimulation.append(gdfappend)\n"
     ]
    },
    {
     "name": "stdout",
     "output_type": "stream",
     "text": [
      "Farsite $Rev: 2395 $\n",
      "Number of parallel threads = 4 (omp_get_num_procs = 32).\n",
      "Loading lcp file for Farsite #1: /home/jovyan/farsite/inputs/landscapes/Maria2019.lcp\n",
      "Loading inputs file for Farsite #1: /home/jovyan/data/20221209/Run_00861/config\n",
      "Loading ignition file for Farsite #1: /home/jovyan/data/ignitions/Maria2019E0061.shp\n",
      "Loading barrier file for Farsite #1: /home/jovyan/farsite/inputs/barriers/NoBarrier/NoBarrier.shp\n",
      "Launching Farsite #1\n",
      "Starting time step 0.000000 (maximum = 12)\n",
      "Writing outputs for Farsite #1 to /home/jovyan/data/20221209/Run_00861/out\n"
     ]
    },
    {
     "name": "stderr",
     "output_type": "stream",
     "text": [
      "/home/jovyan/farsite-devAPI/src/farsiteutils_v2.py:177: FutureWarning: The frame.append method is deprecated and will be removed from pandas in a future version. Use pandas.concat instead.\n",
      "  self.gdfsimulation = self.gdfsimulation.append(gdfappend)\n"
     ]
    },
    {
     "name": "stdout",
     "output_type": "stream",
     "text": [
      "Farsite $Rev: 2395 $\n",
      "Number of parallel threads = 4 (omp_get_num_procs = 32).\n",
      "Loading lcp file for Farsite #1: /home/jovyan/farsite/inputs/landscapes/Maria2019.lcp\n",
      "Loading inputs file for Farsite #1: /home/jovyan/data/20221209/Run_00862/config\n",
      "Loading ignition file for Farsite #1: /home/jovyan/data/ignitions/Maria2019E0062.shp\n",
      "Loading barrier file for Farsite #1: /home/jovyan/farsite/inputs/barriers/NoBarrier/NoBarrier.shp\n",
      "Launching Farsite #1\n",
      "Starting time step 0.000000 (maximum = 12)\n",
      "Writing outputs for Farsite #1 to /home/jovyan/data/20221209/Run_00862/out\n"
     ]
    },
    {
     "name": "stderr",
     "output_type": "stream",
     "text": [
      "/home/jovyan/farsite-devAPI/src/farsiteutils_v2.py:177: FutureWarning: The frame.append method is deprecated and will be removed from pandas in a future version. Use pandas.concat instead.\n",
      "  self.gdfsimulation = self.gdfsimulation.append(gdfappend)\n"
     ]
    },
    {
     "name": "stdout",
     "output_type": "stream",
     "text": [
      "Farsite $Rev: 2395 $\n",
      "Number of parallel threads = 4 (omp_get_num_procs = 32).\n",
      "Loading lcp file for Farsite #1: /home/jovyan/farsite/inputs/landscapes/Maria2019.lcp\n",
      "Loading inputs file for Farsite #1: /home/jovyan/data/20221209/Run_00863/config\n",
      "Loading ignition file for Farsite #1: /home/jovyan/data/ignitions/Maria2019E0063.shp\n",
      "Loading barrier file for Farsite #1: /home/jovyan/farsite/inputs/barriers/NoBarrier/NoBarrier.shp\n",
      "Launching Farsite #1\n",
      "Starting time step 0.000000 (maximum = 12)\n",
      "Writing outputs for Farsite #1 to /home/jovyan/data/20221209/Run_00863/out\n"
     ]
    },
    {
     "name": "stderr",
     "output_type": "stream",
     "text": [
      "/home/jovyan/farsite-devAPI/src/farsiteutils_v2.py:177: FutureWarning: The frame.append method is deprecated and will be removed from pandas in a future version. Use pandas.concat instead.\n",
      "  self.gdfsimulation = self.gdfsimulation.append(gdfappend)\n"
     ]
    },
    {
     "name": "stdout",
     "output_type": "stream",
     "text": [
      "Farsite $Rev: 2395 $\n",
      "Number of parallel threads = 4 (omp_get_num_procs = 32).\n",
      "Loading lcp file for Farsite #1: /home/jovyan/farsite/inputs/landscapes/Maria2019.lcp\n",
      "Loading inputs file for Farsite #1: /home/jovyan/data/20221209/Run_00864/config\n",
      "Loading ignition file for Farsite #1: /home/jovyan/data/ignitions/Maria2019E0064.shp\n",
      "Loading barrier file for Farsite #1: /home/jovyan/farsite/inputs/barriers/NoBarrier/NoBarrier.shp\n",
      "Launching Farsite #1\n",
      "Starting time step 0.000000 (maximum = 12)\n",
      "Writing outputs for Farsite #1 to /home/jovyan/data/20221209/Run_00864/out\n"
     ]
    },
    {
     "name": "stderr",
     "output_type": "stream",
     "text": [
      "/home/jovyan/farsite-devAPI/src/farsiteutils_v2.py:177: FutureWarning: The frame.append method is deprecated and will be removed from pandas in a future version. Use pandas.concat instead.\n",
      "  self.gdfsimulation = self.gdfsimulation.append(gdfappend)\n"
     ]
    },
    {
     "name": "stdout",
     "output_type": "stream",
     "text": [
      "Farsite $Rev: 2395 $\n",
      "Number of parallel threads = 4 (omp_get_num_procs = 32).\n",
      "Loading lcp file for Farsite #1: /home/jovyan/farsite/inputs/landscapes/Maria2019.lcp\n",
      "Loading inputs file for Farsite #1: /home/jovyan/data/20221209/Run_00865/config\n",
      "Loading ignition file for Farsite #1: /home/jovyan/data/ignitions/Maria2019E0065.shp\n",
      "Loading barrier file for Farsite #1: /home/jovyan/farsite/inputs/barriers/NoBarrier/NoBarrier.shp\n",
      "Launching Farsite #1\n",
      "Starting time step 0.000000 (maximum = 12)\n",
      "Writing outputs for Farsite #1 to /home/jovyan/data/20221209/Run_00865/out\n"
     ]
    },
    {
     "name": "stderr",
     "output_type": "stream",
     "text": [
      "/home/jovyan/farsite-devAPI/src/farsiteutils_v2.py:177: FutureWarning: The frame.append method is deprecated and will be removed from pandas in a future version. Use pandas.concat instead.\n",
      "  self.gdfsimulation = self.gdfsimulation.append(gdfappend)\n"
     ]
    },
    {
     "name": "stdout",
     "output_type": "stream",
     "text": [
      "Farsite $Rev: 2395 $\n",
      "Number of parallel threads = 4 (omp_get_num_procs = 32).\n",
      "Loading lcp file for Farsite #1: /home/jovyan/farsite/inputs/landscapes/Maria2019.lcp\n",
      "Loading inputs file for Farsite #1: /home/jovyan/data/20221209/Run_00866/config\n",
      "Loading ignition file for Farsite #1: /home/jovyan/data/ignitions/Maria2019E0066.shp\n",
      "Loading barrier file for Farsite #1: /home/jovyan/farsite/inputs/barriers/NoBarrier/NoBarrier.shp\n",
      "Launching Farsite #1\n",
      "Starting time step 0.000000 (maximum = 12)\n",
      "Writing outputs for Farsite #1 to /home/jovyan/data/20221209/Run_00866/out\n"
     ]
    },
    {
     "name": "stderr",
     "output_type": "stream",
     "text": [
      "/home/jovyan/farsite-devAPI/src/farsiteutils_v2.py:177: FutureWarning: The frame.append method is deprecated and will be removed from pandas in a future version. Use pandas.concat instead.\n",
      "  self.gdfsimulation = self.gdfsimulation.append(gdfappend)\n"
     ]
    },
    {
     "name": "stdout",
     "output_type": "stream",
     "text": [
      "Farsite $Rev: 2395 $\n",
      "Number of parallel threads = 4 (omp_get_num_procs = 32).\n",
      "Loading lcp file for Farsite #1: /home/jovyan/farsite/inputs/landscapes/Maria2019.lcp\n",
      "Loading inputs file for Farsite #1: /home/jovyan/data/20221209/Run_00867/config\n",
      "Loading ignition file for Farsite #1: /home/jovyan/data/ignitions/Maria2019E0067.shp\n",
      "Loading barrier file for Farsite #1: /home/jovyan/farsite/inputs/barriers/NoBarrier/NoBarrier.shp\n",
      "Launching Farsite #1\n",
      "Starting time step 0.000000 (maximum = 12)\n",
      "Writing outputs for Farsite #1 to /home/jovyan/data/20221209/Run_00867/out\n"
     ]
    },
    {
     "name": "stderr",
     "output_type": "stream",
     "text": [
      "/home/jovyan/farsite-devAPI/src/farsiteutils_v2.py:177: FutureWarning: The frame.append method is deprecated and will be removed from pandas in a future version. Use pandas.concat instead.\n",
      "  self.gdfsimulation = self.gdfsimulation.append(gdfappend)\n"
     ]
    },
    {
     "name": "stdout",
     "output_type": "stream",
     "text": [
      "Farsite $Rev: 2395 $\n",
      "Number of parallel threads = 4 (omp_get_num_procs = 32).\n",
      "Loading lcp file for Farsite #1: /home/jovyan/farsite/inputs/landscapes/Maria2019.lcp\n",
      "Loading inputs file for Farsite #1: /home/jovyan/data/20221209/Run_00868/config\n",
      "Loading ignition file for Farsite #1: /home/jovyan/data/ignitions/Maria2019E0068.shp\n",
      "Loading barrier file for Farsite #1: /home/jovyan/farsite/inputs/barriers/NoBarrier/NoBarrier.shp\n",
      "Launching Farsite #1\n",
      "Starting time step 0.000000 (maximum = 12)\n",
      "Writing outputs for Farsite #1 to /home/jovyan/data/20221209/Run_00868/out\n"
     ]
    },
    {
     "name": "stderr",
     "output_type": "stream",
     "text": [
      "/home/jovyan/farsite-devAPI/src/farsiteutils_v2.py:177: FutureWarning: The frame.append method is deprecated and will be removed from pandas in a future version. Use pandas.concat instead.\n",
      "  self.gdfsimulation = self.gdfsimulation.append(gdfappend)\n"
     ]
    },
    {
     "name": "stdout",
     "output_type": "stream",
     "text": [
      "Farsite $Rev: 2395 $\n",
      "Number of parallel threads = 4 (omp_get_num_procs = 32).\n",
      "Loading lcp file for Farsite #1: /home/jovyan/farsite/inputs/landscapes/Maria2019.lcp\n",
      "Loading inputs file for Farsite #1: /home/jovyan/data/20221209/Run_00869/config\n",
      "Loading ignition file for Farsite #1: /home/jovyan/data/ignitions/Maria2019E0069.shp\n",
      "Loading barrier file for Farsite #1: /home/jovyan/farsite/inputs/barriers/NoBarrier/NoBarrier.shp\n",
      "Launching Farsite #1\n",
      "Starting time step 0.000000 (maximum = 12)\n",
      "Writing outputs for Farsite #1 to /home/jovyan/data/20221209/Run_00869/out\n"
     ]
    },
    {
     "name": "stderr",
     "output_type": "stream",
     "text": [
      "/home/jovyan/farsite-devAPI/src/farsiteutils_v2.py:177: FutureWarning: The frame.append method is deprecated and will be removed from pandas in a future version. Use pandas.concat instead.\n",
      "  self.gdfsimulation = self.gdfsimulation.append(gdfappend)\n"
     ]
    },
    {
     "name": "stdout",
     "output_type": "stream",
     "text": [
      "Farsite $Rev: 2395 $\n",
      "Number of parallel threads = 4 (omp_get_num_procs = 32).\n",
      "Loading lcp file for Farsite #1: /home/jovyan/farsite/inputs/landscapes/Maria2019.lcp\n",
      "Loading inputs file for Farsite #1: /home/jovyan/data/20221209/Run_00870/config\n",
      "Loading ignition file for Farsite #1: /home/jovyan/data/ignitions/Maria2019E0070.shp\n",
      "Loading barrier file for Farsite #1: /home/jovyan/farsite/inputs/barriers/NoBarrier/NoBarrier.shp\n",
      "Launching Farsite #1\n",
      "Starting time step 0.000000 (maximum = 12)\n",
      "Writing outputs for Farsite #1 to /home/jovyan/data/20221209/Run_00870/out\n"
     ]
    },
    {
     "name": "stderr",
     "output_type": "stream",
     "text": [
      "/home/jovyan/farsite-devAPI/src/farsiteutils_v2.py:177: FutureWarning: The frame.append method is deprecated and will be removed from pandas in a future version. Use pandas.concat instead.\n",
      "  self.gdfsimulation = self.gdfsimulation.append(gdfappend)\n"
     ]
    },
    {
     "name": "stdout",
     "output_type": "stream",
     "text": [
      "Farsite $Rev: 2395 $\n",
      "Number of parallel threads = 4 (omp_get_num_procs = 32).\n",
      "Loading lcp file for Farsite #1: /home/jovyan/farsite/inputs/landscapes/Maria2019.lcp\n",
      "Loading inputs file for Farsite #1: /home/jovyan/data/20221209/Run_00871/config\n",
      "Loading ignition file for Farsite #1: /home/jovyan/data/ignitions/Maria2019E0071.shp\n",
      "Loading barrier file for Farsite #1: /home/jovyan/farsite/inputs/barriers/NoBarrier/NoBarrier.shp\n",
      "Launching Farsite #1\n",
      "Starting time step 0.000000 (maximum = 12)\n",
      "Writing outputs for Farsite #1 to /home/jovyan/data/20221209/Run_00871/out\n"
     ]
    },
    {
     "name": "stderr",
     "output_type": "stream",
     "text": [
      "/home/jovyan/farsite-devAPI/src/farsiteutils_v2.py:177: FutureWarning: The frame.append method is deprecated and will be removed from pandas in a future version. Use pandas.concat instead.\n",
      "  self.gdfsimulation = self.gdfsimulation.append(gdfappend)\n"
     ]
    },
    {
     "name": "stdout",
     "output_type": "stream",
     "text": [
      "Farsite $Rev: 2395 $\n",
      "Number of parallel threads = 4 (omp_get_num_procs = 32).\n",
      "Loading lcp file for Farsite #1: /home/jovyan/farsite/inputs/landscapes/Maria2019.lcp\n",
      "Loading inputs file for Farsite #1: /home/jovyan/data/20221209/Run_00872/config\n",
      "Loading ignition file for Farsite #1: /home/jovyan/data/ignitions/Maria2019E0072.shp\n",
      "Loading barrier file for Farsite #1: /home/jovyan/farsite/inputs/barriers/NoBarrier/NoBarrier.shp\n",
      "Launching Farsite #1\n",
      "Starting time step 0.000000 (maximum = 12)\n",
      "Writing outputs for Farsite #1 to /home/jovyan/data/20221209/Run_00872/out\n"
     ]
    },
    {
     "name": "stderr",
     "output_type": "stream",
     "text": [
      "/home/jovyan/farsite-devAPI/src/farsiteutils_v2.py:177: FutureWarning: The frame.append method is deprecated and will be removed from pandas in a future version. Use pandas.concat instead.\n",
      "  self.gdfsimulation = self.gdfsimulation.append(gdfappend)\n"
     ]
    },
    {
     "name": "stdout",
     "output_type": "stream",
     "text": [
      "Farsite $Rev: 2395 $\n",
      "Number of parallel threads = 4 (omp_get_num_procs = 32).\n",
      "Loading lcp file for Farsite #1: /home/jovyan/farsite/inputs/landscapes/Maria2019.lcp\n",
      "Loading inputs file for Farsite #1: /home/jovyan/data/20221209/Run_00873/config\n",
      "Loading ignition file for Farsite #1: /home/jovyan/data/ignitions/Maria2019E0073.shp\n",
      "Loading barrier file for Farsite #1: /home/jovyan/farsite/inputs/barriers/NoBarrier/NoBarrier.shp\n",
      "Launching Farsite #1\n",
      "Starting time step 0.000000 (maximum = 12)\n",
      "Writing outputs for Farsite #1 to /home/jovyan/data/20221209/Run_00873/out\n"
     ]
    },
    {
     "name": "stderr",
     "output_type": "stream",
     "text": [
      "/home/jovyan/farsite-devAPI/src/farsiteutils_v2.py:177: FutureWarning: The frame.append method is deprecated and will be removed from pandas in a future version. Use pandas.concat instead.\n",
      "  self.gdfsimulation = self.gdfsimulation.append(gdfappend)\n"
     ]
    },
    {
     "name": "stdout",
     "output_type": "stream",
     "text": [
      "Farsite $Rev: 2395 $\n",
      "Number of parallel threads = 4 (omp_get_num_procs = 32).\n",
      "Loading lcp file for Farsite #1: /home/jovyan/farsite/inputs/landscapes/Maria2019.lcp\n",
      "Loading inputs file for Farsite #1: /home/jovyan/data/20221209/Run_00874/config\n",
      "Loading ignition file for Farsite #1: /home/jovyan/data/ignitions/Maria2019E0074.shp\n",
      "Loading barrier file for Farsite #1: /home/jovyan/farsite/inputs/barriers/NoBarrier/NoBarrier.shp\n",
      "Launching Farsite #1\n",
      "Starting time step 0.000000 (maximum = 12)\n",
      "Writing outputs for Farsite #1 to /home/jovyan/data/20221209/Run_00874/out\n"
     ]
    },
    {
     "name": "stderr",
     "output_type": "stream",
     "text": [
      "/home/jovyan/farsite-devAPI/src/farsiteutils_v2.py:177: FutureWarning: The frame.append method is deprecated and will be removed from pandas in a future version. Use pandas.concat instead.\n",
      "  self.gdfsimulation = self.gdfsimulation.append(gdfappend)\n"
     ]
    },
    {
     "name": "stdout",
     "output_type": "stream",
     "text": [
      "Farsite $Rev: 2395 $\n",
      "Number of parallel threads = 4 (omp_get_num_procs = 32).\n",
      "Loading lcp file for Farsite #1: /home/jovyan/farsite/inputs/landscapes/Maria2019.lcp\n",
      "Loading inputs file for Farsite #1: /home/jovyan/data/20221209/Run_00875/config\n",
      "Loading ignition file for Farsite #1: /home/jovyan/data/ignitions/Maria2019E0075.shp\n",
      "Loading barrier file for Farsite #1: /home/jovyan/farsite/inputs/barriers/NoBarrier/NoBarrier.shp\n",
      "Launching Farsite #1\n",
      "Starting time step 0.000000 (maximum = 12)\n",
      "Writing outputs for Farsite #1 to /home/jovyan/data/20221209/Run_00875/out\n"
     ]
    },
    {
     "name": "stderr",
     "output_type": "stream",
     "text": [
      "/home/jovyan/farsite-devAPI/src/farsiteutils_v2.py:177: FutureWarning: The frame.append method is deprecated and will be removed from pandas in a future version. Use pandas.concat instead.\n",
      "  self.gdfsimulation = self.gdfsimulation.append(gdfappend)\n"
     ]
    },
    {
     "name": "stdout",
     "output_type": "stream",
     "text": [
      "Farsite $Rev: 2395 $\n",
      "Number of parallel threads = 4 (omp_get_num_procs = 32).\n",
      "Loading lcp file for Farsite #1: /home/jovyan/farsite/inputs/landscapes/Maria2019.lcp\n",
      "Loading inputs file for Farsite #1: /home/jovyan/data/20221209/Run_00876/config\n",
      "Loading ignition file for Farsite #1: /home/jovyan/data/ignitions/Maria2019E0076.shp\n",
      "Loading barrier file for Farsite #1: /home/jovyan/farsite/inputs/barriers/NoBarrier/NoBarrier.shp\n",
      "Launching Farsite #1\n",
      "Starting time step 0.000000 (maximum = 12)\n",
      "Writing outputs for Farsite #1 to /home/jovyan/data/20221209/Run_00876/out\n"
     ]
    },
    {
     "name": "stderr",
     "output_type": "stream",
     "text": [
      "/home/jovyan/farsite-devAPI/src/farsiteutils_v2.py:177: FutureWarning: The frame.append method is deprecated and will be removed from pandas in a future version. Use pandas.concat instead.\n",
      "  self.gdfsimulation = self.gdfsimulation.append(gdfappend)\n"
     ]
    },
    {
     "name": "stdout",
     "output_type": "stream",
     "text": [
      "Farsite $Rev: 2395 $\n",
      "Number of parallel threads = 4 (omp_get_num_procs = 32).\n",
      "Loading lcp file for Farsite #1: /home/jovyan/farsite/inputs/landscapes/Maria2019.lcp\n",
      "Loading inputs file for Farsite #1: /home/jovyan/data/20221209/Run_00877/config\n",
      "Loading ignition file for Farsite #1: /home/jovyan/data/ignitions/Maria2019E0077.shp\n",
      "Loading barrier file for Farsite #1: /home/jovyan/farsite/inputs/barriers/NoBarrier/NoBarrier.shp\n",
      "Launching Farsite #1\n",
      "Starting time step 0.000000 (maximum = 12)\n",
      "Writing outputs for Farsite #1 to /home/jovyan/data/20221209/Run_00877/out\n"
     ]
    },
    {
     "name": "stderr",
     "output_type": "stream",
     "text": [
      "/home/jovyan/farsite-devAPI/src/farsiteutils_v2.py:177: FutureWarning: The frame.append method is deprecated and will be removed from pandas in a future version. Use pandas.concat instead.\n",
      "  self.gdfsimulation = self.gdfsimulation.append(gdfappend)\n"
     ]
    },
    {
     "name": "stdout",
     "output_type": "stream",
     "text": [
      "Farsite $Rev: 2395 $\n",
      "Number of parallel threads = 4 (omp_get_num_procs = 32).\n",
      "Loading lcp file for Farsite #1: /home/jovyan/farsite/inputs/landscapes/Maria2019.lcp\n",
      "Loading inputs file for Farsite #1: /home/jovyan/data/20221209/Run_00878/config\n",
      "Loading ignition file for Farsite #1: /home/jovyan/data/ignitions/Maria2019E0078.shp\n",
      "Loading barrier file for Farsite #1: /home/jovyan/farsite/inputs/barriers/NoBarrier/NoBarrier.shp\n",
      "Launching Farsite #1\n",
      "Starting time step 0.000000 (maximum = 12)\n",
      "Writing outputs for Farsite #1 to /home/jovyan/data/20221209/Run_00878/out\n"
     ]
    },
    {
     "name": "stderr",
     "output_type": "stream",
     "text": [
      "/home/jovyan/farsite-devAPI/src/farsiteutils_v2.py:177: FutureWarning: The frame.append method is deprecated and will be removed from pandas in a future version. Use pandas.concat instead.\n",
      "  self.gdfsimulation = self.gdfsimulation.append(gdfappend)\n"
     ]
    },
    {
     "name": "stdout",
     "output_type": "stream",
     "text": [
      "Farsite $Rev: 2395 $\n",
      "Number of parallel threads = 4 (omp_get_num_procs = 32).\n",
      "Loading lcp file for Farsite #1: /home/jovyan/farsite/inputs/landscapes/Maria2019.lcp\n",
      "Loading inputs file for Farsite #1: /home/jovyan/data/20221209/Run_00879/config\n",
      "Loading ignition file for Farsite #1: /home/jovyan/data/ignitions/Maria2019E0079.shp\n",
      "Loading barrier file for Farsite #1: /home/jovyan/farsite/inputs/barriers/NoBarrier/NoBarrier.shp\n",
      "Launching Farsite #1\n",
      "Starting time step 0.000000 (maximum = 12)\n",
      "Writing outputs for Farsite #1 to /home/jovyan/data/20221209/Run_00879/out\n"
     ]
    },
    {
     "name": "stderr",
     "output_type": "stream",
     "text": [
      "/home/jovyan/farsite-devAPI/src/farsiteutils_v2.py:177: FutureWarning: The frame.append method is deprecated and will be removed from pandas in a future version. Use pandas.concat instead.\n",
      "  self.gdfsimulation = self.gdfsimulation.append(gdfappend)\n"
     ]
    },
    {
     "name": "stdout",
     "output_type": "stream",
     "text": [
      "Farsite $Rev: 2395 $\n",
      "Number of parallel threads = 4 (omp_get_num_procs = 32).\n",
      "Loading lcp file for Farsite #1: /home/jovyan/farsite/inputs/landscapes/Maria2019.lcp\n",
      "Loading inputs file for Farsite #1: /home/jovyan/data/20221209/Run_00880/config\n",
      "Loading ignition file for Farsite #1: /home/jovyan/data/ignitions/Maria2019E0080.shp\n",
      "Loading barrier file for Farsite #1: /home/jovyan/farsite/inputs/barriers/NoBarrier/NoBarrier.shp\n",
      "Launching Farsite #1\n",
      "Starting time step 0.000000 (maximum = 12)\n",
      "Writing outputs for Farsite #1 to /home/jovyan/data/20221209/Run_00880/out\n"
     ]
    },
    {
     "name": "stderr",
     "output_type": "stream",
     "text": [
      "/home/jovyan/farsite-devAPI/src/farsiteutils_v2.py:177: FutureWarning: The frame.append method is deprecated and will be removed from pandas in a future version. Use pandas.concat instead.\n",
      "  self.gdfsimulation = self.gdfsimulation.append(gdfappend)\n"
     ]
    },
    {
     "name": "stdout",
     "output_type": "stream",
     "text": [
      "Farsite $Rev: 2395 $\n",
      "Number of parallel threads = 4 (omp_get_num_procs = 32).\n",
      "Loading lcp file for Farsite #1: /home/jovyan/farsite/inputs/landscapes/Maria2019.lcp\n",
      "Loading inputs file for Farsite #1: /home/jovyan/data/20221209/Run_00881/config\n",
      "Loading ignition file for Farsite #1: /home/jovyan/data/ignitions/Maria2019E0081.shp\n",
      "Loading barrier file for Farsite #1: /home/jovyan/farsite/inputs/barriers/NoBarrier/NoBarrier.shp\n",
      "Launching Farsite #1\n",
      "Starting time step 0.000000 (maximum = 12)\n",
      "Writing outputs for Farsite #1 to /home/jovyan/data/20221209/Run_00881/out\n"
     ]
    },
    {
     "name": "stderr",
     "output_type": "stream",
     "text": [
      "/home/jovyan/farsite-devAPI/src/farsiteutils_v2.py:177: FutureWarning: The frame.append method is deprecated and will be removed from pandas in a future version. Use pandas.concat instead.\n",
      "  self.gdfsimulation = self.gdfsimulation.append(gdfappend)\n"
     ]
    },
    {
     "name": "stdout",
     "output_type": "stream",
     "text": [
      "Farsite $Rev: 2395 $\n",
      "Number of parallel threads = 4 (omp_get_num_procs = 32).\n",
      "Loading lcp file for Farsite #1: /home/jovyan/farsite/inputs/landscapes/Maria2019.lcp\n",
      "Loading inputs file for Farsite #1: /home/jovyan/data/20221209/Run_00882/config\n",
      "Loading ignition file for Farsite #1: /home/jovyan/data/ignitions/Maria2019E0082.shp\n",
      "Loading barrier file for Farsite #1: /home/jovyan/farsite/inputs/barriers/NoBarrier/NoBarrier.shp\n",
      "Launching Farsite #1\n",
      "Starting time step 0.000000 (maximum = 12)\n",
      "Writing outputs for Farsite #1 to /home/jovyan/data/20221209/Run_00882/out\n"
     ]
    },
    {
     "name": "stderr",
     "output_type": "stream",
     "text": [
      "/home/jovyan/farsite-devAPI/src/farsiteutils_v2.py:177: FutureWarning: The frame.append method is deprecated and will be removed from pandas in a future version. Use pandas.concat instead.\n",
      "  self.gdfsimulation = self.gdfsimulation.append(gdfappend)\n"
     ]
    },
    {
     "name": "stdout",
     "output_type": "stream",
     "text": [
      "Farsite $Rev: 2395 $\n",
      "Number of parallel threads = 4 (omp_get_num_procs = 32).\n",
      "Loading lcp file for Farsite #1: /home/jovyan/farsite/inputs/landscapes/Maria2019.lcp\n",
      "Loading inputs file for Farsite #1: /home/jovyan/data/20221209/Run_00883/config\n",
      "Loading ignition file for Farsite #1: /home/jovyan/data/ignitions/Maria2019E0083.shp\n",
      "Loading barrier file for Farsite #1: /home/jovyan/farsite/inputs/barriers/NoBarrier/NoBarrier.shp\n",
      "Launching Farsite #1\n",
      "Starting time step 0.000000 (maximum = 12)\n",
      "Writing outputs for Farsite #1 to /home/jovyan/data/20221209/Run_00883/out\n"
     ]
    },
    {
     "name": "stderr",
     "output_type": "stream",
     "text": [
      "/home/jovyan/farsite-devAPI/src/farsiteutils_v2.py:177: FutureWarning: The frame.append method is deprecated and will be removed from pandas in a future version. Use pandas.concat instead.\n",
      "  self.gdfsimulation = self.gdfsimulation.append(gdfappend)\n"
     ]
    },
    {
     "name": "stdout",
     "output_type": "stream",
     "text": [
      "Farsite $Rev: 2395 $\n",
      "Number of parallel threads = 4 (omp_get_num_procs = 32).\n",
      "Loading lcp file for Farsite #1: /home/jovyan/farsite/inputs/landscapes/Maria2019.lcp\n",
      "Loading inputs file for Farsite #1: /home/jovyan/data/20221209/Run_00884/config\n",
      "Loading ignition file for Farsite #1: /home/jovyan/data/ignitions/Maria2019E0084.shp\n",
      "Loading barrier file for Farsite #1: /home/jovyan/farsite/inputs/barriers/NoBarrier/NoBarrier.shp\n",
      "Launching Farsite #1\n",
      "Starting time step 0.000000 (maximum = 12)\n",
      "Writing outputs for Farsite #1 to /home/jovyan/data/20221209/Run_00884/out\n"
     ]
    },
    {
     "name": "stderr",
     "output_type": "stream",
     "text": [
      "/home/jovyan/farsite-devAPI/src/farsiteutils_v2.py:177: FutureWarning: The frame.append method is deprecated and will be removed from pandas in a future version. Use pandas.concat instead.\n",
      "  self.gdfsimulation = self.gdfsimulation.append(gdfappend)\n"
     ]
    },
    {
     "name": "stdout",
     "output_type": "stream",
     "text": [
      "Farsite $Rev: 2395 $\n",
      "Number of parallel threads = 4 (omp_get_num_procs = 32).\n",
      "Loading lcp file for Farsite #1: /home/jovyan/farsite/inputs/landscapes/Maria2019.lcp\n",
      "Loading inputs file for Farsite #1: /home/jovyan/data/20221209/Run_00885/config\n",
      "Loading ignition file for Farsite #1: /home/jovyan/data/ignitions/Maria2019E0085.shp\n",
      "Loading barrier file for Farsite #1: /home/jovyan/farsite/inputs/barriers/NoBarrier/NoBarrier.shp\n",
      "Launching Farsite #1\n",
      "Starting time step 0.000000 (maximum = 12)\n",
      "Writing outputs for Farsite #1 to /home/jovyan/data/20221209/Run_00885/out\n"
     ]
    },
    {
     "name": "stderr",
     "output_type": "stream",
     "text": [
      "/home/jovyan/farsite-devAPI/src/farsiteutils_v2.py:177: FutureWarning: The frame.append method is deprecated and will be removed from pandas in a future version. Use pandas.concat instead.\n",
      "  self.gdfsimulation = self.gdfsimulation.append(gdfappend)\n"
     ]
    },
    {
     "name": "stdout",
     "output_type": "stream",
     "text": [
      "Farsite $Rev: 2395 $\n",
      "Number of parallel threads = 4 (omp_get_num_procs = 32).\n",
      "Loading lcp file for Farsite #1: /home/jovyan/farsite/inputs/landscapes/Maria2019.lcp\n",
      "Loading inputs file for Farsite #1: /home/jovyan/data/20221209/Run_00886/config\n",
      "Loading ignition file for Farsite #1: /home/jovyan/data/ignitions/Maria2019E0086.shp\n",
      "Loading barrier file for Farsite #1: /home/jovyan/farsite/inputs/barriers/NoBarrier/NoBarrier.shp\n",
      "Launching Farsite #1\n",
      "Starting time step 0.000000 (maximum = 12)\n",
      "Writing outputs for Farsite #1 to /home/jovyan/data/20221209/Run_00886/out\n"
     ]
    },
    {
     "name": "stderr",
     "output_type": "stream",
     "text": [
      "/home/jovyan/farsite-devAPI/src/farsiteutils_v2.py:177: FutureWarning: The frame.append method is deprecated and will be removed from pandas in a future version. Use pandas.concat instead.\n",
      "  self.gdfsimulation = self.gdfsimulation.append(gdfappend)\n"
     ]
    },
    {
     "name": "stdout",
     "output_type": "stream",
     "text": [
      "Farsite $Rev: 2395 $\n",
      "Number of parallel threads = 4 (omp_get_num_procs = 32).\n",
      "Loading lcp file for Farsite #1: /home/jovyan/farsite/inputs/landscapes/Maria2019.lcp\n",
      "Loading inputs file for Farsite #1: /home/jovyan/data/20221209/Run_00887/config\n",
      "Loading ignition file for Farsite #1: /home/jovyan/data/ignitions/Maria2019E0087.shp\n",
      "Loading barrier file for Farsite #1: /home/jovyan/farsite/inputs/barriers/NoBarrier/NoBarrier.shp\n",
      "Launching Farsite #1\n",
      "Starting time step 0.000000 (maximum = 12)\n",
      "Writing outputs for Farsite #1 to /home/jovyan/data/20221209/Run_00887/out\n"
     ]
    },
    {
     "name": "stderr",
     "output_type": "stream",
     "text": [
      "/home/jovyan/farsite-devAPI/src/farsiteutils_v2.py:177: FutureWarning: The frame.append method is deprecated and will be removed from pandas in a future version. Use pandas.concat instead.\n",
      "  self.gdfsimulation = self.gdfsimulation.append(gdfappend)\n"
     ]
    },
    {
     "name": "stdout",
     "output_type": "stream",
     "text": [
      "Farsite $Rev: 2395 $\n",
      "Number of parallel threads = 4 (omp_get_num_procs = 32).\n",
      "Loading lcp file for Farsite #1: /home/jovyan/farsite/inputs/landscapes/Maria2019.lcp\n",
      "Loading inputs file for Farsite #1: /home/jovyan/data/20221209/Run_00888/config\n",
      "Loading ignition file for Farsite #1: /home/jovyan/data/ignitions/Maria2019E0088.shp\n",
      "Loading barrier file for Farsite #1: /home/jovyan/farsite/inputs/barriers/NoBarrier/NoBarrier.shp\n",
      "Launching Farsite #1\n",
      "Starting time step 0.000000 (maximum = 12)\n",
      "Writing outputs for Farsite #1 to /home/jovyan/data/20221209/Run_00888/out\n"
     ]
    },
    {
     "name": "stderr",
     "output_type": "stream",
     "text": [
      "/home/jovyan/farsite-devAPI/src/farsiteutils_v2.py:177: FutureWarning: The frame.append method is deprecated and will be removed from pandas in a future version. Use pandas.concat instead.\n",
      "  self.gdfsimulation = self.gdfsimulation.append(gdfappend)\n"
     ]
    },
    {
     "name": "stdout",
     "output_type": "stream",
     "text": [
      "Farsite $Rev: 2395 $\n",
      "Number of parallel threads = 4 (omp_get_num_procs = 32).\n",
      "Loading lcp file for Farsite #1: /home/jovyan/farsite/inputs/landscapes/Maria2019.lcp\n",
      "Loading inputs file for Farsite #1: /home/jovyan/data/20221209/Run_00889/config\n",
      "Loading ignition file for Farsite #1: /home/jovyan/data/ignitions/Maria2019E0089.shp\n",
      "Loading barrier file for Farsite #1: /home/jovyan/farsite/inputs/barriers/NoBarrier/NoBarrier.shp\n",
      "Launching Farsite #1\n",
      "Starting time step 0.000000 (maximum = 12)\n",
      "Writing outputs for Farsite #1 to /home/jovyan/data/20221209/Run_00889/out\n"
     ]
    },
    {
     "name": "stderr",
     "output_type": "stream",
     "text": [
      "/home/jovyan/farsite-devAPI/src/farsiteutils_v2.py:177: FutureWarning: The frame.append method is deprecated and will be removed from pandas in a future version. Use pandas.concat instead.\n",
      "  self.gdfsimulation = self.gdfsimulation.append(gdfappend)\n"
     ]
    },
    {
     "name": "stdout",
     "output_type": "stream",
     "text": [
      "Farsite $Rev: 2395 $\n",
      "Number of parallel threads = 4 (omp_get_num_procs = 32).\n",
      "Loading lcp file for Farsite #1: /home/jovyan/farsite/inputs/landscapes/Maria2019.lcp\n",
      "Loading inputs file for Farsite #1: /home/jovyan/data/20221209/Run_00890/config\n",
      "Loading ignition file for Farsite #1: /home/jovyan/data/ignitions/Maria2019E0090.shp\n",
      "Loading barrier file for Farsite #1: /home/jovyan/farsite/inputs/barriers/NoBarrier/NoBarrier.shp\n",
      "Launching Farsite #1\n",
      "Starting time step 0.000000 (maximum = 12)\n",
      "Writing outputs for Farsite #1 to /home/jovyan/data/20221209/Run_00890/out\n"
     ]
    },
    {
     "name": "stderr",
     "output_type": "stream",
     "text": [
      "/home/jovyan/farsite-devAPI/src/farsiteutils_v2.py:177: FutureWarning: The frame.append method is deprecated and will be removed from pandas in a future version. Use pandas.concat instead.\n",
      "  self.gdfsimulation = self.gdfsimulation.append(gdfappend)\n"
     ]
    },
    {
     "name": "stdout",
     "output_type": "stream",
     "text": [
      "Farsite $Rev: 2395 $\n",
      "Number of parallel threads = 4 (omp_get_num_procs = 32).\n",
      "Loading lcp file for Farsite #1: /home/jovyan/farsite/inputs/landscapes/Maria2019.lcp\n",
      "Loading inputs file for Farsite #1: /home/jovyan/data/20221209/Run_00891/config\n",
      "Loading ignition file for Farsite #1: /home/jovyan/data/ignitions/Maria2019E0091.shp\n",
      "Loading barrier file for Farsite #1: /home/jovyan/farsite/inputs/barriers/NoBarrier/NoBarrier.shp\n",
      "Launching Farsite #1\n",
      "Starting time step 0.000000 (maximum = 12)\n",
      "Writing outputs for Farsite #1 to /home/jovyan/data/20221209/Run_00891/out\n"
     ]
    },
    {
     "name": "stderr",
     "output_type": "stream",
     "text": [
      "/home/jovyan/farsite-devAPI/src/farsiteutils_v2.py:177: FutureWarning: The frame.append method is deprecated and will be removed from pandas in a future version. Use pandas.concat instead.\n",
      "  self.gdfsimulation = self.gdfsimulation.append(gdfappend)\n"
     ]
    },
    {
     "name": "stdout",
     "output_type": "stream",
     "text": [
      "Farsite $Rev: 2395 $\n",
      "Number of parallel threads = 4 (omp_get_num_procs = 32).\n",
      "Loading lcp file for Farsite #1: /home/jovyan/farsite/inputs/landscapes/Maria2019.lcp\n",
      "Loading inputs file for Farsite #1: /home/jovyan/data/20221209/Run_00892/config\n",
      "Loading ignition file for Farsite #1: /home/jovyan/data/ignitions/Maria2019E0092.shp\n",
      "Loading barrier file for Farsite #1: /home/jovyan/farsite/inputs/barriers/NoBarrier/NoBarrier.shp\n",
      "Launching Farsite #1\n",
      "Starting time step 0.000000 (maximum = 12)\n",
      "Writing outputs for Farsite #1 to /home/jovyan/data/20221209/Run_00892/out\n"
     ]
    },
    {
     "name": "stderr",
     "output_type": "stream",
     "text": [
      "/home/jovyan/farsite-devAPI/src/farsiteutils_v2.py:177: FutureWarning: The frame.append method is deprecated and will be removed from pandas in a future version. Use pandas.concat instead.\n",
      "  self.gdfsimulation = self.gdfsimulation.append(gdfappend)\n"
     ]
    },
    {
     "name": "stdout",
     "output_type": "stream",
     "text": [
      "Farsite $Rev: 2395 $\n",
      "Number of parallel threads = 4 (omp_get_num_procs = 32).\n",
      "Loading lcp file for Farsite #1: /home/jovyan/farsite/inputs/landscapes/Maria2019.lcp\n",
      "Loading inputs file for Farsite #1: /home/jovyan/data/20221209/Run_00893/config\n",
      "Loading ignition file for Farsite #1: /home/jovyan/data/ignitions/Maria2019E0093.shp\n",
      "Loading barrier file for Farsite #1: /home/jovyan/farsite/inputs/barriers/NoBarrier/NoBarrier.shp\n",
      "Launching Farsite #1\n",
      "Starting time step 0.000000 (maximum = 12)\n",
      "Writing outputs for Farsite #1 to /home/jovyan/data/20221209/Run_00893/out\n"
     ]
    },
    {
     "name": "stderr",
     "output_type": "stream",
     "text": [
      "/home/jovyan/farsite-devAPI/src/farsiteutils_v2.py:177: FutureWarning: The frame.append method is deprecated and will be removed from pandas in a future version. Use pandas.concat instead.\n",
      "  self.gdfsimulation = self.gdfsimulation.append(gdfappend)\n"
     ]
    },
    {
     "name": "stdout",
     "output_type": "stream",
     "text": [
      "Farsite $Rev: 2395 $\n",
      "Number of parallel threads = 4 (omp_get_num_procs = 32).\n",
      "Loading lcp file for Farsite #1: /home/jovyan/farsite/inputs/landscapes/Maria2019.lcp\n",
      "Loading inputs file for Farsite #1: /home/jovyan/data/20221209/Run_00894/config\n",
      "Loading ignition file for Farsite #1: /home/jovyan/data/ignitions/Maria2019E0094.shp\n",
      "Loading barrier file for Farsite #1: /home/jovyan/farsite/inputs/barriers/NoBarrier/NoBarrier.shp\n",
      "Launching Farsite #1\n",
      "Starting time step 0.000000 (maximum = 12)\n",
      "Writing outputs for Farsite #1 to /home/jovyan/data/20221209/Run_00894/out\n"
     ]
    },
    {
     "name": "stderr",
     "output_type": "stream",
     "text": [
      "/home/jovyan/farsite-devAPI/src/farsiteutils_v2.py:177: FutureWarning: The frame.append method is deprecated and will be removed from pandas in a future version. Use pandas.concat instead.\n",
      "  self.gdfsimulation = self.gdfsimulation.append(gdfappend)\n"
     ]
    },
    {
     "name": "stdout",
     "output_type": "stream",
     "text": [
      "Farsite $Rev: 2395 $\n",
      "Number of parallel threads = 4 (omp_get_num_procs = 32).\n",
      "Loading lcp file for Farsite #1: /home/jovyan/farsite/inputs/landscapes/Maria2019.lcp\n",
      "Loading inputs file for Farsite #1: /home/jovyan/data/20221209/Run_00895/config\n",
      "Loading ignition file for Farsite #1: /home/jovyan/data/ignitions/Maria2019E0095.shp\n",
      "Loading barrier file for Farsite #1: /home/jovyan/farsite/inputs/barriers/NoBarrier/NoBarrier.shp\n",
      "Launching Farsite #1\n",
      "Starting time step 0.000000 (maximum = 12)\n",
      "Writing outputs for Farsite #1 to /home/jovyan/data/20221209/Run_00895/out\n"
     ]
    },
    {
     "name": "stderr",
     "output_type": "stream",
     "text": [
      "/home/jovyan/farsite-devAPI/src/farsiteutils_v2.py:177: FutureWarning: The frame.append method is deprecated and will be removed from pandas in a future version. Use pandas.concat instead.\n",
      "  self.gdfsimulation = self.gdfsimulation.append(gdfappend)\n"
     ]
    },
    {
     "name": "stdout",
     "output_type": "stream",
     "text": [
      "Farsite $Rev: 2395 $\n",
      "Number of parallel threads = 4 (omp_get_num_procs = 32).\n",
      "Loading lcp file for Farsite #1: /home/jovyan/farsite/inputs/landscapes/Maria2019.lcp\n",
      "Loading inputs file for Farsite #1: /home/jovyan/data/20221209/Run_00896/config\n",
      "Loading ignition file for Farsite #1: /home/jovyan/data/ignitions/Maria2019E0096.shp\n",
      "Loading barrier file for Farsite #1: /home/jovyan/farsite/inputs/barriers/NoBarrier/NoBarrier.shp\n",
      "Launching Farsite #1\n",
      "Starting time step 0.000000 (maximum = 12)\n",
      "Writing outputs for Farsite #1 to /home/jovyan/data/20221209/Run_00896/out\n"
     ]
    },
    {
     "name": "stderr",
     "output_type": "stream",
     "text": [
      "/home/jovyan/farsite-devAPI/src/farsiteutils_v2.py:177: FutureWarning: The frame.append method is deprecated and will be removed from pandas in a future version. Use pandas.concat instead.\n",
      "  self.gdfsimulation = self.gdfsimulation.append(gdfappend)\n"
     ]
    },
    {
     "name": "stdout",
     "output_type": "stream",
     "text": [
      "Farsite $Rev: 2395 $\n",
      "Number of parallel threads = 4 (omp_get_num_procs = 32).\n",
      "Loading lcp file for Farsite #1: /home/jovyan/farsite/inputs/landscapes/Maria2019.lcp\n",
      "Loading inputs file for Farsite #1: /home/jovyan/data/20221209/Run_00897/config\n",
      "Loading ignition file for Farsite #1: /home/jovyan/data/ignitions/Maria2019E0097.shp\n",
      "Loading barrier file for Farsite #1: /home/jovyan/farsite/inputs/barriers/NoBarrier/NoBarrier.shp\n",
      "Launching Farsite #1\n",
      "Starting time step 0.000000 (maximum = 12)\n",
      "Writing outputs for Farsite #1 to /home/jovyan/data/20221209/Run_00897/out\n"
     ]
    },
    {
     "name": "stderr",
     "output_type": "stream",
     "text": [
      "/home/jovyan/farsite-devAPI/src/farsiteutils_v2.py:177: FutureWarning: The frame.append method is deprecated and will be removed from pandas in a future version. Use pandas.concat instead.\n",
      "  self.gdfsimulation = self.gdfsimulation.append(gdfappend)\n"
     ]
    },
    {
     "name": "stdout",
     "output_type": "stream",
     "text": [
      "Farsite $Rev: 2395 $\n",
      "Number of parallel threads = 4 (omp_get_num_procs = 32).\n",
      "Loading lcp file for Farsite #1: /home/jovyan/farsite/inputs/landscapes/Maria2019.lcp\n",
      "Loading inputs file for Farsite #1: /home/jovyan/data/20221209/Run_00898/config\n",
      "Loading ignition file for Farsite #1: /home/jovyan/data/ignitions/Maria2019E0098.shp\n",
      "Loading barrier file for Farsite #1: /home/jovyan/farsite/inputs/barriers/NoBarrier/NoBarrier.shp\n",
      "Launching Farsite #1\n",
      "Starting time step 0.000000 (maximum = 12)\n",
      "Writing outputs for Farsite #1 to /home/jovyan/data/20221209/Run_00898/out\n"
     ]
    },
    {
     "name": "stderr",
     "output_type": "stream",
     "text": [
      "/home/jovyan/farsite-devAPI/src/farsiteutils_v2.py:177: FutureWarning: The frame.append method is deprecated and will be removed from pandas in a future version. Use pandas.concat instead.\n",
      "  self.gdfsimulation = self.gdfsimulation.append(gdfappend)\n"
     ]
    },
    {
     "name": "stdout",
     "output_type": "stream",
     "text": [
      "Farsite $Rev: 2395 $\n",
      "Number of parallel threads = 4 (omp_get_num_procs = 32).\n",
      "Loading lcp file for Farsite #1: /home/jovyan/farsite/inputs/landscapes/Maria2019.lcp\n",
      "Loading inputs file for Farsite #1: /home/jovyan/data/20221209/Run_00899/config\n",
      "Loading ignition file for Farsite #1: /home/jovyan/data/ignitions/Maria2019E0099.shp\n",
      "Loading barrier file for Farsite #1: /home/jovyan/farsite/inputs/barriers/NoBarrier/NoBarrier.shp\n",
      "Launching Farsite #1\n",
      "Starting time step 0.000000 (maximum = 12)\n",
      "Writing outputs for Farsite #1 to /home/jovyan/data/20221209/Run_00899/out\n",
      "Calculating 20/100 ( 20.00%) - Remaining - 0:0:0...   \r"
     ]
    },
    {
     "name": "stderr",
     "output_type": "stream",
     "text": [
      "/home/jovyan/farsite-devAPI/src/farsiteutils_v2.py:177: FutureWarning: The frame.append method is deprecated and will be removed from pandas in a future version. Use pandas.concat instead.\n",
      "  self.gdfsimulation = self.gdfsimulation.append(gdfappend)\n"
     ]
    },
    {
     "name": "stdout",
     "output_type": "stream",
     "text": [
      "Calculating 99/100 ( 99.00%) - Remaining - 0:0:0...   \r"
     ]
    }
   ],
   "source": [
    "## obtain the igniteidx of the ignition\n",
    "## The indices will be passed from the interface, which will include corresponding datetime, filepath etc.\n",
    "lcpidx = '43b7f5db36994599861eec4849cc68fd'        # Index for Maria2019\n",
    "barrieridx = 'cb47616cd2dc4ccc8fd523bd3a5064bb'    # NoBarrier shapefile index\n",
    "\n",
    "observation = usr.db.gdfignition.iloc[1]\n",
    "compareidx = observation.name    # t=1 observation\n",
    "windspeed = 10\n",
    "winddirection = 90\n",
    "\n",
    "state.update(compareidx, lcpidx, barrieridx, observation, windspeed, winddirection)\n",
    "X_0_lst.append(state.X_0)"
   ]
  },
  {
   "cell_type": "code",
   "execution_count": 11,
   "id": "9a427c02-63b2-4030-a2b1-295c4da30c8a",
   "metadata": {},
   "outputs": [
    {
     "data": {
      "text/html": [
       "<div>\n",
       "<style scoped>\n",
       "    .dataframe tbody tr th:only-of-type {\n",
       "        vertical-align: middle;\n",
       "    }\n",
       "\n",
       "    .dataframe tbody tr th {\n",
       "        vertical-align: top;\n",
       "    }\n",
       "\n",
       "    .dataframe thead th {\n",
       "        text-align: right;\n",
       "    }\n",
       "</style>\n",
       "<table border=\"1\" class=\"dataframe\">\n",
       "  <thead>\n",
       "    <tr style=\"text-align: right;\">\n",
       "      <th></th>\n",
       "      <th>filetype</th>\n",
       "      <th>objectid</th>\n",
       "      <th>filepath</th>\n",
       "      <th>datetime</th>\n",
       "      <th>description</th>\n",
       "      <th>geometry</th>\n",
       "    </tr>\n",
       "  </thead>\n",
       "  <tbody>\n",
       "    <tr>\n",
       "      <th>f23196b034474744bdca7df94b13e0f7</th>\n",
       "      <td>Ignition</td>\n",
       "      <td>21231</td>\n",
       "      <td>/home/jovyan/farsite/inputs/maria_ignite/maria...</td>\n",
       "      <td>2019-10-31 19:37:11</td>\n",
       "      <td>Maria2019</td>\n",
       "      <td>POLYGON ((-2084217.148 1503560.461, -2084279.5...</td>\n",
       "    </tr>\n",
       "    <tr>\n",
       "      <th>9f82e870591748a9a8a01346d174f2a1</th>\n",
       "      <td>Ignition</td>\n",
       "      <td>21232</td>\n",
       "      <td>/home/jovyan/farsite/inputs/maria_ignite/maria...</td>\n",
       "      <td>2019-10-31 19:58:22</td>\n",
       "      <td>Maria2019</td>\n",
       "      <td>POLYGON ((-2082034.494 1504548.520, -2081987.6...</td>\n",
       "    </tr>\n",
       "    <tr>\n",
       "      <th>1a6eb30ee33742e18fa6bb26678b5077</th>\n",
       "      <td>Ignition</td>\n",
       "      <td>21234</td>\n",
       "      <td>/home/jovyan/farsite/inputs/maria_ignite/maria...</td>\n",
       "      <td>2019-10-31 20:31:33</td>\n",
       "      <td>Maria2019</td>\n",
       "      <td>POLYGON ((-2082034.494 1504548.520, -2081987.6...</td>\n",
       "    </tr>\n",
       "    <tr>\n",
       "      <th>911f9b001c054b74a6ba70958f5f3c93</th>\n",
       "      <td>Ignition</td>\n",
       "      <td>21235</td>\n",
       "      <td>/home/jovyan/farsite/inputs/maria_ignite/maria...</td>\n",
       "      <td>2019-10-31 20:56:44</td>\n",
       "      <td>Maria2019</td>\n",
       "      <td>POLYGON ((-2082396.219 1505343.939, -2082305.7...</td>\n",
       "    </tr>\n",
       "    <tr>\n",
       "      <th>7957c2e604554199ba60c5b13aff2f40</th>\n",
       "      <td>Ignition</td>\n",
       "      <td>21236</td>\n",
       "      <td>/home/jovyan/farsite/inputs/maria_ignite/maria...</td>\n",
       "      <td>2019-10-31 21:22:55</td>\n",
       "      <td>Maria2019</td>\n",
       "      <td>POLYGON ((-2082598.331 1505371.327, -2082338.5...</td>\n",
       "    </tr>\n",
       "    <tr>\n",
       "      <th>...</th>\n",
       "      <td>...</td>\n",
       "      <td>...</td>\n",
       "      <td>...</td>\n",
       "      <td>...</td>\n",
       "      <td>...</td>\n",
       "      <td>...</td>\n",
       "    </tr>\n",
       "    <tr>\n",
       "      <th>c8d45476d3df46be9cc73c4761386270</th>\n",
       "      <td>Ignition</td>\n",
       "      <td>21232E0095U0095</td>\n",
       "      <td>/home/jovyan/data/ignitions/Maria2019U0095.shp</td>\n",
       "      <td>2019-10-31 19:58:22</td>\n",
       "      <td>Maria2019</td>\n",
       "      <td>POLYGON ((-2084490.735 1503946.442, -2084516.2...</td>\n",
       "    </tr>\n",
       "    <tr>\n",
       "      <th>b6320bd4872d415383b4b1623b6ca241</th>\n",
       "      <td>Ignition</td>\n",
       "      <td>21232E0096U0096</td>\n",
       "      <td>/home/jovyan/data/ignitions/Maria2019U0096.shp</td>\n",
       "      <td>2019-10-31 19:58:22</td>\n",
       "      <td>Maria2019</td>\n",
       "      <td>POLYGON ((-2084730.165 1504420.591, -2084790.1...</td>\n",
       "    </tr>\n",
       "    <tr>\n",
       "      <th>4643c796cd824d7eb931b9c5c0c3fa1e</th>\n",
       "      <td>Ignition</td>\n",
       "      <td>21232E0097U0097</td>\n",
       "      <td>/home/jovyan/data/ignitions/Maria2019U0097.shp</td>\n",
       "      <td>2019-10-31 19:58:22</td>\n",
       "      <td>Maria2019</td>\n",
       "      <td>POLYGON ((-2084809.174 1504529.258, -2084776.4...</td>\n",
       "    </tr>\n",
       "    <tr>\n",
       "      <th>ed7896822ff74750a073ade2b3bf1512</th>\n",
       "      <td>Ignition</td>\n",
       "      <td>21232E0098U0098</td>\n",
       "      <td>/home/jovyan/data/ignitions/Maria2019U0098.shp</td>\n",
       "      <td>2019-10-31 19:58:22</td>\n",
       "      <td>Maria2019</td>\n",
       "      <td>POLYGON ((-2084645.308 1504662.967, -2084771.8...</td>\n",
       "    </tr>\n",
       "    <tr>\n",
       "      <th>e4b353a54eab44dba77a92e4c864c3dd</th>\n",
       "      <td>Ignition</td>\n",
       "      <td>21232E0099U0099</td>\n",
       "      <td>/home/jovyan/data/ignitions/Maria2019U0099.shp</td>\n",
       "      <td>2019-10-31 19:58:22</td>\n",
       "      <td>Maria2019</td>\n",
       "      <td>POLYGON ((-2084753.104 1505168.214, -2084696.4...</td>\n",
       "    </tr>\n",
       "  </tbody>\n",
       "</table>\n",
       "<p>220 rows × 6 columns</p>\n",
       "</div>"
      ],
      "text/plain": [
       "                                  filetype         objectid  \\\n",
       "f23196b034474744bdca7df94b13e0f7  Ignition            21231   \n",
       "9f82e870591748a9a8a01346d174f2a1  Ignition            21232   \n",
       "1a6eb30ee33742e18fa6bb26678b5077  Ignition            21234   \n",
       "911f9b001c054b74a6ba70958f5f3c93  Ignition            21235   \n",
       "7957c2e604554199ba60c5b13aff2f40  Ignition            21236   \n",
       "...                                    ...              ...   \n",
       "c8d45476d3df46be9cc73c4761386270  Ignition  21232E0095U0095   \n",
       "b6320bd4872d415383b4b1623b6ca241  Ignition  21232E0096U0096   \n",
       "4643c796cd824d7eb931b9c5c0c3fa1e  Ignition  21232E0097U0097   \n",
       "ed7896822ff74750a073ade2b3bf1512  Ignition  21232E0098U0098   \n",
       "e4b353a54eab44dba77a92e4c864c3dd  Ignition  21232E0099U0099   \n",
       "\n",
       "                                                                           filepath  \\\n",
       "f23196b034474744bdca7df94b13e0f7  /home/jovyan/farsite/inputs/maria_ignite/maria...   \n",
       "9f82e870591748a9a8a01346d174f2a1  /home/jovyan/farsite/inputs/maria_ignite/maria...   \n",
       "1a6eb30ee33742e18fa6bb26678b5077  /home/jovyan/farsite/inputs/maria_ignite/maria...   \n",
       "911f9b001c054b74a6ba70958f5f3c93  /home/jovyan/farsite/inputs/maria_ignite/maria...   \n",
       "7957c2e604554199ba60c5b13aff2f40  /home/jovyan/farsite/inputs/maria_ignite/maria...   \n",
       "...                                                                             ...   \n",
       "c8d45476d3df46be9cc73c4761386270     /home/jovyan/data/ignitions/Maria2019U0095.shp   \n",
       "b6320bd4872d415383b4b1623b6ca241     /home/jovyan/data/ignitions/Maria2019U0096.shp   \n",
       "4643c796cd824d7eb931b9c5c0c3fa1e     /home/jovyan/data/ignitions/Maria2019U0097.shp   \n",
       "ed7896822ff74750a073ade2b3bf1512     /home/jovyan/data/ignitions/Maria2019U0098.shp   \n",
       "e4b353a54eab44dba77a92e4c864c3dd     /home/jovyan/data/ignitions/Maria2019U0099.shp   \n",
       "\n",
       "                                             datetime description  \\\n",
       "f23196b034474744bdca7df94b13e0f7  2019-10-31 19:37:11   Maria2019   \n",
       "9f82e870591748a9a8a01346d174f2a1  2019-10-31 19:58:22   Maria2019   \n",
       "1a6eb30ee33742e18fa6bb26678b5077  2019-10-31 20:31:33   Maria2019   \n",
       "911f9b001c054b74a6ba70958f5f3c93  2019-10-31 20:56:44   Maria2019   \n",
       "7957c2e604554199ba60c5b13aff2f40  2019-10-31 21:22:55   Maria2019   \n",
       "...                                               ...         ...   \n",
       "c8d45476d3df46be9cc73c4761386270  2019-10-31 19:58:22   Maria2019   \n",
       "b6320bd4872d415383b4b1623b6ca241  2019-10-31 19:58:22   Maria2019   \n",
       "4643c796cd824d7eb931b9c5c0c3fa1e  2019-10-31 19:58:22   Maria2019   \n",
       "ed7896822ff74750a073ade2b3bf1512  2019-10-31 19:58:22   Maria2019   \n",
       "e4b353a54eab44dba77a92e4c864c3dd  2019-10-31 19:58:22   Maria2019   \n",
       "\n",
       "                                                                           geometry  \n",
       "f23196b034474744bdca7df94b13e0f7  POLYGON ((-2084217.148 1503560.461, -2084279.5...  \n",
       "9f82e870591748a9a8a01346d174f2a1  POLYGON ((-2082034.494 1504548.520, -2081987.6...  \n",
       "1a6eb30ee33742e18fa6bb26678b5077  POLYGON ((-2082034.494 1504548.520, -2081987.6...  \n",
       "911f9b001c054b74a6ba70958f5f3c93  POLYGON ((-2082396.219 1505343.939, -2082305.7...  \n",
       "7957c2e604554199ba60c5b13aff2f40  POLYGON ((-2082598.331 1505371.327, -2082338.5...  \n",
       "...                                                                             ...  \n",
       "c8d45476d3df46be9cc73c4761386270  POLYGON ((-2084490.735 1503946.442, -2084516.2...  \n",
       "b6320bd4872d415383b4b1623b6ca241  POLYGON ((-2084730.165 1504420.591, -2084790.1...  \n",
       "4643c796cd824d7eb931b9c5c0c3fa1e  POLYGON ((-2084809.174 1504529.258, -2084776.4...  \n",
       "ed7896822ff74750a073ade2b3bf1512  POLYGON ((-2084645.308 1504662.967, -2084771.8...  \n",
       "e4b353a54eab44dba77a92e4c864c3dd  POLYGON ((-2084753.104 1505168.214, -2084696.4...  \n",
       "\n",
       "[220 rows x 6 columns]"
      ]
     },
     "execution_count": 11,
     "metadata": {},
     "output_type": "execute_result"
    }
   ],
   "source": [
    "state.usr.db.gdfignition"
   ]
  },
  {
   "cell_type": "code",
   "execution_count": 12,
   "id": "489a0da0-0c2c-471f-80fd-7d2665349905",
   "metadata": {},
   "outputs": [],
   "source": [
    "# ax = compare_matrices(state.X_0[:,10:20], showvertex=90)\n",
    "# ax.plot(state.current_state.vertices[:,0], state.current_state.vertices[:,1],'k--')"
   ]
  },
  {
   "cell_type": "code",
   "execution_count": 13,
   "id": "04f4618a-7aa5-4934-a456-21f60f5a351c",
   "metadata": {
    "scrolled": true,
    "tags": []
   },
   "outputs": [
    {
     "name": "stdout",
     "output_type": "stream",
     "text": [
      "{'description': 'Maria2019', 'igniteidx': 'e04956bd94d246218f50c02825680ae5', 'compareidx': '1a6eb30ee33742e18fa6bb26678b5077', 'lcpidx': '43b7f5db36994599861eec4849cc68fd', 'barrieridx': 'cb47616cd2dc4ccc8fd523bd3a5064bb', 'windspeed': 10, 'winddirection': 90, 'relhumid': 90, 'temperature': 20}\n",
      "Choosing a perimeter from the database\n",
      "{'description': 'Maria2019', 'igniteidx': '80d910de7fe14136bf98c4cce3082bbf', 'compareidx': '1a6eb30ee33742e18fa6bb26678b5077', 'lcpidx': '43b7f5db36994599861eec4849cc68fd', 'barrieridx': 'cb47616cd2dc4ccc8fd523bd3a5064bb', 'windspeed': 10, 'winddirection': 90, 'relhumid': 90, 'temperature': 20}\n",
      "Choosing a perimeter from the database\n",
      "{'description': 'Maria2019', 'igniteidx': 'b417d8713a3e41488f40a4cdc98d0ed6', 'compareidx': '1a6eb30ee33742e18fa6bb26678b5077', 'lcpidx': '43b7f5db36994599861eec4849cc68fd', 'barrieridx': 'cb47616cd2dc4ccc8fd523bd3a5064bb', 'windspeed': 10, 'winddirection': 90, 'relhumid': 90, 'temperature': 20}\n",
      "Choosing a perimeter from the database\n",
      "{'description': 'Maria2019', 'igniteidx': '0cdd9cd51e324c6289ebcc45898a4a22', 'compareidx': '1a6eb30ee33742e18fa6bb26678b5077', 'lcpidx': '43b7f5db36994599861eec4849cc68fd', 'barrieridx': 'cb47616cd2dc4ccc8fd523bd3a5064bb', 'windspeed': 10, 'winddirection': 90, 'relhumid': 90, 'temperature': 20}\n",
      "Choosing a perimeter from the database\n",
      "{'description': 'Maria2019', 'igniteidx': '13bc4869afd74f00877fa17a9bea7100', 'compareidx': '1a6eb30ee33742e18fa6bb26678b5077', 'lcpidx': '43b7f5db36994599861eec4849cc68fd', 'barrieridx': 'cb47616cd2dc4ccc8fd523bd3a5064bb', 'windspeed': 10, 'winddirection': 90, 'relhumid': 90, 'temperature': 20}\n",
      "Choosing a perimeter from the database\n",
      "{'description': 'Maria2019', 'igniteidx': 'aa1722bf0812452a98db3b7e234150fb', 'compareidx': '1a6eb30ee33742e18fa6bb26678b5077', 'lcpidx': '43b7f5db36994599861eec4849cc68fd', 'barrieridx': 'cb47616cd2dc4ccc8fd523bd3a5064bb', 'windspeed': 10, 'winddirection': 90, 'relhumid': 90, 'temperature': 20}\n",
      "Choosing a perimeter from the database\n",
      "{'description': 'Maria2019', 'igniteidx': '0fe27cde06df4914af9ffb189fd91cc3', 'compareidx': '1a6eb30ee33742e18fa6bb26678b5077', 'lcpidx': '43b7f5db36994599861eec4849cc68fd', 'barrieridx': 'cb47616cd2dc4ccc8fd523bd3a5064bb', 'windspeed': 10, 'winddirection': 90, 'relhumid': 90, 'temperature': 20}\n",
      "Choosing a perimeter from the database\n",
      "{'description': 'Maria2019', 'igniteidx': '6eafca0856aa4d2a823c4d9b1de32ce8', 'compareidx': '1a6eb30ee33742e18fa6bb26678b5077', 'lcpidx': '43b7f5db36994599861eec4849cc68fd', 'barrieridx': 'cb47616cd2dc4ccc8fd523bd3a5064bb', 'windspeed': 10, 'winddirection': 90, 'relhumid': 90, 'temperature': 20}\n",
      "Choosing a perimeter from the database\n",
      "{'description': 'Maria2019', 'igniteidx': '517a43fa148a40feb849240d51aeb04d', 'compareidx': '1a6eb30ee33742e18fa6bb26678b5077', 'lcpidx': '43b7f5db36994599861eec4849cc68fd', 'barrieridx': 'cb47616cd2dc4ccc8fd523bd3a5064bb', 'windspeed': 10, 'winddirection': 90, 'relhumid': 90, 'temperature': 20}\n",
      "Choosing a perimeter from the database\n",
      "{'description': 'Maria2019', 'igniteidx': 'd5732cb89d474b29acf5958791259fe5', 'compareidx': '1a6eb30ee33742e18fa6bb26678b5077', 'lcpidx': '43b7f5db36994599861eec4849cc68fd', 'barrieridx': 'cb47616cd2dc4ccc8fd523bd3a5064bb', 'windspeed': 10, 'winddirection': 90, 'relhumid': 90, 'temperature': 20}\n",
      "Choosing a perimeter from the database\n",
      "{'description': 'Maria2019', 'igniteidx': '7fa417e87bee4df0b5fadf0e1b77ee16', 'compareidx': '1a6eb30ee33742e18fa6bb26678b5077', 'lcpidx': '43b7f5db36994599861eec4849cc68fd', 'barrieridx': 'cb47616cd2dc4ccc8fd523bd3a5064bb', 'windspeed': 10, 'winddirection': 90, 'relhumid': 90, 'temperature': 20}\n",
      "Choosing a perimeter from the database\n",
      "{'description': 'Maria2019', 'igniteidx': '3e5702f5e96144998629c8b9870808c8', 'compareidx': '1a6eb30ee33742e18fa6bb26678b5077', 'lcpidx': '43b7f5db36994599861eec4849cc68fd', 'barrieridx': 'cb47616cd2dc4ccc8fd523bd3a5064bb', 'windspeed': 10, 'winddirection': 90, 'relhumid': 90, 'temperature': 20}\n",
      "Choosing a perimeter from the database\n",
      "{'description': 'Maria2019', 'igniteidx': '3fa95358abfa444d92e58b4df94c8a32', 'compareidx': '1a6eb30ee33742e18fa6bb26678b5077', 'lcpidx': '43b7f5db36994599861eec4849cc68fd', 'barrieridx': 'cb47616cd2dc4ccc8fd523bd3a5064bb', 'windspeed': 10, 'winddirection': 90, 'relhumid': 90, 'temperature': 20}\n",
      "Choosing a perimeter from the database\n",
      "{'description': 'Maria2019', 'igniteidx': '1ddf392b3e154926a1e5ca7cc7f098b7', 'compareidx': '1a6eb30ee33742e18fa6bb26678b5077', 'lcpidx': '43b7f5db36994599861eec4849cc68fd', 'barrieridx': 'cb47616cd2dc4ccc8fd523bd3a5064bb', 'windspeed': 10, 'winddirection': 90, 'relhumid': 90, 'temperature': 20}\n",
      "Choosing a perimeter from the database\n",
      "{'description': 'Maria2019', 'igniteidx': '6998da1c73fc429a9b386e119b591bc2', 'compareidx': '1a6eb30ee33742e18fa6bb26678b5077', 'lcpidx': '43b7f5db36994599861eec4849cc68fd', 'barrieridx': 'cb47616cd2dc4ccc8fd523bd3a5064bb', 'windspeed': 10, 'winddirection': 90, 'relhumid': 90, 'temperature': 20}\n",
      "Choosing a perimeter from the database\n",
      "{'description': 'Maria2019', 'igniteidx': 'cbedbc7f2baf4d6e95b8eb5db0f7d3bc', 'compareidx': '1a6eb30ee33742e18fa6bb26678b5077', 'lcpidx': '43b7f5db36994599861eec4849cc68fd', 'barrieridx': 'cb47616cd2dc4ccc8fd523bd3a5064bb', 'windspeed': 10, 'winddirection': 90, 'relhumid': 90, 'temperature': 20}\n",
      "Choosing a perimeter from the database\n",
      "{'description': 'Maria2019', 'igniteidx': '4a186d3393ca4e2a9a9efa4b451cd9b2', 'compareidx': '1a6eb30ee33742e18fa6bb26678b5077', 'lcpidx': '43b7f5db36994599861eec4849cc68fd', 'barrieridx': 'cb47616cd2dc4ccc8fd523bd3a5064bb', 'windspeed': 10, 'winddirection': 90, 'relhumid': 90, 'temperature': 20}\n",
      "Choosing a perimeter from the database\n",
      "{'description': 'Maria2019', 'igniteidx': '21b2c8e0eda249fba645ca9471aa2a2c', 'compareidx': '1a6eb30ee33742e18fa6bb26678b5077', 'lcpidx': '43b7f5db36994599861eec4849cc68fd', 'barrieridx': 'cb47616cd2dc4ccc8fd523bd3a5064bb', 'windspeed': 10, 'winddirection': 90, 'relhumid': 90, 'temperature': 20}\n",
      "Choosing a perimeter from the database\n",
      "{'description': 'Maria2019', 'igniteidx': 'ec3e95f49763406481331952cd657b06', 'compareidx': '1a6eb30ee33742e18fa6bb26678b5077', 'lcpidx': '43b7f5db36994599861eec4849cc68fd', 'barrieridx': 'cb47616cd2dc4ccc8fd523bd3a5064bb', 'windspeed': 10, 'winddirection': 90, 'relhumid': 90, 'temperature': 20}\n",
      "Choosing a perimeter from the database\n",
      "{'description': 'Maria2019', 'igniteidx': '78d43ce59b3d4b1699a7f5785bd8c1f4', 'compareidx': '1a6eb30ee33742e18fa6bb26678b5077', 'lcpidx': '43b7f5db36994599861eec4849cc68fd', 'barrieridx': 'cb47616cd2dc4ccc8fd523bd3a5064bb', 'windspeed': 10, 'winddirection': 90, 'relhumid': 90, 'temperature': 20}\n",
      "Choosing a perimeter from the database\n",
      "{'description': 'Maria2019', 'igniteidx': '9d92ff2270a0426fae0275026a3c8cf7', 'compareidx': '1a6eb30ee33742e18fa6bb26678b5077', 'lcpidx': '43b7f5db36994599861eec4849cc68fd', 'barrieridx': 'cb47616cd2dc4ccc8fd523bd3a5064bb', 'windspeed': 10, 'winddirection': 90, 'relhumid': 90, 'temperature': 20}\n",
      "Choosing a perimeter from the database\n",
      "{'description': 'Maria2019', 'igniteidx': 'f204c991f3ec49328ca61d9e029f1061', 'compareidx': '1a6eb30ee33742e18fa6bb26678b5077', 'lcpidx': '43b7f5db36994599861eec4849cc68fd', 'barrieridx': 'cb47616cd2dc4ccc8fd523bd3a5064bb', 'windspeed': 10, 'winddirection': 90, 'relhumid': 90, 'temperature': 20}\n",
      "Choosing a perimeter from the database\n",
      "{'description': 'Maria2019', 'igniteidx': 'f247803fc7244a0db55e9886b74cb14b', 'compareidx': '1a6eb30ee33742e18fa6bb26678b5077', 'lcpidx': '43b7f5db36994599861eec4849cc68fd', 'barrieridx': 'cb47616cd2dc4ccc8fd523bd3a5064bb', 'windspeed': 10, 'winddirection': 90, 'relhumid': 90, 'temperature': 20}\n",
      "Choosing a perimeter from the database\n",
      "{'description': 'Maria2019', 'igniteidx': '40bfef76134043dd8f7339406512a035', 'compareidx': '1a6eb30ee33742e18fa6bb26678b5077', 'lcpidx': '43b7f5db36994599861eec4849cc68fd', 'barrieridx': 'cb47616cd2dc4ccc8fd523bd3a5064bb', 'windspeed': 10, 'winddirection': 90, 'relhumid': 90, 'temperature': 20}\n",
      "Choosing a perimeter from the database\n",
      "{'description': 'Maria2019', 'igniteidx': '7a77238a41d6438d893325b983148e45', 'compareidx': '1a6eb30ee33742e18fa6bb26678b5077', 'lcpidx': '43b7f5db36994599861eec4849cc68fd', 'barrieridx': 'cb47616cd2dc4ccc8fd523bd3a5064bb', 'windspeed': 10, 'winddirection': 90, 'relhumid': 90, 'temperature': 20}\n",
      "Choosing a perimeter from the database\n",
      "{'description': 'Maria2019', 'igniteidx': '73551027cbbc4d03a138ad01d007204c', 'compareidx': '1a6eb30ee33742e18fa6bb26678b5077', 'lcpidx': '43b7f5db36994599861eec4849cc68fd', 'barrieridx': 'cb47616cd2dc4ccc8fd523bd3a5064bb', 'windspeed': 10, 'winddirection': 90, 'relhumid': 90, 'temperature': 20}\n",
      "Choosing a perimeter from the database\n",
      "{'description': 'Maria2019', 'igniteidx': '3b324c131b4e4838a1290c4593a09bae', 'compareidx': '1a6eb30ee33742e18fa6bb26678b5077', 'lcpidx': '43b7f5db36994599861eec4849cc68fd', 'barrieridx': 'cb47616cd2dc4ccc8fd523bd3a5064bb', 'windspeed': 10, 'winddirection': 90, 'relhumid': 90, 'temperature': 20}\n",
      "Choosing a perimeter from the database\n",
      "{'description': 'Maria2019', 'igniteidx': '8e9592a5be624fbd80cc76a1371ecb44', 'compareidx': '1a6eb30ee33742e18fa6bb26678b5077', 'lcpidx': '43b7f5db36994599861eec4849cc68fd', 'barrieridx': 'cb47616cd2dc4ccc8fd523bd3a5064bb', 'windspeed': 10, 'winddirection': 90, 'relhumid': 90, 'temperature': 20}\n",
      "Choosing a perimeter from the database\n",
      "{'description': 'Maria2019', 'igniteidx': '1f7b22fe0bf34dc19e5530281c7e58db', 'compareidx': '1a6eb30ee33742e18fa6bb26678b5077', 'lcpidx': '43b7f5db36994599861eec4849cc68fd', 'barrieridx': 'cb47616cd2dc4ccc8fd523bd3a5064bb', 'windspeed': 10, 'winddirection': 90, 'relhumid': 90, 'temperature': 20}\n",
      "Choosing a perimeter from the database\n",
      "{'description': 'Maria2019', 'igniteidx': '81648ec7b73540e195659e8dcd82101c', 'compareidx': '1a6eb30ee33742e18fa6bb26678b5077', 'lcpidx': '43b7f5db36994599861eec4849cc68fd', 'barrieridx': 'cb47616cd2dc4ccc8fd523bd3a5064bb', 'windspeed': 10, 'winddirection': 90, 'relhumid': 90, 'temperature': 20}\n",
      "Choosing a perimeter from the database\n",
      "{'description': 'Maria2019', 'igniteidx': 'a3e7fd90de2d484ca65b3d6c1ae7764c', 'compareidx': '1a6eb30ee33742e18fa6bb26678b5077', 'lcpidx': '43b7f5db36994599861eec4849cc68fd', 'barrieridx': 'cb47616cd2dc4ccc8fd523bd3a5064bb', 'windspeed': 10, 'winddirection': 90, 'relhumid': 90, 'temperature': 20}\n",
      "Choosing a perimeter from the database\n",
      "{'description': 'Maria2019', 'igniteidx': 'ec73003873d64827b0fd8d0e1acde9c5', 'compareidx': '1a6eb30ee33742e18fa6bb26678b5077', 'lcpidx': '43b7f5db36994599861eec4849cc68fd', 'barrieridx': 'cb47616cd2dc4ccc8fd523bd3a5064bb', 'windspeed': 10, 'winddirection': 90, 'relhumid': 90, 'temperature': 20}\n",
      "Choosing a perimeter from the database\n",
      "{'description': 'Maria2019', 'igniteidx': '7f5b118c598540e2b34d2fe3e9d2559d', 'compareidx': '1a6eb30ee33742e18fa6bb26678b5077', 'lcpidx': '43b7f5db36994599861eec4849cc68fd', 'barrieridx': 'cb47616cd2dc4ccc8fd523bd3a5064bb', 'windspeed': 10, 'winddirection': 90, 'relhumid': 90, 'temperature': 20}\n",
      "Choosing a perimeter from the database\n",
      "{'description': 'Maria2019', 'igniteidx': 'f41874e9e277474490d52f6ddfbbf4a7', 'compareidx': '1a6eb30ee33742e18fa6bb26678b5077', 'lcpidx': '43b7f5db36994599861eec4849cc68fd', 'barrieridx': 'cb47616cd2dc4ccc8fd523bd3a5064bb', 'windspeed': 10, 'winddirection': 90, 'relhumid': 90, 'temperature': 20}\n",
      "Choosing a perimeter from the database\n",
      "{'description': 'Maria2019', 'igniteidx': '6fce1db3738543d48020dc93ed153012', 'compareidx': '1a6eb30ee33742e18fa6bb26678b5077', 'lcpidx': '43b7f5db36994599861eec4849cc68fd', 'barrieridx': 'cb47616cd2dc4ccc8fd523bd3a5064bb', 'windspeed': 10, 'winddirection': 90, 'relhumid': 90, 'temperature': 20}\n",
      "Choosing a perimeter from the database\n",
      "{'description': 'Maria2019', 'igniteidx': '0407d81440994fa899cf525853213165', 'compareidx': '1a6eb30ee33742e18fa6bb26678b5077', 'lcpidx': '43b7f5db36994599861eec4849cc68fd', 'barrieridx': 'cb47616cd2dc4ccc8fd523bd3a5064bb', 'windspeed': 10, 'winddirection': 90, 'relhumid': 90, 'temperature': 20}\n",
      "Choosing a perimeter from the database\n",
      "{'description': 'Maria2019', 'igniteidx': 'ead5bacebf0a4243bd3495093ea041c2', 'compareidx': '1a6eb30ee33742e18fa6bb26678b5077', 'lcpidx': '43b7f5db36994599861eec4849cc68fd', 'barrieridx': 'cb47616cd2dc4ccc8fd523bd3a5064bb', 'windspeed': 10, 'winddirection': 90, 'relhumid': 90, 'temperature': 20}\n",
      "Choosing a perimeter from the database\n",
      "{'description': 'Maria2019', 'igniteidx': '83f3993a87ca4116b2466b5c992aa5b3', 'compareidx': '1a6eb30ee33742e18fa6bb26678b5077', 'lcpidx': '43b7f5db36994599861eec4849cc68fd', 'barrieridx': 'cb47616cd2dc4ccc8fd523bd3a5064bb', 'windspeed': 10, 'winddirection': 90, 'relhumid': 90, 'temperature': 20}\n",
      "Choosing a perimeter from the database\n",
      "{'description': 'Maria2019', 'igniteidx': '227619bf1bfb482f9a84186c7eafb361', 'compareidx': '1a6eb30ee33742e18fa6bb26678b5077', 'lcpidx': '43b7f5db36994599861eec4849cc68fd', 'barrieridx': 'cb47616cd2dc4ccc8fd523bd3a5064bb', 'windspeed': 10, 'winddirection': 90, 'relhumid': 90, 'temperature': 20}\n",
      "Choosing a perimeter from the database\n",
      "{'description': 'Maria2019', 'igniteidx': '7986ed0bee3f46f083c65c0ac0206f61', 'compareidx': '1a6eb30ee33742e18fa6bb26678b5077', 'lcpidx': '43b7f5db36994599861eec4849cc68fd', 'barrieridx': 'cb47616cd2dc4ccc8fd523bd3a5064bb', 'windspeed': 10, 'winddirection': 90, 'relhumid': 90, 'temperature': 20}\n",
      "Choosing a perimeter from the database\n",
      "{'description': 'Maria2019', 'igniteidx': 'd42372dfcd954e90a84ee8ad20c0e90e', 'compareidx': '1a6eb30ee33742e18fa6bb26678b5077', 'lcpidx': '43b7f5db36994599861eec4849cc68fd', 'barrieridx': 'cb47616cd2dc4ccc8fd523bd3a5064bb', 'windspeed': 10, 'winddirection': 90, 'relhumid': 90, 'temperature': 20}\n",
      "Choosing a perimeter from the database\n",
      "{'description': 'Maria2019', 'igniteidx': 'b84f98ffdc15474f9196d55fdbb048ee', 'compareidx': '1a6eb30ee33742e18fa6bb26678b5077', 'lcpidx': '43b7f5db36994599861eec4849cc68fd', 'barrieridx': 'cb47616cd2dc4ccc8fd523bd3a5064bb', 'windspeed': 10, 'winddirection': 90, 'relhumid': 90, 'temperature': 20}\n",
      "Choosing a perimeter from the database\n",
      "{'description': 'Maria2019', 'igniteidx': 'fe9a7ccacc014610af601701f82db630', 'compareidx': '1a6eb30ee33742e18fa6bb26678b5077', 'lcpidx': '43b7f5db36994599861eec4849cc68fd', 'barrieridx': 'cb47616cd2dc4ccc8fd523bd3a5064bb', 'windspeed': 10, 'winddirection': 90, 'relhumid': 90, 'temperature': 20}\n",
      "Choosing a perimeter from the database\n",
      "{'description': 'Maria2019', 'igniteidx': 'a242c56fa86449f08f952060c257d65f', 'compareidx': '1a6eb30ee33742e18fa6bb26678b5077', 'lcpidx': '43b7f5db36994599861eec4849cc68fd', 'barrieridx': 'cb47616cd2dc4ccc8fd523bd3a5064bb', 'windspeed': 10, 'winddirection': 90, 'relhumid': 90, 'temperature': 20}\n",
      "Choosing a perimeter from the database\n",
      "{'description': 'Maria2019', 'igniteidx': '2e51138d7f2944cb87861a65ad389511', 'compareidx': '1a6eb30ee33742e18fa6bb26678b5077', 'lcpidx': '43b7f5db36994599861eec4849cc68fd', 'barrieridx': 'cb47616cd2dc4ccc8fd523bd3a5064bb', 'windspeed': 10, 'winddirection': 90, 'relhumid': 90, 'temperature': 20}\n",
      "Choosing a perimeter from the database\n",
      "{'description': 'Maria2019', 'igniteidx': '2be5f3fcb46e4178ad291589f1a23b34', 'compareidx': '1a6eb30ee33742e18fa6bb26678b5077', 'lcpidx': '43b7f5db36994599861eec4849cc68fd', 'barrieridx': 'cb47616cd2dc4ccc8fd523bd3a5064bb', 'windspeed': 10, 'winddirection': 90, 'relhumid': 90, 'temperature': 20}\n",
      "Choosing a perimeter from the database\n",
      "{'description': 'Maria2019', 'igniteidx': '28599e4dd01047529169db835259744e', 'compareidx': '1a6eb30ee33742e18fa6bb26678b5077', 'lcpidx': '43b7f5db36994599861eec4849cc68fd', 'barrieridx': 'cb47616cd2dc4ccc8fd523bd3a5064bb', 'windspeed': 10, 'winddirection': 90, 'relhumid': 90, 'temperature': 20}\n",
      "Choosing a perimeter from the database\n",
      "{'description': 'Maria2019', 'igniteidx': '8950bac204894079a26012a544ba779f', 'compareidx': '1a6eb30ee33742e18fa6bb26678b5077', 'lcpidx': '43b7f5db36994599861eec4849cc68fd', 'barrieridx': 'cb47616cd2dc4ccc8fd523bd3a5064bb', 'windspeed': 10, 'winddirection': 90, 'relhumid': 90, 'temperature': 20}\n",
      "Choosing a perimeter from the database\n",
      "{'description': 'Maria2019', 'igniteidx': '3a6c70bbb84540aea60adf664e56b3b3', 'compareidx': '1a6eb30ee33742e18fa6bb26678b5077', 'lcpidx': '43b7f5db36994599861eec4849cc68fd', 'barrieridx': 'cb47616cd2dc4ccc8fd523bd3a5064bb', 'windspeed': 10, 'winddirection': 90, 'relhumid': 90, 'temperature': 20}\n",
      "Choosing a perimeter from the database\n",
      "{'description': 'Maria2019', 'igniteidx': '116b5acc6f154b939cb052cc8c5124c4', 'compareidx': '1a6eb30ee33742e18fa6bb26678b5077', 'lcpidx': '43b7f5db36994599861eec4849cc68fd', 'barrieridx': 'cb47616cd2dc4ccc8fd523bd3a5064bb', 'windspeed': 10, 'winddirection': 90, 'relhumid': 90, 'temperature': 20}\n",
      "Choosing a perimeter from the database\n",
      "{'description': 'Maria2019', 'igniteidx': '472f45abc7e1443480add68a3ba02733', 'compareidx': '1a6eb30ee33742e18fa6bb26678b5077', 'lcpidx': '43b7f5db36994599861eec4849cc68fd', 'barrieridx': 'cb47616cd2dc4ccc8fd523bd3a5064bb', 'windspeed': 10, 'winddirection': 90, 'relhumid': 90, 'temperature': 20}\n",
      "Choosing a perimeter from the database\n",
      "{'description': 'Maria2019', 'igniteidx': '05704aed893e4072b83e376a655feb4f', 'compareidx': '1a6eb30ee33742e18fa6bb26678b5077', 'lcpidx': '43b7f5db36994599861eec4849cc68fd', 'barrieridx': 'cb47616cd2dc4ccc8fd523bd3a5064bb', 'windspeed': 10, 'winddirection': 90, 'relhumid': 90, 'temperature': 20}\n",
      "Choosing a perimeter from the database\n",
      "{'description': 'Maria2019', 'igniteidx': 'ea1715cabc3749c58ed2ea3ded4f7d29', 'compareidx': '1a6eb30ee33742e18fa6bb26678b5077', 'lcpidx': '43b7f5db36994599861eec4849cc68fd', 'barrieridx': 'cb47616cd2dc4ccc8fd523bd3a5064bb', 'windspeed': 10, 'winddirection': 90, 'relhumid': 90, 'temperature': 20}\n",
      "Choosing a perimeter from the database\n",
      "{'description': 'Maria2019', 'igniteidx': 'f65ed344b7034595838ef37c157651bf', 'compareidx': '1a6eb30ee33742e18fa6bb26678b5077', 'lcpidx': '43b7f5db36994599861eec4849cc68fd', 'barrieridx': 'cb47616cd2dc4ccc8fd523bd3a5064bb', 'windspeed': 10, 'winddirection': 90, 'relhumid': 90, 'temperature': 20}\n",
      "Choosing a perimeter from the database\n",
      "{'description': 'Maria2019', 'igniteidx': '3642207bcbcb409fbd144f5d2fc31146', 'compareidx': '1a6eb30ee33742e18fa6bb26678b5077', 'lcpidx': '43b7f5db36994599861eec4849cc68fd', 'barrieridx': 'cb47616cd2dc4ccc8fd523bd3a5064bb', 'windspeed': 10, 'winddirection': 90, 'relhumid': 90, 'temperature': 20}\n",
      "Choosing a perimeter from the database\n",
      "{'description': 'Maria2019', 'igniteidx': '279bc37398c14e28a161286bea5d734f', 'compareidx': '1a6eb30ee33742e18fa6bb26678b5077', 'lcpidx': '43b7f5db36994599861eec4849cc68fd', 'barrieridx': 'cb47616cd2dc4ccc8fd523bd3a5064bb', 'windspeed': 10, 'winddirection': 90, 'relhumid': 90, 'temperature': 20}\n",
      "Choosing a perimeter from the database\n",
      "{'description': 'Maria2019', 'igniteidx': '00a14889c2d946a0943ac992f7950391', 'compareidx': '1a6eb30ee33742e18fa6bb26678b5077', 'lcpidx': '43b7f5db36994599861eec4849cc68fd', 'barrieridx': 'cb47616cd2dc4ccc8fd523bd3a5064bb', 'windspeed': 10, 'winddirection': 90, 'relhumid': 90, 'temperature': 20}\n",
      "Choosing a perimeter from the database\n",
      "{'description': 'Maria2019', 'igniteidx': 'e6decb741d834b3fbeccbb4ec4eaf8f5', 'compareidx': '1a6eb30ee33742e18fa6bb26678b5077', 'lcpidx': '43b7f5db36994599861eec4849cc68fd', 'barrieridx': 'cb47616cd2dc4ccc8fd523bd3a5064bb', 'windspeed': 10, 'winddirection': 90, 'relhumid': 90, 'temperature': 20}\n",
      "Choosing a perimeter from the database\n",
      "{'description': 'Maria2019', 'igniteidx': 'd6738083de34422e83f9621ab5635029', 'compareidx': '1a6eb30ee33742e18fa6bb26678b5077', 'lcpidx': '43b7f5db36994599861eec4849cc68fd', 'barrieridx': 'cb47616cd2dc4ccc8fd523bd3a5064bb', 'windspeed': 10, 'winddirection': 90, 'relhumid': 90, 'temperature': 20}\n",
      "Choosing a perimeter from the database\n",
      "{'description': 'Maria2019', 'igniteidx': '9cfee109de76451c95407a01187eba49', 'compareidx': '1a6eb30ee33742e18fa6bb26678b5077', 'lcpidx': '43b7f5db36994599861eec4849cc68fd', 'barrieridx': 'cb47616cd2dc4ccc8fd523bd3a5064bb', 'windspeed': 10, 'winddirection': 90, 'relhumid': 90, 'temperature': 20}\n",
      "Choosing a perimeter from the database\n",
      "{'description': 'Maria2019', 'igniteidx': 'a93ae3c5fec0425b8e5e0f87d0cccf21', 'compareidx': '1a6eb30ee33742e18fa6bb26678b5077', 'lcpidx': '43b7f5db36994599861eec4849cc68fd', 'barrieridx': 'cb47616cd2dc4ccc8fd523bd3a5064bb', 'windspeed': 10, 'winddirection': 90, 'relhumid': 90, 'temperature': 20}\n",
      "Choosing a perimeter from the database\n",
      "{'description': 'Maria2019', 'igniteidx': '76915203cb1149b58685153ccd4c18d2', 'compareidx': '1a6eb30ee33742e18fa6bb26678b5077', 'lcpidx': '43b7f5db36994599861eec4849cc68fd', 'barrieridx': 'cb47616cd2dc4ccc8fd523bd3a5064bb', 'windspeed': 10, 'winddirection': 90, 'relhumid': 90, 'temperature': 20}\n",
      "Choosing a perimeter from the database\n",
      "{'description': 'Maria2019', 'igniteidx': '363f5c66713f477eb43513b902a34d4f', 'compareidx': '1a6eb30ee33742e18fa6bb26678b5077', 'lcpidx': '43b7f5db36994599861eec4849cc68fd', 'barrieridx': 'cb47616cd2dc4ccc8fd523bd3a5064bb', 'windspeed': 10, 'winddirection': 90, 'relhumid': 90, 'temperature': 20}\n",
      "Choosing a perimeter from the database\n",
      "{'description': 'Maria2019', 'igniteidx': '41c60529e50c4a28a5fdd913a5e286e3', 'compareidx': '1a6eb30ee33742e18fa6bb26678b5077', 'lcpidx': '43b7f5db36994599861eec4849cc68fd', 'barrieridx': 'cb47616cd2dc4ccc8fd523bd3a5064bb', 'windspeed': 10, 'winddirection': 90, 'relhumid': 90, 'temperature': 20}\n",
      "Choosing a perimeter from the database\n",
      "{'description': 'Maria2019', 'igniteidx': 'd261eb4582c64de3a94b475619bd2fb0', 'compareidx': '1a6eb30ee33742e18fa6bb26678b5077', 'lcpidx': '43b7f5db36994599861eec4849cc68fd', 'barrieridx': 'cb47616cd2dc4ccc8fd523bd3a5064bb', 'windspeed': 10, 'winddirection': 90, 'relhumid': 90, 'temperature': 20}\n",
      "Choosing a perimeter from the database\n",
      "{'description': 'Maria2019', 'igniteidx': '004da416fcab45e99ed9933c4d4329d1', 'compareidx': '1a6eb30ee33742e18fa6bb26678b5077', 'lcpidx': '43b7f5db36994599861eec4849cc68fd', 'barrieridx': 'cb47616cd2dc4ccc8fd523bd3a5064bb', 'windspeed': 10, 'winddirection': 90, 'relhumid': 90, 'temperature': 20}\n",
      "Choosing a perimeter from the database\n",
      "{'description': 'Maria2019', 'igniteidx': '1c28d78baebd4ce4bf017cc7253488f0', 'compareidx': '1a6eb30ee33742e18fa6bb26678b5077', 'lcpidx': '43b7f5db36994599861eec4849cc68fd', 'barrieridx': 'cb47616cd2dc4ccc8fd523bd3a5064bb', 'windspeed': 10, 'winddirection': 90, 'relhumid': 90, 'temperature': 20}\n",
      "Choosing a perimeter from the database\n",
      "{'description': 'Maria2019', 'igniteidx': '7d801fa8f9334c51928c2775e56e64e7', 'compareidx': '1a6eb30ee33742e18fa6bb26678b5077', 'lcpidx': '43b7f5db36994599861eec4849cc68fd', 'barrieridx': 'cb47616cd2dc4ccc8fd523bd3a5064bb', 'windspeed': 10, 'winddirection': 90, 'relhumid': 90, 'temperature': 20}\n",
      "Choosing a perimeter from the database\n",
      "{'description': 'Maria2019', 'igniteidx': '42f2607a72a94b059fadb57c525a0b4e', 'compareidx': '1a6eb30ee33742e18fa6bb26678b5077', 'lcpidx': '43b7f5db36994599861eec4849cc68fd', 'barrieridx': 'cb47616cd2dc4ccc8fd523bd3a5064bb', 'windspeed': 10, 'winddirection': 90, 'relhumid': 90, 'temperature': 20}\n",
      "Choosing a perimeter from the database\n",
      "{'description': 'Maria2019', 'igniteidx': '035cb8411978477e95c87141fd5bd0ef', 'compareidx': '1a6eb30ee33742e18fa6bb26678b5077', 'lcpidx': '43b7f5db36994599861eec4849cc68fd', 'barrieridx': 'cb47616cd2dc4ccc8fd523bd3a5064bb', 'windspeed': 10, 'winddirection': 90, 'relhumid': 90, 'temperature': 20}\n",
      "Choosing a perimeter from the database\n",
      "{'description': 'Maria2019', 'igniteidx': '055273fdb9434dce889d63562b049a14', 'compareidx': '1a6eb30ee33742e18fa6bb26678b5077', 'lcpidx': '43b7f5db36994599861eec4849cc68fd', 'barrieridx': 'cb47616cd2dc4ccc8fd523bd3a5064bb', 'windspeed': 10, 'winddirection': 90, 'relhumid': 90, 'temperature': 20}\n",
      "Choosing a perimeter from the database\n",
      "{'description': 'Maria2019', 'igniteidx': 'b0e894f81ec943bc8ba235c17d51a4c3', 'compareidx': '1a6eb30ee33742e18fa6bb26678b5077', 'lcpidx': '43b7f5db36994599861eec4849cc68fd', 'barrieridx': 'cb47616cd2dc4ccc8fd523bd3a5064bb', 'windspeed': 10, 'winddirection': 90, 'relhumid': 90, 'temperature': 20}\n",
      "Choosing a perimeter from the database\n",
      "{'description': 'Maria2019', 'igniteidx': '819ab398610144dc8f0715abb58cb667', 'compareidx': '1a6eb30ee33742e18fa6bb26678b5077', 'lcpidx': '43b7f5db36994599861eec4849cc68fd', 'barrieridx': 'cb47616cd2dc4ccc8fd523bd3a5064bb', 'windspeed': 10, 'winddirection': 90, 'relhumid': 90, 'temperature': 20}\n",
      "Choosing a perimeter from the database\n",
      "{'description': 'Maria2019', 'igniteidx': '3480a9adf2c94baf84736618658c6fed', 'compareidx': '1a6eb30ee33742e18fa6bb26678b5077', 'lcpidx': '43b7f5db36994599861eec4849cc68fd', 'barrieridx': 'cb47616cd2dc4ccc8fd523bd3a5064bb', 'windspeed': 10, 'winddirection': 90, 'relhumid': 90, 'temperature': 20}\n",
      "Choosing a perimeter from the database\n",
      "{'description': 'Maria2019', 'igniteidx': 'ccf4d7ced1d549709ae3aec2d739b04c', 'compareidx': '1a6eb30ee33742e18fa6bb26678b5077', 'lcpidx': '43b7f5db36994599861eec4849cc68fd', 'barrieridx': 'cb47616cd2dc4ccc8fd523bd3a5064bb', 'windspeed': 10, 'winddirection': 90, 'relhumid': 90, 'temperature': 20}\n",
      "Choosing a perimeter from the database\n",
      "{'description': 'Maria2019', 'igniteidx': '5a6dce16e04547908e00784924e3ba1d', 'compareidx': '1a6eb30ee33742e18fa6bb26678b5077', 'lcpidx': '43b7f5db36994599861eec4849cc68fd', 'barrieridx': 'cb47616cd2dc4ccc8fd523bd3a5064bb', 'windspeed': 10, 'winddirection': 90, 'relhumid': 90, 'temperature': 20}\n",
      "Choosing a perimeter from the database\n",
      "{'description': 'Maria2019', 'igniteidx': 'c0e4bf9c5c3446ebbf3862cb303b08e4', 'compareidx': '1a6eb30ee33742e18fa6bb26678b5077', 'lcpidx': '43b7f5db36994599861eec4849cc68fd', 'barrieridx': 'cb47616cd2dc4ccc8fd523bd3a5064bb', 'windspeed': 10, 'winddirection': 90, 'relhumid': 90, 'temperature': 20}\n",
      "Choosing a perimeter from the database\n",
      "{'description': 'Maria2019', 'igniteidx': '7d37e0be2ae248d7ad56a4988a7cb067', 'compareidx': '1a6eb30ee33742e18fa6bb26678b5077', 'lcpidx': '43b7f5db36994599861eec4849cc68fd', 'barrieridx': 'cb47616cd2dc4ccc8fd523bd3a5064bb', 'windspeed': 10, 'winddirection': 90, 'relhumid': 90, 'temperature': 20}\n",
      "Choosing a perimeter from the database\n",
      "{'description': 'Maria2019', 'igniteidx': 'ee32cf92f6e34386b07850955968ac10', 'compareidx': '1a6eb30ee33742e18fa6bb26678b5077', 'lcpidx': '43b7f5db36994599861eec4849cc68fd', 'barrieridx': 'cb47616cd2dc4ccc8fd523bd3a5064bb', 'windspeed': 10, 'winddirection': 90, 'relhumid': 90, 'temperature': 20}\n",
      "Choosing a perimeter from the database\n",
      "{'description': 'Maria2019', 'igniteidx': 'a4f75c8123ca497bbd2366e61dac2fb7', 'compareidx': '1a6eb30ee33742e18fa6bb26678b5077', 'lcpidx': '43b7f5db36994599861eec4849cc68fd', 'barrieridx': 'cb47616cd2dc4ccc8fd523bd3a5064bb', 'windspeed': 10, 'winddirection': 90, 'relhumid': 90, 'temperature': 20}\n",
      "Choosing a perimeter from the database\n",
      "{'description': 'Maria2019', 'igniteidx': '51f27af8e9684fa290a83c82aaf2616e', 'compareidx': '1a6eb30ee33742e18fa6bb26678b5077', 'lcpidx': '43b7f5db36994599861eec4849cc68fd', 'barrieridx': 'cb47616cd2dc4ccc8fd523bd3a5064bb', 'windspeed': 10, 'winddirection': 90, 'relhumid': 90, 'temperature': 20}\n",
      "Choosing a perimeter from the database\n",
      "{'description': 'Maria2019', 'igniteidx': 'dc6e964513a04778aeb96cce9f0b6e2a', 'compareidx': '1a6eb30ee33742e18fa6bb26678b5077', 'lcpidx': '43b7f5db36994599861eec4849cc68fd', 'barrieridx': 'cb47616cd2dc4ccc8fd523bd3a5064bb', 'windspeed': 10, 'winddirection': 90, 'relhumid': 90, 'temperature': 20}\n",
      "Choosing a perimeter from the database\n",
      "{'description': 'Maria2019', 'igniteidx': 'dea1ddbdb1324b6e9864b14b1f75d797', 'compareidx': '1a6eb30ee33742e18fa6bb26678b5077', 'lcpidx': '43b7f5db36994599861eec4849cc68fd', 'barrieridx': 'cb47616cd2dc4ccc8fd523bd3a5064bb', 'windspeed': 10, 'winddirection': 90, 'relhumid': 90, 'temperature': 20}\n",
      "Choosing a perimeter from the database\n",
      "{'description': 'Maria2019', 'igniteidx': 'ee38a7bdf92542a99bc73d646e672056', 'compareidx': '1a6eb30ee33742e18fa6bb26678b5077', 'lcpidx': '43b7f5db36994599861eec4849cc68fd', 'barrieridx': 'cb47616cd2dc4ccc8fd523bd3a5064bb', 'windspeed': 10, 'winddirection': 90, 'relhumid': 90, 'temperature': 20}\n",
      "Choosing a perimeter from the database\n",
      "{'description': 'Maria2019', 'igniteidx': '0c48dde9d78a4580bff9f05f22c67404', 'compareidx': '1a6eb30ee33742e18fa6bb26678b5077', 'lcpidx': '43b7f5db36994599861eec4849cc68fd', 'barrieridx': 'cb47616cd2dc4ccc8fd523bd3a5064bb', 'windspeed': 10, 'winddirection': 90, 'relhumid': 90, 'temperature': 20}\n",
      "Choosing a perimeter from the database\n",
      "{'description': 'Maria2019', 'igniteidx': 'b8b822cc5d334e599553dca416f7f375', 'compareidx': '1a6eb30ee33742e18fa6bb26678b5077', 'lcpidx': '43b7f5db36994599861eec4849cc68fd', 'barrieridx': 'cb47616cd2dc4ccc8fd523bd3a5064bb', 'windspeed': 10, 'winddirection': 90, 'relhumid': 90, 'temperature': 20}\n",
      "Choosing a perimeter from the database\n",
      "{'description': 'Maria2019', 'igniteidx': '96ca673b98d6491cb62b299571ba1b0e', 'compareidx': '1a6eb30ee33742e18fa6bb26678b5077', 'lcpidx': '43b7f5db36994599861eec4849cc68fd', 'barrieridx': 'cb47616cd2dc4ccc8fd523bd3a5064bb', 'windspeed': 10, 'winddirection': 90, 'relhumid': 90, 'temperature': 20}\n",
      "Choosing a perimeter from the database\n",
      "{'description': 'Maria2019', 'igniteidx': '133a9b74c16d477fac2aa40334d2d25b', 'compareidx': '1a6eb30ee33742e18fa6bb26678b5077', 'lcpidx': '43b7f5db36994599861eec4849cc68fd', 'barrieridx': 'cb47616cd2dc4ccc8fd523bd3a5064bb', 'windspeed': 10, 'winddirection': 90, 'relhumid': 90, 'temperature': 20}\n",
      "Choosing a perimeter from the database\n",
      "{'description': 'Maria2019', 'igniteidx': 'bff8a887b6e0452e85803626e3d950f5', 'compareidx': '1a6eb30ee33742e18fa6bb26678b5077', 'lcpidx': '43b7f5db36994599861eec4849cc68fd', 'barrieridx': 'cb47616cd2dc4ccc8fd523bd3a5064bb', 'windspeed': 10, 'winddirection': 90, 'relhumid': 90, 'temperature': 20}\n",
      "Choosing a perimeter from the database\n",
      "{'description': 'Maria2019', 'igniteidx': '476882bf7fbc4a06b455ee793f6f35d3', 'compareidx': '1a6eb30ee33742e18fa6bb26678b5077', 'lcpidx': '43b7f5db36994599861eec4849cc68fd', 'barrieridx': 'cb47616cd2dc4ccc8fd523bd3a5064bb', 'windspeed': 10, 'winddirection': 90, 'relhumid': 90, 'temperature': 20}\n",
      "Choosing a perimeter from the database\n",
      "{'description': 'Maria2019', 'igniteidx': '700666c9e5f048c2914756d4eae68be9', 'compareidx': '1a6eb30ee33742e18fa6bb26678b5077', 'lcpidx': '43b7f5db36994599861eec4849cc68fd', 'barrieridx': 'cb47616cd2dc4ccc8fd523bd3a5064bb', 'windspeed': 10, 'winddirection': 90, 'relhumid': 90, 'temperature': 20}\n",
      "Choosing a perimeter from the database\n",
      "{'description': 'Maria2019', 'igniteidx': '0c3adf11f66048c0b35c11c9a58e0396', 'compareidx': '1a6eb30ee33742e18fa6bb26678b5077', 'lcpidx': '43b7f5db36994599861eec4849cc68fd', 'barrieridx': 'cb47616cd2dc4ccc8fd523bd3a5064bb', 'windspeed': 10, 'winddirection': 90, 'relhumid': 90, 'temperature': 20}\n",
      "Choosing a perimeter from the database\n",
      "{'description': 'Maria2019', 'igniteidx': '7dcd191ba67249cba001da60363cd7df', 'compareidx': '1a6eb30ee33742e18fa6bb26678b5077', 'lcpidx': '43b7f5db36994599861eec4849cc68fd', 'barrieridx': 'cb47616cd2dc4ccc8fd523bd3a5064bb', 'windspeed': 10, 'winddirection': 90, 'relhumid': 90, 'temperature': 20}\n",
      "Choosing a perimeter from the database\n",
      "{'description': 'Maria2019', 'igniteidx': 'fc061c95e0a447359eaf287dba12448c', 'compareidx': '1a6eb30ee33742e18fa6bb26678b5077', 'lcpidx': '43b7f5db36994599861eec4849cc68fd', 'barrieridx': 'cb47616cd2dc4ccc8fd523bd3a5064bb', 'windspeed': 10, 'winddirection': 90, 'relhumid': 90, 'temperature': 20}\n",
      "Choosing a perimeter from the database\n",
      "{'description': 'Maria2019', 'igniteidx': 'dca49ce6f3a84397a00c80672bf709a3', 'compareidx': '1a6eb30ee33742e18fa6bb26678b5077', 'lcpidx': '43b7f5db36994599861eec4849cc68fd', 'barrieridx': 'cb47616cd2dc4ccc8fd523bd3a5064bb', 'windspeed': 10, 'winddirection': 90, 'relhumid': 90, 'temperature': 20}\n",
      "Choosing a perimeter from the database\n",
      "{'description': 'Maria2019', 'igniteidx': 'c8d45476d3df46be9cc73c4761386270', 'compareidx': '1a6eb30ee33742e18fa6bb26678b5077', 'lcpidx': '43b7f5db36994599861eec4849cc68fd', 'barrieridx': 'cb47616cd2dc4ccc8fd523bd3a5064bb', 'windspeed': 10, 'winddirection': 90, 'relhumid': 90, 'temperature': 20}\n",
      "Choosing a perimeter from the database\n",
      "{'description': 'Maria2019', 'igniteidx': 'b6320bd4872d415383b4b1623b6ca241', 'compareidx': '1a6eb30ee33742e18fa6bb26678b5077', 'lcpidx': '43b7f5db36994599861eec4849cc68fd', 'barrieridx': 'cb47616cd2dc4ccc8fd523bd3a5064bb', 'windspeed': 10, 'winddirection': 90, 'relhumid': 90, 'temperature': 20}\n",
      "Choosing a perimeter from the database\n",
      "{'description': 'Maria2019', 'igniteidx': '4643c796cd824d7eb931b9c5c0c3fa1e', 'compareidx': '1a6eb30ee33742e18fa6bb26678b5077', 'lcpidx': '43b7f5db36994599861eec4849cc68fd', 'barrieridx': 'cb47616cd2dc4ccc8fd523bd3a5064bb', 'windspeed': 10, 'winddirection': 90, 'relhumid': 90, 'temperature': 20}\n",
      "Choosing a perimeter from the database\n",
      "{'description': 'Maria2019', 'igniteidx': 'ed7896822ff74750a073ade2b3bf1512', 'compareidx': '1a6eb30ee33742e18fa6bb26678b5077', 'lcpidx': '43b7f5db36994599861eec4849cc68fd', 'barrieridx': 'cb47616cd2dc4ccc8fd523bd3a5064bb', 'windspeed': 10, 'winddirection': 90, 'relhumid': 90, 'temperature': 20}\n",
      "Choosing a perimeter from the database\n",
      "{'description': 'Maria2019', 'igniteidx': 'e4b353a54eab44dba77a92e4c864c3dd', 'compareidx': '1a6eb30ee33742e18fa6bb26678b5077', 'lcpidx': '43b7f5db36994599861eec4849cc68fd', 'barrieridx': 'cb47616cd2dc4ccc8fd523bd3a5064bb', 'windspeed': 10, 'winddirection': 90, 'relhumid': 90, 'temperature': 20}\n",
      "Choosing a perimeter from the database\n",
      "Farsite $Rev: 2395 $\n",
      "Number of parallel threads = 4 (omp_get_num_procs = 32).\n",
      "Loading lcp file for Farsite #1: /home/jovyan/farsite/inputs/landscapes/Maria2019.lcp\n",
      "Loading inputs file for Farsite #1: /home/jovyan/data/20221209/Run_00900/config\n",
      "Loading ignition file for Farsite #1: /home/jovyan/data/ignitions/Maria2019U0000.shp\n",
      "Loading barrier file for Farsite #1: /home/jovyan/farsite/inputs/barriers/NoBarrier/NoBarrier.shp\n",
      "Launching Farsite #1\n",
      "Starting time step 0.000000 (maximum = 19)\n",
      "Writing outputs for Farsite #1 to /home/jovyan/data/20221209/Run_00900/out\n"
     ]
    },
    {
     "name": "stderr",
     "output_type": "stream",
     "text": [
      "/home/jovyan/farsite-devAPI/src/farsiteutils_v2.py:177: FutureWarning: The frame.append method is deprecated and will be removed from pandas in a future version. Use pandas.concat instead.\n",
      "  self.gdfsimulation = self.gdfsimulation.append(gdfappend)\n"
     ]
    },
    {
     "name": "stdout",
     "output_type": "stream",
     "text": [
      "Farsite $Rev: 2395 $\n",
      "Number of parallel threads = 4 (omp_get_num_procs = 32).\n",
      "Loading lcp file for Farsite #1: /home/jovyan/farsite/inputs/landscapes/Maria2019.lcp\n",
      "Loading inputs file for Farsite #1: /home/jovyan/data/20221209/Run_00901/config\n",
      "Loading ignition file for Farsite #1: /home/jovyan/data/ignitions/Maria2019U0001.shp\n",
      "Loading barrier file for Farsite #1: /home/jovyan/farsite/inputs/barriers/NoBarrier/NoBarrier.shp\n",
      "Launching Farsite #1\n",
      "Starting time step 0.000000 (maximum = 19)\n",
      "Writing outputs for Farsite #1 to /home/jovyan/data/20221209/Run_00901/out\n"
     ]
    },
    {
     "name": "stderr",
     "output_type": "stream",
     "text": [
      "/home/jovyan/farsite-devAPI/src/farsiteutils_v2.py:177: FutureWarning: The frame.append method is deprecated and will be removed from pandas in a future version. Use pandas.concat instead.\n",
      "  self.gdfsimulation = self.gdfsimulation.append(gdfappend)\n"
     ]
    },
    {
     "name": "stdout",
     "output_type": "stream",
     "text": [
      "Farsite $Rev: 2395 $\n",
      "Number of parallel threads = 4 (omp_get_num_procs = 32).\n",
      "Loading lcp file for Farsite #1: /home/jovyan/farsite/inputs/landscapes/Maria2019.lcp\n",
      "Loading inputs file for Farsite #1: /home/jovyan/data/20221209/Run_00902/config\n",
      "Loading ignition file for Farsite #1: /home/jovyan/data/ignitions/Maria2019U0002.shp\n",
      "Loading barrier file for Farsite #1: /home/jovyan/farsite/inputs/barriers/NoBarrier/NoBarrier.shp\n",
      "Launching Farsite #1\n",
      "Starting time step 0.000000 (maximum = 19)\n",
      "Writing outputs for Farsite #1 to /home/jovyan/data/20221209/Run_00902/out\n"
     ]
    },
    {
     "name": "stderr",
     "output_type": "stream",
     "text": [
      "/home/jovyan/farsite-devAPI/src/farsiteutils_v2.py:177: FutureWarning: The frame.append method is deprecated and will be removed from pandas in a future version. Use pandas.concat instead.\n",
      "  self.gdfsimulation = self.gdfsimulation.append(gdfappend)\n"
     ]
    },
    {
     "name": "stdout",
     "output_type": "stream",
     "text": [
      "Farsite $Rev: 2395 $\n",
      "Number of parallel threads = 4 (omp_get_num_procs = 32).\n",
      "Loading lcp file for Farsite #1: /home/jovyan/farsite/inputs/landscapes/Maria2019.lcp\n",
      "Loading inputs file for Farsite #1: /home/jovyan/data/20221209/Run_00903/config\n",
      "Loading ignition file for Farsite #1: /home/jovyan/data/ignitions/Maria2019U0003.shp\n",
      "Loading barrier file for Farsite #1: /home/jovyan/farsite/inputs/barriers/NoBarrier/NoBarrier.shp\n",
      "Launching Farsite #1\n",
      "Starting time step 0.000000 (maximum = 19)\n",
      "Writing outputs for Farsite #1 to /home/jovyan/data/20221209/Run_00903/out\n"
     ]
    },
    {
     "name": "stderr",
     "output_type": "stream",
     "text": [
      "/home/jovyan/farsite-devAPI/src/farsiteutils_v2.py:177: FutureWarning: The frame.append method is deprecated and will be removed from pandas in a future version. Use pandas.concat instead.\n",
      "  self.gdfsimulation = self.gdfsimulation.append(gdfappend)\n"
     ]
    },
    {
     "name": "stdout",
     "output_type": "stream",
     "text": [
      "Farsite $Rev: 2395 $\n",
      "Number of parallel threads = 4 (omp_get_num_procs = 32).\n",
      "Loading lcp file for Farsite #1: /home/jovyan/farsite/inputs/landscapes/Maria2019.lcp\n",
      "Loading inputs file for Farsite #1: /home/jovyan/data/20221209/Run_00904/config\n",
      "Loading ignition file for Farsite #1: /home/jovyan/data/ignitions/Maria2019U0004.shp\n",
      "Loading barrier file for Farsite #1: /home/jovyan/farsite/inputs/barriers/NoBarrier/NoBarrier.shp\n",
      "Launching Farsite #1\n",
      "Starting time step 0.000000 (maximum = 19)\n",
      "Writing outputs for Farsite #1 to /home/jovyan/data/20221209/Run_00904/out\n"
     ]
    },
    {
     "name": "stderr",
     "output_type": "stream",
     "text": [
      "/home/jovyan/farsite-devAPI/src/farsiteutils_v2.py:177: FutureWarning: The frame.append method is deprecated and will be removed from pandas in a future version. Use pandas.concat instead.\n",
      "  self.gdfsimulation = self.gdfsimulation.append(gdfappend)\n"
     ]
    },
    {
     "name": "stdout",
     "output_type": "stream",
     "text": [
      "Farsite $Rev: 2395 $\n",
      "Number of parallel threads = 4 (omp_get_num_procs = 32).\n",
      "Loading lcp file for Farsite #1: /home/jovyan/farsite/inputs/landscapes/Maria2019.lcp\n",
      "Loading inputs file for Farsite #1: /home/jovyan/data/20221209/Run_00905/config\n",
      "Loading ignition file for Farsite #1: /home/jovyan/data/ignitions/Maria2019U0005.shp\n",
      "Loading barrier file for Farsite #1: /home/jovyan/farsite/inputs/barriers/NoBarrier/NoBarrier.shp\n",
      "Launching Farsite #1\n",
      "Starting time step 0.000000 (maximum = 19)\n",
      "Writing outputs for Farsite #1 to /home/jovyan/data/20221209/Run_00905/out\n"
     ]
    },
    {
     "name": "stderr",
     "output_type": "stream",
     "text": [
      "/home/jovyan/farsite-devAPI/src/farsiteutils_v2.py:177: FutureWarning: The frame.append method is deprecated and will be removed from pandas in a future version. Use pandas.concat instead.\n",
      "  self.gdfsimulation = self.gdfsimulation.append(gdfappend)\n"
     ]
    },
    {
     "name": "stdout",
     "output_type": "stream",
     "text": [
      "Farsite $Rev: 2395 $\n",
      "Number of parallel threads = 4 (omp_get_num_procs = 32).\n",
      "Loading lcp file for Farsite #1: /home/jovyan/farsite/inputs/landscapes/Maria2019.lcp\n",
      "Loading inputs file for Farsite #1: /home/jovyan/data/20221209/Run_00906/config\n",
      "Loading ignition file for Farsite #1: /home/jovyan/data/ignitions/Maria2019U0006.shp\n",
      "Loading barrier file for Farsite #1: /home/jovyan/farsite/inputs/barriers/NoBarrier/NoBarrier.shp\n",
      "Launching Farsite #1\n",
      "Starting time step 0.000000 (maximum = 19)\n",
      "Writing outputs for Farsite #1 to /home/jovyan/data/20221209/Run_00906/out\n"
     ]
    },
    {
     "name": "stderr",
     "output_type": "stream",
     "text": [
      "/home/jovyan/farsite-devAPI/src/farsiteutils_v2.py:177: FutureWarning: The frame.append method is deprecated and will be removed from pandas in a future version. Use pandas.concat instead.\n",
      "  self.gdfsimulation = self.gdfsimulation.append(gdfappend)\n"
     ]
    },
    {
     "name": "stdout",
     "output_type": "stream",
     "text": [
      "Farsite $Rev: 2395 $\n",
      "Number of parallel threads = 4 (omp_get_num_procs = 32).\n",
      "Loading lcp file for Farsite #1: /home/jovyan/farsite/inputs/landscapes/Maria2019.lcp\n",
      "Loading inputs file for Farsite #1: /home/jovyan/data/20221209/Run_00907/config\n",
      "Loading ignition file for Farsite #1: /home/jovyan/data/ignitions/Maria2019U0007.shp\n",
      "Loading barrier file for Farsite #1: /home/jovyan/farsite/inputs/barriers/NoBarrier/NoBarrier.shp\n",
      "Launching Farsite #1\n",
      "Starting time step 0.000000 (maximum = 19)\n",
      "Writing outputs for Farsite #1 to /home/jovyan/data/20221209/Run_00907/out\n"
     ]
    },
    {
     "name": "stderr",
     "output_type": "stream",
     "text": [
      "/home/jovyan/farsite-devAPI/src/farsiteutils_v2.py:177: FutureWarning: The frame.append method is deprecated and will be removed from pandas in a future version. Use pandas.concat instead.\n",
      "  self.gdfsimulation = self.gdfsimulation.append(gdfappend)\n"
     ]
    },
    {
     "name": "stdout",
     "output_type": "stream",
     "text": [
      "Farsite $Rev: 2395 $\n",
      "Number of parallel threads = 4 (omp_get_num_procs = 32).\n",
      "Loading lcp file for Farsite #1: /home/jovyan/farsite/inputs/landscapes/Maria2019.lcp\n",
      "Loading inputs file for Farsite #1: /home/jovyan/data/20221209/Run_00908/config\n",
      "Loading ignition file for Farsite #1: /home/jovyan/data/ignitions/Maria2019U0008.shp\n",
      "Loading barrier file for Farsite #1: /home/jovyan/farsite/inputs/barriers/NoBarrier/NoBarrier.shp\n",
      "Launching Farsite #1\n",
      "Starting time step 0.000000 (maximum = 19)\n",
      "Writing outputs for Farsite #1 to /home/jovyan/data/20221209/Run_00908/out\n"
     ]
    },
    {
     "name": "stderr",
     "output_type": "stream",
     "text": [
      "/home/jovyan/farsite-devAPI/src/farsiteutils_v2.py:177: FutureWarning: The frame.append method is deprecated and will be removed from pandas in a future version. Use pandas.concat instead.\n",
      "  self.gdfsimulation = self.gdfsimulation.append(gdfappend)\n"
     ]
    },
    {
     "name": "stdout",
     "output_type": "stream",
     "text": [
      "Farsite $Rev: 2395 $\n",
      "Number of parallel threads = 4 (omp_get_num_procs = 32).\n",
      "Loading lcp file for Farsite #1: /home/jovyan/farsite/inputs/landscapes/Maria2019.lcp\n",
      "Loading inputs file for Farsite #1: /home/jovyan/data/20221209/Run_00909/config\n",
      "Loading ignition file for Farsite #1: /home/jovyan/data/ignitions/Maria2019U0009.shp\n",
      "Loading barrier file for Farsite #1: /home/jovyan/farsite/inputs/barriers/NoBarrier/NoBarrier.shp\n",
      "Launching Farsite #1\n",
      "Starting time step 0.000000 (maximum = 19)\n",
      "Writing outputs for Farsite #1 to /home/jovyan/data/20221209/Run_00909/out\n"
     ]
    },
    {
     "name": "stderr",
     "output_type": "stream",
     "text": [
      "/home/jovyan/farsite-devAPI/src/farsiteutils_v2.py:177: FutureWarning: The frame.append method is deprecated and will be removed from pandas in a future version. Use pandas.concat instead.\n",
      "  self.gdfsimulation = self.gdfsimulation.append(gdfappend)\n"
     ]
    },
    {
     "name": "stdout",
     "output_type": "stream",
     "text": [
      "Farsite $Rev: 2395 $\n",
      "Number of parallel threads = 4 (omp_get_num_procs = 32).\n",
      "Loading lcp file for Farsite #1: /home/jovyan/farsite/inputs/landscapes/Maria2019.lcp\n",
      "Loading inputs file for Farsite #1: /home/jovyan/data/20221209/Run_00910/config\n",
      "Loading ignition file for Farsite #1: /home/jovyan/data/ignitions/Maria2019U0010.shp\n",
      "Loading barrier file for Farsite #1: /home/jovyan/farsite/inputs/barriers/NoBarrier/NoBarrier.shp\n",
      "Launching Farsite #1\n",
      "Starting time step 0.000000 (maximum = 19)\n",
      "Writing outputs for Farsite #1 to /home/jovyan/data/20221209/Run_00910/out\n"
     ]
    },
    {
     "name": "stderr",
     "output_type": "stream",
     "text": [
      "/home/jovyan/farsite-devAPI/src/farsiteutils_v2.py:177: FutureWarning: The frame.append method is deprecated and will be removed from pandas in a future version. Use pandas.concat instead.\n",
      "  self.gdfsimulation = self.gdfsimulation.append(gdfappend)\n"
     ]
    },
    {
     "name": "stdout",
     "output_type": "stream",
     "text": [
      "Farsite $Rev: 2395 $\n",
      "Number of parallel threads = 4 (omp_get_num_procs = 32).\n",
      "Loading lcp file for Farsite #1: /home/jovyan/farsite/inputs/landscapes/Maria2019.lcp\n",
      "Loading inputs file for Farsite #1: /home/jovyan/data/20221209/Run_00911/config\n",
      "Loading ignition file for Farsite #1: /home/jovyan/data/ignitions/Maria2019U0011.shp\n",
      "Loading barrier file for Farsite #1: /home/jovyan/farsite/inputs/barriers/NoBarrier/NoBarrier.shp\n",
      "Launching Farsite #1\n",
      "Starting time step 0.000000 (maximum = 19)\n",
      "Writing outputs for Farsite #1 to /home/jovyan/data/20221209/Run_00911/out\n"
     ]
    },
    {
     "name": "stderr",
     "output_type": "stream",
     "text": [
      "/home/jovyan/farsite-devAPI/src/farsiteutils_v2.py:177: FutureWarning: The frame.append method is deprecated and will be removed from pandas in a future version. Use pandas.concat instead.\n",
      "  self.gdfsimulation = self.gdfsimulation.append(gdfappend)\n"
     ]
    },
    {
     "name": "stdout",
     "output_type": "stream",
     "text": [
      "Farsite $Rev: 2395 $\n",
      "Number of parallel threads = 4 (omp_get_num_procs = 32).\n",
      "Loading lcp file for Farsite #1: /home/jovyan/farsite/inputs/landscapes/Maria2019.lcp\n",
      "Loading inputs file for Farsite #1: /home/jovyan/data/20221209/Run_00912/config\n",
      "Loading ignition file for Farsite #1: /home/jovyan/data/ignitions/Maria2019U0012.shp\n",
      "Loading barrier file for Farsite #1: /home/jovyan/farsite/inputs/barriers/NoBarrier/NoBarrier.shp\n",
      "Launching Farsite #1\n",
      "Starting time step 0.000000 (maximum = 19)\n",
      "Writing outputs for Farsite #1 to /home/jovyan/data/20221209/Run_00912/out\n"
     ]
    },
    {
     "name": "stderr",
     "output_type": "stream",
     "text": [
      "/home/jovyan/farsite-devAPI/src/farsiteutils_v2.py:177: FutureWarning: The frame.append method is deprecated and will be removed from pandas in a future version. Use pandas.concat instead.\n",
      "  self.gdfsimulation = self.gdfsimulation.append(gdfappend)\n"
     ]
    },
    {
     "name": "stdout",
     "output_type": "stream",
     "text": [
      "Farsite $Rev: 2395 $\n",
      "Number of parallel threads = 4 (omp_get_num_procs = 32).\n",
      "Loading lcp file for Farsite #1: /home/jovyan/farsite/inputs/landscapes/Maria2019.lcp\n",
      "Loading inputs file for Farsite #1: /home/jovyan/data/20221209/Run_00913/config\n",
      "Loading ignition file for Farsite #1: /home/jovyan/data/ignitions/Maria2019U0013.shp\n",
      "Loading barrier file for Farsite #1: /home/jovyan/farsite/inputs/barriers/NoBarrier/NoBarrier.shp\n",
      "Launching Farsite #1\n",
      "Starting time step 0.000000 (maximum = 19)\n",
      "Writing outputs for Farsite #1 to /home/jovyan/data/20221209/Run_00913/out\n"
     ]
    },
    {
     "name": "stderr",
     "output_type": "stream",
     "text": [
      "/home/jovyan/farsite-devAPI/src/farsiteutils_v2.py:177: FutureWarning: The frame.append method is deprecated and will be removed from pandas in a future version. Use pandas.concat instead.\n",
      "  self.gdfsimulation = self.gdfsimulation.append(gdfappend)\n"
     ]
    },
    {
     "name": "stdout",
     "output_type": "stream",
     "text": [
      "Farsite $Rev: 2395 $\n",
      "Number of parallel threads = 4 (omp_get_num_procs = 32).\n",
      "Loading lcp file for Farsite #1: /home/jovyan/farsite/inputs/landscapes/Maria2019.lcp\n",
      "Loading inputs file for Farsite #1: /home/jovyan/data/20221209/Run_00914/config\n",
      "Loading ignition file for Farsite #1: /home/jovyan/data/ignitions/Maria2019U0014.shp\n",
      "Loading barrier file for Farsite #1: /home/jovyan/farsite/inputs/barriers/NoBarrier/NoBarrier.shp\n",
      "Launching Farsite #1\n",
      "Starting time step 0.000000 (maximum = 19)\n",
      "Writing outputs for Farsite #1 to /home/jovyan/data/20221209/Run_00914/out\n"
     ]
    },
    {
     "name": "stderr",
     "output_type": "stream",
     "text": [
      "/home/jovyan/farsite-devAPI/src/farsiteutils_v2.py:177: FutureWarning: The frame.append method is deprecated and will be removed from pandas in a future version. Use pandas.concat instead.\n",
      "  self.gdfsimulation = self.gdfsimulation.append(gdfappend)\n"
     ]
    },
    {
     "name": "stdout",
     "output_type": "stream",
     "text": [
      "Farsite $Rev: 2395 $\n",
      "Number of parallel threads = 4 (omp_get_num_procs = 32).\n",
      "Loading lcp file for Farsite #1: /home/jovyan/farsite/inputs/landscapes/Maria2019.lcp\n",
      "Loading inputs file for Farsite #1: /home/jovyan/data/20221209/Run_00915/config\n",
      "Loading ignition file for Farsite #1: /home/jovyan/data/ignitions/Maria2019U0015.shp\n",
      "Loading barrier file for Farsite #1: /home/jovyan/farsite/inputs/barriers/NoBarrier/NoBarrier.shp\n",
      "Launching Farsite #1\n",
      "Starting time step 0.000000 (maximum = 19)\n",
      "Writing outputs for Farsite #1 to /home/jovyan/data/20221209/Run_00915/out\n"
     ]
    },
    {
     "name": "stderr",
     "output_type": "stream",
     "text": [
      "/home/jovyan/farsite-devAPI/src/farsiteutils_v2.py:177: FutureWarning: The frame.append method is deprecated and will be removed from pandas in a future version. Use pandas.concat instead.\n",
      "  self.gdfsimulation = self.gdfsimulation.append(gdfappend)\n"
     ]
    },
    {
     "name": "stdout",
     "output_type": "stream",
     "text": [
      "Farsite $Rev: 2395 $\n",
      "Number of parallel threads = 4 (omp_get_num_procs = 32).\n",
      "Loading lcp file for Farsite #1: /home/jovyan/farsite/inputs/landscapes/Maria2019.lcp\n",
      "Loading inputs file for Farsite #1: /home/jovyan/data/20221209/Run_00916/config\n",
      "Loading ignition file for Farsite #1: /home/jovyan/data/ignitions/Maria2019U0016.shp\n",
      "Loading barrier file for Farsite #1: /home/jovyan/farsite/inputs/barriers/NoBarrier/NoBarrier.shp\n",
      "Launching Farsite #1\n",
      "Starting time step 0.000000 (maximum = 19)\n",
      "Writing outputs for Farsite #1 to /home/jovyan/data/20221209/Run_00916/out\n"
     ]
    },
    {
     "name": "stderr",
     "output_type": "stream",
     "text": [
      "/home/jovyan/farsite-devAPI/src/farsiteutils_v2.py:177: FutureWarning: The frame.append method is deprecated and will be removed from pandas in a future version. Use pandas.concat instead.\n",
      "  self.gdfsimulation = self.gdfsimulation.append(gdfappend)\n"
     ]
    },
    {
     "name": "stdout",
     "output_type": "stream",
     "text": [
      "Farsite $Rev: 2395 $\n",
      "Number of parallel threads = 4 (omp_get_num_procs = 32).\n",
      "Loading lcp file for Farsite #1: /home/jovyan/farsite/inputs/landscapes/Maria2019.lcp\n",
      "Loading inputs file for Farsite #1: /home/jovyan/data/20221209/Run_00917/config\n",
      "Loading ignition file for Farsite #1: /home/jovyan/data/ignitions/Maria2019U0017.shp\n",
      "Loading barrier file for Farsite #1: /home/jovyan/farsite/inputs/barriers/NoBarrier/NoBarrier.shp\n",
      "Launching Farsite #1\n",
      "Starting time step 0.000000 (maximum = 19)\n",
      "Writing outputs for Farsite #1 to /home/jovyan/data/20221209/Run_00917/out\n"
     ]
    },
    {
     "name": "stderr",
     "output_type": "stream",
     "text": [
      "/home/jovyan/farsite-devAPI/src/farsiteutils_v2.py:177: FutureWarning: The frame.append method is deprecated and will be removed from pandas in a future version. Use pandas.concat instead.\n",
      "  self.gdfsimulation = self.gdfsimulation.append(gdfappend)\n"
     ]
    },
    {
     "name": "stdout",
     "output_type": "stream",
     "text": [
      "Farsite $Rev: 2395 $\n",
      "Number of parallel threads = 4 (omp_get_num_procs = 32).\n",
      "Loading lcp file for Farsite #1: /home/jovyan/farsite/inputs/landscapes/Maria2019.lcp\n",
      "Loading inputs file for Farsite #1: /home/jovyan/data/20221209/Run_00918/config\n",
      "Loading ignition file for Farsite #1: /home/jovyan/data/ignitions/Maria2019U0018.shp\n",
      "Loading barrier file for Farsite #1: /home/jovyan/farsite/inputs/barriers/NoBarrier/NoBarrier.shp\n",
      "Launching Farsite #1\n",
      "Starting time step 0.000000 (maximum = 19)\n",
      "Writing outputs for Farsite #1 to /home/jovyan/data/20221209/Run_00918/out\n"
     ]
    },
    {
     "name": "stderr",
     "output_type": "stream",
     "text": [
      "/home/jovyan/farsite-devAPI/src/farsiteutils_v2.py:177: FutureWarning: The frame.append method is deprecated and will be removed from pandas in a future version. Use pandas.concat instead.\n",
      "  self.gdfsimulation = self.gdfsimulation.append(gdfappend)\n"
     ]
    },
    {
     "name": "stdout",
     "output_type": "stream",
     "text": [
      "Farsite $Rev: 2395 $\n",
      "Number of parallel threads = 4 (omp_get_num_procs = 32).\n",
      "Loading lcp file for Farsite #1: /home/jovyan/farsite/inputs/landscapes/Maria2019.lcp\n",
      "Loading inputs file for Farsite #1: /home/jovyan/data/20221209/Run_00919/config\n",
      "Loading ignition file for Farsite #1: /home/jovyan/data/ignitions/Maria2019U0019.shp\n",
      "Loading barrier file for Farsite #1: /home/jovyan/farsite/inputs/barriers/NoBarrier/NoBarrier.shp\n",
      "Launching Farsite #1\n",
      "Starting time step 0.000000 (maximum = 19)\n",
      "Writing outputs for Farsite #1 to /home/jovyan/data/20221209/Run_00919/out\n"
     ]
    },
    {
     "name": "stderr",
     "output_type": "stream",
     "text": [
      "/home/jovyan/farsite-devAPI/src/farsiteutils_v2.py:177: FutureWarning: The frame.append method is deprecated and will be removed from pandas in a future version. Use pandas.concat instead.\n",
      "  self.gdfsimulation = self.gdfsimulation.append(gdfappend)\n"
     ]
    },
    {
     "name": "stdout",
     "output_type": "stream",
     "text": [
      "Farsite $Rev: 2395 $\n",
      "Number of parallel threads = 4 (omp_get_num_procs = 32).\n",
      "Loading lcp file for Farsite #1: /home/jovyan/farsite/inputs/landscapes/Maria2019.lcp\n",
      "Loading inputs file for Farsite #1: /home/jovyan/data/20221209/Run_00920/config\n",
      "Loading ignition file for Farsite #1: /home/jovyan/data/ignitions/Maria2019U0020.shp\n",
      "Loading barrier file for Farsite #1: /home/jovyan/farsite/inputs/barriers/NoBarrier/NoBarrier.shp\n",
      "Launching Farsite #1\n",
      "Starting time step 0.000000 (maximum = 19)\n",
      "Writing outputs for Farsite #1 to /home/jovyan/data/20221209/Run_00920/out\n"
     ]
    },
    {
     "name": "stderr",
     "output_type": "stream",
     "text": [
      "/home/jovyan/farsite-devAPI/src/farsiteutils_v2.py:177: FutureWarning: The frame.append method is deprecated and will be removed from pandas in a future version. Use pandas.concat instead.\n",
      "  self.gdfsimulation = self.gdfsimulation.append(gdfappend)\n"
     ]
    },
    {
     "name": "stdout",
     "output_type": "stream",
     "text": [
      "Farsite $Rev: 2395 $\n",
      "Number of parallel threads = 4 (omp_get_num_procs = 32).\n",
      "Loading lcp file for Farsite #1: /home/jovyan/farsite/inputs/landscapes/Maria2019.lcp\n",
      "Loading inputs file for Farsite #1: /home/jovyan/data/20221209/Run_00921/config\n",
      "Loading ignition file for Farsite #1: /home/jovyan/data/ignitions/Maria2019U0021.shp\n",
      "Loading barrier file for Farsite #1: /home/jovyan/farsite/inputs/barriers/NoBarrier/NoBarrier.shp\n",
      "Launching Farsite #1\n",
      "Starting time step 0.000000 (maximum = 19)\n",
      "Writing outputs for Farsite #1 to /home/jovyan/data/20221209/Run_00921/out\n"
     ]
    },
    {
     "name": "stderr",
     "output_type": "stream",
     "text": [
      "/home/jovyan/farsite-devAPI/src/farsiteutils_v2.py:177: FutureWarning: The frame.append method is deprecated and will be removed from pandas in a future version. Use pandas.concat instead.\n",
      "  self.gdfsimulation = self.gdfsimulation.append(gdfappend)\n"
     ]
    },
    {
     "name": "stdout",
     "output_type": "stream",
     "text": [
      "Farsite $Rev: 2395 $\n",
      "Number of parallel threads = 4 (omp_get_num_procs = 32).\n",
      "Loading lcp file for Farsite #1: /home/jovyan/farsite/inputs/landscapes/Maria2019.lcp\n",
      "Loading inputs file for Farsite #1: /home/jovyan/data/20221209/Run_00922/config\n",
      "Loading ignition file for Farsite #1: /home/jovyan/data/ignitions/Maria2019U0022.shp\n",
      "Loading barrier file for Farsite #1: /home/jovyan/farsite/inputs/barriers/NoBarrier/NoBarrier.shp\n",
      "Launching Farsite #1\n",
      "Starting time step 0.000000 (maximum = 19)\n",
      "Writing outputs for Farsite #1 to /home/jovyan/data/20221209/Run_00922/out\n"
     ]
    },
    {
     "name": "stderr",
     "output_type": "stream",
     "text": [
      "/home/jovyan/farsite-devAPI/src/farsiteutils_v2.py:177: FutureWarning: The frame.append method is deprecated and will be removed from pandas in a future version. Use pandas.concat instead.\n",
      "  self.gdfsimulation = self.gdfsimulation.append(gdfappend)\n"
     ]
    },
    {
     "name": "stdout",
     "output_type": "stream",
     "text": [
      "Farsite $Rev: 2395 $\n",
      "Number of parallel threads = 4 (omp_get_num_procs = 32).\n",
      "Loading lcp file for Farsite #1: /home/jovyan/farsite/inputs/landscapes/Maria2019.lcp\n",
      "Loading inputs file for Farsite #1: /home/jovyan/data/20221209/Run_00923/config\n",
      "Loading ignition file for Farsite #1: /home/jovyan/data/ignitions/Maria2019U0023.shp\n",
      "Loading barrier file for Farsite #1: /home/jovyan/farsite/inputs/barriers/NoBarrier/NoBarrier.shp\n",
      "Launching Farsite #1\n",
      "Starting time step 0.000000 (maximum = 19)\n",
      "Writing outputs for Farsite #1 to /home/jovyan/data/20221209/Run_00923/out\n"
     ]
    },
    {
     "name": "stderr",
     "output_type": "stream",
     "text": [
      "/home/jovyan/farsite-devAPI/src/farsiteutils_v2.py:177: FutureWarning: The frame.append method is deprecated and will be removed from pandas in a future version. Use pandas.concat instead.\n",
      "  self.gdfsimulation = self.gdfsimulation.append(gdfappend)\n"
     ]
    },
    {
     "name": "stdout",
     "output_type": "stream",
     "text": [
      "Farsite $Rev: 2395 $\n",
      "Number of parallel threads = 4 (omp_get_num_procs = 32).\n",
      "Loading lcp file for Farsite #1: /home/jovyan/farsite/inputs/landscapes/Maria2019.lcp\n",
      "Loading inputs file for Farsite #1: /home/jovyan/data/20221209/Run_00924/config\n",
      "Loading ignition file for Farsite #1: /home/jovyan/data/ignitions/Maria2019U0024.shp\n",
      "Loading barrier file for Farsite #1: /home/jovyan/farsite/inputs/barriers/NoBarrier/NoBarrier.shp\n",
      "Launching Farsite #1\n",
      "Starting time step 0.000000 (maximum = 19)\n",
      "Writing outputs for Farsite #1 to /home/jovyan/data/20221209/Run_00924/out\n"
     ]
    },
    {
     "name": "stderr",
     "output_type": "stream",
     "text": [
      "/home/jovyan/farsite-devAPI/src/farsiteutils_v2.py:177: FutureWarning: The frame.append method is deprecated and will be removed from pandas in a future version. Use pandas.concat instead.\n",
      "  self.gdfsimulation = self.gdfsimulation.append(gdfappend)\n"
     ]
    },
    {
     "name": "stdout",
     "output_type": "stream",
     "text": [
      "Farsite $Rev: 2395 $\n",
      "Number of parallel threads = 4 (omp_get_num_procs = 32).\n",
      "Loading lcp file for Farsite #1: /home/jovyan/farsite/inputs/landscapes/Maria2019.lcp\n",
      "Loading inputs file for Farsite #1: /home/jovyan/data/20221209/Run_00925/config\n",
      "Loading ignition file for Farsite #1: /home/jovyan/data/ignitions/Maria2019U0025.shp\n",
      "Loading barrier file for Farsite #1: /home/jovyan/farsite/inputs/barriers/NoBarrier/NoBarrier.shp\n",
      "Launching Farsite #1\n",
      "Starting time step 0.000000 (maximum = 19)\n",
      "Writing outputs for Farsite #1 to /home/jovyan/data/20221209/Run_00925/out\n"
     ]
    },
    {
     "name": "stderr",
     "output_type": "stream",
     "text": [
      "/home/jovyan/farsite-devAPI/src/farsiteutils_v2.py:177: FutureWarning: The frame.append method is deprecated and will be removed from pandas in a future version. Use pandas.concat instead.\n",
      "  self.gdfsimulation = self.gdfsimulation.append(gdfappend)\n"
     ]
    },
    {
     "name": "stdout",
     "output_type": "stream",
     "text": [
      "Farsite $Rev: 2395 $\n",
      "Number of parallel threads = 4 (omp_get_num_procs = 32).\n",
      "Loading lcp file for Farsite #1: /home/jovyan/farsite/inputs/landscapes/Maria2019.lcp\n",
      "Loading inputs file for Farsite #1: /home/jovyan/data/20221209/Run_00926/config\n",
      "Loading ignition file for Farsite #1: /home/jovyan/data/ignitions/Maria2019U0026.shp\n",
      "Loading barrier file for Farsite #1: /home/jovyan/farsite/inputs/barriers/NoBarrier/NoBarrier.shp\n",
      "Launching Farsite #1\n",
      "Starting time step 0.000000 (maximum = 19)\n",
      "Writing outputs for Farsite #1 to /home/jovyan/data/20221209/Run_00926/out\n"
     ]
    },
    {
     "name": "stderr",
     "output_type": "stream",
     "text": [
      "/home/jovyan/farsite-devAPI/src/farsiteutils_v2.py:177: FutureWarning: The frame.append method is deprecated and will be removed from pandas in a future version. Use pandas.concat instead.\n",
      "  self.gdfsimulation = self.gdfsimulation.append(gdfappend)\n"
     ]
    },
    {
     "name": "stdout",
     "output_type": "stream",
     "text": [
      "Farsite $Rev: 2395 $\n",
      "Number of parallel threads = 4 (omp_get_num_procs = 32).\n",
      "Loading lcp file for Farsite #1: /home/jovyan/farsite/inputs/landscapes/Maria2019.lcp\n",
      "Loading inputs file for Farsite #1: /home/jovyan/data/20221209/Run_00927/config\n",
      "Loading ignition file for Farsite #1: /home/jovyan/data/ignitions/Maria2019U0027.shp\n",
      "Loading barrier file for Farsite #1: /home/jovyan/farsite/inputs/barriers/NoBarrier/NoBarrier.shp\n",
      "Launching Farsite #1\n",
      "Starting time step 0.000000 (maximum = 19)\n",
      "Writing outputs for Farsite #1 to /home/jovyan/data/20221209/Run_00927/out\n"
     ]
    },
    {
     "name": "stderr",
     "output_type": "stream",
     "text": [
      "/home/jovyan/farsite-devAPI/src/farsiteutils_v2.py:177: FutureWarning: The frame.append method is deprecated and will be removed from pandas in a future version. Use pandas.concat instead.\n",
      "  self.gdfsimulation = self.gdfsimulation.append(gdfappend)\n"
     ]
    },
    {
     "name": "stdout",
     "output_type": "stream",
     "text": [
      "Farsite $Rev: 2395 $\n",
      "Number of parallel threads = 4 (omp_get_num_procs = 32).\n",
      "Loading lcp file for Farsite #1: /home/jovyan/farsite/inputs/landscapes/Maria2019.lcp\n",
      "Loading inputs file for Farsite #1: /home/jovyan/data/20221209/Run_00928/config\n",
      "Loading ignition file for Farsite #1: /home/jovyan/data/ignitions/Maria2019U0028.shp\n",
      "Loading barrier file for Farsite #1: /home/jovyan/farsite/inputs/barriers/NoBarrier/NoBarrier.shp\n",
      "Launching Farsite #1\n",
      "Starting time step 0.000000 (maximum = 19)\n",
      "Writing outputs for Farsite #1 to /home/jovyan/data/20221209/Run_00928/out\n"
     ]
    },
    {
     "name": "stderr",
     "output_type": "stream",
     "text": [
      "/home/jovyan/farsite-devAPI/src/farsiteutils_v2.py:177: FutureWarning: The frame.append method is deprecated and will be removed from pandas in a future version. Use pandas.concat instead.\n",
      "  self.gdfsimulation = self.gdfsimulation.append(gdfappend)\n"
     ]
    },
    {
     "name": "stdout",
     "output_type": "stream",
     "text": [
      "Farsite $Rev: 2395 $\n",
      "Number of parallel threads = 4 (omp_get_num_procs = 32).\n",
      "Loading lcp file for Farsite #1: /home/jovyan/farsite/inputs/landscapes/Maria2019.lcp\n",
      "Loading inputs file for Farsite #1: /home/jovyan/data/20221209/Run_00929/config\n",
      "Loading ignition file for Farsite #1: /home/jovyan/data/ignitions/Maria2019U0029.shp\n",
      "Loading barrier file for Farsite #1: /home/jovyan/farsite/inputs/barriers/NoBarrier/NoBarrier.shp\n",
      "Launching Farsite #1\n",
      "Starting time step 0.000000 (maximum = 19)\n",
      "Writing outputs for Farsite #1 to /home/jovyan/data/20221209/Run_00929/out\n"
     ]
    },
    {
     "name": "stderr",
     "output_type": "stream",
     "text": [
      "/home/jovyan/farsite-devAPI/src/farsiteutils_v2.py:177: FutureWarning: The frame.append method is deprecated and will be removed from pandas in a future version. Use pandas.concat instead.\n",
      "  self.gdfsimulation = self.gdfsimulation.append(gdfappend)\n"
     ]
    },
    {
     "name": "stdout",
     "output_type": "stream",
     "text": [
      "Farsite $Rev: 2395 $\n",
      "Number of parallel threads = 4 (omp_get_num_procs = 32).\n",
      "Loading lcp file for Farsite #1: /home/jovyan/farsite/inputs/landscapes/Maria2019.lcp\n",
      "Loading inputs file for Farsite #1: /home/jovyan/data/20221209/Run_00930/config\n",
      "Loading ignition file for Farsite #1: /home/jovyan/data/ignitions/Maria2019U0030.shp\n",
      "Loading barrier file for Farsite #1: /home/jovyan/farsite/inputs/barriers/NoBarrier/NoBarrier.shp\n",
      "Launching Farsite #1\n",
      "Starting time step 0.000000 (maximum = 19)\n",
      "Writing outputs for Farsite #1 to /home/jovyan/data/20221209/Run_00930/out\n"
     ]
    },
    {
     "name": "stderr",
     "output_type": "stream",
     "text": [
      "/home/jovyan/farsite-devAPI/src/farsiteutils_v2.py:177: FutureWarning: The frame.append method is deprecated and will be removed from pandas in a future version. Use pandas.concat instead.\n",
      "  self.gdfsimulation = self.gdfsimulation.append(gdfappend)\n"
     ]
    },
    {
     "name": "stdout",
     "output_type": "stream",
     "text": [
      "Farsite $Rev: 2395 $\n",
      "Number of parallel threads = 4 (omp_get_num_procs = 32).\n",
      "Loading lcp file for Farsite #1: /home/jovyan/farsite/inputs/landscapes/Maria2019.lcp\n",
      "Loading inputs file for Farsite #1: /home/jovyan/data/20221209/Run_00931/config\n",
      "Loading ignition file for Farsite #1: /home/jovyan/data/ignitions/Maria2019U0031.shp\n",
      "Loading barrier file for Farsite #1: /home/jovyan/farsite/inputs/barriers/NoBarrier/NoBarrier.shp\n",
      "Launching Farsite #1\n",
      "Starting time step 0.000000 (maximum = 19)\n",
      "Writing outputs for Farsite #1 to /home/jovyan/data/20221209/Run_00931/out\n"
     ]
    },
    {
     "name": "stderr",
     "output_type": "stream",
     "text": [
      "/home/jovyan/farsite-devAPI/src/farsiteutils_v2.py:177: FutureWarning: The frame.append method is deprecated and will be removed from pandas in a future version. Use pandas.concat instead.\n",
      "  self.gdfsimulation = self.gdfsimulation.append(gdfappend)\n"
     ]
    },
    {
     "name": "stdout",
     "output_type": "stream",
     "text": [
      "Farsite $Rev: 2395 $\n",
      "Number of parallel threads = 4 (omp_get_num_procs = 32).\n",
      "Loading lcp file for Farsite #1: /home/jovyan/farsite/inputs/landscapes/Maria2019.lcp\n",
      "Loading inputs file for Farsite #1: /home/jovyan/data/20221209/Run_00932/config\n",
      "Loading ignition file for Farsite #1: /home/jovyan/data/ignitions/Maria2019U0032.shp\n",
      "Loading barrier file for Farsite #1: /home/jovyan/farsite/inputs/barriers/NoBarrier/NoBarrier.shp\n",
      "Launching Farsite #1\n",
      "Starting time step 0.000000 (maximum = 19)\n",
      "Writing outputs for Farsite #1 to /home/jovyan/data/20221209/Run_00932/out\n"
     ]
    },
    {
     "name": "stderr",
     "output_type": "stream",
     "text": [
      "/home/jovyan/farsite-devAPI/src/farsiteutils_v2.py:177: FutureWarning: The frame.append method is deprecated and will be removed from pandas in a future version. Use pandas.concat instead.\n",
      "  self.gdfsimulation = self.gdfsimulation.append(gdfappend)\n"
     ]
    },
    {
     "name": "stdout",
     "output_type": "stream",
     "text": [
      "Farsite $Rev: 2395 $\n",
      "Number of parallel threads = 4 (omp_get_num_procs = 32).\n",
      "Loading lcp file for Farsite #1: /home/jovyan/farsite/inputs/landscapes/Maria2019.lcp\n",
      "Loading inputs file for Farsite #1: /home/jovyan/data/20221209/Run_00933/config\n",
      "Loading ignition file for Farsite #1: /home/jovyan/data/ignitions/Maria2019U0033.shp\n",
      "Loading barrier file for Farsite #1: /home/jovyan/farsite/inputs/barriers/NoBarrier/NoBarrier.shp\n",
      "Launching Farsite #1\n",
      "Starting time step 0.000000 (maximum = 19)\n",
      "Writing outputs for Farsite #1 to /home/jovyan/data/20221209/Run_00933/out\n"
     ]
    },
    {
     "name": "stderr",
     "output_type": "stream",
     "text": [
      "/home/jovyan/farsite-devAPI/src/farsiteutils_v2.py:177: FutureWarning: The frame.append method is deprecated and will be removed from pandas in a future version. Use pandas.concat instead.\n",
      "  self.gdfsimulation = self.gdfsimulation.append(gdfappend)\n"
     ]
    },
    {
     "name": "stdout",
     "output_type": "stream",
     "text": [
      "Farsite $Rev: 2395 $\n",
      "Number of parallel threads = 4 (omp_get_num_procs = 32).\n",
      "Loading lcp file for Farsite #1: /home/jovyan/farsite/inputs/landscapes/Maria2019.lcp\n",
      "Loading inputs file for Farsite #1: /home/jovyan/data/20221209/Run_00934/config\n",
      "Loading ignition file for Farsite #1: /home/jovyan/data/ignitions/Maria2019U0034.shp\n",
      "Loading barrier file for Farsite #1: /home/jovyan/farsite/inputs/barriers/NoBarrier/NoBarrier.shp\n",
      "Launching Farsite #1\n",
      "Starting time step 0.000000 (maximum = 19)\n",
      "Writing outputs for Farsite #1 to /home/jovyan/data/20221209/Run_00934/out\n"
     ]
    },
    {
     "name": "stderr",
     "output_type": "stream",
     "text": [
      "/home/jovyan/farsite-devAPI/src/farsiteutils_v2.py:177: FutureWarning: The frame.append method is deprecated and will be removed from pandas in a future version. Use pandas.concat instead.\n",
      "  self.gdfsimulation = self.gdfsimulation.append(gdfappend)\n"
     ]
    },
    {
     "name": "stdout",
     "output_type": "stream",
     "text": [
      "Farsite $Rev: 2395 $\n",
      "Number of parallel threads = 4 (omp_get_num_procs = 32).\n",
      "Loading lcp file for Farsite #1: /home/jovyan/farsite/inputs/landscapes/Maria2019.lcp\n",
      "Loading inputs file for Farsite #1: /home/jovyan/data/20221209/Run_00935/config\n",
      "Loading ignition file for Farsite #1: /home/jovyan/data/ignitions/Maria2019U0035.shp\n",
      "Loading barrier file for Farsite #1: /home/jovyan/farsite/inputs/barriers/NoBarrier/NoBarrier.shp\n",
      "Launching Farsite #1\n",
      "Starting time step 0.000000 (maximum = 19)\n",
      "Writing outputs for Farsite #1 to /home/jovyan/data/20221209/Run_00935/out\n"
     ]
    },
    {
     "name": "stderr",
     "output_type": "stream",
     "text": [
      "/home/jovyan/farsite-devAPI/src/farsiteutils_v2.py:177: FutureWarning: The frame.append method is deprecated and will be removed from pandas in a future version. Use pandas.concat instead.\n",
      "  self.gdfsimulation = self.gdfsimulation.append(gdfappend)\n"
     ]
    },
    {
     "name": "stdout",
     "output_type": "stream",
     "text": [
      "Farsite $Rev: 2395 $\n",
      "Number of parallel threads = 4 (omp_get_num_procs = 32).\n",
      "Loading lcp file for Farsite #1: /home/jovyan/farsite/inputs/landscapes/Maria2019.lcp\n",
      "Loading inputs file for Farsite #1: /home/jovyan/data/20221209/Run_00936/config\n",
      "Loading ignition file for Farsite #1: /home/jovyan/data/ignitions/Maria2019U0036.shp\n",
      "Loading barrier file for Farsite #1: /home/jovyan/farsite/inputs/barriers/NoBarrier/NoBarrier.shp\n",
      "Launching Farsite #1\n",
      "Starting time step 0.000000 (maximum = 19)\n",
      "Writing outputs for Farsite #1 to /home/jovyan/data/20221209/Run_00936/out\n"
     ]
    },
    {
     "name": "stderr",
     "output_type": "stream",
     "text": [
      "/home/jovyan/farsite-devAPI/src/farsiteutils_v2.py:177: FutureWarning: The frame.append method is deprecated and will be removed from pandas in a future version. Use pandas.concat instead.\n",
      "  self.gdfsimulation = self.gdfsimulation.append(gdfappend)\n"
     ]
    },
    {
     "name": "stdout",
     "output_type": "stream",
     "text": [
      "Farsite $Rev: 2395 $\n",
      "Number of parallel threads = 4 (omp_get_num_procs = 32).\n",
      "Loading lcp file for Farsite #1: /home/jovyan/farsite/inputs/landscapes/Maria2019.lcp\n",
      "Loading inputs file for Farsite #1: /home/jovyan/data/20221209/Run_00937/config\n",
      "Loading ignition file for Farsite #1: /home/jovyan/data/ignitions/Maria2019U0037.shp\n",
      "Loading barrier file for Farsite #1: /home/jovyan/farsite/inputs/barriers/NoBarrier/NoBarrier.shp\n",
      "Launching Farsite #1\n",
      "Starting time step 0.000000 (maximum = 19)\n",
      "Writing outputs for Farsite #1 to /home/jovyan/data/20221209/Run_00937/out\n"
     ]
    },
    {
     "name": "stderr",
     "output_type": "stream",
     "text": [
      "/home/jovyan/farsite-devAPI/src/farsiteutils_v2.py:177: FutureWarning: The frame.append method is deprecated and will be removed from pandas in a future version. Use pandas.concat instead.\n",
      "  self.gdfsimulation = self.gdfsimulation.append(gdfappend)\n"
     ]
    },
    {
     "name": "stdout",
     "output_type": "stream",
     "text": [
      "Farsite $Rev: 2395 $\n",
      "Number of parallel threads = 4 (omp_get_num_procs = 32).\n",
      "Loading lcp file for Farsite #1: /home/jovyan/farsite/inputs/landscapes/Maria2019.lcp\n",
      "Loading inputs file for Farsite #1: /home/jovyan/data/20221209/Run_00938/config\n",
      "Loading ignition file for Farsite #1: /home/jovyan/data/ignitions/Maria2019U0038.shp\n",
      "Loading barrier file for Farsite #1: /home/jovyan/farsite/inputs/barriers/NoBarrier/NoBarrier.shp\n",
      "Launching Farsite #1\n",
      "Starting time step 0.000000 (maximum = 19)\n",
      "Writing outputs for Farsite #1 to /home/jovyan/data/20221209/Run_00938/out\n"
     ]
    },
    {
     "name": "stderr",
     "output_type": "stream",
     "text": [
      "/home/jovyan/farsite-devAPI/src/farsiteutils_v2.py:177: FutureWarning: The frame.append method is deprecated and will be removed from pandas in a future version. Use pandas.concat instead.\n",
      "  self.gdfsimulation = self.gdfsimulation.append(gdfappend)\n"
     ]
    },
    {
     "name": "stdout",
     "output_type": "stream",
     "text": [
      "Farsite $Rev: 2395 $\n",
      "Number of parallel threads = 4 (omp_get_num_procs = 32).\n",
      "Loading lcp file for Farsite #1: /home/jovyan/farsite/inputs/landscapes/Maria2019.lcp\n",
      "Loading inputs file for Farsite #1: /home/jovyan/data/20221209/Run_00939/config\n",
      "Loading ignition file for Farsite #1: /home/jovyan/data/ignitions/Maria2019U0039.shp\n",
      "Loading barrier file for Farsite #1: /home/jovyan/farsite/inputs/barriers/NoBarrier/NoBarrier.shp\n",
      "Launching Farsite #1\n",
      "Starting time step 0.000000 (maximum = 19)\n",
      "Writing outputs for Farsite #1 to /home/jovyan/data/20221209/Run_00939/out\n"
     ]
    },
    {
     "name": "stderr",
     "output_type": "stream",
     "text": [
      "/home/jovyan/farsite-devAPI/src/farsiteutils_v2.py:177: FutureWarning: The frame.append method is deprecated and will be removed from pandas in a future version. Use pandas.concat instead.\n",
      "  self.gdfsimulation = self.gdfsimulation.append(gdfappend)\n"
     ]
    },
    {
     "name": "stdout",
     "output_type": "stream",
     "text": [
      "Farsite $Rev: 2395 $\n",
      "Number of parallel threads = 4 (omp_get_num_procs = 32).\n",
      "Loading lcp file for Farsite #1: /home/jovyan/farsite/inputs/landscapes/Maria2019.lcp\n",
      "Loading inputs file for Farsite #1: /home/jovyan/data/20221209/Run_00940/config\n",
      "Loading ignition file for Farsite #1: /home/jovyan/data/ignitions/Maria2019U0040.shp\n",
      "Loading barrier file for Farsite #1: /home/jovyan/farsite/inputs/barriers/NoBarrier/NoBarrier.shp\n",
      "Launching Farsite #1\n",
      "Starting time step 0.000000 (maximum = 19)\n",
      "Writing outputs for Farsite #1 to /home/jovyan/data/20221209/Run_00940/out\n"
     ]
    },
    {
     "name": "stderr",
     "output_type": "stream",
     "text": [
      "/home/jovyan/farsite-devAPI/src/farsiteutils_v2.py:177: FutureWarning: The frame.append method is deprecated and will be removed from pandas in a future version. Use pandas.concat instead.\n",
      "  self.gdfsimulation = self.gdfsimulation.append(gdfappend)\n"
     ]
    },
    {
     "name": "stdout",
     "output_type": "stream",
     "text": [
      "Farsite $Rev: 2395 $\n",
      "Number of parallel threads = 4 (omp_get_num_procs = 32).\n",
      "Loading lcp file for Farsite #1: /home/jovyan/farsite/inputs/landscapes/Maria2019.lcp\n",
      "Loading inputs file for Farsite #1: /home/jovyan/data/20221209/Run_00941/config\n",
      "Loading ignition file for Farsite #1: /home/jovyan/data/ignitions/Maria2019U0041.shp\n",
      "Loading barrier file for Farsite #1: /home/jovyan/farsite/inputs/barriers/NoBarrier/NoBarrier.shp\n",
      "Launching Farsite #1\n",
      "Starting time step 0.000000 (maximum = 19)\n",
      "Writing outputs for Farsite #1 to /home/jovyan/data/20221209/Run_00941/out\n"
     ]
    },
    {
     "name": "stderr",
     "output_type": "stream",
     "text": [
      "/home/jovyan/farsite-devAPI/src/farsiteutils_v2.py:177: FutureWarning: The frame.append method is deprecated and will be removed from pandas in a future version. Use pandas.concat instead.\n",
      "  self.gdfsimulation = self.gdfsimulation.append(gdfappend)\n"
     ]
    },
    {
     "name": "stdout",
     "output_type": "stream",
     "text": [
      "Farsite $Rev: 2395 $\n",
      "Number of parallel threads = 4 (omp_get_num_procs = 32).\n",
      "Loading lcp file for Farsite #1: /home/jovyan/farsite/inputs/landscapes/Maria2019.lcp\n",
      "Loading inputs file for Farsite #1: /home/jovyan/data/20221209/Run_00942/config\n",
      "Loading ignition file for Farsite #1: /home/jovyan/data/ignitions/Maria2019U0042.shp\n",
      "Loading barrier file for Farsite #1: /home/jovyan/farsite/inputs/barriers/NoBarrier/NoBarrier.shp\n",
      "Launching Farsite #1\n",
      "Starting time step 0.000000 (maximum = 19)\n",
      "Writing outputs for Farsite #1 to /home/jovyan/data/20221209/Run_00942/out\n"
     ]
    },
    {
     "name": "stderr",
     "output_type": "stream",
     "text": [
      "/home/jovyan/farsite-devAPI/src/farsiteutils_v2.py:177: FutureWarning: The frame.append method is deprecated and will be removed from pandas in a future version. Use pandas.concat instead.\n",
      "  self.gdfsimulation = self.gdfsimulation.append(gdfappend)\n"
     ]
    },
    {
     "name": "stdout",
     "output_type": "stream",
     "text": [
      "Farsite $Rev: 2395 $\n",
      "Number of parallel threads = 4 (omp_get_num_procs = 32).\n",
      "Loading lcp file for Farsite #1: /home/jovyan/farsite/inputs/landscapes/Maria2019.lcp\n",
      "Loading inputs file for Farsite #1: /home/jovyan/data/20221209/Run_00943/config\n",
      "Loading ignition file for Farsite #1: /home/jovyan/data/ignitions/Maria2019U0043.shp\n",
      "Loading barrier file for Farsite #1: /home/jovyan/farsite/inputs/barriers/NoBarrier/NoBarrier.shp\n",
      "Launching Farsite #1\n",
      "Starting time step 0.000000 (maximum = 19)\n",
      "Writing outputs for Farsite #1 to /home/jovyan/data/20221209/Run_00943/out\n"
     ]
    },
    {
     "name": "stderr",
     "output_type": "stream",
     "text": [
      "/home/jovyan/farsite-devAPI/src/farsiteutils_v2.py:177: FutureWarning: The frame.append method is deprecated and will be removed from pandas in a future version. Use pandas.concat instead.\n",
      "  self.gdfsimulation = self.gdfsimulation.append(gdfappend)\n"
     ]
    },
    {
     "name": "stdout",
     "output_type": "stream",
     "text": [
      "Farsite $Rev: 2395 $\n",
      "Number of parallel threads = 4 (omp_get_num_procs = 32).\n",
      "Loading lcp file for Farsite #1: /home/jovyan/farsite/inputs/landscapes/Maria2019.lcp\n",
      "Loading inputs file for Farsite #1: /home/jovyan/data/20221209/Run_00944/config\n",
      "Loading ignition file for Farsite #1: /home/jovyan/data/ignitions/Maria2019U0044.shp\n",
      "Loading barrier file for Farsite #1: /home/jovyan/farsite/inputs/barriers/NoBarrier/NoBarrier.shp\n",
      "Launching Farsite #1\n",
      "Starting time step 0.000000 (maximum = 19)\n",
      "Writing outputs for Farsite #1 to /home/jovyan/data/20221209/Run_00944/out\n"
     ]
    },
    {
     "name": "stderr",
     "output_type": "stream",
     "text": [
      "/home/jovyan/farsite-devAPI/src/farsiteutils_v2.py:177: FutureWarning: The frame.append method is deprecated and will be removed from pandas in a future version. Use pandas.concat instead.\n",
      "  self.gdfsimulation = self.gdfsimulation.append(gdfappend)\n"
     ]
    },
    {
     "name": "stdout",
     "output_type": "stream",
     "text": [
      "Farsite $Rev: 2395 $\n",
      "Number of parallel threads = 4 (omp_get_num_procs = 32).\n",
      "Loading lcp file for Farsite #1: /home/jovyan/farsite/inputs/landscapes/Maria2019.lcp\n",
      "Loading inputs file for Farsite #1: /home/jovyan/data/20221209/Run_00945/config\n",
      "Loading ignition file for Farsite #1: /home/jovyan/data/ignitions/Maria2019U0045.shp\n",
      "Loading barrier file for Farsite #1: /home/jovyan/farsite/inputs/barriers/NoBarrier/NoBarrier.shp\n",
      "Launching Farsite #1\n",
      "Starting time step 0.000000 (maximum = 19)\n",
      "Writing outputs for Farsite #1 to /home/jovyan/data/20221209/Run_00945/out\n"
     ]
    },
    {
     "name": "stderr",
     "output_type": "stream",
     "text": [
      "/home/jovyan/farsite-devAPI/src/farsiteutils_v2.py:177: FutureWarning: The frame.append method is deprecated and will be removed from pandas in a future version. Use pandas.concat instead.\n",
      "  self.gdfsimulation = self.gdfsimulation.append(gdfappend)\n"
     ]
    },
    {
     "name": "stdout",
     "output_type": "stream",
     "text": [
      "Farsite $Rev: 2395 $\n",
      "Number of parallel threads = 4 (omp_get_num_procs = 32).\n",
      "Loading lcp file for Farsite #1: /home/jovyan/farsite/inputs/landscapes/Maria2019.lcp\n",
      "Loading inputs file for Farsite #1: /home/jovyan/data/20221209/Run_00946/config\n",
      "Loading ignition file for Farsite #1: /home/jovyan/data/ignitions/Maria2019U0046.shp\n",
      "Loading barrier file for Farsite #1: /home/jovyan/farsite/inputs/barriers/NoBarrier/NoBarrier.shp\n",
      "Launching Farsite #1\n",
      "Starting time step 0.000000 (maximum = 19)\n",
      "Writing outputs for Farsite #1 to /home/jovyan/data/20221209/Run_00946/out\n"
     ]
    },
    {
     "name": "stderr",
     "output_type": "stream",
     "text": [
      "/home/jovyan/farsite-devAPI/src/farsiteutils_v2.py:177: FutureWarning: The frame.append method is deprecated and will be removed from pandas in a future version. Use pandas.concat instead.\n",
      "  self.gdfsimulation = self.gdfsimulation.append(gdfappend)\n"
     ]
    },
    {
     "name": "stdout",
     "output_type": "stream",
     "text": [
      "Farsite $Rev: 2395 $\n",
      "Number of parallel threads = 4 (omp_get_num_procs = 32).\n",
      "Loading lcp file for Farsite #1: /home/jovyan/farsite/inputs/landscapes/Maria2019.lcp\n",
      "Loading inputs file for Farsite #1: /home/jovyan/data/20221209/Run_00947/config\n",
      "Loading ignition file for Farsite #1: /home/jovyan/data/ignitions/Maria2019U0047.shp\n",
      "Loading barrier file for Farsite #1: /home/jovyan/farsite/inputs/barriers/NoBarrier/NoBarrier.shp\n",
      "Launching Farsite #1\n",
      "Starting time step 0.000000 (maximum = 19)\n",
      "Writing outputs for Farsite #1 to /home/jovyan/data/20221209/Run_00947/out\n"
     ]
    },
    {
     "name": "stderr",
     "output_type": "stream",
     "text": [
      "/home/jovyan/farsite-devAPI/src/farsiteutils_v2.py:177: FutureWarning: The frame.append method is deprecated and will be removed from pandas in a future version. Use pandas.concat instead.\n",
      "  self.gdfsimulation = self.gdfsimulation.append(gdfappend)\n"
     ]
    },
    {
     "name": "stdout",
     "output_type": "stream",
     "text": [
      "Farsite $Rev: 2395 $\n",
      "Number of parallel threads = 4 (omp_get_num_procs = 32).\n",
      "Loading lcp file for Farsite #1: /home/jovyan/farsite/inputs/landscapes/Maria2019.lcp\n",
      "Loading inputs file for Farsite #1: /home/jovyan/data/20221209/Run_00948/config\n",
      "Loading ignition file for Farsite #1: /home/jovyan/data/ignitions/Maria2019U0048.shp\n",
      "Loading barrier file for Farsite #1: /home/jovyan/farsite/inputs/barriers/NoBarrier/NoBarrier.shp\n",
      "Launching Farsite #1\n",
      "Starting time step 0.000000 (maximum = 19)\n",
      "Writing outputs for Farsite #1 to /home/jovyan/data/20221209/Run_00948/out\n"
     ]
    },
    {
     "name": "stderr",
     "output_type": "stream",
     "text": [
      "/home/jovyan/farsite-devAPI/src/farsiteutils_v2.py:177: FutureWarning: The frame.append method is deprecated and will be removed from pandas in a future version. Use pandas.concat instead.\n",
      "  self.gdfsimulation = self.gdfsimulation.append(gdfappend)\n"
     ]
    },
    {
     "name": "stdout",
     "output_type": "stream",
     "text": [
      "Farsite $Rev: 2395 $\n",
      "Number of parallel threads = 4 (omp_get_num_procs = 32).\n",
      "Loading lcp file for Farsite #1: /home/jovyan/farsite/inputs/landscapes/Maria2019.lcp\n",
      "Loading inputs file for Farsite #1: /home/jovyan/data/20221209/Run_00949/config\n",
      "Loading ignition file for Farsite #1: /home/jovyan/data/ignitions/Maria2019U0049.shp\n",
      "Loading barrier file for Farsite #1: /home/jovyan/farsite/inputs/barriers/NoBarrier/NoBarrier.shp\n",
      "Launching Farsite #1\n",
      "Starting time step 0.000000 (maximum = 19)\n",
      "Writing outputs for Farsite #1 to /home/jovyan/data/20221209/Run_00949/out\n"
     ]
    },
    {
     "name": "stderr",
     "output_type": "stream",
     "text": [
      "/home/jovyan/farsite-devAPI/src/farsiteutils_v2.py:177: FutureWarning: The frame.append method is deprecated and will be removed from pandas in a future version. Use pandas.concat instead.\n",
      "  self.gdfsimulation = self.gdfsimulation.append(gdfappend)\n"
     ]
    },
    {
     "name": "stdout",
     "output_type": "stream",
     "text": [
      "Farsite $Rev: 2395 $\n",
      "Number of parallel threads = 4 (omp_get_num_procs = 32).\n",
      "Loading lcp file for Farsite #1: /home/jovyan/farsite/inputs/landscapes/Maria2019.lcp\n",
      "Loading inputs file for Farsite #1: /home/jovyan/data/20221209/Run_00950/config\n",
      "Loading ignition file for Farsite #1: /home/jovyan/data/ignitions/Maria2019U0050.shp\n",
      "Loading barrier file for Farsite #1: /home/jovyan/farsite/inputs/barriers/NoBarrier/NoBarrier.shp\n",
      "Launching Farsite #1\n",
      "Starting time step 0.000000 (maximum = 19)\n",
      "Writing outputs for Farsite #1 to /home/jovyan/data/20221209/Run_00950/out\n"
     ]
    },
    {
     "name": "stderr",
     "output_type": "stream",
     "text": [
      "/home/jovyan/farsite-devAPI/src/farsiteutils_v2.py:177: FutureWarning: The frame.append method is deprecated and will be removed from pandas in a future version. Use pandas.concat instead.\n",
      "  self.gdfsimulation = self.gdfsimulation.append(gdfappend)\n"
     ]
    },
    {
     "name": "stdout",
     "output_type": "stream",
     "text": [
      "Farsite $Rev: 2395 $\n",
      "Number of parallel threads = 4 (omp_get_num_procs = 32).\n",
      "Loading lcp file for Farsite #1: /home/jovyan/farsite/inputs/landscapes/Maria2019.lcp\n",
      "Loading inputs file for Farsite #1: /home/jovyan/data/20221209/Run_00951/config\n",
      "Loading ignition file for Farsite #1: /home/jovyan/data/ignitions/Maria2019U0051.shp\n",
      "Loading barrier file for Farsite #1: /home/jovyan/farsite/inputs/barriers/NoBarrier/NoBarrier.shp\n",
      "Launching Farsite #1\n",
      "Starting time step 0.000000 (maximum = 19)\n",
      "Writing outputs for Farsite #1 to /home/jovyan/data/20221209/Run_00951/out\n"
     ]
    },
    {
     "name": "stderr",
     "output_type": "stream",
     "text": [
      "/home/jovyan/farsite-devAPI/src/farsiteutils_v2.py:177: FutureWarning: The frame.append method is deprecated and will be removed from pandas in a future version. Use pandas.concat instead.\n",
      "  self.gdfsimulation = self.gdfsimulation.append(gdfappend)\n"
     ]
    },
    {
     "name": "stdout",
     "output_type": "stream",
     "text": [
      "Farsite $Rev: 2395 $\n",
      "Number of parallel threads = 4 (omp_get_num_procs = 32).\n",
      "Loading lcp file for Farsite #1: /home/jovyan/farsite/inputs/landscapes/Maria2019.lcp\n",
      "Loading inputs file for Farsite #1: /home/jovyan/data/20221209/Run_00952/config\n",
      "Loading ignition file for Farsite #1: /home/jovyan/data/ignitions/Maria2019U0052.shp\n",
      "Loading barrier file for Farsite #1: /home/jovyan/farsite/inputs/barriers/NoBarrier/NoBarrier.shp\n",
      "Launching Farsite #1\n",
      "Starting time step 0.000000 (maximum = 19)\n",
      "Writing outputs for Farsite #1 to /home/jovyan/data/20221209/Run_00952/out\n"
     ]
    },
    {
     "name": "stderr",
     "output_type": "stream",
     "text": [
      "/home/jovyan/farsite-devAPI/src/farsiteutils_v2.py:177: FutureWarning: The frame.append method is deprecated and will be removed from pandas in a future version. Use pandas.concat instead.\n",
      "  self.gdfsimulation = self.gdfsimulation.append(gdfappend)\n"
     ]
    },
    {
     "name": "stdout",
     "output_type": "stream",
     "text": [
      "Farsite $Rev: 2395 $\n",
      "Number of parallel threads = 4 (omp_get_num_procs = 32).\n",
      "Loading lcp file for Farsite #1: /home/jovyan/farsite/inputs/landscapes/Maria2019.lcp\n",
      "Loading inputs file for Farsite #1: /home/jovyan/data/20221209/Run_00953/config\n",
      "Loading ignition file for Farsite #1: /home/jovyan/data/ignitions/Maria2019U0053.shp\n",
      "Loading barrier file for Farsite #1: /home/jovyan/farsite/inputs/barriers/NoBarrier/NoBarrier.shp\n",
      "Launching Farsite #1\n",
      "Starting time step 0.000000 (maximum = 19)\n",
      "Writing outputs for Farsite #1 to /home/jovyan/data/20221209/Run_00953/out\n"
     ]
    },
    {
     "name": "stderr",
     "output_type": "stream",
     "text": [
      "/home/jovyan/farsite-devAPI/src/farsiteutils_v2.py:177: FutureWarning: The frame.append method is deprecated and will be removed from pandas in a future version. Use pandas.concat instead.\n",
      "  self.gdfsimulation = self.gdfsimulation.append(gdfappend)\n"
     ]
    },
    {
     "name": "stdout",
     "output_type": "stream",
     "text": [
      "Farsite $Rev: 2395 $\n",
      "Number of parallel threads = 4 (omp_get_num_procs = 32).\n",
      "Loading lcp file for Farsite #1: /home/jovyan/farsite/inputs/landscapes/Maria2019.lcp\n",
      "Loading inputs file for Farsite #1: /home/jovyan/data/20221209/Run_00954/config\n",
      "Loading ignition file for Farsite #1: /home/jovyan/data/ignitions/Maria2019U0054.shp\n",
      "Loading barrier file for Farsite #1: /home/jovyan/farsite/inputs/barriers/NoBarrier/NoBarrier.shp\n",
      "Launching Farsite #1\n",
      "Starting time step 0.000000 (maximum = 19)\n",
      "Writing outputs for Farsite #1 to /home/jovyan/data/20221209/Run_00954/out\n"
     ]
    },
    {
     "name": "stderr",
     "output_type": "stream",
     "text": [
      "/home/jovyan/farsite-devAPI/src/farsiteutils_v2.py:177: FutureWarning: The frame.append method is deprecated and will be removed from pandas in a future version. Use pandas.concat instead.\n",
      "  self.gdfsimulation = self.gdfsimulation.append(gdfappend)\n"
     ]
    },
    {
     "name": "stdout",
     "output_type": "stream",
     "text": [
      "Farsite $Rev: 2395 $\n",
      "Number of parallel threads = 4 (omp_get_num_procs = 32).\n",
      "Loading lcp file for Farsite #1: /home/jovyan/farsite/inputs/landscapes/Maria2019.lcp\n",
      "Loading inputs file for Farsite #1: /home/jovyan/data/20221209/Run_00955/config\n",
      "Loading ignition file for Farsite #1: /home/jovyan/data/ignitions/Maria2019U0055.shp\n",
      "Loading barrier file for Farsite #1: /home/jovyan/farsite/inputs/barriers/NoBarrier/NoBarrier.shp\n",
      "Launching Farsite #1\n",
      "Starting time step 0.000000 (maximum = 19)\n",
      "Writing outputs for Farsite #1 to /home/jovyan/data/20221209/Run_00955/out\n"
     ]
    },
    {
     "name": "stderr",
     "output_type": "stream",
     "text": [
      "/home/jovyan/farsite-devAPI/src/farsiteutils_v2.py:177: FutureWarning: The frame.append method is deprecated and will be removed from pandas in a future version. Use pandas.concat instead.\n",
      "  self.gdfsimulation = self.gdfsimulation.append(gdfappend)\n"
     ]
    },
    {
     "name": "stdout",
     "output_type": "stream",
     "text": [
      "Farsite $Rev: 2395 $\n",
      "Number of parallel threads = 4 (omp_get_num_procs = 32).\n",
      "Loading lcp file for Farsite #1: /home/jovyan/farsite/inputs/landscapes/Maria2019.lcp\n",
      "Loading inputs file for Farsite #1: /home/jovyan/data/20221209/Run_00956/config\n",
      "Loading ignition file for Farsite #1: /home/jovyan/data/ignitions/Maria2019U0056.shp\n",
      "Loading barrier file for Farsite #1: /home/jovyan/farsite/inputs/barriers/NoBarrier/NoBarrier.shp\n",
      "Launching Farsite #1\n",
      "Starting time step 0.000000 (maximum = 19)\n",
      "Writing outputs for Farsite #1 to /home/jovyan/data/20221209/Run_00956/out\n"
     ]
    },
    {
     "name": "stderr",
     "output_type": "stream",
     "text": [
      "/home/jovyan/farsite-devAPI/src/farsiteutils_v2.py:177: FutureWarning: The frame.append method is deprecated and will be removed from pandas in a future version. Use pandas.concat instead.\n",
      "  self.gdfsimulation = self.gdfsimulation.append(gdfappend)\n"
     ]
    },
    {
     "name": "stdout",
     "output_type": "stream",
     "text": [
      "Farsite $Rev: 2395 $\n",
      "Number of parallel threads = 4 (omp_get_num_procs = 32).\n",
      "Loading lcp file for Farsite #1: /home/jovyan/farsite/inputs/landscapes/Maria2019.lcp\n",
      "Loading inputs file for Farsite #1: /home/jovyan/data/20221209/Run_00957/config\n",
      "Loading ignition file for Farsite #1: /home/jovyan/data/ignitions/Maria2019U0057.shp\n",
      "Loading barrier file for Farsite #1: /home/jovyan/farsite/inputs/barriers/NoBarrier/NoBarrier.shp\n",
      "Launching Farsite #1\n",
      "Starting time step 0.000000 (maximum = 19)\n",
      "Writing outputs for Farsite #1 to /home/jovyan/data/20221209/Run_00957/out\n"
     ]
    },
    {
     "name": "stderr",
     "output_type": "stream",
     "text": [
      "/home/jovyan/farsite-devAPI/src/farsiteutils_v2.py:177: FutureWarning: The frame.append method is deprecated and will be removed from pandas in a future version. Use pandas.concat instead.\n",
      "  self.gdfsimulation = self.gdfsimulation.append(gdfappend)\n"
     ]
    },
    {
     "name": "stdout",
     "output_type": "stream",
     "text": [
      "Farsite $Rev: 2395 $\n",
      "Number of parallel threads = 4 (omp_get_num_procs = 32).\n",
      "Loading lcp file for Farsite #1: /home/jovyan/farsite/inputs/landscapes/Maria2019.lcp\n",
      "Loading inputs file for Farsite #1: /home/jovyan/data/20221209/Run_00958/config\n",
      "Loading ignition file for Farsite #1: /home/jovyan/data/ignitions/Maria2019U0058.shp\n",
      "Loading barrier file for Farsite #1: /home/jovyan/farsite/inputs/barriers/NoBarrier/NoBarrier.shp\n",
      "Launching Farsite #1\n",
      "Starting time step 0.000000 (maximum = 19)\n",
      "Writing outputs for Farsite #1 to /home/jovyan/data/20221209/Run_00958/out\n"
     ]
    },
    {
     "name": "stderr",
     "output_type": "stream",
     "text": [
      "/home/jovyan/farsite-devAPI/src/farsiteutils_v2.py:177: FutureWarning: The frame.append method is deprecated and will be removed from pandas in a future version. Use pandas.concat instead.\n",
      "  self.gdfsimulation = self.gdfsimulation.append(gdfappend)\n"
     ]
    },
    {
     "name": "stdout",
     "output_type": "stream",
     "text": [
      "Farsite $Rev: 2395 $\n",
      "Number of parallel threads = 4 (omp_get_num_procs = 32).\n",
      "Loading lcp file for Farsite #1: /home/jovyan/farsite/inputs/landscapes/Maria2019.lcp\n",
      "Loading inputs file for Farsite #1: /home/jovyan/data/20221209/Run_00959/config\n",
      "Loading ignition file for Farsite #1: /home/jovyan/data/ignitions/Maria2019U0059.shp\n",
      "Loading barrier file for Farsite #1: /home/jovyan/farsite/inputs/barriers/NoBarrier/NoBarrier.shp\n",
      "Launching Farsite #1\n",
      "Starting time step 0.000000 (maximum = 19)\n",
      "Writing outputs for Farsite #1 to /home/jovyan/data/20221209/Run_00959/out\n"
     ]
    },
    {
     "name": "stderr",
     "output_type": "stream",
     "text": [
      "/home/jovyan/farsite-devAPI/src/farsiteutils_v2.py:177: FutureWarning: The frame.append method is deprecated and will be removed from pandas in a future version. Use pandas.concat instead.\n",
      "  self.gdfsimulation = self.gdfsimulation.append(gdfappend)\n"
     ]
    },
    {
     "name": "stdout",
     "output_type": "stream",
     "text": [
      "Farsite $Rev: 2395 $\n",
      "Number of parallel threads = 4 (omp_get_num_procs = 32).\n",
      "Loading lcp file for Farsite #1: /home/jovyan/farsite/inputs/landscapes/Maria2019.lcp\n",
      "Loading inputs file for Farsite #1: /home/jovyan/data/20221209/Run_00960/config\n",
      "Loading ignition file for Farsite #1: /home/jovyan/data/ignitions/Maria2019U0060.shp\n",
      "Loading barrier file for Farsite #1: /home/jovyan/farsite/inputs/barriers/NoBarrier/NoBarrier.shp\n",
      "Launching Farsite #1\n",
      "Starting time step 0.000000 (maximum = 19)\n",
      "Writing outputs for Farsite #1 to /home/jovyan/data/20221209/Run_00960/out\n"
     ]
    },
    {
     "name": "stderr",
     "output_type": "stream",
     "text": [
      "/home/jovyan/farsite-devAPI/src/farsiteutils_v2.py:177: FutureWarning: The frame.append method is deprecated and will be removed from pandas in a future version. Use pandas.concat instead.\n",
      "  self.gdfsimulation = self.gdfsimulation.append(gdfappend)\n"
     ]
    },
    {
     "name": "stdout",
     "output_type": "stream",
     "text": [
      "Farsite $Rev: 2395 $\n",
      "Number of parallel threads = 4 (omp_get_num_procs = 32).\n",
      "Loading lcp file for Farsite #1: /home/jovyan/farsite/inputs/landscapes/Maria2019.lcp\n",
      "Loading inputs file for Farsite #1: /home/jovyan/data/20221209/Run_00961/config\n",
      "Loading ignition file for Farsite #1: /home/jovyan/data/ignitions/Maria2019U0061.shp\n",
      "Loading barrier file for Farsite #1: /home/jovyan/farsite/inputs/barriers/NoBarrier/NoBarrier.shp\n",
      "Launching Farsite #1\n",
      "Starting time step 0.000000 (maximum = 19)\n",
      "Writing outputs for Farsite #1 to /home/jovyan/data/20221209/Run_00961/out\n"
     ]
    },
    {
     "name": "stderr",
     "output_type": "stream",
     "text": [
      "/home/jovyan/farsite-devAPI/src/farsiteutils_v2.py:177: FutureWarning: The frame.append method is deprecated and will be removed from pandas in a future version. Use pandas.concat instead.\n",
      "  self.gdfsimulation = self.gdfsimulation.append(gdfappend)\n"
     ]
    },
    {
     "name": "stdout",
     "output_type": "stream",
     "text": [
      "Farsite $Rev: 2395 $\n",
      "Number of parallel threads = 4 (omp_get_num_procs = 32).\n",
      "Loading lcp file for Farsite #1: /home/jovyan/farsite/inputs/landscapes/Maria2019.lcp\n",
      "Loading inputs file for Farsite #1: /home/jovyan/data/20221209/Run_00962/config\n",
      "Loading ignition file for Farsite #1: /home/jovyan/data/ignitions/Maria2019U0062.shp\n",
      "Loading barrier file for Farsite #1: /home/jovyan/farsite/inputs/barriers/NoBarrier/NoBarrier.shp\n",
      "Launching Farsite #1\n",
      "Starting time step 0.000000 (maximum = 19)\n",
      "Writing outputs for Farsite #1 to /home/jovyan/data/20221209/Run_00962/out\n"
     ]
    },
    {
     "name": "stderr",
     "output_type": "stream",
     "text": [
      "/home/jovyan/farsite-devAPI/src/farsiteutils_v2.py:177: FutureWarning: The frame.append method is deprecated and will be removed from pandas in a future version. Use pandas.concat instead.\n",
      "  self.gdfsimulation = self.gdfsimulation.append(gdfappend)\n"
     ]
    },
    {
     "name": "stdout",
     "output_type": "stream",
     "text": [
      "Farsite $Rev: 2395 $\n",
      "Number of parallel threads = 4 (omp_get_num_procs = 32).\n",
      "Loading lcp file for Farsite #1: /home/jovyan/farsite/inputs/landscapes/Maria2019.lcp\n",
      "Loading inputs file for Farsite #1: /home/jovyan/data/20221209/Run_00963/config\n",
      "Loading ignition file for Farsite #1: /home/jovyan/data/ignitions/Maria2019U0063.shp\n",
      "Loading barrier file for Farsite #1: /home/jovyan/farsite/inputs/barriers/NoBarrier/NoBarrier.shp\n",
      "Launching Farsite #1\n",
      "Starting time step 0.000000 (maximum = 19)\n",
      "Writing outputs for Farsite #1 to /home/jovyan/data/20221209/Run_00963/out\n"
     ]
    },
    {
     "name": "stderr",
     "output_type": "stream",
     "text": [
      "/home/jovyan/farsite-devAPI/src/farsiteutils_v2.py:177: FutureWarning: The frame.append method is deprecated and will be removed from pandas in a future version. Use pandas.concat instead.\n",
      "  self.gdfsimulation = self.gdfsimulation.append(gdfappend)\n"
     ]
    },
    {
     "name": "stdout",
     "output_type": "stream",
     "text": [
      "Farsite $Rev: 2395 $\n",
      "Number of parallel threads = 4 (omp_get_num_procs = 32).\n",
      "Loading lcp file for Farsite #1: /home/jovyan/farsite/inputs/landscapes/Maria2019.lcp\n",
      "Loading inputs file for Farsite #1: /home/jovyan/data/20221209/Run_00964/config\n",
      "Loading ignition file for Farsite #1: /home/jovyan/data/ignitions/Maria2019U0064.shp\n",
      "Loading barrier file for Farsite #1: /home/jovyan/farsite/inputs/barriers/NoBarrier/NoBarrier.shp\n",
      "Launching Farsite #1\n",
      "Starting time step 0.000000 (maximum = 19)\n",
      "Writing outputs for Farsite #1 to /home/jovyan/data/20221209/Run_00964/out\n"
     ]
    },
    {
     "name": "stderr",
     "output_type": "stream",
     "text": [
      "/home/jovyan/farsite-devAPI/src/farsiteutils_v2.py:177: FutureWarning: The frame.append method is deprecated and will be removed from pandas in a future version. Use pandas.concat instead.\n",
      "  self.gdfsimulation = self.gdfsimulation.append(gdfappend)\n"
     ]
    },
    {
     "name": "stdout",
     "output_type": "stream",
     "text": [
      "Farsite $Rev: 2395 $\n",
      "Number of parallel threads = 4 (omp_get_num_procs = 32).\n",
      "Loading lcp file for Farsite #1: /home/jovyan/farsite/inputs/landscapes/Maria2019.lcp\n",
      "Loading inputs file for Farsite #1: /home/jovyan/data/20221209/Run_00965/config\n",
      "Loading ignition file for Farsite #1: /home/jovyan/data/ignitions/Maria2019U0065.shp\n",
      "Loading barrier file for Farsite #1: /home/jovyan/farsite/inputs/barriers/NoBarrier/NoBarrier.shp\n",
      "Launching Farsite #1\n",
      "Starting time step 0.000000 (maximum = 19)\n",
      "Writing outputs for Farsite #1 to /home/jovyan/data/20221209/Run_00965/out\n"
     ]
    },
    {
     "name": "stderr",
     "output_type": "stream",
     "text": [
      "/home/jovyan/farsite-devAPI/src/farsiteutils_v2.py:177: FutureWarning: The frame.append method is deprecated and will be removed from pandas in a future version. Use pandas.concat instead.\n",
      "  self.gdfsimulation = self.gdfsimulation.append(gdfappend)\n"
     ]
    },
    {
     "name": "stdout",
     "output_type": "stream",
     "text": [
      "Farsite $Rev: 2395 $\n",
      "Number of parallel threads = 4 (omp_get_num_procs = 32).\n",
      "Loading lcp file for Farsite #1: /home/jovyan/farsite/inputs/landscapes/Maria2019.lcp\n",
      "Loading inputs file for Farsite #1: /home/jovyan/data/20221209/Run_00966/config\n",
      "Loading ignition file for Farsite #1: /home/jovyan/data/ignitions/Maria2019U0066.shp\n",
      "Loading barrier file for Farsite #1: /home/jovyan/farsite/inputs/barriers/NoBarrier/NoBarrier.shp\n",
      "Launching Farsite #1\n",
      "Starting time step 0.000000 (maximum = 19)\n",
      "Writing outputs for Farsite #1 to /home/jovyan/data/20221209/Run_00966/out\n"
     ]
    },
    {
     "name": "stderr",
     "output_type": "stream",
     "text": [
      "/home/jovyan/farsite-devAPI/src/farsiteutils_v2.py:177: FutureWarning: The frame.append method is deprecated and will be removed from pandas in a future version. Use pandas.concat instead.\n",
      "  self.gdfsimulation = self.gdfsimulation.append(gdfappend)\n"
     ]
    },
    {
     "name": "stdout",
     "output_type": "stream",
     "text": [
      "Farsite $Rev: 2395 $\n",
      "Number of parallel threads = 4 (omp_get_num_procs = 32).\n",
      "Loading lcp file for Farsite #1: /home/jovyan/farsite/inputs/landscapes/Maria2019.lcp\n",
      "Loading inputs file for Farsite #1: /home/jovyan/data/20221209/Run_00967/config\n",
      "Loading ignition file for Farsite #1: /home/jovyan/data/ignitions/Maria2019U0067.shp\n",
      "Loading barrier file for Farsite #1: /home/jovyan/farsite/inputs/barriers/NoBarrier/NoBarrier.shp\n",
      "Launching Farsite #1\n",
      "Starting time step 0.000000 (maximum = 19)\n",
      "Writing outputs for Farsite #1 to /home/jovyan/data/20221209/Run_00967/out\n"
     ]
    },
    {
     "name": "stderr",
     "output_type": "stream",
     "text": [
      "/home/jovyan/farsite-devAPI/src/farsiteutils_v2.py:177: FutureWarning: The frame.append method is deprecated and will be removed from pandas in a future version. Use pandas.concat instead.\n",
      "  self.gdfsimulation = self.gdfsimulation.append(gdfappend)\n"
     ]
    },
    {
     "name": "stdout",
     "output_type": "stream",
     "text": [
      "Farsite $Rev: 2395 $\n",
      "Number of parallel threads = 4 (omp_get_num_procs = 32).\n",
      "Loading lcp file for Farsite #1: /home/jovyan/farsite/inputs/landscapes/Maria2019.lcp\n",
      "Loading inputs file for Farsite #1: /home/jovyan/data/20221209/Run_00968/config\n",
      "Loading ignition file for Farsite #1: /home/jovyan/data/ignitions/Maria2019U0068.shp\n",
      "Loading barrier file for Farsite #1: /home/jovyan/farsite/inputs/barriers/NoBarrier/NoBarrier.shp\n",
      "Launching Farsite #1\n",
      "Starting time step 0.000000 (maximum = 19)\n",
      "Writing outputs for Farsite #1 to /home/jovyan/data/20221209/Run_00968/out\n"
     ]
    },
    {
     "name": "stderr",
     "output_type": "stream",
     "text": [
      "/home/jovyan/farsite-devAPI/src/farsiteutils_v2.py:177: FutureWarning: The frame.append method is deprecated and will be removed from pandas in a future version. Use pandas.concat instead.\n",
      "  self.gdfsimulation = self.gdfsimulation.append(gdfappend)\n"
     ]
    },
    {
     "name": "stdout",
     "output_type": "stream",
     "text": [
      "Farsite $Rev: 2395 $\n",
      "Number of parallel threads = 4 (omp_get_num_procs = 32).\n",
      "Loading lcp file for Farsite #1: /home/jovyan/farsite/inputs/landscapes/Maria2019.lcp\n",
      "Loading inputs file for Farsite #1: /home/jovyan/data/20221209/Run_00969/config\n",
      "Loading ignition file for Farsite #1: /home/jovyan/data/ignitions/Maria2019U0069.shp\n",
      "Loading barrier file for Farsite #1: /home/jovyan/farsite/inputs/barriers/NoBarrier/NoBarrier.shp\n",
      "Launching Farsite #1\n",
      "Starting time step 0.000000 (maximum = 19)\n",
      "Writing outputs for Farsite #1 to /home/jovyan/data/20221209/Run_00969/out\n"
     ]
    },
    {
     "name": "stderr",
     "output_type": "stream",
     "text": [
      "/home/jovyan/farsite-devAPI/src/farsiteutils_v2.py:177: FutureWarning: The frame.append method is deprecated and will be removed from pandas in a future version. Use pandas.concat instead.\n",
      "  self.gdfsimulation = self.gdfsimulation.append(gdfappend)\n"
     ]
    },
    {
     "name": "stdout",
     "output_type": "stream",
     "text": [
      "Farsite $Rev: 2395 $\n",
      "Number of parallel threads = 4 (omp_get_num_procs = 32).\n",
      "Loading lcp file for Farsite #1: /home/jovyan/farsite/inputs/landscapes/Maria2019.lcp\n",
      "Loading inputs file for Farsite #1: /home/jovyan/data/20221209/Run_00970/config\n",
      "Loading ignition file for Farsite #1: /home/jovyan/data/ignitions/Maria2019U0070.shp\n",
      "Loading barrier file for Farsite #1: /home/jovyan/farsite/inputs/barriers/NoBarrier/NoBarrier.shp\n",
      "Launching Farsite #1\n",
      "Starting time step 0.000000 (maximum = 19)\n",
      "Writing outputs for Farsite #1 to /home/jovyan/data/20221209/Run_00970/out\n"
     ]
    },
    {
     "name": "stderr",
     "output_type": "stream",
     "text": [
      "/home/jovyan/farsite-devAPI/src/farsiteutils_v2.py:177: FutureWarning: The frame.append method is deprecated and will be removed from pandas in a future version. Use pandas.concat instead.\n",
      "  self.gdfsimulation = self.gdfsimulation.append(gdfappend)\n"
     ]
    },
    {
     "name": "stdout",
     "output_type": "stream",
     "text": [
      "Farsite $Rev: 2395 $\n",
      "Number of parallel threads = 4 (omp_get_num_procs = 32).\n",
      "Loading lcp file for Farsite #1: /home/jovyan/farsite/inputs/landscapes/Maria2019.lcp\n",
      "Loading inputs file for Farsite #1: /home/jovyan/data/20221209/Run_00971/config\n",
      "Loading ignition file for Farsite #1: /home/jovyan/data/ignitions/Maria2019U0071.shp\n",
      "Loading barrier file for Farsite #1: /home/jovyan/farsite/inputs/barriers/NoBarrier/NoBarrier.shp\n",
      "Launching Farsite #1\n",
      "Starting time step 0.000000 (maximum = 19)\n",
      "Writing outputs for Farsite #1 to /home/jovyan/data/20221209/Run_00971/out\n"
     ]
    },
    {
     "name": "stderr",
     "output_type": "stream",
     "text": [
      "/home/jovyan/farsite-devAPI/src/farsiteutils_v2.py:177: FutureWarning: The frame.append method is deprecated and will be removed from pandas in a future version. Use pandas.concat instead.\n",
      "  self.gdfsimulation = self.gdfsimulation.append(gdfappend)\n"
     ]
    },
    {
     "name": "stdout",
     "output_type": "stream",
     "text": [
      "Farsite $Rev: 2395 $\n",
      "Number of parallel threads = 4 (omp_get_num_procs = 32).\n",
      "Loading lcp file for Farsite #1: /home/jovyan/farsite/inputs/landscapes/Maria2019.lcp\n",
      "Loading inputs file for Farsite #1: /home/jovyan/data/20221209/Run_00972/config\n",
      "Loading ignition file for Farsite #1: /home/jovyan/data/ignitions/Maria2019U0072.shp\n",
      "Loading barrier file for Farsite #1: /home/jovyan/farsite/inputs/barriers/NoBarrier/NoBarrier.shp\n",
      "Launching Farsite #1\n",
      "Starting time step 0.000000 (maximum = 19)\n",
      "Writing outputs for Farsite #1 to /home/jovyan/data/20221209/Run_00972/out\n"
     ]
    },
    {
     "name": "stderr",
     "output_type": "stream",
     "text": [
      "/home/jovyan/farsite-devAPI/src/farsiteutils_v2.py:177: FutureWarning: The frame.append method is deprecated and will be removed from pandas in a future version. Use pandas.concat instead.\n",
      "  self.gdfsimulation = self.gdfsimulation.append(gdfappend)\n"
     ]
    },
    {
     "name": "stdout",
     "output_type": "stream",
     "text": [
      "Farsite $Rev: 2395 $\n",
      "Number of parallel threads = 4 (omp_get_num_procs = 32).\n",
      "Loading lcp file for Farsite #1: /home/jovyan/farsite/inputs/landscapes/Maria2019.lcp\n",
      "Loading inputs file for Farsite #1: /home/jovyan/data/20221209/Run_00973/config\n",
      "Loading ignition file for Farsite #1: /home/jovyan/data/ignitions/Maria2019U0073.shp\n",
      "Loading barrier file for Farsite #1: /home/jovyan/farsite/inputs/barriers/NoBarrier/NoBarrier.shp\n",
      "Launching Farsite #1\n",
      "Starting time step 0.000000 (maximum = 19)\n",
      "Writing outputs for Farsite #1 to /home/jovyan/data/20221209/Run_00973/out\n"
     ]
    },
    {
     "name": "stderr",
     "output_type": "stream",
     "text": [
      "/home/jovyan/farsite-devAPI/src/farsiteutils_v2.py:177: FutureWarning: The frame.append method is deprecated and will be removed from pandas in a future version. Use pandas.concat instead.\n",
      "  self.gdfsimulation = self.gdfsimulation.append(gdfappend)\n"
     ]
    },
    {
     "name": "stdout",
     "output_type": "stream",
     "text": [
      "Farsite $Rev: 2395 $\n",
      "Number of parallel threads = 4 (omp_get_num_procs = 32).\n",
      "Loading lcp file for Farsite #1: /home/jovyan/farsite/inputs/landscapes/Maria2019.lcp\n",
      "Loading inputs file for Farsite #1: /home/jovyan/data/20221209/Run_00974/config\n",
      "Loading ignition file for Farsite #1: /home/jovyan/data/ignitions/Maria2019U0074.shp\n",
      "Loading barrier file for Farsite #1: /home/jovyan/farsite/inputs/barriers/NoBarrier/NoBarrier.shp\n",
      "Launching Farsite #1\n",
      "Starting time step 0.000000 (maximum = 19)\n",
      "Writing outputs for Farsite #1 to /home/jovyan/data/20221209/Run_00974/out\n"
     ]
    },
    {
     "name": "stderr",
     "output_type": "stream",
     "text": [
      "/home/jovyan/farsite-devAPI/src/farsiteutils_v2.py:177: FutureWarning: The frame.append method is deprecated and will be removed from pandas in a future version. Use pandas.concat instead.\n",
      "  self.gdfsimulation = self.gdfsimulation.append(gdfappend)\n"
     ]
    },
    {
     "name": "stdout",
     "output_type": "stream",
     "text": [
      "Farsite $Rev: 2395 $\n",
      "Number of parallel threads = 4 (omp_get_num_procs = 32).\n",
      "Loading lcp file for Farsite #1: /home/jovyan/farsite/inputs/landscapes/Maria2019.lcp\n",
      "Loading inputs file for Farsite #1: /home/jovyan/data/20221209/Run_00975/config\n",
      "Loading ignition file for Farsite #1: /home/jovyan/data/ignitions/Maria2019U0075.shp\n",
      "Loading barrier file for Farsite #1: /home/jovyan/farsite/inputs/barriers/NoBarrier/NoBarrier.shp\n",
      "Launching Farsite #1\n",
      "Starting time step 0.000000 (maximum = 19)\n",
      "Writing outputs for Farsite #1 to /home/jovyan/data/20221209/Run_00975/out\n"
     ]
    },
    {
     "name": "stderr",
     "output_type": "stream",
     "text": [
      "/home/jovyan/farsite-devAPI/src/farsiteutils_v2.py:177: FutureWarning: The frame.append method is deprecated and will be removed from pandas in a future version. Use pandas.concat instead.\n",
      "  self.gdfsimulation = self.gdfsimulation.append(gdfappend)\n"
     ]
    },
    {
     "name": "stdout",
     "output_type": "stream",
     "text": [
      "Farsite $Rev: 2395 $\n",
      "Number of parallel threads = 4 (omp_get_num_procs = 32).\n",
      "Loading lcp file for Farsite #1: /home/jovyan/farsite/inputs/landscapes/Maria2019.lcp\n",
      "Loading inputs file for Farsite #1: /home/jovyan/data/20221209/Run_00976/config\n",
      "Loading ignition file for Farsite #1: /home/jovyan/data/ignitions/Maria2019U0076.shp\n",
      "Loading barrier file for Farsite #1: /home/jovyan/farsite/inputs/barriers/NoBarrier/NoBarrier.shp\n",
      "Launching Farsite #1\n",
      "Starting time step 0.000000 (maximum = 19)\n",
      "Writing outputs for Farsite #1 to /home/jovyan/data/20221209/Run_00976/out\n"
     ]
    },
    {
     "name": "stderr",
     "output_type": "stream",
     "text": [
      "/home/jovyan/farsite-devAPI/src/farsiteutils_v2.py:177: FutureWarning: The frame.append method is deprecated and will be removed from pandas in a future version. Use pandas.concat instead.\n",
      "  self.gdfsimulation = self.gdfsimulation.append(gdfappend)\n"
     ]
    },
    {
     "name": "stdout",
     "output_type": "stream",
     "text": [
      "Farsite $Rev: 2395 $\n",
      "Number of parallel threads = 4 (omp_get_num_procs = 32).\n",
      "Loading lcp file for Farsite #1: /home/jovyan/farsite/inputs/landscapes/Maria2019.lcp\n",
      "Loading inputs file for Farsite #1: /home/jovyan/data/20221209/Run_00977/config\n",
      "Loading ignition file for Farsite #1: /home/jovyan/data/ignitions/Maria2019U0077.shp\n",
      "Loading barrier file for Farsite #1: /home/jovyan/farsite/inputs/barriers/NoBarrier/NoBarrier.shp\n",
      "Launching Farsite #1\n",
      "Starting time step 0.000000 (maximum = 19)\n",
      "Writing outputs for Farsite #1 to /home/jovyan/data/20221209/Run_00977/out\n"
     ]
    },
    {
     "name": "stderr",
     "output_type": "stream",
     "text": [
      "/home/jovyan/farsite-devAPI/src/farsiteutils_v2.py:177: FutureWarning: The frame.append method is deprecated and will be removed from pandas in a future version. Use pandas.concat instead.\n",
      "  self.gdfsimulation = self.gdfsimulation.append(gdfappend)\n"
     ]
    },
    {
     "name": "stdout",
     "output_type": "stream",
     "text": [
      "Farsite $Rev: 2395 $\n",
      "Number of parallel threads = 4 (omp_get_num_procs = 32).\n",
      "Loading lcp file for Farsite #1: /home/jovyan/farsite/inputs/landscapes/Maria2019.lcp\n",
      "Loading inputs file for Farsite #1: /home/jovyan/data/20221209/Run_00978/config\n",
      "Loading ignition file for Farsite #1: /home/jovyan/data/ignitions/Maria2019U0078.shp\n",
      "Loading barrier file for Farsite #1: /home/jovyan/farsite/inputs/barriers/NoBarrier/NoBarrier.shp\n",
      "Launching Farsite #1\n",
      "Starting time step 0.000000 (maximum = 19)\n",
      "Writing outputs for Farsite #1 to /home/jovyan/data/20221209/Run_00978/out\n"
     ]
    },
    {
     "name": "stderr",
     "output_type": "stream",
     "text": [
      "/home/jovyan/farsite-devAPI/src/farsiteutils_v2.py:177: FutureWarning: The frame.append method is deprecated and will be removed from pandas in a future version. Use pandas.concat instead.\n",
      "  self.gdfsimulation = self.gdfsimulation.append(gdfappend)\n"
     ]
    },
    {
     "name": "stdout",
     "output_type": "stream",
     "text": [
      "Farsite $Rev: 2395 $\n",
      "Number of parallel threads = 4 (omp_get_num_procs = 32).\n",
      "Loading lcp file for Farsite #1: /home/jovyan/farsite/inputs/landscapes/Maria2019.lcp\n",
      "Loading inputs file for Farsite #1: /home/jovyan/data/20221209/Run_00979/config\n",
      "Loading ignition file for Farsite #1: /home/jovyan/data/ignitions/Maria2019U0079.shp\n",
      "Loading barrier file for Farsite #1: /home/jovyan/farsite/inputs/barriers/NoBarrier/NoBarrier.shp\n",
      "Launching Farsite #1\n",
      "Starting time step 0.000000 (maximum = 19)\n",
      "Writing outputs for Farsite #1 to /home/jovyan/data/20221209/Run_00979/out\n"
     ]
    },
    {
     "name": "stderr",
     "output_type": "stream",
     "text": [
      "/home/jovyan/farsite-devAPI/src/farsiteutils_v2.py:177: FutureWarning: The frame.append method is deprecated and will be removed from pandas in a future version. Use pandas.concat instead.\n",
      "  self.gdfsimulation = self.gdfsimulation.append(gdfappend)\n"
     ]
    },
    {
     "name": "stdout",
     "output_type": "stream",
     "text": [
      "Farsite $Rev: 2395 $\n",
      "Number of parallel threads = 4 (omp_get_num_procs = 32).\n",
      "Loading lcp file for Farsite #1: /home/jovyan/farsite/inputs/landscapes/Maria2019.lcp\n",
      "Loading inputs file for Farsite #1: /home/jovyan/data/20221209/Run_00980/config\n",
      "Loading ignition file for Farsite #1: /home/jovyan/data/ignitions/Maria2019U0080.shp\n",
      "Loading barrier file for Farsite #1: /home/jovyan/farsite/inputs/barriers/NoBarrier/NoBarrier.shp\n",
      "Launching Farsite #1\n",
      "Starting time step 0.000000 (maximum = 19)\n",
      "Writing outputs for Farsite #1 to /home/jovyan/data/20221209/Run_00980/out\n"
     ]
    },
    {
     "name": "stderr",
     "output_type": "stream",
     "text": [
      "/home/jovyan/farsite-devAPI/src/farsiteutils_v2.py:177: FutureWarning: The frame.append method is deprecated and will be removed from pandas in a future version. Use pandas.concat instead.\n",
      "  self.gdfsimulation = self.gdfsimulation.append(gdfappend)\n"
     ]
    },
    {
     "name": "stdout",
     "output_type": "stream",
     "text": [
      "Farsite $Rev: 2395 $\n",
      "Number of parallel threads = 4 (omp_get_num_procs = 32).\n",
      "Loading lcp file for Farsite #1: /home/jovyan/farsite/inputs/landscapes/Maria2019.lcp\n",
      "Loading inputs file for Farsite #1: /home/jovyan/data/20221209/Run_00981/config\n",
      "Loading ignition file for Farsite #1: /home/jovyan/data/ignitions/Maria2019U0081.shp\n",
      "Loading barrier file for Farsite #1: /home/jovyan/farsite/inputs/barriers/NoBarrier/NoBarrier.shp\n",
      "Launching Farsite #1\n",
      "Starting time step 0.000000 (maximum = 19)\n",
      "Writing outputs for Farsite #1 to /home/jovyan/data/20221209/Run_00981/out\n"
     ]
    },
    {
     "name": "stderr",
     "output_type": "stream",
     "text": [
      "/home/jovyan/farsite-devAPI/src/farsiteutils_v2.py:177: FutureWarning: The frame.append method is deprecated and will be removed from pandas in a future version. Use pandas.concat instead.\n",
      "  self.gdfsimulation = self.gdfsimulation.append(gdfappend)\n"
     ]
    },
    {
     "name": "stdout",
     "output_type": "stream",
     "text": [
      "Farsite $Rev: 2395 $\n",
      "Number of parallel threads = 4 (omp_get_num_procs = 32).\n",
      "Loading lcp file for Farsite #1: /home/jovyan/farsite/inputs/landscapes/Maria2019.lcp\n",
      "Loading inputs file for Farsite #1: /home/jovyan/data/20221209/Run_00982/config\n",
      "Loading ignition file for Farsite #1: /home/jovyan/data/ignitions/Maria2019U0082.shp\n",
      "Loading barrier file for Farsite #1: /home/jovyan/farsite/inputs/barriers/NoBarrier/NoBarrier.shp\n",
      "Launching Farsite #1\n",
      "Starting time step 0.000000 (maximum = 19)\n",
      "Writing outputs for Farsite #1 to /home/jovyan/data/20221209/Run_00982/out\n"
     ]
    },
    {
     "name": "stderr",
     "output_type": "stream",
     "text": [
      "/home/jovyan/farsite-devAPI/src/farsiteutils_v2.py:177: FutureWarning: The frame.append method is deprecated and will be removed from pandas in a future version. Use pandas.concat instead.\n",
      "  self.gdfsimulation = self.gdfsimulation.append(gdfappend)\n"
     ]
    },
    {
     "name": "stdout",
     "output_type": "stream",
     "text": [
      "Farsite $Rev: 2395 $\n",
      "Number of parallel threads = 4 (omp_get_num_procs = 32).\n",
      "Loading lcp file for Farsite #1: /home/jovyan/farsite/inputs/landscapes/Maria2019.lcp\n",
      "Loading inputs file for Farsite #1: /home/jovyan/data/20221209/Run_00983/config\n",
      "Loading ignition file for Farsite #1: /home/jovyan/data/ignitions/Maria2019U0083.shp\n",
      "Loading barrier file for Farsite #1: /home/jovyan/farsite/inputs/barriers/NoBarrier/NoBarrier.shp\n",
      "Launching Farsite #1\n",
      "Starting time step 0.000000 (maximum = 19)\n",
      "Writing outputs for Farsite #1 to /home/jovyan/data/20221209/Run_00983/out\n"
     ]
    },
    {
     "name": "stderr",
     "output_type": "stream",
     "text": [
      "/home/jovyan/farsite-devAPI/src/farsiteutils_v2.py:177: FutureWarning: The frame.append method is deprecated and will be removed from pandas in a future version. Use pandas.concat instead.\n",
      "  self.gdfsimulation = self.gdfsimulation.append(gdfappend)\n"
     ]
    },
    {
     "name": "stdout",
     "output_type": "stream",
     "text": [
      "Farsite $Rev: 2395 $\n",
      "Number of parallel threads = 4 (omp_get_num_procs = 32).\n",
      "Loading lcp file for Farsite #1: /home/jovyan/farsite/inputs/landscapes/Maria2019.lcp\n",
      "Loading inputs file for Farsite #1: /home/jovyan/data/20221209/Run_00984/config\n",
      "Loading ignition file for Farsite #1: /home/jovyan/data/ignitions/Maria2019U0084.shp\n",
      "Loading barrier file for Farsite #1: /home/jovyan/farsite/inputs/barriers/NoBarrier/NoBarrier.shp\n",
      "Launching Farsite #1\n",
      "Starting time step 0.000000 (maximum = 19)\n",
      "Writing outputs for Farsite #1 to /home/jovyan/data/20221209/Run_00984/out\n"
     ]
    },
    {
     "name": "stderr",
     "output_type": "stream",
     "text": [
      "/home/jovyan/farsite-devAPI/src/farsiteutils_v2.py:177: FutureWarning: The frame.append method is deprecated and will be removed from pandas in a future version. Use pandas.concat instead.\n",
      "  self.gdfsimulation = self.gdfsimulation.append(gdfappend)\n"
     ]
    },
    {
     "name": "stdout",
     "output_type": "stream",
     "text": [
      "Farsite $Rev: 2395 $\n",
      "Number of parallel threads = 4 (omp_get_num_procs = 32).\n",
      "Loading lcp file for Farsite #1: /home/jovyan/farsite/inputs/landscapes/Maria2019.lcp\n",
      "Loading inputs file for Farsite #1: /home/jovyan/data/20221209/Run_00985/config\n",
      "Loading ignition file for Farsite #1: /home/jovyan/data/ignitions/Maria2019U0085.shp\n",
      "Loading barrier file for Farsite #1: /home/jovyan/farsite/inputs/barriers/NoBarrier/NoBarrier.shp\n",
      "Launching Farsite #1\n",
      "Starting time step 0.000000 (maximum = 19)\n",
      "Writing outputs for Farsite #1 to /home/jovyan/data/20221209/Run_00985/out\n"
     ]
    },
    {
     "name": "stderr",
     "output_type": "stream",
     "text": [
      "/home/jovyan/farsite-devAPI/src/farsiteutils_v2.py:177: FutureWarning: The frame.append method is deprecated and will be removed from pandas in a future version. Use pandas.concat instead.\n",
      "  self.gdfsimulation = self.gdfsimulation.append(gdfappend)\n"
     ]
    },
    {
     "name": "stdout",
     "output_type": "stream",
     "text": [
      "Farsite $Rev: 2395 $\n",
      "Number of parallel threads = 4 (omp_get_num_procs = 32).\n",
      "Loading lcp file for Farsite #1: /home/jovyan/farsite/inputs/landscapes/Maria2019.lcp\n",
      "Loading inputs file for Farsite #1: /home/jovyan/data/20221209/Run_00986/config\n",
      "Loading ignition file for Farsite #1: /home/jovyan/data/ignitions/Maria2019U0086.shp\n",
      "Loading barrier file for Farsite #1: /home/jovyan/farsite/inputs/barriers/NoBarrier/NoBarrier.shp\n",
      "Launching Farsite #1\n",
      "Starting time step 0.000000 (maximum = 19)\n",
      "Writing outputs for Farsite #1 to /home/jovyan/data/20221209/Run_00986/out\n"
     ]
    },
    {
     "name": "stderr",
     "output_type": "stream",
     "text": [
      "/home/jovyan/farsite-devAPI/src/farsiteutils_v2.py:177: FutureWarning: The frame.append method is deprecated and will be removed from pandas in a future version. Use pandas.concat instead.\n",
      "  self.gdfsimulation = self.gdfsimulation.append(gdfappend)\n"
     ]
    },
    {
     "name": "stdout",
     "output_type": "stream",
     "text": [
      "Farsite $Rev: 2395 $\n",
      "Number of parallel threads = 4 (omp_get_num_procs = 32).\n",
      "Loading lcp file for Farsite #1: /home/jovyan/farsite/inputs/landscapes/Maria2019.lcp\n",
      "Loading inputs file for Farsite #1: /home/jovyan/data/20221209/Run_00987/config\n",
      "Loading ignition file for Farsite #1: /home/jovyan/data/ignitions/Maria2019U0087.shp\n",
      "Loading barrier file for Farsite #1: /home/jovyan/farsite/inputs/barriers/NoBarrier/NoBarrier.shp\n",
      "Launching Farsite #1\n",
      "Starting time step 0.000000 (maximum = 19)\n",
      "Writing outputs for Farsite #1 to /home/jovyan/data/20221209/Run_00987/out\n"
     ]
    },
    {
     "name": "stderr",
     "output_type": "stream",
     "text": [
      "/home/jovyan/farsite-devAPI/src/farsiteutils_v2.py:177: FutureWarning: The frame.append method is deprecated and will be removed from pandas in a future version. Use pandas.concat instead.\n",
      "  self.gdfsimulation = self.gdfsimulation.append(gdfappend)\n"
     ]
    },
    {
     "name": "stdout",
     "output_type": "stream",
     "text": [
      "Farsite $Rev: 2395 $\n",
      "Number of parallel threads = 4 (omp_get_num_procs = 32).\n",
      "Loading lcp file for Farsite #1: /home/jovyan/farsite/inputs/landscapes/Maria2019.lcp\n",
      "Loading inputs file for Farsite #1: /home/jovyan/data/20221209/Run_00988/config\n",
      "Loading ignition file for Farsite #1: /home/jovyan/data/ignitions/Maria2019U0088.shp\n",
      "Loading barrier file for Farsite #1: /home/jovyan/farsite/inputs/barriers/NoBarrier/NoBarrier.shp\n",
      "Launching Farsite #1\n",
      "Starting time step 0.000000 (maximum = 19)\n",
      "Writing outputs for Farsite #1 to /home/jovyan/data/20221209/Run_00988/out\n"
     ]
    },
    {
     "name": "stderr",
     "output_type": "stream",
     "text": [
      "/home/jovyan/farsite-devAPI/src/farsiteutils_v2.py:177: FutureWarning: The frame.append method is deprecated and will be removed from pandas in a future version. Use pandas.concat instead.\n",
      "  self.gdfsimulation = self.gdfsimulation.append(gdfappend)\n"
     ]
    },
    {
     "name": "stdout",
     "output_type": "stream",
     "text": [
      "Farsite $Rev: 2395 $\n",
      "Number of parallel threads = 4 (omp_get_num_procs = 32).\n",
      "Loading lcp file for Farsite #1: /home/jovyan/farsite/inputs/landscapes/Maria2019.lcp\n",
      "Loading inputs file for Farsite #1: /home/jovyan/data/20221209/Run_00989/config\n",
      "Loading ignition file for Farsite #1: /home/jovyan/data/ignitions/Maria2019U0089.shp\n",
      "Loading barrier file for Farsite #1: /home/jovyan/farsite/inputs/barriers/NoBarrier/NoBarrier.shp\n",
      "Launching Farsite #1\n",
      "Starting time step 0.000000 (maximum = 19)\n",
      "Writing outputs for Farsite #1 to /home/jovyan/data/20221209/Run_00989/out\n"
     ]
    },
    {
     "name": "stderr",
     "output_type": "stream",
     "text": [
      "/home/jovyan/farsite-devAPI/src/farsiteutils_v2.py:177: FutureWarning: The frame.append method is deprecated and will be removed from pandas in a future version. Use pandas.concat instead.\n",
      "  self.gdfsimulation = self.gdfsimulation.append(gdfappend)\n"
     ]
    },
    {
     "name": "stdout",
     "output_type": "stream",
     "text": [
      "Farsite $Rev: 2395 $\n",
      "Number of parallel threads = 4 (omp_get_num_procs = 32).\n",
      "Loading lcp file for Farsite #1: /home/jovyan/farsite/inputs/landscapes/Maria2019.lcp\n",
      "Loading inputs file for Farsite #1: /home/jovyan/data/20221209/Run_00990/config\n",
      "Loading ignition file for Farsite #1: /home/jovyan/data/ignitions/Maria2019U0090.shp\n",
      "Loading barrier file for Farsite #1: /home/jovyan/farsite/inputs/barriers/NoBarrier/NoBarrier.shp\n",
      "Launching Farsite #1\n",
      "Starting time step 0.000000 (maximum = 19)\n",
      "Writing outputs for Farsite #1 to /home/jovyan/data/20221209/Run_00990/out\n"
     ]
    },
    {
     "name": "stderr",
     "output_type": "stream",
     "text": [
      "/home/jovyan/farsite-devAPI/src/farsiteutils_v2.py:177: FutureWarning: The frame.append method is deprecated and will be removed from pandas in a future version. Use pandas.concat instead.\n",
      "  self.gdfsimulation = self.gdfsimulation.append(gdfappend)\n"
     ]
    },
    {
     "name": "stdout",
     "output_type": "stream",
     "text": [
      "Farsite $Rev: 2395 $\n",
      "Number of parallel threads = 4 (omp_get_num_procs = 32).\n",
      "Loading lcp file for Farsite #1: /home/jovyan/farsite/inputs/landscapes/Maria2019.lcp\n",
      "Loading inputs file for Farsite #1: /home/jovyan/data/20221209/Run_00991/config\n",
      "Loading ignition file for Farsite #1: /home/jovyan/data/ignitions/Maria2019U0091.shp\n",
      "Loading barrier file for Farsite #1: /home/jovyan/farsite/inputs/barriers/NoBarrier/NoBarrier.shp\n",
      "Launching Farsite #1\n",
      "Starting time step 0.000000 (maximum = 19)\n",
      "Writing outputs for Farsite #1 to /home/jovyan/data/20221209/Run_00991/out\n"
     ]
    },
    {
     "name": "stderr",
     "output_type": "stream",
     "text": [
      "/home/jovyan/farsite-devAPI/src/farsiteutils_v2.py:177: FutureWarning: The frame.append method is deprecated and will be removed from pandas in a future version. Use pandas.concat instead.\n",
      "  self.gdfsimulation = self.gdfsimulation.append(gdfappend)\n"
     ]
    },
    {
     "name": "stdout",
     "output_type": "stream",
     "text": [
      "Farsite $Rev: 2395 $\n",
      "Number of parallel threads = 4 (omp_get_num_procs = 32).\n",
      "Loading lcp file for Farsite #1: /home/jovyan/farsite/inputs/landscapes/Maria2019.lcp\n",
      "Loading inputs file for Farsite #1: /home/jovyan/data/20221209/Run_00992/config\n",
      "Loading ignition file for Farsite #1: /home/jovyan/data/ignitions/Maria2019U0092.shp\n",
      "Loading barrier file for Farsite #1: /home/jovyan/farsite/inputs/barriers/NoBarrier/NoBarrier.shp\n",
      "Launching Farsite #1\n",
      "Starting time step 0.000000 (maximum = 19)\n",
      "Writing outputs for Farsite #1 to /home/jovyan/data/20221209/Run_00992/out\n"
     ]
    },
    {
     "name": "stderr",
     "output_type": "stream",
     "text": [
      "/home/jovyan/farsite-devAPI/src/farsiteutils_v2.py:177: FutureWarning: The frame.append method is deprecated and will be removed from pandas in a future version. Use pandas.concat instead.\n",
      "  self.gdfsimulation = self.gdfsimulation.append(gdfappend)\n"
     ]
    },
    {
     "name": "stdout",
     "output_type": "stream",
     "text": [
      "Farsite $Rev: 2395 $\n",
      "Number of parallel threads = 4 (omp_get_num_procs = 32).\n",
      "Loading lcp file for Farsite #1: /home/jovyan/farsite/inputs/landscapes/Maria2019.lcp\n",
      "Loading inputs file for Farsite #1: /home/jovyan/data/20221209/Run_00993/config\n",
      "Loading ignition file for Farsite #1: /home/jovyan/data/ignitions/Maria2019U0093.shp\n",
      "Loading barrier file for Farsite #1: /home/jovyan/farsite/inputs/barriers/NoBarrier/NoBarrier.shp\n",
      "Launching Farsite #1\n",
      "Starting time step 0.000000 (maximum = 19)\n",
      "Writing outputs for Farsite #1 to /home/jovyan/data/20221209/Run_00993/out\n"
     ]
    },
    {
     "name": "stderr",
     "output_type": "stream",
     "text": [
      "/home/jovyan/farsite-devAPI/src/farsiteutils_v2.py:177: FutureWarning: The frame.append method is deprecated and will be removed from pandas in a future version. Use pandas.concat instead.\n",
      "  self.gdfsimulation = self.gdfsimulation.append(gdfappend)\n"
     ]
    },
    {
     "name": "stdout",
     "output_type": "stream",
     "text": [
      "Farsite $Rev: 2395 $\n",
      "Number of parallel threads = 4 (omp_get_num_procs = 32).\n",
      "Loading lcp file for Farsite #1: /home/jovyan/farsite/inputs/landscapes/Maria2019.lcp\n",
      "Loading inputs file for Farsite #1: /home/jovyan/data/20221209/Run_00994/config\n",
      "Loading ignition file for Farsite #1: /home/jovyan/data/ignitions/Maria2019U0094.shp\n",
      "Loading barrier file for Farsite #1: /home/jovyan/farsite/inputs/barriers/NoBarrier/NoBarrier.shp\n",
      "Launching Farsite #1\n",
      "Starting time step 0.000000 (maximum = 19)\n",
      "Writing outputs for Farsite #1 to /home/jovyan/data/20221209/Run_00994/out\n"
     ]
    },
    {
     "name": "stderr",
     "output_type": "stream",
     "text": [
      "/home/jovyan/farsite-devAPI/src/farsiteutils_v2.py:177: FutureWarning: The frame.append method is deprecated and will be removed from pandas in a future version. Use pandas.concat instead.\n",
      "  self.gdfsimulation = self.gdfsimulation.append(gdfappend)\n"
     ]
    },
    {
     "name": "stdout",
     "output_type": "stream",
     "text": [
      "Farsite $Rev: 2395 $\n",
      "Number of parallel threads = 4 (omp_get_num_procs = 32).\n",
      "Loading lcp file for Farsite #1: /home/jovyan/farsite/inputs/landscapes/Maria2019.lcp\n",
      "Loading inputs file for Farsite #1: /home/jovyan/data/20221209/Run_00995/config\n",
      "Loading ignition file for Farsite #1: /home/jovyan/data/ignitions/Maria2019U0095.shp\n",
      "Loading barrier file for Farsite #1: /home/jovyan/farsite/inputs/barriers/NoBarrier/NoBarrier.shp\n",
      "Launching Farsite #1\n",
      "Starting time step 0.000000 (maximum = 19)\n",
      "Writing outputs for Farsite #1 to /home/jovyan/data/20221209/Run_00995/out\n"
     ]
    },
    {
     "name": "stderr",
     "output_type": "stream",
     "text": [
      "/home/jovyan/farsite-devAPI/src/farsiteutils_v2.py:177: FutureWarning: The frame.append method is deprecated and will be removed from pandas in a future version. Use pandas.concat instead.\n",
      "  self.gdfsimulation = self.gdfsimulation.append(gdfappend)\n"
     ]
    },
    {
     "name": "stdout",
     "output_type": "stream",
     "text": [
      "Farsite $Rev: 2395 $\n",
      "Number of parallel threads = 4 (omp_get_num_procs = 32).\n",
      "Loading lcp file for Farsite #1: /home/jovyan/farsite/inputs/landscapes/Maria2019.lcp\n",
      "Loading inputs file for Farsite #1: /home/jovyan/data/20221209/Run_00996/config\n",
      "Loading ignition file for Farsite #1: /home/jovyan/data/ignitions/Maria2019U0096.shp\n",
      "Loading barrier file for Farsite #1: /home/jovyan/farsite/inputs/barriers/NoBarrier/NoBarrier.shp\n",
      "Launching Farsite #1\n",
      "Starting time step 0.000000 (maximum = 19)\n",
      "Writing outputs for Farsite #1 to /home/jovyan/data/20221209/Run_00996/out\n"
     ]
    },
    {
     "name": "stderr",
     "output_type": "stream",
     "text": [
      "/home/jovyan/farsite-devAPI/src/farsiteutils_v2.py:177: FutureWarning: The frame.append method is deprecated and will be removed from pandas in a future version. Use pandas.concat instead.\n",
      "  self.gdfsimulation = self.gdfsimulation.append(gdfappend)\n"
     ]
    },
    {
     "name": "stdout",
     "output_type": "stream",
     "text": [
      "Farsite $Rev: 2395 $\n",
      "Number of parallel threads = 4 (omp_get_num_procs = 32).\n",
      "Loading lcp file for Farsite #1: /home/jovyan/farsite/inputs/landscapes/Maria2019.lcp\n",
      "Loading inputs file for Farsite #1: /home/jovyan/data/20221209/Run_00997/config\n",
      "Loading ignition file for Farsite #1: /home/jovyan/data/ignitions/Maria2019U0097.shp\n",
      "Loading barrier file for Farsite #1: /home/jovyan/farsite/inputs/barriers/NoBarrier/NoBarrier.shp\n",
      "Launching Farsite #1\n",
      "Starting time step 0.000000 (maximum = 19)\n",
      "Writing outputs for Farsite #1 to /home/jovyan/data/20221209/Run_00997/out\n"
     ]
    },
    {
     "name": "stderr",
     "output_type": "stream",
     "text": [
      "/home/jovyan/farsite-devAPI/src/farsiteutils_v2.py:177: FutureWarning: The frame.append method is deprecated and will be removed from pandas in a future version. Use pandas.concat instead.\n",
      "  self.gdfsimulation = self.gdfsimulation.append(gdfappend)\n"
     ]
    },
    {
     "name": "stdout",
     "output_type": "stream",
     "text": [
      "Farsite $Rev: 2395 $\n",
      "Number of parallel threads = 4 (omp_get_num_procs = 32).\n",
      "Loading lcp file for Farsite #1: /home/jovyan/farsite/inputs/landscapes/Maria2019.lcp\n",
      "Loading inputs file for Farsite #1: /home/jovyan/data/20221209/Run_00998/config\n",
      "Loading ignition file for Farsite #1: /home/jovyan/data/ignitions/Maria2019U0098.shp\n",
      "Loading barrier file for Farsite #1: /home/jovyan/farsite/inputs/barriers/NoBarrier/NoBarrier.shp\n",
      "Launching Farsite #1\n",
      "Starting time step 0.000000 (maximum = 19)\n",
      "Writing outputs for Farsite #1 to /home/jovyan/data/20221209/Run_00998/out\n"
     ]
    },
    {
     "name": "stderr",
     "output_type": "stream",
     "text": [
      "/home/jovyan/farsite-devAPI/src/farsiteutils_v2.py:177: FutureWarning: The frame.append method is deprecated and will be removed from pandas in a future version. Use pandas.concat instead.\n",
      "  self.gdfsimulation = self.gdfsimulation.append(gdfappend)\n"
     ]
    },
    {
     "name": "stdout",
     "output_type": "stream",
     "text": [
      "Farsite $Rev: 2395 $\n",
      "Number of parallel threads = 4 (omp_get_num_procs = 32).\n",
      "Loading lcp file for Farsite #1: /home/jovyan/farsite/inputs/landscapes/Maria2019.lcp\n",
      "Loading inputs file for Farsite #1: /home/jovyan/data/20221209/Run_00999/config\n",
      "Loading ignition file for Farsite #1: /home/jovyan/data/ignitions/Maria2019U0099.shp\n",
      "Loading barrier file for Farsite #1: /home/jovyan/farsite/inputs/barriers/NoBarrier/NoBarrier.shp\n",
      "Launching Farsite #1\n",
      "Starting time step 0.000000 (maximum = 19)\n",
      "Writing outputs for Farsite #1 to /home/jovyan/data/20221209/Run_00999/out\n",
      "Calculating 29/100 ( 29.00%) - Remaining - 0:0:0...   \r"
     ]
    },
    {
     "name": "stderr",
     "output_type": "stream",
     "text": [
      "/home/jovyan/farsite-devAPI/src/farsiteutils_v2.py:177: FutureWarning: The frame.append method is deprecated and will be removed from pandas in a future version. Use pandas.concat instead.\n",
      "  self.gdfsimulation = self.gdfsimulation.append(gdfappend)\n"
     ]
    },
    {
     "name": "stdout",
     "output_type": "stream",
     "text": [
      "Calculating 99/100 ( 99.00%) - Remaining - 0:0:0...   \r"
     ]
    }
   ],
   "source": [
    "observation = usr.db.gdfignition.iloc[2]\n",
    "compareidx = observation.name    # t=1 observation\n",
    "windspeed = 10\n",
    "winddirection = 90\n",
    "\n",
    "state.update(compareidx, lcpidx, barrieridx, observation, windspeed, winddirection)\n",
    "X_0_lst.append(state.X_0)"
   ]
  },
  {
   "cell_type": "code",
   "execution_count": 14,
   "id": "8c03392f-a9b6-41b2-9eda-9f876d41bf4e",
   "metadata": {},
   "outputs": [
    {
     "data": {
      "text/html": [
       "<div>\n",
       "<style scoped>\n",
       "    .dataframe tbody tr th:only-of-type {\n",
       "        vertical-align: middle;\n",
       "    }\n",
       "\n",
       "    .dataframe tbody tr th {\n",
       "        vertical-align: top;\n",
       "    }\n",
       "\n",
       "    .dataframe thead th {\n",
       "        text-align: right;\n",
       "    }\n",
       "</style>\n",
       "<table border=\"1\" class=\"dataframe\">\n",
       "  <thead>\n",
       "    <tr style=\"text-align: right;\">\n",
       "      <th></th>\n",
       "      <th>filetype</th>\n",
       "      <th>objectid</th>\n",
       "      <th>filepath</th>\n",
       "      <th>datetime</th>\n",
       "      <th>description</th>\n",
       "      <th>geometry</th>\n",
       "    </tr>\n",
       "  </thead>\n",
       "  <tbody>\n",
       "    <tr>\n",
       "      <th>f23196b034474744bdca7df94b13e0f7</th>\n",
       "      <td>Ignition</td>\n",
       "      <td>21231</td>\n",
       "      <td>/home/jovyan/farsite/inputs/maria_ignite/maria...</td>\n",
       "      <td>2019-10-31 19:37:11</td>\n",
       "      <td>Maria2019</td>\n",
       "      <td>POLYGON ((-2084217.148 1503560.461, -2084279.5...</td>\n",
       "    </tr>\n",
       "    <tr>\n",
       "      <th>9f82e870591748a9a8a01346d174f2a1</th>\n",
       "      <td>Ignition</td>\n",
       "      <td>21232</td>\n",
       "      <td>/home/jovyan/farsite/inputs/maria_ignite/maria...</td>\n",
       "      <td>2019-10-31 19:58:22</td>\n",
       "      <td>Maria2019</td>\n",
       "      <td>POLYGON ((-2082034.494 1504548.520, -2081987.6...</td>\n",
       "    </tr>\n",
       "    <tr>\n",
       "      <th>1a6eb30ee33742e18fa6bb26678b5077</th>\n",
       "      <td>Ignition</td>\n",
       "      <td>21234</td>\n",
       "      <td>/home/jovyan/farsite/inputs/maria_ignite/maria...</td>\n",
       "      <td>2019-10-31 20:31:33</td>\n",
       "      <td>Maria2019</td>\n",
       "      <td>POLYGON ((-2082034.494 1504548.520, -2081987.6...</td>\n",
       "    </tr>\n",
       "    <tr>\n",
       "      <th>911f9b001c054b74a6ba70958f5f3c93</th>\n",
       "      <td>Ignition</td>\n",
       "      <td>21235</td>\n",
       "      <td>/home/jovyan/farsite/inputs/maria_ignite/maria...</td>\n",
       "      <td>2019-10-31 20:56:44</td>\n",
       "      <td>Maria2019</td>\n",
       "      <td>POLYGON ((-2082396.219 1505343.939, -2082305.7...</td>\n",
       "    </tr>\n",
       "    <tr>\n",
       "      <th>7957c2e604554199ba60c5b13aff2f40</th>\n",
       "      <td>Ignition</td>\n",
       "      <td>21236</td>\n",
       "      <td>/home/jovyan/farsite/inputs/maria_ignite/maria...</td>\n",
       "      <td>2019-10-31 21:22:55</td>\n",
       "      <td>Maria2019</td>\n",
       "      <td>POLYGON ((-2082598.331 1505371.327, -2082338.5...</td>\n",
       "    </tr>\n",
       "    <tr>\n",
       "      <th>...</th>\n",
       "      <td>...</td>\n",
       "      <td>...</td>\n",
       "      <td>...</td>\n",
       "      <td>...</td>\n",
       "      <td>...</td>\n",
       "      <td>...</td>\n",
       "    </tr>\n",
       "    <tr>\n",
       "      <th>d4608b219d214ab49e80afdd362f0eca</th>\n",
       "      <td>Ignition</td>\n",
       "      <td>21234E0095U0095</td>\n",
       "      <td>/home/jovyan/data/ignitions/Maria2019U0095.shp</td>\n",
       "      <td>2019-10-31 20:31:33</td>\n",
       "      <td>Maria2019</td>\n",
       "      <td>POLYGON ((-2084963.597 1503403.959, -2084991.5...</td>\n",
       "    </tr>\n",
       "    <tr>\n",
       "      <th>a1ff9a289ffc4c6bb0f58277b96f5494</th>\n",
       "      <td>Ignition</td>\n",
       "      <td>21234E0096U0096</td>\n",
       "      <td>/home/jovyan/data/ignitions/Maria2019U0096.shp</td>\n",
       "      <td>2019-10-31 20:31:33</td>\n",
       "      <td>Maria2019</td>\n",
       "      <td>POLYGON ((-2085368.854 1504982.879, -2085409.8...</td>\n",
       "    </tr>\n",
       "    <tr>\n",
       "      <th>40fdfc3ec0a0405d9b7b0a592cb4f3c8</th>\n",
       "      <td>Ignition</td>\n",
       "      <td>21234E0097U0097</td>\n",
       "      <td>/home/jovyan/data/ignitions/Maria2019U0097.shp</td>\n",
       "      <td>2019-10-31 20:31:33</td>\n",
       "      <td>Maria2019</td>\n",
       "      <td>POLYGON ((-2085015.632 1504659.704, -2084977.9...</td>\n",
       "    </tr>\n",
       "    <tr>\n",
       "      <th>97f31c345f3f4ace8858dc9887311e06</th>\n",
       "      <td>Ignition</td>\n",
       "      <td>21234E0098U0098</td>\n",
       "      <td>/home/jovyan/data/ignitions/Maria2019U0098.shp</td>\n",
       "      <td>2019-10-31 20:31:33</td>\n",
       "      <td>Maria2019</td>\n",
       "      <td>POLYGON ((-2085485.833 1504899.254, -2085663.1...</td>\n",
       "    </tr>\n",
       "    <tr>\n",
       "      <th>2cca1abb37e84d67b88b7188294fcbfa</th>\n",
       "      <td>Ignition</td>\n",
       "      <td>21234E0099U0099</td>\n",
       "      <td>/home/jovyan/data/ignitions/Maria2019U0099.shp</td>\n",
       "      <td>2019-10-31 20:31:33</td>\n",
       "      <td>Maria2019</td>\n",
       "      <td>POLYGON ((-2084705.842 1504124.471, -2084779.1...</td>\n",
       "    </tr>\n",
       "  </tbody>\n",
       "</table>\n",
       "<p>320 rows × 6 columns</p>\n",
       "</div>"
      ],
      "text/plain": [
       "                                  filetype         objectid  \\\n",
       "f23196b034474744bdca7df94b13e0f7  Ignition            21231   \n",
       "9f82e870591748a9a8a01346d174f2a1  Ignition            21232   \n",
       "1a6eb30ee33742e18fa6bb26678b5077  Ignition            21234   \n",
       "911f9b001c054b74a6ba70958f5f3c93  Ignition            21235   \n",
       "7957c2e604554199ba60c5b13aff2f40  Ignition            21236   \n",
       "...                                    ...              ...   \n",
       "d4608b219d214ab49e80afdd362f0eca  Ignition  21234E0095U0095   \n",
       "a1ff9a289ffc4c6bb0f58277b96f5494  Ignition  21234E0096U0096   \n",
       "40fdfc3ec0a0405d9b7b0a592cb4f3c8  Ignition  21234E0097U0097   \n",
       "97f31c345f3f4ace8858dc9887311e06  Ignition  21234E0098U0098   \n",
       "2cca1abb37e84d67b88b7188294fcbfa  Ignition  21234E0099U0099   \n",
       "\n",
       "                                                                           filepath  \\\n",
       "f23196b034474744bdca7df94b13e0f7  /home/jovyan/farsite/inputs/maria_ignite/maria...   \n",
       "9f82e870591748a9a8a01346d174f2a1  /home/jovyan/farsite/inputs/maria_ignite/maria...   \n",
       "1a6eb30ee33742e18fa6bb26678b5077  /home/jovyan/farsite/inputs/maria_ignite/maria...   \n",
       "911f9b001c054b74a6ba70958f5f3c93  /home/jovyan/farsite/inputs/maria_ignite/maria...   \n",
       "7957c2e604554199ba60c5b13aff2f40  /home/jovyan/farsite/inputs/maria_ignite/maria...   \n",
       "...                                                                             ...   \n",
       "d4608b219d214ab49e80afdd362f0eca     /home/jovyan/data/ignitions/Maria2019U0095.shp   \n",
       "a1ff9a289ffc4c6bb0f58277b96f5494     /home/jovyan/data/ignitions/Maria2019U0096.shp   \n",
       "40fdfc3ec0a0405d9b7b0a592cb4f3c8     /home/jovyan/data/ignitions/Maria2019U0097.shp   \n",
       "97f31c345f3f4ace8858dc9887311e06     /home/jovyan/data/ignitions/Maria2019U0098.shp   \n",
       "2cca1abb37e84d67b88b7188294fcbfa     /home/jovyan/data/ignitions/Maria2019U0099.shp   \n",
       "\n",
       "                                             datetime description  \\\n",
       "f23196b034474744bdca7df94b13e0f7  2019-10-31 19:37:11   Maria2019   \n",
       "9f82e870591748a9a8a01346d174f2a1  2019-10-31 19:58:22   Maria2019   \n",
       "1a6eb30ee33742e18fa6bb26678b5077  2019-10-31 20:31:33   Maria2019   \n",
       "911f9b001c054b74a6ba70958f5f3c93  2019-10-31 20:56:44   Maria2019   \n",
       "7957c2e604554199ba60c5b13aff2f40  2019-10-31 21:22:55   Maria2019   \n",
       "...                                               ...         ...   \n",
       "d4608b219d214ab49e80afdd362f0eca  2019-10-31 20:31:33   Maria2019   \n",
       "a1ff9a289ffc4c6bb0f58277b96f5494  2019-10-31 20:31:33   Maria2019   \n",
       "40fdfc3ec0a0405d9b7b0a592cb4f3c8  2019-10-31 20:31:33   Maria2019   \n",
       "97f31c345f3f4ace8858dc9887311e06  2019-10-31 20:31:33   Maria2019   \n",
       "2cca1abb37e84d67b88b7188294fcbfa  2019-10-31 20:31:33   Maria2019   \n",
       "\n",
       "                                                                           geometry  \n",
       "f23196b034474744bdca7df94b13e0f7  POLYGON ((-2084217.148 1503560.461, -2084279.5...  \n",
       "9f82e870591748a9a8a01346d174f2a1  POLYGON ((-2082034.494 1504548.520, -2081987.6...  \n",
       "1a6eb30ee33742e18fa6bb26678b5077  POLYGON ((-2082034.494 1504548.520, -2081987.6...  \n",
       "911f9b001c054b74a6ba70958f5f3c93  POLYGON ((-2082396.219 1505343.939, -2082305.7...  \n",
       "7957c2e604554199ba60c5b13aff2f40  POLYGON ((-2082598.331 1505371.327, -2082338.5...  \n",
       "...                                                                             ...  \n",
       "d4608b219d214ab49e80afdd362f0eca  POLYGON ((-2084963.597 1503403.959, -2084991.5...  \n",
       "a1ff9a289ffc4c6bb0f58277b96f5494  POLYGON ((-2085368.854 1504982.879, -2085409.8...  \n",
       "40fdfc3ec0a0405d9b7b0a592cb4f3c8  POLYGON ((-2085015.632 1504659.704, -2084977.9...  \n",
       "97f31c345f3f4ace8858dc9887311e06  POLYGON ((-2085485.833 1504899.254, -2085663.1...  \n",
       "2cca1abb37e84d67b88b7188294fcbfa  POLYGON ((-2084705.842 1504124.471, -2084779.1...  \n",
       "\n",
       "[320 rows x 6 columns]"
      ]
     },
     "execution_count": 14,
     "metadata": {},
     "output_type": "execute_result"
    }
   ],
   "source": [
    "state.usr.db.gdfignition"
   ]
  },
  {
   "cell_type": "code",
   "execution_count": 15,
   "id": "b3b6966e-1c5d-4789-9ccd-8647d7719de2",
   "metadata": {},
   "outputs": [],
   "source": [
    "# ax = compare_matrices(state.X_0[:,10:20], showvertex=90)\n",
    "# ax.plot(state.current_state.vertices[:,0], state.current_state.vertices[:,1],'k--')"
   ]
  },
  {
   "cell_type": "code",
   "execution_count": 16,
   "id": "3c7496ed-1a3a-4c49-b456-6ac7a1a39ef3",
   "metadata": {
    "scrolled": true,
    "tags": []
   },
   "outputs": [
    {
     "name": "stdout",
     "output_type": "stream",
     "text": [
      "{'description': 'Maria2019', 'igniteidx': '1a45af0e78474861bee6ed368c21f79f', 'compareidx': '911f9b001c054b74a6ba70958f5f3c93', 'lcpidx': '43b7f5db36994599861eec4849cc68fd', 'barrieridx': 'cb47616cd2dc4ccc8fd523bd3a5064bb', 'windspeed': 10, 'winddirection': 90, 'relhumid': 90, 'temperature': 20}\n",
      "Choosing a perimeter from the database\n",
      "{'description': 'Maria2019', 'igniteidx': 'de3ca5ddbb1c40858ea5289afd4619ad', 'compareidx': '911f9b001c054b74a6ba70958f5f3c93', 'lcpidx': '43b7f5db36994599861eec4849cc68fd', 'barrieridx': 'cb47616cd2dc4ccc8fd523bd3a5064bb', 'windspeed': 10, 'winddirection': 90, 'relhumid': 90, 'temperature': 20}\n",
      "Choosing a perimeter from the database\n",
      "{'description': 'Maria2019', 'igniteidx': 'ce0a1f7fba3b40b48c4a7777bd861cd2', 'compareidx': '911f9b001c054b74a6ba70958f5f3c93', 'lcpidx': '43b7f5db36994599861eec4849cc68fd', 'barrieridx': 'cb47616cd2dc4ccc8fd523bd3a5064bb', 'windspeed': 10, 'winddirection': 90, 'relhumid': 90, 'temperature': 20}\n",
      "Choosing a perimeter from the database\n",
      "{'description': 'Maria2019', 'igniteidx': '645a9c6940944f92a9d736fdee43d790', 'compareidx': '911f9b001c054b74a6ba70958f5f3c93', 'lcpidx': '43b7f5db36994599861eec4849cc68fd', 'barrieridx': 'cb47616cd2dc4ccc8fd523bd3a5064bb', 'windspeed': 10, 'winddirection': 90, 'relhumid': 90, 'temperature': 20}\n",
      "Choosing a perimeter from the database\n",
      "{'description': 'Maria2019', 'igniteidx': '035be637c11041e9bb05f9f4b07db2fc', 'compareidx': '911f9b001c054b74a6ba70958f5f3c93', 'lcpidx': '43b7f5db36994599861eec4849cc68fd', 'barrieridx': 'cb47616cd2dc4ccc8fd523bd3a5064bb', 'windspeed': 10, 'winddirection': 90, 'relhumid': 90, 'temperature': 20}\n",
      "Choosing a perimeter from the database\n",
      "{'description': 'Maria2019', 'igniteidx': 'e60e036d7c714bd0b02bd89c53e5f1d0', 'compareidx': '911f9b001c054b74a6ba70958f5f3c93', 'lcpidx': '43b7f5db36994599861eec4849cc68fd', 'barrieridx': 'cb47616cd2dc4ccc8fd523bd3a5064bb', 'windspeed': 10, 'winddirection': 90, 'relhumid': 90, 'temperature': 20}\n",
      "Choosing a perimeter from the database\n",
      "{'description': 'Maria2019', 'igniteidx': '4bb0f2da7f50481c88f8f9b5f6223021', 'compareidx': '911f9b001c054b74a6ba70958f5f3c93', 'lcpidx': '43b7f5db36994599861eec4849cc68fd', 'barrieridx': 'cb47616cd2dc4ccc8fd523bd3a5064bb', 'windspeed': 10, 'winddirection': 90, 'relhumid': 90, 'temperature': 20}\n",
      "Choosing a perimeter from the database\n",
      "{'description': 'Maria2019', 'igniteidx': 'ef725f9b6da6499d855806bf1e3a9fa1', 'compareidx': '911f9b001c054b74a6ba70958f5f3c93', 'lcpidx': '43b7f5db36994599861eec4849cc68fd', 'barrieridx': 'cb47616cd2dc4ccc8fd523bd3a5064bb', 'windspeed': 10, 'winddirection': 90, 'relhumid': 90, 'temperature': 20}\n",
      "Choosing a perimeter from the database\n",
      "{'description': 'Maria2019', 'igniteidx': '55e0656da85d43818471fe6b66dde145', 'compareidx': '911f9b001c054b74a6ba70958f5f3c93', 'lcpidx': '43b7f5db36994599861eec4849cc68fd', 'barrieridx': 'cb47616cd2dc4ccc8fd523bd3a5064bb', 'windspeed': 10, 'winddirection': 90, 'relhumid': 90, 'temperature': 20}\n",
      "Choosing a perimeter from the database\n",
      "{'description': 'Maria2019', 'igniteidx': '1f3beaae8d6f4ce3a0f0429997b2e938', 'compareidx': '911f9b001c054b74a6ba70958f5f3c93', 'lcpidx': '43b7f5db36994599861eec4849cc68fd', 'barrieridx': 'cb47616cd2dc4ccc8fd523bd3a5064bb', 'windspeed': 10, 'winddirection': 90, 'relhumid': 90, 'temperature': 20}\n",
      "Choosing a perimeter from the database\n",
      "{'description': 'Maria2019', 'igniteidx': '7a1806ac91644f6ea2d2c8365e43cc5d', 'compareidx': '911f9b001c054b74a6ba70958f5f3c93', 'lcpidx': '43b7f5db36994599861eec4849cc68fd', 'barrieridx': 'cb47616cd2dc4ccc8fd523bd3a5064bb', 'windspeed': 10, 'winddirection': 90, 'relhumid': 90, 'temperature': 20}\n",
      "Choosing a perimeter from the database\n",
      "{'description': 'Maria2019', 'igniteidx': '54826e6ad3ba48919ec34cfa92e1969f', 'compareidx': '911f9b001c054b74a6ba70958f5f3c93', 'lcpidx': '43b7f5db36994599861eec4849cc68fd', 'barrieridx': 'cb47616cd2dc4ccc8fd523bd3a5064bb', 'windspeed': 10, 'winddirection': 90, 'relhumid': 90, 'temperature': 20}\n",
      "Choosing a perimeter from the database\n",
      "{'description': 'Maria2019', 'igniteidx': '4337e33c7fa9497e90689b053b21a604', 'compareidx': '911f9b001c054b74a6ba70958f5f3c93', 'lcpidx': '43b7f5db36994599861eec4849cc68fd', 'barrieridx': 'cb47616cd2dc4ccc8fd523bd3a5064bb', 'windspeed': 10, 'winddirection': 90, 'relhumid': 90, 'temperature': 20}\n",
      "Choosing a perimeter from the database\n",
      "{'description': 'Maria2019', 'igniteidx': 'ca8d95ad5f1e432c93c5db12acd3970f', 'compareidx': '911f9b001c054b74a6ba70958f5f3c93', 'lcpidx': '43b7f5db36994599861eec4849cc68fd', 'barrieridx': 'cb47616cd2dc4ccc8fd523bd3a5064bb', 'windspeed': 10, 'winddirection': 90, 'relhumid': 90, 'temperature': 20}\n",
      "Choosing a perimeter from the database\n",
      "{'description': 'Maria2019', 'igniteidx': '43e110da62a4411da4ae452eece99856', 'compareidx': '911f9b001c054b74a6ba70958f5f3c93', 'lcpidx': '43b7f5db36994599861eec4849cc68fd', 'barrieridx': 'cb47616cd2dc4ccc8fd523bd3a5064bb', 'windspeed': 10, 'winddirection': 90, 'relhumid': 90, 'temperature': 20}\n",
      "Choosing a perimeter from the database\n",
      "{'description': 'Maria2019', 'igniteidx': 'b7ad5abdc931439281ad442bc3fb59c2', 'compareidx': '911f9b001c054b74a6ba70958f5f3c93', 'lcpidx': '43b7f5db36994599861eec4849cc68fd', 'barrieridx': 'cb47616cd2dc4ccc8fd523bd3a5064bb', 'windspeed': 10, 'winddirection': 90, 'relhumid': 90, 'temperature': 20}\n",
      "Choosing a perimeter from the database\n",
      "{'description': 'Maria2019', 'igniteidx': 'ba9d6126f82849828d7c5497127b2183', 'compareidx': '911f9b001c054b74a6ba70958f5f3c93', 'lcpidx': '43b7f5db36994599861eec4849cc68fd', 'barrieridx': 'cb47616cd2dc4ccc8fd523bd3a5064bb', 'windspeed': 10, 'winddirection': 90, 'relhumid': 90, 'temperature': 20}\n",
      "Choosing a perimeter from the database\n",
      "{'description': 'Maria2019', 'igniteidx': '5515f12485c74011a6cfdc3cbc729105', 'compareidx': '911f9b001c054b74a6ba70958f5f3c93', 'lcpidx': '43b7f5db36994599861eec4849cc68fd', 'barrieridx': 'cb47616cd2dc4ccc8fd523bd3a5064bb', 'windspeed': 10, 'winddirection': 90, 'relhumid': 90, 'temperature': 20}\n",
      "Choosing a perimeter from the database\n",
      "{'description': 'Maria2019', 'igniteidx': '85b708a360594daca715cf32abbdaf15', 'compareidx': '911f9b001c054b74a6ba70958f5f3c93', 'lcpidx': '43b7f5db36994599861eec4849cc68fd', 'barrieridx': 'cb47616cd2dc4ccc8fd523bd3a5064bb', 'windspeed': 10, 'winddirection': 90, 'relhumid': 90, 'temperature': 20}\n",
      "Choosing a perimeter from the database\n",
      "{'description': 'Maria2019', 'igniteidx': '101e518b4a9e46e9a642c83891b26ccd', 'compareidx': '911f9b001c054b74a6ba70958f5f3c93', 'lcpidx': '43b7f5db36994599861eec4849cc68fd', 'barrieridx': 'cb47616cd2dc4ccc8fd523bd3a5064bb', 'windspeed': 10, 'winddirection': 90, 'relhumid': 90, 'temperature': 20}\n",
      "Choosing a perimeter from the database\n",
      "{'description': 'Maria2019', 'igniteidx': '99a499d385874c8f885e4a0b5e3b8204', 'compareidx': '911f9b001c054b74a6ba70958f5f3c93', 'lcpidx': '43b7f5db36994599861eec4849cc68fd', 'barrieridx': 'cb47616cd2dc4ccc8fd523bd3a5064bb', 'windspeed': 10, 'winddirection': 90, 'relhumid': 90, 'temperature': 20}\n",
      "Choosing a perimeter from the database\n",
      "{'description': 'Maria2019', 'igniteidx': '501653a0ae7f4cb3a923c9db50ca8e3c', 'compareidx': '911f9b001c054b74a6ba70958f5f3c93', 'lcpidx': '43b7f5db36994599861eec4849cc68fd', 'barrieridx': 'cb47616cd2dc4ccc8fd523bd3a5064bb', 'windspeed': 10, 'winddirection': 90, 'relhumid': 90, 'temperature': 20}\n",
      "Choosing a perimeter from the database\n",
      "{'description': 'Maria2019', 'igniteidx': 'aaf1609fc4da410eab586280fd684db5', 'compareidx': '911f9b001c054b74a6ba70958f5f3c93', 'lcpidx': '43b7f5db36994599861eec4849cc68fd', 'barrieridx': 'cb47616cd2dc4ccc8fd523bd3a5064bb', 'windspeed': 10, 'winddirection': 90, 'relhumid': 90, 'temperature': 20}\n",
      "Choosing a perimeter from the database\n",
      "{'description': 'Maria2019', 'igniteidx': 'f47003d04ae0486e8b643bbdaa761092', 'compareidx': '911f9b001c054b74a6ba70958f5f3c93', 'lcpidx': '43b7f5db36994599861eec4849cc68fd', 'barrieridx': 'cb47616cd2dc4ccc8fd523bd3a5064bb', 'windspeed': 10, 'winddirection': 90, 'relhumid': 90, 'temperature': 20}\n",
      "Choosing a perimeter from the database\n",
      "{'description': 'Maria2019', 'igniteidx': '485e01d6347c43689b867f715e35df55', 'compareidx': '911f9b001c054b74a6ba70958f5f3c93', 'lcpidx': '43b7f5db36994599861eec4849cc68fd', 'barrieridx': 'cb47616cd2dc4ccc8fd523bd3a5064bb', 'windspeed': 10, 'winddirection': 90, 'relhumid': 90, 'temperature': 20}\n",
      "Choosing a perimeter from the database\n",
      "{'description': 'Maria2019', 'igniteidx': 'b94a5f52d9c145ff81e135120d84d6ce', 'compareidx': '911f9b001c054b74a6ba70958f5f3c93', 'lcpidx': '43b7f5db36994599861eec4849cc68fd', 'barrieridx': 'cb47616cd2dc4ccc8fd523bd3a5064bb', 'windspeed': 10, 'winddirection': 90, 'relhumid': 90, 'temperature': 20}\n",
      "Choosing a perimeter from the database\n",
      "{'description': 'Maria2019', 'igniteidx': 'f7bfa32559ad4177a4a3c98f7b0543da', 'compareidx': '911f9b001c054b74a6ba70958f5f3c93', 'lcpidx': '43b7f5db36994599861eec4849cc68fd', 'barrieridx': 'cb47616cd2dc4ccc8fd523bd3a5064bb', 'windspeed': 10, 'winddirection': 90, 'relhumid': 90, 'temperature': 20}\n",
      "Choosing a perimeter from the database\n",
      "{'description': 'Maria2019', 'igniteidx': '8a1defefc9b74ee6a429f62e583770ad', 'compareidx': '911f9b001c054b74a6ba70958f5f3c93', 'lcpidx': '43b7f5db36994599861eec4849cc68fd', 'barrieridx': 'cb47616cd2dc4ccc8fd523bd3a5064bb', 'windspeed': 10, 'winddirection': 90, 'relhumid': 90, 'temperature': 20}\n",
      "Choosing a perimeter from the database\n",
      "{'description': 'Maria2019', 'igniteidx': 'af3f817db9de49629c411f9521e0366f', 'compareidx': '911f9b001c054b74a6ba70958f5f3c93', 'lcpidx': '43b7f5db36994599861eec4849cc68fd', 'barrieridx': 'cb47616cd2dc4ccc8fd523bd3a5064bb', 'windspeed': 10, 'winddirection': 90, 'relhumid': 90, 'temperature': 20}\n",
      "Choosing a perimeter from the database\n",
      "{'description': 'Maria2019', 'igniteidx': 'bbce4717ee144b00b0bcf1431585c943', 'compareidx': '911f9b001c054b74a6ba70958f5f3c93', 'lcpidx': '43b7f5db36994599861eec4849cc68fd', 'barrieridx': 'cb47616cd2dc4ccc8fd523bd3a5064bb', 'windspeed': 10, 'winddirection': 90, 'relhumid': 90, 'temperature': 20}\n",
      "Choosing a perimeter from the database\n",
      "{'description': 'Maria2019', 'igniteidx': 'bd20d08e56404a948e9237e0da895b22', 'compareidx': '911f9b001c054b74a6ba70958f5f3c93', 'lcpidx': '43b7f5db36994599861eec4849cc68fd', 'barrieridx': 'cb47616cd2dc4ccc8fd523bd3a5064bb', 'windspeed': 10, 'winddirection': 90, 'relhumid': 90, 'temperature': 20}\n",
      "Choosing a perimeter from the database\n",
      "{'description': 'Maria2019', 'igniteidx': '6b6614e28d0c437ebdcff3ac17effe42', 'compareidx': '911f9b001c054b74a6ba70958f5f3c93', 'lcpidx': '43b7f5db36994599861eec4849cc68fd', 'barrieridx': 'cb47616cd2dc4ccc8fd523bd3a5064bb', 'windspeed': 10, 'winddirection': 90, 'relhumid': 90, 'temperature': 20}\n",
      "Choosing a perimeter from the database\n",
      "{'description': 'Maria2019', 'igniteidx': 'c57e5a20a0b2488cb8799d6fc161749d', 'compareidx': '911f9b001c054b74a6ba70958f5f3c93', 'lcpidx': '43b7f5db36994599861eec4849cc68fd', 'barrieridx': 'cb47616cd2dc4ccc8fd523bd3a5064bb', 'windspeed': 10, 'winddirection': 90, 'relhumid': 90, 'temperature': 20}\n",
      "Choosing a perimeter from the database\n",
      "{'description': 'Maria2019', 'igniteidx': '5be273def6fb45cf9f414b449be92365', 'compareidx': '911f9b001c054b74a6ba70958f5f3c93', 'lcpidx': '43b7f5db36994599861eec4849cc68fd', 'barrieridx': 'cb47616cd2dc4ccc8fd523bd3a5064bb', 'windspeed': 10, 'winddirection': 90, 'relhumid': 90, 'temperature': 20}\n",
      "Choosing a perimeter from the database\n",
      "{'description': 'Maria2019', 'igniteidx': '7b633592a946464fbcdc0b09966e2370', 'compareidx': '911f9b001c054b74a6ba70958f5f3c93', 'lcpidx': '43b7f5db36994599861eec4849cc68fd', 'barrieridx': 'cb47616cd2dc4ccc8fd523bd3a5064bb', 'windspeed': 10, 'winddirection': 90, 'relhumid': 90, 'temperature': 20}\n",
      "Choosing a perimeter from the database\n",
      "{'description': 'Maria2019', 'igniteidx': '8b246f886f3749e5933dce87c1b76e6c', 'compareidx': '911f9b001c054b74a6ba70958f5f3c93', 'lcpidx': '43b7f5db36994599861eec4849cc68fd', 'barrieridx': 'cb47616cd2dc4ccc8fd523bd3a5064bb', 'windspeed': 10, 'winddirection': 90, 'relhumid': 90, 'temperature': 20}\n",
      "Choosing a perimeter from the database\n",
      "{'description': 'Maria2019', 'igniteidx': '7543582cbf0443c0b12445e81833756a', 'compareidx': '911f9b001c054b74a6ba70958f5f3c93', 'lcpidx': '43b7f5db36994599861eec4849cc68fd', 'barrieridx': 'cb47616cd2dc4ccc8fd523bd3a5064bb', 'windspeed': 10, 'winddirection': 90, 'relhumid': 90, 'temperature': 20}\n",
      "Choosing a perimeter from the database\n",
      "{'description': 'Maria2019', 'igniteidx': '21a1aac05f0540e9bf6b8f668c60ac89', 'compareidx': '911f9b001c054b74a6ba70958f5f3c93', 'lcpidx': '43b7f5db36994599861eec4849cc68fd', 'barrieridx': 'cb47616cd2dc4ccc8fd523bd3a5064bb', 'windspeed': 10, 'winddirection': 90, 'relhumid': 90, 'temperature': 20}\n",
      "Choosing a perimeter from the database\n",
      "{'description': 'Maria2019', 'igniteidx': '558d86d854444da4880b64ba1aaa93fd', 'compareidx': '911f9b001c054b74a6ba70958f5f3c93', 'lcpidx': '43b7f5db36994599861eec4849cc68fd', 'barrieridx': 'cb47616cd2dc4ccc8fd523bd3a5064bb', 'windspeed': 10, 'winddirection': 90, 'relhumid': 90, 'temperature': 20}\n",
      "Choosing a perimeter from the database\n",
      "{'description': 'Maria2019', 'igniteidx': 'b7aa02c6186344449033d3e33fa74582', 'compareidx': '911f9b001c054b74a6ba70958f5f3c93', 'lcpidx': '43b7f5db36994599861eec4849cc68fd', 'barrieridx': 'cb47616cd2dc4ccc8fd523bd3a5064bb', 'windspeed': 10, 'winddirection': 90, 'relhumid': 90, 'temperature': 20}\n",
      "Choosing a perimeter from the database\n",
      "{'description': 'Maria2019', 'igniteidx': 'fd39e41e51ec4c26b90d8481dc6e3ecc', 'compareidx': '911f9b001c054b74a6ba70958f5f3c93', 'lcpidx': '43b7f5db36994599861eec4849cc68fd', 'barrieridx': 'cb47616cd2dc4ccc8fd523bd3a5064bb', 'windspeed': 10, 'winddirection': 90, 'relhumid': 90, 'temperature': 20}\n",
      "Choosing a perimeter from the database\n",
      "{'description': 'Maria2019', 'igniteidx': 'cffe1dfffd134ba3a48d1bab78304912', 'compareidx': '911f9b001c054b74a6ba70958f5f3c93', 'lcpidx': '43b7f5db36994599861eec4849cc68fd', 'barrieridx': 'cb47616cd2dc4ccc8fd523bd3a5064bb', 'windspeed': 10, 'winddirection': 90, 'relhumid': 90, 'temperature': 20}\n",
      "Choosing a perimeter from the database\n",
      "{'description': 'Maria2019', 'igniteidx': '23c70b5a98a1458b9dd8c57e200c7a0a', 'compareidx': '911f9b001c054b74a6ba70958f5f3c93', 'lcpidx': '43b7f5db36994599861eec4849cc68fd', 'barrieridx': 'cb47616cd2dc4ccc8fd523bd3a5064bb', 'windspeed': 10, 'winddirection': 90, 'relhumid': 90, 'temperature': 20}\n",
      "Choosing a perimeter from the database\n",
      "{'description': 'Maria2019', 'igniteidx': 'd118fc445e45468e8374f85f98518b8e', 'compareidx': '911f9b001c054b74a6ba70958f5f3c93', 'lcpidx': '43b7f5db36994599861eec4849cc68fd', 'barrieridx': 'cb47616cd2dc4ccc8fd523bd3a5064bb', 'windspeed': 10, 'winddirection': 90, 'relhumid': 90, 'temperature': 20}\n",
      "Choosing a perimeter from the database\n",
      "{'description': 'Maria2019', 'igniteidx': 'd18cca740a774f549312498e96fac0a1', 'compareidx': '911f9b001c054b74a6ba70958f5f3c93', 'lcpidx': '43b7f5db36994599861eec4849cc68fd', 'barrieridx': 'cb47616cd2dc4ccc8fd523bd3a5064bb', 'windspeed': 10, 'winddirection': 90, 'relhumid': 90, 'temperature': 20}\n",
      "Choosing a perimeter from the database\n",
      "{'description': 'Maria2019', 'igniteidx': 'b7b39d851a6c41d9b33818ec7791293f', 'compareidx': '911f9b001c054b74a6ba70958f5f3c93', 'lcpidx': '43b7f5db36994599861eec4849cc68fd', 'barrieridx': 'cb47616cd2dc4ccc8fd523bd3a5064bb', 'windspeed': 10, 'winddirection': 90, 'relhumid': 90, 'temperature': 20}\n",
      "Choosing a perimeter from the database\n",
      "{'description': 'Maria2019', 'igniteidx': '55da8ceb619c42d384af076588f925bb', 'compareidx': '911f9b001c054b74a6ba70958f5f3c93', 'lcpidx': '43b7f5db36994599861eec4849cc68fd', 'barrieridx': 'cb47616cd2dc4ccc8fd523bd3a5064bb', 'windspeed': 10, 'winddirection': 90, 'relhumid': 90, 'temperature': 20}\n",
      "Choosing a perimeter from the database\n",
      "{'description': 'Maria2019', 'igniteidx': 'a5e3a6cae9c54678abacc4974b4e0f0f', 'compareidx': '911f9b001c054b74a6ba70958f5f3c93', 'lcpidx': '43b7f5db36994599861eec4849cc68fd', 'barrieridx': 'cb47616cd2dc4ccc8fd523bd3a5064bb', 'windspeed': 10, 'winddirection': 90, 'relhumid': 90, 'temperature': 20}\n",
      "Choosing a perimeter from the database\n",
      "{'description': 'Maria2019', 'igniteidx': 'a4391188220a474684059de564c433ee', 'compareidx': '911f9b001c054b74a6ba70958f5f3c93', 'lcpidx': '43b7f5db36994599861eec4849cc68fd', 'barrieridx': 'cb47616cd2dc4ccc8fd523bd3a5064bb', 'windspeed': 10, 'winddirection': 90, 'relhumid': 90, 'temperature': 20}\n",
      "Choosing a perimeter from the database\n",
      "{'description': 'Maria2019', 'igniteidx': '59f21c16cca0490eb836af5c0cbb09e3', 'compareidx': '911f9b001c054b74a6ba70958f5f3c93', 'lcpidx': '43b7f5db36994599861eec4849cc68fd', 'barrieridx': 'cb47616cd2dc4ccc8fd523bd3a5064bb', 'windspeed': 10, 'winddirection': 90, 'relhumid': 90, 'temperature': 20}\n",
      "Choosing a perimeter from the database\n",
      "{'description': 'Maria2019', 'igniteidx': '6f8bb28f5f364fa3ac8132b322cccd2b', 'compareidx': '911f9b001c054b74a6ba70958f5f3c93', 'lcpidx': '43b7f5db36994599861eec4849cc68fd', 'barrieridx': 'cb47616cd2dc4ccc8fd523bd3a5064bb', 'windspeed': 10, 'winddirection': 90, 'relhumid': 90, 'temperature': 20}\n",
      "Choosing a perimeter from the database\n",
      "{'description': 'Maria2019', 'igniteidx': 'f601ea06aadb40f8981db6d75ab22f81', 'compareidx': '911f9b001c054b74a6ba70958f5f3c93', 'lcpidx': '43b7f5db36994599861eec4849cc68fd', 'barrieridx': 'cb47616cd2dc4ccc8fd523bd3a5064bb', 'windspeed': 10, 'winddirection': 90, 'relhumid': 90, 'temperature': 20}\n",
      "Choosing a perimeter from the database\n",
      "{'description': 'Maria2019', 'igniteidx': 'c5602df9ebb74fca912bf7c81166e572', 'compareidx': '911f9b001c054b74a6ba70958f5f3c93', 'lcpidx': '43b7f5db36994599861eec4849cc68fd', 'barrieridx': 'cb47616cd2dc4ccc8fd523bd3a5064bb', 'windspeed': 10, 'winddirection': 90, 'relhumid': 90, 'temperature': 20}\n",
      "Choosing a perimeter from the database\n",
      "{'description': 'Maria2019', 'igniteidx': '4fe5a8f179fc4292b48d26c72d17387f', 'compareidx': '911f9b001c054b74a6ba70958f5f3c93', 'lcpidx': '43b7f5db36994599861eec4849cc68fd', 'barrieridx': 'cb47616cd2dc4ccc8fd523bd3a5064bb', 'windspeed': 10, 'winddirection': 90, 'relhumid': 90, 'temperature': 20}\n",
      "Choosing a perimeter from the database\n",
      "{'description': 'Maria2019', 'igniteidx': '43cc8ea3a84f4be48f12f0d0d6607278', 'compareidx': '911f9b001c054b74a6ba70958f5f3c93', 'lcpidx': '43b7f5db36994599861eec4849cc68fd', 'barrieridx': 'cb47616cd2dc4ccc8fd523bd3a5064bb', 'windspeed': 10, 'winddirection': 90, 'relhumid': 90, 'temperature': 20}\n",
      "Choosing a perimeter from the database\n",
      "{'description': 'Maria2019', 'igniteidx': 'bfa28053c3374ff4ac39f8a86d671fc7', 'compareidx': '911f9b001c054b74a6ba70958f5f3c93', 'lcpidx': '43b7f5db36994599861eec4849cc68fd', 'barrieridx': 'cb47616cd2dc4ccc8fd523bd3a5064bb', 'windspeed': 10, 'winddirection': 90, 'relhumid': 90, 'temperature': 20}\n",
      "Choosing a perimeter from the database\n",
      "{'description': 'Maria2019', 'igniteidx': '4c1934b2212c4528ad17bfbcb3866eaf', 'compareidx': '911f9b001c054b74a6ba70958f5f3c93', 'lcpidx': '43b7f5db36994599861eec4849cc68fd', 'barrieridx': 'cb47616cd2dc4ccc8fd523bd3a5064bb', 'windspeed': 10, 'winddirection': 90, 'relhumid': 90, 'temperature': 20}\n",
      "Choosing a perimeter from the database\n",
      "{'description': 'Maria2019', 'igniteidx': '15893e083e474a00a7c181134722a0b3', 'compareidx': '911f9b001c054b74a6ba70958f5f3c93', 'lcpidx': '43b7f5db36994599861eec4849cc68fd', 'barrieridx': 'cb47616cd2dc4ccc8fd523bd3a5064bb', 'windspeed': 10, 'winddirection': 90, 'relhumid': 90, 'temperature': 20}\n",
      "Choosing a perimeter from the database\n",
      "{'description': 'Maria2019', 'igniteidx': '307a9305fe4347b9a4d936be8337cb34', 'compareidx': '911f9b001c054b74a6ba70958f5f3c93', 'lcpidx': '43b7f5db36994599861eec4849cc68fd', 'barrieridx': 'cb47616cd2dc4ccc8fd523bd3a5064bb', 'windspeed': 10, 'winddirection': 90, 'relhumid': 90, 'temperature': 20}\n",
      "Choosing a perimeter from the database\n",
      "{'description': 'Maria2019', 'igniteidx': 'e76c822528f4443fb58c33ab23a6b7ff', 'compareidx': '911f9b001c054b74a6ba70958f5f3c93', 'lcpidx': '43b7f5db36994599861eec4849cc68fd', 'barrieridx': 'cb47616cd2dc4ccc8fd523bd3a5064bb', 'windspeed': 10, 'winddirection': 90, 'relhumid': 90, 'temperature': 20}\n",
      "Choosing a perimeter from the database\n",
      "{'description': 'Maria2019', 'igniteidx': '58ff6e7ce1504c0098e019683922630f', 'compareidx': '911f9b001c054b74a6ba70958f5f3c93', 'lcpidx': '43b7f5db36994599861eec4849cc68fd', 'barrieridx': 'cb47616cd2dc4ccc8fd523bd3a5064bb', 'windspeed': 10, 'winddirection': 90, 'relhumid': 90, 'temperature': 20}\n",
      "Choosing a perimeter from the database\n",
      "{'description': 'Maria2019', 'igniteidx': '28eb00132eea42838c0ad809780362b7', 'compareidx': '911f9b001c054b74a6ba70958f5f3c93', 'lcpidx': '43b7f5db36994599861eec4849cc68fd', 'barrieridx': 'cb47616cd2dc4ccc8fd523bd3a5064bb', 'windspeed': 10, 'winddirection': 90, 'relhumid': 90, 'temperature': 20}\n",
      "Choosing a perimeter from the database\n",
      "{'description': 'Maria2019', 'igniteidx': '464e777a721f4ecbb69a0191b0abab39', 'compareidx': '911f9b001c054b74a6ba70958f5f3c93', 'lcpidx': '43b7f5db36994599861eec4849cc68fd', 'barrieridx': 'cb47616cd2dc4ccc8fd523bd3a5064bb', 'windspeed': 10, 'winddirection': 90, 'relhumid': 90, 'temperature': 20}\n",
      "Choosing a perimeter from the database\n",
      "{'description': 'Maria2019', 'igniteidx': '6a92b9ffce9246b28b0574e80e79c530', 'compareidx': '911f9b001c054b74a6ba70958f5f3c93', 'lcpidx': '43b7f5db36994599861eec4849cc68fd', 'barrieridx': 'cb47616cd2dc4ccc8fd523bd3a5064bb', 'windspeed': 10, 'winddirection': 90, 'relhumid': 90, 'temperature': 20}\n",
      "Choosing a perimeter from the database\n",
      "{'description': 'Maria2019', 'igniteidx': 'aa5fa9d6c8674ab4ac4806032ad9e8db', 'compareidx': '911f9b001c054b74a6ba70958f5f3c93', 'lcpidx': '43b7f5db36994599861eec4849cc68fd', 'barrieridx': 'cb47616cd2dc4ccc8fd523bd3a5064bb', 'windspeed': 10, 'winddirection': 90, 'relhumid': 90, 'temperature': 20}\n",
      "Choosing a perimeter from the database\n",
      "{'description': 'Maria2019', 'igniteidx': 'da678de967e345d294af2d9ec67beedf', 'compareidx': '911f9b001c054b74a6ba70958f5f3c93', 'lcpidx': '43b7f5db36994599861eec4849cc68fd', 'barrieridx': 'cb47616cd2dc4ccc8fd523bd3a5064bb', 'windspeed': 10, 'winddirection': 90, 'relhumid': 90, 'temperature': 20}\n",
      "Choosing a perimeter from the database\n",
      "{'description': 'Maria2019', 'igniteidx': '9c68e418a03649cd8907a3fda9e5a82b', 'compareidx': '911f9b001c054b74a6ba70958f5f3c93', 'lcpidx': '43b7f5db36994599861eec4849cc68fd', 'barrieridx': 'cb47616cd2dc4ccc8fd523bd3a5064bb', 'windspeed': 10, 'winddirection': 90, 'relhumid': 90, 'temperature': 20}\n",
      "Choosing a perimeter from the database\n",
      "{'description': 'Maria2019', 'igniteidx': '1d02573f1925409baf26381e1f32aff2', 'compareidx': '911f9b001c054b74a6ba70958f5f3c93', 'lcpidx': '43b7f5db36994599861eec4849cc68fd', 'barrieridx': 'cb47616cd2dc4ccc8fd523bd3a5064bb', 'windspeed': 10, 'winddirection': 90, 'relhumid': 90, 'temperature': 20}\n",
      "Choosing a perimeter from the database\n",
      "{'description': 'Maria2019', 'igniteidx': 'da6d5372d7004f59b030ff94a3bf9d22', 'compareidx': '911f9b001c054b74a6ba70958f5f3c93', 'lcpidx': '43b7f5db36994599861eec4849cc68fd', 'barrieridx': 'cb47616cd2dc4ccc8fd523bd3a5064bb', 'windspeed': 10, 'winddirection': 90, 'relhumid': 90, 'temperature': 20}\n",
      "Choosing a perimeter from the database\n",
      "{'description': 'Maria2019', 'igniteidx': '40071c905e454707a313018592773e4f', 'compareidx': '911f9b001c054b74a6ba70958f5f3c93', 'lcpidx': '43b7f5db36994599861eec4849cc68fd', 'barrieridx': 'cb47616cd2dc4ccc8fd523bd3a5064bb', 'windspeed': 10, 'winddirection': 90, 'relhumid': 90, 'temperature': 20}\n",
      "Choosing a perimeter from the database\n",
      "{'description': 'Maria2019', 'igniteidx': 'f2ed55712a0c4509af1c00aead3b4c81', 'compareidx': '911f9b001c054b74a6ba70958f5f3c93', 'lcpidx': '43b7f5db36994599861eec4849cc68fd', 'barrieridx': 'cb47616cd2dc4ccc8fd523bd3a5064bb', 'windspeed': 10, 'winddirection': 90, 'relhumid': 90, 'temperature': 20}\n",
      "Choosing a perimeter from the database\n",
      "{'description': 'Maria2019', 'igniteidx': '27b68bd8275948a781bdca2aabb62dcf', 'compareidx': '911f9b001c054b74a6ba70958f5f3c93', 'lcpidx': '43b7f5db36994599861eec4849cc68fd', 'barrieridx': 'cb47616cd2dc4ccc8fd523bd3a5064bb', 'windspeed': 10, 'winddirection': 90, 'relhumid': 90, 'temperature': 20}\n",
      "Choosing a perimeter from the database\n",
      "{'description': 'Maria2019', 'igniteidx': '85032b0904474df8bd80f7ba5de0a452', 'compareidx': '911f9b001c054b74a6ba70958f5f3c93', 'lcpidx': '43b7f5db36994599861eec4849cc68fd', 'barrieridx': 'cb47616cd2dc4ccc8fd523bd3a5064bb', 'windspeed': 10, 'winddirection': 90, 'relhumid': 90, 'temperature': 20}\n",
      "Choosing a perimeter from the database\n",
      "{'description': 'Maria2019', 'igniteidx': 'ba4c4c2e8f57468797793f672612f85c', 'compareidx': '911f9b001c054b74a6ba70958f5f3c93', 'lcpidx': '43b7f5db36994599861eec4849cc68fd', 'barrieridx': 'cb47616cd2dc4ccc8fd523bd3a5064bb', 'windspeed': 10, 'winddirection': 90, 'relhumid': 90, 'temperature': 20}\n",
      "Choosing a perimeter from the database\n",
      "{'description': 'Maria2019', 'igniteidx': '3147fdb409e44eb29257b81711f37bfe', 'compareidx': '911f9b001c054b74a6ba70958f5f3c93', 'lcpidx': '43b7f5db36994599861eec4849cc68fd', 'barrieridx': 'cb47616cd2dc4ccc8fd523bd3a5064bb', 'windspeed': 10, 'winddirection': 90, 'relhumid': 90, 'temperature': 20}\n",
      "Choosing a perimeter from the database\n",
      "{'description': 'Maria2019', 'igniteidx': '9412685d02224959b160c68111c2e03a', 'compareidx': '911f9b001c054b74a6ba70958f5f3c93', 'lcpidx': '43b7f5db36994599861eec4849cc68fd', 'barrieridx': 'cb47616cd2dc4ccc8fd523bd3a5064bb', 'windspeed': 10, 'winddirection': 90, 'relhumid': 90, 'temperature': 20}\n",
      "Choosing a perimeter from the database\n",
      "{'description': 'Maria2019', 'igniteidx': 'bdaeb82a95e147478f2aac97d9440c64', 'compareidx': '911f9b001c054b74a6ba70958f5f3c93', 'lcpidx': '43b7f5db36994599861eec4849cc68fd', 'barrieridx': 'cb47616cd2dc4ccc8fd523bd3a5064bb', 'windspeed': 10, 'winddirection': 90, 'relhumid': 90, 'temperature': 20}\n",
      "Choosing a perimeter from the database\n",
      "{'description': 'Maria2019', 'igniteidx': 'de2e309fd49746f9b0385ab587656480', 'compareidx': '911f9b001c054b74a6ba70958f5f3c93', 'lcpidx': '43b7f5db36994599861eec4849cc68fd', 'barrieridx': 'cb47616cd2dc4ccc8fd523bd3a5064bb', 'windspeed': 10, 'winddirection': 90, 'relhumid': 90, 'temperature': 20}\n",
      "Choosing a perimeter from the database\n",
      "{'description': 'Maria2019', 'igniteidx': 'c7c52d79abe5415f81ec74d2b7514b10', 'compareidx': '911f9b001c054b74a6ba70958f5f3c93', 'lcpidx': '43b7f5db36994599861eec4849cc68fd', 'barrieridx': 'cb47616cd2dc4ccc8fd523bd3a5064bb', 'windspeed': 10, 'winddirection': 90, 'relhumid': 90, 'temperature': 20}\n",
      "Choosing a perimeter from the database\n",
      "{'description': 'Maria2019', 'igniteidx': '04ced86dd99348829181c57801732525', 'compareidx': '911f9b001c054b74a6ba70958f5f3c93', 'lcpidx': '43b7f5db36994599861eec4849cc68fd', 'barrieridx': 'cb47616cd2dc4ccc8fd523bd3a5064bb', 'windspeed': 10, 'winddirection': 90, 'relhumid': 90, 'temperature': 20}\n",
      "Choosing a perimeter from the database\n",
      "{'description': 'Maria2019', 'igniteidx': '60e3eb302da241478ee6c033e50e290e', 'compareidx': '911f9b001c054b74a6ba70958f5f3c93', 'lcpidx': '43b7f5db36994599861eec4849cc68fd', 'barrieridx': 'cb47616cd2dc4ccc8fd523bd3a5064bb', 'windspeed': 10, 'winddirection': 90, 'relhumid': 90, 'temperature': 20}\n",
      "Choosing a perimeter from the database\n",
      "{'description': 'Maria2019', 'igniteidx': '5f41ffafd211451cb3eb95b75f9a4f3a', 'compareidx': '911f9b001c054b74a6ba70958f5f3c93', 'lcpidx': '43b7f5db36994599861eec4849cc68fd', 'barrieridx': 'cb47616cd2dc4ccc8fd523bd3a5064bb', 'windspeed': 10, 'winddirection': 90, 'relhumid': 90, 'temperature': 20}\n",
      "Choosing a perimeter from the database\n",
      "{'description': 'Maria2019', 'igniteidx': '5b4dc43d24704d47a0d70e3719cc2d2d', 'compareidx': '911f9b001c054b74a6ba70958f5f3c93', 'lcpidx': '43b7f5db36994599861eec4849cc68fd', 'barrieridx': 'cb47616cd2dc4ccc8fd523bd3a5064bb', 'windspeed': 10, 'winddirection': 90, 'relhumid': 90, 'temperature': 20}\n",
      "Choosing a perimeter from the database\n",
      "{'description': 'Maria2019', 'igniteidx': '6a5734850afa46e0a0094e2a15e63700', 'compareidx': '911f9b001c054b74a6ba70958f5f3c93', 'lcpidx': '43b7f5db36994599861eec4849cc68fd', 'barrieridx': 'cb47616cd2dc4ccc8fd523bd3a5064bb', 'windspeed': 10, 'winddirection': 90, 'relhumid': 90, 'temperature': 20}\n",
      "Choosing a perimeter from the database\n",
      "{'description': 'Maria2019', 'igniteidx': '3bd2ecb4475f4d7eba8d260b4e8da2f7', 'compareidx': '911f9b001c054b74a6ba70958f5f3c93', 'lcpidx': '43b7f5db36994599861eec4849cc68fd', 'barrieridx': 'cb47616cd2dc4ccc8fd523bd3a5064bb', 'windspeed': 10, 'winddirection': 90, 'relhumid': 90, 'temperature': 20}\n",
      "Choosing a perimeter from the database\n",
      "{'description': 'Maria2019', 'igniteidx': '15ea437ee9f945ca967292ab2a57a69a', 'compareidx': '911f9b001c054b74a6ba70958f5f3c93', 'lcpidx': '43b7f5db36994599861eec4849cc68fd', 'barrieridx': 'cb47616cd2dc4ccc8fd523bd3a5064bb', 'windspeed': 10, 'winddirection': 90, 'relhumid': 90, 'temperature': 20}\n",
      "Choosing a perimeter from the database\n",
      "{'description': 'Maria2019', 'igniteidx': 'fb2dca2abc1744e3ad434aef5f36a78e', 'compareidx': '911f9b001c054b74a6ba70958f5f3c93', 'lcpidx': '43b7f5db36994599861eec4849cc68fd', 'barrieridx': 'cb47616cd2dc4ccc8fd523bd3a5064bb', 'windspeed': 10, 'winddirection': 90, 'relhumid': 90, 'temperature': 20}\n",
      "Choosing a perimeter from the database\n",
      "{'description': 'Maria2019', 'igniteidx': 'e3b91df4e807493eb7622b32beb700a0', 'compareidx': '911f9b001c054b74a6ba70958f5f3c93', 'lcpidx': '43b7f5db36994599861eec4849cc68fd', 'barrieridx': 'cb47616cd2dc4ccc8fd523bd3a5064bb', 'windspeed': 10, 'winddirection': 90, 'relhumid': 90, 'temperature': 20}\n",
      "Choosing a perimeter from the database\n",
      "{'description': 'Maria2019', 'igniteidx': '00f799d5be5e4d4ab436652e66e6a270', 'compareidx': '911f9b001c054b74a6ba70958f5f3c93', 'lcpidx': '43b7f5db36994599861eec4849cc68fd', 'barrieridx': 'cb47616cd2dc4ccc8fd523bd3a5064bb', 'windspeed': 10, 'winddirection': 90, 'relhumid': 90, 'temperature': 20}\n",
      "Choosing a perimeter from the database\n",
      "{'description': 'Maria2019', 'igniteidx': '2bd467284ecc49eebd21f36cbb789677', 'compareidx': '911f9b001c054b74a6ba70958f5f3c93', 'lcpidx': '43b7f5db36994599861eec4849cc68fd', 'barrieridx': 'cb47616cd2dc4ccc8fd523bd3a5064bb', 'windspeed': 10, 'winddirection': 90, 'relhumid': 90, 'temperature': 20}\n",
      "Choosing a perimeter from the database\n",
      "{'description': 'Maria2019', 'igniteidx': 'e4f21846c9b6455eb3f571e08d4d987f', 'compareidx': '911f9b001c054b74a6ba70958f5f3c93', 'lcpidx': '43b7f5db36994599861eec4849cc68fd', 'barrieridx': 'cb47616cd2dc4ccc8fd523bd3a5064bb', 'windspeed': 10, 'winddirection': 90, 'relhumid': 90, 'temperature': 20}\n",
      "Choosing a perimeter from the database\n",
      "{'description': 'Maria2019', 'igniteidx': '62a593f326ca47f5a8bcff47c99ab042', 'compareidx': '911f9b001c054b74a6ba70958f5f3c93', 'lcpidx': '43b7f5db36994599861eec4849cc68fd', 'barrieridx': 'cb47616cd2dc4ccc8fd523bd3a5064bb', 'windspeed': 10, 'winddirection': 90, 'relhumid': 90, 'temperature': 20}\n",
      "Choosing a perimeter from the database\n",
      "{'description': 'Maria2019', 'igniteidx': 'db13d11af3b24e95ae5e3f15fef834ff', 'compareidx': '911f9b001c054b74a6ba70958f5f3c93', 'lcpidx': '43b7f5db36994599861eec4849cc68fd', 'barrieridx': 'cb47616cd2dc4ccc8fd523bd3a5064bb', 'windspeed': 10, 'winddirection': 90, 'relhumid': 90, 'temperature': 20}\n",
      "Choosing a perimeter from the database\n",
      "{'description': 'Maria2019', 'igniteidx': 'aeb56e9915084f4ea13b169e0c668351', 'compareidx': '911f9b001c054b74a6ba70958f5f3c93', 'lcpidx': '43b7f5db36994599861eec4849cc68fd', 'barrieridx': 'cb47616cd2dc4ccc8fd523bd3a5064bb', 'windspeed': 10, 'winddirection': 90, 'relhumid': 90, 'temperature': 20}\n",
      "Choosing a perimeter from the database\n",
      "{'description': 'Maria2019', 'igniteidx': 'f4a675348cf3452d9b9209f9f49d5df2', 'compareidx': '911f9b001c054b74a6ba70958f5f3c93', 'lcpidx': '43b7f5db36994599861eec4849cc68fd', 'barrieridx': 'cb47616cd2dc4ccc8fd523bd3a5064bb', 'windspeed': 10, 'winddirection': 90, 'relhumid': 90, 'temperature': 20}\n",
      "Choosing a perimeter from the database\n",
      "{'description': 'Maria2019', 'igniteidx': 'd4608b219d214ab49e80afdd362f0eca', 'compareidx': '911f9b001c054b74a6ba70958f5f3c93', 'lcpidx': '43b7f5db36994599861eec4849cc68fd', 'barrieridx': 'cb47616cd2dc4ccc8fd523bd3a5064bb', 'windspeed': 10, 'winddirection': 90, 'relhumid': 90, 'temperature': 20}\n",
      "Choosing a perimeter from the database\n",
      "{'description': 'Maria2019', 'igniteidx': 'a1ff9a289ffc4c6bb0f58277b96f5494', 'compareidx': '911f9b001c054b74a6ba70958f5f3c93', 'lcpidx': '43b7f5db36994599861eec4849cc68fd', 'barrieridx': 'cb47616cd2dc4ccc8fd523bd3a5064bb', 'windspeed': 10, 'winddirection': 90, 'relhumid': 90, 'temperature': 20}\n",
      "Choosing a perimeter from the database\n",
      "{'description': 'Maria2019', 'igniteidx': '40fdfc3ec0a0405d9b7b0a592cb4f3c8', 'compareidx': '911f9b001c054b74a6ba70958f5f3c93', 'lcpidx': '43b7f5db36994599861eec4849cc68fd', 'barrieridx': 'cb47616cd2dc4ccc8fd523bd3a5064bb', 'windspeed': 10, 'winddirection': 90, 'relhumid': 90, 'temperature': 20}\n",
      "Choosing a perimeter from the database\n",
      "{'description': 'Maria2019', 'igniteidx': '97f31c345f3f4ace8858dc9887311e06', 'compareidx': '911f9b001c054b74a6ba70958f5f3c93', 'lcpidx': '43b7f5db36994599861eec4849cc68fd', 'barrieridx': 'cb47616cd2dc4ccc8fd523bd3a5064bb', 'windspeed': 10, 'winddirection': 90, 'relhumid': 90, 'temperature': 20}\n",
      "Choosing a perimeter from the database\n",
      "{'description': 'Maria2019', 'igniteidx': '2cca1abb37e84d67b88b7188294fcbfa', 'compareidx': '911f9b001c054b74a6ba70958f5f3c93', 'lcpidx': '43b7f5db36994599861eec4849cc68fd', 'barrieridx': 'cb47616cd2dc4ccc8fd523bd3a5064bb', 'windspeed': 10, 'winddirection': 90, 'relhumid': 90, 'temperature': 20}\n",
      "Choosing a perimeter from the database\n",
      "Farsite $Rev: 2395 $\n",
      "Number of parallel threads = 4 (omp_get_num_procs = 32).\n",
      "Loading lcp file for Farsite #1: /home/jovyan/farsite/inputs/landscapes/Maria2019.lcp\n",
      "Loading inputs file for Farsite #1: /home/jovyan/data/20221209/Run_01000/config\n",
      "Loading ignition file for Farsite #1: /home/jovyan/data/ignitions/Maria2019U0000.shp\n",
      "Loading barrier file for Farsite #1: /home/jovyan/farsite/inputs/barriers/NoBarrier/NoBarrier.shp\n",
      "Launching Farsite #1\n",
      "Starting time step 0.000000 (maximum = 15)\n",
      "Writing outputs for Farsite #1 to /home/jovyan/data/20221209/Run_01000/out\n"
     ]
    },
    {
     "name": "stderr",
     "output_type": "stream",
     "text": [
      "/home/jovyan/farsite-devAPI/src/farsiteutils_v2.py:177: FutureWarning: The frame.append method is deprecated and will be removed from pandas in a future version. Use pandas.concat instead.\n",
      "  self.gdfsimulation = self.gdfsimulation.append(gdfappend)\n"
     ]
    },
    {
     "name": "stdout",
     "output_type": "stream",
     "text": [
      "Farsite $Rev: 2395 $\n",
      "Number of parallel threads = 4 (omp_get_num_procs = 32).\n",
      "Loading lcp file for Farsite #1: /home/jovyan/farsite/inputs/landscapes/Maria2019.lcp\n",
      "Loading inputs file for Farsite #1: /home/jovyan/data/20221209/Run_01001/config\n",
      "Loading ignition file for Farsite #1: /home/jovyan/data/ignitions/Maria2019U0001.shp\n",
      "Loading barrier file for Farsite #1: /home/jovyan/farsite/inputs/barriers/NoBarrier/NoBarrier.shp\n",
      "Launching Farsite #1\n",
      "Starting time step 0.000000 (maximum = 15)\n",
      "Writing outputs for Farsite #1 to /home/jovyan/data/20221209/Run_01001/out\n"
     ]
    },
    {
     "name": "stderr",
     "output_type": "stream",
     "text": [
      "/home/jovyan/farsite-devAPI/src/farsiteutils_v2.py:177: FutureWarning: The frame.append method is deprecated and will be removed from pandas in a future version. Use pandas.concat instead.\n",
      "  self.gdfsimulation = self.gdfsimulation.append(gdfappend)\n"
     ]
    },
    {
     "name": "stdout",
     "output_type": "stream",
     "text": [
      "Farsite $Rev: 2395 $\n",
      "Number of parallel threads = 4 (omp_get_num_procs = 32).\n",
      "Loading lcp file for Farsite #1: /home/jovyan/farsite/inputs/landscapes/Maria2019.lcp\n",
      "Loading inputs file for Farsite #1: /home/jovyan/data/20221209/Run_01002/config\n",
      "Loading ignition file for Farsite #1: /home/jovyan/data/ignitions/Maria2019U0002.shp\n",
      "Loading barrier file for Farsite #1: /home/jovyan/farsite/inputs/barriers/NoBarrier/NoBarrier.shp\n",
      "Launching Farsite #1\n",
      "Starting time step 0.000000 (maximum = 15)\n",
      "Writing outputs for Farsite #1 to /home/jovyan/data/20221209/Run_01002/out\n"
     ]
    },
    {
     "name": "stderr",
     "output_type": "stream",
     "text": [
      "/home/jovyan/farsite-devAPI/src/farsiteutils_v2.py:177: FutureWarning: The frame.append method is deprecated and will be removed from pandas in a future version. Use pandas.concat instead.\n",
      "  self.gdfsimulation = self.gdfsimulation.append(gdfappend)\n"
     ]
    },
    {
     "name": "stdout",
     "output_type": "stream",
     "text": [
      "Farsite $Rev: 2395 $\n",
      "Number of parallel threads = 4 (omp_get_num_procs = 32).\n",
      "Loading lcp file for Farsite #1: /home/jovyan/farsite/inputs/landscapes/Maria2019.lcp\n",
      "Loading inputs file for Farsite #1: /home/jovyan/data/20221209/Run_01003/config\n",
      "Loading ignition file for Farsite #1: /home/jovyan/data/ignitions/Maria2019U0003.shp\n",
      "Loading barrier file for Farsite #1: /home/jovyan/farsite/inputs/barriers/NoBarrier/NoBarrier.shp\n",
      "Launching Farsite #1\n",
      "Starting time step 0.000000 (maximum = 15)\n",
      "Writing outputs for Farsite #1 to /home/jovyan/data/20221209/Run_01003/out\n"
     ]
    },
    {
     "name": "stderr",
     "output_type": "stream",
     "text": [
      "/home/jovyan/farsite-devAPI/src/farsiteutils_v2.py:177: FutureWarning: The frame.append method is deprecated and will be removed from pandas in a future version. Use pandas.concat instead.\n",
      "  self.gdfsimulation = self.gdfsimulation.append(gdfappend)\n"
     ]
    },
    {
     "name": "stdout",
     "output_type": "stream",
     "text": [
      "Farsite $Rev: 2395 $\n",
      "Number of parallel threads = 4 (omp_get_num_procs = 32).\n",
      "Loading lcp file for Farsite #1: /home/jovyan/farsite/inputs/landscapes/Maria2019.lcp\n",
      "Loading inputs file for Farsite #1: /home/jovyan/data/20221209/Run_01004/config\n",
      "Loading ignition file for Farsite #1: /home/jovyan/data/ignitions/Maria2019U0004.shp\n",
      "Loading barrier file for Farsite #1: /home/jovyan/farsite/inputs/barriers/NoBarrier/NoBarrier.shp\n",
      "Launching Farsite #1\n",
      "Starting time step 0.000000 (maximum = 15)\n",
      "Writing outputs for Farsite #1 to /home/jovyan/data/20221209/Run_01004/out\n"
     ]
    },
    {
     "name": "stderr",
     "output_type": "stream",
     "text": [
      "/home/jovyan/farsite-devAPI/src/farsiteutils_v2.py:177: FutureWarning: The frame.append method is deprecated and will be removed from pandas in a future version. Use pandas.concat instead.\n",
      "  self.gdfsimulation = self.gdfsimulation.append(gdfappend)\n"
     ]
    },
    {
     "name": "stdout",
     "output_type": "stream",
     "text": [
      "Farsite $Rev: 2395 $\n",
      "Number of parallel threads = 4 (omp_get_num_procs = 32).\n",
      "Loading lcp file for Farsite #1: /home/jovyan/farsite/inputs/landscapes/Maria2019.lcp\n",
      "Loading inputs file for Farsite #1: /home/jovyan/data/20221209/Run_01005/config\n",
      "Loading ignition file for Farsite #1: /home/jovyan/data/ignitions/Maria2019U0005.shp\n",
      "Loading barrier file for Farsite #1: /home/jovyan/farsite/inputs/barriers/NoBarrier/NoBarrier.shp\n",
      "Launching Farsite #1\n",
      "Starting time step 0.000000 (maximum = 15)\n",
      "Writing outputs for Farsite #1 to /home/jovyan/data/20221209/Run_01005/out\n"
     ]
    },
    {
     "name": "stderr",
     "output_type": "stream",
     "text": [
      "/home/jovyan/farsite-devAPI/src/farsiteutils_v2.py:177: FutureWarning: The frame.append method is deprecated and will be removed from pandas in a future version. Use pandas.concat instead.\n",
      "  self.gdfsimulation = self.gdfsimulation.append(gdfappend)\n"
     ]
    },
    {
     "name": "stdout",
     "output_type": "stream",
     "text": [
      "Farsite $Rev: 2395 $\n",
      "Number of parallel threads = 4 (omp_get_num_procs = 32).\n",
      "Loading lcp file for Farsite #1: /home/jovyan/farsite/inputs/landscapes/Maria2019.lcp\n",
      "Loading inputs file for Farsite #1: /home/jovyan/data/20221209/Run_01006/config\n",
      "Loading ignition file for Farsite #1: /home/jovyan/data/ignitions/Maria2019U0006.shp\n",
      "Loading barrier file for Farsite #1: /home/jovyan/farsite/inputs/barriers/NoBarrier/NoBarrier.shp\n",
      "Launching Farsite #1\n",
      "Starting time step 0.000000 (maximum = 15)\n",
      "Writing outputs for Farsite #1 to /home/jovyan/data/20221209/Run_01006/out\n"
     ]
    },
    {
     "name": "stderr",
     "output_type": "stream",
     "text": [
      "/home/jovyan/farsite-devAPI/src/farsiteutils_v2.py:177: FutureWarning: The frame.append method is deprecated and will be removed from pandas in a future version. Use pandas.concat instead.\n",
      "  self.gdfsimulation = self.gdfsimulation.append(gdfappend)\n"
     ]
    },
    {
     "name": "stdout",
     "output_type": "stream",
     "text": [
      "Farsite $Rev: 2395 $\n",
      "Number of parallel threads = 4 (omp_get_num_procs = 32).\n",
      "Loading lcp file for Farsite #1: /home/jovyan/farsite/inputs/landscapes/Maria2019.lcp\n",
      "Loading inputs file for Farsite #1: /home/jovyan/data/20221209/Run_01007/config\n",
      "Loading ignition file for Farsite #1: /home/jovyan/data/ignitions/Maria2019U0007.shp\n",
      "Loading barrier file for Farsite #1: /home/jovyan/farsite/inputs/barriers/NoBarrier/NoBarrier.shp\n",
      "Launching Farsite #1\n",
      "Starting time step 0.000000 (maximum = 15)\n",
      "Writing outputs for Farsite #1 to /home/jovyan/data/20221209/Run_01007/out\n"
     ]
    },
    {
     "name": "stderr",
     "output_type": "stream",
     "text": [
      "/home/jovyan/farsite-devAPI/src/farsiteutils_v2.py:177: FutureWarning: The frame.append method is deprecated and will be removed from pandas in a future version. Use pandas.concat instead.\n",
      "  self.gdfsimulation = self.gdfsimulation.append(gdfappend)\n"
     ]
    },
    {
     "name": "stdout",
     "output_type": "stream",
     "text": [
      "Farsite $Rev: 2395 $\n",
      "Number of parallel threads = 4 (omp_get_num_procs = 32).\n",
      "Loading lcp file for Farsite #1: /home/jovyan/farsite/inputs/landscapes/Maria2019.lcp\n",
      "Loading inputs file for Farsite #1: /home/jovyan/data/20221209/Run_01008/config\n",
      "Loading ignition file for Farsite #1: /home/jovyan/data/ignitions/Maria2019U0008.shp\n",
      "Loading barrier file for Farsite #1: /home/jovyan/farsite/inputs/barriers/NoBarrier/NoBarrier.shp\n",
      "Launching Farsite #1\n",
      "Starting time step 0.000000 (maximum = 15)\n",
      "Writing outputs for Farsite #1 to /home/jovyan/data/20221209/Run_01008/out\n"
     ]
    },
    {
     "name": "stderr",
     "output_type": "stream",
     "text": [
      "/home/jovyan/farsite-devAPI/src/farsiteutils_v2.py:177: FutureWarning: The frame.append method is deprecated and will be removed from pandas in a future version. Use pandas.concat instead.\n",
      "  self.gdfsimulation = self.gdfsimulation.append(gdfappend)\n"
     ]
    },
    {
     "name": "stdout",
     "output_type": "stream",
     "text": [
      "Farsite $Rev: 2395 $\n",
      "Number of parallel threads = 4 (omp_get_num_procs = 32).\n",
      "Loading lcp file for Farsite #1: /home/jovyan/farsite/inputs/landscapes/Maria2019.lcp\n",
      "Loading inputs file for Farsite #1: /home/jovyan/data/20221209/Run_01009/config\n",
      "Loading ignition file for Farsite #1: /home/jovyan/data/ignitions/Maria2019U0009.shp\n",
      "Loading barrier file for Farsite #1: /home/jovyan/farsite/inputs/barriers/NoBarrier/NoBarrier.shp\n",
      "Launching Farsite #1\n",
      "Starting time step 0.000000 (maximum = 15)\n",
      "Writing outputs for Farsite #1 to /home/jovyan/data/20221209/Run_01009/out\n"
     ]
    },
    {
     "name": "stderr",
     "output_type": "stream",
     "text": [
      "/home/jovyan/farsite-devAPI/src/farsiteutils_v2.py:177: FutureWarning: The frame.append method is deprecated and will be removed from pandas in a future version. Use pandas.concat instead.\n",
      "  self.gdfsimulation = self.gdfsimulation.append(gdfappend)\n"
     ]
    },
    {
     "name": "stdout",
     "output_type": "stream",
     "text": [
      "Farsite $Rev: 2395 $\n",
      "Number of parallel threads = 4 (omp_get_num_procs = 32).\n",
      "Loading lcp file for Farsite #1: /home/jovyan/farsite/inputs/landscapes/Maria2019.lcp\n",
      "Loading inputs file for Farsite #1: /home/jovyan/data/20221209/Run_01010/config\n",
      "Loading ignition file for Farsite #1: /home/jovyan/data/ignitions/Maria2019U0010.shp\n",
      "Loading barrier file for Farsite #1: /home/jovyan/farsite/inputs/barriers/NoBarrier/NoBarrier.shp\n",
      "Launching Farsite #1\n",
      "Starting time step 0.000000 (maximum = 15)\n",
      "Writing outputs for Farsite #1 to /home/jovyan/data/20221209/Run_01010/out\n"
     ]
    },
    {
     "name": "stderr",
     "output_type": "stream",
     "text": [
      "/home/jovyan/farsite-devAPI/src/farsiteutils_v2.py:177: FutureWarning: The frame.append method is deprecated and will be removed from pandas in a future version. Use pandas.concat instead.\n",
      "  self.gdfsimulation = self.gdfsimulation.append(gdfappend)\n"
     ]
    },
    {
     "name": "stdout",
     "output_type": "stream",
     "text": [
      "Farsite $Rev: 2395 $\n",
      "Number of parallel threads = 4 (omp_get_num_procs = 32).\n",
      "Loading lcp file for Farsite #1: /home/jovyan/farsite/inputs/landscapes/Maria2019.lcp\n",
      "Loading inputs file for Farsite #1: /home/jovyan/data/20221209/Run_01011/config\n",
      "Loading ignition file for Farsite #1: /home/jovyan/data/ignitions/Maria2019U0011.shp\n",
      "Loading barrier file for Farsite #1: /home/jovyan/farsite/inputs/barriers/NoBarrier/NoBarrier.shp\n",
      "Launching Farsite #1\n",
      "Starting time step 0.000000 (maximum = 15)\n",
      "Writing outputs for Farsite #1 to /home/jovyan/data/20221209/Run_01011/out\n"
     ]
    },
    {
     "name": "stderr",
     "output_type": "stream",
     "text": [
      "/home/jovyan/farsite-devAPI/src/farsiteutils_v2.py:177: FutureWarning: The frame.append method is deprecated and will be removed from pandas in a future version. Use pandas.concat instead.\n",
      "  self.gdfsimulation = self.gdfsimulation.append(gdfappend)\n"
     ]
    },
    {
     "name": "stdout",
     "output_type": "stream",
     "text": [
      "Farsite $Rev: 2395 $\n",
      "Number of parallel threads = 4 (omp_get_num_procs = 32).\n",
      "Loading lcp file for Farsite #1: /home/jovyan/farsite/inputs/landscapes/Maria2019.lcp\n",
      "Loading inputs file for Farsite #1: /home/jovyan/data/20221209/Run_01012/config\n",
      "Loading ignition file for Farsite #1: /home/jovyan/data/ignitions/Maria2019U0012.shp\n",
      "Loading barrier file for Farsite #1: /home/jovyan/farsite/inputs/barriers/NoBarrier/NoBarrier.shp\n",
      "Launching Farsite #1\n",
      "Starting time step 0.000000 (maximum = 15)\n",
      "Writing outputs for Farsite #1 to /home/jovyan/data/20221209/Run_01012/out\n"
     ]
    },
    {
     "name": "stderr",
     "output_type": "stream",
     "text": [
      "/home/jovyan/farsite-devAPI/src/farsiteutils_v2.py:177: FutureWarning: The frame.append method is deprecated and will be removed from pandas in a future version. Use pandas.concat instead.\n",
      "  self.gdfsimulation = self.gdfsimulation.append(gdfappend)\n"
     ]
    },
    {
     "name": "stdout",
     "output_type": "stream",
     "text": [
      "Farsite $Rev: 2395 $\n",
      "Number of parallel threads = 4 (omp_get_num_procs = 32).\n",
      "Loading lcp file for Farsite #1: /home/jovyan/farsite/inputs/landscapes/Maria2019.lcp\n",
      "Loading inputs file for Farsite #1: /home/jovyan/data/20221209/Run_01013/config\n",
      "Loading ignition file for Farsite #1: /home/jovyan/data/ignitions/Maria2019U0013.shp\n",
      "Loading barrier file for Farsite #1: /home/jovyan/farsite/inputs/barriers/NoBarrier/NoBarrier.shp\n",
      "Launching Farsite #1\n",
      "Starting time step 0.000000 (maximum = 15)\n",
      "Writing outputs for Farsite #1 to /home/jovyan/data/20221209/Run_01013/out\n"
     ]
    },
    {
     "name": "stderr",
     "output_type": "stream",
     "text": [
      "/home/jovyan/farsite-devAPI/src/farsiteutils_v2.py:177: FutureWarning: The frame.append method is deprecated and will be removed from pandas in a future version. Use pandas.concat instead.\n",
      "  self.gdfsimulation = self.gdfsimulation.append(gdfappend)\n"
     ]
    },
    {
     "name": "stdout",
     "output_type": "stream",
     "text": [
      "Farsite $Rev: 2395 $\n",
      "Number of parallel threads = 4 (omp_get_num_procs = 32).\n",
      "Loading lcp file for Farsite #1: /home/jovyan/farsite/inputs/landscapes/Maria2019.lcp\n",
      "Loading inputs file for Farsite #1: /home/jovyan/data/20221209/Run_01014/config\n",
      "Loading ignition file for Farsite #1: /home/jovyan/data/ignitions/Maria2019U0014.shp\n",
      "Loading barrier file for Farsite #1: /home/jovyan/farsite/inputs/barriers/NoBarrier/NoBarrier.shp\n",
      "Launching Farsite #1\n",
      "Starting time step 0.000000 (maximum = 15)\n",
      "Writing outputs for Farsite #1 to /home/jovyan/data/20221209/Run_01014/out\n"
     ]
    },
    {
     "name": "stderr",
     "output_type": "stream",
     "text": [
      "/home/jovyan/farsite-devAPI/src/farsiteutils_v2.py:177: FutureWarning: The frame.append method is deprecated and will be removed from pandas in a future version. Use pandas.concat instead.\n",
      "  self.gdfsimulation = self.gdfsimulation.append(gdfappend)\n"
     ]
    },
    {
     "name": "stdout",
     "output_type": "stream",
     "text": [
      "Farsite $Rev: 2395 $\n",
      "Number of parallel threads = 4 (omp_get_num_procs = 32).\n",
      "Loading lcp file for Farsite #1: /home/jovyan/farsite/inputs/landscapes/Maria2019.lcp\n",
      "Loading inputs file for Farsite #1: /home/jovyan/data/20221209/Run_01015/config\n",
      "Loading ignition file for Farsite #1: /home/jovyan/data/ignitions/Maria2019U0015.shp\n",
      "Loading barrier file for Farsite #1: /home/jovyan/farsite/inputs/barriers/NoBarrier/NoBarrier.shp\n",
      "Launching Farsite #1\n",
      "Starting time step 0.000000 (maximum = 15)\n",
      "Writing outputs for Farsite #1 to /home/jovyan/data/20221209/Run_01015/out\n"
     ]
    },
    {
     "name": "stderr",
     "output_type": "stream",
     "text": [
      "/home/jovyan/farsite-devAPI/src/farsiteutils_v2.py:177: FutureWarning: The frame.append method is deprecated and will be removed from pandas in a future version. Use pandas.concat instead.\n",
      "  self.gdfsimulation = self.gdfsimulation.append(gdfappend)\n"
     ]
    },
    {
     "name": "stdout",
     "output_type": "stream",
     "text": [
      "Farsite $Rev: 2395 $\n",
      "Number of parallel threads = 4 (omp_get_num_procs = 32).\n",
      "Loading lcp file for Farsite #1: /home/jovyan/farsite/inputs/landscapes/Maria2019.lcp\n",
      "Loading inputs file for Farsite #1: /home/jovyan/data/20221209/Run_01016/config\n",
      "Loading ignition file for Farsite #1: /home/jovyan/data/ignitions/Maria2019U0016.shp\n",
      "Loading barrier file for Farsite #1: /home/jovyan/farsite/inputs/barriers/NoBarrier/NoBarrier.shp\n",
      "Launching Farsite #1\n",
      "Starting time step 0.000000 (maximum = 15)\n",
      "Writing outputs for Farsite #1 to /home/jovyan/data/20221209/Run_01016/out\n"
     ]
    },
    {
     "name": "stderr",
     "output_type": "stream",
     "text": [
      "/home/jovyan/farsite-devAPI/src/farsiteutils_v2.py:177: FutureWarning: The frame.append method is deprecated and will be removed from pandas in a future version. Use pandas.concat instead.\n",
      "  self.gdfsimulation = self.gdfsimulation.append(gdfappend)\n"
     ]
    },
    {
     "name": "stdout",
     "output_type": "stream",
     "text": [
      "Farsite $Rev: 2395 $\n",
      "Number of parallel threads = 4 (omp_get_num_procs = 32).\n",
      "Loading lcp file for Farsite #1: /home/jovyan/farsite/inputs/landscapes/Maria2019.lcp\n",
      "Loading inputs file for Farsite #1: /home/jovyan/data/20221209/Run_01017/config\n",
      "Loading ignition file for Farsite #1: /home/jovyan/data/ignitions/Maria2019U0017.shp\n",
      "Loading barrier file for Farsite #1: /home/jovyan/farsite/inputs/barriers/NoBarrier/NoBarrier.shp\n",
      "Launching Farsite #1\n",
      "Starting time step 0.000000 (maximum = 15)\n",
      "Writing outputs for Farsite #1 to /home/jovyan/data/20221209/Run_01017/out\n"
     ]
    },
    {
     "name": "stderr",
     "output_type": "stream",
     "text": [
      "/home/jovyan/farsite-devAPI/src/farsiteutils_v2.py:177: FutureWarning: The frame.append method is deprecated and will be removed from pandas in a future version. Use pandas.concat instead.\n",
      "  self.gdfsimulation = self.gdfsimulation.append(gdfappend)\n"
     ]
    },
    {
     "name": "stdout",
     "output_type": "stream",
     "text": [
      "Farsite $Rev: 2395 $\n",
      "Number of parallel threads = 4 (omp_get_num_procs = 32).\n",
      "Loading lcp file for Farsite #1: /home/jovyan/farsite/inputs/landscapes/Maria2019.lcp\n",
      "Loading inputs file for Farsite #1: /home/jovyan/data/20221209/Run_01018/config\n",
      "Loading ignition file for Farsite #1: /home/jovyan/data/ignitions/Maria2019U0018.shp\n",
      "Loading barrier file for Farsite #1: /home/jovyan/farsite/inputs/barriers/NoBarrier/NoBarrier.shp\n",
      "Launching Farsite #1\n",
      "Starting time step 0.000000 (maximum = 15)\n",
      "Writing outputs for Farsite #1 to /home/jovyan/data/20221209/Run_01018/out\n"
     ]
    },
    {
     "name": "stderr",
     "output_type": "stream",
     "text": [
      "/home/jovyan/farsite-devAPI/src/farsiteutils_v2.py:177: FutureWarning: The frame.append method is deprecated and will be removed from pandas in a future version. Use pandas.concat instead.\n",
      "  self.gdfsimulation = self.gdfsimulation.append(gdfappend)\n"
     ]
    },
    {
     "name": "stdout",
     "output_type": "stream",
     "text": [
      "Farsite $Rev: 2395 $\n",
      "Number of parallel threads = 4 (omp_get_num_procs = 32).\n",
      "Loading lcp file for Farsite #1: /home/jovyan/farsite/inputs/landscapes/Maria2019.lcp\n",
      "Loading inputs file for Farsite #1: /home/jovyan/data/20221209/Run_01019/config\n",
      "Loading ignition file for Farsite #1: /home/jovyan/data/ignitions/Maria2019U0019.shp\n",
      "Loading barrier file for Farsite #1: /home/jovyan/farsite/inputs/barriers/NoBarrier/NoBarrier.shp\n",
      "Launching Farsite #1\n",
      "Starting time step 0.000000 (maximum = 15)\n",
      "Writing outputs for Farsite #1 to /home/jovyan/data/20221209/Run_01019/out\n"
     ]
    },
    {
     "name": "stderr",
     "output_type": "stream",
     "text": [
      "/home/jovyan/farsite-devAPI/src/farsiteutils_v2.py:177: FutureWarning: The frame.append method is deprecated and will be removed from pandas in a future version. Use pandas.concat instead.\n",
      "  self.gdfsimulation = self.gdfsimulation.append(gdfappend)\n"
     ]
    },
    {
     "name": "stdout",
     "output_type": "stream",
     "text": [
      "Farsite $Rev: 2395 $\n",
      "Number of parallel threads = 4 (omp_get_num_procs = 32).\n",
      "Loading lcp file for Farsite #1: /home/jovyan/farsite/inputs/landscapes/Maria2019.lcp\n",
      "Loading inputs file for Farsite #1: /home/jovyan/data/20221209/Run_01020/config\n",
      "Loading ignition file for Farsite #1: /home/jovyan/data/ignitions/Maria2019U0020.shp\n",
      "Loading barrier file for Farsite #1: /home/jovyan/farsite/inputs/barriers/NoBarrier/NoBarrier.shp\n",
      "Launching Farsite #1\n",
      "Starting time step 0.000000 (maximum = 15)\n",
      "Writing outputs for Farsite #1 to /home/jovyan/data/20221209/Run_01020/out\n"
     ]
    },
    {
     "name": "stderr",
     "output_type": "stream",
     "text": [
      "/home/jovyan/farsite-devAPI/src/farsiteutils_v2.py:177: FutureWarning: The frame.append method is deprecated and will be removed from pandas in a future version. Use pandas.concat instead.\n",
      "  self.gdfsimulation = self.gdfsimulation.append(gdfappend)\n"
     ]
    },
    {
     "name": "stdout",
     "output_type": "stream",
     "text": [
      "Farsite $Rev: 2395 $\n",
      "Number of parallel threads = 4 (omp_get_num_procs = 32).\n",
      "Loading lcp file for Farsite #1: /home/jovyan/farsite/inputs/landscapes/Maria2019.lcp\n",
      "Loading inputs file for Farsite #1: /home/jovyan/data/20221209/Run_01021/config\n",
      "Loading ignition file for Farsite #1: /home/jovyan/data/ignitions/Maria2019U0021.shp\n",
      "Loading barrier file for Farsite #1: /home/jovyan/farsite/inputs/barriers/NoBarrier/NoBarrier.shp\n",
      "Launching Farsite #1\n",
      "Starting time step 0.000000 (maximum = 15)\n",
      "Writing outputs for Farsite #1 to /home/jovyan/data/20221209/Run_01021/out\n"
     ]
    },
    {
     "name": "stderr",
     "output_type": "stream",
     "text": [
      "/home/jovyan/farsite-devAPI/src/farsiteutils_v2.py:177: FutureWarning: The frame.append method is deprecated and will be removed from pandas in a future version. Use pandas.concat instead.\n",
      "  self.gdfsimulation = self.gdfsimulation.append(gdfappend)\n"
     ]
    },
    {
     "name": "stdout",
     "output_type": "stream",
     "text": [
      "Farsite $Rev: 2395 $\n",
      "Number of parallel threads = 4 (omp_get_num_procs = 32).\n",
      "Loading lcp file for Farsite #1: /home/jovyan/farsite/inputs/landscapes/Maria2019.lcp\n",
      "Loading inputs file for Farsite #1: /home/jovyan/data/20221209/Run_01022/config\n",
      "Loading ignition file for Farsite #1: /home/jovyan/data/ignitions/Maria2019U0022.shp\n",
      "Loading barrier file for Farsite #1: /home/jovyan/farsite/inputs/barriers/NoBarrier/NoBarrier.shp\n",
      "Launching Farsite #1\n",
      "Starting time step 0.000000 (maximum = 15)\n",
      "Writing outputs for Farsite #1 to /home/jovyan/data/20221209/Run_01022/out\n"
     ]
    },
    {
     "name": "stderr",
     "output_type": "stream",
     "text": [
      "/home/jovyan/farsite-devAPI/src/farsiteutils_v2.py:177: FutureWarning: The frame.append method is deprecated and will be removed from pandas in a future version. Use pandas.concat instead.\n",
      "  self.gdfsimulation = self.gdfsimulation.append(gdfappend)\n"
     ]
    },
    {
     "name": "stdout",
     "output_type": "stream",
     "text": [
      "Farsite $Rev: 2395 $\n",
      "Number of parallel threads = 4 (omp_get_num_procs = 32).\n",
      "Loading lcp file for Farsite #1: /home/jovyan/farsite/inputs/landscapes/Maria2019.lcp\n",
      "Loading inputs file for Farsite #1: /home/jovyan/data/20221209/Run_01023/config\n",
      "Loading ignition file for Farsite #1: /home/jovyan/data/ignitions/Maria2019U0023.shp\n",
      "Loading barrier file for Farsite #1: /home/jovyan/farsite/inputs/barriers/NoBarrier/NoBarrier.shp\n",
      "Launching Farsite #1\n",
      "Starting time step 0.000000 (maximum = 15)\n",
      "Writing outputs for Farsite #1 to /home/jovyan/data/20221209/Run_01023/out\n"
     ]
    },
    {
     "name": "stderr",
     "output_type": "stream",
     "text": [
      "/home/jovyan/farsite-devAPI/src/farsiteutils_v2.py:177: FutureWarning: The frame.append method is deprecated and will be removed from pandas in a future version. Use pandas.concat instead.\n",
      "  self.gdfsimulation = self.gdfsimulation.append(gdfappend)\n"
     ]
    },
    {
     "name": "stdout",
     "output_type": "stream",
     "text": [
      "Farsite $Rev: 2395 $\n",
      "Number of parallel threads = 4 (omp_get_num_procs = 32).\n",
      "Loading lcp file for Farsite #1: /home/jovyan/farsite/inputs/landscapes/Maria2019.lcp\n",
      "Loading inputs file for Farsite #1: /home/jovyan/data/20221209/Run_01024/config\n",
      "Loading ignition file for Farsite #1: /home/jovyan/data/ignitions/Maria2019U0024.shp\n",
      "Loading barrier file for Farsite #1: /home/jovyan/farsite/inputs/barriers/NoBarrier/NoBarrier.shp\n",
      "Launching Farsite #1\n",
      "Starting time step 0.000000 (maximum = 15)\n",
      "Writing outputs for Farsite #1 to /home/jovyan/data/20221209/Run_01024/out\n"
     ]
    },
    {
     "name": "stderr",
     "output_type": "stream",
     "text": [
      "/home/jovyan/farsite-devAPI/src/farsiteutils_v2.py:177: FutureWarning: The frame.append method is deprecated and will be removed from pandas in a future version. Use pandas.concat instead.\n",
      "  self.gdfsimulation = self.gdfsimulation.append(gdfappend)\n"
     ]
    },
    {
     "name": "stdout",
     "output_type": "stream",
     "text": [
      "Farsite $Rev: 2395 $\n",
      "Number of parallel threads = 4 (omp_get_num_procs = 32).\n",
      "Loading lcp file for Farsite #1: /home/jovyan/farsite/inputs/landscapes/Maria2019.lcp\n",
      "Loading inputs file for Farsite #1: /home/jovyan/data/20221209/Run_01025/config\n",
      "Loading ignition file for Farsite #1: /home/jovyan/data/ignitions/Maria2019U0025.shp\n",
      "Loading barrier file for Farsite #1: /home/jovyan/farsite/inputs/barriers/NoBarrier/NoBarrier.shp\n",
      "Launching Farsite #1\n",
      "Starting time step 0.000000 (maximum = 15)\n",
      "Writing outputs for Farsite #1 to /home/jovyan/data/20221209/Run_01025/out\n"
     ]
    },
    {
     "name": "stderr",
     "output_type": "stream",
     "text": [
      "/home/jovyan/farsite-devAPI/src/farsiteutils_v2.py:177: FutureWarning: The frame.append method is deprecated and will be removed from pandas in a future version. Use pandas.concat instead.\n",
      "  self.gdfsimulation = self.gdfsimulation.append(gdfappend)\n"
     ]
    },
    {
     "name": "stdout",
     "output_type": "stream",
     "text": [
      "Farsite $Rev: 2395 $\n",
      "Number of parallel threads = 4 (omp_get_num_procs = 32).\n",
      "Loading lcp file for Farsite #1: /home/jovyan/farsite/inputs/landscapes/Maria2019.lcp\n",
      "Loading inputs file for Farsite #1: /home/jovyan/data/20221209/Run_01026/config\n",
      "Loading ignition file for Farsite #1: /home/jovyan/data/ignitions/Maria2019U0026.shp\n",
      "Loading barrier file for Farsite #1: /home/jovyan/farsite/inputs/barriers/NoBarrier/NoBarrier.shp\n",
      "Launching Farsite #1\n",
      "Starting time step 0.000000 (maximum = 15)\n",
      "Writing outputs for Farsite #1 to /home/jovyan/data/20221209/Run_01026/out\n"
     ]
    },
    {
     "name": "stderr",
     "output_type": "stream",
     "text": [
      "/home/jovyan/farsite-devAPI/src/farsiteutils_v2.py:177: FutureWarning: The frame.append method is deprecated and will be removed from pandas in a future version. Use pandas.concat instead.\n",
      "  self.gdfsimulation = self.gdfsimulation.append(gdfappend)\n"
     ]
    },
    {
     "name": "stdout",
     "output_type": "stream",
     "text": [
      "Farsite $Rev: 2395 $\n",
      "Number of parallel threads = 4 (omp_get_num_procs = 32).\n",
      "Loading lcp file for Farsite #1: /home/jovyan/farsite/inputs/landscapes/Maria2019.lcp\n",
      "Loading inputs file for Farsite #1: /home/jovyan/data/20221209/Run_01027/config\n",
      "Loading ignition file for Farsite #1: /home/jovyan/data/ignitions/Maria2019U0027.shp\n",
      "Loading barrier file for Farsite #1: /home/jovyan/farsite/inputs/barriers/NoBarrier/NoBarrier.shp\n",
      "Launching Farsite #1\n",
      "Starting time step 0.000000 (maximum = 15)\n",
      "Writing outputs for Farsite #1 to /home/jovyan/data/20221209/Run_01027/out\n"
     ]
    },
    {
     "name": "stderr",
     "output_type": "stream",
     "text": [
      "/home/jovyan/farsite-devAPI/src/farsiteutils_v2.py:177: FutureWarning: The frame.append method is deprecated and will be removed from pandas in a future version. Use pandas.concat instead.\n",
      "  self.gdfsimulation = self.gdfsimulation.append(gdfappend)\n"
     ]
    },
    {
     "name": "stdout",
     "output_type": "stream",
     "text": [
      "Farsite $Rev: 2395 $\n",
      "Number of parallel threads = 4 (omp_get_num_procs = 32).\n",
      "Loading lcp file for Farsite #1: /home/jovyan/farsite/inputs/landscapes/Maria2019.lcp\n",
      "Loading inputs file for Farsite #1: /home/jovyan/data/20221209/Run_01028/config\n",
      "Loading ignition file for Farsite #1: /home/jovyan/data/ignitions/Maria2019U0028.shp\n",
      "Loading barrier file for Farsite #1: /home/jovyan/farsite/inputs/barriers/NoBarrier/NoBarrier.shp\n",
      "Launching Farsite #1\n",
      "Starting time step 0.000000 (maximum = 15)\n",
      "Writing outputs for Farsite #1 to /home/jovyan/data/20221209/Run_01028/out\n"
     ]
    },
    {
     "name": "stderr",
     "output_type": "stream",
     "text": [
      "/home/jovyan/farsite-devAPI/src/farsiteutils_v2.py:177: FutureWarning: The frame.append method is deprecated and will be removed from pandas in a future version. Use pandas.concat instead.\n",
      "  self.gdfsimulation = self.gdfsimulation.append(gdfappend)\n"
     ]
    },
    {
     "name": "stdout",
     "output_type": "stream",
     "text": [
      "Farsite $Rev: 2395 $\n",
      "Number of parallel threads = 4 (omp_get_num_procs = 32).\n",
      "Loading lcp file for Farsite #1: /home/jovyan/farsite/inputs/landscapes/Maria2019.lcp\n",
      "Loading inputs file for Farsite #1: /home/jovyan/data/20221209/Run_01029/config\n",
      "Loading ignition file for Farsite #1: /home/jovyan/data/ignitions/Maria2019U0029.shp\n",
      "Loading barrier file for Farsite #1: /home/jovyan/farsite/inputs/barriers/NoBarrier/NoBarrier.shp\n",
      "Launching Farsite #1\n",
      "Starting time step 0.000000 (maximum = 15)\n",
      "Writing outputs for Farsite #1 to /home/jovyan/data/20221209/Run_01029/out\n"
     ]
    },
    {
     "name": "stderr",
     "output_type": "stream",
     "text": [
      "/home/jovyan/farsite-devAPI/src/farsiteutils_v2.py:177: FutureWarning: The frame.append method is deprecated and will be removed from pandas in a future version. Use pandas.concat instead.\n",
      "  self.gdfsimulation = self.gdfsimulation.append(gdfappend)\n"
     ]
    },
    {
     "name": "stdout",
     "output_type": "stream",
     "text": [
      "Farsite $Rev: 2395 $\n",
      "Number of parallel threads = 4 (omp_get_num_procs = 32).\n",
      "Loading lcp file for Farsite #1: /home/jovyan/farsite/inputs/landscapes/Maria2019.lcp\n",
      "Loading inputs file for Farsite #1: /home/jovyan/data/20221209/Run_01030/config\n",
      "Loading ignition file for Farsite #1: /home/jovyan/data/ignitions/Maria2019U0030.shp\n",
      "Loading barrier file for Farsite #1: /home/jovyan/farsite/inputs/barriers/NoBarrier/NoBarrier.shp\n",
      "Launching Farsite #1\n",
      "Starting time step 0.000000 (maximum = 15)\n",
      "Writing outputs for Farsite #1 to /home/jovyan/data/20221209/Run_01030/out\n"
     ]
    },
    {
     "name": "stderr",
     "output_type": "stream",
     "text": [
      "/home/jovyan/farsite-devAPI/src/farsiteutils_v2.py:177: FutureWarning: The frame.append method is deprecated and will be removed from pandas in a future version. Use pandas.concat instead.\n",
      "  self.gdfsimulation = self.gdfsimulation.append(gdfappend)\n"
     ]
    },
    {
     "name": "stdout",
     "output_type": "stream",
     "text": [
      "Farsite $Rev: 2395 $\n",
      "Number of parallel threads = 4 (omp_get_num_procs = 32).\n",
      "Loading lcp file for Farsite #1: /home/jovyan/farsite/inputs/landscapes/Maria2019.lcp\n",
      "Loading inputs file for Farsite #1: /home/jovyan/data/20221209/Run_01031/config\n",
      "Loading ignition file for Farsite #1: /home/jovyan/data/ignitions/Maria2019U0031.shp\n",
      "Loading barrier file for Farsite #1: /home/jovyan/farsite/inputs/barriers/NoBarrier/NoBarrier.shp\n",
      "Launching Farsite #1\n",
      "Starting time step 0.000000 (maximum = 15)\n",
      "Writing outputs for Farsite #1 to /home/jovyan/data/20221209/Run_01031/out\n"
     ]
    },
    {
     "name": "stderr",
     "output_type": "stream",
     "text": [
      "/home/jovyan/farsite-devAPI/src/farsiteutils_v2.py:177: FutureWarning: The frame.append method is deprecated and will be removed from pandas in a future version. Use pandas.concat instead.\n",
      "  self.gdfsimulation = self.gdfsimulation.append(gdfappend)\n"
     ]
    },
    {
     "name": "stdout",
     "output_type": "stream",
     "text": [
      "Farsite $Rev: 2395 $\n",
      "Number of parallel threads = 4 (omp_get_num_procs = 32).\n",
      "Loading lcp file for Farsite #1: /home/jovyan/farsite/inputs/landscapes/Maria2019.lcp\n",
      "Loading inputs file for Farsite #1: /home/jovyan/data/20221209/Run_01032/config\n",
      "Loading ignition file for Farsite #1: /home/jovyan/data/ignitions/Maria2019U0032.shp\n",
      "Loading barrier file for Farsite #1: /home/jovyan/farsite/inputs/barriers/NoBarrier/NoBarrier.shp\n",
      "Launching Farsite #1\n",
      "Starting time step 0.000000 (maximum = 15)\n",
      "Writing outputs for Farsite #1 to /home/jovyan/data/20221209/Run_01032/out\n"
     ]
    },
    {
     "name": "stderr",
     "output_type": "stream",
     "text": [
      "/home/jovyan/farsite-devAPI/src/farsiteutils_v2.py:177: FutureWarning: The frame.append method is deprecated and will be removed from pandas in a future version. Use pandas.concat instead.\n",
      "  self.gdfsimulation = self.gdfsimulation.append(gdfappend)\n"
     ]
    },
    {
     "name": "stdout",
     "output_type": "stream",
     "text": [
      "Farsite $Rev: 2395 $\n",
      "Number of parallel threads = 4 (omp_get_num_procs = 32).\n",
      "Loading lcp file for Farsite #1: /home/jovyan/farsite/inputs/landscapes/Maria2019.lcp\n",
      "Loading inputs file for Farsite #1: /home/jovyan/data/20221209/Run_01033/config\n",
      "Loading ignition file for Farsite #1: /home/jovyan/data/ignitions/Maria2019U0033.shp\n",
      "Loading barrier file for Farsite #1: /home/jovyan/farsite/inputs/barriers/NoBarrier/NoBarrier.shp\n",
      "Launching Farsite #1\n",
      "Starting time step 0.000000 (maximum = 15)\n",
      "Writing outputs for Farsite #1 to /home/jovyan/data/20221209/Run_01033/out\n"
     ]
    },
    {
     "name": "stderr",
     "output_type": "stream",
     "text": [
      "/home/jovyan/farsite-devAPI/src/farsiteutils_v2.py:177: FutureWarning: The frame.append method is deprecated and will be removed from pandas in a future version. Use pandas.concat instead.\n",
      "  self.gdfsimulation = self.gdfsimulation.append(gdfappend)\n"
     ]
    },
    {
     "name": "stdout",
     "output_type": "stream",
     "text": [
      "Farsite $Rev: 2395 $\n",
      "Number of parallel threads = 4 (omp_get_num_procs = 32).\n",
      "Loading lcp file for Farsite #1: /home/jovyan/farsite/inputs/landscapes/Maria2019.lcp\n",
      "Loading inputs file for Farsite #1: /home/jovyan/data/20221209/Run_01034/config\n",
      "Loading ignition file for Farsite #1: /home/jovyan/data/ignitions/Maria2019U0034.shp\n",
      "Loading barrier file for Farsite #1: /home/jovyan/farsite/inputs/barriers/NoBarrier/NoBarrier.shp\n",
      "Launching Farsite #1\n",
      "Starting time step 0.000000 (maximum = 15)\n",
      "Writing outputs for Farsite #1 to /home/jovyan/data/20221209/Run_01034/out\n"
     ]
    },
    {
     "name": "stderr",
     "output_type": "stream",
     "text": [
      "/home/jovyan/farsite-devAPI/src/farsiteutils_v2.py:177: FutureWarning: The frame.append method is deprecated and will be removed from pandas in a future version. Use pandas.concat instead.\n",
      "  self.gdfsimulation = self.gdfsimulation.append(gdfappend)\n"
     ]
    },
    {
     "name": "stdout",
     "output_type": "stream",
     "text": [
      "Farsite $Rev: 2395 $\n",
      "Number of parallel threads = 4 (omp_get_num_procs = 32).\n",
      "Loading lcp file for Farsite #1: /home/jovyan/farsite/inputs/landscapes/Maria2019.lcp\n",
      "Loading inputs file for Farsite #1: /home/jovyan/data/20221209/Run_01035/config\n",
      "Loading ignition file for Farsite #1: /home/jovyan/data/ignitions/Maria2019U0035.shp\n",
      "Loading barrier file for Farsite #1: /home/jovyan/farsite/inputs/barriers/NoBarrier/NoBarrier.shp\n",
      "Launching Farsite #1\n",
      "Starting time step 0.000000 (maximum = 15)\n",
      "Writing outputs for Farsite #1 to /home/jovyan/data/20221209/Run_01035/out\n"
     ]
    },
    {
     "name": "stderr",
     "output_type": "stream",
     "text": [
      "/home/jovyan/farsite-devAPI/src/farsiteutils_v2.py:177: FutureWarning: The frame.append method is deprecated and will be removed from pandas in a future version. Use pandas.concat instead.\n",
      "  self.gdfsimulation = self.gdfsimulation.append(gdfappend)\n"
     ]
    },
    {
     "name": "stdout",
     "output_type": "stream",
     "text": [
      "Farsite $Rev: 2395 $\n",
      "Number of parallel threads = 4 (omp_get_num_procs = 32).\n",
      "Loading lcp file for Farsite #1: /home/jovyan/farsite/inputs/landscapes/Maria2019.lcp\n",
      "Loading inputs file for Farsite #1: /home/jovyan/data/20221209/Run_01036/config\n",
      "Loading ignition file for Farsite #1: /home/jovyan/data/ignitions/Maria2019U0036.shp\n",
      "Loading barrier file for Farsite #1: /home/jovyan/farsite/inputs/barriers/NoBarrier/NoBarrier.shp\n",
      "Launching Farsite #1\n",
      "Starting time step 0.000000 (maximum = 15)\n",
      "Writing outputs for Farsite #1 to /home/jovyan/data/20221209/Run_01036/out\n"
     ]
    },
    {
     "name": "stderr",
     "output_type": "stream",
     "text": [
      "/home/jovyan/farsite-devAPI/src/farsiteutils_v2.py:177: FutureWarning: The frame.append method is deprecated and will be removed from pandas in a future version. Use pandas.concat instead.\n",
      "  self.gdfsimulation = self.gdfsimulation.append(gdfappend)\n"
     ]
    },
    {
     "name": "stdout",
     "output_type": "stream",
     "text": [
      "Farsite $Rev: 2395 $\n",
      "Number of parallel threads = 4 (omp_get_num_procs = 32).\n",
      "Loading lcp file for Farsite #1: /home/jovyan/farsite/inputs/landscapes/Maria2019.lcp\n",
      "Loading inputs file for Farsite #1: /home/jovyan/data/20221209/Run_01037/config\n",
      "Loading ignition file for Farsite #1: /home/jovyan/data/ignitions/Maria2019U0037.shp\n",
      "Loading barrier file for Farsite #1: /home/jovyan/farsite/inputs/barriers/NoBarrier/NoBarrier.shp\n",
      "Launching Farsite #1\n",
      "Starting time step 0.000000 (maximum = 15)\n",
      "Writing outputs for Farsite #1 to /home/jovyan/data/20221209/Run_01037/out\n"
     ]
    },
    {
     "name": "stderr",
     "output_type": "stream",
     "text": [
      "/home/jovyan/farsite-devAPI/src/farsiteutils_v2.py:177: FutureWarning: The frame.append method is deprecated and will be removed from pandas in a future version. Use pandas.concat instead.\n",
      "  self.gdfsimulation = self.gdfsimulation.append(gdfappend)\n"
     ]
    },
    {
     "name": "stdout",
     "output_type": "stream",
     "text": [
      "Farsite $Rev: 2395 $\n",
      "Number of parallel threads = 4 (omp_get_num_procs = 32).\n",
      "Loading lcp file for Farsite #1: /home/jovyan/farsite/inputs/landscapes/Maria2019.lcp\n",
      "Loading inputs file for Farsite #1: /home/jovyan/data/20221209/Run_01038/config\n",
      "Loading ignition file for Farsite #1: /home/jovyan/data/ignitions/Maria2019U0038.shp\n",
      "Loading barrier file for Farsite #1: /home/jovyan/farsite/inputs/barriers/NoBarrier/NoBarrier.shp\n",
      "Launching Farsite #1\n",
      "Starting time step 0.000000 (maximum = 15)\n",
      "Writing outputs for Farsite #1 to /home/jovyan/data/20221209/Run_01038/out\n"
     ]
    },
    {
     "name": "stderr",
     "output_type": "stream",
     "text": [
      "/home/jovyan/farsite-devAPI/src/farsiteutils_v2.py:177: FutureWarning: The frame.append method is deprecated and will be removed from pandas in a future version. Use pandas.concat instead.\n",
      "  self.gdfsimulation = self.gdfsimulation.append(gdfappend)\n"
     ]
    },
    {
     "name": "stdout",
     "output_type": "stream",
     "text": [
      "Farsite $Rev: 2395 $\n",
      "Number of parallel threads = 4 (omp_get_num_procs = 32).\n",
      "Loading lcp file for Farsite #1: /home/jovyan/farsite/inputs/landscapes/Maria2019.lcp\n",
      "Loading inputs file for Farsite #1: /home/jovyan/data/20221209/Run_01039/config\n",
      "Loading ignition file for Farsite #1: /home/jovyan/data/ignitions/Maria2019U0039.shp\n",
      "Loading barrier file for Farsite #1: /home/jovyan/farsite/inputs/barriers/NoBarrier/NoBarrier.shp\n",
      "Launching Farsite #1\n",
      "Starting time step 0.000000 (maximum = 15)\n",
      "Writing outputs for Farsite #1 to /home/jovyan/data/20221209/Run_01039/out\n"
     ]
    },
    {
     "name": "stderr",
     "output_type": "stream",
     "text": [
      "/home/jovyan/farsite-devAPI/src/farsiteutils_v2.py:177: FutureWarning: The frame.append method is deprecated and will be removed from pandas in a future version. Use pandas.concat instead.\n",
      "  self.gdfsimulation = self.gdfsimulation.append(gdfappend)\n"
     ]
    },
    {
     "name": "stdout",
     "output_type": "stream",
     "text": [
      "Farsite $Rev: 2395 $\n",
      "Number of parallel threads = 4 (omp_get_num_procs = 32).\n",
      "Loading lcp file for Farsite #1: /home/jovyan/farsite/inputs/landscapes/Maria2019.lcp\n",
      "Loading inputs file for Farsite #1: /home/jovyan/data/20221209/Run_01040/config\n",
      "Loading ignition file for Farsite #1: /home/jovyan/data/ignitions/Maria2019U0040.shp\n",
      "Loading barrier file for Farsite #1: /home/jovyan/farsite/inputs/barriers/NoBarrier/NoBarrier.shp\n",
      "Launching Farsite #1\n",
      "Starting time step 0.000000 (maximum = 15)\n",
      "Writing outputs for Farsite #1 to /home/jovyan/data/20221209/Run_01040/out\n"
     ]
    },
    {
     "name": "stderr",
     "output_type": "stream",
     "text": [
      "/home/jovyan/farsite-devAPI/src/farsiteutils_v2.py:177: FutureWarning: The frame.append method is deprecated and will be removed from pandas in a future version. Use pandas.concat instead.\n",
      "  self.gdfsimulation = self.gdfsimulation.append(gdfappend)\n"
     ]
    },
    {
     "name": "stdout",
     "output_type": "stream",
     "text": [
      "Farsite $Rev: 2395 $\n",
      "Number of parallel threads = 4 (omp_get_num_procs = 32).\n",
      "Loading lcp file for Farsite #1: /home/jovyan/farsite/inputs/landscapes/Maria2019.lcp\n",
      "Loading inputs file for Farsite #1: /home/jovyan/data/20221209/Run_01041/config\n",
      "Loading ignition file for Farsite #1: /home/jovyan/data/ignitions/Maria2019U0041.shp\n",
      "Loading barrier file for Farsite #1: /home/jovyan/farsite/inputs/barriers/NoBarrier/NoBarrier.shp\n",
      "Launching Farsite #1\n",
      "Starting time step 0.000000 (maximum = 15)\n",
      "Writing outputs for Farsite #1 to /home/jovyan/data/20221209/Run_01041/out\n"
     ]
    },
    {
     "name": "stderr",
     "output_type": "stream",
     "text": [
      "/home/jovyan/farsite-devAPI/src/farsiteutils_v2.py:177: FutureWarning: The frame.append method is deprecated and will be removed from pandas in a future version. Use pandas.concat instead.\n",
      "  self.gdfsimulation = self.gdfsimulation.append(gdfappend)\n"
     ]
    },
    {
     "name": "stdout",
     "output_type": "stream",
     "text": [
      "Farsite $Rev: 2395 $\n",
      "Number of parallel threads = 4 (omp_get_num_procs = 32).\n",
      "Loading lcp file for Farsite #1: /home/jovyan/farsite/inputs/landscapes/Maria2019.lcp\n",
      "Loading inputs file for Farsite #1: /home/jovyan/data/20221209/Run_01042/config\n",
      "Loading ignition file for Farsite #1: /home/jovyan/data/ignitions/Maria2019U0042.shp\n",
      "Loading barrier file for Farsite #1: /home/jovyan/farsite/inputs/barriers/NoBarrier/NoBarrier.shp\n",
      "Launching Farsite #1\n",
      "Starting time step 0.000000 (maximum = 15)\n",
      "Writing outputs for Farsite #1 to /home/jovyan/data/20221209/Run_01042/out\n"
     ]
    },
    {
     "name": "stderr",
     "output_type": "stream",
     "text": [
      "/home/jovyan/farsite-devAPI/src/farsiteutils_v2.py:177: FutureWarning: The frame.append method is deprecated and will be removed from pandas in a future version. Use pandas.concat instead.\n",
      "  self.gdfsimulation = self.gdfsimulation.append(gdfappend)\n"
     ]
    },
    {
     "name": "stdout",
     "output_type": "stream",
     "text": [
      "Farsite $Rev: 2395 $\n",
      "Number of parallel threads = 4 (omp_get_num_procs = 32).\n",
      "Loading lcp file for Farsite #1: /home/jovyan/farsite/inputs/landscapes/Maria2019.lcp\n",
      "Loading inputs file for Farsite #1: /home/jovyan/data/20221209/Run_01043/config\n",
      "Loading ignition file for Farsite #1: /home/jovyan/data/ignitions/Maria2019U0043.shp\n",
      "Loading barrier file for Farsite #1: /home/jovyan/farsite/inputs/barriers/NoBarrier/NoBarrier.shp\n",
      "Launching Farsite #1\n",
      "Starting time step 0.000000 (maximum = 15)\n",
      "Writing outputs for Farsite #1 to /home/jovyan/data/20221209/Run_01043/out\n"
     ]
    },
    {
     "name": "stderr",
     "output_type": "stream",
     "text": [
      "/home/jovyan/farsite-devAPI/src/farsiteutils_v2.py:177: FutureWarning: The frame.append method is deprecated and will be removed from pandas in a future version. Use pandas.concat instead.\n",
      "  self.gdfsimulation = self.gdfsimulation.append(gdfappend)\n"
     ]
    },
    {
     "name": "stdout",
     "output_type": "stream",
     "text": [
      "Farsite $Rev: 2395 $\n",
      "Number of parallel threads = 4 (omp_get_num_procs = 32).\n",
      "Loading lcp file for Farsite #1: /home/jovyan/farsite/inputs/landscapes/Maria2019.lcp\n",
      "Loading inputs file for Farsite #1: /home/jovyan/data/20221209/Run_01044/config\n",
      "Loading ignition file for Farsite #1: /home/jovyan/data/ignitions/Maria2019U0044.shp\n",
      "Loading barrier file for Farsite #1: /home/jovyan/farsite/inputs/barriers/NoBarrier/NoBarrier.shp\n",
      "Launching Farsite #1\n",
      "Starting time step 0.000000 (maximum = 15)\n",
      "Writing outputs for Farsite #1 to /home/jovyan/data/20221209/Run_01044/out\n"
     ]
    },
    {
     "name": "stderr",
     "output_type": "stream",
     "text": [
      "/home/jovyan/farsite-devAPI/src/farsiteutils_v2.py:177: FutureWarning: The frame.append method is deprecated and will be removed from pandas in a future version. Use pandas.concat instead.\n",
      "  self.gdfsimulation = self.gdfsimulation.append(gdfappend)\n"
     ]
    },
    {
     "name": "stdout",
     "output_type": "stream",
     "text": [
      "Farsite $Rev: 2395 $\n",
      "Number of parallel threads = 4 (omp_get_num_procs = 32).\n",
      "Loading lcp file for Farsite #1: /home/jovyan/farsite/inputs/landscapes/Maria2019.lcp\n",
      "Loading inputs file for Farsite #1: /home/jovyan/data/20221209/Run_01045/config\n",
      "Loading ignition file for Farsite #1: /home/jovyan/data/ignitions/Maria2019U0045.shp\n",
      "Loading barrier file for Farsite #1: /home/jovyan/farsite/inputs/barriers/NoBarrier/NoBarrier.shp\n",
      "Launching Farsite #1\n",
      "Starting time step 0.000000 (maximum = 15)\n",
      "Writing outputs for Farsite #1 to /home/jovyan/data/20221209/Run_01045/out\n"
     ]
    },
    {
     "name": "stderr",
     "output_type": "stream",
     "text": [
      "/home/jovyan/farsite-devAPI/src/farsiteutils_v2.py:177: FutureWarning: The frame.append method is deprecated and will be removed from pandas in a future version. Use pandas.concat instead.\n",
      "  self.gdfsimulation = self.gdfsimulation.append(gdfappend)\n"
     ]
    },
    {
     "name": "stdout",
     "output_type": "stream",
     "text": [
      "Farsite $Rev: 2395 $\n",
      "Number of parallel threads = 4 (omp_get_num_procs = 32).\n",
      "Loading lcp file for Farsite #1: /home/jovyan/farsite/inputs/landscapes/Maria2019.lcp\n",
      "Loading inputs file for Farsite #1: /home/jovyan/data/20221209/Run_01046/config\n",
      "Loading ignition file for Farsite #1: /home/jovyan/data/ignitions/Maria2019U0046.shp\n",
      "Loading barrier file for Farsite #1: /home/jovyan/farsite/inputs/barriers/NoBarrier/NoBarrier.shp\n",
      "Launching Farsite #1\n",
      "Starting time step 0.000000 (maximum = 15)\n",
      "Writing outputs for Farsite #1 to /home/jovyan/data/20221209/Run_01046/out\n"
     ]
    },
    {
     "name": "stderr",
     "output_type": "stream",
     "text": [
      "/home/jovyan/farsite-devAPI/src/farsiteutils_v2.py:177: FutureWarning: The frame.append method is deprecated and will be removed from pandas in a future version. Use pandas.concat instead.\n",
      "  self.gdfsimulation = self.gdfsimulation.append(gdfappend)\n"
     ]
    },
    {
     "name": "stdout",
     "output_type": "stream",
     "text": [
      "Farsite $Rev: 2395 $\n",
      "Number of parallel threads = 4 (omp_get_num_procs = 32).\n",
      "Loading lcp file for Farsite #1: /home/jovyan/farsite/inputs/landscapes/Maria2019.lcp\n",
      "Loading inputs file for Farsite #1: /home/jovyan/data/20221209/Run_01047/config\n",
      "Loading ignition file for Farsite #1: /home/jovyan/data/ignitions/Maria2019U0047.shp\n",
      "Loading barrier file for Farsite #1: /home/jovyan/farsite/inputs/barriers/NoBarrier/NoBarrier.shp\n",
      "Launching Farsite #1\n",
      "Starting time step 0.000000 (maximum = 15)\n",
      "Writing outputs for Farsite #1 to /home/jovyan/data/20221209/Run_01047/out\n"
     ]
    },
    {
     "name": "stderr",
     "output_type": "stream",
     "text": [
      "/home/jovyan/farsite-devAPI/src/farsiteutils_v2.py:177: FutureWarning: The frame.append method is deprecated and will be removed from pandas in a future version. Use pandas.concat instead.\n",
      "  self.gdfsimulation = self.gdfsimulation.append(gdfappend)\n"
     ]
    },
    {
     "name": "stdout",
     "output_type": "stream",
     "text": [
      "Farsite $Rev: 2395 $\n",
      "Number of parallel threads = 4 (omp_get_num_procs = 32).\n",
      "Loading lcp file for Farsite #1: /home/jovyan/farsite/inputs/landscapes/Maria2019.lcp\n",
      "Loading inputs file for Farsite #1: /home/jovyan/data/20221209/Run_01048/config\n",
      "Loading ignition file for Farsite #1: /home/jovyan/data/ignitions/Maria2019U0048.shp\n",
      "Loading barrier file for Farsite #1: /home/jovyan/farsite/inputs/barriers/NoBarrier/NoBarrier.shp\n",
      "Launching Farsite #1\n",
      "Starting time step 0.000000 (maximum = 15)\n",
      "Writing outputs for Farsite #1 to /home/jovyan/data/20221209/Run_01048/out\n"
     ]
    },
    {
     "name": "stderr",
     "output_type": "stream",
     "text": [
      "/home/jovyan/farsite-devAPI/src/farsiteutils_v2.py:177: FutureWarning: The frame.append method is deprecated and will be removed from pandas in a future version. Use pandas.concat instead.\n",
      "  self.gdfsimulation = self.gdfsimulation.append(gdfappend)\n"
     ]
    },
    {
     "name": "stdout",
     "output_type": "stream",
     "text": [
      "Farsite $Rev: 2395 $\n",
      "Number of parallel threads = 4 (omp_get_num_procs = 32).\n",
      "Loading lcp file for Farsite #1: /home/jovyan/farsite/inputs/landscapes/Maria2019.lcp\n",
      "Loading inputs file for Farsite #1: /home/jovyan/data/20221209/Run_01049/config\n",
      "Loading ignition file for Farsite #1: /home/jovyan/data/ignitions/Maria2019U0049.shp\n",
      "Loading barrier file for Farsite #1: /home/jovyan/farsite/inputs/barriers/NoBarrier/NoBarrier.shp\n",
      "Launching Farsite #1\n",
      "Starting time step 0.000000 (maximum = 15)\n",
      "Writing outputs for Farsite #1 to /home/jovyan/data/20221209/Run_01049/out\n"
     ]
    },
    {
     "name": "stderr",
     "output_type": "stream",
     "text": [
      "/home/jovyan/farsite-devAPI/src/farsiteutils_v2.py:177: FutureWarning: The frame.append method is deprecated and will be removed from pandas in a future version. Use pandas.concat instead.\n",
      "  self.gdfsimulation = self.gdfsimulation.append(gdfappend)\n"
     ]
    },
    {
     "name": "stdout",
     "output_type": "stream",
     "text": [
      "Farsite $Rev: 2395 $\n",
      "Number of parallel threads = 4 (omp_get_num_procs = 32).\n",
      "Loading lcp file for Farsite #1: /home/jovyan/farsite/inputs/landscapes/Maria2019.lcp\n",
      "Loading inputs file for Farsite #1: /home/jovyan/data/20221209/Run_01050/config\n",
      "Loading ignition file for Farsite #1: /home/jovyan/data/ignitions/Maria2019U0050.shp\n",
      "Loading barrier file for Farsite #1: /home/jovyan/farsite/inputs/barriers/NoBarrier/NoBarrier.shp\n",
      "Launching Farsite #1\n",
      "Starting time step 0.000000 (maximum = 15)\n",
      "Writing outputs for Farsite #1 to /home/jovyan/data/20221209/Run_01050/out\n"
     ]
    },
    {
     "name": "stderr",
     "output_type": "stream",
     "text": [
      "/home/jovyan/farsite-devAPI/src/farsiteutils_v2.py:177: FutureWarning: The frame.append method is deprecated and will be removed from pandas in a future version. Use pandas.concat instead.\n",
      "  self.gdfsimulation = self.gdfsimulation.append(gdfappend)\n"
     ]
    },
    {
     "name": "stdout",
     "output_type": "stream",
     "text": [
      "Farsite $Rev: 2395 $\n",
      "Number of parallel threads = 4 (omp_get_num_procs = 32).\n",
      "Loading lcp file for Farsite #1: /home/jovyan/farsite/inputs/landscapes/Maria2019.lcp\n",
      "Loading inputs file for Farsite #1: /home/jovyan/data/20221209/Run_01051/config\n",
      "Loading ignition file for Farsite #1: /home/jovyan/data/ignitions/Maria2019U0051.shp\n",
      "Loading barrier file for Farsite #1: /home/jovyan/farsite/inputs/barriers/NoBarrier/NoBarrier.shp\n",
      "Launching Farsite #1\n",
      "Starting time step 0.000000 (maximum = 15)\n",
      "Writing outputs for Farsite #1 to /home/jovyan/data/20221209/Run_01051/out\n"
     ]
    },
    {
     "name": "stderr",
     "output_type": "stream",
     "text": [
      "/home/jovyan/farsite-devAPI/src/farsiteutils_v2.py:177: FutureWarning: The frame.append method is deprecated and will be removed from pandas in a future version. Use pandas.concat instead.\n",
      "  self.gdfsimulation = self.gdfsimulation.append(gdfappend)\n"
     ]
    },
    {
     "name": "stdout",
     "output_type": "stream",
     "text": [
      "Farsite $Rev: 2395 $\n",
      "Number of parallel threads = 4 (omp_get_num_procs = 32).\n",
      "Loading lcp file for Farsite #1: /home/jovyan/farsite/inputs/landscapes/Maria2019.lcp\n",
      "Loading inputs file for Farsite #1: /home/jovyan/data/20221209/Run_01052/config\n",
      "Loading ignition file for Farsite #1: /home/jovyan/data/ignitions/Maria2019U0052.shp\n",
      "Loading barrier file for Farsite #1: /home/jovyan/farsite/inputs/barriers/NoBarrier/NoBarrier.shp\n",
      "Launching Farsite #1\n",
      "Starting time step 0.000000 (maximum = 15)\n",
      "Writing outputs for Farsite #1 to /home/jovyan/data/20221209/Run_01052/out\n"
     ]
    },
    {
     "name": "stderr",
     "output_type": "stream",
     "text": [
      "/home/jovyan/farsite-devAPI/src/farsiteutils_v2.py:177: FutureWarning: The frame.append method is deprecated and will be removed from pandas in a future version. Use pandas.concat instead.\n",
      "  self.gdfsimulation = self.gdfsimulation.append(gdfappend)\n"
     ]
    },
    {
     "name": "stdout",
     "output_type": "stream",
     "text": [
      "Farsite $Rev: 2395 $\n",
      "Number of parallel threads = 4 (omp_get_num_procs = 32).\n",
      "Loading lcp file for Farsite #1: /home/jovyan/farsite/inputs/landscapes/Maria2019.lcp\n",
      "Loading inputs file for Farsite #1: /home/jovyan/data/20221209/Run_01053/config\n",
      "Loading ignition file for Farsite #1: /home/jovyan/data/ignitions/Maria2019U0053.shp\n",
      "Loading barrier file for Farsite #1: /home/jovyan/farsite/inputs/barriers/NoBarrier/NoBarrier.shp\n",
      "Launching Farsite #1\n",
      "Starting time step 0.000000 (maximum = 15)\n",
      "Writing outputs for Farsite #1 to /home/jovyan/data/20221209/Run_01053/out\n"
     ]
    },
    {
     "name": "stderr",
     "output_type": "stream",
     "text": [
      "/home/jovyan/farsite-devAPI/src/farsiteutils_v2.py:177: FutureWarning: The frame.append method is deprecated and will be removed from pandas in a future version. Use pandas.concat instead.\n",
      "  self.gdfsimulation = self.gdfsimulation.append(gdfappend)\n"
     ]
    },
    {
     "name": "stdout",
     "output_type": "stream",
     "text": [
      "Farsite $Rev: 2395 $\n",
      "Number of parallel threads = 4 (omp_get_num_procs = 32).\n",
      "Loading lcp file for Farsite #1: /home/jovyan/farsite/inputs/landscapes/Maria2019.lcp\n",
      "Loading inputs file for Farsite #1: /home/jovyan/data/20221209/Run_01054/config\n",
      "Loading ignition file for Farsite #1: /home/jovyan/data/ignitions/Maria2019U0054.shp\n",
      "Loading barrier file for Farsite #1: /home/jovyan/farsite/inputs/barriers/NoBarrier/NoBarrier.shp\n",
      "Launching Farsite #1\n",
      "Starting time step 0.000000 (maximum = 15)\n",
      "Writing outputs for Farsite #1 to /home/jovyan/data/20221209/Run_01054/out\n"
     ]
    },
    {
     "name": "stderr",
     "output_type": "stream",
     "text": [
      "/home/jovyan/farsite-devAPI/src/farsiteutils_v2.py:177: FutureWarning: The frame.append method is deprecated and will be removed from pandas in a future version. Use pandas.concat instead.\n",
      "  self.gdfsimulation = self.gdfsimulation.append(gdfappend)\n"
     ]
    },
    {
     "name": "stdout",
     "output_type": "stream",
     "text": [
      "Farsite $Rev: 2395 $\n",
      "Number of parallel threads = 4 (omp_get_num_procs = 32).\n",
      "Loading lcp file for Farsite #1: /home/jovyan/farsite/inputs/landscapes/Maria2019.lcp\n",
      "Loading inputs file for Farsite #1: /home/jovyan/data/20221209/Run_01055/config\n",
      "Loading ignition file for Farsite #1: /home/jovyan/data/ignitions/Maria2019U0055.shp\n",
      "Loading barrier file for Farsite #1: /home/jovyan/farsite/inputs/barriers/NoBarrier/NoBarrier.shp\n",
      "Launching Farsite #1\n",
      "Starting time step 0.000000 (maximum = 15)\n",
      "Writing outputs for Farsite #1 to /home/jovyan/data/20221209/Run_01055/out\n"
     ]
    },
    {
     "name": "stderr",
     "output_type": "stream",
     "text": [
      "/home/jovyan/farsite-devAPI/src/farsiteutils_v2.py:177: FutureWarning: The frame.append method is deprecated and will be removed from pandas in a future version. Use pandas.concat instead.\n",
      "  self.gdfsimulation = self.gdfsimulation.append(gdfappend)\n"
     ]
    },
    {
     "name": "stdout",
     "output_type": "stream",
     "text": [
      "Farsite $Rev: 2395 $\n",
      "Number of parallel threads = 4 (omp_get_num_procs = 32).\n",
      "Loading lcp file for Farsite #1: /home/jovyan/farsite/inputs/landscapes/Maria2019.lcp\n",
      "Loading inputs file for Farsite #1: /home/jovyan/data/20221209/Run_01056/config\n",
      "Loading ignition file for Farsite #1: /home/jovyan/data/ignitions/Maria2019U0056.shp\n",
      "Loading barrier file for Farsite #1: /home/jovyan/farsite/inputs/barriers/NoBarrier/NoBarrier.shp\n",
      "Launching Farsite #1\n",
      "Starting time step 0.000000 (maximum = 15)\n",
      "Writing outputs for Farsite #1 to /home/jovyan/data/20221209/Run_01056/out\n"
     ]
    },
    {
     "name": "stderr",
     "output_type": "stream",
     "text": [
      "/home/jovyan/farsite-devAPI/src/farsiteutils_v2.py:177: FutureWarning: The frame.append method is deprecated and will be removed from pandas in a future version. Use pandas.concat instead.\n",
      "  self.gdfsimulation = self.gdfsimulation.append(gdfappend)\n"
     ]
    },
    {
     "name": "stdout",
     "output_type": "stream",
     "text": [
      "Farsite $Rev: 2395 $\n",
      "Number of parallel threads = 4 (omp_get_num_procs = 32).\n",
      "Loading lcp file for Farsite #1: /home/jovyan/farsite/inputs/landscapes/Maria2019.lcp\n",
      "Loading inputs file for Farsite #1: /home/jovyan/data/20221209/Run_01057/config\n",
      "Loading ignition file for Farsite #1: /home/jovyan/data/ignitions/Maria2019U0057.shp\n",
      "Loading barrier file for Farsite #1: /home/jovyan/farsite/inputs/barriers/NoBarrier/NoBarrier.shp\n",
      "Launching Farsite #1\n",
      "Starting time step 0.000000 (maximum = 15)\n",
      "Writing outputs for Farsite #1 to /home/jovyan/data/20221209/Run_01057/out\n"
     ]
    },
    {
     "name": "stderr",
     "output_type": "stream",
     "text": [
      "/home/jovyan/farsite-devAPI/src/farsiteutils_v2.py:177: FutureWarning: The frame.append method is deprecated and will be removed from pandas in a future version. Use pandas.concat instead.\n",
      "  self.gdfsimulation = self.gdfsimulation.append(gdfappend)\n"
     ]
    },
    {
     "name": "stdout",
     "output_type": "stream",
     "text": [
      "Farsite $Rev: 2395 $\n",
      "Number of parallel threads = 4 (omp_get_num_procs = 32).\n",
      "Loading lcp file for Farsite #1: /home/jovyan/farsite/inputs/landscapes/Maria2019.lcp\n",
      "Loading inputs file for Farsite #1: /home/jovyan/data/20221209/Run_01058/config\n",
      "Loading ignition file for Farsite #1: /home/jovyan/data/ignitions/Maria2019U0058.shp\n",
      "Loading barrier file for Farsite #1: /home/jovyan/farsite/inputs/barriers/NoBarrier/NoBarrier.shp\n",
      "Launching Farsite #1\n",
      "Starting time step 0.000000 (maximum = 15)\n",
      "Writing outputs for Farsite #1 to /home/jovyan/data/20221209/Run_01058/out\n"
     ]
    },
    {
     "name": "stderr",
     "output_type": "stream",
     "text": [
      "/home/jovyan/farsite-devAPI/src/farsiteutils_v2.py:177: FutureWarning: The frame.append method is deprecated and will be removed from pandas in a future version. Use pandas.concat instead.\n",
      "  self.gdfsimulation = self.gdfsimulation.append(gdfappend)\n"
     ]
    },
    {
     "name": "stdout",
     "output_type": "stream",
     "text": [
      "Farsite $Rev: 2395 $\n",
      "Number of parallel threads = 4 (omp_get_num_procs = 32).\n",
      "Loading lcp file for Farsite #1: /home/jovyan/farsite/inputs/landscapes/Maria2019.lcp\n",
      "Loading inputs file for Farsite #1: /home/jovyan/data/20221209/Run_01059/config\n",
      "Loading ignition file for Farsite #1: /home/jovyan/data/ignitions/Maria2019U0059.shp\n",
      "Loading barrier file for Farsite #1: /home/jovyan/farsite/inputs/barriers/NoBarrier/NoBarrier.shp\n",
      "Launching Farsite #1\n",
      "Starting time step 0.000000 (maximum = 15)\n",
      "Writing outputs for Farsite #1 to /home/jovyan/data/20221209/Run_01059/out\n"
     ]
    },
    {
     "name": "stderr",
     "output_type": "stream",
     "text": [
      "/home/jovyan/farsite-devAPI/src/farsiteutils_v2.py:177: FutureWarning: The frame.append method is deprecated and will be removed from pandas in a future version. Use pandas.concat instead.\n",
      "  self.gdfsimulation = self.gdfsimulation.append(gdfappend)\n"
     ]
    },
    {
     "name": "stdout",
     "output_type": "stream",
     "text": [
      "Farsite $Rev: 2395 $\n",
      "Number of parallel threads = 4 (omp_get_num_procs = 32).\n",
      "Loading lcp file for Farsite #1: /home/jovyan/farsite/inputs/landscapes/Maria2019.lcp\n",
      "Loading inputs file for Farsite #1: /home/jovyan/data/20221209/Run_01060/config\n",
      "Loading ignition file for Farsite #1: /home/jovyan/data/ignitions/Maria2019U0060.shp\n",
      "Loading barrier file for Farsite #1: /home/jovyan/farsite/inputs/barriers/NoBarrier/NoBarrier.shp\n",
      "Launching Farsite #1\n",
      "Starting time step 0.000000 (maximum = 15)\n",
      "Writing outputs for Farsite #1 to /home/jovyan/data/20221209/Run_01060/out\n"
     ]
    },
    {
     "name": "stderr",
     "output_type": "stream",
     "text": [
      "/home/jovyan/farsite-devAPI/src/farsiteutils_v2.py:177: FutureWarning: The frame.append method is deprecated and will be removed from pandas in a future version. Use pandas.concat instead.\n",
      "  self.gdfsimulation = self.gdfsimulation.append(gdfappend)\n"
     ]
    },
    {
     "name": "stdout",
     "output_type": "stream",
     "text": [
      "Farsite $Rev: 2395 $\n",
      "Number of parallel threads = 4 (omp_get_num_procs = 32).\n",
      "Loading lcp file for Farsite #1: /home/jovyan/farsite/inputs/landscapes/Maria2019.lcp\n",
      "Loading inputs file for Farsite #1: /home/jovyan/data/20221209/Run_01061/config\n",
      "Loading ignition file for Farsite #1: /home/jovyan/data/ignitions/Maria2019U0061.shp\n",
      "Loading barrier file for Farsite #1: /home/jovyan/farsite/inputs/barriers/NoBarrier/NoBarrier.shp\n",
      "Launching Farsite #1\n",
      "Starting time step 0.000000 (maximum = 15)\n",
      "Writing outputs for Farsite #1 to /home/jovyan/data/20221209/Run_01061/out\n"
     ]
    },
    {
     "name": "stderr",
     "output_type": "stream",
     "text": [
      "/home/jovyan/farsite-devAPI/src/farsiteutils_v2.py:177: FutureWarning: The frame.append method is deprecated and will be removed from pandas in a future version. Use pandas.concat instead.\n",
      "  self.gdfsimulation = self.gdfsimulation.append(gdfappend)\n"
     ]
    },
    {
     "name": "stdout",
     "output_type": "stream",
     "text": [
      "Farsite $Rev: 2395 $\n",
      "Number of parallel threads = 4 (omp_get_num_procs = 32).\n",
      "Loading lcp file for Farsite #1: /home/jovyan/farsite/inputs/landscapes/Maria2019.lcp\n",
      "Loading inputs file for Farsite #1: /home/jovyan/data/20221209/Run_01062/config\n",
      "Loading ignition file for Farsite #1: /home/jovyan/data/ignitions/Maria2019U0062.shp\n",
      "Loading barrier file for Farsite #1: /home/jovyan/farsite/inputs/barriers/NoBarrier/NoBarrier.shp\n",
      "Launching Farsite #1\n",
      "Starting time step 0.000000 (maximum = 15)\n",
      "Writing outputs for Farsite #1 to /home/jovyan/data/20221209/Run_01062/out\n"
     ]
    },
    {
     "name": "stderr",
     "output_type": "stream",
     "text": [
      "/home/jovyan/farsite-devAPI/src/farsiteutils_v2.py:177: FutureWarning: The frame.append method is deprecated and will be removed from pandas in a future version. Use pandas.concat instead.\n",
      "  self.gdfsimulation = self.gdfsimulation.append(gdfappend)\n"
     ]
    },
    {
     "name": "stdout",
     "output_type": "stream",
     "text": [
      "Farsite $Rev: 2395 $\n",
      "Number of parallel threads = 4 (omp_get_num_procs = 32).\n",
      "Loading lcp file for Farsite #1: /home/jovyan/farsite/inputs/landscapes/Maria2019.lcp\n",
      "Loading inputs file for Farsite #1: /home/jovyan/data/20221209/Run_01063/config\n",
      "Loading ignition file for Farsite #1: /home/jovyan/data/ignitions/Maria2019U0063.shp\n",
      "Loading barrier file for Farsite #1: /home/jovyan/farsite/inputs/barriers/NoBarrier/NoBarrier.shp\n",
      "Launching Farsite #1\n",
      "Starting time step 0.000000 (maximum = 15)\n",
      "Writing outputs for Farsite #1 to /home/jovyan/data/20221209/Run_01063/out\n"
     ]
    },
    {
     "name": "stderr",
     "output_type": "stream",
     "text": [
      "/home/jovyan/farsite-devAPI/src/farsiteutils_v2.py:177: FutureWarning: The frame.append method is deprecated and will be removed from pandas in a future version. Use pandas.concat instead.\n",
      "  self.gdfsimulation = self.gdfsimulation.append(gdfappend)\n"
     ]
    },
    {
     "name": "stdout",
     "output_type": "stream",
     "text": [
      "Farsite $Rev: 2395 $\n",
      "Number of parallel threads = 4 (omp_get_num_procs = 32).\n",
      "Loading lcp file for Farsite #1: /home/jovyan/farsite/inputs/landscapes/Maria2019.lcp\n",
      "Loading inputs file for Farsite #1: /home/jovyan/data/20221209/Run_01064/config\n",
      "Loading ignition file for Farsite #1: /home/jovyan/data/ignitions/Maria2019U0064.shp\n",
      "Loading barrier file for Farsite #1: /home/jovyan/farsite/inputs/barriers/NoBarrier/NoBarrier.shp\n",
      "Launching Farsite #1\n",
      "Starting time step 0.000000 (maximum = 15)\n",
      "Writing outputs for Farsite #1 to /home/jovyan/data/20221209/Run_01064/out\n"
     ]
    },
    {
     "name": "stderr",
     "output_type": "stream",
     "text": [
      "/home/jovyan/farsite-devAPI/src/farsiteutils_v2.py:177: FutureWarning: The frame.append method is deprecated and will be removed from pandas in a future version. Use pandas.concat instead.\n",
      "  self.gdfsimulation = self.gdfsimulation.append(gdfappend)\n"
     ]
    },
    {
     "name": "stdout",
     "output_type": "stream",
     "text": [
      "Farsite $Rev: 2395 $\n",
      "Number of parallel threads = 4 (omp_get_num_procs = 32).\n",
      "Loading lcp file for Farsite #1: /home/jovyan/farsite/inputs/landscapes/Maria2019.lcp\n",
      "Loading inputs file for Farsite #1: /home/jovyan/data/20221209/Run_01065/config\n",
      "Loading ignition file for Farsite #1: /home/jovyan/data/ignitions/Maria2019U0065.shp\n",
      "Loading barrier file for Farsite #1: /home/jovyan/farsite/inputs/barriers/NoBarrier/NoBarrier.shp\n",
      "Launching Farsite #1\n",
      "Starting time step 0.000000 (maximum = 15)\n",
      "Writing outputs for Farsite #1 to /home/jovyan/data/20221209/Run_01065/out\n"
     ]
    },
    {
     "name": "stderr",
     "output_type": "stream",
     "text": [
      "/home/jovyan/farsite-devAPI/src/farsiteutils_v2.py:177: FutureWarning: The frame.append method is deprecated and will be removed from pandas in a future version. Use pandas.concat instead.\n",
      "  self.gdfsimulation = self.gdfsimulation.append(gdfappend)\n"
     ]
    },
    {
     "name": "stdout",
     "output_type": "stream",
     "text": [
      "Farsite $Rev: 2395 $\n",
      "Number of parallel threads = 4 (omp_get_num_procs = 32).\n",
      "Loading lcp file for Farsite #1: /home/jovyan/farsite/inputs/landscapes/Maria2019.lcp\n",
      "Loading inputs file for Farsite #1: /home/jovyan/data/20221209/Run_01066/config\n",
      "Loading ignition file for Farsite #1: /home/jovyan/data/ignitions/Maria2019U0066.shp\n",
      "Loading barrier file for Farsite #1: /home/jovyan/farsite/inputs/barriers/NoBarrier/NoBarrier.shp\n",
      "Launching Farsite #1\n",
      "Starting time step 0.000000 (maximum = 15)\n",
      "Writing outputs for Farsite #1 to /home/jovyan/data/20221209/Run_01066/out\n"
     ]
    },
    {
     "name": "stderr",
     "output_type": "stream",
     "text": [
      "/home/jovyan/farsite-devAPI/src/farsiteutils_v2.py:177: FutureWarning: The frame.append method is deprecated and will be removed from pandas in a future version. Use pandas.concat instead.\n",
      "  self.gdfsimulation = self.gdfsimulation.append(gdfappend)\n"
     ]
    },
    {
     "name": "stdout",
     "output_type": "stream",
     "text": [
      "Farsite $Rev: 2395 $\n",
      "Number of parallel threads = 4 (omp_get_num_procs = 32).\n",
      "Loading lcp file for Farsite #1: /home/jovyan/farsite/inputs/landscapes/Maria2019.lcp\n",
      "Loading inputs file for Farsite #1: /home/jovyan/data/20221209/Run_01067/config\n",
      "Loading ignition file for Farsite #1: /home/jovyan/data/ignitions/Maria2019U0067.shp\n",
      "Loading barrier file for Farsite #1: /home/jovyan/farsite/inputs/barriers/NoBarrier/NoBarrier.shp\n",
      "Launching Farsite #1\n",
      "Starting time step 0.000000 (maximum = 15)\n",
      "Writing outputs for Farsite #1 to /home/jovyan/data/20221209/Run_01067/out\n"
     ]
    },
    {
     "name": "stderr",
     "output_type": "stream",
     "text": [
      "/home/jovyan/farsite-devAPI/src/farsiteutils_v2.py:177: FutureWarning: The frame.append method is deprecated and will be removed from pandas in a future version. Use pandas.concat instead.\n",
      "  self.gdfsimulation = self.gdfsimulation.append(gdfappend)\n"
     ]
    },
    {
     "name": "stdout",
     "output_type": "stream",
     "text": [
      "Farsite $Rev: 2395 $\n",
      "Number of parallel threads = 4 (omp_get_num_procs = 32).\n",
      "Loading lcp file for Farsite #1: /home/jovyan/farsite/inputs/landscapes/Maria2019.lcp\n",
      "Loading inputs file for Farsite #1: /home/jovyan/data/20221209/Run_01068/config\n",
      "Loading ignition file for Farsite #1: /home/jovyan/data/ignitions/Maria2019U0068.shp\n",
      "Loading barrier file for Farsite #1: /home/jovyan/farsite/inputs/barriers/NoBarrier/NoBarrier.shp\n",
      "Launching Farsite #1\n",
      "Starting time step 0.000000 (maximum = 15)\n",
      "Writing outputs for Farsite #1 to /home/jovyan/data/20221209/Run_01068/out\n"
     ]
    },
    {
     "name": "stderr",
     "output_type": "stream",
     "text": [
      "/home/jovyan/farsite-devAPI/src/farsiteutils_v2.py:177: FutureWarning: The frame.append method is deprecated and will be removed from pandas in a future version. Use pandas.concat instead.\n",
      "  self.gdfsimulation = self.gdfsimulation.append(gdfappend)\n"
     ]
    },
    {
     "name": "stdout",
     "output_type": "stream",
     "text": [
      "Farsite $Rev: 2395 $\n",
      "Number of parallel threads = 4 (omp_get_num_procs = 32).\n",
      "Loading lcp file for Farsite #1: /home/jovyan/farsite/inputs/landscapes/Maria2019.lcp\n",
      "Loading inputs file for Farsite #1: /home/jovyan/data/20221209/Run_01069/config\n",
      "Loading ignition file for Farsite #1: /home/jovyan/data/ignitions/Maria2019U0069.shp\n",
      "Loading barrier file for Farsite #1: /home/jovyan/farsite/inputs/barriers/NoBarrier/NoBarrier.shp\n",
      "Launching Farsite #1\n",
      "Starting time step 0.000000 (maximum = 15)\n",
      "Writing outputs for Farsite #1 to /home/jovyan/data/20221209/Run_01069/out\n"
     ]
    },
    {
     "name": "stderr",
     "output_type": "stream",
     "text": [
      "/home/jovyan/farsite-devAPI/src/farsiteutils_v2.py:177: FutureWarning: The frame.append method is deprecated and will be removed from pandas in a future version. Use pandas.concat instead.\n",
      "  self.gdfsimulation = self.gdfsimulation.append(gdfappend)\n"
     ]
    },
    {
     "name": "stdout",
     "output_type": "stream",
     "text": [
      "Farsite $Rev: 2395 $\n",
      "Number of parallel threads = 4 (omp_get_num_procs = 32).\n",
      "Loading lcp file for Farsite #1: /home/jovyan/farsite/inputs/landscapes/Maria2019.lcp\n",
      "Loading inputs file for Farsite #1: /home/jovyan/data/20221209/Run_01070/config\n",
      "Loading ignition file for Farsite #1: /home/jovyan/data/ignitions/Maria2019U0070.shp\n",
      "Loading barrier file for Farsite #1: /home/jovyan/farsite/inputs/barriers/NoBarrier/NoBarrier.shp\n",
      "Launching Farsite #1\n",
      "Starting time step 0.000000 (maximum = 15)\n",
      "Writing outputs for Farsite #1 to /home/jovyan/data/20221209/Run_01070/out\n"
     ]
    },
    {
     "name": "stderr",
     "output_type": "stream",
     "text": [
      "/home/jovyan/farsite-devAPI/src/farsiteutils_v2.py:177: FutureWarning: The frame.append method is deprecated and will be removed from pandas in a future version. Use pandas.concat instead.\n",
      "  self.gdfsimulation = self.gdfsimulation.append(gdfappend)\n"
     ]
    },
    {
     "name": "stdout",
     "output_type": "stream",
     "text": [
      "Farsite $Rev: 2395 $\n",
      "Number of parallel threads = 4 (omp_get_num_procs = 32).\n",
      "Loading lcp file for Farsite #1: /home/jovyan/farsite/inputs/landscapes/Maria2019.lcp\n",
      "Loading inputs file for Farsite #1: /home/jovyan/data/20221209/Run_01071/config\n",
      "Loading ignition file for Farsite #1: /home/jovyan/data/ignitions/Maria2019U0071.shp\n",
      "Loading barrier file for Farsite #1: /home/jovyan/farsite/inputs/barriers/NoBarrier/NoBarrier.shp\n",
      "Launching Farsite #1\n",
      "Starting time step 0.000000 (maximum = 15)\n",
      "Writing outputs for Farsite #1 to /home/jovyan/data/20221209/Run_01071/out\n"
     ]
    },
    {
     "name": "stderr",
     "output_type": "stream",
     "text": [
      "/home/jovyan/farsite-devAPI/src/farsiteutils_v2.py:177: FutureWarning: The frame.append method is deprecated and will be removed from pandas in a future version. Use pandas.concat instead.\n",
      "  self.gdfsimulation = self.gdfsimulation.append(gdfappend)\n"
     ]
    },
    {
     "name": "stdout",
     "output_type": "stream",
     "text": [
      "Farsite $Rev: 2395 $\n",
      "Number of parallel threads = 4 (omp_get_num_procs = 32).\n",
      "Loading lcp file for Farsite #1: /home/jovyan/farsite/inputs/landscapes/Maria2019.lcp\n",
      "Loading inputs file for Farsite #1: /home/jovyan/data/20221209/Run_01072/config\n",
      "Loading ignition file for Farsite #1: /home/jovyan/data/ignitions/Maria2019U0072.shp\n",
      "Loading barrier file for Farsite #1: /home/jovyan/farsite/inputs/barriers/NoBarrier/NoBarrier.shp\n",
      "Launching Farsite #1\n",
      "Starting time step 0.000000 (maximum = 15)\n",
      "Writing outputs for Farsite #1 to /home/jovyan/data/20221209/Run_01072/out\n"
     ]
    },
    {
     "name": "stderr",
     "output_type": "stream",
     "text": [
      "/home/jovyan/farsite-devAPI/src/farsiteutils_v2.py:177: FutureWarning: The frame.append method is deprecated and will be removed from pandas in a future version. Use pandas.concat instead.\n",
      "  self.gdfsimulation = self.gdfsimulation.append(gdfappend)\n"
     ]
    },
    {
     "name": "stdout",
     "output_type": "stream",
     "text": [
      "Farsite $Rev: 2395 $\n",
      "Number of parallel threads = 4 (omp_get_num_procs = 32).\n",
      "Loading lcp file for Farsite #1: /home/jovyan/farsite/inputs/landscapes/Maria2019.lcp\n",
      "Loading inputs file for Farsite #1: /home/jovyan/data/20221209/Run_01073/config\n",
      "Loading ignition file for Farsite #1: /home/jovyan/data/ignitions/Maria2019U0073.shp\n",
      "Loading barrier file for Farsite #1: /home/jovyan/farsite/inputs/barriers/NoBarrier/NoBarrier.shp\n",
      "Launching Farsite #1\n",
      "Starting time step 0.000000 (maximum = 15)\n",
      "Writing outputs for Farsite #1 to /home/jovyan/data/20221209/Run_01073/out\n"
     ]
    },
    {
     "name": "stderr",
     "output_type": "stream",
     "text": [
      "/home/jovyan/farsite-devAPI/src/farsiteutils_v2.py:177: FutureWarning: The frame.append method is deprecated and will be removed from pandas in a future version. Use pandas.concat instead.\n",
      "  self.gdfsimulation = self.gdfsimulation.append(gdfappend)\n"
     ]
    },
    {
     "name": "stdout",
     "output_type": "stream",
     "text": [
      "Farsite $Rev: 2395 $\n",
      "Number of parallel threads = 4 (omp_get_num_procs = 32).\n",
      "Loading lcp file for Farsite #1: /home/jovyan/farsite/inputs/landscapes/Maria2019.lcp\n",
      "Loading inputs file for Farsite #1: /home/jovyan/data/20221209/Run_01074/config\n",
      "Loading ignition file for Farsite #1: /home/jovyan/data/ignitions/Maria2019U0074.shp\n",
      "Loading barrier file for Farsite #1: /home/jovyan/farsite/inputs/barriers/NoBarrier/NoBarrier.shp\n",
      "Launching Farsite #1\n",
      "Starting time step 0.000000 (maximum = 15)\n",
      "Writing outputs for Farsite #1 to /home/jovyan/data/20221209/Run_01074/out\n"
     ]
    },
    {
     "name": "stderr",
     "output_type": "stream",
     "text": [
      "/home/jovyan/farsite-devAPI/src/farsiteutils_v2.py:177: FutureWarning: The frame.append method is deprecated and will be removed from pandas in a future version. Use pandas.concat instead.\n",
      "  self.gdfsimulation = self.gdfsimulation.append(gdfappend)\n"
     ]
    },
    {
     "name": "stdout",
     "output_type": "stream",
     "text": [
      "Farsite $Rev: 2395 $\n",
      "Number of parallel threads = 4 (omp_get_num_procs = 32).\n",
      "Loading lcp file for Farsite #1: /home/jovyan/farsite/inputs/landscapes/Maria2019.lcp\n",
      "Loading inputs file for Farsite #1: /home/jovyan/data/20221209/Run_01075/config\n",
      "Loading ignition file for Farsite #1: /home/jovyan/data/ignitions/Maria2019U0075.shp\n",
      "Loading barrier file for Farsite #1: /home/jovyan/farsite/inputs/barriers/NoBarrier/NoBarrier.shp\n",
      "Launching Farsite #1\n",
      "Starting time step 0.000000 (maximum = 15)\n",
      "Writing outputs for Farsite #1 to /home/jovyan/data/20221209/Run_01075/out\n"
     ]
    },
    {
     "name": "stderr",
     "output_type": "stream",
     "text": [
      "/home/jovyan/farsite-devAPI/src/farsiteutils_v2.py:177: FutureWarning: The frame.append method is deprecated and will be removed from pandas in a future version. Use pandas.concat instead.\n",
      "  self.gdfsimulation = self.gdfsimulation.append(gdfappend)\n"
     ]
    },
    {
     "name": "stdout",
     "output_type": "stream",
     "text": [
      "Farsite $Rev: 2395 $\n",
      "Number of parallel threads = 4 (omp_get_num_procs = 32).\n",
      "Loading lcp file for Farsite #1: /home/jovyan/farsite/inputs/landscapes/Maria2019.lcp\n",
      "Loading inputs file for Farsite #1: /home/jovyan/data/20221209/Run_01076/config\n",
      "Loading ignition file for Farsite #1: /home/jovyan/data/ignitions/Maria2019U0076.shp\n",
      "Loading barrier file for Farsite #1: /home/jovyan/farsite/inputs/barriers/NoBarrier/NoBarrier.shp\n",
      "Launching Farsite #1\n",
      "Starting time step 0.000000 (maximum = 15)\n",
      "Writing outputs for Farsite #1 to /home/jovyan/data/20221209/Run_01076/out\n"
     ]
    },
    {
     "name": "stderr",
     "output_type": "stream",
     "text": [
      "/home/jovyan/farsite-devAPI/src/farsiteutils_v2.py:177: FutureWarning: The frame.append method is deprecated and will be removed from pandas in a future version. Use pandas.concat instead.\n",
      "  self.gdfsimulation = self.gdfsimulation.append(gdfappend)\n"
     ]
    },
    {
     "name": "stdout",
     "output_type": "stream",
     "text": [
      "Farsite $Rev: 2395 $\n",
      "Number of parallel threads = 4 (omp_get_num_procs = 32).\n",
      "Loading lcp file for Farsite #1: /home/jovyan/farsite/inputs/landscapes/Maria2019.lcp\n",
      "Loading inputs file for Farsite #1: /home/jovyan/data/20221209/Run_01077/config\n",
      "Loading ignition file for Farsite #1: /home/jovyan/data/ignitions/Maria2019U0077.shp\n",
      "Loading barrier file for Farsite #1: /home/jovyan/farsite/inputs/barriers/NoBarrier/NoBarrier.shp\n",
      "Launching Farsite #1\n",
      "Starting time step 0.000000 (maximum = 15)\n",
      "Writing outputs for Farsite #1 to /home/jovyan/data/20221209/Run_01077/out\n"
     ]
    },
    {
     "name": "stderr",
     "output_type": "stream",
     "text": [
      "/home/jovyan/farsite-devAPI/src/farsiteutils_v2.py:177: FutureWarning: The frame.append method is deprecated and will be removed from pandas in a future version. Use pandas.concat instead.\n",
      "  self.gdfsimulation = self.gdfsimulation.append(gdfappend)\n"
     ]
    },
    {
     "name": "stdout",
     "output_type": "stream",
     "text": [
      "Farsite $Rev: 2395 $\n",
      "Number of parallel threads = 4 (omp_get_num_procs = 32).\n",
      "Loading lcp file for Farsite #1: /home/jovyan/farsite/inputs/landscapes/Maria2019.lcp\n",
      "Loading inputs file for Farsite #1: /home/jovyan/data/20221209/Run_01078/config\n",
      "Loading ignition file for Farsite #1: /home/jovyan/data/ignitions/Maria2019U0078.shp\n",
      "Loading barrier file for Farsite #1: /home/jovyan/farsite/inputs/barriers/NoBarrier/NoBarrier.shp\n",
      "Launching Farsite #1\n",
      "Starting time step 0.000000 (maximum = 15)\n",
      "Writing outputs for Farsite #1 to /home/jovyan/data/20221209/Run_01078/out\n"
     ]
    },
    {
     "name": "stderr",
     "output_type": "stream",
     "text": [
      "/home/jovyan/farsite-devAPI/src/farsiteutils_v2.py:177: FutureWarning: The frame.append method is deprecated and will be removed from pandas in a future version. Use pandas.concat instead.\n",
      "  self.gdfsimulation = self.gdfsimulation.append(gdfappend)\n"
     ]
    },
    {
     "name": "stdout",
     "output_type": "stream",
     "text": [
      "Farsite $Rev: 2395 $\n",
      "Number of parallel threads = 4 (omp_get_num_procs = 32).\n",
      "Loading lcp file for Farsite #1: /home/jovyan/farsite/inputs/landscapes/Maria2019.lcp\n",
      "Loading inputs file for Farsite #1: /home/jovyan/data/20221209/Run_01079/config\n",
      "Loading ignition file for Farsite #1: /home/jovyan/data/ignitions/Maria2019U0079.shp\n",
      "Loading barrier file for Farsite #1: /home/jovyan/farsite/inputs/barriers/NoBarrier/NoBarrier.shp\n",
      "Launching Farsite #1\n",
      "Starting time step 0.000000 (maximum = 15)\n",
      "Writing outputs for Farsite #1 to /home/jovyan/data/20221209/Run_01079/out\n"
     ]
    },
    {
     "name": "stderr",
     "output_type": "stream",
     "text": [
      "/home/jovyan/farsite-devAPI/src/farsiteutils_v2.py:177: FutureWarning: The frame.append method is deprecated and will be removed from pandas in a future version. Use pandas.concat instead.\n",
      "  self.gdfsimulation = self.gdfsimulation.append(gdfappend)\n"
     ]
    },
    {
     "name": "stdout",
     "output_type": "stream",
     "text": [
      "Farsite $Rev: 2395 $\n",
      "Number of parallel threads = 4 (omp_get_num_procs = 32).\n",
      "Loading lcp file for Farsite #1: /home/jovyan/farsite/inputs/landscapes/Maria2019.lcp\n",
      "Loading inputs file for Farsite #1: /home/jovyan/data/20221209/Run_01080/config\n",
      "Loading ignition file for Farsite #1: /home/jovyan/data/ignitions/Maria2019U0080.shp\n",
      "Loading barrier file for Farsite #1: /home/jovyan/farsite/inputs/barriers/NoBarrier/NoBarrier.shp\n",
      "Launching Farsite #1\n",
      "Starting time step 0.000000 (maximum = 15)\n",
      "Writing outputs for Farsite #1 to /home/jovyan/data/20221209/Run_01080/out\n"
     ]
    },
    {
     "name": "stderr",
     "output_type": "stream",
     "text": [
      "/home/jovyan/farsite-devAPI/src/farsiteutils_v2.py:177: FutureWarning: The frame.append method is deprecated and will be removed from pandas in a future version. Use pandas.concat instead.\n",
      "  self.gdfsimulation = self.gdfsimulation.append(gdfappend)\n"
     ]
    },
    {
     "name": "stdout",
     "output_type": "stream",
     "text": [
      "Farsite $Rev: 2395 $\n",
      "Number of parallel threads = 4 (omp_get_num_procs = 32).\n",
      "Loading lcp file for Farsite #1: /home/jovyan/farsite/inputs/landscapes/Maria2019.lcp\n",
      "Loading inputs file for Farsite #1: /home/jovyan/data/20221209/Run_01081/config\n",
      "Loading ignition file for Farsite #1: /home/jovyan/data/ignitions/Maria2019U0081.shp\n",
      "Loading barrier file for Farsite #1: /home/jovyan/farsite/inputs/barriers/NoBarrier/NoBarrier.shp\n",
      "Launching Farsite #1\n",
      "Starting time step 0.000000 (maximum = 15)\n",
      "Writing outputs for Farsite #1 to /home/jovyan/data/20221209/Run_01081/out\n"
     ]
    },
    {
     "name": "stderr",
     "output_type": "stream",
     "text": [
      "/home/jovyan/farsite-devAPI/src/farsiteutils_v2.py:177: FutureWarning: The frame.append method is deprecated and will be removed from pandas in a future version. Use pandas.concat instead.\n",
      "  self.gdfsimulation = self.gdfsimulation.append(gdfappend)\n"
     ]
    },
    {
     "name": "stdout",
     "output_type": "stream",
     "text": [
      "Farsite $Rev: 2395 $\n",
      "Number of parallel threads = 4 (omp_get_num_procs = 32).\n",
      "Loading lcp file for Farsite #1: /home/jovyan/farsite/inputs/landscapes/Maria2019.lcp\n",
      "Loading inputs file for Farsite #1: /home/jovyan/data/20221209/Run_01082/config\n",
      "Loading ignition file for Farsite #1: /home/jovyan/data/ignitions/Maria2019U0082.shp\n",
      "Loading barrier file for Farsite #1: /home/jovyan/farsite/inputs/barriers/NoBarrier/NoBarrier.shp\n",
      "Launching Farsite #1\n",
      "Starting time step 0.000000 (maximum = 15)\n",
      "Writing outputs for Farsite #1 to /home/jovyan/data/20221209/Run_01082/out\n"
     ]
    },
    {
     "name": "stderr",
     "output_type": "stream",
     "text": [
      "/home/jovyan/farsite-devAPI/src/farsiteutils_v2.py:177: FutureWarning: The frame.append method is deprecated and will be removed from pandas in a future version. Use pandas.concat instead.\n",
      "  self.gdfsimulation = self.gdfsimulation.append(gdfappend)\n"
     ]
    },
    {
     "name": "stdout",
     "output_type": "stream",
     "text": [
      "Farsite $Rev: 2395 $\n",
      "Number of parallel threads = 4 (omp_get_num_procs = 32).\n",
      "Loading lcp file for Farsite #1: /home/jovyan/farsite/inputs/landscapes/Maria2019.lcp\n",
      "Loading inputs file for Farsite #1: /home/jovyan/data/20221209/Run_01083/config\n",
      "Loading ignition file for Farsite #1: /home/jovyan/data/ignitions/Maria2019U0083.shp\n",
      "Loading barrier file for Farsite #1: /home/jovyan/farsite/inputs/barriers/NoBarrier/NoBarrier.shp\n",
      "Launching Farsite #1\n",
      "Starting time step 0.000000 (maximum = 15)\n",
      "Writing outputs for Farsite #1 to /home/jovyan/data/20221209/Run_01083/out\n"
     ]
    },
    {
     "name": "stderr",
     "output_type": "stream",
     "text": [
      "/home/jovyan/farsite-devAPI/src/farsiteutils_v2.py:177: FutureWarning: The frame.append method is deprecated and will be removed from pandas in a future version. Use pandas.concat instead.\n",
      "  self.gdfsimulation = self.gdfsimulation.append(gdfappend)\n"
     ]
    },
    {
     "name": "stdout",
     "output_type": "stream",
     "text": [
      "Farsite $Rev: 2395 $\n",
      "Number of parallel threads = 4 (omp_get_num_procs = 32).\n",
      "Loading lcp file for Farsite #1: /home/jovyan/farsite/inputs/landscapes/Maria2019.lcp\n",
      "Loading inputs file for Farsite #1: /home/jovyan/data/20221209/Run_01084/config\n",
      "Loading ignition file for Farsite #1: /home/jovyan/data/ignitions/Maria2019U0084.shp\n",
      "Loading barrier file for Farsite #1: /home/jovyan/farsite/inputs/barriers/NoBarrier/NoBarrier.shp\n",
      "Launching Farsite #1\n",
      "Starting time step 0.000000 (maximum = 15)\n",
      "Writing outputs for Farsite #1 to /home/jovyan/data/20221209/Run_01084/out\n"
     ]
    },
    {
     "name": "stderr",
     "output_type": "stream",
     "text": [
      "/home/jovyan/farsite-devAPI/src/farsiteutils_v2.py:177: FutureWarning: The frame.append method is deprecated and will be removed from pandas in a future version. Use pandas.concat instead.\n",
      "  self.gdfsimulation = self.gdfsimulation.append(gdfappend)\n"
     ]
    },
    {
     "name": "stdout",
     "output_type": "stream",
     "text": [
      "Farsite $Rev: 2395 $\n",
      "Number of parallel threads = 4 (omp_get_num_procs = 32).\n",
      "Loading lcp file for Farsite #1: /home/jovyan/farsite/inputs/landscapes/Maria2019.lcp\n",
      "Loading inputs file for Farsite #1: /home/jovyan/data/20221209/Run_01085/config\n",
      "Loading ignition file for Farsite #1: /home/jovyan/data/ignitions/Maria2019U0085.shp\n",
      "Loading barrier file for Farsite #1: /home/jovyan/farsite/inputs/barriers/NoBarrier/NoBarrier.shp\n",
      "Launching Farsite #1\n",
      "Starting time step 0.000000 (maximum = 15)\n",
      "Writing outputs for Farsite #1 to /home/jovyan/data/20221209/Run_01085/out\n"
     ]
    },
    {
     "name": "stderr",
     "output_type": "stream",
     "text": [
      "/home/jovyan/farsite-devAPI/src/farsiteutils_v2.py:177: FutureWarning: The frame.append method is deprecated and will be removed from pandas in a future version. Use pandas.concat instead.\n",
      "  self.gdfsimulation = self.gdfsimulation.append(gdfappend)\n"
     ]
    },
    {
     "name": "stdout",
     "output_type": "stream",
     "text": [
      "Farsite $Rev: 2395 $\n",
      "Number of parallel threads = 4 (omp_get_num_procs = 32).\n",
      "Loading lcp file for Farsite #1: /home/jovyan/farsite/inputs/landscapes/Maria2019.lcp\n",
      "Loading inputs file for Farsite #1: /home/jovyan/data/20221209/Run_01086/config\n",
      "Loading ignition file for Farsite #1: /home/jovyan/data/ignitions/Maria2019U0086.shp\n",
      "Loading barrier file for Farsite #1: /home/jovyan/farsite/inputs/barriers/NoBarrier/NoBarrier.shp\n",
      "Launching Farsite #1\n",
      "Starting time step 0.000000 (maximum = 15)\n",
      "Writing outputs for Farsite #1 to /home/jovyan/data/20221209/Run_01086/out\n"
     ]
    },
    {
     "name": "stderr",
     "output_type": "stream",
     "text": [
      "/home/jovyan/farsite-devAPI/src/farsiteutils_v2.py:177: FutureWarning: The frame.append method is deprecated and will be removed from pandas in a future version. Use pandas.concat instead.\n",
      "  self.gdfsimulation = self.gdfsimulation.append(gdfappend)\n"
     ]
    },
    {
     "name": "stdout",
     "output_type": "stream",
     "text": [
      "Farsite $Rev: 2395 $\n",
      "Number of parallel threads = 4 (omp_get_num_procs = 32).\n",
      "Loading lcp file for Farsite #1: /home/jovyan/farsite/inputs/landscapes/Maria2019.lcp\n",
      "Loading inputs file for Farsite #1: /home/jovyan/data/20221209/Run_01087/config\n",
      "Loading ignition file for Farsite #1: /home/jovyan/data/ignitions/Maria2019U0087.shp\n",
      "Loading barrier file for Farsite #1: /home/jovyan/farsite/inputs/barriers/NoBarrier/NoBarrier.shp\n",
      "Launching Farsite #1\n",
      "Starting time step 0.000000 (maximum = 15)\n",
      "Writing outputs for Farsite #1 to /home/jovyan/data/20221209/Run_01087/out\n"
     ]
    },
    {
     "name": "stderr",
     "output_type": "stream",
     "text": [
      "/home/jovyan/farsite-devAPI/src/farsiteutils_v2.py:177: FutureWarning: The frame.append method is deprecated and will be removed from pandas in a future version. Use pandas.concat instead.\n",
      "  self.gdfsimulation = self.gdfsimulation.append(gdfappend)\n"
     ]
    },
    {
     "name": "stdout",
     "output_type": "stream",
     "text": [
      "Farsite $Rev: 2395 $\n",
      "Number of parallel threads = 4 (omp_get_num_procs = 32).\n",
      "Loading lcp file for Farsite #1: /home/jovyan/farsite/inputs/landscapes/Maria2019.lcp\n",
      "Loading inputs file for Farsite #1: /home/jovyan/data/20221209/Run_01088/config\n",
      "Loading ignition file for Farsite #1: /home/jovyan/data/ignitions/Maria2019U0088.shp\n",
      "Loading barrier file for Farsite #1: /home/jovyan/farsite/inputs/barriers/NoBarrier/NoBarrier.shp\n",
      "Launching Farsite #1\n",
      "Starting time step 0.000000 (maximum = 15)\n",
      "Writing outputs for Farsite #1 to /home/jovyan/data/20221209/Run_01088/out\n"
     ]
    },
    {
     "name": "stderr",
     "output_type": "stream",
     "text": [
      "/home/jovyan/farsite-devAPI/src/farsiteutils_v2.py:177: FutureWarning: The frame.append method is deprecated and will be removed from pandas in a future version. Use pandas.concat instead.\n",
      "  self.gdfsimulation = self.gdfsimulation.append(gdfappend)\n"
     ]
    },
    {
     "name": "stdout",
     "output_type": "stream",
     "text": [
      "Farsite $Rev: 2395 $\n",
      "Number of parallel threads = 4 (omp_get_num_procs = 32).\n",
      "Loading lcp file for Farsite #1: /home/jovyan/farsite/inputs/landscapes/Maria2019.lcp\n",
      "Loading inputs file for Farsite #1: /home/jovyan/data/20221209/Run_01089/config\n",
      "Loading ignition file for Farsite #1: /home/jovyan/data/ignitions/Maria2019U0089.shp\n",
      "Loading barrier file for Farsite #1: /home/jovyan/farsite/inputs/barriers/NoBarrier/NoBarrier.shp\n",
      "Launching Farsite #1\n",
      "Starting time step 0.000000 (maximum = 15)\n",
      "Writing outputs for Farsite #1 to /home/jovyan/data/20221209/Run_01089/out\n"
     ]
    },
    {
     "name": "stderr",
     "output_type": "stream",
     "text": [
      "/home/jovyan/farsite-devAPI/src/farsiteutils_v2.py:177: FutureWarning: The frame.append method is deprecated and will be removed from pandas in a future version. Use pandas.concat instead.\n",
      "  self.gdfsimulation = self.gdfsimulation.append(gdfappend)\n"
     ]
    },
    {
     "name": "stdout",
     "output_type": "stream",
     "text": [
      "Farsite $Rev: 2395 $\n",
      "Number of parallel threads = 4 (omp_get_num_procs = 32).\n",
      "Loading lcp file for Farsite #1: /home/jovyan/farsite/inputs/landscapes/Maria2019.lcp\n",
      "Loading inputs file for Farsite #1: /home/jovyan/data/20221209/Run_01090/config\n",
      "Loading ignition file for Farsite #1: /home/jovyan/data/ignitions/Maria2019U0090.shp\n",
      "Loading barrier file for Farsite #1: /home/jovyan/farsite/inputs/barriers/NoBarrier/NoBarrier.shp\n",
      "Launching Farsite #1\n",
      "Starting time step 0.000000 (maximum = 15)\n",
      "Writing outputs for Farsite #1 to /home/jovyan/data/20221209/Run_01090/out\n"
     ]
    },
    {
     "name": "stderr",
     "output_type": "stream",
     "text": [
      "/home/jovyan/farsite-devAPI/src/farsiteutils_v2.py:177: FutureWarning: The frame.append method is deprecated and will be removed from pandas in a future version. Use pandas.concat instead.\n",
      "  self.gdfsimulation = self.gdfsimulation.append(gdfappend)\n"
     ]
    },
    {
     "name": "stdout",
     "output_type": "stream",
     "text": [
      "Farsite $Rev: 2395 $\n",
      "Number of parallel threads = 4 (omp_get_num_procs = 32).\n",
      "Loading lcp file for Farsite #1: /home/jovyan/farsite/inputs/landscapes/Maria2019.lcp\n",
      "Loading inputs file for Farsite #1: /home/jovyan/data/20221209/Run_01091/config\n",
      "Loading ignition file for Farsite #1: /home/jovyan/data/ignitions/Maria2019U0091.shp\n",
      "Loading barrier file for Farsite #1: /home/jovyan/farsite/inputs/barriers/NoBarrier/NoBarrier.shp\n",
      "Launching Farsite #1\n",
      "Starting time step 0.000000 (maximum = 15)\n",
      "Writing outputs for Farsite #1 to /home/jovyan/data/20221209/Run_01091/out\n"
     ]
    },
    {
     "name": "stderr",
     "output_type": "stream",
     "text": [
      "/home/jovyan/farsite-devAPI/src/farsiteutils_v2.py:177: FutureWarning: The frame.append method is deprecated and will be removed from pandas in a future version. Use pandas.concat instead.\n",
      "  self.gdfsimulation = self.gdfsimulation.append(gdfappend)\n"
     ]
    },
    {
     "name": "stdout",
     "output_type": "stream",
     "text": [
      "Farsite $Rev: 2395 $\n",
      "Number of parallel threads = 4 (omp_get_num_procs = 32).\n",
      "Loading lcp file for Farsite #1: /home/jovyan/farsite/inputs/landscapes/Maria2019.lcp\n",
      "Loading inputs file for Farsite #1: /home/jovyan/data/20221209/Run_01092/config\n",
      "Loading ignition file for Farsite #1: /home/jovyan/data/ignitions/Maria2019U0092.shp\n",
      "Loading barrier file for Farsite #1: /home/jovyan/farsite/inputs/barriers/NoBarrier/NoBarrier.shp\n",
      "Launching Farsite #1\n",
      "Starting time step 0.000000 (maximum = 15)\n",
      "Writing outputs for Farsite #1 to /home/jovyan/data/20221209/Run_01092/out\n"
     ]
    },
    {
     "name": "stderr",
     "output_type": "stream",
     "text": [
      "/home/jovyan/farsite-devAPI/src/farsiteutils_v2.py:177: FutureWarning: The frame.append method is deprecated and will be removed from pandas in a future version. Use pandas.concat instead.\n",
      "  self.gdfsimulation = self.gdfsimulation.append(gdfappend)\n"
     ]
    },
    {
     "name": "stdout",
     "output_type": "stream",
     "text": [
      "Farsite $Rev: 2395 $\n",
      "Number of parallel threads = 4 (omp_get_num_procs = 32).\n",
      "Loading lcp file for Farsite #1: /home/jovyan/farsite/inputs/landscapes/Maria2019.lcp\n",
      "Loading inputs file for Farsite #1: /home/jovyan/data/20221209/Run_01093/config\n",
      "Loading ignition file for Farsite #1: /home/jovyan/data/ignitions/Maria2019U0093.shp\n",
      "Loading barrier file for Farsite #1: /home/jovyan/farsite/inputs/barriers/NoBarrier/NoBarrier.shp\n",
      "Launching Farsite #1\n",
      "Starting time step 0.000000 (maximum = 15)\n",
      "Writing outputs for Farsite #1 to /home/jovyan/data/20221209/Run_01093/out\n"
     ]
    },
    {
     "name": "stderr",
     "output_type": "stream",
     "text": [
      "/home/jovyan/farsite-devAPI/src/farsiteutils_v2.py:177: FutureWarning: The frame.append method is deprecated and will be removed from pandas in a future version. Use pandas.concat instead.\n",
      "  self.gdfsimulation = self.gdfsimulation.append(gdfappend)\n"
     ]
    },
    {
     "name": "stdout",
     "output_type": "stream",
     "text": [
      "Farsite $Rev: 2395 $\n",
      "Number of parallel threads = 4 (omp_get_num_procs = 32).\n",
      "Loading lcp file for Farsite #1: /home/jovyan/farsite/inputs/landscapes/Maria2019.lcp\n",
      "Loading inputs file for Farsite #1: /home/jovyan/data/20221209/Run_01094/config\n",
      "Loading ignition file for Farsite #1: /home/jovyan/data/ignitions/Maria2019U0094.shp\n",
      "Loading barrier file for Farsite #1: /home/jovyan/farsite/inputs/barriers/NoBarrier/NoBarrier.shp\n",
      "Launching Farsite #1\n",
      "Starting time step 0.000000 (maximum = 15)\n",
      "Writing outputs for Farsite #1 to /home/jovyan/data/20221209/Run_01094/out\n"
     ]
    },
    {
     "name": "stderr",
     "output_type": "stream",
     "text": [
      "/home/jovyan/farsite-devAPI/src/farsiteutils_v2.py:177: FutureWarning: The frame.append method is deprecated and will be removed from pandas in a future version. Use pandas.concat instead.\n",
      "  self.gdfsimulation = self.gdfsimulation.append(gdfappend)\n"
     ]
    },
    {
     "name": "stdout",
     "output_type": "stream",
     "text": [
      "Farsite $Rev: 2395 $\n",
      "Number of parallel threads = 4 (omp_get_num_procs = 32).\n",
      "Loading lcp file for Farsite #1: /home/jovyan/farsite/inputs/landscapes/Maria2019.lcp\n",
      "Loading inputs file for Farsite #1: /home/jovyan/data/20221209/Run_01095/config\n",
      "Loading ignition file for Farsite #1: /home/jovyan/data/ignitions/Maria2019U0095.shp\n",
      "Loading barrier file for Farsite #1: /home/jovyan/farsite/inputs/barriers/NoBarrier/NoBarrier.shp\n",
      "Launching Farsite #1\n",
      "Starting time step 0.000000 (maximum = 15)\n",
      "Writing outputs for Farsite #1 to /home/jovyan/data/20221209/Run_01095/out\n"
     ]
    },
    {
     "name": "stderr",
     "output_type": "stream",
     "text": [
      "/home/jovyan/farsite-devAPI/src/farsiteutils_v2.py:177: FutureWarning: The frame.append method is deprecated and will be removed from pandas in a future version. Use pandas.concat instead.\n",
      "  self.gdfsimulation = self.gdfsimulation.append(gdfappend)\n"
     ]
    },
    {
     "name": "stdout",
     "output_type": "stream",
     "text": [
      "Farsite $Rev: 2395 $\n",
      "Number of parallel threads = 4 (omp_get_num_procs = 32).\n",
      "Loading lcp file for Farsite #1: /home/jovyan/farsite/inputs/landscapes/Maria2019.lcp\n",
      "Loading inputs file for Farsite #1: /home/jovyan/data/20221209/Run_01096/config\n",
      "Loading ignition file for Farsite #1: /home/jovyan/data/ignitions/Maria2019U0096.shp\n",
      "Loading barrier file for Farsite #1: /home/jovyan/farsite/inputs/barriers/NoBarrier/NoBarrier.shp\n",
      "Launching Farsite #1\n",
      "Starting time step 0.000000 (maximum = 15)\n",
      "Writing outputs for Farsite #1 to /home/jovyan/data/20221209/Run_01096/out\n"
     ]
    },
    {
     "name": "stderr",
     "output_type": "stream",
     "text": [
      "/home/jovyan/farsite-devAPI/src/farsiteutils_v2.py:177: FutureWarning: The frame.append method is deprecated and will be removed from pandas in a future version. Use pandas.concat instead.\n",
      "  self.gdfsimulation = self.gdfsimulation.append(gdfappend)\n"
     ]
    },
    {
     "name": "stdout",
     "output_type": "stream",
     "text": [
      "Farsite $Rev: 2395 $\n",
      "Number of parallel threads = 4 (omp_get_num_procs = 32).\n",
      "Loading lcp file for Farsite #1: /home/jovyan/farsite/inputs/landscapes/Maria2019.lcp\n",
      "Loading inputs file for Farsite #1: /home/jovyan/data/20221209/Run_01097/config\n",
      "Loading ignition file for Farsite #1: /home/jovyan/data/ignitions/Maria2019U0097.shp\n",
      "Loading barrier file for Farsite #1: /home/jovyan/farsite/inputs/barriers/NoBarrier/NoBarrier.shp\n",
      "Launching Farsite #1\n",
      "Starting time step 0.000000 (maximum = 15)\n",
      "Writing outputs for Farsite #1 to /home/jovyan/data/20221209/Run_01097/out\n"
     ]
    },
    {
     "name": "stderr",
     "output_type": "stream",
     "text": [
      "/home/jovyan/farsite-devAPI/src/farsiteutils_v2.py:177: FutureWarning: The frame.append method is deprecated and will be removed from pandas in a future version. Use pandas.concat instead.\n",
      "  self.gdfsimulation = self.gdfsimulation.append(gdfappend)\n"
     ]
    },
    {
     "name": "stdout",
     "output_type": "stream",
     "text": [
      "Farsite $Rev: 2395 $\n",
      "Number of parallel threads = 4 (omp_get_num_procs = 32).\n",
      "Loading lcp file for Farsite #1: /home/jovyan/farsite/inputs/landscapes/Maria2019.lcp\n",
      "Loading inputs file for Farsite #1: /home/jovyan/data/20221209/Run_01098/config\n",
      "Loading ignition file for Farsite #1: /home/jovyan/data/ignitions/Maria2019U0098.shp\n",
      "Loading barrier file for Farsite #1: /home/jovyan/farsite/inputs/barriers/NoBarrier/NoBarrier.shp\n",
      "Launching Farsite #1\n",
      "Starting time step 0.000000 (maximum = 15)\n",
      "Writing outputs for Farsite #1 to /home/jovyan/data/20221209/Run_01098/out\n"
     ]
    },
    {
     "name": "stderr",
     "output_type": "stream",
     "text": [
      "/home/jovyan/farsite-devAPI/src/farsiteutils_v2.py:177: FutureWarning: The frame.append method is deprecated and will be removed from pandas in a future version. Use pandas.concat instead.\n",
      "  self.gdfsimulation = self.gdfsimulation.append(gdfappend)\n"
     ]
    },
    {
     "name": "stdout",
     "output_type": "stream",
     "text": [
      "Farsite $Rev: 2395 $\n",
      "Number of parallel threads = 4 (omp_get_num_procs = 32).\n",
      "Loading lcp file for Farsite #1: /home/jovyan/farsite/inputs/landscapes/Maria2019.lcp\n",
      "Loading inputs file for Farsite #1: /home/jovyan/data/20221209/Run_01099/config\n",
      "Loading ignition file for Farsite #1: /home/jovyan/data/ignitions/Maria2019U0099.shp\n",
      "Loading barrier file for Farsite #1: /home/jovyan/farsite/inputs/barriers/NoBarrier/NoBarrier.shp\n",
      "Launching Farsite #1\n",
      "Starting time step 0.000000 (maximum = 15)\n",
      "Writing outputs for Farsite #1 to /home/jovyan/data/20221209/Run_01099/out\n",
      "Calculating 27/100 ( 27.00%) - Remaining - 0:0:0...   \r"
     ]
    },
    {
     "name": "stderr",
     "output_type": "stream",
     "text": [
      "/home/jovyan/farsite-devAPI/src/farsiteutils_v2.py:177: FutureWarning: The frame.append method is deprecated and will be removed from pandas in a future version. Use pandas.concat instead.\n",
      "  self.gdfsimulation = self.gdfsimulation.append(gdfappend)\n"
     ]
    },
    {
     "name": "stdout",
     "output_type": "stream",
     "text": [
      "Calculating 99/100 ( 99.00%) - Remaining - 0:0:0...   \r"
     ]
    }
   ],
   "source": [
    "observation = usr.db.gdfignition.iloc[3]\n",
    "compareidx = observation.name    # t=1 observation\n",
    "windspeed = 10\n",
    "winddirection = 90\n",
    "\n",
    "state.update(compareidx, lcpidx, barrieridx, observation, windspeed, winddirection)\n",
    "X_0_lst.append(state.X_0)"
   ]
  },
  {
   "cell_type": "code",
   "execution_count": 17,
   "id": "49104210-3542-48e2-bc91-665cf4758452",
   "metadata": {},
   "outputs": [
    {
     "data": {
      "text/html": [
       "<div>\n",
       "<style scoped>\n",
       "    .dataframe tbody tr th:only-of-type {\n",
       "        vertical-align: middle;\n",
       "    }\n",
       "\n",
       "    .dataframe tbody tr th {\n",
       "        vertical-align: top;\n",
       "    }\n",
       "\n",
       "    .dataframe thead th {\n",
       "        text-align: right;\n",
       "    }\n",
       "</style>\n",
       "<table border=\"1\" class=\"dataframe\">\n",
       "  <thead>\n",
       "    <tr style=\"text-align: right;\">\n",
       "      <th></th>\n",
       "      <th>filetype</th>\n",
       "      <th>objectid</th>\n",
       "      <th>filepath</th>\n",
       "      <th>datetime</th>\n",
       "      <th>description</th>\n",
       "      <th>geometry</th>\n",
       "    </tr>\n",
       "  </thead>\n",
       "  <tbody>\n",
       "    <tr>\n",
       "      <th>f23196b034474744bdca7df94b13e0f7</th>\n",
       "      <td>Ignition</td>\n",
       "      <td>21231</td>\n",
       "      <td>/home/jovyan/farsite/inputs/maria_ignite/maria...</td>\n",
       "      <td>2019-10-31 19:37:11</td>\n",
       "      <td>Maria2019</td>\n",
       "      <td>POLYGON ((-2084217.148 1503560.461, -2084279.5...</td>\n",
       "    </tr>\n",
       "    <tr>\n",
       "      <th>9f82e870591748a9a8a01346d174f2a1</th>\n",
       "      <td>Ignition</td>\n",
       "      <td>21232</td>\n",
       "      <td>/home/jovyan/farsite/inputs/maria_ignite/maria...</td>\n",
       "      <td>2019-10-31 19:58:22</td>\n",
       "      <td>Maria2019</td>\n",
       "      <td>POLYGON ((-2082034.494 1504548.520, -2081987.6...</td>\n",
       "    </tr>\n",
       "    <tr>\n",
       "      <th>1a6eb30ee33742e18fa6bb26678b5077</th>\n",
       "      <td>Ignition</td>\n",
       "      <td>21234</td>\n",
       "      <td>/home/jovyan/farsite/inputs/maria_ignite/maria...</td>\n",
       "      <td>2019-10-31 20:31:33</td>\n",
       "      <td>Maria2019</td>\n",
       "      <td>POLYGON ((-2082034.494 1504548.520, -2081987.6...</td>\n",
       "    </tr>\n",
       "    <tr>\n",
       "      <th>911f9b001c054b74a6ba70958f5f3c93</th>\n",
       "      <td>Ignition</td>\n",
       "      <td>21235</td>\n",
       "      <td>/home/jovyan/farsite/inputs/maria_ignite/maria...</td>\n",
       "      <td>2019-10-31 20:56:44</td>\n",
       "      <td>Maria2019</td>\n",
       "      <td>POLYGON ((-2082396.219 1505343.939, -2082305.7...</td>\n",
       "    </tr>\n",
       "    <tr>\n",
       "      <th>7957c2e604554199ba60c5b13aff2f40</th>\n",
       "      <td>Ignition</td>\n",
       "      <td>21236</td>\n",
       "      <td>/home/jovyan/farsite/inputs/maria_ignite/maria...</td>\n",
       "      <td>2019-10-31 21:22:55</td>\n",
       "      <td>Maria2019</td>\n",
       "      <td>POLYGON ((-2082598.331 1505371.327, -2082338.5...</td>\n",
       "    </tr>\n",
       "    <tr>\n",
       "      <th>...</th>\n",
       "      <td>...</td>\n",
       "      <td>...</td>\n",
       "      <td>...</td>\n",
       "      <td>...</td>\n",
       "      <td>...</td>\n",
       "      <td>...</td>\n",
       "    </tr>\n",
       "    <tr>\n",
       "      <th>bb6f46599e9546d69f99b452ddc7df10</th>\n",
       "      <td>Ignition</td>\n",
       "      <td>21235E0095U0095</td>\n",
       "      <td>/home/jovyan/data/ignitions/Maria2019U0095.shp</td>\n",
       "      <td>2019-10-31 20:56:44</td>\n",
       "      <td>Maria2019</td>\n",
       "      <td>POLYGON ((-2085317.153 1504754.840, -2085106.1...</td>\n",
       "    </tr>\n",
       "    <tr>\n",
       "      <th>538588cae9164de6990cf06895aae880</th>\n",
       "      <td>Ignition</td>\n",
       "      <td>21235E0096U0096</td>\n",
       "      <td>/home/jovyan/data/ignitions/Maria2019U0096.shp</td>\n",
       "      <td>2019-10-31 20:56:44</td>\n",
       "      <td>Maria2019</td>\n",
       "      <td>POLYGON ((-2085007.821 1504097.108, -2085133.6...</td>\n",
       "    </tr>\n",
       "    <tr>\n",
       "      <th>b14ffb3bcbf54cf6af4203b8554f2ed7</th>\n",
       "      <td>Ignition</td>\n",
       "      <td>21235E0097U0097</td>\n",
       "      <td>/home/jovyan/data/ignitions/Maria2019U0097.shp</td>\n",
       "      <td>2019-10-31 20:56:44</td>\n",
       "      <td>Maria2019</td>\n",
       "      <td>POLYGON ((-2085370.147 1503552.896, -2085308.3...</td>\n",
       "    </tr>\n",
       "    <tr>\n",
       "      <th>e751516bae364b7c85dbb45216edbdc9</th>\n",
       "      <td>Ignition</td>\n",
       "      <td>21235E0098U0098</td>\n",
       "      <td>/home/jovyan/data/ignitions/Maria2019U0098.shp</td>\n",
       "      <td>2019-10-31 20:56:44</td>\n",
       "      <td>Maria2019</td>\n",
       "      <td>POLYGON ((-2085206.534 1505876.614, -2085110.1...</td>\n",
       "    </tr>\n",
       "    <tr>\n",
       "      <th>d00dc7d97c6d4502bd9f92d7dc8c3945</th>\n",
       "      <td>Ignition</td>\n",
       "      <td>21235E0099U0099</td>\n",
       "      <td>/home/jovyan/data/ignitions/Maria2019U0099.shp</td>\n",
       "      <td>2019-10-31 20:56:44</td>\n",
       "      <td>Maria2019</td>\n",
       "      <td>POLYGON ((-2085514.182 1504991.638, -2085450.9...</td>\n",
       "    </tr>\n",
       "  </tbody>\n",
       "</table>\n",
       "<p>420 rows × 6 columns</p>\n",
       "</div>"
      ],
      "text/plain": [
       "                                  filetype         objectid  \\\n",
       "f23196b034474744bdca7df94b13e0f7  Ignition            21231   \n",
       "9f82e870591748a9a8a01346d174f2a1  Ignition            21232   \n",
       "1a6eb30ee33742e18fa6bb26678b5077  Ignition            21234   \n",
       "911f9b001c054b74a6ba70958f5f3c93  Ignition            21235   \n",
       "7957c2e604554199ba60c5b13aff2f40  Ignition            21236   \n",
       "...                                    ...              ...   \n",
       "bb6f46599e9546d69f99b452ddc7df10  Ignition  21235E0095U0095   \n",
       "538588cae9164de6990cf06895aae880  Ignition  21235E0096U0096   \n",
       "b14ffb3bcbf54cf6af4203b8554f2ed7  Ignition  21235E0097U0097   \n",
       "e751516bae364b7c85dbb45216edbdc9  Ignition  21235E0098U0098   \n",
       "d00dc7d97c6d4502bd9f92d7dc8c3945  Ignition  21235E0099U0099   \n",
       "\n",
       "                                                                           filepath  \\\n",
       "f23196b034474744bdca7df94b13e0f7  /home/jovyan/farsite/inputs/maria_ignite/maria...   \n",
       "9f82e870591748a9a8a01346d174f2a1  /home/jovyan/farsite/inputs/maria_ignite/maria...   \n",
       "1a6eb30ee33742e18fa6bb26678b5077  /home/jovyan/farsite/inputs/maria_ignite/maria...   \n",
       "911f9b001c054b74a6ba70958f5f3c93  /home/jovyan/farsite/inputs/maria_ignite/maria...   \n",
       "7957c2e604554199ba60c5b13aff2f40  /home/jovyan/farsite/inputs/maria_ignite/maria...   \n",
       "...                                                                             ...   \n",
       "bb6f46599e9546d69f99b452ddc7df10     /home/jovyan/data/ignitions/Maria2019U0095.shp   \n",
       "538588cae9164de6990cf06895aae880     /home/jovyan/data/ignitions/Maria2019U0096.shp   \n",
       "b14ffb3bcbf54cf6af4203b8554f2ed7     /home/jovyan/data/ignitions/Maria2019U0097.shp   \n",
       "e751516bae364b7c85dbb45216edbdc9     /home/jovyan/data/ignitions/Maria2019U0098.shp   \n",
       "d00dc7d97c6d4502bd9f92d7dc8c3945     /home/jovyan/data/ignitions/Maria2019U0099.shp   \n",
       "\n",
       "                                             datetime description  \\\n",
       "f23196b034474744bdca7df94b13e0f7  2019-10-31 19:37:11   Maria2019   \n",
       "9f82e870591748a9a8a01346d174f2a1  2019-10-31 19:58:22   Maria2019   \n",
       "1a6eb30ee33742e18fa6bb26678b5077  2019-10-31 20:31:33   Maria2019   \n",
       "911f9b001c054b74a6ba70958f5f3c93  2019-10-31 20:56:44   Maria2019   \n",
       "7957c2e604554199ba60c5b13aff2f40  2019-10-31 21:22:55   Maria2019   \n",
       "...                                               ...         ...   \n",
       "bb6f46599e9546d69f99b452ddc7df10  2019-10-31 20:56:44   Maria2019   \n",
       "538588cae9164de6990cf06895aae880  2019-10-31 20:56:44   Maria2019   \n",
       "b14ffb3bcbf54cf6af4203b8554f2ed7  2019-10-31 20:56:44   Maria2019   \n",
       "e751516bae364b7c85dbb45216edbdc9  2019-10-31 20:56:44   Maria2019   \n",
       "d00dc7d97c6d4502bd9f92d7dc8c3945  2019-10-31 20:56:44   Maria2019   \n",
       "\n",
       "                                                                           geometry  \n",
       "f23196b034474744bdca7df94b13e0f7  POLYGON ((-2084217.148 1503560.461, -2084279.5...  \n",
       "9f82e870591748a9a8a01346d174f2a1  POLYGON ((-2082034.494 1504548.520, -2081987.6...  \n",
       "1a6eb30ee33742e18fa6bb26678b5077  POLYGON ((-2082034.494 1504548.520, -2081987.6...  \n",
       "911f9b001c054b74a6ba70958f5f3c93  POLYGON ((-2082396.219 1505343.939, -2082305.7...  \n",
       "7957c2e604554199ba60c5b13aff2f40  POLYGON ((-2082598.331 1505371.327, -2082338.5...  \n",
       "...                                                                             ...  \n",
       "bb6f46599e9546d69f99b452ddc7df10  POLYGON ((-2085317.153 1504754.840, -2085106.1...  \n",
       "538588cae9164de6990cf06895aae880  POLYGON ((-2085007.821 1504097.108, -2085133.6...  \n",
       "b14ffb3bcbf54cf6af4203b8554f2ed7  POLYGON ((-2085370.147 1503552.896, -2085308.3...  \n",
       "e751516bae364b7c85dbb45216edbdc9  POLYGON ((-2085206.534 1505876.614, -2085110.1...  \n",
       "d00dc7d97c6d4502bd9f92d7dc8c3945  POLYGON ((-2085514.182 1504991.638, -2085450.9...  \n",
       "\n",
       "[420 rows x 6 columns]"
      ]
     },
     "execution_count": 17,
     "metadata": {},
     "output_type": "execute_result"
    }
   ],
   "source": [
    "state.usr.db.gdfignition"
   ]
  },
  {
   "cell_type": "markdown",
   "id": "4b1debeb-3c1b-4c3f-9e20-82f32a063c6d",
   "metadata": {},
   "source": [
    "#### Interpolate all the vertices\n",
    "\n",
    "#### TODO: Vertices include an additional point when generated from geometry. Remove the repeat!\n",
    "\n",
    "#### TODO: Check whether the aligned_vertices have the correct roll amount\n",
    "1. Create matrices from the aligned_vertices, and form the $X_0$ ensemble state matrix\n",
    "2. Using the observation $y_1$, update the state vector and obtain $X_1$"
   ]
  },
  {
   "cell_type": "markdown",
   "id": "fdfb7ebf-10e4-47b7-ba2d-d03e31d8e9f8",
   "metadata": {},
   "source": [
    "#### TODO - Question: Can we find a way to not interpolate the vertices\n",
    "1. Without interpolation, we need to create a matrix that maps the observed vertices to the state vector"
   ]
  },
  {
   "cell_type": "code",
   "execution_count": null,
   "id": "6e140e72-c52f-43f6-843f-4ce4461a5afc",
   "metadata": {},
   "outputs": [],
   "source": []
  }
 ],
 "metadata": {
  "kernelspec": {
   "display_name": "Python 3 (ipykernel)",
   "language": "python",
   "name": "python3"
  },
  "language_info": {
   "codemirror_mode": {
    "name": "ipython",
    "version": 3
   },
   "file_extension": ".py",
   "mimetype": "text/x-python",
   "name": "python",
   "nbconvert_exporter": "python",
   "pygments_lexer": "ipython3",
   "version": "3.10.6"
  }
 },
 "nbformat": 4,
 "nbformat_minor": 5
}
