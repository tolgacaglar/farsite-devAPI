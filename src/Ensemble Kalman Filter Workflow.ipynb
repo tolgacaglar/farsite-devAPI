{
 "cells": [
  {
   "cell_type": "markdown",
   "id": "de901356-30f4-46aa-895f-f834710f5efa",
   "metadata": {},
   "source": [
    "# Ensemble Kalman Filter Workflow\n",
    "\n",
    "1. Available observation vector for $\\vec{y_{k+1}}$, and calculate the observation ensemble from the directional uncertainties based on the wind speed and direction. To calculate the uncertainty for each point of the perimeter:\n",
    "    1. Obtain the centroid $c_k = 1/M\\sum{y_k}$ where $M$ is the number of points.\n",
    "    2. Calculate vectors $\\vec{v_k^m}$ for each point from the centroid to the point where $m$ is the $m^{th}$ point in the perimeter\n",
    "    3. Obtain the wind speed and direction: $\\vec{u_k}$ from the closest weather station to the centroid\n",
    "    4. Uncertainty for each point $m$ is then $e_k^m = \\alpha \\left(1 - \\vec{v_k^m} \\cdot \\vec{u_k}\\right)$\n",
    "\n",
    "2. Given a state vector $x_k$ and uncertainties around each point $P_k$, generate an ensemble \n",
    "$$X_k = (x_k^1, x_k^2, \\cdots , x_k^N)$$\n",
    "    1. For the first timepoint $k=0$, the state vector is the first observation $(x_0 = y_0)$, and the ensemble is obtained from directional uncertainties assigned based on the wind speed and direction\n",
    "    2. **Question:** When creating the ensemble, do we preserve the mean $\\overline{x_k}$?\n",
    "    \n",
    "3. From the ensemble $X_k$, advance for each state vector $X_{k+1} = F(X_k, u_k)$, where $u_k$ \n",
    "\n",
    "4. "
   ]
  },
  {
   "cell_type": "markdown",
   "id": "a4b5f10a-ee62-4ba4-aac3-0fe305e1bc0f",
   "metadata": {},
   "source": [
    "## Dependencies:"
   ]
  },
  {
   "cell_type": "code",
   "execution_count": 45,
   "id": "145b1582-6a79-497f-a6d3-6838d655a74b",
   "metadata": {},
   "outputs": [],
   "source": [
    "import sys\n",
    "sys.path.append('/home/jovyan/farsite-devAPI/src/')\n",
    "sys.path.append('/home/jovyan/python-helper/src/')\n",
    "\n",
    "import geopandas as gpd\n",
    "import numpy as np\n",
    "\n",
    "from shapely.geometry import MultiPolygon, Polygon\n",
    "\n",
    "import uuid\n",
    "import random\n",
    "\n",
    "import farsiteutils_v2 as futils\n",
    "from kalmanutils import calculate_uncertainties_observed, interpolate_perimeter\n",
    "\n",
    "from loggers import TimeEstimator\n",
    "\n",
    "from matplotlib import pyplot as plt"
   ]
  },
  {
   "cell_type": "markdown",
   "id": "5ac1bb62-56d4-4c93-aa7d-544952e3ab6f",
   "metadata": {},
   "source": [
    "## Default Values"
   ]
  },
  {
   "cell_type": "code",
   "execution_count": 2,
   "id": "323345e2-6444-499f-87e2-c9bf65ae7a61",
   "metadata": {},
   "outputs": [],
   "source": [
    "SELECTED_FIRE_DEFAULT = 'Maria2019'\n",
    "DATA_PATH = '/home/jovyan/data/'    # Folder to keep all the data while running the simulations"
   ]
  },
  {
   "cell_type": "markdown",
   "id": "39840580-19e1-468d-85d2-bb17a1b28a29",
   "metadata": {},
   "source": [
    "## Select a fire\n",
    "\n",
    "```selected_fire``` variable holds the name of the fire selected. ```selected_fire = 'Maria2019'``` for now"
   ]
  },
  {
   "cell_type": "code",
   "execution_count": 3,
   "id": "d3fee504-e3de-4596-9983-2851ed3ed383",
   "metadata": {},
   "outputs": [
    {
     "name": "stdout",
     "output_type": "stream",
     "text": [
      "Database interaction not yet implemented. Use pickle file for dataframes instead!\n",
      "Available fires are ['Maria2019' 'River2021' 'Bridge2021']\n",
      "Maria2019 is selected.\n",
      "\n",
      "Maria2019 is found!\n"
     ]
    }
   ],
   "source": [
    "fp = futils.FilePaths(DATA_PATH)\n",
    "usr = futils.User(fp)\n",
    "\n",
    "unique_desc = usr.db.gdfignitionAll['description'].unique()\n",
    "print(f'Available fires are {unique_desc}')\n",
    "\n",
    "selected_fire = 'Maria2019'\n",
    "print(f'{selected_fire} is selected.\\n')\n",
    "if (unique_desc == selected_fire).any():\n",
    "    print(f'{selected_fire} is found!')\n",
    "else:\n",
    "    raise ValueError(f'{selected_fire} not found in possible fire descriptions: {unique_desc}')"
   ]
  },
  {
   "cell_type": "code",
   "execution_count": 4,
   "id": "12c82488-5539-48f6-ac4b-b060e27939b0",
   "metadata": {},
   "outputs": [],
   "source": [
    "from shapely.geometry import MultiPolygon, Polygon\n",
    "import numpy as np\n",
    "\n",
    "class State:\n",
    "    def __init__(self, geom):\n",
    "        self.geom = geom\n",
    "        \n",
    "        # Initialize\n",
    "        self.vertices = self.calculate_vertices()\n",
    "        self.lengths = self.calculate_lengths()\n",
    "    def calculate_vertices(self):\n",
    "        geom = self.geom\n",
    "        if isinstance(geom, MultiPolygon):\n",
    "            geompoly = geom.geoms[0]\n",
    "        elif isinstance(geom, Polygon):\n",
    "            geompoly = geom\n",
    "\n",
    "        return np.array((geompoly.exterior.coords))\n",
    "    \n",
    "    def calculate_lengths(self):\n",
    "        return np.sqrt((np.diff(self.vertices, axis=0)**2).sum(axis=1))\n",
    "    \n",
    "    def calculate_vector(self):\n",
    "        # Returns column vector of the vertices (x0, y0, x1, y1, ...)\n",
    "        return self.vertices.reshape(len(self.vertices)*2, 1)\n",
    "    \n",
    "    "
   ]
  },
  {
   "cell_type": "markdown",
   "id": "d533bd97-7ce7-4849-a438-ff1b4ecc3573",
   "metadata": {},
   "source": [
    "## Obtain the state vector\n",
    "\n",
    "Initially use `k=0` observational error"
   ]
  },
  {
   "cell_type": "code",
   "execution_count": 5,
   "id": "d5d87ab3-3e10-4556-8f2c-96bca096a1ef",
   "metadata": {},
   "outputs": [],
   "source": [
    "observation = usr.db.gdfignition.iloc[0]\n",
    "state_geom = gpd.read_file(observation['filepath'])['geometry'].set_crs(epsg=5070).iloc[0]\n",
    "igniteidx = observation.name\n",
    "state_datetime = observation['datetime']\n",
    "\n",
    "current_state = State(state_geom)"
   ]
  },
  {
   "cell_type": "markdown",
   "id": "165eb188-9360-486b-8215-c00aa434f844",
   "metadata": {},
   "source": [
    "## Obtain wind conditions of the nearest weather station\n",
    "\n",
    "### TODO : Obtain wind through pylaski API"
   ]
  },
  {
   "cell_type": "code",
   "execution_count": 6,
   "id": "a0638af8-5203-4657-8617-12115c31cdd2",
   "metadata": {},
   "outputs": [],
   "source": [
    "windspeed = 10\n",
    "winddirection = 90\n"
   ]
  },
  {
   "cell_type": "markdown",
   "id": "04618f31-c2cc-46f5-a3d8-e4b959caf9e7",
   "metadata": {},
   "source": [
    "## Calculate uncertainties based on wind conditions"
   ]
  },
  {
   "cell_type": "code",
   "execution_count": 7,
   "id": "a8092306-e67e-42f2-86e1-ae4561e822ba",
   "metadata": {},
   "outputs": [],
   "source": [
    "# uncertainty in both x and y for each vertex\n",
    "uncertainties = calculate_uncertainties_observed(current_state.vertices, windspeed, winddirection, scale=windspeed)*np.sqrt(current_state.lengths.max())"
   ]
  },
  {
   "cell_type": "code",
   "execution_count": 8,
   "id": "373fb553-bffc-4585-9708-a2ec6134356b",
   "metadata": {},
   "outputs": [],
   "source": [
    "def sample_geometry(current_state, uncertainties):\n",
    "    \n",
    "    maxlength = current_state.lengths.max()\n",
    "    \n",
    "    sampled_vertices = []\n",
    "    for (x,y), sigma in zip(current_state.vertices, uncertainties):\n",
    "        mu=0\n",
    "        randx = random.gauss(mu, sigma)\n",
    "        randy = random.gauss(mu, sigma)\n",
    "        sampled_vertices.append((x+randx, y+randy))\n",
    "\n",
    "    sampled_vertices = np.array(sampled_vertices)\n",
    "    return Polygon(sampled_vertices).buffer(maxlength, join_style=1).buffer(-maxlength, join_style=1)\n",
    "    "
   ]
  },
  {
   "cell_type": "markdown",
   "id": "6a74e20e-45a2-4d1d-afd3-e32296602a84",
   "metadata": {},
   "source": [
    "## Create an Ensemble for the first timepoint k=0"
   ]
  },
  {
   "cell_type": "code",
   "execution_count": 9,
   "id": "804a347d-cc7d-4b4f-aea9-142e3083c0d7",
   "metadata": {},
   "outputs": [
    {
     "name": "stdout",
     "output_type": "stream",
     "text": [
      "Calculating 99/100 ( 99.00%) - Remaining - 0:0:0...   \r"
     ]
    },
    {
     "name": "stderr",
     "output_type": "stream",
     "text": [
      "/tmp/ipykernel_892/2609905624.py:38: FutureWarning: The frame.append method is deprecated and will be removed from pandas in a future version. Use pandas.concat instead.\n",
      "  usr.db.gdfignition = usr.db.gdfignition.append(gpd.GeoDataFrame(ignitions).set_index('igniteidx').set_crs(epsg=5070).to_crs(epsg=4326))\n"
     ]
    }
   ],
   "source": [
    "nsamples = 100\n",
    "\n",
    "ignitions = {'igniteidx': [], \n",
    "             'filetype': [],\n",
    "             'objectid': [],\n",
    "             'filepath': [],\n",
    "             'datetime': [],\n",
    "             'description': [],\n",
    "             'geometry': []}\n",
    "\n",
    "time_estimator = TimeEstimator(nsamples)\n",
    "for sample in range(nsamples):\n",
    "    print(time_estimator.info_str(sample), end='\\r', flush=True)\n",
    "    \n",
    "    ignitions['igniteidx'].append(uuid.uuid4().hex)\n",
    "    ignitions['filetype'].append(observation['filetype'])\n",
    "    ignitions['objectid'].append(f'{observation[\"objectid\"]}E{sample:04d}')\n",
    "    \n",
    "    geometry = sample_geometry(current_state, uncertainties)\n",
    "    if isinstance(geometry, MultiPolygon):\n",
    "        max_area = 0\n",
    "        max_area_idx = 0\n",
    "        for ix, geom in enumerate(geometry.geoms):\n",
    "            if geom.area > max_area:\n",
    "                max_area = geom.area\n",
    "                max_area_idx = ix\n",
    "        geometry = geometry.geoms[max_area_idx]\n",
    "    \n",
    "    ignitions['geometry'].append(geometry)\n",
    "    \n",
    "    ignitions['filepath'].append(f'{usr.db.fp.datadir}ignitions/{selected_fire}E{sample:04d}.shp')\n",
    "    gpd.GeoDataFrame({'FID': [0], 'geometry': ignitions['geometry'][-1]}, \n",
    "                     crs='EPSG:5070').to_file(ignitions['filepath'][-1])\n",
    "    \n",
    "    ignitions['datetime'].append(observation['datetime'])\n",
    "    ignitions['description'].append(observation['description'])\n",
    "    \n",
    "usr.db.gdfignition = usr.db.gdfignition.append(gpd.GeoDataFrame(ignitions).set_index('igniteidx').set_crs(epsg=5070).to_crs(epsg=4326))\n",
    "usr.db.gdfignition = usr.db.gdfignition.to_crs(epsg=5070)"
   ]
  },
  {
   "cell_type": "markdown",
   "id": "cd3234db-9dcb-4a8d-8afa-c3c368c2cf8e",
   "metadata": {},
   "source": [
    "#### Create each ignition in sequence"
   ]
  },
  {
   "cell_type": "code",
   "execution_count": 10,
   "id": "ed669f1d-4b51-4d40-85a1-03c855e575ed",
   "metadata": {},
   "outputs": [],
   "source": [
    "# fig, ax = plt.subplots(1,1, figsize=(4,2), dpi=200)\n",
    "# gdfrow = usr.db.gdfignition.iloc[45]\n",
    "\n",
    "# # for igniteidx, gdfrow in usr.db.gdfignition.iterrows():\n",
    "\n",
    "# geom = usr.db.gdfignition.iloc[0]['geometry']\n",
    "# x,y = geom.exterior.coords.xy\n",
    "# ax.plot(x,y, 'b-')\n",
    "\n",
    "# geom = gdfrow['geometry']\n",
    "# if isinstance(geom, MultiPolygon):\n",
    "#     geom = geom.geoms[0]\n",
    "\n",
    "# x,y = geom.exterior.coords.xy\n",
    "# ax.plot(x,y, 'r--')\n",
    "    \n",
    "# # ax.set_ylim(34.3, 34.34)\n",
    "# # ax.set_xlim(-119.07, -119.02)"
   ]
  },
  {
   "cell_type": "markdown",
   "id": "56cb04d7-7062-45aa-8dab-9873457d42ee",
   "metadata": {},
   "source": [
    "## Advance state vector in FARSITE"
   ]
  },
  {
   "cell_type": "code",
   "execution_count": 14,
   "id": "c3b23b8d-8ae8-46e4-a8ef-d330b9360f1b",
   "metadata": {},
   "outputs": [],
   "source": [
    "## obtain the igniteidx of the ignition\n",
    "## The indices will be passed from the interface, which will include corresponding datetime, filepath etc.\n",
    "compareidx = '9f82e870591748a9a8a01346d174f2a1'\n",
    "lcpidx = '43b7f5db36994599861eec4849cc68fd'        # Index for Maria2019\n",
    "barrieridx = 'cb47616cd2dc4ccc8fd523bd3a5064bb'    # NoBarrier shapefile index"
   ]
  },
  {
   "cell_type": "code",
   "execution_count": 15,
   "id": "7cdc79cf-fdb7-4c8c-850f-3455ecad9694",
   "metadata": {
    "scrolled": true,
    "tags": []
   },
   "outputs": [
    {
     "name": "stdout",
     "output_type": "stream",
     "text": [
      "{'description': 'Maria2019', 'igniteidx': '412083db2bdd4fdd9e87214593be2e55', 'compareidx': '9f82e870591748a9a8a01346d174f2a1', 'lcpidx': '43b7f5db36994599861eec4849cc68fd', 'barrieridx': 'cb47616cd2dc4ccc8fd523bd3a5064bb', 'windspeed': 10, 'winddirection': 90, 'relhumid': 90, 'temperature': 20}\n",
      "Choosing a perimeter from the database\n",
      "{'description': 'Maria2019', 'igniteidx': '393d0e2c3b2240f5bcacf25076721985', 'compareidx': '9f82e870591748a9a8a01346d174f2a1', 'lcpidx': '43b7f5db36994599861eec4849cc68fd', 'barrieridx': 'cb47616cd2dc4ccc8fd523bd3a5064bb', 'windspeed': 10, 'winddirection': 90, 'relhumid': 90, 'temperature': 20}\n",
      "Choosing a perimeter from the database\n",
      "{'description': 'Maria2019', 'igniteidx': 'c110b12081a44ddeb6ea7fc98b777859', 'compareidx': '9f82e870591748a9a8a01346d174f2a1', 'lcpidx': '43b7f5db36994599861eec4849cc68fd', 'barrieridx': 'cb47616cd2dc4ccc8fd523bd3a5064bb', 'windspeed': 10, 'winddirection': 90, 'relhumid': 90, 'temperature': 20}\n",
      "Choosing a perimeter from the database\n",
      "{'description': 'Maria2019', 'igniteidx': 'f00146a0c4404a16aa1cfe5a382b1903', 'compareidx': '9f82e870591748a9a8a01346d174f2a1', 'lcpidx': '43b7f5db36994599861eec4849cc68fd', 'barrieridx': 'cb47616cd2dc4ccc8fd523bd3a5064bb', 'windspeed': 10, 'winddirection': 90, 'relhumid': 90, 'temperature': 20}\n",
      "Choosing a perimeter from the database\n",
      "{'description': 'Maria2019', 'igniteidx': '3fa190ec4da3431699e8147bd09b3c4f', 'compareidx': '9f82e870591748a9a8a01346d174f2a1', 'lcpidx': '43b7f5db36994599861eec4849cc68fd', 'barrieridx': 'cb47616cd2dc4ccc8fd523bd3a5064bb', 'windspeed': 10, 'winddirection': 90, 'relhumid': 90, 'temperature': 20}\n",
      "Choosing a perimeter from the database\n",
      "{'description': 'Maria2019', 'igniteidx': 'a44deaeb37e5499cb8896c827a04709a', 'compareidx': '9f82e870591748a9a8a01346d174f2a1', 'lcpidx': '43b7f5db36994599861eec4849cc68fd', 'barrieridx': 'cb47616cd2dc4ccc8fd523bd3a5064bb', 'windspeed': 10, 'winddirection': 90, 'relhumid': 90, 'temperature': 20}\n",
      "Choosing a perimeter from the database\n",
      "{'description': 'Maria2019', 'igniteidx': '9eec4eed7c6042ed93fcb11e776daac8', 'compareidx': '9f82e870591748a9a8a01346d174f2a1', 'lcpidx': '43b7f5db36994599861eec4849cc68fd', 'barrieridx': 'cb47616cd2dc4ccc8fd523bd3a5064bb', 'windspeed': 10, 'winddirection': 90, 'relhumid': 90, 'temperature': 20}\n",
      "Choosing a perimeter from the database\n",
      "{'description': 'Maria2019', 'igniteidx': '24274d607e7c4827be22ef04e6dcc25e', 'compareidx': '9f82e870591748a9a8a01346d174f2a1', 'lcpidx': '43b7f5db36994599861eec4849cc68fd', 'barrieridx': 'cb47616cd2dc4ccc8fd523bd3a5064bb', 'windspeed': 10, 'winddirection': 90, 'relhumid': 90, 'temperature': 20}\n",
      "Choosing a perimeter from the database\n",
      "{'description': 'Maria2019', 'igniteidx': 'cd9bd3e25c414223aac163ff6eadb5ed', 'compareidx': '9f82e870591748a9a8a01346d174f2a1', 'lcpidx': '43b7f5db36994599861eec4849cc68fd', 'barrieridx': 'cb47616cd2dc4ccc8fd523bd3a5064bb', 'windspeed': 10, 'winddirection': 90, 'relhumid': 90, 'temperature': 20}\n",
      "Choosing a perimeter from the database\n",
      "{'description': 'Maria2019', 'igniteidx': '1c98671c97db40b79666d5d85a4c797a', 'compareidx': '9f82e870591748a9a8a01346d174f2a1', 'lcpidx': '43b7f5db36994599861eec4849cc68fd', 'barrieridx': 'cb47616cd2dc4ccc8fd523bd3a5064bb', 'windspeed': 10, 'winddirection': 90, 'relhumid': 90, 'temperature': 20}\n",
      "Choosing a perimeter from the database\n",
      "{'description': 'Maria2019', 'igniteidx': '54b1888c4a7b4e69a123035dba50aadb', 'compareidx': '9f82e870591748a9a8a01346d174f2a1', 'lcpidx': '43b7f5db36994599861eec4849cc68fd', 'barrieridx': 'cb47616cd2dc4ccc8fd523bd3a5064bb', 'windspeed': 10, 'winddirection': 90, 'relhumid': 90, 'temperature': 20}\n",
      "Choosing a perimeter from the database\n",
      "{'description': 'Maria2019', 'igniteidx': 'cace98e30ac94d6c9b571415bca09c3c', 'compareidx': '9f82e870591748a9a8a01346d174f2a1', 'lcpidx': '43b7f5db36994599861eec4849cc68fd', 'barrieridx': 'cb47616cd2dc4ccc8fd523bd3a5064bb', 'windspeed': 10, 'winddirection': 90, 'relhumid': 90, 'temperature': 20}\n",
      "Choosing a perimeter from the database\n",
      "{'description': 'Maria2019', 'igniteidx': 'e217ff9e0caf4d978e7b9ad42bd8f210', 'compareidx': '9f82e870591748a9a8a01346d174f2a1', 'lcpidx': '43b7f5db36994599861eec4849cc68fd', 'barrieridx': 'cb47616cd2dc4ccc8fd523bd3a5064bb', 'windspeed': 10, 'winddirection': 90, 'relhumid': 90, 'temperature': 20}\n",
      "Choosing a perimeter from the database\n",
      "{'description': 'Maria2019', 'igniteidx': '60254e5e24894f3ca4e0b8fe92dd98f4', 'compareidx': '9f82e870591748a9a8a01346d174f2a1', 'lcpidx': '43b7f5db36994599861eec4849cc68fd', 'barrieridx': 'cb47616cd2dc4ccc8fd523bd3a5064bb', 'windspeed': 10, 'winddirection': 90, 'relhumid': 90, 'temperature': 20}\n",
      "Choosing a perimeter from the database\n",
      "{'description': 'Maria2019', 'igniteidx': 'fd30407555b3493c9b295371ad56df56', 'compareidx': '9f82e870591748a9a8a01346d174f2a1', 'lcpidx': '43b7f5db36994599861eec4849cc68fd', 'barrieridx': 'cb47616cd2dc4ccc8fd523bd3a5064bb', 'windspeed': 10, 'winddirection': 90, 'relhumid': 90, 'temperature': 20}\n",
      "Choosing a perimeter from the database\n",
      "{'description': 'Maria2019', 'igniteidx': '9ad453cc9c0e4719b1b8fc40e977e1e2', 'compareidx': '9f82e870591748a9a8a01346d174f2a1', 'lcpidx': '43b7f5db36994599861eec4849cc68fd', 'barrieridx': 'cb47616cd2dc4ccc8fd523bd3a5064bb', 'windspeed': 10, 'winddirection': 90, 'relhumid': 90, 'temperature': 20}\n",
      "Choosing a perimeter from the database\n",
      "{'description': 'Maria2019', 'igniteidx': '644c79ae62954f219a15cd57414f018b', 'compareidx': '9f82e870591748a9a8a01346d174f2a1', 'lcpidx': '43b7f5db36994599861eec4849cc68fd', 'barrieridx': 'cb47616cd2dc4ccc8fd523bd3a5064bb', 'windspeed': 10, 'winddirection': 90, 'relhumid': 90, 'temperature': 20}\n",
      "Choosing a perimeter from the database\n",
      "{'description': 'Maria2019', 'igniteidx': '970da69edc5c45dda50017a6a09dd960', 'compareidx': '9f82e870591748a9a8a01346d174f2a1', 'lcpidx': '43b7f5db36994599861eec4849cc68fd', 'barrieridx': 'cb47616cd2dc4ccc8fd523bd3a5064bb', 'windspeed': 10, 'winddirection': 90, 'relhumid': 90, 'temperature': 20}\n",
      "Choosing a perimeter from the database\n",
      "{'description': 'Maria2019', 'igniteidx': '445141be4c5d4c1fbb0220752302fc92', 'compareidx': '9f82e870591748a9a8a01346d174f2a1', 'lcpidx': '43b7f5db36994599861eec4849cc68fd', 'barrieridx': 'cb47616cd2dc4ccc8fd523bd3a5064bb', 'windspeed': 10, 'winddirection': 90, 'relhumid': 90, 'temperature': 20}\n",
      "Choosing a perimeter from the database\n",
      "{'description': 'Maria2019', 'igniteidx': '507b592a4c42455b8c7312ce19573343', 'compareidx': '9f82e870591748a9a8a01346d174f2a1', 'lcpidx': '43b7f5db36994599861eec4849cc68fd', 'barrieridx': 'cb47616cd2dc4ccc8fd523bd3a5064bb', 'windspeed': 10, 'winddirection': 90, 'relhumid': 90, 'temperature': 20}\n",
      "Choosing a perimeter from the database\n",
      "{'description': 'Maria2019', 'igniteidx': '8cda80d3b9734f9ea14b888f5e59c588', 'compareidx': '9f82e870591748a9a8a01346d174f2a1', 'lcpidx': '43b7f5db36994599861eec4849cc68fd', 'barrieridx': 'cb47616cd2dc4ccc8fd523bd3a5064bb', 'windspeed': 10, 'winddirection': 90, 'relhumid': 90, 'temperature': 20}\n",
      "Choosing a perimeter from the database\n",
      "{'description': 'Maria2019', 'igniteidx': '2fa39e57827e40638c6fabdfe9abc1be', 'compareidx': '9f82e870591748a9a8a01346d174f2a1', 'lcpidx': '43b7f5db36994599861eec4849cc68fd', 'barrieridx': 'cb47616cd2dc4ccc8fd523bd3a5064bb', 'windspeed': 10, 'winddirection': 90, 'relhumid': 90, 'temperature': 20}\n",
      "Choosing a perimeter from the database\n",
      "{'description': 'Maria2019', 'igniteidx': 'b50794f105bd494f9e8a92783c0cc816', 'compareidx': '9f82e870591748a9a8a01346d174f2a1', 'lcpidx': '43b7f5db36994599861eec4849cc68fd', 'barrieridx': 'cb47616cd2dc4ccc8fd523bd3a5064bb', 'windspeed': 10, 'winddirection': 90, 'relhumid': 90, 'temperature': 20}\n",
      "Choosing a perimeter from the database\n",
      "{'description': 'Maria2019', 'igniteidx': 'a821e7ccc2c043b584736b6165defb67', 'compareidx': '9f82e870591748a9a8a01346d174f2a1', 'lcpidx': '43b7f5db36994599861eec4849cc68fd', 'barrieridx': 'cb47616cd2dc4ccc8fd523bd3a5064bb', 'windspeed': 10, 'winddirection': 90, 'relhumid': 90, 'temperature': 20}\n",
      "Choosing a perimeter from the database\n",
      "{'description': 'Maria2019', 'igniteidx': '6f9b668a0fd249e8815bdb8a1afac7b3', 'compareidx': '9f82e870591748a9a8a01346d174f2a1', 'lcpidx': '43b7f5db36994599861eec4849cc68fd', 'barrieridx': 'cb47616cd2dc4ccc8fd523bd3a5064bb', 'windspeed': 10, 'winddirection': 90, 'relhumid': 90, 'temperature': 20}\n",
      "Choosing a perimeter from the database\n",
      "{'description': 'Maria2019', 'igniteidx': '61346fbf65cd4ec5be9422da4cdb64a6', 'compareidx': '9f82e870591748a9a8a01346d174f2a1', 'lcpidx': '43b7f5db36994599861eec4849cc68fd', 'barrieridx': 'cb47616cd2dc4ccc8fd523bd3a5064bb', 'windspeed': 10, 'winddirection': 90, 'relhumid': 90, 'temperature': 20}\n",
      "Choosing a perimeter from the database\n",
      "{'description': 'Maria2019', 'igniteidx': 'b1b7e6e367224db2971d1f3b5e5e582e', 'compareidx': '9f82e870591748a9a8a01346d174f2a1', 'lcpidx': '43b7f5db36994599861eec4849cc68fd', 'barrieridx': 'cb47616cd2dc4ccc8fd523bd3a5064bb', 'windspeed': 10, 'winddirection': 90, 'relhumid': 90, 'temperature': 20}\n",
      "Choosing a perimeter from the database\n",
      "{'description': 'Maria2019', 'igniteidx': '4dda29c96e9b434d9591ac5fa33d60ff', 'compareidx': '9f82e870591748a9a8a01346d174f2a1', 'lcpidx': '43b7f5db36994599861eec4849cc68fd', 'barrieridx': 'cb47616cd2dc4ccc8fd523bd3a5064bb', 'windspeed': 10, 'winddirection': 90, 'relhumid': 90, 'temperature': 20}\n",
      "Choosing a perimeter from the database\n",
      "{'description': 'Maria2019', 'igniteidx': '4da6b3e8092b486db95413d3cec7ace1', 'compareidx': '9f82e870591748a9a8a01346d174f2a1', 'lcpidx': '43b7f5db36994599861eec4849cc68fd', 'barrieridx': 'cb47616cd2dc4ccc8fd523bd3a5064bb', 'windspeed': 10, 'winddirection': 90, 'relhumid': 90, 'temperature': 20}\n",
      "Choosing a perimeter from the database\n",
      "{'description': 'Maria2019', 'igniteidx': '9c70535531a7420aba2e7a0b6630bc68', 'compareidx': '9f82e870591748a9a8a01346d174f2a1', 'lcpidx': '43b7f5db36994599861eec4849cc68fd', 'barrieridx': 'cb47616cd2dc4ccc8fd523bd3a5064bb', 'windspeed': 10, 'winddirection': 90, 'relhumid': 90, 'temperature': 20}\n",
      "Choosing a perimeter from the database\n",
      "{'description': 'Maria2019', 'igniteidx': '3a4842afd2064565a691eb2ad48e03c6', 'compareidx': '9f82e870591748a9a8a01346d174f2a1', 'lcpidx': '43b7f5db36994599861eec4849cc68fd', 'barrieridx': 'cb47616cd2dc4ccc8fd523bd3a5064bb', 'windspeed': 10, 'winddirection': 90, 'relhumid': 90, 'temperature': 20}\n",
      "Choosing a perimeter from the database\n",
      "{'description': 'Maria2019', 'igniteidx': '4315dc34dd6a4dc7b57714aa28286688', 'compareidx': '9f82e870591748a9a8a01346d174f2a1', 'lcpidx': '43b7f5db36994599861eec4849cc68fd', 'barrieridx': 'cb47616cd2dc4ccc8fd523bd3a5064bb', 'windspeed': 10, 'winddirection': 90, 'relhumid': 90, 'temperature': 20}\n",
      "Choosing a perimeter from the database\n",
      "{'description': 'Maria2019', 'igniteidx': 'f8ccf900b587421091f7e222838dc2ed', 'compareidx': '9f82e870591748a9a8a01346d174f2a1', 'lcpidx': '43b7f5db36994599861eec4849cc68fd', 'barrieridx': 'cb47616cd2dc4ccc8fd523bd3a5064bb', 'windspeed': 10, 'winddirection': 90, 'relhumid': 90, 'temperature': 20}\n",
      "Choosing a perimeter from the database\n",
      "{'description': 'Maria2019', 'igniteidx': '200262a016c04d569de35d6cba2c9c2b', 'compareidx': '9f82e870591748a9a8a01346d174f2a1', 'lcpidx': '43b7f5db36994599861eec4849cc68fd', 'barrieridx': 'cb47616cd2dc4ccc8fd523bd3a5064bb', 'windspeed': 10, 'winddirection': 90, 'relhumid': 90, 'temperature': 20}\n",
      "Choosing a perimeter from the database\n",
      "{'description': 'Maria2019', 'igniteidx': 'c7a471af080545568178a2da9be75bca', 'compareidx': '9f82e870591748a9a8a01346d174f2a1', 'lcpidx': '43b7f5db36994599861eec4849cc68fd', 'barrieridx': 'cb47616cd2dc4ccc8fd523bd3a5064bb', 'windspeed': 10, 'winddirection': 90, 'relhumid': 90, 'temperature': 20}\n",
      "Choosing a perimeter from the database\n",
      "{'description': 'Maria2019', 'igniteidx': '4137b8a7fd5d4679ba6c7c0701efad09', 'compareidx': '9f82e870591748a9a8a01346d174f2a1', 'lcpidx': '43b7f5db36994599861eec4849cc68fd', 'barrieridx': 'cb47616cd2dc4ccc8fd523bd3a5064bb', 'windspeed': 10, 'winddirection': 90, 'relhumid': 90, 'temperature': 20}\n",
      "Choosing a perimeter from the database\n",
      "{'description': 'Maria2019', 'igniteidx': 'e2a1912d059548b7bbaa8398738a41f2', 'compareidx': '9f82e870591748a9a8a01346d174f2a1', 'lcpidx': '43b7f5db36994599861eec4849cc68fd', 'barrieridx': 'cb47616cd2dc4ccc8fd523bd3a5064bb', 'windspeed': 10, 'winddirection': 90, 'relhumid': 90, 'temperature': 20}\n",
      "Choosing a perimeter from the database\n",
      "{'description': 'Maria2019', 'igniteidx': '074a519f9db74618a33816c158e43d4d', 'compareidx': '9f82e870591748a9a8a01346d174f2a1', 'lcpidx': '43b7f5db36994599861eec4849cc68fd', 'barrieridx': 'cb47616cd2dc4ccc8fd523bd3a5064bb', 'windspeed': 10, 'winddirection': 90, 'relhumid': 90, 'temperature': 20}\n",
      "Choosing a perimeter from the database\n",
      "{'description': 'Maria2019', 'igniteidx': '805d569e5a5445379c81e8ad2ed5261a', 'compareidx': '9f82e870591748a9a8a01346d174f2a1', 'lcpidx': '43b7f5db36994599861eec4849cc68fd', 'barrieridx': 'cb47616cd2dc4ccc8fd523bd3a5064bb', 'windspeed': 10, 'winddirection': 90, 'relhumid': 90, 'temperature': 20}\n",
      "Choosing a perimeter from the database\n",
      "{'description': 'Maria2019', 'igniteidx': 'd9ec0183960e4877a5b328adf716a18c', 'compareidx': '9f82e870591748a9a8a01346d174f2a1', 'lcpidx': '43b7f5db36994599861eec4849cc68fd', 'barrieridx': 'cb47616cd2dc4ccc8fd523bd3a5064bb', 'windspeed': 10, 'winddirection': 90, 'relhumid': 90, 'temperature': 20}\n",
      "Choosing a perimeter from the database\n",
      "{'description': 'Maria2019', 'igniteidx': '68b1d793dcbb41f682951f008205a57d', 'compareidx': '9f82e870591748a9a8a01346d174f2a1', 'lcpidx': '43b7f5db36994599861eec4849cc68fd', 'barrieridx': 'cb47616cd2dc4ccc8fd523bd3a5064bb', 'windspeed': 10, 'winddirection': 90, 'relhumid': 90, 'temperature': 20}\n",
      "Choosing a perimeter from the database\n",
      "{'description': 'Maria2019', 'igniteidx': 'd8728491ea254fd9813613bc74efe512', 'compareidx': '9f82e870591748a9a8a01346d174f2a1', 'lcpidx': '43b7f5db36994599861eec4849cc68fd', 'barrieridx': 'cb47616cd2dc4ccc8fd523bd3a5064bb', 'windspeed': 10, 'winddirection': 90, 'relhumid': 90, 'temperature': 20}\n",
      "Choosing a perimeter from the database\n",
      "{'description': 'Maria2019', 'igniteidx': '490117b41b0a486bb2a54e3ec571044f', 'compareidx': '9f82e870591748a9a8a01346d174f2a1', 'lcpidx': '43b7f5db36994599861eec4849cc68fd', 'barrieridx': 'cb47616cd2dc4ccc8fd523bd3a5064bb', 'windspeed': 10, 'winddirection': 90, 'relhumid': 90, 'temperature': 20}\n",
      "Choosing a perimeter from the database\n",
      "{'description': 'Maria2019', 'igniteidx': 'c9bd4e3b481347d9b38394c830d3607e', 'compareidx': '9f82e870591748a9a8a01346d174f2a1', 'lcpidx': '43b7f5db36994599861eec4849cc68fd', 'barrieridx': 'cb47616cd2dc4ccc8fd523bd3a5064bb', 'windspeed': 10, 'winddirection': 90, 'relhumid': 90, 'temperature': 20}\n",
      "Choosing a perimeter from the database\n",
      "{'description': 'Maria2019', 'igniteidx': '71f8bf1678b8474a9cfdf96d4f1621a8', 'compareidx': '9f82e870591748a9a8a01346d174f2a1', 'lcpidx': '43b7f5db36994599861eec4849cc68fd', 'barrieridx': 'cb47616cd2dc4ccc8fd523bd3a5064bb', 'windspeed': 10, 'winddirection': 90, 'relhumid': 90, 'temperature': 20}\n",
      "Choosing a perimeter from the database\n",
      "{'description': 'Maria2019', 'igniteidx': '4674a3ea8fa4471dae2afe2eea8bce07', 'compareidx': '9f82e870591748a9a8a01346d174f2a1', 'lcpidx': '43b7f5db36994599861eec4849cc68fd', 'barrieridx': 'cb47616cd2dc4ccc8fd523bd3a5064bb', 'windspeed': 10, 'winddirection': 90, 'relhumid': 90, 'temperature': 20}\n",
      "Choosing a perimeter from the database\n",
      "{'description': 'Maria2019', 'igniteidx': '08a02ddd985f40ef862bec3dc6ba3e27', 'compareidx': '9f82e870591748a9a8a01346d174f2a1', 'lcpidx': '43b7f5db36994599861eec4849cc68fd', 'barrieridx': 'cb47616cd2dc4ccc8fd523bd3a5064bb', 'windspeed': 10, 'winddirection': 90, 'relhumid': 90, 'temperature': 20}\n",
      "Choosing a perimeter from the database\n",
      "{'description': 'Maria2019', 'igniteidx': '7354e89ed58a4ebdbe0682e7972a99a8', 'compareidx': '9f82e870591748a9a8a01346d174f2a1', 'lcpidx': '43b7f5db36994599861eec4849cc68fd', 'barrieridx': 'cb47616cd2dc4ccc8fd523bd3a5064bb', 'windspeed': 10, 'winddirection': 90, 'relhumid': 90, 'temperature': 20}\n",
      "Choosing a perimeter from the database\n",
      "{'description': 'Maria2019', 'igniteidx': '79aa217ebccd4f839ab149e50f8a479b', 'compareidx': '9f82e870591748a9a8a01346d174f2a1', 'lcpidx': '43b7f5db36994599861eec4849cc68fd', 'barrieridx': 'cb47616cd2dc4ccc8fd523bd3a5064bb', 'windspeed': 10, 'winddirection': 90, 'relhumid': 90, 'temperature': 20}\n",
      "Choosing a perimeter from the database\n",
      "{'description': 'Maria2019', 'igniteidx': '62dabd8ed9e3417991d35cdd0f168dff', 'compareidx': '9f82e870591748a9a8a01346d174f2a1', 'lcpidx': '43b7f5db36994599861eec4849cc68fd', 'barrieridx': 'cb47616cd2dc4ccc8fd523bd3a5064bb', 'windspeed': 10, 'winddirection': 90, 'relhumid': 90, 'temperature': 20}\n",
      "Choosing a perimeter from the database\n",
      "{'description': 'Maria2019', 'igniteidx': '389f1c3539994d31bccb363408a74059', 'compareidx': '9f82e870591748a9a8a01346d174f2a1', 'lcpidx': '43b7f5db36994599861eec4849cc68fd', 'barrieridx': 'cb47616cd2dc4ccc8fd523bd3a5064bb', 'windspeed': 10, 'winddirection': 90, 'relhumid': 90, 'temperature': 20}\n",
      "Choosing a perimeter from the database\n",
      "{'description': 'Maria2019', 'igniteidx': 'ce4f9d87d74f43a0843c6acdc146bcf6', 'compareidx': '9f82e870591748a9a8a01346d174f2a1', 'lcpidx': '43b7f5db36994599861eec4849cc68fd', 'barrieridx': 'cb47616cd2dc4ccc8fd523bd3a5064bb', 'windspeed': 10, 'winddirection': 90, 'relhumid': 90, 'temperature': 20}\n",
      "Choosing a perimeter from the database\n",
      "{'description': 'Maria2019', 'igniteidx': 'e55b9259e1a346c79702e3ba446437e8', 'compareidx': '9f82e870591748a9a8a01346d174f2a1', 'lcpidx': '43b7f5db36994599861eec4849cc68fd', 'barrieridx': 'cb47616cd2dc4ccc8fd523bd3a5064bb', 'windspeed': 10, 'winddirection': 90, 'relhumid': 90, 'temperature': 20}\n",
      "Choosing a perimeter from the database\n",
      "{'description': 'Maria2019', 'igniteidx': '53f4c407769345039c4f76253308fe75', 'compareidx': '9f82e870591748a9a8a01346d174f2a1', 'lcpidx': '43b7f5db36994599861eec4849cc68fd', 'barrieridx': 'cb47616cd2dc4ccc8fd523bd3a5064bb', 'windspeed': 10, 'winddirection': 90, 'relhumid': 90, 'temperature': 20}\n",
      "Choosing a perimeter from the database\n",
      "{'description': 'Maria2019', 'igniteidx': 'af8dffc86b31498ebe10b744f397d783', 'compareidx': '9f82e870591748a9a8a01346d174f2a1', 'lcpidx': '43b7f5db36994599861eec4849cc68fd', 'barrieridx': 'cb47616cd2dc4ccc8fd523bd3a5064bb', 'windspeed': 10, 'winddirection': 90, 'relhumid': 90, 'temperature': 20}\n",
      "Choosing a perimeter from the database\n",
      "{'description': 'Maria2019', 'igniteidx': 'a21f0c599feb4f4a8399d23f6e72a6f0', 'compareidx': '9f82e870591748a9a8a01346d174f2a1', 'lcpidx': '43b7f5db36994599861eec4849cc68fd', 'barrieridx': 'cb47616cd2dc4ccc8fd523bd3a5064bb', 'windspeed': 10, 'winddirection': 90, 'relhumid': 90, 'temperature': 20}\n",
      "Choosing a perimeter from the database\n",
      "{'description': 'Maria2019', 'igniteidx': '592dbf38010340ba8afe6353a8549496', 'compareidx': '9f82e870591748a9a8a01346d174f2a1', 'lcpidx': '43b7f5db36994599861eec4849cc68fd', 'barrieridx': 'cb47616cd2dc4ccc8fd523bd3a5064bb', 'windspeed': 10, 'winddirection': 90, 'relhumid': 90, 'temperature': 20}\n",
      "Choosing a perimeter from the database\n",
      "{'description': 'Maria2019', 'igniteidx': 'd8ddfb67edb54cd6aa65e494d3566335', 'compareidx': '9f82e870591748a9a8a01346d174f2a1', 'lcpidx': '43b7f5db36994599861eec4849cc68fd', 'barrieridx': 'cb47616cd2dc4ccc8fd523bd3a5064bb', 'windspeed': 10, 'winddirection': 90, 'relhumid': 90, 'temperature': 20}\n",
      "Choosing a perimeter from the database\n",
      "{'description': 'Maria2019', 'igniteidx': '043067bc5ac540e1ae41e1622e26be05', 'compareidx': '9f82e870591748a9a8a01346d174f2a1', 'lcpidx': '43b7f5db36994599861eec4849cc68fd', 'barrieridx': 'cb47616cd2dc4ccc8fd523bd3a5064bb', 'windspeed': 10, 'winddirection': 90, 'relhumid': 90, 'temperature': 20}\n",
      "Choosing a perimeter from the database\n",
      "{'description': 'Maria2019', 'igniteidx': 'ca7d1d10308249adb8bcb405618c5407', 'compareidx': '9f82e870591748a9a8a01346d174f2a1', 'lcpidx': '43b7f5db36994599861eec4849cc68fd', 'barrieridx': 'cb47616cd2dc4ccc8fd523bd3a5064bb', 'windspeed': 10, 'winddirection': 90, 'relhumid': 90, 'temperature': 20}\n",
      "Choosing a perimeter from the database\n",
      "{'description': 'Maria2019', 'igniteidx': '11a71bae92bf477496167c3edae0296e', 'compareidx': '9f82e870591748a9a8a01346d174f2a1', 'lcpidx': '43b7f5db36994599861eec4849cc68fd', 'barrieridx': 'cb47616cd2dc4ccc8fd523bd3a5064bb', 'windspeed': 10, 'winddirection': 90, 'relhumid': 90, 'temperature': 20}\n",
      "Choosing a perimeter from the database\n",
      "{'description': 'Maria2019', 'igniteidx': 'e3866fda040f4ded9b37272f9bcd3087', 'compareidx': '9f82e870591748a9a8a01346d174f2a1', 'lcpidx': '43b7f5db36994599861eec4849cc68fd', 'barrieridx': 'cb47616cd2dc4ccc8fd523bd3a5064bb', 'windspeed': 10, 'winddirection': 90, 'relhumid': 90, 'temperature': 20}\n",
      "Choosing a perimeter from the database\n",
      "{'description': 'Maria2019', 'igniteidx': '9830c5e8ca0e4aaeaa9522d9cb50d569', 'compareidx': '9f82e870591748a9a8a01346d174f2a1', 'lcpidx': '43b7f5db36994599861eec4849cc68fd', 'barrieridx': 'cb47616cd2dc4ccc8fd523bd3a5064bb', 'windspeed': 10, 'winddirection': 90, 'relhumid': 90, 'temperature': 20}\n",
      "Choosing a perimeter from the database\n",
      "{'description': 'Maria2019', 'igniteidx': 'a4c3970293974eb1b4116b87f19a4b0a', 'compareidx': '9f82e870591748a9a8a01346d174f2a1', 'lcpidx': '43b7f5db36994599861eec4849cc68fd', 'barrieridx': 'cb47616cd2dc4ccc8fd523bd3a5064bb', 'windspeed': 10, 'winddirection': 90, 'relhumid': 90, 'temperature': 20}\n",
      "Choosing a perimeter from the database\n",
      "{'description': 'Maria2019', 'igniteidx': '8ad7f783dc7846b4abe0e69fabb0f0fc', 'compareidx': '9f82e870591748a9a8a01346d174f2a1', 'lcpidx': '43b7f5db36994599861eec4849cc68fd', 'barrieridx': 'cb47616cd2dc4ccc8fd523bd3a5064bb', 'windspeed': 10, 'winddirection': 90, 'relhumid': 90, 'temperature': 20}\n",
      "Choosing a perimeter from the database\n",
      "{'description': 'Maria2019', 'igniteidx': 'bad5bda94db84cd28e33b0c02e3f1759', 'compareidx': '9f82e870591748a9a8a01346d174f2a1', 'lcpidx': '43b7f5db36994599861eec4849cc68fd', 'barrieridx': 'cb47616cd2dc4ccc8fd523bd3a5064bb', 'windspeed': 10, 'winddirection': 90, 'relhumid': 90, 'temperature': 20}\n",
      "Choosing a perimeter from the database\n",
      "{'description': 'Maria2019', 'igniteidx': '1a258e4b94354e9cae0e65446f713528', 'compareidx': '9f82e870591748a9a8a01346d174f2a1', 'lcpidx': '43b7f5db36994599861eec4849cc68fd', 'barrieridx': 'cb47616cd2dc4ccc8fd523bd3a5064bb', 'windspeed': 10, 'winddirection': 90, 'relhumid': 90, 'temperature': 20}\n",
      "Choosing a perimeter from the database\n",
      "{'description': 'Maria2019', 'igniteidx': '97e71e21e39f4acebaebb8cb9bb8900b', 'compareidx': '9f82e870591748a9a8a01346d174f2a1', 'lcpidx': '43b7f5db36994599861eec4849cc68fd', 'barrieridx': 'cb47616cd2dc4ccc8fd523bd3a5064bb', 'windspeed': 10, 'winddirection': 90, 'relhumid': 90, 'temperature': 20}\n",
      "Choosing a perimeter from the database\n",
      "{'description': 'Maria2019', 'igniteidx': 'acdea60d3e374b2a99f8e63a39381d03', 'compareidx': '9f82e870591748a9a8a01346d174f2a1', 'lcpidx': '43b7f5db36994599861eec4849cc68fd', 'barrieridx': 'cb47616cd2dc4ccc8fd523bd3a5064bb', 'windspeed': 10, 'winddirection': 90, 'relhumid': 90, 'temperature': 20}\n",
      "Choosing a perimeter from the database\n",
      "{'description': 'Maria2019', 'igniteidx': '189f371a5b244f1591048775fd3af536', 'compareidx': '9f82e870591748a9a8a01346d174f2a1', 'lcpidx': '43b7f5db36994599861eec4849cc68fd', 'barrieridx': 'cb47616cd2dc4ccc8fd523bd3a5064bb', 'windspeed': 10, 'winddirection': 90, 'relhumid': 90, 'temperature': 20}\n",
      "Choosing a perimeter from the database\n",
      "{'description': 'Maria2019', 'igniteidx': 'c4a4edfa721943f68b19f207c8f11747', 'compareidx': '9f82e870591748a9a8a01346d174f2a1', 'lcpidx': '43b7f5db36994599861eec4849cc68fd', 'barrieridx': 'cb47616cd2dc4ccc8fd523bd3a5064bb', 'windspeed': 10, 'winddirection': 90, 'relhumid': 90, 'temperature': 20}\n",
      "Choosing a perimeter from the database\n",
      "{'description': 'Maria2019', 'igniteidx': '6ccfaf213de74465b35140824d9dfb04', 'compareidx': '9f82e870591748a9a8a01346d174f2a1', 'lcpidx': '43b7f5db36994599861eec4849cc68fd', 'barrieridx': 'cb47616cd2dc4ccc8fd523bd3a5064bb', 'windspeed': 10, 'winddirection': 90, 'relhumid': 90, 'temperature': 20}\n",
      "Choosing a perimeter from the database\n",
      "{'description': 'Maria2019', 'igniteidx': '96deee94c08a461c9231c92100bff88f', 'compareidx': '9f82e870591748a9a8a01346d174f2a1', 'lcpidx': '43b7f5db36994599861eec4849cc68fd', 'barrieridx': 'cb47616cd2dc4ccc8fd523bd3a5064bb', 'windspeed': 10, 'winddirection': 90, 'relhumid': 90, 'temperature': 20}\n",
      "Choosing a perimeter from the database\n",
      "{'description': 'Maria2019', 'igniteidx': 'f9ded1d47ca04c848917d328a6898f35', 'compareidx': '9f82e870591748a9a8a01346d174f2a1', 'lcpidx': '43b7f5db36994599861eec4849cc68fd', 'barrieridx': 'cb47616cd2dc4ccc8fd523bd3a5064bb', 'windspeed': 10, 'winddirection': 90, 'relhumid': 90, 'temperature': 20}\n",
      "Choosing a perimeter from the database\n",
      "{'description': 'Maria2019', 'igniteidx': '11b2adbbf1094178b536135c6904203b', 'compareidx': '9f82e870591748a9a8a01346d174f2a1', 'lcpidx': '43b7f5db36994599861eec4849cc68fd', 'barrieridx': 'cb47616cd2dc4ccc8fd523bd3a5064bb', 'windspeed': 10, 'winddirection': 90, 'relhumid': 90, 'temperature': 20}\n",
      "Choosing a perimeter from the database\n",
      "{'description': 'Maria2019', 'igniteidx': 'cf6cafa364a3485198cdcb315db12cad', 'compareidx': '9f82e870591748a9a8a01346d174f2a1', 'lcpidx': '43b7f5db36994599861eec4849cc68fd', 'barrieridx': 'cb47616cd2dc4ccc8fd523bd3a5064bb', 'windspeed': 10, 'winddirection': 90, 'relhumid': 90, 'temperature': 20}\n",
      "Choosing a perimeter from the database\n",
      "{'description': 'Maria2019', 'igniteidx': 'bd7cbbf695bb40328cd353e6a11b07a9', 'compareidx': '9f82e870591748a9a8a01346d174f2a1', 'lcpidx': '43b7f5db36994599861eec4849cc68fd', 'barrieridx': 'cb47616cd2dc4ccc8fd523bd3a5064bb', 'windspeed': 10, 'winddirection': 90, 'relhumid': 90, 'temperature': 20}\n",
      "Choosing a perimeter from the database\n",
      "{'description': 'Maria2019', 'igniteidx': '8a9ff93eeffe482a8cb61c2745d7907b', 'compareidx': '9f82e870591748a9a8a01346d174f2a1', 'lcpidx': '43b7f5db36994599861eec4849cc68fd', 'barrieridx': 'cb47616cd2dc4ccc8fd523bd3a5064bb', 'windspeed': 10, 'winddirection': 90, 'relhumid': 90, 'temperature': 20}\n",
      "Choosing a perimeter from the database\n",
      "{'description': 'Maria2019', 'igniteidx': '49578c7252324992a1c04995d0ca5381', 'compareidx': '9f82e870591748a9a8a01346d174f2a1', 'lcpidx': '43b7f5db36994599861eec4849cc68fd', 'barrieridx': 'cb47616cd2dc4ccc8fd523bd3a5064bb', 'windspeed': 10, 'winddirection': 90, 'relhumid': 90, 'temperature': 20}\n",
      "Choosing a perimeter from the database\n",
      "{'description': 'Maria2019', 'igniteidx': 'd7f80fd9f0b84aa8a86b79d50442b874', 'compareidx': '9f82e870591748a9a8a01346d174f2a1', 'lcpidx': '43b7f5db36994599861eec4849cc68fd', 'barrieridx': 'cb47616cd2dc4ccc8fd523bd3a5064bb', 'windspeed': 10, 'winddirection': 90, 'relhumid': 90, 'temperature': 20}\n",
      "Choosing a perimeter from the database\n",
      "{'description': 'Maria2019', 'igniteidx': '7ef0c576a63f421b98d6b8e61b275304', 'compareidx': '9f82e870591748a9a8a01346d174f2a1', 'lcpidx': '43b7f5db36994599861eec4849cc68fd', 'barrieridx': 'cb47616cd2dc4ccc8fd523bd3a5064bb', 'windspeed': 10, 'winddirection': 90, 'relhumid': 90, 'temperature': 20}\n",
      "Choosing a perimeter from the database\n",
      "{'description': 'Maria2019', 'igniteidx': '1dc130deed744d49b8369f6080068b06', 'compareidx': '9f82e870591748a9a8a01346d174f2a1', 'lcpidx': '43b7f5db36994599861eec4849cc68fd', 'barrieridx': 'cb47616cd2dc4ccc8fd523bd3a5064bb', 'windspeed': 10, 'winddirection': 90, 'relhumid': 90, 'temperature': 20}\n",
      "Choosing a perimeter from the database\n",
      "{'description': 'Maria2019', 'igniteidx': '92f46bffe22e4b45add5a60e734d8fcc', 'compareidx': '9f82e870591748a9a8a01346d174f2a1', 'lcpidx': '43b7f5db36994599861eec4849cc68fd', 'barrieridx': 'cb47616cd2dc4ccc8fd523bd3a5064bb', 'windspeed': 10, 'winddirection': 90, 'relhumid': 90, 'temperature': 20}\n",
      "Choosing a perimeter from the database\n",
      "{'description': 'Maria2019', 'igniteidx': '006d8e15e4114feaa3c62f3589c1ea7d', 'compareidx': '9f82e870591748a9a8a01346d174f2a1', 'lcpidx': '43b7f5db36994599861eec4849cc68fd', 'barrieridx': 'cb47616cd2dc4ccc8fd523bd3a5064bb', 'windspeed': 10, 'winddirection': 90, 'relhumid': 90, 'temperature': 20}\n",
      "Choosing a perimeter from the database\n",
      "{'description': 'Maria2019', 'igniteidx': 'b50cb46cf79749bbb5eb537c42c223d3', 'compareidx': '9f82e870591748a9a8a01346d174f2a1', 'lcpidx': '43b7f5db36994599861eec4849cc68fd', 'barrieridx': 'cb47616cd2dc4ccc8fd523bd3a5064bb', 'windspeed': 10, 'winddirection': 90, 'relhumid': 90, 'temperature': 20}\n",
      "Choosing a perimeter from the database\n",
      "{'description': 'Maria2019', 'igniteidx': 'b0569d6e345749f9bb939a12b53924eb', 'compareidx': '9f82e870591748a9a8a01346d174f2a1', 'lcpidx': '43b7f5db36994599861eec4849cc68fd', 'barrieridx': 'cb47616cd2dc4ccc8fd523bd3a5064bb', 'windspeed': 10, 'winddirection': 90, 'relhumid': 90, 'temperature': 20}\n",
      "Choosing a perimeter from the database\n",
      "{'description': 'Maria2019', 'igniteidx': '70d2a1e3cd0c4815919eccf7266f0b3b', 'compareidx': '9f82e870591748a9a8a01346d174f2a1', 'lcpidx': '43b7f5db36994599861eec4849cc68fd', 'barrieridx': 'cb47616cd2dc4ccc8fd523bd3a5064bb', 'windspeed': 10, 'winddirection': 90, 'relhumid': 90, 'temperature': 20}\n",
      "Choosing a perimeter from the database\n",
      "{'description': 'Maria2019', 'igniteidx': 'dcfd8191990f44148b782cbb824f70cb', 'compareidx': '9f82e870591748a9a8a01346d174f2a1', 'lcpidx': '43b7f5db36994599861eec4849cc68fd', 'barrieridx': 'cb47616cd2dc4ccc8fd523bd3a5064bb', 'windspeed': 10, 'winddirection': 90, 'relhumid': 90, 'temperature': 20}\n",
      "Choosing a perimeter from the database\n",
      "{'description': 'Maria2019', 'igniteidx': '7369f3e85b664e7482f37046ca555471', 'compareidx': '9f82e870591748a9a8a01346d174f2a1', 'lcpidx': '43b7f5db36994599861eec4849cc68fd', 'barrieridx': 'cb47616cd2dc4ccc8fd523bd3a5064bb', 'windspeed': 10, 'winddirection': 90, 'relhumid': 90, 'temperature': 20}\n",
      "Choosing a perimeter from the database\n",
      "{'description': 'Maria2019', 'igniteidx': 'a06f4f585a564d14aded99fe32891358', 'compareidx': '9f82e870591748a9a8a01346d174f2a1', 'lcpidx': '43b7f5db36994599861eec4849cc68fd', 'barrieridx': 'cb47616cd2dc4ccc8fd523bd3a5064bb', 'windspeed': 10, 'winddirection': 90, 'relhumid': 90, 'temperature': 20}\n",
      "Choosing a perimeter from the database\n",
      "{'description': 'Maria2019', 'igniteidx': '1170f43ede4545b386255350571499c9', 'compareidx': '9f82e870591748a9a8a01346d174f2a1', 'lcpidx': '43b7f5db36994599861eec4849cc68fd', 'barrieridx': 'cb47616cd2dc4ccc8fd523bd3a5064bb', 'windspeed': 10, 'winddirection': 90, 'relhumid': 90, 'temperature': 20}\n",
      "Choosing a perimeter from the database\n",
      "{'description': 'Maria2019', 'igniteidx': 'f643cb97a6934efe8d4d92c3a91501b0', 'compareidx': '9f82e870591748a9a8a01346d174f2a1', 'lcpidx': '43b7f5db36994599861eec4849cc68fd', 'barrieridx': 'cb47616cd2dc4ccc8fd523bd3a5064bb', 'windspeed': 10, 'winddirection': 90, 'relhumid': 90, 'temperature': 20}\n",
      "Choosing a perimeter from the database\n",
      "{'description': 'Maria2019', 'igniteidx': 'e5dc242a2724421288c1715bdcfbf52c', 'compareidx': '9f82e870591748a9a8a01346d174f2a1', 'lcpidx': '43b7f5db36994599861eec4849cc68fd', 'barrieridx': 'cb47616cd2dc4ccc8fd523bd3a5064bb', 'windspeed': 10, 'winddirection': 90, 'relhumid': 90, 'temperature': 20}\n",
      "Choosing a perimeter from the database\n",
      "{'description': 'Maria2019', 'igniteidx': '375bd4abdf2a47369f594f69954270ef', 'compareidx': '9f82e870591748a9a8a01346d174f2a1', 'lcpidx': '43b7f5db36994599861eec4849cc68fd', 'barrieridx': 'cb47616cd2dc4ccc8fd523bd3a5064bb', 'windspeed': 10, 'winddirection': 90, 'relhumid': 90, 'temperature': 20}\n",
      "Choosing a perimeter from the database\n",
      "{'description': 'Maria2019', 'igniteidx': '00e923c4b5484fd2949bff773b657079', 'compareidx': '9f82e870591748a9a8a01346d174f2a1', 'lcpidx': '43b7f5db36994599861eec4849cc68fd', 'barrieridx': 'cb47616cd2dc4ccc8fd523bd3a5064bb', 'windspeed': 10, 'winddirection': 90, 'relhumid': 90, 'temperature': 20}\n",
      "Choosing a perimeter from the database\n",
      "{'description': 'Maria2019', 'igniteidx': 'b1acd3a5c54447138e1e79fee9bc97b7', 'compareidx': '9f82e870591748a9a8a01346d174f2a1', 'lcpidx': '43b7f5db36994599861eec4849cc68fd', 'barrieridx': 'cb47616cd2dc4ccc8fd523bd3a5064bb', 'windspeed': 10, 'winddirection': 90, 'relhumid': 90, 'temperature': 20}\n",
      "Choosing a perimeter from the database\n",
      "{'description': 'Maria2019', 'igniteidx': '749c164e1d5f40558cb0f926bb0950f3', 'compareidx': '9f82e870591748a9a8a01346d174f2a1', 'lcpidx': '43b7f5db36994599861eec4849cc68fd', 'barrieridx': 'cb47616cd2dc4ccc8fd523bd3a5064bb', 'windspeed': 10, 'winddirection': 90, 'relhumid': 90, 'temperature': 20}\n",
      "Choosing a perimeter from the database\n",
      "{'description': 'Maria2019', 'igniteidx': 'dfbd67c441b4418f9a31ba7d45a21a6d', 'compareidx': '9f82e870591748a9a8a01346d174f2a1', 'lcpidx': '43b7f5db36994599861eec4849cc68fd', 'barrieridx': 'cb47616cd2dc4ccc8fd523bd3a5064bb', 'windspeed': 10, 'winddirection': 90, 'relhumid': 90, 'temperature': 20}\n",
      "Choosing a perimeter from the database\n",
      "{'description': 'Maria2019', 'igniteidx': '17f08f028fa3453088fd9ed90c5422ad', 'compareidx': '9f82e870591748a9a8a01346d174f2a1', 'lcpidx': '43b7f5db36994599861eec4849cc68fd', 'barrieridx': 'cb47616cd2dc4ccc8fd523bd3a5064bb', 'windspeed': 10, 'winddirection': 90, 'relhumid': 90, 'temperature': 20}\n",
      "Choosing a perimeter from the database\n",
      "{'description': 'Maria2019', 'igniteidx': '049573f2ba334703bcf85e6a1d9d4e2e', 'compareidx': '9f82e870591748a9a8a01346d174f2a1', 'lcpidx': '43b7f5db36994599861eec4849cc68fd', 'barrieridx': 'cb47616cd2dc4ccc8fd523bd3a5064bb', 'windspeed': 10, 'winddirection': 90, 'relhumid': 90, 'temperature': 20}\n",
      "Choosing a perimeter from the database\n"
     ]
    }
   ],
   "source": [
    "inputData_lst = []\n",
    "mainapi_lst = []\n",
    "for igniteidx in ignitions['igniteidx']:\n",
    "    inputData = {'description': selected_fire,\n",
    "                 'igniteidx'  : igniteidx,\n",
    "                 'compareidx' : compareidx,\n",
    "                 'lcpidx'     : lcpidx,\n",
    "                 'barrieridx' : barrieridx,\n",
    "\n",
    "                 'windspeed': windspeed, 'winddirection': winddirection,\n",
    "                 'relhumid': 90, 'temperature': 20}\n",
    "    \n",
    "    mainapi_lst.append(usr.calculatePerimeters(inputData))"
   ]
  },
  {
   "cell_type": "code",
   "execution_count": 16,
   "id": "a474e7de-df89-454a-8410-9d2e361dc191",
   "metadata": {
    "scrolled": true,
    "tags": []
   },
   "outputs": [
    {
     "name": "stdout",
     "output_type": "stream",
     "text": [
      "Farsite $Rev: 2395 $\n",
      "Number of parallel threads = 4 (omp_get_num_procs = 32).\n",
      "Loading lcp file for Farsite #1: /home/jovyan/farsite/inputs/landscapes/Maria2019.lcp\n",
      "Loading inputs file for Farsite #1: /home/jovyan/data/20221206/Run_00100/config\n",
      "Loading ignition file for Farsite #1: /home/jovyan/data/ignitions/Maria2019E0000.shp\n",
      "Loading barrier file for Farsite #1: /home/jovyan/farsite/inputs/barriers/NoBarrier/NoBarrier.shp\n",
      "Launching Farsite #1\n",
      "Starting time step 0.000000 (maximum = 12)\n",
      "Writing outputs for Farsite #1 to /home/jovyan/data/20221206/Run_00100/out\n"
     ]
    },
    {
     "name": "stderr",
     "output_type": "stream",
     "text": [
      "/home/jovyan/farsite-devAPI/src/farsiteutils_v2.py:177: FutureWarning: The frame.append method is deprecated and will be removed from pandas in a future version. Use pandas.concat instead.\n",
      "  self.gdfsimulation = self.gdfsimulation.append(gdfappend)\n"
     ]
    },
    {
     "name": "stdout",
     "output_type": "stream",
     "text": [
      "Farsite $Rev: 2395 $\n",
      "Number of parallel threads = 4 (omp_get_num_procs = 32).\n",
      "Loading lcp file for Farsite #1: /home/jovyan/farsite/inputs/landscapes/Maria2019.lcp\n",
      "Loading inputs file for Farsite #1: /home/jovyan/data/20221206/Run_00101/config\n",
      "Loading ignition file for Farsite #1: /home/jovyan/data/ignitions/Maria2019E0001.shp\n",
      "Loading barrier file for Farsite #1: /home/jovyan/farsite/inputs/barriers/NoBarrier/NoBarrier.shp\n",
      "Launching Farsite #1\n",
      "Starting time step 0.000000 (maximum = 12)\n",
      "Writing outputs for Farsite #1 to /home/jovyan/data/20221206/Run_00101/out\n"
     ]
    },
    {
     "name": "stderr",
     "output_type": "stream",
     "text": [
      "/home/jovyan/farsite-devAPI/src/farsiteutils_v2.py:177: FutureWarning: The frame.append method is deprecated and will be removed from pandas in a future version. Use pandas.concat instead.\n",
      "  self.gdfsimulation = self.gdfsimulation.append(gdfappend)\n"
     ]
    },
    {
     "name": "stdout",
     "output_type": "stream",
     "text": [
      "Farsite $Rev: 2395 $\n",
      "Number of parallel threads = 4 (omp_get_num_procs = 32).\n",
      "Loading lcp file for Farsite #1: /home/jovyan/farsite/inputs/landscapes/Maria2019.lcp\n",
      "Loading inputs file for Farsite #1: /home/jovyan/data/20221206/Run_00102/config\n",
      "Loading ignition file for Farsite #1: /home/jovyan/data/ignitions/Maria2019E0002.shp\n",
      "Loading barrier file for Farsite #1: /home/jovyan/farsite/inputs/barriers/NoBarrier/NoBarrier.shp\n",
      "Launching Farsite #1\n",
      "Starting time step 0.000000 (maximum = 12)\n",
      "Writing outputs for Farsite #1 to /home/jovyan/data/20221206/Run_00102/out\n"
     ]
    },
    {
     "name": "stderr",
     "output_type": "stream",
     "text": [
      "/home/jovyan/farsite-devAPI/src/farsiteutils_v2.py:177: FutureWarning: The frame.append method is deprecated and will be removed from pandas in a future version. Use pandas.concat instead.\n",
      "  self.gdfsimulation = self.gdfsimulation.append(gdfappend)\n"
     ]
    },
    {
     "name": "stdout",
     "output_type": "stream",
     "text": [
      "Farsite $Rev: 2395 $\n",
      "Number of parallel threads = 4 (omp_get_num_procs = 32).\n",
      "Loading lcp file for Farsite #1: /home/jovyan/farsite/inputs/landscapes/Maria2019.lcp\n",
      "Loading inputs file for Farsite #1: /home/jovyan/data/20221206/Run_00103/config\n",
      "Loading ignition file for Farsite #1: /home/jovyan/data/ignitions/Maria2019E0003.shp\n",
      "Loading barrier file for Farsite #1: /home/jovyan/farsite/inputs/barriers/NoBarrier/NoBarrier.shp\n",
      "Launching Farsite #1\n",
      "Starting time step 0.000000 (maximum = 12)\n",
      "Writing outputs for Farsite #1 to /home/jovyan/data/20221206/Run_00103/out\n"
     ]
    },
    {
     "name": "stderr",
     "output_type": "stream",
     "text": [
      "/home/jovyan/farsite-devAPI/src/farsiteutils_v2.py:177: FutureWarning: The frame.append method is deprecated and will be removed from pandas in a future version. Use pandas.concat instead.\n",
      "  self.gdfsimulation = self.gdfsimulation.append(gdfappend)\n"
     ]
    },
    {
     "name": "stdout",
     "output_type": "stream",
     "text": [
      "Farsite $Rev: 2395 $\n",
      "Number of parallel threads = 4 (omp_get_num_procs = 32).\n",
      "Loading lcp file for Farsite #1: /home/jovyan/farsite/inputs/landscapes/Maria2019.lcp\n",
      "Loading inputs file for Farsite #1: /home/jovyan/data/20221206/Run_00104/config\n",
      "Loading ignition file for Farsite #1: /home/jovyan/data/ignitions/Maria2019E0004.shp\n",
      "Loading barrier file for Farsite #1: /home/jovyan/farsite/inputs/barriers/NoBarrier/NoBarrier.shp\n",
      "Launching Farsite #1\n",
      "Starting time step 0.000000 (maximum = 12)\n",
      "Writing outputs for Farsite #1 to /home/jovyan/data/20221206/Run_00104/out\n"
     ]
    },
    {
     "name": "stderr",
     "output_type": "stream",
     "text": [
      "/home/jovyan/farsite-devAPI/src/farsiteutils_v2.py:177: FutureWarning: The frame.append method is deprecated and will be removed from pandas in a future version. Use pandas.concat instead.\n",
      "  self.gdfsimulation = self.gdfsimulation.append(gdfappend)\n"
     ]
    },
    {
     "name": "stdout",
     "output_type": "stream",
     "text": [
      "Farsite $Rev: 2395 $\n",
      "Number of parallel threads = 4 (omp_get_num_procs = 32).\n",
      "Loading lcp file for Farsite #1: /home/jovyan/farsite/inputs/landscapes/Maria2019.lcp\n",
      "Loading inputs file for Farsite #1: /home/jovyan/data/20221206/Run_00105/config\n",
      "Loading ignition file for Farsite #1: /home/jovyan/data/ignitions/Maria2019E0005.shp\n",
      "Loading barrier file for Farsite #1: /home/jovyan/farsite/inputs/barriers/NoBarrier/NoBarrier.shp\n",
      "Launching Farsite #1\n",
      "Starting time step 0.000000 (maximum = 12)\n",
      "Writing outputs for Farsite #1 to /home/jovyan/data/20221206/Run_00105/out\n"
     ]
    },
    {
     "name": "stderr",
     "output_type": "stream",
     "text": [
      "/home/jovyan/farsite-devAPI/src/farsiteutils_v2.py:177: FutureWarning: The frame.append method is deprecated and will be removed from pandas in a future version. Use pandas.concat instead.\n",
      "  self.gdfsimulation = self.gdfsimulation.append(gdfappend)\n"
     ]
    },
    {
     "name": "stdout",
     "output_type": "stream",
     "text": [
      "Farsite $Rev: 2395 $\n",
      "Number of parallel threads = 4 (omp_get_num_procs = 32).\n",
      "Loading lcp file for Farsite #1: /home/jovyan/farsite/inputs/landscapes/Maria2019.lcp\n",
      "Loading inputs file for Farsite #1: /home/jovyan/data/20221206/Run_00106/config\n",
      "Loading ignition file for Farsite #1: /home/jovyan/data/ignitions/Maria2019E0006.shp\n",
      "Loading barrier file for Farsite #1: /home/jovyan/farsite/inputs/barriers/NoBarrier/NoBarrier.shp\n",
      "Launching Farsite #1\n",
      "Starting time step 0.000000 (maximum = 12)\n",
      "Writing outputs for Farsite #1 to /home/jovyan/data/20221206/Run_00106/out\n"
     ]
    },
    {
     "name": "stderr",
     "output_type": "stream",
     "text": [
      "/home/jovyan/farsite-devAPI/src/farsiteutils_v2.py:177: FutureWarning: The frame.append method is deprecated and will be removed from pandas in a future version. Use pandas.concat instead.\n",
      "  self.gdfsimulation = self.gdfsimulation.append(gdfappend)\n"
     ]
    },
    {
     "name": "stdout",
     "output_type": "stream",
     "text": [
      "Farsite $Rev: 2395 $\n",
      "Number of parallel threads = 4 (omp_get_num_procs = 32).\n",
      "Loading lcp file for Farsite #1: /home/jovyan/farsite/inputs/landscapes/Maria2019.lcp\n",
      "Loading inputs file for Farsite #1: /home/jovyan/data/20221206/Run_00107/config\n",
      "Loading ignition file for Farsite #1: /home/jovyan/data/ignitions/Maria2019E0007.shp\n",
      "Loading barrier file for Farsite #1: /home/jovyan/farsite/inputs/barriers/NoBarrier/NoBarrier.shp\n",
      "Launching Farsite #1\n",
      "Starting time step 0.000000 (maximum = 12)\n",
      "Writing outputs for Farsite #1 to /home/jovyan/data/20221206/Run_00107/out\n"
     ]
    },
    {
     "name": "stderr",
     "output_type": "stream",
     "text": [
      "/home/jovyan/farsite-devAPI/src/farsiteutils_v2.py:177: FutureWarning: The frame.append method is deprecated and will be removed from pandas in a future version. Use pandas.concat instead.\n",
      "  self.gdfsimulation = self.gdfsimulation.append(gdfappend)\n"
     ]
    },
    {
     "name": "stdout",
     "output_type": "stream",
     "text": [
      "Farsite $Rev: 2395 $\n",
      "Number of parallel threads = 4 (omp_get_num_procs = 32).\n",
      "Loading lcp file for Farsite #1: /home/jovyan/farsite/inputs/landscapes/Maria2019.lcp\n",
      "Loading inputs file for Farsite #1: /home/jovyan/data/20221206/Run_00108/config\n",
      "Loading ignition file for Farsite #1: /home/jovyan/data/ignitions/Maria2019E0008.shp\n",
      "Loading barrier file for Farsite #1: /home/jovyan/farsite/inputs/barriers/NoBarrier/NoBarrier.shp\n",
      "Launching Farsite #1\n",
      "Starting time step 0.000000 (maximum = 12)\n",
      "Writing outputs for Farsite #1 to /home/jovyan/data/20221206/Run_00108/out\n"
     ]
    },
    {
     "name": "stderr",
     "output_type": "stream",
     "text": [
      "/home/jovyan/farsite-devAPI/src/farsiteutils_v2.py:177: FutureWarning: The frame.append method is deprecated and will be removed from pandas in a future version. Use pandas.concat instead.\n",
      "  self.gdfsimulation = self.gdfsimulation.append(gdfappend)\n"
     ]
    },
    {
     "name": "stdout",
     "output_type": "stream",
     "text": [
      "Farsite $Rev: 2395 $\n",
      "Number of parallel threads = 4 (omp_get_num_procs = 32).\n",
      "Loading lcp file for Farsite #1: /home/jovyan/farsite/inputs/landscapes/Maria2019.lcp\n",
      "Loading inputs file for Farsite #1: /home/jovyan/data/20221206/Run_00109/config\n",
      "Loading ignition file for Farsite #1: /home/jovyan/data/ignitions/Maria2019E0009.shp\n",
      "Loading barrier file for Farsite #1: /home/jovyan/farsite/inputs/barriers/NoBarrier/NoBarrier.shp\n",
      "Launching Farsite #1\n",
      "Starting time step 0.000000 (maximum = 12)\n",
      "Writing outputs for Farsite #1 to /home/jovyan/data/20221206/Run_00109/out\n"
     ]
    },
    {
     "name": "stderr",
     "output_type": "stream",
     "text": [
      "/home/jovyan/farsite-devAPI/src/farsiteutils_v2.py:177: FutureWarning: The frame.append method is deprecated and will be removed from pandas in a future version. Use pandas.concat instead.\n",
      "  self.gdfsimulation = self.gdfsimulation.append(gdfappend)\n"
     ]
    },
    {
     "name": "stdout",
     "output_type": "stream",
     "text": [
      "Farsite $Rev: 2395 $\n",
      "Number of parallel threads = 4 (omp_get_num_procs = 32).\n",
      "Loading lcp file for Farsite #1: /home/jovyan/farsite/inputs/landscapes/Maria2019.lcp\n",
      "Loading inputs file for Farsite #1: /home/jovyan/data/20221206/Run_00110/config\n",
      "Loading ignition file for Farsite #1: /home/jovyan/data/ignitions/Maria2019E0010.shp\n",
      "Loading barrier file for Farsite #1: /home/jovyan/farsite/inputs/barriers/NoBarrier/NoBarrier.shp\n",
      "Launching Farsite #1\n",
      "Starting time step 0.000000 (maximum = 12)\n",
      "Writing outputs for Farsite #1 to /home/jovyan/data/20221206/Run_00110/out\n"
     ]
    },
    {
     "name": "stderr",
     "output_type": "stream",
     "text": [
      "/home/jovyan/farsite-devAPI/src/farsiteutils_v2.py:177: FutureWarning: The frame.append method is deprecated and will be removed from pandas in a future version. Use pandas.concat instead.\n",
      "  self.gdfsimulation = self.gdfsimulation.append(gdfappend)\n"
     ]
    },
    {
     "name": "stdout",
     "output_type": "stream",
     "text": [
      "Farsite $Rev: 2395 $\n",
      "Number of parallel threads = 4 (omp_get_num_procs = 32).\n",
      "Loading lcp file for Farsite #1: /home/jovyan/farsite/inputs/landscapes/Maria2019.lcp\n",
      "Loading inputs file for Farsite #1: /home/jovyan/data/20221206/Run_00111/config\n",
      "Loading ignition file for Farsite #1: /home/jovyan/data/ignitions/Maria2019E0011.shp\n",
      "Loading barrier file for Farsite #1: /home/jovyan/farsite/inputs/barriers/NoBarrier/NoBarrier.shp\n",
      "Launching Farsite #1\n",
      "Starting time step 0.000000 (maximum = 12)\n",
      "Writing outputs for Farsite #1 to /home/jovyan/data/20221206/Run_00111/out\n"
     ]
    },
    {
     "name": "stderr",
     "output_type": "stream",
     "text": [
      "/home/jovyan/farsite-devAPI/src/farsiteutils_v2.py:177: FutureWarning: The frame.append method is deprecated and will be removed from pandas in a future version. Use pandas.concat instead.\n",
      "  self.gdfsimulation = self.gdfsimulation.append(gdfappend)\n"
     ]
    },
    {
     "name": "stdout",
     "output_type": "stream",
     "text": [
      "Farsite $Rev: 2395 $\n",
      "Number of parallel threads = 4 (omp_get_num_procs = 32).\n",
      "Loading lcp file for Farsite #1: /home/jovyan/farsite/inputs/landscapes/Maria2019.lcp\n",
      "Loading inputs file for Farsite #1: /home/jovyan/data/20221206/Run_00112/config\n",
      "Loading ignition file for Farsite #1: /home/jovyan/data/ignitions/Maria2019E0012.shp\n",
      "Loading barrier file for Farsite #1: /home/jovyan/farsite/inputs/barriers/NoBarrier/NoBarrier.shp\n",
      "Launching Farsite #1\n",
      "Starting time step 0.000000 (maximum = 12)\n",
      "Writing outputs for Farsite #1 to /home/jovyan/data/20221206/Run_00112/out\n"
     ]
    },
    {
     "name": "stderr",
     "output_type": "stream",
     "text": [
      "/home/jovyan/farsite-devAPI/src/farsiteutils_v2.py:177: FutureWarning: The frame.append method is deprecated and will be removed from pandas in a future version. Use pandas.concat instead.\n",
      "  self.gdfsimulation = self.gdfsimulation.append(gdfappend)\n"
     ]
    },
    {
     "name": "stdout",
     "output_type": "stream",
     "text": [
      "Farsite $Rev: 2395 $\n",
      "Number of parallel threads = 4 (omp_get_num_procs = 32).\n",
      "Loading lcp file for Farsite #1: /home/jovyan/farsite/inputs/landscapes/Maria2019.lcp\n",
      "Loading inputs file for Farsite #1: /home/jovyan/data/20221206/Run_00113/config\n",
      "Loading ignition file for Farsite #1: /home/jovyan/data/ignitions/Maria2019E0013.shp\n",
      "Loading barrier file for Farsite #1: /home/jovyan/farsite/inputs/barriers/NoBarrier/NoBarrier.shp\n",
      "Launching Farsite #1\n",
      "Starting time step 0.000000 (maximum = 12)\n",
      "Writing outputs for Farsite #1 to /home/jovyan/data/20221206/Run_00113/out\n"
     ]
    },
    {
     "name": "stderr",
     "output_type": "stream",
     "text": [
      "/home/jovyan/farsite-devAPI/src/farsiteutils_v2.py:177: FutureWarning: The frame.append method is deprecated and will be removed from pandas in a future version. Use pandas.concat instead.\n",
      "  self.gdfsimulation = self.gdfsimulation.append(gdfappend)\n"
     ]
    },
    {
     "name": "stdout",
     "output_type": "stream",
     "text": [
      "Farsite $Rev: 2395 $\n",
      "Number of parallel threads = 4 (omp_get_num_procs = 32).\n",
      "Loading lcp file for Farsite #1: /home/jovyan/farsite/inputs/landscapes/Maria2019.lcp\n",
      "Loading inputs file for Farsite #1: /home/jovyan/data/20221206/Run_00114/config\n",
      "Loading ignition file for Farsite #1: /home/jovyan/data/ignitions/Maria2019E0014.shp\n",
      "Loading barrier file for Farsite #1: /home/jovyan/farsite/inputs/barriers/NoBarrier/NoBarrier.shp\n",
      "Launching Farsite #1\n",
      "Starting time step 0.000000 (maximum = 12)\n",
      "Writing outputs for Farsite #1 to /home/jovyan/data/20221206/Run_00114/out\n"
     ]
    },
    {
     "name": "stderr",
     "output_type": "stream",
     "text": [
      "/home/jovyan/farsite-devAPI/src/farsiteutils_v2.py:177: FutureWarning: The frame.append method is deprecated and will be removed from pandas in a future version. Use pandas.concat instead.\n",
      "  self.gdfsimulation = self.gdfsimulation.append(gdfappend)\n"
     ]
    },
    {
     "name": "stdout",
     "output_type": "stream",
     "text": [
      "Farsite $Rev: 2395 $\n",
      "Number of parallel threads = 4 (omp_get_num_procs = 32).\n",
      "Loading lcp file for Farsite #1: /home/jovyan/farsite/inputs/landscapes/Maria2019.lcp\n",
      "Loading inputs file for Farsite #1: /home/jovyan/data/20221206/Run_00115/config\n",
      "Loading ignition file for Farsite #1: /home/jovyan/data/ignitions/Maria2019E0015.shp\n",
      "Loading barrier file for Farsite #1: /home/jovyan/farsite/inputs/barriers/NoBarrier/NoBarrier.shp\n",
      "Launching Farsite #1\n",
      "Starting time step 0.000000 (maximum = 12)\n",
      "Writing outputs for Farsite #1 to /home/jovyan/data/20221206/Run_00115/out\n"
     ]
    },
    {
     "name": "stderr",
     "output_type": "stream",
     "text": [
      "/home/jovyan/farsite-devAPI/src/farsiteutils_v2.py:177: FutureWarning: The frame.append method is deprecated and will be removed from pandas in a future version. Use pandas.concat instead.\n",
      "  self.gdfsimulation = self.gdfsimulation.append(gdfappend)\n"
     ]
    },
    {
     "name": "stdout",
     "output_type": "stream",
     "text": [
      "Farsite $Rev: 2395 $\n",
      "Number of parallel threads = 4 (omp_get_num_procs = 32).\n",
      "Loading lcp file for Farsite #1: /home/jovyan/farsite/inputs/landscapes/Maria2019.lcp\n",
      "Loading inputs file for Farsite #1: /home/jovyan/data/20221206/Run_00116/config\n",
      "Loading ignition file for Farsite #1: /home/jovyan/data/ignitions/Maria2019E0016.shp\n",
      "Loading barrier file for Farsite #1: /home/jovyan/farsite/inputs/barriers/NoBarrier/NoBarrier.shp\n",
      "Launching Farsite #1\n",
      "Starting time step 0.000000 (maximum = 12)\n",
      "Writing outputs for Farsite #1 to /home/jovyan/data/20221206/Run_00116/out\n"
     ]
    },
    {
     "name": "stderr",
     "output_type": "stream",
     "text": [
      "/home/jovyan/farsite-devAPI/src/farsiteutils_v2.py:177: FutureWarning: The frame.append method is deprecated and will be removed from pandas in a future version. Use pandas.concat instead.\n",
      "  self.gdfsimulation = self.gdfsimulation.append(gdfappend)\n"
     ]
    },
    {
     "name": "stdout",
     "output_type": "stream",
     "text": [
      "Farsite $Rev: 2395 $\n",
      "Number of parallel threads = 4 (omp_get_num_procs = 32).\n",
      "Loading lcp file for Farsite #1: /home/jovyan/farsite/inputs/landscapes/Maria2019.lcp\n",
      "Loading inputs file for Farsite #1: /home/jovyan/data/20221206/Run_00117/config\n",
      "Loading ignition file for Farsite #1: /home/jovyan/data/ignitions/Maria2019E0017.shp\n",
      "Loading barrier file for Farsite #1: /home/jovyan/farsite/inputs/barriers/NoBarrier/NoBarrier.shp\n",
      "Launching Farsite #1\n",
      "Starting time step 0.000000 (maximum = 12)\n",
      "Writing outputs for Farsite #1 to /home/jovyan/data/20221206/Run_00117/out\n"
     ]
    },
    {
     "name": "stderr",
     "output_type": "stream",
     "text": [
      "/home/jovyan/farsite-devAPI/src/farsiteutils_v2.py:177: FutureWarning: The frame.append method is deprecated and will be removed from pandas in a future version. Use pandas.concat instead.\n",
      "  self.gdfsimulation = self.gdfsimulation.append(gdfappend)\n"
     ]
    },
    {
     "name": "stdout",
     "output_type": "stream",
     "text": [
      "Farsite $Rev: 2395 $\n",
      "Number of parallel threads = 4 (omp_get_num_procs = 32).\n",
      "Loading lcp file for Farsite #1: /home/jovyan/farsite/inputs/landscapes/Maria2019.lcp\n",
      "Loading inputs file for Farsite #1: /home/jovyan/data/20221206/Run_00118/config\n",
      "Loading ignition file for Farsite #1: /home/jovyan/data/ignitions/Maria2019E0018.shp\n",
      "Loading barrier file for Farsite #1: /home/jovyan/farsite/inputs/barriers/NoBarrier/NoBarrier.shp\n",
      "Launching Farsite #1\n",
      "Starting time step 0.000000 (maximum = 12)\n",
      "Writing outputs for Farsite #1 to /home/jovyan/data/20221206/Run_00118/out\n"
     ]
    },
    {
     "name": "stderr",
     "output_type": "stream",
     "text": [
      "/home/jovyan/farsite-devAPI/src/farsiteutils_v2.py:177: FutureWarning: The frame.append method is deprecated and will be removed from pandas in a future version. Use pandas.concat instead.\n",
      "  self.gdfsimulation = self.gdfsimulation.append(gdfappend)\n"
     ]
    },
    {
     "name": "stdout",
     "output_type": "stream",
     "text": [
      "Farsite $Rev: 2395 $\n",
      "Number of parallel threads = 4 (omp_get_num_procs = 32).\n",
      "Loading lcp file for Farsite #1: /home/jovyan/farsite/inputs/landscapes/Maria2019.lcp\n",
      "Loading inputs file for Farsite #1: /home/jovyan/data/20221206/Run_00119/config\n",
      "Loading ignition file for Farsite #1: /home/jovyan/data/ignitions/Maria2019E0019.shp\n",
      "Loading barrier file for Farsite #1: /home/jovyan/farsite/inputs/barriers/NoBarrier/NoBarrier.shp\n",
      "Launching Farsite #1\n",
      "Starting time step 0.000000 (maximum = 12)\n",
      "Writing outputs for Farsite #1 to /home/jovyan/data/20221206/Run_00119/out\n"
     ]
    },
    {
     "name": "stderr",
     "output_type": "stream",
     "text": [
      "/home/jovyan/farsite-devAPI/src/farsiteutils_v2.py:177: FutureWarning: The frame.append method is deprecated and will be removed from pandas in a future version. Use pandas.concat instead.\n",
      "  self.gdfsimulation = self.gdfsimulation.append(gdfappend)\n"
     ]
    },
    {
     "name": "stdout",
     "output_type": "stream",
     "text": [
      "Farsite $Rev: 2395 $\n",
      "Number of parallel threads = 4 (omp_get_num_procs = 32).\n",
      "Loading lcp file for Farsite #1: /home/jovyan/farsite/inputs/landscapes/Maria2019.lcp\n",
      "Loading inputs file for Farsite #1: /home/jovyan/data/20221206/Run_00120/config\n",
      "Loading ignition file for Farsite #1: /home/jovyan/data/ignitions/Maria2019E0020.shp\n",
      "Loading barrier file for Farsite #1: /home/jovyan/farsite/inputs/barriers/NoBarrier/NoBarrier.shp\n",
      "Launching Farsite #1\n",
      "Starting time step 0.000000 (maximum = 12)\n",
      "Writing outputs for Farsite #1 to /home/jovyan/data/20221206/Run_00120/out\n"
     ]
    },
    {
     "name": "stderr",
     "output_type": "stream",
     "text": [
      "/home/jovyan/farsite-devAPI/src/farsiteutils_v2.py:177: FutureWarning: The frame.append method is deprecated and will be removed from pandas in a future version. Use pandas.concat instead.\n",
      "  self.gdfsimulation = self.gdfsimulation.append(gdfappend)\n"
     ]
    },
    {
     "name": "stdout",
     "output_type": "stream",
     "text": [
      "Farsite $Rev: 2395 $\n",
      "Number of parallel threads = 4 (omp_get_num_procs = 32).\n",
      "Loading lcp file for Farsite #1: /home/jovyan/farsite/inputs/landscapes/Maria2019.lcp\n",
      "Loading inputs file for Farsite #1: /home/jovyan/data/20221206/Run_00121/config\n",
      "Loading ignition file for Farsite #1: /home/jovyan/data/ignitions/Maria2019E0021.shp\n",
      "Loading barrier file for Farsite #1: /home/jovyan/farsite/inputs/barriers/NoBarrier/NoBarrier.shp\n",
      "Launching Farsite #1\n",
      "Starting time step 0.000000 (maximum = 12)\n",
      "Writing outputs for Farsite #1 to /home/jovyan/data/20221206/Run_00121/out\n"
     ]
    },
    {
     "name": "stderr",
     "output_type": "stream",
     "text": [
      "/home/jovyan/farsite-devAPI/src/farsiteutils_v2.py:177: FutureWarning: The frame.append method is deprecated and will be removed from pandas in a future version. Use pandas.concat instead.\n",
      "  self.gdfsimulation = self.gdfsimulation.append(gdfappend)\n"
     ]
    },
    {
     "name": "stdout",
     "output_type": "stream",
     "text": [
      "Farsite $Rev: 2395 $\n",
      "Number of parallel threads = 4 (omp_get_num_procs = 32).\n",
      "Loading lcp file for Farsite #1: /home/jovyan/farsite/inputs/landscapes/Maria2019.lcp\n",
      "Loading inputs file for Farsite #1: /home/jovyan/data/20221206/Run_00122/config\n",
      "Loading ignition file for Farsite #1: /home/jovyan/data/ignitions/Maria2019E0022.shp\n",
      "Loading barrier file for Farsite #1: /home/jovyan/farsite/inputs/barriers/NoBarrier/NoBarrier.shp\n",
      "Launching Farsite #1\n",
      "Starting time step 0.000000 (maximum = 12)\n",
      "Writing outputs for Farsite #1 to /home/jovyan/data/20221206/Run_00122/out\n"
     ]
    },
    {
     "name": "stderr",
     "output_type": "stream",
     "text": [
      "/home/jovyan/farsite-devAPI/src/farsiteutils_v2.py:177: FutureWarning: The frame.append method is deprecated and will be removed from pandas in a future version. Use pandas.concat instead.\n",
      "  self.gdfsimulation = self.gdfsimulation.append(gdfappend)\n"
     ]
    },
    {
     "name": "stdout",
     "output_type": "stream",
     "text": [
      "Farsite $Rev: 2395 $\n",
      "Number of parallel threads = 4 (omp_get_num_procs = 32).\n",
      "Loading lcp file for Farsite #1: /home/jovyan/farsite/inputs/landscapes/Maria2019.lcp\n",
      "Loading inputs file for Farsite #1: /home/jovyan/data/20221206/Run_00123/config\n",
      "Loading ignition file for Farsite #1: /home/jovyan/data/ignitions/Maria2019E0023.shp\n",
      "Loading barrier file for Farsite #1: /home/jovyan/farsite/inputs/barriers/NoBarrier/NoBarrier.shp\n",
      "Launching Farsite #1\n",
      "Starting time step 0.000000 (maximum = 12)\n",
      "Writing outputs for Farsite #1 to /home/jovyan/data/20221206/Run_00123/out\n"
     ]
    },
    {
     "name": "stderr",
     "output_type": "stream",
     "text": [
      "/home/jovyan/farsite-devAPI/src/farsiteutils_v2.py:177: FutureWarning: The frame.append method is deprecated and will be removed from pandas in a future version. Use pandas.concat instead.\n",
      "  self.gdfsimulation = self.gdfsimulation.append(gdfappend)\n"
     ]
    },
    {
     "name": "stdout",
     "output_type": "stream",
     "text": [
      "Farsite $Rev: 2395 $\n",
      "Number of parallel threads = 4 (omp_get_num_procs = 32).\n",
      "Loading lcp file for Farsite #1: /home/jovyan/farsite/inputs/landscapes/Maria2019.lcp\n",
      "Loading inputs file for Farsite #1: /home/jovyan/data/20221206/Run_00124/config\n",
      "Loading ignition file for Farsite #1: /home/jovyan/data/ignitions/Maria2019E0024.shp\n",
      "Loading barrier file for Farsite #1: /home/jovyan/farsite/inputs/barriers/NoBarrier/NoBarrier.shp\n",
      "Launching Farsite #1\n",
      "Starting time step 0.000000 (maximum = 12)\n",
      "Writing outputs for Farsite #1 to /home/jovyan/data/20221206/Run_00124/out\n"
     ]
    },
    {
     "name": "stderr",
     "output_type": "stream",
     "text": [
      "/home/jovyan/farsite-devAPI/src/farsiteutils_v2.py:177: FutureWarning: The frame.append method is deprecated and will be removed from pandas in a future version. Use pandas.concat instead.\n",
      "  self.gdfsimulation = self.gdfsimulation.append(gdfappend)\n"
     ]
    },
    {
     "name": "stdout",
     "output_type": "stream",
     "text": [
      "Farsite $Rev: 2395 $\n",
      "Number of parallel threads = 4 (omp_get_num_procs = 32).\n",
      "Loading lcp file for Farsite #1: /home/jovyan/farsite/inputs/landscapes/Maria2019.lcp\n",
      "Loading inputs file for Farsite #1: /home/jovyan/data/20221206/Run_00125/config\n",
      "Loading ignition file for Farsite #1: /home/jovyan/data/ignitions/Maria2019E0025.shp\n",
      "Loading barrier file for Farsite #1: /home/jovyan/farsite/inputs/barriers/NoBarrier/NoBarrier.shp\n",
      "Launching Farsite #1\n",
      "Starting time step 0.000000 (maximum = 12)\n",
      "Writing outputs for Farsite #1 to /home/jovyan/data/20221206/Run_00125/out\n"
     ]
    },
    {
     "name": "stderr",
     "output_type": "stream",
     "text": [
      "/home/jovyan/farsite-devAPI/src/farsiteutils_v2.py:177: FutureWarning: The frame.append method is deprecated and will be removed from pandas in a future version. Use pandas.concat instead.\n",
      "  self.gdfsimulation = self.gdfsimulation.append(gdfappend)\n"
     ]
    },
    {
     "name": "stdout",
     "output_type": "stream",
     "text": [
      "Farsite $Rev: 2395 $\n",
      "Number of parallel threads = 4 (omp_get_num_procs = 32).\n",
      "Loading lcp file for Farsite #1: /home/jovyan/farsite/inputs/landscapes/Maria2019.lcp\n",
      "Loading inputs file for Farsite #1: /home/jovyan/data/20221206/Run_00126/config\n",
      "Loading ignition file for Farsite #1: /home/jovyan/data/ignitions/Maria2019E0026.shp\n",
      "Loading barrier file for Farsite #1: /home/jovyan/farsite/inputs/barriers/NoBarrier/NoBarrier.shp\n",
      "Launching Farsite #1\n",
      "Starting time step 0.000000 (maximum = 12)\n",
      "Writing outputs for Farsite #1 to /home/jovyan/data/20221206/Run_00126/out\n"
     ]
    },
    {
     "name": "stderr",
     "output_type": "stream",
     "text": [
      "/home/jovyan/farsite-devAPI/src/farsiteutils_v2.py:177: FutureWarning: The frame.append method is deprecated and will be removed from pandas in a future version. Use pandas.concat instead.\n",
      "  self.gdfsimulation = self.gdfsimulation.append(gdfappend)\n"
     ]
    },
    {
     "name": "stdout",
     "output_type": "stream",
     "text": [
      "Farsite $Rev: 2395 $\n",
      "Number of parallel threads = 4 (omp_get_num_procs = 32).\n",
      "Loading lcp file for Farsite #1: /home/jovyan/farsite/inputs/landscapes/Maria2019.lcp\n",
      "Loading inputs file for Farsite #1: /home/jovyan/data/20221206/Run_00127/config\n",
      "Loading ignition file for Farsite #1: /home/jovyan/data/ignitions/Maria2019E0027.shp\n",
      "Loading barrier file for Farsite #1: /home/jovyan/farsite/inputs/barriers/NoBarrier/NoBarrier.shp\n",
      "Launching Farsite #1\n",
      "Starting time step 0.000000 (maximum = 12)\n",
      "Writing outputs for Farsite #1 to /home/jovyan/data/20221206/Run_00127/out\n"
     ]
    },
    {
     "name": "stderr",
     "output_type": "stream",
     "text": [
      "/home/jovyan/farsite-devAPI/src/farsiteutils_v2.py:177: FutureWarning: The frame.append method is deprecated and will be removed from pandas in a future version. Use pandas.concat instead.\n",
      "  self.gdfsimulation = self.gdfsimulation.append(gdfappend)\n"
     ]
    },
    {
     "name": "stdout",
     "output_type": "stream",
     "text": [
      "Farsite $Rev: 2395 $\n",
      "Number of parallel threads = 4 (omp_get_num_procs = 32).\n",
      "Loading lcp file for Farsite #1: /home/jovyan/farsite/inputs/landscapes/Maria2019.lcp\n",
      "Loading inputs file for Farsite #1: /home/jovyan/data/20221206/Run_00128/config\n",
      "Loading ignition file for Farsite #1: /home/jovyan/data/ignitions/Maria2019E0028.shp\n",
      "Loading barrier file for Farsite #1: /home/jovyan/farsite/inputs/barriers/NoBarrier/NoBarrier.shp\n",
      "Launching Farsite #1\n",
      "Starting time step 0.000000 (maximum = 12)\n",
      "Writing outputs for Farsite #1 to /home/jovyan/data/20221206/Run_00128/out\n"
     ]
    },
    {
     "name": "stderr",
     "output_type": "stream",
     "text": [
      "/home/jovyan/farsite-devAPI/src/farsiteutils_v2.py:177: FutureWarning: The frame.append method is deprecated and will be removed from pandas in a future version. Use pandas.concat instead.\n",
      "  self.gdfsimulation = self.gdfsimulation.append(gdfappend)\n"
     ]
    },
    {
     "name": "stdout",
     "output_type": "stream",
     "text": [
      "Farsite $Rev: 2395 $\n",
      "Number of parallel threads = 4 (omp_get_num_procs = 32).\n",
      "Loading lcp file for Farsite #1: /home/jovyan/farsite/inputs/landscapes/Maria2019.lcp\n",
      "Loading inputs file for Farsite #1: /home/jovyan/data/20221206/Run_00129/config\n",
      "Loading ignition file for Farsite #1: /home/jovyan/data/ignitions/Maria2019E0029.shp\n",
      "Loading barrier file for Farsite #1: /home/jovyan/farsite/inputs/barriers/NoBarrier/NoBarrier.shp\n",
      "Launching Farsite #1\n",
      "Starting time step 0.000000 (maximum = 12)\n",
      "Writing outputs for Farsite #1 to /home/jovyan/data/20221206/Run_00129/out\n"
     ]
    },
    {
     "name": "stderr",
     "output_type": "stream",
     "text": [
      "/home/jovyan/farsite-devAPI/src/farsiteutils_v2.py:177: FutureWarning: The frame.append method is deprecated and will be removed from pandas in a future version. Use pandas.concat instead.\n",
      "  self.gdfsimulation = self.gdfsimulation.append(gdfappend)\n"
     ]
    },
    {
     "name": "stdout",
     "output_type": "stream",
     "text": [
      "Farsite $Rev: 2395 $\n",
      "Number of parallel threads = 4 (omp_get_num_procs = 32).\n",
      "Loading lcp file for Farsite #1: /home/jovyan/farsite/inputs/landscapes/Maria2019.lcp\n",
      "Loading inputs file for Farsite #1: /home/jovyan/data/20221206/Run_00130/config\n",
      "Loading ignition file for Farsite #1: /home/jovyan/data/ignitions/Maria2019E0030.shp\n",
      "Loading barrier file for Farsite #1: /home/jovyan/farsite/inputs/barriers/NoBarrier/NoBarrier.shp\n",
      "Launching Farsite #1\n",
      "Starting time step 0.000000 (maximum = 12)\n",
      "Writing outputs for Farsite #1 to /home/jovyan/data/20221206/Run_00130/out\n"
     ]
    },
    {
     "name": "stderr",
     "output_type": "stream",
     "text": [
      "/home/jovyan/farsite-devAPI/src/farsiteutils_v2.py:177: FutureWarning: The frame.append method is deprecated and will be removed from pandas in a future version. Use pandas.concat instead.\n",
      "  self.gdfsimulation = self.gdfsimulation.append(gdfappend)\n"
     ]
    },
    {
     "name": "stdout",
     "output_type": "stream",
     "text": [
      "Farsite $Rev: 2395 $\n",
      "Number of parallel threads = 4 (omp_get_num_procs = 32).\n",
      "Loading lcp file for Farsite #1: /home/jovyan/farsite/inputs/landscapes/Maria2019.lcp\n",
      "Loading inputs file for Farsite #1: /home/jovyan/data/20221206/Run_00131/config\n",
      "Loading ignition file for Farsite #1: /home/jovyan/data/ignitions/Maria2019E0031.shp\n",
      "Loading barrier file for Farsite #1: /home/jovyan/farsite/inputs/barriers/NoBarrier/NoBarrier.shp\n",
      "Launching Farsite #1\n",
      "Starting time step 0.000000 (maximum = 12)\n",
      "Writing outputs for Farsite #1 to /home/jovyan/data/20221206/Run_00131/out\n"
     ]
    },
    {
     "name": "stderr",
     "output_type": "stream",
     "text": [
      "/home/jovyan/farsite-devAPI/src/farsiteutils_v2.py:177: FutureWarning: The frame.append method is deprecated and will be removed from pandas in a future version. Use pandas.concat instead.\n",
      "  self.gdfsimulation = self.gdfsimulation.append(gdfappend)\n"
     ]
    },
    {
     "name": "stdout",
     "output_type": "stream",
     "text": [
      "Farsite $Rev: 2395 $\n",
      "Number of parallel threads = 4 (omp_get_num_procs = 32).\n",
      "Loading lcp file for Farsite #1: /home/jovyan/farsite/inputs/landscapes/Maria2019.lcp\n",
      "Loading inputs file for Farsite #1: /home/jovyan/data/20221206/Run_00132/config\n",
      "Loading ignition file for Farsite #1: /home/jovyan/data/ignitions/Maria2019E0032.shp\n",
      "Loading barrier file for Farsite #1: /home/jovyan/farsite/inputs/barriers/NoBarrier/NoBarrier.shp\n",
      "Launching Farsite #1\n",
      "Starting time step 0.000000 (maximum = 12)\n",
      "Writing outputs for Farsite #1 to /home/jovyan/data/20221206/Run_00132/out\n"
     ]
    },
    {
     "name": "stderr",
     "output_type": "stream",
     "text": [
      "/home/jovyan/farsite-devAPI/src/farsiteutils_v2.py:177: FutureWarning: The frame.append method is deprecated and will be removed from pandas in a future version. Use pandas.concat instead.\n",
      "  self.gdfsimulation = self.gdfsimulation.append(gdfappend)\n"
     ]
    },
    {
     "name": "stdout",
     "output_type": "stream",
     "text": [
      "Farsite $Rev: 2395 $\n",
      "Number of parallel threads = 4 (omp_get_num_procs = 32).\n",
      "Loading lcp file for Farsite #1: /home/jovyan/farsite/inputs/landscapes/Maria2019.lcp\n",
      "Loading inputs file for Farsite #1: /home/jovyan/data/20221206/Run_00133/config\n",
      "Loading ignition file for Farsite #1: /home/jovyan/data/ignitions/Maria2019E0033.shp\n",
      "Loading barrier file for Farsite #1: /home/jovyan/farsite/inputs/barriers/NoBarrier/NoBarrier.shp\n",
      "Launching Farsite #1\n",
      "Starting time step 0.000000 (maximum = 12)\n",
      "Writing outputs for Farsite #1 to /home/jovyan/data/20221206/Run_00133/out\n"
     ]
    },
    {
     "name": "stderr",
     "output_type": "stream",
     "text": [
      "/home/jovyan/farsite-devAPI/src/farsiteutils_v2.py:177: FutureWarning: The frame.append method is deprecated and will be removed from pandas in a future version. Use pandas.concat instead.\n",
      "  self.gdfsimulation = self.gdfsimulation.append(gdfappend)\n"
     ]
    },
    {
     "name": "stdout",
     "output_type": "stream",
     "text": [
      "Farsite $Rev: 2395 $\n",
      "Number of parallel threads = 4 (omp_get_num_procs = 32).\n",
      "Loading lcp file for Farsite #1: /home/jovyan/farsite/inputs/landscapes/Maria2019.lcp\n",
      "Loading inputs file for Farsite #1: /home/jovyan/data/20221206/Run_00134/config\n",
      "Loading ignition file for Farsite #1: /home/jovyan/data/ignitions/Maria2019E0034.shp\n",
      "Loading barrier file for Farsite #1: /home/jovyan/farsite/inputs/barriers/NoBarrier/NoBarrier.shp\n",
      "Launching Farsite #1\n",
      "Starting time step 0.000000 (maximum = 12)\n",
      "Writing outputs for Farsite #1 to /home/jovyan/data/20221206/Run_00134/out\n"
     ]
    },
    {
     "name": "stderr",
     "output_type": "stream",
     "text": [
      "/home/jovyan/farsite-devAPI/src/farsiteutils_v2.py:177: FutureWarning: The frame.append method is deprecated and will be removed from pandas in a future version. Use pandas.concat instead.\n",
      "  self.gdfsimulation = self.gdfsimulation.append(gdfappend)\n"
     ]
    },
    {
     "name": "stdout",
     "output_type": "stream",
     "text": [
      "Farsite $Rev: 2395 $\n",
      "Number of parallel threads = 4 (omp_get_num_procs = 32).\n",
      "Loading lcp file for Farsite #1: /home/jovyan/farsite/inputs/landscapes/Maria2019.lcp\n",
      "Loading inputs file for Farsite #1: /home/jovyan/data/20221206/Run_00135/config\n",
      "Loading ignition file for Farsite #1: /home/jovyan/data/ignitions/Maria2019E0035.shp\n",
      "Loading barrier file for Farsite #1: /home/jovyan/farsite/inputs/barriers/NoBarrier/NoBarrier.shp\n",
      "Launching Farsite #1\n",
      "Starting time step 0.000000 (maximum = 12)\n",
      "Writing outputs for Farsite #1 to /home/jovyan/data/20221206/Run_00135/out\n"
     ]
    },
    {
     "name": "stderr",
     "output_type": "stream",
     "text": [
      "/home/jovyan/farsite-devAPI/src/farsiteutils_v2.py:177: FutureWarning: The frame.append method is deprecated and will be removed from pandas in a future version. Use pandas.concat instead.\n",
      "  self.gdfsimulation = self.gdfsimulation.append(gdfappend)\n"
     ]
    },
    {
     "name": "stdout",
     "output_type": "stream",
     "text": [
      "Farsite $Rev: 2395 $\n",
      "Number of parallel threads = 4 (omp_get_num_procs = 32).\n",
      "Loading lcp file for Farsite #1: /home/jovyan/farsite/inputs/landscapes/Maria2019.lcp\n",
      "Loading inputs file for Farsite #1: /home/jovyan/data/20221206/Run_00136/config\n",
      "Loading ignition file for Farsite #1: /home/jovyan/data/ignitions/Maria2019E0036.shp\n",
      "Loading barrier file for Farsite #1: /home/jovyan/farsite/inputs/barriers/NoBarrier/NoBarrier.shp\n",
      "Launching Farsite #1\n",
      "Starting time step 0.000000 (maximum = 12)\n",
      "Writing outputs for Farsite #1 to /home/jovyan/data/20221206/Run_00136/out\n"
     ]
    },
    {
     "name": "stderr",
     "output_type": "stream",
     "text": [
      "/home/jovyan/farsite-devAPI/src/farsiteutils_v2.py:177: FutureWarning: The frame.append method is deprecated and will be removed from pandas in a future version. Use pandas.concat instead.\n",
      "  self.gdfsimulation = self.gdfsimulation.append(gdfappend)\n"
     ]
    },
    {
     "name": "stdout",
     "output_type": "stream",
     "text": [
      "Farsite $Rev: 2395 $\n",
      "Number of parallel threads = 4 (omp_get_num_procs = 32).\n",
      "Loading lcp file for Farsite #1: /home/jovyan/farsite/inputs/landscapes/Maria2019.lcp\n",
      "Loading inputs file for Farsite #1: /home/jovyan/data/20221206/Run_00137/config\n",
      "Loading ignition file for Farsite #1: /home/jovyan/data/ignitions/Maria2019E0037.shp\n",
      "Loading barrier file for Farsite #1: /home/jovyan/farsite/inputs/barriers/NoBarrier/NoBarrier.shp\n",
      "Launching Farsite #1\n",
      "Starting time step 0.000000 (maximum = 12)\n",
      "Writing outputs for Farsite #1 to /home/jovyan/data/20221206/Run_00137/out\n"
     ]
    },
    {
     "name": "stderr",
     "output_type": "stream",
     "text": [
      "/home/jovyan/farsite-devAPI/src/farsiteutils_v2.py:177: FutureWarning: The frame.append method is deprecated and will be removed from pandas in a future version. Use pandas.concat instead.\n",
      "  self.gdfsimulation = self.gdfsimulation.append(gdfappend)\n"
     ]
    },
    {
     "name": "stdout",
     "output_type": "stream",
     "text": [
      "Farsite $Rev: 2395 $\n",
      "Number of parallel threads = 4 (omp_get_num_procs = 32).\n",
      "Loading lcp file for Farsite #1: /home/jovyan/farsite/inputs/landscapes/Maria2019.lcp\n",
      "Loading inputs file for Farsite #1: /home/jovyan/data/20221206/Run_00138/config\n",
      "Loading ignition file for Farsite #1: /home/jovyan/data/ignitions/Maria2019E0038.shp\n",
      "Loading barrier file for Farsite #1: /home/jovyan/farsite/inputs/barriers/NoBarrier/NoBarrier.shp\n",
      "Launching Farsite #1\n",
      "Starting time step 0.000000 (maximum = 12)\n",
      "Writing outputs for Farsite #1 to /home/jovyan/data/20221206/Run_00138/out\n"
     ]
    },
    {
     "name": "stderr",
     "output_type": "stream",
     "text": [
      "/home/jovyan/farsite-devAPI/src/farsiteutils_v2.py:177: FutureWarning: The frame.append method is deprecated and will be removed from pandas in a future version. Use pandas.concat instead.\n",
      "  self.gdfsimulation = self.gdfsimulation.append(gdfappend)\n"
     ]
    },
    {
     "name": "stdout",
     "output_type": "stream",
     "text": [
      "Farsite $Rev: 2395 $\n",
      "Number of parallel threads = 4 (omp_get_num_procs = 32).\n",
      "Loading lcp file for Farsite #1: /home/jovyan/farsite/inputs/landscapes/Maria2019.lcp\n",
      "Loading inputs file for Farsite #1: /home/jovyan/data/20221206/Run_00139/config\n",
      "Loading ignition file for Farsite #1: /home/jovyan/data/ignitions/Maria2019E0039.shp\n",
      "Loading barrier file for Farsite #1: /home/jovyan/farsite/inputs/barriers/NoBarrier/NoBarrier.shp\n",
      "Launching Farsite #1\n",
      "Starting time step 0.000000 (maximum = 12)\n",
      "Writing outputs for Farsite #1 to /home/jovyan/data/20221206/Run_00139/out\n"
     ]
    },
    {
     "name": "stderr",
     "output_type": "stream",
     "text": [
      "/home/jovyan/farsite-devAPI/src/farsiteutils_v2.py:177: FutureWarning: The frame.append method is deprecated and will be removed from pandas in a future version. Use pandas.concat instead.\n",
      "  self.gdfsimulation = self.gdfsimulation.append(gdfappend)\n"
     ]
    },
    {
     "name": "stdout",
     "output_type": "stream",
     "text": [
      "Farsite $Rev: 2395 $\n",
      "Number of parallel threads = 4 (omp_get_num_procs = 32).\n",
      "Loading lcp file for Farsite #1: /home/jovyan/farsite/inputs/landscapes/Maria2019.lcp\n",
      "Loading inputs file for Farsite #1: /home/jovyan/data/20221206/Run_00140/config\n",
      "Loading ignition file for Farsite #1: /home/jovyan/data/ignitions/Maria2019E0040.shp\n",
      "Loading barrier file for Farsite #1: /home/jovyan/farsite/inputs/barriers/NoBarrier/NoBarrier.shp\n",
      "Launching Farsite #1\n",
      "Starting time step 0.000000 (maximum = 12)\n",
      "Writing outputs for Farsite #1 to /home/jovyan/data/20221206/Run_00140/out\n"
     ]
    },
    {
     "name": "stderr",
     "output_type": "stream",
     "text": [
      "/home/jovyan/farsite-devAPI/src/farsiteutils_v2.py:177: FutureWarning: The frame.append method is deprecated and will be removed from pandas in a future version. Use pandas.concat instead.\n",
      "  self.gdfsimulation = self.gdfsimulation.append(gdfappend)\n"
     ]
    },
    {
     "name": "stdout",
     "output_type": "stream",
     "text": [
      "Farsite $Rev: 2395 $\n",
      "Number of parallel threads = 4 (omp_get_num_procs = 32).\n",
      "Loading lcp file for Farsite #1: /home/jovyan/farsite/inputs/landscapes/Maria2019.lcp\n",
      "Loading inputs file for Farsite #1: /home/jovyan/data/20221206/Run_00141/config\n",
      "Loading ignition file for Farsite #1: /home/jovyan/data/ignitions/Maria2019E0041.shp\n",
      "Loading barrier file for Farsite #1: /home/jovyan/farsite/inputs/barriers/NoBarrier/NoBarrier.shp\n",
      "Launching Farsite #1\n",
      "Starting time step 0.000000 (maximum = 12)\n",
      "Writing outputs for Farsite #1 to /home/jovyan/data/20221206/Run_00141/out\n"
     ]
    },
    {
     "name": "stderr",
     "output_type": "stream",
     "text": [
      "/home/jovyan/farsite-devAPI/src/farsiteutils_v2.py:177: FutureWarning: The frame.append method is deprecated and will be removed from pandas in a future version. Use pandas.concat instead.\n",
      "  self.gdfsimulation = self.gdfsimulation.append(gdfappend)\n"
     ]
    },
    {
     "name": "stdout",
     "output_type": "stream",
     "text": [
      "Farsite $Rev: 2395 $\n",
      "Number of parallel threads = 4 (omp_get_num_procs = 32).\n",
      "Loading lcp file for Farsite #1: /home/jovyan/farsite/inputs/landscapes/Maria2019.lcp\n",
      "Loading inputs file for Farsite #1: /home/jovyan/data/20221206/Run_00142/config\n",
      "Loading ignition file for Farsite #1: /home/jovyan/data/ignitions/Maria2019E0042.shp\n",
      "Loading barrier file for Farsite #1: /home/jovyan/farsite/inputs/barriers/NoBarrier/NoBarrier.shp\n",
      "Launching Farsite #1\n",
      "Starting time step 0.000000 (maximum = 12)\n",
      "Writing outputs for Farsite #1 to /home/jovyan/data/20221206/Run_00142/out\n"
     ]
    },
    {
     "name": "stderr",
     "output_type": "stream",
     "text": [
      "/home/jovyan/farsite-devAPI/src/farsiteutils_v2.py:177: FutureWarning: The frame.append method is deprecated and will be removed from pandas in a future version. Use pandas.concat instead.\n",
      "  self.gdfsimulation = self.gdfsimulation.append(gdfappend)\n"
     ]
    },
    {
     "name": "stdout",
     "output_type": "stream",
     "text": [
      "Farsite $Rev: 2395 $\n",
      "Number of parallel threads = 4 (omp_get_num_procs = 32).\n",
      "Loading lcp file for Farsite #1: /home/jovyan/farsite/inputs/landscapes/Maria2019.lcp\n",
      "Loading inputs file for Farsite #1: /home/jovyan/data/20221206/Run_00143/config\n",
      "Loading ignition file for Farsite #1: /home/jovyan/data/ignitions/Maria2019E0043.shp\n",
      "Loading barrier file for Farsite #1: /home/jovyan/farsite/inputs/barriers/NoBarrier/NoBarrier.shp\n",
      "Launching Farsite #1\n",
      "Starting time step 0.000000 (maximum = 12)\n",
      "Writing outputs for Farsite #1 to /home/jovyan/data/20221206/Run_00143/out\n"
     ]
    },
    {
     "name": "stderr",
     "output_type": "stream",
     "text": [
      "/home/jovyan/farsite-devAPI/src/farsiteutils_v2.py:177: FutureWarning: The frame.append method is deprecated and will be removed from pandas in a future version. Use pandas.concat instead.\n",
      "  self.gdfsimulation = self.gdfsimulation.append(gdfappend)\n"
     ]
    },
    {
     "name": "stdout",
     "output_type": "stream",
     "text": [
      "Farsite $Rev: 2395 $\n",
      "Number of parallel threads = 4 (omp_get_num_procs = 32).\n",
      "Loading lcp file for Farsite #1: /home/jovyan/farsite/inputs/landscapes/Maria2019.lcp\n",
      "Loading inputs file for Farsite #1: /home/jovyan/data/20221206/Run_00144/config\n",
      "Loading ignition file for Farsite #1: /home/jovyan/data/ignitions/Maria2019E0044.shp\n",
      "Loading barrier file for Farsite #1: /home/jovyan/farsite/inputs/barriers/NoBarrier/NoBarrier.shp\n",
      "Launching Farsite #1\n",
      "Starting time step 0.000000 (maximum = 12)\n",
      "Writing outputs for Farsite #1 to /home/jovyan/data/20221206/Run_00144/out\n"
     ]
    },
    {
     "name": "stderr",
     "output_type": "stream",
     "text": [
      "/home/jovyan/farsite-devAPI/src/farsiteutils_v2.py:177: FutureWarning: The frame.append method is deprecated and will be removed from pandas in a future version. Use pandas.concat instead.\n",
      "  self.gdfsimulation = self.gdfsimulation.append(gdfappend)\n"
     ]
    },
    {
     "name": "stdout",
     "output_type": "stream",
     "text": [
      "Farsite $Rev: 2395 $\n",
      "Number of parallel threads = 4 (omp_get_num_procs = 32).\n",
      "Loading lcp file for Farsite #1: /home/jovyan/farsite/inputs/landscapes/Maria2019.lcp\n",
      "Loading inputs file for Farsite #1: /home/jovyan/data/20221206/Run_00145/config\n",
      "Loading ignition file for Farsite #1: /home/jovyan/data/ignitions/Maria2019E0045.shp\n",
      "Loading barrier file for Farsite #1: /home/jovyan/farsite/inputs/barriers/NoBarrier/NoBarrier.shp\n",
      "Launching Farsite #1\n",
      "Starting time step 0.000000 (maximum = 12)\n",
      "Writing outputs for Farsite #1 to /home/jovyan/data/20221206/Run_00145/out\n"
     ]
    },
    {
     "name": "stderr",
     "output_type": "stream",
     "text": [
      "/home/jovyan/farsite-devAPI/src/farsiteutils_v2.py:177: FutureWarning: The frame.append method is deprecated and will be removed from pandas in a future version. Use pandas.concat instead.\n",
      "  self.gdfsimulation = self.gdfsimulation.append(gdfappend)\n"
     ]
    },
    {
     "name": "stdout",
     "output_type": "stream",
     "text": [
      "Farsite $Rev: 2395 $\n",
      "Number of parallel threads = 4 (omp_get_num_procs = 32).\n",
      "Loading lcp file for Farsite #1: /home/jovyan/farsite/inputs/landscapes/Maria2019.lcp\n",
      "Loading inputs file for Farsite #1: /home/jovyan/data/20221206/Run_00146/config\n",
      "Loading ignition file for Farsite #1: /home/jovyan/data/ignitions/Maria2019E0046.shp\n",
      "Loading barrier file for Farsite #1: /home/jovyan/farsite/inputs/barriers/NoBarrier/NoBarrier.shp\n",
      "Launching Farsite #1\n",
      "Starting time step 0.000000 (maximum = 12)\n",
      "Writing outputs for Farsite #1 to /home/jovyan/data/20221206/Run_00146/out\n"
     ]
    },
    {
     "name": "stderr",
     "output_type": "stream",
     "text": [
      "/home/jovyan/farsite-devAPI/src/farsiteutils_v2.py:177: FutureWarning: The frame.append method is deprecated and will be removed from pandas in a future version. Use pandas.concat instead.\n",
      "  self.gdfsimulation = self.gdfsimulation.append(gdfappend)\n"
     ]
    },
    {
     "name": "stdout",
     "output_type": "stream",
     "text": [
      "Farsite $Rev: 2395 $\n",
      "Number of parallel threads = 4 (omp_get_num_procs = 32).\n",
      "Loading lcp file for Farsite #1: /home/jovyan/farsite/inputs/landscapes/Maria2019.lcp\n",
      "Loading inputs file for Farsite #1: /home/jovyan/data/20221206/Run_00147/config\n",
      "Loading ignition file for Farsite #1: /home/jovyan/data/ignitions/Maria2019E0047.shp\n",
      "Loading barrier file for Farsite #1: /home/jovyan/farsite/inputs/barriers/NoBarrier/NoBarrier.shp\n",
      "Launching Farsite #1\n",
      "Starting time step 0.000000 (maximum = 12)\n",
      "Writing outputs for Farsite #1 to /home/jovyan/data/20221206/Run_00147/out\n"
     ]
    },
    {
     "name": "stderr",
     "output_type": "stream",
     "text": [
      "/home/jovyan/farsite-devAPI/src/farsiteutils_v2.py:177: FutureWarning: The frame.append method is deprecated and will be removed from pandas in a future version. Use pandas.concat instead.\n",
      "  self.gdfsimulation = self.gdfsimulation.append(gdfappend)\n"
     ]
    },
    {
     "name": "stdout",
     "output_type": "stream",
     "text": [
      "Farsite $Rev: 2395 $\n",
      "Number of parallel threads = 4 (omp_get_num_procs = 32).\n",
      "Loading lcp file for Farsite #1: /home/jovyan/farsite/inputs/landscapes/Maria2019.lcp\n",
      "Loading inputs file for Farsite #1: /home/jovyan/data/20221206/Run_00148/config\n",
      "Loading ignition file for Farsite #1: /home/jovyan/data/ignitions/Maria2019E0048.shp\n",
      "Loading barrier file for Farsite #1: /home/jovyan/farsite/inputs/barriers/NoBarrier/NoBarrier.shp\n",
      "Launching Farsite #1\n",
      "Starting time step 0.000000 (maximum = 12)\n",
      "Writing outputs for Farsite #1 to /home/jovyan/data/20221206/Run_00148/out\n"
     ]
    },
    {
     "name": "stderr",
     "output_type": "stream",
     "text": [
      "/home/jovyan/farsite-devAPI/src/farsiteutils_v2.py:177: FutureWarning: The frame.append method is deprecated and will be removed from pandas in a future version. Use pandas.concat instead.\n",
      "  self.gdfsimulation = self.gdfsimulation.append(gdfappend)\n"
     ]
    },
    {
     "name": "stdout",
     "output_type": "stream",
     "text": [
      "Farsite $Rev: 2395 $\n",
      "Number of parallel threads = 4 (omp_get_num_procs = 32).\n",
      "Loading lcp file for Farsite #1: /home/jovyan/farsite/inputs/landscapes/Maria2019.lcp\n",
      "Loading inputs file for Farsite #1: /home/jovyan/data/20221206/Run_00149/config\n",
      "Loading ignition file for Farsite #1: /home/jovyan/data/ignitions/Maria2019E0049.shp\n",
      "Loading barrier file for Farsite #1: /home/jovyan/farsite/inputs/barriers/NoBarrier/NoBarrier.shp\n",
      "Launching Farsite #1\n",
      "Starting time step 0.000000 (maximum = 12)\n",
      "Writing outputs for Farsite #1 to /home/jovyan/data/20221206/Run_00149/out\n"
     ]
    },
    {
     "name": "stderr",
     "output_type": "stream",
     "text": [
      "/home/jovyan/farsite-devAPI/src/farsiteutils_v2.py:177: FutureWarning: The frame.append method is deprecated and will be removed from pandas in a future version. Use pandas.concat instead.\n",
      "  self.gdfsimulation = self.gdfsimulation.append(gdfappend)\n"
     ]
    },
    {
     "name": "stdout",
     "output_type": "stream",
     "text": [
      "Farsite $Rev: 2395 $\n",
      "Number of parallel threads = 4 (omp_get_num_procs = 32).\n",
      "Loading lcp file for Farsite #1: /home/jovyan/farsite/inputs/landscapes/Maria2019.lcp\n",
      "Loading inputs file for Farsite #1: /home/jovyan/data/20221206/Run_00150/config\n",
      "Loading ignition file for Farsite #1: /home/jovyan/data/ignitions/Maria2019E0050.shp\n",
      "Loading barrier file for Farsite #1: /home/jovyan/farsite/inputs/barriers/NoBarrier/NoBarrier.shp\n",
      "Launching Farsite #1\n",
      "Starting time step 0.000000 (maximum = 12)\n",
      "Writing outputs for Farsite #1 to /home/jovyan/data/20221206/Run_00150/out\n"
     ]
    },
    {
     "name": "stderr",
     "output_type": "stream",
     "text": [
      "/home/jovyan/farsite-devAPI/src/farsiteutils_v2.py:177: FutureWarning: The frame.append method is deprecated and will be removed from pandas in a future version. Use pandas.concat instead.\n",
      "  self.gdfsimulation = self.gdfsimulation.append(gdfappend)\n"
     ]
    },
    {
     "name": "stdout",
     "output_type": "stream",
     "text": [
      "Farsite $Rev: 2395 $\n",
      "Number of parallel threads = 4 (omp_get_num_procs = 32).\n",
      "Loading lcp file for Farsite #1: /home/jovyan/farsite/inputs/landscapes/Maria2019.lcp\n",
      "Loading inputs file for Farsite #1: /home/jovyan/data/20221206/Run_00151/config\n",
      "Loading ignition file for Farsite #1: /home/jovyan/data/ignitions/Maria2019E0051.shp\n",
      "Loading barrier file for Farsite #1: /home/jovyan/farsite/inputs/barriers/NoBarrier/NoBarrier.shp\n",
      "Launching Farsite #1\n",
      "Starting time step 0.000000 (maximum = 12)\n",
      "Writing outputs for Farsite #1 to /home/jovyan/data/20221206/Run_00151/out\n"
     ]
    },
    {
     "name": "stderr",
     "output_type": "stream",
     "text": [
      "/home/jovyan/farsite-devAPI/src/farsiteutils_v2.py:177: FutureWarning: The frame.append method is deprecated and will be removed from pandas in a future version. Use pandas.concat instead.\n",
      "  self.gdfsimulation = self.gdfsimulation.append(gdfappend)\n"
     ]
    },
    {
     "name": "stdout",
     "output_type": "stream",
     "text": [
      "Farsite $Rev: 2395 $\n",
      "Number of parallel threads = 4 (omp_get_num_procs = 32).\n",
      "Loading lcp file for Farsite #1: /home/jovyan/farsite/inputs/landscapes/Maria2019.lcp\n",
      "Loading inputs file for Farsite #1: /home/jovyan/data/20221206/Run_00152/config\n",
      "Loading ignition file for Farsite #1: /home/jovyan/data/ignitions/Maria2019E0052.shp\n",
      "Loading barrier file for Farsite #1: /home/jovyan/farsite/inputs/barriers/NoBarrier/NoBarrier.shp\n",
      "Launching Farsite #1\n",
      "Starting time step 0.000000 (maximum = 12)\n",
      "Writing outputs for Farsite #1 to /home/jovyan/data/20221206/Run_00152/out\n"
     ]
    },
    {
     "name": "stderr",
     "output_type": "stream",
     "text": [
      "/home/jovyan/farsite-devAPI/src/farsiteutils_v2.py:177: FutureWarning: The frame.append method is deprecated and will be removed from pandas in a future version. Use pandas.concat instead.\n",
      "  self.gdfsimulation = self.gdfsimulation.append(gdfappend)\n"
     ]
    },
    {
     "name": "stdout",
     "output_type": "stream",
     "text": [
      "Farsite $Rev: 2395 $\n",
      "Number of parallel threads = 4 (omp_get_num_procs = 32).\n",
      "Loading lcp file for Farsite #1: /home/jovyan/farsite/inputs/landscapes/Maria2019.lcp\n",
      "Loading inputs file for Farsite #1: /home/jovyan/data/20221206/Run_00153/config\n",
      "Loading ignition file for Farsite #1: /home/jovyan/data/ignitions/Maria2019E0053.shp\n",
      "Loading barrier file for Farsite #1: /home/jovyan/farsite/inputs/barriers/NoBarrier/NoBarrier.shp\n",
      "Launching Farsite #1\n",
      "Starting time step 0.000000 (maximum = 12)\n",
      "Writing outputs for Farsite #1 to /home/jovyan/data/20221206/Run_00153/out\n"
     ]
    },
    {
     "name": "stderr",
     "output_type": "stream",
     "text": [
      "/home/jovyan/farsite-devAPI/src/farsiteutils_v2.py:177: FutureWarning: The frame.append method is deprecated and will be removed from pandas in a future version. Use pandas.concat instead.\n",
      "  self.gdfsimulation = self.gdfsimulation.append(gdfappend)\n"
     ]
    },
    {
     "name": "stdout",
     "output_type": "stream",
     "text": [
      "Farsite $Rev: 2395 $\n",
      "Number of parallel threads = 4 (omp_get_num_procs = 32).\n",
      "Loading lcp file for Farsite #1: /home/jovyan/farsite/inputs/landscapes/Maria2019.lcp\n",
      "Loading inputs file for Farsite #1: /home/jovyan/data/20221206/Run_00154/config\n",
      "Loading ignition file for Farsite #1: /home/jovyan/data/ignitions/Maria2019E0054.shp\n",
      "Loading barrier file for Farsite #1: /home/jovyan/farsite/inputs/barriers/NoBarrier/NoBarrier.shp\n",
      "Launching Farsite #1\n",
      "Starting time step 0.000000 (maximum = 12)\n",
      "Writing outputs for Farsite #1 to /home/jovyan/data/20221206/Run_00154/out\n"
     ]
    },
    {
     "name": "stderr",
     "output_type": "stream",
     "text": [
      "/home/jovyan/farsite-devAPI/src/farsiteutils_v2.py:177: FutureWarning: The frame.append method is deprecated and will be removed from pandas in a future version. Use pandas.concat instead.\n",
      "  self.gdfsimulation = self.gdfsimulation.append(gdfappend)\n"
     ]
    },
    {
     "name": "stdout",
     "output_type": "stream",
     "text": [
      "Farsite $Rev: 2395 $\n",
      "Number of parallel threads = 4 (omp_get_num_procs = 32).\n",
      "Loading lcp file for Farsite #1: /home/jovyan/farsite/inputs/landscapes/Maria2019.lcp\n",
      "Loading inputs file for Farsite #1: /home/jovyan/data/20221206/Run_00155/config\n",
      "Loading ignition file for Farsite #1: /home/jovyan/data/ignitions/Maria2019E0055.shp\n",
      "Loading barrier file for Farsite #1: /home/jovyan/farsite/inputs/barriers/NoBarrier/NoBarrier.shp\n",
      "Launching Farsite #1\n",
      "Starting time step 0.000000 (maximum = 12)\n",
      "Writing outputs for Farsite #1 to /home/jovyan/data/20221206/Run_00155/out\n"
     ]
    },
    {
     "name": "stderr",
     "output_type": "stream",
     "text": [
      "/home/jovyan/farsite-devAPI/src/farsiteutils_v2.py:177: FutureWarning: The frame.append method is deprecated and will be removed from pandas in a future version. Use pandas.concat instead.\n",
      "  self.gdfsimulation = self.gdfsimulation.append(gdfappend)\n"
     ]
    },
    {
     "name": "stdout",
     "output_type": "stream",
     "text": [
      "Farsite $Rev: 2395 $\n",
      "Number of parallel threads = 4 (omp_get_num_procs = 32).\n",
      "Loading lcp file for Farsite #1: /home/jovyan/farsite/inputs/landscapes/Maria2019.lcp\n",
      "Loading inputs file for Farsite #1: /home/jovyan/data/20221206/Run_00156/config\n",
      "Loading ignition file for Farsite #1: /home/jovyan/data/ignitions/Maria2019E0056.shp\n",
      "Loading barrier file for Farsite #1: /home/jovyan/farsite/inputs/barriers/NoBarrier/NoBarrier.shp\n",
      "Launching Farsite #1\n",
      "Starting time step 0.000000 (maximum = 12)\n",
      "Writing outputs for Farsite #1 to /home/jovyan/data/20221206/Run_00156/out\n"
     ]
    },
    {
     "name": "stderr",
     "output_type": "stream",
     "text": [
      "/home/jovyan/farsite-devAPI/src/farsiteutils_v2.py:177: FutureWarning: The frame.append method is deprecated and will be removed from pandas in a future version. Use pandas.concat instead.\n",
      "  self.gdfsimulation = self.gdfsimulation.append(gdfappend)\n"
     ]
    },
    {
     "name": "stdout",
     "output_type": "stream",
     "text": [
      "Farsite $Rev: 2395 $\n",
      "Number of parallel threads = 4 (omp_get_num_procs = 32).\n",
      "Loading lcp file for Farsite #1: /home/jovyan/farsite/inputs/landscapes/Maria2019.lcp\n",
      "Loading inputs file for Farsite #1: /home/jovyan/data/20221206/Run_00157/config\n",
      "Loading ignition file for Farsite #1: /home/jovyan/data/ignitions/Maria2019E0057.shp\n",
      "Loading barrier file for Farsite #1: /home/jovyan/farsite/inputs/barriers/NoBarrier/NoBarrier.shp\n",
      "Launching Farsite #1\n",
      "Starting time step 0.000000 (maximum = 12)\n",
      "Writing outputs for Farsite #1 to /home/jovyan/data/20221206/Run_00157/out\n"
     ]
    },
    {
     "name": "stderr",
     "output_type": "stream",
     "text": [
      "/home/jovyan/farsite-devAPI/src/farsiteutils_v2.py:177: FutureWarning: The frame.append method is deprecated and will be removed from pandas in a future version. Use pandas.concat instead.\n",
      "  self.gdfsimulation = self.gdfsimulation.append(gdfappend)\n"
     ]
    },
    {
     "name": "stdout",
     "output_type": "stream",
     "text": [
      "Farsite $Rev: 2395 $\n",
      "Number of parallel threads = 4 (omp_get_num_procs = 32).\n",
      "Loading lcp file for Farsite #1: /home/jovyan/farsite/inputs/landscapes/Maria2019.lcp\n",
      "Loading inputs file for Farsite #1: /home/jovyan/data/20221206/Run_00158/config\n",
      "Loading ignition file for Farsite #1: /home/jovyan/data/ignitions/Maria2019E0058.shp\n",
      "Loading barrier file for Farsite #1: /home/jovyan/farsite/inputs/barriers/NoBarrier/NoBarrier.shp\n",
      "Launching Farsite #1\n",
      "Starting time step 0.000000 (maximum = 12)\n",
      "Writing outputs for Farsite #1 to /home/jovyan/data/20221206/Run_00158/out\n"
     ]
    },
    {
     "name": "stderr",
     "output_type": "stream",
     "text": [
      "/home/jovyan/farsite-devAPI/src/farsiteutils_v2.py:177: FutureWarning: The frame.append method is deprecated and will be removed from pandas in a future version. Use pandas.concat instead.\n",
      "  self.gdfsimulation = self.gdfsimulation.append(gdfappend)\n"
     ]
    },
    {
     "name": "stdout",
     "output_type": "stream",
     "text": [
      "Farsite $Rev: 2395 $\n",
      "Number of parallel threads = 4 (omp_get_num_procs = 32).\n",
      "Loading lcp file for Farsite #1: /home/jovyan/farsite/inputs/landscapes/Maria2019.lcp\n",
      "Loading inputs file for Farsite #1: /home/jovyan/data/20221206/Run_00159/config\n",
      "Loading ignition file for Farsite #1: /home/jovyan/data/ignitions/Maria2019E0059.shp\n",
      "Loading barrier file for Farsite #1: /home/jovyan/farsite/inputs/barriers/NoBarrier/NoBarrier.shp\n",
      "Launching Farsite #1\n",
      "Starting time step 0.000000 (maximum = 12)\n",
      "Writing outputs for Farsite #1 to /home/jovyan/data/20221206/Run_00159/out\n"
     ]
    },
    {
     "name": "stderr",
     "output_type": "stream",
     "text": [
      "/home/jovyan/farsite-devAPI/src/farsiteutils_v2.py:177: FutureWarning: The frame.append method is deprecated and will be removed from pandas in a future version. Use pandas.concat instead.\n",
      "  self.gdfsimulation = self.gdfsimulation.append(gdfappend)\n"
     ]
    },
    {
     "name": "stdout",
     "output_type": "stream",
     "text": [
      "Farsite $Rev: 2395 $\n",
      "Number of parallel threads = 4 (omp_get_num_procs = 32).\n",
      "Loading lcp file for Farsite #1: /home/jovyan/farsite/inputs/landscapes/Maria2019.lcp\n",
      "Loading inputs file for Farsite #1: /home/jovyan/data/20221206/Run_00160/config\n",
      "Loading ignition file for Farsite #1: /home/jovyan/data/ignitions/Maria2019E0060.shp\n",
      "Loading barrier file for Farsite #1: /home/jovyan/farsite/inputs/barriers/NoBarrier/NoBarrier.shp\n",
      "Launching Farsite #1\n",
      "Starting time step 0.000000 (maximum = 12)\n",
      "Writing outputs for Farsite #1 to /home/jovyan/data/20221206/Run_00160/out\n"
     ]
    },
    {
     "name": "stderr",
     "output_type": "stream",
     "text": [
      "/home/jovyan/farsite-devAPI/src/farsiteutils_v2.py:177: FutureWarning: The frame.append method is deprecated and will be removed from pandas in a future version. Use pandas.concat instead.\n",
      "  self.gdfsimulation = self.gdfsimulation.append(gdfappend)\n"
     ]
    },
    {
     "name": "stdout",
     "output_type": "stream",
     "text": [
      "Farsite $Rev: 2395 $\n",
      "Number of parallel threads = 4 (omp_get_num_procs = 32).\n",
      "Loading lcp file for Farsite #1: /home/jovyan/farsite/inputs/landscapes/Maria2019.lcp\n",
      "Loading inputs file for Farsite #1: /home/jovyan/data/20221206/Run_00161/config\n",
      "Loading ignition file for Farsite #1: /home/jovyan/data/ignitions/Maria2019E0061.shp\n",
      "Loading barrier file for Farsite #1: /home/jovyan/farsite/inputs/barriers/NoBarrier/NoBarrier.shp\n",
      "Launching Farsite #1\n",
      "Starting time step 0.000000 (maximum = 12)\n",
      "Writing outputs for Farsite #1 to /home/jovyan/data/20221206/Run_00161/out\n"
     ]
    },
    {
     "name": "stderr",
     "output_type": "stream",
     "text": [
      "/home/jovyan/farsite-devAPI/src/farsiteutils_v2.py:177: FutureWarning: The frame.append method is deprecated and will be removed from pandas in a future version. Use pandas.concat instead.\n",
      "  self.gdfsimulation = self.gdfsimulation.append(gdfappend)\n"
     ]
    },
    {
     "name": "stdout",
     "output_type": "stream",
     "text": [
      "Farsite $Rev: 2395 $\n",
      "Number of parallel threads = 4 (omp_get_num_procs = 32).\n",
      "Loading lcp file for Farsite #1: /home/jovyan/farsite/inputs/landscapes/Maria2019.lcp\n",
      "Loading inputs file for Farsite #1: /home/jovyan/data/20221206/Run_00162/config\n",
      "Loading ignition file for Farsite #1: /home/jovyan/data/ignitions/Maria2019E0062.shp\n",
      "Loading barrier file for Farsite #1: /home/jovyan/farsite/inputs/barriers/NoBarrier/NoBarrier.shp\n",
      "Launching Farsite #1\n",
      "Starting time step 0.000000 (maximum = 12)\n",
      "Writing outputs for Farsite #1 to /home/jovyan/data/20221206/Run_00162/out\n"
     ]
    },
    {
     "name": "stderr",
     "output_type": "stream",
     "text": [
      "/home/jovyan/farsite-devAPI/src/farsiteutils_v2.py:177: FutureWarning: The frame.append method is deprecated and will be removed from pandas in a future version. Use pandas.concat instead.\n",
      "  self.gdfsimulation = self.gdfsimulation.append(gdfappend)\n"
     ]
    },
    {
     "name": "stdout",
     "output_type": "stream",
     "text": [
      "Farsite $Rev: 2395 $\n",
      "Number of parallel threads = 4 (omp_get_num_procs = 32).\n",
      "Loading lcp file for Farsite #1: /home/jovyan/farsite/inputs/landscapes/Maria2019.lcp\n",
      "Loading inputs file for Farsite #1: /home/jovyan/data/20221206/Run_00163/config\n",
      "Loading ignition file for Farsite #1: /home/jovyan/data/ignitions/Maria2019E0063.shp\n",
      "Loading barrier file for Farsite #1: /home/jovyan/farsite/inputs/barriers/NoBarrier/NoBarrier.shp\n",
      "Launching Farsite #1\n",
      "Starting time step 0.000000 (maximum = 12)\n",
      "Writing outputs for Farsite #1 to /home/jovyan/data/20221206/Run_00163/out\n"
     ]
    },
    {
     "name": "stderr",
     "output_type": "stream",
     "text": [
      "/home/jovyan/farsite-devAPI/src/farsiteutils_v2.py:177: FutureWarning: The frame.append method is deprecated and will be removed from pandas in a future version. Use pandas.concat instead.\n",
      "  self.gdfsimulation = self.gdfsimulation.append(gdfappend)\n"
     ]
    },
    {
     "name": "stdout",
     "output_type": "stream",
     "text": [
      "Farsite $Rev: 2395 $\n",
      "Number of parallel threads = 4 (omp_get_num_procs = 32).\n",
      "Loading lcp file for Farsite #1: /home/jovyan/farsite/inputs/landscapes/Maria2019.lcp\n",
      "Loading inputs file for Farsite #1: /home/jovyan/data/20221206/Run_00164/config\n",
      "Loading ignition file for Farsite #1: /home/jovyan/data/ignitions/Maria2019E0064.shp\n",
      "Loading barrier file for Farsite #1: /home/jovyan/farsite/inputs/barriers/NoBarrier/NoBarrier.shp\n",
      "Launching Farsite #1\n",
      "Starting time step 0.000000 (maximum = 12)\n",
      "Writing outputs for Farsite #1 to /home/jovyan/data/20221206/Run_00164/out\n"
     ]
    },
    {
     "name": "stderr",
     "output_type": "stream",
     "text": [
      "/home/jovyan/farsite-devAPI/src/farsiteutils_v2.py:177: FutureWarning: The frame.append method is deprecated and will be removed from pandas in a future version. Use pandas.concat instead.\n",
      "  self.gdfsimulation = self.gdfsimulation.append(gdfappend)\n"
     ]
    },
    {
     "name": "stdout",
     "output_type": "stream",
     "text": [
      "Farsite $Rev: 2395 $\n",
      "Number of parallel threads = 4 (omp_get_num_procs = 32).\n",
      "Loading lcp file for Farsite #1: /home/jovyan/farsite/inputs/landscapes/Maria2019.lcp\n",
      "Loading inputs file for Farsite #1: /home/jovyan/data/20221206/Run_00165/config\n",
      "Loading ignition file for Farsite #1: /home/jovyan/data/ignitions/Maria2019E0065.shp\n",
      "Loading barrier file for Farsite #1: /home/jovyan/farsite/inputs/barriers/NoBarrier/NoBarrier.shp\n",
      "Launching Farsite #1\n",
      "Starting time step 0.000000 (maximum = 12)\n",
      "Writing outputs for Farsite #1 to /home/jovyan/data/20221206/Run_00165/out\n"
     ]
    },
    {
     "name": "stderr",
     "output_type": "stream",
     "text": [
      "/home/jovyan/farsite-devAPI/src/farsiteutils_v2.py:177: FutureWarning: The frame.append method is deprecated and will be removed from pandas in a future version. Use pandas.concat instead.\n",
      "  self.gdfsimulation = self.gdfsimulation.append(gdfappend)\n"
     ]
    },
    {
     "name": "stdout",
     "output_type": "stream",
     "text": [
      "Farsite $Rev: 2395 $\n",
      "Number of parallel threads = 4 (omp_get_num_procs = 32).\n",
      "Loading lcp file for Farsite #1: /home/jovyan/farsite/inputs/landscapes/Maria2019.lcp\n",
      "Loading inputs file for Farsite #1: /home/jovyan/data/20221206/Run_00166/config\n",
      "Loading ignition file for Farsite #1: /home/jovyan/data/ignitions/Maria2019E0066.shp\n",
      "Loading barrier file for Farsite #1: /home/jovyan/farsite/inputs/barriers/NoBarrier/NoBarrier.shp\n",
      "Launching Farsite #1\n",
      "Starting time step 0.000000 (maximum = 12)\n",
      "Writing outputs for Farsite #1 to /home/jovyan/data/20221206/Run_00166/out\n"
     ]
    },
    {
     "name": "stderr",
     "output_type": "stream",
     "text": [
      "/home/jovyan/farsite-devAPI/src/farsiteutils_v2.py:177: FutureWarning: The frame.append method is deprecated and will be removed from pandas in a future version. Use pandas.concat instead.\n",
      "  self.gdfsimulation = self.gdfsimulation.append(gdfappend)\n"
     ]
    },
    {
     "name": "stdout",
     "output_type": "stream",
     "text": [
      "Farsite $Rev: 2395 $\n",
      "Number of parallel threads = 4 (omp_get_num_procs = 32).\n",
      "Loading lcp file for Farsite #1: /home/jovyan/farsite/inputs/landscapes/Maria2019.lcp\n",
      "Loading inputs file for Farsite #1: /home/jovyan/data/20221206/Run_00167/config\n",
      "Loading ignition file for Farsite #1: /home/jovyan/data/ignitions/Maria2019E0067.shp\n",
      "Loading barrier file for Farsite #1: /home/jovyan/farsite/inputs/barriers/NoBarrier/NoBarrier.shp\n",
      "Launching Farsite #1\n",
      "Starting time step 0.000000 (maximum = 12)\n",
      "Writing outputs for Farsite #1 to /home/jovyan/data/20221206/Run_00167/out\n"
     ]
    },
    {
     "name": "stderr",
     "output_type": "stream",
     "text": [
      "/home/jovyan/farsite-devAPI/src/farsiteutils_v2.py:177: FutureWarning: The frame.append method is deprecated and will be removed from pandas in a future version. Use pandas.concat instead.\n",
      "  self.gdfsimulation = self.gdfsimulation.append(gdfappend)\n"
     ]
    },
    {
     "name": "stdout",
     "output_type": "stream",
     "text": [
      "Farsite $Rev: 2395 $\n",
      "Number of parallel threads = 4 (omp_get_num_procs = 32).\n",
      "Loading lcp file for Farsite #1: /home/jovyan/farsite/inputs/landscapes/Maria2019.lcp\n",
      "Loading inputs file for Farsite #1: /home/jovyan/data/20221206/Run_00168/config\n",
      "Loading ignition file for Farsite #1: /home/jovyan/data/ignitions/Maria2019E0068.shp\n",
      "Loading barrier file for Farsite #1: /home/jovyan/farsite/inputs/barriers/NoBarrier/NoBarrier.shp\n",
      "Launching Farsite #1\n",
      "Starting time step 0.000000 (maximum = 12)\n",
      "Writing outputs for Farsite #1 to /home/jovyan/data/20221206/Run_00168/out\n"
     ]
    },
    {
     "name": "stderr",
     "output_type": "stream",
     "text": [
      "/home/jovyan/farsite-devAPI/src/farsiteutils_v2.py:177: FutureWarning: The frame.append method is deprecated and will be removed from pandas in a future version. Use pandas.concat instead.\n",
      "  self.gdfsimulation = self.gdfsimulation.append(gdfappend)\n"
     ]
    },
    {
     "name": "stdout",
     "output_type": "stream",
     "text": [
      "Farsite $Rev: 2395 $\n",
      "Number of parallel threads = 4 (omp_get_num_procs = 32).\n",
      "Loading lcp file for Farsite #1: /home/jovyan/farsite/inputs/landscapes/Maria2019.lcp\n",
      "Loading inputs file for Farsite #1: /home/jovyan/data/20221206/Run_00169/config\n",
      "Loading ignition file for Farsite #1: /home/jovyan/data/ignitions/Maria2019E0069.shp\n",
      "Loading barrier file for Farsite #1: /home/jovyan/farsite/inputs/barriers/NoBarrier/NoBarrier.shp\n",
      "Launching Farsite #1\n",
      "Starting time step 0.000000 (maximum = 12)\n",
      "Writing outputs for Farsite #1 to /home/jovyan/data/20221206/Run_00169/out\n"
     ]
    },
    {
     "name": "stderr",
     "output_type": "stream",
     "text": [
      "/home/jovyan/farsite-devAPI/src/farsiteutils_v2.py:177: FutureWarning: The frame.append method is deprecated and will be removed from pandas in a future version. Use pandas.concat instead.\n",
      "  self.gdfsimulation = self.gdfsimulation.append(gdfappend)\n"
     ]
    },
    {
     "name": "stdout",
     "output_type": "stream",
     "text": [
      "Farsite $Rev: 2395 $\n",
      "Number of parallel threads = 4 (omp_get_num_procs = 32).\n",
      "Loading lcp file for Farsite #1: /home/jovyan/farsite/inputs/landscapes/Maria2019.lcp\n",
      "Loading inputs file for Farsite #1: /home/jovyan/data/20221206/Run_00170/config\n",
      "Loading ignition file for Farsite #1: /home/jovyan/data/ignitions/Maria2019E0070.shp\n",
      "Loading barrier file for Farsite #1: /home/jovyan/farsite/inputs/barriers/NoBarrier/NoBarrier.shp\n",
      "Launching Farsite #1\n",
      "Starting time step 0.000000 (maximum = 12)\n",
      "Writing outputs for Farsite #1 to /home/jovyan/data/20221206/Run_00170/out\n"
     ]
    },
    {
     "name": "stderr",
     "output_type": "stream",
     "text": [
      "/home/jovyan/farsite-devAPI/src/farsiteutils_v2.py:177: FutureWarning: The frame.append method is deprecated and will be removed from pandas in a future version. Use pandas.concat instead.\n",
      "  self.gdfsimulation = self.gdfsimulation.append(gdfappend)\n"
     ]
    },
    {
     "name": "stdout",
     "output_type": "stream",
     "text": [
      "Farsite $Rev: 2395 $\n",
      "Number of parallel threads = 4 (omp_get_num_procs = 32).\n",
      "Loading lcp file for Farsite #1: /home/jovyan/farsite/inputs/landscapes/Maria2019.lcp\n",
      "Loading inputs file for Farsite #1: /home/jovyan/data/20221206/Run_00171/config\n",
      "Loading ignition file for Farsite #1: /home/jovyan/data/ignitions/Maria2019E0071.shp\n",
      "Loading barrier file for Farsite #1: /home/jovyan/farsite/inputs/barriers/NoBarrier/NoBarrier.shp\n",
      "Launching Farsite #1\n",
      "Starting time step 0.000000 (maximum = 12)\n",
      "Writing outputs for Farsite #1 to /home/jovyan/data/20221206/Run_00171/out\n"
     ]
    },
    {
     "name": "stderr",
     "output_type": "stream",
     "text": [
      "/home/jovyan/farsite-devAPI/src/farsiteutils_v2.py:177: FutureWarning: The frame.append method is deprecated and will be removed from pandas in a future version. Use pandas.concat instead.\n",
      "  self.gdfsimulation = self.gdfsimulation.append(gdfappend)\n"
     ]
    },
    {
     "name": "stdout",
     "output_type": "stream",
     "text": [
      "Farsite $Rev: 2395 $\n",
      "Number of parallel threads = 4 (omp_get_num_procs = 32).\n",
      "Loading lcp file for Farsite #1: /home/jovyan/farsite/inputs/landscapes/Maria2019.lcp\n",
      "Loading inputs file for Farsite #1: /home/jovyan/data/20221206/Run_00172/config\n",
      "Loading ignition file for Farsite #1: /home/jovyan/data/ignitions/Maria2019E0072.shp\n",
      "Loading barrier file for Farsite #1: /home/jovyan/farsite/inputs/barriers/NoBarrier/NoBarrier.shp\n",
      "Launching Farsite #1\n",
      "Starting time step 0.000000 (maximum = 12)\n",
      "Writing outputs for Farsite #1 to /home/jovyan/data/20221206/Run_00172/out\n"
     ]
    },
    {
     "name": "stderr",
     "output_type": "stream",
     "text": [
      "/home/jovyan/farsite-devAPI/src/farsiteutils_v2.py:177: FutureWarning: The frame.append method is deprecated and will be removed from pandas in a future version. Use pandas.concat instead.\n",
      "  self.gdfsimulation = self.gdfsimulation.append(gdfappend)\n"
     ]
    },
    {
     "name": "stdout",
     "output_type": "stream",
     "text": [
      "Farsite $Rev: 2395 $\n",
      "Number of parallel threads = 4 (omp_get_num_procs = 32).\n",
      "Loading lcp file for Farsite #1: /home/jovyan/farsite/inputs/landscapes/Maria2019.lcp\n",
      "Loading inputs file for Farsite #1: /home/jovyan/data/20221206/Run_00173/config\n",
      "Loading ignition file for Farsite #1: /home/jovyan/data/ignitions/Maria2019E0073.shp\n",
      "Loading barrier file for Farsite #1: /home/jovyan/farsite/inputs/barriers/NoBarrier/NoBarrier.shp\n",
      "Launching Farsite #1\n",
      "Starting time step 0.000000 (maximum = 12)\n",
      "Writing outputs for Farsite #1 to /home/jovyan/data/20221206/Run_00173/out\n"
     ]
    },
    {
     "name": "stderr",
     "output_type": "stream",
     "text": [
      "/home/jovyan/farsite-devAPI/src/farsiteutils_v2.py:177: FutureWarning: The frame.append method is deprecated and will be removed from pandas in a future version. Use pandas.concat instead.\n",
      "  self.gdfsimulation = self.gdfsimulation.append(gdfappend)\n"
     ]
    },
    {
     "name": "stdout",
     "output_type": "stream",
     "text": [
      "Farsite $Rev: 2395 $\n",
      "Number of parallel threads = 4 (omp_get_num_procs = 32).\n",
      "Loading lcp file for Farsite #1: /home/jovyan/farsite/inputs/landscapes/Maria2019.lcp\n",
      "Loading inputs file for Farsite #1: /home/jovyan/data/20221206/Run_00174/config\n",
      "Loading ignition file for Farsite #1: /home/jovyan/data/ignitions/Maria2019E0074.shp\n",
      "Loading barrier file for Farsite #1: /home/jovyan/farsite/inputs/barriers/NoBarrier/NoBarrier.shp\n",
      "Launching Farsite #1\n",
      "Starting time step 0.000000 (maximum = 12)\n",
      "Writing outputs for Farsite #1 to /home/jovyan/data/20221206/Run_00174/out\n"
     ]
    },
    {
     "name": "stderr",
     "output_type": "stream",
     "text": [
      "/home/jovyan/farsite-devAPI/src/farsiteutils_v2.py:177: FutureWarning: The frame.append method is deprecated and will be removed from pandas in a future version. Use pandas.concat instead.\n",
      "  self.gdfsimulation = self.gdfsimulation.append(gdfappend)\n"
     ]
    },
    {
     "name": "stdout",
     "output_type": "stream",
     "text": [
      "Farsite $Rev: 2395 $\n",
      "Number of parallel threads = 4 (omp_get_num_procs = 32).\n",
      "Loading lcp file for Farsite #1: /home/jovyan/farsite/inputs/landscapes/Maria2019.lcp\n",
      "Loading inputs file for Farsite #1: /home/jovyan/data/20221206/Run_00175/config\n",
      "Loading ignition file for Farsite #1: /home/jovyan/data/ignitions/Maria2019E0075.shp\n",
      "Loading barrier file for Farsite #1: /home/jovyan/farsite/inputs/barriers/NoBarrier/NoBarrier.shp\n",
      "Launching Farsite #1\n",
      "Starting time step 0.000000 (maximum = 12)\n",
      "Writing outputs for Farsite #1 to /home/jovyan/data/20221206/Run_00175/out\n"
     ]
    },
    {
     "name": "stderr",
     "output_type": "stream",
     "text": [
      "/home/jovyan/farsite-devAPI/src/farsiteutils_v2.py:177: FutureWarning: The frame.append method is deprecated and will be removed from pandas in a future version. Use pandas.concat instead.\n",
      "  self.gdfsimulation = self.gdfsimulation.append(gdfappend)\n"
     ]
    },
    {
     "name": "stdout",
     "output_type": "stream",
     "text": [
      "Farsite $Rev: 2395 $\n",
      "Number of parallel threads = 4 (omp_get_num_procs = 32).\n",
      "Loading lcp file for Farsite #1: /home/jovyan/farsite/inputs/landscapes/Maria2019.lcp\n",
      "Loading inputs file for Farsite #1: /home/jovyan/data/20221206/Run_00176/config\n",
      "Loading ignition file for Farsite #1: /home/jovyan/data/ignitions/Maria2019E0076.shp\n",
      "Loading barrier file for Farsite #1: /home/jovyan/farsite/inputs/barriers/NoBarrier/NoBarrier.shp\n",
      "Launching Farsite #1\n",
      "Starting time step 0.000000 (maximum = 12)\n",
      "Writing outputs for Farsite #1 to /home/jovyan/data/20221206/Run_00176/out\n"
     ]
    },
    {
     "name": "stderr",
     "output_type": "stream",
     "text": [
      "/home/jovyan/farsite-devAPI/src/farsiteutils_v2.py:177: FutureWarning: The frame.append method is deprecated and will be removed from pandas in a future version. Use pandas.concat instead.\n",
      "  self.gdfsimulation = self.gdfsimulation.append(gdfappend)\n"
     ]
    },
    {
     "name": "stdout",
     "output_type": "stream",
     "text": [
      "Farsite $Rev: 2395 $\n",
      "Number of parallel threads = 4 (omp_get_num_procs = 32).\n",
      "Loading lcp file for Farsite #1: /home/jovyan/farsite/inputs/landscapes/Maria2019.lcp\n",
      "Loading inputs file for Farsite #1: /home/jovyan/data/20221206/Run_00177/config\n",
      "Loading ignition file for Farsite #1: /home/jovyan/data/ignitions/Maria2019E0077.shp\n",
      "Loading barrier file for Farsite #1: /home/jovyan/farsite/inputs/barriers/NoBarrier/NoBarrier.shp\n",
      "Launching Farsite #1\n",
      "Starting time step 0.000000 (maximum = 12)\n",
      "Writing outputs for Farsite #1 to /home/jovyan/data/20221206/Run_00177/out\n"
     ]
    },
    {
     "name": "stderr",
     "output_type": "stream",
     "text": [
      "/home/jovyan/farsite-devAPI/src/farsiteutils_v2.py:177: FutureWarning: The frame.append method is deprecated and will be removed from pandas in a future version. Use pandas.concat instead.\n",
      "  self.gdfsimulation = self.gdfsimulation.append(gdfappend)\n"
     ]
    },
    {
     "name": "stdout",
     "output_type": "stream",
     "text": [
      "Farsite $Rev: 2395 $\n",
      "Number of parallel threads = 4 (omp_get_num_procs = 32).\n",
      "Loading lcp file for Farsite #1: /home/jovyan/farsite/inputs/landscapes/Maria2019.lcp\n",
      "Loading inputs file for Farsite #1: /home/jovyan/data/20221206/Run_00178/config\n",
      "Loading ignition file for Farsite #1: /home/jovyan/data/ignitions/Maria2019E0078.shp\n",
      "Loading barrier file for Farsite #1: /home/jovyan/farsite/inputs/barriers/NoBarrier/NoBarrier.shp\n",
      "Launching Farsite #1\n",
      "Starting time step 0.000000 (maximum = 12)\n",
      "Writing outputs for Farsite #1 to /home/jovyan/data/20221206/Run_00178/out\n"
     ]
    },
    {
     "name": "stderr",
     "output_type": "stream",
     "text": [
      "/home/jovyan/farsite-devAPI/src/farsiteutils_v2.py:177: FutureWarning: The frame.append method is deprecated and will be removed from pandas in a future version. Use pandas.concat instead.\n",
      "  self.gdfsimulation = self.gdfsimulation.append(gdfappend)\n"
     ]
    },
    {
     "name": "stdout",
     "output_type": "stream",
     "text": [
      "Farsite $Rev: 2395 $\n",
      "Number of parallel threads = 4 (omp_get_num_procs = 32).\n",
      "Loading lcp file for Farsite #1: /home/jovyan/farsite/inputs/landscapes/Maria2019.lcp\n",
      "Loading inputs file for Farsite #1: /home/jovyan/data/20221206/Run_00179/config\n",
      "Loading ignition file for Farsite #1: /home/jovyan/data/ignitions/Maria2019E0079.shp\n",
      "Loading barrier file for Farsite #1: /home/jovyan/farsite/inputs/barriers/NoBarrier/NoBarrier.shp\n",
      "Launching Farsite #1\n",
      "Starting time step 0.000000 (maximum = 12)\n",
      "Writing outputs for Farsite #1 to /home/jovyan/data/20221206/Run_00179/out\n"
     ]
    },
    {
     "name": "stderr",
     "output_type": "stream",
     "text": [
      "/home/jovyan/farsite-devAPI/src/farsiteutils_v2.py:177: FutureWarning: The frame.append method is deprecated and will be removed from pandas in a future version. Use pandas.concat instead.\n",
      "  self.gdfsimulation = self.gdfsimulation.append(gdfappend)\n"
     ]
    },
    {
     "name": "stdout",
     "output_type": "stream",
     "text": [
      "Farsite $Rev: 2395 $\n",
      "Number of parallel threads = 4 (omp_get_num_procs = 32).\n",
      "Loading lcp file for Farsite #1: /home/jovyan/farsite/inputs/landscapes/Maria2019.lcp\n",
      "Loading inputs file for Farsite #1: /home/jovyan/data/20221206/Run_00180/config\n",
      "Loading ignition file for Farsite #1: /home/jovyan/data/ignitions/Maria2019E0080.shp\n",
      "Loading barrier file for Farsite #1: /home/jovyan/farsite/inputs/barriers/NoBarrier/NoBarrier.shp\n",
      "Launching Farsite #1\n",
      "Starting time step 0.000000 (maximum = 12)\n",
      "Writing outputs for Farsite #1 to /home/jovyan/data/20221206/Run_00180/out\n"
     ]
    },
    {
     "name": "stderr",
     "output_type": "stream",
     "text": [
      "/home/jovyan/farsite-devAPI/src/farsiteutils_v2.py:177: FutureWarning: The frame.append method is deprecated and will be removed from pandas in a future version. Use pandas.concat instead.\n",
      "  self.gdfsimulation = self.gdfsimulation.append(gdfappend)\n"
     ]
    },
    {
     "name": "stdout",
     "output_type": "stream",
     "text": [
      "Farsite $Rev: 2395 $\n",
      "Number of parallel threads = 4 (omp_get_num_procs = 32).\n",
      "Loading lcp file for Farsite #1: /home/jovyan/farsite/inputs/landscapes/Maria2019.lcp\n",
      "Loading inputs file for Farsite #1: /home/jovyan/data/20221206/Run_00181/config\n",
      "Loading ignition file for Farsite #1: /home/jovyan/data/ignitions/Maria2019E0081.shp\n",
      "Loading barrier file for Farsite #1: /home/jovyan/farsite/inputs/barriers/NoBarrier/NoBarrier.shp\n",
      "Launching Farsite #1\n",
      "Starting time step 0.000000 (maximum = 12)\n",
      "Writing outputs for Farsite #1 to /home/jovyan/data/20221206/Run_00181/out\n"
     ]
    },
    {
     "name": "stderr",
     "output_type": "stream",
     "text": [
      "/home/jovyan/farsite-devAPI/src/farsiteutils_v2.py:177: FutureWarning: The frame.append method is deprecated and will be removed from pandas in a future version. Use pandas.concat instead.\n",
      "  self.gdfsimulation = self.gdfsimulation.append(gdfappend)\n"
     ]
    },
    {
     "name": "stdout",
     "output_type": "stream",
     "text": [
      "Farsite $Rev: 2395 $\n",
      "Number of parallel threads = 4 (omp_get_num_procs = 32).\n",
      "Loading lcp file for Farsite #1: /home/jovyan/farsite/inputs/landscapes/Maria2019.lcp\n",
      "Loading inputs file for Farsite #1: /home/jovyan/data/20221206/Run_00182/config\n",
      "Loading ignition file for Farsite #1: /home/jovyan/data/ignitions/Maria2019E0082.shp\n",
      "Loading barrier file for Farsite #1: /home/jovyan/farsite/inputs/barriers/NoBarrier/NoBarrier.shp\n",
      "Launching Farsite #1\n",
      "Starting time step 0.000000 (maximum = 12)\n",
      "Writing outputs for Farsite #1 to /home/jovyan/data/20221206/Run_00182/out\n"
     ]
    },
    {
     "name": "stderr",
     "output_type": "stream",
     "text": [
      "/home/jovyan/farsite-devAPI/src/farsiteutils_v2.py:177: FutureWarning: The frame.append method is deprecated and will be removed from pandas in a future version. Use pandas.concat instead.\n",
      "  self.gdfsimulation = self.gdfsimulation.append(gdfappend)\n"
     ]
    },
    {
     "name": "stdout",
     "output_type": "stream",
     "text": [
      "Farsite $Rev: 2395 $\n",
      "Number of parallel threads = 4 (omp_get_num_procs = 32).\n",
      "Loading lcp file for Farsite #1: /home/jovyan/farsite/inputs/landscapes/Maria2019.lcp\n",
      "Loading inputs file for Farsite #1: /home/jovyan/data/20221206/Run_00183/config\n",
      "Loading ignition file for Farsite #1: /home/jovyan/data/ignitions/Maria2019E0083.shp\n",
      "Loading barrier file for Farsite #1: /home/jovyan/farsite/inputs/barriers/NoBarrier/NoBarrier.shp\n",
      "Launching Farsite #1\n",
      "Starting time step 0.000000 (maximum = 12)\n",
      "Writing outputs for Farsite #1 to /home/jovyan/data/20221206/Run_00183/out\n"
     ]
    },
    {
     "name": "stderr",
     "output_type": "stream",
     "text": [
      "/home/jovyan/farsite-devAPI/src/farsiteutils_v2.py:177: FutureWarning: The frame.append method is deprecated and will be removed from pandas in a future version. Use pandas.concat instead.\n",
      "  self.gdfsimulation = self.gdfsimulation.append(gdfappend)\n"
     ]
    },
    {
     "name": "stdout",
     "output_type": "stream",
     "text": [
      "Farsite $Rev: 2395 $\n",
      "Number of parallel threads = 4 (omp_get_num_procs = 32).\n",
      "Loading lcp file for Farsite #1: /home/jovyan/farsite/inputs/landscapes/Maria2019.lcp\n",
      "Loading inputs file for Farsite #1: /home/jovyan/data/20221206/Run_00184/config\n",
      "Loading ignition file for Farsite #1: /home/jovyan/data/ignitions/Maria2019E0084.shp\n",
      "Loading barrier file for Farsite #1: /home/jovyan/farsite/inputs/barriers/NoBarrier/NoBarrier.shp\n",
      "Launching Farsite #1\n",
      "Starting time step 0.000000 (maximum = 12)\n",
      "Writing outputs for Farsite #1 to /home/jovyan/data/20221206/Run_00184/out\n"
     ]
    },
    {
     "name": "stderr",
     "output_type": "stream",
     "text": [
      "/home/jovyan/farsite-devAPI/src/farsiteutils_v2.py:177: FutureWarning: The frame.append method is deprecated and will be removed from pandas in a future version. Use pandas.concat instead.\n",
      "  self.gdfsimulation = self.gdfsimulation.append(gdfappend)\n"
     ]
    },
    {
     "name": "stdout",
     "output_type": "stream",
     "text": [
      "Farsite $Rev: 2395 $\n",
      "Number of parallel threads = 4 (omp_get_num_procs = 32).\n",
      "Loading lcp file for Farsite #1: /home/jovyan/farsite/inputs/landscapes/Maria2019.lcp\n",
      "Loading inputs file for Farsite #1: /home/jovyan/data/20221206/Run_00185/config\n",
      "Loading ignition file for Farsite #1: /home/jovyan/data/ignitions/Maria2019E0085.shp\n",
      "Loading barrier file for Farsite #1: /home/jovyan/farsite/inputs/barriers/NoBarrier/NoBarrier.shp\n",
      "Launching Farsite #1\n",
      "Starting time step 0.000000 (maximum = 12)\n",
      "Writing outputs for Farsite #1 to /home/jovyan/data/20221206/Run_00185/out\n"
     ]
    },
    {
     "name": "stderr",
     "output_type": "stream",
     "text": [
      "/home/jovyan/farsite-devAPI/src/farsiteutils_v2.py:177: FutureWarning: The frame.append method is deprecated and will be removed from pandas in a future version. Use pandas.concat instead.\n",
      "  self.gdfsimulation = self.gdfsimulation.append(gdfappend)\n"
     ]
    },
    {
     "name": "stdout",
     "output_type": "stream",
     "text": [
      "Farsite $Rev: 2395 $\n",
      "Number of parallel threads = 4 (omp_get_num_procs = 32).\n",
      "Loading lcp file for Farsite #1: /home/jovyan/farsite/inputs/landscapes/Maria2019.lcp\n",
      "Loading inputs file for Farsite #1: /home/jovyan/data/20221206/Run_00186/config\n",
      "Loading ignition file for Farsite #1: /home/jovyan/data/ignitions/Maria2019E0086.shp\n",
      "Loading barrier file for Farsite #1: /home/jovyan/farsite/inputs/barriers/NoBarrier/NoBarrier.shp\n",
      "Launching Farsite #1\n",
      "Starting time step 0.000000 (maximum = 12)\n",
      "Writing outputs for Farsite #1 to /home/jovyan/data/20221206/Run_00186/out\n"
     ]
    },
    {
     "name": "stderr",
     "output_type": "stream",
     "text": [
      "/home/jovyan/farsite-devAPI/src/farsiteutils_v2.py:177: FutureWarning: The frame.append method is deprecated and will be removed from pandas in a future version. Use pandas.concat instead.\n",
      "  self.gdfsimulation = self.gdfsimulation.append(gdfappend)\n"
     ]
    },
    {
     "name": "stdout",
     "output_type": "stream",
     "text": [
      "Farsite $Rev: 2395 $\n",
      "Number of parallel threads = 4 (omp_get_num_procs = 32).\n",
      "Loading lcp file for Farsite #1: /home/jovyan/farsite/inputs/landscapes/Maria2019.lcp\n",
      "Loading inputs file for Farsite #1: /home/jovyan/data/20221206/Run_00187/config\n",
      "Loading ignition file for Farsite #1: /home/jovyan/data/ignitions/Maria2019E0087.shp\n",
      "Loading barrier file for Farsite #1: /home/jovyan/farsite/inputs/barriers/NoBarrier/NoBarrier.shp\n",
      "Launching Farsite #1\n",
      "Starting time step 0.000000 (maximum = 12)\n",
      "Writing outputs for Farsite #1 to /home/jovyan/data/20221206/Run_00187/out\n"
     ]
    },
    {
     "name": "stderr",
     "output_type": "stream",
     "text": [
      "/home/jovyan/farsite-devAPI/src/farsiteutils_v2.py:177: FutureWarning: The frame.append method is deprecated and will be removed from pandas in a future version. Use pandas.concat instead.\n",
      "  self.gdfsimulation = self.gdfsimulation.append(gdfappend)\n"
     ]
    },
    {
     "name": "stdout",
     "output_type": "stream",
     "text": [
      "Farsite $Rev: 2395 $\n",
      "Number of parallel threads = 4 (omp_get_num_procs = 32).\n",
      "Loading lcp file for Farsite #1: /home/jovyan/farsite/inputs/landscapes/Maria2019.lcp\n",
      "Loading inputs file for Farsite #1: /home/jovyan/data/20221206/Run_00188/config\n",
      "Loading ignition file for Farsite #1: /home/jovyan/data/ignitions/Maria2019E0088.shp\n",
      "Loading barrier file for Farsite #1: /home/jovyan/farsite/inputs/barriers/NoBarrier/NoBarrier.shp\n",
      "Launching Farsite #1\n",
      "Starting time step 0.000000 (maximum = 12)\n",
      "Writing outputs for Farsite #1 to /home/jovyan/data/20221206/Run_00188/out\n"
     ]
    },
    {
     "name": "stderr",
     "output_type": "stream",
     "text": [
      "/home/jovyan/farsite-devAPI/src/farsiteutils_v2.py:177: FutureWarning: The frame.append method is deprecated and will be removed from pandas in a future version. Use pandas.concat instead.\n",
      "  self.gdfsimulation = self.gdfsimulation.append(gdfappend)\n"
     ]
    },
    {
     "name": "stdout",
     "output_type": "stream",
     "text": [
      "Farsite $Rev: 2395 $\n",
      "Number of parallel threads = 4 (omp_get_num_procs = 32).\n",
      "Loading lcp file for Farsite #1: /home/jovyan/farsite/inputs/landscapes/Maria2019.lcp\n",
      "Loading inputs file for Farsite #1: /home/jovyan/data/20221206/Run_00189/config\n",
      "Loading ignition file for Farsite #1: /home/jovyan/data/ignitions/Maria2019E0089.shp\n",
      "Loading barrier file for Farsite #1: /home/jovyan/farsite/inputs/barriers/NoBarrier/NoBarrier.shp\n",
      "Launching Farsite #1\n",
      "Starting time step 0.000000 (maximum = 12)\n",
      "Writing outputs for Farsite #1 to /home/jovyan/data/20221206/Run_00189/out\n"
     ]
    },
    {
     "name": "stderr",
     "output_type": "stream",
     "text": [
      "/home/jovyan/farsite-devAPI/src/farsiteutils_v2.py:177: FutureWarning: The frame.append method is deprecated and will be removed from pandas in a future version. Use pandas.concat instead.\n",
      "  self.gdfsimulation = self.gdfsimulation.append(gdfappend)\n"
     ]
    },
    {
     "name": "stdout",
     "output_type": "stream",
     "text": [
      "Farsite $Rev: 2395 $\n",
      "Number of parallel threads = 4 (omp_get_num_procs = 32).\n",
      "Loading lcp file for Farsite #1: /home/jovyan/farsite/inputs/landscapes/Maria2019.lcp\n",
      "Loading inputs file for Farsite #1: /home/jovyan/data/20221206/Run_00190/config\n",
      "Loading ignition file for Farsite #1: /home/jovyan/data/ignitions/Maria2019E0090.shp\n",
      "Loading barrier file for Farsite #1: /home/jovyan/farsite/inputs/barriers/NoBarrier/NoBarrier.shp\n",
      "Launching Farsite #1\n",
      "Starting time step 0.000000 (maximum = 12)\n",
      "Writing outputs for Farsite #1 to /home/jovyan/data/20221206/Run_00190/out\n"
     ]
    },
    {
     "name": "stderr",
     "output_type": "stream",
     "text": [
      "/home/jovyan/farsite-devAPI/src/farsiteutils_v2.py:177: FutureWarning: The frame.append method is deprecated and will be removed from pandas in a future version. Use pandas.concat instead.\n",
      "  self.gdfsimulation = self.gdfsimulation.append(gdfappend)\n"
     ]
    },
    {
     "name": "stdout",
     "output_type": "stream",
     "text": [
      "Farsite $Rev: 2395 $\n",
      "Number of parallel threads = 4 (omp_get_num_procs = 32).\n",
      "Loading lcp file for Farsite #1: /home/jovyan/farsite/inputs/landscapes/Maria2019.lcp\n",
      "Loading inputs file for Farsite #1: /home/jovyan/data/20221206/Run_00191/config\n",
      "Loading ignition file for Farsite #1: /home/jovyan/data/ignitions/Maria2019E0091.shp\n",
      "Loading barrier file for Farsite #1: /home/jovyan/farsite/inputs/barriers/NoBarrier/NoBarrier.shp\n",
      "Launching Farsite #1\n",
      "Starting time step 0.000000 (maximum = 12)\n",
      "Writing outputs for Farsite #1 to /home/jovyan/data/20221206/Run_00191/out\n"
     ]
    },
    {
     "name": "stderr",
     "output_type": "stream",
     "text": [
      "/home/jovyan/farsite-devAPI/src/farsiteutils_v2.py:177: FutureWarning: The frame.append method is deprecated and will be removed from pandas in a future version. Use pandas.concat instead.\n",
      "  self.gdfsimulation = self.gdfsimulation.append(gdfappend)\n"
     ]
    },
    {
     "name": "stdout",
     "output_type": "stream",
     "text": [
      "Farsite $Rev: 2395 $\n",
      "Number of parallel threads = 4 (omp_get_num_procs = 32).\n",
      "Loading lcp file for Farsite #1: /home/jovyan/farsite/inputs/landscapes/Maria2019.lcp\n",
      "Loading inputs file for Farsite #1: /home/jovyan/data/20221206/Run_00192/config\n",
      "Loading ignition file for Farsite #1: /home/jovyan/data/ignitions/Maria2019E0092.shp\n",
      "Loading barrier file for Farsite #1: /home/jovyan/farsite/inputs/barriers/NoBarrier/NoBarrier.shp\n",
      "Launching Farsite #1\n",
      "Starting time step 0.000000 (maximum = 12)\n",
      "Writing outputs for Farsite #1 to /home/jovyan/data/20221206/Run_00192/out\n"
     ]
    },
    {
     "name": "stderr",
     "output_type": "stream",
     "text": [
      "/home/jovyan/farsite-devAPI/src/farsiteutils_v2.py:177: FutureWarning: The frame.append method is deprecated and will be removed from pandas in a future version. Use pandas.concat instead.\n",
      "  self.gdfsimulation = self.gdfsimulation.append(gdfappend)\n"
     ]
    },
    {
     "name": "stdout",
     "output_type": "stream",
     "text": [
      "Farsite $Rev: 2395 $\n",
      "Number of parallel threads = 4 (omp_get_num_procs = 32).\n",
      "Loading lcp file for Farsite #1: /home/jovyan/farsite/inputs/landscapes/Maria2019.lcp\n",
      "Loading inputs file for Farsite #1: /home/jovyan/data/20221206/Run_00193/config\n",
      "Loading ignition file for Farsite #1: /home/jovyan/data/ignitions/Maria2019E0093.shp\n",
      "Loading barrier file for Farsite #1: /home/jovyan/farsite/inputs/barriers/NoBarrier/NoBarrier.shp\n",
      "Launching Farsite #1\n",
      "Starting time step 0.000000 (maximum = 12)\n",
      "Writing outputs for Farsite #1 to /home/jovyan/data/20221206/Run_00193/out\n"
     ]
    },
    {
     "name": "stderr",
     "output_type": "stream",
     "text": [
      "/home/jovyan/farsite-devAPI/src/farsiteutils_v2.py:177: FutureWarning: The frame.append method is deprecated and will be removed from pandas in a future version. Use pandas.concat instead.\n",
      "  self.gdfsimulation = self.gdfsimulation.append(gdfappend)\n"
     ]
    },
    {
     "name": "stdout",
     "output_type": "stream",
     "text": [
      "Farsite $Rev: 2395 $\n",
      "Number of parallel threads = 4 (omp_get_num_procs = 32).\n",
      "Loading lcp file for Farsite #1: /home/jovyan/farsite/inputs/landscapes/Maria2019.lcp\n",
      "Loading inputs file for Farsite #1: /home/jovyan/data/20221206/Run_00194/config\n",
      "Loading ignition file for Farsite #1: /home/jovyan/data/ignitions/Maria2019E0094.shp\n",
      "Loading barrier file for Farsite #1: /home/jovyan/farsite/inputs/barriers/NoBarrier/NoBarrier.shp\n",
      "Launching Farsite #1\n",
      "Starting time step 0.000000 (maximum = 12)\n",
      "Writing outputs for Farsite #1 to /home/jovyan/data/20221206/Run_00194/out\n"
     ]
    },
    {
     "name": "stderr",
     "output_type": "stream",
     "text": [
      "/home/jovyan/farsite-devAPI/src/farsiteutils_v2.py:177: FutureWarning: The frame.append method is deprecated and will be removed from pandas in a future version. Use pandas.concat instead.\n",
      "  self.gdfsimulation = self.gdfsimulation.append(gdfappend)\n"
     ]
    },
    {
     "name": "stdout",
     "output_type": "stream",
     "text": [
      "Farsite $Rev: 2395 $\n",
      "Number of parallel threads = 4 (omp_get_num_procs = 32).\n",
      "Loading lcp file for Farsite #1: /home/jovyan/farsite/inputs/landscapes/Maria2019.lcp\n",
      "Loading inputs file for Farsite #1: /home/jovyan/data/20221206/Run_00195/config\n",
      "Loading ignition file for Farsite #1: /home/jovyan/data/ignitions/Maria2019E0095.shp\n",
      "Loading barrier file for Farsite #1: /home/jovyan/farsite/inputs/barriers/NoBarrier/NoBarrier.shp\n",
      "Launching Farsite #1\n",
      "Starting time step 0.000000 (maximum = 12)\n",
      "Writing outputs for Farsite #1 to /home/jovyan/data/20221206/Run_00195/out\n"
     ]
    },
    {
     "name": "stderr",
     "output_type": "stream",
     "text": [
      "/home/jovyan/farsite-devAPI/src/farsiteutils_v2.py:177: FutureWarning: The frame.append method is deprecated and will be removed from pandas in a future version. Use pandas.concat instead.\n",
      "  self.gdfsimulation = self.gdfsimulation.append(gdfappend)\n"
     ]
    },
    {
     "name": "stdout",
     "output_type": "stream",
     "text": [
      "Farsite $Rev: 2395 $\n",
      "Number of parallel threads = 4 (omp_get_num_procs = 32).\n",
      "Loading lcp file for Farsite #1: /home/jovyan/farsite/inputs/landscapes/Maria2019.lcp\n",
      "Loading inputs file for Farsite #1: /home/jovyan/data/20221206/Run_00196/config\n",
      "Loading ignition file for Farsite #1: /home/jovyan/data/ignitions/Maria2019E0096.shp\n",
      "Loading barrier file for Farsite #1: /home/jovyan/farsite/inputs/barriers/NoBarrier/NoBarrier.shp\n",
      "Launching Farsite #1\n",
      "Starting time step 0.000000 (maximum = 12)\n",
      "Writing outputs for Farsite #1 to /home/jovyan/data/20221206/Run_00196/out\n"
     ]
    },
    {
     "name": "stderr",
     "output_type": "stream",
     "text": [
      "/home/jovyan/farsite-devAPI/src/farsiteutils_v2.py:177: FutureWarning: The frame.append method is deprecated and will be removed from pandas in a future version. Use pandas.concat instead.\n",
      "  self.gdfsimulation = self.gdfsimulation.append(gdfappend)\n"
     ]
    },
    {
     "name": "stdout",
     "output_type": "stream",
     "text": [
      "Farsite $Rev: 2395 $\n",
      "Number of parallel threads = 4 (omp_get_num_procs = 32).\n",
      "Loading lcp file for Farsite #1: /home/jovyan/farsite/inputs/landscapes/Maria2019.lcp\n",
      "Loading inputs file for Farsite #1: /home/jovyan/data/20221206/Run_00197/config\n",
      "Loading ignition file for Farsite #1: /home/jovyan/data/ignitions/Maria2019E0097.shp\n",
      "Loading barrier file for Farsite #1: /home/jovyan/farsite/inputs/barriers/NoBarrier/NoBarrier.shp\n",
      "Launching Farsite #1\n",
      "Starting time step 0.000000 (maximum = 12)\n",
      "Writing outputs for Farsite #1 to /home/jovyan/data/20221206/Run_00197/out\n"
     ]
    },
    {
     "name": "stderr",
     "output_type": "stream",
     "text": [
      "/home/jovyan/farsite-devAPI/src/farsiteutils_v2.py:177: FutureWarning: The frame.append method is deprecated and will be removed from pandas in a future version. Use pandas.concat instead.\n",
      "  self.gdfsimulation = self.gdfsimulation.append(gdfappend)\n"
     ]
    },
    {
     "name": "stdout",
     "output_type": "stream",
     "text": [
      "Farsite $Rev: 2395 $\n",
      "Number of parallel threads = 4 (omp_get_num_procs = 32).\n",
      "Loading lcp file for Farsite #1: /home/jovyan/farsite/inputs/landscapes/Maria2019.lcp\n",
      "Loading inputs file for Farsite #1: /home/jovyan/data/20221206/Run_00198/config\n",
      "Loading ignition file for Farsite #1: /home/jovyan/data/ignitions/Maria2019E0098.shp\n",
      "Loading barrier file for Farsite #1: /home/jovyan/farsite/inputs/barriers/NoBarrier/NoBarrier.shp\n",
      "Launching Farsite #1\n",
      "Starting time step 0.000000 (maximum = 12)\n",
      "Writing outputs for Farsite #1 to /home/jovyan/data/20221206/Run_00198/out\n"
     ]
    },
    {
     "name": "stderr",
     "output_type": "stream",
     "text": [
      "/home/jovyan/farsite-devAPI/src/farsiteutils_v2.py:177: FutureWarning: The frame.append method is deprecated and will be removed from pandas in a future version. Use pandas.concat instead.\n",
      "  self.gdfsimulation = self.gdfsimulation.append(gdfappend)\n"
     ]
    },
    {
     "name": "stdout",
     "output_type": "stream",
     "text": [
      "Farsite $Rev: 2395 $\n",
      "Number of parallel threads = 4 (omp_get_num_procs = 32).\n",
      "Loading lcp file for Farsite #1: /home/jovyan/farsite/inputs/landscapes/Maria2019.lcp\n",
      "Loading inputs file for Farsite #1: /home/jovyan/data/20221206/Run_00199/config\n",
      "Loading ignition file for Farsite #1: /home/jovyan/data/ignitions/Maria2019E0099.shp\n",
      "Loading barrier file for Farsite #1: /home/jovyan/farsite/inputs/barriers/NoBarrier/NoBarrier.shp\n",
      "Launching Farsite #1\n",
      "Starting time step 0.000000 (maximum = 12)\n",
      "Writing outputs for Farsite #1 to /home/jovyan/data/20221206/Run_00199/out\n"
     ]
    },
    {
     "name": "stderr",
     "output_type": "stream",
     "text": [
      "/home/jovyan/farsite-devAPI/src/farsiteutils_v2.py:177: FutureWarning: The frame.append method is deprecated and will be removed from pandas in a future version. Use pandas.concat instead.\n",
      "  self.gdfsimulation = self.gdfsimulation.append(gdfappend)\n"
     ]
    }
   ],
   "source": [
    "# from multiprocessing import Pool\n",
    "\n",
    "# numproc = 4\n",
    "# pool = Pool(processes=numproc)\n",
    "\n",
    "# Run for each FarsiteManual\n",
    "for mainapi in mainapi_lst:\n",
    "    # pool.apply_async(farsite.run_command, callback=farsite.updatedb)\n",
    "    mainapi.run_farsite()\n",
    "\n",
    "# pool.close()\n",
    "# pool.join()"
   ]
  },
  {
   "cell_type": "code",
   "execution_count": 23,
   "id": "248932ce-676e-4c15-b580-3ff25b4531c6",
   "metadata": {},
   "outputs": [
    {
     "data": {
      "text/plain": [
       "[<matplotlib.lines.Line2D at 0x7f7cfdbe5480>]"
      ]
     },
     "execution_count": 23,
     "metadata": {},
     "output_type": "execute_result"
    },
    {
     "data": {
      "image/png": "[encoded data removed]",
      "text/plain": [
       "<Figure size 800x400 with 1 Axes>"
      ]
     },
     "metadata": {},
     "output_type": "display_data"
    }
   ],
   "source": [
    "fig, ax = plt.subplots(1,1, figsize=(4,2), dpi=200)\n",
    "gdfrow = usr.db.gdfsimulation.iloc[5]\n",
    "\n",
    "# for igniteidx, gdfrow in usr.db.gdfignition.iterrows():\n",
    "\n",
    "geom = usr.db.gdfignition.iloc[1]['geometry']\n",
    "x,y = geom.exterior.coords.xy\n",
    "ax.plot(x,y, 'b-')\n",
    "\n",
    "geom = gdfrow['geometry']\n",
    "if isinstance(geom, MultiPolygon):\n",
    "    geom = geom.geoms[0]\n",
    "\n",
    "x,y = geom.exterior.coords.xy\n",
    "ax.plot(x,y, 'r--')\n",
    "    \n",
    "# ax.set_ylim(34.3, 34.34)\n",
    "# ax.set_xlim(-119.07, -119.02)"
   ]
  },
  {
   "cell_type": "markdown",
   "id": "dd8d5927-2650-45ff-8d1b-c3b77e7c3dad",
   "metadata": {},
   "source": [
    "## Update the advanced state vector based on k=1 observations"
   ]
  },
  {
   "cell_type": "markdown",
   "id": "1e22ff68-cd59-47b7-80c9-af9db17b9c16",
   "metadata": {},
   "source": [
    "#### Interpolate all the vertices"
   ]
  },
  {
   "cell_type": "code",
   "execution_count": 55,
   "id": "8966f67f-c02a-4969-ae3a-c718a1128cac",
   "metadata": {},
   "outputs": [],
   "source": [
    "vertex_count = 0\n",
    "for geom in ignitions['geometry']:\n",
    "    if vertex_count < len(geom.exterior.coords):\n",
    "        vertex_count = len(geom.exterior.coords)\n",
    "\n",
    "interpolated_vertices = []\n",
    "for geom in ignitions['geometry']:\n",
    "    geom_state = State(geom)\n",
    "    vertices = np.array(interpolate_perimeter(geom_state.calculate_vertices(), vertex_count))\n",
    "    \n",
    "    interpolated_vertices.append(vertices)\n",
    "    \n",
    "aligned_vertices = []"
   ]
  },
  {
   "cell_type": "markdown",
   "id": "3bc2a8f4-1114-4d62-89da-2dea41e39690",
   "metadata": {},
   "source": [
    "#### TODO: Vertices include an additional point when generated from geometry. Remove the repeat!"
   ]
  },
  {
   "cell_type": "code",
   "execution_count": 118,
   "id": "4547472b-925d-4ccb-99ed-328555248338",
   "metadata": {},
   "outputs": [
    {
     "name": "stdout",
     "output_type": "stream",
     "text": [
      "Calculating 98/99 ( 98.99%) - Remaining - 0:0:0...   \r"
     ]
    }
   ],
   "source": [
    "time_estimator = TimeEstimator(len(interpolated_vertices)-1)\n",
    "\n",
    "minroll_lst = []\n",
    "for i in range(len(interpolated_vertices)-1):\n",
    "    print(time_estimator.info_str(i), end='\\r', flush=True)\n",
    "    \n",
    "    left_vertices = interpolated_vertices[i]\n",
    "    right_vertices = interpolated_vertices[i+1]\n",
    "    \n",
    "    \n",
    "    # Cycle right_vertices\n",
    "    l2perroll = []\n",
    "    for roll in range(len(interpolated_vertices)-1):\n",
    "        diff = left_vertices - right_vertices\n",
    "        diff2sum = (diff[:,0]**2 + diff[:,1]**2).sum()\n",
    "\n",
    "        # Calculate diff^2 in\n",
    "        l2perroll.append(diff2sum)\n",
    "        \n",
    "        right_vertices = np.roll(right_vertices,1, axis=0)\n",
    "        \n",
    "    minroll_lst.append(np.argmin(l2perroll))\n",
    "    \n",
    "aligned_vertices = [interpolated_vertices[0]]\n",
    "for i in range(len(interpolated_vertices)-1):\n",
    "    aligned_vertices.append(np.roll(interpolated_vertices[i+1], minroll_lst[i], axis=0))\n",
    "## Check reverse direction too?"
   ]
  },
  {
   "cell_type": "markdown",
   "id": "d26f4823-d7f1-4970-a7e2-003151946839",
   "metadata": {},
   "source": [
    "#### TODO: Check whether the aligned_vertices have the correct roll amount\n",
    "1. Create matrices from the aligned_vertices, and form the $X_0$ ensemble state matrix\n",
    "2. Using the observation $y_1$, update the state vector and obtain $X_1$"
   ]
  },
  {
   "cell_type": "markdown",
   "id": "ae2f49b1-702d-478b-96ab-0090fec2d468",
   "metadata": {},
   "source": []
  }
 ],
 "metadata": {
  "kernelspec": {
   "display_name": "Python 3 (ipykernel)",
   "language": "python",
   "name": "python3"
  },
  "language_info": {
   "codemirror_mode": {
    "name": "ipython",
    "version": 3
   },
   "file_extension": ".py",
   "mimetype": "text/x-python",
   "name": "python",
   "nbconvert_exporter": "python",
   "pygments_lexer": "ipython3",
   "version": "3.10.6"
  }
 },
 "nbformat": 4,
 "nbformat_minor": 5
}
