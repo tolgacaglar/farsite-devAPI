{
 "cells": [
  {
   "cell_type": "markdown",
   "id": "e6577c47-acab-40de-9186-ac8ec9a2b5a3",
   "metadata": {},
   "source": [
    "### Dependencies"
   ]
  },
  {
   "cell_type": "code",
   "execution_count": 1,
   "id": "83d168bf-4fb8-4c9e-a3ef-5578734ed2d1",
   "metadata": {
    "tags": []
   },
   "outputs": [],
   "source": [
    "import sys\n",
    "sys.path.append('/home/jovyan/farsite-devAPI/src/')\n",
    "sys.path.append('/home/jovyan/python-helper/src/')\n",
    "\n",
    "import geopandas as gpd\n",
    "import pandas as pd\n",
    "import numpy as np\n",
    "\n",
    "from shapely.geometry import MultiPolygon, Polygon\n",
    "\n",
    "import uuid\n",
    "import random\n",
    "\n",
    "import farsiteutils_v2 as futils\n",
    "from kalmanutils import calculate_uncertainties_observed, interpolate_perimeter\n",
    "from kalmanutils import State, sample_geometry, calculate_max_area_geom, calculate\n",
    "from kalmanutils import calculate_rms, calculate_area_diff, align_vertices, interpolate_geometries\n",
    "from kalmanutils import update_EnKF, fill_zeros, create_ensemble_matrix\n",
    "\n",
    "from loggers import TimeEstimator\n",
    "\n",
    "from matplotlib import pyplot as plt\n",
    "\n",
    "import datetime\n",
    "import pickle"
   ]
  },
  {
   "cell_type": "markdown",
   "id": "23b39c51-d818-4c95-af22-1f251dbfc727",
   "metadata": {},
   "source": [
    "### Default Values"
   ]
  },
  {
   "cell_type": "code",
   "execution_count": 2,
   "id": "b525e426-98ec-4a36-bcef-f8cd123d343b",
   "metadata": {
    "tags": []
   },
   "outputs": [],
   "source": [
    "SELECTED_FIRE_DEFAULT = 'Maria2019'\n",
    "DATA_PATH = '/home/jovyan/data/'    # Folder to keep all the data while running the simulations"
   ]
  },
  {
   "cell_type": "markdown",
   "id": "12f238e2-07c9-4eb1-b447-cd5d64963be4",
   "metadata": {},
   "source": [
    "### Select a fire\n",
    "\n",
    "```selected_fire``` variable holds the name of the fire selected. ```selected_fire = 'Maria2019'``` for now"
   ]
  },
  {
   "cell_type": "code",
   "execution_count": 3,
   "id": "b5469347-754a-4d59-a518-a1b5227156d8",
   "metadata": {},
   "outputs": [
    {
     "name": "stdout",
     "output_type": "stream",
     "text": [
      "Database interaction not yet implemented. Use pickle file for dataframes instead!\n",
      "Available fires are ['Maria2019' 'River2021' 'Bridge2021']\n",
      "Maria2019 is selected.\n",
      "\n",
      "Maria2019 is found!\n"
     ]
    }
   ],
   "source": [
    "fp = futils.FilePaths(DATA_PATH)\n",
    "usr = futils.User(fp)\n",
    "\n",
    "unique_desc = usr.db.gdfignitionAll['description'].unique()\n",
    "print(f'Available fires are {unique_desc}')\n",
    "\n",
    "selected_fire = SELECTED_FIRE_DEFAULT\n",
    "print(f'{selected_fire} is selected.\\n')\n",
    "if (unique_desc == selected_fire).any():\n",
    "    print(f'{selected_fire} is found!')\n",
    "else:\n",
    "    raise ValueError(f'{selected_fire} not found in possible fire descriptions: {unique_desc}')"
   ]
  },
  {
   "cell_type": "markdown",
   "id": "8bade91e-a087-4a78-9c52-9072b554a725",
   "metadata": {},
   "source": [
    "### Selecting a reference observation\n",
    "Reference observation is used to test the EnKF updates. It is in place of the actual observations. For now, all the references are a 60-minute FARSITE simulations at 10mph wind speed and wind moving directly from EAST. There are a total of 24 such calculations from the first point until the end."
   ]
  },
  {
   "cell_type": "code",
   "execution_count": 28,
   "id": "e10a57b3-8f10-45b1-a302-2f586a634e87",
   "metadata": {
    "tags": []
   },
   "outputs": [],
   "source": [
    "objectidlst = [21231, 21232, 21234, 21235, 21236]\n",
    "wdmaria = [37, 48, 48, 44, 16]\n",
    "wsmaria = [11, 18, 18, 25, 17]\n",
    "\n",
    "gdfmaria = gpd.read_file('/home/jovyan/farsite-devAPI/data/maria-wgs84/maria-wgs84.shp')\n",
    "# gdfmaria[gdfmaria['objectid'].isin(objectidlst)][['objectid', 'YYYYMMDD', 'windspeed', 'winddirec']]\n",
    "\n",
    "gdfobserved = usr.db.gdfignition[usr.db.gdfignition['objectid'].isin(objectidlst)]\n",
    "# gdfobserved"
   ]
  },
  {
   "cell_type": "code",
   "execution_count": null,
   "id": "281c3ccd-23c0-4db7-a38a-1abbc940d24e",
   "metadata": {
    "scrolled": true,
    "tags": []
   },
   "outputs": [],
   "source": [
    "# # referenceidx_lst = [usr.db.gdfignition.index[0]] + usr.db.gdfignition[usr.db.gdfignition['objectid'] == '21231_RefTruth'].index.tolist()\n",
    "\n",
    "# # 1 hour updates\n",
    "# referenceidx_lst = [usr.db.gdfignition.index[0]] + [uuid.uuid4().hex for i in range(24)]\n",
    "# for i in range(len(referenceidx_lst[:-1])):\n",
    "#     print('\\n---------------------------------')\n",
    "#     print(f'Calculating {i}/{len(referenceidx_lst)}')\n",
    "#     calculate(referenceidx_lst[i], referenceidx_lst[i+1], usr, label='21231_ws10wd90', windspeed = 10, winddirection = 90, dt=datetime.timedelta(minutes=30))"
   ]
  },
  {
   "cell_type": "code",
   "execution_count": null,
   "id": "df6dc8a4-22b6-459d-88cf-188968181792",
   "metadata": {
    "tags": []
   },
   "outputs": [],
   "source": [
    "# def plot_geometry(geom, ax, **kwargs):\n",
    "#     if isinstance(geom, MultiPolygon):\n",
    "#         for g in geom.geoms:\n",
    "#             x,y = g.exterior.coords.xy\n",
    "#             ax.plot(x,y, **kwargs)\n",
    "#     else:\n",
    "#         x,y = geom.exterior.coords.xy\n",
    "#         ax.plot(x,y, **kwargs)\n",
    "\n",
    "# def read_geom(gdfrow):\n",
    "#     return gpd.read_file(gdfrow['filepath'])['geometry'][0]\n",
    "        \n",
    "# gdfreference = usr.db.gdfignition[usr.db.gdfignition['objectid']=='21231_ws10wd90']   # Reference true perimeters\n",
    "\n",
    "# fig, ax = plt.subplots(1,1, dpi=200)\n",
    "\n",
    "# # plot_geometry(read_geom(gdfreference.iloc[0]), ax=ax)\n",
    "# # # plot_geometry(gdfreference['geometry'].iloc[-1], ax=ax)\n",
    "# # # plot_geometry(gdfreference['geometry'].iloc[-1], ax=ax)\n",
    "# # plot_geometry(read_geom(gdfreference.loc['dc8d1ae71a1f4f2c98fc927cfd2541f0']), ax=ax, color='black')\n",
    "# # gpd.read_file(gdfreference.loc['9a532abc307a4296a93c6d8e08be909a']['filepath']).plot(ax=ax, color='black')\n",
    "\n",
    "# for geom in gdfreference['geometry']:\n",
    "#     plot_geometry(geom, ax=ax)\n",
    "    \n",
    "# ax.set_aspect('equal')"
   ]
  },
  {
   "cell_type": "markdown",
   "id": "c2f00bf6-514e-4857-83d1-a4aaa1e6dbea",
   "metadata": {},
   "source": [
    "### Calculating the deviations\n",
    "\n",
    "The deviations are calculated with the same parameters as the reference, except the first ignition is deviated and written at ```objectid=21231_RefTruth``` value. Similar to the reference observations, 12 consecutive FARSITE simulations were calculated with wd=90, ws=10 at 30-minute time intervals.\n",
    "\n",
    "*Note* The variable ```usr``` now inludes all the reference and deviated observations in its ignition table"
   ]
  },
  {
   "cell_type": "code",
   "execution_count": null,
   "id": "358d30ae-7af3-425a-8015-2e4dec92eb1d",
   "metadata": {
    "scrolled": true,
    "tags": []
   },
   "outputs": [],
   "source": [
    "# deviateidx_lst = [usr.db.gdfignition.index[0]] + [uuid.uuid4().hex for i in range(24)]\n",
    "# for i in range(len(deviateidx_lst[:-1])):\n",
    "#     print('\\n---------------------------------')\n",
    "#     print(f'Calculating {i}/{len(deviateidx_lst)}')\n",
    "#     calculate(deviateidx_lst[i], deviateidx_lst[i+1], usr, label='21231_Deviate', windspeed = 10, winddirection = 60, dt=datetime.timedelta(minutes=30))"
   ]
  },
  {
   "cell_type": "code",
   "execution_count": null,
   "id": "142b4719-e290-4fb7-9aa6-d57916f1c008",
   "metadata": {
    "tags": []
   },
   "outputs": [],
   "source": [
    "referenceidx_lst"
   ]
  },
  {
   "cell_type": "code",
   "execution_count": null,
   "id": "46a7c65d-d5c6-4cad-a91b-db1e91600302",
   "metadata": {
    "tags": []
   },
   "outputs": [],
   "source": [
    "deviateidx_lst"
   ]
  },
  {
   "cell_type": "code",
   "execution_count": null,
   "id": "9f6f677d-8dc5-4356-b226-1214c9ec9288",
   "metadata": {
    "tags": []
   },
   "outputs": [],
   "source": [
    "gdfreference = usr.db.gdfignition.loc[referenceidx_lst]   # Reference true perimeters\n",
    "gdfdeviate = usr.db.gdfignition.loc[deviateidx_lst]     # Same with reference calculation, starting from a deviated geometry"
   ]
  },
  {
   "cell_type": "code",
   "execution_count": null,
   "id": "0e65b659-b3ee-454d-82a5-b7e8b5dd077f",
   "metadata": {
    "tags": []
   },
   "outputs": [],
   "source": [
    "fig, ax = plt.subplots(1,1, dpi=400)\n",
    "\n",
    "plot_geometry(gdfreference.iloc[0]['geometry'], ax=ax)\n",
    "plot_geometry(gdfdeviate.iloc[0]['geometry'], ax=ax)\n",
    "plot_geometry(gdfreference.iloc[10]['geometry'], ax=ax)\n",
    "plot_geometry(gdfdeviate.iloc[10]['geometry'], ax=ax)"
   ]
  },
  {
   "cell_type": "markdown",
   "id": "61cd103b-2324-4c81-96a8-fd404846694f",
   "metadata": {},
   "source": [
    "### Starting calculation - 0 $\\rightarrow$ 1"
   ]
  },
  {
   "cell_type": "code",
   "execution_count": null,
   "id": "11e3fc25-1dba-46e5-ad6c-38dd4af04d83",
   "metadata": {
    "tags": []
   },
   "outputs": [],
   "source": [
    "# ws = 10\n",
    "# wd = 60\n",
    "nsamples = 1000\n",
    "vertex_count = 100\n",
    "\n",
    "data = {'calculations': [],\n",
    "        'parameters': {'nsamples': nsamples,\n",
    "                       'vertex_count': vertex_count},\n",
    "       }"
   ]
  },
  {
   "cell_type": "code",
   "execution_count": null,
   "id": "5e6a1a2c-aed0-4308-ac57-57bb070c9492",
   "metadata": {
    "scrolled": true,
    "tags": []
   },
   "outputs": [],
   "source": [
    "%%time\n",
    "\n",
    "for upix in range(1,len(gdfobserved)):\n",
    "    print('------------------------------------')\n",
    "    print(f'Calculating {upix-1}-->{upix}')\n",
    "    \n",
    "    # Generate samples of (ws, wd)\n",
    "    wsar = np.random.normal(wsmaria[upix-1], np.sqrt(ws), nsamples)\n",
    "    wdar = np.random.normal(wdmaria[upix-1], 15, nsamples)\n",
    "\n",
    "    compareidx = {}\n",
    "    # Run for the first ensemble 0->1\n",
    "\n",
    "    usr_tmp = futils.User(fp)\n",
    "    if upix == 1:\n",
    "        igniteidx = gdfdeviate.index[upix-1]\n",
    "    else:\n",
    "        igniteidx = updateidx\n",
    "        usr_tmp.db.gdfignition.loc[igniteidx] = usr.db.gdfignition.loc[igniteidx]\n",
    "        \n",
    "    referenceidx = gdfreference.index[upix]\n",
    "    compareidx[igniteidx] = []\n",
    "    \n",
    "    time_estimator = TimeEstimator(len(wsar))\n",
    "    for i, (wsflt, wdflt) in enumerate(zip(wsar, wdar)):\n",
    "        wsint = round(wsflt)\n",
    "        wdint = np.fmod(round(wdflt)+360, 360)\n",
    "\n",
    "        print(time_estimator.info_str(i))\n",
    "        # print(f'\\nCalculating for wd={wdint}, ws={wsint}')\n",
    "\n",
    "        # calculate compareidx for the updated\n",
    "        compareidx[igniteidx].append(uuid.uuid4().hex)\n",
    "        calculate(igniteidx, compareidx[igniteidx][-1], usr_tmp, label='21231_Deviated_1', windspeed = wsint, winddirection = wdint)    \n",
    "\n",
    "\n",
    "    # Calculate the ensemble matrix for the deviated simulations\n",
    "    Xt, aligned_geom, vertex_count = create_ensemble_matrix(usr_tmp.db.gdfsimulation, nsamples=nsamples, vertex_count=vertex_count)\n",
    "\n",
    "    # Calculate ensemble matrix for the observations\n",
    "    geom = gdfreference.loc[referenceidx, 'geometry']\n",
    "\n",
    "    uncertainties = np.zeros(nsamples) + 100\n",
    "    interpolate_geom = interpolate_geometries([geom], vertex_count)[0]\n",
    "    aligned_vertices = align_vertices([aligned_geom, interpolate_geom])[1]\n",
    "    st = State(Polygon(aligned_vertices))\n",
    "\n",
    "    aligned_geoms_lst = []\n",
    "    for i in range(nsamples):\n",
    "        newgeom = sample_geometry(st, uncertainties).buffer(0)\n",
    "        interpolate_geom = interpolate_geometries([newgeom], vertex_count)[0]\n",
    "        aligned_vertices = align_vertices([aligned_geom, interpolate_geom])[1]\n",
    "        aligned_geoms_lst.append(Polygon(aligned_vertices))\n",
    "\n",
    "    Y, aligned_geom, vertex_count = create_ensemble_matrix(gpd.GeoDataFrame(geometry=aligned_geoms_lst), nsamples, vertex_count, aligned_geom, observed=True)\n",
    "\n",
    "\n",
    "    X = update_EnKF(Xt, Y, aligned_geom)\n",
    "    ymean = X[1:-2:2,:].mean(axis=1)\n",
    "    xmean = X[:-2:2,:].mean(axis=1)\n",
    "\n",
    "    Xgeom = Polygon(zip(xmean, ymean))\n",
    "\n",
    "    updateidx = uuid.uuid4().hex\n",
    "    filepath = f'/home/jovyan/data/ignitions/Maria{updateidx}.shp'\n",
    "    gpd.GeoDataFrame({'FID': [0], 'geometry':Xgeom}, \n",
    "                 crs='EPSG:5070').to_file(filepath)\n",
    "\n",
    "    gdfupdate = gpd.GeoDataFrame(index=[updateidx], data = {'filetype': 'Ignition',\n",
    "                                          'objectid': f'21231_Update_{upix}',\n",
    "                                          'filepath': filepath,\n",
    "                                          'datetime': gdfreference.loc[referenceidx, 'datetime'],\n",
    "                                          'description': 'Maria2019',\n",
    "                                          'geometry': Xgeom})\n",
    "\n",
    "    usr.db.gdfignition = pd.concat([usr.db.gdfignition, gdfupdate])\n",
    "\n",
    "    data['calculations'].append({'referenceidx': referenceidx,\n",
    "                                  'igniteidx': igniteidx,\n",
    "                                  'updateidx': updateidx,\n",
    "                                  'Xt': Xt, 'X': X, 'Y': Y, 'aligned_geom': aligned_geom,\n",
    "                                  'wdar': wdar, 'wsar': wsar})\n",
    "    \n",
    "data['gdfignition'] = usr.db.gdfignition\n",
    "\n",
    "with open('/home/jovyan/data/output_05162023.pkl', 'wb') as f:\n",
    "    pickle.dump(data, f)"
   ]
  },
  {
   "cell_type": "code",
   "execution_count": null,
   "id": "f01d46d2-1315-4868-bfca-7cbc0821686b",
   "metadata": {},
   "outputs": [],
   "source": []
  }
 ],
 "metadata": {
  "kernelspec": {
   "display_name": "Python 3 (ipykernel)",
   "language": "python",
   "name": "python3"
  },
  "language_info": {
   "codemirror_mode": {
    "name": "ipython",
    "version": 3
   },
   "file_extension": ".py",
   "mimetype": "text/x-python",
   "name": "python",
   "nbconvert_exporter": "python",
   "pygments_lexer": "ipython3",
   "version": "3.10.10"
  }
 },
 "nbformat": 4,
 "nbformat_minor": 5
}
