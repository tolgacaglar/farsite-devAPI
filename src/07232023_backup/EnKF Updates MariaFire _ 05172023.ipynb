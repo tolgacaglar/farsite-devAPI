{
 "cells": [
  {
   "cell_type": "markdown",
   "id": "e6577c47-acab-40de-9186-ac8ec9a2b5a3",
   "metadata": {},
   "source": [
    "### Dependencies"
   ]
  },
  {
   "cell_type": "code",
   "execution_count": 1,
   "id": "83d168bf-4fb8-4c9e-a3ef-5578734ed2d1",
   "metadata": {
    "tags": []
   },
   "outputs": [],
   "source": [
    "import sys\n",
    "sys.path.append('/home/jovyan/farsite-devAPI/src/')\n",
    "sys.path.append('/home/jovyan/python-helper/src/')\n",
    "\n",
    "import geopandas as gpd\n",
    "import pandas as pd\n",
    "import numpy as np\n",
    "\n",
    "from shapely.geometry import MultiPolygon, Polygon\n",
    "\n",
    "import uuid\n",
    "import random\n",
    "\n",
    "import farsiteutils_v2 as futils\n",
    "from kalmanutils import calculate_uncertainties_observed, interpolate_perimeter\n",
    "from kalmanutils import State, sample_geometry, calculate_max_area_geom, calculate\n",
    "from kalmanutils import calculate_rms, calculate_area_diff, align_vertices, interpolate_geometries\n",
    "from kalmanutils import update_EnKF, fill_zeros, create_ensemble_matrix\n",
    "\n",
    "from loggers import TimeEstimator\n",
    "\n",
    "from matplotlib import pyplot as plt\n",
    "\n",
    "import datetime\n",
    "import pickle"
   ]
  },
  {
   "cell_type": "markdown",
   "id": "23b39c51-d818-4c95-af22-1f251dbfc727",
   "metadata": {},
   "source": [
    "### Default Values"
   ]
  },
  {
   "cell_type": "code",
   "execution_count": 2,
   "id": "b525e426-98ec-4a36-bcef-f8cd123d343b",
   "metadata": {
    "tags": []
   },
   "outputs": [],
   "source": [
    "SELECTED_FIRE_DEFAULT = 'Maria2019'\n",
    "DATA_PATH = '/home/jovyan/data/'    # Folder to keep all the data while running the simulations"
   ]
  },
  {
   "cell_type": "code",
   "execution_count": null,
   "id": "bbf94fa2-a78a-4c52-b64b-e09193ff08c4",
   "metadata": {},
   "outputs": [],
   "source": []
  },
  {
   "cell_type": "markdown",
   "id": "12f238e2-07c9-4eb1-b447-cd5d64963be4",
   "metadata": {},
   "source": [
    "### Select a fire\n",
    "\n",
    "```selected_fire``` variable holds the name of the fire selected. ```selected_fire = 'Maria2019'``` for now"
   ]
  },
  {
   "cell_type": "code",
   "execution_count": 3,
   "id": "b5469347-754a-4d59-a518-a1b5227156d8",
   "metadata": {},
   "outputs": [
    {
     "name": "stdout",
     "output_type": "stream",
     "text": [
      "Database interaction not yet implemented. Use pickle file for dataframes instead!\n"
     ]
    },
    {
     "ename": "AttributeError",
     "evalue": "'Database_v2' object has no attribute 'gdfignitionAll'",
     "output_type": "error",
     "traceback": [
      "\u001b[0;31m---------------------------------------------------------------------------\u001b[0m",
      "\u001b[0;31mAttributeError\u001b[0m                            Traceback (most recent call last)",
      "Cell \u001b[0;32mIn[3], line 4\u001b[0m\n\u001b[1;32m      1\u001b[0m fp \u001b[38;5;241m=\u001b[39m futils\u001b[38;5;241m.\u001b[39mFilePaths(DATA_PATH)\n\u001b[1;32m      2\u001b[0m usr \u001b[38;5;241m=\u001b[39m futils\u001b[38;5;241m.\u001b[39mUser(fp)\n\u001b[0;32m----> 4\u001b[0m unique_desc \u001b[38;5;241m=\u001b[39m \u001b[43musr\u001b[49m\u001b[38;5;241;43m.\u001b[39;49m\u001b[43mdb\u001b[49m\u001b[38;5;241;43m.\u001b[39;49m\u001b[43mgdfignitionAll\u001b[49m[\u001b[38;5;124m'\u001b[39m\u001b[38;5;124mdescription\u001b[39m\u001b[38;5;124m'\u001b[39m]\u001b[38;5;241m.\u001b[39munique()\n\u001b[1;32m      5\u001b[0m \u001b[38;5;28mprint\u001b[39m(\u001b[38;5;124mf\u001b[39m\u001b[38;5;124m'\u001b[39m\u001b[38;5;124mAvailable fires are \u001b[39m\u001b[38;5;132;01m{\u001b[39;00munique_desc\u001b[38;5;132;01m}\u001b[39;00m\u001b[38;5;124m'\u001b[39m)\n\u001b[1;32m      7\u001b[0m selected_fire \u001b[38;5;241m=\u001b[39m SELECTED_FIRE_DEFAULT\n",
      "\u001b[0;31mAttributeError\u001b[0m: 'Database_v2' object has no attribute 'gdfignitionAll'"
     ]
    }
   ],
   "source": [
    "fp = futils.FilePaths(DATA_PATH)\n",
    "usr = futils.User(fp)\n",
    "\n",
    "unique_desc = usr.db.gdfignitionAll['description'].unique()\n",
    "print(f'Available fires are {unique_desc}')\n",
    "\n",
    "selected_fire = SELECTED_FIRE_DEFAULT\n",
    "print(f'{selected_fire} is selected.\\n')\n",
    "if (unique_desc == selected_fire).any():\n",
    "    print(f'{selected_fire} is found!')\n",
    "else:\n",
    "    raise ValueError(f'{selected_fire} not found in possible fire descriptions: {unique_desc}')"
   ]
  },
  {
   "cell_type": "markdown",
   "id": "8bade91e-a087-4a78-9c52-9072b554a725",
   "metadata": {},
   "source": [
    "### Selecting the observations\n",
    "Wind speed and Wind direction is read from the values used during the fire"
   ]
  },
  {
   "cell_type": "code",
   "execution_count": 4,
   "id": "e10a57b3-8f10-45b1-a302-2f586a634e87",
   "metadata": {
    "tags": []
   },
   "outputs": [],
   "source": [
    "objectidlst = [21231, 21232, 21234, 21235, 21236]\n",
    "\n",
    "# objectidlst = [21231, 21232, 21234, 21235]\n",
    "wdmaria = [37, 48, 48, 44, 16]\n",
    "wsmaria = [11, 18, 18, 25, 17]\n",
    "dtar = [datetime.timedelta(minutes=21), \n",
    "        datetime.timedelta(minutes=33), \n",
    "        datetime.timedelta(minutes=25), \n",
    "        datetime.timedelta(minutes=26)]\n",
    "\n",
    "gdfmaria = gpd.read_file('/home/jovyan/farsite-devAPI/data/maria-wgs84/maria-wgs84.shp')\n",
    "# gdfmaria[gdfmaria['objectid'].isin(objectidlst)][['objectid', 'YYYYMMDD', 'windspeed', 'winddirec']]\n",
    "\n",
    "gdfobserved = usr.db.gdfignition[usr.db.gdfignition['objectid'].isin(objectidlst)]\n",
    "# gdfobserved"
   ]
  },
  {
   "cell_type": "markdown",
   "id": "61cd103b-2324-4c81-96a8-fd404846694f",
   "metadata": {},
   "source": [
    "### Starting calculation - 0 $\\rightarrow$ 1"
   ]
  },
  {
   "cell_type": "code",
   "execution_count": 5,
   "id": "11e3fc25-1dba-46e5-ad6c-38dd4af04d83",
   "metadata": {
    "tags": []
   },
   "outputs": [],
   "source": [
    "# ws = 10\n",
    "# wd = 60 \n",
    "######### wd and ws to be chosen from the runs during the live fire\n",
    "nsamples = 2000\n",
    "vertex_count = 100\n",
    "\n",
    "data = {'calculations': [],\n",
    "        'parameters': {'nsamples': nsamples,\n",
    "                       'vertex_count': vertex_count},\n",
    "       }"
   ]
  },
  {
   "cell_type": "code",
   "execution_count": null,
   "id": "124e7723-0df5-4a08-a44d-8ced7bc544ad",
   "metadata": {
    "scrolled": true,
    "tags": []
   },
   "outputs": [],
   "source": [
    "%%time\n",
    "\n",
    "for upix in range(1,len(gdfobserved)):\n",
    "    print('------------------------------------')\n",
    "    print('------------------------------------')\n",
    "    print(f'Calculating {upix-1}-->{upix}')\n",
    "    print('------------------------------------')\n",
    "    print('------------------------------------')\n",
    "    \n",
    "    # Generate samples of (ws, wd)\n",
    "    wsar = np.random.normal(wsmaria[upix-1], np.sqrt(wsmaria[upix-1]), nsamples)\n",
    "    wdar = np.random.normal(wdmaria[upix-1], 30, nsamples)\n",
    "\n",
    "    compareidx = {}\n",
    "    # Run for the first ensemble 0->1\n",
    "\n",
    "    usr_tmp = futils.User(fp)\n",
    "    if upix == 1:    \n",
    "        igniteidx = gdfobserved.index[upix-1]\n",
    "    else:\n",
    "        igniteidx = updateidx\n",
    "        usr_tmp.db.gdfignition.loc[igniteidx] = usr.db.gdfignition.loc[igniteidx]\n",
    "        \n",
    "    # referenceidx = gdfreference.index[upix]\n",
    "    compareidx[igniteidx] = []\n",
    "    \n",
    "    time_estimator = TimeEstimator(len(wsar))\n",
    "    for i, (wsflt, wdflt) in enumerate(zip(wsar, wdar)):\n",
    "        wsint = round(wsflt)\n",
    "        wdint = np.fmod(round(wdflt)+360, 360)\n",
    "\n",
    "        print(time_estimator.info_str(i))\n",
    "        # print(f'\\nCalculating for wd={wdint}, ws={wsint}')\n",
    "\n",
    "        # calculate compareidx for the updated\n",
    "        compareidx[igniteidx].append(uuid.uuid4().hex)\n",
    "        calculate(igniteidx, compareidx[igniteidx][-1], usr_tmp, label='Updated', windspeed = wsint, winddirection = wdint, dt=dtar[upix-1])    \n",
    "\n",
    "\n",
    "    # Calculate the ensemble matrix for the deviated simulations\n",
    "    Xt, aligned_geom, vertex_count = create_ensemble_matrix(usr_tmp.db.gdfsimulation, nsamples=nsamples, vertex_count=vertex_count)\n",
    "\n",
    "    # Calculate ensemble matrix for the observations\n",
    "    geom = gdfobserved.iloc[upix]['geometry']\n",
    "\n",
    "    uncertainties = np.zeros(nsamples) + 100\n",
    "    interpolate_geom = interpolate_geometries([geom], vertex_count)[0]\n",
    "    aligned_vertices = align_vertices([aligned_geom, interpolate_geom])[1]\n",
    "    st = State(Polygon(aligned_vertices))\n",
    "\n",
    "    aligned_geoms_lst = []\n",
    "    for i in range(nsamples):\n",
    "        newgeom = sample_geometry(st, uncertainties).buffer(0)\n",
    "        interpolate_geom = interpolate_geometries([newgeom], vertex_count)[0]\n",
    "        aligned_vertices = align_vertices([aligned_geom, interpolate_geom])[1]\n",
    "        aligned_geoms_lst.append(Polygon(aligned_vertices))\n",
    "\n",
    "    Y, aligned_geom, vertex_count = create_ensemble_matrix(gpd.GeoDataFrame(geometry=aligned_geoms_lst), nsamples, vertex_count, aligned_geom, observed=True)\n",
    "\n",
    "\n",
    "    X = update_EnKF(Xt, Y, aligned_geom)\n",
    "    ymean = X[1:-2:2,:].mean(axis=1)\n",
    "    xmean = X[:-2:2,:].mean(axis=1)\n",
    "\n",
    "    Xgeom = Polygon(zip(xmean, ymean))\n",
    "\n",
    "    updateidx = uuid.uuid4().hex\n",
    "    filepath = f'/home/jovyan/data/ignitions/Maria{updateidx}.shp'\n",
    "    gpd.GeoDataFrame({'FID': [0], 'geometry':Xgeom}, \n",
    "                 crs='EPSG:5070').to_file(filepath)\n",
    "\n",
    "    gdfupdate = gpd.GeoDataFrame(index=[updateidx], data = {'filetype': 'Ignition',\n",
    "                                          'objectid': f'Update_{upix}',\n",
    "                                          'filepath': filepath,\n",
    "                                          'datetime': gdfobserved.iloc[upix]['datetime'],\n",
    "                                          'description': 'Maria2019',\n",
    "                                          'geometry': Xgeom})\n",
    "\n",
    "    usr.db.gdfignition = pd.concat([usr.db.gdfignition, gdfupdate])\n",
    "\n",
    "    data['calculations'].append({'igniteidx': igniteidx,\n",
    "                                  'updateidx': updateidx,\n",
    "                                  'Xt': Xt, 'X': X, 'Y': Y, 'aligned_geom': aligned_geom,\n",
    "                                  'wdar': wdar, 'wsar': wsar})\n",
    "    data['gdfignition'] = usr.db.gdfignition\n",
    "\n",
    "    with open('/home/jovyan/data/output_Maria_2.pkl', 'wb') as f:\n",
    "        pickle.dump(data, f)"
   ]
  },
  {
   "cell_type": "code",
   "execution_count": null,
   "id": "27c9a524-a7b5-42f6-87f8-41ea6a9ebc07",
   "metadata": {
    "tags": []
   },
   "outputs": [],
   "source": [
    "upix = 1\n",
    "\n",
    "print('------------------------------------')\n",
    "print(f'Calculating {upix-1}-->{upix}')\n",
    "\n",
    "# Generate samples of (ws, wd)\n",
    "wsar = np.random.normal(wsmaria[upix-1], np.sqrt(wsmaria[upix-1]), nsamples)\n",
    "wdar = np.random.normal(wdmaria[upix-1], 30, nsamples)\n",
    "\n",
    "compareidx = {}\n",
    "# Run for the first ensemble 0->1\n",
    "usr_tmp = futils.User(fp)\n",
    "if upix == 1:    \n",
    "    igniteidx = gdfobserved.index[upix-1]\n",
    "else:\n",
    "    igniteidx = updateidx\n",
    "    usr_tmp.db.gdfignition.loc[igniteidx] = usr.db.gdfignition.loc[igniteidx]\n",
    "\n",
    "# referenceidx = gdfreference.index[upix]\n",
    "compareidx[igniteidx] = []\n",
    "\n",
    "wsflt = wsar[0]\n",
    "wdflt = wdar[0]\n",
    "\n",
    "wsint = round(wsflt)\n",
    "wdint = round(wdflt)\n",
    "compareidx[igniteidx].append(uuid.uuid4().hex)\n"
   ]
  },
  {
   "cell_type": "code",
   "execution_count": null,
   "id": "f62b277a-69b2-4b41-8d26-cc82be340edf",
   "metadata": {},
   "outputs": [],
   "source": []
  },
  {
   "cell_type": "code",
   "execution_count": null,
   "id": "66a34a3e-453f-452f-9f56-13c8d8987078",
   "metadata": {
    "tags": []
   },
   "outputs": [],
   "source": [
    "gdfobserved['datetime'].diff()"
   ]
  },
  {
   "cell_type": "code",
   "execution_count": null,
   "id": "0078ec81-45e3-45ad-a57d-afeddc975932",
   "metadata": {
    "tags": []
   },
   "outputs": [],
   "source": [
    "calculate(igniteidx, compareidx[igniteidx][-1], usr_tmp, label='Updated', windspeed = wsint, winddirection = wdint, dt=datetime.timedelta(minutes=21))"
   ]
  },
  {
   "cell_type": "code",
   "execution_count": null,
   "id": "5e6a1a2c-aed0-4308-ac57-57bb070c9492",
   "metadata": {
    "scrolled": true,
    "tags": []
   },
   "outputs": [],
   "source": []
  },
  {
   "cell_type": "code",
   "execution_count": null,
   "id": "f01d46d2-1315-4868-bfca-7cbc0821686b",
   "metadata": {},
   "outputs": [],
   "source": [
    "dtar"
   ]
  }
 ],
 "metadata": {
  "kernelspec": {
   "display_name": "Python 3 (ipykernel)",
   "language": "python",
   "name": "python3"
  },
  "language_info": {
   "codemirror_mode": {
    "name": "ipython",
    "version": 3
   },
   "file_extension": ".py",
   "mimetype": "text/x-python",
   "name": "python",
   "nbconvert_exporter": "python",
   "pygments_lexer": "ipython3",
   "version": "3.11.4"
  }
 },
 "nbformat": 4,
 "nbformat_minor": 5
}
