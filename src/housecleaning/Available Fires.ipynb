{
 "cells": [
  {
   "cell_type": "markdown",
   "metadata": {},
   "source": [
    "# Generate data for all fires"
   ]
  },
  {
   "cell_type": "code",
   "execution_count": 3,
   "metadata": {},
   "outputs": [],
   "source": [
    "from putils import get_observation, plot_geometry\n",
    "\n",
    "from matplotlib import pyplot as plt\n",
    "from tqdm import tqdm"
   ]
  },
  {
   "cell_type": "code",
   "execution_count": 2,
   "metadata": {},
   "outputs": [],
   "source": [
    "all_fires = ['Maria2019', 'Bridge2021', 'River2021', 'CA-FKU-BOLT', 'CA-FKU-FLASH', 'CA-LAC-POST', 'CA-SCU-CORRAL']"
   ]
  },
  {
   "cell_type": "code",
   "execution_count": 14,
   "metadata": {},
   "outputs": [
    {
     "name": "stderr",
     "output_type": "stream",
     "text": [
      " 14%|█▍        | 1/7 [00:05<00:30,  5.13s/it]"
     ]
    },
    {
     "name": "stdout",
     "output_type": "stream",
     "text": [
      "'/home/tcaglar/farsite-devAPI/inputs/landscapes/Maria2019.lcp' not recognized as a supported file format.\n"
     ]
    },
    {
     "name": "stderr",
     "output_type": "stream",
     "text": [
      "\r",
      " 29%|██▊       | 2/7 [00:06<00:15,  3.02s/it]"
     ]
    },
    {
     "name": "stdout",
     "output_type": "stream",
     "text": [
      "'/home/tcaglar/farsite-devAPI/inputs/landscapes/Bridge2021.lcp' not recognized as a supported file format.\n"
     ]
    },
    {
     "name": "stderr",
     "output_type": "stream",
     "text": [
      "\r",
      " 43%|████▎     | 3/7 [00:07<00:08,  2.22s/it]"
     ]
    },
    {
     "name": "stdout",
     "output_type": "stream",
     "text": [
      "'/home/tcaglar/farsite-devAPI/inputs/landscapes/River2021.lcp' not recognized as a supported file format.\n"
     ]
    },
    {
     "name": "stderr",
     "output_type": "stream",
     "text": [
      "\r",
      " 57%|█████▋    | 4/7 [01:02<01:08, 22.94s/it]"
     ]
    },
    {
     "name": "stdout",
     "output_type": "stream",
     "text": [
      "single positional indexer is out-of-bounds\n"
     ]
    },
    {
     "name": "stderr",
     "output_type": "stream",
     "text": [
      "\r",
      " 71%|███████▏  | 5/7 [02:07<01:16, 38.23s/it]"
     ]
    },
    {
     "name": "stdout",
     "output_type": "stream",
     "text": [
      "single positional indexer is out-of-bounds\n"
     ]
    },
    {
     "name": "stderr",
     "output_type": "stream",
     "text": [
      "\r",
      " 86%|████████▌ | 6/7 [05:31<01:34, 94.34s/it]"
     ]
    },
    {
     "name": "stdout",
     "output_type": "stream",
     "text": [
      "single positional indexer is out-of-bounds\n"
     ]
    },
    {
     "name": "stderr",
     "output_type": "stream",
     "text": [
      "100%|██████████| 7/7 [06:49<00:00, 58.44s/it]"
     ]
    },
    {
     "name": "stdout",
     "output_type": "stream",
     "text": [
      "single positional indexer is out-of-bounds\n"
     ]
    },
    {
     "name": "stderr",
     "output_type": "stream",
     "text": [
      "\n"
     ]
    }
   ],
   "source": [
    "data = {}\n",
    "for fire in tqdm(all_fires):\n",
    "    data[fire] = {'tp': [], 'geom': []}\n",
    "    for tix in range(100):\n",
    "        try:\n",
    "            geom, tp = get_observation(fire, tix)\n",
    "            data[fire]['tp'].append(tp)\n",
    "            data[fire]['geom'].append(geom)\n",
    "        except Exception as e:\n",
    "            print(e)\n",
    "            break"
   ]
  },
  {
   "cell_type": "code",
   "execution_count": 16,
   "metadata": {},
   "outputs": [],
   "source": [
    "import geopandas as gpd"
   ]
  },
  {
   "cell_type": "code",
   "execution_count": 17,
   "metadata": {},
   "outputs": [],
   "source": [
    "gdf = gpd.read_file('/home/tcaglar/farsite-devAPI/data/intterra_firis.geojson')"
   ]
  },
  {
   "cell_type": "code",
   "execution_count": 19,
   "metadata": {},
   "outputs": [],
   "source": [
    "def fill_json(kw):\n",
    "    if kw['json']['source'] == None:\n",
    "        return ''\n",
    "    return kw['json']['source']\n",
    "\n",
    "gdf['source'] = gdf.apply(fill_json, axis=1)"
   ]
  },
  {
   "cell_type": "code",
   "execution_count": 34,
   "metadata": {},
   "outputs": [
    {
     "data": {
      "text/plain": [
       "created_time\n",
       "2021    6226\n",
       "2022    3825\n",
       "2023     860\n",
       "2020     801\n",
       "2024     396\n",
       "Name: count, dtype: int64"
      ]
     },
     "execution_count": 34,
     "metadata": {},
     "output_type": "execute_result"
    }
   ],
   "source": [
    "gdf['created_time'].str[:4].value_counts()"
   ]
  },
  {
   "cell_type": "code",
   "execution_count": 37,
   "metadata": {},
   "outputs": [],
   "source": [
    "import numpy as np\n",
    "n_states = 102\n",
    "n_vertex = 50\n",
    "X = np.zeros((n_states, n_states))\n",
    "X[:(2*n_vertex), :(2*n_vertex)] = 1e3*np.eye(2*n_vertex)  # Initial covariance matrix\n",
    "X[(2*n_vertex):, (2*n_vertex):] = [[1e1*np.eye(2)]]  # Initial covariance matrix"
   ]
  },
  {
   "cell_type": "code",
   "execution_count": 38,
   "metadata": {},
   "outputs": [
    {
     "data": {
      "text/plain": [
       "array([[1000.,    0.,    0., ...,    0.,    0.,    0.],\n",
       "       [   0., 1000.,    0., ...,    0.,    0.,    0.],\n",
       "       [   0.,    0., 1000., ...,    0.,    0.,    0.],\n",
       "       ...,\n",
       "       [   0.,    0.,    0., ..., 1000.,    0.,    0.],\n",
       "       [   0.,    0.,    0., ...,    0.,   10.,    0.],\n",
       "       [   0.,    0.,    0., ...,    0.,    0.,   10.]])"
      ]
     },
     "execution_count": 38,
     "metadata": {},
     "output_type": "execute_result"
    }
   ],
   "source": [
    "X"
   ]
  }
 ],
 "metadata": {
  "kernelspec": {
   "display_name": "Python 3",
   "language": "python",
   "name": "python3"
  },
  "language_info": {
   "codemirror_mode": {
    "name": "ipython",
    "version": 3
   },
   "file_extension": ".py",
   "mimetype": "text/x-python",
   "name": "python",
   "nbconvert_exporter": "python",
   "pygments_lexer": "ipython3",
   "version": "3.8.10"
  }
 },
 "nbformat": 4,
 "nbformat_minor": 4
}
